{
 "cells": [
  {
   "cell_type": "code",
   "execution_count": 4,
   "id": "1863753f",
   "metadata": {
    "scrolled": true
   },
   "outputs": [
    {
     "name": "stderr",
     "output_type": "stream",
     "text": [
      "\u001b[33m[ WARN] [1691620692.931163705]: Link hand_l_finger_vacuum_frame has visual geometry but no collision geometry. Collision geometry will be left empty. Fix your URDF file by explicitly specifying collision geometry.\u001b[0m\n",
      "\u001b[33m[ WARN] [1691620692.934442319]: Link head_l_stereo_camera_link has visual geometry but no collision geometry. Collision geometry will be left empty. Fix your URDF file by explicitly specifying collision geometry.\u001b[0m\n",
      "\u001b[33m[ WARN] [1691620692.934487447]: Link head_r_stereo_camera_link has visual geometry but no collision geometry. Collision geometry will be left empty. Fix your URDF file by explicitly specifying collision geometry.\u001b[0m\n",
      "\u001b[33m[ WARN] [1691620692.935645334]: Group state 'neutral' doesn't specify all group joints in group 'arm'. wrist_ft_sensor_frame_joint is missing.\u001b[0m\n",
      "\u001b[33m[ WARN] [1691620692.935690964]: Group state 'go' doesn't specify all group joints in group 'arm'. wrist_ft_sensor_frame_joint is missing.\u001b[0m\n",
      "\u001b[33m[ WARN] [1691620693.382607288]: Kinematics solver doesn't support #attempts anymore, but only a timeout.\n",
      "Please remove the parameter '/robot_description_kinematics/arm/kinematics_solver_attempts' from your configuration.\u001b[0m\n",
      "\u001b[33m[ WARN] [1691620693.583698139]: IK plugin for group 'whole_body' relies on deprecated API. Please implement initialize(RobotModel, ...).\u001b[0m\n",
      "\u001b[33m[ WARN] [1691620693.610069054]: IK plugin for group 'whole_body_weighted' relies on deprecated API. Please implement initialize(RobotModel, ...).\u001b[0m\n",
      "\u001b[33m[ WARN] [1691620693.637480909]: IK plugin for group 'whole_body_light' relies on deprecated API. Please implement initialize(RobotModel, ...).\u001b[0m\n"
     ]
    }
   ],
   "source": [
    "from smach_utils_pick_and_place import *"
   ]
  },
  {
   "cell_type": "code",
   "execution_count": 12,
   "id": "0c86d438",
   "metadata": {},
   "outputs": [],
   "source": [
    "#arm = moveit_commander.MoveGroupCommander('arm')\n",
    "#arm.set_num_planning_attempts= 10\n",
    "wb = moveit_commander.MoveGroupCommander('whole_body_weighted')\n",
    "def add_object_to_scene(scene, object_name, pose, size):\n",
    "    object_pose = PoseStamped()\n",
    "    object_pose.header.frame_id = arm.get_planning_frame()\n",
    "    object_pose.pose = pose\n",
    "\n",
    "    scene.add_box(object_name, object_pose, size)"
   ]
  },
  {
   "cell_type": "code",
   "execution_count": 6,
   "id": "0935ffb3",
   "metadata": {},
   "outputs": [],
   "source": [
    "pos,rot = tf_man.getTF(target_frame=\"ar_marker/201\", ref_frame=\"hand_palm_link\")\n",
    "tf_man.pub_static_tf(pos = pos, rot= rot, point_name='cassette', ref=\"hand_palm_link\")\n",
    "tf_man.change_ref_frame_tf(point_name=\"cassette\", new_frame=\"map\")\n",
    "tf_man.pub_static_tf(pos=[pos[0] + 0.085, 0, 0.10], rot=[0, 0, 0, 1], point_name='goal', ref=\"hand_palm_link\")"
   ]
  },
  {
   "cell_type": "code",
   "execution_count": 7,
   "id": "c6a10255",
   "metadata": {},
   "outputs": [],
   "source": [
    "arm.set_named_target(\"neutral\")"
   ]
  },
  {
   "cell_type": "code",
   "execution_count": 8,
   "id": "441a73b7",
   "metadata": {},
   "outputs": [
    {
     "data": {
      "text/plain": [
       "True"
      ]
     },
     "execution_count": 8,
     "metadata": {},
     "output_type": "execute_result"
    }
   ],
   "source": [
    "arm.go()"
   ]
  },
  {
   "cell_type": "code",
   "execution_count": 6,
   "id": "416eb351",
   "metadata": {},
   "outputs": [],
   "source": [
    "pos, rot = tf_man.getTF(target_frame = 'goal', ref_frame=\"odom\")\n",
    "position = Point(*pos)\n",
    "quat = Quaternion(*rot)"
   ]
  },
  {
   "cell_type": "code",
   "execution_count": 7,
   "id": "a249037d",
   "metadata": {},
   "outputs": [
    {
     "name": "stdout",
     "output_type": "stream",
     "text": [
      "position: \n",
      "  x: 0.5580594041096517\n",
      "  y: 0.06588019540257296\n",
      "  z: 0.8720899822011331\n",
      "orientation: \n",
      "  x: -0.7052513674325422\n",
      "  y: -0.04800163682637454\n",
      "  z: -0.7057124302224227\n",
      "  w: 0.04781545175024337\n"
     ]
    }
   ],
   "source": [
    "goal_pose = Pose()\n",
    "goal_pose.position = position\n",
    "goal_pose.orientation = quat\n",
    "print(goal_pose)"
   ]
  },
  {
   "cell_type": "code",
   "execution_count": 8,
   "id": "b1078e99",
   "metadata": {},
   "outputs": [],
   "source": [
    "#clear_octo_client()\n",
    "#arm.get_planning_time()\n",
    "#arm.allow_looking(True)\n",
    "#arm.set_num_planning_attempts\n",
    "#arm.clear_path_constraints()"
   ]
  },
  {
   "cell_type": "code",
   "execution_count": 9,
   "id": "00a0ab10",
   "metadata": {},
   "outputs": [],
   "source": [
    "cabeza.set_named_target(\"neutral\")\n",
    "arm.set_pose_target(goal_pose)"
   ]
  },
  {
   "cell_type": "code",
   "execution_count": 10,
   "id": "859e89b2",
   "metadata": {},
   "outputs": [
    {
     "data": {
      "text/plain": [
       "workspace_parameters: \n",
       "  header: \n",
       "    seq: 0\n",
       "    stamp: \n",
       "      secs: 0\n",
       "      nsecs:         0\n",
       "    frame_id: ''\n",
       "  min_corner: \n",
       "    x: 0.0\n",
       "    y: 0.0\n",
       "    z: 0.0\n",
       "  max_corner: \n",
       "    x: 0.0\n",
       "    y: 0.0\n",
       "    z: 0.0\n",
       "start_state: \n",
       "  joint_state: \n",
       "    header: \n",
       "      seq: 0\n",
       "      stamp: \n",
       "        secs: 0\n",
       "        nsecs:         0\n",
       "      frame_id: ''\n",
       "    name: []\n",
       "    position: []\n",
       "    velocity: []\n",
       "    effort: []\n",
       "  multi_dof_joint_state: \n",
       "    header: \n",
       "      seq: 0\n",
       "      stamp: \n",
       "        secs: 0\n",
       "        nsecs:         0\n",
       "      frame_id: ''\n",
       "    joint_names: []\n",
       "    transforms: []\n",
       "    twist: []\n",
       "    wrench: []\n",
       "  attached_collision_objects: []\n",
       "  is_diff: True\n",
       "goal_constraints: \n",
       "  - \n",
       "    name: ''\n",
       "    joint_constraints: []\n",
       "    position_constraints: \n",
       "      - \n",
       "        header: \n",
       "          seq: 0\n",
       "          stamp: \n",
       "            secs: 0\n",
       "            nsecs:         0\n",
       "          frame_id: \"odom\"\n",
       "        link_name: \"hand_palm_link\"\n",
       "        target_point_offset: \n",
       "          x: 0.0\n",
       "          y: 0.0\n",
       "          z: 0.0\n",
       "        constraint_region: \n",
       "          primitives: \n",
       "            - \n",
       "              type: 2\n",
       "              dimensions: [0.0001]\n",
       "          primitive_poses: \n",
       "            - \n",
       "              position: \n",
       "                x: 0.5580594041096517\n",
       "                y: 0.06588019540257296\n",
       "                z: 0.8720899822011331\n",
       "              orientation: \n",
       "                x: 0.0\n",
       "                y: 0.0\n",
       "                z: 0.0\n",
       "                w: 1.0\n",
       "          meshes: []\n",
       "          mesh_poses: []\n",
       "        weight: 1.0\n",
       "    orientation_constraints: \n",
       "      - \n",
       "        header: \n",
       "          seq: 0\n",
       "          stamp: \n",
       "            secs: 0\n",
       "            nsecs:         0\n",
       "          frame_id: \"odom\"\n",
       "        orientation: \n",
       "          x: -0.7052513674325422\n",
       "          y: -0.04800163682637454\n",
       "          z: -0.7057124302224227\n",
       "          w: 0.04781545175024337\n",
       "        link_name: \"hand_palm_link\"\n",
       "        absolute_x_axis_tolerance: 0.001\n",
       "        absolute_y_axis_tolerance: 0.001\n",
       "        absolute_z_axis_tolerance: 0.001\n",
       "        parameterization: 0\n",
       "        weight: 1.0\n",
       "    visibility_constraints: []\n",
       "path_constraints: \n",
       "  name: ''\n",
       "  joint_constraints: []\n",
       "  position_constraints: []\n",
       "  orientation_constraints: []\n",
       "  visibility_constraints: []\n",
       "trajectory_constraints: \n",
       "  constraints: []\n",
       "reference_trajectories: []\n",
       "pipeline_id: ''\n",
       "planner_id: ''\n",
       "group_name: \"arm\"\n",
       "num_planning_attempts: 1\n",
       "allowed_planning_time: 5.0\n",
       "max_velocity_scaling_factor: 0.1\n",
       "max_acceleration_scaling_factor: 0.1\n",
       "cartesian_speed_limited_link: ''\n",
       "max_cartesian_speed: 0.0"
      ]
     },
     "execution_count": 10,
     "metadata": {},
     "output_type": "execute_result"
    }
   ],
   "source": [
    "#arm.go()\n",
    "arm.construct_motion_plan_request()"
   ]
  },
  {
   "cell_type": "code",
   "execution_count": 50,
   "id": "db668ff0",
   "metadata": {
    "scrolled": true
   },
   "outputs": [
    {
     "name": "stdout",
     "output_type": "stream",
     "text": [
      "[INFO] [1691614250.268674]: Distance to goal: 0.31, 0.01\n",
      "[INFO] [1691614250.473066]: Distance to goal: 0.30, -0.00\n",
      "[INFO] [1691614250.677178]: Distance to goal: 0.27, -0.00\n",
      "[INFO] [1691614250.880480]: Distance to goal: 0.26, -0.01\n",
      "[INFO] [1691614251.085984]: Distance to goal: 0.24, -0.01\n",
      "[INFO] [1691614251.292483]: Distance to goal: 0.21, -0.01\n",
      "[INFO] [1691614251.497704]: Distance to goal: 0.20, -0.01\n",
      "[INFO] [1691614251.702469]: Distance to goal: 0.18, -0.02\n",
      "[INFO] [1691614251.907971]: Distance to goal: 0.16, -0.02\n",
      "[INFO] [1691614252.112696]: Distance to goal: 0.15, -0.02\n",
      "[INFO] [1691614252.318752]: Distance to goal: 0.14, -0.02\n",
      "[INFO] [1691614252.524636]: Distance to goal: 0.13, -0.02\n",
      "[INFO] [1691614252.730635]: Distance to goal: 0.11, -0.02\n",
      "[INFO] [1691614252.935005]: Distance to goal: 0.10, -0.02\n",
      "[INFO] [1691614253.139434]: Distance to goal: 0.09, -0.01\n",
      "[INFO] [1691614253.346719]: Distance to goal: 0.09, -0.01\n",
      "[INFO] [1691614253.551226]: Distance to goal: 0.07, -0.01\n",
      "[INFO] [1691614253.759522]: Distance to goal: 0.07, -0.01\n",
      "[INFO] [1691614253.965690]: Distance to goal: 0.06, -0.01\n",
      "[INFO] [1691614254.172040]: Distance to goal: 0.06, -0.01\n",
      "[INFO] [1691614254.376472]: Distance to goal: 0.05, -0.01\n",
      "[INFO] [1691614254.581656]: Distance to goal: 0.05, -0.01\n",
      "[INFO] [1691614254.786241]: Distance to goal: 0.04, -0.01\n",
      "[INFO] [1691614254.991967]: Distance to goal: 0.04, -0.01\n",
      "[INFO] [1691614255.198091]: Distance to goal: 0.03, -0.01\n",
      "[INFO] [1691614255.403052]: Distance to goal: 0.03, -0.01\n",
      "[INFO] [1691614255.613066]: Distance to goal: 0.03, -0.01\n",
      "[INFO] [1691614255.817083]: Distance to goal: 0.02, -0.01\n",
      "[INFO] [1691614256.024366]: Distance to goal: 0.02, -0.01\n",
      "[INFO] [1691614256.228233]: Distance to goal: 0.02, -0.01\n",
      "[INFO] [1691614256.435659]: Distance to goal: 0.02, -0.01\n",
      "[INFO] [1691614256.640335]: Distance to goal: 0.02, -0.01\n",
      "[INFO] [1691614256.844702]: Distance to goal: 0.02, -0.01\n",
      "[INFO] [1691614257.051249]: Distance to goal: 0.01, -0.01\n",
      "[INFO] [1691614257.256722]: Distance to goal: 0.01, -0.01\n",
      "[INFO] [1691614257.462802]: Distance to goal: 0.01, -0.00\n",
      "[INFO] [1691614257.666916]: Distance to goal: 0.01, -0.00\n"
     ]
    },
    {
     "data": {
      "text/plain": [
       "True"
      ]
     },
     "execution_count": 50,
     "metadata": {},
     "output_type": "execute_result"
    }
   ],
   "source": [
    "brazo.move_hand_to_target(target_frame=\"cassette\", THRESHOLD = 0.01)"
   ]
  },
  {
   "cell_type": "code",
   "execution_count": 53,
   "id": "34424a9c",
   "metadata": {},
   "outputs": [],
   "source": [
    "omni_base.tiny_move(velX=0.05, MAX_VEL=0.01)"
   ]
  },
  {
   "cell_type": "code",
   "execution_count": 54,
   "id": "10395420",
   "metadata": {},
   "outputs": [],
   "source": [
    "gripper.close()"
   ]
  },
  {
   "cell_type": "code",
   "execution_count": 55,
   "id": "d90df4e5",
   "metadata": {},
   "outputs": [],
   "source": [
    "ap = brazo.get_joint_values()"
   ]
  },
  {
   "cell_type": "code",
   "execution_count": 56,
   "id": "279d2753",
   "metadata": {},
   "outputs": [
    {
     "data": {
      "text/plain": [
       "True"
      ]
     },
     "execution_count": 56,
     "metadata": {},
     "output_type": "execute_result"
    }
   ],
   "source": [
    "ap[0]+= 0.05\n",
    "brazo.set_joint_values(ap)"
   ]
  },
  {
   "cell_type": "code",
   "execution_count": 57,
   "id": "1d700cba",
   "metadata": {},
   "outputs": [
    {
     "data": {
      "text/plain": [
       "[-0.019295884389545197, -0.2022459259575491, -0.28068189503734003]"
      ]
     },
     "execution_count": 57,
     "metadata": {},
     "output_type": "execute_result"
    }
   ],
   "source": [
    "wrist.get_force()"
   ]
  },
  {
   "cell_type": "code",
   "execution_count": 64,
   "id": "3c66b9eb",
   "metadata": {},
   "outputs": [],
   "source": [
    "omni_base.tiny_move(velX=-0.05)"
   ]
  },
  {
   "cell_type": "code",
   "execution_count": 65,
   "id": "78884ed3",
   "metadata": {},
   "outputs": [
    {
     "data": {
      "text/plain": [
       "True"
      ]
     },
     "execution_count": 65,
     "metadata": {},
     "output_type": "execute_result"
    }
   ],
   "source": [
    "arm.set_named_target(\"go\")\n",
    "arm.go()"
   ]
  },
  {
   "cell_type": "code",
   "execution_count": 15,
   "id": "8311df46",
   "metadata": {},
   "outputs": [],
   "source": [
    "scene = moveit_commander.PlanningSceneInterface()\n",
    "pos,rot = tf_man.getTF(target_frame=\"ar_marker/201\", ref_frame=\"odom\")\n",
    "pos[2] += 0.08\n",
    "position = Point(*pos)\n",
    "quat = Quaternion(*[0,0,0,1])\n",
    "goal_pose = Pose()\n",
    "goal_pose.position = position\n",
    "goal_pose.orientation = quat\n",
    "# Nombre del objeto y tamaño\n",
    "object_name = \"cassette\"\n",
    "object_size = (0.1, 0.02, 0.1)\n",
    "\n",
    "# Posición y orientación del objeto\n",
    "\n",
    "\n",
    "# Agregar el objeto a la escena\n",
    "add_object_to_scene(scene, object_name, goal_pose, object_size)"
   ]
  },
  {
   "cell_type": "code",
   "execution_count": 16,
   "id": "acdedcf9",
   "metadata": {},
   "outputs": [
    {
     "name": "stderr",
     "output_type": "stream",
     "text": [
      "\u001b[33m[ WARN] [1691621092.935995177]: Fail: ABORTED: No motion plan found. No execution attempted.\u001b[0m\n"
     ]
    },
    {
     "data": {
      "text/plain": [
       "-1"
      ]
     },
     "execution_count": 16,
     "metadata": {},
     "output_type": "execute_result"
    }
   ],
   "source": [
    "arm.pick(object_name=\"cassette\")"
   ]
  },
  {
   "cell_type": "code",
   "execution_count": null,
   "id": "ecffc1fb",
   "metadata": {},
   "outputs": [],
   "source": []
  }
 ],
 "metadata": {
  "kernelspec": {
   "display_name": "Python 3 (ipykernel)",
   "language": "python",
   "name": "python3"
  },
  "language_info": {
   "codemirror_mode": {
    "name": "ipython",
    "version": 3
   },
   "file_extension": ".py",
   "mimetype": "text/x-python",
   "name": "python",
   "nbconvert_exporter": "python",
   "pygments_lexer": "ipython3",
   "version": "3.8.10"
  }
 },
 "nbformat": 4,
 "nbformat_minor": 5
}

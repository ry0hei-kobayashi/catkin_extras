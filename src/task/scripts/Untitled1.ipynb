{
 "cells": [
  {
   "cell_type": "code",
   "execution_count": 1,
   "id": "1863753f",
   "metadata": {
    "scrolled": true
   },
   "outputs": [
    {
     "name": "stderr",
     "output_type": "stream",
     "text": [
      "\u001b[33m[ WARN] [1691527678.213894974]: Link hand_l_finger_vacuum_frame has visual geometry but no collision geometry. Collision geometry will be left empty. Fix your URDF file by explicitly specifying collision geometry.\u001b[0m\n",
      "\u001b[33m[ WARN] [1691527678.216596529]: Link head_l_stereo_camera_link has visual geometry but no collision geometry. Collision geometry will be left empty. Fix your URDF file by explicitly specifying collision geometry.\u001b[0m\n",
      "\u001b[33m[ WARN] [1691527678.216650333]: Link head_r_stereo_camera_link has visual geometry but no collision geometry. Collision geometry will be left empty. Fix your URDF file by explicitly specifying collision geometry.\u001b[0m\n",
      "\u001b[33m[ WARN] [1691527678.217391043]: Group state 'neutral' doesn't specify all group joints in group 'arm'. wrist_ft_sensor_frame_joint is missing.\u001b[0m\n",
      "\u001b[33m[ WARN] [1691527678.217410874]: Group state 'go' doesn't specify all group joints in group 'arm'. wrist_ft_sensor_frame_joint is missing.\u001b[0m\n",
      "\u001b[33m[ WARN] [1691527679.631357859]: Kinematics solver doesn't support #attempts anymore, but only a timeout.\n",
      "Please remove the parameter '/robot_description_kinematics/arm/kinematics_solver_attempts' from your configuration.\u001b[0m\n",
      "\u001b[33m[ WARN] [1691527680.192741294]: IK plugin for group 'whole_body' relies on deprecated API. Please implement initialize(RobotModel, ...).\u001b[0m\n",
      "\u001b[33m[ WARN] [1691527680.279844302]: IK plugin for group 'whole_body_weighted' relies on deprecated API. Please implement initialize(RobotModel, ...).\u001b[0m\n",
      "\u001b[33m[ WARN] [1691527680.322988761]: IK plugin for group 'whole_body_light' relies on deprecated API. Please implement initialize(RobotModel, ...).\u001b[0m\n"
     ]
    }
   ],
   "source": [
    "from smach_utils_pick_and_place import *"
   ]
  },
  {
   "cell_type": "code",
   "execution_count": 2,
   "id": "0c86d438",
   "metadata": {},
   "outputs": [],
   "source": [
    "arm = moveit_commander.MoveGroupCommander('arm')\n",
    "arm.set_num_planning_attempts= 10"
   ]
  },
  {
   "cell_type": "code",
   "execution_count": 11,
   "id": "0935ffb3",
   "metadata": {},
   "outputs": [],
   "source": [
    "pos,rot = tf_man.getTF(target_frame=\"ar_marker/201\", ref_frame=\"hand_palm_link\")\n",
    "tf_man.pub_static_tf(pos = pos, rot= rot, point_name='cassette', ref=\"hand_palm_link\")\n",
    "tf_man.change_ref_frame_tf(point_name=\"cassette\", new_frame=\"map\")\n",
    "tf_man.pub_static_tf(pos=[pos[0] + 0.10, 0, 0.10], rot=[0, 0, 0, 1], point_name='goal', ref=\"hand_palm_link\")"
   ]
  },
  {
   "cell_type": "code",
   "execution_count": 12,
   "id": "c6a10255",
   "metadata": {},
   "outputs": [],
   "source": [
    "arm.set_named_target(\"neutral\")"
   ]
  },
  {
   "cell_type": "code",
   "execution_count": 13,
   "id": "441a73b7",
   "metadata": {},
   "outputs": [
    {
     "data": {
      "text/plain": [
       "True"
      ]
     },
     "execution_count": 13,
     "metadata": {},
     "output_type": "execute_result"
    }
   ],
   "source": [
    "arm.go()"
   ]
  },
  {
   "cell_type": "code",
   "execution_count": 14,
   "id": "416eb351",
   "metadata": {},
   "outputs": [],
   "source": [
    "pos, rot = tf_man.getTF(target_frame = 'goal', ref_frame=\"odom\")\n",
    "position = Point(*pos)\n",
    "quat = Quaternion(*rot)"
   ]
  },
  {
   "cell_type": "code",
   "execution_count": 15,
   "id": "a249037d",
   "metadata": {},
   "outputs": [
    {
     "name": "stdout",
     "output_type": "stream",
     "text": [
      "position: \n",
      "  x: 0.48157248020956184\n",
      "  y: 0.06800655805470249\n",
      "  z: 0.8994909471578767\n",
      "orientation: \n",
      "  x: -0.7068874907677504\n",
      "  y: 0.006670169597104607\n",
      "  z: -0.7072635994129155\n",
      "  w: -0.00661703703371331\n"
     ]
    }
   ],
   "source": [
    "goal_pose = Pose()\n",
    "goal_pose.position = position\n",
    "goal_pose.orientation = quat\n",
    "print(goal_pose)"
   ]
  },
  {
   "cell_type": "code",
   "execution_count": 16,
   "id": "b1078e99",
   "metadata": {},
   "outputs": [],
   "source": [
    "#clear_octo_client()"
   ]
  },
  {
   "cell_type": "code",
   "execution_count": 34,
   "id": "00a0ab10",
   "metadata": {},
   "outputs": [],
   "source": [
    "cabeza.set_named_target(\"neutral\")\n",
    "arm.set_pose_target(goal_pose)"
   ]
  },
  {
   "cell_type": "code",
   "execution_count": 35,
   "id": "859e89b2",
   "metadata": {},
   "outputs": [
    {
     "data": {
      "text/plain": [
       "False"
      ]
     },
     "execution_count": 35,
     "metadata": {},
     "output_type": "execute_result"
    }
   ],
   "source": [
    "arm.go()"
   ]
  },
  {
   "cell_type": "code",
   "execution_count": 21,
   "id": "db668ff0",
   "metadata": {
    "scrolled": true
   },
   "outputs": [
    {
     "name": "stdout",
     "output_type": "stream",
     "text": [
      "[INFO] [1691527787.441821]: Distance to goal: 0.40, 0.07\n",
      "[INFO] [1691527787.648471]: Distance to goal: 0.40, 0.07\n",
      "[INFO] [1691527788.066541]: Distance to goal: 0.33, 0.09\n",
      "[INFO] [1691527788.274921]: Distance to goal: 0.31, 0.09\n",
      "[INFO] [1691527788.481952]: Distance to goal: 0.29, 0.09\n",
      "[INFO] [1691527788.687769]: Distance to goal: 0.25, 0.09\n",
      "[INFO] [1691527788.898890]: Distance to goal: 0.22, 0.08\n",
      "[INFO] [1691527789.105717]: Distance to goal: 0.21, 0.08\n",
      "[INFO] [1691527789.312260]: Distance to goal: 0.18, 0.07\n",
      "[INFO] [1691527789.519560]: Distance to goal: 0.16, 0.07\n",
      "[INFO] [1691527789.725886]: Distance to goal: 0.15, 0.06\n",
      "[INFO] [1691527789.934029]: Distance to goal: 0.13, 0.05\n",
      "[INFO] [1691527790.140943]: Distance to goal: 0.13, 0.05\n",
      "[INFO] [1691527790.349020]: Distance to goal: 0.11, 0.04\n",
      "[INFO] [1691527790.767367]: Distance to goal: 0.09, 0.04\n",
      "[INFO] [1691527790.974089]: Distance to goal: 0.09, 0.04\n",
      "[INFO] [1691527791.185531]: Distance to goal: 0.08, 0.03\n",
      "[INFO] [1691527791.392139]: Distance to goal: 0.07, 0.03\n",
      "[INFO] [1691527791.600826]: Distance to goal: 0.07, 0.03\n",
      "[INFO] [1691527791.808621]: Distance to goal: 0.06, 0.03\n",
      "[INFO] [1691527792.020238]: Distance to goal: 0.05, 0.03\n",
      "[INFO] [1691527792.225936]: Distance to goal: 0.05, 0.03\n"
     ]
    },
    {
     "data": {
      "text/plain": [
       "True"
      ]
     },
     "execution_count": 21,
     "metadata": {},
     "output_type": "execute_result"
    }
   ],
   "source": [
    "brazo.move_hand_to_target(target_frame=\"cassette\")"
   ]
  },
  {
   "cell_type": "code",
   "execution_count": null,
   "id": "34424a9c",
   "metadata": {},
   "outputs": [],
   "source": []
  }
 ],
 "metadata": {
  "kernelspec": {
   "display_name": "Python 3 (ipykernel)",
   "language": "python",
   "name": "python3"
  },
  "language_info": {
   "codemirror_mode": {
    "name": "ipython",
    "version": 3
   },
   "file_extension": ".py",
   "mimetype": "text/x-python",
   "name": "python",
   "nbconvert_exporter": "python",
   "pygments_lexer": "ipython3",
   "version": "3.8.10"
  }
 },
 "nbformat": 4,
 "nbformat_minor": 5
}

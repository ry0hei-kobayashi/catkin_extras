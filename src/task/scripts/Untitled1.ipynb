{
 "cells": [
  {
   "cell_type": "code",
   "execution_count": 1,
   "id": "a6c2d5df",
   "metadata": {},
   "outputs": [],
   "source": [
    "from smach_utils2 import *\n",
    "\n"
   ]
  },
  {
   "cell_type": "code",
   "execution_count": 3,
   "id": "18a10923",
   "metadata": {},
   "outputs": [],
   "source": [
    "fp_msg = FindPersonRequest()\n",
    "pc = rospy.wait_for_message(\"/hsrb/head_rgbd_sensor_depth_registered/rectified_points\", PointCloud2)\n",
    "pc = fp_msg.cloud\n",
    "resp = clothes_color(fp_msg)"
   ]
  },
  {
   "cell_type": "code",
   "execution_count": null,
   "id": "7089c21d",
   "metadata": {},
   "outputs": [],
   "source": []
  }
 ],
 "metadata": {
  "kernelspec": {
   "display_name": "Python 3 (ipykernel)",
   "language": "python",
   "name": "python3"
  },
  "language_info": {
   "codemirror_mode": {
    "name": "ipython",
    "version": 3
   },
   "file_extension": ".py",
   "mimetype": "text/x-python",
   "name": "python",
   "nbconvert_exporter": "python",
   "pygments_lexer": "ipython3",
   "version": "3.8.10"
  }
 },
 "nbformat": 4,
 "nbformat_minor": 5
}

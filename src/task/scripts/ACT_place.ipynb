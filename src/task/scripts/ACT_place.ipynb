{
 "cells": [
  {
   "cell_type": "code",
   "execution_count": 1,
   "id": "1863753f",
   "metadata": {
    "scrolled": false
   },
   "outputs": [
    {
     "name": "stderr",
     "output_type": "stream",
     "text": [
      "/home/roboworks/.local/lib/python3.8/site-packages/pandas/core/computation/expressions.py:20: UserWarning: Pandas requires version '2.7.3' or newer of 'numexpr' (version '2.7.1' currently installed).\n",
      "  from pandas.core.computation.check import NUMEXPR_INSTALLED\n"
     ]
    }
   ],
   "source": [
    "from smach_utils2 import *\n",
    "import matplotlib.pyplot as plt\n",
    "#arm = moveit_commander.MoveGroupCommander('arm')\n"
   ]
  },
  {
   "cell_type": "code",
   "execution_count": null,
   "id": "7513f1e4",
   "metadata": {},
   "outputs": [],
   "source": [
    "omni_base.tiny_move( velX=1.0,std_time=0.2, MAX_VEL=0.3) "
   ]
  },
  {
   "cell_type": "code",
   "execution_count": null,
   "id": "7b915fd4",
   "metadata": {},
   "outputs": [],
   "source": [
    "gripper.steady()"
   ]
  },
  {
   "cell_type": "code",
   "execution_count": null,
   "id": "18183f43",
   "metadata": {},
   "outputs": [],
   "source": [
    "gripper.close(0.0061)"
   ]
  },
  {
   "cell_type": "code",
   "execution_count": null,
   "id": "92c47771",
   "metadata": {},
   "outputs": [],
   "source": [
    "arm=moveit_commander.MoveGroupCommander('arm')"
   ]
  },
  {
   "cell_type": "code",
   "execution_count": null,
   "id": "9fa7ecc1",
   "metadata": {},
   "outputs": [],
   "source": [
    "\n",
    "whole_body=moveit_commander.MoveGroupCommander('whole_body_weighted')"
   ]
  },
  {
   "cell_type": "code",
   "execution_count": null,
   "id": "287ca6e5",
   "metadata": {},
   "outputs": [],
   "source": [
    "pose=whole_body.get_current_pose()\n",
    "pose.pose.position.x,pose.pose.position.y, pose.pose.position.z"
   ]
  },
  {
   "cell_type": "code",
   "execution_count": null,
   "id": "67ca2fb9",
   "metadata": {},
   "outputs": [],
   "source": [
    "whole_body.set_joint_value_target"
   ]
  },
  {
   "cell_type": "code",
   "execution_count": null,
   "id": "acd0214d",
   "metadata": {},
   "outputs": [],
   "source": [
    "wb_v=whole_body.get_current_joint_values()\n",
    "wb_v[3]+=0.1\n",
    "whole_body.set_joint_value_target(wb_v)"
   ]
  },
  {
   "cell_type": "code",
   "execution_count": null,
   "id": "e98fdbd9",
   "metadata": {},
   "outputs": [],
   "source": []
  },
  {
   "cell_type": "code",
   "execution_count": null,
   "id": "1fe458d5",
   "metadata": {},
   "outputs": [],
   "source": []
  },
  {
   "cell_type": "code",
   "execution_count": null,
   "id": "6dd4be85",
   "metadata": {},
   "outputs": [],
   "source": []
  },
  {
   "cell_type": "code",
   "execution_count": null,
   "id": "d0edfc60",
   "metadata": {},
   "outputs": [],
   "source": []
  },
  {
   "cell_type": "code",
   "execution_count": null,
   "id": "4d74ad33",
   "metadata": {},
   "outputs": [],
   "source": [
    "res = omni_base.move_base(known_location='place_shelf', time_out=200)\n",
    "high_shelf_place=np.asarray([0.15050079265248406,\n",
    " -0.5861087653247212,\n",
    " 0.0850017715788356,\n",
    " -0.9342371117035135,\n",
    " 0.022035143687695324,\n",
    " 0.0])\n",
    "mid_shelf_place=np.asarray([0.2556342351169577,\n",
    " -1.6040815280188854,\n",
    " -0.008078345343693893,\n",
    " -0.05795663028496589,\n",
    " 0.0019971082238159354,\n",
    " 0.0])\n",
    "\n",
    "low_shelf_place=np.asarray([0.04577467546491997,\n",
    " -2.262541528018885,\n",
    " 0.00010865465630605087,\n",
    " 0.701618369715034,\n",
    " -0.0003068917761841483,\n",
    " 0.0]\n",
    ")"
   ]
  },
  {
   "cell_type": "code",
   "execution_count": null,
   "id": "c91dbfe8",
   "metadata": {},
   "outputs": [],
   "source": [
    "head.set_joint_values([-0.5,-0.65])\n",
    "arm.set_named_target('go')\n",
    "arm.go()"
   ]
  },
  {
   "cell_type": "code",
   "execution_count": null,
   "id": "dcf7433d",
   "metadata": {},
   "outputs": [],
   "source": [
    "\n",
    "rospy.sleep(0.6)\n",
    "rospy.sleep(0.6)\n",
    "image= cv2.cvtColor(rgbd.get_image(), cv2.COLOR_RGB2BGR)\n",
    "img_msg  = bridge.cv2_to_imgmsg(image)\n",
    "req      = classify_client.request_class()\n",
    "req.in_.image_msgs.append(img_msg)\n",
    "res      = classify_client(req)\n",
    "debug_image=   cv2.cvtColor(bridge.imgmsg_to_cv2(res.debug_image.image_msgs[0]), cv2.COLOR_RGB2BGR)"
   ]
  },
  {
   "cell_type": "code",
   "execution_count": null,
   "id": "26ef0ad1",
   "metadata": {},
   "outputs": [],
   "source": [
    "\n",
    "plt.imshow(debug_image)"
   ]
  },
  {
   "cell_type": "code",
   "execution_count": null,
   "id": "9d11c8df",
   "metadata": {},
   "outputs": [],
   "source": [
    "request= segmentation_server.request_class() \n",
    "\n",
    "\n",
    "\n",
    "request.height.data=-1  #MID SHELF FOR PLACING \n",
    "\n",
    "\n",
    "res=placing_finder_server.call(request)\n",
    "#succ=seg_res_tf(res)\n",
    "print (f'Placing Area at {res.poses.data}')\n",
    "tf_man.pub_static_tf(pos=[res.poses.data[0], res.poses.data[1],res.poses.data[2]], rot =[0,0,0,1], point_name='placing_area')\n",
    "img=bridge.imgmsg_to_cv2(res.im_out.image_msgs[0])\n",
    "#cv2.imshow('our of res'  , img)\n",
    "plt.imshow(img)"
   ]
  },
  {
   "cell_type": "code",
   "execution_count": null,
   "id": "33f348a4",
   "metadata": {},
   "outputs": [],
   "source": [
    "res = omni_base.move_base(known_location='place_shelf', time_out=12)\n"
   ]
  },
  {
   "cell_type": "code",
   "execution_count": null,
   "id": "ee358c14",
   "metadata": {},
   "outputs": [],
   "source": [
    "base_grasp_D(tf_name='placing_area',d_x=0.76, d_y=0.0,timeout=30)\n",
    "arm.go (mid_shelf_place)\n",
    "base_grasp_D(tf_name='placing_area',d_x=0.6, d_y=0.0,timeout=30)\n",
    "gripper.open()"
   ]
  },
  {
   "cell_type": "code",
   "execution_count": null,
   "id": "b3f09264",
   "metadata": {},
   "outputs": [],
   "source": [
    "arm.go (mid_shelf_place)"
   ]
  },
  {
   "cell_type": "code",
   "execution_count": null,
   "id": "3a709112",
   "metadata": {},
   "outputs": [],
   "source": [
    "base_grasp_D(tf_name='placing_area',d_x=0.6, d_y=0.0,timeout=30)\n",
    "gripper.open()"
   ]
  },
  {
   "cell_type": "code",
   "execution_count": null,
   "id": "0dd7fca6",
   "metadata": {
    "scrolled": true
   },
   "outputs": [],
   "source": [
    "\n",
    "for i in range(len(res.poses)):\n",
    "    tf_man.getTF(\"head_rgbd_sensor_rgb_frame\")\n",
    "    tf_man.pub_static_tf(pos=[res.poses[i].position.x ,res.poses[i].position.y,res.poses[i].position.z], rot=[0,0,0,1],ref=\"head_rgbd_sensor_rgb_frame\",point_name=res.names[i].data[4:] )   \n",
    "    rospy.sleep(0.3)    tf_man.change_ref_frame_tf(res.names[i].data[4:])\n",
    "\n"
   ]
  },
  {
   "cell_type": "code",
   "execution_count": null,
   "id": "3a229b93",
   "metadata": {},
   "outputs": [],
   "source": [
    "omni_base.move_d_to(target_distance=0.78,target_link='apple')"
   ]
  },
  {
   "cell_type": "code",
   "execution_count": null,
   "id": "1cdf8e8e",
   "metadata": {},
   "outputs": [],
   "source": [
    "target_object='apple'\n",
    "trans,_=tf_man.getTF(target_object,ref_frame=\"base_link\")\n",
    "trans\n"
   ]
  },
  {
   "cell_type": "code",
   "execution_count": null,
   "id": "f6219c35",
   "metadata": {},
   "outputs": [],
   "source": [
    "#x,y,z= 5.8 , 1.6, 0.47   #SIM TMR\n",
    "#quat=[0.0,0.0,0.0,1.0]\n",
    "x,y,z,=-0.9,-0.7,0\n",
    "quat=[0.0,0.0,0.0,1.0]\n",
    "\n",
    "#x,y,z= -0.522 , -2.84, 0.8   #REAL LAB\n",
    "#quat=[0.0,0.0,0.707,-0.707]\n",
    "tf_man.pub_static_tf(pos=[x,y,z], rot=quat,point_name='shelf') ### Ideal  coordinates to place Bowl\n",
    "\n"
   ]
  },
  {
   "cell_type": "code",
   "execution_count": null,
   "id": "b0e76c9e",
   "metadata": {},
   "outputs": [],
   "source": [
    "line_up_TF()\n",
    "move_D_to(tf_name='shelf')"
   ]
  },
  {
   "cell_type": "code",
   "execution_count": null,
   "id": "658cec04",
   "metadata": {},
   "outputs": [],
   "source": [
    "\n",
    "def line_up_TF(tf_name='placing_area', timeout=30.0):\n",
    "    pose,rot= tf_man.getTF(\"base_link\",ref_frame=tf_name)\n",
    "    delta_th=tf.transformations.euler_from_quaternion(rot)[2]\n",
    "    print (pose[1], delta_th)\n",
    "    timeout = rospy.Time.now().to_sec() + timeout\n",
    "    active= True\n",
    "    while (active and timeout >= rospy.Time.now().to_sec()) and not rospy.is_shutdown():\n",
    "        \n",
    "        if (abs(pose[1])<0.01 and abs(delta_th)<0.05 ): active = False\n",
    "        pose,rot= tf_man.getTF(\"base_link\",ref_frame=tf_name)\n",
    "        delta_th=tf.transformations.euler_from_quaternion(rot)[2]\n",
    "        print (pose[1], delta_th, active)\n",
    "        \n",
    "        if (abs(delta_th)>0.1):pose[1]=0\n",
    "        \n",
    "        omni_base.tiny_move( velX=0.0,velY=-pose[1], velT=-delta_th,std_time=0.2, MAX_VEL=0.3) \n",
    "    return (abs(pose[1])<0.01 and abs(delta_th)<0.1 )\n"
   ]
  },
  {
   "cell_type": "code",
   "execution_count": null,
   "id": "bb2ec9f1",
   "metadata": {},
   "outputs": [],
   "source": []
  },
  {
   "cell_type": "code",
   "execution_count": null,
   "id": "45bb78ce",
   "metadata": {},
   "outputs": [],
   "source": [
    "tf_name='placing_area'\n",
    "pose,rot= tf_man.getTF(\"base_link\",ref_frame=tf_name)\n",
    "delta_th=tf.transformations.euler_from_quaternion(rot)[2]\n",
    "print (delta_th)"
   ]
  },
  {
   "cell_type": "code",
   "execution_count": null,
   "id": "ccc802f4",
   "metadata": {},
   "outputs": [],
   "source": []
  },
  {
   "cell_type": "code",
   "execution_count": null,
   "id": "79cf5e80",
   "metadata": {},
   "outputs": [],
   "source": [
    "\n",
    "def new_move_D_to(tf_name='placing_area',d_x=15 , timeout=30.0):\n",
    "#def base_grasp_D(tf_name,d_x=0.66,d_y=-0.1,timeout=1.0):\n",
    "    timeout = rospy.Time.now().to_sec() + timeout\n",
    "    \n",
    "    \n",
    "   \n",
    "    \n",
    "    succ = False            \n",
    "    i=0\n",
    "    while (not succ and not rospy.is_shutdown():\n",
    "        \n",
    "        rob_pos,rot=tf_man.getTF('base_link')    \n",
    "        robot_yaw=tf.transformations.euler_from_quaternion(rot)[2]\n",
    "        pose,_= tf_man.getTF(\"base_link\",ref_frame=tf_name)\n",
    "        target_yaw = math.atan2(pose[1], pose[0])+np.pi\n",
    "        delta_th=   target_yaw-robot_yaw\n",
    "        delta_th = (delta_th + np.pi) % (2 * np.pi) - np.pi\n",
    "        \n",
    "        print(\"robotyaw {:.2f}, , target_yaw {:.2f}, deltha th {:.2f}\".format(robot_yaw, target_yaw,delta_th))\n",
    "        i+=1                \n",
    "        #trans\n",
    "        eX = np.linalg.norm((pose[0:2]))\n",
    "        eX+= -d_x  #x offest\n",
    "        velX= eX \n",
    "        rospy.loginfo(\"error_D: {:.2f}, , delta_th {:.2f}, target obj frame {}\".format(eX,  delta_th,tf_name))\n",
    "        \n",
    "        \n",
    "        print(\"error_D: {:.2f}, , delta_th {:.2f}, target obj frame {}, D to target{:.2f}\".format(eX,  delta_th,tf_name,np.linalg.norm((pose[0:2]))))  \n",
    "    \n",
    "        if abs(delta_th)>=0.1:\n",
    "            velX=0\n",
    "       \n",
    "        succ =  eX <= 0.1  and abs(delta_th)<=0.1\n",
    "        \n",
    "        corr_velX = max(min(velX, 0.051), -0.051)\n",
    "        \n",
    "        \n",
    "       \n",
    "        print(\"error_D: {:.2f}, , delta_th {:.2f}, target obj frame {}\".format(eX,  delta_th,tf_name))\n",
    "        print (corr_velX)\n",
    "       \n",
    "        omni_base.tiny_move( velX=corr_velX,velY=0, velT=delta_th,std_time=0.2, MAX_VEL=0.3) \n",
    "    return succ\n"
   ]
  },
  {
   "cell_type": "code",
   "execution_count": null,
   "id": "3cdfbe65",
   "metadata": {},
   "outputs": [],
   "source": [
    "new_move_D_to(tf_name='shelf',d_x=0.5)"
   ]
  },
  {
   "cell_type": "code",
   "execution_count": null,
   "id": "f5b708f2",
   "metadata": {},
   "outputs": [],
   "source": [
    "def new_move_D_to(tf_name='placing_area',d_x=15 , timeout=30.0):\n",
    "\n",
    "    timeout = rospy.Time.now().to_sec() + timeout\n",
    "    succ = False            \n",
    "    i=0\n",
    "    while (timeout >= rospy.Time.now().to_sec()) and not succ and not rospy.is_shutdown():\n",
    "        \n",
    "        _,rot=tf_man.getTF('base_link')    \n",
    "        robot_yaw=tf.transformations.euler_from_quaternion(rot)[2]\n",
    "        pose,_= tf_man.getTF(\"base_link\",ref_frame=tf_name)\n",
    "        target_yaw = math.atan2(pose[1], pose[0])+np.pi\n",
    "        delta_th=   target_yaw-robot_yaw\n",
    "        delta_th = (delta_th + np.pi) % (2 * np.pi) - np.pi\n",
    "        i+=1                \n",
    "        eX = np.linalg.norm((pose[0:2]))\n",
    "        eX+= -d_x  #x offest\n",
    "        velX= eX \n",
    "        if abs(delta_th)>=0.1:velX=0\n",
    "        succ =  eX <= 0.1  and abs(delta_th)<=0.1\n",
    "        corr_velX = max(min(velX, 0.051), -0.051)\n",
    "        #if i >=10:\n",
    "        print(\"error_D: {:.2f}, , delta_th {:.2f}, target obj frame {}, D to target{:.2f}\".format(eX,  delta_th,tf_name,np.linalg.norm((pose[0:2]))))  \n",
    "        #    i=0\n",
    "        omni_base.tiny_move( velX=corr_velX,velY=0, velT=delta_th,std_time=0.2, MAX_VEL=0.3) \n",
    "    return succ\n",
    "\n",
    "#------------------------------------------------------"
   ]
  },
  {
   "cell_type": "code",
   "execution_count": null,
   "id": "60b882c9",
   "metadata": {},
   "outputs": [],
   "source": []
  },
  {
   "cell_type": "code",
   "execution_count": null,
   "id": "00edce56",
   "metadata": {},
   "outputs": [],
   "source": []
  },
  {
   "cell_type": "code",
   "execution_count": null,
   "id": "9b9aa232",
   "metadata": {},
   "outputs": [],
   "source": [
    "omni_base.tiny_move( velX=0.0,velY=-pose[1], velT=-delta_th,std_time=0.2, MAX_VEL=0.3) a"
   ]
  },
  {
   "cell_type": "code",
   "execution_count": null,
   "id": "63f70f1b",
   "metadata": {},
   "outputs": [],
   "source": [
    "target_object='apple'\n",
    "_,rot= tf_man.getTF(\"base_link\",ref_frame='map')\n",
    "\n",
    "original_rot=tf.transformations.euler_from_quaternion(rot)[2]\n",
    "trans,_=tf_man.getTF(target_object,ref_frame=\"base_link\")\n",
    "\n",
    "\n",
    "trans , original_rot"
   ]
  },
  {
   "cell_type": "code",
   "execution_count": null,
   "id": "1309b0c4",
   "metadata": {},
   "outputs": [],
   "source": [
    "_,rot= tf_man.getTF(\"base_link\",ref_frame='map')\n",
    "original_rot=tf.transformations.euler_from_quaternion(rot)[2]\n",
    "target_object='apple'\n",
    "\n",
    "\n",
    "succ = False\n",
    "            \n",
    "while not succ:\n",
    "    \n",
    "    _,rot= tf_man.getTF(\"base_link\",ref_frame='map')\n",
    "    trans,_=tf_man.getTF(target_object,ref_frame=\"base_link\")\n",
    "\n",
    "    trans\n",
    "    eX, eY, eZ = trans\n",
    "    \n",
    "    eX+= -0.4\n",
    "    eY+= -.06\n",
    "    \n",
    "    eT= tf.transformations.euler_from_quaternion(rot)[2] - original_rot #Original \n",
    "    print (eT)\n",
    "    if eT > np.pi: eT=-2*np.pi+eT\n",
    "    if eT < -np.pi: eT= 2*np.pi+eT\n",
    "    rospy.loginfo(\"error: {:.2f}, {:.2f}, angle {:.2f}, target obj frame {}\".format(eX, eY , eT,target_object))\n",
    "    X, Y, Z = trans\n",
    "    rospy.loginfo(\"Pose: {:.2f}, {:.2f}, angle {:.2f}, target obj frame {}\".format(X, Y , eT,target_object))\n",
    "    \n",
    "    if abs(eX) <=0.05 :\n",
    "        print ('here')\n",
    "        eX = 0\n",
    "    if abs(eY) <=0.05  :\n",
    "        eY = 0\n",
    "    if abs(eT   ) < 0.1:\n",
    "        eT = 0\n",
    "    succ =  eX == 0 and eY == 0 and eT==0\n",
    "\n",
    "    \n",
    "    omni_base.tiny_move( velX=0.2*+eX,velY=0.3*eY, velT=-eT,std_time=0.2, MAX_VEL=0.3) \n"
   ]
  },
  {
   "cell_type": "code",
   "execution_count": null,
   "id": "17044e0b",
   "metadata": {},
   "outputs": [],
   "source": [
    "res.names"
   ]
  },
  {
   "cell_type": "code",
   "execution_count": null,
   "id": "7c118152",
   "metadata": {},
   "outputs": [],
   "source": [
    "hand_cam= HAND_RGB()\n"
   ]
  },
  {
   "cell_type": "code",
   "execution_count": null,
   "id": "fad6ec04",
   "metadata": {},
   "outputs": [],
   "source": [
    "#clear_octo_client()\n",
    "\n",
    "pickup_pose=[0.65,-1.2,0.0,-1.9, 0.0, 0.0]\n",
    "succ= arm.go(pickup_pose)\n",
    "gripper.open()\n"
   ]
  },
  {
   "cell_type": "code",
   "execution_count": null,
   "id": "ae3d33a9",
   "metadata": {
    "scrolled": true
   },
   "outputs": [],
   "source": [
    "\n",
    "image= cv2.cvtColor(hand_cam.get_image(), cv2.COLOR_RGB2BGR)\n",
    "img_msg  = bridge.cv2_to_imgmsg(image)\n",
    "req      = classify_client.request_class()\n",
    "req.in_.image_msgs.append(img_msg)\n",
    "res      = classify_client(req)\n",
    "debug_image=   cv2.cvtColor(bridge.imgmsg_to_cv2(res.debug_image.image_msgs[0]), cv2.COLOR_RGB2BGR)\n",
    "for i in range(len(res.names)):\n",
    "    if res.names[i].data== '013_apple' or res.names[i].data== '017_orange':\n",
    "        bbM=res.pt_min.data[2*i:2*i+2]\n",
    "        bbm=res.pt_max.data[2*i:2*i+2]\n",
    "        bbx=[bbM,bbm]\n",
    "print(bbx)\n",
    "plt.imshow(debug_image)"
   ]
  },
  {
   "cell_type": "markdown",
   "id": "218fa584",
   "metadata": {},
   "source": [
    "# [(297, 191), (231, 226)]  at pkcp pose #Real Tak\n",
    "### [(323, 266), (280, 215)]  at pkcp pose #Gazebo\n"
   ]
  },
  {
   "cell_type": "code",
   "execution_count": null,
   "id": "c2616e79",
   "metadata": {},
   "outputs": [],
   "source": [
    "eX,eY= 0.3,0.3 \n",
    "\n",
    "while abs(eX) > 0.05 or abs(eY) > 0.05:\n",
    "    image= cv2.cvtColor(hand_cam.get_image(), cv2.COLOR_RGB2BGR)\n",
    "    img_msg  = bridge.cv2_to_imgmsg(image)\n",
    "    req      = classify_client.request_class()\n",
    "    req.in_.image_msgs.append(img_msg)\n",
    "    res      = classify_client(req)\n",
    "\n",
    "\n",
    "    for i in range(len(res.names)):\n",
    "        if res.names[i].data== '013_apple' or res.names[i].data== '017_orange':\n",
    "            bbM=res.pt_min.data[2*i:2*i+2]\n",
    "            bbm=res.pt_max.data[2*i:2*i+2]\n",
    "            bbx=[bbM,bbm]\n",
    "    print(bbx)\n",
    "    eY=(bbx[1][1]-215)/215    #experience value\n",
    "    #print(f'error relative to gripper cam {eY}')\n",
    "\n",
    "\n",
    "    #eX=(bbx[0][0]-323)/323\n",
    "    eY=(bbx[1][1]-239)/239\n",
    "    eX=(bbx[0][0]-312)/312\n",
    "    #eY=(bbx[1][1]-215)/215    #experience value\n",
    "\n",
    "    print(f'error relative to gripper cam ex={eX} ey={eY}')\n",
    "    omni_base.tiny_move(velX=0.5*eX, velY=0.5*-eY, MAX_VEL=0.05) \n",
    "print(f'error relative to gripper cam ex={eX} ey={eY}:::::: Error within tolerance')"
   ]
  },
  {
   "cell_type": "code",
   "execution_count": null,
   "id": "4a6e7d80",
   "metadata": {},
   "outputs": [],
   "source": [
    "bbx"
   ]
  },
  {
   "cell_type": "code",
   "execution_count": null,
   "id": "2b0d6125",
   "metadata": {},
   "outputs": [],
   "source": [
    "eY=(bbx[1][1]-239)/239\n",
    "eX=(bbx[0][0]-312)/312\n",
    "print(f'error relative to gripper cam ex={eX} ey={eY}')\n"
   ]
  },
  {
   "cell_type": "code",
   "execution_count": null,
   "id": "6d8b9804",
   "metadata": {},
   "outputs": [],
   "source": [
    "#omni_base.tiny_move(velX=0.5*eX, velY=0.5*-eY, MAX_VEL=0.05) \n"
   ]
  },
  {
   "cell_type": "code",
   "execution_count": null,
   "id": "91085632",
   "metadata": {
    "scrolled": true
   },
   "outputs": [],
   "source": [
    "clear_octo_client()\n",
    "\n",
    "av=arm.get_current_joint_values()\n",
    "print (av,'av')\n",
    "av[0]+= -0.17###LAB\n",
    "#av[0]+= -0.35###GAZ\n",
    "succ=arm.go(av)\n",
    "rospy.sleep(0.5)\n",
    "gripper.close(force=0.06)"
   ]
  },
  {
   "cell_type": "code",
   "execution_count": null,
   "id": "c6bd60e6",
   "metadata": {},
   "outputs": [],
   "source": [
    "av=arm.get_current_joint_values()\n",
    "print (av,'av')\n",
    "av[0]+= 0.15\n",
    "succ=arm.go(av)\n",
    "omni_base.tiny_move(velX=-0.3, std_time=4.0)\n",
    "arm.set_named_target('go')\n",
    "arm.go()\n",
    "#tf_man.pub_static_tf(point_name='apple')"
   ]
  },
  {
   "cell_type": "code",
   "execution_count": null,
   "id": "d9be2172",
   "metadata": {},
   "outputs": [],
   "source": [
    "plt.imshow(hand_cam.get_image())"
   ]
  },
  {
   "cell_type": "code",
   "execution_count": null,
   "id": "744b1ad8",
   "metadata": {},
   "outputs": [],
   "source": [
    "image= cv2.cvtColor(hand_cam.get_image(), cv2.COLOR_RGB2BGR)\n",
    "img_msg  = bridge.cv2_to_imgmsg(image)\n",
    "req      = classify_client.request_class()\n",
    "req.in_.image_msgs.append(img_msg)\n",
    "res      = classify_client(req)\n",
    "debug_image=   cv2.cvtColor(bridge.imgmsg_to_cv2(res.debug_image.image_msgs[0]), cv2.COLOR_RGB2BGR)\n",
    "plt.imshow(debug_image)"
   ]
  },
  {
   "cell_type": "code",
   "execution_count": null,
   "id": "1d45c932",
   "metadata": {},
   "outputs": [],
   "source": [
    "gripper.open()"
   ]
  },
  {
   "cell_type": "code",
   "execution_count": null,
   "id": "84088f6d",
   "metadata": {},
   "outputs": [],
   "source": [
    "gripper.close(force=0.06)"
   ]
  },
  {
   "cell_type": "code",
   "execution_count": null,
   "id": "01412038",
   "metadata": {},
   "outputs": [],
   "source": [
    "\n",
    "for i in range(len(res.poses)):\n",
    "    tf_man.getTF(\"head_rgbd_sensor_rgb_frame\")\n",
    "    position = [res.poses[i].position.x ,res.poses[i].position.y,res.poses[i].position.z]\n",
    "    tf_man.pub_static_tf(pos= position, rot=[0,0,0,1], ref=\"head_rgbd_sensor_rgb_frame\", point_name=res.names[i].data[4:] )   \n",
    "    rospy.sleep(0.3)\n",
    "    tf_man.change_ref_frame_tf(res.names[i].data[4:])\n",
    "\n",
    "\n"
   ]
  },
  {
   "cell_type": "code",
   "execution_count": null,
   "id": "afd6ec67",
   "metadata": {},
   "outputs": [],
   "source": []
  },
  {
   "cell_type": "code",
   "execution_count": null,
   "id": "e6bd5b2c",
   "metadata": {},
   "outputs": [],
   "source": [
    "def detect_object_yolo(object_name,res):\n",
    "    # find object_name in the response message from object_classification service (Yolo)\n",
    "    objs=[]\n",
    "    for i,name in enumerate(res.names):\n",
    "        objs.append(name.data[4:])\n",
    "        if name.data[4:]==object_name:return res.poses[i]\n",
    "    if object_name=='all':\n",
    "        \n",
    "        return objs\n",
    "    return []"
   ]
  },
  {
   "cell_type": "code",
   "execution_count": null,
   "id": "b620f3f2",
   "metadata": {},
   "outputs": [],
   "source": [
    "#img_msg  = bridge.cv2_to_imgmsg(rgbd.get_image())  #REAL\n",
    "img_msg  = bridge.cv2_to_imgmsg(cv2.cvtColor(rgbd.get_image(), cv2.COLOR_RGB2BGR ))#GAZEB\n",
    "req      = classify_client.request_class()\n",
    "req.in_.image_msgs.append(img_msg)\n",
    "res      = classify_client(req)\n",
    "objects=detect_object_yolo('all',res)   \n",
    "if len (objects)!=0:\n",
    "    for i in range(len(res.poses)):\n",
    "        tf_man.getTF(\"head_rgbd_sensor_rgb_frame\")\n",
    "        position = [res.poses[i].position.x ,res.poses[i].position.y,res.poses[i].position.z]\n",
    "        tf_man.pub_static_tf(pos= position, rot=[0,0,0,1], ref=\"head_rgbd_sensor_rgb_frame\", point_name=res.names[i].data[4:] )   \n",
    "        rospy.sleep(0.3)\n",
    "        tf_man.change_ref_frame_tf(res.names[i].data[4:])\n",
    "        rospy.sleep(0.3)\n",
    "        pose , _=tf_man.getTF(res.names[i].data[4:])\n",
    "        new_row = {'x': pose[0], 'y': pose[1], 'z': pose[2], 'obj_name': res.names[i].data[4:]}\n",
    "        objs.loc[len(objs)] = new_row\n",
    "objs"
   ]
  },
  {
   "cell_type": "code",
   "execution_count": null,
   "id": "784dd119",
   "metadata": {},
   "outputs": [],
   "source": [
    "objs[['x','y','z']].values"
   ]
  },
  {
   "cell_type": "code",
   "execution_count": null,
   "id": "453a1105",
   "metadata": {},
   "outputs": [],
   "source": []
  },
  {
   "cell_type": "code",
   "execution_count": null,
   "id": "832d35b1",
   "metadata": {},
   "outputs": [],
   "source": [
    "#get closest object\n",
    "rob_pos,_=tf_man.getTF('base_link')\n",
    "np.argmin(np.linalg.norm(rob_pos-objs[['x','y','z']].values  , axis=1))\n",
    "objs.iloc[np.argmin(np.linalg.norm(rob_pos-objs[['x','y','z']].values  , axis=1))]['obj_name']"
   ]
  },
  {
   "cell_type": "code",
   "execution_count": null,
   "id": "8f860374",
   "metadata": {},
   "outputs": [],
   "source": [
    "objs[objs['obj_name']==objs.obj_name.values[0]].x.values[0]"
   ]
  },
  {
   "cell_type": "markdown",
   "id": "879e3308",
   "metadata": {},
   "source": [
    "# PLANE 1\n",
    "#### 7.883384\t5.948245\t0.701945,\n",
    "#### 8.214565\t5.962619\t0.700034,\n",
    "#### 8.213697\t6.107727\t0.709487,\n",
    "####  7.893623\t6.082935\t0.693285"
   ]
  },
  {
   "cell_type": "markdown",
   "id": "42916558",
   "metadata": {},
   "source": [
    "# PLANE 2\n",
    "#### 7.88076\t6.086619\t0.416096,\n",
    "#### 8.214128\t5.9663\t0.416672"
   ]
  },
  {
   "cell_type": "markdown",
   "id": "53adeeb0",
   "metadata": {},
   "source": [
    "# Plane 3\n",
    "#### 8.20238\t5.963262\t0.117541"
   ]
  },
  {
   "cell_type": "code",
   "execution_count": null,
   "id": "c8237744",
   "metadata": {},
   "outputs": [],
   "source": [
    "head.set_named_target('neutral')\n",
    "\n",
    "av=arm.get_current_joint_values()\n",
    "av[0]=0.5\n",
    "av[1]=-0.5\n",
    "arm.go(av)\n",
    "head.set_joint_values([-np.pi/2 , -0.5])"
   ]
  },
  {
   "cell_type": "code",
   "execution_count": null,
   "id": "73b6c750",
   "metadata": {},
   "outputs": [],
   "source": [
    "head.set_joint_values([-np.pi/2 , -0.5])"
   ]
  },
  {
   "cell_type": "code",
   "execution_count": null,
   "id": "f03b288d",
   "metadata": {},
   "outputs": [],
   "source": [
    "\n",
    "\n",
    "av=arm.get_current_joint_values()\n",
    "av[0]=0.05\n",
    "\n",
    "arm.go(av)"
   ]
  },
  {
   "cell_type": "code",
   "execution_count": null,
   "id": "d994b8cf",
   "metadata": {},
   "outputs": [],
   "source": [
    "head.set_joint_values([-np.pi/2 , -0.8])\n",
    "\n",
    "av=arm.get_current_joint_values()\n",
    "av[0]=0.0\n",
    "av[1]=-0.5\n",
    "arm.go(av)"
   ]
  },
  {
   "cell_type": "code",
   "execution_count": 2,
   "id": "6b1eef31",
   "metadata": {},
   "outputs": [
    {
     "name": "stderr",
     "output_type": "stream",
     "text": [
      "\u001b[33m[ WARN] [1717034039.547825191]: TF_REPEATED_DATA ignoring data with redundant timestamp for frame odom at time 165.754000 according to authority /pose_integrator\u001b[0m\n",
      "\u001b[33m[ WARN] [1717034039.547886545]: TF_REPEATED_DATA ignoring data with redundant timestamp for frame odom at time 165.754000 according to authority /pose_integrator\u001b[0m\n",
      "\u001b[33m[ WARN] [1717034039.547918453]: TF_REPEATED_DATA ignoring data with redundant timestamp for frame odom at time 165.754000 according to authority /pose_integrator\u001b[0m\n",
      "\u001b[33m[ WARN] [1717034039.547963091]: TF_REPEATED_DATA ignoring data with redundant timestamp for frame odom at time 165.754000 according to authority /pose_integrator\u001b[0m\n",
      "\u001b[33m[ WARN] [1717034039.547993025]: TF_REPEATED_DATA ignoring data with redundant timestamp for frame odom at time 165.754000 according to authority /pose_integrator\u001b[0m\n",
      "\u001b[33m[ WARN] [1717034039.548028747]: TF_REPEATED_DATA ignoring data with redundant timestamp for frame odom at time 165.754000 according to authority /pose_integrator\u001b[0m\n",
      "\u001b[33m[ WARN] [1717034040.380515788]: TF_REPEATED_DATA ignoring data with redundant timestamp for frame odom at time 166.028000 according to authority /pose_integrator\u001b[0m\n",
      "\u001b[33m[ WARN] [1717034040.380590125]: TF_REPEATED_DATA ignoring data with redundant timestamp for frame odom at time 166.028000 according to authority /pose_integrator\u001b[0m\n",
      "\u001b[33m[ WARN] [1717034040.380621466]: TF_REPEATED_DATA ignoring data with redundant timestamp for frame odom at time 166.028000 according to authority /pose_integrator\u001b[0m\n",
      "\u001b[33m[ WARN] [1717034040.380654524]: TF_REPEATED_DATA ignoring data with redundant timestamp for frame odom at time 166.028000 according to authority /pose_integrator\u001b[0m\n",
      "\u001b[33m[ WARN] [1717034040.380697790]: TF_REPEATED_DATA ignoring data with redundant timestamp for frame odom at time 166.028000 according to authority /pose_integrator\u001b[0m\n",
      "\u001b[33m[ WARN] [1717034040.380735945]: TF_REPEATED_DATA ignoring data with redundant timestamp for frame odom at time 166.028000 according to authority /pose_integrator\u001b[0m\n",
      "\u001b[33m[ WARN] [1717034040.754786473]: TF_REPEATED_DATA ignoring data with redundant timestamp for frame odom at time 166.138000 according to authority /pose_integrator\u001b[0m\n",
      "\u001b[33m[ WARN] [1717034040.754848604]: TF_REPEATED_DATA ignoring data with redundant timestamp for frame odom at time 166.138000 according to authority /pose_integrator\u001b[0m\n",
      "\u001b[33m[ WARN] [1717034040.754888706]: TF_REPEATED_DATA ignoring data with redundant timestamp for frame odom at time 166.138000 according to authority /pose_integrator\u001b[0m\n",
      "\u001b[33m[ WARN] [1717034040.754929814]: TF_REPEATED_DATA ignoring data with redundant timestamp for frame odom at time 166.138000 according to authority /pose_integrator\u001b[0m\n",
      "\u001b[33m[ WARN] [1717034040.754970031]: TF_REPEATED_DATA ignoring data with redundant timestamp for frame odom at time 166.138000 according to authority /pose_integrator\u001b[0m\n",
      "\u001b[33m[ WARN] [1717034040.755014169]: TF_REPEATED_DATA ignoring data with redundant timestamp for frame odom at time 166.138000 according to authority /pose_integrator\u001b[0m\n",
      "\u001b[33m[ WARN] [1717034046.112411119]: TF_REPEATED_DATA ignoring data with redundant timestamp for frame odom at time 167.694000 according to authority /pose_integrator\u001b[0m\n",
      "\u001b[33m[ WARN] [1717034046.112487207]: TF_REPEATED_DATA ignoring data with redundant timestamp for frame odom at time 167.694000 according to authority /pose_integrator\u001b[0m\n",
      "\u001b[33m[ WARN] [1717034046.112522201]: TF_REPEATED_DATA ignoring data with redundant timestamp for frame odom at time 167.694000 according to authority /pose_integrator\u001b[0m\n",
      "\u001b[33m[ WARN] [1717034046.112572282]: TF_REPEATED_DATA ignoring data with redundant timestamp for frame odom at time 167.694000 according to authority /pose_integrator\u001b[0m\n",
      "\u001b[33m[ WARN] [1717034046.112595808]: TF_REPEATED_DATA ignoring data with redundant timestamp for frame odom at time 167.694000 according to authority /pose_integrator\u001b[0m\n",
      "\u001b[33m[ WARN] [1717034046.112621953]: TF_REPEATED_DATA ignoring data with redundant timestamp for frame odom at time 167.694000 according to authority /pose_integrator\u001b[0m\n",
      "\u001b[33m[ WARN] [1717034047.146784015]: TF_REPEATED_DATA ignoring data with redundant timestamp for frame odom at time 167.995000 according to authority /pose_integrator\u001b[0m\n",
      "\u001b[33m[ WARN] [1717034047.146842864]: TF_REPEATED_DATA ignoring data with redundant timestamp for frame odom at time 167.995000 according to authority /pose_integrator\u001b[0m\n",
      "\u001b[33m[ WARN] [1717034047.146887405]: TF_REPEATED_DATA ignoring data with redundant timestamp for frame odom at time 167.995000 according to authority /pose_integrator\u001b[0m\n",
      "\u001b[33m[ WARN] [1717034047.146946462]: TF_REPEATED_DATA ignoring data with redundant timestamp for frame odom at time 167.995000 according to authority /pose_integrator\u001b[0m\n",
      "\u001b[33m[ WARN] [1717034047.146990981]: TF_REPEATED_DATA ignoring data with redundant timestamp for frame odom at time 167.995000 according to authority /pose_integrator\u001b[0m\n",
      "\u001b[33m[ WARN] [1717034047.147033686]: TF_REPEATED_DATA ignoring data with redundant timestamp for frame odom at time 167.995000 according to authority /pose_integrator\u001b[0m\n",
      "\u001b[33m[ WARN] [1717034047.676001960]: TF_REPEATED_DATA ignoring data with redundant timestamp for frame odom at time 168.169000 according to authority /pose_integrator\u001b[0m\n",
      "\u001b[33m[ WARN] [1717034047.676055757]: TF_REPEATED_DATA ignoring data with redundant timestamp for frame odom at time 168.169000 according to authority /pose_integrator\u001b[0m\n",
      "\u001b[33m[ WARN] [1717034047.676096383]: TF_REPEATED_DATA ignoring data with redundant timestamp for frame odom at time 168.169000 according to authority /pose_integrator\u001b[0m\n",
      "\u001b[33m[ WARN] [1717034047.676139405]: TF_REPEATED_DATA ignoring data with redundant timestamp for frame odom at time 168.169000 according to authority /pose_integrator\u001b[0m\n",
      "\u001b[33m[ WARN] [1717034047.676170866]: TF_REPEATED_DATA ignoring data with redundant timestamp for frame odom at time 168.169000 according to authority /pose_integrator\u001b[0m\n",
      "\u001b[33m[ WARN] [1717034047.676199967]: TF_REPEATED_DATA ignoring data with redundant timestamp for frame odom at time 168.169000 according to authority /pose_integrator\u001b[0m\n",
      "\u001b[33m[ WARN] [1717034051.400878840]: TF_REPEATED_DATA ignoring data with redundant timestamp for frame odom at time 169.248000 according to authority /pose_integrator\u001b[0m\n",
      "\u001b[33m[ WARN] [1717034051.400924765]: TF_REPEATED_DATA ignoring data with redundant timestamp for frame odom at time 169.248000 according to authority /pose_integrator\u001b[0m\n",
      "\u001b[33m[ WARN] [1717034051.400960111]: TF_REPEATED_DATA ignoring data with redundant timestamp for frame odom at time 169.248000 according to authority /pose_integrator\u001b[0m\n",
      "\u001b[33m[ WARN] [1717034051.401001586]: TF_REPEATED_DATA ignoring data with redundant timestamp for frame odom at time 169.248000 according to authority /pose_integrator\u001b[0m\n",
      "\u001b[33m[ WARN] [1717034051.401045093]: TF_REPEATED_DATA ignoring data with redundant timestamp for frame odom at time 169.248000 according to authority /pose_integrator\u001b[0m\n",
      "\u001b[33m[ WARN] [1717034051.401086208]: TF_REPEATED_DATA ignoring data with redundant timestamp for frame odom at time 169.248000 according to authority /pose_integrator\u001b[0m\n",
      "\u001b[33m[ WARN] [1717034067.940162294]: TF_REPEATED_DATA ignoring data with redundant timestamp for frame odom at time 173.802000 according to authority /pose_integrator\u001b[0m\n",
      "\u001b[33m[ WARN] [1717034067.940217860]: TF_REPEATED_DATA ignoring data with redundant timestamp for frame odom at time 173.802000 according to authority /pose_integrator\u001b[0m\n",
      "\u001b[33m[ WARN] [1717034067.940263803]: TF_REPEATED_DATA ignoring data with redundant timestamp for frame odom at time 173.802000 according to authority /pose_integrator\u001b[0m\n",
      "\u001b[33m[ WARN] [1717034067.940305383]: TF_REPEATED_DATA ignoring data with redundant timestamp for frame odom at time 173.802000 according to authority /pose_integrator\u001b[0m\n",
      "\u001b[33m[ WARN] [1717034067.940343170]: TF_REPEATED_DATA ignoring data with redundant timestamp for frame odom at time 173.802000 according to authority /pose_integrator\u001b[0m\n",
      "\u001b[33m[ WARN] [1717034067.940395313]: TF_REPEATED_DATA ignoring data with redundant timestamp for frame odom at time 173.802000 according to authority /pose_integrator\u001b[0m\n"
     ]
    },
    {
     "name": "stderr",
     "output_type": "stream",
     "text": [
      "\u001b[33m[ WARN] [1717034089.833395485]: TF_REPEATED_DATA ignoring data with redundant timestamp for frame odom at time 179.963000 according to authority /pose_integrator\u001b[0m\n",
      "\u001b[33m[ WARN] [1717034089.833451982]: TF_REPEATED_DATA ignoring data with redundant timestamp for frame odom at time 179.963000 according to authority /pose_integrator\u001b[0m\n",
      "\u001b[33m[ WARN] [1717034089.833489464]: TF_REPEATED_DATA ignoring data with redundant timestamp for frame odom at time 179.963000 according to authority /pose_integrator\u001b[0m\n",
      "\u001b[33m[ WARN] [1717034089.833526418]: TF_REPEATED_DATA ignoring data with redundant timestamp for frame odom at time 179.963000 according to authority /pose_integrator\u001b[0m\n",
      "\u001b[33m[ WARN] [1717034089.833555103]: TF_REPEATED_DATA ignoring data with redundant timestamp for frame odom at time 179.963000 according to authority /pose_integrator\u001b[0m\n",
      "\u001b[33m[ WARN] [1717034089.833587013]: TF_REPEATED_DATA ignoring data with redundant timestamp for frame odom at time 179.963000 according to authority /pose_integrator\u001b[0m\n",
      "\u001b[33m[ WARN] [1717034090.512023636]: TF_REPEATED_DATA ignoring data with redundant timestamp for frame odom at time 180.198000 according to authority /pose_integrator\u001b[0m\n",
      "\u001b[33m[ WARN] [1717034090.512072669]: TF_REPEATED_DATA ignoring data with redundant timestamp for frame odom at time 180.198000 according to authority /pose_integrator\u001b[0m\n",
      "\u001b[33m[ WARN] [1717034090.512120109]: TF_REPEATED_DATA ignoring data with redundant timestamp for frame odom at time 180.198000 according to authority /pose_integrator\u001b[0m\n",
      "\u001b[33m[ WARN] [1717034090.512162090]: TF_REPEATED_DATA ignoring data with redundant timestamp for frame odom at time 180.198000 according to authority /pose_integrator\u001b[0m\n",
      "\u001b[33m[ WARN] [1717034090.512192112]: TF_REPEATED_DATA ignoring data with redundant timestamp for frame odom at time 180.198000 according to authority /pose_integrator\u001b[0m\n",
      "\u001b[33m[ WARN] [1717034090.512227119]: TF_REPEATED_DATA ignoring data with redundant timestamp for frame odom at time 180.198000 according to authority /pose_integrator\u001b[0m\n",
      "\u001b[33m[ WARN] [1717034090.875077001]: TF_REPEATED_DATA ignoring data with redundant timestamp for frame odom at time 180.353000 according to authority /pose_integrator\u001b[0m\n",
      "\u001b[33m[ WARN] [1717034090.875132850]: TF_REPEATED_DATA ignoring data with redundant timestamp for frame odom at time 180.353000 according to authority /pose_integrator\u001b[0m\n",
      "\u001b[33m[ WARN] [1717034090.875176299]: TF_REPEATED_DATA ignoring data with redundant timestamp for frame odom at time 180.353000 according to authority /pose_integrator\u001b[0m\n",
      "\u001b[33m[ WARN] [1717034090.875219482]: TF_REPEATED_DATA ignoring data with redundant timestamp for frame odom at time 180.353000 according to authority /pose_integrator\u001b[0m\n",
      "\u001b[33m[ WARN] [1717034090.875265863]: TF_REPEATED_DATA ignoring data with redundant timestamp for frame odom at time 180.353000 according to authority /pose_integrator\u001b[0m\n",
      "\u001b[33m[ WARN] [1717034090.875312995]: TF_REPEATED_DATA ignoring data with redundant timestamp for frame odom at time 180.353000 according to authority /pose_integrator\u001b[0m\n",
      "\u001b[33m[ WARN] [1717034091.532211432]: TF_REPEATED_DATA ignoring data with redundant timestamp for frame odom at time 180.523000 according to authority /pose_integrator\u001b[0m\n",
      "\u001b[33m[ WARN] [1717034091.532271969]: TF_REPEATED_DATA ignoring data with redundant timestamp for frame odom at time 180.523000 according to authority /pose_integrator\u001b[0m\n",
      "\u001b[33m[ WARN] [1717034091.532312037]: TF_REPEATED_DATA ignoring data with redundant timestamp for frame odom at time 180.523000 according to authority /pose_integrator\u001b[0m\n",
      "\u001b[33m[ WARN] [1717034091.532356043]: TF_REPEATED_DATA ignoring data with redundant timestamp for frame odom at time 180.523000 according to authority /pose_integrator\u001b[0m\n",
      "\u001b[33m[ WARN] [1717034091.532390110]: TF_REPEATED_DATA ignoring data with redundant timestamp for frame odom at time 180.523000 according to authority /pose_integrator\u001b[0m\n",
      "\u001b[33m[ WARN] [1717034091.532420613]: TF_REPEATED_DATA ignoring data with redundant timestamp for frame odom at time 180.523000 according to authority /pose_integrator\u001b[0m\n",
      "\u001b[33m[ WARN] [1717034091.762133197]: TF_REPEATED_DATA ignoring data with redundant timestamp for frame odom at time 180.616000 according to authority /pose_integrator\u001b[0m\n",
      "\u001b[33m[ WARN] [1717034091.762197903]: TF_REPEATED_DATA ignoring data with redundant timestamp for frame odom at time 180.616000 according to authority /pose_integrator\u001b[0m\n",
      "\u001b[33m[ WARN] [1717034091.762244378]: TF_REPEATED_DATA ignoring data with redundant timestamp for frame odom at time 180.616000 according to authority /pose_integrator\u001b[0m\n",
      "\u001b[33m[ WARN] [1717034091.762287667]: TF_REPEATED_DATA ignoring data with redundant timestamp for frame odom at time 180.616000 according to authority /pose_integrator\u001b[0m\n",
      "\u001b[33m[ WARN] [1717034091.762323981]: TF_REPEATED_DATA ignoring data with redundant timestamp for frame odom at time 180.616000 according to authority /pose_integrator\u001b[0m\n",
      "\u001b[33m[ WARN] [1717034091.762372374]: TF_REPEATED_DATA ignoring data with redundant timestamp for frame odom at time 180.616000 according to authority /pose_integrator\u001b[0m\n",
      "\u001b[33m[ WARN] [1717034101.376837973]: TF_REPEATED_DATA ignoring data with redundant timestamp for frame odom at time 183.388000 according to authority /pose_integrator\u001b[0m\n",
      "\u001b[33m[ WARN] [1717034101.376895674]: TF_REPEATED_DATA ignoring data with redundant timestamp for frame odom at time 183.388000 according to authority /pose_integrator\u001b[0m\n",
      "\u001b[33m[ WARN] [1717034101.376938013]: TF_REPEATED_DATA ignoring data with redundant timestamp for frame odom at time 183.388000 according to authority /pose_integrator\u001b[0m\n",
      "\u001b[33m[ WARN] [1717034101.376981161]: TF_REPEATED_DATA ignoring data with redundant timestamp for frame odom at time 183.388000 according to authority /pose_integrator\u001b[0m\n",
      "\u001b[33m[ WARN] [1717034101.377023017]: TF_REPEATED_DATA ignoring data with redundant timestamp for frame odom at time 183.388000 according to authority /pose_integrator\u001b[0m\n",
      "\u001b[33m[ WARN] [1717034101.377072347]: TF_REPEATED_DATA ignoring data with redundant timestamp for frame odom at time 183.388000 according to authority /pose_integrator\u001b[0m\n",
      "\u001b[33m[ WARN] [1717034105.621359931]: TF_REPEATED_DATA ignoring data with redundant timestamp for frame odom at time 184.592000 according to authority /pose_integrator\u001b[0m\n",
      "\u001b[33m[ WARN] [1717034105.621411518]: TF_REPEATED_DATA ignoring data with redundant timestamp for frame odom at time 184.592000 according to authority /pose_integrator\u001b[0m\n",
      "\u001b[33m[ WARN] [1717034105.621454846]: TF_REPEATED_DATA ignoring data with redundant timestamp for frame odom at time 184.592000 according to authority /pose_integrator\u001b[0m\n",
      "\u001b[33m[ WARN] [1717034105.621493103]: TF_REPEATED_DATA ignoring data with redundant timestamp for frame odom at time 184.592000 according to authority /pose_integrator\u001b[0m\n",
      "\u001b[33m[ WARN] [1717034105.621518812]: TF_REPEATED_DATA ignoring data with redundant timestamp for frame odom at time 184.592000 according to authority /pose_integrator\u001b[0m\n",
      "\u001b[33m[ WARN] [1717034105.621543091]: TF_REPEATED_DATA ignoring data with redundant timestamp for frame odom at time 184.592000 according to authority /pose_integrator\u001b[0m\n",
      "\u001b[33m[ WARN] [1717034112.292184763]: TF_REPEATED_DATA ignoring data with redundant timestamp for frame odom at time 186.425000 according to authority /pose_integrator\u001b[0m\n",
      "\u001b[33m[ WARN] [1717034112.292236017]: TF_REPEATED_DATA ignoring data with redundant timestamp for frame odom at time 186.425000 according to authority /pose_integrator\u001b[0m\n",
      "\u001b[33m[ WARN] [1717034112.292281460]: TF_REPEATED_DATA ignoring data with redundant timestamp for frame odom at time 186.425000 according to authority /pose_integrator\u001b[0m\n",
      "\u001b[33m[ WARN] [1717034112.292326444]: TF_REPEATED_DATA ignoring data with redundant timestamp for frame odom at time 186.425000 according to authority /pose_integrator\u001b[0m\n",
      "\u001b[33m[ WARN] [1717034112.292374886]: TF_REPEATED_DATA ignoring data with redundant timestamp for frame odom at time 186.425000 according to authority /pose_integrator\u001b[0m\n",
      "\u001b[33m[ WARN] [1717034112.292413599]: TF_REPEATED_DATA ignoring data with redundant timestamp for frame odom at time 186.425000 according to authority /pose_integrator\u001b[0m\n"
     ]
    },
    {
     "name": "stderr",
     "output_type": "stream",
     "text": [
      "\u001b[33m[ WARN] [1717034113.075212941]: TF_REPEATED_DATA ignoring data with redundant timestamp for frame odom at time 186.675000 according to authority /pose_integrator\u001b[0m\n",
      "\u001b[33m[ WARN] [1717034113.075259679]: TF_REPEATED_DATA ignoring data with redundant timestamp for frame odom at time 186.675000 according to authority /pose_integrator\u001b[0m\n",
      "\u001b[33m[ WARN] [1717034113.075286545]: TF_REPEATED_DATA ignoring data with redundant timestamp for frame odom at time 186.675000 according to authority /pose_integrator\u001b[0m\n",
      "\u001b[33m[ WARN] [1717034113.075310986]: TF_REPEATED_DATA ignoring data with redundant timestamp for frame odom at time 186.675000 according to authority /pose_integrator\u001b[0m\n",
      "\u001b[33m[ WARN] [1717034113.075347758]: TF_REPEATED_DATA ignoring data with redundant timestamp for frame odom at time 186.675000 according to authority /pose_integrator\u001b[0m\n",
      "\u001b[33m[ WARN] [1717034113.075374249]: TF_REPEATED_DATA ignoring data with redundant timestamp for frame odom at time 186.675000 according to authority /pose_integrator\u001b[0m\n",
      "\u001b[33m[ WARN] [1717034121.675599565]: TF_REPEATED_DATA ignoring data with redundant timestamp for frame odom at time 189.186000 according to authority /pose_integrator\u001b[0m\n",
      "\u001b[33m[ WARN] [1717034121.675644666]: TF_REPEATED_DATA ignoring data with redundant timestamp for frame odom at time 189.186000 according to authority /pose_integrator\u001b[0m\n",
      "\u001b[33m[ WARN] [1717034121.675679336]: TF_REPEATED_DATA ignoring data with redundant timestamp for frame odom at time 189.186000 according to authority /pose_integrator\u001b[0m\n",
      "\u001b[33m[ WARN] [1717034121.675707143]: TF_REPEATED_DATA ignoring data with redundant timestamp for frame odom at time 189.186000 according to authority /pose_integrator\u001b[0m\n",
      "\u001b[33m[ WARN] [1717034121.675736418]: TF_REPEATED_DATA ignoring data with redundant timestamp for frame odom at time 189.186000 according to authority /pose_integrator\u001b[0m\n",
      "\u001b[33m[ WARN] [1717034121.675766152]: TF_REPEATED_DATA ignoring data with redundant timestamp for frame odom at time 189.186000 according to authority /pose_integrator\u001b[0m\n",
      "\u001b[33m[ WARN] [1717034122.163806493]: TF_REPEATED_DATA ignoring data with redundant timestamp for frame odom at time 189.353000 according to authority /pose_integrator\u001b[0m\n",
      "\u001b[33m[ WARN] [1717034122.163852725]: TF_REPEATED_DATA ignoring data with redundant timestamp for frame odom at time 189.353000 according to authority /pose_integrator\u001b[0m\n",
      "\u001b[33m[ WARN] [1717034122.163879315]: TF_REPEATED_DATA ignoring data with redundant timestamp for frame odom at time 189.353000 according to authority /pose_integrator\u001b[0m\n",
      "\u001b[33m[ WARN] [1717034122.163911635]: TF_REPEATED_DATA ignoring data with redundant timestamp for frame odom at time 189.353000 according to authority /pose_integrator\u001b[0m\n",
      "\u001b[33m[ WARN] [1717034122.163935942]: TF_REPEATED_DATA ignoring data with redundant timestamp for frame odom at time 189.353000 according to authority /pose_integrator\u001b[0m\n",
      "\u001b[33m[ WARN] [1717034122.163959468]: TF_REPEATED_DATA ignoring data with redundant timestamp for frame odom at time 189.353000 according to authority /pose_integrator\u001b[0m\n"
     ]
    }
   ],
   "source": [
    "import pandas as pd\n"
   ]
  },
  {
   "cell_type": "code",
   "execution_count": null,
   "id": "cfcc8d0a",
   "metadata": {},
   "outputs": [],
   "source": [
    "import pandas as pd\n",
    "objs = pd.read_csv ('/home/roboworks/Documents/objs.csv')\n",
    "objs=objs.drop(columns='Unnamed: 0')"
   ]
  },
  {
   "cell_type": "code",
   "execution_count": null,
   "id": "3e373ac0",
   "metadata": {},
   "outputs": [],
   "source": [
    "objs=objs[objs['obj_name'] != 'bowl']"
   ]
  },
  {
   "cell_type": "code",
   "execution_count": null,
   "id": "f8e00d9a",
   "metadata": {},
   "outputs": [],
   "source": [
    "objs"
   ]
  },
  {
   "cell_type": "code",
   "execution_count": null,
   "id": "b513b375",
   "metadata": {},
   "outputs": [],
   "source": [
    "objs[objs['obj_name'] != 'bowl']"
   ]
  },
  {
   "cell_type": "code",
   "execution_count": null,
   "id": "c6d8500a",
   "metadata": {},
   "outputs": [],
   "source": [
    "objs"
   ]
  },
  {
   "cell_type": "code",
   "execution_count": null,
   "id": "4ff3c163",
   "metadata": {},
   "outputs": [],
   "source": [
    "from sklearn.cluster import KMeans\n",
    "shelf_objs=objs[objs['shelves']==True ]\n",
    "sh_o_btm=shelf_objs[shelf_objs['z']<0.2]\n"
   ]
  },
  {
   "cell_type": "code",
   "execution_count": null,
   "id": "7f1e3163",
   "metadata": {},
   "outputs": [],
   "source": [
    "'other' in sh_o_top['category'].values"
   ]
  },
  {
   "cell_type": "code",
   "execution_count": null,
   "id": "ba9d3f6d",
   "metadata": {},
   "outputs": [],
   "source": [
    "shelf_objs=objs[objs['shelves']==True ]\n",
    "\n",
    "sh_o_btm=shelf_objs[shelf_objs['z']<0.2]\n",
    "sh_o_mdl=shelf_objs[(shelf_objs['z']>0.2 )& (shelf_objs['z']<0.5) ]\n",
    "sh_o_top=shelf_objs[(shelf_objs['z']>0.5 )& (shelf_objs['z']<1.5) ]\n",
    "sh_o_btm['category'].value_counts(),sh_o_mdl['category'].value_counts() \n",
    "\n",
    "a= sh_o_btm['category'].value_counts()\n",
    "if 'other' in sh_o_btm['category'].values:a.drop('other', inplace=True)\n",
    "print(f'btm shelf category {a.index[a.argmax()]}')\n",
    "\n",
    "a= sh_o_mdl['category'].value_counts()\n",
    "if 'other' in sh_o_mdl['category'].values:a.drop('other', inplace=True)\n",
    "print(f'middle shelf category {a.index[a.argmax()]}')\n",
    "\n",
    "\n",
    "a= sh_o_top['category'].value_counts()\n",
    "if 'other' in sh_o_top['category'].values:a.drop('other', inplace=True)\n",
    "print(f'top shelf category {a.index[a.argmax()]}')\n"
   ]
  },
  {
   "cell_type": "code",
   "execution_count": null,
   "id": "48b39323",
   "metadata": {},
   "outputs": [],
   "source": []
  },
  {
   "cell_type": "code",
   "execution_count": null,
   "id": "669c37d6",
   "metadata": {},
   "outputs": [],
   "source": [
    "a"
   ]
  },
  {
   "cell_type": "code",
   "execution_count": null,
   "id": "6cb127d3",
   "metadata": {},
   "outputs": [],
   "source": [
    "kitchen =['bowl','spatula','spoon', 'bowl']\n",
    "tools=['extra_large_clamp','large_clamp','small_clamp','medium_clamp','adjustable_wrench',\n",
    "'flat_screwdriver','phillips_screwdriver','wood_block']\n",
    "balls= ['softball','tennis_ball']\n",
    "fruits= ['apple','banana', 'lemon','pear']\n",
    "food =['chips_can'\n",
    ",'mustard_bottle'\n",
    ",'potted_meat_can'\n",
    ",'tomato_soup_can'\n",
    ",'tuna_fish_can']\n",
    "\n",
    "def categorize_objs(name):\n",
    "    if name in kitchen: return 'kitchen'\n",
    "    elif name in tools: return 'tools'\n",
    "    elif name in balls: return 'balls'\n",
    "    elif name in fruits: return 'fruits'\n",
    "    elif name in food: return 'food'\n",
    "    return 'other'\n",
    "cats=[]\n",
    "for name in objs['obj_name']:\n",
    "    cats.append(categorize_objs(name))\n",
    "objs['category'] = cats   \n"
   ]
  },
  {
   "cell_type": "code",
   "execution_count": null,
   "id": "cf6f950f",
   "metadata": {},
   "outputs": [],
   "source": [
    "def categorize_objs(name):\n",
    "    if name in kitchen: return 'kitchen'\n",
    "    elif name in tools: return 'tools'\n",
    "    elif name in balls: return 'balls'\n",
    "    elif name in fruits: return 'fruits'\n",
    "    elif name in food: return 'food'\n",
    "    return 'other'\n",
    "    \n",
    "    "
   ]
  },
  {
   "cell_type": "code",
   "execution_count": null,
   "id": "ff936c6f",
   "metadata": {},
   "outputs": [],
   "source": [
    "cats=[]\n",
    "for name in objs['obj_name']:\n",
    "    cats.append(categorize_objs(name))\n",
    "objs['category'] = cats"
   ]
  },
  {
   "cell_type": "code",
   "execution_count": null,
   "id": "83b2769a",
   "metadata": {},
   "outputs": [],
   "source": []
  },
  {
   "cell_type": "code",
   "execution_count": null,
   "id": "14d9174b",
   "metadata": {},
   "outputs": [],
   "source": [
    "objs"
   ]
  },
  {
   "cell_type": "code",
   "execution_count": null,
   "id": "ff81e9a4",
   "metadata": {},
   "outputs": [],
   "source": [
    "import numpy as np\n",
    "regions={'shelves':np.load('/home/roboworks/Documents/shelf_sim.npy'),'pickup':np.load('/home/roboworks/Documents/pickup_sim.npy')}\n",
    "def is_inside(x,y):return ((area_box[:,1].max() > y) and (area_box[:,1].min() < y)) and ((area_box[:,0].max() > x) and (area_box[0,0].min() < x)) \n",
    "for name in regions:\n",
    "    in_region=[]\n",
    "    area_box=regions[name]\n",
    "    print (area_box,name)\n",
    "    for index, row in objs[['x','y','z']].iterrows():\n",
    "        in_region.append(is_inside(row.x, row.y))\n",
    "        print (row.x, row.y,is_inside(row.x, row.y))\n",
    "    objs[name]=pd.Series(in_region)\n",
    "objs"
   ]
  },
  {
   "cell_type": "code",
   "execution_count": null,
   "id": "398de064",
   "metadata": {},
   "outputs": [],
   "source": []
  },
  {
   "cell_type": "code",
   "execution_count": null,
   "id": "3252ab10",
   "metadata": {},
   "outputs": [],
   "source": [
    "(area_box[:,1].max() > row.y),(area_box[:,1].min() < row.y),((area_box[:,0].max() > row.x) , (area_box[0,0].min() < row.x)) "
   ]
  },
  {
   "cell_type": "code",
   "execution_count": null,
   "id": "638fba63",
   "metadata": {},
   "outputs": [],
   "source": [
    "def is_inside(x,y):return ((area_box[:,1].max() > y) and (area_box[:,1].min() < y)) and ((area_box[:,0].max() > x) and (area_box[0,0].min() < x)) "
   ]
  },
  {
   "cell_type": "code",
   "execution_count": null,
   "id": "478d9dfa",
   "metadata": {},
   "outputs": [],
   "source": [
    "pickup_region=np.zeros((2,2))\n",
    "#np.save('/home/roboworks/Documents/pickup_region.npy', pickup_region)"
   ]
  },
  {
   "cell_type": "code",
   "execution_count": null,
   "id": "5c6be4ff",
   "metadata": {},
   "outputs": [],
   "source": [
    "ab[0,0],ab[0,1]=6,6\n",
    "ab[1,0],ab[1,1]=7,4.0"
   ]
  },
  {
   "cell_type": "code",
   "execution_count": null,
   "id": "f51131d7",
   "metadata": {},
   "outputs": [],
   "source": []
  },
  {
   "cell_type": "code",
   "execution_count": null,
   "id": "e3946dc7",
   "metadata": {},
   "outputs": [],
   "source": [
    "import numpy as np\n",
    "\n",
    "#ab=np.load('/home/roboworks/Documents/pickup_region.npy')\n",
    "ab= np.load('/home/roboworks/Documents/pickup_sim.npy')"
   ]
  },
  {
   "cell_type": "code",
   "execution_count": null,
   "id": "796fa552",
   "metadata": {},
   "outputs": [],
   "source": [
    "\n",
    "ab[0,0]=5.8\n",
    "ab"
   ]
  },
  {
   "cell_type": "code",
   "execution_count": null,
   "id": "48ed00f7",
   "metadata": {},
   "outputs": [],
   "source": [
    "np.save('/home/roboworks/Documents/pickup_region.npy',ab)\n"
   ]
  },
  {
   "cell_type": "code",
   "execution_count": null,
   "id": "35f038e8",
   "metadata": {},
   "outputs": [],
   "source": [
    "#np.save('/home/roboworks/Documents/shelf_sim.npy',ab)\n",
    "np.save('/home/roboworks/Documents/pickup_sim.npy',ab)"
   ]
  },
  {
   "cell_type": "code",
   "execution_count": null,
   "id": "1e45b347",
   "metadata": {},
   "outputs": [],
   "source": [
    "objs[objs['pickup']==True][['x','y','z']].values"
   ]
  },
  {
   "cell_type": "code",
   "execution_count": null,
   "id": "4fe32e47",
   "metadata": {},
   "outputs": [],
   "source": [
    "rob_pos,_=tf_man.getTF('base_link')\n",
    "ix=np.argmin(np.linalg.norm(rob_pos-objs[objs['pickup']==True][['x','y','z']].values  , axis=1))\n",
    "ix\n"
   ]
  },
  {
   "cell_type": "code",
   "execution_count": null,
   "id": "9b982d96",
   "metadata": {},
   "outputs": [],
   "source": []
  },
  {
   "cell_type": "code",
   "execution_count": null,
   "id": "78bbcc36",
   "metadata": {},
   "outputs": [],
   "source": [
    "rob_pos,_=tf_man.getTF('base_link')\n",
    "ix=np.argmin(np.linalg.norm(rob_pos-objs[objs['pickup']==True][['x','y','z']].values  , axis=1))\n",
    "objs[objs['pickup']==True][['obj_name','category']].iloc[ix]\n"
   ]
  },
  {
   "cell_type": "code",
   "execution_count": null,
   "id": "202d265a",
   "metadata": {},
   "outputs": [],
   "source": [
    "ix=np.argmin(np.linalg.norm(rob_pos-objs[objs['pickup']==True][['x','y','z']].values  , axis=1))"
   ]
  },
  {
   "cell_type": "code",
   "execution_count": null,
   "id": "64e2bd3a",
   "metadata": {},
   "outputs": [],
   "source": [
    "pose=np.asarray((8.212561, 6.028789, 0.12))\n",
    "pose"
   ]
  },
  {
   "cell_type": "code",
   "execution_count": null,
   "id": "7e53e11f",
   "metadata": {},
   "outputs": [],
   "source": [
    "tf_man.pub_static_tf(pos=pose,point_name='PLACING')"
   ]
  },
  {
   "cell_type": "code",
   "execution_count": null,
   "id": "7087de0b",
   "metadata": {},
   "outputs": [],
   "source": [
    "#pose=np.asarray((8.212561, 6.028789, 0.12))\n",
    "pose=np.asarray((8.062455, 6.0622816, 0.6610926))\n",
    "tf_man.pub_static_tf(pos=pose,point_name='PLACING')"
   ]
  },
  {
   "cell_type": "code",
   "execution_count": null,
   "id": "9951604d",
   "metadata": {},
   "outputs": [],
   "source": [
    "arm['arm_lift_joint']=0.0"
   ]
  },
  {
   "cell_type": "code",
   "execution_count": null,
   "id": "003aea93",
   "metadata": {},
   "outputs": [],
   "source": [
    "omni_base.move_base(known_location='shelf')"
   ]
  },
  {
   "cell_type": "code",
   "execution_count": null,
   "id": "3af5afc7",
   "metadata": {},
   "outputs": [],
   "source": [
    "omni_base.tiny_move(velT=-0.7,std_time=1)"
   ]
  },
  {
   "cell_type": "code",
   "execution_count": null,
   "id": "08cd0f26",
   "metadata": {},
   "outputs": [],
   "source": [
    "av=arm.get_current_joint_values()\n",
    "high_shelf_place=av\n",
    "high_shelf_place\n"
   ]
  },
  {
   "cell_type": "code",
   "execution_count": null,
   "id": "d87289cb",
   "metadata": {},
   "outputs": [],
   "source": [
    "place_high_shelf=np.asarray([0.15050079265248406,\n",
    " -0.5861087653247212,\n",
    " 0.0850017715788356,\n",
    " -0.9342371117035135,\n",
    " 0.022035143687695324,\n",
    " 0.0])"
   ]
  },
  {
   "cell_type": "code",
   "execution_count": null,
   "id": "c1c7c139",
   "metadata": {},
   "outputs": [],
   "source": [
    "arm.go(place_high_shelf)"
   ]
  },
  {
   "cell_type": "markdown",
   "id": "ce5c7340",
   "metadata": {},
   "source": [
    "av=arm.get_current_joint_values()\n"
   ]
  },
  {
   "cell_type": "code",
   "execution_count": null,
   "id": "637185a4",
   "metadata": {},
   "outputs": [],
   "source": [
    "av=arm.get_current_joint_values()\n",
    "high_shelf_place=av"
   ]
  },
  {
   "cell_type": "code",
   "execution_count": null,
   "id": "f0dd580e",
   "metadata": {},
   "outputs": [],
   "source": [
    "arm.go(high_shelf_place)"
   ]
  },
  {
   "cell_type": "code",
   "execution_count": null,
   "id": "3779c738",
   "metadata": {},
   "outputs": [],
   "source": [
    "av=arm.get_current_joint_values()\n",
    "mid_shelf_place=av\n",
    "mid_shelf_place"
   ]
  },
  {
   "cell_type": "code",
   "execution_count": null,
   "id": "ed9ed98a",
   "metadata": {},
   "outputs": [],
   "source": [
    "av=arm.get_current_joint_values()\n",
    "low_shelf_place=av\n",
    "low_shelf_place"
   ]
  },
  {
   "cell_type": "code",
   "execution_count": null,
   "id": "0731ce32",
   "metadata": {},
   "outputs": [],
   "source": [
    "high_shelf_place,low_shelf_place,mid_shelf_place"
   ]
  },
  {
   "cell_type": "code",
   "execution_count": null,
   "id": "bb2b4422",
   "metadata": {},
   "outputs": [],
   "source": [
    "high_shelf_place=np.asarray([0.4337121304669095,\n",
    " -1.3139266720690426,\n",
    " 0.08621383272112926,\n",
    " -0.4260850221072081,\n",
    " 0.02285051353933021,\n",
    " 0.0])"
   ]
  },
  {
   "cell_type": "code",
   "execution_count": null,
   "id": "f33c79a5",
   "metadata": {},
   "outputs": [],
   "source": [
    "low_shelf_place=np.asarray([-5.465250513158978e-07,\n",
    " -1.8875162206087301,\n",
    " 0.08646571240675005,\n",
    " 0.3040738848075222,\n",
    " 0.022992974203400962,\n",
    " 0.0]\n",
    ")"
   ]
  },
  {
   "cell_type": "code",
   "execution_count": null,
   "id": "05a217f5",
   "metadata": {},
   "outputs": [],
   "source": [
    "high_shelf_place=np.asarray([0.15050079265248406,\n",
    " -0.5861087653247212,\n",
    " 0.0850017715788356,\n",
    " -0.9342371117035135,\n",
    " 0.022035143687695324,\n",
    " 0.0])\n",
    "mid_shelf_place=np.asarray([0.2556342351169577,\n",
    " -1.6040815280188854,\n",
    " -0.008078345343693893,\n",
    " -0.05795663028496589,\n",
    " 0.0019971082238159354,\n",
    " 0.0])\n",
    "\n",
    "low_shelf_place=np.asarray([0.04577467546491997,\n",
    " -2.262541528018885,\n",
    " 0.00010865465630605087,\n",
    " 0.701618369715034,\n",
    " -0.0003068917761841483,\n",
    " 0.0]\n",
    ")"
   ]
  },
  {
   "cell_type": "code",
   "execution_count": null,
   "id": "9df65843",
   "metadata": {},
   "outputs": [],
   "source": [
    "tf_man.getTF('placing_area_top_shelf1')"
   ]
  },
  {
   "cell_type": "code",
   "execution_count": null,
   "id": "612f6650",
   "metadata": {},
   "outputs": [],
   "source": [
    "request= segmentation_server.request_class() \n",
    "#r = cv2.getTrackbarPos('Plane height (cms)', 'class rgbd')\n",
    "#request.height.data=0.9\n",
    "print ('#############Finding placing in plane####################',request.height.data)\n",
    "request.height.data=-1\n",
    "#head.set_joint_values([ 0.1, -0.5])\n",
    "res=placing_finder_server.call(request)\n",
    "#succ=seg_res_tf(res)\n",
    "print (f'Placing Area at {res.poses.data}')\n",
    "tf_man.pub_static_tf(pos=[res.poses.data[0], res.poses.data[1],res.poses.data[2]], rot =[0,0,0,1], point_name='placing_area')\n",
    "img=bridge.imgmsg_to_cv2(res.im_out.image_msgs[0])\n",
    "#cv2.imshow('our of res'  , img)\n",
    "plt.imshow(img)"
   ]
  },
  {
   "cell_type": "code",
   "execution_count": null,
   "id": "04e45744",
   "metadata": {},
   "outputs": [],
   "source": [
    "tf_man.getTF('placing_area')"
   ]
  },
  {
   "cell_type": "code",
   "execution_count": null,
   "id": "b5e65db0",
   "metadata": {},
   "outputs": [],
   "source": [
    "head.set_named_target('neutral')"
   ]
  },
  {
   "cell_type": "code",
   "execution_count": null,
   "id": "a6cbdd8f",
   "metadata": {},
   "outputs": [],
   "source": [
    "arm.set_named_target('go')\n",
    "arm.go()"
   ]
  },
  {
   "cell_type": "code",
   "execution_count": null,
   "id": "91c290a8",
   "metadata": {},
   "outputs": [],
   "source": [
    "res = omni_base.move_base(known_location='place_shelf', time_out=10)"
   ]
  },
  {
   "cell_type": "code",
   "execution_count": null,
   "id": "ba4e0373",
   "metadata": {},
   "outputs": [],
   "source": [
    "high_shelf_place=[0.65,         -1.139,         0.08621,        -0.4260,        0.02285,         0.0]#REAL\n",
    "high_shelf_place=[0.4337,         -1.3139,         0.08621,        -0.4260,        0.02285,         0.0] #GAZ"
   ]
  },
  {
   "cell_type": "code",
   "execution_count": null,
   "id": "bf5fac40",
   "metadata": {},
   "outputs": [],
   "source": [
    "arm.set_joint_value_target(high_shelf_place)\n",
    "arm.go()"
   ]
  },
  {
   "cell_type": "code",
   "execution_count": null,
   "id": "3f9c3f0c",
   "metadata": {},
   "outputs": [],
   "source": [
    "def base_grasp_D(tf_name,d_x=0.66,d_y=-0.1,timeout=1.0):\n",
    "    timeout = rospy.Time.now().to_sec() + timeout\n",
    "    rob_pos,rot=tf_man.getTF('base_link')    \n",
    "    original_rot=tf.transformations.euler_from_quaternion(rot)[2]\n",
    "    succ = False \n",
    "    target_object= tf_name        \n",
    "    while (timeout >= rospy.Time.now().to_sec()) and not succ:            \n",
    "        _,rot= tf_man.getTF(\"base_link\",ref_frame='map')\n",
    "        trans,_=tf_man.getTF(target_object,ref_frame=\"base_link\")\n",
    "        #trans\n",
    "        eX, eY, eZ = trans\n",
    "        eX+= -d_x  #x offest\n",
    "        eY+= -d_y #y Offset\n",
    "        eT= tf.transformations.euler_from_quaternion(rot)[2] - original_rot #Original \n",
    "        print (eT)\n",
    "        if eT > np.pi: eT=-2*np.pi+eT\n",
    "        if eT < -np.pi: eT= 2*np.pi+eT\n",
    "        rospy.loginfo(\"error: {:.2f}, {:.2f}, angle {:.2f}, target obj frame {}\".format(eX, eY , eT,target_object))\n",
    "        X, Y, Z = trans\n",
    "        rospy.loginfo(\"Pose: {:.2f}, {:.2f}, angle {:.2f}, target obj frame {}\".format(X, Y , eT,target_object))\n",
    "        if abs(eX) <=0.05 :\n",
    "            print ('here')\n",
    "            eX = 0\n",
    "        if abs(eY) <=0.05  :\n",
    "            eY = 0\n",
    "        if abs(eT   ) < 0.1:\n",
    "            eT = 0\n",
    "        succ =  eX == 0 and eY == 0 and eT==0            \n",
    "        omni_base.tiny_move( velX=0.2*+eX,velY=0.3*eY, velT=-eT,std_time=0.2, MAX_VEL=0.3) \n",
    "\n",
    "    "
   ]
  },
  {
   "cell_type": "code",
   "execution_count": null,
   "id": "fab5aa52",
   "metadata": {},
   "outputs": [],
   "source": [
    "tf_man.getTF('placing_area')"
   ]
  },
  {
   "cell_type": "code",
   "execution_count": null,
   "id": "bd9383ff",
   "metadata": {},
   "outputs": [],
   "source": [
    "base_grasp_D(tf_name='placing_area')"
   ]
  },
  {
   "cell_type": "code",
   "execution_count": null,
   "id": "f73012ad",
   "metadata": {},
   "outputs": [],
   "source": [
    "base_grasp_D(tf_name='placing_area',d_x=0.76, d_y=0.0,timeout=30)"
   ]
  },
  {
   "cell_type": "code",
   "execution_count": null,
   "id": "b641cb9b",
   "metadata": {},
   "outputs": [],
   "source": [
    "gripper.open()"
   ]
  },
  {
   "cell_type": "code",
   "execution_count": null,
   "id": "4493f052",
   "metadata": {},
   "outputs": [],
   "source": [
    "target_object='placing_area'\n",
    "_,rot= tf_man.getTF(\"base_link\",ref_frame='map')\n",
    "trans,_=tf_man.getTF(target_object,ref_frame=\"base_link\")\n",
    "\n",
    " \n",
    "eX, eY, eZ = trans\n",
    "eT= tf.transformations.euler_from_quaternion(rot)[2] - original_rot #Original \n",
    "print (eT)\n",
    "if eT > np.pi: eT=-2*np.pi+eT\n",
    "if eT < -np.pi: eT= 2*np.pi+eT\n",
    "rospy.loginfo(\"error: {:.2f}, {:.2f}, angle {:.2f}, target obj frame {}\".format(eX, eY , eT,target_object))\n",
    "X, Y, Z = trans\n",
    "rospy.loginfo(\"Pose: {:.2f}, {:.2f}, angle {:.2f}, target obj frame {}\".format(X, Y , eT,target_object))"
   ]
  },
  {
   "cell_type": "code",
   "execution_count": null,
   "id": "68af5863",
   "metadata": {},
   "outputs": [],
   "source": [
    "omni_base.tiny_move( velX=0.1*+eX,velY=0.1*eY, velT=-eT,std_time=0.2, MAX_VEL=0.3) "
   ]
  },
  {
   "cell_type": "code",
   "execution_count": null,
   "id": "e1da1af9",
   "metadata": {},
   "outputs": [],
   "source": [
    "d_x=0.58\n",
    "d_y= 0.1\n",
    "_,rot= tf_man.getTF(\"base_link\",ref_frame='map')\n",
    "trans,_=tf_man.getTF(target_object,ref_frame=\"base_link\")\n",
    "#trans\n",
    "eX, eY, eZ = trans\n",
    "eX+= -d_x  #x offest\n",
    "eY+= -d_y #y Offset\n",
    "eT= tf.transformations.euler_from_quaternion(rot)[2] - original_rot #Original \n",
    "print (eT)\n",
    "if eT > np.pi: eT=-2*np.pi+eT\n",
    "if eT < -np.pi: eT= 2*np.pi+eT\n",
    "rospy.loginfo(\"error: {:.2f}, {:.2f}, angle {:.2f}, target obj frame {}\".format(eX, eY , eT,target_object))\n",
    "X, Y, Z = trans\n",
    "rospy.loginfo(\"Pose: {:.2f}, {:.2f}, angle {:.2f}, target obj frame {}\".format(X, Y , eT,target_object))\n",
    "if abs(eX) <=0.05 :\n",
    "    print ('here')\n",
    "    eX = 0\n",
    "if abs(eY) <=0.05  :\n",
    "    eY = 0\n",
    "if abs(eT   ) < 0.1:\n",
    "    eT = 0\n",
    "succ =  eX == 0 and eY == 0 and eT==0      \n",
    "succ\n",
    "#omni_base.tiny_move( velX=0.2*+eX,velY=0.3*eY, velT=-eT,std_time=0.2, MAX_VEL=0.3) \n"
   ]
  },
  {
   "cell_type": "code",
   "execution_count": null,
   "id": "d029794a",
   "metadata": {},
   "outputs": [],
   "source": [
    "omni_base.tiny_move( velX=0.1*+eX,velY=0.1*eY, velT=-eT,std_time=0.2, MAX_VEL=0.3) "
   ]
  },
  {
   "cell_type": "code",
   "execution_count": null,
   "id": "80e2250d",
   "metadata": {},
   "outputs": [],
   "source": [
    "arm.get_current_pose()"
   ]
  },
  {
   "cell_type": "code",
   "execution_count": null,
   "id": "54b3191e",
   "metadata": {},
   "outputs": [],
   "source": [
    "av=arm.get_current_joint_values()\n",
    "av[0]+=-0.1\n",
    "arm.go(av)"
   ]
  },
  {
   "cell_type": "code",
   "execution_count": null,
   "id": "8ce824e9",
   "metadata": {},
   "outputs": [],
   "source": [
    "arm.set_named_target('go')\n",
    "arm.go()"
   ]
  },
  {
   "cell_type": "code",
   "execution_count": null,
   "id": "3b268623",
   "metadata": {},
   "outputs": [],
   "source": [
    "omni_base.move_base('place_shelf')"
   ]
  },
  {
   "cell_type": "code",
   "execution_count": null,
   "id": "db9e7cf3",
   "metadata": {},
   "outputs": [],
   "source": [
    "whole_body.allow_replanning(True)\n",
    "whole_body.set_num_planning_attempts(10)\n",
    "whole_body.set_planning_time(10.0)\n",
    "whole_body.set_workspace([-2.0, -2.0, 0.0, 2.0, 2.0, 2.0])"
   ]
  },
  {
   "cell_type": "code",
   "execution_count": null,
   "id": "a5c6c444",
   "metadata": {},
   "outputs": [],
   "source": [
    "object_point = PointStamped()\n",
    "object_point"
   ]
  },
  {
   "cell_type": "code",
   "execution_count": null,
   "id": "6dc3cf21",
   "metadata": {},
   "outputs": [],
   "source": [
    "target_position=[1.0,1.0,1.0]\n",
    "object_point = PointStamped()\n",
    "object_point.header.frame_id = \"base_link\"\n",
    "object_point.point.x = target_position[0]\n",
    "object_point.point.y = target_position[1]\n",
    "object_point.point.z = target_position[2]\n",
    "#transformar la posicion del objeto al marco de referencia de la base del robot\n",
    "\n",
    "try:\n",
    "    transformed_object_point = tfBuffer.transform(object_point, \"base_link\", timeout=rospy.Duration(1))\n",
    "    transformed_base = self.tfBuffer.lookup_transform(\"odom\", \"base_link\", rospy.Time(0), timeout=rospy.Duration(1))\n",
    "except :\n",
    "    rospy.WARN(\"Error al transformar la posicion del objeto al marco de referencia\")\n"
   ]
  },
  {
   "cell_type": "code",
   "execution_count": null,
   "id": "81ab79d6",
   "metadata": {},
   "outputs": [],
   "source": [
    "tfBuffer.transform(object_point,'base_link',timeout=rospy.Duration(3))"
   ]
  },
  {
   "cell_type": "code",
   "execution_count": null,
   "id": "314d902d",
   "metadata": {},
   "outputs": [],
   "source": [
    "whole_body.set_start_state_to_current_state()\n",
    "whole_body.set_position_target(position_goal)\n",
    "succ = whole_body.go(wait= True)\n",
    "rospy.sleep(0.5)\n",
    "whole_body.stop()"
   ]
  },
  {
   "cell_type": "code",
   "execution_count": null,
   "id": "33d84152",
   "metadata": {},
   "outputs": [],
   "source": [
    "tfBuffer = tf2_ros.Buffer()\n"
   ]
  },
  {
   "cell_type": "code",
   "execution_count": null,
   "id": "4a92e0bb",
   "metadata": {},
   "outputs": [],
   "source": [
    "omni_base.move_base(known_location='pickup', time_out=200)"
   ]
  },
  {
   "cell_type": "code",
   "execution_count": null,
   "id": "ca5197db",
   "metadata": {},
   "outputs": [],
   "source": [
    "head.set_joint_values([ 0.0, -0.5])\n"
   ]
  },
  {
   "cell_type": "code",
   "execution_count": null,
   "id": "baefc4e8",
   "metadata": {},
   "outputs": [],
   "source": [
    "img_msg  = bridge.cv2_to_imgmsg( cv2.cvtColor(rgbd.get_image(), cv2.COLOR_RGB2BGR))### GAZEBO BGR!?!??!\n",
    "req      = classify_client.request_class()\n",
    "req.in_.image_msgs.append(img_msg)\n",
    "res      = classify_client(req)\n",
    "objects=detect_object_yolo('all',res)   "
   ]
  },
  {
   "cell_type": "code",
   "execution_count": null,
   "id": "355d476a",
   "metadata": {},
   "outputs": [],
   "source": [
    "rospack = rospkg.RosPack()\n",
    "file_path = rospack.get_path('config_files') \n",
    "objs = pd.read_csv (file_path+'/objects.csv')\n",
    "objs=objs.drop(columns='Unnamed: 0')\n",
    "print (objs)"
   ]
  },
  {
   "cell_type": "code",
   "execution_count": null,
   "id": "92497000",
   "metadata": {},
   "outputs": [],
   "source": [
    "def check_if_grasped(pose_target,test_pt,tolerance=0.05):    \n",
    "    return np.linalg.norm(pose_target-obj_pt)<tolerance"
   ]
  },
  {
   "cell_type": "code",
   "execution_count": null,
   "id": "9d338e3f",
   "metadata": {},
   "outputs": [],
   "source": [
    "np.linalg.norm(pose_target-obj_pt)"
   ]
  },
  {
   "cell_type": "code",
   "execution_count": null,
   "id": "f207863e",
   "metadata": {},
   "outputs": [],
   "source": [
    "test_pt=objs[objs['obj_name']=='orange'][['x','y','z']].values\n",
    "check_if_grasped(pose_target,test_pt)"
   ]
  },
  {
   "cell_type": "code",
   "execution_count": null,
   "id": "ebcd3214",
   "metadata": {},
   "outputs": [],
   "source": [
    "def check_if_grasped(pose_target,test_pt,tolerance=0.05):return np.linalg.norm(pose_target-test_pt)<tolerance\n",
    "\n",
    "\n",
    "##############################\n",
    "pose_target,_=tf_man.getTF('plum')\n",
    "#########################\n",
    "\n",
    "if len (objects)!=0 :\n",
    "    for i in range(len(res.poses)):\n",
    "        \n",
    "        position = [res.poses[i].position.x ,res.poses[i].position.y,res.poses[i].position.z]\n",
    "        \n",
    "        object_point = PointStamped()\n",
    "        object_point.header.frame_id = \"head_rgbd_sensor_rgb_frame\"\n",
    "        object_point.point.x = position[0]\n",
    "        object_point.point.y = position[1]\n",
    "        object_point.point.z = position[2]\n",
    "        position_map = tfBuffer.transform(object_point, \"map\", timeout=rospy.Duration(1))\n",
    "        \n",
    "        tf_man.pub_static_tf(pos= [position_map.point.x,position_map.point.y,position_map.point.z], rot=[0,0,0,1], ref=\"map\", point_name=res.names[i].data[4:] )\n",
    "        test_pt=np.asarray((position_map.point.x,position_map.point.y,position_map.point.z))\n",
    "        print (np.linalg.norm(pose_target-test_pt))\n",
    "        if check_if_grasped(pose_target,test_pt):\n",
    "            print (f'Centroid found in area {test_pt}, obj_name: {res.names[i].data[4:]}')\n",
    "            print ('Grasping May have failed')\n",
    "        \n",
    "        \n",
    "        \n",
    "        \n",
    "        "
   ]
  },
  {
   "cell_type": "code",
   "execution_count": null,
   "id": "69dcd095",
   "metadata": {},
   "outputs": [],
   "source": [
    "\n",
    "if len (objects)!=0 :\n",
    "    for i in range(len(res.poses)):\n",
    "        #tf_man.getTF(\"head_rgbd_sensor_rgb_frame\")\n",
    "        position = [res.poses[i].position.x ,res.poses[i].position.y,res.poses[i].position.z]\n",
    "        print ('position,name',position,res.names[i].data[4:])\n",
    "        ##########################################################\n",
    "\n",
    "        object_point = PointStamped()\n",
    "        object_point.header.frame_id = \"head_rgbd_sensor_rgb_frame\"\n",
    "        object_point.point.x = position[0]\n",
    "        object_point.point.y = position[1]\n",
    "        object_point.point.z = position[2]\n",
    "        position_map = tfBuffer.transform(object_point, \"map\", timeout=rospy.Duration(1))\n",
    "        \n",
    "        \n",
    "        \n",
    "        print ('position_map',position_map)\n",
    "        tf_man.pub_static_tf(pos= [position_map.point.x,position_map.point.y,position_map.point.z], rot=[0,0,0,1], ref=\"map\", point_name=res.names[i].data[4:] )\n",
    "        new_row = {'x': position_map.point.x, 'y': position_map.point.y, 'z': position_map.point.z, 'obj_name': res.names[i].data[4:]}\n",
    "        objs.loc[len(objs)] = new_row\n",
    "        ###########################################################"
   ]
  },
  {
   "cell_type": "code",
   "execution_count": null,
   "id": "7213e981",
   "metadata": {},
   "outputs": [],
   "source": [
    "head.to_tf('plum')"
   ]
  },
  {
   "cell_type": "code",
   "execution_count": null,
   "id": "818163ac",
   "metadata": {},
   "outputs": [],
   "source": [
    "base_grasp_D('plum',timeout=30)"
   ]
  },
  {
   "cell_type": "code",
   "execution_count": null,
   "id": "98bd574c",
   "metadata": {},
   "outputs": [],
   "source": [
    "objs['x']"
   ]
  },
  {
   "cell_type": "code",
   "execution_count": null,
   "id": "a5f37b3c",
   "metadata": {},
   "outputs": [],
   "source": [
    "obj_pt=np.asarray((position_map.point.x,\n",
    "position_map.point.y,\n",
    "position_map.point.z))\n",
    "\n",
    "if np.linalg.norm(pose_target-obj_pt)<0.05:print ('I say chale man')"
   ]
  },
  {
   "cell_type": "code",
   "execution_count": null,
   "id": "ba3bb248",
   "metadata": {},
   "outputs": [],
   "source": [
    "pose_target,_=tf_man.getTF('plum')"
   ]
  },
  {
   "cell_type": "code",
   "execution_count": null,
   "id": "cdda717a",
   "metadata": {},
   "outputs": [],
   "source": [
    "objs['x']"
   ]
  },
  {
   "cell_type": "code",
   "execution_count": null,
   "id": "e208afff",
   "metadata": {},
   "outputs": [],
   "source": [
    "\n",
    "np.linalg.norm(pose_target-obj_pt)"
   ]
  },
  {
   "cell_type": "code",
   "execution_count": null,
   "id": "dd25f01a",
   "metadata": {},
   "outputs": [],
   "source": [
    "pose_target"
   ]
  },
  {
   "cell_type": "code",
   "execution_count": null,
   "id": "8258cc58",
   "metadata": {},
   "outputs": [],
   "source": [
    "obj_pt"
   ]
  },
  {
   "cell_type": "code",
   "execution_count": null,
   "id": "b6b6ea7a",
   "metadata": {},
   "outputs": [],
   "source": [
    "av=arm.get_current_joint_values()\n",
    "av"
   ]
  },
  {
   "cell_type": "code",
   "execution_count": null,
   "id": "af884760",
   "metadata": {},
   "outputs": [],
   "source": [
    "brazo.set_joint_values(av[:-1])"
   ]
  },
  {
   "cell_type": "code",
   "execution_count": null,
   "id": "be886615",
   "metadata": {},
   "outputs": [],
   "source": [
    "av= arm.get_current_joint_values()"
   ]
  },
  {
   "cell_type": "code",
   "execution_count": null,
   "id": "da92757d",
   "metadata": {},
   "outputs": [],
   "source": [
    "av"
   ]
  },
  {
   "cell_type": "code",
   "execution_count": null,
   "id": "b210e1f8",
   "metadata": {},
   "outputs": [],
   "source": [
    "head.set_joint_values([0.0 , 0.0])\n",
    "av=arm.get_current_joint_values()\n",
    "av[0]=0.67\n",
    "av[1]=-0.74\n",
    "arm.go(av)\n",
    "head.set_joint_values([-np.pi/2 , -0.7])     "
   ]
  },
  {
   "cell_type": "code",
   "execution_count": null,
   "id": "7cc842d6",
   "metadata": {},
   "outputs": [],
   "source": [
    "rospack = rospkg.RosPack()        \n",
    "file_path = rospack.get_path('config_files') \n",
    "objs = pd.read_csv (file_path+'/objects.csv') #EMPTY DATAFRAME\n",
    "objs=objs.drop(columns='Unnamed: 0')\n",
    "print (objs)\n",
    "file_path = rospack.get_path('config_files')+'/regions'         \n",
    "regions={'shelves':np.load(file_path+'/shelves_region.npy'),'pickup':np.load(file_path+'/pickup_region.npy')}   ## KNOWN REGIONS\n",
    "print (f'Regions for Storing Groceries(Real Robot) {regions}')\n",
    "##TO AVOID SMACH DYING IN CASE NO PLACING AREA IS FOUND, THere is a default that at least allows the test to continue\n",
    "x,y= np.mean(regions['shelves'], axis=0)\n",
    "z=0.44#self.mid_shelf_height=0.4 shelves heights must also be set on SCAN SHELF  state init section."
   ]
  },
  {
   "cell_type": "code",
   "execution_count": null,
   "id": "1118bdfc",
   "metadata": {},
   "outputs": [],
   "source": [
    "tf_man.pub_static_tf(pos=[x,y,0.89],point_name='top_shelf')\n",
    "tf_man.pub_static_tf(pos=[x,y,0.42],point_name='mid_shelf')\n",
    "tf_man.pub_static_tf(pos=[x,y,0.05],point_name='low_shelf')\n",
    "#head.to_tf()"
   ]
  },
  {
   "cell_type": "code",
   "execution_count": null,
   "id": "ee770f35",
   "metadata": {},
   "outputs": [],
   "source": [
    "head.to_tf('low_shelf')"
   ]
  },
  {
   "cell_type": "code",
   "execution_count": null,
   "id": "5f66e066",
   "metadata": {},
   "outputs": [],
   "source": [
    "head.set_joint_values([-0.3,-0.47])"
   ]
  },
  {
   "cell_type": "code",
   "execution_count": null,
   "id": "71e84aec",
   "metadata": {},
   "outputs": [],
   "source": [
    "d_x=0.66\n",
    "d_y=-0.1\n",
    "timeout=1.0\n",
    "rob_pos,rot=tf_man.getTF('base_link')    \n",
    "original_rot=tf.transformations.euler_from_quaternion(rot)[2]\n",
    "succ = False \n",
    "target_object= 'placing_area'        "
   ]
  },
  {
   "cell_type": "code",
   "execution_count": null,
   "id": "e7b88a80",
   "metadata": {},
   "outputs": [],
   "source": [
    "\n",
    "i=0\n",
    "while  not succ and not rospy.is_shutdown():\n",
    "    i+=1\n",
    "    _,rot= tf_man.getTF(\"base_link\",ref_frame='map')\n",
    "    trans,_=tf_man.getTF(target_object,ref_frame=\"base_link\")\n",
    "    #trans\n",
    "    eX, eY, eZ = trans\n",
    "    eX+= -d_x  #x offest\n",
    "    eY+= -d_y #y Offset\n",
    "    eT= tf.transformations.euler_from_quaternion(rot)[2] - original_rot #Original \n",
    "\n",
    "    rospy.loginfo(\"error: {:.2f}, {:.2f}, angle {:.2f}, target obj frame {}\".format(eX, eY , eT,target_object))\n",
    "    #if eT > np.pi: eT=-2*np.pi+eT    #  angle error constricted to values between pi and -pi  \n",
    "    #if eT < -np.pi: eT= 2*np.pi+eT   \n",
    "    eT = (eT + np.pi) % (2 * np.pi) - np.pi\n",
    "\n",
    "    X, Y, Z = trans\n",
    "    rospy.loginfo(\"Pose: {:.2f}, {:.2f}, angle {:.2f}, target obj frame {}\".format(X, Y , eT,target_object))\n",
    "    if abs(eX) <=0.05 :\n",
    "        print ('here')\n",
    "        eX = 0\n",
    "    if abs(eY) <=0.05  :\n",
    "        eY = 0\n",
    "    if abs(eT   ) < 0.03:\n",
    "        eT = 0\n",
    "    succ =  eX == 0 and eY == 0 and eT==0         \n",
    "    velX=0.2*eX\n",
    "    velY=0.3*eY\n",
    "    ############################################\n",
    "    if   velX <= 0: corr_velX= min (-0.0051,velX)\n",
    "    elif velX >  0: corr_velX= max ( 0.0051,velX)\n",
    "    if   velY <= 0: corr_velY= min (-0.0051,velY)\n",
    "    elif velY >  0: corr_velY= max ( 0.005,velY)\n",
    "    #############################################\n",
    "    if i %3 ==0 :\n",
    "        print(\"Pose: {:.2f}, {:.2f}, angle {:.2f}, target obj frame {}\".format(X, Y , eT,target_object))\n",
    "        i=0\n",
    "    omni_base.tiny_move( velX=corr_velX,velY=corr_velY, velT=-eT,std_time=0.2, MAX_VEL=0.3) \n",
    "\n",
    "    "
   ]
  },
  {
   "cell_type": "code",
   "execution_count": null,
   "id": "f06e3229",
   "metadata": {},
   "outputs": [],
   "source": [
    "omni_base.tiny_move( velX=corr_velX,velY=corr_velY, velT=-eT,std_time=0.2, MAX_VEL=0.5, MAX_VEL_THETA=0.3) "
   ]
  },
  {
   "cell_type": "code",
   "execution_count": null,
   "id": "24e187e1",
   "metadata": {},
   "outputs": [],
   "source": []
  },
  {
   "cell_type": "code",
   "execution_count": null,
   "id": "02b8af39",
   "metadata": {},
   "outputs": [],
   "source": [
    "\n",
    "succ=False\n",
    "THRESHOLD = 0.03\n",
    "_, rot  = tf_man.getTF(\"base_link\",ref_frame='map')\n",
    "original_rot=tf.transformations.euler_from_quaternion(rot)[2]\n",
    "    "
   ]
  },
  {
   "cell_type": "code",
   "execution_count": null,
   "id": "5e776cba",
   "metadata": {},
   "outputs": [],
   "source": [
    "\n",
    "while  not succ and not rospy.is_shutdown():\n",
    "    trans,_ = tf_man.getTF(target_frame='placing_area', ref_frame='hand_palm_link')\n",
    "    _, rot  = tf_man.getTF(\"base_link\",ref_frame='map')\n",
    "\n",
    "    if type(trans) is not bool:\n",
    "        _, eY, eX = trans\n",
    "\n",
    "    if abs(eY) < THRESHOLD:\n",
    "        eY = 0\n",
    "    if abs(eX) < THRESHOLD:\n",
    "        eX = 0\n",
    "    eT= tf.transformations.euler_from_quaternion(rot)[2] - original_rot #Original \n",
    "\n",
    "    eT = (eT + np.pi) % (2 * np.pi) - np.pi\n",
    "\n",
    "    print(\"error: {:.2f}, {:.2f}, angle {:.2f}, target obj frame placing area\".format(eX, eY , eT))\n",
    "    if eT > np.pi: eT=-2*np.pi+eT\n",
    "    if eT < -np.pi: eT= 2*np.pi+eT\n",
    "    if abs(eT) < 0.05:\n",
    "        eT=0\n",
    "\n",
    "    if eX >0: velX = max( 0.005,eX)\n",
    "    if eX <=0: velX = min(-0.005,eX)\n",
    "    if eY >0: velY = max( 0.005,eY)\n",
    "    if eY <=0: velY = min(-0.005,eY)\n",
    "    print(\"error: {:.2f}, {:.2f}, angle {:.2f}, target obj frame placing area\".format(eX, eY , eT))\n",
    "    succ =  eX == 0 and eY == 0 and eT==0            \n",
    "    omni_base.tiny_move( velX=0.1*velX,velY=-0.4*velY, velT=-eT,std_time=0.2, MAX_VEL=0.1, MAX_VEL_THETA=0.1) \n"
   ]
  },
  {
   "cell_type": "code",
   "execution_count": null,
   "id": "8f2969da",
   "metadata": {},
   "outputs": [],
   "source": [
    "omni_base.tiny_move( velX=0.1*velX,velY=-0.4*velY, velT=-eT,std_time=0.2, MAX_VEL=0.1, MAX_VEL_THETA=0.1) \n"
   ]
  },
  {
   "cell_type": "code",
   "execution_count": null,
   "id": "1cbf7c37",
   "metadata": {},
   "outputs": [],
   "source": [
    "#omni_base.tiny_move( velX=-1,std_time=1.5,MAX_VEL=1) "
   ]
  },
  {
   "cell_type": "code",
   "execution_count": null,
   "id": "c5029d01",
   "metadata": {},
   "outputs": [],
   "source": [
    "av=arm.get_current_joint_values()\n",
    "av"
   ]
  },
  {
   "cell_type": "code",
   "execution_count": null,
   "id": "244a93ac",
   "metadata": {},
   "outputs": [],
   "source": [
    "av=arm.get_current_joint_values()\n",
    "av"
   ]
  },
  {
   "cell_type": "code",
   "execution_count": null,
   "id": "dcd877ca",
   "metadata": {},
   "outputs": [],
   "source": [
    " transformed_object_point = self.tf2_buffer.transform(object_point, \"odom\", timeout=rospy.Duration(1))"
   ]
  },
  {
   "cell_type": "code",
   "execution_count": 2,
   "id": "6581a015",
   "metadata": {},
   "outputs": [],
   "source": [
    "tf_man.pub_static_tf(pos=[4.96,1.41,0],rot=[0,0,0.707,0.707],point_name='pikcup')"
   ]
  },
  {
   "cell_type": "code",
   "execution_count": 3,
   "id": "9f06e40b",
   "metadata": {},
   "outputs": [],
   "source": [
    "pose, quat=tf_man.getTF('pikcup')"
   ]
  },
  {
   "cell_type": "code",
   "execution_count": 8,
   "id": "3e071005",
   "metadata": {},
   "outputs": [],
   "source": [
    "offset_point=[0.3,0.0,0.01]          # Offset relative to object tf\n",
    "        "
   ]
  },
  {
   "cell_type": "code",
   "execution_count": 9,
   "id": "b41454c6",
   "metadata": {},
   "outputs": [],
   "source": [
    "object_point = PointStamped()\n",
    "object_point.header.frame_id = \"pikcup\"#\"base_link\"\n",
    "object_point.point.x = offset_point[0]\n",
    "object_point.point.y = offset_point[1]\n",
    "object_point.point.z = offset_point[2]\n",
    "\n"
   ]
  },
  {
   "cell_type": "code",
   "execution_count": 10,
   "id": "08bed0ab",
   "metadata": {},
   "outputs": [
    {
     "name": "stderr",
     "output_type": "stream",
     "text": [
      "\u001b[33m[ WARN] [1716695051.232967007]: TF_REPEATED_DATA ignoring data with redundant timestamp for frame odom at time 663.496000 according to authority /pose_integrator\u001b[0m\n",
      "\u001b[33m[ WARN] [1716695051.233016625]: TF_REPEATED_DATA ignoring data with redundant timestamp for frame odom at time 663.496000 according to authority /pose_integrator\u001b[0m\n",
      "\u001b[33m[ WARN] [1716695051.233055029]: TF_REPEATED_DATA ignoring data with redundant timestamp for frame odom at time 663.496000 according to authority /pose_integrator\u001b[0m\n",
      "\u001b[33m[ WARN] [1716695051.233086759]: TF_REPEATED_DATA ignoring data with redundant timestamp for frame odom at time 663.496000 according to authority /pose_integrator\u001b[0m\n",
      "\u001b[33m[ WARN] [1716695051.233128328]: TF_REPEATED_DATA ignoring data with redundant timestamp for frame odom at time 663.496000 according to authority /pose_integrator\u001b[0m\n",
      "\u001b[33m[ WARN] [1716695051.233167321]: TF_REPEATED_DATA ignoring data with redundant timestamp for frame odom at time 663.496000 according to authority /pose_integrator\u001b[0m\n",
      "\u001b[33m[ WARN] [1716695252.007051654]: TF_REPEATED_DATA ignoring data with redundant timestamp for frame odom at time 715.513000 according to authority /pose_integrator\u001b[0m\n",
      "\u001b[33m[ WARN] [1716695252.007122823]: TF_REPEATED_DATA ignoring data with redundant timestamp for frame odom at time 715.513000 according to authority /pose_integrator\u001b[0m\n",
      "\u001b[33m[ WARN] [1716695252.007157923]: TF_REPEATED_DATA ignoring data with redundant timestamp for frame odom at time 715.513000 according to authority /pose_integrator\u001b[0m\n",
      "\u001b[33m[ WARN] [1716695252.007198104]: TF_REPEATED_DATA ignoring data with redundant timestamp for frame odom at time 715.513000 according to authority /pose_integrator\u001b[0m\n",
      "\u001b[33m[ WARN] [1716695252.007238731]: TF_REPEATED_DATA ignoring data with redundant timestamp for frame odom at time 715.513000 according to authority /pose_integrator\u001b[0m\n",
      "\u001b[33m[ WARN] [1716695252.007280292]: TF_REPEATED_DATA ignoring data with redundant timestamp for frame odom at time 715.513000 according to authority /pose_integrator\u001b[0m\n",
      "\u001b[33m[ WARN] [1716695255.976549160]: TF_REPEATED_DATA ignoring data with redundant timestamp for frame odom at time 716.595000 according to authority /pose_integrator\u001b[0m\n",
      "\u001b[33m[ WARN] [1716695255.976607939]: TF_REPEATED_DATA ignoring data with redundant timestamp for frame odom at time 716.595000 according to authority /pose_integrator\u001b[0m\n",
      "\u001b[33m[ WARN] [1716695255.976647114]: TF_REPEATED_DATA ignoring data with redundant timestamp for frame odom at time 716.595000 according to authority /pose_integrator\u001b[0m\n",
      "\u001b[33m[ WARN] [1716695255.976685361]: TF_REPEATED_DATA ignoring data with redundant timestamp for frame odom at time 716.595000 according to authority /pose_integrator\u001b[0m\n",
      "\u001b[33m[ WARN] [1716695255.976720009]: TF_REPEATED_DATA ignoring data with redundant timestamp for frame odom at time 716.595000 according to authority /pose_integrator\u001b[0m\n",
      "\u001b[33m[ WARN] [1716695255.976751469]: TF_REPEATED_DATA ignoring data with redundant timestamp for frame odom at time 716.595000 according to authority /pose_integrator\u001b[0m\n",
      "\u001b[33m[ WARN] [1716695281.314637593]: TF_REPEATED_DATA ignoring data with redundant timestamp for frame odom at time 723.702000 according to authority /pose_integrator\u001b[0m\n",
      "\u001b[33m[ WARN] [1716695281.314689530]: TF_REPEATED_DATA ignoring data with redundant timestamp for frame odom at time 723.702000 according to authority /pose_integrator\u001b[0m\n",
      "\u001b[33m[ WARN] [1716695281.314732055]: TF_REPEATED_DATA ignoring data with redundant timestamp for frame odom at time 723.702000 according to authority /pose_integrator\u001b[0m\n",
      "\u001b[33m[ WARN] [1716695281.314772577]: TF_REPEATED_DATA ignoring data with redundant timestamp for frame odom at time 723.702000 according to authority /pose_integrator\u001b[0m\n",
      "\u001b[33m[ WARN] [1716695281.314812928]: TF_REPEATED_DATA ignoring data with redundant timestamp for frame odom at time 723.702000 according to authority /pose_integrator\u001b[0m\n",
      "\u001b[33m[ WARN] [1716695281.314854381]: TF_REPEATED_DATA ignoring data with redundant timestamp for frame odom at time 723.702000 according to authority /pose_integrator\u001b[0m\n",
      "\u001b[33m[ WARN] [1716695281.660711323]: TF_REPEATED_DATA ignoring data with redundant timestamp for frame odom at time 723.801000 according to authority /pose_integrator\u001b[0m\n",
      "\u001b[33m[ WARN] [1716695281.660773134]: TF_REPEATED_DATA ignoring data with redundant timestamp for frame odom at time 723.801000 according to authority /pose_integrator\u001b[0m\n",
      "\u001b[33m[ WARN] [1716695281.660819228]: TF_REPEATED_DATA ignoring data with redundant timestamp for frame odom at time 723.801000 according to authority /pose_integrator\u001b[0m\n",
      "\u001b[33m[ WARN] [1716695281.660859572]: TF_REPEATED_DATA ignoring data with redundant timestamp for frame odom at time 723.801000 according to authority /pose_integrator\u001b[0m\n",
      "\u001b[33m[ WARN] [1716695281.660900176]: TF_REPEATED_DATA ignoring data with redundant timestamp for frame odom at time 723.801000 according to authority /pose_integrator\u001b[0m\n",
      "\u001b[33m[ WARN] [1716695281.660938552]: TF_REPEATED_DATA ignoring data with redundant timestamp for frame odom at time 723.801000 according to authority /pose_integrator\u001b[0m\n",
      "\u001b[33m[ WARN] [1716695320.021327654]: TF_REPEATED_DATA ignoring data with redundant timestamp for frame odom at time 734.361000 according to authority /pose_integrator\u001b[0m\n",
      "\u001b[33m[ WARN] [1716695320.021374631]: TF_REPEATED_DATA ignoring data with redundant timestamp for frame odom at time 734.361000 according to authority /pose_integrator\u001b[0m\n",
      "\u001b[33m[ WARN] [1716695320.021403077]: TF_REPEATED_DATA ignoring data with redundant timestamp for frame odom at time 734.361000 according to authority /pose_integrator\u001b[0m\n",
      "\u001b[33m[ WARN] [1716695320.021457544]: TF_REPEATED_DATA ignoring data with redundant timestamp for frame odom at time 734.361000 according to authority /pose_integrator\u001b[0m\n",
      "\u001b[33m[ WARN] [1716695320.021501309]: TF_REPEATED_DATA ignoring data with redundant timestamp for frame odom at time 734.361000 according to authority /pose_integrator\u001b[0m\n",
      "\u001b[33m[ WARN] [1716695320.021539938]: TF_REPEATED_DATA ignoring data with redundant timestamp for frame odom at time 734.361000 according to authority /pose_integrator\u001b[0m\n",
      "\u001b[33m[ WARN] [1716695373.168884518]: TF_REPEATED_DATA ignoring data with redundant timestamp for frame odom at time 748.654000 according to authority /pose_integrator\u001b[0m\n",
      "\u001b[33m[ WARN] [1716695373.168936606]: TF_REPEATED_DATA ignoring data with redundant timestamp for frame odom at time 748.654000 according to authority /pose_integrator\u001b[0m\n",
      "\u001b[33m[ WARN] [1716695373.168970225]: TF_REPEATED_DATA ignoring data with redundant timestamp for frame odom at time 748.654000 according to authority /pose_integrator\u001b[0m\n",
      "\u001b[33m[ WARN] [1716695373.169002357]: TF_REPEATED_DATA ignoring data with redundant timestamp for frame odom at time 748.654000 according to authority /pose_integrator\u001b[0m\n",
      "\u001b[33m[ WARN] [1716695373.169039007]: TF_REPEATED_DATA ignoring data with redundant timestamp for frame odom at time 748.654000 according to authority /pose_integrator\u001b[0m\n",
      "\u001b[33m[ WARN] [1716695373.169068513]: TF_REPEATED_DATA ignoring data with redundant timestamp for frame odom at time 748.654000 according to authority /pose_integrator\u001b[0m\n",
      "\u001b[33m[ WARN] [1716695382.478776895]: TF_REPEATED_DATA ignoring data with redundant timestamp for frame odom at time 750.883000 according to authority /pose_integrator\u001b[0m\n",
      "\u001b[33m[ WARN] [1716695382.478825062]: TF_REPEATED_DATA ignoring data with redundant timestamp for frame odom at time 750.883000 according to authority /pose_integrator\u001b[0m\n",
      "\u001b[33m[ WARN] [1716695382.478861676]: TF_REPEATED_DATA ignoring data with redundant timestamp for frame odom at time 750.883000 according to authority /pose_integrator\u001b[0m\n",
      "\u001b[33m[ WARN] [1716695382.478892776]: TF_REPEATED_DATA ignoring data with redundant timestamp for frame odom at time 750.883000 according to authority /pose_integrator\u001b[0m\n",
      "\u001b[33m[ WARN] [1716695382.478923405]: TF_REPEATED_DATA ignoring data with redundant timestamp for frame odom at time 750.883000 according to authority /pose_integrator\u001b[0m\n",
      "\u001b[33m[ WARN] [1716695382.478951014]: TF_REPEATED_DATA ignoring data with redundant timestamp for frame odom at time 750.883000 according to authority /pose_integrator\u001b[0m\n"
     ]
    },
    {
     "name": "stderr",
     "output_type": "stream",
     "text": [
      "\u001b[33m[ WARN] [1716695383.571807386]: TF_REPEATED_DATA ignoring data with redundant timestamp for frame odom at time 751.179000 according to authority /pose_integrator\u001b[0m\n",
      "\u001b[33m[ WARN] [1716695383.571857394]: TF_REPEATED_DATA ignoring data with redundant timestamp for frame odom at time 751.179000 according to authority /pose_integrator\u001b[0m\n",
      "\u001b[33m[ WARN] [1716695383.571889301]: TF_REPEATED_DATA ignoring data with redundant timestamp for frame odom at time 751.179000 according to authority /pose_integrator\u001b[0m\n",
      "\u001b[33m[ WARN] [1716695383.571919434]: TF_REPEATED_DATA ignoring data with redundant timestamp for frame odom at time 751.179000 according to authority /pose_integrator\u001b[0m\n",
      "\u001b[33m[ WARN] [1716695383.571951073]: TF_REPEATED_DATA ignoring data with redundant timestamp for frame odom at time 751.179000 according to authority /pose_integrator\u001b[0m\n",
      "\u001b[33m[ WARN] [1716695383.571988048]: TF_REPEATED_DATA ignoring data with redundant timestamp for frame odom at time 751.179000 according to authority /pose_integrator\u001b[0m\n",
      "\u001b[33m[ WARN] [1716695393.348495036]: TF_REPEATED_DATA ignoring data with redundant timestamp for frame odom at time 753.913000 according to authority /pose_integrator\u001b[0m\n",
      "\u001b[33m[ WARN] [1716695393.348556233]: TF_REPEATED_DATA ignoring data with redundant timestamp for frame odom at time 753.913000 according to authority /pose_integrator\u001b[0m\n",
      "\u001b[33m[ WARN] [1716695393.348586723]: TF_REPEATED_DATA ignoring data with redundant timestamp for frame odom at time 753.913000 according to authority /pose_integrator\u001b[0m\n",
      "\u001b[33m[ WARN] [1716695393.348612318]: TF_REPEATED_DATA ignoring data with redundant timestamp for frame odom at time 753.913000 according to authority /pose_integrator\u001b[0m\n",
      "\u001b[33m[ WARN] [1716695393.348650932]: TF_REPEATED_DATA ignoring data with redundant timestamp for frame odom at time 753.913000 according to authority /pose_integrator\u001b[0m\n",
      "\u001b[33m[ WARN] [1716695393.348678565]: TF_REPEATED_DATA ignoring data with redundant timestamp for frame odom at time 753.913000 according to authority /pose_integrator\u001b[0m\n",
      "\u001b[33m[ WARN] [1716695506.168341028]: TF_REPEATED_DATA ignoring data with redundant timestamp for frame odom at time 784.907000 according to authority /pose_integrator\u001b[0m\n",
      "\u001b[33m[ WARN] [1716695506.168395655]: TF_REPEATED_DATA ignoring data with redundant timestamp for frame odom at time 784.907000 according to authority /pose_integrator\u001b[0m\n",
      "\u001b[33m[ WARN] [1716695506.168440697]: TF_REPEATED_DATA ignoring data with redundant timestamp for frame odom at time 784.907000 according to authority /pose_integrator\u001b[0m\n",
      "\u001b[33m[ WARN] [1716695506.168477111]: TF_REPEATED_DATA ignoring data with redundant timestamp for frame odom at time 784.907000 according to authority /pose_integrator\u001b[0m\n",
      "\u001b[33m[ WARN] [1716695506.168515598]: TF_REPEATED_DATA ignoring data with redundant timestamp for frame odom at time 784.907000 according to authority /pose_integrator\u001b[0m\n",
      "\u001b[33m[ WARN] [1716695506.168554275]: TF_REPEATED_DATA ignoring data with redundant timestamp for frame odom at time 784.907000 according to authority /pose_integrator\u001b[0m\n",
      "\u001b[33m[ WARN] [1716695594.048169924]: TF_REPEATED_DATA ignoring data with redundant timestamp for frame odom at time 809.184000 according to authority /pose_integrator\u001b[0m\n",
      "\u001b[33m[ WARN] [1716695594.048223497]: TF_REPEATED_DATA ignoring data with redundant timestamp for frame odom at time 809.184000 according to authority /pose_integrator\u001b[0m\n",
      "\u001b[33m[ WARN] [1716695594.048261577]: TF_REPEATED_DATA ignoring data with redundant timestamp for frame odom at time 809.184000 according to authority /pose_integrator\u001b[0m\n",
      "\u001b[33m[ WARN] [1716695594.048291620]: TF_REPEATED_DATA ignoring data with redundant timestamp for frame odom at time 809.184000 according to authority /pose_integrator\u001b[0m\n",
      "\u001b[33m[ WARN] [1716695594.048319245]: TF_REPEATED_DATA ignoring data with redundant timestamp for frame odom at time 809.184000 according to authority /pose_integrator\u001b[0m\n",
      "\u001b[33m[ WARN] [1716695594.048354457]: TF_REPEATED_DATA ignoring data with redundant timestamp for frame odom at time 809.184000 according to authority /pose_integrator\u001b[0m\n",
      "\u001b[33m[ WARN] [1716695610.054170058]: TF_REPEATED_DATA ignoring data with redundant timestamp for frame odom at time 813.412000 according to authority /pose_integrator\u001b[0m\n",
      "\u001b[33m[ WARN] [1716695610.054222402]: TF_REPEATED_DATA ignoring data with redundant timestamp for frame odom at time 813.412000 according to authority /pose_integrator\u001b[0m\n",
      "\u001b[33m[ WARN] [1716695610.054257289]: TF_REPEATED_DATA ignoring data with redundant timestamp for frame odom at time 813.412000 according to authority /pose_integrator\u001b[0m\n",
      "\u001b[33m[ WARN] [1716695610.054294653]: TF_REPEATED_DATA ignoring data with redundant timestamp for frame odom at time 813.412000 according to authority /pose_integrator\u001b[0m\n",
      "\u001b[33m[ WARN] [1716695610.054339286]: TF_REPEATED_DATA ignoring data with redundant timestamp for frame odom at time 813.412000 according to authority /pose_integrator\u001b[0m\n",
      "\u001b[33m[ WARN] [1716695610.054380807]: TF_REPEATED_DATA ignoring data with redundant timestamp for frame odom at time 813.412000 according to authority /pose_integrator\u001b[0m\n",
      "\u001b[33m[ WARN] [1716695657.074931370]: TF_REPEATED_DATA ignoring data with redundant timestamp for frame odom at time 826.040000 according to authority /pose_integrator\u001b[0m\n",
      "\u001b[33m[ WARN] [1716695657.074993722]: TF_REPEATED_DATA ignoring data with redundant timestamp for frame odom at time 826.040000 according to authority /pose_integrator\u001b[0m\n",
      "\u001b[33m[ WARN] [1716695657.075036517]: TF_REPEATED_DATA ignoring data with redundant timestamp for frame odom at time 826.040000 according to authority /pose_integrator\u001b[0m\n",
      "\u001b[33m[ WARN] [1716695657.075072643]: TF_REPEATED_DATA ignoring data with redundant timestamp for frame odom at time 826.040000 according to authority /pose_integrator\u001b[0m\n",
      "\u001b[33m[ WARN] [1716695657.075110020]: TF_REPEATED_DATA ignoring data with redundant timestamp for frame odom at time 826.040000 according to authority /pose_integrator\u001b[0m\n",
      "\u001b[33m[ WARN] [1716695657.075145748]: TF_REPEATED_DATA ignoring data with redundant timestamp for frame odom at time 826.040000 according to authority /pose_integrator\u001b[0m\n",
      "\u001b[33m[ WARN] [1716695695.187155024]: TF_REPEATED_DATA ignoring data with redundant timestamp for frame odom at time 836.622000 according to authority /pose_integrator\u001b[0m\n",
      "\u001b[33m[ WARN] [1716695695.187195658]: TF_REPEATED_DATA ignoring data with redundant timestamp for frame odom at time 836.622000 according to authority /pose_integrator\u001b[0m\n",
      "\u001b[33m[ WARN] [1716695695.187224055]: TF_REPEATED_DATA ignoring data with redundant timestamp for frame odom at time 836.622000 according to authority /pose_integrator\u001b[0m\n",
      "\u001b[33m[ WARN] [1716695695.187249616]: TF_REPEATED_DATA ignoring data with redundant timestamp for frame odom at time 836.622000 according to authority /pose_integrator\u001b[0m\n",
      "\u001b[33m[ WARN] [1716695695.187299483]: TF_REPEATED_DATA ignoring data with redundant timestamp for frame odom at time 836.622000 according to authority /pose_integrator\u001b[0m\n",
      "\u001b[33m[ WARN] [1716695695.187328857]: TF_REPEATED_DATA ignoring data with redundant timestamp for frame odom at time 836.622000 according to authority /pose_integrator\u001b[0m\n",
      "\u001b[33m[ WARN] [1716695875.938440738]: TF_REPEATED_DATA ignoring data with redundant timestamp for frame odom at time 883.576000 according to authority /pose_integrator\u001b[0m\n",
      "\u001b[33m[ WARN] [1716695875.938501644]: TF_REPEATED_DATA ignoring data with redundant timestamp for frame odom at time 883.576000 according to authority /pose_integrator\u001b[0m\n",
      "\u001b[33m[ WARN] [1716695875.938544546]: TF_REPEATED_DATA ignoring data with redundant timestamp for frame odom at time 883.576000 according to authority /pose_integrator\u001b[0m\n",
      "\u001b[33m[ WARN] [1716695875.938583239]: TF_REPEATED_DATA ignoring data with redundant timestamp for frame odom at time 883.576000 according to authority /pose_integrator\u001b[0m\n",
      "\u001b[33m[ WARN] [1716695875.938615340]: TF_REPEATED_DATA ignoring data with redundant timestamp for frame odom at time 883.576000 according to authority /pose_integrator\u001b[0m\n",
      "\u001b[33m[ WARN] [1716695875.938649692]: TF_REPEATED_DATA ignoring data with redundant timestamp for frame odom at time 883.576000 according to authority /pose_integrator\u001b[0m\n"
     ]
    },
    {
     "name": "stdout",
     "output_type": "stream",
     "text": [
      "shutdown request: [/smach] Reason: new node registered with same name\n"
     ]
    }
   ],
   "source": [
    "\n",
    "transformed_object_point = tfBuffer.transform(object_point, \"map\", timeout=rospy.Duration(1))\n",
    "\n",
    "tf_man.pub_static_tf(pos=[transformed_object_point.point.x,transformed_object_point.point.y,transformed_object_point.point.z],rot=quat,point_name='pikcup+2')"
   ]
  },
  {
   "cell_type": "code",
   "execution_count": null,
   "id": "736a8baa",
   "metadata": {},
   "outputs": [],
   "source": []
  },
  {
   "cell_type": "code",
   "execution_count": null,
   "id": "e8d3b642",
   "metadata": {},
   "outputs": [],
   "source": [
    "static_transform_stamped = TransformStamped()\n",
    "quat=[0,0,0.707,0.707]\n",
    "# Fill the TransformStamped message with data\n",
    "static_transform_stamped.header.stamp = rospy.Time(0)\n",
    "static_transform_stamped.header.frame_id = 'map'  # parent frame\n",
    "static_transform_stamped.child_frame_id = 'pikcup+2'   # child frame\n",
    "\n",
    "# Translation (x, y, z)\n",
    "static_transform_stamped.transform.translation.x = transformed_object_point.point.x\n",
    "static_transform_stamped.transform.translation.y = transformed_object_point.point.y\n",
    "static_transform_stamped.transform.translation.z = transformed_object_point.point.z\n",
    "\n",
    "# Rotation (roll, pitch, yaw)\n",
    "\n",
    "static_transform_stamped.transform.rotation.x = quat[0]\n",
    "static_transform_stamped.transform.rotation.y = quat[1]\n",
    "static_transform_stamped.transform.rotation.z = quat[2]\n",
    "static_transform_stamped.transform.rotation.w = quat[3]\n",
    "\n",
    "# Broadcast the static transform\n",
    "broad.sendTransform(static_transform_stamped)\n"
   ]
  },
  {
   "cell_type": "code",
   "execution_count": null,
   "id": "94877d21",
   "metadata": {},
   "outputs": [],
   "source": [
    "\n",
    "lis= tf2_ros.TransformListener(tfBuffer)\n",
    "broad= tf2_ros.StaticTransformBroadcaster()\n",
    "#broad.pub_tf()"
   ]
  },
  {
   "cell_type": "code",
   "execution_count": null,
   "id": "e6779b13",
   "metadata": {},
   "outputs": [],
   "source": [
    "static_transform_stamped = TransformStamped()\n",
    "quat=[0,0,0.707,0.707]\n",
    "# Fill the TransformStamped message with data\n",
    "static_transform_stamped.header.stamp = rospy.Time(0)\n",
    "static_transform_stamped.header.frame_id = 'map'  # parent frame\n",
    "static_transform_stamped.child_frame_id = 'pikcup'   # child frame\n",
    "\n",
    "# Translation (x, y, z)\n",
    "static_transform_stamped.transform.translation.x = pose[0]\n",
    "static_transform_stamped.transform.translation.y = pose[1]\n",
    "static_transform_stamped.transform.translation.z = pose[2]\n",
    "\n",
    "# Rotation (roll, pitch, yaw)\n",
    "\n",
    "static_transform_stamped.transform.rotation.x = quat[0]\n",
    "static_transform_stamped.transform.rotation.y = quat[1]\n",
    "static_transform_stamped.transform.rotation.z = quat[2]\n",
    "static_transform_stamped.transform.rotation.w = quat[3]\n",
    "\n",
    "# Broadcast the static transform\n",
    "broad.sendTransform(static_transform_stamped)\n"
   ]
  },
  {
   "cell_type": "code",
   "execution_count": null,
   "id": "7a22a5c9",
   "metadata": {},
   "outputs": [],
   "source": [
    "\n",
    "tf_man.pub_static_tf(pos=translated_point,quat=[0,0,0.707,0.707],point_name='pikcup+1')"
   ]
  },
  {
   "cell_type": "code",
   "execution_count": 36,
   "id": "7e782d7e",
   "metadata": {},
   "outputs": [
    {
     "name": "stderr",
     "output_type": "stream",
     "text": [
      "\u001b[33m[ WARN] [1717041863.249153510]: TF_REPEATED_DATA ignoring data with redundant timestamp for frame odom at time 2144.961000 according to authority /pose_integrator\u001b[0m\n",
      "\u001b[33m[ WARN] [1717041863.249217864]: TF_REPEATED_DATA ignoring data with redundant timestamp for frame odom at time 2144.961000 according to authority /pose_integrator\u001b[0m\n",
      "\u001b[33m[ WARN] [1717041863.249268056]: TF_REPEATED_DATA ignoring data with redundant timestamp for frame odom at time 2144.961000 according to authority /pose_integrator\u001b[0m\n",
      "\u001b[33m[ WARN] [1717041863.249311775]: TF_REPEATED_DATA ignoring data with redundant timestamp for frame odom at time 2144.961000 according to authority /pose_integrator\u001b[0m\n",
      "\u001b[33m[ WARN] [1717041863.249358540]: TF_REPEATED_DATA ignoring data with redundant timestamp for frame odom at time 2144.961000 according to authority /pose_integrator\u001b[0m\n",
      "\u001b[33m[ WARN] [1717041863.249406388]: TF_REPEATED_DATA ignoring data with redundant timestamp for frame odom at time 2144.961000 according to authority /pose_integrator\u001b[0m\n"
     ]
    }
   ],
   "source": [
    "o=read_yaml('/regions/regions_sim.yaml')\n",
    "df=pd.DataFrame.from_dict(o)\n",
    "area_bo_x=df['shelves'][['x_min','x_max']].values\n",
    "area_bo_y=df['shelves'][['y_min','y_max']].values\n",
    "area_box=np.concatenate((area_bo_x,area_bo_y)).reshape((2,2)).T"
   ]
  },
  {
   "cell_type": "code",
   "execution_count": 37,
   "id": "b3446928",
   "metadata": {},
   "outputs": [
    {
     "ename": "KeyError",
     "evalue": "'shelf'",
     "output_type": "error",
     "traceback": [
      "\u001b[0;31m---------------------------------------------------------------------------\u001b[0m",
      "\u001b[0;31mKeyError\u001b[0m                                  Traceback (most recent call last)",
      "File \u001b[0;32m~/.local/lib/python3.8/site-packages/pandas/core/indexes/base.py:3653\u001b[0m, in \u001b[0;36mIndex.get_loc\u001b[0;34m(self, key)\u001b[0m\n\u001b[1;32m   3652\u001b[0m \u001b[38;5;28;01mtry\u001b[39;00m:\n\u001b[0;32m-> 3653\u001b[0m     \u001b[38;5;28;01mreturn\u001b[39;00m \u001b[38;5;28;43mself\u001b[39;49m\u001b[38;5;241;43m.\u001b[39;49m\u001b[43m_engine\u001b[49m\u001b[38;5;241;43m.\u001b[39;49m\u001b[43mget_loc\u001b[49m\u001b[43m(\u001b[49m\u001b[43mcasted_key\u001b[49m\u001b[43m)\u001b[49m\n\u001b[1;32m   3654\u001b[0m \u001b[38;5;28;01mexcept\u001b[39;00m \u001b[38;5;167;01mKeyError\u001b[39;00m \u001b[38;5;28;01mas\u001b[39;00m err:\n",
      "File \u001b[0;32m~/.local/lib/python3.8/site-packages/pandas/_libs/index.pyx:147\u001b[0m, in \u001b[0;36mpandas._libs.index.IndexEngine.get_loc\u001b[0;34m()\u001b[0m\n",
      "File \u001b[0;32m~/.local/lib/python3.8/site-packages/pandas/_libs/index.pyx:176\u001b[0m, in \u001b[0;36mpandas._libs.index.IndexEngine.get_loc\u001b[0;34m()\u001b[0m\n",
      "File \u001b[0;32mpandas/_libs/hashtable_class_helper.pxi:7080\u001b[0m, in \u001b[0;36mpandas._libs.hashtable.PyObjectHashTable.get_item\u001b[0;34m()\u001b[0m\n",
      "File \u001b[0;32mpandas/_libs/hashtable_class_helper.pxi:7088\u001b[0m, in \u001b[0;36mpandas._libs.hashtable.PyObjectHashTable.get_item\u001b[0;34m()\u001b[0m\n",
      "\u001b[0;31mKeyError\u001b[0m: 'shelf'",
      "\nThe above exception was the direct cause of the following exception:\n",
      "\u001b[0;31mKeyError\u001b[0m                                  Traceback (most recent call last)",
      "Cell \u001b[0;32mIn[37], line 1\u001b[0m\n\u001b[0;32m----> 1\u001b[0m string_list\u001b[38;5;241m=\u001b[39m\u001b[43mdf\u001b[49m\u001b[43m[\u001b[49m\u001b[38;5;124;43m'\u001b[39;49m\u001b[38;5;124;43mshelf\u001b[39;49m\u001b[38;5;124;43m'\u001b[39;49m\u001b[43m]\u001b[49m[\u001b[38;5;124m'\u001b[39m\u001b[38;5;124mz\u001b[39m\u001b[38;5;124m'\u001b[39m]\u001b[38;5;241m.\u001b[39msplit(\u001b[38;5;124m'\u001b[39m\u001b[38;5;124m,\u001b[39m\u001b[38;5;124m'\u001b[39m)\n\u001b[1;32m      2\u001b[0m top,mid,low\u001b[38;5;241m=\u001b[39m[\u001b[38;5;28mlist\u001b[39m(\u001b[38;5;28mmap\u001b[39m(\u001b[38;5;28mfloat\u001b[39m, s\u001b[38;5;241m.\u001b[39msplit(\u001b[38;5;124m'\u001b[39m\u001b[38;5;124m,\u001b[39m\u001b[38;5;124m'\u001b[39m))) \u001b[38;5;28;01mfor\u001b[39;00m s \u001b[38;5;129;01min\u001b[39;00m string_list]\n",
      "File \u001b[0;32m~/.local/lib/python3.8/site-packages/pandas/core/frame.py:3761\u001b[0m, in \u001b[0;36mDataFrame.__getitem__\u001b[0;34m(self, key)\u001b[0m\n\u001b[1;32m   3759\u001b[0m \u001b[38;5;28;01mif\u001b[39;00m \u001b[38;5;28mself\u001b[39m\u001b[38;5;241m.\u001b[39mcolumns\u001b[38;5;241m.\u001b[39mnlevels \u001b[38;5;241m>\u001b[39m \u001b[38;5;241m1\u001b[39m:\n\u001b[1;32m   3760\u001b[0m     \u001b[38;5;28;01mreturn\u001b[39;00m \u001b[38;5;28mself\u001b[39m\u001b[38;5;241m.\u001b[39m_getitem_multilevel(key)\n\u001b[0;32m-> 3761\u001b[0m indexer \u001b[38;5;241m=\u001b[39m \u001b[38;5;28;43mself\u001b[39;49m\u001b[38;5;241;43m.\u001b[39;49m\u001b[43mcolumns\u001b[49m\u001b[38;5;241;43m.\u001b[39;49m\u001b[43mget_loc\u001b[49m\u001b[43m(\u001b[49m\u001b[43mkey\u001b[49m\u001b[43m)\u001b[49m\n\u001b[1;32m   3762\u001b[0m \u001b[38;5;28;01mif\u001b[39;00m is_integer(indexer):\n\u001b[1;32m   3763\u001b[0m     indexer \u001b[38;5;241m=\u001b[39m [indexer]\n",
      "File \u001b[0;32m~/.local/lib/python3.8/site-packages/pandas/core/indexes/base.py:3655\u001b[0m, in \u001b[0;36mIndex.get_loc\u001b[0;34m(self, key)\u001b[0m\n\u001b[1;32m   3653\u001b[0m     \u001b[38;5;28;01mreturn\u001b[39;00m \u001b[38;5;28mself\u001b[39m\u001b[38;5;241m.\u001b[39m_engine\u001b[38;5;241m.\u001b[39mget_loc(casted_key)\n\u001b[1;32m   3654\u001b[0m \u001b[38;5;28;01mexcept\u001b[39;00m \u001b[38;5;167;01mKeyError\u001b[39;00m \u001b[38;5;28;01mas\u001b[39;00m err:\n\u001b[0;32m-> 3655\u001b[0m     \u001b[38;5;28;01mraise\u001b[39;00m \u001b[38;5;167;01mKeyError\u001b[39;00m(key) \u001b[38;5;28;01mfrom\u001b[39;00m \u001b[38;5;21;01merr\u001b[39;00m\n\u001b[1;32m   3656\u001b[0m \u001b[38;5;28;01mexcept\u001b[39;00m \u001b[38;5;167;01mTypeError\u001b[39;00m:\n\u001b[1;32m   3657\u001b[0m     \u001b[38;5;66;03m# If we have a listlike key, _check_indexing_error will raise\u001b[39;00m\n\u001b[1;32m   3658\u001b[0m     \u001b[38;5;66;03m#  InvalidIndexError. Otherwise we fall through and re-raise\u001b[39;00m\n\u001b[1;32m   3659\u001b[0m     \u001b[38;5;66;03m#  the TypeError.\u001b[39;00m\n\u001b[1;32m   3660\u001b[0m     \u001b[38;5;28mself\u001b[39m\u001b[38;5;241m.\u001b[39m_check_indexing_error(key)\n",
      "\u001b[0;31mKeyError\u001b[0m: 'shelf'"
     ]
    }
   ],
   "source": [
    "string_list=df['shelf']['z'].split(',')\n",
    "top,mid,low=[list(map(float, s.split(','))) for s in string_list]"
   ]
  },
  {
   "cell_type": "code",
   "execution_count": 39,
   "id": "1f2439c2",
   "metadata": {},
   "outputs": [
    {
     "name": "stdout",
     "output_type": "stream",
     "text": [
      "[[3.08 1.3]\n",
      " [4.05 2.0]]\n",
      "[1.3 2.0]\n"
     ]
    },
    {
     "name": "stderr",
     "output_type": "stream",
     "text": [
      "\u001b[33m[ WARN] [1717041900.893025378]: TF_REPEATED_DATA ignoring data with redundant timestamp for frame odom at time 2154.151000 according to authority /pose_integrator\u001b[0m\n",
      "\u001b[33m[ WARN] [1717041900.893078167]: TF_REPEATED_DATA ignoring data with redundant timestamp for frame odom at time 2154.151000 according to authority /pose_integrator\u001b[0m\n",
      "\u001b[33m[ WARN] [1717041900.893104310]: TF_REPEATED_DATA ignoring data with redundant timestamp for frame odom at time 2154.151000 according to authority /pose_integrator\u001b[0m\n",
      "\u001b[33m[ WARN] [1717041900.893129002]: TF_REPEATED_DATA ignoring data with redundant timestamp for frame odom at time 2154.151000 according to authority /pose_integrator\u001b[0m\n",
      "\u001b[33m[ WARN] [1717041900.893156931]: TF_REPEATED_DATA ignoring data with redundant timestamp for frame odom at time 2154.151000 according to authority /pose_integrator\u001b[0m\n",
      "\u001b[33m[ WARN] [1717041900.893183741]: TF_REPEATED_DATA ignoring data with redundant timestamp for frame odom at time 2154.151000 according to authority /pose_integrator\u001b[0m\n",
      "\u001b[33m[ WARN] [1717041901.730172405]: TF_REPEATED_DATA ignoring data with redundant timestamp for frame odom at time 2154.340000 according to authority /pose_integrator\u001b[0m\n",
      "\u001b[33m[ WARN] [1717041901.730233443]: TF_REPEATED_DATA ignoring data with redundant timestamp for frame odom at time 2154.340000 according to authority /pose_integrator\u001b[0m\n",
      "\u001b[33m[ WARN] [1717041901.730275135]: TF_REPEATED_DATA ignoring data with redundant timestamp for frame odom at time 2154.340000 according to authority /pose_integrator\u001b[0m\n",
      "\u001b[33m[ WARN] [1717041901.730315062]: TF_REPEATED_DATA ignoring data with redundant timestamp for frame odom at time 2154.340000 according to authority /pose_integrator\u001b[0m\n",
      "\u001b[33m[ WARN] [1717041901.730366229]: TF_REPEATED_DATA ignoring data with redundant timestamp for frame odom at time 2154.340000 according to authority /pose_integrator\u001b[0m\n",
      "\u001b[33m[ WARN] [1717041901.730391997]: TF_REPEATED_DATA ignoring data with redundant timestamp for frame odom at time 2154.340000 according to authority /pose_integrator\u001b[0m\n",
      "\u001b[33m[ WARN] [1717041916.458876670]: TF_REPEATED_DATA ignoring data with redundant timestamp for frame odom at time 2158.002000 according to authority /pose_integrator\u001b[0m\n",
      "\u001b[33m[ WARN] [1717041916.458936763]: TF_REPEATED_DATA ignoring data with redundant timestamp for frame odom at time 2158.002000 according to authority /pose_integrator\u001b[0m\n",
      "\u001b[33m[ WARN] [1717041916.458967086]: TF_REPEATED_DATA ignoring data with redundant timestamp for frame odom at time 2158.002000 according to authority /pose_integrator\u001b[0m\n",
      "\u001b[33m[ WARN] [1717041916.458993203]: TF_REPEATED_DATA ignoring data with redundant timestamp for frame odom at time 2158.002000 according to authority /pose_integrator\u001b[0m\n",
      "\u001b[33m[ WARN] [1717041916.459021820]: TF_REPEATED_DATA ignoring data with redundant timestamp for frame odom at time 2158.002000 according to authority /pose_integrator\u001b[0m\n",
      "\u001b[33m[ WARN] [1717041916.459048859]: TF_REPEATED_DATA ignoring data with redundant timestamp for frame odom at time 2158.002000 according to authority /pose_integrator\u001b[0m\n"
     ]
    }
   ],
   "source": [
    "area_bo_x=df['shelves'][['x_min','x_max']].values\n",
    "area_bo_y=df['shelves'][['y_min','y_max']].values\n",
    "area_box=np.concatenate((area_bo_x,area_bo_y)).reshape((2,2)).T\n",
    "print (area_box)\n",
    "print (area_box[:,1])\n",
    "\n",
    "#def is_inside(x,y,z):    return ((area_box[:,1].max() > y) and (area_box[:,1].min() < y)) and ((area_box[:,0].max() > x) and (area_box[0,0].min() < x)) and (pickup_plane_z<z)  \n",
    "def is_inside_top(x,y,z):return ((area_box[:,1].max() > y) and (area_box[:,1].min() < y)) and ((area_box[:,0].max() > x) and (area_box[0,0].min() < x))    and (top_shelf_height < z )  \n",
    "def is_inside_mid(x,y,z):return ((area_box[:,1].max() > y) and (area_box[:,1].min() < y)) and ((area_box[:,0].max() > x) and (area_box[0,0].min() < x))    and ((0.9*top_shelf_height > z) and (mid_shelf_height < z  )  )  \n",
    "def is_inside_low(x,y,z):return ((area_box[:,1].max() > y) and (area_box[:,1].min() < y)) and ((area_box[:,0].max() > x) and (area_box[0,0].min() < x))    and ((0.9*mid_shelf_height > z  )  )"
   ]
  },
  {
   "cell_type": "code",
   "execution_count": 40,
   "id": "39ec3708",
   "metadata": {},
   "outputs": [
    {
     "data": {
      "text/plain": [
       "False"
      ]
     },
     "execution_count": 40,
     "metadata": {},
     "output_type": "execute_result"
    },
    {
     "name": "stderr",
     "output_type": "stream",
     "text": [
      "\u001b[33m[ WARN] [1717041942.787513563]: TF_REPEATED_DATA ignoring data with redundant timestamp for frame odom at time 2164.492000 according to authority /pose_integrator\u001b[0m\n",
      "\u001b[33m[ WARN] [1717041942.787571020]: TF_REPEATED_DATA ignoring data with redundant timestamp for frame odom at time 2164.492000 according to authority /pose_integrator\u001b[0m\n",
      "\u001b[33m[ WARN] [1717041942.787611261]: TF_REPEATED_DATA ignoring data with redundant timestamp for frame odom at time 2164.492000 according to authority /pose_integrator\u001b[0m\n",
      "\u001b[33m[ WARN] [1717041942.787644625]: TF_REPEATED_DATA ignoring data with redundant timestamp for frame odom at time 2164.492000 according to authority /pose_integrator\u001b[0m\n",
      "\u001b[33m[ WARN] [1717041942.787680697]: TF_REPEATED_DATA ignoring data with redundant timestamp for frame odom at time 2164.492000 according to authority /pose_integrator\u001b[0m\n",
      "\u001b[33m[ WARN] [1717041942.787719825]: TF_REPEATED_DATA ignoring data with redundant timestamp for frame odom at time 2164.492000 according to authority /pose_integrator\u001b[0m\n",
      "\u001b[33m[ WARN] [1717041947.558348498]: TF_REPEATED_DATA ignoring data with redundant timestamp for frame odom at time 2165.735000 according to authority /pose_integrator\u001b[0m\n",
      "\u001b[33m[ WARN] [1717041947.558402704]: TF_REPEATED_DATA ignoring data with redundant timestamp for frame odom at time 2165.735000 according to authority /pose_integrator\u001b[0m\n",
      "\u001b[33m[ WARN] [1717041947.558443281]: TF_REPEATED_DATA ignoring data with redundant timestamp for frame odom at time 2165.735000 according to authority /pose_integrator\u001b[0m\n",
      "\u001b[33m[ WARN] [1717041947.558478895]: TF_REPEATED_DATA ignoring data with redundant timestamp for frame odom at time 2165.735000 according to authority /pose_integrator\u001b[0m\n",
      "\u001b[33m[ WARN] [1717041947.558534365]: TF_REPEATED_DATA ignoring data with redundant timestamp for frame odom at time 2165.735000 according to authority /pose_integrator\u001b[0m\n",
      "\u001b[33m[ WARN] [1717041947.558578779]: TF_REPEATED_DATA ignoring data with redundant timestamp for frame odom at time 2165.735000 according to authority /pose_integrator\u001b[0m\n",
      "\u001b[33m[ WARN] [1717041948.108619853]: TF_REPEATED_DATA ignoring data with redundant timestamp for frame odom at time 2165.907000 according to authority /pose_integrator\u001b[0m\n",
      "\u001b[33m[ WARN] [1717041948.108686690]: TF_REPEATED_DATA ignoring data with redundant timestamp for frame odom at time 2165.907000 according to authority /pose_integrator\u001b[0m\n",
      "\u001b[33m[ WARN] [1717041948.108726629]: TF_REPEATED_DATA ignoring data with redundant timestamp for frame odom at time 2165.907000 according to authority /pose_integrator\u001b[0m\n",
      "\u001b[33m[ WARN] [1717041948.108768220]: TF_REPEATED_DATA ignoring data with redundant timestamp for frame odom at time 2165.907000 according to authority /pose_integrator\u001b[0m\n",
      "\u001b[33m[ WARN] [1717041948.108800776]: TF_REPEATED_DATA ignoring data with redundant timestamp for frame odom at time 2165.907000 according to authority /pose_integrator\u001b[0m\n",
      "\u001b[33m[ WARN] [1717041948.108840958]: TF_REPEATED_DATA ignoring data with redundant timestamp for frame odom at time 2165.907000 according to authority /pose_integrator\u001b[0m\n",
      "\u001b[33m[ WARN] [1717041961.919645120]: TF_REPEATED_DATA ignoring data with redundant timestamp for frame odom at time 2169.442000 according to authority /pose_integrator\u001b[0m\n",
      "\u001b[33m[ WARN] [1717041961.919714257]: TF_REPEATED_DATA ignoring data with redundant timestamp for frame odom at time 2169.442000 according to authority /pose_integrator\u001b[0m\n",
      "\u001b[33m[ WARN] [1717041961.919757566]: TF_REPEATED_DATA ignoring data with redundant timestamp for frame odom at time 2169.442000 according to authority /pose_integrator\u001b[0m\n",
      "\u001b[33m[ WARN] [1717041961.919791552]: TF_REPEATED_DATA ignoring data with redundant timestamp for frame odom at time 2169.442000 according to authority /pose_integrator\u001b[0m\n",
      "\u001b[33m[ WARN] [1717041961.919823151]: TF_REPEATED_DATA ignoring data with redundant timestamp for frame odom at time 2169.442000 according to authority /pose_integrator\u001b[0m\n",
      "\u001b[33m[ WARN] [1717041961.919863951]: TF_REPEATED_DATA ignoring data with redundant timestamp for frame odom at time 2169.442000 according to authority /pose_integrator\u001b[0m\n",
      "\u001b[33m[ WARN] [1717042004.967279068]: TF_REPEATED_DATA ignoring data with redundant timestamp for frame odom at time 2179.995000 according to authority /pose_integrator\u001b[0m\n",
      "\u001b[33m[ WARN] [1717042004.967339651]: TF_REPEATED_DATA ignoring data with redundant timestamp for frame odom at time 2179.995000 according to authority /pose_integrator\u001b[0m\n",
      "\u001b[33m[ WARN] [1717042004.967377533]: TF_REPEATED_DATA ignoring data with redundant timestamp for frame odom at time 2179.995000 according to authority /pose_integrator\u001b[0m\n",
      "\u001b[33m[ WARN] [1717042004.967421359]: TF_REPEATED_DATA ignoring data with redundant timestamp for frame odom at time 2179.995000 according to authority /pose_integrator\u001b[0m\n",
      "\u001b[33m[ WARN] [1717042004.967449516]: TF_REPEATED_DATA ignoring data with redundant timestamp for frame odom at time 2179.995000 according to authority /pose_integrator\u001b[0m\n",
      "\u001b[33m[ WARN] [1717042004.967477088]: TF_REPEATED_DATA ignoring data with redundant timestamp for frame odom at time 2179.995000 according to authority /pose_integrator\u001b[0m\n",
      "\u001b[33m[ WARN] [1717042012.115679805]: TF_REPEATED_DATA ignoring data with redundant timestamp for frame odom at time 2181.824000 according to authority /pose_integrator\u001b[0m\n",
      "\u001b[33m[ WARN] [1717042012.115759767]: TF_REPEATED_DATA ignoring data with redundant timestamp for frame odom at time 2181.824000 according to authority /pose_integrator\u001b[0m\n",
      "\u001b[33m[ WARN] [1717042012.115793160]: TF_REPEATED_DATA ignoring data with redundant timestamp for frame odom at time 2181.824000 according to authority /pose_integrator\u001b[0m\n",
      "\u001b[33m[ WARN] [1717042012.115819904]: TF_REPEATED_DATA ignoring data with redundant timestamp for frame odom at time 2181.824000 according to authority /pose_integrator\u001b[0m\n",
      "\u001b[33m[ WARN] [1717042012.115844833]: TF_REPEATED_DATA ignoring data with redundant timestamp for frame odom at time 2181.824000 according to authority /pose_integrator\u001b[0m\n",
      "\u001b[33m[ WARN] [1717042012.115869366]: TF_REPEATED_DATA ignoring data with redundant timestamp for frame odom at time 2181.824000 according to authority /pose_integrator\u001b[0m\n",
      "\u001b[33m[ WARN] [1717042038.747676228]: TF_REPEATED_DATA ignoring data with redundant timestamp for frame odom at time 2188.593000 according to authority /pose_integrator\u001b[0m\n",
      "\u001b[33m[ WARN] [1717042038.747726116]: TF_REPEATED_DATA ignoring data with redundant timestamp for frame odom at time 2188.593000 according to authority /pose_integrator\u001b[0m\n",
      "\u001b[33m[ WARN] [1717042038.747754141]: TF_REPEATED_DATA ignoring data with redundant timestamp for frame odom at time 2188.593000 according to authority /pose_integrator\u001b[0m\n",
      "\u001b[33m[ WARN] [1717042038.747794869]: TF_REPEATED_DATA ignoring data with redundant timestamp for frame odom at time 2188.593000 according to authority /pose_integrator\u001b[0m\n",
      "\u001b[33m[ WARN] [1717042038.747826782]: TF_REPEATED_DATA ignoring data with redundant timestamp for frame odom at time 2188.593000 according to authority /pose_integrator\u001b[0m\n",
      "\u001b[33m[ WARN] [1717042038.747869812]: TF_REPEATED_DATA ignoring data with redundant timestamp for frame odom at time 2188.593000 according to authority /pose_integrator\u001b[0m\n",
      "\u001b[33m[ WARN] [1717042039.401906003]: TF_REPEATED_DATA ignoring data with redundant timestamp for frame odom at time 2188.794000 according to authority /pose_integrator\u001b[0m\n",
      "\u001b[33m[ WARN] [1717042039.401958703]: TF_REPEATED_DATA ignoring data with redundant timestamp for frame odom at time 2188.794000 according to authority /pose_integrator\u001b[0m\n",
      "\u001b[33m[ WARN] [1717042039.401999055]: TF_REPEATED_DATA ignoring data with redundant timestamp for frame odom at time 2188.794000 according to authority /pose_integrator\u001b[0m\n",
      "\u001b[33m[ WARN] [1717042039.402028991]: TF_REPEATED_DATA ignoring data with redundant timestamp for frame odom at time 2188.794000 according to authority /pose_integrator\u001b[0m\n",
      "\u001b[33m[ WARN] [1717042039.402056468]: TF_REPEATED_DATA ignoring data with redundant timestamp for frame odom at time 2188.794000 according to authority /pose_integrator\u001b[0m\n",
      "\u001b[33m[ WARN] [1717042039.402087344]: TF_REPEATED_DATA ignoring data with redundant timestamp for frame odom at time 2188.794000 according to authority /pose_integrator\u001b[0m\n"
     ]
    },
    {
     "name": "stderr",
     "output_type": "stream",
     "text": [
      "\u001b[33m[ WARN] [1717042048.078600327]: TF_REPEATED_DATA ignoring data with redundant timestamp for frame odom at time 2190.976000 according to authority /pose_integrator\u001b[0m\n",
      "\u001b[33m[ WARN] [1717042048.078648768]: TF_REPEATED_DATA ignoring data with redundant timestamp for frame odom at time 2190.976000 according to authority /pose_integrator\u001b[0m\n",
      "\u001b[33m[ WARN] [1717042048.078681889]: TF_REPEATED_DATA ignoring data with redundant timestamp for frame odom at time 2190.976000 according to authority /pose_integrator\u001b[0m\n",
      "\u001b[33m[ WARN] [1717042048.078709898]: TF_REPEATED_DATA ignoring data with redundant timestamp for frame odom at time 2190.976000 according to authority /pose_integrator\u001b[0m\n",
      "\u001b[33m[ WARN] [1717042048.078742520]: TF_REPEATED_DATA ignoring data with redundant timestamp for frame odom at time 2190.976000 according to authority /pose_integrator\u001b[0m\n",
      "\u001b[33m[ WARN] [1717042048.078771909]: TF_REPEATED_DATA ignoring data with redundant timestamp for frame odom at time 2190.976000 according to authority /pose_integrator\u001b[0m\n",
      "\u001b[33m[ WARN] [1717042080.686720237]: TF_REPEATED_DATA ignoring data with redundant timestamp for frame odom at time 2198.912000 according to authority /pose_integrator\u001b[0m\n",
      "\u001b[33m[ WARN] [1717042080.686774180]: TF_REPEATED_DATA ignoring data with redundant timestamp for frame odom at time 2198.912000 according to authority /pose_integrator\u001b[0m\n",
      "\u001b[33m[ WARN] [1717042080.686818920]: TF_REPEATED_DATA ignoring data with redundant timestamp for frame odom at time 2198.912000 according to authority /pose_integrator\u001b[0m\n",
      "\u001b[33m[ WARN] [1717042080.686865735]: TF_REPEATED_DATA ignoring data with redundant timestamp for frame odom at time 2198.912000 according to authority /pose_integrator\u001b[0m\n",
      "\u001b[33m[ WARN] [1717042080.686911887]: TF_REPEATED_DATA ignoring data with redundant timestamp for frame odom at time 2198.912000 according to authority /pose_integrator\u001b[0m\n",
      "\u001b[33m[ WARN] [1717042080.686954999]: TF_REPEATED_DATA ignoring data with redundant timestamp for frame odom at time 2198.912000 according to authority /pose_integrator\u001b[0m\n",
      "\u001b[33m[ WARN] [1717042098.252150789]: TF_REPEATED_DATA ignoring data with redundant timestamp for frame odom at time 2203.456000 according to authority /pose_integrator\u001b[0m\n",
      "\u001b[33m[ WARN] [1717042098.252212761]: TF_REPEATED_DATA ignoring data with redundant timestamp for frame odom at time 2203.456000 according to authority /pose_integrator\u001b[0m\n",
      "\u001b[33m[ WARN] [1717042098.252248490]: TF_REPEATED_DATA ignoring data with redundant timestamp for frame odom at time 2203.456000 according to authority /pose_integrator\u001b[0m\n",
      "\u001b[33m[ WARN] [1717042098.252275104]: TF_REPEATED_DATA ignoring data with redundant timestamp for frame odom at time 2203.456000 according to authority /pose_integrator\u001b[0m\n",
      "\u001b[33m[ WARN] [1717042098.252307921]: TF_REPEATED_DATA ignoring data with redundant timestamp for frame odom at time 2203.456000 according to authority /pose_integrator\u001b[0m\n",
      "\u001b[33m[ WARN] [1717042098.252344652]: TF_REPEATED_DATA ignoring data with redundant timestamp for frame odom at time 2203.456000 according to authority /pose_integrator\u001b[0m\n",
      "\u001b[33m[ WARN] [1717042137.431220089]: TF_REPEATED_DATA ignoring data with redundant timestamp for frame odom at time 2212.499000 according to authority /pose_integrator\u001b[0m\n",
      "\u001b[33m[ WARN] [1717042137.431278592]: TF_REPEATED_DATA ignoring data with redundant timestamp for frame odom at time 2212.499000 according to authority /pose_integrator\u001b[0m\n",
      "\u001b[33m[ WARN] [1717042137.431317641]: TF_REPEATED_DATA ignoring data with redundant timestamp for frame odom at time 2212.499000 according to authority /pose_integrator\u001b[0m\n",
      "\u001b[33m[ WARN] [1717042137.431351617]: TF_REPEATED_DATA ignoring data with redundant timestamp for frame odom at time 2212.499000 according to authority /pose_integrator\u001b[0m\n",
      "\u001b[33m[ WARN] [1717042137.431384666]: TF_REPEATED_DATA ignoring data with redundant timestamp for frame odom at time 2212.499000 according to authority /pose_integrator\u001b[0m\n",
      "\u001b[33m[ WARN] [1717042137.431427937]: TF_REPEATED_DATA ignoring data with redundant timestamp for frame odom at time 2212.499000 according to authority /pose_integrator\u001b[0m\n",
      "\u001b[33m[ WARN] [1717042144.652367198]: TF_REPEATED_DATA ignoring data with redundant timestamp for frame odom at time 2214.347000 according to authority /pose_integrator\u001b[0m\n",
      "\u001b[33m[ WARN] [1717042144.652429078]: TF_REPEATED_DATA ignoring data with redundant timestamp for frame odom at time 2214.347000 according to authority /pose_integrator\u001b[0m\n",
      "\u001b[33m[ WARN] [1717042144.652472214]: TF_REPEATED_DATA ignoring data with redundant timestamp for frame odom at time 2214.347000 according to authority /pose_integrator\u001b[0m\n",
      "\u001b[33m[ WARN] [1717042144.652520409]: TF_REPEATED_DATA ignoring data with redundant timestamp for frame odom at time 2214.347000 according to authority /pose_integrator\u001b[0m\n",
      "\u001b[33m[ WARN] [1717042144.652561057]: TF_REPEATED_DATA ignoring data with redundant timestamp for frame odom at time 2214.347000 according to authority /pose_integrator\u001b[0m\n",
      "\u001b[33m[ WARN] [1717042144.652601071]: TF_REPEATED_DATA ignoring data with redundant timestamp for frame odom at time 2214.347000 according to authority /pose_integrator\u001b[0m\n",
      "\u001b[33m[ WARN] [1717042149.850905490]: TF_REPEATED_DATA ignoring data with redundant timestamp for frame odom at time 2215.710000 according to authority /pose_integrator\u001b[0m\n",
      "\u001b[33m[ WARN] [1717042149.850978855]: TF_REPEATED_DATA ignoring data with redundant timestamp for frame odom at time 2215.710000 according to authority /pose_integrator\u001b[0m\n",
      "\u001b[33m[ WARN] [1717042149.851031948]: TF_REPEATED_DATA ignoring data with redundant timestamp for frame odom at time 2215.710000 according to authority /pose_integrator\u001b[0m\n",
      "\u001b[33m[ WARN] [1717042149.851099183]: TF_REPEATED_DATA ignoring data with redundant timestamp for frame odom at time 2215.710000 according to authority /pose_integrator\u001b[0m\n",
      "\u001b[33m[ WARN] [1717042149.851154339]: TF_REPEATED_DATA ignoring data with redundant timestamp for frame odom at time 2215.710000 according to authority /pose_integrator\u001b[0m\n",
      "\u001b[33m[ WARN] [1717042149.851204711]: TF_REPEATED_DATA ignoring data with redundant timestamp for frame odom at time 2215.710000 according to authority /pose_integrator\u001b[0m\n",
      "\u001b[33m[ WARN] [1717042166.954496271]: TF_REPEATED_DATA ignoring data with redundant timestamp for frame odom at time 2219.887000 according to authority /pose_integrator\u001b[0m\n",
      "\u001b[33m[ WARN] [1717042166.954555273]: TF_REPEATED_DATA ignoring data with redundant timestamp for frame odom at time 2219.887000 according to authority /pose_integrator\u001b[0m\n",
      "\u001b[33m[ WARN] [1717042166.954601655]: TF_REPEATED_DATA ignoring data with redundant timestamp for frame odom at time 2219.887000 according to authority /pose_integrator\u001b[0m\n",
      "\u001b[33m[ WARN] [1717042166.954641873]: TF_REPEATED_DATA ignoring data with redundant timestamp for frame odom at time 2219.887000 according to authority /pose_integrator\u001b[0m\n",
      "\u001b[33m[ WARN] [1717042166.954683638]: TF_REPEATED_DATA ignoring data with redundant timestamp for frame odom at time 2219.887000 according to authority /pose_integrator\u001b[0m\n",
      "\u001b[33m[ WARN] [1717042166.954726148]: TF_REPEATED_DATA ignoring data with redundant timestamp for frame odom at time 2219.887000 according to authority /pose_integrator\u001b[0m\n",
      "\u001b[33m[ WARN] [1717042172.838492548]: TF_REPEATED_DATA ignoring data with redundant timestamp for frame odom at time 2221.422000 according to authority /pose_integrator\u001b[0m\n",
      "\u001b[33m[ WARN] [1717042172.838566015]: TF_REPEATED_DATA ignoring data with redundant timestamp for frame odom at time 2221.422000 according to authority /pose_integrator\u001b[0m\n",
      "\u001b[33m[ WARN] [1717042172.838610699]: TF_REPEATED_DATA ignoring data with redundant timestamp for frame odom at time 2221.422000 according to authority /pose_integrator\u001b[0m\n",
      "\u001b[33m[ WARN] [1717042172.838652272]: TF_REPEATED_DATA ignoring data with redundant timestamp for frame odom at time 2221.422000 according to authority /pose_integrator\u001b[0m\n",
      "\u001b[33m[ WARN] [1717042172.838695773]: TF_REPEATED_DATA ignoring data with redundant timestamp for frame odom at time 2221.422000 according to authority /pose_integrator\u001b[0m\n",
      "\u001b[33m[ WARN] [1717042172.838742091]: TF_REPEATED_DATA ignoring data with redundant timestamp for frame odom at time 2221.422000 according to authority /pose_integrator\u001b[0m\n"
     ]
    },
    {
     "name": "stderr",
     "output_type": "stream",
     "text": [
      "\u001b[33m[ WARN] [1717042176.696663583]: TF_REPEATED_DATA ignoring data with redundant timestamp for frame odom at time 2222.469000 according to authority /pose_integrator\u001b[0m\n",
      "\u001b[33m[ WARN] [1717042176.696723107]: TF_REPEATED_DATA ignoring data with redundant timestamp for frame odom at time 2222.469000 according to authority /pose_integrator\u001b[0m\n",
      "\u001b[33m[ WARN] [1717042176.696760861]: TF_REPEATED_DATA ignoring data with redundant timestamp for frame odom at time 2222.469000 according to authority /pose_integrator\u001b[0m\n",
      "\u001b[33m[ WARN] [1717042176.696804344]: TF_REPEATED_DATA ignoring data with redundant timestamp for frame odom at time 2222.469000 according to authority /pose_integrator\u001b[0m\n",
      "\u001b[33m[ WARN] [1717042176.696858193]: TF_REPEATED_DATA ignoring data with redundant timestamp for frame odom at time 2222.469000 according to authority /pose_integrator\u001b[0m\n",
      "\u001b[33m[ WARN] [1717042176.696905933]: TF_REPEATED_DATA ignoring data with redundant timestamp for frame odom at time 2222.469000 according to authority /pose_integrator\u001b[0m\n",
      "\u001b[33m[ WARN] [1717042194.758576247]: TF_REPEATED_DATA ignoring data with redundant timestamp for frame odom at time 2226.900000 according to authority /pose_integrator\u001b[0m\n",
      "\u001b[33m[ WARN] [1717042194.758632895]: TF_REPEATED_DATA ignoring data with redundant timestamp for frame odom at time 2226.900000 according to authority /pose_integrator\u001b[0m\n",
      "\u001b[33m[ WARN] [1717042194.758671982]: TF_REPEATED_DATA ignoring data with redundant timestamp for frame odom at time 2226.900000 according to authority /pose_integrator\u001b[0m\n",
      "\u001b[33m[ WARN] [1717042194.758704306]: TF_REPEATED_DATA ignoring data with redundant timestamp for frame odom at time 2226.900000 according to authority /pose_integrator\u001b[0m\n",
      "\u001b[33m[ WARN] [1717042194.758741513]: TF_REPEATED_DATA ignoring data with redundant timestamp for frame odom at time 2226.900000 according to authority /pose_integrator\u001b[0m\n",
      "\u001b[33m[ WARN] [1717042194.758776515]: TF_REPEATED_DATA ignoring data with redundant timestamp for frame odom at time 2226.900000 according to authority /pose_integrator\u001b[0m\n",
      "\u001b[33m[ WARN] [1717042227.209580997]: TF_REPEATED_DATA ignoring data with redundant timestamp for frame odom at time 2234.328000 according to authority /pose_integrator\u001b[0m\n",
      "\u001b[33m[ WARN] [1717042227.209636715]: TF_REPEATED_DATA ignoring data with redundant timestamp for frame odom at time 2234.328000 according to authority /pose_integrator\u001b[0m\n",
      "\u001b[33m[ WARN] [1717042227.209680979]: TF_REPEATED_DATA ignoring data with redundant timestamp for frame odom at time 2234.328000 according to authority /pose_integrator\u001b[0m\n",
      "\u001b[33m[ WARN] [1717042227.209718529]: TF_REPEATED_DATA ignoring data with redundant timestamp for frame odom at time 2234.328000 according to authority /pose_integrator\u001b[0m\n",
      "\u001b[33m[ WARN] [1717042227.209752398]: TF_REPEATED_DATA ignoring data with redundant timestamp for frame odom at time 2234.328000 according to authority /pose_integrator\u001b[0m\n",
      "\u001b[33m[ WARN] [1717042227.209790458]: TF_REPEATED_DATA ignoring data with redundant timestamp for frame odom at time 2234.328000 according to authority /pose_integrator\u001b[0m\n",
      "\u001b[33m[ WARN] [1717042227.921925168]: TF_REPEATED_DATA ignoring data with redundant timestamp for frame odom at time 2234.515000 according to authority /pose_integrator\u001b[0m\n",
      "\u001b[33m[ WARN] [1717042227.921978925]: TF_REPEATED_DATA ignoring data with redundant timestamp for frame odom at time 2234.515000 according to authority /pose_integrator\u001b[0m\n",
      "\u001b[33m[ WARN] [1717042227.922017190]: TF_REPEATED_DATA ignoring data with redundant timestamp for frame odom at time 2234.515000 according to authority /pose_integrator\u001b[0m\n",
      "\u001b[33m[ WARN] [1717042227.922044430]: TF_REPEATED_DATA ignoring data with redundant timestamp for frame odom at time 2234.515000 according to authority /pose_integrator\u001b[0m\n",
      "\u001b[33m[ WARN] [1717042227.922082063]: TF_REPEATED_DATA ignoring data with redundant timestamp for frame odom at time 2234.515000 according to authority /pose_integrator\u001b[0m\n",
      "\u001b[33m[ WARN] [1717042227.922116029]: TF_REPEATED_DATA ignoring data with redundant timestamp for frame odom at time 2234.515000 according to authority /pose_integrator\u001b[0m\n",
      "\u001b[33m[ WARN] [1717042234.131539490]: TF_REPEATED_DATA ignoring data with redundant timestamp for frame odom at time 2236.061000 according to authority /pose_integrator\u001b[0m\n",
      "\u001b[33m[ WARN] [1717042234.131608309]: TF_REPEATED_DATA ignoring data with redundant timestamp for frame odom at time 2236.061000 according to authority /pose_integrator\u001b[0m\n",
      "\u001b[33m[ WARN] [1717042234.131649828]: TF_REPEATED_DATA ignoring data with redundant timestamp for frame odom at time 2236.061000 according to authority /pose_integrator\u001b[0m\n",
      "\u001b[33m[ WARN] [1717042234.131698955]: TF_REPEATED_DATA ignoring data with redundant timestamp for frame odom at time 2236.061000 according to authority /pose_integrator\u001b[0m\n",
      "\u001b[33m[ WARN] [1717042234.131748288]: TF_REPEATED_DATA ignoring data with redundant timestamp for frame odom at time 2236.061000 according to authority /pose_integrator\u001b[0m\n",
      "\u001b[33m[ WARN] [1717042234.131795490]: TF_REPEATED_DATA ignoring data with redundant timestamp for frame odom at time 2236.061000 according to authority /pose_integrator\u001b[0m\n",
      "\u001b[33m[ WARN] [1717042235.171335181]: TF_REPEATED_DATA ignoring data with redundant timestamp for frame odom at time 2236.322000 according to authority /pose_integrator\u001b[0m\n",
      "\u001b[33m[ WARN] [1717042235.171406677]: TF_REPEATED_DATA ignoring data with redundant timestamp for frame odom at time 2236.322000 according to authority /pose_integrator\u001b[0m\n",
      "\u001b[33m[ WARN] [1717042235.171447857]: TF_REPEATED_DATA ignoring data with redundant timestamp for frame odom at time 2236.322000 according to authority /pose_integrator\u001b[0m\n",
      "\u001b[33m[ WARN] [1717042235.171482044]: TF_REPEATED_DATA ignoring data with redundant timestamp for frame odom at time 2236.322000 according to authority /pose_integrator\u001b[0m\n",
      "\u001b[33m[ WARN] [1717042235.171524470]: TF_REPEATED_DATA ignoring data with redundant timestamp for frame odom at time 2236.322000 according to authority /pose_integrator\u001b[0m\n",
      "\u001b[33m[ WARN] [1717042235.171557619]: TF_REPEATED_DATA ignoring data with redundant timestamp for frame odom at time 2236.322000 according to authority /pose_integrator\u001b[0m\n",
      "\u001b[33m[ WARN] [1717042356.600315603]: TF_REPEATED_DATA ignoring data with redundant timestamp for frame odom at time 2266.667000 according to authority /pose_integrator\u001b[0m\n",
      "\u001b[33m[ WARN] [1717042356.600390171]: TF_REPEATED_DATA ignoring data with redundant timestamp for frame odom at time 2266.667000 according to authority /pose_integrator\u001b[0m\n",
      "\u001b[33m[ WARN] [1717042356.600433203]: TF_REPEATED_DATA ignoring data with redundant timestamp for frame odom at time 2266.667000 according to authority /pose_integrator\u001b[0m\n",
      "\u001b[33m[ WARN] [1717042356.600472208]: TF_REPEATED_DATA ignoring data with redundant timestamp for frame odom at time 2266.667000 according to authority /pose_integrator\u001b[0m\n",
      "\u001b[33m[ WARN] [1717042356.600509168]: TF_REPEATED_DATA ignoring data with redundant timestamp for frame odom at time 2266.667000 according to authority /pose_integrator\u001b[0m\n",
      "\u001b[33m[ WARN] [1717042356.600547293]: TF_REPEATED_DATA ignoring data with redundant timestamp for frame odom at time 2266.667000 according to authority /pose_integrator\u001b[0m\n",
      "\u001b[33m[ WARN] [1717042361.391659645]: TF_REPEATED_DATA ignoring data with redundant timestamp for frame odom at time 2267.964000 according to authority /pose_integrator\u001b[0m\n",
      "\u001b[33m[ WARN] [1717042361.391719420]: TF_REPEATED_DATA ignoring data with redundant timestamp for frame odom at time 2267.964000 according to authority /pose_integrator\u001b[0m\n",
      "\u001b[33m[ WARN] [1717042361.391756428]: TF_REPEATED_DATA ignoring data with redundant timestamp for frame odom at time 2267.964000 according to authority /pose_integrator\u001b[0m\n",
      "\u001b[33m[ WARN] [1717042361.391790502]: TF_REPEATED_DATA ignoring data with redundant timestamp for frame odom at time 2267.964000 according to authority /pose_integrator\u001b[0m\n",
      "\u001b[33m[ WARN] [1717042361.391822966]: TF_REPEATED_DATA ignoring data with redundant timestamp for frame odom at time 2267.964000 according to authority /pose_integrator\u001b[0m\n",
      "\u001b[33m[ WARN] [1717042361.391856708]: TF_REPEATED_DATA ignoring data with redundant timestamp for frame odom at time 2267.964000 according to authority /pose_integrator\u001b[0m\n"
     ]
    },
    {
     "name": "stderr",
     "output_type": "stream",
     "text": [
      "\u001b[33m[ WARN] [1717042394.225590517]: TF_REPEATED_DATA ignoring data with redundant timestamp for frame odom at time 2275.491000 according to authority /pose_integrator\u001b[0m\n",
      "\u001b[33m[ WARN] [1717042394.225658674]: TF_REPEATED_DATA ignoring data with redundant timestamp for frame odom at time 2275.491000 according to authority /pose_integrator\u001b[0m\n",
      "\u001b[33m[ WARN] [1717042394.225706219]: TF_REPEATED_DATA ignoring data with redundant timestamp for frame odom at time 2275.491000 according to authority /pose_integrator\u001b[0m\n",
      "\u001b[33m[ WARN] [1717042394.225748039]: TF_REPEATED_DATA ignoring data with redundant timestamp for frame odom at time 2275.491000 according to authority /pose_integrator\u001b[0m\n",
      "\u001b[33m[ WARN] [1717042394.225790117]: TF_REPEATED_DATA ignoring data with redundant timestamp for frame odom at time 2275.491000 according to authority /pose_integrator\u001b[0m\n",
      "\u001b[33m[ WARN] [1717042394.225854216]: TF_REPEATED_DATA ignoring data with redundant timestamp for frame odom at time 2275.491000 according to authority /pose_integrator\u001b[0m\n",
      "\u001b[33m[ WARN] [1717042426.605562058]: TF_REPEATED_DATA ignoring data with redundant timestamp for frame odom at time 2283.047000 according to authority /pose_integrator\u001b[0m\n",
      "\u001b[33m[ WARN] [1717042426.605626297]: TF_REPEATED_DATA ignoring data with redundant timestamp for frame odom at time 2283.047000 according to authority /pose_integrator\u001b[0m\n",
      "\u001b[33m[ WARN] [1717042426.605666238]: TF_REPEATED_DATA ignoring data with redundant timestamp for frame odom at time 2283.047000 according to authority /pose_integrator\u001b[0m\n",
      "\u001b[33m[ WARN] [1717042426.605713663]: TF_REPEATED_DATA ignoring data with redundant timestamp for frame odom at time 2283.047000 according to authority /pose_integrator\u001b[0m\n",
      "\u001b[33m[ WARN] [1717042426.605753163]: TF_REPEATED_DATA ignoring data with redundant timestamp for frame odom at time 2283.047000 according to authority /pose_integrator\u001b[0m\n",
      "\u001b[33m[ WARN] [1717042426.605809118]: TF_REPEATED_DATA ignoring data with redundant timestamp for frame odom at time 2283.047000 according to authority /pose_integrator\u001b[0m\n",
      "\u001b[33m[ WARN] [1717042445.659422202]: TF_REPEATED_DATA ignoring data with redundant timestamp for frame odom at time 2287.375000 according to authority /pose_integrator\u001b[0m\n",
      "\u001b[33m[ WARN] [1717042445.659472210]: TF_REPEATED_DATA ignoring data with redundant timestamp for frame odom at time 2287.375000 according to authority /pose_integrator\u001b[0m\n",
      "\u001b[33m[ WARN] [1717042445.659509697]: TF_REPEATED_DATA ignoring data with redundant timestamp for frame odom at time 2287.375000 according to authority /pose_integrator\u001b[0m\n",
      "\u001b[33m[ WARN] [1717042445.659545953]: TF_REPEATED_DATA ignoring data with redundant timestamp for frame odom at time 2287.375000 according to authority /pose_integrator\u001b[0m\n",
      "\u001b[33m[ WARN] [1717042445.659581864]: TF_REPEATED_DATA ignoring data with redundant timestamp for frame odom at time 2287.375000 according to authority /pose_integrator\u001b[0m\n",
      "\u001b[33m[ WARN] [1717042445.659618055]: TF_REPEATED_DATA ignoring data with redundant timestamp for frame odom at time 2287.375000 according to authority /pose_integrator\u001b[0m\n",
      "\u001b[33m[ WARN] [1717042516.628660163]: TF_REPEATED_DATA ignoring data with redundant timestamp for frame odom at time 2305.159000 according to authority /pose_integrator\u001b[0m\n",
      "\u001b[33m[ WARN] [1717042516.628725554]: TF_REPEATED_DATA ignoring data with redundant timestamp for frame odom at time 2305.159000 according to authority /pose_integrator\u001b[0m\n",
      "\u001b[33m[ WARN] [1717042516.628790789]: TF_REPEATED_DATA ignoring data with redundant timestamp for frame odom at time 2305.159000 according to authority /pose_integrator\u001b[0m\n",
      "\u001b[33m[ WARN] [1717042516.628869989]: TF_REPEATED_DATA ignoring data with redundant timestamp for frame odom at time 2305.159000 according to authority /pose_integrator\u001b[0m\n",
      "\u001b[33m[ WARN] [1717042516.628943009]: TF_REPEATED_DATA ignoring data with redundant timestamp for frame odom at time 2305.159000 according to authority /pose_integrator\u001b[0m\n",
      "\u001b[33m[ WARN] [1717042516.629016809]: TF_REPEATED_DATA ignoring data with redundant timestamp for frame odom at time 2305.159000 according to authority /pose_integrator\u001b[0m\n",
      "\u001b[33m[ WARN] [1717042617.742736600]: TF_REPEATED_DATA ignoring data with redundant timestamp for frame odom at time 2329.580000 according to authority /pose_integrator\u001b[0m\n",
      "\u001b[33m[ WARN] [1717042617.742793043]: TF_REPEATED_DATA ignoring data with redundant timestamp for frame odom at time 2329.580000 according to authority /pose_integrator\u001b[0m\n",
      "\u001b[33m[ WARN] [1717042617.742832848]: TF_REPEATED_DATA ignoring data with redundant timestamp for frame odom at time 2329.580000 according to authority /pose_integrator\u001b[0m\n",
      "\u001b[33m[ WARN] [1717042617.742874965]: TF_REPEATED_DATA ignoring data with redundant timestamp for frame odom at time 2329.580000 according to authority /pose_integrator\u001b[0m\n",
      "\u001b[33m[ WARN] [1717042617.742935947]: TF_REPEATED_DATA ignoring data with redundant timestamp for frame odom at time 2329.580000 according to authority /pose_integrator\u001b[0m\n",
      "\u001b[33m[ WARN] [1717042617.742989152]: TF_REPEATED_DATA ignoring data with redundant timestamp for frame odom at time 2329.580000 according to authority /pose_integrator\u001b[0m\n",
      "\u001b[33m[ WARN] [1717042664.135742639]: TF_REPEATED_DATA ignoring data with redundant timestamp for frame odom at time 2341.457000 according to authority /pose_integrator\u001b[0m\n",
      "\u001b[33m[ WARN] [1717042664.135793467]: TF_REPEATED_DATA ignoring data with redundant timestamp for frame odom at time 2341.457000 according to authority /pose_integrator\u001b[0m\n",
      "\u001b[33m[ WARN] [1717042664.135827708]: TF_REPEATED_DATA ignoring data with redundant timestamp for frame odom at time 2341.457000 according to authority /pose_integrator\u001b[0m\n",
      "\u001b[33m[ WARN] [1717042664.135864174]: TF_REPEATED_DATA ignoring data with redundant timestamp for frame odom at time 2341.457000 according to authority /pose_integrator\u001b[0m\n",
      "\u001b[33m[ WARN] [1717042664.135895198]: TF_REPEATED_DATA ignoring data with redundant timestamp for frame odom at time 2341.457000 according to authority /pose_integrator\u001b[0m\n",
      "\u001b[33m[ WARN] [1717042664.135922988]: TF_REPEATED_DATA ignoring data with redundant timestamp for frame odom at time 2341.457000 according to authority /pose_integrator\u001b[0m\n",
      "\u001b[33m[ WARN] [1717042681.686295256]: TF_REPEATED_DATA ignoring data with redundant timestamp for frame odom at time 2345.753000 according to authority /pose_integrator\u001b[0m\n",
      "\u001b[33m[ WARN] [1717042681.686383059]: TF_REPEATED_DATA ignoring data with redundant timestamp for frame odom at time 2345.753000 according to authority /pose_integrator\u001b[0m\n",
      "\u001b[33m[ WARN] [1717042681.686453900]: TF_REPEATED_DATA ignoring data with redundant timestamp for frame odom at time 2345.753000 according to authority /pose_integrator\u001b[0m\n",
      "\u001b[33m[ WARN] [1717042681.686519954]: TF_REPEATED_DATA ignoring data with redundant timestamp for frame odom at time 2345.753000 according to authority /pose_integrator\u001b[0m\n",
      "\u001b[33m[ WARN] [1717042681.686586079]: TF_REPEATED_DATA ignoring data with redundant timestamp for frame odom at time 2345.753000 according to authority /pose_integrator\u001b[0m\n",
      "\u001b[33m[ WARN] [1717042681.686657695]: TF_REPEATED_DATA ignoring data with redundant timestamp for frame odom at time 2345.753000 according to authority /pose_integrator\u001b[0m\n",
      "\u001b[33m[ WARN] [1717042684.142436104]: TF_REPEATED_DATA ignoring data with redundant timestamp for frame odom at time 2346.390000 according to authority /pose_integrator\u001b[0m\n",
      "\u001b[33m[ WARN] [1717042684.142487853]: TF_REPEATED_DATA ignoring data with redundant timestamp for frame odom at time 2346.390000 according to authority /pose_integrator\u001b[0m\n",
      "\u001b[33m[ WARN] [1717042684.143024734]: TF_REPEATED_DATA ignoring data with redundant timestamp for frame odom at time 2346.390000 according to authority /pose_integrator\u001b[0m\n",
      "\u001b[33m[ WARN] [1717042684.143078828]: TF_REPEATED_DATA ignoring data with redundant timestamp for frame odom at time 2346.390000 according to authority /pose_integrator\u001b[0m\n",
      "\u001b[33m[ WARN] [1717042684.143122644]: TF_REPEATED_DATA ignoring data with redundant timestamp for frame odom at time 2346.390000 according to authority /pose_integrator\u001b[0m\n",
      "\u001b[33m[ WARN] [1717042684.143149707]: TF_REPEATED_DATA ignoring data with redundant timestamp for frame odom at time 2346.390000 according to authority /pose_integrator\u001b[0m\n"
     ]
    },
    {
     "name": "stderr",
     "output_type": "stream",
     "text": [
      "\u001b[33m[ WARN] [1717042689.358540423]: TF_REPEATED_DATA ignoring data with redundant timestamp for frame odom at time 2347.584000 according to authority /pose_integrator\u001b[0m\n",
      "\u001b[33m[ WARN] [1717042689.358595231]: TF_REPEATED_DATA ignoring data with redundant timestamp for frame odom at time 2347.584000 according to authority /pose_integrator\u001b[0m\n",
      "\u001b[33m[ WARN] [1717042689.358632020]: TF_REPEATED_DATA ignoring data with redundant timestamp for frame odom at time 2347.584000 according to authority /pose_integrator\u001b[0m\n",
      "\u001b[33m[ WARN] [1717042689.358667035]: TF_REPEATED_DATA ignoring data with redundant timestamp for frame odom at time 2347.584000 according to authority /pose_integrator\u001b[0m\n",
      "\u001b[33m[ WARN] [1717042689.358703283]: TF_REPEATED_DATA ignoring data with redundant timestamp for frame odom at time 2347.584000 according to authority /pose_integrator\u001b[0m\n",
      "\u001b[33m[ WARN] [1717042689.358737259]: TF_REPEATED_DATA ignoring data with redundant timestamp for frame odom at time 2347.584000 according to authority /pose_integrator\u001b[0m\n",
      "\u001b[33m[ WARN] [1717042725.012342906]: TF_REPEATED_DATA ignoring data with redundant timestamp for frame odom at time 2355.978000 according to authority /pose_integrator\u001b[0m\n",
      "\u001b[33m[ WARN] [1717042725.012407606]: TF_REPEATED_DATA ignoring data with redundant timestamp for frame odom at time 2355.978000 according to authority /pose_integrator\u001b[0m\n",
      "\u001b[33m[ WARN] [1717042725.012451296]: TF_REPEATED_DATA ignoring data with redundant timestamp for frame odom at time 2355.978000 according to authority /pose_integrator\u001b[0m\n",
      "\u001b[33m[ WARN] [1717042725.012485157]: TF_REPEATED_DATA ignoring data with redundant timestamp for frame odom at time 2355.978000 according to authority /pose_integrator\u001b[0m\n",
      "\u001b[33m[ WARN] [1717042725.012517574]: TF_REPEATED_DATA ignoring data with redundant timestamp for frame odom at time 2355.978000 according to authority /pose_integrator\u001b[0m\n",
      "\u001b[33m[ WARN] [1717042725.012555607]: TF_REPEATED_DATA ignoring data with redundant timestamp for frame odom at time 2355.978000 according to authority /pose_integrator\u001b[0m\n",
      "\u001b[33m[ WARN] [1717042756.823145271]: TF_REPEATED_DATA ignoring data with redundant timestamp for frame odom at time 2363.933000 according to authority /pose_integrator\u001b[0m\n",
      "\u001b[33m[ WARN] [1717042756.823197987]: TF_REPEATED_DATA ignoring data with redundant timestamp for frame odom at time 2363.933000 according to authority /pose_integrator\u001b[0m\n",
      "\u001b[33m[ WARN] [1717042756.823233902]: TF_REPEATED_DATA ignoring data with redundant timestamp for frame odom at time 2363.933000 according to authority /pose_integrator\u001b[0m\n",
      "\u001b[33m[ WARN] [1717042756.823263797]: TF_REPEATED_DATA ignoring data with redundant timestamp for frame odom at time 2363.933000 according to authority /pose_integrator\u001b[0m\n",
      "\u001b[33m[ WARN] [1717042756.823298858]: TF_REPEATED_DATA ignoring data with redundant timestamp for frame odom at time 2363.933000 according to authority /pose_integrator\u001b[0m\n",
      "\u001b[33m[ WARN] [1717042756.823329064]: TF_REPEATED_DATA ignoring data with redundant timestamp for frame odom at time 2363.933000 according to authority /pose_integrator\u001b[0m\n",
      "\u001b[33m[ WARN] [1717042770.957765391]: TF_REPEATED_DATA ignoring data with redundant timestamp for frame odom at time 2367.162000 according to authority /pose_integrator\u001b[0m\n",
      "\u001b[33m[ WARN] [1717042770.957827767]: TF_REPEATED_DATA ignoring data with redundant timestamp for frame odom at time 2367.162000 according to authority /pose_integrator\u001b[0m\n",
      "\u001b[33m[ WARN] [1717042770.957875985]: TF_REPEATED_DATA ignoring data with redundant timestamp for frame odom at time 2367.162000 according to authority /pose_integrator\u001b[0m\n",
      "\u001b[33m[ WARN] [1717042770.957916355]: TF_REPEATED_DATA ignoring data with redundant timestamp for frame odom at time 2367.162000 according to authority /pose_integrator\u001b[0m\n",
      "\u001b[33m[ WARN] [1717042770.957966452]: TF_REPEATED_DATA ignoring data with redundant timestamp for frame odom at time 2367.162000 according to authority /pose_integrator\u001b[0m\n",
      "\u001b[33m[ WARN] [1717042770.958001674]: TF_REPEATED_DATA ignoring data with redundant timestamp for frame odom at time 2367.162000 according to authority /pose_integrator\u001b[0m\n",
      "\u001b[33m[ WARN] [1717042804.356054484]: TF_REPEATED_DATA ignoring data with redundant timestamp for frame odom at time 2375.195000 according to authority /pose_integrator\u001b[0m\n",
      "\u001b[33m[ WARN] [1717042804.356152006]: TF_REPEATED_DATA ignoring data with redundant timestamp for frame odom at time 2375.195000 according to authority /pose_integrator\u001b[0m\n",
      "\u001b[33m[ WARN] [1717042804.356201377]: TF_REPEATED_DATA ignoring data with redundant timestamp for frame odom at time 2375.195000 according to authority /pose_integrator\u001b[0m\n",
      "\u001b[33m[ WARN] [1717042804.356237604]: TF_REPEATED_DATA ignoring data with redundant timestamp for frame odom at time 2375.195000 according to authority /pose_integrator\u001b[0m\n",
      "\u001b[33m[ WARN] [1717042804.356285311]: TF_REPEATED_DATA ignoring data with redundant timestamp for frame odom at time 2375.195000 according to authority /pose_integrator\u001b[0m\n",
      "\u001b[33m[ WARN] [1717042804.356325551]: TF_REPEATED_DATA ignoring data with redundant timestamp for frame odom at time 2375.195000 according to authority /pose_integrator\u001b[0m\n",
      "\u001b[33m[ WARN] [1717042864.618715300]: TF_REPEATED_DATA ignoring data with redundant timestamp for frame odom at time 2390.179000 according to authority /pose_integrator\u001b[0m\n",
      "\u001b[33m[ WARN] [1717042864.618759649]: TF_REPEATED_DATA ignoring data with redundant timestamp for frame odom at time 2390.179000 according to authority /pose_integrator\u001b[0m\n",
      "\u001b[33m[ WARN] [1717042864.618786555]: TF_REPEATED_DATA ignoring data with redundant timestamp for frame odom at time 2390.179000 according to authority /pose_integrator\u001b[0m\n",
      "\u001b[33m[ WARN] [1717042864.618811826]: TF_REPEATED_DATA ignoring data with redundant timestamp for frame odom at time 2390.179000 according to authority /pose_integrator\u001b[0m\n",
      "\u001b[33m[ WARN] [1717042864.618836903]: TF_REPEATED_DATA ignoring data with redundant timestamp for frame odom at time 2390.179000 according to authority /pose_integrator\u001b[0m\n",
      "\u001b[33m[ WARN] [1717042864.618862454]: TF_REPEATED_DATA ignoring data with redundant timestamp for frame odom at time 2390.179000 according to authority /pose_integrator\u001b[0m\n",
      "\u001b[33m[ WARN] [1717042866.259547691]: TF_REPEATED_DATA ignoring data with redundant timestamp for frame odom at time 2390.561000 according to authority /pose_integrator\u001b[0m\n",
      "\u001b[33m[ WARN] [1717042866.259591151]: TF_REPEATED_DATA ignoring data with redundant timestamp for frame odom at time 2390.561000 according to authority /pose_integrator\u001b[0m\n",
      "\u001b[33m[ WARN] [1717042866.259620727]: TF_REPEATED_DATA ignoring data with redundant timestamp for frame odom at time 2390.561000 according to authority /pose_integrator\u001b[0m\n",
      "\u001b[33m[ WARN] [1717042866.259646911]: TF_REPEATED_DATA ignoring data with redundant timestamp for frame odom at time 2390.561000 according to authority /pose_integrator\u001b[0m\n",
      "\u001b[33m[ WARN] [1717042866.259672604]: TF_REPEATED_DATA ignoring data with redundant timestamp for frame odom at time 2390.561000 according to authority /pose_integrator\u001b[0m\n",
      "\u001b[33m[ WARN] [1717042866.259697828]: TF_REPEATED_DATA ignoring data with redundant timestamp for frame odom at time 2390.561000 according to authority /pose_integrator\u001b[0m\n",
      "\u001b[33m[ WARN] [1717042875.788480141]: TF_REPEATED_DATA ignoring data with redundant timestamp for frame odom at time 2392.921000 according to authority /pose_integrator\u001b[0m\n",
      "\u001b[33m[ WARN] [1717042875.788524111]: TF_REPEATED_DATA ignoring data with redundant timestamp for frame odom at time 2392.921000 according to authority /pose_integrator\u001b[0m\n",
      "\u001b[33m[ WARN] [1717042875.788551619]: TF_REPEATED_DATA ignoring data with redundant timestamp for frame odom at time 2392.921000 according to authority /pose_integrator\u001b[0m\n",
      "\u001b[33m[ WARN] [1717042875.788585183]: TF_REPEATED_DATA ignoring data with redundant timestamp for frame odom at time 2392.921000 according to authority /pose_integrator\u001b[0m\n",
      "\u001b[33m[ WARN] [1717042875.788613752]: TF_REPEATED_DATA ignoring data with redundant timestamp for frame odom at time 2392.921000 according to authority /pose_integrator\u001b[0m\n",
      "\u001b[33m[ WARN] [1717042875.788643009]: TF_REPEATED_DATA ignoring data with redundant timestamp for frame odom at time 2392.921000 according to authority /pose_integrator\u001b[0m\n"
     ]
    },
    {
     "name": "stderr",
     "output_type": "stream",
     "text": [
      "\u001b[33m[ WARN] [1717042877.290058955]: TF_REPEATED_DATA ignoring data with redundant timestamp for frame odom at time 2393.345000 according to authority /pose_integrator\u001b[0m\n",
      "\u001b[33m[ WARN] [1717042877.290122611]: TF_REPEATED_DATA ignoring data with redundant timestamp for frame odom at time 2393.345000 according to authority /pose_integrator\u001b[0m\n",
      "\u001b[33m[ WARN] [1717042877.290160582]: TF_REPEATED_DATA ignoring data with redundant timestamp for frame odom at time 2393.345000 according to authority /pose_integrator\u001b[0m\n",
      "\u001b[33m[ WARN] [1717042877.290188957]: TF_REPEATED_DATA ignoring data with redundant timestamp for frame odom at time 2393.345000 according to authority /pose_integrator\u001b[0m\n",
      "\u001b[33m[ WARN] [1717042877.290215867]: TF_REPEATED_DATA ignoring data with redundant timestamp for frame odom at time 2393.345000 according to authority /pose_integrator\u001b[0m\n",
      "\u001b[33m[ WARN] [1717042877.290241145]: TF_REPEATED_DATA ignoring data with redundant timestamp for frame odom at time 2393.345000 according to authority /pose_integrator\u001b[0m\n",
      "\u001b[33m[ WARN] [1717042906.146043877]: TF_REPEATED_DATA ignoring data with redundant timestamp for frame odom at time 2400.738000 according to authority /pose_integrator\u001b[0m\n",
      "\u001b[33m[ WARN] [1717042906.146096602]: TF_REPEATED_DATA ignoring data with redundant timestamp for frame odom at time 2400.738000 according to authority /pose_integrator\u001b[0m\n",
      "\u001b[33m[ WARN] [1717042906.146131551]: TF_REPEATED_DATA ignoring data with redundant timestamp for frame odom at time 2400.738000 according to authority /pose_integrator\u001b[0m\n",
      "\u001b[33m[ WARN] [1717042906.146165577]: TF_REPEATED_DATA ignoring data with redundant timestamp for frame odom at time 2400.738000 according to authority /pose_integrator\u001b[0m\n",
      "\u001b[33m[ WARN] [1717042906.146198747]: TF_REPEATED_DATA ignoring data with redundant timestamp for frame odom at time 2400.738000 according to authority /pose_integrator\u001b[0m\n",
      "\u001b[33m[ WARN] [1717042906.146235670]: TF_REPEATED_DATA ignoring data with redundant timestamp for frame odom at time 2400.738000 according to authority /pose_integrator\u001b[0m\n",
      "\u001b[33m[ WARN] [1717042906.687990495]: TF_REPEATED_DATA ignoring data with redundant timestamp for frame odom at time 2400.903000 according to authority /pose_integrator\u001b[0m\n",
      "\u001b[33m[ WARN] [1717042906.688052046]: TF_REPEATED_DATA ignoring data with redundant timestamp for frame odom at time 2400.903000 according to authority /pose_integrator\u001b[0m\n",
      "\u001b[33m[ WARN] [1717042906.688080257]: TF_REPEATED_DATA ignoring data with redundant timestamp for frame odom at time 2400.903000 according to authority /pose_integrator\u001b[0m\n",
      "\u001b[33m[ WARN] [1717042906.688110843]: TF_REPEATED_DATA ignoring data with redundant timestamp for frame odom at time 2400.903000 according to authority /pose_integrator\u001b[0m\n",
      "\u001b[33m[ WARN] [1717042906.688138299]: TF_REPEATED_DATA ignoring data with redundant timestamp for frame odom at time 2400.903000 according to authority /pose_integrator\u001b[0m\n",
      "\u001b[33m[ WARN] [1717042906.688167937]: TF_REPEATED_DATA ignoring data with redundant timestamp for frame odom at time 2400.903000 according to authority /pose_integrator\u001b[0m\n",
      "\u001b[33m[ WARN] [1717042938.608761854]: TF_REPEATED_DATA ignoring data with redundant timestamp for frame odom at time 2409.566000 according to authority /pose_integrator\u001b[0m\n",
      "\u001b[33m[ WARN] [1717042938.608816943]: TF_REPEATED_DATA ignoring data with redundant timestamp for frame odom at time 2409.566000 according to authority /pose_integrator\u001b[0m\n",
      "\u001b[33m[ WARN] [1717042938.608856461]: TF_REPEATED_DATA ignoring data with redundant timestamp for frame odom at time 2409.566000 according to authority /pose_integrator\u001b[0m\n",
      "\u001b[33m[ WARN] [1717042938.608892770]: TF_REPEATED_DATA ignoring data with redundant timestamp for frame odom at time 2409.566000 according to authority /pose_integrator\u001b[0m\n",
      "\u001b[33m[ WARN] [1717042938.608928744]: TF_REPEATED_DATA ignoring data with redundant timestamp for frame odom at time 2409.566000 according to authority /pose_integrator\u001b[0m\n",
      "\u001b[33m[ WARN] [1717042938.608957910]: TF_REPEATED_DATA ignoring data with redundant timestamp for frame odom at time 2409.566000 according to authority /pose_integrator\u001b[0m\n",
      "\u001b[33m[ WARN] [1717042938.844440340]: TF_REPEATED_DATA ignoring data with redundant timestamp for frame odom at time 2409.636000 according to authority /pose_integrator\u001b[0m\n",
      "\u001b[33m[ WARN] [1717042938.844506501]: TF_REPEATED_DATA ignoring data with redundant timestamp for frame odom at time 2409.636000 according to authority /pose_integrator\u001b[0m\n",
      "\u001b[33m[ WARN] [1717042938.844549253]: TF_REPEATED_DATA ignoring data with redundant timestamp for frame odom at time 2409.636000 according to authority /pose_integrator\u001b[0m\n",
      "\u001b[33m[ WARN] [1717042938.844580474]: TF_REPEATED_DATA ignoring data with redundant timestamp for frame odom at time 2409.636000 according to authority /pose_integrator\u001b[0m\n",
      "\u001b[33m[ WARN] [1717042938.844606904]: TF_REPEATED_DATA ignoring data with redundant timestamp for frame odom at time 2409.636000 according to authority /pose_integrator\u001b[0m\n",
      "\u001b[33m[ WARN] [1717042938.844644805]: TF_REPEATED_DATA ignoring data with redundant timestamp for frame odom at time 2409.636000 according to authority /pose_integrator\u001b[0m\n",
      "\u001b[33m[ WARN] [1717042939.122168660]: TF_REPEATED_DATA ignoring data with redundant timestamp for frame odom at time 2409.745000 according to authority /pose_integrator\u001b[0m\n",
      "\u001b[33m[ WARN] [1717042939.122224394]: TF_REPEATED_DATA ignoring data with redundant timestamp for frame odom at time 2409.745000 according to authority /pose_integrator\u001b[0m\n",
      "\u001b[33m[ WARN] [1717042939.122269560]: TF_REPEATED_DATA ignoring data with redundant timestamp for frame odom at time 2409.745000 according to authority /pose_integrator\u001b[0m\n",
      "\u001b[33m[ WARN] [1717042939.122302554]: TF_REPEATED_DATA ignoring data with redundant timestamp for frame odom at time 2409.745000 according to authority /pose_integrator\u001b[0m\n",
      "\u001b[33m[ WARN] [1717042939.122334080]: TF_REPEATED_DATA ignoring data with redundant timestamp for frame odom at time 2409.745000 according to authority /pose_integrator\u001b[0m\n",
      "\u001b[33m[ WARN] [1717042939.122371532]: TF_REPEATED_DATA ignoring data with redundant timestamp for frame odom at time 2409.745000 according to authority /pose_integrator\u001b[0m\n",
      "\u001b[33m[ WARN] [1717042939.788264695]: TF_REPEATED_DATA ignoring data with redundant timestamp for frame odom at time 2409.968000 according to authority /pose_integrator\u001b[0m\n",
      "\u001b[33m[ WARN] [1717042939.788319828]: TF_REPEATED_DATA ignoring data with redundant timestamp for frame odom at time 2409.968000 according to authority /pose_integrator\u001b[0m\n",
      "\u001b[33m[ WARN] [1717042939.788411115]: TF_REPEATED_DATA ignoring data with redundant timestamp for frame odom at time 2409.968000 according to authority /pose_integrator\u001b[0m\n",
      "\u001b[33m[ WARN] [1717042939.788458905]: TF_REPEATED_DATA ignoring data with redundant timestamp for frame odom at time 2409.968000 according to authority /pose_integrator\u001b[0m\n",
      "\u001b[33m[ WARN] [1717042939.788496796]: TF_REPEATED_DATA ignoring data with redundant timestamp for frame odom at time 2409.968000 according to authority /pose_integrator\u001b[0m\n",
      "\u001b[33m[ WARN] [1717042939.788549137]: TF_REPEATED_DATA ignoring data with redundant timestamp for frame odom at time 2409.968000 according to authority /pose_integrator\u001b[0m\n",
      "\u001b[33m[ WARN] [1717042947.552144235]: TF_REPEATED_DATA ignoring data with redundant timestamp for frame odom at time 2412.195000 according to authority /pose_integrator\u001b[0m\n",
      "\u001b[33m[ WARN] [1717042947.552195378]: TF_REPEATED_DATA ignoring data with redundant timestamp for frame odom at time 2412.195000 according to authority /pose_integrator\u001b[0m\n",
      "\u001b[33m[ WARN] [1717042947.552224853]: TF_REPEATED_DATA ignoring data with redundant timestamp for frame odom at time 2412.195000 according to authority /pose_integrator\u001b[0m\n",
      "\u001b[33m[ WARN] [1717042947.552253710]: TF_REPEATED_DATA ignoring data with redundant timestamp for frame odom at time 2412.195000 according to authority /pose_integrator\u001b[0m\n",
      "\u001b[33m[ WARN] [1717042947.552298931]: TF_REPEATED_DATA ignoring data with redundant timestamp for frame odom at time 2412.195000 according to authority /pose_integrator\u001b[0m\n",
      "\u001b[33m[ WARN] [1717042947.552344395]: TF_REPEATED_DATA ignoring data with redundant timestamp for frame odom at time 2412.195000 according to authority /pose_integrator\u001b[0m\n",
      "\u001b[33m[ WARN] [1717042947.722001133]: TF_REPEATED_DATA ignoring data with redundant timestamp for frame odom at time 2412.257000 according to authority /pose_integrator\u001b[0m\n",
      "\u001b[33m[ WARN] [1717042947.722051493]: TF_REPEATED_DATA ignoring data with redundant timestamp for frame odom at time 2412.257000 according to authority /pose_integrator\u001b[0m\n",
      "\u001b[33m[ WARN] [1717042947.722094530]: TF_REPEATED_DATA ignoring data with redundant timestamp for frame odom at time 2412.257000 according to authority /pose_integrator\u001b[0m\n",
      "\u001b[33m[ WARN] [1717042947.722128804]: TF_REPEATED_DATA ignoring data with redundant timestamp for frame odom at time 2412.257000 according to authority /pose_integrator\u001b[0m\n",
      "\u001b[33m[ WARN] [1717042947.722161899]: TF_REPEATED_DATA ignoring data with redundant timestamp for frame odom at time 2412.257000 according to authority /pose_integrator\u001b[0m\n",
      "\u001b[33m[ WARN] [1717042947.722189470]: TF_REPEATED_DATA ignoring data with redundant timestamp for frame odom at time 2412.257000 according to authority /pose_integrator\u001b[0m\n"
     ]
    },
    {
     "name": "stderr",
     "output_type": "stream",
     "text": [
      "\u001b[33m[ WARN] [1717042947.989853154]: TF_REPEATED_DATA ignoring data with redundant timestamp for frame odom at time 2412.359000 according to authority /pose_integrator\u001b[0m\n",
      "\u001b[33m[ WARN] [1717042947.989902829]: TF_REPEATED_DATA ignoring data with redundant timestamp for frame odom at time 2412.359000 according to authority /pose_integrator\u001b[0m\n",
      "\u001b[33m[ WARN] [1717042947.989936980]: TF_REPEATED_DATA ignoring data with redundant timestamp for frame odom at time 2412.359000 according to authority /pose_integrator\u001b[0m\n",
      "\u001b[33m[ WARN] [1717042947.989985568]: TF_REPEATED_DATA ignoring data with redundant timestamp for frame odom at time 2412.359000 according to authority /pose_integrator\u001b[0m\n",
      "\u001b[33m[ WARN] [1717042947.990014840]: TF_REPEATED_DATA ignoring data with redundant timestamp for frame odom at time 2412.359000 according to authority /pose_integrator\u001b[0m\n",
      "\u001b[33m[ WARN] [1717042947.990043333]: TF_REPEATED_DATA ignoring data with redundant timestamp for frame odom at time 2412.359000 according to authority /pose_integrator\u001b[0m\n",
      "\u001b[33m[ WARN] [1717042952.045495390]: TF_REPEATED_DATA ignoring data with redundant timestamp for frame odom at time 2413.564000 according to authority /pose_integrator\u001b[0m\n",
      "\u001b[33m[ WARN] [1717042952.045569144]: TF_REPEATED_DATA ignoring data with redundant timestamp for frame odom at time 2413.564000 according to authority /pose_integrator\u001b[0m\n",
      "\u001b[33m[ WARN] [1717042952.045605131]: TF_REPEATED_DATA ignoring data with redundant timestamp for frame odom at time 2413.564000 according to authority /pose_integrator\u001b[0m\n",
      "\u001b[33m[ WARN] [1717042952.045635747]: TF_REPEATED_DATA ignoring data with redundant timestamp for frame odom at time 2413.564000 according to authority /pose_integrator\u001b[0m\n",
      "\u001b[33m[ WARN] [1717042952.045665933]: TF_REPEATED_DATA ignoring data with redundant timestamp for frame odom at time 2413.564000 according to authority /pose_integrator\u001b[0m\n",
      "\u001b[33m[ WARN] [1717042952.045697396]: TF_REPEATED_DATA ignoring data with redundant timestamp for frame odom at time 2413.564000 according to authority /pose_integrator\u001b[0m\n",
      "\u001b[33m[ WARN] [1717042955.915187250]: TF_REPEATED_DATA ignoring data with redundant timestamp for frame odom at time 2414.704000 according to authority /pose_integrator\u001b[0m\n",
      "\u001b[33m[ WARN] [1717042955.915248827]: TF_REPEATED_DATA ignoring data with redundant timestamp for frame odom at time 2414.704000 according to authority /pose_integrator\u001b[0m\n",
      "\u001b[33m[ WARN] [1717042955.915285520]: TF_REPEATED_DATA ignoring data with redundant timestamp for frame odom at time 2414.704000 according to authority /pose_integrator\u001b[0m\n",
      "\u001b[33m[ WARN] [1717042955.915317338]: TF_REPEATED_DATA ignoring data with redundant timestamp for frame odom at time 2414.704000 according to authority /pose_integrator\u001b[0m\n",
      "\u001b[33m[ WARN] [1717042955.915349337]: TF_REPEATED_DATA ignoring data with redundant timestamp for frame odom at time 2414.704000 according to authority /pose_integrator\u001b[0m\n",
      "\u001b[33m[ WARN] [1717042955.915387130]: TF_REPEATED_DATA ignoring data with redundant timestamp for frame odom at time 2414.704000 according to authority /pose_integrator\u001b[0m\n",
      "\u001b[33m[ WARN] [1717042957.233915570]: TF_REPEATED_DATA ignoring data with redundant timestamp for frame odom at time 2415.094000 according to authority /pose_integrator\u001b[0m\n",
      "\u001b[33m[ WARN] [1717042957.233965399]: TF_REPEATED_DATA ignoring data with redundant timestamp for frame odom at time 2415.094000 according to authority /pose_integrator\u001b[0m\n",
      "\u001b[33m[ WARN] [1717042957.233994714]: TF_REPEATED_DATA ignoring data with redundant timestamp for frame odom at time 2415.094000 according to authority /pose_integrator\u001b[0m\n",
      "\u001b[33m[ WARN] [1717042957.234020600]: TF_REPEATED_DATA ignoring data with redundant timestamp for frame odom at time 2415.094000 according to authority /pose_integrator\u001b[0m\n",
      "\u001b[33m[ WARN] [1717042957.234046743]: TF_REPEATED_DATA ignoring data with redundant timestamp for frame odom at time 2415.094000 according to authority /pose_integrator\u001b[0m\n",
      "\u001b[33m[ WARN] [1717042957.234072591]: TF_REPEATED_DATA ignoring data with redundant timestamp for frame odom at time 2415.094000 according to authority /pose_integrator\u001b[0m\n",
      "\u001b[33m[ WARN] [1717042957.431828786]: TF_REPEATED_DATA ignoring data with redundant timestamp for frame odom at time 2415.160000 according to authority /pose_integrator\u001b[0m\n",
      "\u001b[33m[ WARN] [1717042957.431884644]: TF_REPEATED_DATA ignoring data with redundant timestamp for frame odom at time 2415.160000 according to authority /pose_integrator\u001b[0m\n",
      "\u001b[33m[ WARN] [1717042957.431925234]: TF_REPEATED_DATA ignoring data with redundant timestamp for frame odom at time 2415.160000 according to authority /pose_integrator\u001b[0m\n",
      "\u001b[33m[ WARN] [1717042957.431965404]: TF_REPEATED_DATA ignoring data with redundant timestamp for frame odom at time 2415.160000 according to authority /pose_integrator\u001b[0m\n",
      "\u001b[33m[ WARN] [1717042957.432000777]: TF_REPEATED_DATA ignoring data with redundant timestamp for frame odom at time 2415.160000 according to authority /pose_integrator\u001b[0m\n",
      "\u001b[33m[ WARN] [1717042957.432034049]: TF_REPEATED_DATA ignoring data with redundant timestamp for frame odom at time 2415.160000 according to authority /pose_integrator\u001b[0m\n",
      "\u001b[33m[ WARN] [1717042957.639330284]: TF_REPEATED_DATA ignoring data with redundant timestamp for frame odom at time 2415.233000 according to authority /pose_integrator\u001b[0m\n",
      "\u001b[33m[ WARN] [1717042957.639378206]: TF_REPEATED_DATA ignoring data with redundant timestamp for frame odom at time 2415.233000 according to authority /pose_integrator\u001b[0m\n",
      "\u001b[33m[ WARN] [1717042957.639406062]: TF_REPEATED_DATA ignoring data with redundant timestamp for frame odom at time 2415.233000 according to authority /pose_integrator\u001b[0m\n",
      "\u001b[33m[ WARN] [1717042957.639431732]: TF_REPEATED_DATA ignoring data with redundant timestamp for frame odom at time 2415.233000 according to authority /pose_integrator\u001b[0m\n",
      "\u001b[33m[ WARN] [1717042957.639456949]: TF_REPEATED_DATA ignoring data with redundant timestamp for frame odom at time 2415.233000 according to authority /pose_integrator\u001b[0m\n",
      "\u001b[33m[ WARN] [1717042957.639484953]: TF_REPEATED_DATA ignoring data with redundant timestamp for frame odom at time 2415.233000 according to authority /pose_integrator\u001b[0m\n",
      "\u001b[33m[ WARN] [1717042957.994976621]: TF_REPEATED_DATA ignoring data with redundant timestamp for frame odom at time 2415.362000 according to authority /pose_integrator\u001b[0m\n",
      "\u001b[33m[ WARN] [1717042957.995018860]: TF_REPEATED_DATA ignoring data with redundant timestamp for frame odom at time 2415.362000 according to authority /pose_integrator\u001b[0m\n",
      "\u001b[33m[ WARN] [1717042957.995044753]: TF_REPEATED_DATA ignoring data with redundant timestamp for frame odom at time 2415.362000 according to authority /pose_integrator\u001b[0m\n",
      "\u001b[33m[ WARN] [1717042957.995069847]: TF_REPEATED_DATA ignoring data with redundant timestamp for frame odom at time 2415.362000 according to authority /pose_integrator\u001b[0m\n",
      "\u001b[33m[ WARN] [1717042957.995094135]: TF_REPEATED_DATA ignoring data with redundant timestamp for frame odom at time 2415.362000 according to authority /pose_integrator\u001b[0m\n",
      "\u001b[33m[ WARN] [1717042957.995117809]: TF_REPEATED_DATA ignoring data with redundant timestamp for frame odom at time 2415.362000 according to authority /pose_integrator\u001b[0m\n",
      "\u001b[33m[ WARN] [1717042958.436913517]: TF_REPEATED_DATA ignoring data with redundant timestamp for frame odom at time 2415.497000 according to authority /pose_integrator\u001b[0m\n",
      "\u001b[33m[ WARN] [1717042958.436989622]: TF_REPEATED_DATA ignoring data with redundant timestamp for frame odom at time 2415.497000 according to authority /pose_integrator\u001b[0m\n",
      "\u001b[33m[ WARN] [1717042958.437019899]: TF_REPEATED_DATA ignoring data with redundant timestamp for frame odom at time 2415.497000 according to authority /pose_integrator\u001b[0m\n",
      "\u001b[33m[ WARN] [1717042958.437053109]: TF_REPEATED_DATA ignoring data with redundant timestamp for frame odom at time 2415.497000 according to authority /pose_integrator\u001b[0m\n",
      "\u001b[33m[ WARN] [1717042958.437084258]: TF_REPEATED_DATA ignoring data with redundant timestamp for frame odom at time 2415.497000 according to authority /pose_integrator\u001b[0m\n",
      "\u001b[33m[ WARN] [1717042958.437124314]: TF_REPEATED_DATA ignoring data with redundant timestamp for frame odom at time 2415.497000 according to authority /pose_integrator\u001b[0m\n"
     ]
    },
    {
     "name": "stderr",
     "output_type": "stream",
     "text": [
      "\u001b[33m[ WARN] [1717042958.794599865]: TF_REPEATED_DATA ignoring data with redundant timestamp for frame odom at time 2415.621000 according to authority /pose_integrator\u001b[0m\n",
      "\u001b[33m[ WARN] [1717042958.794667302]: TF_REPEATED_DATA ignoring data with redundant timestamp for frame odom at time 2415.621000 according to authority /pose_integrator\u001b[0m\n",
      "\u001b[33m[ WARN] [1717042958.794702589]: TF_REPEATED_DATA ignoring data with redundant timestamp for frame odom at time 2415.621000 according to authority /pose_integrator\u001b[0m\n",
      "\u001b[33m[ WARN] [1717042958.794739317]: TF_REPEATED_DATA ignoring data with redundant timestamp for frame odom at time 2415.621000 according to authority /pose_integrator\u001b[0m\n",
      "\u001b[33m[ WARN] [1717042958.794767827]: TF_REPEATED_DATA ignoring data with redundant timestamp for frame odom at time 2415.621000 according to authority /pose_integrator\u001b[0m\n",
      "\u001b[33m[ WARN] [1717042958.794796980]: TF_REPEATED_DATA ignoring data with redundant timestamp for frame odom at time 2415.621000 according to authority /pose_integrator\u001b[0m\n",
      "\u001b[33m[ WARN] [1717042964.456288282]: TF_REPEATED_DATA ignoring data with redundant timestamp for frame odom at time 2417.242000 according to authority /pose_integrator\u001b[0m\n",
      "\u001b[33m[ WARN] [1717042964.456329399]: TF_REPEATED_DATA ignoring data with redundant timestamp for frame odom at time 2417.242000 according to authority /pose_integrator\u001b[0m\n",
      "\u001b[33m[ WARN] [1717042964.456363973]: TF_REPEATED_DATA ignoring data with redundant timestamp for frame odom at time 2417.242000 according to authority /pose_integrator\u001b[0m\n",
      "\u001b[33m[ WARN] [1717042964.456391151]: TF_REPEATED_DATA ignoring data with redundant timestamp for frame odom at time 2417.242000 according to authority /pose_integrator\u001b[0m\n",
      "\u001b[33m[ WARN] [1717042964.456416265]: TF_REPEATED_DATA ignoring data with redundant timestamp for frame odom at time 2417.242000 according to authority /pose_integrator\u001b[0m\n",
      "\u001b[33m[ WARN] [1717042964.456442434]: TF_REPEATED_DATA ignoring data with redundant timestamp for frame odom at time 2417.242000 according to authority /pose_integrator\u001b[0m\n",
      "\u001b[33m[ WARN] [1717042964.656369491]: TF_REPEATED_DATA ignoring data with redundant timestamp for frame odom at time 2417.333000 according to authority /pose_integrator\u001b[0m\n",
      "\u001b[33m[ WARN] [1717042964.656407539]: TF_REPEATED_DATA ignoring data with redundant timestamp for frame odom at time 2417.333000 according to authority /pose_integrator\u001b[0m\n",
      "\u001b[33m[ WARN] [1717042964.656434022]: TF_REPEATED_DATA ignoring data with redundant timestamp for frame odom at time 2417.333000 according to authority /pose_integrator\u001b[0m\n",
      "\u001b[33m[ WARN] [1717042964.656462239]: TF_REPEATED_DATA ignoring data with redundant timestamp for frame odom at time 2417.333000 according to authority /pose_integrator\u001b[0m\n",
      "\u001b[33m[ WARN] [1717042964.656485366]: TF_REPEATED_DATA ignoring data with redundant timestamp for frame odom at time 2417.333000 according to authority /pose_integrator\u001b[0m\n",
      "\u001b[33m[ WARN] [1717042964.656508951]: TF_REPEATED_DATA ignoring data with redundant timestamp for frame odom at time 2417.333000 according to authority /pose_integrator\u001b[0m\n",
      "\u001b[33m[ WARN] [1717042966.039245797]: TF_REPEATED_DATA ignoring data with redundant timestamp for frame odom at time 2417.760000 according to authority /pose_integrator\u001b[0m\n",
      "\u001b[33m[ WARN] [1717042966.039301875]: TF_REPEATED_DATA ignoring data with redundant timestamp for frame odom at time 2417.760000 according to authority /pose_integrator\u001b[0m\n",
      "\u001b[33m[ WARN] [1717042966.039349937]: TF_REPEATED_DATA ignoring data with redundant timestamp for frame odom at time 2417.760000 according to authority /pose_integrator\u001b[0m\n",
      "\u001b[33m[ WARN] [1717042966.039394476]: TF_REPEATED_DATA ignoring data with redundant timestamp for frame odom at time 2417.760000 according to authority /pose_integrator\u001b[0m\n",
      "\u001b[33m[ WARN] [1717042966.039429534]: TF_REPEATED_DATA ignoring data with redundant timestamp for frame odom at time 2417.760000 according to authority /pose_integrator\u001b[0m\n",
      "\u001b[33m[ WARN] [1717042966.039471599]: TF_REPEATED_DATA ignoring data with redundant timestamp for frame odom at time 2417.760000 according to authority /pose_integrator\u001b[0m\n",
      "\u001b[33m[ WARN] [1717042967.113859114]: TF_REPEATED_DATA ignoring data with redundant timestamp for frame odom at time 2418.092000 according to authority /pose_integrator\u001b[0m\n",
      "\u001b[33m[ WARN] [1717042967.113911325]: TF_REPEATED_DATA ignoring data with redundant timestamp for frame odom at time 2418.092000 according to authority /pose_integrator\u001b[0m\n",
      "\u001b[33m[ WARN] [1717042967.113939262]: TF_REPEATED_DATA ignoring data with redundant timestamp for frame odom at time 2418.092000 according to authority /pose_integrator\u001b[0m\n",
      "\u001b[33m[ WARN] [1717042967.113964236]: TF_REPEATED_DATA ignoring data with redundant timestamp for frame odom at time 2418.092000 according to authority /pose_integrator\u001b[0m\n",
      "\u001b[33m[ WARN] [1717042967.113991177]: TF_REPEATED_DATA ignoring data with redundant timestamp for frame odom at time 2418.092000 according to authority /pose_integrator\u001b[0m\n",
      "\u001b[33m[ WARN] [1717042967.114021015]: TF_REPEATED_DATA ignoring data with redundant timestamp for frame odom at time 2418.092000 according to authority /pose_integrator\u001b[0m\n",
      "\u001b[33m[ WARN] [1717042974.374457393]: TF_REPEATED_DATA ignoring data with redundant timestamp for frame odom at time 2420.124000 according to authority /pose_integrator\u001b[0m\n",
      "\u001b[33m[ WARN] [1717042974.374498928]: TF_REPEATED_DATA ignoring data with redundant timestamp for frame odom at time 2420.124000 according to authority /pose_integrator\u001b[0m\n",
      "\u001b[33m[ WARN] [1717042974.374525274]: TF_REPEATED_DATA ignoring data with redundant timestamp for frame odom at time 2420.124000 according to authority /pose_integrator\u001b[0m\n",
      "\u001b[33m[ WARN] [1717042974.374550193]: TF_REPEATED_DATA ignoring data with redundant timestamp for frame odom at time 2420.124000 according to authority /pose_integrator\u001b[0m\n",
      "\u001b[33m[ WARN] [1717042974.374574516]: TF_REPEATED_DATA ignoring data with redundant timestamp for frame odom at time 2420.124000 according to authority /pose_integrator\u001b[0m\n",
      "\u001b[33m[ WARN] [1717042974.374606392]: TF_REPEATED_DATA ignoring data with redundant timestamp for frame odom at time 2420.124000 according to authority /pose_integrator\u001b[0m\n",
      "\u001b[33m[ WARN] [1717042978.198102088]: TF_REPEATED_DATA ignoring data with redundant timestamp for frame odom at time 2421.149000 according to authority /pose_integrator\u001b[0m\n",
      "\u001b[33m[ WARN] [1717042978.198170663]: TF_REPEATED_DATA ignoring data with redundant timestamp for frame odom at time 2421.149000 according to authority /pose_integrator\u001b[0m\n",
      "\u001b[33m[ WARN] [1717042978.198213302]: TF_REPEATED_DATA ignoring data with redundant timestamp for frame odom at time 2421.149000 according to authority /pose_integrator\u001b[0m\n",
      "\u001b[33m[ WARN] [1717042978.198257057]: TF_REPEATED_DATA ignoring data with redundant timestamp for frame odom at time 2421.149000 according to authority /pose_integrator\u001b[0m\n",
      "\u001b[33m[ WARN] [1717042978.198294503]: TF_REPEATED_DATA ignoring data with redundant timestamp for frame odom at time 2421.149000 according to authority /pose_integrator\u001b[0m\n",
      "\u001b[33m[ WARN] [1717042978.198333586]: TF_REPEATED_DATA ignoring data with redundant timestamp for frame odom at time 2421.149000 according to authority /pose_integrator\u001b[0m\n",
      "\u001b[33m[ WARN] [1717042980.457496123]: TF_REPEATED_DATA ignoring data with redundant timestamp for frame odom at time 2421.748000 according to authority /pose_integrator\u001b[0m\n",
      "\u001b[33m[ WARN] [1717042980.457546411]: TF_REPEATED_DATA ignoring data with redundant timestamp for frame odom at time 2421.748000 according to authority /pose_integrator\u001b[0m\n",
      "\u001b[33m[ WARN] [1717042980.457575950]: TF_REPEATED_DATA ignoring data with redundant timestamp for frame odom at time 2421.748000 according to authority /pose_integrator\u001b[0m\n",
      "\u001b[33m[ WARN] [1717042980.457602848]: TF_REPEATED_DATA ignoring data with redundant timestamp for frame odom at time 2421.748000 according to authority /pose_integrator\u001b[0m\n",
      "\u001b[33m[ WARN] [1717042980.457628703]: TF_REPEATED_DATA ignoring data with redundant timestamp for frame odom at time 2421.748000 according to authority /pose_integrator\u001b[0m\n",
      "\u001b[33m[ WARN] [1717042980.457664121]: TF_REPEATED_DATA ignoring data with redundant timestamp for frame odom at time 2421.748000 according to authority /pose_integrator\u001b[0m\n"
     ]
    },
    {
     "name": "stderr",
     "output_type": "stream",
     "text": [
      "\u001b[33m[ WARN] [1717042983.611168325]: TF_REPEATED_DATA ignoring data with redundant timestamp for frame odom at time 2422.663000 according to authority /pose_integrator\u001b[0m\n",
      "\u001b[33m[ WARN] [1717042983.611229235]: TF_REPEATED_DATA ignoring data with redundant timestamp for frame odom at time 2422.663000 according to authority /pose_integrator\u001b[0m\n",
      "\u001b[33m[ WARN] [1717042983.611270460]: TF_REPEATED_DATA ignoring data with redundant timestamp for frame odom at time 2422.663000 according to authority /pose_integrator\u001b[0m\n",
      "\u001b[33m[ WARN] [1717042983.611310810]: TF_REPEATED_DATA ignoring data with redundant timestamp for frame odom at time 2422.663000 according to authority /pose_integrator\u001b[0m\n",
      "\u001b[33m[ WARN] [1717042983.611364647]: TF_REPEATED_DATA ignoring data with redundant timestamp for frame odom at time 2422.663000 according to authority /pose_integrator\u001b[0m\n",
      "\u001b[33m[ WARN] [1717042983.611403891]: TF_REPEATED_DATA ignoring data with redundant timestamp for frame odom at time 2422.663000 according to authority /pose_integrator\u001b[0m\n",
      "\u001b[33m[ WARN] [1717042984.008731753]: TF_REPEATED_DATA ignoring data with redundant timestamp for frame odom at time 2422.801000 according to authority /pose_integrator\u001b[0m\n",
      "\u001b[33m[ WARN] [1717042984.008779887]: TF_REPEATED_DATA ignoring data with redundant timestamp for frame odom at time 2422.801000 according to authority /pose_integrator\u001b[0m\n",
      "\u001b[33m[ WARN] [1717042984.008811929]: TF_REPEATED_DATA ignoring data with redundant timestamp for frame odom at time 2422.801000 according to authority /pose_integrator\u001b[0m\n",
      "\u001b[33m[ WARN] [1717042984.008842693]: TF_REPEATED_DATA ignoring data with redundant timestamp for frame odom at time 2422.801000 according to authority /pose_integrator\u001b[0m\n",
      "\u001b[33m[ WARN] [1717042984.008877448]: TF_REPEATED_DATA ignoring data with redundant timestamp for frame odom at time 2422.801000 according to authority /pose_integrator\u001b[0m\n",
      "\u001b[33m[ WARN] [1717042984.008910026]: TF_REPEATED_DATA ignoring data with redundant timestamp for frame odom at time 2422.801000 according to authority /pose_integrator\u001b[0m\n",
      "\u001b[33m[ WARN] [1717042987.757760216]: TF_REPEATED_DATA ignoring data with redundant timestamp for frame odom at time 2423.884000 according to authority /pose_integrator\u001b[0m\n",
      "\u001b[33m[ WARN] [1717042987.757822338]: TF_REPEATED_DATA ignoring data with redundant timestamp for frame odom at time 2423.884000 according to authority /pose_integrator\u001b[0m\n",
      "\u001b[33m[ WARN] [1717042987.757856144]: TF_REPEATED_DATA ignoring data with redundant timestamp for frame odom at time 2423.884000 according to authority /pose_integrator\u001b[0m\n",
      "\u001b[33m[ WARN] [1717042987.757883570]: TF_REPEATED_DATA ignoring data with redundant timestamp for frame odom at time 2423.884000 according to authority /pose_integrator\u001b[0m\n",
      "\u001b[33m[ WARN] [1717042987.757911828]: TF_REPEATED_DATA ignoring data with redundant timestamp for frame odom at time 2423.884000 according to authority /pose_integrator\u001b[0m\n",
      "\u001b[33m[ WARN] [1717042987.757945402]: TF_REPEATED_DATA ignoring data with redundant timestamp for frame odom at time 2423.884000 according to authority /pose_integrator\u001b[0m\n",
      "\u001b[33m[ WARN] [1717042988.218685359]: TF_REPEATED_DATA ignoring data with redundant timestamp for frame odom at time 2424.041000 according to authority /pose_integrator\u001b[0m\n",
      "\u001b[33m[ WARN] [1717042988.218759097]: TF_REPEATED_DATA ignoring data with redundant timestamp for frame odom at time 2424.041000 according to authority /pose_integrator\u001b[0m\n",
      "\u001b[33m[ WARN] [1717042988.218803582]: TF_REPEATED_DATA ignoring data with redundant timestamp for frame odom at time 2424.041000 according to authority /pose_integrator\u001b[0m\n",
      "\u001b[33m[ WARN] [1717042988.218836510]: TF_REPEATED_DATA ignoring data with redundant timestamp for frame odom at time 2424.041000 according to authority /pose_integrator\u001b[0m\n",
      "\u001b[33m[ WARN] [1717042988.218874730]: TF_REPEATED_DATA ignoring data with redundant timestamp for frame odom at time 2424.041000 according to authority /pose_integrator\u001b[0m\n",
      "\u001b[33m[ WARN] [1717042988.218918632]: TF_REPEATED_DATA ignoring data with redundant timestamp for frame odom at time 2424.041000 according to authority /pose_integrator\u001b[0m\n",
      "\u001b[33m[ WARN] [1717043001.164159610]: TF_REPEATED_DATA ignoring data with redundant timestamp for frame odom at time 2427.642000 according to authority /pose_integrator\u001b[0m\n",
      "\u001b[33m[ WARN] [1717043001.164224157]: TF_REPEATED_DATA ignoring data with redundant timestamp for frame odom at time 2427.642000 according to authority /pose_integrator\u001b[0m\n",
      "\u001b[33m[ WARN] [1717043001.164266906]: TF_REPEATED_DATA ignoring data with redundant timestamp for frame odom at time 2427.642000 according to authority /pose_integrator\u001b[0m\n",
      "\u001b[33m[ WARN] [1717043001.164324823]: TF_REPEATED_DATA ignoring data with redundant timestamp for frame odom at time 2427.642000 according to authority /pose_integrator\u001b[0m\n",
      "\u001b[33m[ WARN] [1717043001.164400360]: TF_REPEATED_DATA ignoring data with redundant timestamp for frame odom at time 2427.642000 according to authority /pose_integrator\u001b[0m\n",
      "\u001b[33m[ WARN] [1717043001.164451497]: TF_REPEATED_DATA ignoring data with redundant timestamp for frame odom at time 2427.642000 according to authority /pose_integrator\u001b[0m\n",
      "\u001b[33m[ WARN] [1717043006.912607108]: TF_REPEATED_DATA ignoring data with redundant timestamp for frame odom at time 2429.212000 according to authority /pose_integrator\u001b[0m\n",
      "\u001b[33m[ WARN] [1717043006.912671281]: TF_REPEATED_DATA ignoring data with redundant timestamp for frame odom at time 2429.212000 according to authority /pose_integrator\u001b[0m\n",
      "\u001b[33m[ WARN] [1717043006.912712195]: TF_REPEATED_DATA ignoring data with redundant timestamp for frame odom at time 2429.212000 according to authority /pose_integrator\u001b[0m\n",
      "\u001b[33m[ WARN] [1717043006.912758830]: TF_REPEATED_DATA ignoring data with redundant timestamp for frame odom at time 2429.212000 according to authority /pose_integrator\u001b[0m\n",
      "\u001b[33m[ WARN] [1717043006.912788002]: TF_REPEATED_DATA ignoring data with redundant timestamp for frame odom at time 2429.212000 according to authority /pose_integrator\u001b[0m\n",
      "\u001b[33m[ WARN] [1717043006.912824722]: TF_REPEATED_DATA ignoring data with redundant timestamp for frame odom at time 2429.212000 according to authority /pose_integrator\u001b[0m\n",
      "\u001b[33m[ WARN] [1717043008.107936527]: TF_REPEATED_DATA ignoring data with redundant timestamp for frame odom at time 2429.550000 according to authority /pose_integrator\u001b[0m\n",
      "\u001b[33m[ WARN] [1717043008.108008226]: TF_REPEATED_DATA ignoring data with redundant timestamp for frame odom at time 2429.550000 according to authority /pose_integrator\u001b[0m\n",
      "\u001b[33m[ WARN] [1717043008.108054979]: TF_REPEATED_DATA ignoring data with redundant timestamp for frame odom at time 2429.550000 according to authority /pose_integrator\u001b[0m\n",
      "\u001b[33m[ WARN] [1717043008.108091798]: TF_REPEATED_DATA ignoring data with redundant timestamp for frame odom at time 2429.550000 according to authority /pose_integrator\u001b[0m\n",
      "\u001b[33m[ WARN] [1717043008.108130541]: TF_REPEATED_DATA ignoring data with redundant timestamp for frame odom at time 2429.550000 according to authority /pose_integrator\u001b[0m\n",
      "\u001b[33m[ WARN] [1717043008.108186716]: TF_REPEATED_DATA ignoring data with redundant timestamp for frame odom at time 2429.550000 according to authority /pose_integrator\u001b[0m\n",
      "\u001b[33m[ WARN] [1717043011.659200047]: TF_REPEATED_DATA ignoring data with redundant timestamp for frame odom at time 2430.550000 according to authority /pose_integrator\u001b[0m\n",
      "\u001b[33m[ WARN] [1717043011.659252584]: TF_REPEATED_DATA ignoring data with redundant timestamp for frame odom at time 2430.550000 according to authority /pose_integrator\u001b[0m\n",
      "\u001b[33m[ WARN] [1717043011.659291224]: TF_REPEATED_DATA ignoring data with redundant timestamp for frame odom at time 2430.550000 according to authority /pose_integrator\u001b[0m\n",
      "\u001b[33m[ WARN] [1717043011.659326264]: TF_REPEATED_DATA ignoring data with redundant timestamp for frame odom at time 2430.550000 according to authority /pose_integrator\u001b[0m\n",
      "\u001b[33m[ WARN] [1717043011.659373292]: TF_REPEATED_DATA ignoring data with redundant timestamp for frame odom at time 2430.550000 according to authority /pose_integrator\u001b[0m\n",
      "\u001b[33m[ WARN] [1717043011.659403588]: TF_REPEATED_DATA ignoring data with redundant timestamp for frame odom at time 2430.550000 according to authority /pose_integrator\u001b[0m\n"
     ]
    },
    {
     "name": "stderr",
     "output_type": "stream",
     "text": [
      "\u001b[33m[ WARN] [1717043016.175613731]: TF_REPEATED_DATA ignoring data with redundant timestamp for frame odom at time 2431.780000 according to authority /pose_integrator\u001b[0m\n",
      "\u001b[33m[ WARN] [1717043016.175655465]: TF_REPEATED_DATA ignoring data with redundant timestamp for frame odom at time 2431.780000 according to authority /pose_integrator\u001b[0m\n",
      "\u001b[33m[ WARN] [1717043016.175679387]: TF_REPEATED_DATA ignoring data with redundant timestamp for frame odom at time 2431.780000 according to authority /pose_integrator\u001b[0m\n",
      "\u001b[33m[ WARN] [1717043016.175701515]: TF_REPEATED_DATA ignoring data with redundant timestamp for frame odom at time 2431.780000 according to authority /pose_integrator\u001b[0m\n",
      "\u001b[33m[ WARN] [1717043016.175723659]: TF_REPEATED_DATA ignoring data with redundant timestamp for frame odom at time 2431.780000 according to authority /pose_integrator\u001b[0m\n",
      "\u001b[33m[ WARN] [1717043016.175746012]: TF_REPEATED_DATA ignoring data with redundant timestamp for frame odom at time 2431.780000 according to authority /pose_integrator\u001b[0m\n",
      "\u001b[33m[ WARN] [1717043016.357015237]: TF_REPEATED_DATA ignoring data with redundant timestamp for frame odom at time 2431.846000 according to authority /pose_integrator\u001b[0m\n",
      "\u001b[33m[ WARN] [1717043016.357071080]: TF_REPEATED_DATA ignoring data with redundant timestamp for frame odom at time 2431.846000 according to authority /pose_integrator\u001b[0m\n",
      "\u001b[33m[ WARN] [1717043016.357101669]: TF_REPEATED_DATA ignoring data with redundant timestamp for frame odom at time 2431.846000 according to authority /pose_integrator\u001b[0m\n",
      "\u001b[33m[ WARN] [1717043016.357124679]: TF_REPEATED_DATA ignoring data with redundant timestamp for frame odom at time 2431.846000 according to authority /pose_integrator\u001b[0m\n",
      "\u001b[33m[ WARN] [1717043016.357147553]: TF_REPEATED_DATA ignoring data with redundant timestamp for frame odom at time 2431.846000 according to authority /pose_integrator\u001b[0m\n",
      "\u001b[33m[ WARN] [1717043016.357172880]: TF_REPEATED_DATA ignoring data with redundant timestamp for frame odom at time 2431.846000 according to authority /pose_integrator\u001b[0m\n",
      "\u001b[33m[ WARN] [1717043017.985082955]: TF_REPEATED_DATA ignoring data with redundant timestamp for frame odom at time 2432.336000 according to authority /pose_integrator\u001b[0m\n",
      "\u001b[33m[ WARN] [1717043017.985134572]: TF_REPEATED_DATA ignoring data with redundant timestamp for frame odom at time 2432.336000 according to authority /pose_integrator\u001b[0m\n",
      "\u001b[33m[ WARN] [1717043017.985166568]: TF_REPEATED_DATA ignoring data with redundant timestamp for frame odom at time 2432.336000 according to authority /pose_integrator\u001b[0m\n",
      "\u001b[33m[ WARN] [1717043017.985194891]: TF_REPEATED_DATA ignoring data with redundant timestamp for frame odom at time 2432.336000 according to authority /pose_integrator\u001b[0m\n",
      "\u001b[33m[ WARN] [1717043017.985226008]: TF_REPEATED_DATA ignoring data with redundant timestamp for frame odom at time 2432.336000 according to authority /pose_integrator\u001b[0m\n",
      "\u001b[33m[ WARN] [1717043017.985255142]: TF_REPEATED_DATA ignoring data with redundant timestamp for frame odom at time 2432.336000 according to authority /pose_integrator\u001b[0m\n",
      "\u001b[33m[ WARN] [1717043019.263408399]: TF_REPEATED_DATA ignoring data with redundant timestamp for frame odom at time 2432.754000 according to authority /pose_integrator\u001b[0m\n",
      "\u001b[33m[ WARN] [1717043019.263472780]: TF_REPEATED_DATA ignoring data with redundant timestamp for frame odom at time 2432.754000 according to authority /pose_integrator\u001b[0m\n",
      "\u001b[33m[ WARN] [1717043019.263513382]: TF_REPEATED_DATA ignoring data with redundant timestamp for frame odom at time 2432.754000 according to authority /pose_integrator\u001b[0m\n",
      "\u001b[33m[ WARN] [1717043019.263554719]: TF_REPEATED_DATA ignoring data with redundant timestamp for frame odom at time 2432.754000 according to authority /pose_integrator\u001b[0m\n",
      "\u001b[33m[ WARN] [1717043019.263590594]: TF_REPEATED_DATA ignoring data with redundant timestamp for frame odom at time 2432.754000 according to authority /pose_integrator\u001b[0m\n",
      "\u001b[33m[ WARN] [1717043019.263630481]: TF_REPEATED_DATA ignoring data with redundant timestamp for frame odom at time 2432.754000 according to authority /pose_integrator\u001b[0m\n",
      "\u001b[33m[ WARN] [1717043019.883337077]: TF_REPEATED_DATA ignoring data with redundant timestamp for frame odom at time 2432.954000 according to authority /pose_integrator\u001b[0m\n",
      "\u001b[33m[ WARN] [1717043019.883400861]: TF_REPEATED_DATA ignoring data with redundant timestamp for frame odom at time 2432.954000 according to authority /pose_integrator\u001b[0m\n",
      "\u001b[33m[ WARN] [1717043019.883442557]: TF_REPEATED_DATA ignoring data with redundant timestamp for frame odom at time 2432.954000 according to authority /pose_integrator\u001b[0m\n",
      "\u001b[33m[ WARN] [1717043019.883479565]: TF_REPEATED_DATA ignoring data with redundant timestamp for frame odom at time 2432.954000 according to authority /pose_integrator\u001b[0m\n",
      "\u001b[33m[ WARN] [1717043019.883515458]: TF_REPEATED_DATA ignoring data with redundant timestamp for frame odom at time 2432.954000 according to authority /pose_integrator\u001b[0m\n",
      "\u001b[33m[ WARN] [1717043019.883551597]: TF_REPEATED_DATA ignoring data with redundant timestamp for frame odom at time 2432.954000 according to authority /pose_integrator\u001b[0m\n",
      "\u001b[33m[ WARN] [1717043022.519252634]: TF_REPEATED_DATA ignoring data with redundant timestamp for frame odom at time 2433.733000 according to authority /pose_integrator\u001b[0m\n",
      "\u001b[33m[ WARN] [1717043022.519318322]: TF_REPEATED_DATA ignoring data with redundant timestamp for frame odom at time 2433.733000 according to authority /pose_integrator\u001b[0m\n",
      "\u001b[33m[ WARN] [1717043022.519370173]: TF_REPEATED_DATA ignoring data with redundant timestamp for frame odom at time 2433.733000 according to authority /pose_integrator\u001b[0m\n",
      "\u001b[33m[ WARN] [1717043022.519419479]: TF_REPEATED_DATA ignoring data with redundant timestamp for frame odom at time 2433.733000 according to authority /pose_integrator\u001b[0m\n",
      "\u001b[33m[ WARN] [1717043022.519462824]: TF_REPEATED_DATA ignoring data with redundant timestamp for frame odom at time 2433.733000 according to authority /pose_integrator\u001b[0m\n",
      "\u001b[33m[ WARN] [1717043022.519503787]: TF_REPEATED_DATA ignoring data with redundant timestamp for frame odom at time 2433.733000 according to authority /pose_integrator\u001b[0m\n",
      "\u001b[33m[ WARN] [1717043022.768361954]: TF_REPEATED_DATA ignoring data with redundant timestamp for frame odom at time 2433.819000 according to authority /pose_integrator\u001b[0m\n",
      "\u001b[33m[ WARN] [1717043022.768410231]: TF_REPEATED_DATA ignoring data with redundant timestamp for frame odom at time 2433.819000 according to authority /pose_integrator\u001b[0m\n",
      "\u001b[33m[ WARN] [1717043022.768445096]: TF_REPEATED_DATA ignoring data with redundant timestamp for frame odom at time 2433.819000 according to authority /pose_integrator\u001b[0m\n",
      "\u001b[33m[ WARN] [1717043022.768489679]: TF_REPEATED_DATA ignoring data with redundant timestamp for frame odom at time 2433.819000 according to authority /pose_integrator\u001b[0m\n",
      "\u001b[33m[ WARN] [1717043022.768525655]: TF_REPEATED_DATA ignoring data with redundant timestamp for frame odom at time 2433.819000 according to authority /pose_integrator\u001b[0m\n",
      "\u001b[33m[ WARN] [1717043022.768556140]: TF_REPEATED_DATA ignoring data with redundant timestamp for frame odom at time 2433.819000 according to authority /pose_integrator\u001b[0m\n",
      "\u001b[33m[ WARN] [1717043023.242924401]: TF_REPEATED_DATA ignoring data with redundant timestamp for frame odom at time 2433.989000 according to authority /pose_integrator\u001b[0m\n",
      "\u001b[33m[ WARN] [1717043023.242977888]: TF_REPEATED_DATA ignoring data with redundant timestamp for frame odom at time 2433.989000 according to authority /pose_integrator\u001b[0m\n",
      "\u001b[33m[ WARN] [1717043023.243010472]: TF_REPEATED_DATA ignoring data with redundant timestamp for frame odom at time 2433.989000 according to authority /pose_integrator\u001b[0m\n",
      "\u001b[33m[ WARN] [1717043023.243047462]: TF_REPEATED_DATA ignoring data with redundant timestamp for frame odom at time 2433.989000 according to authority /pose_integrator\u001b[0m\n",
      "\u001b[33m[ WARN] [1717043023.243098870]: TF_REPEATED_DATA ignoring data with redundant timestamp for frame odom at time 2433.989000 according to authority /pose_integrator\u001b[0m\n",
      "\u001b[33m[ WARN] [1717043023.243130109]: TF_REPEATED_DATA ignoring data with redundant timestamp for frame odom at time 2433.989000 according to authority /pose_integrator\u001b[0m\n"
     ]
    },
    {
     "name": "stderr",
     "output_type": "stream",
     "text": [
      "\u001b[33m[ WARN] [1717043023.973016074]: TF_REPEATED_DATA ignoring data with redundant timestamp for frame odom at time 2434.225000 according to authority /pose_integrator\u001b[0m\n",
      "\u001b[33m[ WARN] [1717043023.973076342]: TF_REPEATED_DATA ignoring data with redundant timestamp for frame odom at time 2434.225000 according to authority /pose_integrator\u001b[0m\n",
      "\u001b[33m[ WARN] [1717043023.973113204]: TF_REPEATED_DATA ignoring data with redundant timestamp for frame odom at time 2434.225000 according to authority /pose_integrator\u001b[0m\n",
      "\u001b[33m[ WARN] [1717043023.973140740]: TF_REPEATED_DATA ignoring data with redundant timestamp for frame odom at time 2434.225000 according to authority /pose_integrator\u001b[0m\n",
      "\u001b[33m[ WARN] [1717043023.973173918]: TF_REPEATED_DATA ignoring data with redundant timestamp for frame odom at time 2434.225000 according to authority /pose_integrator\u001b[0m\n",
      "\u001b[33m[ WARN] [1717043023.973204984]: TF_REPEATED_DATA ignoring data with redundant timestamp for frame odom at time 2434.225000 according to authority /pose_integrator\u001b[0m\n",
      "\u001b[33m[ WARN] [1717043025.397161122]: TF_REPEATED_DATA ignoring data with redundant timestamp for frame odom at time 2434.647000 according to authority /pose_integrator\u001b[0m\n",
      "\u001b[33m[ WARN] [1717043025.397220730]: TF_REPEATED_DATA ignoring data with redundant timestamp for frame odom at time 2434.647000 according to authority /pose_integrator\u001b[0m\n",
      "\u001b[33m[ WARN] [1717043025.397260188]: TF_REPEATED_DATA ignoring data with redundant timestamp for frame odom at time 2434.647000 according to authority /pose_integrator\u001b[0m\n",
      "\u001b[33m[ WARN] [1717043025.397303938]: TF_REPEATED_DATA ignoring data with redundant timestamp for frame odom at time 2434.647000 according to authority /pose_integrator\u001b[0m\n",
      "\u001b[33m[ WARN] [1717043025.397345594]: TF_REPEATED_DATA ignoring data with redundant timestamp for frame odom at time 2434.647000 according to authority /pose_integrator\u001b[0m\n",
      "\u001b[33m[ WARN] [1717043025.397382920]: TF_REPEATED_DATA ignoring data with redundant timestamp for frame odom at time 2434.647000 according to authority /pose_integrator\u001b[0m\n",
      "\u001b[33m[ WARN] [1717043027.331324325]: TF_REPEATED_DATA ignoring data with redundant timestamp for frame odom at time 2435.285000 according to authority /pose_integrator\u001b[0m\n",
      "\u001b[33m[ WARN] [1717043027.331378697]: TF_REPEATED_DATA ignoring data with redundant timestamp for frame odom at time 2435.285000 according to authority /pose_integrator\u001b[0m\n",
      "\u001b[33m[ WARN] [1717043027.331421729]: TF_REPEATED_DATA ignoring data with redundant timestamp for frame odom at time 2435.285000 according to authority /pose_integrator\u001b[0m\n",
      "\u001b[33m[ WARN] [1717043027.331464871]: TF_REPEATED_DATA ignoring data with redundant timestamp for frame odom at time 2435.285000 according to authority /pose_integrator\u001b[0m\n",
      "\u001b[33m[ WARN] [1717043027.331506447]: TF_REPEATED_DATA ignoring data with redundant timestamp for frame odom at time 2435.285000 according to authority /pose_integrator\u001b[0m\n",
      "\u001b[33m[ WARN] [1717043027.331545647]: TF_REPEATED_DATA ignoring data with redundant timestamp for frame odom at time 2435.285000 according to authority /pose_integrator\u001b[0m\n",
      "\u001b[33m[ WARN] [1717043028.405540909]: TF_REPEATED_DATA ignoring data with redundant timestamp for frame odom at time 2435.605000 according to authority /pose_integrator\u001b[0m\n",
      "\u001b[33m[ WARN] [1717043028.405594542]: TF_REPEATED_DATA ignoring data with redundant timestamp for frame odom at time 2435.605000 according to authority /pose_integrator\u001b[0m\n",
      "\u001b[33m[ WARN] [1717043028.405633515]: TF_REPEATED_DATA ignoring data with redundant timestamp for frame odom at time 2435.605000 according to authority /pose_integrator\u001b[0m\n",
      "\u001b[33m[ WARN] [1717043028.405663236]: TF_REPEATED_DATA ignoring data with redundant timestamp for frame odom at time 2435.605000 according to authority /pose_integrator\u001b[0m\n",
      "\u001b[33m[ WARN] [1717043028.405688407]: TF_REPEATED_DATA ignoring data with redundant timestamp for frame odom at time 2435.605000 according to authority /pose_integrator\u001b[0m\n",
      "\u001b[33m[ WARN] [1717043028.405722563]: TF_REPEATED_DATA ignoring data with redundant timestamp for frame odom at time 2435.605000 according to authority /pose_integrator\u001b[0m\n",
      "\u001b[33m[ WARN] [1717043052.241757488]: TF_REPEATED_DATA ignoring data with redundant timestamp for frame odom at time 2441.530000 according to authority /pose_integrator\u001b[0m\n",
      "\u001b[33m[ WARN] [1717043052.241809923]: TF_REPEATED_DATA ignoring data with redundant timestamp for frame odom at time 2441.530000 according to authority /pose_integrator\u001b[0m\n",
      "\u001b[33m[ WARN] [1717043052.241854481]: TF_REPEATED_DATA ignoring data with redundant timestamp for frame odom at time 2441.530000 according to authority /pose_integrator\u001b[0m\n",
      "\u001b[33m[ WARN] [1717043052.241883825]: TF_REPEATED_DATA ignoring data with redundant timestamp for frame odom at time 2441.530000 according to authority /pose_integrator\u001b[0m\n",
      "\u001b[33m[ WARN] [1717043052.241913749]: TF_REPEATED_DATA ignoring data with redundant timestamp for frame odom at time 2441.530000 according to authority /pose_integrator\u001b[0m\n",
      "\u001b[33m[ WARN] [1717043052.241942752]: TF_REPEATED_DATA ignoring data with redundant timestamp for frame odom at time 2441.530000 according to authority /pose_integrator\u001b[0m\n",
      "\u001b[33m[ WARN] [1717043052.578899456]: TF_REPEATED_DATA ignoring data with redundant timestamp for frame odom at time 2441.627000 according to authority /pose_integrator\u001b[0m\n",
      "\u001b[33m[ WARN] [1717043052.578937268]: TF_REPEATED_DATA ignoring data with redundant timestamp for frame odom at time 2441.627000 according to authority /pose_integrator\u001b[0m\n",
      "\u001b[33m[ WARN] [1717043052.578960958]: TF_REPEATED_DATA ignoring data with redundant timestamp for frame odom at time 2441.627000 according to authority /pose_integrator\u001b[0m\n",
      "\u001b[33m[ WARN] [1717043052.578983422]: TF_REPEATED_DATA ignoring data with redundant timestamp for frame odom at time 2441.627000 according to authority /pose_integrator\u001b[0m\n",
      "\u001b[33m[ WARN] [1717043052.579004995]: TF_REPEATED_DATA ignoring data with redundant timestamp for frame odom at time 2441.627000 according to authority /pose_integrator\u001b[0m\n",
      "\u001b[33m[ WARN] [1717043052.579026760]: TF_REPEATED_DATA ignoring data with redundant timestamp for frame odom at time 2441.627000 according to authority /pose_integrator\u001b[0m\n",
      "\u001b[33m[ WARN] [1717043052.835980477]: TF_REPEATED_DATA ignoring data with redundant timestamp for frame odom at time 2441.713000 according to authority /pose_integrator\u001b[0m\n",
      "\u001b[33m[ WARN] [1717043052.836031037]: TF_REPEATED_DATA ignoring data with redundant timestamp for frame odom at time 2441.713000 according to authority /pose_integrator\u001b[0m\n",
      "\u001b[33m[ WARN] [1717043052.836058234]: TF_REPEATED_DATA ignoring data with redundant timestamp for frame odom at time 2441.713000 according to authority /pose_integrator\u001b[0m\n",
      "\u001b[33m[ WARN] [1717043052.836093154]: TF_REPEATED_DATA ignoring data with redundant timestamp for frame odom at time 2441.713000 according to authority /pose_integrator\u001b[0m\n",
      "\u001b[33m[ WARN] [1717043052.836124531]: TF_REPEATED_DATA ignoring data with redundant timestamp for frame odom at time 2441.713000 according to authority /pose_integrator\u001b[0m\n",
      "\u001b[33m[ WARN] [1717043052.836152545]: TF_REPEATED_DATA ignoring data with redundant timestamp for frame odom at time 2441.713000 according to authority /pose_integrator\u001b[0m\n",
      "\u001b[33m[ WARN] [1717043054.600687869]: TF_REPEATED_DATA ignoring data with redundant timestamp for frame odom at time 2442.318000 according to authority /pose_integrator\u001b[0m\n",
      "\u001b[33m[ WARN] [1717043054.600740391]: TF_REPEATED_DATA ignoring data with redundant timestamp for frame odom at time 2442.318000 according to authority /pose_integrator\u001b[0m\n",
      "\u001b[33m[ WARN] [1717043054.600771860]: TF_REPEATED_DATA ignoring data with redundant timestamp for frame odom at time 2442.318000 according to authority /pose_integrator\u001b[0m\n",
      "\u001b[33m[ WARN] [1717043054.600806622]: TF_REPEATED_DATA ignoring data with redundant timestamp for frame odom at time 2442.318000 according to authority /pose_integrator\u001b[0m\n",
      "\u001b[33m[ WARN] [1717043054.600864367]: TF_REPEATED_DATA ignoring data with redundant timestamp for frame odom at time 2442.318000 according to authority /pose_integrator\u001b[0m\n",
      "\u001b[33m[ WARN] [1717043054.600902147]: TF_REPEATED_DATA ignoring data with redundant timestamp for frame odom at time 2442.318000 according to authority /pose_integrator\u001b[0m\n"
     ]
    },
    {
     "name": "stderr",
     "output_type": "stream",
     "text": [
      "\u001b[33m[ WARN] [1717043057.194668514]: TF_REPEATED_DATA ignoring data with redundant timestamp for frame odom at time 2443.131000 according to authority /pose_integrator\u001b[0m\n",
      "\u001b[33m[ WARN] [1717043057.194728956]: TF_REPEATED_DATA ignoring data with redundant timestamp for frame odom at time 2443.131000 according to authority /pose_integrator\u001b[0m\n",
      "\u001b[33m[ WARN] [1717043057.194774252]: TF_REPEATED_DATA ignoring data with redundant timestamp for frame odom at time 2443.131000 according to authority /pose_integrator\u001b[0m\n",
      "\u001b[33m[ WARN] [1717043057.194812488]: TF_REPEATED_DATA ignoring data with redundant timestamp for frame odom at time 2443.131000 according to authority /pose_integrator\u001b[0m\n",
      "\u001b[33m[ WARN] [1717043057.194868103]: TF_REPEATED_DATA ignoring data with redundant timestamp for frame odom at time 2443.131000 according to authority /pose_integrator\u001b[0m\n",
      "\u001b[33m[ WARN] [1717043057.194920338]: TF_REPEATED_DATA ignoring data with redundant timestamp for frame odom at time 2443.131000 according to authority /pose_integrator\u001b[0m\n",
      "\u001b[33m[ WARN] [1717043058.130358044]: TF_REPEATED_DATA ignoring data with redundant timestamp for frame odom at time 2443.437000 according to authority /pose_integrator\u001b[0m\n",
      "\u001b[33m[ WARN] [1717043058.130436278]: TF_REPEATED_DATA ignoring data with redundant timestamp for frame odom at time 2443.437000 according to authority /pose_integrator\u001b[0m\n",
      "\u001b[33m[ WARN] [1717043058.130485508]: TF_REPEATED_DATA ignoring data with redundant timestamp for frame odom at time 2443.437000 according to authority /pose_integrator\u001b[0m\n",
      "\u001b[33m[ WARN] [1717043058.130528858]: TF_REPEATED_DATA ignoring data with redundant timestamp for frame odom at time 2443.437000 according to authority /pose_integrator\u001b[0m\n",
      "\u001b[33m[ WARN] [1717043058.130570911]: TF_REPEATED_DATA ignoring data with redundant timestamp for frame odom at time 2443.437000 according to authority /pose_integrator\u001b[0m\n",
      "\u001b[33m[ WARN] [1717043058.130610601]: TF_REPEATED_DATA ignoring data with redundant timestamp for frame odom at time 2443.437000 according to authority /pose_integrator\u001b[0m\n",
      "\u001b[33m[ WARN] [1717043058.499062099]: TF_REPEATED_DATA ignoring data with redundant timestamp for frame odom at time 2443.537000 according to authority /pose_integrator\u001b[0m\n",
      "\u001b[33m[ WARN] [1717043058.499128069]: TF_REPEATED_DATA ignoring data with redundant timestamp for frame odom at time 2443.537000 according to authority /pose_integrator\u001b[0m\n",
      "\u001b[33m[ WARN] [1717043058.499176995]: TF_REPEATED_DATA ignoring data with redundant timestamp for frame odom at time 2443.537000 according to authority /pose_integrator\u001b[0m\n",
      "\u001b[33m[ WARN] [1717043058.499217187]: TF_REPEATED_DATA ignoring data with redundant timestamp for frame odom at time 2443.537000 according to authority /pose_integrator\u001b[0m\n",
      "\u001b[33m[ WARN] [1717043058.499251961]: TF_REPEATED_DATA ignoring data with redundant timestamp for frame odom at time 2443.537000 according to authority /pose_integrator\u001b[0m\n",
      "\u001b[33m[ WARN] [1717043058.499295226]: TF_REPEATED_DATA ignoring data with redundant timestamp for frame odom at time 2443.537000 according to authority /pose_integrator\u001b[0m\n",
      "\u001b[33m[ WARN] [1717043075.444206790]: TF_REPEATED_DATA ignoring data with redundant timestamp for frame odom at time 2448.266000 according to authority /pose_integrator\u001b[0m\n",
      "\u001b[33m[ WARN] [1717043075.444258617]: TF_REPEATED_DATA ignoring data with redundant timestamp for frame odom at time 2448.266000 according to authority /pose_integrator\u001b[0m\n",
      "\u001b[33m[ WARN] [1717043075.444300167]: TF_REPEATED_DATA ignoring data with redundant timestamp for frame odom at time 2448.266000 according to authority /pose_integrator\u001b[0m\n",
      "\u001b[33m[ WARN] [1717043075.444334866]: TF_REPEATED_DATA ignoring data with redundant timestamp for frame odom at time 2448.266000 according to authority /pose_integrator\u001b[0m\n",
      "\u001b[33m[ WARN] [1717043075.444375088]: TF_REPEATED_DATA ignoring data with redundant timestamp for frame odom at time 2448.266000 according to authority /pose_integrator\u001b[0m\n",
      "\u001b[33m[ WARN] [1717043075.444417612]: TF_REPEATED_DATA ignoring data with redundant timestamp for frame odom at time 2448.266000 according to authority /pose_integrator\u001b[0m\n",
      "\u001b[33m[ WARN] [1717043078.316307975]: TF_REPEATED_DATA ignoring data with redundant timestamp for frame odom at time 2449.142000 according to authority /pose_integrator\u001b[0m\n",
      "\u001b[33m[ WARN] [1717043078.316386543]: TF_REPEATED_DATA ignoring data with redundant timestamp for frame odom at time 2449.142000 according to authority /pose_integrator\u001b[0m\n",
      "\u001b[33m[ WARN] [1717043078.316430929]: TF_REPEATED_DATA ignoring data with redundant timestamp for frame odom at time 2449.142000 according to authority /pose_integrator\u001b[0m\n",
      "\u001b[33m[ WARN] [1717043078.316467798]: TF_REPEATED_DATA ignoring data with redundant timestamp for frame odom at time 2449.142000 according to authority /pose_integrator\u001b[0m\n",
      "\u001b[33m[ WARN] [1717043078.316505948]: TF_REPEATED_DATA ignoring data with redundant timestamp for frame odom at time 2449.142000 according to authority /pose_integrator\u001b[0m\n",
      "\u001b[33m[ WARN] [1717043078.316548192]: TF_REPEATED_DATA ignoring data with redundant timestamp for frame odom at time 2449.142000 according to authority /pose_integrator\u001b[0m\n",
      "\u001b[33m[ WARN] [1717043085.170483984]: TF_REPEATED_DATA ignoring data with redundant timestamp for frame odom at time 2451.100000 according to authority /pose_integrator\u001b[0m\n",
      "\u001b[33m[ WARN] [1717043085.170550174]: TF_REPEATED_DATA ignoring data with redundant timestamp for frame odom at time 2451.100000 according to authority /pose_integrator\u001b[0m\n",
      "\u001b[33m[ WARN] [1717043085.170608394]: TF_REPEATED_DATA ignoring data with redundant timestamp for frame odom at time 2451.100000 according to authority /pose_integrator\u001b[0m\n",
      "\u001b[33m[ WARN] [1717043085.170651789]: TF_REPEATED_DATA ignoring data with redundant timestamp for frame odom at time 2451.100000 according to authority /pose_integrator\u001b[0m\n",
      "\u001b[33m[ WARN] [1717043085.170694485]: TF_REPEATED_DATA ignoring data with redundant timestamp for frame odom at time 2451.100000 according to authority /pose_integrator\u001b[0m\n",
      "\u001b[33m[ WARN] [1717043085.170743710]: TF_REPEATED_DATA ignoring data with redundant timestamp for frame odom at time 2451.100000 according to authority /pose_integrator\u001b[0m\n",
      "\u001b[33m[ WARN] [1717043085.514895124]: TF_REPEATED_DATA ignoring data with redundant timestamp for frame odom at time 2451.196000 according to authority /pose_integrator\u001b[0m\n",
      "\u001b[33m[ WARN] [1717043085.514982817]: TF_REPEATED_DATA ignoring data with redundant timestamp for frame odom at time 2451.196000 according to authority /pose_integrator\u001b[0m\n",
      "\u001b[33m[ WARN] [1717043085.515033226]: TF_REPEATED_DATA ignoring data with redundant timestamp for frame odom at time 2451.196000 according to authority /pose_integrator\u001b[0m\n",
      "\u001b[33m[ WARN] [1717043085.515081443]: TF_REPEATED_DATA ignoring data with redundant timestamp for frame odom at time 2451.196000 according to authority /pose_integrator\u001b[0m\n",
      "\u001b[33m[ WARN] [1717043085.515125255]: TF_REPEATED_DATA ignoring data with redundant timestamp for frame odom at time 2451.196000 according to authority /pose_integrator\u001b[0m\n",
      "\u001b[33m[ WARN] [1717043085.515166345]: TF_REPEATED_DATA ignoring data with redundant timestamp for frame odom at time 2451.196000 according to authority /pose_integrator\u001b[0m\n",
      "\u001b[33m[ WARN] [1717043087.964188060]: TF_REPEATED_DATA ignoring data with redundant timestamp for frame odom at time 2451.904000 according to authority /pose_integrator\u001b[0m\n",
      "\u001b[33m[ WARN] [1717043087.964254084]: TF_REPEATED_DATA ignoring data with redundant timestamp for frame odom at time 2451.904000 according to authority /pose_integrator\u001b[0m\n",
      "\u001b[33m[ WARN] [1717043087.964289718]: TF_REPEATED_DATA ignoring data with redundant timestamp for frame odom at time 2451.904000 according to authority /pose_integrator\u001b[0m\n",
      "\u001b[33m[ WARN] [1717043087.964322053]: TF_REPEATED_DATA ignoring data with redundant timestamp for frame odom at time 2451.904000 according to authority /pose_integrator\u001b[0m\n",
      "\u001b[33m[ WARN] [1717043087.964370463]: TF_REPEATED_DATA ignoring data with redundant timestamp for frame odom at time 2451.904000 according to authority /pose_integrator\u001b[0m\n",
      "\u001b[33m[ WARN] [1717043087.964414319]: TF_REPEATED_DATA ignoring data with redundant timestamp for frame odom at time 2451.904000 according to authority /pose_integrator\u001b[0m\n"
     ]
    },
    {
     "name": "stderr",
     "output_type": "stream",
     "text": [
      "\u001b[33m[ WARN] [1717043089.584274076]: TF_REPEATED_DATA ignoring data with redundant timestamp for frame odom at time 2452.393000 according to authority /pose_integrator\u001b[0m\n",
      "\u001b[33m[ WARN] [1717043089.584313582]: TF_REPEATED_DATA ignoring data with redundant timestamp for frame odom at time 2452.393000 according to authority /pose_integrator\u001b[0m\n",
      "\u001b[33m[ WARN] [1717043089.584337417]: TF_REPEATED_DATA ignoring data with redundant timestamp for frame odom at time 2452.393000 according to authority /pose_integrator\u001b[0m\n",
      "\u001b[33m[ WARN] [1717043089.584388976]: TF_REPEATED_DATA ignoring data with redundant timestamp for frame odom at time 2452.393000 according to authority /pose_integrator\u001b[0m\n",
      "\u001b[33m[ WARN] [1717043089.584426719]: TF_REPEATED_DATA ignoring data with redundant timestamp for frame odom at time 2452.393000 according to authority /pose_integrator\u001b[0m\n",
      "\u001b[33m[ WARN] [1717043089.584460529]: TF_REPEATED_DATA ignoring data with redundant timestamp for frame odom at time 2452.393000 according to authority /pose_integrator\u001b[0m\n",
      "\u001b[33m[ WARN] [1717043093.188180782]: TF_REPEATED_DATA ignoring data with redundant timestamp for frame odom at time 2453.461000 according to authority /pose_integrator\u001b[0m\n",
      "\u001b[33m[ WARN] [1717043093.188242775]: TF_REPEATED_DATA ignoring data with redundant timestamp for frame odom at time 2453.461000 according to authority /pose_integrator\u001b[0m\n",
      "\u001b[33m[ WARN] [1717043093.188281165]: TF_REPEATED_DATA ignoring data with redundant timestamp for frame odom at time 2453.461000 according to authority /pose_integrator\u001b[0m\n",
      "\u001b[33m[ WARN] [1717043093.188313652]: TF_REPEATED_DATA ignoring data with redundant timestamp for frame odom at time 2453.461000 according to authority /pose_integrator\u001b[0m\n",
      "\u001b[33m[ WARN] [1717043093.188365040]: TF_REPEATED_DATA ignoring data with redundant timestamp for frame odom at time 2453.461000 according to authority /pose_integrator\u001b[0m\n",
      "\u001b[33m[ WARN] [1717043093.188412935]: TF_REPEATED_DATA ignoring data with redundant timestamp for frame odom at time 2453.461000 according to authority /pose_integrator\u001b[0m\n",
      "\u001b[33m[ WARN] [1717043093.917983324]: TF_REPEATED_DATA ignoring data with redundant timestamp for frame odom at time 2453.674000 according to authority /pose_integrator\u001b[0m\n",
      "\u001b[33m[ WARN] [1717043093.918033128]: TF_REPEATED_DATA ignoring data with redundant timestamp for frame odom at time 2453.674000 according to authority /pose_integrator\u001b[0m\n",
      "\u001b[33m[ WARN] [1717043093.918074172]: TF_REPEATED_DATA ignoring data with redundant timestamp for frame odom at time 2453.674000 according to authority /pose_integrator\u001b[0m\n",
      "\u001b[33m[ WARN] [1717043093.918104401]: TF_REPEATED_DATA ignoring data with redundant timestamp for frame odom at time 2453.674000 according to authority /pose_integrator\u001b[0m\n",
      "\u001b[33m[ WARN] [1717043093.918138865]: TF_REPEATED_DATA ignoring data with redundant timestamp for frame odom at time 2453.674000 according to authority /pose_integrator\u001b[0m\n",
      "\u001b[33m[ WARN] [1717043093.918172065]: TF_REPEATED_DATA ignoring data with redundant timestamp for frame odom at time 2453.674000 according to authority /pose_integrator\u001b[0m\n",
      "\u001b[33m[ WARN] [1717043097.163479630]: TF_REPEATED_DATA ignoring data with redundant timestamp for frame odom at time 2454.743000 according to authority /pose_integrator\u001b[0m\n",
      "\u001b[33m[ WARN] [1717043097.163535002]: TF_REPEATED_DATA ignoring data with redundant timestamp for frame odom at time 2454.743000 according to authority /pose_integrator\u001b[0m\n",
      "\u001b[33m[ WARN] [1717043097.163569286]: TF_REPEATED_DATA ignoring data with redundant timestamp for frame odom at time 2454.743000 according to authority /pose_integrator\u001b[0m\n",
      "\u001b[33m[ WARN] [1717043097.163601494]: TF_REPEATED_DATA ignoring data with redundant timestamp for frame odom at time 2454.743000 according to authority /pose_integrator\u001b[0m\n",
      "\u001b[33m[ WARN] [1717043097.163636847]: TF_REPEATED_DATA ignoring data with redundant timestamp for frame odom at time 2454.743000 according to authority /pose_integrator\u001b[0m\n",
      "\u001b[33m[ WARN] [1717043097.163670593]: TF_REPEATED_DATA ignoring data with redundant timestamp for frame odom at time 2454.743000 according to authority /pose_integrator\u001b[0m\n",
      "\u001b[33m[ WARN] [1717043100.011791017]: TF_REPEATED_DATA ignoring data with redundant timestamp for frame odom at time 2455.578000 according to authority /pose_integrator\u001b[0m\n",
      "\u001b[33m[ WARN] [1717043100.011837318]: TF_REPEATED_DATA ignoring data with redundant timestamp for frame odom at time 2455.578000 according to authority /pose_integrator\u001b[0m\n",
      "\u001b[33m[ WARN] [1717043100.011863831]: TF_REPEATED_DATA ignoring data with redundant timestamp for frame odom at time 2455.578000 according to authority /pose_integrator\u001b[0m\n",
      "\u001b[33m[ WARN] [1717043100.011886555]: TF_REPEATED_DATA ignoring data with redundant timestamp for frame odom at time 2455.578000 according to authority /pose_integrator\u001b[0m\n",
      "\u001b[33m[ WARN] [1717043100.011909364]: TF_REPEATED_DATA ignoring data with redundant timestamp for frame odom at time 2455.578000 according to authority /pose_integrator\u001b[0m\n",
      "\u001b[33m[ WARN] [1717043100.011936726]: TF_REPEATED_DATA ignoring data with redundant timestamp for frame odom at time 2455.578000 according to authority /pose_integrator\u001b[0m\n",
      "\u001b[33m[ WARN] [1717043103.059296702]: TF_REPEATED_DATA ignoring data with redundant timestamp for frame odom at time 2456.492000 according to authority /pose_integrator\u001b[0m\n",
      "\u001b[33m[ WARN] [1717043103.059352749]: TF_REPEATED_DATA ignoring data with redundant timestamp for frame odom at time 2456.492000 according to authority /pose_integrator\u001b[0m\n",
      "\u001b[33m[ WARN] [1717043103.059399880]: TF_REPEATED_DATA ignoring data with redundant timestamp for frame odom at time 2456.492000 according to authority /pose_integrator\u001b[0m\n",
      "\u001b[33m[ WARN] [1717043103.059440469]: TF_REPEATED_DATA ignoring data with redundant timestamp for frame odom at time 2456.492000 according to authority /pose_integrator\u001b[0m\n",
      "\u001b[33m[ WARN] [1717043103.059483595]: TF_REPEATED_DATA ignoring data with redundant timestamp for frame odom at time 2456.492000 according to authority /pose_integrator\u001b[0m\n",
      "\u001b[33m[ WARN] [1717043103.059515129]: TF_REPEATED_DATA ignoring data with redundant timestamp for frame odom at time 2456.492000 according to authority /pose_integrator\u001b[0m\n",
      "\u001b[33m[ WARN] [1717043104.829818057]: TF_REPEATED_DATA ignoring data with redundant timestamp for frame odom at time 2457.073000 according to authority /pose_integrator\u001b[0m\n",
      "\u001b[33m[ WARN] [1717043104.829902935]: TF_REPEATED_DATA ignoring data with redundant timestamp for frame odom at time 2457.073000 according to authority /pose_integrator\u001b[0m\n",
      "\u001b[33m[ WARN] [1717043104.829966513]: TF_REPEATED_DATA ignoring data with redundant timestamp for frame odom at time 2457.073000 according to authority /pose_integrator\u001b[0m\n",
      "\u001b[33m[ WARN] [1717043104.830019984]: TF_REPEATED_DATA ignoring data with redundant timestamp for frame odom at time 2457.073000 according to authority /pose_integrator\u001b[0m\n",
      "\u001b[33m[ WARN] [1717043104.830073526]: TF_REPEATED_DATA ignoring data with redundant timestamp for frame odom at time 2457.073000 according to authority /pose_integrator\u001b[0m\n",
      "\u001b[33m[ WARN] [1717043104.830130142]: TF_REPEATED_DATA ignoring data with redundant timestamp for frame odom at time 2457.073000 according to authority /pose_integrator\u001b[0m\n",
      "\u001b[33m[ WARN] [1717043106.650586291]: TF_REPEATED_DATA ignoring data with redundant timestamp for frame odom at time 2457.677000 according to authority /pose_integrator\u001b[0m\n",
      "\u001b[33m[ WARN] [1717043106.650646055]: TF_REPEATED_DATA ignoring data with redundant timestamp for frame odom at time 2457.677000 according to authority /pose_integrator\u001b[0m\n",
      "\u001b[33m[ WARN] [1717043106.650682176]: TF_REPEATED_DATA ignoring data with redundant timestamp for frame odom at time 2457.677000 according to authority /pose_integrator\u001b[0m\n",
      "\u001b[33m[ WARN] [1717043106.650717782]: TF_REPEATED_DATA ignoring data with redundant timestamp for frame odom at time 2457.677000 according to authority /pose_integrator\u001b[0m\n",
      "\u001b[33m[ WARN] [1717043106.650750638]: TF_REPEATED_DATA ignoring data with redundant timestamp for frame odom at time 2457.677000 according to authority /pose_integrator\u001b[0m\n",
      "\u001b[33m[ WARN] [1717043106.650792625]: TF_REPEATED_DATA ignoring data with redundant timestamp for frame odom at time 2457.677000 according to authority /pose_integrator\u001b[0m\n"
     ]
    },
    {
     "name": "stderr",
     "output_type": "stream",
     "text": [
      "\u001b[33m[ WARN] [1717043107.144283268]: TF_REPEATED_DATA ignoring data with redundant timestamp for frame odom at time 2457.843000 according to authority /pose_integrator\u001b[0m\n",
      "\u001b[33m[ WARN] [1717043107.144334466]: TF_REPEATED_DATA ignoring data with redundant timestamp for frame odom at time 2457.843000 according to authority /pose_integrator\u001b[0m\n",
      "\u001b[33m[ WARN] [1717043107.144382965]: TF_REPEATED_DATA ignoring data with redundant timestamp for frame odom at time 2457.843000 according to authority /pose_integrator\u001b[0m\n",
      "\u001b[33m[ WARN] [1717043107.144429381]: TF_REPEATED_DATA ignoring data with redundant timestamp for frame odom at time 2457.843000 according to authority /pose_integrator\u001b[0m\n",
      "\u001b[33m[ WARN] [1717043107.144468281]: TF_REPEATED_DATA ignoring data with redundant timestamp for frame odom at time 2457.843000 according to authority /pose_integrator\u001b[0m\n",
      "\u001b[33m[ WARN] [1717043107.144503932]: TF_REPEATED_DATA ignoring data with redundant timestamp for frame odom at time 2457.843000 according to authority /pose_integrator\u001b[0m\n",
      "\u001b[33m[ WARN] [1717043107.424327704]: TF_REPEATED_DATA ignoring data with redundant timestamp for frame odom at time 2457.948000 according to authority /pose_integrator\u001b[0m\n",
      "\u001b[33m[ WARN] [1717043107.424391455]: TF_REPEATED_DATA ignoring data with redundant timestamp for frame odom at time 2457.948000 according to authority /pose_integrator\u001b[0m\n",
      "\u001b[33m[ WARN] [1717043107.424420697]: TF_REPEATED_DATA ignoring data with redundant timestamp for frame odom at time 2457.948000 according to authority /pose_integrator\u001b[0m\n",
      "\u001b[33m[ WARN] [1717043107.424447949]: TF_REPEATED_DATA ignoring data with redundant timestamp for frame odom at time 2457.948000 according to authority /pose_integrator\u001b[0m\n",
      "\u001b[33m[ WARN] [1717043107.424486328]: TF_REPEATED_DATA ignoring data with redundant timestamp for frame odom at time 2457.948000 according to authority /pose_integrator\u001b[0m\n",
      "\u001b[33m[ WARN] [1717043107.424517639]: TF_REPEATED_DATA ignoring data with redundant timestamp for frame odom at time 2457.948000 according to authority /pose_integrator\u001b[0m\n",
      "\u001b[33m[ WARN] [1717043108.199804585]: TF_REPEATED_DATA ignoring data with redundant timestamp for frame odom at time 2458.186000 according to authority /pose_integrator\u001b[0m\n",
      "\u001b[33m[ WARN] [1717043108.199870305]: TF_REPEATED_DATA ignoring data with redundant timestamp for frame odom at time 2458.186000 according to authority /pose_integrator\u001b[0m\n",
      "\u001b[33m[ WARN] [1717043108.199919886]: TF_REPEATED_DATA ignoring data with redundant timestamp for frame odom at time 2458.186000 according to authority /pose_integrator\u001b[0m\n",
      "\u001b[33m[ WARN] [1717043108.199976520]: TF_REPEATED_DATA ignoring data with redundant timestamp for frame odom at time 2458.186000 according to authority /pose_integrator\u001b[0m\n",
      "\u001b[33m[ WARN] [1717043108.200023232]: TF_REPEATED_DATA ignoring data with redundant timestamp for frame odom at time 2458.186000 according to authority /pose_integrator\u001b[0m\n",
      "\u001b[33m[ WARN] [1717043108.200062456]: TF_REPEATED_DATA ignoring data with redundant timestamp for frame odom at time 2458.186000 according to authority /pose_integrator\u001b[0m\n",
      "\u001b[33m[ WARN] [1717043108.491422322]: TF_REPEATED_DATA ignoring data with redundant timestamp for frame odom at time 2458.293000 according to authority /pose_integrator\u001b[0m\n",
      "\u001b[33m[ WARN] [1717043108.491470672]: TF_REPEATED_DATA ignoring data with redundant timestamp for frame odom at time 2458.293000 according to authority /pose_integrator\u001b[0m\n",
      "\u001b[33m[ WARN] [1717043108.491503980]: TF_REPEATED_DATA ignoring data with redundant timestamp for frame odom at time 2458.293000 according to authority /pose_integrator\u001b[0m\n",
      "\u001b[33m[ WARN] [1717043108.491534286]: TF_REPEATED_DATA ignoring data with redundant timestamp for frame odom at time 2458.293000 according to authority /pose_integrator\u001b[0m\n",
      "\u001b[33m[ WARN] [1717043108.491565801]: TF_REPEATED_DATA ignoring data with redundant timestamp for frame odom at time 2458.293000 according to authority /pose_integrator\u001b[0m\n",
      "\u001b[33m[ WARN] [1717043108.491596870]: TF_REPEATED_DATA ignoring data with redundant timestamp for frame odom at time 2458.293000 according to authority /pose_integrator\u001b[0m\n",
      "\u001b[33m[ WARN] [1717043110.312817496]: TF_REPEATED_DATA ignoring data with redundant timestamp for frame odom at time 2458.816000 according to authority /pose_integrator\u001b[0m\n",
      "\u001b[33m[ WARN] [1717043110.312878368]: TF_REPEATED_DATA ignoring data with redundant timestamp for frame odom at time 2458.816000 according to authority /pose_integrator\u001b[0m\n",
      "\u001b[33m[ WARN] [1717043110.312908174]: TF_REPEATED_DATA ignoring data with redundant timestamp for frame odom at time 2458.816000 according to authority /pose_integrator\u001b[0m\n",
      "\u001b[33m[ WARN] [1717043110.312934464]: TF_REPEATED_DATA ignoring data with redundant timestamp for frame odom at time 2458.816000 according to authority /pose_integrator\u001b[0m\n",
      "\u001b[33m[ WARN] [1717043110.312959321]: TF_REPEATED_DATA ignoring data with redundant timestamp for frame odom at time 2458.816000 according to authority /pose_integrator\u001b[0m\n",
      "\u001b[33m[ WARN] [1717043110.312984090]: TF_REPEATED_DATA ignoring data with redundant timestamp for frame odom at time 2458.816000 according to authority /pose_integrator\u001b[0m\n",
      "\u001b[33m[ WARN] [1717043111.181108552]: TF_REPEATED_DATA ignoring data with redundant timestamp for frame odom at time 2459.086000 according to authority /pose_integrator\u001b[0m\n",
      "\u001b[33m[ WARN] [1717043111.181152269]: TF_REPEATED_DATA ignoring data with redundant timestamp for frame odom at time 2459.086000 according to authority /pose_integrator\u001b[0m\n",
      "\u001b[33m[ WARN] [1717043111.181181717]: TF_REPEATED_DATA ignoring data with redundant timestamp for frame odom at time 2459.086000 according to authority /pose_integrator\u001b[0m\n",
      "\u001b[33m[ WARN] [1717043111.181227444]: TF_REPEATED_DATA ignoring data with redundant timestamp for frame odom at time 2459.086000 according to authority /pose_integrator\u001b[0m\n",
      "\u001b[33m[ WARN] [1717043111.181263237]: TF_REPEATED_DATA ignoring data with redundant timestamp for frame odom at time 2459.086000 according to authority /pose_integrator\u001b[0m\n",
      "\u001b[33m[ WARN] [1717043111.181305262]: TF_REPEATED_DATA ignoring data with redundant timestamp for frame odom at time 2459.086000 according to authority /pose_integrator\u001b[0m\n",
      "\u001b[33m[ WARN] [1717043111.439911891]: TF_REPEATED_DATA ignoring data with redundant timestamp for frame odom at time 2459.167000 according to authority /pose_integrator\u001b[0m\n",
      "\u001b[33m[ WARN] [1717043111.439974742]: TF_REPEATED_DATA ignoring data with redundant timestamp for frame odom at time 2459.167000 according to authority /pose_integrator\u001b[0m\n",
      "\u001b[33m[ WARN] [1717043111.440010435]: TF_REPEATED_DATA ignoring data with redundant timestamp for frame odom at time 2459.167000 according to authority /pose_integrator\u001b[0m\n",
      "\u001b[33m[ WARN] [1717043111.440050702]: TF_REPEATED_DATA ignoring data with redundant timestamp for frame odom at time 2459.167000 according to authority /pose_integrator\u001b[0m\n",
      "\u001b[33m[ WARN] [1717043111.440088731]: TF_REPEATED_DATA ignoring data with redundant timestamp for frame odom at time 2459.167000 according to authority /pose_integrator\u001b[0m\n",
      "\u001b[33m[ WARN] [1717043111.440124885]: TF_REPEATED_DATA ignoring data with redundant timestamp for frame odom at time 2459.167000 according to authority /pose_integrator\u001b[0m\n",
      "\u001b[33m[ WARN] [1717043114.972715319]: TF_REPEATED_DATA ignoring data with redundant timestamp for frame odom at time 2460.224000 according to authority /pose_integrator\u001b[0m\n",
      "\u001b[33m[ WARN] [1717043114.972765561]: TF_REPEATED_DATA ignoring data with redundant timestamp for frame odom at time 2460.224000 according to authority /pose_integrator\u001b[0m\n",
      "\u001b[33m[ WARN] [1717043114.972796108]: TF_REPEATED_DATA ignoring data with redundant timestamp for frame odom at time 2460.224000 according to authority /pose_integrator\u001b[0m\n",
      "\u001b[33m[ WARN] [1717043114.972828172]: TF_REPEATED_DATA ignoring data with redundant timestamp for frame odom at time 2460.224000 according to authority /pose_integrator\u001b[0m\n",
      "\u001b[33m[ WARN] [1717043114.972868567]: TF_REPEATED_DATA ignoring data with redundant timestamp for frame odom at time 2460.224000 according to authority /pose_integrator\u001b[0m\n",
      "\u001b[33m[ WARN] [1717043114.972906095]: TF_REPEATED_DATA ignoring data with redundant timestamp for frame odom at time 2460.224000 according to authority /pose_integrator\u001b[0m\n"
     ]
    },
    {
     "name": "stderr",
     "output_type": "stream",
     "text": [
      "\u001b[33m[ WARN] [1717043123.804520910]: TF_REPEATED_DATA ignoring data with redundant timestamp for frame odom at time 2462.690000 according to authority /pose_integrator\u001b[0m\n",
      "\u001b[33m[ WARN] [1717043123.804578837]: TF_REPEATED_DATA ignoring data with redundant timestamp for frame odom at time 2462.690000 according to authority /pose_integrator\u001b[0m\n",
      "\u001b[33m[ WARN] [1717043123.804616583]: TF_REPEATED_DATA ignoring data with redundant timestamp for frame odom at time 2462.690000 according to authority /pose_integrator\u001b[0m\n",
      "\u001b[33m[ WARN] [1717043123.804654517]: TF_REPEATED_DATA ignoring data with redundant timestamp for frame odom at time 2462.690000 according to authority /pose_integrator\u001b[0m\n",
      "\u001b[33m[ WARN] [1717043123.804685795]: TF_REPEATED_DATA ignoring data with redundant timestamp for frame odom at time 2462.690000 according to authority /pose_integrator\u001b[0m\n",
      "\u001b[33m[ WARN] [1717043123.804721389]: TF_REPEATED_DATA ignoring data with redundant timestamp for frame odom at time 2462.690000 according to authority /pose_integrator\u001b[0m\n",
      "\u001b[33m[ WARN] [1717043128.118209949]: TF_REPEATED_DATA ignoring data with redundant timestamp for frame odom at time 2463.713000 according to authority /pose_integrator\u001b[0m\n",
      "\u001b[33m[ WARN] [1717043128.118252195]: TF_REPEATED_DATA ignoring data with redundant timestamp for frame odom at time 2463.713000 according to authority /pose_integrator\u001b[0m\n",
      "\u001b[33m[ WARN] [1717043128.118277779]: TF_REPEATED_DATA ignoring data with redundant timestamp for frame odom at time 2463.713000 according to authority /pose_integrator\u001b[0m\n",
      "\u001b[33m[ WARN] [1717043128.118300973]: TF_REPEATED_DATA ignoring data with redundant timestamp for frame odom at time 2463.713000 according to authority /pose_integrator\u001b[0m\n",
      "\u001b[33m[ WARN] [1717043128.118324567]: TF_REPEATED_DATA ignoring data with redundant timestamp for frame odom at time 2463.713000 according to authority /pose_integrator\u001b[0m\n",
      "\u001b[33m[ WARN] [1717043128.118348326]: TF_REPEATED_DATA ignoring data with redundant timestamp for frame odom at time 2463.713000 according to authority /pose_integrator\u001b[0m\n",
      "\u001b[33m[ WARN] [1717043142.829675352]: TF_REPEATED_DATA ignoring data with redundant timestamp for frame odom at time 2467.378000 according to authority /pose_integrator\u001b[0m\n",
      "\u001b[33m[ WARN] [1717043142.829757421]: TF_REPEATED_DATA ignoring data with redundant timestamp for frame odom at time 2467.378000 according to authority /pose_integrator\u001b[0m\n",
      "\u001b[33m[ WARN] [1717043142.829794277]: TF_REPEATED_DATA ignoring data with redundant timestamp for frame odom at time 2467.378000 according to authority /pose_integrator\u001b[0m\n",
      "\u001b[33m[ WARN] [1717043142.829826051]: TF_REPEATED_DATA ignoring data with redundant timestamp for frame odom at time 2467.378000 according to authority /pose_integrator\u001b[0m\n",
      "\u001b[33m[ WARN] [1717043142.829871992]: TF_REPEATED_DATA ignoring data with redundant timestamp for frame odom at time 2467.378000 according to authority /pose_integrator\u001b[0m\n",
      "\u001b[33m[ WARN] [1717043142.829903179]: TF_REPEATED_DATA ignoring data with redundant timestamp for frame odom at time 2467.378000 according to authority /pose_integrator\u001b[0m\n",
      "\u001b[33m[ WARN] [1717043148.997875102]: TF_REPEATED_DATA ignoring data with redundant timestamp for frame odom at time 2468.849000 according to authority /pose_integrator\u001b[0m\n",
      "\u001b[33m[ WARN] [1717043148.997955427]: TF_REPEATED_DATA ignoring data with redundant timestamp for frame odom at time 2468.849000 according to authority /pose_integrator\u001b[0m\n",
      "\u001b[33m[ WARN] [1717043148.998007859]: TF_REPEATED_DATA ignoring data with redundant timestamp for frame odom at time 2468.849000 according to authority /pose_integrator\u001b[0m\n",
      "\u001b[33m[ WARN] [1717043148.998053557]: TF_REPEATED_DATA ignoring data with redundant timestamp for frame odom at time 2468.849000 according to authority /pose_integrator\u001b[0m\n",
      "\u001b[33m[ WARN] [1717043148.998095667]: TF_REPEATED_DATA ignoring data with redundant timestamp for frame odom at time 2468.849000 according to authority /pose_integrator\u001b[0m\n",
      "\u001b[33m[ WARN] [1717043148.998146776]: TF_REPEATED_DATA ignoring data with redundant timestamp for frame odom at time 2468.849000 according to authority /pose_integrator\u001b[0m\n",
      "\u001b[33m[ WARN] [1717043160.268621921]: TF_REPEATED_DATA ignoring data with redundant timestamp for frame odom at time 2471.833000 according to authority /pose_integrator\u001b[0m\n",
      "\u001b[33m[ WARN] [1717043160.268688742]: TF_REPEATED_DATA ignoring data with redundant timestamp for frame odom at time 2471.833000 according to authority /pose_integrator\u001b[0m\n",
      "\u001b[33m[ WARN] [1717043160.268739981]: TF_REPEATED_DATA ignoring data with redundant timestamp for frame odom at time 2471.833000 according to authority /pose_integrator\u001b[0m\n",
      "\u001b[33m[ WARN] [1717043160.268783406]: TF_REPEATED_DATA ignoring data with redundant timestamp for frame odom at time 2471.833000 according to authority /pose_integrator\u001b[0m\n",
      "\u001b[33m[ WARN] [1717043160.268829052]: TF_REPEATED_DATA ignoring data with redundant timestamp for frame odom at time 2471.833000 according to authority /pose_integrator\u001b[0m\n",
      "\u001b[33m[ WARN] [1717043160.268875848]: TF_REPEATED_DATA ignoring data with redundant timestamp for frame odom at time 2471.833000 according to authority /pose_integrator\u001b[0m\n",
      "\u001b[33m[ WARN] [1717043178.547629349]: TF_REPEATED_DATA ignoring data with redundant timestamp for frame odom at time 2476.530000 according to authority /pose_integrator\u001b[0m\n",
      "\u001b[33m[ WARN] [1717043178.547687636]: TF_REPEATED_DATA ignoring data with redundant timestamp for frame odom at time 2476.530000 according to authority /pose_integrator\u001b[0m\n",
      "\u001b[33m[ WARN] [1717043178.547729028]: TF_REPEATED_DATA ignoring data with redundant timestamp for frame odom at time 2476.530000 according to authority /pose_integrator\u001b[0m\n",
      "\u001b[33m[ WARN] [1717043178.547780512]: TF_REPEATED_DATA ignoring data with redundant timestamp for frame odom at time 2476.530000 according to authority /pose_integrator\u001b[0m\n",
      "\u001b[33m[ WARN] [1717043178.547821602]: TF_REPEATED_DATA ignoring data with redundant timestamp for frame odom at time 2476.530000 according to authority /pose_integrator\u001b[0m\n",
      "\u001b[33m[ WARN] [1717043178.547864384]: TF_REPEATED_DATA ignoring data with redundant timestamp for frame odom at time 2476.530000 according to authority /pose_integrator\u001b[0m\n",
      "\u001b[33m[ WARN] [1717043187.224358796]: TF_REPEATED_DATA ignoring data with redundant timestamp for frame odom at time 2478.673000 according to authority /pose_integrator\u001b[0m\n",
      "\u001b[33m[ WARN] [1717043187.224414095]: TF_REPEATED_DATA ignoring data with redundant timestamp for frame odom at time 2478.673000 according to authority /pose_integrator\u001b[0m\n",
      "\u001b[33m[ WARN] [1717043187.224445028]: TF_REPEATED_DATA ignoring data with redundant timestamp for frame odom at time 2478.673000 according to authority /pose_integrator\u001b[0m\n",
      "\u001b[33m[ WARN] [1717043187.224483094]: TF_REPEATED_DATA ignoring data with redundant timestamp for frame odom at time 2478.673000 according to authority /pose_integrator\u001b[0m\n",
      "\u001b[33m[ WARN] [1717043187.224515118]: TF_REPEATED_DATA ignoring data with redundant timestamp for frame odom at time 2478.673000 according to authority /pose_integrator\u001b[0m\n",
      "\u001b[33m[ WARN] [1717043187.224543378]: TF_REPEATED_DATA ignoring data with redundant timestamp for frame odom at time 2478.673000 according to authority /pose_integrator\u001b[0m\n",
      "\u001b[33m[ WARN] [1717043194.394533366]: TF_REPEATED_DATA ignoring data with redundant timestamp for frame 071_nine_hole_peg_test at time 2480.568000 according to authority /objs_reco\u001b[0m\n",
      "\u001b[33m[ WARN] [1717043194.394598830]: TF_REPEATED_DATA ignoring data with redundant timestamp for frame 071_nine_hole_peg_test at time 2480.568000 according to authority /objs_reco\u001b[0m\n",
      "\u001b[33m[ WARN] [1717043194.394630587]: TF_REPEATED_DATA ignoring data with redundant timestamp for frame 071_nine_hole_peg_test at time 2480.568000 according to authority /objs_reco\u001b[0m\n",
      "\u001b[33m[ WARN] [1717043194.394659286]: TF_REPEATED_DATA ignoring data with redundant timestamp for frame 071_nine_hole_peg_test at time 2480.568000 according to authority /objs_reco\u001b[0m\n",
      "\u001b[33m[ WARN] [1717043194.394687039]: TF_REPEATED_DATA ignoring data with redundant timestamp for frame 071_nine_hole_peg_test at time 2480.568000 according to authority /objs_reco\u001b[0m\n",
      "\u001b[33m[ WARN] [1717043194.394714493]: TF_REPEATED_DATA ignoring data with redundant timestamp for frame 071_nine_hole_peg_test at time 2480.568000 according to authority /objs_reco\u001b[0m\n"
     ]
    },
    {
     "name": "stderr",
     "output_type": "stream",
     "text": [
      "\u001b[33m[ WARN] [1717043222.476208395]: TF_REPEATED_DATA ignoring data with redundant timestamp for frame odom at time 2487.665000 according to authority /pose_integrator\u001b[0m\n",
      "\u001b[33m[ WARN] [1717043222.476266217]: TF_REPEATED_DATA ignoring data with redundant timestamp for frame odom at time 2487.665000 according to authority /pose_integrator\u001b[0m\n",
      "\u001b[33m[ WARN] [1717043222.476296648]: TF_REPEATED_DATA ignoring data with redundant timestamp for frame odom at time 2487.665000 according to authority /pose_integrator\u001b[0m\n",
      "\u001b[33m[ WARN] [1717043222.476360748]: TF_REPEATED_DATA ignoring data with redundant timestamp for frame odom at time 2487.665000 according to authority /pose_integrator\u001b[0m\n",
      "\u001b[33m[ WARN] [1717043222.476399242]: TF_REPEATED_DATA ignoring data with redundant timestamp for frame odom at time 2487.665000 according to authority /pose_integrator\u001b[0m\n",
      "\u001b[33m[ WARN] [1717043222.476438973]: TF_REPEATED_DATA ignoring data with redundant timestamp for frame odom at time 2487.665000 according to authority /pose_integrator\u001b[0m\n",
      "\u001b[33m[ WARN] [1717043224.051513933]: TF_REPEATED_DATA ignoring data with redundant timestamp for frame odom at time 2488.086000 according to authority /pose_integrator\u001b[0m\n",
      "\u001b[33m[ WARN] [1717043224.051560694]: TF_REPEATED_DATA ignoring data with redundant timestamp for frame odom at time 2488.086000 according to authority /pose_integrator\u001b[0m\n",
      "\u001b[33m[ WARN] [1717043224.051590292]: TF_REPEATED_DATA ignoring data with redundant timestamp for frame odom at time 2488.086000 according to authority /pose_integrator\u001b[0m\n",
      "\u001b[33m[ WARN] [1717043224.051617487]: TF_REPEATED_DATA ignoring data with redundant timestamp for frame odom at time 2488.086000 according to authority /pose_integrator\u001b[0m\n",
      "\u001b[33m[ WARN] [1717043224.051643128]: TF_REPEATED_DATA ignoring data with redundant timestamp for frame odom at time 2488.086000 according to authority /pose_integrator\u001b[0m\n",
      "\u001b[33m[ WARN] [1717043224.051668638]: TF_REPEATED_DATA ignoring data with redundant timestamp for frame odom at time 2488.086000 according to authority /pose_integrator\u001b[0m\n",
      "\u001b[33m[ WARN] [1717043228.904959950]: TF_REPEATED_DATA ignoring data with redundant timestamp for frame odom at time 2489.221000 according to authority /pose_integrator\u001b[0m\n",
      "\u001b[33m[ WARN] [1717043228.905010919]: TF_REPEATED_DATA ignoring data with redundant timestamp for frame odom at time 2489.221000 according to authority /pose_integrator\u001b[0m\n",
      "\u001b[33m[ WARN] [1717043228.905040812]: TF_REPEATED_DATA ignoring data with redundant timestamp for frame odom at time 2489.221000 according to authority /pose_integrator\u001b[0m\n",
      "\u001b[33m[ WARN] [1717043228.905066804]: TF_REPEATED_DATA ignoring data with redundant timestamp for frame odom at time 2489.221000 according to authority /pose_integrator\u001b[0m\n",
      "\u001b[33m[ WARN] [1717043228.905092864]: TF_REPEATED_DATA ignoring data with redundant timestamp for frame odom at time 2489.221000 according to authority /pose_integrator\u001b[0m\n",
      "\u001b[33m[ WARN] [1717043228.905127797]: TF_REPEATED_DATA ignoring data with redundant timestamp for frame odom at time 2489.221000 according to authority /pose_integrator\u001b[0m\n",
      "\u001b[33m[ WARN] [1717043240.498173675]: TF_REPEATED_DATA ignoring data with redundant timestamp for frame odom at time 2491.931000 according to authority /pose_integrator\u001b[0m\n",
      "\u001b[33m[ WARN] [1717043240.498230429]: TF_REPEATED_DATA ignoring data with redundant timestamp for frame odom at time 2491.931000 according to authority /pose_integrator\u001b[0m\n",
      "\u001b[33m[ WARN] [1717043240.498271533]: TF_REPEATED_DATA ignoring data with redundant timestamp for frame odom at time 2491.931000 according to authority /pose_integrator\u001b[0m\n",
      "\u001b[33m[ WARN] [1717043240.498310813]: TF_REPEATED_DATA ignoring data with redundant timestamp for frame odom at time 2491.931000 according to authority /pose_integrator\u001b[0m\n",
      "\u001b[33m[ WARN] [1717043240.498353641]: TF_REPEATED_DATA ignoring data with redundant timestamp for frame odom at time 2491.931000 according to authority /pose_integrator\u001b[0m\n",
      "\u001b[33m[ WARN] [1717043240.498393956]: TF_REPEATED_DATA ignoring data with redundant timestamp for frame odom at time 2491.931000 according to authority /pose_integrator\u001b[0m\n",
      "\u001b[33m[ WARN] [1717043259.052732830]: TF_REPEATED_DATA ignoring data with redundant timestamp for frame odom at time 2496.217000 according to authority /pose_integrator\u001b[0m\n",
      "\u001b[33m[ WARN] [1717043259.052780367]: TF_REPEATED_DATA ignoring data with redundant timestamp for frame odom at time 2496.217000 according to authority /pose_integrator\u001b[0m\n",
      "\u001b[33m[ WARN] [1717043259.052807852]: TF_REPEATED_DATA ignoring data with redundant timestamp for frame odom at time 2496.217000 according to authority /pose_integrator\u001b[0m\n",
      "\u001b[33m[ WARN] [1717043259.052837365]: TF_REPEATED_DATA ignoring data with redundant timestamp for frame odom at time 2496.217000 according to authority /pose_integrator\u001b[0m\n",
      "\u001b[33m[ WARN] [1717043259.052863301]: TF_REPEATED_DATA ignoring data with redundant timestamp for frame odom at time 2496.217000 according to authority /pose_integrator\u001b[0m\n",
      "\u001b[33m[ WARN] [1717043259.052888129]: TF_REPEATED_DATA ignoring data with redundant timestamp for frame odom at time 2496.217000 according to authority /pose_integrator\u001b[0m\n",
      "\u001b[33m[ WARN] [1717043260.414801732]: TF_REPEATED_DATA ignoring data with redundant timestamp for frame odom at time 2496.610000 according to authority /pose_integrator\u001b[0m\n",
      "\u001b[33m[ WARN] [1717043260.414860383]: TF_REPEATED_DATA ignoring data with redundant timestamp for frame odom at time 2496.610000 according to authority /pose_integrator\u001b[0m\n",
      "\u001b[33m[ WARN] [1717043260.414899165]: TF_REPEATED_DATA ignoring data with redundant timestamp for frame odom at time 2496.610000 according to authority /pose_integrator\u001b[0m\n",
      "\u001b[33m[ WARN] [1717043260.414935353]: TF_REPEATED_DATA ignoring data with redundant timestamp for frame odom at time 2496.610000 according to authority /pose_integrator\u001b[0m\n",
      "\u001b[33m[ WARN] [1717043260.414962345]: TF_REPEATED_DATA ignoring data with redundant timestamp for frame odom at time 2496.610000 according to authority /pose_integrator\u001b[0m\n",
      "\u001b[33m[ WARN] [1717043260.414987418]: TF_REPEATED_DATA ignoring data with redundant timestamp for frame odom at time 2496.610000 according to authority /pose_integrator\u001b[0m\n",
      "\u001b[33m[ WARN] [1717043269.812906585]: TF_REPEATED_DATA ignoring data with redundant timestamp for frame odom at time 2498.815000 according to authority /pose_integrator\u001b[0m\n",
      "\u001b[33m[ WARN] [1717043269.812969402]: TF_REPEATED_DATA ignoring data with redundant timestamp for frame odom at time 2498.815000 according to authority /pose_integrator\u001b[0m\n",
      "\u001b[33m[ WARN] [1717043269.813013647]: TF_REPEATED_DATA ignoring data with redundant timestamp for frame odom at time 2498.815000 according to authority /pose_integrator\u001b[0m\n",
      "\u001b[33m[ WARN] [1717043269.813049943]: TF_REPEATED_DATA ignoring data with redundant timestamp for frame odom at time 2498.815000 according to authority /pose_integrator\u001b[0m\n",
      "\u001b[33m[ WARN] [1717043269.813093069]: TF_REPEATED_DATA ignoring data with redundant timestamp for frame odom at time 2498.815000 according to authority /pose_integrator\u001b[0m\n",
      "\u001b[33m[ WARN] [1717043269.813142343]: TF_REPEATED_DATA ignoring data with redundant timestamp for frame odom at time 2498.815000 according to authority /pose_integrator\u001b[0m\n",
      "\u001b[33m[ WARN] [1717043270.289975312]: TF_REPEATED_DATA ignoring data with redundant timestamp for frame odom at time 2498.949000 according to authority /pose_integrator\u001b[0m\n",
      "\u001b[33m[ WARN] [1717043270.290030677]: TF_REPEATED_DATA ignoring data with redundant timestamp for frame odom at time 2498.949000 according to authority /pose_integrator\u001b[0m\n",
      "\u001b[33m[ WARN] [1717043270.290077321]: TF_REPEATED_DATA ignoring data with redundant timestamp for frame odom at time 2498.949000 according to authority /pose_integrator\u001b[0m\n",
      "\u001b[33m[ WARN] [1717043270.290120503]: TF_REPEATED_DATA ignoring data with redundant timestamp for frame odom at time 2498.949000 according to authority /pose_integrator\u001b[0m\n",
      "\u001b[33m[ WARN] [1717043270.290168981]: TF_REPEATED_DATA ignoring data with redundant timestamp for frame odom at time 2498.949000 according to authority /pose_integrator\u001b[0m\n",
      "\u001b[33m[ WARN] [1717043270.290214223]: TF_REPEATED_DATA ignoring data with redundant timestamp for frame odom at time 2498.949000 according to authority /pose_integrator\u001b[0m\n"
     ]
    },
    {
     "name": "stderr",
     "output_type": "stream",
     "text": [
      "\u001b[33m[ WARN] [1717043289.027497126]: TF_REPEATED_DATA ignoring data with redundant timestamp for frame odom at time 2503.463000 according to authority /pose_integrator\u001b[0m\n",
      "\u001b[33m[ WARN] [1717043289.027609078]: TF_REPEATED_DATA ignoring data with redundant timestamp for frame odom at time 2503.463000 according to authority /pose_integrator\u001b[0m\n",
      "\u001b[33m[ WARN] [1717043289.027643791]: TF_REPEATED_DATA ignoring data with redundant timestamp for frame odom at time 2503.463000 according to authority /pose_integrator\u001b[0m\n",
      "\u001b[33m[ WARN] [1717043289.027680747]: TF_REPEATED_DATA ignoring data with redundant timestamp for frame odom at time 2503.463000 according to authority /pose_integrator\u001b[0m\n",
      "\u001b[33m[ WARN] [1717043289.027713687]: TF_REPEATED_DATA ignoring data with redundant timestamp for frame odom at time 2503.463000 according to authority /pose_integrator\u001b[0m\n",
      "\u001b[33m[ WARN] [1717043289.027761503]: TF_REPEATED_DATA ignoring data with redundant timestamp for frame odom at time 2503.463000 according to authority /pose_integrator\u001b[0m\n",
      "\u001b[33m[ WARN] [1717043297.300304552]: TF_REPEATED_DATA ignoring data with redundant timestamp for frame odom at time 2505.393000 according to authority /pose_integrator\u001b[0m\n",
      "\u001b[33m[ WARN] [1717043297.300357272]: TF_REPEATED_DATA ignoring data with redundant timestamp for frame odom at time 2505.393000 according to authority /pose_integrator\u001b[0m\n",
      "\u001b[33m[ WARN] [1717043297.300389191]: TF_REPEATED_DATA ignoring data with redundant timestamp for frame odom at time 2505.393000 according to authority /pose_integrator\u001b[0m\n",
      "\u001b[33m[ WARN] [1717043297.300418305]: TF_REPEATED_DATA ignoring data with redundant timestamp for frame odom at time 2505.393000 according to authority /pose_integrator\u001b[0m\n",
      "\u001b[33m[ WARN] [1717043297.300445983]: TF_REPEATED_DATA ignoring data with redundant timestamp for frame odom at time 2505.393000 according to authority /pose_integrator\u001b[0m\n",
      "\u001b[33m[ WARN] [1717043297.300474006]: TF_REPEATED_DATA ignoring data with redundant timestamp for frame odom at time 2505.393000 according to authority /pose_integrator\u001b[0m\n",
      "\u001b[33m[ WARN] [1717043307.112677235]: TF_REPEATED_DATA ignoring data with redundant timestamp for frame odom at time 2507.910000 according to authority /pose_integrator\u001b[0m\n",
      "\u001b[33m[ WARN] [1717043307.112733595]: TF_REPEATED_DATA ignoring data with redundant timestamp for frame odom at time 2507.910000 according to authority /pose_integrator\u001b[0m\n",
      "\u001b[33m[ WARN] [1717043307.112778762]: TF_REPEATED_DATA ignoring data with redundant timestamp for frame odom at time 2507.910000 according to authority /pose_integrator\u001b[0m\n",
      "\u001b[33m[ WARN] [1717043307.112823845]: TF_REPEATED_DATA ignoring data with redundant timestamp for frame odom at time 2507.910000 according to authority /pose_integrator\u001b[0m\n",
      "\u001b[33m[ WARN] [1717043307.112865800]: TF_REPEATED_DATA ignoring data with redundant timestamp for frame odom at time 2507.910000 according to authority /pose_integrator\u001b[0m\n",
      "\u001b[33m[ WARN] [1717043307.112903733]: TF_REPEATED_DATA ignoring data with redundant timestamp for frame odom at time 2507.910000 according to authority /pose_integrator\u001b[0m\n",
      "\u001b[33m[ WARN] [1717043312.022280082]: TF_REPEATED_DATA ignoring data with redundant timestamp for frame odom at time 2509.294000 according to authority /pose_integrator\u001b[0m\n",
      "\u001b[33m[ WARN] [1717043312.022366060]: TF_REPEATED_DATA ignoring data with redundant timestamp for frame odom at time 2509.294000 according to authority /pose_integrator\u001b[0m\n",
      "\u001b[33m[ WARN] [1717043312.022446705]: TF_REPEATED_DATA ignoring data with redundant timestamp for frame odom at time 2509.294000 according to authority /pose_integrator\u001b[0m\n",
      "\u001b[33m[ WARN] [1717043312.022500990]: TF_REPEATED_DATA ignoring data with redundant timestamp for frame odom at time 2509.294000 according to authority /pose_integrator\u001b[0m\n",
      "\u001b[33m[ WARN] [1717043312.022561277]: TF_REPEATED_DATA ignoring data with redundant timestamp for frame odom at time 2509.294000 according to authority /pose_integrator\u001b[0m\n",
      "\u001b[33m[ WARN] [1717043312.022617918]: TF_REPEATED_DATA ignoring data with redundant timestamp for frame odom at time 2509.294000 according to authority /pose_integrator\u001b[0m\n",
      "\u001b[33m[ WARN] [1717043312.468845415]: TF_REPEATED_DATA ignoring data with redundant timestamp for frame odom at time 2509.410000 according to authority /pose_integrator\u001b[0m\n",
      "\u001b[33m[ WARN] [1717043312.468883507]: TF_REPEATED_DATA ignoring data with redundant timestamp for frame odom at time 2509.410000 according to authority /pose_integrator\u001b[0m\n",
      "\u001b[33m[ WARN] [1717043312.468907369]: TF_REPEATED_DATA ignoring data with redundant timestamp for frame odom at time 2509.410000 according to authority /pose_integrator\u001b[0m\n",
      "\u001b[33m[ WARN] [1717043312.468929849]: TF_REPEATED_DATA ignoring data with redundant timestamp for frame odom at time 2509.410000 according to authority /pose_integrator\u001b[0m\n",
      "\u001b[33m[ WARN] [1717043312.468952003]: TF_REPEATED_DATA ignoring data with redundant timestamp for frame odom at time 2509.410000 according to authority /pose_integrator\u001b[0m\n",
      "\u001b[33m[ WARN] [1717043312.468973810]: TF_REPEATED_DATA ignoring data with redundant timestamp for frame odom at time 2509.410000 according to authority /pose_integrator\u001b[0m\n",
      "\u001b[33m[ WARN] [1717043336.293379984]: TF_REPEATED_DATA ignoring data with redundant timestamp for frame odom at time 2515.025000 according to authority /pose_integrator\u001b[0m\n",
      "\u001b[33m[ WARN] [1717043336.293441054]: TF_REPEATED_DATA ignoring data with redundant timestamp for frame odom at time 2515.025000 according to authority /pose_integrator\u001b[0m\n",
      "\u001b[33m[ WARN] [1717043336.293476176]: TF_REPEATED_DATA ignoring data with redundant timestamp for frame odom at time 2515.025000 according to authority /pose_integrator\u001b[0m\n",
      "\u001b[33m[ WARN] [1717043336.293509080]: TF_REPEATED_DATA ignoring data with redundant timestamp for frame odom at time 2515.025000 according to authority /pose_integrator\u001b[0m\n",
      "\u001b[33m[ WARN] [1717043336.293542252]: TF_REPEATED_DATA ignoring data with redundant timestamp for frame odom at time 2515.025000 according to authority /pose_integrator\u001b[0m\n",
      "\u001b[33m[ WARN] [1717043336.293579270]: TF_REPEATED_DATA ignoring data with redundant timestamp for frame odom at time 2515.025000 according to authority /pose_integrator\u001b[0m\n",
      "\u001b[33m[ WARN] [1717043338.098600618]: TF_REPEATED_DATA ignoring data with redundant timestamp for frame odom at time 2515.440000 according to authority /pose_integrator\u001b[0m\n",
      "\u001b[33m[ WARN] [1717043338.098676411]: TF_REPEATED_DATA ignoring data with redundant timestamp for frame odom at time 2515.440000 according to authority /pose_integrator\u001b[0m\n",
      "\u001b[33m[ WARN] [1717043338.098714844]: TF_REPEATED_DATA ignoring data with redundant timestamp for frame odom at time 2515.440000 according to authority /pose_integrator\u001b[0m\n",
      "\u001b[33m[ WARN] [1717043338.098744933]: TF_REPEATED_DATA ignoring data with redundant timestamp for frame odom at time 2515.440000 according to authority /pose_integrator\u001b[0m\n",
      "\u001b[33m[ WARN] [1717043338.098774084]: TF_REPEATED_DATA ignoring data with redundant timestamp for frame odom at time 2515.440000 according to authority /pose_integrator\u001b[0m\n",
      "\u001b[33m[ WARN] [1717043338.098801376]: TF_REPEATED_DATA ignoring data with redundant timestamp for frame odom at time 2515.440000 according to authority /pose_integrator\u001b[0m\n",
      "\u001b[33m[ WARN] [1717043386.822389643]: TF_REPEATED_DATA ignoring data with redundant timestamp for frame odom at time 2527.026000 according to authority /pose_integrator\u001b[0m\n",
      "\u001b[33m[ WARN] [1717043386.822467335]: TF_REPEATED_DATA ignoring data with redundant timestamp for frame odom at time 2527.026000 according to authority /pose_integrator\u001b[0m\n",
      "\u001b[33m[ WARN] [1717043386.822516390]: TF_REPEATED_DATA ignoring data with redundant timestamp for frame odom at time 2527.026000 according to authority /pose_integrator\u001b[0m\n",
      "\u001b[33m[ WARN] [1717043386.822558924]: TF_REPEATED_DATA ignoring data with redundant timestamp for frame odom at time 2527.026000 according to authority /pose_integrator\u001b[0m\n",
      "\u001b[33m[ WARN] [1717043386.822600186]: TF_REPEATED_DATA ignoring data with redundant timestamp for frame odom at time 2527.026000 according to authority /pose_integrator\u001b[0m\n",
      "\u001b[33m[ WARN] [1717043386.822644264]: TF_REPEATED_DATA ignoring data with redundant timestamp for frame odom at time 2527.026000 according to authority /pose_integrator\u001b[0m\n"
     ]
    },
    {
     "name": "stderr",
     "output_type": "stream",
     "text": [
      "\u001b[33m[ WARN] [1717043432.980965492]: TF_REPEATED_DATA ignoring data with redundant timestamp for frame odom at time 2537.512000 according to authority /pose_integrator\u001b[0m\n",
      "\u001b[33m[ WARN] [1717043432.981047200]: TF_REPEATED_DATA ignoring data with redundant timestamp for frame odom at time 2537.512000 according to authority /pose_integrator\u001b[0m\n",
      "\u001b[33m[ WARN] [1717043432.981093879]: TF_REPEATED_DATA ignoring data with redundant timestamp for frame odom at time 2537.512000 according to authority /pose_integrator\u001b[0m\n",
      "\u001b[33m[ WARN] [1717043432.981141368]: TF_REPEATED_DATA ignoring data with redundant timestamp for frame odom at time 2537.512000 according to authority /pose_integrator\u001b[0m\n",
      "\u001b[33m[ WARN] [1717043432.981187108]: TF_REPEATED_DATA ignoring data with redundant timestamp for frame odom at time 2537.512000 according to authority /pose_integrator\u001b[0m\n",
      "\u001b[33m[ WARN] [1717043432.981233228]: TF_REPEATED_DATA ignoring data with redundant timestamp for frame odom at time 2537.512000 according to authority /pose_integrator\u001b[0m\n",
      "\u001b[33m[ WARN] [1717043437.504953853]: TF_REPEATED_DATA ignoring data with redundant timestamp for frame odom at time 2538.613000 according to authority /pose_integrator\u001b[0m\n",
      "\u001b[33m[ WARN] [1717043437.505017573]: TF_REPEATED_DATA ignoring data with redundant timestamp for frame odom at time 2538.613000 according to authority /pose_integrator\u001b[0m\n",
      "\u001b[33m[ WARN] [1717043437.505063454]: TF_REPEATED_DATA ignoring data with redundant timestamp for frame odom at time 2538.613000 according to authority /pose_integrator\u001b[0m\n",
      "\u001b[33m[ WARN] [1717043437.505099192]: TF_REPEATED_DATA ignoring data with redundant timestamp for frame odom at time 2538.613000 according to authority /pose_integrator\u001b[0m\n",
      "\u001b[33m[ WARN] [1717043437.505135957]: TF_REPEATED_DATA ignoring data with redundant timestamp for frame odom at time 2538.613000 according to authority /pose_integrator\u001b[0m\n",
      "\u001b[33m[ WARN] [1717043437.505178957]: TF_REPEATED_DATA ignoring data with redundant timestamp for frame odom at time 2538.613000 according to authority /pose_integrator\u001b[0m\n",
      "\u001b[33m[ WARN] [1717043438.529077578]: TF_REPEATED_DATA ignoring data with redundant timestamp for frame odom at time 2538.859000 according to authority /pose_integrator\u001b[0m\n",
      "\u001b[33m[ WARN] [1717043438.529138320]: TF_REPEATED_DATA ignoring data with redundant timestamp for frame odom at time 2538.859000 according to authority /pose_integrator\u001b[0m\n",
      "\u001b[33m[ WARN] [1717043438.529184405]: TF_REPEATED_DATA ignoring data with redundant timestamp for frame odom at time 2538.859000 according to authority /pose_integrator\u001b[0m\n",
      "\u001b[33m[ WARN] [1717043438.529220717]: TF_REPEATED_DATA ignoring data with redundant timestamp for frame odom at time 2538.859000 according to authority /pose_integrator\u001b[0m\n",
      "\u001b[33m[ WARN] [1717043438.529267416]: TF_REPEATED_DATA ignoring data with redundant timestamp for frame odom at time 2538.859000 according to authority /pose_integrator\u001b[0m\n",
      "\u001b[33m[ WARN] [1717043438.529313374]: TF_REPEATED_DATA ignoring data with redundant timestamp for frame odom at time 2538.859000 according to authority /pose_integrator\u001b[0m\n",
      "\u001b[33m[ WARN] [1717043465.238502395]: TF_REPEATED_DATA ignoring data with redundant timestamp for frame odom at time 2545.237000 according to authority /pose_integrator\u001b[0m\n",
      "\u001b[33m[ WARN] [1717043465.238576826]: TF_REPEATED_DATA ignoring data with redundant timestamp for frame odom at time 2545.237000 according to authority /pose_integrator\u001b[0m\n",
      "\u001b[33m[ WARN] [1717043465.238622987]: TF_REPEATED_DATA ignoring data with redundant timestamp for frame odom at time 2545.237000 according to authority /pose_integrator\u001b[0m\n",
      "\u001b[33m[ WARN] [1717043465.238667237]: TF_REPEATED_DATA ignoring data with redundant timestamp for frame odom at time 2545.237000 according to authority /pose_integrator\u001b[0m\n",
      "\u001b[33m[ WARN] [1717043465.238710760]: TF_REPEATED_DATA ignoring data with redundant timestamp for frame odom at time 2545.237000 according to authority /pose_integrator\u001b[0m\n",
      "\u001b[33m[ WARN] [1717043465.238754598]: TF_REPEATED_DATA ignoring data with redundant timestamp for frame odom at time 2545.237000 according to authority /pose_integrator\u001b[0m\n",
      "\u001b[33m[ WARN] [1717043467.979484615]: TF_REPEATED_DATA ignoring data with redundant timestamp for frame odom at time 2546.037000 according to authority /pose_integrator\u001b[0m\n",
      "\u001b[33m[ WARN] [1717043467.979540747]: TF_REPEATED_DATA ignoring data with redundant timestamp for frame odom at time 2546.037000 according to authority /pose_integrator\u001b[0m\n",
      "\u001b[33m[ WARN] [1717043467.979577772]: TF_REPEATED_DATA ignoring data with redundant timestamp for frame odom at time 2546.037000 according to authority /pose_integrator\u001b[0m\n",
      "\u001b[33m[ WARN] [1717043467.979613524]: TF_REPEATED_DATA ignoring data with redundant timestamp for frame odom at time 2546.037000 according to authority /pose_integrator\u001b[0m\n",
      "\u001b[33m[ WARN] [1717043467.979662577]: TF_REPEATED_DATA ignoring data with redundant timestamp for frame odom at time 2546.037000 according to authority /pose_integrator\u001b[0m\n",
      "\u001b[33m[ WARN] [1717043467.979708863]: TF_REPEATED_DATA ignoring data with redundant timestamp for frame odom at time 2546.037000 according to authority /pose_integrator\u001b[0m\n",
      "\u001b[33m[ WARN] [1717043476.984500638]: TF_REPEATED_DATA ignoring data with redundant timestamp for frame odom at time 2548.433000 according to authority /pose_integrator\u001b[0m\n",
      "\u001b[33m[ WARN] [1717043476.984561200]: TF_REPEATED_DATA ignoring data with redundant timestamp for frame odom at time 2548.433000 according to authority /pose_integrator\u001b[0m\n",
      "\u001b[33m[ WARN] [1717043476.984599725]: TF_REPEATED_DATA ignoring data with redundant timestamp for frame odom at time 2548.433000 according to authority /pose_integrator\u001b[0m\n",
      "\u001b[33m[ WARN] [1717043476.984636927]: TF_REPEATED_DATA ignoring data with redundant timestamp for frame odom at time 2548.433000 according to authority /pose_integrator\u001b[0m\n",
      "\u001b[33m[ WARN] [1717043476.984674228]: TF_REPEATED_DATA ignoring data with redundant timestamp for frame odom at time 2548.433000 according to authority /pose_integrator\u001b[0m\n",
      "\u001b[33m[ WARN] [1717043476.984709524]: TF_REPEATED_DATA ignoring data with redundant timestamp for frame odom at time 2548.433000 according to authority /pose_integrator\u001b[0m\n",
      "\u001b[33m[ WARN] [1717043506.276065357]: TF_REPEATED_DATA ignoring data with redundant timestamp for frame odom at time 2555.892000 according to authority /pose_integrator\u001b[0m\n",
      "\u001b[33m[ WARN] [1717043506.276132420]: TF_REPEATED_DATA ignoring data with redundant timestamp for frame odom at time 2555.892000 according to authority /pose_integrator\u001b[0m\n",
      "\u001b[33m[ WARN] [1717043506.276179157]: TF_REPEATED_DATA ignoring data with redundant timestamp for frame odom at time 2555.892000 according to authority /pose_integrator\u001b[0m\n",
      "\u001b[33m[ WARN] [1717043506.276220927]: TF_REPEATED_DATA ignoring data with redundant timestamp for frame odom at time 2555.892000 according to authority /pose_integrator\u001b[0m\n",
      "\u001b[33m[ WARN] [1717043506.276270543]: TF_REPEATED_DATA ignoring data with redundant timestamp for frame odom at time 2555.892000 according to authority /pose_integrator\u001b[0m\n",
      "\u001b[33m[ WARN] [1717043506.276313374]: TF_REPEATED_DATA ignoring data with redundant timestamp for frame odom at time 2555.892000 according to authority /pose_integrator\u001b[0m\n",
      "\u001b[33m[ WARN] [1717043510.670616801]: TF_REPEATED_DATA ignoring data with redundant timestamp for frame odom at time 2557.198000 according to authority /pose_integrator\u001b[0m\n",
      "\u001b[33m[ WARN] [1717043510.670681959]: TF_REPEATED_DATA ignoring data with redundant timestamp for frame odom at time 2557.198000 according to authority /pose_integrator\u001b[0m\n",
      "\u001b[33m[ WARN] [1717043510.670736217]: TF_REPEATED_DATA ignoring data with redundant timestamp for frame odom at time 2557.198000 according to authority /pose_integrator\u001b[0m\n",
      "\u001b[33m[ WARN] [1717043510.670781256]: TF_REPEATED_DATA ignoring data with redundant timestamp for frame odom at time 2557.198000 according to authority /pose_integrator\u001b[0m\n",
      "\u001b[33m[ WARN] [1717043510.670820315]: TF_REPEATED_DATA ignoring data with redundant timestamp for frame odom at time 2557.198000 according to authority /pose_integrator\u001b[0m\n",
      "\u001b[33m[ WARN] [1717043510.670869032]: TF_REPEATED_DATA ignoring data with redundant timestamp for frame odom at time 2557.198000 according to authority /pose_integrator\u001b[0m\n"
     ]
    },
    {
     "name": "stderr",
     "output_type": "stream",
     "text": [
      "\u001b[33m[ WARN] [1717043513.221429263]: TF_REPEATED_DATA ignoring data with redundant timestamp for frame odom at time 2557.857000 according to authority /pose_integrator\u001b[0m\n",
      "\u001b[33m[ WARN] [1717043513.221475444]: TF_REPEATED_DATA ignoring data with redundant timestamp for frame odom at time 2557.857000 according to authority /pose_integrator\u001b[0m\n",
      "\u001b[33m[ WARN] [1717043513.221514901]: TF_REPEATED_DATA ignoring data with redundant timestamp for frame odom at time 2557.857000 according to authority /pose_integrator\u001b[0m\n",
      "\u001b[33m[ WARN] [1717043513.221556572]: TF_REPEATED_DATA ignoring data with redundant timestamp for frame odom at time 2557.857000 according to authority /pose_integrator\u001b[0m\n",
      "\u001b[33m[ WARN] [1717043513.221589654]: TF_REPEATED_DATA ignoring data with redundant timestamp for frame odom at time 2557.857000 according to authority /pose_integrator\u001b[0m\n",
      "\u001b[33m[ WARN] [1717043513.221624028]: TF_REPEATED_DATA ignoring data with redundant timestamp for frame odom at time 2557.857000 according to authority /pose_integrator\u001b[0m\n",
      "\u001b[33m[ WARN] [1717043543.165956366]: TF_REPEATED_DATA ignoring data with redundant timestamp for frame odom at time 2565.731000 according to authority /pose_integrator\u001b[0m\n",
      "\u001b[33m[ WARN] [1717043543.166006052]: TF_REPEATED_DATA ignoring data with redundant timestamp for frame odom at time 2565.731000 according to authority /pose_integrator\u001b[0m\n",
      "\u001b[33m[ WARN] [1717043543.166038016]: TF_REPEATED_DATA ignoring data with redundant timestamp for frame odom at time 2565.731000 according to authority /pose_integrator\u001b[0m\n",
      "\u001b[33m[ WARN] [1717043543.166070122]: TF_REPEATED_DATA ignoring data with redundant timestamp for frame odom at time 2565.731000 according to authority /pose_integrator\u001b[0m\n",
      "\u001b[33m[ WARN] [1717043543.166100069]: TF_REPEATED_DATA ignoring data with redundant timestamp for frame odom at time 2565.731000 according to authority /pose_integrator\u001b[0m\n",
      "\u001b[33m[ WARN] [1717043543.166141177]: TF_REPEATED_DATA ignoring data with redundant timestamp for frame odom at time 2565.731000 according to authority /pose_integrator\u001b[0m\n",
      "\u001b[33m[ WARN] [1717043545.448583888]: TF_REPEATED_DATA ignoring data with redundant timestamp for frame odom at time 2566.418000 according to authority /pose_integrator\u001b[0m\n",
      "\u001b[33m[ WARN] [1717043545.448638290]: TF_REPEATED_DATA ignoring data with redundant timestamp for frame odom at time 2566.418000 according to authority /pose_integrator\u001b[0m\n",
      "\u001b[33m[ WARN] [1717043545.448668102]: TF_REPEATED_DATA ignoring data with redundant timestamp for frame odom at time 2566.418000 according to authority /pose_integrator\u001b[0m\n",
      "\u001b[33m[ WARN] [1717043545.448694638]: TF_REPEATED_DATA ignoring data with redundant timestamp for frame odom at time 2566.418000 according to authority /pose_integrator\u001b[0m\n",
      "\u001b[33m[ WARN] [1717043545.448720910]: TF_REPEATED_DATA ignoring data with redundant timestamp for frame odom at time 2566.418000 according to authority /pose_integrator\u001b[0m\n",
      "\u001b[33m[ WARN] [1717043545.448747227]: TF_REPEATED_DATA ignoring data with redundant timestamp for frame odom at time 2566.418000 according to authority /pose_integrator\u001b[0m\n",
      "\u001b[33m[ WARN] [1717043545.754509118]: TF_REPEATED_DATA ignoring data with redundant timestamp for frame odom at time 2566.519000 according to authority /pose_integrator\u001b[0m\n",
      "\u001b[33m[ WARN] [1717043545.754562673]: TF_REPEATED_DATA ignoring data with redundant timestamp for frame odom at time 2566.519000 according to authority /pose_integrator\u001b[0m\n",
      "\u001b[33m[ WARN] [1717043545.754592986]: TF_REPEATED_DATA ignoring data with redundant timestamp for frame odom at time 2566.519000 according to authority /pose_integrator\u001b[0m\n",
      "\u001b[33m[ WARN] [1717043545.754621001]: TF_REPEATED_DATA ignoring data with redundant timestamp for frame odom at time 2566.519000 according to authority /pose_integrator\u001b[0m\n",
      "\u001b[33m[ WARN] [1717043545.754648337]: TF_REPEATED_DATA ignoring data with redundant timestamp for frame odom at time 2566.519000 according to authority /pose_integrator\u001b[0m\n",
      "\u001b[33m[ WARN] [1717043545.754675134]: TF_REPEATED_DATA ignoring data with redundant timestamp for frame odom at time 2566.519000 according to authority /pose_integrator\u001b[0m\n",
      "\u001b[33m[ WARN] [1717043545.868234739]: TF_REPEATED_DATA ignoring data with redundant timestamp for frame odom at time 2566.561000 according to authority /pose_integrator\u001b[0m\n",
      "\u001b[33m[ WARN] [1717043545.868288545]: TF_REPEATED_DATA ignoring data with redundant timestamp for frame odom at time 2566.561000 according to authority /pose_integrator\u001b[0m\n",
      "\u001b[33m[ WARN] [1717043545.868329300]: TF_REPEATED_DATA ignoring data with redundant timestamp for frame odom at time 2566.561000 according to authority /pose_integrator\u001b[0m\n",
      "\u001b[33m[ WARN] [1717043545.868377739]: TF_REPEATED_DATA ignoring data with redundant timestamp for frame odom at time 2566.561000 according to authority /pose_integrator\u001b[0m\n",
      "\u001b[33m[ WARN] [1717043545.868417290]: TF_REPEATED_DATA ignoring data with redundant timestamp for frame odom at time 2566.561000 according to authority /pose_integrator\u001b[0m\n",
      "\u001b[33m[ WARN] [1717043545.868451513]: TF_REPEATED_DATA ignoring data with redundant timestamp for frame odom at time 2566.561000 according to authority /pose_integrator\u001b[0m\n",
      "\u001b[33m[ WARN] [1717043620.694458274]: TF_REPEATED_DATA ignoring data with redundant timestamp for frame odom at time 2585.698000 according to authority /pose_integrator\u001b[0m\n",
      "\u001b[33m[ WARN] [1717043620.694536587]: TF_REPEATED_DATA ignoring data with redundant timestamp for frame odom at time 2585.698000 according to authority /pose_integrator\u001b[0m\n",
      "\u001b[33m[ WARN] [1717043620.694577784]: TF_REPEATED_DATA ignoring data with redundant timestamp for frame odom at time 2585.698000 according to authority /pose_integrator\u001b[0m\n",
      "\u001b[33m[ WARN] [1717043620.694614003]: TF_REPEATED_DATA ignoring data with redundant timestamp for frame odom at time 2585.698000 according to authority /pose_integrator\u001b[0m\n",
      "\u001b[33m[ WARN] [1717043620.694650827]: TF_REPEATED_DATA ignoring data with redundant timestamp for frame odom at time 2585.698000 according to authority /pose_integrator\u001b[0m\n",
      "\u001b[33m[ WARN] [1717043620.694685815]: TF_REPEATED_DATA ignoring data with redundant timestamp for frame odom at time 2585.698000 according to authority /pose_integrator\u001b[0m\n",
      "\u001b[33m[ WARN] [1717043641.996288507]: TF_REPEATED_DATA ignoring data with redundant timestamp for frame odom at time 2591.341000 according to authority /pose_integrator\u001b[0m\n",
      "\u001b[33m[ WARN] [1717043641.996579571]: TF_REPEATED_DATA ignoring data with redundant timestamp for frame odom at time 2591.341000 according to authority /pose_integrator\u001b[0m\n",
      "\u001b[33m[ WARN] [1717043641.996635663]: TF_REPEATED_DATA ignoring data with redundant timestamp for frame odom at time 2591.341000 according to authority /pose_integrator\u001b[0m\n",
      "\u001b[33m[ WARN] [1717043641.996680492]: TF_REPEATED_DATA ignoring data with redundant timestamp for frame odom at time 2591.341000 according to authority /pose_integrator\u001b[0m\n",
      "\u001b[33m[ WARN] [1717043641.996710413]: TF_REPEATED_DATA ignoring data with redundant timestamp for frame odom at time 2591.341000 according to authority /pose_integrator\u001b[0m\n",
      "\u001b[33m[ WARN] [1717043641.996740225]: TF_REPEATED_DATA ignoring data with redundant timestamp for frame odom at time 2591.341000 according to authority /pose_integrator\u001b[0m\n",
      "\u001b[33m[ WARN] [1717043654.447473876]: TF_REPEATED_DATA ignoring data with redundant timestamp for frame odom at time 2594.729000 according to authority /pose_integrator\u001b[0m\n",
      "\u001b[33m[ WARN] [1717043654.447528644]: TF_REPEATED_DATA ignoring data with redundant timestamp for frame odom at time 2594.729000 according to authority /pose_integrator\u001b[0m\n",
      "\u001b[33m[ WARN] [1717043654.447566725]: TF_REPEATED_DATA ignoring data with redundant timestamp for frame odom at time 2594.729000 according to authority /pose_integrator\u001b[0m\n",
      "\u001b[33m[ WARN] [1717043654.447595908]: TF_REPEATED_DATA ignoring data with redundant timestamp for frame odom at time 2594.729000 according to authority /pose_integrator\u001b[0m\n",
      "\u001b[33m[ WARN] [1717043654.447622362]: TF_REPEATED_DATA ignoring data with redundant timestamp for frame odom at time 2594.729000 according to authority /pose_integrator\u001b[0m\n",
      "\u001b[33m[ WARN] [1717043654.447652575]: TF_REPEATED_DATA ignoring data with redundant timestamp for frame odom at time 2594.729000 according to authority /pose_integrator\u001b[0m\n"
     ]
    },
    {
     "name": "stderr",
     "output_type": "stream",
     "text": [
      "\u001b[33m[ WARN] [1717043718.654538810]: TF_REPEATED_DATA ignoring data with redundant timestamp for frame odom at time 2610.353000 according to authority /pose_integrator\u001b[0m\n",
      "\u001b[33m[ WARN] [1717043718.654583279]: TF_REPEATED_DATA ignoring data with redundant timestamp for frame odom at time 2610.353000 according to authority /pose_integrator\u001b[0m\n",
      "\u001b[33m[ WARN] [1717043718.654616194]: TF_REPEATED_DATA ignoring data with redundant timestamp for frame odom at time 2610.353000 according to authority /pose_integrator\u001b[0m\n",
      "\u001b[33m[ WARN] [1717043718.654649299]: TF_REPEATED_DATA ignoring data with redundant timestamp for frame odom at time 2610.353000 according to authority /pose_integrator\u001b[0m\n",
      "\u001b[33m[ WARN] [1717043718.654686941]: TF_REPEATED_DATA ignoring data with redundant timestamp for frame odom at time 2610.353000 according to authority /pose_integrator\u001b[0m\n",
      "\u001b[33m[ WARN] [1717043718.654719137]: TF_REPEATED_DATA ignoring data with redundant timestamp for frame odom at time 2610.353000 according to authority /pose_integrator\u001b[0m\n",
      "\u001b[33m[ WARN] [1717043746.218918389]: TF_REPEATED_DATA ignoring data with redundant timestamp for frame odom at time 2617.113000 according to authority /pose_integrator\u001b[0m\n",
      "\u001b[33m[ WARN] [1717043746.218986993]: TF_REPEATED_DATA ignoring data with redundant timestamp for frame odom at time 2617.113000 according to authority /pose_integrator\u001b[0m\n",
      "\u001b[33m[ WARN] [1717043746.219024181]: TF_REPEATED_DATA ignoring data with redundant timestamp for frame odom at time 2617.113000 according to authority /pose_integrator\u001b[0m\n",
      "\u001b[33m[ WARN] [1717043746.219067867]: TF_REPEATED_DATA ignoring data with redundant timestamp for frame odom at time 2617.113000 according to authority /pose_integrator\u001b[0m\n",
      "\u001b[33m[ WARN] [1717043746.219111121]: TF_REPEATED_DATA ignoring data with redundant timestamp for frame odom at time 2617.113000 according to authority /pose_integrator\u001b[0m\n",
      "\u001b[33m[ WARN] [1717043746.219152492]: TF_REPEATED_DATA ignoring data with redundant timestamp for frame odom at time 2617.113000 according to authority /pose_integrator\u001b[0m\n",
      "\u001b[33m[ WARN] [1717043802.654678309]: TF_REPEATED_DATA ignoring data with redundant timestamp for frame odom at time 2630.611000 according to authority /pose_integrator\u001b[0m\n",
      "\u001b[33m[ WARN] [1717043802.654722660]: TF_REPEATED_DATA ignoring data with redundant timestamp for frame odom at time 2630.611000 according to authority /pose_integrator\u001b[0m\n",
      "\u001b[33m[ WARN] [1717043802.654758311]: TF_REPEATED_DATA ignoring data with redundant timestamp for frame odom at time 2630.611000 according to authority /pose_integrator\u001b[0m\n",
      "\u001b[33m[ WARN] [1717043802.654789413]: TF_REPEATED_DATA ignoring data with redundant timestamp for frame odom at time 2630.611000 according to authority /pose_integrator\u001b[0m\n",
      "\u001b[33m[ WARN] [1717043802.654814667]: TF_REPEATED_DATA ignoring data with redundant timestamp for frame odom at time 2630.611000 according to authority /pose_integrator\u001b[0m\n",
      "\u001b[33m[ WARN] [1717043802.654838913]: TF_REPEATED_DATA ignoring data with redundant timestamp for frame odom at time 2630.611000 according to authority /pose_integrator\u001b[0m\n",
      "\u001b[33m[ WARN] [1717043807.772555455]: TF_REPEATED_DATA ignoring data with redundant timestamp for frame odom at time 2631.903000 according to authority /pose_integrator\u001b[0m\n",
      "\u001b[33m[ WARN] [1717043807.775360776]: TF_REPEATED_DATA ignoring data with redundant timestamp for frame odom at time 2631.903000 according to authority /pose_integrator\u001b[0m\n",
      "\u001b[33m[ WARN] [1717043807.775420856]: TF_REPEATED_DATA ignoring data with redundant timestamp for frame odom at time 2631.903000 according to authority /pose_integrator\u001b[0m\n",
      "\u001b[33m[ WARN] [1717043807.775459798]: TF_REPEATED_DATA ignoring data with redundant timestamp for frame odom at time 2631.903000 according to authority /pose_integrator\u001b[0m\n",
      "\u001b[33m[ WARN] [1717043807.775490911]: TF_REPEATED_DATA ignoring data with redundant timestamp for frame odom at time 2631.903000 according to authority /pose_integrator\u001b[0m\n",
      "\u001b[33m[ WARN] [1717043807.775518501]: TF_REPEATED_DATA ignoring data with redundant timestamp for frame odom at time 2631.903000 according to authority /pose_integrator\u001b[0m\n",
      "\u001b[33m[ WARN] [1717043817.613709473]: TF_REPEATED_DATA ignoring data with redundant timestamp for frame odom at time 2634.331000 according to authority /pose_integrator\u001b[0m\n",
      "\u001b[33m[ WARN] [1717043817.613758833]: TF_REPEATED_DATA ignoring data with redundant timestamp for frame odom at time 2634.331000 according to authority /pose_integrator\u001b[0m\n",
      "\u001b[33m[ WARN] [1717043817.613788078]: TF_REPEATED_DATA ignoring data with redundant timestamp for frame odom at time 2634.331000 according to authority /pose_integrator\u001b[0m\n",
      "\u001b[33m[ WARN] [1717043817.613814232]: TF_REPEATED_DATA ignoring data with redundant timestamp for frame odom at time 2634.331000 according to authority /pose_integrator\u001b[0m\n",
      "\u001b[33m[ WARN] [1717043817.613840135]: TF_REPEATED_DATA ignoring data with redundant timestamp for frame odom at time 2634.331000 according to authority /pose_integrator\u001b[0m\n",
      "\u001b[33m[ WARN] [1717043817.613865575]: TF_REPEATED_DATA ignoring data with redundant timestamp for frame odom at time 2634.331000 according to authority /pose_integrator\u001b[0m\n",
      "\u001b[33m[ WARN] [1717043821.269388977]: TF_REPEATED_DATA ignoring data with redundant timestamp for frame odom at time 2635.259000 according to authority /pose_integrator\u001b[0m\n",
      "\u001b[33m[ WARN] [1717043821.269457918]: TF_REPEATED_DATA ignoring data with redundant timestamp for frame odom at time 2635.259000 according to authority /pose_integrator\u001b[0m\n",
      "\u001b[33m[ WARN] [1717043821.269512681]: TF_REPEATED_DATA ignoring data with redundant timestamp for frame odom at time 2635.259000 according to authority /pose_integrator\u001b[0m\n",
      "\u001b[33m[ WARN] [1717043821.269570410]: TF_REPEATED_DATA ignoring data with redundant timestamp for frame odom at time 2635.259000 according to authority /pose_integrator\u001b[0m\n",
      "\u001b[33m[ WARN] [1717043821.269619078]: TF_REPEATED_DATA ignoring data with redundant timestamp for frame odom at time 2635.259000 according to authority /pose_integrator\u001b[0m\n",
      "\u001b[33m[ WARN] [1717043821.269662444]: TF_REPEATED_DATA ignoring data with redundant timestamp for frame odom at time 2635.259000 according to authority /pose_integrator\u001b[0m\n",
      "\u001b[33m[ WARN] [1717043826.045473893]: TF_REPEATED_DATA ignoring data with redundant timestamp for frame odom at time 2636.394000 according to authority /pose_integrator\u001b[0m\n",
      "\u001b[33m[ WARN] [1717043826.045526222]: TF_REPEATED_DATA ignoring data with redundant timestamp for frame odom at time 2636.394000 according to authority /pose_integrator\u001b[0m\n",
      "\u001b[33m[ WARN] [1717043826.045563764]: TF_REPEATED_DATA ignoring data with redundant timestamp for frame odom at time 2636.394000 according to authority /pose_integrator\u001b[0m\n",
      "\u001b[33m[ WARN] [1717043826.045609581]: TF_REPEATED_DATA ignoring data with redundant timestamp for frame odom at time 2636.394000 according to authority /pose_integrator\u001b[0m\n",
      "\u001b[33m[ WARN] [1717043826.045647587]: TF_REPEATED_DATA ignoring data with redundant timestamp for frame odom at time 2636.394000 according to authority /pose_integrator\u001b[0m\n",
      "\u001b[33m[ WARN] [1717043826.045685374]: TF_REPEATED_DATA ignoring data with redundant timestamp for frame odom at time 2636.394000 according to authority /pose_integrator\u001b[0m\n",
      "\u001b[33m[ WARN] [1717043891.322111868]: TF_REPEATED_DATA ignoring data with redundant timestamp for frame odom at time 2651.564000 according to authority /pose_integrator\u001b[0m\n",
      "\u001b[33m[ WARN] [1717043891.322172294]: TF_REPEATED_DATA ignoring data with redundant timestamp for frame odom at time 2651.564000 according to authority /pose_integrator\u001b[0m\n",
      "\u001b[33m[ WARN] [1717043891.322209653]: TF_REPEATED_DATA ignoring data with redundant timestamp for frame odom at time 2651.564000 according to authority /pose_integrator\u001b[0m\n",
      "\u001b[33m[ WARN] [1717043891.322250233]: TF_REPEATED_DATA ignoring data with redundant timestamp for frame odom at time 2651.564000 according to authority /pose_integrator\u001b[0m\n",
      "\u001b[33m[ WARN] [1717043891.322291278]: TF_REPEATED_DATA ignoring data with redundant timestamp for frame odom at time 2651.564000 according to authority /pose_integrator\u001b[0m\n",
      "\u001b[33m[ WARN] [1717043891.322325188]: TF_REPEATED_DATA ignoring data with redundant timestamp for frame odom at time 2651.564000 according to authority /pose_integrator\u001b[0m\n"
     ]
    },
    {
     "name": "stderr",
     "output_type": "stream",
     "text": [
      "\u001b[33m[ WARN] [1717043965.079795426]: TF_REPEATED_DATA ignoring data with redundant timestamp for frame odom at time 2668.872000 according to authority /pose_integrator\u001b[0m\n",
      "\u001b[33m[ WARN] [1717043965.079844291]: TF_REPEATED_DATA ignoring data with redundant timestamp for frame odom at time 2668.872000 according to authority /pose_integrator\u001b[0m\n",
      "\u001b[33m[ WARN] [1717043965.079875448]: TF_REPEATED_DATA ignoring data with redundant timestamp for frame odom at time 2668.872000 according to authority /pose_integrator\u001b[0m\n",
      "\u001b[33m[ WARN] [1717043965.079904420]: TF_REPEATED_DATA ignoring data with redundant timestamp for frame odom at time 2668.872000 according to authority /pose_integrator\u001b[0m\n",
      "\u001b[33m[ WARN] [1717043965.079936129]: TF_REPEATED_DATA ignoring data with redundant timestamp for frame odom at time 2668.872000 according to authority /pose_integrator\u001b[0m\n",
      "\u001b[33m[ WARN] [1717043965.079992188]: TF_REPEATED_DATA ignoring data with redundant timestamp for frame odom at time 2668.872000 according to authority /pose_integrator\u001b[0m\n"
     ]
    }
   ],
   "source": [
    "is_inside_low(1,2,3)"
   ]
  },
  {
   "cell_type": "code",
   "execution_count": 5,
   "id": "43480a98",
   "metadata": {},
   "outputs": [
    {
     "data": {
      "text/html": [
       "<div>\n",
       "<style scoped>\n",
       "    .dataframe tbody tr th:only-of-type {\n",
       "        vertical-align: middle;\n",
       "    }\n",
       "\n",
       "    .dataframe tbody tr th {\n",
       "        vertical-align: top;\n",
       "    }\n",
       "\n",
       "    .dataframe thead th {\n",
       "        text-align: right;\n",
       "    }\n",
       "</style>\n",
       "<table border=\"1\" class=\"dataframe\">\n",
       "  <thead>\n",
       "    <tr style=\"text-align: right;\">\n",
       "      <th></th>\n",
       "      <th>pickup</th>\n",
       "      <th>shelf</th>\n",
       "    </tr>\n",
       "  </thead>\n",
       "  <tbody>\n",
       "    <tr>\n",
       "      <th>x_min</th>\n",
       "      <td>-1.23</td>\n",
       "      <td>3.08</td>\n",
       "    </tr>\n",
       "    <tr>\n",
       "      <th>x_max</th>\n",
       "      <td>-0.77</td>\n",
       "      <td>4.05</td>\n",
       "    </tr>\n",
       "    <tr>\n",
       "      <th>y_min</th>\n",
       "      <td>0.41</td>\n",
       "      <td>1.3</td>\n",
       "    </tr>\n",
       "    <tr>\n",
       "      <th>y_max</th>\n",
       "      <td>0.63</td>\n",
       "      <td>2.0</td>\n",
       "    </tr>\n",
       "    <tr>\n",
       "      <th>z</th>\n",
       "      <td>0.41</td>\n",
       "      <td>0.08,0.41,0.01</td>\n",
       "    </tr>\n",
       "  </tbody>\n",
       "</table>\n",
       "</div>"
      ],
      "text/plain": [
       "       pickup           shelf\n",
       "x_min   -1.23            3.08\n",
       "x_max   -0.77            4.05\n",
       "y_min    0.41             1.3\n",
       "y_max    0.63             2.0\n",
       "z        0.41  0.08,0.41,0.01"
      ]
     },
     "execution_count": 5,
     "metadata": {},
     "output_type": "execute_result"
    }
   ],
   "source": [
    "df\n"
   ]
  },
  {
   "cell_type": "code",
   "execution_count": 6,
   "id": "6c671586",
   "metadata": {},
   "outputs": [
    {
     "ename": "NameError",
     "evalue": "name 'area_boy' is not defined",
     "output_type": "error",
     "traceback": [
      "\u001b[0;31m---------------------------------------------------------------------------\u001b[0m",
      "\u001b[0;31mNameError\u001b[0m                                 Traceback (most recent call last)",
      "Cell \u001b[0;32mIn[6], line 1\u001b[0m\n\u001b[0;32m----> 1\u001b[0m np\u001b[38;5;241m.\u001b[39mconcatenate((area_box,\u001b[43marea_boy\u001b[49m))\u001b[38;5;241m.\u001b[39mreshape((\u001b[38;5;241m2\u001b[39m,\u001b[38;5;241m2\u001b[39m))\u001b[38;5;241m.\u001b[39mT\n",
      "\u001b[0;31mNameError\u001b[0m: name 'area_boy' is not defined"
     ]
    }
   ],
   "source": [
    "np.concatenate((area_box,area_boy)).reshape((2,2)).T"
   ]
  },
  {
   "cell_type": "code",
   "execution_count": null,
   "id": "f7035913",
   "metadata": {},
   "outputs": [],
   "source": []
  }
 ],
 "metadata": {
  "kernelspec": {
   "display_name": "Python 3 (ipykernel)",
   "language": "python",
   "name": "python3"
  },
  "language_info": {
   "codemirror_mode": {
    "name": "ipython",
    "version": 3
   },
   "file_extension": ".py",
   "mimetype": "text/x-python",
   "name": "python",
   "nbconvert_exporter": "python",
   "pygments_lexer": "ipython3",
   "version": "3.8.10"
  }
 },
 "nbformat": 4,
 "nbformat_minor": 5
}

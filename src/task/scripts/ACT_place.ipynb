{
 "cells": [
  {
   "cell_type": "code",
   "execution_count": 2,
   "id": "1863753f",
   "metadata": {
    "scrolled": false
   },
   "outputs": [],
   "source": [
    "from smach_utils2 import *\n",
    "import matplotlib.pyplot as plt\n",
    "#arm = moveit_commander.MoveGroupCommander('arm')\n"
   ]
  },
  {
   "cell_type": "code",
   "execution_count": 5,
   "id": "7513f1e4",
   "metadata": {},
   "outputs": [],
   "source": [
    "omni_base.tiny_move( velX=1.0,std_time=0.2, MAX_VEL=0.3) "
   ]
  },
  {
   "cell_type": "code",
   "execution_count": 14,
   "id": "7b915fd4",
   "metadata": {},
   "outputs": [
    {
     "name": "stdout",
     "output_type": "stream",
     "text": [
      "shutdown request: [/smach] Reason: new node registered with same name\n"
     ]
    }
   ],
   "source": [
    "gripper.steady()"
   ]
  },
  {
   "cell_type": "code",
   "execution_count": 13,
   "id": "18183f43",
   "metadata": {},
   "outputs": [],
   "source": [
    "gripper.close(0.0061)"
   ]
  },
  {
   "cell_type": "code",
   "execution_count": null,
   "id": "92c47771",
   "metadata": {},
   "outputs": [],
   "source": [
    "arm=moveit_commander.MoveGroupCommander('arm')"
   ]
  },
  {
   "cell_type": "code",
   "execution_count": null,
   "id": "9fa7ecc1",
   "metadata": {},
   "outputs": [],
   "source": [
    "\n",
    "whole_body=moveit_commander.MoveGroupCommander('whole_body_weighted')"
   ]
  },
  {
   "cell_type": "code",
   "execution_count": null,
   "id": "287ca6e5",
   "metadata": {},
   "outputs": [],
   "source": [
    "pose=whole_body.get_current_pose()\n",
    "pose.pose.position.x,pose.pose.position.y, pose.pose.position.z"
   ]
  },
  {
   "cell_type": "code",
   "execution_count": null,
   "id": "67ca2fb9",
   "metadata": {},
   "outputs": [],
   "source": [
    "whole_body.set_joint_value_target"
   ]
  },
  {
   "cell_type": "code",
   "execution_count": null,
   "id": "acd0214d",
   "metadata": {},
   "outputs": [],
   "source": [
    "wb_v=whole_body.get_current_joint_values()\n",
    "wb_v[3]+=0.1\n",
    "whole_body.set_joint_value_target(wb_v)"
   ]
  },
  {
   "cell_type": "code",
   "execution_count": null,
   "id": "e98fdbd9",
   "metadata": {},
   "outputs": [],
   "source": []
  },
  {
   "cell_type": "code",
   "execution_count": null,
   "id": "1fe458d5",
   "metadata": {},
   "outputs": [],
   "source": []
  },
  {
   "cell_type": "code",
   "execution_count": null,
   "id": "6dd4be85",
   "metadata": {},
   "outputs": [],
   "source": []
  },
  {
   "cell_type": "code",
   "execution_count": null,
   "id": "d0edfc60",
   "metadata": {},
   "outputs": [],
   "source": []
  },
  {
   "cell_type": "code",
   "execution_count": null,
   "id": "4d74ad33",
   "metadata": {},
   "outputs": [],
   "source": [
    "res = omni_base.move_base(known_location='place_shelf', time_out=200)\n",
    "high_shelf_place=np.asarray([0.15050079265248406,\n",
    " -0.5861087653247212,\n",
    " 0.0850017715788356,\n",
    " -0.9342371117035135,\n",
    " 0.022035143687695324,\n",
    " 0.0])\n",
    "mid_shelf_place=np.asarray([0.2556342351169577,\n",
    " -1.6040815280188854,\n",
    " -0.008078345343693893,\n",
    " -0.05795663028496589,\n",
    " 0.0019971082238159354,\n",
    " 0.0])\n",
    "\n",
    "low_shelf_place=np.asarray([0.04577467546491997,\n",
    " -2.262541528018885,\n",
    " 0.00010865465630605087,\n",
    " 0.701618369715034,\n",
    " -0.0003068917761841483,\n",
    " 0.0]\n",
    ")"
   ]
  },
  {
   "cell_type": "code",
   "execution_count": null,
   "id": "c91dbfe8",
   "metadata": {},
   "outputs": [],
   "source": [
    "head.set_joint_values([-0.5,-0.65])\n",
    "arm.set_named_target('go')\n",
    "arm.go()"
   ]
  },
  {
   "cell_type": "code",
   "execution_count": null,
   "id": "dcf7433d",
   "metadata": {},
   "outputs": [],
   "source": [
    "\n",
    "rospy.sleep(0.6)\n",
    "rospy.sleep(0.6)\n",
    "image= cv2.cvtColor(rgbd.get_image(), cv2.COLOR_RGB2BGR)\n",
    "img_msg  = bridge.cv2_to_imgmsg(image)\n",
    "req      = classify_client.request_class()\n",
    "req.in_.image_msgs.append(img_msg)\n",
    "res      = classify_client(req)\n",
    "debug_image=   cv2.cvtColor(bridge.imgmsg_to_cv2(res.debug_image.image_msgs[0]), cv2.COLOR_RGB2BGR)"
   ]
  },
  {
   "cell_type": "code",
   "execution_count": null,
   "id": "26ef0ad1",
   "metadata": {},
   "outputs": [],
   "source": [
    "\n",
    "plt.imshow(debug_image)"
   ]
  },
  {
   "cell_type": "code",
   "execution_count": null,
   "id": "9d11c8df",
   "metadata": {},
   "outputs": [],
   "source": [
    "request= segmentation_server.request_class() \n",
    "\n",
    "\n",
    "\n",
    "request.height.data=-1  #MID SHELF FOR PLACING \n",
    "\n",
    "\n",
    "res=placing_finder_server.call(request)\n",
    "#succ=seg_res_tf(res)\n",
    "print (f'Placing Area at {res.poses.data}')\n",
    "tf_man.pub_static_tf(pos=[res.poses.data[0], res.poses.data[1],res.poses.data[2]], rot =[0,0,0,1], point_name='placing_area')\n",
    "img=bridge.imgmsg_to_cv2(res.im_out.image_msgs[0])\n",
    "#cv2.imshow('our of res'  , img)\n",
    "plt.imshow(img)"
   ]
  },
  {
   "cell_type": "code",
   "execution_count": null,
   "id": "33f348a4",
   "metadata": {},
   "outputs": [],
   "source": [
    "res = omni_base.move_base(known_location='place_shelf', time_out=12)\n"
   ]
  },
  {
   "cell_type": "code",
   "execution_count": null,
   "id": "ee358c14",
   "metadata": {},
   "outputs": [],
   "source": [
    "base_grasp_D(tf_name='placing_area',d_x=0.76, d_y=0.0,timeout=30)\n",
    "arm.go (mid_shelf_place)\n",
    "base_grasp_D(tf_name='placing_area',d_x=0.6, d_y=0.0,timeout=30)\n",
    "gripper.open()"
   ]
  },
  {
   "cell_type": "code",
   "execution_count": null,
   "id": "b3f09264",
   "metadata": {},
   "outputs": [],
   "source": [
    "arm.go (mid_shelf_place)"
   ]
  },
  {
   "cell_type": "code",
   "execution_count": null,
   "id": "3a709112",
   "metadata": {},
   "outputs": [],
   "source": [
    "base_grasp_D(tf_name='placing_area',d_x=0.6, d_y=0.0,timeout=30)\n",
    "gripper.open()"
   ]
  },
  {
   "cell_type": "code",
   "execution_count": null,
   "id": "0dd7fca6",
   "metadata": {
    "scrolled": true
   },
   "outputs": [],
   "source": [
    "\n",
    "for i in range(len(res.poses)):\n",
    "    tf_man.getTF(\"head_rgbd_sensor_rgb_frame\")\n",
    "    tf_man.pub_static_tf(pos=[res.poses[i].position.x ,res.poses[i].position.y,res.poses[i].position.z], rot=[0,0,0,1],ref=\"head_rgbd_sensor_rgb_frame\",point_name=res.names[i].data[4:] )   \n",
    "    rospy.sleep(0.3)\n",
    "    tf_man.change_ref_frame_tf(res.names[i].data[4:])\n",
    "\n"
   ]
  },
  {
   "cell_type": "code",
   "execution_count": null,
   "id": "3a229b93",
   "metadata": {},
   "outputs": [],
   "source": [
    "omni_base.move_d_to(target_distance=0.78,target_link='apple')"
   ]
  },
  {
   "cell_type": "code",
   "execution_count": null,
   "id": "1cdf8e8e",
   "metadata": {},
   "outputs": [],
   "source": [
    "target_object='apple'\n",
    "trans,_=tf_man.getTF(target_object,ref_frame=\"base_link\")\n",
    "trans\n"
   ]
  },
  {
   "cell_type": "code",
   "execution_count": 6,
   "id": "f6219c35",
   "metadata": {},
   "outputs": [],
   "source": [
    "#x,y,z= 5.8 , 1.6, 0.47   #SIM TMR\n",
    "#quat=[0.0,0.0,0.0,1.0]\n",
    "x,y,z,=-0.9,-0.7,0\n",
    "quat=[0.0,0.0,0.0,1.0]\n",
    "\n",
    "#x,y,z= -0.522 , -2.84, 0.8   #REAL LAB\n",
    "#quat=[0.0,0.0,0.707,-0.707]\n",
    "tf_man.pub_static_tf(pos=[x,y,z], rot=quat,point_name='shelf') ### Ideal  coordinates to place Bowl\n",
    "\n"
   ]
  },
  {
   "cell_type": "code",
   "execution_count": 16,
   "id": "b0e76c9e",
   "metadata": {},
   "outputs": [
    {
     "ename": "NameError",
     "evalue": "name 'move_D_to' is not defined",
     "output_type": "error",
     "traceback": [
      "\u001b[0;31m---------------------------------------------------------------------------\u001b[0m",
      "\u001b[0;31mNameError\u001b[0m                                 Traceback (most recent call last)",
      "Cell \u001b[0;32mIn[16], line 2\u001b[0m\n\u001b[1;32m      1\u001b[0m \u001b[38;5;66;03m#line_up_TF()\u001b[39;00m\n\u001b[0;32m----> 2\u001b[0m \u001b[43mmove_D_to\u001b[49m(tf_name\u001b[38;5;241m=\u001b[39m\u001b[38;5;124m'\u001b[39m\u001b[38;5;124mshelf\u001b[39m\u001b[38;5;124m'\u001b[39m)\n",
      "\u001b[0;31mNameError\u001b[0m: name 'move_D_to' is not defined"
     ]
    }
   ],
   "source": [
    "line_up_TF()\n",
    "move_D_to(tf_name='shelf')"
   ]
  },
  {
   "cell_type": "code",
   "execution_count": 30,
   "id": "658cec04",
   "metadata": {},
   "outputs": [],
   "source": [
    "\n",
    "def line_up_TF(tf_name='placing_area', timeout=30.0):\n",
    "    pose,rot= tf_man.getTF(\"base_link\",ref_frame=tf_name)\n",
    "    delta_th=tf.transformations.euler_from_quaternion(rot)[2]\n",
    "    print (pose[1], delta_th)\n",
    "    timeout = rospy.Time.now().to_sec() + timeout\n",
    "    active= True\n",
    "    while (active and timeout >= rospy.Time.now().to_sec()) and not rospy.is_shutdown():\n",
    "        \n",
    "        if (abs(pose[1])<0.01 and abs(delta_th)<0.05 ): active = False\n",
    "        pose,rot= tf_man.getTF(\"base_link\",ref_frame=tf_name)\n",
    "        delta_th=tf.transformations.euler_from_quaternion(rot)[2]\n",
    "        print (pose[1], delta_th, active)\n",
    "        \n",
    "        if (abs(delta_th)>0.1):pose[1]=0\n",
    "        \n",
    "        omni_base.tiny_move( velX=0.0,velY=-pose[1], velT=-delta_th,std_time=0.2, MAX_VEL=0.3) \n",
    "    return (abs(pose[1])<0.01 and abs(delta_th)<0.1 )\n"
   ]
  },
  {
   "cell_type": "code",
   "execution_count": null,
   "id": "bb2ec9f1",
   "metadata": {},
   "outputs": [],
   "source": []
  },
  {
   "cell_type": "code",
   "execution_count": 145,
   "id": "45bb78ce",
   "metadata": {},
   "outputs": [
    {
     "name": "stdout",
     "output_type": "stream",
     "text": [
      "0.7327668633231802\n"
     ]
    }
   ],
   "source": [
    "tf_name='placing_area'\n",
    "pose,rot= tf_man.getTF(\"base_link\",ref_frame=tf_name)\n",
    "delta_th=tf.transformations.euler_from_quaternion(rot)[2]\n",
    "print (delta_th)"
   ]
  },
  {
   "cell_type": "code",
   "execution_count": null,
   "id": "ccc802f4",
   "metadata": {},
   "outputs": [],
   "source": []
  },
  {
   "cell_type": "code",
   "execution_count": 7,
   "id": "79cf5e80",
   "metadata": {},
   "outputs": [
    {
     "ename": "SyntaxError",
     "evalue": "invalid syntax (2204595357.py, line 10)",
     "output_type": "error",
     "traceback": [
      "\u001b[0;36m  Cell \u001b[0;32mIn[7], line 10\u001b[0;36m\u001b[0m\n\u001b[0;31m    while (not succ and not rospy.is_shutdown():\u001b[0m\n\u001b[0m                                               ^\u001b[0m\n\u001b[0;31mSyntaxError\u001b[0m\u001b[0;31m:\u001b[0m invalid syntax\n"
     ]
    }
   ],
   "source": [
    "\n",
    "def new_move_D_to(tf_name='placing_area',d_x=15 , timeout=30.0):\n",
    "#def base_grasp_D(tf_name,d_x=0.66,d_y=-0.1,timeout=1.0):\n",
    "    timeout = rospy.Time.now().to_sec() + timeout\n",
    "    \n",
    "    \n",
    "   \n",
    "    \n",
    "    succ = False            \n",
    "    i=0\n",
    "    while (not succ and not rospy.is_shutdown():\n",
    "        \n",
    "        rob_pos,rot=tf_man.getTF('base_link')    \n",
    "        robot_yaw=tf.transformations.euler_from_quaternion(rot)[2]\n",
    "        pose,_= tf_man.getTF(\"base_link\",ref_frame=tf_name)\n",
    "        target_yaw = math.atan2(pose[1], pose[0])+np.pi\n",
    "        delta_th=   target_yaw-robot_yaw\n",
    "        delta_th = (delta_th + np.pi) % (2 * np.pi) - np.pi\n",
    "        \n",
    "        print(\"robotyaw {:.2f}, , target_yaw {:.2f}, deltha th {:.2f}\".format(robot_yaw, target_yaw,delta_th))\n",
    "        i+=1                \n",
    "        #trans\n",
    "        eX = np.linalg.norm((pose[0:2]))\n",
    "        eX+= -d_x  #x offest\n",
    "        velX= eX \n",
    "        rospy.loginfo(\"error_D: {:.2f}, , delta_th {:.2f}, target obj frame {}\".format(eX,  delta_th,tf_name))\n",
    "        \n",
    "        \n",
    "        print(\"error_D: {:.2f}, , delta_th {:.2f}, target obj frame {}, D to target{:.2f}\".format(eX,  delta_th,tf_name,np.linalg.norm((pose[0:2]))))  \n",
    "    \n",
    "        if abs(delta_th)>=0.1:\n",
    "            velX=0\n",
    "       \n",
    "        succ =  eX <= 0.1  and abs(delta_th)<=0.1\n",
    "        \n",
    "        corr_velX = max(min(velX, 0.051), -0.051)\n",
    "        \n",
    "        \n",
    "       \n",
    "        print(\"error_D: {:.2f}, , delta_th {:.2f}, target obj frame {}\".format(eX,  delta_th,tf_name))\n",
    "        print (corr_velX)\n",
    "       \n",
    "        omni_base.tiny_move( velX=corr_velX,velY=0, velT=delta_th,std_time=0.2, MAX_VEL=0.3) \n",
    "    return succ\n"
   ]
  },
  {
   "cell_type": "code",
   "execution_count": 15,
   "id": "3cdfbe65",
   "metadata": {},
   "outputs": [
    {
     "name": "stdout",
     "output_type": "stream",
     "text": [
      "error_D: 0.55, , delta_th 1.27, target obj frame shelf, D to target1.05\n",
      "error_D: 0.55, , delta_th 1.23, target obj frame shelf, D to target1.05\n",
      "error_D: 0.55, , delta_th 1.12, target obj frame shelf, D to target1.05\n",
      "error_D: 0.55, , delta_th 1.03, target obj frame shelf, D to target1.05\n",
      "error_D: 0.55, , delta_th 0.95, target obj frame shelf, D to target1.05\n",
      "error_D: 0.54, , delta_th 0.85, target obj frame shelf, D to target1.04\n",
      "error_D: 0.54, , delta_th 0.76, target obj frame shelf, D to target1.04\n",
      "error_D: 0.54, , delta_th 0.66, target obj frame shelf, D to target1.04\n",
      "error_D: 0.54, , delta_th 0.55, target obj frame shelf, D to target1.04\n",
      "error_D: 0.53, , delta_th 0.44, target obj frame shelf, D to target1.03\n",
      "error_D: 0.53, , delta_th 0.36, target obj frame shelf, D to target1.03\n",
      "error_D: 0.52, , delta_th 0.27, target obj frame shelf, D to target1.02\n",
      "error_D: 0.52, , delta_th 0.21, target obj frame shelf, D to target1.02\n",
      "error_D: 0.52, , delta_th 0.17, target obj frame shelf, D to target1.02\n",
      "error_D: 0.51, , delta_th 0.12, target obj frame shelf, D to target1.01\n",
      "error_D: 0.51, , delta_th 0.09, target obj frame shelf, D to target1.01\n",
      "error_D: 0.51, , delta_th 0.07, target obj frame shelf, D to target1.01\n",
      "error_D: 0.50, , delta_th 0.06, target obj frame shelf, D to target1.00\n",
      "error_D: 0.49, , delta_th 0.04, target obj frame shelf, D to target0.99\n",
      "error_D: 0.47, , delta_th 0.03, target obj frame shelf, D to target0.97\n",
      "error_D: 0.46, , delta_th 0.02, target obj frame shelf, D to target0.96\n",
      "error_D: 0.45, , delta_th 0.02, target obj frame shelf, D to target0.95\n",
      "error_D: 0.44, , delta_th 0.02, target obj frame shelf, D to target0.94\n",
      "error_D: 0.43, , delta_th 0.02, target obj frame shelf, D to target0.93\n",
      "error_D: 0.42, , delta_th 0.02, target obj frame shelf, D to target0.92\n",
      "error_D: 0.41, , delta_th 0.01, target obj frame shelf, D to target0.91\n",
      "error_D: 0.40, , delta_th 0.01, target obj frame shelf, D to target0.90\n",
      "error_D: 0.39, , delta_th 0.01, target obj frame shelf, D to target0.89\n",
      "error_D: 0.38, , delta_th 0.01, target obj frame shelf, D to target0.88\n",
      "error_D: 0.37, , delta_th 0.01, target obj frame shelf, D to target0.87\n",
      "error_D: 0.36, , delta_th 0.01, target obj frame shelf, D to target0.86\n",
      "error_D: 0.35, , delta_th 0.01, target obj frame shelf, D to target0.85\n",
      "error_D: 0.34, , delta_th 0.01, target obj frame shelf, D to target0.84\n",
      "error_D: 0.33, , delta_th 0.01, target obj frame shelf, D to target0.83\n",
      "error_D: 0.32, , delta_th 0.01, target obj frame shelf, D to target0.82\n",
      "error_D: 0.31, , delta_th 0.00, target obj frame shelf, D to target0.81\n",
      "error_D: 0.30, , delta_th 0.00, target obj frame shelf, D to target0.80\n",
      "error_D: 0.29, , delta_th 0.01, target obj frame shelf, D to target0.79\n",
      "error_D: 0.28, , delta_th 0.01, target obj frame shelf, D to target0.78\n",
      "error_D: 0.27, , delta_th 0.01, target obj frame shelf, D to target0.77\n",
      "error_D: 0.25, , delta_th 0.01, target obj frame shelf, D to target0.75\n",
      "error_D: 0.24, , delta_th 0.01, target obj frame shelf, D to target0.74\n",
      "error_D: 0.23, , delta_th 0.01, target obj frame shelf, D to target0.73\n",
      "error_D: 0.22, , delta_th 0.01, target obj frame shelf, D to target0.72\n",
      "error_D: 0.21, , delta_th 0.01, target obj frame shelf, D to target0.71\n",
      "error_D: 0.20, , delta_th 0.01, target obj frame shelf, D to target0.70\n",
      "error_D: 0.19, , delta_th 0.01, target obj frame shelf, D to target0.69\n",
      "error_D: 0.18, , delta_th 0.01, target obj frame shelf, D to target0.68\n",
      "error_D: 0.17, , delta_th 0.00, target obj frame shelf, D to target0.67\n",
      "error_D: 0.16, , delta_th 0.01, target obj frame shelf, D to target0.66\n",
      "error_D: 0.15, , delta_th 0.01, target obj frame shelf, D to target0.65\n",
      "error_D: 0.14, , delta_th 0.01, target obj frame shelf, D to target0.64\n",
      "error_D: 0.13, , delta_th 0.01, target obj frame shelf, D to target0.63\n",
      "error_D: 0.12, , delta_th 0.01, target obj frame shelf, D to target0.62\n",
      "error_D: 0.11, , delta_th 0.01, target obj frame shelf, D to target0.61\n",
      "error_D: 0.10, , delta_th 0.01, target obj frame shelf, D to target0.60\n"
     ]
    },
    {
     "data": {
      "text/plain": [
       "True"
      ]
     },
     "execution_count": 15,
     "metadata": {},
     "output_type": "execute_result"
    }
   ],
   "source": [
    "new_move_D_to(tf_name='shelf',d_x=0.5)"
   ]
  },
  {
   "cell_type": "code",
   "execution_count": 8,
   "id": "f5b708f2",
   "metadata": {},
   "outputs": [],
   "source": [
    "def new_move_D_to(tf_name='placing_area',d_x=15 , timeout=30.0):\n",
    "\n",
    "    timeout = rospy.Time.now().to_sec() + timeout\n",
    "    succ = False            \n",
    "    i=0\n",
    "    while (timeout >= rospy.Time.now().to_sec()) and not succ and not rospy.is_shutdown():\n",
    "        \n",
    "        _,rot=tf_man.getTF('base_link')    \n",
    "        robot_yaw=tf.transformations.euler_from_quaternion(rot)[2]\n",
    "        pose,_= tf_man.getTF(\"base_link\",ref_frame=tf_name)\n",
    "        target_yaw = math.atan2(pose[1], pose[0])+np.pi\n",
    "        delta_th=   target_yaw-robot_yaw\n",
    "        delta_th = (delta_th + np.pi) % (2 * np.pi) - np.pi\n",
    "        i+=1                \n",
    "        eX = np.linalg.norm((pose[0:2]))\n",
    "        eX+= -d_x  #x offest\n",
    "        velX= eX \n",
    "        if abs(delta_th)>=0.1:velX=0\n",
    "        succ =  eX <= 0.1  and abs(delta_th)<=0.1\n",
    "        corr_velX = max(min(velX, 0.051), -0.051)\n",
    "        #if i >=10:\n",
    "        print(\"error_D: {:.2f}, , delta_th {:.2f}, target obj frame {}, D to target{:.2f}\".format(eX,  delta_th,tf_name,np.linalg.norm((pose[0:2]))))  \n",
    "        #    i=0\n",
    "        omni_base.tiny_move( velX=corr_velX,velY=0, velT=delta_th,std_time=0.2, MAX_VEL=0.3) \n",
    "    return succ\n",
    "\n",
    "#------------------------------------------------------"
   ]
  },
  {
   "cell_type": "code",
   "execution_count": null,
   "id": "60b882c9",
   "metadata": {},
   "outputs": [],
   "source": []
  },
  {
   "cell_type": "code",
   "execution_count": null,
   "id": "00edce56",
   "metadata": {},
   "outputs": [],
   "source": []
  },
  {
   "cell_type": "code",
   "execution_count": null,
   "id": "9b9aa232",
   "metadata": {},
   "outputs": [],
   "source": [
    "omni_base.tiny_move( velX=0.0,velY=-pose[1], velT=-delta_th,std_time=0.2, MAX_VEL=0.3) a"
   ]
  },
  {
   "cell_type": "code",
   "execution_count": null,
   "id": "63f70f1b",
   "metadata": {},
   "outputs": [],
   "source": [
    "target_object='apple'\n",
    "_,rot= tf_man.getTF(\"base_link\",ref_frame='map')\n",
    "\n",
    "original_rot=tf.transformations.euler_from_quaternion(rot)[2]\n",
    "trans,_=tf_man.getTF(target_object,ref_frame=\"base_link\")\n",
    "\n",
    "\n",
    "trans , original_rot"
   ]
  },
  {
   "cell_type": "code",
   "execution_count": null,
   "id": "1309b0c4",
   "metadata": {},
   "outputs": [],
   "source": [
    "_,rot= tf_man.getTF(\"base_link\",ref_frame='map')\n",
    "original_rot=tf.transformations.euler_from_quaternion(rot)[2]\n",
    "target_object='apple'\n",
    "\n",
    "\n",
    "succ = False\n",
    "            \n",
    "while not succ:\n",
    "    \n",
    "    _,rot= tf_man.getTF(\"base_link\",ref_frame='map')\n",
    "    trans,_=tf_man.getTF(target_object,ref_frame=\"base_link\")\n",
    "\n",
    "    trans\n",
    "    eX, eY, eZ = trans\n",
    "    \n",
    "    eX+= -0.4\n",
    "    eY+= -.06\n",
    "    \n",
    "    eT= tf.transformations.euler_from_quaternion(rot)[2] - original_rot #Original \n",
    "    print (eT)\n",
    "    if eT > np.pi: eT=-2*np.pi+eT\n",
    "    if eT < -np.pi: eT= 2*np.pi+eT\n",
    "    rospy.loginfo(\"error: {:.2f}, {:.2f}, angle {:.2f}, target obj frame {}\".format(eX, eY , eT,target_object))\n",
    "    X, Y, Z = trans\n",
    "    rospy.loginfo(\"Pose: {:.2f}, {:.2f}, angle {:.2f}, target obj frame {}\".format(X, Y , eT,target_object))\n",
    "    \n",
    "    if abs(eX) <=0.05 :\n",
    "        print ('here')\n",
    "        eX = 0\n",
    "    if abs(eY) <=0.05  :\n",
    "        eY = 0\n",
    "    if abs(eT   ) < 0.1:\n",
    "        eT = 0\n",
    "    succ =  eX == 0 and eY == 0 and eT==0\n",
    "\n",
    "    \n",
    "    omni_base.tiny_move( velX=0.2*+eX,velY=0.3*eY, velT=-eT,std_time=0.2, MAX_VEL=0.3) \n"
   ]
  },
  {
   "cell_type": "code",
   "execution_count": null,
   "id": "17044e0b",
   "metadata": {},
   "outputs": [],
   "source": [
    "res.names"
   ]
  },
  {
   "cell_type": "code",
   "execution_count": null,
   "id": "7c118152",
   "metadata": {},
   "outputs": [],
   "source": [
    "hand_cam= HAND_RGB()\n"
   ]
  },
  {
   "cell_type": "code",
   "execution_count": null,
   "id": "fad6ec04",
   "metadata": {},
   "outputs": [],
   "source": [
    "#clear_octo_client()\n",
    "\n",
    "pickup_pose=[0.65,-1.2,0.0,-1.9, 0.0, 0.0]\n",
    "succ= arm.go(pickup_pose)\n",
    "gripper.open()\n"
   ]
  },
  {
   "cell_type": "code",
   "execution_count": null,
   "id": "ae3d33a9",
   "metadata": {
    "scrolled": true
   },
   "outputs": [],
   "source": [
    "\n",
    "image= cv2.cvtColor(hand_cam.get_image(), cv2.COLOR_RGB2BGR)\n",
    "img_msg  = bridge.cv2_to_imgmsg(image)\n",
    "req      = classify_client.request_class()\n",
    "req.in_.image_msgs.append(img_msg)\n",
    "res      = classify_client(req)\n",
    "debug_image=   cv2.cvtColor(bridge.imgmsg_to_cv2(res.debug_image.image_msgs[0]), cv2.COLOR_RGB2BGR)\n",
    "for i in range(len(res.names)):\n",
    "    if res.names[i].data== '013_apple' or res.names[i].data== '017_orange':\n",
    "        bbM=res.pt_min.data[2*i:2*i+2]\n",
    "        bbm=res.pt_max.data[2*i:2*i+2]\n",
    "        bbx=[bbM,bbm]\n",
    "print(bbx)\n",
    "plt.imshow(debug_image)"
   ]
  },
  {
   "cell_type": "markdown",
   "id": "218fa584",
   "metadata": {},
   "source": [
    "# [(297, 191), (231, 226)]  at pkcp pose #Real Tak\n",
    "### [(323, 266), (280, 215)]  at pkcp pose #Gazebo\n"
   ]
  },
  {
   "cell_type": "code",
   "execution_count": null,
   "id": "c2616e79",
   "metadata": {},
   "outputs": [],
   "source": [
    "eX,eY= 0.3,0.3 \n",
    "\n",
    "while abs(eX) > 0.05 or abs(eY) > 0.05:\n",
    "    image= cv2.cvtColor(hand_cam.get_image(), cv2.COLOR_RGB2BGR)\n",
    "    img_msg  = bridge.cv2_to_imgmsg(image)\n",
    "    req      = classify_client.request_class()\n",
    "    req.in_.image_msgs.append(img_msg)\n",
    "    res      = classify_client(req)\n",
    "\n",
    "\n",
    "    for i in range(len(res.names)):\n",
    "        if res.names[i].data== '013_apple' or res.names[i].data== '017_orange':\n",
    "            bbM=res.pt_min.data[2*i:2*i+2]\n",
    "            bbm=res.pt_max.data[2*i:2*i+2]\n",
    "            bbx=[bbM,bbm]\n",
    "    print(bbx)\n",
    "    eY=(bbx[1][1]-215)/215    #experience value\n",
    "    #print(f'error relative to gripper cam {eY}')\n",
    "\n",
    "\n",
    "    #eX=(bbx[0][0]-323)/323\n",
    "    eY=(bbx[1][1]-239)/239\n",
    "    eX=(bbx[0][0]-312)/312\n",
    "    #eY=(bbx[1][1]-215)/215    #experience value\n",
    "\n",
    "    print(f'error relative to gripper cam ex={eX} ey={eY}')\n",
    "    omni_base.tiny_move(velX=0.5*eX, velY=0.5*-eY, MAX_VEL=0.05) \n",
    "print(f'error relative to gripper cam ex={eX} ey={eY}:::::: Error within tolerance')"
   ]
  },
  {
   "cell_type": "code",
   "execution_count": null,
   "id": "4a6e7d80",
   "metadata": {},
   "outputs": [],
   "source": [
    "bbx"
   ]
  },
  {
   "cell_type": "code",
   "execution_count": null,
   "id": "2b0d6125",
   "metadata": {},
   "outputs": [],
   "source": [
    "eY=(bbx[1][1]-239)/239\n",
    "eX=(bbx[0][0]-312)/312\n",
    "print(f'error relative to gripper cam ex={eX} ey={eY}')\n"
   ]
  },
  {
   "cell_type": "code",
   "execution_count": null,
   "id": "6d8b9804",
   "metadata": {},
   "outputs": [],
   "source": [
    "#omni_base.tiny_move(velX=0.5*eX, velY=0.5*-eY, MAX_VEL=0.05) \n"
   ]
  },
  {
   "cell_type": "code",
   "execution_count": null,
   "id": "91085632",
   "metadata": {
    "scrolled": true
   },
   "outputs": [],
   "source": [
    "clear_octo_client()\n",
    "\n",
    "av=arm.get_current_joint_values()\n",
    "print (av,'av')\n",
    "av[0]+= -0.17###LAB\n",
    "#av[0]+= -0.35###GAZ\n",
    "succ=arm.go(av)\n",
    "rospy.sleep(0.5)\n",
    "gripper.close(force=0.06)"
   ]
  },
  {
   "cell_type": "code",
   "execution_count": null,
   "id": "c6bd60e6",
   "metadata": {},
   "outputs": [],
   "source": [
    "av=arm.get_current_joint_values()\n",
    "print (av,'av')\n",
    "av[0]+= 0.15\n",
    "succ=arm.go(av)\n",
    "omni_base.tiny_move(velX=-0.3, std_time=4.0)\n",
    "arm.set_named_target('go')\n",
    "arm.go()\n",
    "#tf_man.pub_static_tf(point_name='apple')"
   ]
  },
  {
   "cell_type": "code",
   "execution_count": null,
   "id": "d9be2172",
   "metadata": {},
   "outputs": [],
   "source": [
    "plt.imshow(hand_cam.get_image())"
   ]
  },
  {
   "cell_type": "code",
   "execution_count": null,
   "id": "744b1ad8",
   "metadata": {},
   "outputs": [],
   "source": [
    "image= cv2.cvtColor(hand_cam.get_image(), cv2.COLOR_RGB2BGR)\n",
    "img_msg  = bridge.cv2_to_imgmsg(image)\n",
    "req      = classify_client.request_class()\n",
    "req.in_.image_msgs.append(img_msg)\n",
    "res      = classify_client(req)\n",
    "debug_image=   cv2.cvtColor(bridge.imgmsg_to_cv2(res.debug_image.image_msgs[0]), cv2.COLOR_RGB2BGR)\n",
    "plt.imshow(debug_image)"
   ]
  },
  {
   "cell_type": "code",
   "execution_count": null,
   "id": "1d45c932",
   "metadata": {},
   "outputs": [],
   "source": [
    "gripper.open()"
   ]
  },
  {
   "cell_type": "code",
   "execution_count": null,
   "id": "84088f6d",
   "metadata": {},
   "outputs": [],
   "source": [
    "gripper.close(force=0.06)"
   ]
  },
  {
   "cell_type": "code",
   "execution_count": null,
   "id": "01412038",
   "metadata": {},
   "outputs": [],
   "source": [
    "\n",
    "for i in range(len(res.poses)):\n",
    "    tf_man.getTF(\"head_rgbd_sensor_rgb_frame\")\n",
    "    position = [res.poses[i].position.x ,res.poses[i].position.y,res.poses[i].position.z]\n",
    "    tf_man.pub_static_tf(pos= position, rot=[0,0,0,1], ref=\"head_rgbd_sensor_rgb_frame\", point_name=res.names[i].data[4:] )   \n",
    "    rospy.sleep(0.3)\n",
    "    tf_man.change_ref_frame_tf(res.names[i].data[4:])\n",
    "\n",
    "\n"
   ]
  },
  {
   "cell_type": "code",
   "execution_count": null,
   "id": "afd6ec67",
   "metadata": {},
   "outputs": [],
   "source": []
  },
  {
   "cell_type": "code",
   "execution_count": null,
   "id": "e6bd5b2c",
   "metadata": {},
   "outputs": [],
   "source": [
    "def detect_object_yolo(object_name,res):\n",
    "    # find object_name in the response message from object_classification service (Yolo)\n",
    "    objs=[]\n",
    "    for i,name in enumerate(res.names):\n",
    "        objs.append(name.data[4:])\n",
    "        if name.data[4:]==object_name:return res.poses[i]\n",
    "    if object_name=='all':\n",
    "        \n",
    "        return objs\n",
    "    return []"
   ]
  },
  {
   "cell_type": "code",
   "execution_count": null,
   "id": "b620f3f2",
   "metadata": {},
   "outputs": [],
   "source": [
    "#img_msg  = bridge.cv2_to_imgmsg(rgbd.get_image())  #REAL\n",
    "img_msg  = bridge.cv2_to_imgmsg(cv2.cvtColor(rgbd.get_image(), cv2.COLOR_RGB2BGR ))#GAZEB\n",
    "req      = classify_client.request_class()\n",
    "req.in_.image_msgs.append(img_msg)\n",
    "res      = classify_client(req)\n",
    "objects=detect_object_yolo('all',res)   \n",
    "if len (objects)!=0:\n",
    "    for i in range(len(res.poses)):\n",
    "        tf_man.getTF(\"head_rgbd_sensor_rgb_frame\")\n",
    "        position = [res.poses[i].position.x ,res.poses[i].position.y,res.poses[i].position.z]\n",
    "        tf_man.pub_static_tf(pos= position, rot=[0,0,0,1], ref=\"head_rgbd_sensor_rgb_frame\", point_name=res.names[i].data[4:] )   \n",
    "        rospy.sleep(0.3)\n",
    "        tf_man.change_ref_frame_tf(res.names[i].data[4:])\n",
    "        rospy.sleep(0.3)\n",
    "        pose , _=tf_man.getTF(res.names[i].data[4:])\n",
    "        new_row = {'x': pose[0], 'y': pose[1], 'z': pose[2], 'obj_name': res.names[i].data[4:]}\n",
    "        objs.loc[len(objs)] = new_row\n",
    "objs"
   ]
  },
  {
   "cell_type": "code",
   "execution_count": null,
   "id": "784dd119",
   "metadata": {},
   "outputs": [],
   "source": [
    "objs[['x','y','z']].values"
   ]
  },
  {
   "cell_type": "code",
   "execution_count": null,
   "id": "453a1105",
   "metadata": {},
   "outputs": [],
   "source": []
  },
  {
   "cell_type": "code",
   "execution_count": null,
   "id": "832d35b1",
   "metadata": {},
   "outputs": [],
   "source": [
    "#get closest object\n",
    "rob_pos,_=tf_man.getTF('base_link')\n",
    "np.argmin(np.linalg.norm(rob_pos-objs[['x','y','z']].values  , axis=1))\n",
    "objs.iloc[np.argmin(np.linalg.norm(rob_pos-objs[['x','y','z']].values  , axis=1))]['obj_name']"
   ]
  },
  {
   "cell_type": "code",
   "execution_count": null,
   "id": "8f860374",
   "metadata": {},
   "outputs": [],
   "source": [
    "objs[objs['obj_name']==objs.obj_name.values[0]].x.values[0]"
   ]
  },
  {
   "cell_type": "markdown",
   "id": "879e3308",
   "metadata": {},
   "source": [
    "# PLANE 1\n",
    "#### 7.883384\t5.948245\t0.701945,\n",
    "#### 8.214565\t5.962619\t0.700034,\n",
    "#### 8.213697\t6.107727\t0.709487,\n",
    "####  7.893623\t6.082935\t0.693285"
   ]
  },
  {
   "cell_type": "markdown",
   "id": "42916558",
   "metadata": {},
   "source": [
    "# PLANE 2\n",
    "#### 7.88076\t6.086619\t0.416096,\n",
    "#### 8.214128\t5.9663\t0.416672"
   ]
  },
  {
   "cell_type": "markdown",
   "id": "53adeeb0",
   "metadata": {},
   "source": [
    "# Plane 3\n",
    "#### 8.20238\t5.963262\t0.117541"
   ]
  },
  {
   "cell_type": "code",
   "execution_count": null,
   "id": "c8237744",
   "metadata": {},
   "outputs": [],
   "source": [
    "head.set_named_target('neutral')\n",
    "\n",
    "av=arm.get_current_joint_values()\n",
    "av[0]=0.5\n",
    "av[1]=-0.5\n",
    "arm.go(av)\n",
    "head.set_joint_values([-np.pi/2 , -0.5])"
   ]
  },
  {
   "cell_type": "code",
   "execution_count": null,
   "id": "73b6c750",
   "metadata": {},
   "outputs": [],
   "source": [
    "head.set_joint_values([-np.pi/2 , -0.5])"
   ]
  },
  {
   "cell_type": "code",
   "execution_count": null,
   "id": "f03b288d",
   "metadata": {},
   "outputs": [],
   "source": [
    "\n",
    "\n",
    "av=arm.get_current_joint_values()\n",
    "av[0]=0.05\n",
    "\n",
    "arm.go(av)"
   ]
  },
  {
   "cell_type": "code",
   "execution_count": null,
   "id": "d994b8cf",
   "metadata": {},
   "outputs": [],
   "source": [
    "head.set_joint_values([-np.pi/2 , -0.8])\n",
    "\n",
    "av=arm.get_current_joint_values()\n",
    "av[0]=0.0\n",
    "av[1]=-0.5\n",
    "arm.go(av)"
   ]
  },
  {
   "cell_type": "code",
   "execution_count": null,
   "id": "6b1eef31",
   "metadata": {},
   "outputs": [],
   "source": [
    "import pandas as pd\n"
   ]
  },
  {
   "cell_type": "code",
   "execution_count": null,
   "id": "cfcc8d0a",
   "metadata": {},
   "outputs": [],
   "source": [
    "import pandas as pd\n",
    "objs = pd.read_csv ('/home/roboworks/Documents/objs.csv')\n",
    "objs=objs.drop(columns='Unnamed: 0')"
   ]
  },
  {
   "cell_type": "code",
   "execution_count": null,
   "id": "3e373ac0",
   "metadata": {},
   "outputs": [],
   "source": [
    "objs=objs[objs['obj_name'] != 'bowl']"
   ]
  },
  {
   "cell_type": "code",
   "execution_count": null,
   "id": "f8e00d9a",
   "metadata": {},
   "outputs": [],
   "source": [
    "objs"
   ]
  },
  {
   "cell_type": "code",
   "execution_count": null,
   "id": "b513b375",
   "metadata": {},
   "outputs": [],
   "source": [
    "objs[objs['obj_name'] != 'bowl']"
   ]
  },
  {
   "cell_type": "code",
   "execution_count": null,
   "id": "c6d8500a",
   "metadata": {},
   "outputs": [],
   "source": [
    "objs"
   ]
  },
  {
   "cell_type": "code",
   "execution_count": null,
   "id": "4ff3c163",
   "metadata": {},
   "outputs": [],
   "source": [
    "from sklearn.cluster import KMeans\n",
    "shelf_objs=objs[objs['shelves']==True ]\n",
    "sh_o_btm=shelf_objs[shelf_objs['z']<0.2]\n"
   ]
  },
  {
   "cell_type": "code",
   "execution_count": null,
   "id": "7f1e3163",
   "metadata": {},
   "outputs": [],
   "source": [
    "'other' in sh_o_top['category'].values"
   ]
  },
  {
   "cell_type": "code",
   "execution_count": null,
   "id": "ba9d3f6d",
   "metadata": {},
   "outputs": [],
   "source": [
    "shelf_objs=objs[objs['shelves']==True ]\n",
    "\n",
    "sh_o_btm=shelf_objs[shelf_objs['z']<0.2]\n",
    "sh_o_mdl=shelf_objs[(shelf_objs['z']>0.2 )& (shelf_objs['z']<0.5) ]\n",
    "sh_o_top=shelf_objs[(shelf_objs['z']>0.5 )& (shelf_objs['z']<1.5) ]\n",
    "sh_o_btm['category'].value_counts(),sh_o_mdl['category'].value_counts() \n",
    "\n",
    "a= sh_o_btm['category'].value_counts()\n",
    "if 'other' in sh_o_btm['category'].values:a.drop('other', inplace=True)\n",
    "print(f'btm shelf category {a.index[a.argmax()]}')\n",
    "\n",
    "a= sh_o_mdl['category'].value_counts()\n",
    "if 'other' in sh_o_mdl['category'].values:a.drop('other', inplace=True)\n",
    "print(f'middle shelf category {a.index[a.argmax()]}')\n",
    "\n",
    "\n",
    "a= sh_o_top['category'].value_counts()\n",
    "if 'other' in sh_o_top['category'].values:a.drop('other', inplace=True)\n",
    "print(f'top shelf category {a.index[a.argmax()]}')\n"
   ]
  },
  {
   "cell_type": "code",
   "execution_count": null,
   "id": "48b39323",
   "metadata": {},
   "outputs": [],
   "source": []
  },
  {
   "cell_type": "code",
   "execution_count": null,
   "id": "669c37d6",
   "metadata": {},
   "outputs": [],
   "source": [
    "a"
   ]
  },
  {
   "cell_type": "code",
   "execution_count": null,
   "id": "6cb127d3",
   "metadata": {},
   "outputs": [],
   "source": [
    "kitchen =['bowl','spatula','spoon', 'bowl']\n",
    "tools=['extra_large_clamp','large_clamp','small_clamp','medium_clamp','adjustable_wrench',\n",
    "'flat_screwdriver','phillips_screwdriver','wood_block']\n",
    "balls= ['softball','tennis_ball']\n",
    "fruits= ['apple','banana', 'lemon','pear']\n",
    "food =['chips_can'\n",
    ",'mustard_bottle'\n",
    ",'potted_meat_can'\n",
    ",'tomato_soup_can'\n",
    ",'tuna_fish_can']\n",
    "\n",
    "def categorize_objs(name):\n",
    "    if name in kitchen: return 'kitchen'\n",
    "    elif name in tools: return 'tools'\n",
    "    elif name in balls: return 'balls'\n",
    "    elif name in fruits: return 'fruits'\n",
    "    elif name in food: return 'food'\n",
    "    return 'other'\n",
    "cats=[]\n",
    "for name in objs['obj_name']:\n",
    "    cats.append(categorize_objs(name))\n",
    "objs['category'] = cats   \n"
   ]
  },
  {
   "cell_type": "code",
   "execution_count": null,
   "id": "cf6f950f",
   "metadata": {},
   "outputs": [],
   "source": [
    "def categorize_objs(name):\n",
    "    if name in kitchen: return 'kitchen'\n",
    "    elif name in tools: return 'tools'\n",
    "    elif name in balls: return 'balls'\n",
    "    elif name in fruits: return 'fruits'\n",
    "    elif name in food: return 'food'\n",
    "    return 'other'\n",
    "    \n",
    "    "
   ]
  },
  {
   "cell_type": "code",
   "execution_count": null,
   "id": "ff936c6f",
   "metadata": {},
   "outputs": [],
   "source": [
    "cats=[]\n",
    "for name in objs['obj_name']:\n",
    "    cats.append(categorize_objs(name))\n",
    "objs['category'] = cats"
   ]
  },
  {
   "cell_type": "code",
   "execution_count": null,
   "id": "83b2769a",
   "metadata": {},
   "outputs": [],
   "source": []
  },
  {
   "cell_type": "code",
   "execution_count": null,
   "id": "14d9174b",
   "metadata": {},
   "outputs": [],
   "source": [
    "objs"
   ]
  },
  {
   "cell_type": "code",
   "execution_count": null,
   "id": "ff81e9a4",
   "metadata": {},
   "outputs": [],
   "source": [
    "import numpy as np\n",
    "regions={'shelves':np.load('/home/roboworks/Documents/shelf_sim.npy'),'pickup':np.load('/home/roboworks/Documents/pickup_sim.npy')}\n",
    "def is_inside(x,y):return ((area_box[:,1].max() > y) and (area_box[:,1].min() < y)) and ((area_box[:,0].max() > x) and (area_box[0,0].min() < x)) \n",
    "for name in regions:\n",
    "    in_region=[]\n",
    "    area_box=regions[name]\n",
    "    print (area_box,name)\n",
    "    for index, row in objs[['x','y','z']].iterrows():\n",
    "        in_region.append(is_inside(row.x, row.y))\n",
    "        print (row.x, row.y,is_inside(row.x, row.y))\n",
    "    objs[name]=pd.Series(in_region)\n",
    "objs"
   ]
  },
  {
   "cell_type": "code",
   "execution_count": null,
   "id": "398de064",
   "metadata": {},
   "outputs": [],
   "source": []
  },
  {
   "cell_type": "code",
   "execution_count": null,
   "id": "3252ab10",
   "metadata": {},
   "outputs": [],
   "source": [
    "(area_box[:,1].max() > row.y),(area_box[:,1].min() < row.y),((area_box[:,0].max() > row.x) , (area_box[0,0].min() < row.x)) "
   ]
  },
  {
   "cell_type": "code",
   "execution_count": null,
   "id": "638fba63",
   "metadata": {},
   "outputs": [],
   "source": [
    "def is_inside(x,y):return ((area_box[:,1].max() > y) and (area_box[:,1].min() < y)) and ((area_box[:,0].max() > x) and (area_box[0,0].min() < x)) "
   ]
  },
  {
   "cell_type": "code",
   "execution_count": null,
   "id": "478d9dfa",
   "metadata": {},
   "outputs": [],
   "source": [
    "pickup_region=np.zeros((2,2))\n",
    "#np.save('/home/roboworks/Documents/pickup_region.npy', pickup_region)"
   ]
  },
  {
   "cell_type": "code",
   "execution_count": null,
   "id": "5c6be4ff",
   "metadata": {},
   "outputs": [],
   "source": [
    "ab[0,0],ab[0,1]=6,6\n",
    "ab[1,0],ab[1,1]=7,4.0"
   ]
  },
  {
   "cell_type": "code",
   "execution_count": null,
   "id": "f51131d7",
   "metadata": {},
   "outputs": [],
   "source": []
  },
  {
   "cell_type": "code",
   "execution_count": null,
   "id": "e3946dc7",
   "metadata": {},
   "outputs": [],
   "source": [
    "import numpy as np\n",
    "\n",
    "#ab=np.load('/home/roboworks/Documents/pickup_region.npy')\n",
    "ab= np.load('/home/roboworks/Documents/pickup_sim.npy')"
   ]
  },
  {
   "cell_type": "code",
   "execution_count": null,
   "id": "796fa552",
   "metadata": {},
   "outputs": [],
   "source": [
    "\n",
    "ab[0,0]=5.8\n",
    "ab"
   ]
  },
  {
   "cell_type": "code",
   "execution_count": null,
   "id": "48ed00f7",
   "metadata": {},
   "outputs": [],
   "source": [
    "np.save('/home/roboworks/Documents/pickup_region.npy',ab)\n"
   ]
  },
  {
   "cell_type": "code",
   "execution_count": null,
   "id": "35f038e8",
   "metadata": {},
   "outputs": [],
   "source": [
    "#np.save('/home/roboworks/Documents/shelf_sim.npy',ab)\n",
    "np.save('/home/roboworks/Documents/pickup_sim.npy',ab)"
   ]
  },
  {
   "cell_type": "code",
   "execution_count": null,
   "id": "1e45b347",
   "metadata": {},
   "outputs": [],
   "source": [
    "objs[objs['pickup']==True][['x','y','z']].values"
   ]
  },
  {
   "cell_type": "code",
   "execution_count": null,
   "id": "4fe32e47",
   "metadata": {},
   "outputs": [],
   "source": [
    "rob_pos,_=tf_man.getTF('base_link')\n",
    "ix=np.argmin(np.linalg.norm(rob_pos-objs[objs['pickup']==True][['x','y','z']].values  , axis=1))\n",
    "ix\n"
   ]
  },
  {
   "cell_type": "code",
   "execution_count": null,
   "id": "9b982d96",
   "metadata": {},
   "outputs": [],
   "source": []
  },
  {
   "cell_type": "code",
   "execution_count": null,
   "id": "78bbcc36",
   "metadata": {},
   "outputs": [],
   "source": [
    "rob_pos,_=tf_man.getTF('base_link')\n",
    "ix=np.argmin(np.linalg.norm(rob_pos-objs[objs['pickup']==True][['x','y','z']].values  , axis=1))\n",
    "objs[objs['pickup']==True][['obj_name','category']].iloc[ix]\n"
   ]
  },
  {
   "cell_type": "code",
   "execution_count": null,
   "id": "202d265a",
   "metadata": {},
   "outputs": [],
   "source": [
    "ix=np.argmin(np.linalg.norm(rob_pos-objs[objs['pickup']==True][['x','y','z']].values  , axis=1))"
   ]
  },
  {
   "cell_type": "code",
   "execution_count": null,
   "id": "64e2bd3a",
   "metadata": {},
   "outputs": [],
   "source": [
    "pose=np.asarray((8.212561, 6.028789, 0.12))\n",
    "pose"
   ]
  },
  {
   "cell_type": "code",
   "execution_count": null,
   "id": "7e53e11f",
   "metadata": {},
   "outputs": [],
   "source": [
    "tf_man.pub_static_tf(pos=pose,point_name='PLACING')"
   ]
  },
  {
   "cell_type": "code",
   "execution_count": null,
   "id": "7087de0b",
   "metadata": {},
   "outputs": [],
   "source": [
    "#pose=np.asarray((8.212561, 6.028789, 0.12))\n",
    "pose=np.asarray((8.062455, 6.0622816, 0.6610926))\n",
    "tf_man.pub_static_tf(pos=pose,point_name='PLACING')"
   ]
  },
  {
   "cell_type": "code",
   "execution_count": null,
   "id": "9951604d",
   "metadata": {},
   "outputs": [],
   "source": [
    "arm['arm_lift_joint']=0.0"
   ]
  },
  {
   "cell_type": "code",
   "execution_count": null,
   "id": "003aea93",
   "metadata": {},
   "outputs": [],
   "source": [
    "omni_base.move_base(known_location='shelf')"
   ]
  },
  {
   "cell_type": "code",
   "execution_count": null,
   "id": "3af5afc7",
   "metadata": {},
   "outputs": [],
   "source": [
    "omni_base.tiny_move(velT=-0.7,std_time=1)"
   ]
  },
  {
   "cell_type": "code",
   "execution_count": null,
   "id": "08cd0f26",
   "metadata": {},
   "outputs": [],
   "source": [
    "av=arm.get_current_joint_values()\n",
    "high_shelf_place=av\n",
    "high_shelf_place\n"
   ]
  },
  {
   "cell_type": "code",
   "execution_count": null,
   "id": "d87289cb",
   "metadata": {},
   "outputs": [],
   "source": [
    "place_high_shelf=np.asarray([0.15050079265248406,\n",
    " -0.5861087653247212,\n",
    " 0.0850017715788356,\n",
    " -0.9342371117035135,\n",
    " 0.022035143687695324,\n",
    " 0.0])"
   ]
  },
  {
   "cell_type": "code",
   "execution_count": null,
   "id": "c1c7c139",
   "metadata": {},
   "outputs": [],
   "source": [
    "arm.go(place_high_shelf)"
   ]
  },
  {
   "cell_type": "markdown",
   "id": "ce5c7340",
   "metadata": {},
   "source": [
    "av=arm.get_current_joint_values()\n"
   ]
  },
  {
   "cell_type": "code",
   "execution_count": null,
   "id": "637185a4",
   "metadata": {},
   "outputs": [],
   "source": [
    "av=arm.get_current_joint_values()\n",
    "high_shelf_place=av"
   ]
  },
  {
   "cell_type": "code",
   "execution_count": null,
   "id": "f0dd580e",
   "metadata": {},
   "outputs": [],
   "source": [
    "arm.go(high_shelf_place)"
   ]
  },
  {
   "cell_type": "code",
   "execution_count": null,
   "id": "3779c738",
   "metadata": {},
   "outputs": [],
   "source": [
    "av=arm.get_current_joint_values()\n",
    "mid_shelf_place=av\n",
    "mid_shelf_place"
   ]
  },
  {
   "cell_type": "code",
   "execution_count": null,
   "id": "ed9ed98a",
   "metadata": {},
   "outputs": [],
   "source": [
    "av=arm.get_current_joint_values()\n",
    "low_shelf_place=av\n",
    "low_shelf_place"
   ]
  },
  {
   "cell_type": "code",
   "execution_count": null,
   "id": "0731ce32",
   "metadata": {},
   "outputs": [],
   "source": [
    "high_shelf_place,low_shelf_place,mid_shelf_place"
   ]
  },
  {
   "cell_type": "code",
   "execution_count": null,
   "id": "bb2b4422",
   "metadata": {},
   "outputs": [],
   "source": [
    "high_shelf_place=np.asarray([0.4337121304669095,\n",
    " -1.3139266720690426,\n",
    " 0.08621383272112926,\n",
    " -0.4260850221072081,\n",
    " 0.02285051353933021,\n",
    " 0.0])"
   ]
  },
  {
   "cell_type": "code",
   "execution_count": null,
   "id": "f33c79a5",
   "metadata": {},
   "outputs": [],
   "source": [
    "low_shelf_place=np.asarray([-5.465250513158978e-07,\n",
    " -1.8875162206087301,\n",
    " 0.08646571240675005,\n",
    " 0.3040738848075222,\n",
    " 0.022992974203400962,\n",
    " 0.0]\n",
    ")"
   ]
  },
  {
   "cell_type": "code",
   "execution_count": null,
   "id": "05a217f5",
   "metadata": {},
   "outputs": [],
   "source": [
    "high_shelf_place=np.asarray([0.15050079265248406,\n",
    " -0.5861087653247212,\n",
    " 0.0850017715788356,\n",
    " -0.9342371117035135,\n",
    " 0.022035143687695324,\n",
    " 0.0])\n",
    "mid_shelf_place=np.asarray([0.2556342351169577,\n",
    " -1.6040815280188854,\n",
    " -0.008078345343693893,\n",
    " -0.05795663028496589,\n",
    " 0.0019971082238159354,\n",
    " 0.0])\n",
    "\n",
    "low_shelf_place=np.asarray([0.04577467546491997,\n",
    " -2.262541528018885,\n",
    " 0.00010865465630605087,\n",
    " 0.701618369715034,\n",
    " -0.0003068917761841483,\n",
    " 0.0]\n",
    ")"
   ]
  },
  {
   "cell_type": "code",
   "execution_count": null,
   "id": "9df65843",
   "metadata": {},
   "outputs": [],
   "source": [
    "tf_man.getTF('placing_area_top_shelf1')"
   ]
  },
  {
   "cell_type": "code",
   "execution_count": null,
   "id": "612f6650",
   "metadata": {},
   "outputs": [],
   "source": [
    "request= segmentation_server.request_class() \n",
    "#r = cv2.getTrackbarPos('Plane height (cms)', 'class rgbd')\n",
    "#request.height.data=0.9\n",
    "print ('#############Finding placing in plane####################',request.height.data)\n",
    "request.height.data=-1\n",
    "#head.set_joint_values([ 0.1, -0.5])\n",
    "res=placing_finder_server.call(request)\n",
    "#succ=seg_res_tf(res)\n",
    "print (f'Placing Area at {res.poses.data}')\n",
    "tf_man.pub_static_tf(pos=[res.poses.data[0], res.poses.data[1],res.poses.data[2]], rot =[0,0,0,1], point_name='placing_area')\n",
    "img=bridge.imgmsg_to_cv2(res.im_out.image_msgs[0])\n",
    "#cv2.imshow('our of res'  , img)\n",
    "plt.imshow(img)"
   ]
  },
  {
   "cell_type": "code",
   "execution_count": null,
   "id": "04e45744",
   "metadata": {},
   "outputs": [],
   "source": [
    "tf_man.getTF('placing_area')"
   ]
  },
  {
   "cell_type": "code",
   "execution_count": null,
   "id": "b5e65db0",
   "metadata": {},
   "outputs": [],
   "source": [
    "head.set_named_target('neutral')"
   ]
  },
  {
   "cell_type": "code",
   "execution_count": null,
   "id": "a6cbdd8f",
   "metadata": {},
   "outputs": [],
   "source": [
    "arm.set_named_target('go')\n",
    "arm.go()"
   ]
  },
  {
   "cell_type": "code",
   "execution_count": null,
   "id": "91c290a8",
   "metadata": {},
   "outputs": [],
   "source": [
    "res = omni_base.move_base(known_location='place_shelf', time_out=10)"
   ]
  },
  {
   "cell_type": "code",
   "execution_count": null,
   "id": "ba4e0373",
   "metadata": {},
   "outputs": [],
   "source": [
    "high_shelf_place=[0.65,         -1.139,         0.08621,        -0.4260,        0.02285,         0.0]#REAL\n",
    "high_shelf_place=[0.4337,         -1.3139,         0.08621,        -0.4260,        0.02285,         0.0] #GAZ"
   ]
  },
  {
   "cell_type": "code",
   "execution_count": null,
   "id": "bf5fac40",
   "metadata": {},
   "outputs": [],
   "source": [
    "arm.set_joint_value_target(high_shelf_place)\n",
    "arm.go()"
   ]
  },
  {
   "cell_type": "code",
   "execution_count": null,
   "id": "3f9c3f0c",
   "metadata": {},
   "outputs": [],
   "source": [
    "def base_grasp_D(tf_name,d_x=0.66,d_y=-0.1,timeout=1.0):\n",
    "    timeout = rospy.Time.now().to_sec() + timeout\n",
    "    rob_pos,rot=tf_man.getTF('base_link')    \n",
    "    original_rot=tf.transformations.euler_from_quaternion(rot)[2]\n",
    "    succ = False \n",
    "    target_object= tf_name        \n",
    "    while (timeout >= rospy.Time.now().to_sec()) and not succ:            \n",
    "        _,rot= tf_man.getTF(\"base_link\",ref_frame='map')\n",
    "        trans,_=tf_man.getTF(target_object,ref_frame=\"base_link\")\n",
    "        #trans\n",
    "        eX, eY, eZ = trans\n",
    "        eX+= -d_x  #x offest\n",
    "        eY+= -d_y #y Offset\n",
    "        eT= tf.transformations.euler_from_quaternion(rot)[2] - original_rot #Original \n",
    "        print (eT)\n",
    "        if eT > np.pi: eT=-2*np.pi+eT\n",
    "        if eT < -np.pi: eT= 2*np.pi+eT\n",
    "        rospy.loginfo(\"error: {:.2f}, {:.2f}, angle {:.2f}, target obj frame {}\".format(eX, eY , eT,target_object))\n",
    "        X, Y, Z = trans\n",
    "        rospy.loginfo(\"Pose: {:.2f}, {:.2f}, angle {:.2f}, target obj frame {}\".format(X, Y , eT,target_object))\n",
    "        if abs(eX) <=0.05 :\n",
    "            print ('here')\n",
    "            eX = 0\n",
    "        if abs(eY) <=0.05  :\n",
    "            eY = 0\n",
    "        if abs(eT   ) < 0.1:\n",
    "            eT = 0\n",
    "        succ =  eX == 0 and eY == 0 and eT==0            \n",
    "        omni_base.tiny_move( velX=0.2*+eX,velY=0.3*eY, velT=-eT,std_time=0.2, MAX_VEL=0.3) \n",
    "\n",
    "    "
   ]
  },
  {
   "cell_type": "code",
   "execution_count": null,
   "id": "fab5aa52",
   "metadata": {},
   "outputs": [],
   "source": [
    "tf_man.getTF('placing_area')"
   ]
  },
  {
   "cell_type": "code",
   "execution_count": null,
   "id": "bd9383ff",
   "metadata": {},
   "outputs": [],
   "source": [
    "base_grasp_D(tf_name='placing_area')"
   ]
  },
  {
   "cell_type": "code",
   "execution_count": null,
   "id": "f73012ad",
   "metadata": {},
   "outputs": [],
   "source": [
    "base_grasp_D(tf_name='placing_area',d_x=0.76, d_y=0.0,timeout=30)"
   ]
  },
  {
   "cell_type": "code",
   "execution_count": null,
   "id": "b641cb9b",
   "metadata": {},
   "outputs": [],
   "source": [
    "gripper.open()"
   ]
  },
  {
   "cell_type": "code",
   "execution_count": null,
   "id": "4493f052",
   "metadata": {},
   "outputs": [],
   "source": [
    "target_object='placing_area'\n",
    "_,rot= tf_man.getTF(\"base_link\",ref_frame='map')\n",
    "trans,_=tf_man.getTF(target_object,ref_frame=\"base_link\")\n",
    "\n",
    " \n",
    "eX, eY, eZ = trans\n",
    "eT= tf.transformations.euler_from_quaternion(rot)[2] - original_rot #Original \n",
    "print (eT)\n",
    "if eT > np.pi: eT=-2*np.pi+eT\n",
    "if eT < -np.pi: eT= 2*np.pi+eT\n",
    "rospy.loginfo(\"error: {:.2f}, {:.2f}, angle {:.2f}, target obj frame {}\".format(eX, eY , eT,target_object))\n",
    "X, Y, Z = trans\n",
    "rospy.loginfo(\"Pose: {:.2f}, {:.2f}, angle {:.2f}, target obj frame {}\".format(X, Y , eT,target_object))"
   ]
  },
  {
   "cell_type": "code",
   "execution_count": null,
   "id": "68af5863",
   "metadata": {},
   "outputs": [],
   "source": [
    "omni_base.tiny_move( velX=0.1*+eX,velY=0.1*eY, velT=-eT,std_time=0.2, MAX_VEL=0.3) "
   ]
  },
  {
   "cell_type": "code",
   "execution_count": null,
   "id": "e1da1af9",
   "metadata": {},
   "outputs": [],
   "source": [
    "d_x=0.58\n",
    "d_y= 0.1\n",
    "_,rot= tf_man.getTF(\"base_link\",ref_frame='map')\n",
    "trans,_=tf_man.getTF(target_object,ref_frame=\"base_link\")\n",
    "#trans\n",
    "eX, eY, eZ = trans\n",
    "eX+= -d_x  #x offest\n",
    "eY+= -d_y #y Offset\n",
    "eT= tf.transformations.euler_from_quaternion(rot)[2] - original_rot #Original \n",
    "print (eT)\n",
    "if eT > np.pi: eT=-2*np.pi+eT\n",
    "if eT < -np.pi: eT= 2*np.pi+eT\n",
    "rospy.loginfo(\"error: {:.2f}, {:.2f}, angle {:.2f}, target obj frame {}\".format(eX, eY , eT,target_object))\n",
    "X, Y, Z = trans\n",
    "rospy.loginfo(\"Pose: {:.2f}, {:.2f}, angle {:.2f}, target obj frame {}\".format(X, Y , eT,target_object))\n",
    "if abs(eX) <=0.05 :\n",
    "    print ('here')\n",
    "    eX = 0\n",
    "if abs(eY) <=0.05  :\n",
    "    eY = 0\n",
    "if abs(eT   ) < 0.1:\n",
    "    eT = 0\n",
    "succ =  eX == 0 and eY == 0 and eT==0      \n",
    "succ\n",
    "#omni_base.tiny_move( velX=0.2*+eX,velY=0.3*eY, velT=-eT,std_time=0.2, MAX_VEL=0.3) \n"
   ]
  },
  {
   "cell_type": "code",
   "execution_count": null,
   "id": "d029794a",
   "metadata": {},
   "outputs": [],
   "source": [
    "omni_base.tiny_move( velX=0.1*+eX,velY=0.1*eY, velT=-eT,std_time=0.2, MAX_VEL=0.3) "
   ]
  },
  {
   "cell_type": "code",
   "execution_count": null,
   "id": "80e2250d",
   "metadata": {},
   "outputs": [],
   "source": [
    "arm.get_current_pose()"
   ]
  },
  {
   "cell_type": "code",
   "execution_count": null,
   "id": "54b3191e",
   "metadata": {},
   "outputs": [],
   "source": [
    "av=arm.get_current_joint_values()\n",
    "av[0]+=-0.1\n",
    "arm.go(av)"
   ]
  },
  {
   "cell_type": "code",
   "execution_count": null,
   "id": "8ce824e9",
   "metadata": {},
   "outputs": [],
   "source": [
    "arm.set_named_target('go')\n",
    "arm.go()"
   ]
  },
  {
   "cell_type": "code",
   "execution_count": null,
   "id": "3b268623",
   "metadata": {},
   "outputs": [],
   "source": [
    "omni_base.move_base('place_shelf')"
   ]
  },
  {
   "cell_type": "code",
   "execution_count": null,
   "id": "db9e7cf3",
   "metadata": {},
   "outputs": [],
   "source": [
    "whole_body.allow_replanning(True)\n",
    "whole_body.set_num_planning_attempts(10)\n",
    "whole_body.set_planning_time(10.0)\n",
    "whole_body.set_workspace([-2.0, -2.0, 0.0, 2.0, 2.0, 2.0])"
   ]
  },
  {
   "cell_type": "code",
   "execution_count": null,
   "id": "a5c6c444",
   "metadata": {},
   "outputs": [],
   "source": [
    "object_point = PointStamped()\n",
    "object_point"
   ]
  },
  {
   "cell_type": "code",
   "execution_count": null,
   "id": "6dc3cf21",
   "metadata": {},
   "outputs": [],
   "source": [
    "target_position=[1.0,1.0,1.0]\n",
    "object_point = PointStamped()\n",
    "object_point.header.frame_id = \"base_link\"\n",
    "object_point.point.x = target_position[0]\n",
    "object_point.point.y = target_position[1]\n",
    "object_point.point.z = target_position[2]\n",
    "#transformar la posicion del objeto al marco de referencia de la base del robot\n",
    "\n",
    "try:\n",
    "    transformed_object_point = tfBuffer.transform(object_point, \"base_link\", timeout=rospy.Duration(1))\n",
    "    transformed_base = self.tfBuffer.lookup_transform(\"odom\", \"base_link\", rospy.Time(0), timeout=rospy.Duration(1))\n",
    "except :\n",
    "    rospy.WARN(\"Error al transformar la posicion del objeto al marco de referencia\")\n"
   ]
  },
  {
   "cell_type": "code",
   "execution_count": null,
   "id": "81ab79d6",
   "metadata": {},
   "outputs": [],
   "source": [
    "tfBuffer.transform(object_point,'base_link',timeout=rospy.Duration(3))"
   ]
  },
  {
   "cell_type": "code",
   "execution_count": null,
   "id": "314d902d",
   "metadata": {},
   "outputs": [],
   "source": [
    "whole_body.set_start_state_to_current_state()\n",
    "whole_body.set_position_target(position_goal)\n",
    "succ = whole_body.go(wait= True)\n",
    "rospy.sleep(0.5)\n",
    "whole_body.stop()"
   ]
  },
  {
   "cell_type": "code",
   "execution_count": null,
   "id": "33d84152",
   "metadata": {},
   "outputs": [],
   "source": [
    "tfBuffer = tf2_ros.Buffer()\n"
   ]
  },
  {
   "cell_type": "code",
   "execution_count": null,
   "id": "4a92e0bb",
   "metadata": {},
   "outputs": [],
   "source": [
    "omni_base.move_base(known_location='pickup', time_out=200)"
   ]
  },
  {
   "cell_type": "code",
   "execution_count": null,
   "id": "ca5197db",
   "metadata": {},
   "outputs": [],
   "source": [
    "head.set_joint_values([ 0.0, -0.5])\n"
   ]
  },
  {
   "cell_type": "code",
   "execution_count": null,
   "id": "baefc4e8",
   "metadata": {},
   "outputs": [],
   "source": [
    "img_msg  = bridge.cv2_to_imgmsg( cv2.cvtColor(rgbd.get_image(), cv2.COLOR_RGB2BGR))### GAZEBO BGR!?!??!\n",
    "req      = classify_client.request_class()\n",
    "req.in_.image_msgs.append(img_msg)\n",
    "res      = classify_client(req)\n",
    "objects=detect_object_yolo('all',res)   "
   ]
  },
  {
   "cell_type": "code",
   "execution_count": null,
   "id": "355d476a",
   "metadata": {},
   "outputs": [],
   "source": [
    "rospack = rospkg.RosPack()\n",
    "file_path = rospack.get_path('config_files') \n",
    "objs = pd.read_csv (file_path+'/objects.csv')\n",
    "objs=objs.drop(columns='Unnamed: 0')\n",
    "print (objs)"
   ]
  },
  {
   "cell_type": "code",
   "execution_count": null,
   "id": "92497000",
   "metadata": {},
   "outputs": [],
   "source": [
    "def check_if_grasped(pose_target,test_pt,tolerance=0.05):    \n",
    "    return np.linalg.norm(pose_target-obj_pt)<tolerance"
   ]
  },
  {
   "cell_type": "code",
   "execution_count": null,
   "id": "9d338e3f",
   "metadata": {},
   "outputs": [],
   "source": [
    "np.linalg.norm(pose_target-obj_pt)"
   ]
  },
  {
   "cell_type": "code",
   "execution_count": null,
   "id": "f207863e",
   "metadata": {},
   "outputs": [],
   "source": [
    "test_pt=objs[objs['obj_name']=='orange'][['x','y','z']].values\n",
    "check_if_grasped(pose_target,test_pt)"
   ]
  },
  {
   "cell_type": "code",
   "execution_count": null,
   "id": "ebcd3214",
   "metadata": {},
   "outputs": [],
   "source": [
    "def check_if_grasped(pose_target,test_pt,tolerance=0.05):return np.linalg.norm(pose_target-test_pt)<tolerance\n",
    "\n",
    "\n",
    "##############################\n",
    "pose_target,_=tf_man.getTF('plum')\n",
    "#########################\n",
    "\n",
    "if len (objects)!=0 :\n",
    "    for i in range(len(res.poses)):\n",
    "        \n",
    "        position = [res.poses[i].position.x ,res.poses[i].position.y,res.poses[i].position.z]\n",
    "        \n",
    "        object_point = PointStamped()\n",
    "        object_point.header.frame_id = \"head_rgbd_sensor_rgb_frame\"\n",
    "        object_point.point.x = position[0]\n",
    "        object_point.point.y = position[1]\n",
    "        object_point.point.z = position[2]\n",
    "        position_map = tfBuffer.transform(object_point, \"map\", timeout=rospy.Duration(1))\n",
    "        \n",
    "        tf_man.pub_static_tf(pos= [position_map.point.x,position_map.point.y,position_map.point.z], rot=[0,0,0,1], ref=\"map\", point_name=res.names[i].data[4:] )\n",
    "        test_pt=np.asarray((position_map.point.x,position_map.point.y,position_map.point.z))\n",
    "        print (np.linalg.norm(pose_target-test_pt))\n",
    "        if check_if_grasped(pose_target,test_pt):\n",
    "            print (f'Centroid found in area {test_pt}, obj_name: {res.names[i].data[4:]}')\n",
    "            print ('Grasping May have failed')\n",
    "        \n",
    "        \n",
    "        \n",
    "        \n",
    "        "
   ]
  },
  {
   "cell_type": "code",
   "execution_count": null,
   "id": "69dcd095",
   "metadata": {},
   "outputs": [],
   "source": [
    "\n",
    "if len (objects)!=0 :\n",
    "    for i in range(len(res.poses)):\n",
    "        #tf_man.getTF(\"head_rgbd_sensor_rgb_frame\")\n",
    "        position = [res.poses[i].position.x ,res.poses[i].position.y,res.poses[i].position.z]\n",
    "        print ('position,name',position,res.names[i].data[4:])\n",
    "        ##########################################################\n",
    "\n",
    "        object_point = PointStamped()\n",
    "        object_point.header.frame_id = \"head_rgbd_sensor_rgb_frame\"\n",
    "        object_point.point.x = position[0]\n",
    "        object_point.point.y = position[1]\n",
    "        object_point.point.z = position[2]\n",
    "        position_map = tfBuffer.transform(object_point, \"map\", timeout=rospy.Duration(1))\n",
    "        \n",
    "        \n",
    "        \n",
    "        print ('position_map',position_map)\n",
    "        tf_man.pub_static_tf(pos= [position_map.point.x,position_map.point.y,position_map.point.z], rot=[0,0,0,1], ref=\"map\", point_name=res.names[i].data[4:] )\n",
    "        new_row = {'x': position_map.point.x, 'y': position_map.point.y, 'z': position_map.point.z, 'obj_name': res.names[i].data[4:]}\n",
    "        objs.loc[len(objs)] = new_row\n",
    "        ###########################################################"
   ]
  },
  {
   "cell_type": "code",
   "execution_count": null,
   "id": "7213e981",
   "metadata": {},
   "outputs": [],
   "source": [
    "head.to_tf('plum')"
   ]
  },
  {
   "cell_type": "code",
   "execution_count": null,
   "id": "818163ac",
   "metadata": {},
   "outputs": [],
   "source": [
    "base_grasp_D('plum',timeout=30)"
   ]
  },
  {
   "cell_type": "code",
   "execution_count": null,
   "id": "98bd574c",
   "metadata": {},
   "outputs": [],
   "source": [
    "objs['x']"
   ]
  },
  {
   "cell_type": "code",
   "execution_count": null,
   "id": "a5f37b3c",
   "metadata": {},
   "outputs": [],
   "source": [
    "obj_pt=np.asarray((position_map.point.x,\n",
    "position_map.point.y,\n",
    "position_map.point.z))\n",
    "\n",
    "if np.linalg.norm(pose_target-obj_pt)<0.05:print ('I say chale man')"
   ]
  },
  {
   "cell_type": "code",
   "execution_count": null,
   "id": "ba3bb248",
   "metadata": {},
   "outputs": [],
   "source": [
    "pose_target,_=tf_man.getTF('plum')"
   ]
  },
  {
   "cell_type": "code",
   "execution_count": null,
   "id": "cdda717a",
   "metadata": {},
   "outputs": [],
   "source": [
    "objs['x']"
   ]
  },
  {
   "cell_type": "code",
   "execution_count": null,
   "id": "e208afff",
   "metadata": {},
   "outputs": [],
   "source": [
    "\n",
    "np.linalg.norm(pose_target-obj_pt)"
   ]
  },
  {
   "cell_type": "code",
   "execution_count": null,
   "id": "dd25f01a",
   "metadata": {},
   "outputs": [],
   "source": [
    "pose_target"
   ]
  },
  {
   "cell_type": "code",
   "execution_count": null,
   "id": "8258cc58",
   "metadata": {},
   "outputs": [],
   "source": [
    "obj_pt"
   ]
  },
  {
   "cell_type": "code",
   "execution_count": null,
   "id": "b6b6ea7a",
   "metadata": {},
   "outputs": [],
   "source": [
    "av=arm.get_current_joint_values()\n",
    "av"
   ]
  },
  {
   "cell_type": "code",
   "execution_count": null,
   "id": "af884760",
   "metadata": {},
   "outputs": [],
   "source": [
    "brazo.set_joint_values(av[:-1])"
   ]
  },
  {
   "cell_type": "code",
   "execution_count": null,
   "id": "be886615",
   "metadata": {},
   "outputs": [],
   "source": [
    "av= arm.get_current_joint_values()"
   ]
  },
  {
   "cell_type": "code",
   "execution_count": null,
   "id": "da92757d",
   "metadata": {},
   "outputs": [],
   "source": [
    "av"
   ]
  },
  {
   "cell_type": "code",
   "execution_count": null,
   "id": "b210e1f8",
   "metadata": {},
   "outputs": [],
   "source": [
    "head.set_joint_values([0.0 , 0.0])\n",
    "av=arm.get_current_joint_values()\n",
    "av[0]=0.67\n",
    "av[1]=-0.74\n",
    "arm.go(av)\n",
    "head.set_joint_values([-np.pi/2 , -0.7])     "
   ]
  },
  {
   "cell_type": "code",
   "execution_count": null,
   "id": "7cc842d6",
   "metadata": {},
   "outputs": [],
   "source": [
    "rospack = rospkg.RosPack()        \n",
    "file_path = rospack.get_path('config_files') \n",
    "objs = pd.read_csv (file_path+'/objects.csv') #EMPTY DATAFRAME\n",
    "objs=objs.drop(columns='Unnamed: 0')\n",
    "print (objs)\n",
    "file_path = rospack.get_path('config_files')+'/regions'         \n",
    "regions={'shelves':np.load(file_path+'/shelves_region.npy'),'pickup':np.load(file_path+'/pickup_region.npy')}   ## KNOWN REGIONS\n",
    "print (f'Regions for Storing Groceries(Real Robot) {regions}')\n",
    "##TO AVOID SMACH DYING IN CASE NO PLACING AREA IS FOUND, THere is a default that at least allows the test to continue\n",
    "x,y= np.mean(regions['shelves'], axis=0)\n",
    "z=0.44#self.mid_shelf_height=0.4 shelves heights must also be set on SCAN SHELF  state init section."
   ]
  },
  {
   "cell_type": "code",
   "execution_count": null,
   "id": "1118bdfc",
   "metadata": {},
   "outputs": [],
   "source": [
    "tf_man.pub_static_tf(pos=[x,y,0.89],point_name='top_shelf')\n",
    "tf_man.pub_static_tf(pos=[x,y,0.42],point_name='mid_shelf')\n",
    "tf_man.pub_static_tf(pos=[x,y,0.05],point_name='low_shelf')\n",
    "#head.to_tf()"
   ]
  },
  {
   "cell_type": "code",
   "execution_count": null,
   "id": "ee770f35",
   "metadata": {},
   "outputs": [],
   "source": [
    "head.to_tf('low_shelf')"
   ]
  },
  {
   "cell_type": "code",
   "execution_count": null,
   "id": "5f66e066",
   "metadata": {},
   "outputs": [],
   "source": [
    "head.set_joint_values([-0.3,-0.47])"
   ]
  },
  {
   "cell_type": "code",
   "execution_count": null,
   "id": "71e84aec",
   "metadata": {},
   "outputs": [],
   "source": [
    "d_x=0.66\n",
    "d_y=-0.1\n",
    "timeout=1.0\n",
    "rob_pos,rot=tf_man.getTF('base_link')    \n",
    "original_rot=tf.transformations.euler_from_quaternion(rot)[2]\n",
    "succ = False \n",
    "target_object= 'placing_area'        "
   ]
  },
  {
   "cell_type": "code",
   "execution_count": null,
   "id": "e7b88a80",
   "metadata": {},
   "outputs": [],
   "source": [
    "\n",
    "i=0\n",
    "while  not succ and not rospy.is_shutdown():\n",
    "    i+=1\n",
    "    _,rot= tf_man.getTF(\"base_link\",ref_frame='map')\n",
    "    trans,_=tf_man.getTF(target_object,ref_frame=\"base_link\")\n",
    "    #trans\n",
    "    eX, eY, eZ = trans\n",
    "    eX+= -d_x  #x offest\n",
    "    eY+= -d_y #y Offset\n",
    "    eT= tf.transformations.euler_from_quaternion(rot)[2] - original_rot #Original \n",
    "\n",
    "    rospy.loginfo(\"error: {:.2f}, {:.2f}, angle {:.2f}, target obj frame {}\".format(eX, eY , eT,target_object))\n",
    "    #if eT > np.pi: eT=-2*np.pi+eT    #  angle error constricted to values between pi and -pi  \n",
    "    #if eT < -np.pi: eT= 2*np.pi+eT   \n",
    "    eT = (eT + np.pi) % (2 * np.pi) - np.pi\n",
    "\n",
    "    X, Y, Z = trans\n",
    "    rospy.loginfo(\"Pose: {:.2f}, {:.2f}, angle {:.2f}, target obj frame {}\".format(X, Y , eT,target_object))\n",
    "    if abs(eX) <=0.05 :\n",
    "        print ('here')\n",
    "        eX = 0\n",
    "    if abs(eY) <=0.05  :\n",
    "        eY = 0\n",
    "    if abs(eT   ) < 0.03:\n",
    "        eT = 0\n",
    "    succ =  eX == 0 and eY == 0 and eT==0         \n",
    "    velX=0.2*eX\n",
    "    velY=0.3*eY\n",
    "    ############################################\n",
    "    if   velX <= 0: corr_velX= min (-0.0051,velX)\n",
    "    elif velX >  0: corr_velX= max ( 0.0051,velX)\n",
    "    if   velY <= 0: corr_velY= min (-0.0051,velY)\n",
    "    elif velY >  0: corr_velY= max ( 0.005,velY)\n",
    "    #############################################\n",
    "    if i %3 ==0 :\n",
    "        print(\"Pose: {:.2f}, {:.2f}, angle {:.2f}, target obj frame {}\".format(X, Y , eT,target_object))\n",
    "        i=0\n",
    "    omni_base.tiny_move( velX=corr_velX,velY=corr_velY, velT=-eT,std_time=0.2, MAX_VEL=0.3) \n",
    "\n",
    "    "
   ]
  },
  {
   "cell_type": "code",
   "execution_count": null,
   "id": "f06e3229",
   "metadata": {},
   "outputs": [],
   "source": [
    "omni_base.tiny_move( velX=corr_velX,velY=corr_velY, velT=-eT,std_time=0.2, MAX_VEL=0.5, MAX_VEL_THETA=0.3) "
   ]
  },
  {
   "cell_type": "code",
   "execution_count": null,
   "id": "24e187e1",
   "metadata": {},
   "outputs": [],
   "source": []
  },
  {
   "cell_type": "code",
   "execution_count": null,
   "id": "02b8af39",
   "metadata": {},
   "outputs": [],
   "source": [
    "\n",
    "succ=False\n",
    "THRESHOLD = 0.03\n",
    "_, rot  = tf_man.getTF(\"base_link\",ref_frame='map')\n",
    "original_rot=tf.transformations.euler_from_quaternion(rot)[2]\n",
    "    "
   ]
  },
  {
   "cell_type": "code",
   "execution_count": null,
   "id": "5e776cba",
   "metadata": {},
   "outputs": [],
   "source": [
    "\n",
    "while  not succ and not rospy.is_shutdown():\n",
    "    trans,_ = tf_man.getTF(target_frame='placing_area', ref_frame='hand_palm_link')\n",
    "    _, rot  = tf_man.getTF(\"base_link\",ref_frame='map')\n",
    "\n",
    "    if type(trans) is not bool:\n",
    "        _, eY, eX = trans\n",
    "\n",
    "    if abs(eY) < THRESHOLD:\n",
    "        eY = 0\n",
    "    if abs(eX) < THRESHOLD:\n",
    "        eX = 0\n",
    "    eT= tf.transformations.euler_from_quaternion(rot)[2] - original_rot #Original \n",
    "\n",
    "    eT = (eT + np.pi) % (2 * np.pi) - np.pi\n",
    "\n",
    "    print(\"error: {:.2f}, {:.2f}, angle {:.2f}, target obj frame placing area\".format(eX, eY , eT))\n",
    "    if eT > np.pi: eT=-2*np.pi+eT\n",
    "    if eT < -np.pi: eT= 2*np.pi+eT\n",
    "    if abs(eT) < 0.05:\n",
    "        eT=0\n",
    "\n",
    "    if eX >0: velX = max( 0.005,eX)\n",
    "    if eX <=0: velX = min(-0.005,eX)\n",
    "    if eY >0: velY = max( 0.005,eY)\n",
    "    if eY <=0: velY = min(-0.005,eY)\n",
    "    print(\"error: {:.2f}, {:.2f}, angle {:.2f}, target obj frame placing area\".format(eX, eY , eT))\n",
    "    succ =  eX == 0 and eY == 0 and eT==0            \n",
    "    omni_base.tiny_move( velX=0.1*velX,velY=-0.4*velY, velT=-eT,std_time=0.2, MAX_VEL=0.1, MAX_VEL_THETA=0.1) \n"
   ]
  },
  {
   "cell_type": "code",
   "execution_count": null,
   "id": "8f2969da",
   "metadata": {},
   "outputs": [],
   "source": [
    "omni_base.tiny_move( velX=0.1*velX,velY=-0.4*velY, velT=-eT,std_time=0.2, MAX_VEL=0.1, MAX_VEL_THETA=0.1) \n"
   ]
  },
  {
   "cell_type": "code",
   "execution_count": null,
   "id": "1cbf7c37",
   "metadata": {},
   "outputs": [],
   "source": [
    "#omni_base.tiny_move( velX=-1,std_time=1.5,MAX_VEL=1) "
   ]
  },
  {
   "cell_type": "code",
   "execution_count": null,
   "id": "c5029d01",
   "metadata": {},
   "outputs": [],
   "source": [
    "av=arm.get_current_joint_values()\n",
    "av"
   ]
  },
  {
   "cell_type": "code",
   "execution_count": null,
   "id": "244a93ac",
   "metadata": {},
   "outputs": [],
   "source": [
    "av=arm.get_current_joint_values()\n",
    "av"
   ]
  }
 ],
 "metadata": {
  "kernelspec": {
   "display_name": "Python 3 (ipykernel)",
   "language": "python",
   "name": "python3"
  },
  "language_info": {
   "codemirror_mode": {
    "name": "ipython",
    "version": 3
   },
   "file_extension": ".py",
   "mimetype": "text/x-python",
   "name": "python",
   "nbconvert_exporter": "python",
   "pygments_lexer": "ipython3",
   "version": "3.8.10"
  }
 },
 "nbformat": 4,
 "nbformat_minor": 5
}

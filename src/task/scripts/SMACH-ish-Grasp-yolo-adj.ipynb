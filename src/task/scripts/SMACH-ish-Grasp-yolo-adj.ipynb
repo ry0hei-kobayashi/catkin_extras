{
 "cells": [
  {
   "cell_type": "code",
   "execution_count": null,
   "id": "1863753f",
   "metadata": {
    "scrolled": true
   },
   "outputs": [],
   "source": [
    "from smach_utils2 import *\n",
    "import matplotlib.pyplot as plt\n",
    "#arm = moveit_commander.MoveGroupCommander('arm')\n"
   ]
  },
  {
   "cell_type": "code",
   "execution_count": null,
   "id": "9fa7ecc1",
   "metadata": {},
   "outputs": [],
   "source": [
    "arm = moveit_commander.MoveGroupCommander('arm')"
   ]
  },
  {
   "cell_type": "code",
   "execution_count": null,
   "id": "c91dbfe8",
   "metadata": {},
   "outputs": [],
   "source": [
    "\n",
    "arm.set_named_target('go')\n",
    "arm.go()"
   ]
  },
  {
   "cell_type": "code",
   "execution_count": null,
   "id": "dcf7433d",
   "metadata": {},
   "outputs": [],
   "source": [
    "head.set_joint_values([0.0,-0.65])\n",
    "rospy.sleep(0.6)\n",
    "rospy.sleep(0.6)\n",
    "image= cv2.cvtColor(rgbd.get_image(), cv2.COLOR_RGB2BGR)\n",
    "img_msg  = bridge.cv2_to_imgmsg(image)\n",
    "req      = classify_client.request_class()\n",
    "req.in_.image_msgs.append(img_msg)\n",
    "res      = classify_client(req)\n",
    "debug_image=   cv2.cvtColor(bridge.imgmsg_to_cv2(res.debug_image.image_msgs[0]), cv2.COLOR_RGB2BGR)"
   ]
  },
  {
   "cell_type": "code",
   "execution_count": null,
   "id": "26ef0ad1",
   "metadata": {},
   "outputs": [],
   "source": [
    "\n",
    "plt.imshow(debug_image)"
   ]
  },
  {
   "cell_type": "code",
   "execution_count": null,
   "id": "0dd7fca6",
   "metadata": {
    "scrolled": true
   },
   "outputs": [],
   "source": [
    "\n",
    "for i in range(len(res.poses)):\n",
    "    tf_man.getTF(\"head_rgbd_sensor_rgb_frame\")\n",
    "    #tf_man.pub_static_tf(pos=[res.poses[i].position.x ,res.poses[i].position.y,res.poses[i].position.z], rot=[0,0,0,1],ref=\"head_rgbd_sensor_rgb_frame\",point_name=res.names[i].data[4:] )   \n",
    "    tf_man.pub_static_tf(pos=[res.poses[i].position.x ,res.poses[i].position.y,res.poses[i].position.z], rot=[0,0,0,1],ref=\"head_rgbd_sensor_rgb_frame\",point_name='apple' )   \n",
    "    rospy.sleep(0.3)\n",
    "    tf_man.change_ref_frame_tf(res.names[i].data[4:])\n",
    "\n"
   ]
  },
  {
   "cell_type": "code",
   "execution_count": null,
   "id": "3a229b93",
   "metadata": {},
   "outputs": [],
   "source": [
    "#omni_base.move_d_to(target_distance=0.78,target_link='apple')\n",
    "pose,rot=tf_man.getTF(target_frame='hand_palm_link')\n",
    "pose"
   ]
  },
  {
   "cell_type": "code",
   "execution_count": null,
   "id": "1cdf8e8e",
   "metadata": {},
   "outputs": [],
   "source": [
    "target_object='apple'\n",
    "trans,_=tf_man.getTF(target_object,ref_frame=\"base_link\")\n",
    "trans\n"
   ]
  },
  {
   "cell_type": "code",
   "execution_count": null,
   "id": "f6219c35",
   "metadata": {},
   "outputs": [],
   "source": []
  },
  {
   "cell_type": "code",
   "execution_count": null,
   "id": "63f70f1b",
   "metadata": {},
   "outputs": [],
   "source": [
    "target_object='apple'\n",
    "_,rot= tf_man.getTF(\"base_link\",ref_frame='map')\n",
    "\n",
    "original_rot=tf.transformations.euler_from_quaternion(rot)[2]\n",
    "trans,_=tf_man.getTF(target_object,ref_frame=\"base_link\")\n",
    "\n",
    "\n",
    "trans , original_rot"
   ]
  },
  {
   "cell_type": "code",
   "execution_count": null,
   "id": "9b9aa232",
   "metadata": {},
   "outputs": [],
   "source": []
  },
  {
   "cell_type": "code",
   "execution_count": null,
   "id": "1309b0c4",
   "metadata": {},
   "outputs": [],
   "source": [
    "_,rot= tf_man.getTF(\"base_link\",ref_frame='map')\n",
    "original_rot=tf.transformations.euler_from_quaternion(rot)[2]\n",
    "target_object='apple'\n",
    "\n",
    "\n",
    "succ = False\n",
    "            \n",
    "while not succ:\n",
    "    \n",
    "    _,rot= tf_man.getTF(\"base_link\",ref_frame='map')\n",
    "    trans,_=tf_man.getTF(target_object,ref_frame=\"base_link\")\n",
    "\n",
    "    trans\n",
    "    eX, eY, eZ = trans\n",
    "    \n",
    "    eX+= -0.4\n",
    "    eY+= -.06\n",
    "    \n",
    "    eT= tf.transformations.euler_from_quaternion(rot)[2] - original_rot #Original \n",
    "    print (eT)\n",
    "    if eT > np.pi: eT=-2*np.pi+eT\n",
    "    if eT < -np.pi: eT= 2*np.pi+eT\n",
    "    rospy.loginfo(\"error: {:.2f}, {:.2f}, angle {:.2f}, target obj frame {}\".format(eX, eY , eT,target_object))\n",
    "    X, Y, Z = trans\n",
    "    rospy.loginfo(\"Pose: {:.2f}, {:.2f}, angle {:.2f}, target obj frame {}\".format(X, Y , eT,target_object))\n",
    "    \n",
    "    if abs(eX) <=0.05 :\n",
    "        print ('here')\n",
    "        eX = 0\n",
    "    if abs(eY) <=0.05  :\n",
    "        eY = 0\n",
    "    if abs(eT   ) < 0.1:\n",
    "        eT = 0\n",
    "    succ =  eX == 0 and eY == 0 and eT==0\n",
    "\n",
    "    \n",
    "    omni_base.tiny_move( velX=0.2*+eX,velY=0.3*eY, velT=-eT,std_time=0.2, MAX_VEL=0.3) \n"
   ]
  },
  {
   "cell_type": "code",
   "execution_count": null,
   "id": "17044e0b",
   "metadata": {},
   "outputs": [],
   "source": [
    "res.names"
   ]
  },
  {
   "cell_type": "code",
   "execution_count": null,
   "id": "7c118152",
   "metadata": {},
   "outputs": [],
   "source": [
    "head.set_joint_values([0.0,0.0])\n",
    "clear_octo_client()\n",
    "\n",
    "hand_cam= HAND_RGB()\n"
   ]
  },
  {
   "cell_type": "code",
   "execution_count": null,
   "id": "f7dc6855",
   "metadata": {},
   "outputs": [],
   "source": []
  },
  {
   "cell_type": "code",
   "execution_count": null,
   "id": "fad6ec04",
   "metadata": {},
   "outputs": [],
   "source": [
    "#clear_octo_client()\n",
    "\n",
    "pickup_pose=[min(trans[2],0.66),-1.2,0.0,-1.9, 0.0, 0.0]\n",
    "#pickup_pose=[0.65,-1.2,0.0,-1.9, 0.0, 0.0]\n",
    "succ= arm.go(pickup_pose)\n",
    "gripper.open()\n"
   ]
  },
  {
   "cell_type": "code",
   "execution_count": null,
   "id": "ae3d33a9",
   "metadata": {
    "scrolled": true
   },
   "outputs": [],
   "source": [
    "\n",
    "image= cv2.cvtColor(hand_cam.get_image(), cv2.COLOR_RGB2BGR)\n",
    "img_msg  = bridge.cv2_to_imgmsg(image)\n",
    "req      = classify_client.request_class()\n",
    "req.in_.image_msgs.append(img_msg)\n",
    "res      = classify_client(req)\n",
    "debug_image=   cv2.cvtColor(bridge.imgmsg_to_cv2(res.debug_image.image_msgs[0]), cv2.COLOR_RGB2BGR)\n",
    "\n",
    "plt.imshow(debug_image)"
   ]
  },
  {
   "cell_type": "markdown",
   "id": "218fa584",
   "metadata": {},
   "source": [
    "## [(323, 266), (280, 215)]  at pkcp pose\n"
   ]
  },
  {
   "cell_type": "code",
   "execution_count": null,
   "id": "2b0d6125",
   "metadata": {},
   "outputs": [],
   "source": [
    "abs(eX) > 0.05 or abs(eY) > 0.05"
   ]
  },
  {
   "cell_type": "code",
   "execution_count": null,
   "id": "c2616e79",
   "metadata": {},
   "outputs": [],
   "source": [
    "eX,eY= 0.3,0.3 \n",
    "\n",
    "while abs(eX) > 0.05 or abs(eY) > 0.05:\n",
    "    image= cv2.cvtColor(hand_cam.get_image(), cv2.COLOR_RGB2BGR)\n",
    "    img_msg  = bridge.cv2_to_imgmsg(image)\n",
    "    req      = classify_client.request_class()\n",
    "    req.in_.image_msgs.append(img_msg)\n",
    "    res      = classify_client(req)\n",
    "\n",
    "\n",
    "    for i in range(len(res.names)):\n",
    "        if res.names[i].data== '013_apple' or res.names[i].data== '017_orange':\n",
    "            bbM=res.pt_min.data[2*i:2*i+2]\n",
    "            bbm=res.pt_max.data[2*i:2*i+2]\n",
    "            bbx=[bbM,bbm]\n",
    "    print(bbx)\n",
    "    eY=(bbx[1][1]-215)/215    #experience value\n",
    "    #print(f'error relative to gripper cam {eY}')\n",
    "\n",
    "\n",
    "    #eX=(bbx[0][0]-323)/323\n",
    "    eX=(bbx[0][0]-291)/291\n",
    "    eY=(bbx[1][1]-226)/226\n",
    "    #eY=(bbx[1][1]-215)/215    #experience value\n",
    "\n",
    "    print(f'error relative to gripper cam ex={eX} ey={eY}')\n",
    "    omni_base.tiny_move(velX=eX, velY=-eY, MAX_VEL=0.05) \n",
    "print(f'error relative to gripper cam ex={eX} ey={eY}:::::: Error within tolerance')"
   ]
  },
  {
   "cell_type": "code",
   "execution_count": null,
   "id": "91085632",
   "metadata": {
    "scrolled": true
   },
   "outputs": [],
   "source": [
    "clear_octo_client()\n",
    "pose,_=tf_man.getTF(target_frame='hand_palm_link',ref_frame='apple')\n",
    "av=arm.get_current_joint_values()\n",
    "print (av,'av')\n",
    "av=arm.get_current_joint_values()\n",
    "av[0]+=0.07-pose[2]\n",
    "#av[0]+= -0.17###LAB\n",
    "#av[0]+= -0.35###GAZ\n",
    "succ=arm.go(av)\n",
    "rospy.sleep(0.5)\n",
    "gripper.close(force=0.06)"
   ]
  },
  {
   "cell_type": "code",
   "execution_count": null,
   "id": "c6bd60e6",
   "metadata": {},
   "outputs": [],
   "source": [
    "av=arm.get_current_joint_values()\n",
    "print (av,'av')\n",
    "av[0]+= 0.15\n",
    "succ=arm.go(av)\n",
    "omni_base.tiny_move(velX=-0.3, std_time=4.0)\n",
    "arm.set_named_target('go')\n",
    "arm.go()\n",
    "#tf_man.pub_static_tf(point_name='apple')"
   ]
  },
  {
   "cell_type": "code",
   "execution_count": null,
   "id": "c43b5f2b",
   "metadata": {},
   "outputs": [],
   "source": []
  },
  {
   "cell_type": "code",
   "execution_count": null,
   "id": "d9be2172",
   "metadata": {},
   "outputs": [],
   "source": [
    "pose,rot=tf_man.getTF(target_frame='hand_palm_link',ref_frame='apple')\n",
    "pose[2]"
   ]
  },
  {
   "cell_type": "code",
   "execution_count": null,
   "id": "744b1ad8",
   "metadata": {},
   "outputs": [],
   "source": [
    "#clear_octo_client()\n",
    "\n",
    "pickup_pose=[0.65,-1.2,0.0,-1.9, 0.0, 0.0]\n",
    "succ= arm.go(pickup_pose)\n",
    "gripper.open()\n"
   ]
  },
  {
   "cell_type": "code",
   "execution_count": null,
   "id": "1d45c932",
   "metadata": {},
   "outputs": [],
   "source": []
  }
 ],
 "metadata": {
  "kernelspec": {
   "display_name": "Python 3 (ipykernel)",
   "language": "python",
   "name": "python3"
  },
  "language_info": {
   "codemirror_mode": {
    "name": "ipython",
    "version": 3
   },
   "file_extension": ".py",
   "mimetype": "text/x-python",
   "name": "python",
   "nbconvert_exporter": "python",
   "pygments_lexer": "ipython3",
   "version": "3.8.10"
  }
 },
 "nbformat": 4,
 "nbformat_minor": 5
}

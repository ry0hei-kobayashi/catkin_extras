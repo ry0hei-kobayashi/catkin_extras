{
 "cells": [
  {
   "cell_type": "code",
   "execution_count": 1,
   "id": "1863753f",
   "metadata": {
    "scrolled": true
   },
   "outputs": [
    {
     "name": "stderr",
     "output_type": "stream",
     "text": [
      "/home/roboworks/.local/lib/python3.8/site-packages/pandas/core/computation/expressions.py:20: UserWarning: Pandas requires version '2.7.3' or newer of 'numexpr' (version '2.7.1' currently installed).\n",
      "  from pandas.core.computation.check import NUMEXPR_INSTALLED\n",
      "\u001b[33m[ WARN] [1708639694.453233700]: TF_REPEATED_DATA ignoring data with redundant timestamp for frame odom at time 642.202000 according to authority /pose_integrator\u001b[0m\n",
      "\u001b[33m[ WARN] [1708639696.165226483]: TF_REPEATED_DATA ignoring data with redundant timestamp for frame odom at time 642.859000 according to authority /pose_integrator\u001b[0m\n",
      "\u001b[33m[ WARN] [1708639696.165266314]: TF_REPEATED_DATA ignoring data with redundant timestamp for frame odom at time 642.859000 according to authority /pose_integrator\u001b[0m\n",
      "\u001b[33m[ WARN] [1708639696.165289968]: TF_REPEATED_DATA ignoring data with redundant timestamp for frame odom at time 642.859000 according to authority /pose_integrator\u001b[0m\n",
      "\u001b[33m[ WARN] [1708639696.165313395]: TF_REPEATED_DATA ignoring data with redundant timestamp for frame odom at time 642.859000 according to authority /pose_integrator\u001b[0m\n",
      "\u001b[33m[ WARN] [1708639696.165337786]: TF_REPEATED_DATA ignoring data with redundant timestamp for frame odom at time 642.859000 according to authority /pose_integrator\u001b[0m\n",
      "\u001b[33m[ WARN] [1708639696.833941300]: TF_REPEATED_DATA ignoring data with redundant timestamp for frame odom at time 643.151000 according to authority /pose_integrator\u001b[0m\n",
      "\u001b[33m[ WARN] [1708639696.833999407]: TF_REPEATED_DATA ignoring data with redundant timestamp for frame odom at time 643.151000 according to authority /pose_integrator\u001b[0m\n",
      "\u001b[33m[ WARN] [1708639696.834044291]: TF_REPEATED_DATA ignoring data with redundant timestamp for frame odom at time 643.151000 according to authority /pose_integrator\u001b[0m\n",
      "\u001b[33m[ WARN] [1708639696.834076236]: TF_REPEATED_DATA ignoring data with redundant timestamp for frame odom at time 643.151000 according to authority /pose_integrator\u001b[0m\n",
      "\u001b[33m[ WARN] [1708639696.834100375]: TF_REPEATED_DATA ignoring data with redundant timestamp for frame odom at time 643.151000 according to authority /pose_integrator\u001b[0m\n",
      "\u001b[33m[ WARN] [1708639696.834123473]: TF_REPEATED_DATA ignoring data with redundant timestamp for frame odom at time 643.151000 according to authority /pose_integrator\u001b[0m\n"
     ]
    }
   ],
   "source": [
    "from smach_utils2 import *\n",
    "import matplotlib.pyplot as plt\n",
    "#arm = moveit_commander.MoveGroupCommander('arm')\n"
   ]
  },
  {
   "cell_type": "code",
   "execution_count": null,
   "id": "9fa7ecc1",
   "metadata": {},
   "outputs": [],
   "source": [
    "arm = moveit_commander.MoveGroupCommander('arm')"
   ]
  },
  {
   "cell_type": "code",
   "execution_count": null,
   "id": "c91dbfe8",
   "metadata": {},
   "outputs": [],
   "source": [
    "\n",
    "arm.set_named_target('go')\n",
    "arm.go()"
   ]
  },
  {
   "cell_type": "code",
   "execution_count": null,
   "id": "dcf7433d",
   "metadata": {},
   "outputs": [],
   "source": [
    "head.set_joint_values([0.0,-0.65])\n",
    "rospy.sleep(0.6)\n",
    "rospy.sleep(0.6)\n",
    "image= cv2.cvtColor(rgbd.get_image(), cv2.COLOR_RGB2BGR)\n",
    "img_msg  = bridge.cv2_to_imgmsg(image)\n",
    "req      = classify_client.request_class()\n",
    "req.in_.image_msgs.append(img_msg)\n",
    "res      = classify_client(req)\n",
    "debug_image=   cv2.cvtColor(bridge.imgmsg_to_cv2(res.debug_image.image_msgs[0]), cv2.COLOR_RGB2BGR)"
   ]
  },
  {
   "cell_type": "code",
   "execution_count": null,
   "id": "26ef0ad1",
   "metadata": {},
   "outputs": [],
   "source": [
    "\n",
    "plt.imshow(debug_image)"
   ]
  },
  {
   "cell_type": "code",
   "execution_count": null,
   "id": "0dd7fca6",
   "metadata": {
    "scrolled": true
   },
   "outputs": [],
   "source": [
    "\n",
    "for i in range(len(res.poses)):\n",
    "    tf_man.getTF(\"head_rgbd_sensor_rgb_frame\")\n",
    "    #tf_man.pub_static_tf(pos=[res.poses[i].position.x ,res.poses[i].position.y,res.poses[i].position.z], rot=[0,0,0,1],ref=\"head_rgbd_sensor_rgb_frame\",point_name=res.names[i].data[4:] )   \n",
    "    tf_man.pub_static_tf(pos=[res.poses[i].position.x ,res.poses[i].position.y,res.poses[i].position.z], rot=[0,0,0,1],ref=\"head_rgbd_sensor_rgb_frame\",point_name='apple' )   \n",
    "    rospy.sleep(0.3)\n",
    "    tf_man.change_ref_frame_tf(res.names[i].data[4:])\n",
    "\n"
   ]
  },
  {
   "cell_type": "code",
   "execution_count": null,
   "id": "3a229b93",
   "metadata": {},
   "outputs": [],
   "source": [
    "#omni_base.move_d_to(target_distance=0.78,target_link='apple')\n",
    "pose,rot=tf_man.getTF(target_frame='hand_palm_link')\n",
    "pose"
   ]
  },
  {
   "cell_type": "code",
   "execution_count": null,
   "id": "1cdf8e8e",
   "metadata": {},
   "outputs": [],
   "source": [
    "target_object='apple'\n",
    "trans,_=tf_man.getTF(target_object,ref_frame=\"base_link\")\n",
    "trans\n"
   ]
  },
  {
   "cell_type": "code",
   "execution_count": null,
   "id": "f6219c35",
   "metadata": {},
   "outputs": [],
   "source": []
  },
  {
   "cell_type": "code",
   "execution_count": null,
   "id": "63f70f1b",
   "metadata": {},
   "outputs": [],
   "source": [
    "target_object='apple'\n",
    "_,rot= tf_man.getTF(\"base_link\",ref_frame='map')\n",
    "\n",
    "original_rot=tf.transformations.euler_from_quaternion(rot)[2]\n",
    "trans,_=tf_man.getTF(target_object,ref_frame=\"base_link\")\n",
    "\n",
    "\n",
    "trans , original_rot"
   ]
  },
  {
   "cell_type": "code",
   "execution_count": null,
   "id": "9b9aa232",
   "metadata": {},
   "outputs": [],
   "source": []
  },
  {
   "cell_type": "code",
   "execution_count": null,
   "id": "1309b0c4",
   "metadata": {},
   "outputs": [],
   "source": [
    "_,rot= tf_man.getTF(\"base_link\",ref_frame='map')\n",
    "original_rot=tf.transformations.euler_from_quaternion(rot)[2]\n",
    "target_object='apple'\n",
    "\n",
    "\n",
    "succ = False\n",
    "            \n",
    "while not succ:\n",
    "    \n",
    "    _,rot= tf_man.getTF(\"base_link\",ref_frame='map')\n",
    "    trans,_=tf_man.getTF(target_object,ref_frame=\"base_link\")\n",
    "\n",
    "    trans\n",
    "    eX, eY, eZ = trans\n",
    "    \n",
    "    eX+= -0.4\n",
    "    eY+= -.06\n",
    "    \n",
    "    eT= tf.transformations.euler_from_quaternion(rot)[2] - original_rot #Original \n",
    "    print (eT)\n",
    "    if eT > np.pi: eT=-2*np.pi+eT\n",
    "    if eT < -np.pi: eT= 2*np.pi+eT\n",
    "    rospy.loginfo(\"error: {:.2f}, {:.2f}, angle {:.2f}, target obj frame {}\".format(eX, eY , eT,target_object))\n",
    "    X, Y, Z = trans\n",
    "    rospy.loginfo(\"Pose: {:.2f}, {:.2f}, angle {:.2f}, target obj frame {}\".format(X, Y , eT,target_object))\n",
    "    \n",
    "    if abs(eX) <=0.05 :\n",
    "        print ('here')\n",
    "        eX = 0\n",
    "    if abs(eY) <=0.05  :\n",
    "        eY = 0\n",
    "    if abs(eT   ) < 0.1:\n",
    "        eT = 0\n",
    "    succ =  eX == 0 and eY == 0 and eT==0\n",
    "\n",
    "    \n",
    "    omni_base.tiny_move( velX=0.2*+eX,velY=0.3*eY, velT=-eT,std_time=0.2, MAX_VEL=0.3) \n"
   ]
  },
  {
   "cell_type": "code",
   "execution_count": null,
   "id": "17044e0b",
   "metadata": {},
   "outputs": [],
   "source": [
    "res.names"
   ]
  },
  {
   "cell_type": "code",
   "execution_count": null,
   "id": "7c118152",
   "metadata": {},
   "outputs": [],
   "source": [
    "head.set_joint_values([0.0,0.0])\n",
    "clear_octo_client()\n",
    "\n",
    "hand_cam= HAND_RGB()\n"
   ]
  },
  {
   "cell_type": "code",
   "execution_count": null,
   "id": "f7dc6855",
   "metadata": {},
   "outputs": [],
   "source": []
  },
  {
   "cell_type": "code",
   "execution_count": null,
   "id": "fad6ec04",
   "metadata": {},
   "outputs": [],
   "source": [
    "#clear_octo_client()\n",
    "\n",
    "pickup_pose=[min(trans[2],0.66),-1.2,0.0,-1.9, 0.0, 0.0]\n",
    "#pickup_pose=[0.65,-1.2,0.0,-1.9, 0.0, 0.0]\n",
    "succ= arm.go(pickup_pose)\n",
    "gripper.open()\n"
   ]
  },
  {
   "cell_type": "code",
   "execution_count": null,
   "id": "ae3d33a9",
   "metadata": {
    "scrolled": true
   },
   "outputs": [],
   "source": [
    "\n",
    "image= cv2.cvtColor(hand_cam.get_image(), cv2.COLOR_RGB2BGR)\n",
    "img_msg  = bridge.cv2_to_imgmsg(image)\n",
    "req      = classify_client.request_class()\n",
    "req.in_.image_msgs.append(img_msg)\n",
    "res      = classify_client(req)\n",
    "debug_image=   cv2.cvtColor(bridge.imgmsg_to_cv2(res.debug_image.image_msgs[0]), cv2.COLOR_RGB2BGR)\n",
    "\n",
    "plt.imshow(debug_image)"
   ]
  },
  {
   "cell_type": "markdown",
   "id": "218fa584",
   "metadata": {},
   "source": [
    "## [(323, 266), (280, 215)]  at pkcp pose\n"
   ]
  },
  {
   "cell_type": "code",
   "execution_count": null,
   "id": "2b0d6125",
   "metadata": {},
   "outputs": [],
   "source": [
    "abs(eX) > 0.05 or abs(eY) > 0.05"
   ]
  },
  {
   "cell_type": "code",
   "execution_count": null,
   "id": "c2616e79",
   "metadata": {},
   "outputs": [],
   "source": [
    "eX,eY= 0.3,0.3 \n",
    "\n",
    "while abs(eX) > 0.05 or abs(eY) > 0.05:\n",
    "    image= cv2.cvtColor(hand_cam.get_image(), cv2.COLOR_RGB2BGR)\n",
    "    img_msg  = bridge.cv2_to_imgmsg(image)\n",
    "    req      = classify_client.request_class()\n",
    "    req.in_.image_msgs.append(img_msg)\n",
    "    res      = classify_client(req)\n",
    "\n",
    "\n",
    "    for i in range(len(res.names)):\n",
    "        if res.names[i].data== '013_apple' or res.names[i].data== '017_orange':\n",
    "            bbM=res.pt_min.data[2*i:2*i+2]\n",
    "            bbm=res.pt_max.data[2*i:2*i+2]\n",
    "            bbx=[bbM,bbm]\n",
    "    print(bbx)\n",
    "    eY=(bbx[1][1]-215)/215    #experience value\n",
    "    #print(f'error relative to gripper cam {eY}')\n",
    "\n",
    "\n",
    "    #eX=(bbx[0][0]-323)/323\n",
    "    eX=(bbx[0][0]-291)/291\n",
    "    eY=(bbx[1][1]-226)/226\n",
    "    #eY=(bbx[1][1]-215)/215    #experience value\n",
    "\n",
    "    print(f'error relative to gripper cam ex={eX} ey={eY}')\n",
    "    omni_base.tiny_move(velX=eX, velY=-eY, MAX_VEL=0.05) \n",
    "print(f'error relative to gripper cam ex={eX} ey={eY}:::::: Error within tolerance')"
   ]
  },
  {
   "cell_type": "code",
   "execution_count": null,
   "id": "91085632",
   "metadata": {
    "scrolled": true
   },
   "outputs": [],
   "source": [
    "clear_octo_client()\n",
    "pose,_=tf_man.getTF(target_frame='hand_palm_link',ref_frame='apple')\n",
    "av=arm.get_current_joint_values()\n",
    "print (av,'av')\n",
    "av=arm.get_current_joint_values()\n",
    "av[0]+=0.07-pose[2]\n",
    "#av[0]+= -0.17###LAB\n",
    "#av[0]+= -0.35###GAZ\n",
    "succ=arm.go(av)\n",
    "rospy.sleep(0.5)\n",
    "gripper.close(force=0.06)"
   ]
  },
  {
   "cell_type": "code",
   "execution_count": null,
   "id": "c6bd60e6",
   "metadata": {},
   "outputs": [],
   "source": [
    "av=arm.get_current_joint_values()\n",
    "print (av,'av')\n",
    "av[0]+= 0.15\n",
    "succ=arm.go(av)\n",
    "omni_base.tiny_move(velX=-0.3, std_time=4.0)\n",
    "arm.set_named_target('go')\n",
    "arm.go()\n",
    "#tf_man.pub_static_tf(point_name='apple')"
   ]
  },
  {
   "cell_type": "code",
   "execution_count": null,
   "id": "c43b5f2b",
   "metadata": {},
   "outputs": [],
   "source": []
  },
  {
   "cell_type": "code",
   "execution_count": null,
   "id": "d9be2172",
   "metadata": {},
   "outputs": [],
   "source": [
    "pose,rot=tf_man.getTF(target_frame='hand_palm_link',ref_frame='apple')\n",
    "pose[2]"
   ]
  },
  {
   "cell_type": "code",
   "execution_count": null,
   "id": "744b1ad8",
   "metadata": {},
   "outputs": [],
   "source": [
    "#clear_octo_client()\n",
    "\n",
    "pickup_pose=[0.65,-1.2,0.0,-1.9, 0.0, 0.0]\n",
    "succ= arm.go(pickup_pose)\n",
    "gripper.open()\n"
   ]
  },
  {
   "cell_type": "code",
   "execution_count": 2,
   "id": "1d45c932",
   "metadata": {},
   "outputs": [],
   "source": []
  },
  {
   "cell_type": "code",
   "execution_count": 3,
   "id": "d729b95c",
   "metadata": {},
   "outputs": [],
   "source": []
  },
  {
   "cell_type": "code",
   "execution_count": 6,
   "id": "603a3e7a",
   "metadata": {},
   "outputs": [
    {
     "name": "stderr",
     "output_type": "stream",
     "text": [
      "\u001b[33m[ WARN] [1708639717.084610808]: TF_REPEATED_DATA ignoring data with redundant timestamp for frame odom at time 651.480000 according to authority /pose_integrator\u001b[0m\n",
      "\u001b[33m[ WARN] [1708639717.084657344]: TF_REPEATED_DATA ignoring data with redundant timestamp for frame odom at time 651.480000 according to authority /pose_integrator\u001b[0m\n",
      "\u001b[33m[ WARN] [1708639717.084692053]: TF_REPEATED_DATA ignoring data with redundant timestamp for frame odom at time 651.480000 according to authority /pose_integrator\u001b[0m\n",
      "\u001b[33m[ WARN] [1708639717.084740851]: TF_REPEATED_DATA ignoring data with redundant timestamp for frame odom at time 651.480000 according to authority /pose_integrator\u001b[0m\n",
      "\u001b[33m[ WARN] [1708639717.084789029]: TF_REPEATED_DATA ignoring data with redundant timestamp for frame odom at time 651.480000 according to authority /pose_integrator\u001b[0m\n",
      "\u001b[33m[ WARN] [1708639717.084812912]: TF_REPEATED_DATA ignoring data with redundant timestamp for frame odom at time 651.480000 according to authority /pose_integrator\u001b[0m\n",
      "\u001b[33m[ WARN] [1708639717.345044681]: TF_REPEATED_DATA ignoring data with redundant timestamp for frame odom at time 651.608000 according to authority /pose_integrator\u001b[0m\n",
      "\u001b[33m[ WARN] [1708639717.345094971]: TF_REPEATED_DATA ignoring data with redundant timestamp for frame odom at time 651.608000 according to authority /pose_integrator\u001b[0m\n",
      "\u001b[33m[ WARN] [1708639717.345137691]: TF_REPEATED_DATA ignoring data with redundant timestamp for frame odom at time 651.608000 according to authority /pose_integrator\u001b[0m\n",
      "\u001b[33m[ WARN] [1708639717.345188569]: TF_REPEATED_DATA ignoring data with redundant timestamp for frame odom at time 651.608000 according to authority /pose_integrator\u001b[0m\n",
      "\u001b[33m[ WARN] [1708639717.345233627]: TF_REPEATED_DATA ignoring data with redundant timestamp for frame odom at time 651.608000 according to authority /pose_integrator\u001b[0m\n",
      "\u001b[33m[ WARN] [1708639717.345269008]: TF_REPEATED_DATA ignoring data with redundant timestamp for frame odom at time 651.608000 according to authority /pose_integrator\u001b[0m\n",
      "\u001b[33m[ WARN] [1708639717.864504046]: TF_REPEATED_DATA ignoring data with redundant timestamp for frame odom at time 651.797000 according to authority /pose_integrator\u001b[0m\n",
      "\u001b[33m[ WARN] [1708639717.864561423]: TF_REPEATED_DATA ignoring data with redundant timestamp for frame odom at time 651.797000 according to authority /pose_integrator\u001b[0m\n",
      "\u001b[33m[ WARN] [1708639717.864604176]: TF_REPEATED_DATA ignoring data with redundant timestamp for frame odom at time 651.797000 according to authority /pose_integrator\u001b[0m\n",
      "\u001b[33m[ WARN] [1708639717.864634180]: TF_REPEATED_DATA ignoring data with redundant timestamp for frame odom at time 651.797000 according to authority /pose_integrator\u001b[0m\n",
      "\u001b[33m[ WARN] [1708639717.864677376]: TF_REPEATED_DATA ignoring data with redundant timestamp for frame odom at time 651.797000 according to authority /pose_integrator\u001b[0m\n",
      "\u001b[33m[ WARN] [1708639717.864710751]: TF_REPEATED_DATA ignoring data with redundant timestamp for frame odom at time 651.797000 according to authority /pose_integrator\u001b[0m\n",
      "\u001b[33m[ WARN] [1708639718.365101627]: TF_REPEATED_DATA ignoring data with redundant timestamp for frame odom at time 652.004000 according to authority /pose_integrator\u001b[0m\n",
      "\u001b[33m[ WARN] [1708639718.365153949]: TF_REPEATED_DATA ignoring data with redundant timestamp for frame odom at time 652.004000 according to authority /pose_integrator\u001b[0m\n",
      "\u001b[33m[ WARN] [1708639718.365192789]: TF_REPEATED_DATA ignoring data with redundant timestamp for frame odom at time 652.004000 according to authority /pose_integrator\u001b[0m\n",
      "\u001b[33m[ WARN] [1708639718.365218241]: TF_REPEATED_DATA ignoring data with redundant timestamp for frame odom at time 652.004000 according to authority /pose_integrator\u001b[0m\n",
      "\u001b[33m[ WARN] [1708639718.365241691]: TF_REPEATED_DATA ignoring data with redundant timestamp for frame odom at time 652.004000 according to authority /pose_integrator\u001b[0m\n",
      "\u001b[33m[ WARN] [1708639718.365265509]: TF_REPEATED_DATA ignoring data with redundant timestamp for frame odom at time 652.004000 according to authority /pose_integrator\u001b[0m\n",
      "\u001b[33m[ WARN] [1708639718.536530587]: TF_REPEATED_DATA ignoring data with redundant timestamp for frame odom at time 652.087000 according to authority /pose_integrator\u001b[0m\n",
      "\u001b[33m[ WARN] [1708639718.536582484]: TF_REPEATED_DATA ignoring data with redundant timestamp for frame odom at time 652.087000 according to authority /pose_integrator\u001b[0m\n",
      "\u001b[33m[ WARN] [1708639718.536622391]: TF_REPEATED_DATA ignoring data with redundant timestamp for frame odom at time 652.087000 according to authority /pose_integrator\u001b[0m\n",
      "\u001b[33m[ WARN] [1708639718.536652509]: TF_REPEATED_DATA ignoring data with redundant timestamp for frame odom at time 652.087000 according to authority /pose_integrator\u001b[0m\n",
      "\u001b[33m[ WARN] [1708639718.536689737]: TF_REPEATED_DATA ignoring data with redundant timestamp for frame odom at time 652.087000 according to authority /pose_integrator\u001b[0m\n",
      "\u001b[33m[ WARN] [1708639718.536723473]: TF_REPEATED_DATA ignoring data with redundant timestamp for frame odom at time 652.087000 according to authority /pose_integrator\u001b[0m\n"
     ]
    }
   ],
   "source": []
  },
  {
   "cell_type": "code",
   "execution_count": 8,
   "id": "aa9001c8",
   "metadata": {},
   "outputs": [
    {
     "data": {
      "text/plain": [
       "timeout: 0.0\n",
       "target: \n",
       "  data: \"apple\""
      ]
     },
     "execution_count": 8,
     "metadata": {},
     "output_type": "execute_result"
    },
    {
     "name": "stderr",
     "output_type": "stream",
     "text": [
      "\u001b[33m[ WARN] [1708639724.363636744]: TF_REPEATED_DATA ignoring data with redundant timestamp for frame odom at time 654.267000 according to authority /pose_integrator\u001b[0m\n",
      "\u001b[33m[ WARN] [1708639724.363699148]: TF_REPEATED_DATA ignoring data with redundant timestamp for frame odom at time 654.267000 according to authority /pose_integrator\u001b[0m\n",
      "\u001b[33m[ WARN] [1708639724.363755199]: TF_REPEATED_DATA ignoring data with redundant timestamp for frame odom at time 654.267000 according to authority /pose_integrator\u001b[0m\n",
      "\u001b[33m[ WARN] [1708639724.363795801]: TF_REPEATED_DATA ignoring data with redundant timestamp for frame odom at time 654.267000 according to authority /pose_integrator\u001b[0m\n",
      "\u001b[33m[ WARN] [1708639724.363831043]: TF_REPEATED_DATA ignoring data with redundant timestamp for frame odom at time 654.267000 according to authority /pose_integrator\u001b[0m\n",
      "\u001b[33m[ WARN] [1708639724.363862831]: TF_REPEATED_DATA ignoring data with redundant timestamp for frame odom at time 654.267000 according to authority /pose_integrator\u001b[0m\n",
      "\u001b[33m[ WARN] [1708639724.457982585]: TF_REPEATED_DATA ignoring data with redundant timestamp for frame odom at time 654.298000 according to authority /pose_integrator\u001b[0m\n",
      "\u001b[33m[ WARN] [1708639724.458042341]: TF_REPEATED_DATA ignoring data with redundant timestamp for frame odom at time 654.298000 according to authority /pose_integrator\u001b[0m\n",
      "\u001b[33m[ WARN] [1708639724.458083903]: TF_REPEATED_DATA ignoring data with redundant timestamp for frame odom at time 654.298000 according to authority /pose_integrator\u001b[0m\n",
      "\u001b[33m[ WARN] [1708639724.458127175]: TF_REPEATED_DATA ignoring data with redundant timestamp for frame odom at time 654.298000 according to authority /pose_integrator\u001b[0m\n",
      "\u001b[33m[ WARN] [1708639724.458166217]: TF_REPEATED_DATA ignoring data with redundant timestamp for frame odom at time 654.298000 according to authority /pose_integrator\u001b[0m\n",
      "\u001b[33m[ WARN] [1708639724.458208958]: TF_REPEATED_DATA ignoring data with redundant timestamp for frame odom at time 654.298000 according to authority /pose_integrator\u001b[0m\n",
      "\u001b[33m[ WARN] [1708639726.477049641]: TF_REPEATED_DATA ignoring data with redundant timestamp for frame odom at time 655.124000 according to authority /pose_integrator\u001b[0m\n",
      "\u001b[33m[ WARN] [1708639726.477095167]: TF_REPEATED_DATA ignoring data with redundant timestamp for frame odom at time 655.124000 according to authority /pose_integrator\u001b[0m\n",
      "\u001b[33m[ WARN] [1708639726.477122894]: TF_REPEATED_DATA ignoring data with redundant timestamp for frame odom at time 655.124000 according to authority /pose_integrator\u001b[0m\n",
      "\u001b[33m[ WARN] [1708639726.477148620]: TF_REPEATED_DATA ignoring data with redundant timestamp for frame odom at time 655.124000 according to authority /pose_integrator\u001b[0m\n",
      "\u001b[33m[ WARN] [1708639726.477194161]: TF_REPEATED_DATA ignoring data with redundant timestamp for frame odom at time 655.124000 according to authority /pose_integrator\u001b[0m\n",
      "\u001b[33m[ WARN] [1708639726.477232897]: TF_REPEATED_DATA ignoring data with redundant timestamp for frame odom at time 655.124000 according to authority /pose_integrator\u001b[0m\n",
      "\u001b[33m[ WARN] [1708639726.571048044]: TF_REPEATED_DATA ignoring data with redundant timestamp for frame odom at time 655.160000 according to authority /pose_integrator\u001b[0m\n",
      "\u001b[33m[ WARN] [1708639726.571101863]: TF_REPEATED_DATA ignoring data with redundant timestamp for frame odom at time 655.160000 according to authority /pose_integrator\u001b[0m\n",
      "\u001b[33m[ WARN] [1708639726.571140825]: TF_REPEATED_DATA ignoring data with redundant timestamp for frame odom at time 655.160000 according to authority /pose_integrator\u001b[0m\n",
      "\u001b[33m[ WARN] [1708639726.571171378]: TF_REPEATED_DATA ignoring data with redundant timestamp for frame odom at time 655.160000 according to authority /pose_integrator\u001b[0m\n",
      "\u001b[33m[ WARN] [1708639726.571206183]: TF_REPEATED_DATA ignoring data with redundant timestamp for frame odom at time 655.160000 according to authority /pose_integrator\u001b[0m\n",
      "\u001b[33m[ WARN] [1708639726.571235655]: TF_REPEATED_DATA ignoring data with redundant timestamp for frame odom at time 655.160000 according to authority /pose_integrator\u001b[0m\n",
      "\u001b[33m[ WARN] [1708639727.028713460]: TF_REPEATED_DATA ignoring data with redundant timestamp for frame odom at time 655.325000 according to authority /pose_integrator\u001b[0m\n",
      "\u001b[33m[ WARN] [1708639727.028762777]: TF_REPEATED_DATA ignoring data with redundant timestamp for frame odom at time 655.325000 according to authority /pose_integrator\u001b[0m\n",
      "\u001b[33m[ WARN] [1708639727.028814117]: TF_REPEATED_DATA ignoring data with redundant timestamp for frame odom at time 655.325000 according to authority /pose_integrator\u001b[0m\n",
      "\u001b[33m[ WARN] [1708639727.028849368]: TF_REPEATED_DATA ignoring data with redundant timestamp for frame odom at time 655.325000 according to authority /pose_integrator\u001b[0m\n",
      "\u001b[33m[ WARN] [1708639727.028885621]: TF_REPEATED_DATA ignoring data with redundant timestamp for frame odom at time 655.325000 according to authority /pose_integrator\u001b[0m\n",
      "\u001b[33m[ WARN] [1708639727.028920455]: TF_REPEATED_DATA ignoring data with redundant timestamp for frame odom at time 655.325000 according to authority /pose_integrator\u001b[0m\n",
      "\u001b[33m[ WARN] [1708639728.625891362]: TF_REPEATED_DATA ignoring data with redundant timestamp for frame odom at time 655.913000 according to authority /pose_integrator\u001b[0m\n",
      "\u001b[33m[ WARN] [1708639728.625938886]: TF_REPEATED_DATA ignoring data with redundant timestamp for frame odom at time 655.913000 according to authority /pose_integrator\u001b[0m\n",
      "\u001b[33m[ WARN] [1708639728.625966767]: TF_REPEATED_DATA ignoring data with redundant timestamp for frame odom at time 655.913000 according to authority /pose_integrator\u001b[0m\n",
      "\u001b[33m[ WARN] [1708639728.625992132]: TF_REPEATED_DATA ignoring data with redundant timestamp for frame odom at time 655.913000 according to authority /pose_integrator\u001b[0m\n",
      "\u001b[33m[ WARN] [1708639728.626015313]: TF_REPEATED_DATA ignoring data with redundant timestamp for frame odom at time 655.913000 according to authority /pose_integrator\u001b[0m\n",
      "\u001b[33m[ WARN] [1708639728.626038509]: TF_REPEATED_DATA ignoring data with redundant timestamp for frame odom at time 655.913000 according to authority /pose_integrator\u001b[0m\n"
     ]
    }
   ],
   "source": [
    "goal"
   ]
  },
  {
   "cell_type": "code",
   "execution_count": null,
   "id": "89aca501",
   "metadata": {},
   "outputs": [],
   "source": []
  }
 ],
 "metadata": {
  "kernelspec": {
   "display_name": "Python 3 (ipykernel)",
   "language": "python",
   "name": "python3"
  },
  "language_info": {
   "codemirror_mode": {
    "name": "ipython",
    "version": 3
   },
   "file_extension": ".py",
   "mimetype": "text/x-python",
   "name": "python",
   "nbconvert_exporter": "python",
   "pygments_lexer": "ipython3",
   "version": "3.8.10"
  }
 },
 "nbformat": 4,
 "nbformat_minor": 5
}

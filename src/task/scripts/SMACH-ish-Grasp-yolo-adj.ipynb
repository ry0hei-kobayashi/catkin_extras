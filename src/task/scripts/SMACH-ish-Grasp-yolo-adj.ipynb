{
 "cells": [
  {
   "cell_type": "code",
   "execution_count": 1,
   "id": "1863753f",
   "metadata": {
    "scrolled": true
   },
   "outputs": [
    {
     "name": "stderr",
     "output_type": "stream",
     "text": [
      "/home/roboworks/.local/lib/python3.8/site-packages/pandas/core/computation/expressions.py:20: UserWarning: Pandas requires version '2.7.3' or newer of 'numexpr' (version '2.7.1' currently installed).\n",
      "  from pandas.core.computation.check import NUMEXPR_INSTALLED\n"
     ]
    }
   ],
   "source": [
    "from smach_utils2 import *\n",
    "import matplotlib.pyplot as plt\n",
    "#arm = moveit_commander.MoveGroupCommander('arm')\n"
   ]
  },
  {
   "cell_type": "code",
   "execution_count": 2,
   "id": "9fa7ecc1",
   "metadata": {},
   "outputs": [
    {
     "name": "stderr",
     "output_type": "stream",
     "text": [
      "\u001b[33m[ WARN] [1709140308.308369234]: Link hand_l_finger_vacuum_frame has visual geometry but no collision geometry. Collision geometry will be left empty. Fix your URDF file by explicitly specifying collision geometry.\u001b[0m\n",
      "\u001b[33m[ WARN] [1709140308.312094333]: Link head_l_stereo_camera_link has visual geometry but no collision geometry. Collision geometry will be left empty. Fix your URDF file by explicitly specifying collision geometry.\u001b[0m\n",
      "\u001b[33m[ WARN] [1709140308.312155398]: Link head_r_stereo_camera_link has visual geometry but no collision geometry. Collision geometry will be left empty. Fix your URDF file by explicitly specifying collision geometry.\u001b[0m\n",
      "\u001b[33m[ WARN] [1709140308.313294755]: Group state 'neutral' doesn't specify all group joints in group 'arm'. wrist_ft_sensor_frame_joint is missing.\u001b[0m\n",
      "\u001b[33m[ WARN] [1709140308.313351840]: Group state 'go' doesn't specify all group joints in group 'arm'. wrist_ft_sensor_frame_joint is missing.\u001b[0m\n",
      "\u001b[33m[ WARN] [1709140308.865179582]: Kinematics solver doesn't support #attempts anymore, but only a timeout.\n",
      "Please remove the parameter '/robot_description_kinematics/arm/kinematics_solver_attempts' from your configuration.\u001b[0m\n",
      "\u001b[33m[ WARN] [1709140309.103346478]: IK plugin for group 'whole_body' relies on deprecated API. Please implement initialize(RobotModel, ...).\u001b[0m\n",
      "\u001b[33m[ WARN] [1709140309.132471033]: IK plugin for group 'whole_body_weighted' relies on deprecated API. Please implement initialize(RobotModel, ...).\u001b[0m\n",
      "\u001b[33m[ WARN] [1709140309.162381460]: IK plugin for group 'whole_body_light' relies on deprecated API. Please implement initialize(RobotModel, ...).\u001b[0m\n"
     ]
    }
   ],
   "source": [
    "arm = moveit_commander.MoveGroupCommander('arm')"
   ]
  },
  {
   "cell_type": "code",
   "execution_count": 19,
   "id": "c91dbfe8",
   "metadata": {},
   "outputs": [
    {
     "data": {
      "text/plain": [
       "True"
      ]
     },
     "execution_count": 19,
     "metadata": {},
     "output_type": "execute_result"
    }
   ],
   "source": [
    "\n",
    "arm.set_named_target('go')\n",
    "arm.go()"
   ]
  },
  {
   "cell_type": "code",
   "execution_count": null,
   "id": "dcf7433d",
   "metadata": {},
   "outputs": [],
   "source": [
    "head.set_joint_values([0.0,-0.65])\n",
    "rospy.sleep(0.6)\n",
    "rospy.sleep(0.6)\n",
    "image= cv2.cvtColor(rgbd.get_image(), cv2.COLOR_RGB2BGR)\n",
    "img_msg  = bridge.cv2_to_imgmsg(image)\n",
    "req      = classify_client.request_class()\n",
    "req.in_.image_msgs.append(img_msg)\n",
    "res      = classify_client(req)\n",
    "debug_image=   cv2.cvtColor(bridge.imgmsg_to_cv2(res.debug_image.image_msgs[0]), cv2.COLOR_RGB2BGR)"
   ]
  },
  {
   "cell_type": "code",
   "execution_count": null,
   "id": "26ef0ad1",
   "metadata": {},
   "outputs": [],
   "source": [
    "\n",
    "plt.imshow(debug_image)"
   ]
  },
  {
   "cell_type": "code",
   "execution_count": null,
   "id": "0dd7fca6",
   "metadata": {
    "scrolled": true
   },
   "outputs": [],
   "source": [
    "\n",
    "for i in range(len(res.poses)):\n",
    "    tf_man.getTF(\"head_rgbd_sensor_rgb_frame\")\n",
    "    #tf_man.pub_static_tf(pos=[res.poses[i].position.x ,res.poses[i].position.y,res.poses[i].position.z], rot=[0,0,0,1],ref=\"head_rgbd_sensor_rgb_frame\",point_name=res.names[i].data[4:] )   \n",
    "    tf_man.pub_static_tf(pos=[res.poses[i].position.x ,res.poses[i].position.y,res.poses[i].position.z], rot=[0,0,0,1],ref=\"head_rgbd_sensor_rgb_frame\",point_name='apple' )   \n",
    "    rospy.sleep(0.3)\n",
    "    tf_man.change_ref_frame_tf(res.names[i].data[4:])\n",
    "\n"
   ]
  },
  {
   "cell_type": "code",
   "execution_count": null,
   "id": "3a229b93",
   "metadata": {},
   "outputs": [],
   "source": [
    "#omni_base.move_d_to(target_distance=0.78,target_link='apple')\n",
    "pose,rot=tf_man.getTF(target_frame='hand_palm_link')\n",
    "pose"
   ]
  },
  {
   "cell_type": "code",
   "execution_count": null,
   "id": "1cdf8e8e",
   "metadata": {},
   "outputs": [],
   "source": [
    "target_object='apple'\n",
    "trans,_=tf_man.getTF(target_object,ref_frame=\"base_link\")\n",
    "trans\n"
   ]
  },
  {
   "cell_type": "code",
   "execution_count": null,
   "id": "f6219c35",
   "metadata": {},
   "outputs": [],
   "source": []
  },
  {
   "cell_type": "code",
   "execution_count": null,
   "id": "63f70f1b",
   "metadata": {},
   "outputs": [],
   "source": [
    "target_object='apple'\n",
    "_,rot= tf_man.getTF(\"base_link\",ref_frame='map')\n",
    "\n",
    "original_rot=tf.transformations.euler_from_quaternion(rot)[2]\n",
    "trans,_=tf_man.getTF(target_object,ref_frame=\"base_link\")\n",
    "\n",
    "\n",
    "trans , original_rot"
   ]
  },
  {
   "cell_type": "code",
   "execution_count": null,
   "id": "9b9aa232",
   "metadata": {},
   "outputs": [],
   "source": []
  },
  {
   "cell_type": "code",
   "execution_count": null,
   "id": "1309b0c4",
   "metadata": {},
   "outputs": [],
   "source": [
    "_,rot= tf_man.getTF(\"base_link\",ref_frame='map')\n",
    "original_rot=tf.transformations.euler_from_quaternion(rot)[2]\n",
    "target_object='apple'\n",
    "\n",
    "\n",
    "succ = False\n",
    "            \n",
    "while not succ:\n",
    "    \n",
    "    _,rot= tf_man.getTF(\"base_link\",ref_frame='map')\n",
    "    trans,_=tf_man.getTF(target_object,ref_frame=\"base_link\")\n",
    "\n",
    "    trans\n",
    "    eX, eY, eZ = trans\n",
    "    \n",
    "    eX+= -0.4\n",
    "    eY+= -.06\n",
    "    \n",
    "    eT= tf.transformations.euler_from_quaternion(rot)[2] - original_rot #Original \n",
    "    print (eT)\n",
    "    if eT > np.pi: eT=-2*np.pi+eT\n",
    "    if eT < -np.pi: eT= 2*np.pi+eT\n",
    "    rospy.loginfo(\"error: {:.2f}, {:.2f}, angle {:.2f}, target obj frame {}\".format(eX, eY , eT,target_object))\n",
    "    X, Y, Z = trans\n",
    "    rospy.loginfo(\"Pose: {:.2f}, {:.2f}, angle {:.2f}, target obj frame {}\".format(X, Y , eT,target_object))\n",
    "    \n",
    "    if abs(eX) <=0.05 :\n",
    "        print ('here')\n",
    "        eX = 0\n",
    "    if abs(eY) <=0.05  :\n",
    "        eY = 0\n",
    "    if abs(eT   ) < 0.1:\n",
    "        eT = 0\n",
    "    succ =  eX == 0 and eY == 0 and eT==0\n",
    "\n",
    "    \n",
    "    omni_base.tiny_move( velX=0.2*+eX,velY=0.3*eY, velT=-eT,std_time=0.2, MAX_VEL=0.3) \n"
   ]
  },
  {
   "cell_type": "code",
   "execution_count": null,
   "id": "17044e0b",
   "metadata": {},
   "outputs": [],
   "source": [
    "res.names"
   ]
  },
  {
   "cell_type": "code",
   "execution_count": null,
   "id": "7c118152",
   "metadata": {},
   "outputs": [],
   "source": [
    "head.set_joint_values([0.0,0.0])\n",
    "clear_octo_client()\n",
    "\n",
    "hand_cam= HAND_RGB()\n"
   ]
  },
  {
   "cell_type": "code",
   "execution_count": null,
   "id": "f7dc6855",
   "metadata": {},
   "outputs": [],
   "source": []
  },
  {
   "cell_type": "code",
   "execution_count": null,
   "id": "fad6ec04",
   "metadata": {},
   "outputs": [],
   "source": [
    "#clear_octo_client()\n",
    "\n",
    "pickup_pose=[min(trans[2],0.66),-1.2,0.0,-1.9, 0.0, 0.0]\n",
    "#pickup_pose=[0.65,-1.2,0.0,-1.9, 0.0, 0.0]\n",
    "succ= arm.go(pickup_pose)\n",
    "gripper.open()\n"
   ]
  },
  {
   "cell_type": "code",
   "execution_count": null,
   "id": "ae3d33a9",
   "metadata": {
    "scrolled": true
   },
   "outputs": [],
   "source": [
    "\n",
    "image= cv2.cvtColor(hand_cam.get_image(), cv2.COLOR_RGB2BGR)\n",
    "img_msg  = bridge.cv2_to_imgmsg(image)\n",
    "req      = classify_client.request_class()\n",
    "req.in_.image_msgs.append(img_msg)\n",
    "res      = classify_client(req)\n",
    "debug_image=   cv2.cvtColor(bridge.imgmsg_to_cv2(res.debug_image.image_msgs[0]), cv2.COLOR_RGB2BGR)\n",
    "\n",
    "plt.imshow(debug_image)"
   ]
  },
  {
   "cell_type": "markdown",
   "id": "218fa584",
   "metadata": {},
   "source": [
    "## [(323, 266), (280, 215)]  at pkcp pose\n"
   ]
  },
  {
   "cell_type": "code",
   "execution_count": null,
   "id": "2b0d6125",
   "metadata": {},
   "outputs": [],
   "source": [
    "abs(eX) > 0.05 or abs(eY) > 0.05"
   ]
  },
  {
   "cell_type": "code",
   "execution_count": null,
   "id": "c2616e79",
   "metadata": {},
   "outputs": [],
   "source": [
    "eX,eY= 0.3,0.3 \n",
    "\n",
    "while abs(eX) > 0.05 or abs(eY) > 0.05:\n",
    "    image= cv2.cvtColor(hand_cam.get_image(), cv2.COLOR_RGB2BGR)\n",
    "    img_msg  = bridge.cv2_to_imgmsg(image)\n",
    "    req      = classify_client.request_class()\n",
    "    req.in_.image_msgs.append(img_msg)\n",
    "    res      = classify_client(req)\n",
    "\n",
    "\n",
    "    for i in range(len(res.names)):\n",
    "        if res.names[i].data== '013_apple' or res.names[i].data== '017_orange':\n",
    "            bbM=res.pt_min.data[2*i:2*i+2]\n",
    "            bbm=res.pt_max.data[2*i:2*i+2]\n",
    "            bbx=[bbM,bbm]\n",
    "    print(bbx)\n",
    "    eY=(bbx[1][1]-215)/215    #experience value\n",
    "    #print(f'error relative to gripper cam {eY}')\n",
    "\n",
    "\n",
    "    #eX=(bbx[0][0]-323)/323\n",
    "    eX=(bbx[0][0]-291)/291\n",
    "    eY=(bbx[1][1]-226)/226\n",
    "    #eY=(bbx[1][1]-215)/215    #experience value\n",
    "\n",
    "    print(f'error relative to gripper cam ex={eX} ey={eY}')\n",
    "    omni_base.tiny_move(velX=eX, velY=-eY, MAX_VEL=0.05) \n",
    "print(f'error relative to gripper cam ex={eX} ey={eY}:::::: Error within tolerance')"
   ]
  },
  {
   "cell_type": "code",
   "execution_count": null,
   "id": "91085632",
   "metadata": {
    "scrolled": true
   },
   "outputs": [],
   "source": [
    "clear_octo_client()\n",
    "pose,_=tf_man.getTF(target_frame='hand_palm_link',ref_frame='apple')\n",
    "av=arm.get_current_joint_values()\n",
    "print (av,'av')\n",
    "av=arm.get_current_joint_values()\n",
    "av[0]+=0.07-pose[2]\n",
    "#av[0]+= -0.17###LAB\n",
    "#av[0]+= -0.35###GAZ\n",
    "succ=arm.go(av)\n",
    "rospy.sleep(0.5)\n",
    "gripper.close(force=0.06)"
   ]
  },
  {
   "cell_type": "code",
   "execution_count": null,
   "id": "c6bd60e6",
   "metadata": {},
   "outputs": [],
   "source": [
    "av=arm.get_current_joint_values()\n",
    "print (av,'av')\n",
    "av[0]+= 0.15\n",
    "succ=arm.go(av)\n",
    "omni_base.tiny_move(velX=-0.3, std_time=4.0)\n",
    "arm.set_named_target('go')\n",
    "arm.go()\n",
    "#tf_man.pub_static_tf(point_name='apple')"
   ]
  },
  {
   "cell_type": "code",
   "execution_count": null,
   "id": "c43b5f2b",
   "metadata": {},
   "outputs": [],
   "source": []
  },
  {
   "cell_type": "code",
   "execution_count": null,
   "id": "d9be2172",
   "metadata": {},
   "outputs": [],
   "source": [
    "pose,rot=tf_man.getTF(target_frame='hand_palm_link',ref_frame='apple')\n",
    "pose[2]"
   ]
  },
  {
   "cell_type": "code",
   "execution_count": null,
   "id": "744b1ad8",
   "metadata": {},
   "outputs": [],
   "source": [
    "#clear_octo_client()\n",
    "\n",
    "pickup_pose=[0.65,-1.2,0.0,-1.9, 0.0, 0.0]\n",
    "succ= arm.go(pickup_pose)\n",
    "gripper.open()\n"
   ]
  },
  {
   "cell_type": "code",
   "execution_count": 2,
   "id": "1d45c932",
   "metadata": {},
   "outputs": [],
   "source": []
  },
  {
   "cell_type": "code",
   "execution_count": 3,
   "id": "d729b95c",
   "metadata": {},
   "outputs": [],
   "source": []
  },
  {
   "cell_type": "code",
   "execution_count": 6,
   "id": "603a3e7a",
   "metadata": {},
   "outputs": [
    {
     "name": "stderr",
     "output_type": "stream",
     "text": [
      "\u001b[33m[ WARN] [1708639717.084610808]: TF_REPEATED_DATA ignoring data with redundant timestamp for frame odom at time 651.480000 according to authority /pose_integrator\u001b[0m\n",
      "\u001b[33m[ WARN] [1708639717.084657344]: TF_REPEATED_DATA ignoring data with redundant timestamp for frame odom at time 651.480000 according to authority /pose_integrator\u001b[0m\n",
      "\u001b[33m[ WARN] [1708639717.084692053]: TF_REPEATED_DATA ignoring data with redundant timestamp for frame odom at time 651.480000 according to authority /pose_integrator\u001b[0m\n",
      "\u001b[33m[ WARN] [1708639717.084740851]: TF_REPEATED_DATA ignoring data with redundant timestamp for frame odom at time 651.480000 according to authority /pose_integrator\u001b[0m\n",
      "\u001b[33m[ WARN] [1708639717.084789029]: TF_REPEATED_DATA ignoring data with redundant timestamp for frame odom at time 651.480000 according to authority /pose_integrator\u001b[0m\n",
      "\u001b[33m[ WARN] [1708639717.084812912]: TF_REPEATED_DATA ignoring data with redundant timestamp for frame odom at time 651.480000 according to authority /pose_integrator\u001b[0m\n",
      "\u001b[33m[ WARN] [1708639717.345044681]: TF_REPEATED_DATA ignoring data with redundant timestamp for frame odom at time 651.608000 according to authority /pose_integrator\u001b[0m\n",
      "\u001b[33m[ WARN] [1708639717.345094971]: TF_REPEATED_DATA ignoring data with redundant timestamp for frame odom at time 651.608000 according to authority /pose_integrator\u001b[0m\n",
      "\u001b[33m[ WARN] [1708639717.345137691]: TF_REPEATED_DATA ignoring data with redundant timestamp for frame odom at time 651.608000 according to authority /pose_integrator\u001b[0m\n",
      "\u001b[33m[ WARN] [1708639717.345188569]: TF_REPEATED_DATA ignoring data with redundant timestamp for frame odom at time 651.608000 according to authority /pose_integrator\u001b[0m\n",
      "\u001b[33m[ WARN] [1708639717.345233627]: TF_REPEATED_DATA ignoring data with redundant timestamp for frame odom at time 651.608000 according to authority /pose_integrator\u001b[0m\n",
      "\u001b[33m[ WARN] [1708639717.345269008]: TF_REPEATED_DATA ignoring data with redundant timestamp for frame odom at time 651.608000 according to authority /pose_integrator\u001b[0m\n",
      "\u001b[33m[ WARN] [1708639717.864504046]: TF_REPEATED_DATA ignoring data with redundant timestamp for frame odom at time 651.797000 according to authority /pose_integrator\u001b[0m\n",
      "\u001b[33m[ WARN] [1708639717.864561423]: TF_REPEATED_DATA ignoring data with redundant timestamp for frame odom at time 651.797000 according to authority /pose_integrator\u001b[0m\n",
      "\u001b[33m[ WARN] [1708639717.864604176]: TF_REPEATED_DATA ignoring data with redundant timestamp for frame odom at time 651.797000 according to authority /pose_integrator\u001b[0m\n",
      "\u001b[33m[ WARN] [1708639717.864634180]: TF_REPEATED_DATA ignoring data with redundant timestamp for frame odom at time 651.797000 according to authority /pose_integrator\u001b[0m\n",
      "\u001b[33m[ WARN] [1708639717.864677376]: TF_REPEATED_DATA ignoring data with redundant timestamp for frame odom at time 651.797000 according to authority /pose_integrator\u001b[0m\n",
      "\u001b[33m[ WARN] [1708639717.864710751]: TF_REPEATED_DATA ignoring data with redundant timestamp for frame odom at time 651.797000 according to authority /pose_integrator\u001b[0m\n",
      "\u001b[33m[ WARN] [1708639718.365101627]: TF_REPEATED_DATA ignoring data with redundant timestamp for frame odom at time 652.004000 according to authority /pose_integrator\u001b[0m\n",
      "\u001b[33m[ WARN] [1708639718.365153949]: TF_REPEATED_DATA ignoring data with redundant timestamp for frame odom at time 652.004000 according to authority /pose_integrator\u001b[0m\n",
      "\u001b[33m[ WARN] [1708639718.365192789]: TF_REPEATED_DATA ignoring data with redundant timestamp for frame odom at time 652.004000 according to authority /pose_integrator\u001b[0m\n",
      "\u001b[33m[ WARN] [1708639718.365218241]: TF_REPEATED_DATA ignoring data with redundant timestamp for frame odom at time 652.004000 according to authority /pose_integrator\u001b[0m\n",
      "\u001b[33m[ WARN] [1708639718.365241691]: TF_REPEATED_DATA ignoring data with redundant timestamp for frame odom at time 652.004000 according to authority /pose_integrator\u001b[0m\n",
      "\u001b[33m[ WARN] [1708639718.365265509]: TF_REPEATED_DATA ignoring data with redundant timestamp for frame odom at time 652.004000 according to authority /pose_integrator\u001b[0m\n",
      "\u001b[33m[ WARN] [1708639718.536530587]: TF_REPEATED_DATA ignoring data with redundant timestamp for frame odom at time 652.087000 according to authority /pose_integrator\u001b[0m\n",
      "\u001b[33m[ WARN] [1708639718.536582484]: TF_REPEATED_DATA ignoring data with redundant timestamp for frame odom at time 652.087000 according to authority /pose_integrator\u001b[0m\n",
      "\u001b[33m[ WARN] [1708639718.536622391]: TF_REPEATED_DATA ignoring data with redundant timestamp for frame odom at time 652.087000 according to authority /pose_integrator\u001b[0m\n",
      "\u001b[33m[ WARN] [1708639718.536652509]: TF_REPEATED_DATA ignoring data with redundant timestamp for frame odom at time 652.087000 according to authority /pose_integrator\u001b[0m\n",
      "\u001b[33m[ WARN] [1708639718.536689737]: TF_REPEATED_DATA ignoring data with redundant timestamp for frame odom at time 652.087000 according to authority /pose_integrator\u001b[0m\n",
      "\u001b[33m[ WARN] [1708639718.536723473]: TF_REPEATED_DATA ignoring data with redundant timestamp for frame odom at time 652.087000 according to authority /pose_integrator\u001b[0m\n"
     ]
    }
   ],
   "source": []
  },
  {
   "cell_type": "code",
   "execution_count": 8,
   "id": "aa9001c8",
   "metadata": {},
   "outputs": [
    {
     "data": {
      "text/plain": [
       "timeout: 0.0\n",
       "target: \n",
       "  data: \"apple\""
      ]
     },
     "execution_count": 8,
     "metadata": {},
     "output_type": "execute_result"
    },
    {
     "name": "stderr",
     "output_type": "stream",
     "text": [
      "\u001b[33m[ WARN] [1708639724.363636744]: TF_REPEATED_DATA ignoring data with redundant timestamp for frame odom at time 654.267000 according to authority /pose_integrator\u001b[0m\n",
      "\u001b[33m[ WARN] [1708639724.363699148]: TF_REPEATED_DATA ignoring data with redundant timestamp for frame odom at time 654.267000 according to authority /pose_integrator\u001b[0m\n",
      "\u001b[33m[ WARN] [1708639724.363755199]: TF_REPEATED_DATA ignoring data with redundant timestamp for frame odom at time 654.267000 according to authority /pose_integrator\u001b[0m\n",
      "\u001b[33m[ WARN] [1708639724.363795801]: TF_REPEATED_DATA ignoring data with redundant timestamp for frame odom at time 654.267000 according to authority /pose_integrator\u001b[0m\n",
      "\u001b[33m[ WARN] [1708639724.363831043]: TF_REPEATED_DATA ignoring data with redundant timestamp for frame odom at time 654.267000 according to authority /pose_integrator\u001b[0m\n",
      "\u001b[33m[ WARN] [1708639724.363862831]: TF_REPEATED_DATA ignoring data with redundant timestamp for frame odom at time 654.267000 according to authority /pose_integrator\u001b[0m\n",
      "\u001b[33m[ WARN] [1708639724.457982585]: TF_REPEATED_DATA ignoring data with redundant timestamp for frame odom at time 654.298000 according to authority /pose_integrator\u001b[0m\n",
      "\u001b[33m[ WARN] [1708639724.458042341]: TF_REPEATED_DATA ignoring data with redundant timestamp for frame odom at time 654.298000 according to authority /pose_integrator\u001b[0m\n",
      "\u001b[33m[ WARN] [1708639724.458083903]: TF_REPEATED_DATA ignoring data with redundant timestamp for frame odom at time 654.298000 according to authority /pose_integrator\u001b[0m\n",
      "\u001b[33m[ WARN] [1708639724.458127175]: TF_REPEATED_DATA ignoring data with redundant timestamp for frame odom at time 654.298000 according to authority /pose_integrator\u001b[0m\n",
      "\u001b[33m[ WARN] [1708639724.458166217]: TF_REPEATED_DATA ignoring data with redundant timestamp for frame odom at time 654.298000 according to authority /pose_integrator\u001b[0m\n",
      "\u001b[33m[ WARN] [1708639724.458208958]: TF_REPEATED_DATA ignoring data with redundant timestamp for frame odom at time 654.298000 according to authority /pose_integrator\u001b[0m\n",
      "\u001b[33m[ WARN] [1708639726.477049641]: TF_REPEATED_DATA ignoring data with redundant timestamp for frame odom at time 655.124000 according to authority /pose_integrator\u001b[0m\n",
      "\u001b[33m[ WARN] [1708639726.477095167]: TF_REPEATED_DATA ignoring data with redundant timestamp for frame odom at time 655.124000 according to authority /pose_integrator\u001b[0m\n",
      "\u001b[33m[ WARN] [1708639726.477122894]: TF_REPEATED_DATA ignoring data with redundant timestamp for frame odom at time 655.124000 according to authority /pose_integrator\u001b[0m\n",
      "\u001b[33m[ WARN] [1708639726.477148620]: TF_REPEATED_DATA ignoring data with redundant timestamp for frame odom at time 655.124000 according to authority /pose_integrator\u001b[0m\n",
      "\u001b[33m[ WARN] [1708639726.477194161]: TF_REPEATED_DATA ignoring data with redundant timestamp for frame odom at time 655.124000 according to authority /pose_integrator\u001b[0m\n",
      "\u001b[33m[ WARN] [1708639726.477232897]: TF_REPEATED_DATA ignoring data with redundant timestamp for frame odom at time 655.124000 according to authority /pose_integrator\u001b[0m\n",
      "\u001b[33m[ WARN] [1708639726.571048044]: TF_REPEATED_DATA ignoring data with redundant timestamp for frame odom at time 655.160000 according to authority /pose_integrator\u001b[0m\n",
      "\u001b[33m[ WARN] [1708639726.571101863]: TF_REPEATED_DATA ignoring data with redundant timestamp for frame odom at time 655.160000 according to authority /pose_integrator\u001b[0m\n",
      "\u001b[33m[ WARN] [1708639726.571140825]: TF_REPEATED_DATA ignoring data with redundant timestamp for frame odom at time 655.160000 according to authority /pose_integrator\u001b[0m\n",
      "\u001b[33m[ WARN] [1708639726.571171378]: TF_REPEATED_DATA ignoring data with redundant timestamp for frame odom at time 655.160000 according to authority /pose_integrator\u001b[0m\n",
      "\u001b[33m[ WARN] [1708639726.571206183]: TF_REPEATED_DATA ignoring data with redundant timestamp for frame odom at time 655.160000 according to authority /pose_integrator\u001b[0m\n",
      "\u001b[33m[ WARN] [1708639726.571235655]: TF_REPEATED_DATA ignoring data with redundant timestamp for frame odom at time 655.160000 according to authority /pose_integrator\u001b[0m\n",
      "\u001b[33m[ WARN] [1708639727.028713460]: TF_REPEATED_DATA ignoring data with redundant timestamp for frame odom at time 655.325000 according to authority /pose_integrator\u001b[0m\n",
      "\u001b[33m[ WARN] [1708639727.028762777]: TF_REPEATED_DATA ignoring data with redundant timestamp for frame odom at time 655.325000 according to authority /pose_integrator\u001b[0m\n",
      "\u001b[33m[ WARN] [1708639727.028814117]: TF_REPEATED_DATA ignoring data with redundant timestamp for frame odom at time 655.325000 according to authority /pose_integrator\u001b[0m\n",
      "\u001b[33m[ WARN] [1708639727.028849368]: TF_REPEATED_DATA ignoring data with redundant timestamp for frame odom at time 655.325000 according to authority /pose_integrator\u001b[0m\n",
      "\u001b[33m[ WARN] [1708639727.028885621]: TF_REPEATED_DATA ignoring data with redundant timestamp for frame odom at time 655.325000 according to authority /pose_integrator\u001b[0m\n",
      "\u001b[33m[ WARN] [1708639727.028920455]: TF_REPEATED_DATA ignoring data with redundant timestamp for frame odom at time 655.325000 according to authority /pose_integrator\u001b[0m\n",
      "\u001b[33m[ WARN] [1708639728.625891362]: TF_REPEATED_DATA ignoring data with redundant timestamp for frame odom at time 655.913000 according to authority /pose_integrator\u001b[0m\n",
      "\u001b[33m[ WARN] [1708639728.625938886]: TF_REPEATED_DATA ignoring data with redundant timestamp for frame odom at time 655.913000 according to authority /pose_integrator\u001b[0m\n",
      "\u001b[33m[ WARN] [1708639728.625966767]: TF_REPEATED_DATA ignoring data with redundant timestamp for frame odom at time 655.913000 according to authority /pose_integrator\u001b[0m\n",
      "\u001b[33m[ WARN] [1708639728.625992132]: TF_REPEATED_DATA ignoring data with redundant timestamp for frame odom at time 655.913000 according to authority /pose_integrator\u001b[0m\n",
      "\u001b[33m[ WARN] [1708639728.626015313]: TF_REPEATED_DATA ignoring data with redundant timestamp for frame odom at time 655.913000 according to authority /pose_integrator\u001b[0m\n",
      "\u001b[33m[ WARN] [1708639728.626038509]: TF_REPEATED_DATA ignoring data with redundant timestamp for frame odom at time 655.913000 according to authority /pose_integrator\u001b[0m\n"
     ]
    }
   ],
   "source": [
    "goal"
   ]
  },
  {
   "cell_type": "code",
   "execution_count": 4,
   "id": "89aca501",
   "metadata": {},
   "outputs": [],
   "source": [
    "#### SEGMENT AND FLOOR"
   ]
  },
  {
   "cell_type": "code",
   "execution_count": 76,
   "id": "d71276fe",
   "metadata": {},
   "outputs": [],
   "source": [
    "request= segmentation_server.request_class()"
   ]
  },
  {
   "cell_type": "code",
   "execution_count": 96,
   "id": "2065586b",
   "metadata": {},
   "outputs": [],
   "source": [
    "head.set_joint_values([0.0,-0.6])\n",
    "rospy.sleep(0.6)\n",
    "rospy.sleep(0.6)"
   ]
  },
  {
   "cell_type": "code",
   "execution_count": 97,
   "id": "4c9f8498",
   "metadata": {},
   "outputs": [],
   "source": [
    "request.height.data=0"
   ]
  },
  {
   "cell_type": "code",
   "execution_count": 98,
   "id": "6c5a9dd9",
   "metadata": {},
   "outputs": [
    {
     "name": "stdout",
     "output_type": "stream",
     "text": [
      "4 found\n",
      "object_0 found at [-1.57969511  1.21244311 -0.07274493]\n",
      "Occupancy map at point object 0-> pixels  280 224 -1\n",
      "reject point suggested ( for floor), most likely part of arena, occupied inflated map\n",
      "object found at map coords.[-1.5796951055526733, 1.2124431133270264, -0.0727449283003807] \n",
      "object_1 found at [-1.67764568  1.11334276 -0.07302897]\n",
      "Occupancy map at point object 1-> pixels  278 222 -1\n",
      "reject point suggested ( for floor), most likely part of arena, occupied inflated map\n",
      "object found at map coords.[-1.6776456832885742, 1.1133427619934082, -0.07302897423505783] \n",
      "object_2 found at [-2.53624058  0.4760533  -0.07136885]\n",
      "Occupancy map at point object 2-> pixels  266 205 -1\n",
      "reject point suggested ( for floor), most likely part of arena, occupied inflated map\n",
      "object found at map coords.[-2.536240577697754, 0.47605329751968384, -0.07136885076761246] \n",
      "object_3 found at [-2.03758383e+00  1.59831834e+00 -3.25197179e-04]\n",
      "Occupancy map at point object 3-> pixels  288 215 -1\n",
      "reject point suggested ( for floor), most likely part of arena, occupied inflated map\n",
      "object found at map coords.[-2.037583827972412, 1.598318338394165, -0.0003251971793361008] \n"
     ]
    }
   ],
   "source": [
    "res=segmentation_server.call(request)\n",
    "succ=seg_res_tf(res)"
   ]
  },
  {
   "cell_type": "code",
   "execution_count": 99,
   "id": "989b840f",
   "metadata": {},
   "outputs": [
    {
     "name": "stdout",
     "output_type": "stream",
     "text": [
      "heights(0.007835865020751953, 0.007859870791435242, 0.01168029010295868, 0.1518610268831253), widths (0.06147301197052002, 0.20250225067138672, 0.10209017992019653, 0.1621241569519043)\n"
     ]
    }
   ],
   "source": [
    "print (f'heights{res.heights.data}, widths {res.widths.data}')"
   ]
  },
  {
   "cell_type": "code",
   "execution_count": 101,
   "id": "b4943bef",
   "metadata": {},
   "outputs": [
    {
     "data": {
      "text/plain": [
       "<matplotlib.image.AxesImage at 0x7f4de87319d0>"
      ]
     },
     "execution_count": 101,
     "metadata": {},
     "output_type": "execute_result"
    },
    {
     "data": {
      "image/png": "[encoded data removed]",
      "text/plain": [
       "<Figure size 640x480 with 1 Axes>"
      ]
     },
     "metadata": {},
     "output_type": "display_data"
    }
   ],
   "source": [
    "img=bridge.imgmsg_to_cv2(res.im_out.image_msgs[0])\n",
    "plt.imshow(img)"
   ]
  },
  {
   "cell_type": "code",
   "execution_count": 102,
   "id": "8784349a",
   "metadata": {},
   "outputs": [
    {
     "data": {
      "text/plain": [
       "[[-2.0411038398742676, 1.5976558923721313, -0.0007943566306494176],\n",
       " [0.0, 0.0, 0.8396366404654101, 0.5431485174314293]]"
      ]
     },
     "execution_count": 102,
     "metadata": {},
     "output_type": "execute_result"
    }
   ],
   "source": [
    "tf_man.getTF('object_1')"
   ]
  },
  {
   "cell_type": "code",
   "execution_count": 103,
   "id": "6a89154a",
   "metadata": {},
   "outputs": [
    {
     "data": {
      "text/plain": [
       "[0.00014264772447688395,\n",
       " -0.021011528018885173,\n",
       " -1.5530013453436942,\n",
       " -1.7846586302849659,\n",
       " 0.00046110822381617567,\n",
       " 0.0]"
      ]
     },
     "execution_count": 103,
     "metadata": {},
     "output_type": "execute_result"
    }
   ],
   "source": [
    "arm.get_current_joint_values()"
   ]
  },
  {
   "cell_type": "code",
   "execution_count": 55,
   "id": "e360ba57",
   "metadata": {},
   "outputs": [],
   "source": [
    "grasp_floor_pose=[2.37,-1.46,-0.13,-1.41,0.0,0.0]"
   ]
  },
  {
   "cell_type": "code",
   "execution_count": 70,
   "id": "ae4de830",
   "metadata": {},
   "outputs": [
    {
     "data": {
      "text/plain": [
       "[[0.45006927447203227, -0.030403584708604714, 0.024665493518114076],\n",
       " [0.0, 0.0, -0.2670053736507724, 0.9636950401665514]]"
      ]
     },
     "execution_count": 70,
     "metadata": {},
     "output_type": "execute_result"
    }
   ],
   "source": [
    "tf_man.getTF('object_2', 'base_link')"
   ]
  },
  {
   "cell_type": "markdown",
   "id": "c74610ca",
   "metadata": {},
   "source": [
    "# [[0.37157859106720137, 0.0193199118588111, 0.0012356116203591228],\n",
    "Ideal  base link pose wrt object for grasping floor pose"
   ]
  },
  {
   "cell_type": "code",
   "execution_count": 111,
   "id": "dbfc38e4",
   "metadata": {},
   "outputs": [],
   "source": [
    "gripper.open()"
   ]
  },
  {
   "cell_type": "code",
   "execution_count": 104,
   "id": "9108ab2f",
   "metadata": {},
   "outputs": [
    {
     "name": "stdout",
     "output_type": "stream",
     "text": [
      "0.0\n",
      "[INFO] [1709143953.828897]: error: 1.03, -0.54, angle 0.00, target obj frame object_1\n",
      "[INFO] [1709143953.832555]: Pose: 1.33, -0.44, angle 0.00, target obj frame object_1\n",
      "-0.057514580719546515\n",
      "[INFO] [1709143954.038441]: error: 1.05, -0.46, angle -0.06, target obj frame object_1\n",
      "[INFO] [1709143954.042712]: Pose: 1.35, -0.36, angle -0.06, target obj frame object_1\n",
      "-0.20020686510178587\n",
      "[INFO] [1709143954.253001]: error: 1.07, -0.26, angle -0.20, target obj frame object_1\n",
      "[INFO] [1709143954.256504]: Pose: 1.37, -0.16, angle -0.20, target obj frame object_1\n",
      "-0.27267203407605045\n",
      "[INFO] [1709143954.465641]: error: 1.04, -0.15, angle -0.27, target obj frame object_1\n",
      "[INFO] [1709143954.483488]: Pose: 1.34, -0.05, angle -0.27, target obj frame object_1\n",
      "-0.2130500565850162\n",
      "[INFO] [1709143954.691565]: error: 0.98, -0.21, angle -0.21, target obj frame object_1\n",
      "[INFO] [1709143954.699037]: Pose: 1.28, -0.11, angle -0.21, target obj frame object_1\n",
      "-0.15283027540201743\n",
      "[INFO] [1709143954.904489]: error: 0.93, -0.27, angle -0.15, target obj frame object_1\n",
      "[INFO] [1709143954.913040]: Pose: 1.23, -0.17, angle -0.15, target obj frame object_1\n",
      "-0.11914030750214577\n",
      "[INFO] [1709143955.121466]: error: 0.90, -0.31, angle -0.12, target obj frame object_1\n",
      "[INFO] [1709143955.125555]: Pose: 1.20, -0.21, angle -0.12, target obj frame object_1\n",
      "-0.0777313734451921\n",
      "[INFO] [1709143955.329955]: error: 0.85, -0.34, angle -0.08, target obj frame object_1\n",
      "[INFO] [1709143955.334390]: Pose: 1.15, -0.24, angle -0.08, target obj frame object_1\n",
      "-0.06283200957564539\n",
      "[INFO] [1709143955.539389]: error: 0.80, -0.33, angle -0.06, target obj frame object_1\n",
      "[INFO] [1709143955.543294]: Pose: 1.10, -0.23, angle -0.06, target obj frame object_1\n",
      "-0.07949095371004633\n",
      "[INFO] [1709143955.749763]: error: 0.77, -0.30, angle -0.08, target obj frame object_1\n",
      "[INFO] [1709143955.754472]: Pose: 1.07, -0.20, angle -0.08, target obj frame object_1\n",
      "-0.10082771771017951\n",
      "[INFO] [1709143955.959724]: error: 0.74, -0.25, angle -0.10, target obj frame object_1\n",
      "[INFO] [1709143955.964891]: Pose: 1.04, -0.15, angle -0.10, target obj frame object_1\n",
      "-0.10687154858324233\n",
      "[INFO] [1709143956.175157]: error: 0.71, -0.23, angle -0.11, target obj frame object_1\n",
      "[INFO] [1709143956.179389]: Pose: 1.01, -0.13, angle -0.11, target obj frame object_1\n",
      "-0.09393066569237796\n",
      "[INFO] [1709143956.383774]: error: 0.68, -0.23, angle -0.09, target obj frame object_1\n",
      "[INFO] [1709143956.388170]: Pose: 0.98, -0.13, angle -0.09, target obj frame object_1\n",
      "-0.0826207802320047\n",
      "[INFO] [1709143956.594604]: error: 0.66, -0.23, angle -0.08, target obj frame object_1\n",
      "[INFO] [1709143956.598670]: Pose: 0.96, -0.13, angle -0.08, target obj frame object_1\n",
      "-0.08878608021350587\n",
      "[INFO] [1709143956.802605]: error: 0.62, -0.21, angle -0.09, target obj frame object_1\n",
      "[INFO] [1709143956.807472]: Pose: 0.92, -0.11, angle -0.09, target obj frame object_1\n",
      "-0.08955400561201055\n",
      "[INFO] [1709143957.013181]: error: 0.59, -0.20, angle -0.09, target obj frame object_1\n",
      "[INFO] [1709143957.018545]: Pose: 0.89, -0.10, angle -0.09, target obj frame object_1\n",
      "-0.09213217235241888\n",
      "[INFO] [1709143957.222410]: error: 0.57, -0.18, angle -0.09, target obj frame object_1\n",
      "[INFO] [1709143957.227814]: Pose: 0.87, -0.08, angle -0.09, target obj frame object_1\n",
      "-0.09064662685413483\n",
      "[INFO] [1709143957.436477]: error: 0.54, -0.17, angle -0.09, target obj frame object_1\n",
      "[INFO] [1709143957.442445]: Pose: 0.84, -0.07, angle -0.09, target obj frame object_1\n",
      "-0.09081549194980054\n",
      "[INFO] [1709143957.646733]: error: 0.52, -0.16, angle -0.09, target obj frame object_1\n",
      "[INFO] [1709143957.652378]: Pose: 0.82, -0.06, angle -0.09, target obj frame object_1\n",
      "-0.08763815391108976\n",
      "[INFO] [1709143957.858327]: error: 0.49, -0.15, angle -0.09, target obj frame object_1\n",
      "[INFO] [1709143957.862314]: Pose: 0.79, -0.05, angle -0.09, target obj frame object_1\n",
      "-0.090047113686055\n",
      "[INFO] [1709143958.071736]: error: 0.47, -0.14, angle -0.09, target obj frame object_1\n",
      "[INFO] [1709143958.075556]: Pose: 0.77, -0.04, angle -0.09, target obj frame object_1\n",
      "-0.08891660577348448\n",
      "[INFO] [1709143958.279332]: error: 0.45, -0.13, angle -0.09, target obj frame object_1\n",
      "[INFO] [1709143958.283968]: Pose: 0.75, -0.03, angle -0.09, target obj frame object_1\n",
      "-0.0884210285713487\n",
      "[INFO] [1709143958.488451]: error: 0.43, -0.13, angle -0.09, target obj frame object_1\n",
      "[INFO] [1709143958.494377]: Pose: 0.73, -0.03, angle -0.09, target obj frame object_1\n",
      "-0.0881147013276542\n",
      "[INFO] [1709143958.699598]: error: 0.42, -0.12, angle -0.09, target obj frame object_1\n",
      "[INFO] [1709143958.703802]: Pose: 0.72, -0.02, angle -0.09, target obj frame object_1\n",
      "-0.08515285314504739\n",
      "[INFO] [1709143958.908599]: error: 0.40, -0.11, angle -0.09, target obj frame object_1\n",
      "[INFO] [1709143958.912616]: Pose: 0.70, -0.01, angle -0.09, target obj frame object_1\n",
      "-0.08585561520736462\n",
      "[INFO] [1709143959.116406]: error: 0.38, -0.10, angle -0.09, target obj frame object_1\n",
      "[INFO] [1709143959.120874]: Pose: 0.68, -0.00, angle -0.09, target obj frame object_1\n",
      "-0.08670401520619375\n",
      "[INFO] [1709143959.325871]: error: 0.36, -0.10, angle -0.09, target obj frame object_1\n",
      "[INFO] [1709143959.333683]: Pose: 0.66, 0.00, angle -0.09, target obj frame object_1\n",
      "-0.08603762059865394\n",
      "[INFO] [1709143959.538993]: error: 0.35, -0.09, angle -0.09, target obj frame object_1\n",
      "[INFO] [1709143959.543010]: Pose: 0.65, 0.01, angle -0.09, target obj frame object_1\n",
      "-0.08564882167220356\n",
      "[INFO] [1709143959.748557]: error: 0.33, -0.08, angle -0.09, target obj frame object_1\n",
      "[INFO] [1709143959.753873]: Pose: 0.63, 0.02, angle -0.09, target obj frame object_1\n",
      "-0.08631266903279045\n",
      "[INFO] [1709143959.959232]: error: 0.32, -0.08, angle -0.09, target obj frame object_1\n",
      "[INFO] [1709143959.966397]: Pose: 0.62, 0.02, angle -0.09, target obj frame object_1\n",
      "-0.08669493904160497\n",
      "[INFO] [1709143960.173373]: error: 0.31, -0.07, angle -0.09, target obj frame object_1\n",
      "[INFO] [1709143960.177310]: Pose: 0.61, 0.03, angle -0.09, target obj frame object_1\n",
      "-0.08739909291251768\n",
      "[INFO] [1709143960.381803]: error: 0.29, -0.07, angle -0.09, target obj frame object_1\n",
      "[INFO] [1709143960.388184]: Pose: 0.59, 0.03, angle -0.09, target obj frame object_1\n",
      "-0.08817196077651568\n",
      "[INFO] [1709143960.593303]: error: 0.28, -0.06, angle -0.09, target obj frame object_1\n",
      "[INFO] [1709143960.601109]: Pose: 0.58, 0.04, angle -0.09, target obj frame object_1\n",
      "-0.08841542950327863\n",
      "[INFO] [1709143960.805653]: error: 0.27, -0.06, angle -0.09, target obj frame object_1\n",
      "[INFO] [1709143960.812000]: Pose: 0.57, 0.04, angle -0.09, target obj frame object_1\n",
      "-0.08646212253844698\n",
      "[INFO] [1709143961.016109]: error: 0.26, -0.06, angle -0.09, target obj frame object_1\n",
      "[INFO] [1709143961.023371]: Pose: 0.56, 0.04, angle -0.09, target obj frame object_1\n",
      "-0.0842102311997679\n",
      "[INFO] [1709143961.229331]: error: 0.24, -0.06, angle -0.08, target obj frame object_1\n",
      "[INFO] [1709143961.235195]: Pose: 0.54, 0.04, angle -0.08, target obj frame object_1\n",
      "-0.08331141680696819\n",
      "[INFO] [1709143961.439631]: error: 0.23, -0.06, angle -0.08, target obj frame object_1\n",
      "[INFO] [1709143961.444154]: Pose: 0.53, 0.04, angle -0.08, target obj frame object_1\n",
      "-0.08195946366247098\n",
      "[INFO] [1709143961.652943]: error: 0.22, -0.05, angle -0.08, target obj frame object_1\n",
      "[INFO] [1709143961.657268]: Pose: 0.52, 0.05, angle -0.08, target obj frame object_1\n",
      "-0.0810720184142153\n",
      "[INFO] [1709143961.862645]: error: 0.22, -0.05, angle -0.08, target obj frame object_1\n",
      "[INFO] [1709143961.868301]: Pose: 0.52, 0.05, angle -0.08, target obj frame object_1\n",
      "-0.07975818764192155\n",
      "[INFO] [1709143962.074745]: error: 0.21, -0.05, angle -0.08, target obj frame object_1\n",
      "[INFO] [1709143962.084892]: Pose: 0.51, 0.05, angle -0.08, target obj frame object_1\n",
      "-0.08019268940125679\n",
      "[INFO] [1709143962.289464]: error: 0.20, -0.05, angle -0.08, target obj frame object_1\n",
      "[INFO] [1709143962.297805]: Pose: 0.50, 0.05, angle -0.08, target obj frame object_1\n",
      "-0.08093853914362192\n",
      "[INFO] [1709143962.503021]: error: 0.19, -0.05, angle -0.08, target obj frame object_1\n",
      "[INFO] [1709143962.512979]: Pose: 0.49, 0.05, angle -0.08, target obj frame object_1\n",
      "-0.08147935347143331\n",
      "[INFO] [1709143962.719443]: error: 0.18, -0.05, angle -0.08, target obj frame object_1\n",
      "[INFO] [1709143962.723202]: Pose: 0.48, 0.05, angle -0.08, target obj frame object_1\n"
     ]
    },
    {
     "name": "stdout",
     "output_type": "stream",
     "text": [
      "-0.08203354003229135\n",
      "[INFO] [1709143962.932872]: error: 0.17, -0.05, angle -0.08, target obj frame object_1\n",
      "[INFO] [1709143962.939160]: Pose: 0.47, 0.05, angle -0.08, target obj frame object_1\n",
      "-0.08307683257623433\n",
      "[INFO] [1709143963.145452]: error: 0.16, -0.05, angle -0.08, target obj frame object_1\n",
      "[INFO] [1709143963.152908]: Pose: 0.46, 0.05, angle -0.08, target obj frame object_1\n",
      "-0.08303625972737105\n",
      "[INFO] [1709143963.359139]: error: 0.16, -0.05, angle -0.08, target obj frame object_1\n",
      "[INFO] [1709143963.362785]: Pose: 0.46, 0.05, angle -0.08, target obj frame object_1\n",
      "-0.08416451354192844\n",
      "[INFO] [1709143963.567227]: error: 0.15, -0.05, angle -0.08, target obj frame object_1\n",
      "[INFO] [1709143963.574827]: Pose: 0.45, 0.05, angle -0.08, target obj frame object_1\n",
      "-0.08433171158548802\n",
      "[INFO] [1709143963.778816]: error: 0.14, -0.05, angle -0.08, target obj frame object_1\n",
      "[INFO] [1709143963.782878]: Pose: 0.44, 0.05, angle -0.08, target obj frame object_1\n",
      "-0.08321844573357895\n",
      "[INFO] [1709143963.988616]: error: 0.14, -0.05, angle -0.08, target obj frame object_1\n",
      "[INFO] [1709143963.992762]: Pose: 0.44, 0.05, angle -0.08, target obj frame object_1\n",
      "-0.08588191619956254\n",
      "[INFO] [1709143964.201661]: error: 0.13, -0.04, angle -0.09, target obj frame object_1\n",
      "[INFO] [1709143964.207111]: Pose: 0.43, 0.06, angle -0.09, target obj frame object_1\n",
      "-0.08598045967289103\n",
      "[INFO] [1709143964.412421]: error: 0.13, -0.04, angle -0.09, target obj frame object_1\n",
      "[INFO] [1709143964.416671]: Pose: 0.43, 0.06, angle -0.09, target obj frame object_1\n",
      "-0.086927512203125\n",
      "[INFO] [1709143964.620675]: error: 0.12, -0.04, angle -0.09, target obj frame object_1\n",
      "[INFO] [1709143964.625257]: Pose: 0.42, 0.06, angle -0.09, target obj frame object_1\n",
      "-0.08873303264642418\n",
      "[INFO] [1709143964.833599]: error: 0.12, -0.04, angle -0.09, target obj frame object_1\n",
      "[INFO] [1709143964.839637]: Pose: 0.42, 0.06, angle -0.09, target obj frame object_1\n",
      "-0.08918596974195525\n",
      "[INFO] [1709143965.044789]: error: 0.11, -0.04, angle -0.09, target obj frame object_1\n",
      "[INFO] [1709143965.048999]: Pose: 0.41, 0.06, angle -0.09, target obj frame object_1\n",
      "-0.08925700470789888\n",
      "[INFO] [1709143965.253840]: error: 0.11, -0.04, angle -0.09, target obj frame object_1\n",
      "[INFO] [1709143965.258131]: Pose: 0.41, 0.06, angle -0.09, target obj frame object_1\n",
      "-0.09010283944065245\n",
      "[INFO] [1709143965.463500]: error: 0.10, -0.04, angle -0.09, target obj frame object_1\n",
      "[INFO] [1709143965.467477]: Pose: 0.40, 0.06, angle -0.09, target obj frame object_1\n",
      "-0.09042213951039946\n",
      "[INFO] [1709143965.672048]: error: 0.10, -0.04, angle -0.09, target obj frame object_1\n",
      "[INFO] [1709143965.676008]: Pose: 0.40, 0.06, angle -0.09, target obj frame object_1\n",
      "-0.0901381539748245\n",
      "[INFO] [1709143965.879977]: error: 0.09, -0.04, angle -0.09, target obj frame object_1\n",
      "[INFO] [1709143965.883692]: Pose: 0.39, 0.06, angle -0.09, target obj frame object_1\n",
      "-0.08980595961761084\n",
      "[INFO] [1709143966.089647]: error: 0.09, -0.04, angle -0.09, target obj frame object_1\n",
      "[INFO] [1709143966.094480]: Pose: 0.39, 0.06, angle -0.09, target obj frame object_1\n",
      "-0.09009286134620575\n",
      "[INFO] [1709143966.299307]: error: 0.09, -0.04, angle -0.09, target obj frame object_1\n",
      "[INFO] [1709143966.303656]: Pose: 0.39, 0.06, angle -0.09, target obj frame object_1\n",
      "-0.08928333603801297\n",
      "[INFO] [1709143966.508340]: error: 0.08, -0.04, angle -0.09, target obj frame object_1\n",
      "[INFO] [1709143966.512850]: Pose: 0.38, 0.06, angle -0.09, target obj frame object_1\n",
      "-0.08898417737960918\n",
      "[INFO] [1709143966.719234]: error: 0.08, -0.04, angle -0.09, target obj frame object_1\n",
      "[INFO] [1709143966.723187]: Pose: 0.38, 0.06, angle -0.09, target obj frame object_1\n",
      "-0.08904574107162011\n",
      "[INFO] [1709143966.928900]: error: 0.08, -0.04, angle -0.09, target obj frame object_1\n",
      "[INFO] [1709143966.934283]: Pose: 0.38, 0.06, angle -0.09, target obj frame object_1\n",
      "-0.08880678544877796\n",
      "[INFO] [1709143967.139132]: error: 0.07, -0.04, angle -0.09, target obj frame object_1\n",
      "[INFO] [1709143967.142777]: Pose: 0.37, 0.06, angle -0.09, target obj frame object_1\n",
      "-0.0883967624392703\n",
      "[INFO] [1709143967.347861]: error: 0.07, -0.04, angle -0.09, target obj frame object_1\n",
      "[INFO] [1709143967.352478]: Pose: 0.37, 0.06, angle -0.09, target obj frame object_1\n",
      "-0.08897594474713033\n",
      "[INFO] [1709143967.557793]: error: 0.07, -0.04, angle -0.09, target obj frame object_1\n",
      "[INFO] [1709143967.562038]: Pose: 0.37, 0.06, angle -0.09, target obj frame object_1\n",
      "-0.0891926660194775\n",
      "[INFO] [1709143967.769245]: error: 0.06, -0.04, angle -0.09, target obj frame object_1\n",
      "[INFO] [1709143967.775575]: Pose: 0.36, 0.06, angle -0.09, target obj frame object_1\n",
      "-0.08934088037325827\n",
      "[INFO] [1709143967.979171]: error: 0.06, -0.04, angle -0.09, target obj frame object_1\n",
      "[INFO] [1709143967.982642]: Pose: 0.36, 0.06, angle -0.09, target obj frame object_1\n",
      "-0.09000456943606405\n",
      "[INFO] [1709143968.187240]: error: 0.06, -0.04, angle -0.09, target obj frame object_1\n",
      "[INFO] [1709143968.193976]: Pose: 0.36, 0.06, angle -0.09, target obj frame object_1\n",
      "-0.08916103076556015\n",
      "[INFO] [1709143968.401635]: error: 0.05, -0.04, angle -0.09, target obj frame object_1\n",
      "[INFO] [1709143968.405197]: Pose: 0.35, 0.06, angle -0.09, target obj frame object_1\n",
      "-0.08908621180685605\n",
      "[INFO] [1709143968.610281]: error: 0.05, -0.04, angle -0.09, target obj frame object_1\n",
      "[INFO] [1709143968.613737]: Pose: 0.35, 0.06, angle -0.09, target obj frame object_1\n",
      "-0.08946701431294768\n",
      "[INFO] [1709143968.818645]: error: 0.05, -0.04, angle -0.09, target obj frame object_1\n",
      "[INFO] [1709143968.822516]: Pose: 0.35, 0.06, angle -0.09, target obj frame object_1\n",
      "-0.08879902419544816\n",
      "[INFO] [1709143969.028454]: error: 0.05, -0.04, angle -0.09, target obj frame object_1\n",
      "[INFO] [1709143969.036407]: Pose: 0.35, 0.06, angle -0.09, target obj frame object_1\n",
      "-0.08851014130303803\n",
      "[INFO] [1709143969.244334]: error: 0.05, -0.04, angle -0.09, target obj frame object_1\n",
      "[INFO] [1709143969.252423]: Pose: 0.35, 0.06, angle -0.09, target obj frame object_1\n",
      "here\n"
     ]
    }
   ],
   "source": [
    "_,rot= tf_man.getTF(\"base_link\",ref_frame='map')\n",
    "original_rot=tf.transformations.euler_from_quaternion(rot)[2]\n",
    "target_object='object_1'\n",
    "\n",
    "\n",
    "succ = False\n",
    "            \n",
    "while not succ:\n",
    "    \n",
    "    _,rot= tf_man.getTF(\"base_link\",ref_frame='map')\n",
    "    trans,_=tf_man.getTF(target_object,ref_frame=\"base_link\")\n",
    "\n",
    "    trans\n",
    "    eX, eY, eZ = trans\n",
    "    \n",
    "    eX+= -0.3\n",
    "    eY+= -.1\n",
    "    \n",
    "    eT= tf.transformations.euler_from_quaternion(rot)[2] - original_rot #Original \n",
    "    print (eT)\n",
    "    if eT > np.pi: eT=-2*np.pi+eT\n",
    "    if eT < -np.pi: eT= 2*np.pi+eT\n",
    "    rospy.loginfo(\"error: {:.2f}, {:.2f}, angle {:.2f}, target obj frame {}\".format(eX, eY , eT,target_object))\n",
    "    X, Y, Z = trans\n",
    "    rospy.loginfo(\"Pose: {:.2f}, {:.2f}, angle {:.2f}, target obj frame {}\".format(X, Y , eT,target_object))\n",
    "    \n",
    "    if abs(eX) <=0.05 :\n",
    "        print ('here')\n",
    "        eX = 0\n",
    "    if abs(eY) <=0.05  :\n",
    "        eY = 0\n",
    "    if abs(eT   ) < 0.1:\n",
    "        eT = 0\n",
    "    succ =  eX == 0 and eY == 0 and eT==0\n",
    "\n",
    "    \n",
    "    omni_base.tiny_move( velX=0.2*+eX,velY=0.3*eY, velT=-eT,std_time=0.2, MAX_VEL=0.3) \n"
   ]
  },
  {
   "cell_type": "code",
   "execution_count": 108,
   "id": "47ee7f86",
   "metadata": {},
   "outputs": [
    {
     "data": {
      "text/plain": [
       "True"
      ]
     },
     "execution_count": 108,
     "metadata": {},
     "output_type": "execute_result"
    }
   ],
   "source": [
    "floor_pose=[0.0,-1.6,0.0,-1.41,0.0,0.0]\n",
    "arm.set_joint_value_target(floor_pose)\n",
    "arm.go()"
   ]
  },
  {
   "cell_type": "code",
   "execution_count": 106,
   "id": "17e313eb",
   "metadata": {},
   "outputs": [],
   "source": [
    "head.set_named_target('neutral')"
   ]
  },
  {
   "cell_type": "code",
   "execution_count": 107,
   "id": "8d4a2d17",
   "metadata": {},
   "outputs": [
    {
     "data": {
      "text/plain": []
     },
     "execution_count": 107,
     "metadata": {},
     "output_type": "execute_result"
    }
   ],
   "source": [
    "clear_octo_client()"
   ]
  },
  {
   "cell_type": "code",
   "execution_count": 112,
   "id": "b2931e4f",
   "metadata": {},
   "outputs": [],
   "source": [
    "gripper.close(0.04)"
   ]
  },
  {
   "cell_type": "code",
   "execution_count": 113,
   "id": "afc15968",
   "metadata": {},
   "outputs": [
    {
     "data": {
      "text/plain": [
       "True"
      ]
     },
     "execution_count": 113,
     "metadata": {},
     "output_type": "execute_result"
    }
   ],
   "source": [
    "arm.set_named_target('neutral')\n",
    "arm.go()"
   ]
  },
  {
   "cell_type": "code",
   "execution_count": null,
   "id": "fbb294f6",
   "metadata": {},
   "outputs": [],
   "source": []
  }
 ],
 "metadata": {
  "kernelspec": {
   "display_name": "Python 3 (ipykernel)",
   "language": "python",
   "name": "python3"
  },
  "language_info": {
   "codemirror_mode": {
    "name": "ipython",
    "version": 3
   },
   "file_extension": ".py",
   "mimetype": "text/x-python",
   "name": "python",
   "nbconvert_exporter": "python",
   "pygments_lexer": "ipython3",
   "version": "3.8.10"
  }
 },
 "nbformat": 4,
 "nbformat_minor": 5
}

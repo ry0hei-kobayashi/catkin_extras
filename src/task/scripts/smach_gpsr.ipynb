{
 "cells": [
  {
   "cell_type": "code",
   "execution_count": null,
   "id": "2f6e0f86",
   "metadata": {},
   "outputs": [],
   "source": []
  },
  {
   "cell_type": "code",
   "execution_count": 1,
   "id": "a505a009",
   "metadata": {},
   "outputs": [
    {
     "name": "stderr",
     "output_type": "stream",
     "text": [
      "/home/roboworks/.local/lib/python3.8/site-packages/pandas/core/computation/expressions.py:20: UserWarning: Pandas requires version '2.7.3' or newer of 'numexpr' (version '2.7.1' currently installed).\n",
      "  from pandas.core.computation.check import NUMEXPR_INSTALLED\n"
     ]
    }
   ],
   "source": [
    "from smach_utils2 import *\n",
    "import matplotlib.pyplot as plt\n",
    "#arm = moveit_commander.MoveGroupCommander('arm')\n"
   ]
  },
  {
   "cell_type": "code",
   "execution_count": null,
   "id": "64a7e895",
   "metadata": {},
   "outputs": [],
   "source": []
  },
  {
   "cell_type": "code",
   "execution_count": null,
   "id": "5c9da9d4",
   "metadata": {},
   "outputs": [],
   "source": [
    "command_msg.data=\"\"\"Navigate (Counter)\n",
    "PickObject (Cloth)\n",
    "BringObject (Counter -> EndTable, Place Cloth)\n",
    "IdentifyObject (Cloth on EndTable)\"\"\""
   ]
  },
  {
   "cell_type": "code",
   "execution_count": null,
   "id": "b85fd1f1",
   "metadata": {},
   "outputs": [],
   "source": [
    "\"\"\"Navigate (Counter)\n",
    "PickObject (Cloth)\n",
    "BringObject (Counter -> EndTable, Place Cloth)\n",
    "IdentifyObject (Cloth on EndTable)\"\"\""
   ]
  },
  {
   "cell_type": "code",
   "execution_count": null,
   "id": "31e498a8",
   "metadata": {},
   "outputs": [],
   "source": [
    "plan=\"plan = [ Navigate(Desk),FollowPerson(Skyler),Navigate(DiningRoom)]\"\n",
    "\n",
    "plan.split(\"=\")[1].strip(\"[ ]\")\n"
   ]
  },
  {
   "cell_type": "markdown",
   "id": "ea6ecd1c",
   "metadata": {},
   "source": []
  },
  {
   "cell_type": "code",
   "execution_count": null,
   "id": "6cda60d6",
   "metadata": {},
   "outputs": [],
   "source": [
    "command_msg = String()\n",
    "command_msg.data=plan.split(\"=\")[1].strip(\"[ ]\")\n",
    "        #succ = wait_for_push_hand(100) # NOT GAZEBABLE"
   ]
  },
  {
   "cell_type": "code",
   "execution_count": null,
   "id": "2ab9c88b",
   "metadata": {},
   "outputs": [],
   "source": [
    "plan=\"plan = [ Navigate(Desk),FollowPerson(Skyler),Navigate(DiningRoom)]\"\n",
    "command_msg.data=plan.split(\"=\")[1].strip(\"[ ]\")\n",
    "actions=[]\n",
    "params=[]\n",
    "for command in command_msg.data.split(','):\n",
    "    print (command)\n",
    "    action = command.split('(')[0]  # Get the part before '('\n",
    "    param = command.split('(')[1][:-1]  # Get the part inside '()'\n",
    "    \n",
    "    # Append to the respective arrays\n",
    "    actions.append(action)\n",
    "    params.append(param)\n",
    "actions,params"
   ]
  },
  {
   "cell_type": "code",
   "execution_count": null,
   "id": "a4a2acc3",
   "metadata": {},
   "outputs": [],
   "source": [
    "for command in command_msg.data.split(', '):\n",
    "    print(command.split(' ', 1)[0])"
   ]
  },
  {
   "cell_type": "code",
   "execution_count": null,
   "id": "43eb8908",
   "metadata": {},
   "outputs": [],
   "source": [
    "actions=[]\n",
    "params=[]\n",
    "for command in command_msg.data.split(','):\n",
    "    print(command.split(',')[0].split(' ', 1)[0],command.split(',')[0].split(' ', 1)[1].strip('()'))\n",
    "    actions.append(command.split(',')[0].split(' ', 1)[0])\n",
    "    params.append(command.split(',')[0].split(' ', 1)[1].strip('()'))"
   ]
  },
  {
   "cell_type": "code",
   "execution_count": null,
   "id": "c4fde2aa",
   "metadata": {
    "scrolled": true
   },
   "outputs": [],
   "source": [
    "actions.pop(0)\n",
    "print(f'yo{actions}')"
   ]
  },
  {
   "cell_type": "code",
   "execution_count": null,
   "id": "d61c3428",
   "metadata": {},
   "outputs": [],
   "source": [
    "head.set_joint_values([ 0.0, -0.5])\n",
    "rospy.sleep(5.0)                "
   ]
  },
  {
   "cell_type": "code",
   "execution_count": null,
   "id": "3ecf5a4b",
   "metadata": {},
   "outputs": [],
   "source": [
    "head.set_joint_values([ 0.0, -0.5])\n",
    "rospy.sleep(5.0)                        \n",
    "img_msg  = bridge.cv2_to_imgmsg( cv2.cvtColor(rgbd.get_image(), cv2.COLOR_RGB2BGR))### GAZEBO BGR!?!??!\n",
    "req      = classify_client.request_class()\n",
    "req.in_.image_msgs.append(img_msg)        \n",
    "res      = classify_client(req)\n",
    "objects, poses=detect_object_yolo('cloth',res)   "
   ]
  },
  {
   "cell_type": "code",
   "execution_count": null,
   "id": "49f2d98a",
   "metadata": {},
   "outputs": [],
   "source": [
    "head.set_joint_values([ 0.0, -0.5])\n",
    "rospy.sleep(5.0)                \n",
    "find_placing_area()"
   ]
  },
  {
   "cell_type": "code",
   "execution_count": null,
   "id": "71f9a6f0",
   "metadata": {},
   "outputs": [],
   "source": [
    "pos, quat = tf_man.getTF(target_frame = 'placing_area', ref_frame = 'odom')                  \n",
    "\n",
    "line_up_TF('placing_area')\n"
   ]
  },
  {
   "cell_type": "code",
   "execution_count": null,
   "id": "163a8431",
   "metadata": {},
   "outputs": [],
   "source": []
  },
  {
   "cell_type": "code",
   "execution_count": null,
   "id": "9b816344",
   "metadata": {},
   "outputs": [],
   "source": [
    "\n",
    "from action_server.msg import IdentifyPersonAction, IdentifyPersonGoal\n",
    "\n",
    "\n",
    "\n",
    "client = actionlib.SimpleActionClient('identify_person', IdentifyPersonAction)\n",
    "client.wait_for_server()\n",
    "\n"
   ]
  },
  {
   "cell_type": "code",
   "execution_count": null,
   "id": "2d72adbb",
   "metadata": {},
   "outputs": [],
   "source": [
    "goal = IdentifyPersonGoal(command=\"start\")\n",
    "client.send_goal(goal)\n",
    "\n",
    "client.wait_for_result()\n",
    "result = client.get_result()\n",
    "\n",
    "rospy.loginfo(f\"Result: {result.result}, Name: {result.name}, Face Image Path: {result.face_img_path}\")\n"
   ]
  },
  {
   "cell_type": "code",
   "execution_count": null,
   "id": "c9e4213a",
   "metadata": {},
   "outputs": [],
   "source": [
    "result"
   ]
  },
  {
   "cell_type": "code",
   "execution_count": null,
   "id": "94515740",
   "metadata": {},
   "outputs": [],
   "source": [
    "order=wait_for_qr(25)"
   ]
  },
  {
   "cell_type": "code",
   "execution_count": 3,
   "id": "691cdca5",
   "metadata": {},
   "outputs": [
    {
     "name": "stderr",
     "output_type": "stream",
     "text": [
      "\u001b[33m[ WARN] [1735666196.140117493]: Link hand_l_finger_vacuum_frame has visual geometry but no collision geometry. Collision geometry will be left empty. Fix your URDF file by explicitly specifying collision geometry.\u001b[0m\n",
      "\u001b[33m[ WARN] [1735666196.155017193]: Link head_l_stereo_camera_link has visual geometry but no collision geometry. Collision geometry will be left empty. Fix your URDF file by explicitly specifying collision geometry.\u001b[0m\n",
      "\u001b[33m[ WARN] [1735666196.155110748]: Link head_r_stereo_camera_link has visual geometry but no collision geometry. Collision geometry will be left empty. Fix your URDF file by explicitly specifying collision geometry.\u001b[0m\n",
      "\u001b[33m[ WARN] [1735666196.156632876]: Group state 'neutral' doesn't specify all group joints in group 'arm'. wrist_ft_sensor_frame_joint is missing.\u001b[0m\n",
      "\u001b[33m[ WARN] [1735666196.156914334]: Group state 'go' doesn't specify all group joints in group 'arm'. wrist_ft_sensor_frame_joint is missing.\u001b[0m\n",
      "\u001b[33m[ WARN] [1735666196.351938244, 585.479000000]: Kinematics solver doesn't support #attempts anymore, but only a timeout.\n",
      "Please remove the parameter '/robot_description_kinematics/arm/kinematics_solver_attempts' from your configuration.\u001b[0m\n",
      "\u001b[33m[ WARN] [1735666196.438579548, 585.503000000]: IK plugin for group 'whole_body' relies on deprecated API. Please implement initialize(RobotModel, ...).\u001b[0m\n",
      "\u001b[33m[ WARN] [1735666196.469907266, 585.511000000]: IK plugin for group 'whole_body_weighted' relies on deprecated API. Please implement initialize(RobotModel, ...).\u001b[0m\n",
      "\u001b[33m[ WARN] [1735666196.494294394, 585.514000000]: IK plugin for group 'whole_body_light' relies on deprecated API. Please implement initialize(RobotModel, ...).\u001b[0m\n"
     ]
    }
   ],
   "source": [
    "whole_body=moveit_commander.MoveGroupCommander('whole_body')"
   ]
  },
  {
   "cell_type": "code",
   "execution_count": 13,
   "id": "062e60a7",
   "metadata": {},
   "outputs": [
    {
     "data": {
      "text/plain": [
       "0.5526687092225802"
      ]
     },
     "execution_count": 13,
     "metadata": {},
     "output_type": "execute_result"
    },
    {
     "name": "stderr",
     "output_type": "stream",
     "text": [
      "\u001b[33m[ WARN] [1735666472.301637975, 653.328000000]: TF_REPEATED_DATA ignoring data with redundant timestamp for frame odom (parent map) at time 653.356000 according to authority unknown_publisher\u001b[0m\n",
      "\u001b[33m[ WARN] [1735666472.313199535, 653.328000000]: TF_REPEATED_DATA ignoring data with redundant timestamp for frame odom (parent map) at time 653.356000 according to authority /pose_integrator\u001b[0m\n",
      "\u001b[33m[ WARN] [1735666472.313278462, 653.328000000]: TF_REPEATED_DATA ignoring data with redundant timestamp for frame odom (parent map) at time 653.356000 according to authority /pose_integrator\u001b[0m\n",
      "\u001b[33m[ WARN] [1735666472.313322846, 653.328000000]: TF_REPEATED_DATA ignoring data with redundant timestamp for frame odom (parent map) at time 653.356000 according to authority /pose_integrator\u001b[0m\n",
      "\u001b[33m[ WARN] [1735666472.313390396, 653.328000000]: TF_REPEATED_DATA ignoring data with redundant timestamp for frame odom (parent map) at time 653.356000 according to authority /pose_integrator\u001b[0m\n",
      "\u001b[33m[ WARN] [1735666472.313449432, 653.328000000]: TF_REPEATED_DATA ignoring data with redundant timestamp for frame odom (parent map) at time 653.356000 according to authority /pose_integrator\u001b[0m\n",
      "\u001b[33m[ WARN] [1735666472.313492844, 653.328000000]: TF_REPEATED_DATA ignoring data with redundant timestamp for frame odom (parent map) at time 653.356000 according to authority /pose_integrator\u001b[0m\n",
      "\u001b[33m[ WARN] [1735666474.225142315, 653.846000000]: TF_REPEATED_DATA ignoring data with redundant timestamp for frame odom (parent map) at time 653.879000 according to authority unknown_publisher\u001b[0m\n",
      "\u001b[33m[ WARN] [1735666474.230505244, 653.846000000]: TF_REPEATED_DATA ignoring data with redundant timestamp for frame odom (parent map) at time 653.879000 according to authority /pose_integrator\u001b[0m\n",
      "\u001b[33m[ WARN] [1735666474.230569631, 653.846000000]: TF_REPEATED_DATA ignoring data with redundant timestamp for frame odom (parent map) at time 653.879000 according to authority /pose_integrator\u001b[0m\n",
      "\u001b[33m[ WARN] [1735666474.230616390, 653.846000000]: TF_REPEATED_DATA ignoring data with redundant timestamp for frame odom (parent map) at time 653.879000 according to authority /pose_integrator\u001b[0m\n",
      "\u001b[33m[ WARN] [1735666474.230661394, 653.846000000]: TF_REPEATED_DATA ignoring data with redundant timestamp for frame odom (parent map) at time 653.879000 according to authority /pose_integrator\u001b[0m\n",
      "\u001b[33m[ WARN] [1735666474.230720534, 653.846000000]: TF_REPEATED_DATA ignoring data with redundant timestamp for frame odom (parent map) at time 653.879000 according to authority /pose_integrator\u001b[0m\n",
      "\u001b[33m[ WARN] [1735666474.230767662, 653.846000000]: TF_REPEATED_DATA ignoring data with redundant timestamp for frame odom (parent map) at time 653.879000 according to authority /pose_integrator\u001b[0m\n",
      "\u001b[33m[ WARN] [1735666480.998042134, 655.547000000]: TF_REPEATED_DATA ignoring data with redundant timestamp for frame odom (parent map) at time 655.577000 according to authority /pose_integrator\u001b[0m\n",
      "\u001b[33m[ WARN] [1735666480.998128016, 655.547000000]: TF_REPEATED_DATA ignoring data with redundant timestamp for frame odom (parent map) at time 655.577000 according to authority /pose_integrator\u001b[0m\n",
      "\u001b[33m[ WARN] [1735666480.998185426, 655.547000000]: TF_REPEATED_DATA ignoring data with redundant timestamp for frame odom (parent map) at time 655.577000 according to authority /pose_integrator\u001b[0m\n",
      "\u001b[33m[ WARN] [1735666480.998238145, 655.547000000]: TF_REPEATED_DATA ignoring data with redundant timestamp for frame odom (parent map) at time 655.577000 according to authority unknown_publisher\u001b[0m\n",
      "\u001b[33m[ WARN] [1735666480.998340874, 655.547000000]: TF_REPEATED_DATA ignoring data with redundant timestamp for frame odom (parent map) at time 655.577000 according to authority /pose_integrator\u001b[0m\n",
      "\u001b[33m[ WARN] [1735666480.998412032, 655.547000000]: TF_REPEATED_DATA ignoring data with redundant timestamp for frame odom (parent map) at time 655.577000 according to authority /pose_integrator\u001b[0m\n",
      "\u001b[33m[ WARN] [1735666480.998449856, 655.547000000]: TF_REPEATED_DATA ignoring data with redundant timestamp for frame odom (parent map) at time 655.577000 according to authority /pose_integrator\u001b[0m\n",
      "\u001b[33m[ WARN] [1735666482.086390411, 655.851000000]: TF_REPEATED_DATA ignoring data with redundant timestamp for frame odom (parent map) at time 655.850000 according to authority /pose_integrator\u001b[0m\n",
      "\u001b[33m[ WARN] [1735666482.086465395, 655.851000000]: TF_REPEATED_DATA ignoring data with redundant timestamp for frame odom (parent map) at time 655.850000 according to authority /pose_integrator\u001b[0m\n",
      "\u001b[33m[ WARN] [1735666482.086516995, 655.851000000]: TF_REPEATED_DATA ignoring data with redundant timestamp for frame odom (parent map) at time 655.850000 according to authority /pose_integrator\u001b[0m\n",
      "\u001b[33m[ WARN] [1735666482.086570849, 655.851000000]: TF_REPEATED_DATA ignoring data with redundant timestamp for frame odom (parent map) at time 655.850000 according to authority /pose_integrator\u001b[0m\n",
      "\u001b[33m[ WARN] [1735666482.086616036, 655.851000000]: TF_REPEATED_DATA ignoring data with redundant timestamp for frame odom (parent map) at time 655.850000 according to authority /pose_integrator\u001b[0m\n",
      "\u001b[33m[ WARN] [1735666482.086661507, 655.851000000]: TF_REPEATED_DATA ignoring data with redundant timestamp for frame odom (parent map) at time 655.850000 according to authority /pose_integrator\u001b[0m\n",
      "\u001b[33m[ WARN] [1735666482.088724457, 655.851000000]: TF_REPEATED_DATA ignoring data with redundant timestamp for frame odom (parent map) at time 655.850000 according to authority unknown_publisher\u001b[0m\n",
      "\u001b[33m[ WARN] [1735666482.991160785, 656.059000000]: TF_REPEATED_DATA ignoring data with redundant timestamp for frame odom (parent map) at time 656.084000 according to authority unknown_publisher\u001b[0m\n",
      "\u001b[33m[ WARN] [1735666483.023252491, 656.084000000]: TF_REPEATED_DATA ignoring data with redundant timestamp for frame odom (parent map) at time 656.084000 according to authority /pose_integrator\u001b[0m\n",
      "\u001b[33m[ WARN] [1735666483.023333490, 656.084000000]: TF_REPEATED_DATA ignoring data with redundant timestamp for frame odom (parent map) at time 656.084000 according to authority /pose_integrator\u001b[0m\n",
      "\u001b[33m[ WARN] [1735666483.023379959, 656.084000000]: TF_REPEATED_DATA ignoring data with redundant timestamp for frame odom (parent map) at time 656.084000 according to authority /pose_integrator\u001b[0m\n",
      "\u001b[33m[ WARN] [1735666483.023430410, 656.084000000]: TF_REPEATED_DATA ignoring data with redundant timestamp for frame odom (parent map) at time 656.084000 according to authority /pose_integrator\u001b[0m\n",
      "\u001b[33m[ WARN] [1735666483.023471815, 656.084000000]: TF_REPEATED_DATA ignoring data with redundant timestamp for frame odom (parent map) at time 656.084000 according to authority /pose_integrator\u001b[0m\n",
      "\u001b[33m[ WARN] [1735666483.023511892, 656.084000000]: TF_REPEATED_DATA ignoring data with redundant timestamp for frame odom (parent map) at time 656.084000 according to authority /pose_integrator\u001b[0m\n",
      "\u001b[33m[ WARN] [1735666506.836014159, 661.743000000]: TF_REPEATED_DATA ignoring data with redundant timestamp for frame odom (parent map) at time 661.781000 according to authority /pose_integrator\u001b[0m\n",
      "\u001b[33m[ WARN] [1735666506.836097563, 661.743000000]: TF_REPEATED_DATA ignoring data with redundant timestamp for frame odom (parent map) at time 661.781000 according to authority /pose_integrator\u001b[0m\n",
      "\u001b[33m[ WARN] [1735666506.836142644, 661.743000000]: TF_REPEATED_DATA ignoring data with redundant timestamp for frame odom (parent map) at time 661.781000 according to authority /pose_integrator\u001b[0m\n",
      "\u001b[33m[ WARN] [1735666506.836185817, 661.743000000]: TF_REPEATED_DATA ignoring data with redundant timestamp for frame odom (parent map) at time 661.781000 according to authority /pose_integrator\u001b[0m\n",
      "\u001b[33m[ WARN] [1735666506.836227950, 661.743000000]: TF_REPEATED_DATA ignoring data with redundant timestamp for frame odom (parent map) at time 661.781000 according to authority /pose_integrator\u001b[0m\n",
      "\u001b[33m[ WARN] [1735666506.836277519, 661.743000000]: TF_REPEATED_DATA ignoring data with redundant timestamp for frame odom (parent map) at time 661.781000 according to authority /pose_integrator\u001b[0m\n",
      "\u001b[33m[ WARN] [1735666506.836732739, 661.743000000]: TF_REPEATED_DATA ignoring data with redundant timestamp for frame odom (parent map) at time 661.781000 according to authority unknown_publisher\u001b[0m\n"
     ]
    },
    {
     "name": "stderr",
     "output_type": "stream",
     "text": [
      "\u001b[33m[ WARN] [1735666507.649018624, 661.899000000]: TF_REPEATED_DATA ignoring data with redundant timestamp for frame odom (parent map) at time 661.935000 according to authority unknown_publisher\u001b[0m\n",
      "\u001b[33m[ WARN] [1735666507.650002673, 661.899000000]: TF_REPEATED_DATA ignoring data with redundant timestamp for frame odom (parent map) at time 661.935000 according to authority /pose_integrator\u001b[0m\n",
      "\u001b[33m[ WARN] [1735666507.650089913, 661.899000000]: TF_REPEATED_DATA ignoring data with redundant timestamp for frame odom (parent map) at time 661.935000 according to authority /pose_integrator\u001b[0m\n",
      "\u001b[33m[ WARN] [1735666507.650154209, 661.899000000]: TF_REPEATED_DATA ignoring data with redundant timestamp for frame odom (parent map) at time 661.935000 according to authority /pose_integrator\u001b[0m\n",
      "\u001b[33m[ WARN] [1735666507.650222368, 661.899000000]: TF_REPEATED_DATA ignoring data with redundant timestamp for frame odom (parent map) at time 661.935000 according to authority /pose_integrator\u001b[0m\n",
      "\u001b[33m[ WARN] [1735666507.650293174, 661.899000000]: TF_REPEATED_DATA ignoring data with redundant timestamp for frame odom (parent map) at time 661.935000 according to authority /pose_integrator\u001b[0m\n",
      "\u001b[33m[ WARN] [1735666507.650346787, 661.899000000]: TF_REPEATED_DATA ignoring data with redundant timestamp for frame odom (parent map) at time 661.935000 according to authority /pose_integrator\u001b[0m\n",
      "\u001b[33m[ WARN] [1735666507.819297523, 661.935000000]: TF_REPEATED_DATA ignoring data with redundant timestamp for frame odom (parent map) at time 661.977000 according to authority /pose_integrator\u001b[0m\n",
      "\u001b[33m[ WARN] [1735666507.819380317, 661.935000000]: TF_REPEATED_DATA ignoring data with redundant timestamp for frame odom (parent map) at time 661.977000 according to authority /pose_integrator\u001b[0m\n",
      "\u001b[33m[ WARN] [1735666507.819431711, 661.935000000]: TF_REPEATED_DATA ignoring data with redundant timestamp for frame odom (parent map) at time 661.977000 according to authority /pose_integrator\u001b[0m\n",
      "\u001b[33m[ WARN] [1735666507.819479605, 661.935000000]: TF_REPEATED_DATA ignoring data with redundant timestamp for frame odom (parent map) at time 661.977000 according to authority /pose_integrator\u001b[0m\n",
      "\u001b[33m[ WARN] [1735666507.819511399, 661.935000000]: TF_REPEATED_DATA ignoring data with redundant timestamp for frame odom (parent map) at time 661.977000 according to authority /pose_integrator\u001b[0m\n",
      "\u001b[33m[ WARN] [1735666507.819543115, 661.935000000]: TF_REPEATED_DATA ignoring data with redundant timestamp for frame odom (parent map) at time 661.977000 according to authority /pose_integrator\u001b[0m\n",
      "\u001b[33m[ WARN] [1735666507.820042381, 661.935000000]: TF_REPEATED_DATA ignoring data with redundant timestamp for frame odom (parent map) at time 661.977000 according to authority unknown_publisher\u001b[0m\n",
      "\u001b[33m[ WARN] [1735666510.101525013, 662.424000000]: TF_REPEATED_DATA ignoring data with redundant timestamp for frame odom (parent map) at time 662.446000 according to authority /pose_integrator\u001b[0m\n",
      "\u001b[33m[ WARN] [1735666510.101583580, 662.424000000]: TF_REPEATED_DATA ignoring data with redundant timestamp for frame odom (parent map) at time 662.446000 according to authority /pose_integrator\u001b[0m\n",
      "\u001b[33m[ WARN] [1735666510.101616667, 662.424000000]: TF_REPEATED_DATA ignoring data with redundant timestamp for frame odom (parent map) at time 662.446000 according to authority /pose_integrator\u001b[0m\n",
      "\u001b[33m[ WARN] [1735666510.101652151, 662.424000000]: TF_REPEATED_DATA ignoring data with redundant timestamp for frame odom (parent map) at time 662.446000 according to authority /pose_integrator\u001b[0m\n",
      "\u001b[33m[ WARN] [1735666510.101695108, 662.424000000]: TF_REPEATED_DATA ignoring data with redundant timestamp for frame odom (parent map) at time 662.446000 according to authority unknown_publisher\u001b[0m\n",
      "\u001b[33m[ WARN] [1735666510.101753396, 662.424000000]: TF_REPEATED_DATA ignoring data with redundant timestamp for frame odom (parent map) at time 662.446000 according to authority /pose_integrator\u001b[0m\n",
      "\u001b[33m[ WARN] [1735666510.101812047, 662.424000000]: TF_REPEATED_DATA ignoring data with redundant timestamp for frame odom (parent map) at time 662.446000 according to authority /pose_integrator\u001b[0m\n",
      "\u001b[33m[ WARN] [1735666512.325358246, 662.953000000]: TF_REPEATED_DATA ignoring data with redundant timestamp for frame odom (parent map) at time 662.953000 according to authority /pose_integrator\u001b[0m\n",
      "\u001b[33m[ WARN] [1735666512.325468202, 662.953000000]: TF_REPEATED_DATA ignoring data with redundant timestamp for frame odom (parent map) at time 662.953000 according to authority /pose_integrator\u001b[0m\n",
      "\u001b[33m[ WARN] [1735666512.325525692, 662.953000000]: TF_REPEATED_DATA ignoring data with redundant timestamp for frame odom (parent map) at time 662.953000 according to authority /pose_integrator\u001b[0m\n",
      "\u001b[33m[ WARN] [1735666512.325567384, 662.953000000]: TF_REPEATED_DATA ignoring data with redundant timestamp for frame odom (parent map) at time 662.953000 according to authority unknown_publisher\u001b[0m\n",
      "\u001b[33m[ WARN] [1735666512.326499669, 662.953000000]: TF_REPEATED_DATA ignoring data with redundant timestamp for frame odom (parent map) at time 662.953000 according to authority /pose_integrator\u001b[0m\n",
      "\u001b[33m[ WARN] [1735666512.326609863, 662.953000000]: TF_REPEATED_DATA ignoring data with redundant timestamp for frame odom (parent map) at time 662.953000 according to authority /pose_integrator\u001b[0m\n",
      "\u001b[33m[ WARN] [1735666512.326675776, 662.953000000]: TF_REPEATED_DATA ignoring data with redundant timestamp for frame odom (parent map) at time 662.953000 according to authority /pose_integrator\u001b[0m\n",
      "\u001b[33m[ WARN] [1735666513.730212014, 663.277000000]: TF_REPEATED_DATA ignoring data with redundant timestamp for frame odom (parent map) at time 663.313000 according to authority unknown_publisher\u001b[0m\n",
      "\u001b[33m[ WARN] [1735666513.734439753, 663.277000000]: TF_REPEATED_DATA ignoring data with redundant timestamp for frame odom (parent map) at time 663.313000 according to authority /pose_integrator\u001b[0m\n",
      "\u001b[33m[ WARN] [1735666513.734522988, 663.277000000]: TF_REPEATED_DATA ignoring data with redundant timestamp for frame odom (parent map) at time 663.313000 according to authority /pose_integrator\u001b[0m\n",
      "\u001b[33m[ WARN] [1735666513.734564691, 663.277000000]: TF_REPEATED_DATA ignoring data with redundant timestamp for frame odom (parent map) at time 663.313000 according to authority /pose_integrator\u001b[0m\n",
      "\u001b[33m[ WARN] [1735666513.734604761, 663.277000000]: TF_REPEATED_DATA ignoring data with redundant timestamp for frame odom (parent map) at time 663.313000 according to authority /pose_integrator\u001b[0m\n",
      "\u001b[33m[ WARN] [1735666513.734642814, 663.277000000]: TF_REPEATED_DATA ignoring data with redundant timestamp for frame odom (parent map) at time 663.313000 according to authority /pose_integrator\u001b[0m\n",
      "\u001b[33m[ WARN] [1735666513.734680168, 663.277000000]: TF_REPEATED_DATA ignoring data with redundant timestamp for frame odom (parent map) at time 663.313000 according to authority /pose_integrator\u001b[0m\n",
      "\u001b[33m[ WARN] [1735666515.569482595, 663.737000000]: TF_REPEATED_DATA ignoring data with redundant timestamp for frame odom (parent map) at time 663.763000 according to authority unknown_publisher\u001b[0m\n",
      "\u001b[33m[ WARN] [1735666515.570367495, 663.737000000]: TF_REPEATED_DATA ignoring data with redundant timestamp for frame odom (parent map) at time 663.763000 according to authority /pose_integrator\u001b[0m\n",
      "\u001b[33m[ WARN] [1735666515.570461896, 663.737000000]: TF_REPEATED_DATA ignoring data with redundant timestamp for frame odom (parent map) at time 663.763000 according to authority /pose_integrator\u001b[0m\n",
      "\u001b[33m[ WARN] [1735666515.570524666, 663.737000000]: TF_REPEATED_DATA ignoring data with redundant timestamp for frame odom (parent map) at time 663.763000 according to authority /pose_integrator\u001b[0m\n",
      "\u001b[33m[ WARN] [1735666515.570577829, 663.737000000]: TF_REPEATED_DATA ignoring data with redundant timestamp for frame odom (parent map) at time 663.763000 according to authority /pose_integrator\u001b[0m\n",
      "\u001b[33m[ WARN] [1735666515.570631418, 663.737000000]: TF_REPEATED_DATA ignoring data with redundant timestamp for frame odom (parent map) at time 663.763000 according to authority /pose_integrator\u001b[0m\n",
      "\u001b[33m[ WARN] [1735666515.570685507, 663.737000000]: TF_REPEATED_DATA ignoring data with redundant timestamp for frame odom (parent map) at time 663.763000 according to authority /pose_integrator\u001b[0m\n"
     ]
    },
    {
     "name": "stderr",
     "output_type": "stream",
     "text": [
      "\u001b[33m[ WARN] [1735666522.828140675, 665.429000000]: TF_REPEATED_DATA ignoring data with redundant timestamp for frame odom (parent map) at time 665.460000 according to authority unknown_publisher\u001b[0m\n",
      "\u001b[33m[ WARN] [1735666522.832215955, 665.429000000]: TF_REPEATED_DATA ignoring data with redundant timestamp for frame odom (parent map) at time 665.460000 according to authority /pose_integrator\u001b[0m\n",
      "\u001b[33m[ WARN] [1735666522.832294874, 665.429000000]: TF_REPEATED_DATA ignoring data with redundant timestamp for frame odom (parent map) at time 665.460000 according to authority /pose_integrator\u001b[0m\n",
      "\u001b[33m[ WARN] [1735666522.832366773, 665.429000000]: TF_REPEATED_DATA ignoring data with redundant timestamp for frame odom (parent map) at time 665.460000 according to authority /pose_integrator\u001b[0m\n",
      "\u001b[33m[ WARN] [1735666522.832404768, 665.429000000]: TF_REPEATED_DATA ignoring data with redundant timestamp for frame odom (parent map) at time 665.460000 according to authority /pose_integrator\u001b[0m\n",
      "\u001b[33m[ WARN] [1735666522.832445561, 665.429000000]: TF_REPEATED_DATA ignoring data with redundant timestamp for frame odom (parent map) at time 665.460000 according to authority /pose_integrator\u001b[0m\n",
      "\u001b[33m[ WARN] [1735666522.832490211, 665.429000000]: TF_REPEATED_DATA ignoring data with redundant timestamp for frame odom (parent map) at time 665.460000 according to authority /pose_integrator\u001b[0m\n",
      "\u001b[33m[ WARN] [1735666524.442191375, 665.781000000]: TF_REPEATED_DATA ignoring data with redundant timestamp for frame odom (parent map) at time 665.817000 according to authority /pose_integrator\u001b[0m\n",
      "\u001b[33m[ WARN] [1735666524.442278854, 665.781000000]: TF_REPEATED_DATA ignoring data with redundant timestamp for frame odom (parent map) at time 665.817000 according to authority /pose_integrator\u001b[0m\n",
      "\u001b[33m[ WARN] [1735666524.442336623, 665.781000000]: TF_REPEATED_DATA ignoring data with redundant timestamp for frame odom (parent map) at time 665.817000 according to authority /pose_integrator\u001b[0m\n",
      "\u001b[33m[ WARN] [1735666524.442390937, 665.781000000]: TF_REPEATED_DATA ignoring data with redundant timestamp for frame odom (parent map) at time 665.817000 according to authority /pose_integrator\u001b[0m\n",
      "\u001b[33m[ WARN] [1735666524.442450433, 665.781000000]: TF_REPEATED_DATA ignoring data with redundant timestamp for frame odom (parent map) at time 665.817000 according to authority /pose_integrator\u001b[0m\n",
      "\u001b[33m[ WARN] [1735666524.442501907, 665.781000000]: TF_REPEATED_DATA ignoring data with redundant timestamp for frame odom (parent map) at time 665.817000 according to authority /pose_integrator\u001b[0m\n",
      "\u001b[33m[ WARN] [1735666524.442658811, 665.781000000]: TF_REPEATED_DATA ignoring data with redundant timestamp for frame odom (parent map) at time 665.817000 according to authority unknown_publisher\u001b[0m\n",
      "\u001b[33m[ WARN] [1735666525.497559545, 666.057000000]: TF_REPEATED_DATA ignoring data with redundant timestamp for frame odom (parent map) at time 666.105000 according to authority unknown_publisher\u001b[0m\n",
      "\u001b[33m[ WARN] [1735666525.498718035, 666.057000000]: TF_REPEATED_DATA ignoring data with redundant timestamp for frame odom (parent map) at time 666.105000 according to authority /pose_integrator\u001b[0m\n",
      "\u001b[33m[ WARN] [1735666525.498787698, 666.057000000]: TF_REPEATED_DATA ignoring data with redundant timestamp for frame odom (parent map) at time 666.105000 according to authority /pose_integrator\u001b[0m\n",
      "\u001b[33m[ WARN] [1735666525.498826293, 666.057000000]: TF_REPEATED_DATA ignoring data with redundant timestamp for frame odom (parent map) at time 666.105000 according to authority /pose_integrator\u001b[0m\n",
      "\u001b[33m[ WARN] [1735666525.498862531, 666.057000000]: TF_REPEATED_DATA ignoring data with redundant timestamp for frame odom (parent map) at time 666.105000 according to authority /pose_integrator\u001b[0m\n",
      "\u001b[33m[ WARN] [1735666525.498897245, 666.057000000]: TF_REPEATED_DATA ignoring data with redundant timestamp for frame odom (parent map) at time 666.105000 according to authority /pose_integrator\u001b[0m\n",
      "\u001b[33m[ WARN] [1735666525.498953724, 666.057000000]: TF_REPEATED_DATA ignoring data with redundant timestamp for frame odom (parent map) at time 666.105000 according to authority /pose_integrator\u001b[0m\n",
      "\u001b[33m[ WARN] [1735666527.136199452, 666.437000000]: TF_REPEATED_DATA ignoring data with redundant timestamp for frame odom (parent map) at time 666.469000 according to authority /pose_integrator\u001b[0m\n",
      "\u001b[33m[ WARN] [1735666527.136273459, 666.437000000]: TF_REPEATED_DATA ignoring data with redundant timestamp for frame odom (parent map) at time 666.469000 according to authority /pose_integrator\u001b[0m\n",
      "\u001b[33m[ WARN] [1735666527.136318435, 666.437000000]: TF_REPEATED_DATA ignoring data with redundant timestamp for frame odom (parent map) at time 666.469000 according to authority unknown_publisher\u001b[0m\n",
      "\u001b[33m[ WARN] [1735666527.138620955, 666.437000000]: TF_REPEATED_DATA ignoring data with redundant timestamp for frame odom (parent map) at time 666.469000 according to authority /pose_integrator\u001b[0m\n",
      "\u001b[33m[ WARN] [1735666527.138704036, 666.437000000]: TF_REPEATED_DATA ignoring data with redundant timestamp for frame odom (parent map) at time 666.469000 according to authority /pose_integrator\u001b[0m\n",
      "\u001b[33m[ WARN] [1735666527.138755870, 666.437000000]: TF_REPEATED_DATA ignoring data with redundant timestamp for frame odom (parent map) at time 666.469000 according to authority /pose_integrator\u001b[0m\n",
      "\u001b[33m[ WARN] [1735666527.138804896, 666.437000000]: TF_REPEATED_DATA ignoring data with redundant timestamp for frame odom (parent map) at time 666.469000 according to authority /pose_integrator\u001b[0m\n",
      "\u001b[33m[ WARN] [1735666527.858782316, 666.604000000]: TF_REPEATED_DATA ignoring data with redundant timestamp for frame odom (parent map) at time 666.628000 according to authority unknown_publisher\u001b[0m\n",
      "\u001b[33m[ WARN] [1735666527.861329351, 666.604000000]: TF_REPEATED_DATA ignoring data with redundant timestamp for frame odom (parent map) at time 666.628000 according to authority /pose_integrator\u001b[0m\n",
      "\u001b[33m[ WARN] [1735666527.861419187, 666.604000000]: TF_REPEATED_DATA ignoring data with redundant timestamp for frame odom (parent map) at time 666.628000 according to authority /pose_integrator\u001b[0m\n",
      "\u001b[33m[ WARN] [1735666527.861489784, 666.604000000]: TF_REPEATED_DATA ignoring data with redundant timestamp for frame odom (parent map) at time 666.628000 according to authority /pose_integrator\u001b[0m\n",
      "\u001b[33m[ WARN] [1735666527.861550961, 666.604000000]: TF_REPEATED_DATA ignoring data with redundant timestamp for frame odom (parent map) at time 666.628000 according to authority /pose_integrator\u001b[0m\n",
      "\u001b[33m[ WARN] [1735666527.861611521, 666.604000000]: TF_REPEATED_DATA ignoring data with redundant timestamp for frame odom (parent map) at time 666.628000 according to authority /pose_integrator\u001b[0m\n",
      "\u001b[33m[ WARN] [1735666527.861672460, 666.604000000]: TF_REPEATED_DATA ignoring data with redundant timestamp for frame odom (parent map) at time 666.628000 according to authority /pose_integrator\u001b[0m\n",
      "\u001b[33m[ WARN] [1735666528.465939454, 666.758000000]: TF_REPEATED_DATA ignoring data with redundant timestamp for frame odom (parent map) at time 666.788000 according to authority unknown_publisher\u001b[0m\n",
      "\u001b[33m[ WARN] [1735666528.466651036, 666.758000000]: TF_REPEATED_DATA ignoring data with redundant timestamp for frame odom (parent map) at time 666.788000 according to authority /pose_integrator\u001b[0m\n",
      "\u001b[33m[ WARN] [1735666528.466731811, 666.758000000]: TF_REPEATED_DATA ignoring data with redundant timestamp for frame odom (parent map) at time 666.788000 according to authority /pose_integrator\u001b[0m\n",
      "\u001b[33m[ WARN] [1735666528.466782479, 666.758000000]: TF_REPEATED_DATA ignoring data with redundant timestamp for frame odom (parent map) at time 666.788000 according to authority /pose_integrator\u001b[0m\n",
      "\u001b[33m[ WARN] [1735666528.466830531, 666.758000000]: TF_REPEATED_DATA ignoring data with redundant timestamp for frame odom (parent map) at time 666.788000 according to authority /pose_integrator\u001b[0m\n",
      "\u001b[33m[ WARN] [1735666528.466880315, 666.758000000]: TF_REPEATED_DATA ignoring data with redundant timestamp for frame odom (parent map) at time 666.788000 according to authority /pose_integrator\u001b[0m\n",
      "\u001b[33m[ WARN] [1735666528.466927540, 666.758000000]: TF_REPEATED_DATA ignoring data with redundant timestamp for frame odom (parent map) at time 666.788000 according to authority /pose_integrator\u001b[0m\n"
     ]
    },
    {
     "name": "stderr",
     "output_type": "stream",
     "text": [
      "\u001b[33m[ WARN] [1735666528.961446695, 666.859000000]: TF_REPEATED_DATA ignoring data with redundant timestamp for frame odom (parent map) at time 666.901000 according to authority unknown_publisher\u001b[0m\n",
      "\u001b[33m[ WARN] [1735666528.963175930, 666.859000000]: TF_REPEATED_DATA ignoring data with redundant timestamp for frame odom (parent map) at time 666.901000 according to authority /pose_integrator\u001b[0m\n",
      "\u001b[33m[ WARN] [1735666528.963251762, 666.859000000]: TF_REPEATED_DATA ignoring data with redundant timestamp for frame odom (parent map) at time 666.901000 according to authority /pose_integrator\u001b[0m\n",
      "\u001b[33m[ WARN] [1735666528.963306527, 666.859000000]: TF_REPEATED_DATA ignoring data with redundant timestamp for frame odom (parent map) at time 666.901000 according to authority /pose_integrator\u001b[0m\n",
      "\u001b[33m[ WARN] [1735666528.963357020, 666.859000000]: TF_REPEATED_DATA ignoring data with redundant timestamp for frame odom (parent map) at time 666.901000 according to authority /pose_integrator\u001b[0m\n",
      "\u001b[33m[ WARN] [1735666528.963405020, 666.859000000]: TF_REPEATED_DATA ignoring data with redundant timestamp for frame odom (parent map) at time 666.901000 according to authority /pose_integrator\u001b[0m\n",
      "\u001b[33m[ WARN] [1735666528.963444329, 666.859000000]: TF_REPEATED_DATA ignoring data with redundant timestamp for frame odom (parent map) at time 666.901000 according to authority /pose_integrator\u001b[0m\n",
      "\u001b[33m[ WARN] [1735666529.329916006, 666.950000000]: TF_REPEATED_DATA ignoring data with redundant timestamp for frame odom (parent map) at time 666.987000 according to authority /pose_integrator\u001b[0m\n",
      "\u001b[33m[ WARN] [1735666529.330004796, 666.950000000]: TF_REPEATED_DATA ignoring data with redundant timestamp for frame odom (parent map) at time 666.987000 according to authority /pose_integrator\u001b[0m\n",
      "\u001b[33m[ WARN] [1735666529.330068639, 666.950000000]: TF_REPEATED_DATA ignoring data with redundant timestamp for frame odom (parent map) at time 666.987000 according to authority /pose_integrator\u001b[0m\n",
      "\u001b[33m[ WARN] [1735666529.330120060, 666.950000000]: TF_REPEATED_DATA ignoring data with redundant timestamp for frame odom (parent map) at time 666.987000 according to authority /pose_integrator\u001b[0m\n",
      "\u001b[33m[ WARN] [1735666529.330182211, 666.950000000]: TF_REPEATED_DATA ignoring data with redundant timestamp for frame odom (parent map) at time 666.987000 according to authority /pose_integrator\u001b[0m\n",
      "\u001b[33m[ WARN] [1735666529.330231059, 666.950000000]: TF_REPEATED_DATA ignoring data with redundant timestamp for frame odom (parent map) at time 666.987000 according to authority /pose_integrator\u001b[0m\n",
      "\u001b[33m[ WARN] [1735666529.330498573, 666.950000000]: TF_REPEATED_DATA ignoring data with redundant timestamp for frame odom (parent map) at time 666.987000 according to authority unknown_publisher\u001b[0m\n",
      "\u001b[33m[ WARN] [1735666532.546677043, 667.654000000]: TF_REPEATED_DATA ignoring data with redundant timestamp for frame odom (parent map) at time 667.682000 according to authority unknown_publisher\u001b[0m\n",
      "\u001b[33m[ WARN] [1735666532.546988822, 667.654000000]: TF_REPEATED_DATA ignoring data with redundant timestamp for frame odom (parent map) at time 667.682000 according to authority /pose_integrator\u001b[0m\n",
      "\u001b[33m[ WARN] [1735666532.547064680, 667.654000000]: TF_REPEATED_DATA ignoring data with redundant timestamp for frame odom (parent map) at time 667.682000 according to authority /pose_integrator\u001b[0m\n",
      "\u001b[33m[ WARN] [1735666532.547112996, 667.654000000]: TF_REPEATED_DATA ignoring data with redundant timestamp for frame odom (parent map) at time 667.682000 according to authority /pose_integrator\u001b[0m\n",
      "\u001b[33m[ WARN] [1735666532.547171331, 667.654000000]: TF_REPEATED_DATA ignoring data with redundant timestamp for frame odom (parent map) at time 667.682000 according to authority /pose_integrator\u001b[0m\n",
      "\u001b[33m[ WARN] [1735666532.547222223, 667.654000000]: TF_REPEATED_DATA ignoring data with redundant timestamp for frame odom (parent map) at time 667.682000 according to authority /pose_integrator\u001b[0m\n",
      "\u001b[33m[ WARN] [1735666532.547271996, 667.654000000]: TF_REPEATED_DATA ignoring data with redundant timestamp for frame odom (parent map) at time 667.682000 according to authority /pose_integrator\u001b[0m\n",
      "\u001b[33m[ WARN] [1735666533.485710596, 667.890000000]: TF_REPEATED_DATA ignoring data with redundant timestamp for frame odom (parent map) at time 667.938000 according to authority unknown_publisher\u001b[0m\n",
      "\u001b[33m[ WARN] [1735666533.486451318, 667.890000000]: TF_REPEATED_DATA ignoring data with redundant timestamp for frame odom (parent map) at time 667.938000 according to authority /pose_integrator\u001b[0m\n",
      "\u001b[33m[ WARN] [1735666533.486528540, 667.890000000]: TF_REPEATED_DATA ignoring data with redundant timestamp for frame odom (parent map) at time 667.938000 according to authority /pose_integrator\u001b[0m\n",
      "\u001b[33m[ WARN] [1735666533.486573674, 667.890000000]: TF_REPEATED_DATA ignoring data with redundant timestamp for frame odom (parent map) at time 667.938000 according to authority /pose_integrator\u001b[0m\n",
      "\u001b[33m[ WARN] [1735666533.486626396, 667.890000000]: TF_REPEATED_DATA ignoring data with redundant timestamp for frame odom (parent map) at time 667.938000 according to authority /pose_integrator\u001b[0m\n",
      "\u001b[33m[ WARN] [1735666533.486666464, 667.890000000]: TF_REPEATED_DATA ignoring data with redundant timestamp for frame odom (parent map) at time 667.938000 according to authority /pose_integrator\u001b[0m\n",
      "\u001b[33m[ WARN] [1735666533.486703470, 667.890000000]: TF_REPEATED_DATA ignoring data with redundant timestamp for frame odom (parent map) at time 667.938000 according to authority /pose_integrator\u001b[0m\n",
      "\u001b[33m[ WARN] [1735666533.722581432, 667.967000000]: TF_REPEATED_DATA ignoring data with redundant timestamp for frame odom (parent map) at time 668.008000 according to authority unknown_publisher\u001b[0m\n",
      "\u001b[33m[ WARN] [1735666533.722950383, 667.967000000]: TF_REPEATED_DATA ignoring data with redundant timestamp for frame odom (parent map) at time 668.008000 according to authority /pose_integrator\u001b[0m\n",
      "\u001b[33m[ WARN] [1735666533.723023526, 667.967000000]: TF_REPEATED_DATA ignoring data with redundant timestamp for frame odom (parent map) at time 668.008000 according to authority /pose_integrator\u001b[0m\n",
      "\u001b[33m[ WARN] [1735666533.723086849, 667.967000000]: TF_REPEATED_DATA ignoring data with redundant timestamp for frame odom (parent map) at time 668.008000 according to authority /pose_integrator\u001b[0m\n",
      "\u001b[33m[ WARN] [1735666533.723140535, 667.967000000]: TF_REPEATED_DATA ignoring data with redundant timestamp for frame odom (parent map) at time 668.008000 according to authority /pose_integrator\u001b[0m\n",
      "\u001b[33m[ WARN] [1735666533.723199631, 667.967000000]: TF_REPEATED_DATA ignoring data with redundant timestamp for frame odom (parent map) at time 668.008000 according to authority /pose_integrator\u001b[0m\n",
      "\u001b[33m[ WARN] [1735666533.723261963, 667.967000000]: TF_REPEATED_DATA ignoring data with redundant timestamp for frame odom (parent map) at time 668.008000 according to authority /pose_integrator\u001b[0m\n",
      "\u001b[33m[ WARN] [1735666534.591846815, 668.168000000]: TF_REPEATED_DATA ignoring data with redundant timestamp for frame odom (parent map) at time 668.208000 according to authority /pose_integrator\u001b[0m\n",
      "\u001b[33m[ WARN] [1735666534.591917928, 668.168000000]: TF_REPEATED_DATA ignoring data with redundant timestamp for frame odom (parent map) at time 668.208000 according to authority /pose_integrator\u001b[0m\n",
      "\u001b[33m[ WARN] [1735666534.591972718, 668.168000000]: TF_REPEATED_DATA ignoring data with redundant timestamp for frame odom (parent map) at time 668.208000 according to authority /pose_integrator\u001b[0m\n",
      "\u001b[33m[ WARN] [1735666534.592022558, 668.168000000]: TF_REPEATED_DATA ignoring data with redundant timestamp for frame odom (parent map) at time 668.208000 according to authority /pose_integrator\u001b[0m\n",
      "\u001b[33m[ WARN] [1735666534.592069238, 668.168000000]: TF_REPEATED_DATA ignoring data with redundant timestamp for frame odom (parent map) at time 668.208000 according to authority /pose_integrator\u001b[0m\n",
      "\u001b[33m[ WARN] [1735666534.592113343, 668.168000000]: TF_REPEATED_DATA ignoring data with redundant timestamp for frame odom (parent map) at time 668.208000 according to authority /pose_integrator\u001b[0m\n",
      "\u001b[33m[ WARN] [1735666534.592374056, 668.168000000]: TF_REPEATED_DATA ignoring data with redundant timestamp for frame odom (parent map) at time 668.208000 according to authority unknown_publisher\u001b[0m\n"
     ]
    },
    {
     "name": "stderr",
     "output_type": "stream",
     "text": [
      "\u001b[33m[ WARN] [1735666535.396740471, 668.325000000]: TF_REPEATED_DATA ignoring data with redundant timestamp for frame odom (parent map) at time 668.353000 according to authority /pose_integrator\u001b[0m\n",
      "\u001b[33m[ WARN] [1735666535.396812838, 668.325000000]: TF_REPEATED_DATA ignoring data with redundant timestamp for frame odom (parent map) at time 668.353000 according to authority /pose_integrator\u001b[0m\n",
      "\u001b[33m[ WARN] [1735666535.396856991, 668.325000000]: TF_REPEATED_DATA ignoring data with redundant timestamp for frame odom (parent map) at time 668.353000 according to authority /pose_integrator\u001b[0m\n",
      "\u001b[33m[ WARN] [1735666535.396900082, 668.325000000]: TF_REPEATED_DATA ignoring data with redundant timestamp for frame odom (parent map) at time 668.353000 according to authority unknown_publisher\u001b[0m\n",
      "\u001b[33m[ WARN] [1735666535.397184066, 668.325000000]: TF_REPEATED_DATA ignoring data with redundant timestamp for frame odom (parent map) at time 668.353000 according to authority /pose_integrator\u001b[0m\n",
      "\u001b[33m[ WARN] [1735666535.397244387, 668.325000000]: TF_REPEATED_DATA ignoring data with redundant timestamp for frame odom (parent map) at time 668.353000 according to authority /pose_integrator\u001b[0m\n",
      "\u001b[33m[ WARN] [1735666535.397282056, 668.325000000]: TF_REPEATED_DATA ignoring data with redundant timestamp for frame odom (parent map) at time 668.353000 according to authority /pose_integrator\u001b[0m\n",
      "\u001b[33m[ WARN] [1735666536.618464541, 668.588000000]: TF_REPEATED_DATA ignoring data with redundant timestamp for frame odom (parent map) at time 668.608000 according to authority unknown_publisher\u001b[0m\n",
      "\u001b[33m[ WARN] [1735666536.619099162, 668.588000000]: TF_REPEATED_DATA ignoring data with redundant timestamp for frame odom (parent map) at time 668.608000 according to authority /pose_integrator\u001b[0m\n",
      "\u001b[33m[ WARN] [1735666536.619176418, 668.588000000]: TF_REPEATED_DATA ignoring data with redundant timestamp for frame odom (parent map) at time 668.608000 according to authority /pose_integrator\u001b[0m\n",
      "\u001b[33m[ WARN] [1735666536.619226332, 668.588000000]: TF_REPEATED_DATA ignoring data with redundant timestamp for frame odom (parent map) at time 668.608000 according to authority /pose_integrator\u001b[0m\n",
      "\u001b[33m[ WARN] [1735666536.619265116, 668.588000000]: TF_REPEATED_DATA ignoring data with redundant timestamp for frame odom (parent map) at time 668.608000 according to authority /pose_integrator\u001b[0m\n",
      "\u001b[33m[ WARN] [1735666536.619304998, 668.588000000]: TF_REPEATED_DATA ignoring data with redundant timestamp for frame odom (parent map) at time 668.608000 according to authority /pose_integrator\u001b[0m\n",
      "\u001b[33m[ WARN] [1735666536.619339804, 668.588000000]: TF_REPEATED_DATA ignoring data with redundant timestamp for frame odom (parent map) at time 668.608000 according to authority /pose_integrator\u001b[0m\n",
      "\u001b[33m[ WARN] [1735666540.734710012, 669.663000000]: TF_REPEATED_DATA ignoring data with redundant timestamp for frame odom (parent map) at time 669.663000 according to authority unknown_publisher\u001b[0m\n",
      "\u001b[33m[ WARN] [1735666540.739299430, 669.663000000]: TF_REPEATED_DATA ignoring data with redundant timestamp for frame odom (parent map) at time 669.663000 according to authority /pose_integrator\u001b[0m\n",
      "\u001b[33m[ WARN] [1735666540.739372602, 669.663000000]: TF_REPEATED_DATA ignoring data with redundant timestamp for frame odom (parent map) at time 669.663000 according to authority /pose_integrator\u001b[0m\n",
      "\u001b[33m[ WARN] [1735666540.739423143, 669.663000000]: TF_REPEATED_DATA ignoring data with redundant timestamp for frame odom (parent map) at time 669.663000 according to authority /pose_integrator\u001b[0m\n",
      "\u001b[33m[ WARN] [1735666540.739478369, 669.663000000]: TF_REPEATED_DATA ignoring data with redundant timestamp for frame odom (parent map) at time 669.663000 according to authority /pose_integrator\u001b[0m\n",
      "\u001b[33m[ WARN] [1735666540.739533335, 669.663000000]: TF_REPEATED_DATA ignoring data with redundant timestamp for frame odom (parent map) at time 669.663000 according to authority /pose_integrator\u001b[0m\n",
      "\u001b[33m[ WARN] [1735666540.739610031, 669.663000000]: TF_REPEATED_DATA ignoring data with redundant timestamp for frame odom (parent map) at time 669.663000 according to authority /pose_integrator\u001b[0m\n",
      "\u001b[33m[ WARN] [1735666544.869251116, 670.664000000]: TF_REPEATED_DATA ignoring data with redundant timestamp for frame odom (parent map) at time 670.700000 according to authority /pose_integrator\u001b[0m\n",
      "\u001b[33m[ WARN] [1735666544.869317696, 670.664000000]: TF_REPEATED_DATA ignoring data with redundant timestamp for frame odom (parent map) at time 670.700000 according to authority /pose_integrator\u001b[0m\n",
      "\u001b[33m[ WARN] [1735666544.869355231, 670.664000000]: TF_REPEATED_DATA ignoring data with redundant timestamp for frame odom (parent map) at time 670.700000 according to authority /pose_integrator\u001b[0m\n",
      "\u001b[33m[ WARN] [1735666544.869399083, 670.664000000]: TF_REPEATED_DATA ignoring data with redundant timestamp for frame odom (parent map) at time 670.700000 according to authority /pose_integrator\u001b[0m\n",
      "\u001b[33m[ WARN] [1735666544.869442382, 670.664000000]: TF_REPEATED_DATA ignoring data with redundant timestamp for frame odom (parent map) at time 670.700000 according to authority /pose_integrator\u001b[0m\n",
      "\u001b[33m[ WARN] [1735666544.869485424, 670.664000000]: TF_REPEATED_DATA ignoring data with redundant timestamp for frame odom (parent map) at time 670.700000 according to authority /pose_integrator\u001b[0m\n",
      "\u001b[33m[ WARN] [1735666544.869637599, 670.664000000]: TF_REPEATED_DATA ignoring data with redundant timestamp for frame odom (parent map) at time 670.700000 according to authority unknown_publisher\u001b[0m\n",
      "\u001b[33m[ WARN] [1735666545.134430912, 670.736000000]: TF_REPEATED_DATA ignoring data with redundant timestamp for frame odom (parent map) at time 670.786000 according to authority unknown_publisher\u001b[0m\n",
      "\u001b[33m[ WARN] [1735666545.135394004, 670.736000000]: TF_REPEATED_DATA ignoring data with redundant timestamp for frame odom (parent map) at time 670.786000 according to authority /pose_integrator\u001b[0m\n",
      "\u001b[33m[ WARN] [1735666545.135470873, 670.736000000]: TF_REPEATED_DATA ignoring data with redundant timestamp for frame odom (parent map) at time 670.786000 according to authority /pose_integrator\u001b[0m\n",
      "\u001b[33m[ WARN] [1735666545.135510437, 670.736000000]: TF_REPEATED_DATA ignoring data with redundant timestamp for frame odom (parent map) at time 670.786000 according to authority /pose_integrator\u001b[0m\n",
      "\u001b[33m[ WARN] [1735666545.136311320, 670.736000000]: TF_REPEATED_DATA ignoring data with redundant timestamp for frame odom (parent map) at time 670.786000 according to authority /pose_integrator\u001b[0m\n",
      "\u001b[33m[ WARN] [1735666545.136377348, 670.736000000]: TF_REPEATED_DATA ignoring data with redundant timestamp for frame odom (parent map) at time 670.786000 according to authority /pose_integrator\u001b[0m\n",
      "\u001b[33m[ WARN] [1735666545.136431851, 670.736000000]: TF_REPEATED_DATA ignoring data with redundant timestamp for frame odom (parent map) at time 670.786000 according to authority /pose_integrator\u001b[0m\n",
      "\u001b[33m[ WARN] [1735666546.497467188, 671.116000000]: TF_REPEATED_DATA ignoring data with redundant timestamp for frame odom (parent map) at time 671.145000 according to authority unknown_publisher\u001b[0m\n",
      "\u001b[33m[ WARN] [1735666546.497633230, 671.116000000]: TF_REPEATED_DATA ignoring data with redundant timestamp for frame odom (parent map) at time 671.145000 according to authority /pose_integrator\u001b[0m\n",
      "\u001b[33m[ WARN] [1735666546.497691804, 671.116000000]: TF_REPEATED_DATA ignoring data with redundant timestamp for frame odom (parent map) at time 671.145000 according to authority /pose_integrator\u001b[0m\n",
      "\u001b[33m[ WARN] [1735666546.497734489, 671.116000000]: TF_REPEATED_DATA ignoring data with redundant timestamp for frame odom (parent map) at time 671.145000 according to authority /pose_integrator\u001b[0m\n",
      "\u001b[33m[ WARN] [1735666546.497775159, 671.116000000]: TF_REPEATED_DATA ignoring data with redundant timestamp for frame odom (parent map) at time 671.145000 according to authority /pose_integrator\u001b[0m\n",
      "\u001b[33m[ WARN] [1735666546.497826735, 671.116000000]: TF_REPEATED_DATA ignoring data with redundant timestamp for frame odom (parent map) at time 671.145000 according to authority /pose_integrator\u001b[0m\n",
      "\u001b[33m[ WARN] [1735666546.497887431, 671.116000000]: TF_REPEATED_DATA ignoring data with redundant timestamp for frame odom (parent map) at time 671.145000 according to authority /pose_integrator\u001b[0m\n"
     ]
    },
    {
     "name": "stderr",
     "output_type": "stream",
     "text": [
      "\u001b[33m[ WARN] [1735666564.530968877, 675.267000000]: TF_REPEATED_DATA ignoring data with redundant timestamp for frame odom (parent map) at time 675.290000 according to authority /pose_integrator\u001b[0m\n",
      "\u001b[33m[ WARN] [1735666564.531043478, 675.267000000]: TF_REPEATED_DATA ignoring data with redundant timestamp for frame odom (parent map) at time 675.290000 according to authority /pose_integrator\u001b[0m\n",
      "\u001b[33m[ WARN] [1735666564.531087538, 675.267000000]: TF_REPEATED_DATA ignoring data with redundant timestamp for frame odom (parent map) at time 675.290000 according to authority /pose_integrator\u001b[0m\n",
      "\u001b[33m[ WARN] [1735666564.531127802, 675.267000000]: TF_REPEATED_DATA ignoring data with redundant timestamp for frame odom (parent map) at time 675.290000 according to authority unknown_publisher\u001b[0m\n",
      "\u001b[33m[ WARN] [1735666564.532040739, 675.267000000]: TF_REPEATED_DATA ignoring data with redundant timestamp for frame odom (parent map) at time 675.290000 according to authority /pose_integrator\u001b[0m\n",
      "\u001b[33m[ WARN] [1735666564.532118630, 675.267000000]: TF_REPEATED_DATA ignoring data with redundant timestamp for frame odom (parent map) at time 675.290000 according to authority /pose_integrator\u001b[0m\n",
      "\u001b[33m[ WARN] [1735666564.532176285, 675.267000000]: TF_REPEATED_DATA ignoring data with redundant timestamp for frame odom (parent map) at time 675.290000 according to authority /pose_integrator\u001b[0m\n",
      "\u001b[33m[ WARN] [1735666585.809043162, 680.461000000]: TF_REPEATED_DATA ignoring data with redundant timestamp for frame odom (parent map) at time 680.485000 according to authority /pose_integrator\u001b[0m\n",
      "\u001b[33m[ WARN] [1735666585.809138759, 680.461000000]: TF_REPEATED_DATA ignoring data with redundant timestamp for frame odom (parent map) at time 680.485000 according to authority /pose_integrator\u001b[0m\n",
      "\u001b[33m[ WARN] [1735666585.809188829, 680.461000000]: TF_REPEATED_DATA ignoring data with redundant timestamp for frame odom (parent map) at time 680.485000 according to authority /pose_integrator\u001b[0m\n",
      "\u001b[33m[ WARN] [1735666585.809243787, 680.461000000]: TF_REPEATED_DATA ignoring data with redundant timestamp for frame odom (parent map) at time 680.485000 according to authority /pose_integrator\u001b[0m\n",
      "\u001b[33m[ WARN] [1735666585.809294708, 680.461000000]: TF_REPEATED_DATA ignoring data with redundant timestamp for frame odom (parent map) at time 680.485000 according to authority /pose_integrator\u001b[0m\n",
      "\u001b[33m[ WARN] [1735666585.809349016, 680.461000000]: TF_REPEATED_DATA ignoring data with redundant timestamp for frame odom (parent map) at time 680.485000 according to authority /pose_integrator\u001b[0m\n",
      "\u001b[33m[ WARN] [1735666585.810054819, 680.461000000]: TF_REPEATED_DATA ignoring data with redundant timestamp for frame odom (parent map) at time 680.485000 according to authority unknown_publisher\u001b[0m\n",
      "\u001b[33m[ WARN] [1735666595.291508822, 682.313000000]: TF_REPEATED_DATA ignoring data with redundant timestamp for frame odom (parent map) at time 682.335000 according to authority /pose_integrator\u001b[0m\n",
      "\u001b[33m[ WARN] [1735666595.291587833, 682.313000000]: TF_REPEATED_DATA ignoring data with redundant timestamp for frame odom (parent map) at time 682.335000 according to authority unknown_publisher\u001b[0m\n",
      "\u001b[33m[ WARN] [1735666595.291635711, 682.313000000]: TF_REPEATED_DATA ignoring data with redundant timestamp for frame odom (parent map) at time 682.335000 according to authority /pose_integrator\u001b[0m\n",
      "\u001b[33m[ WARN] [1735666595.291712808, 682.313000000]: TF_REPEATED_DATA ignoring data with redundant timestamp for frame odom (parent map) at time 682.335000 according to authority /pose_integrator\u001b[0m\n",
      "\u001b[33m[ WARN] [1735666595.291766265, 682.313000000]: TF_REPEATED_DATA ignoring data with redundant timestamp for frame odom (parent map) at time 682.335000 according to authority /pose_integrator\u001b[0m\n",
      "\u001b[33m[ WARN] [1735666595.291827125, 682.313000000]: TF_REPEATED_DATA ignoring data with redundant timestamp for frame odom (parent map) at time 682.335000 according to authority /pose_integrator\u001b[0m\n",
      "\u001b[33m[ WARN] [1735666595.291878417, 682.313000000]: TF_REPEATED_DATA ignoring data with redundant timestamp for frame odom (parent map) at time 682.335000 according to authority /pose_integrator\u001b[0m\n",
      "\u001b[33m[ WARN] [1735666597.217843326, 682.652000000]: TF_REPEATED_DATA ignoring data with redundant timestamp for frame odom (parent map) at time 682.678000 according to authority unknown_publisher\u001b[0m\n",
      "\u001b[33m[ WARN] [1735666597.219195751, 682.652000000]: TF_REPEATED_DATA ignoring data with redundant timestamp for frame odom (parent map) at time 682.678000 according to authority /pose_integrator\u001b[0m\n",
      "\u001b[33m[ WARN] [1735666597.219266262, 682.652000000]: TF_REPEATED_DATA ignoring data with redundant timestamp for frame odom (parent map) at time 682.678000 according to authority /pose_integrator\u001b[0m\n",
      "\u001b[33m[ WARN] [1735666597.219313726, 682.652000000]: TF_REPEATED_DATA ignoring data with redundant timestamp for frame odom (parent map) at time 682.678000 according to authority /pose_integrator\u001b[0m\n",
      "\u001b[33m[ WARN] [1735666597.219359537, 682.652000000]: TF_REPEATED_DATA ignoring data with redundant timestamp for frame odom (parent map) at time 682.678000 according to authority /pose_integrator\u001b[0m\n",
      "\u001b[33m[ WARN] [1735666597.219409556, 682.652000000]: TF_REPEATED_DATA ignoring data with redundant timestamp for frame odom (parent map) at time 682.678000 according to authority /pose_integrator\u001b[0m\n",
      "\u001b[33m[ WARN] [1735666597.219456009, 682.652000000]: TF_REPEATED_DATA ignoring data with redundant timestamp for frame odom (parent map) at time 682.678000 according to authority /pose_integrator\u001b[0m\n",
      "\u001b[33m[ WARN] [1735666597.538884819, 682.714000000]: TF_REPEATED_DATA ignoring data with redundant timestamp for frame odom (parent map) at time 682.747000 according to authority unknown_publisher\u001b[0m\n",
      "\u001b[33m[ WARN] [1735666597.539512068, 682.714000000]: TF_REPEATED_DATA ignoring data with redundant timestamp for frame odom (parent map) at time 682.747000 according to authority /pose_integrator\u001b[0m\n",
      "\u001b[33m[ WARN] [1735666597.539592835, 682.714000000]: TF_REPEATED_DATA ignoring data with redundant timestamp for frame odom (parent map) at time 682.747000 according to authority /pose_integrator\u001b[0m\n",
      "\u001b[33m[ WARN] [1735666597.539629191, 682.714000000]: TF_REPEATED_DATA ignoring data with redundant timestamp for frame odom (parent map) at time 682.747000 according to authority /pose_integrator\u001b[0m\n",
      "\u001b[33m[ WARN] [1735666597.539658533, 682.714000000]: TF_REPEATED_DATA ignoring data with redundant timestamp for frame odom (parent map) at time 682.747000 according to authority /pose_integrator\u001b[0m\n",
      "\u001b[33m[ WARN] [1735666597.539685054, 682.714000000]: TF_REPEATED_DATA ignoring data with redundant timestamp for frame odom (parent map) at time 682.747000 according to authority /pose_integrator\u001b[0m\n",
      "\u001b[33m[ WARN] [1735666597.539741122, 682.714000000]: TF_REPEATED_DATA ignoring data with redundant timestamp for frame odom (parent map) at time 682.747000 according to authority /pose_integrator\u001b[0m\n",
      "\u001b[33m[ WARN] [1735666598.491432405, 682.870000000]: TF_REPEATED_DATA ignoring data with redundant timestamp for frame odom (parent map) at time 682.914000 according to authority /pose_integrator\u001b[0m\n",
      "\u001b[33m[ WARN] [1735666598.491505983, 682.870000000]: TF_REPEATED_DATA ignoring data with redundant timestamp for frame odom (parent map) at time 682.914000 according to authority /pose_integrator\u001b[0m\n",
      "\u001b[33m[ WARN] [1735666598.491571416, 682.870000000]: TF_REPEATED_DATA ignoring data with redundant timestamp for frame odom (parent map) at time 682.914000 according to authority /pose_integrator\u001b[0m\n",
      "\u001b[33m[ WARN] [1735666598.491625363, 682.870000000]: TF_REPEATED_DATA ignoring data with redundant timestamp for frame odom (parent map) at time 682.914000 according to authority /pose_integrator\u001b[0m\n",
      "\u001b[33m[ WARN] [1735666598.491670302, 682.870000000]: TF_REPEATED_DATA ignoring data with redundant timestamp for frame odom (parent map) at time 682.914000 according to authority /pose_integrator\u001b[0m\n",
      "\u001b[33m[ WARN] [1735666598.491721087, 682.870000000]: TF_REPEATED_DATA ignoring data with redundant timestamp for frame odom (parent map) at time 682.914000 according to authority /pose_integrator\u001b[0m\n",
      "\u001b[33m[ WARN] [1735666598.492336064, 682.870000000]: TF_REPEATED_DATA ignoring data with redundant timestamp for frame odom (parent map) at time 682.914000 according to authority unknown_publisher\u001b[0m\n"
     ]
    },
    {
     "name": "stderr",
     "output_type": "stream",
     "text": [
      "\u001b[33m[ WARN] [1735666602.634021681, 683.600000000]: TF_REPEATED_DATA ignoring data with redundant timestamp for frame odom (parent map) at time 683.633000 according to authority unknown_publisher\u001b[0m\n",
      "\u001b[33m[ WARN] [1735666602.635445106, 683.600000000]: TF_REPEATED_DATA ignoring data with redundant timestamp for frame odom (parent map) at time 683.633000 according to authority /pose_integrator\u001b[0m\n",
      "\u001b[33m[ WARN] [1735666602.635506378, 683.600000000]: TF_REPEATED_DATA ignoring data with redundant timestamp for frame odom (parent map) at time 683.633000 according to authority /pose_integrator\u001b[0m\n",
      "\u001b[33m[ WARN] [1735666602.638337034, 683.600000000]: TF_REPEATED_DATA ignoring data with redundant timestamp for frame odom (parent map) at time 683.633000 according to authority /pose_integrator\u001b[0m\n",
      "\u001b[33m[ WARN] [1735666602.638490703, 683.600000000]: TF_REPEATED_DATA ignoring data with redundant timestamp for frame odom (parent map) at time 683.633000 according to authority /pose_integrator\u001b[0m\n",
      "\u001b[33m[ WARN] [1735666602.638568390, 683.600000000]: TF_REPEATED_DATA ignoring data with redundant timestamp for frame odom (parent map) at time 683.633000 according to authority /pose_integrator\u001b[0m\n",
      "\u001b[33m[ WARN] [1735666602.638642884, 683.600000000]: TF_REPEATED_DATA ignoring data with redundant timestamp for frame odom (parent map) at time 683.633000 according to authority /pose_integrator\u001b[0m\n",
      "\u001b[33m[ WARN] [1735666609.199107644, 684.949000000]: TF_REPEATED_DATA ignoring data with redundant timestamp for frame odom (parent map) at time 684.985000 according to authority unknown_publisher\u001b[0m\n",
      "\u001b[33m[ WARN] [1735666609.199177157, 684.949000000]: TF_REPEATED_DATA ignoring data with redundant timestamp for frame odom (parent map) at time 684.985000 according to authority /pose_integrator\u001b[0m\n",
      "\u001b[33m[ WARN] [1735666609.199241701, 684.949000000]: TF_REPEATED_DATA ignoring data with redundant timestamp for frame odom (parent map) at time 684.985000 according to authority /pose_integrator\u001b[0m\n",
      "\u001b[33m[ WARN] [1735666609.199299463, 684.949000000]: TF_REPEATED_DATA ignoring data with redundant timestamp for frame odom (parent map) at time 684.985000 according to authority /pose_integrator\u001b[0m\n",
      "\u001b[33m[ WARN] [1735666609.199351241, 684.949000000]: TF_REPEATED_DATA ignoring data with redundant timestamp for frame odom (parent map) at time 684.985000 according to authority /pose_integrator\u001b[0m\n",
      "\u001b[33m[ WARN] [1735666609.199406161, 684.949000000]: TF_REPEATED_DATA ignoring data with redundant timestamp for frame odom (parent map) at time 684.985000 according to authority /pose_integrator\u001b[0m\n",
      "\u001b[33m[ WARN] [1735666609.199454102, 684.949000000]: TF_REPEATED_DATA ignoring data with redundant timestamp for frame odom (parent map) at time 684.985000 according to authority /pose_integrator\u001b[0m\n",
      "\u001b[33m[ WARN] [1735666610.468387954, 685.232000000]: TF_REPEATED_DATA ignoring data with redundant timestamp for frame odom (parent map) at time 685.266000 according to authority unknown_publisher\u001b[0m\n",
      "\u001b[33m[ WARN] [1735666610.469944815, 685.232000000]: TF_REPEATED_DATA ignoring data with redundant timestamp for frame odom (parent map) at time 685.266000 according to authority /pose_integrator\u001b[0m\n",
      "\u001b[33m[ WARN] [1735666610.470014552, 685.232000000]: TF_REPEATED_DATA ignoring data with redundant timestamp for frame odom (parent map) at time 685.266000 according to authority /pose_integrator\u001b[0m\n",
      "\u001b[33m[ WARN] [1735666610.470065997, 685.232000000]: TF_REPEATED_DATA ignoring data with redundant timestamp for frame odom (parent map) at time 685.266000 according to authority /pose_integrator\u001b[0m\n",
      "\u001b[33m[ WARN] [1735666610.470122970, 685.232000000]: TF_REPEATED_DATA ignoring data with redundant timestamp for frame odom (parent map) at time 685.266000 according to authority /pose_integrator\u001b[0m\n",
      "\u001b[33m[ WARN] [1735666610.470168181, 685.232000000]: TF_REPEATED_DATA ignoring data with redundant timestamp for frame odom (parent map) at time 685.266000 according to authority /pose_integrator\u001b[0m\n",
      "\u001b[33m[ WARN] [1735666610.470219809, 685.232000000]: TF_REPEATED_DATA ignoring data with redundant timestamp for frame odom (parent map) at time 685.266000 according to authority /pose_integrator\u001b[0m\n",
      "\u001b[33m[ WARN] [1735666613.943200581, 686.173000000]: TF_REPEATED_DATA ignoring data with redundant timestamp for frame odom (parent map) at time 686.199000 according to authority unknown_publisher\u001b[0m\n",
      "\u001b[33m[ WARN] [1735666613.948949459, 686.199000000]: TF_REPEATED_DATA ignoring data with redundant timestamp for frame odom (parent map) at time 686.199000 according to authority /pose_integrator\u001b[0m\n",
      "\u001b[33m[ WARN] [1735666613.949016394, 686.199000000]: TF_REPEATED_DATA ignoring data with redundant timestamp for frame odom (parent map) at time 686.199000 according to authority /pose_integrator\u001b[0m\n",
      "\u001b[33m[ WARN] [1735666613.949071175, 686.199000000]: TF_REPEATED_DATA ignoring data with redundant timestamp for frame odom (parent map) at time 686.199000 according to authority /pose_integrator\u001b[0m\n",
      "\u001b[33m[ WARN] [1735666613.949110534, 686.199000000]: TF_REPEATED_DATA ignoring data with redundant timestamp for frame odom (parent map) at time 686.199000 according to authority /pose_integrator\u001b[0m\n",
      "\u001b[33m[ WARN] [1735666613.949144942, 686.199000000]: TF_REPEATED_DATA ignoring data with redundant timestamp for frame odom (parent map) at time 686.199000 according to authority /pose_integrator\u001b[0m\n",
      "\u001b[33m[ WARN] [1735666613.949208990, 686.199000000]: TF_REPEATED_DATA ignoring data with redundant timestamp for frame odom (parent map) at time 686.199000 according to authority /pose_integrator\u001b[0m\n",
      "\u001b[33m[ WARN] [1735666630.933382196, 690.391000000]: TF_REPEATED_DATA ignoring data with redundant timestamp for frame odom (parent map) at time 690.426000 according to authority unknown_publisher\u001b[0m\n",
      "\u001b[33m[ WARN] [1735666630.933439644, 690.391000000]: TF_REPEATED_DATA ignoring data with redundant timestamp for frame odom (parent map) at time 690.426000 according to authority /pose_integrator\u001b[0m\n",
      "\u001b[33m[ WARN] [1735666630.933509662, 690.391000000]: TF_REPEATED_DATA ignoring data with redundant timestamp for frame odom (parent map) at time 690.426000 according to authority /pose_integrator\u001b[0m\n",
      "\u001b[33m[ WARN] [1735666630.933560163, 690.391000000]: TF_REPEATED_DATA ignoring data with redundant timestamp for frame odom (parent map) at time 690.426000 according to authority /pose_integrator\u001b[0m\n",
      "\u001b[33m[ WARN] [1735666630.933622392, 690.391000000]: TF_REPEATED_DATA ignoring data with redundant timestamp for frame odom (parent map) at time 690.426000 according to authority /pose_integrator\u001b[0m\n",
      "\u001b[33m[ WARN] [1735666630.933679207, 690.391000000]: TF_REPEATED_DATA ignoring data with redundant timestamp for frame odom (parent map) at time 690.426000 according to authority /pose_integrator\u001b[0m\n",
      "\u001b[33m[ WARN] [1735666630.933736663, 690.391000000]: TF_REPEATED_DATA ignoring data with redundant timestamp for frame odom (parent map) at time 690.426000 according to authority /pose_integrator\u001b[0m\n",
      "\u001b[33m[ WARN] [1735666638.050447126, 692.068000000]: TF_REPEATED_DATA ignoring data with redundant timestamp for frame odom (parent map) at time 692.102000 according to authority unknown_publisher\u001b[0m\n",
      "\u001b[33m[ WARN] [1735666638.050792835, 692.068000000]: TF_REPEATED_DATA ignoring data with redundant timestamp for frame odom (parent map) at time 692.102000 according to authority /pose_integrator\u001b[0m\n",
      "\u001b[33m[ WARN] [1735666638.050884338, 692.068000000]: TF_REPEATED_DATA ignoring data with redundant timestamp for frame odom (parent map) at time 692.102000 according to authority /pose_integrator\u001b[0m\n",
      "\u001b[33m[ WARN] [1735666638.050943424, 692.068000000]: TF_REPEATED_DATA ignoring data with redundant timestamp for frame odom (parent map) at time 692.102000 according to authority /pose_integrator\u001b[0m\n",
      "\u001b[33m[ WARN] [1735666638.051001854, 692.068000000]: TF_REPEATED_DATA ignoring data with redundant timestamp for frame odom (parent map) at time 692.102000 according to authority /pose_integrator\u001b[0m\n",
      "\u001b[33m[ WARN] [1735666638.051048740, 692.068000000]: TF_REPEATED_DATA ignoring data with redundant timestamp for frame odom (parent map) at time 692.102000 according to authority /pose_integrator\u001b[0m\n",
      "\u001b[33m[ WARN] [1735666638.051082726, 692.068000000]: TF_REPEATED_DATA ignoring data with redundant timestamp for frame odom (parent map) at time 692.102000 according to authority /pose_integrator\u001b[0m\n"
     ]
    }
   ],
   "source": [
    "pose = whole_body.get_current_pose()\n",
    "pose.pose.position.z"
   ]
  },
  {
   "cell_type": "code",
   "execution_count": 12,
   "id": "ef7169e8",
   "metadata": {},
   "outputs": [
    {
     "data": {
      "text/plain": [
       "header: \n",
       "  seq: 0\n",
       "  stamp: \n",
       "    secs: 634\n",
       "    nsecs: 446000000\n",
       "  frame_id: \"odom\"\n",
       "pose: \n",
       "  position: \n",
       "    x: 5.092179107005586\n",
       "    y: -0.5500788674900357\n",
       "    z: 0.38544770441007575\n",
       "  orientation: \n",
       "    x: -0.6421259453992437\n",
       "    y: 0.7613380540744273\n",
       "    z: -0.0017990329155235913\n",
       "    w: 0.08964039906125261"
      ]
     },
     "execution_count": 12,
     "metadata": {},
     "output_type": "execute_result"
    },
    {
     "name": "stderr",
     "output_type": "stream",
     "text": [
      "\u001b[33m[ WARN] [1735666420.242276728, 640.511000000]: TF_REPEATED_DATA ignoring data with redundant timestamp for frame odom (parent map) at time 640.527000 according to authority /pose_integrator\u001b[0m\n",
      "\u001b[33m[ WARN] [1735666420.242351392, 640.511000000]: TF_REPEATED_DATA ignoring data with redundant timestamp for frame odom (parent map) at time 640.527000 according to authority /pose_integrator\u001b[0m\n",
      "\u001b[33m[ WARN] [1735666420.242399899, 640.511000000]: TF_REPEATED_DATA ignoring data with redundant timestamp for frame odom (parent map) at time 640.527000 according to authority /pose_integrator\u001b[0m\n",
      "\u001b[33m[ WARN] [1735666420.242445899, 640.511000000]: TF_REPEATED_DATA ignoring data with redundant timestamp for frame odom (parent map) at time 640.527000 according to authority /pose_integrator\u001b[0m\n",
      "\u001b[33m[ WARN] [1735666420.242488330, 640.511000000]: TF_REPEATED_DATA ignoring data with redundant timestamp for frame odom (parent map) at time 640.527000 according to authority /pose_integrator\u001b[0m\n",
      "\u001b[33m[ WARN] [1735666420.242531162, 640.511000000]: TF_REPEATED_DATA ignoring data with redundant timestamp for frame odom (parent map) at time 640.527000 according to authority /pose_integrator\u001b[0m\n",
      "\u001b[33m[ WARN] [1735666420.242996142, 640.511000000]: TF_REPEATED_DATA ignoring data with redundant timestamp for frame odom (parent map) at time 640.527000 according to authority unknown_publisher\u001b[0m\n",
      "\u001b[33m[ WARN] [1735666421.054113776, 640.739000000]: TF_REPEATED_DATA ignoring data with redundant timestamp for frame odom (parent map) at time 640.771000 according to authority /pose_integrator\u001b[0m\n",
      "\u001b[33m[ WARN] [1735666421.054204733, 640.739000000]: TF_REPEATED_DATA ignoring data with redundant timestamp for frame odom (parent map) at time 640.771000 according to authority /pose_integrator\u001b[0m\n",
      "\u001b[33m[ WARN] [1735666421.054287879, 640.739000000]: TF_REPEATED_DATA ignoring data with redundant timestamp for frame odom (parent map) at time 640.771000 according to authority /pose_integrator\u001b[0m\n",
      "\u001b[33m[ WARN] [1735666421.054351840, 640.739000000]: TF_REPEATED_DATA ignoring data with redundant timestamp for frame odom (parent map) at time 640.771000 according to authority unknown_publisher\u001b[0m\n",
      "\u001b[33m[ WARN] [1735666421.054543179, 640.739000000]: TF_REPEATED_DATA ignoring data with redundant timestamp for frame odom (parent map) at time 640.771000 according to authority /pose_integrator\u001b[0m\n",
      "\u001b[33m[ WARN] [1735666421.054623822, 640.739000000]: TF_REPEATED_DATA ignoring data with redundant timestamp for frame odom (parent map) at time 640.771000 according to authority /pose_integrator\u001b[0m\n",
      "\u001b[33m[ WARN] [1735666421.054687832, 640.739000000]: TF_REPEATED_DATA ignoring data with redundant timestamp for frame odom (parent map) at time 640.771000 according to authority /pose_integrator\u001b[0m\n",
      "\u001b[33m[ WARN] [1735666428.698867548, 642.737000000]: TF_REPEATED_DATA ignoring data with redundant timestamp for frame odom (parent map) at time 642.771000 according to authority /pose_integrator\u001b[0m\n",
      "\u001b[33m[ WARN] [1735666428.698945599, 642.737000000]: TF_REPEATED_DATA ignoring data with redundant timestamp for frame odom (parent map) at time 642.771000 according to authority /pose_integrator\u001b[0m\n",
      "\u001b[33m[ WARN] [1735666428.699000495, 642.737000000]: TF_REPEATED_DATA ignoring data with redundant timestamp for frame odom (parent map) at time 642.771000 according to authority /pose_integrator\u001b[0m\n",
      "\u001b[33m[ WARN] [1735666428.699057683, 642.737000000]: TF_REPEATED_DATA ignoring data with redundant timestamp for frame odom (parent map) at time 642.771000 according to authority /pose_integrator\u001b[0m\n",
      "\u001b[33m[ WARN] [1735666428.699113989, 642.737000000]: TF_REPEATED_DATA ignoring data with redundant timestamp for frame odom (parent map) at time 642.771000 according to authority /pose_integrator\u001b[0m\n",
      "\u001b[33m[ WARN] [1735666428.699162773, 642.737000000]: TF_REPEATED_DATA ignoring data with redundant timestamp for frame odom (parent map) at time 642.771000 according to authority /pose_integrator\u001b[0m\n",
      "\u001b[33m[ WARN] [1735666428.699538019, 642.737000000]: TF_REPEATED_DATA ignoring data with redundant timestamp for frame odom (parent map) at time 642.771000 according to authority unknown_publisher\u001b[0m\n",
      "\u001b[33m[ WARN] [1735666431.056878639, 643.384000000]: TF_REPEATED_DATA ignoring data with redundant timestamp for frame odom (parent map) at time 643.412000 according to authority unknown_publisher\u001b[0m\n",
      "\u001b[33m[ WARN] [1735666431.059769430, 643.384000000]: TF_REPEATED_DATA ignoring data with redundant timestamp for frame odom (parent map) at time 643.412000 according to authority /pose_integrator\u001b[0m\n",
      "\u001b[33m[ WARN] [1735666431.060023499, 643.384000000]: TF_REPEATED_DATA ignoring data with redundant timestamp for frame odom (parent map) at time 643.412000 according to authority /pose_integrator\u001b[0m\n",
      "\u001b[33m[ WARN] [1735666431.060088719, 643.384000000]: TF_REPEATED_DATA ignoring data with redundant timestamp for frame odom (parent map) at time 643.412000 according to authority /pose_integrator\u001b[0m\n",
      "\u001b[33m[ WARN] [1735666431.060143631, 643.384000000]: TF_REPEATED_DATA ignoring data with redundant timestamp for frame odom (parent map) at time 643.412000 according to authority /pose_integrator\u001b[0m\n",
      "\u001b[33m[ WARN] [1735666431.060210193, 643.384000000]: TF_REPEATED_DATA ignoring data with redundant timestamp for frame odom (parent map) at time 643.412000 according to authority /pose_integrator\u001b[0m\n",
      "\u001b[33m[ WARN] [1735666431.060265531, 643.384000000]: TF_REPEATED_DATA ignoring data with redundant timestamp for frame odom (parent map) at time 643.412000 according to authority /pose_integrator\u001b[0m\n",
      "\u001b[33m[ WARN] [1735666431.272143916, 643.457000000]: TF_REPEATED_DATA ignoring data with redundant timestamp for frame odom (parent map) at time 643.495000 according to authority unknown_publisher\u001b[0m\n",
      "\u001b[33m[ WARN] [1735666431.276099500, 643.495000000]: TF_REPEATED_DATA ignoring data with redundant timestamp for frame odom (parent map) at time 643.495000 according to authority /pose_integrator\u001b[0m\n",
      "\u001b[33m[ WARN] [1735666431.276185236, 643.495000000]: TF_REPEATED_DATA ignoring data with redundant timestamp for frame odom (parent map) at time 643.495000 according to authority /pose_integrator\u001b[0m\n",
      "\u001b[33m[ WARN] [1735666431.276285079, 643.495000000]: TF_REPEATED_DATA ignoring data with redundant timestamp for frame odom (parent map) at time 643.495000 according to authority /pose_integrator\u001b[0m\n",
      "\u001b[33m[ WARN] [1735666431.276347000, 643.495000000]: TF_REPEATED_DATA ignoring data with redundant timestamp for frame odom (parent map) at time 643.495000 according to authority /pose_integrator\u001b[0m\n",
      "\u001b[33m[ WARN] [1735666431.276402234, 643.495000000]: TF_REPEATED_DATA ignoring data with redundant timestamp for frame odom (parent map) at time 643.495000 according to authority /pose_integrator\u001b[0m\n",
      "\u001b[33m[ WARN] [1735666431.276474612, 643.495000000]: TF_REPEATED_DATA ignoring data with redundant timestamp for frame odom (parent map) at time 643.495000 according to authority /pose_integrator\u001b[0m\n",
      "\u001b[33m[ WARN] [1735666433.195690861, 643.947000000]: TF_REPEATED_DATA ignoring data with redundant timestamp for frame odom (parent map) at time 643.967000 according to authority unknown_publisher\u001b[0m\n",
      "\u001b[33m[ WARN] [1735666433.206999387, 643.967000000]: TF_REPEATED_DATA ignoring data with redundant timestamp for frame odom (parent map) at time 643.967000 according to authority /pose_integrator\u001b[0m\n",
      "\u001b[33m[ WARN] [1735666433.207062556, 643.967000000]: TF_REPEATED_DATA ignoring data with redundant timestamp for frame odom (parent map) at time 643.967000 according to authority /pose_integrator\u001b[0m\n",
      "\u001b[33m[ WARN] [1735666433.207098007, 643.967000000]: TF_REPEATED_DATA ignoring data with redundant timestamp for frame odom (parent map) at time 643.967000 according to authority /pose_integrator\u001b[0m\n",
      "\u001b[33m[ WARN] [1735666433.207130397, 643.967000000]: TF_REPEATED_DATA ignoring data with redundant timestamp for frame odom (parent map) at time 643.967000 according to authority /pose_integrator\u001b[0m\n",
      "\u001b[33m[ WARN] [1735666433.207162947, 643.967000000]: TF_REPEATED_DATA ignoring data with redundant timestamp for frame odom (parent map) at time 643.967000 according to authority /pose_integrator\u001b[0m\n",
      "\u001b[33m[ WARN] [1735666433.207195547, 643.967000000]: TF_REPEATED_DATA ignoring data with redundant timestamp for frame odom (parent map) at time 643.967000 according to authority /pose_integrator\u001b[0m\n"
     ]
    },
    {
     "name": "stderr",
     "output_type": "stream",
     "text": [
      "\u001b[33m[ WARN] [1735666447.135541500, 647.418000000]: TF_REPEATED_DATA ignoring data with redundant timestamp for frame odom (parent map) at time 647.451000 according to authority unknown_publisher\u001b[0m\n",
      "\u001b[33m[ WARN] [1735666447.136030976, 647.418000000]: TF_REPEATED_DATA ignoring data with redundant timestamp for frame odom (parent map) at time 647.451000 according to authority /pose_integrator\u001b[0m\n",
      "\u001b[33m[ WARN] [1735666447.136098205, 647.418000000]: TF_REPEATED_DATA ignoring data with redundant timestamp for frame odom (parent map) at time 647.451000 according to authority /pose_integrator\u001b[0m\n",
      "\u001b[33m[ WARN] [1735666447.136146845, 647.418000000]: TF_REPEATED_DATA ignoring data with redundant timestamp for frame odom (parent map) at time 647.451000 according to authority /pose_integrator\u001b[0m\n",
      "\u001b[33m[ WARN] [1735666447.136192945, 647.418000000]: TF_REPEATED_DATA ignoring data with redundant timestamp for frame odom (parent map) at time 647.451000 according to authority /pose_integrator\u001b[0m\n",
      "\u001b[33m[ WARN] [1735666447.136254754, 647.418000000]: TF_REPEATED_DATA ignoring data with redundant timestamp for frame odom (parent map) at time 647.451000 according to authority /pose_integrator\u001b[0m\n",
      "\u001b[33m[ WARN] [1735666447.136314799, 647.418000000]: TF_REPEATED_DATA ignoring data with redundant timestamp for frame odom (parent map) at time 647.451000 according to authority /pose_integrator\u001b[0m\n",
      "\u001b[33m[ WARN] [1735666454.556766218, 649.022000000]: TF_REPEATED_DATA ignoring data with redundant timestamp for frame odom (parent map) at time 649.037000 according to authority /pose_integrator\u001b[0m\n",
      "\u001b[33m[ WARN] [1735666454.556843040, 649.022000000]: TF_REPEATED_DATA ignoring data with redundant timestamp for frame odom (parent map) at time 649.037000 according to authority /pose_integrator\u001b[0m\n",
      "\u001b[33m[ WARN] [1735666454.556887090, 649.022000000]: TF_REPEATED_DATA ignoring data with redundant timestamp for frame odom (parent map) at time 649.037000 according to authority /pose_integrator\u001b[0m\n",
      "\u001b[33m[ WARN] [1735666454.556937671, 649.022000000]: TF_REPEATED_DATA ignoring data with redundant timestamp for frame odom (parent map) at time 649.037000 according to authority /pose_integrator\u001b[0m\n",
      "\u001b[33m[ WARN] [1735666454.556988595, 649.022000000]: TF_REPEATED_DATA ignoring data with redundant timestamp for frame odom (parent map) at time 649.037000 according to authority /pose_integrator\u001b[0m\n",
      "\u001b[33m[ WARN] [1735666454.557044701, 649.022000000]: TF_REPEATED_DATA ignoring data with redundant timestamp for frame odom (parent map) at time 649.037000 according to authority /pose_integrator\u001b[0m\n",
      "\u001b[33m[ WARN] [1735666454.557185296, 649.022000000]: TF_REPEATED_DATA ignoring data with redundant timestamp for frame odom (parent map) at time 649.037000 according to authority unknown_publisher\u001b[0m\n",
      "\u001b[33m[ WARN] [1735666456.849074642, 649.521000000]: TF_REPEATED_DATA ignoring data with redundant timestamp for frame odom (parent map) at time 649.521000 according to authority unknown_publisher\u001b[0m\n",
      "\u001b[33m[ WARN] [1735666456.849938938, 649.521000000]: TF_REPEATED_DATA ignoring data with redundant timestamp for frame odom (parent map) at time 649.521000 according to authority /pose_integrator\u001b[0m\n",
      "\u001b[33m[ WARN] [1735666456.850009344, 649.521000000]: TF_REPEATED_DATA ignoring data with redundant timestamp for frame odom (parent map) at time 649.521000 according to authority /pose_integrator\u001b[0m\n",
      "\u001b[33m[ WARN] [1735666456.850065098, 649.521000000]: TF_REPEATED_DATA ignoring data with redundant timestamp for frame odom (parent map) at time 649.521000 according to authority /pose_integrator\u001b[0m\n",
      "\u001b[33m[ WARN] [1735666456.850117131, 649.521000000]: TF_REPEATED_DATA ignoring data with redundant timestamp for frame odom (parent map) at time 649.521000 according to authority /pose_integrator\u001b[0m\n",
      "\u001b[33m[ WARN] [1735666456.850179027, 649.521000000]: TF_REPEATED_DATA ignoring data with redundant timestamp for frame odom (parent map) at time 649.521000 according to authority /pose_integrator\u001b[0m\n",
      "\u001b[33m[ WARN] [1735666456.850230249, 649.521000000]: TF_REPEATED_DATA ignoring data with redundant timestamp for frame odom (parent map) at time 649.521000 according to authority /pose_integrator\u001b[0m\n",
      "\u001b[33m[ WARN] [1735666457.416668848, 649.616000000]: TF_REPEATED_DATA ignoring data with redundant timestamp for frame odom (parent map) at time 649.642000 according to authority unknown_publisher\u001b[0m\n",
      "\u001b[33m[ WARN] [1735666457.422463918, 649.616000000]: TF_REPEATED_DATA ignoring data with redundant timestamp for frame odom (parent map) at time 649.642000 according to authority /pose_integrator\u001b[0m\n",
      "\u001b[33m[ WARN] [1735666457.422550860, 649.616000000]: TF_REPEATED_DATA ignoring data with redundant timestamp for frame odom (parent map) at time 649.642000 according to authority /pose_integrator\u001b[0m\n",
      "\u001b[33m[ WARN] [1735666457.422608675, 649.616000000]: TF_REPEATED_DATA ignoring data with redundant timestamp for frame odom (parent map) at time 649.642000 according to authority /pose_integrator\u001b[0m\n",
      "\u001b[33m[ WARN] [1735666457.422658455, 649.616000000]: TF_REPEATED_DATA ignoring data with redundant timestamp for frame odom (parent map) at time 649.642000 according to authority /pose_integrator\u001b[0m\n",
      "\u001b[33m[ WARN] [1735666457.422724306, 649.616000000]: TF_REPEATED_DATA ignoring data with redundant timestamp for frame odom (parent map) at time 649.642000 according to authority /pose_integrator\u001b[0m\n",
      "\u001b[33m[ WARN] [1735666457.422776581, 649.616000000]: TF_REPEATED_DATA ignoring data with redundant timestamp for frame odom (parent map) at time 649.642000 according to authority /pose_integrator\u001b[0m\n",
      "\u001b[33m[ WARN] [1735666459.058453814, 649.997000000]: TF_REPEATED_DATA ignoring data with redundant timestamp for frame odom (parent map) at time 650.015000 according to authority unknown_publisher\u001b[0m\n",
      "\u001b[33m[ WARN] [1735666459.058547321, 649.997000000]: TF_REPEATED_DATA ignoring data with redundant timestamp for frame odom (parent map) at time 650.015000 according to authority /pose_integrator\u001b[0m\n",
      "\u001b[33m[ WARN] [1735666459.058612358, 649.997000000]: TF_REPEATED_DATA ignoring data with redundant timestamp for frame odom (parent map) at time 650.015000 according to authority /pose_integrator\u001b[0m\n",
      "\u001b[33m[ WARN] [1735666459.058654131, 649.997000000]: TF_REPEATED_DATA ignoring data with redundant timestamp for frame odom (parent map) at time 650.015000 according to authority /pose_integrator\u001b[0m\n",
      "\u001b[33m[ WARN] [1735666459.058691609, 649.997000000]: TF_REPEATED_DATA ignoring data with redundant timestamp for frame odom (parent map) at time 650.015000 according to authority /pose_integrator\u001b[0m\n",
      "\u001b[33m[ WARN] [1735666459.058725584, 649.997000000]: TF_REPEATED_DATA ignoring data with redundant timestamp for frame odom (parent map) at time 650.015000 according to authority /pose_integrator\u001b[0m\n",
      "\u001b[33m[ WARN] [1735666459.058760884, 649.997000000]: TF_REPEATED_DATA ignoring data with redundant timestamp for frame odom (parent map) at time 650.015000 according to authority /pose_integrator\u001b[0m\n"
     ]
    }
   ],
   "source": [
    "pose"
   ]
  },
  {
   "cell_type": "code",
   "execution_count": 7,
   "id": "241fa9d4",
   "metadata": {},
   "outputs": [
    {
     "name": "stderr",
     "output_type": "stream",
     "text": [
      "\u001b[33m[ WARN] [1735666285.569542053, 606.808000000]: TF_REPEATED_DATA ignoring data with redundant timestamp for frame odom (parent map) at time 606.829000 according to authority unknown_publisher\u001b[0m\n",
      "\u001b[33m[ WARN] [1735666285.572652399, 606.808000000]: TF_REPEATED_DATA ignoring data with redundant timestamp for frame odom (parent map) at time 606.829000 according to authority /pose_integrator\u001b[0m\n",
      "\u001b[33m[ WARN] [1735666285.572743731, 606.808000000]: TF_REPEATED_DATA ignoring data with redundant timestamp for frame odom (parent map) at time 606.829000 according to authority /pose_integrator\u001b[0m\n",
      "\u001b[33m[ WARN] [1735666285.572815108, 606.808000000]: TF_REPEATED_DATA ignoring data with redundant timestamp for frame odom (parent map) at time 606.829000 according to authority /pose_integrator\u001b[0m\n",
      "\u001b[33m[ WARN] [1735666285.572851384, 606.808000000]: TF_REPEATED_DATA ignoring data with redundant timestamp for frame odom (parent map) at time 606.829000 according to authority /pose_integrator\u001b[0m\n",
      "\u001b[33m[ WARN] [1735666285.572886017, 606.808000000]: TF_REPEATED_DATA ignoring data with redundant timestamp for frame odom (parent map) at time 606.829000 according to authority /pose_integrator\u001b[0m\n",
      "\u001b[33m[ WARN] [1735666285.572924398, 606.808000000]: TF_REPEATED_DATA ignoring data with redundant timestamp for frame odom (parent map) at time 606.829000 according to authority /pose_integrator\u001b[0m\n"
     ]
    },
    {
     "data": {
      "text/plain": [
       "0.6730203497717676"
      ]
     },
     "execution_count": 7,
     "metadata": {},
     "output_type": "execute_result"
    },
    {
     "name": "stderr",
     "output_type": "stream",
     "text": [
      "\u001b[33m[ WARN] [1735666290.510573366, 607.998000000]: TF_REPEATED_DATA ignoring data with redundant timestamp for frame odom (parent map) at time 608.015000 according to authority /pose_integrator\u001b[0m\n",
      "\u001b[33m[ WARN] [1735666290.510653843, 607.998000000]: TF_REPEATED_DATA ignoring data with redundant timestamp for frame odom (parent map) at time 608.015000 according to authority /pose_integrator\u001b[0m\n",
      "\u001b[33m[ WARN] [1735666290.510703365, 607.998000000]: TF_REPEATED_DATA ignoring data with redundant timestamp for frame odom (parent map) at time 608.015000 according to authority /pose_integrator\u001b[0m\n",
      "\u001b[33m[ WARN] [1735666290.510748653, 607.998000000]: TF_REPEATED_DATA ignoring data with redundant timestamp for frame odom (parent map) at time 608.015000 according to authority /pose_integrator\u001b[0m\n",
      "\u001b[33m[ WARN] [1735666290.510800304, 607.998000000]: TF_REPEATED_DATA ignoring data with redundant timestamp for frame odom (parent map) at time 608.015000 according to authority /pose_integrator\u001b[0m\n",
      "\u001b[33m[ WARN] [1735666290.510847274, 607.998000000]: TF_REPEATED_DATA ignoring data with redundant timestamp for frame odom (parent map) at time 608.015000 according to authority /pose_integrator\u001b[0m\n",
      "\u001b[33m[ WARN] [1735666290.512250462, 607.998000000]: TF_REPEATED_DATA ignoring data with redundant timestamp for frame odom (parent map) at time 608.015000 according to authority unknown_publisher\u001b[0m\n"
     ]
    }
   ],
   "source": [
    "pose.pose.position.z"
   ]
  },
  {
   "cell_type": "code",
   "execution_count": 8,
   "id": "46daa5fa",
   "metadata": {},
   "outputs": [
    {
     "data": {
      "text/plain": [
       "header: \n",
       "  seq: 0\n",
       "  stamp: \n",
       "    secs: 600\n",
       "    nsecs: 550000000\n",
       "  frame_id: \"odom\"\n",
       "pose: \n",
       "  position: \n",
       "    x: 4.993545415092562\n",
       "    y: -0.224411618351765\n",
       "    z: 0.6730203497717676\n",
       "  orientation: \n",
       "    x: -0.046302439127235064\n",
       "    y: -0.7057368117123429\n",
       "    z: -0.046245565479002666\n",
       "    w: 0.7054452384122335"
      ]
     },
     "execution_count": 8,
     "metadata": {},
     "output_type": "execute_result"
    },
    {
     "name": "stderr",
     "output_type": "stream",
     "text": [
      "\u001b[33m[ WARN] [1735666301.762985125, 610.620000000]: TF_REPEATED_DATA ignoring data with redundant timestamp for frame odom (parent map) at time 610.649000 according to authority unknown_publisher\u001b[0m\n",
      "\u001b[33m[ WARN] [1735666301.763160121, 610.620000000]: TF_REPEATED_DATA ignoring data with redundant timestamp for frame odom (parent map) at time 610.649000 according to authority /pose_integrator\u001b[0m\n",
      "\u001b[33m[ WARN] [1735666301.763232718, 610.620000000]: TF_REPEATED_DATA ignoring data with redundant timestamp for frame odom (parent map) at time 610.649000 according to authority /pose_integrator\u001b[0m\n",
      "\u001b[33m[ WARN] [1735666301.763291841, 610.620000000]: TF_REPEATED_DATA ignoring data with redundant timestamp for frame odom (parent map) at time 610.649000 according to authority /pose_integrator\u001b[0m\n",
      "\u001b[33m[ WARN] [1735666301.763355669, 610.620000000]: TF_REPEATED_DATA ignoring data with redundant timestamp for frame odom (parent map) at time 610.649000 according to authority /pose_integrator\u001b[0m\n",
      "\u001b[33m[ WARN] [1735666301.763410622, 610.620000000]: TF_REPEATED_DATA ignoring data with redundant timestamp for frame odom (parent map) at time 610.649000 according to authority /pose_integrator\u001b[0m\n",
      "\u001b[33m[ WARN] [1735666301.763453706, 610.620000000]: TF_REPEATED_DATA ignoring data with redundant timestamp for frame odom (parent map) at time 610.649000 according to authority /pose_integrator\u001b[0m\n",
      "\u001b[33m[ WARN] [1735666302.378145355, 610.780000000]: TF_REPEATED_DATA ignoring data with redundant timestamp for frame odom (parent map) at time 610.834000 according to authority /pose_integrator\u001b[0m\n",
      "\u001b[33m[ WARN] [1735666302.378267148, 610.780000000]: TF_REPEATED_DATA ignoring data with redundant timestamp for frame odom (parent map) at time 610.834000 according to authority unknown_publisher\u001b[0m\n",
      "\u001b[33m[ WARN] [1735666302.378392924, 610.780000000]: TF_REPEATED_DATA ignoring data with redundant timestamp for frame odom (parent map) at time 610.834000 according to authority /pose_integrator\u001b[0m\n",
      "\u001b[33m[ WARN] [1735666302.378684250, 610.780000000]: TF_REPEATED_DATA ignoring data with redundant timestamp for frame odom (parent map) at time 610.834000 according to authority /pose_integrator\u001b[0m\n",
      "\u001b[33m[ WARN] [1735666302.378744460, 610.780000000]: TF_REPEATED_DATA ignoring data with redundant timestamp for frame odom (parent map) at time 610.834000 according to authority /pose_integrator\u001b[0m\n",
      "\u001b[33m[ WARN] [1735666302.378812147, 610.780000000]: TF_REPEATED_DATA ignoring data with redundant timestamp for frame odom (parent map) at time 610.834000 according to authority /pose_integrator\u001b[0m\n",
      "\u001b[33m[ WARN] [1735666302.378865040, 610.780000000]: TF_REPEATED_DATA ignoring data with redundant timestamp for frame odom (parent map) at time 610.834000 according to authority /pose_integrator\u001b[0m\n",
      "\u001b[33m[ WARN] [1735666304.021931644, 611.279000000]: TF_REPEATED_DATA ignoring data with redundant timestamp for frame odom (parent map) at time 611.316000 according to authority unknown_publisher\u001b[0m\n",
      "\u001b[33m[ WARN] [1735666304.021999499, 611.279000000]: TF_REPEATED_DATA ignoring data with redundant timestamp for frame odom (parent map) at time 611.316000 according to authority /pose_integrator\u001b[0m\n",
      "\u001b[33m[ WARN] [1735666304.022056441, 611.279000000]: TF_REPEATED_DATA ignoring data with redundant timestamp for frame odom (parent map) at time 611.316000 according to authority /pose_integrator\u001b[0m\n",
      "\u001b[33m[ WARN] [1735666304.022104414, 611.279000000]: TF_REPEATED_DATA ignoring data with redundant timestamp for frame odom (parent map) at time 611.316000 according to authority /pose_integrator\u001b[0m\n",
      "\u001b[33m[ WARN] [1735666304.022170502, 611.279000000]: TF_REPEATED_DATA ignoring data with redundant timestamp for frame odom (parent map) at time 611.316000 according to authority /pose_integrator\u001b[0m\n",
      "\u001b[33m[ WARN] [1735666304.022220848, 611.279000000]: TF_REPEATED_DATA ignoring data with redundant timestamp for frame odom (parent map) at time 611.316000 according to authority /pose_integrator\u001b[0m\n",
      "\u001b[33m[ WARN] [1735666304.022270181, 611.279000000]: TF_REPEATED_DATA ignoring data with redundant timestamp for frame odom (parent map) at time 611.316000 according to authority /pose_integrator\u001b[0m\n",
      "\u001b[33m[ WARN] [1735666304.956087558, 611.531000000]: TF_REPEATED_DATA ignoring data with redundant timestamp for frame odom (parent map) at time 611.558000 according to authority unknown_publisher\u001b[0m\n",
      "\u001b[33m[ WARN] [1735666304.957224744, 611.531000000]: TF_REPEATED_DATA ignoring data with redundant timestamp for frame odom (parent map) at time 611.558000 according to authority /pose_integrator\u001b[0m\n",
      "\u001b[33m[ WARN] [1735666304.957298834, 611.531000000]: TF_REPEATED_DATA ignoring data with redundant timestamp for frame odom (parent map) at time 611.558000 according to authority /pose_integrator\u001b[0m\n",
      "\u001b[33m[ WARN] [1735666304.957347084, 611.531000000]: TF_REPEATED_DATA ignoring data with redundant timestamp for frame odom (parent map) at time 611.558000 according to authority /pose_integrator\u001b[0m\n",
      "\u001b[33m[ WARN] [1735666304.957410471, 611.531000000]: TF_REPEATED_DATA ignoring data with redundant timestamp for frame odom (parent map) at time 611.558000 according to authority /pose_integrator\u001b[0m\n",
      "\u001b[33m[ WARN] [1735666304.957462803, 611.531000000]: TF_REPEATED_DATA ignoring data with redundant timestamp for frame odom (parent map) at time 611.558000 according to authority /pose_integrator\u001b[0m\n",
      "\u001b[33m[ WARN] [1735666304.957506270, 611.531000000]: TF_REPEATED_DATA ignoring data with redundant timestamp for frame odom (parent map) at time 611.558000 according to authority /pose_integrator\u001b[0m\n",
      "\u001b[33m[ WARN] [1735666308.485556504, 612.445000000]: TF_REPEATED_DATA ignoring data with redundant timestamp for frame odom (parent map) at time 612.472000 according to authority unknown_publisher\u001b[0m\n",
      "\u001b[33m[ WARN] [1735666308.501140969, 612.472000000]: TF_REPEATED_DATA ignoring data with redundant timestamp for frame odom (parent map) at time 612.472000 according to authority /pose_integrator\u001b[0m\n",
      "\u001b[33m[ WARN] [1735666308.501221405, 612.472000000]: TF_REPEATED_DATA ignoring data with redundant timestamp for frame odom (parent map) at time 612.472000 according to authority /pose_integrator\u001b[0m\n",
      "\u001b[33m[ WARN] [1735666308.501277179, 612.472000000]: TF_REPEATED_DATA ignoring data with redundant timestamp for frame odom (parent map) at time 612.472000 according to authority /pose_integrator\u001b[0m\n",
      "\u001b[33m[ WARN] [1735666308.501331641, 612.472000000]: TF_REPEATED_DATA ignoring data with redundant timestamp for frame odom (parent map) at time 612.472000 according to authority /pose_integrator\u001b[0m\n",
      "\u001b[33m[ WARN] [1735666308.501384223, 612.472000000]: TF_REPEATED_DATA ignoring data with redundant timestamp for frame odom (parent map) at time 612.472000 according to authority /pose_integrator\u001b[0m\n",
      "\u001b[33m[ WARN] [1735666308.501434886, 612.472000000]: TF_REPEATED_DATA ignoring data with redundant timestamp for frame odom (parent map) at time 612.472000 according to authority /pose_integrator\u001b[0m\n",
      "\u001b[33m[ WARN] [1735666313.258671228, 613.722000000]: TF_REPEATED_DATA ignoring data with redundant timestamp for frame odom (parent map) at time 613.757000 according to authority unknown_publisher\u001b[0m\n",
      "\u001b[33m[ WARN] [1735666313.261100830, 613.722000000]: TF_REPEATED_DATA ignoring data with redundant timestamp for frame odom (parent map) at time 613.757000 according to authority /pose_integrator\u001b[0m\n",
      "\u001b[33m[ WARN] [1735666313.261167297, 613.722000000]: TF_REPEATED_DATA ignoring data with redundant timestamp for frame odom (parent map) at time 613.757000 according to authority /pose_integrator\u001b[0m\n",
      "\u001b[33m[ WARN] [1735666313.261218545, 613.722000000]: TF_REPEATED_DATA ignoring data with redundant timestamp for frame odom (parent map) at time 613.757000 according to authority /pose_integrator\u001b[0m\n",
      "\u001b[33m[ WARN] [1735666313.261263231, 613.722000000]: TF_REPEATED_DATA ignoring data with redundant timestamp for frame odom (parent map) at time 613.757000 according to authority /pose_integrator\u001b[0m\n",
      "\u001b[33m[ WARN] [1735666313.261307572, 613.722000000]: TF_REPEATED_DATA ignoring data with redundant timestamp for frame odom (parent map) at time 613.757000 according to authority /pose_integrator\u001b[0m\n",
      "\u001b[33m[ WARN] [1735666313.261348508, 613.722000000]: TF_REPEATED_DATA ignoring data with redundant timestamp for frame odom (parent map) at time 613.757000 according to authority /pose_integrator\u001b[0m\n"
     ]
    },
    {
     "name": "stderr",
     "output_type": "stream",
     "text": [
      "\u001b[33m[ WARN] [1735666320.758595439, 615.536000000]: TF_REPEATED_DATA ignoring data with redundant timestamp for frame odom (parent map) at time 615.555000 according to authority unknown_publisher\u001b[0m\n",
      "\u001b[33m[ WARN] [1735666320.759241138, 615.536000000]: TF_REPEATED_DATA ignoring data with redundant timestamp for frame odom (parent map) at time 615.555000 according to authority /pose_integrator\u001b[0m\n",
      "\u001b[33m[ WARN] [1735666320.759305022, 615.536000000]: TF_REPEATED_DATA ignoring data with redundant timestamp for frame odom (parent map) at time 615.555000 according to authority /pose_integrator\u001b[0m\n",
      "\u001b[33m[ WARN] [1735666320.759342864, 615.536000000]: TF_REPEATED_DATA ignoring data with redundant timestamp for frame odom (parent map) at time 615.555000 according to authority /pose_integrator\u001b[0m\n",
      "\u001b[33m[ WARN] [1735666320.759379363, 615.536000000]: TF_REPEATED_DATA ignoring data with redundant timestamp for frame odom (parent map) at time 615.555000 according to authority /pose_integrator\u001b[0m\n",
      "\u001b[33m[ WARN] [1735666320.759412446, 615.536000000]: TF_REPEATED_DATA ignoring data with redundant timestamp for frame odom (parent map) at time 615.555000 according to authority /pose_integrator\u001b[0m\n",
      "\u001b[33m[ WARN] [1735666320.759445334, 615.536000000]: TF_REPEATED_DATA ignoring data with redundant timestamp for frame odom (parent map) at time 615.555000 according to authority /pose_integrator\u001b[0m\n"
     ]
    }
   ],
   "source": [
    "pose"
   ]
  },
  {
   "cell_type": "code",
   "execution_count": 10,
   "id": "b5023edf",
   "metadata": {},
   "outputs": [
    {
     "ename": "RuntimeError",
     "evalue": "Unable to connect to move_group action server 'place' within allotted time (5s)",
     "output_type": "error",
     "traceback": [
      "\u001b[0;31m---------------------------------------------------------------------------\u001b[0m",
      "\u001b[0;31mRuntimeError\u001b[0m                              Traceback (most recent call last)",
      "Cell \u001b[0;32mIn[10], line 1\u001b[0m\n\u001b[0;32m----> 1\u001b[0m arm \u001b[38;5;241m=\u001b[39m \u001b[43mmoveit_commander\u001b[49m\u001b[38;5;241;43m.\u001b[39;49m\u001b[43mMoveGroupCommander\u001b[49m\u001b[43m(\u001b[49m\u001b[38;5;124;43m'\u001b[39;49m\u001b[38;5;124;43marm\u001b[39;49m\u001b[38;5;124;43m'\u001b[39;49m\u001b[43m)\u001b[49m\n",
      "File \u001b[0;32m/opt/ros/noetic/lib/python3/dist-packages/moveit_commander/move_group.py:66\u001b[0m, in \u001b[0;36mMoveGroupCommander.__init__\u001b[0;34m(self, name, robot_description, ns, wait_for_servers)\u001b[0m\n\u001b[1;32m     62\u001b[0m \u001b[38;5;28;01mdef\u001b[39;00m \u001b[38;5;21m__init__\u001b[39m(\n\u001b[1;32m     63\u001b[0m     \u001b[38;5;28mself\u001b[39m, name, robot_description\u001b[38;5;241m=\u001b[39m\u001b[38;5;124m\"\u001b[39m\u001b[38;5;124mrobot_description\u001b[39m\u001b[38;5;124m\"\u001b[39m, ns\u001b[38;5;241m=\u001b[39m\u001b[38;5;124m\"\u001b[39m\u001b[38;5;124m\"\u001b[39m, wait_for_servers\u001b[38;5;241m=\u001b[39m\u001b[38;5;241m5.0\u001b[39m\n\u001b[1;32m     64\u001b[0m ):\n\u001b[1;32m     65\u001b[0m \u001b[38;5;250m    \u001b[39m\u001b[38;5;124;03m\"\"\"Specify the group name for which to construct this commander instance. Throws an exception if there is an initialization error.\"\"\"\u001b[39;00m\n\u001b[0;32m---> 66\u001b[0m     \u001b[38;5;28mself\u001b[39m\u001b[38;5;241m.\u001b[39m_g \u001b[38;5;241m=\u001b[39m \u001b[43m_moveit_move_group_interface\u001b[49m\u001b[38;5;241;43m.\u001b[39;49m\u001b[43mMoveGroupInterface\u001b[49m\u001b[43m(\u001b[49m\n\u001b[1;32m     67\u001b[0m \u001b[43m        \u001b[49m\u001b[43mname\u001b[49m\u001b[43m,\u001b[49m\u001b[43m \u001b[49m\u001b[43mrobot_description\u001b[49m\u001b[43m,\u001b[49m\u001b[43m \u001b[49m\u001b[43mns\u001b[49m\u001b[43m,\u001b[49m\u001b[43m \u001b[49m\u001b[43mwait_for_servers\u001b[49m\n\u001b[1;32m     68\u001b[0m \u001b[43m    \u001b[49m\u001b[43m)\u001b[49m\n",
      "\u001b[0;31mRuntimeError\u001b[0m: Unable to connect to move_group action server 'place' within allotted time (5s)"
     ]
    },
    {
     "name": "stderr",
     "output_type": "stream",
     "text": [
      "\u001b[33m[ WARN] [1735666344.062987910, 621.222000000]: TF_REPEATED_DATA ignoring data with redundant timestamp for frame odom (parent map) at time 621.220000 according to authority unknown_publisher\u001b[0m\n",
      "\u001b[33m[ WARN] [1735666344.074352622, 621.222000000]: TF_REPEATED_DATA ignoring data with redundant timestamp for frame odom (parent map) at time 621.220000 according to authority /pose_integrator\u001b[0m\n",
      "\u001b[33m[ WARN] [1735666344.074442620, 621.222000000]: TF_REPEATED_DATA ignoring data with redundant timestamp for frame odom (parent map) at time 621.220000 according to authority /pose_integrator\u001b[0m\n",
      "\u001b[33m[ WARN] [1735666344.074486122, 621.222000000]: TF_REPEATED_DATA ignoring data with redundant timestamp for frame odom (parent map) at time 621.220000 according to authority /pose_integrator\u001b[0m\n",
      "\u001b[33m[ WARN] [1735666344.074521439, 621.222000000]: TF_REPEATED_DATA ignoring data with redundant timestamp for frame odom (parent map) at time 621.220000 according to authority /pose_integrator\u001b[0m\n",
      "\u001b[33m[ WARN] [1735666344.074557915, 621.222000000]: TF_REPEATED_DATA ignoring data with redundant timestamp for frame odom (parent map) at time 621.220000 according to authority /pose_integrator\u001b[0m\n",
      "\u001b[33m[ WARN] [1735666344.074587210, 621.222000000]: TF_REPEATED_DATA ignoring data with redundant timestamp for frame odom (parent map) at time 621.220000 according to authority /pose_integrator\u001b[0m\n",
      "\u001b[33m[ WARN] [1735666349.112324916, 622.490000000]: TF_REPEATED_DATA ignoring data with redundant timestamp for frame odom (parent map) at time 622.490000 according to authority unknown_publisher\u001b[0m\n",
      "\u001b[33m[ WARN] [1735666349.112421655, 622.490000000]: TF_REPEATED_DATA ignoring data with redundant timestamp for frame odom (parent map) at time 622.490000 according to authority /pose_integrator\u001b[0m\n",
      "\u001b[33m[ WARN] [1735666349.112480948, 622.490000000]: TF_REPEATED_DATA ignoring data with redundant timestamp for frame odom (parent map) at time 622.490000 according to authority /pose_integrator\u001b[0m\n",
      "\u001b[33m[ WARN] [1735666349.112521431, 622.490000000]: TF_REPEATED_DATA ignoring data with redundant timestamp for frame odom (parent map) at time 622.490000 according to authority /pose_integrator\u001b[0m\n",
      "\u001b[33m[ WARN] [1735666349.112561547, 622.490000000]: TF_REPEATED_DATA ignoring data with redundant timestamp for frame odom (parent map) at time 622.490000 according to authority /pose_integrator\u001b[0m\n",
      "\u001b[33m[ WARN] [1735666349.112607607, 622.490000000]: TF_REPEATED_DATA ignoring data with redundant timestamp for frame odom (parent map) at time 622.490000 according to authority /pose_integrator\u001b[0m\n",
      "\u001b[33m[ WARN] [1735666349.112651081, 622.490000000]: TF_REPEATED_DATA ignoring data with redundant timestamp for frame odom (parent map) at time 622.490000 according to authority /pose_integrator\u001b[0m\n",
      "\u001b[33m[ WARN] [1735666353.334862383, 623.552000000]: TF_REPEATED_DATA ignoring data with redundant timestamp for frame odom (parent map) at time 623.584000 according to authority unknown_publisher\u001b[0m\n",
      "\u001b[33m[ WARN] [1735666353.348302346, 623.584000000]: TF_REPEATED_DATA ignoring data with redundant timestamp for frame odom (parent map) at time 623.584000 according to authority /pose_integrator\u001b[0m\n",
      "\u001b[33m[ WARN] [1735666353.348363738, 623.584000000]: TF_REPEATED_DATA ignoring data with redundant timestamp for frame odom (parent map) at time 623.584000 according to authority /pose_integrator\u001b[0m\n",
      "\u001b[33m[ WARN] [1735666353.348394241, 623.584000000]: TF_REPEATED_DATA ignoring data with redundant timestamp for frame odom (parent map) at time 623.584000 according to authority /pose_integrator\u001b[0m\n",
      "\u001b[33m[ WARN] [1735666353.348422879, 623.584000000]: TF_REPEATED_DATA ignoring data with redundant timestamp for frame odom (parent map) at time 623.584000 according to authority /pose_integrator\u001b[0m\n",
      "\u001b[33m[ WARN] [1735666353.348450163, 623.584000000]: TF_REPEATED_DATA ignoring data with redundant timestamp for frame odom (parent map) at time 623.584000 according to authority /pose_integrator\u001b[0m\n",
      "\u001b[33m[ WARN] [1735666353.348477283, 623.584000000]: TF_REPEATED_DATA ignoring data with redundant timestamp for frame odom (parent map) at time 623.584000 according to authority /pose_integrator\u001b[0m\n",
      "\u001b[33m[ WARN] [1735666361.924160249, 625.787000000]: TF_REPEATED_DATA ignoring data with redundant timestamp for frame odom (parent map) at time 625.787000 according to authority unknown_publisher\u001b[0m\n",
      "\u001b[33m[ WARN] [1735666361.924918522, 625.787000000]: TF_REPEATED_DATA ignoring data with redundant timestamp for frame odom (parent map) at time 625.787000 according to authority /pose_integrator\u001b[0m\n",
      "\u001b[33m[ WARN] [1735666361.924977305, 625.787000000]: TF_REPEATED_DATA ignoring data with redundant timestamp for frame odom (parent map) at time 625.787000 according to authority /pose_integrator\u001b[0m\n",
      "\u001b[33m[ WARN] [1735666361.925030972, 625.787000000]: TF_REPEATED_DATA ignoring data with redundant timestamp for frame odom (parent map) at time 625.787000 according to authority /pose_integrator\u001b[0m\n",
      "\u001b[33m[ WARN] [1735666361.925081429, 625.787000000]: TF_REPEATED_DATA ignoring data with redundant timestamp for frame odom (parent map) at time 625.787000 according to authority /pose_integrator\u001b[0m\n",
      "\u001b[33m[ WARN] [1735666361.925123617, 625.787000000]: TF_REPEATED_DATA ignoring data with redundant timestamp for frame odom (parent map) at time 625.787000 according to authority /pose_integrator\u001b[0m\n",
      "\u001b[33m[ WARN] [1735666361.925161018, 625.787000000]: TF_REPEATED_DATA ignoring data with redundant timestamp for frame odom (parent map) at time 625.787000 according to authority /pose_integrator\u001b[0m\n",
      "\u001b[33m[ WARN] [1735666371.723350014, 628.246000000]: TF_REPEATED_DATA ignoring data with redundant timestamp for frame odom (parent map) at time 628.295000 according to authority unknown_publisher\u001b[0m\n",
      "\u001b[33m[ WARN] [1735666371.723496631, 628.246000000]: TF_REPEATED_DATA ignoring data with redundant timestamp for frame odom (parent map) at time 628.295000 according to authority /pose_integrator\u001b[0m\n",
      "\u001b[33m[ WARN] [1735666371.723579575, 628.246000000]: TF_REPEATED_DATA ignoring data with redundant timestamp for frame odom (parent map) at time 628.295000 according to authority /pose_integrator\u001b[0m\n",
      "\u001b[33m[ WARN] [1735666371.723632728, 628.246000000]: TF_REPEATED_DATA ignoring data with redundant timestamp for frame odom (parent map) at time 628.295000 according to authority /pose_integrator\u001b[0m\n",
      "\u001b[33m[ WARN] [1735666371.723681840, 628.246000000]: TF_REPEATED_DATA ignoring data with redundant timestamp for frame odom (parent map) at time 628.295000 according to authority /pose_integrator\u001b[0m\n",
      "\u001b[33m[ WARN] [1735666371.723737481, 628.246000000]: TF_REPEATED_DATA ignoring data with redundant timestamp for frame odom (parent map) at time 628.295000 according to authority /pose_integrator\u001b[0m\n",
      "\u001b[33m[ WARN] [1735666371.723783282, 628.246000000]: TF_REPEATED_DATA ignoring data with redundant timestamp for frame odom (parent map) at time 628.295000 according to authority /pose_integrator\u001b[0m\n",
      "\u001b[33m[ WARN] [1735666376.023189393, 629.450000000]: TF_REPEATED_DATA ignoring data with redundant timestamp for frame odom (parent map) at time 629.450000 according to authority /pose_integrator\u001b[0m\n",
      "\u001b[33m[ WARN] [1735666376.023282962, 629.450000000]: TF_REPEATED_DATA ignoring data with redundant timestamp for frame odom (parent map) at time 629.450000 according to authority /pose_integrator\u001b[0m\n",
      "\u001b[33m[ WARN] [1735666376.023393037, 629.450000000]: TF_REPEATED_DATA ignoring data with redundant timestamp for frame odom (parent map) at time 629.450000 according to authority /pose_integrator\u001b[0m\n",
      "\u001b[33m[ WARN] [1735666376.023452365, 629.450000000]: TF_REPEATED_DATA ignoring data with redundant timestamp for frame odom (parent map) at time 629.450000 according to authority /pose_integrator\u001b[0m\n",
      "\u001b[33m[ WARN] [1735666376.023515581, 629.450000000]: TF_REPEATED_DATA ignoring data with redundant timestamp for frame odom (parent map) at time 629.450000 according to authority /pose_integrator\u001b[0m\n",
      "\u001b[33m[ WARN] [1735666376.023596214, 629.450000000]: TF_REPEATED_DATA ignoring data with redundant timestamp for frame odom (parent map) at time 629.450000 according to authority /pose_integrator\u001b[0m\n",
      "\u001b[33m[ WARN] [1735666376.023939433, 629.450000000]: TF_REPEATED_DATA ignoring data with redundant timestamp for frame odom (parent map) at time 629.450000 according to authority unknown_publisher\u001b[0m\n"
     ]
    },
    {
     "name": "stderr",
     "output_type": "stream",
     "text": [
      "\u001b[33m[ WARN] [1735666381.616362806, 630.748000000]: TF_REPEATED_DATA ignoring data with redundant timestamp for frame odom (parent map) at time 630.782000 according to authority /pose_integrator\u001b[0m\n",
      "\u001b[33m[ WARN] [1735666381.616430250, 630.748000000]: TF_REPEATED_DATA ignoring data with redundant timestamp for frame odom (parent map) at time 630.782000 according to authority /pose_integrator\u001b[0m\n",
      "\u001b[33m[ WARN] [1735666381.616471986, 630.748000000]: TF_REPEATED_DATA ignoring data with redundant timestamp for frame odom (parent map) at time 630.782000 according to authority /pose_integrator\u001b[0m\n",
      "\u001b[33m[ WARN] [1735666381.616526536, 630.748000000]: TF_REPEATED_DATA ignoring data with redundant timestamp for frame odom (parent map) at time 630.782000 according to authority /pose_integrator\u001b[0m\n",
      "\u001b[33m[ WARN] [1735666381.616576097, 630.748000000]: TF_REPEATED_DATA ignoring data with redundant timestamp for frame odom (parent map) at time 630.782000 according to authority /pose_integrator\u001b[0m\n",
      "\u001b[33m[ WARN] [1735666381.616619038, 630.748000000]: TF_REPEATED_DATA ignoring data with redundant timestamp for frame odom (parent map) at time 630.782000 according to authority /pose_integrator\u001b[0m\n",
      "\u001b[33m[ WARN] [1735666381.616863158, 630.748000000]: TF_REPEATED_DATA ignoring data with redundant timestamp for frame odom (parent map) at time 630.782000 according to authority unknown_publisher\u001b[0m\n",
      "\u001b[33m[ WARN] [1735666392.638137879, 633.145000000]: TF_REPEATED_DATA ignoring data with redundant timestamp for frame odom (parent map) at time 633.185000 according to authority unknown_publisher\u001b[0m\n",
      "\u001b[33m[ WARN] [1735666392.638972536, 633.145000000]: TF_REPEATED_DATA ignoring data with redundant timestamp for frame odom (parent map) at time 633.185000 according to authority /pose_integrator\u001b[0m\n",
      "\u001b[33m[ WARN] [1735666392.639053545, 633.145000000]: TF_REPEATED_DATA ignoring data with redundant timestamp for frame odom (parent map) at time 633.185000 according to authority /pose_integrator\u001b[0m\n",
      "\u001b[33m[ WARN] [1735666392.639130087, 633.145000000]: TF_REPEATED_DATA ignoring data with redundant timestamp for frame odom (parent map) at time 633.185000 according to authority /pose_integrator\u001b[0m\n",
      "\u001b[33m[ WARN] [1735666392.639187024, 633.145000000]: TF_REPEATED_DATA ignoring data with redundant timestamp for frame odom (parent map) at time 633.185000 according to authority /pose_integrator\u001b[0m\n",
      "\u001b[33m[ WARN] [1735666392.639249979, 633.145000000]: TF_REPEATED_DATA ignoring data with redundant timestamp for frame odom (parent map) at time 633.185000 according to authority /pose_integrator\u001b[0m\n",
      "\u001b[33m[ WARN] [1735666392.639313625, 633.145000000]: TF_REPEATED_DATA ignoring data with redundant timestamp for frame odom (parent map) at time 633.185000 according to authority /pose_integrator\u001b[0m\n",
      "\u001b[33m[ WARN] [1735666394.765521997, 633.683000000]: TF_REPEATED_DATA ignoring data with redundant timestamp for frame odom (parent map) at time 633.712000 according to authority unknown_publisher\u001b[0m\n",
      "\u001b[33m[ WARN] [1735666394.766385175, 633.683000000]: TF_REPEATED_DATA ignoring data with redundant timestamp for frame odom (parent map) at time 633.712000 according to authority /pose_integrator\u001b[0m\n",
      "\u001b[33m[ WARN] [1735666394.766461335, 633.683000000]: TF_REPEATED_DATA ignoring data with redundant timestamp for frame odom (parent map) at time 633.712000 according to authority /pose_integrator\u001b[0m\n",
      "\u001b[33m[ WARN] [1735666394.766509336, 633.683000000]: TF_REPEATED_DATA ignoring data with redundant timestamp for frame odom (parent map) at time 633.712000 according to authority /pose_integrator\u001b[0m\n",
      "\u001b[33m[ WARN] [1735666394.766556025, 633.683000000]: TF_REPEATED_DATA ignoring data with redundant timestamp for frame odom (parent map) at time 633.712000 according to authority /pose_integrator\u001b[0m\n",
      "\u001b[33m[ WARN] [1735666394.766606909, 633.683000000]: TF_REPEATED_DATA ignoring data with redundant timestamp for frame odom (parent map) at time 633.712000 according to authority /pose_integrator\u001b[0m\n",
      "\u001b[33m[ WARN] [1735666394.766655657, 633.683000000]: TF_REPEATED_DATA ignoring data with redundant timestamp for frame odom (parent map) at time 633.712000 according to authority /pose_integrator\u001b[0m\n"
     ]
    }
   ],
   "source": [
    "arm = moveit_commander.MoveGroupCommander('arm')"
   ]
  },
  {
   "cell_type": "code",
   "execution_count": null,
   "id": "93902b48",
   "metadata": {},
   "outputs": [],
   "source": []
  }
 ],
 "metadata": {
  "kernelspec": {
   "display_name": "Python 3 (ipykernel)",
   "language": "python",
   "name": "python3"
  },
  "language_info": {
   "codemirror_mode": {
    "name": "ipython",
    "version": 3
   },
   "file_extension": ".py",
   "mimetype": "text/x-python",
   "name": "python",
   "nbconvert_exporter": "python",
   "pygments_lexer": "ipython3",
   "version": "3.8.10"
  }
 },
 "nbformat": 4,
 "nbformat_minor": 5
}

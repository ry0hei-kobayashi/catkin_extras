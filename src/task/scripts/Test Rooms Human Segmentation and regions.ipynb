{
 "cells": [
  {
   "cell_type": "code",
   "execution_count": 2,
   "id": "4cebec68",
   "metadata": {},
   "outputs": [],
   "source": [
    "from smach_utils2 import *"
   ]
  },
  {
   "cell_type": "code",
   "execution_count": null,
   "id": "baf04c2f",
   "metadata": {},
   "outputs": [],
   "source": []
  },
  {
   "cell_type": "code",
   "execution_count": 17,
   "id": "b53d073c",
   "metadata": {},
   "outputs": [],
   "source": [
    "def read_yaml(known_locations_file = '/known_locations.yaml'):\n",
    "    \n",
    "    file_path = rospack.get_path('config_files')  + known_locations_file\n",
    "\n",
    "    with open(file_path, 'r') as file:\n",
    "        content = yaml.safe_load(file)\n",
    "    return content\n"
   ]
  },
  {
   "cell_type": "code",
   "execution_count": 12,
   "id": "e86b353c",
   "metadata": {},
   "outputs": [],
   "source": [
    "df2=df.iloc[0,:3].copy()"
   ]
  },
  {
   "cell_type": "code",
   "execution_count": 31,
   "id": "f692d159",
   "metadata": {},
   "outputs": [],
   "source": [
    "import rospkg\n",
    "rospack = rospkg.RosPack()\n",
    "df=read_yaml('/segmentation_params.yaml')\n",
    "df['x']"
   ]
  },
  {
   "cell_type": "code",
   "execution_count": 34,
   "id": "e4aab69c",
   "metadata": {},
   "outputs": [
    {
     "data": {
      "text/plain": [
       "6.769"
      ]
     },
     "execution_count": 34,
     "metadata": {},
     "output_type": "execute_result"
    },
    {
     "name": "stdout",
     "output_type": "stream",
     "text": [
      "shutdown request: [/smach] Reason: new node registered with same name\n"
     ]
    }
   ],
   "source": [
    "df['x']"
   ]
  },
  {
   "cell_type": "code",
   "execution_count": 30,
   "id": "4fd658e5",
   "metadata": {},
   "outputs": [
    {
     "data": {
      "text/html": [
       "<div>\n",
       "<style scoped>\n",
       "    .dataframe tbody tr th:only-of-type {\n",
       "        vertical-align: middle;\n",
       "    }\n",
       "\n",
       "    .dataframe tbody tr th {\n",
       "        vertical-align: top;\n",
       "    }\n",
       "\n",
       "    .dataframe thead th {\n",
       "        text-align: right;\n",
       "    }\n",
       "</style>\n",
       "<table border=\"1\" class=\"dataframe\">\n",
       "  <thead>\n",
       "    <tr style=\"text-align: right;\">\n",
       "      <th></th>\n",
       "      <th>x</th>\n",
       "      <th>y</th>\n",
       "      <th>theta</th>\n",
       "      <th>qx</th>\n",
       "      <th>qy</th>\n",
       "      <th>qz</th>\n",
       "      <th>qw</th>\n",
       "    </tr>\n",
       "  </thead>\n",
       "  <tbody>\n",
       "    <tr>\n",
       "      <th>0</th>\n",
       "      <td>6.769</td>\n",
       "      <td>NaN</td>\n",
       "      <td>NaN</td>\n",
       "      <td>NaN</td>\n",
       "      <td>NaN</td>\n",
       "      <td>NaN</td>\n",
       "      <td>NaN</td>\n",
       "    </tr>\n",
       "    <tr>\n",
       "      <th>1</th>\n",
       "      <td>NaN</td>\n",
       "      <td>-1.515</td>\n",
       "      <td>NaN</td>\n",
       "      <td>NaN</td>\n",
       "      <td>NaN</td>\n",
       "      <td>NaN</td>\n",
       "      <td>NaN</td>\n",
       "    </tr>\n",
       "    <tr>\n",
       "      <th>2</th>\n",
       "      <td>NaN</td>\n",
       "      <td>NaN</td>\n",
       "      <td>0.77</td>\n",
       "      <td>NaN</td>\n",
       "      <td>NaN</td>\n",
       "      <td>NaN</td>\n",
       "      <td>NaN</td>\n",
       "    </tr>\n",
       "    <tr>\n",
       "      <th>3</th>\n",
       "      <td>NaN</td>\n",
       "      <td>NaN</td>\n",
       "      <td>NaN</td>\n",
       "      <td>0.0</td>\n",
       "      <td>NaN</td>\n",
       "      <td>NaN</td>\n",
       "      <td>NaN</td>\n",
       "    </tr>\n",
       "    <tr>\n",
       "      <th>4</th>\n",
       "      <td>NaN</td>\n",
       "      <td>NaN</td>\n",
       "      <td>NaN</td>\n",
       "      <td>NaN</td>\n",
       "      <td>0.0</td>\n",
       "      <td>NaN</td>\n",
       "      <td>NaN</td>\n",
       "    </tr>\n",
       "    <tr>\n",
       "      <th>5</th>\n",
       "      <td>NaN</td>\n",
       "      <td>NaN</td>\n",
       "      <td>NaN</td>\n",
       "      <td>NaN</td>\n",
       "      <td>NaN</td>\n",
       "      <td>0.536</td>\n",
       "      <td>NaN</td>\n",
       "    </tr>\n",
       "    <tr>\n",
       "      <th>6</th>\n",
       "      <td>NaN</td>\n",
       "      <td>NaN</td>\n",
       "      <td>NaN</td>\n",
       "      <td>NaN</td>\n",
       "      <td>NaN</td>\n",
       "      <td>NaN</td>\n",
       "      <td>0.844</td>\n",
       "    </tr>\n",
       "  </tbody>\n",
       "</table>\n",
       "</div>"
      ],
      "text/plain": [
       "       x      y  theta   qx   qy     qz     qw\n",
       "0  6.769    NaN    NaN  NaN  NaN    NaN    NaN\n",
       "1    NaN -1.515    NaN  NaN  NaN    NaN    NaN\n",
       "2    NaN    NaN   0.77  NaN  NaN    NaN    NaN\n",
       "3    NaN    NaN    NaN  0.0  NaN    NaN    NaN\n",
       "4    NaN    NaN    NaN  NaN  0.0    NaN    NaN\n",
       "5    NaN    NaN    NaN  NaN  NaN  0.536    NaN\n",
       "6    NaN    NaN    NaN  NaN  NaN    NaN  0.844"
      ]
     },
     "execution_count": 30,
     "metadata": {},
     "output_type": "execute_result"
    }
   ],
   "source": [
    "ddf"
   ]
  },
  {
   "cell_type": "code",
   "execution_count": null,
   "id": "cc192f24",
   "metadata": {},
   "outputs": [],
   "source": []
  },
  {
   "cell_type": "code",
   "execution_count": 3,
   "id": "f795b1c7",
   "metadata": {},
   "outputs": [],
   "source": [
    "df=yaml_to_df('/known_locations.yaml')\n",
    "#df=yaml_to_df('/known_locations_sim.yaml')"
   ]
  },
  {
   "cell_type": "code",
   "execution_count": 5,
   "id": "ad7b358e",
   "metadata": {},
   "outputs": [
    {
     "data": {
      "text/plain": [
       "([array([ 6.769, -1.515]),\n",
       "  array([1.179, 2.227]),\n",
       "  array([1.956, 0.644]),\n",
       "  array([7.958, 1.391])],\n",
       " ['bedroom', 'living_room', 'dining_room', 'kitchen'])"
      ]
     },
     "execution_count": 5,
     "metadata": {},
     "output_type": "execute_result"
    }
   ],
   "source": [
    "xys=[]\n",
    "xys.append(df[df['child_id_frame']=='bedroom'][['x','y']].values.ravel())\n",
    "xys.append(df[df['child_id_frame']=='living_room'][['x','y']].values.ravel())\n",
    "xys.append(df[df['child_id_frame']=='dining_room'][['x','y']].values.ravel())\n",
    "xys.append(df[df['child_id_frame']=='kitchen'][['x','y']].values.ravel())\n",
    "room_names=['bedroom','living_room','dining_room','kitchen']\n",
    "xys, room_names"
   ]
  },
  {
   "cell_type": "code",
   "execution_count": null,
   "id": "1e54ec2a",
   "metadata": {},
   "outputs": [],
   "source": []
  },
  {
   "cell_type": "code",
   "execution_count": 6,
   "id": "6a080d3a",
   "metadata": {},
   "outputs": [],
   "source": [
    "import matplotlib.pyplot as plt\n",
    "\n",
    "map_msg= rospy.wait_for_message('/prohibition_layer_map', OccupancyGrid)\n",
    "#map_msg= rospy.wait_for_message('/augmented_map', OccupancyGrid)\n",
    "inflated_map= np.asarray(map_msg.data)\n",
    "#cv2.imwrite('/home/roboworks/Pictures/inflatedmap.png',inflated_map)"
   ]
  },
  {
   "cell_type": "code",
   "execution_count": 7,
   "id": "3087e6ee",
   "metadata": {},
   "outputs": [
    {
     "data": {
      "text/plain": [
       "<matplotlib.image.AxesImage at 0x7fe5901cf460>"
      ]
     },
     "execution_count": 7,
     "metadata": {},
     "output_type": "execute_result"
    },
    {
     "data": {
      "image/png": "[encoded data removed]",
      "text/plain": [
       "<Figure size 640x480 with 1 Axes>"
      ]
     },
     "metadata": {},
     "output_type": "display_data"
    }
   ],
   "source": [
    "\n",
    "img_map=inflated_map.reshape((map_msg.info.width,map_msg.info.height))\n",
    "\n",
    "\n",
    "plt.imshow(img_map)"
   ]
  },
  {
   "cell_type": "code",
   "execution_count": 8,
   "id": "83857ed5",
   "metadata": {},
   "outputs": [],
   "source": [
    "origin_map_img=[round(img_map.shape[0]*0.5) ,round(img_map.shape[1]*0.5)]"
   ]
  },
  {
   "cell_type": "code",
   "execution_count": null,
   "id": "d8f31494",
   "metadata": {},
   "outputs": [],
   "source": [
    "\n",
    "\n",
    "\n"
   ]
  },
  {
   "cell_type": "code",
   "execution_count": 11,
   "id": "d9f9b1d7",
   "metadata": {},
   "outputs": [
    {
     "name": "stdout",
     "output_type": "stream",
     "text": [
      "x: -0.07582605630159378\n",
      "y: -0.5300196409225464\n",
      "z: 1.6551728248596191\n"
     ]
    }
   ],
   "source": [
    "origin_map_img=[round(img_map.shape[0]*0.5) ,round(img_map.shape[1]*0.5)]\n",
    "humanpose=detect_human_to_tf()  #make sure service is running"
   ]
  },
  {
   "cell_type": "code",
   "execution_count": 12,
   "id": "aa87d295",
   "metadata": {},
   "outputs": [
    {
     "name": "stdout",
     "output_type": "stream",
     "text": [
      "human in bedroom\n",
      "Robot  in kitchen\n",
      "maybe false positive... ignoring... \n"
     ]
    }
   ],
   "source": [
    "#OPTION CHECK CLOSEST  KNOWN LOCATION FOR ROOM\n",
    "\n",
    "\n",
    "if humanpose== False:\n",
    "    \n",
    "    print ('no human ')\n",
    "    \n",
    "else : \n",
    "    human_pose,_=tf_man.getTF('human')\n",
    "\n",
    "    pose=human_pose[:2]\n",
    "    \n",
    "    if img_map[origin_map_img[1]+ round(pose[1]/pix_per_m),origin_map_img[0]+ round(pose[0]/pix_per_m)]!=0:#### Yes axes seem to be \"flipped\" !=0:\n",
    "            print ('reject point, most likely part of the audience, outside of the arena map')\n",
    "            \n",
    "    dists=(pose-np.asarray(xys))\n",
    "    human_room=room_names[np.linalg.norm(dists, axis=1).argmin()]\n",
    "    print(f'human in {human_room}')\n",
    "    \n",
    "    robot_pose=get_robot_px()\n",
    "    dists=(robot_pose-np.asarray(xys))\n",
    "    robot_room=room_names[np.linalg.norm(dists, axis=1).argmin()]\n",
    "    print(f'Robot  in {robot_room}')\n",
    "    \n",
    "    if robot_room != human_room: print('maybe false positive... ignoring... ')\n",
    "    "
   ]
  },
  {
   "cell_type": "code",
   "execution_count": null,
   "id": "3bc5778f",
   "metadata": {},
   "outputs": [],
   "source": []
  },
  {
   "cell_type": "code",
   "execution_count": 13,
   "id": "6a843a34",
   "metadata": {},
   "outputs": [],
   "source": [
    "def draw_at (px,py, contoured):\n",
    "    contoured[px-5:px+5,py-5:py+5]=200\n",
    "    return contoured\n",
    "    "
   ]
  },
  {
   "cell_type": "code",
   "execution_count": 14,
   "id": "f1bbd853",
   "metadata": {},
   "outputs": [],
   "source": [
    "robot_pose=get_robot_px()\n",
    "px_pose_robot=np.asarray((origin_map_img[1]+robot_pose[1],origin_map_img[0]+robot_pose[0]))\n",
    "iimg=draw_at(px_pose_robot[0], px_pose_robot[1] , img_map )   #ROBOT PX POSE"
   ]
  },
  {
   "cell_type": "code",
   "execution_count": 15,
   "id": "71b67bbc",
   "metadata": {},
   "outputs": [],
   "source": [
    "#iimg=draw_at(origin_map_img[1]+ round( robot_pose[1]), origin_map_img[0]+ round(robot_pose[0]) , img_map )   #ROBOT PX POSE\n",
    "iimg=draw_at(origin_map_img[1]+ round(pose[1]/pix_per_m), origin_map_img[0]+ round(pose[0]/pix_per_m) , img_map )### HUMAN PX POSE"
   ]
  },
  {
   "cell_type": "code",
   "execution_count": 24,
   "id": "4f486f1f",
   "metadata": {},
   "outputs": [
    {
     "data": {
      "text/plain": [
       "<matplotlib.image.AxesImage at 0x7f190c216af0>"
      ]
     },
     "execution_count": 24,
     "metadata": {},
     "output_type": "execute_result"
    },
    {
     "data": {
      "image/png": "[encoded data removed]",
      "text/plain": [
       "<Figure size 640x480 with 1 Axes>"
      ]
     },
     "metadata": {},
     "output_type": "display_data"
    }
   ],
   "source": [
    "plt.imshow(iimg[750:1300,750:1300])\n",
    "\n",
    "#2 spots   human and robot"
   ]
  },
  {
   "cell_type": "code",
   "execution_count": 25,
   "id": "2328dc7c",
   "metadata": {},
   "outputs": [],
   "source": [
    "import cv2\n",
    "cv2.imwrite('/home/roboworks/Pictures/imgmap.png', img_map)\n",
    "img_map_rooms=cv2.imread('/home/roboworks/Pictures/imgmap.png')"
   ]
  },
  {
   "cell_type": "code",
   "execution_count": 16,
   "id": "3a39a31d",
   "metadata": {},
   "outputs": [
    {
     "ename": "NameError",
     "evalue": "name 'img_map_rooms' is not defined",
     "output_type": "error",
     "traceback": [
      "\u001b[0;31m---------------------------------------------------------------------------\u001b[0m",
      "\u001b[0;31mNameError\u001b[0m                                 Traceback (most recent call last)",
      "Cell \u001b[0;32mIn[16], line 1\u001b[0m\n\u001b[0;32m----> 1\u001b[0m plt\u001b[38;5;241m.\u001b[39mimshow(\u001b[43mimg_map_rooms\u001b[49m)  \u001b[38;5;66;03m## IMAGE FOR ROOM REGIOS\u001b[39;00m\n",
      "\u001b[0;31mNameError\u001b[0m: name 'img_map_rooms' is not defined"
     ]
    }
   ],
   "source": [
    "plt.imshow(img_map_rooms)  ## IMAGE FOR ROOM REGIOS"
   ]
  },
  {
   "cell_type": "code",
   "execution_count": null,
   "id": "64be79ed",
   "metadata": {},
   "outputs": [],
   "source": []
  },
  {
   "cell_type": "code",
   "execution_count": 39,
   "id": "376cd2e4",
   "metadata": {},
   "outputs": [
    {
     "name": "stderr",
     "output_type": "stream",
     "text": [
      "\u001b[33m[ WARN] [1688734826.633694137]: TF_REPEATED_DATA ignoring data with redundant timestamp for frame odom at time 2747.883000 according to authority /pose_integrator\u001b[0m\n",
      "\u001b[33m[ WARN] [1688734826.633742701]: TF_REPEATED_DATA ignoring data with redundant timestamp for frame odom at time 2747.883000 according to authority /pose_integrator\u001b[0m\n",
      "\u001b[33m[ WARN] [1688734826.633779099]: TF_REPEATED_DATA ignoring data with redundant timestamp for frame odom at time 2747.883000 according to authority /pose_integrator\u001b[0m\n",
      "\u001b[33m[ WARN] [1688734826.633813826]: TF_REPEATED_DATA ignoring data with redundant timestamp for frame odom at time 2747.883000 according to authority /pose_integrator\u001b[0m\n",
      "\u001b[33m[ WARN] [1688734826.633840610]: TF_REPEATED_DATA ignoring data with redundant timestamp for frame odom at time 2747.883000 according to authority /pose_integrator\u001b[0m\n",
      "\u001b[33m[ WARN] [1688734826.633866868]: TF_REPEATED_DATA ignoring data with redundant timestamp for frame odom at time 2747.883000 according to authority /pose_integrator\u001b[0m\n"
     ]
    },
    {
     "name": "stdout",
     "output_type": "stream",
     "text": [
      "1\n",
      "[((1012, 1045), (1125, 1151))]\n",
      "2\n",
      "[((1012, 1045), (1125, 1151)), ((1123, 1040), (1217, 1149))]\n",
      "3\n",
      "[((1012, 1045), (1125, 1151)), ((1123, 1040), (1217, 1149)), ((1123, 971), (1212, 1038))]\n",
      "4\n",
      "[((1012, 1045), (1125, 1151)), ((1123, 1040), (1217, 1149)), ((1123, 971), (1212, 1038)), ((1027, 968), (1122, 1043))]\n",
      "q\n"
     ]
    }
   ],
   "source": [
    "import cv2\n",
    "import matplotlib.pyplot as plt\n",
    "\n",
    "import numpy as np\n",
    "#cv2.imwrite('/home/roboworks/Pictures/imgmap.png', img_map)\n",
    "#img_map_rooms=cv2.imread('/home/roboworks/Pictures/imgmap.png')\n",
    "\n",
    "cropping = False\n",
    "\n",
    "x_start, y_start, x_end, y_end = 0, 0, 0, 0\n",
    "\n",
    "image = img_map_rooms[750:1250,750:1250]\n",
    "oriImage = image.copy()\n",
    "ii = image.copy()\n",
    "room_no=0\n",
    "regions=[]\n",
    "global room_no , regions\n",
    "def mouse_crop(event, x, y, flags, param):\n",
    "    # grab references to the global variables\n",
    "    global x_start, y_start, x_end, y_end, cropping,room_no\n",
    "    \n",
    "    # if the left mouse button was DOWN, start RECORDING\n",
    "    # (x, y) coordinates and indicate that cropping is being\n",
    "    if event == cv2.EVENT_LBUTTONDOWN:\n",
    "        \n",
    "\n",
    "        x_start, y_start, x_end, y_end = x, y, x, y\n",
    "        cropping = True\n",
    "        \n",
    "\n",
    "    # Mouse is Moving\n",
    "    elif event == cv2.EVENT_MOUSEMOVE:\n",
    "        if cropping :\n",
    "            x_end, y_end = x, y\n",
    "\n",
    "    # if the left mouse button was released\n",
    "    elif event == cv2.EVENT_LBUTTONUP:\n",
    "        # record the ending (x, y) coordinates\n",
    "        x_end, y_end = x, y\n",
    "        cropping = False # cropping is finished\n",
    "\n",
    "        refPoint = [(x_start, y_start), (x_end, y_end)]\n",
    "\n",
    "        if len(refPoint) == 2: #when two points were found\n",
    "            room_no+=1\n",
    "            print (room_no)\n",
    "            cv2.rectangle(ii, (x_start, y_start), (x_end, y_end), (255*np.random.rand(),255*np.random.rand(),255*np.random.rand()), -1)\n",
    "            regions.append(((x_start+750, y_start+750), (x_end+750, y_end+750)))\n",
    "            print (regions)\n",
    "            cv2.putText(ii, f'room{room_no}', (x_end,y_end),cv2.FONT_HERSHEY_SIMPLEX, 1 , (255, 0, 0),cv2.LINE_4)\n",
    "            cv2.imshow(\"rooms\", ii)\n",
    "\n",
    "cv2.namedWindow(\"image\")\n",
    "cv2.setMouseCallback(\"image\", mouse_crop)\n",
    "\n",
    "while True:\n",
    "\n",
    "    i = image.copy()\n",
    "\n",
    "    if not cropping:\n",
    "        cv2.imshow(\"image\", image)\n",
    "        \n",
    "\n",
    "    elif cropping:\n",
    "        cv2.rectangle(i, (x_start, y_start), (x_end, y_end), (255, 255,255), 6)\n",
    "        cv2.imshow(\"image\", i)\n",
    "    \n",
    "    \n",
    "    \n",
    "    keystroke = cv2.waitKey(0)\n",
    "    if 32 <= keystroke and keystroke < 128:\n",
    "        key = chr(keystroke).lower()\n",
    "        print (key)\n",
    "        if key=='q':\n",
    "            cv2.destroyAllWindows()\n",
    "            \n",
    "            break\n",
    "\n",
    "\n",
    "living_room_px_region=np.asarray(regions[0])\n",
    "kitchen_px_region=np.asarray(regions[1])\n",
    "bedroom_px_region=np.asarray(regions[2])\n",
    "dining_room_px_region=np.asarray(regions[3])\n",
    "    \n",
    "# close all open windows\n"
   ]
  },
  {
   "cell_type": "code",
   "execution_count": 17,
   "id": "c032b3fa",
   "metadata": {},
   "outputs": [],
   "source": [
    "\n",
    "    living_room_px_region=np.asarray(((1012, 1045), (1125, 1151)))\n",
    "    kitchen_px_region=np.asarray(((1123, 1040), (1217, 1149)))\n",
    "    bedroom_px_region=np.asarray(((1123, 971), (1212, 1038)))\n",
    "    dining_room_px_region=np.asarray(((1027, 968), (1122, 1043)))"
   ]
  },
  {
   "cell_type": "code",
   "execution_count": null,
   "id": "0858dfb1",
   "metadata": {},
   "outputs": [],
   "source": [
    "\n",
    "humanpose=detect_human_to_tf()  #make sure service is running\n",
    "\n",
    "if humanpose== False:\n",
    "    \n",
    "    print ('no human ')\n",
    "    \n",
    "else : \n",
    "    human_pose,_=tf_man.getTF('human')\n",
    "\n",
    "    pose=human_pose[:2]\n",
    "    px_pose_human=np.asarray(([origin_map_img[1]+ round(pose[1]/pix_per_m),origin_map_img[0]+ round(pose[0]/pix_per_m)]))\n",
    "    # if img_map[origin_map_img[1]+ round(pose[1]/pix_per_m),origin_map_img[0]+ round(pose[0]/pix_per_m)]!=0:#### Yes axes seem to be \"flipped\" !=0:\n",
    "    #        print ('reject point, most likely part of the audience, outside of the arena map')\n",
    "    \n",
    "    #pose=get_robot_px()\n",
    "    #px_pose_robot=np.asarray((origin_map_img[1]+pose[1],origin_map_img[0]+pose[0]))\n",
    "    #origin_map_img=[round(img_map.shape[0]*0.5) ,round(img_map.shape[1]*0.5)]\n",
    "    #room_robot = check_room_px(np.flip(px_pose_robot),living_room_px_region,kitchen_px_region,bedroom_px_region,dining_room_px_region)\n",
    "    room_human =check_room_px(np.flip(px_pose_human),living_room_px_region,kitchen_px_region,bedroom_px_region,dining_room_px_region)\n",
    "\n",
    "    print ('px human',px_pose_human)\n",
    "    print('room_human',room_human)\n",
    "    #print('room_robot,room_human',room_robot,room_human)"
   ]
  },
  {
   "cell_type": "code",
   "execution_count": 22,
   "id": "96022cb2",
   "metadata": {},
   "outputs": [
    {
     "name": "stdout",
     "output_type": "stream",
     "text": [
      "[5.187606216487556, -0.06891376490898793]\n"
     ]
    },
    {
     "data": {
      "text/plain": [
       "<matplotlib.image.AxesImage at 0x7fe5900a3880>"
      ]
     },
     "execution_count": 22,
     "metadata": {},
     "output_type": "execute_result"
    },
    {
     "data": {
      "image/png": "[encoded data removed]",
      "text/plain": [
       "<Figure size 640x480 with 1 Axes>"
      ]
     },
     "metadata": {},
     "output_type": "display_data"
    }
   ],
   "source": [
    "print (pose)\n",
    "iimg=draw_at(origin_map_img[1]+ round(pose[1]/pix_per_m), origin_map_img[0]+ round(pose[0]/pix_per_m) , img_map )### HUMAN PX POSE\n",
    "plt.imshow (iimg[750:1300,750:1300])"
   ]
  },
  {
   "cell_type": "code",
   "execution_count": null,
   "id": "76147120",
   "metadata": {},
   "outputs": [],
   "source": [
    "res=segmentation_server.call()\n",
    "origin_map_img=[round(img_map.shape[0]*0.5) ,round(img_map.shape[1]*0.5)]\n",
    "\n",
    "if len(res.poses.data)==0: print( 'failed')\n",
    "else:\n",
    "    print('object found')\n",
    "    \n",
    "    poses=np.asarray(res.poses.data)\n",
    "    poses=poses.reshape((int(len(poses)/3) ,3     )      )  \n",
    "    num_objs=len(poses)\n",
    "    print (num_objs)\n",
    "    for i,pose in enumerate(poses):\n",
    "        #print (f'Occupancy map at point object {i}-> pixels ',origin_map_img[1]+ round(pose[1]/pix_per_m),origin_map_img[0]+ round(pose[0]/pix_per_m), img_map[origin_map_img[1]+ round(pose[1]/pix_per_m),origin_map_img[0]+ round(pose[0]/pix_per_m)])\n",
    "        point_name=f'object_{i}'\n",
    "        tf_man.pub_static_tf(pos=pose, point_name=point_name, ref='head_rgbd_sensor_rgb_frame')## which object to choose   #TODO\n",
    "        rospy.sleep(0.3)\n",
    "        tf_man.change_ref_frame_tf(point_name=point_name, new_frame='map')\n",
    "        rospy.sleep(0.3)\n",
    "        pose,_= tf_man.getTF(point_name)\n",
    "        print (f'Occupancy map at point object {i}-> pixels ',origin_map_img[1]+ round(pose[1]/pix_per_m),origin_map_img[0]+ round(pose[0]/pix_per_m), img_map[origin_map_img[1]+ round(pose[1]/pix_per_m),origin_map_img[0]+ round(pose[0]/pix_per_m)])\n",
    "        if img_map[origin_map_img[1]+ round(pose[1]/pix_per_m),origin_map_img[0]+ round(pose[0]/pix_per_m)]!=0:#### Yes axes seem to be \"flipped\" !=0:\n",
    "            print ('reject point, most likely part of arena, occupied inflated map')\n",
    "            tf_man.pub_static_tf(pos=[0,0,0], point_name=point_name, ref='head_rgbd_sensor_rgb_frame')\n",
    "            num_objs-=1\n",
    "        print (f\"object found at robot coords.{pose} \")\n",
    "\n",
    "print(num_objs)"
   ]
  },
  {
   "cell_type": "code",
   "execution_count": 28,
   "id": "2f9dfdfd",
   "metadata": {},
   "outputs": [
    {
     "data": {
      "text/plain": [
       "[((1033, 1045), (1128, 1149)),\n",
       " ((1035, 976), (1120, 1037)),\n",
       " ((1125, 1038), (1218, 1148)),\n",
       " ((1121, 980), (1215, 1037))]"
      ]
     },
     "execution_count": 28,
     "metadata": {},
     "output_type": "execute_result"
    },
    {
     "name": "stderr",
     "output_type": "stream",
     "text": [
      "\u001b[33m[ WARN] [1688733814.526085948]: TF_REPEATED_DATA ignoring data with redundant timestamp for frame odom at time 2254.178000 according to authority /pose_integrator\u001b[0m\n",
      "\u001b[33m[ WARN] [1688733814.526137373]: TF_REPEATED_DATA ignoring data with redundant timestamp for frame odom at time 2254.178000 according to authority /pose_integrator\u001b[0m\n",
      "\u001b[33m[ WARN] [1688733814.526171178]: TF_REPEATED_DATA ignoring data with redundant timestamp for frame odom at time 2254.178000 according to authority /pose_integrator\u001b[0m\n",
      "\u001b[33m[ WARN] [1688733814.526205173]: TF_REPEATED_DATA ignoring data with redundant timestamp for frame odom at time 2254.178000 according to authority /pose_integrator\u001b[0m\n",
      "\u001b[33m[ WARN] [1688733814.526232275]: TF_REPEATED_DATA ignoring data with redundant timestamp for frame odom at time 2254.178000 according to authority /pose_integrator\u001b[0m\n",
      "\u001b[33m[ WARN] [1688733814.526263945]: TF_REPEATED_DATA ignoring data with redundant timestamp for frame odom at time 2254.178000 according to authority /pose_integrator\u001b[0m\n",
      "\u001b[33m[ WARN] [1688734010.854051432]: TF_REPEATED_DATA ignoring data with redundant timestamp for frame odom at time 2352.182000 according to authority /pose_integrator\u001b[0m\n",
      "\u001b[33m[ WARN] [1688734010.854097213]: TF_REPEATED_DATA ignoring data with redundant timestamp for frame odom at time 2352.182000 according to authority /pose_integrator\u001b[0m\n",
      "\u001b[33m[ WARN] [1688734010.854124836]: TF_REPEATED_DATA ignoring data with redundant timestamp for frame odom at time 2352.182000 according to authority /pose_integrator\u001b[0m\n",
      "\u001b[33m[ WARN] [1688734010.854161321]: TF_REPEATED_DATA ignoring data with redundant timestamp for frame odom at time 2352.182000 according to authority /pose_integrator\u001b[0m\n",
      "\u001b[33m[ WARN] [1688734010.854189054]: TF_REPEATED_DATA ignoring data with redundant timestamp for frame odom at time 2352.182000 according to authority /pose_integrator\u001b[0m\n",
      "\u001b[33m[ WARN] [1688734010.854219673]: TF_REPEATED_DATA ignoring data with redundant timestamp for frame odom at time 2352.182000 according to authority /pose_integrator\u001b[0m\n",
      "\u001b[33m[ WARN] [1688734048.769591415]: TF_REPEATED_DATA ignoring data with redundant timestamp for frame odom at time 2370.993000 according to authority /pose_integrator\u001b[0m\n",
      "\u001b[33m[ WARN] [1688734048.769638697]: TF_REPEATED_DATA ignoring data with redundant timestamp for frame odom at time 2370.993000 according to authority /pose_integrator\u001b[0m\n",
      "\u001b[33m[ WARN] [1688734048.769668105]: TF_REPEATED_DATA ignoring data with redundant timestamp for frame odom at time 2370.993000 according to authority /pose_integrator\u001b[0m\n",
      "\u001b[33m[ WARN] [1688734048.769698961]: TF_REPEATED_DATA ignoring data with redundant timestamp for frame odom at time 2370.993000 according to authority /pose_integrator\u001b[0m\n",
      "\u001b[33m[ WARN] [1688734048.769735436]: TF_REPEATED_DATA ignoring data with redundant timestamp for frame odom at time 2370.993000 according to authority /pose_integrator\u001b[0m\n",
      "\u001b[33m[ WARN] [1688734048.769767022]: TF_REPEATED_DATA ignoring data with redundant timestamp for frame odom at time 2370.993000 according to authority /pose_integrator\u001b[0m\n",
      "\u001b[33m[ WARN] [1688734169.851596353]: TF_REPEATED_DATA ignoring data with redundant timestamp for frame odom at time 2431.666000 according to authority /pose_integrator\u001b[0m\n",
      "\u001b[33m[ WARN] [1688734169.851643286]: TF_REPEATED_DATA ignoring data with redundant timestamp for frame odom at time 2431.666000 according to authority /pose_integrator\u001b[0m\n",
      "\u001b[33m[ WARN] [1688734169.851669906]: TF_REPEATED_DATA ignoring data with redundant timestamp for frame odom at time 2431.666000 according to authority /pose_integrator\u001b[0m\n",
      "\u001b[33m[ WARN] [1688734169.851693418]: TF_REPEATED_DATA ignoring data with redundant timestamp for frame odom at time 2431.666000 according to authority /pose_integrator\u001b[0m\n",
      "\u001b[33m[ WARN] [1688734169.851716043]: TF_REPEATED_DATA ignoring data with redundant timestamp for frame odom at time 2431.666000 according to authority /pose_integrator\u001b[0m\n",
      "\u001b[33m[ WARN] [1688734169.851738842]: TF_REPEATED_DATA ignoring data with redundant timestamp for frame odom at time 2431.666000 according to authority /pose_integrator\u001b[0m\n",
      "\u001b[33m[ WARN] [1688734177.548873384]: TF_REPEATED_DATA ignoring data with redundant timestamp for frame odom at time 2435.543000 according to authority /pose_integrator\u001b[0m\n",
      "\u001b[33m[ WARN] [1688734177.548926639]: TF_REPEATED_DATA ignoring data with redundant timestamp for frame odom at time 2435.543000 according to authority /pose_integrator\u001b[0m\n",
      "\u001b[33m[ WARN] [1688734177.548959671]: TF_REPEATED_DATA ignoring data with redundant timestamp for frame odom at time 2435.543000 according to authority /pose_integrator\u001b[0m\n",
      "\u001b[33m[ WARN] [1688734177.548988485]: TF_REPEATED_DATA ignoring data with redundant timestamp for frame odom at time 2435.543000 according to authority /pose_integrator\u001b[0m\n",
      "\u001b[33m[ WARN] [1688734177.549016760]: TF_REPEATED_DATA ignoring data with redundant timestamp for frame odom at time 2435.543000 according to authority /pose_integrator\u001b[0m\n",
      "\u001b[33m[ WARN] [1688734177.549044236]: TF_REPEATED_DATA ignoring data with redundant timestamp for frame odom at time 2435.543000 according to authority /pose_integrator\u001b[0m\n"
     ]
    }
   ],
   "source": [
    "[((1033, 1045), (1128, 1149)), ((1035, 976), (1120, 1037)), ((1125, 1038), (1218, 1148)), ((1121, 980), (1215, 1037))]"
   ]
  },
  {
   "cell_type": "code",
   "execution_count": 29,
   "id": "00331057",
   "metadata": {},
   "outputs": [
    {
     "data": {
      "text/plain": [
       "((1033, 1045), (1128, 1149))"
      ]
     },
     "execution_count": 29,
     "metadata": {},
     "output_type": "execute_result"
    },
    {
     "name": "stderr",
     "output_type": "stream",
     "text": [
      "\u001b[33m[ WARN] [1688734237.633999664]: TF_REPEATED_DATA ignoring data with redundant timestamp for frame odom at time 2465.112000 according to authority /pose_integrator\u001b[0m\n",
      "\u001b[33m[ WARN] [1688734237.634046208]: TF_REPEATED_DATA ignoring data with redundant timestamp for frame odom at time 2465.112000 according to authority /pose_integrator\u001b[0m\n",
      "\u001b[33m[ WARN] [1688734237.634078829]: TF_REPEATED_DATA ignoring data with redundant timestamp for frame odom at time 2465.112000 according to authority /pose_integrator\u001b[0m\n",
      "\u001b[33m[ WARN] [1688734237.634104562]: TF_REPEATED_DATA ignoring data with redundant timestamp for frame odom at time 2465.112000 according to authority /pose_integrator\u001b[0m\n",
      "\u001b[33m[ WARN] [1688734237.634128062]: TF_REPEATED_DATA ignoring data with redundant timestamp for frame odom at time 2465.112000 according to authority /pose_integrator\u001b[0m\n",
      "\u001b[33m[ WARN] [1688734237.634158766]: TF_REPEATED_DATA ignoring data with redundant timestamp for frame odom at time 2465.112000 according to authority /pose_integrator\u001b[0m\n"
     ]
    }
   ],
   "source": [
    "regions[0]"
   ]
  },
  {
   "cell_type": "code",
   "execution_count": null,
   "id": "f67dbdc4",
   "metadata": {},
   "outputs": [],
   "source": []
  }
 ],
 "metadata": {
  "kernelspec": {
   "display_name": "Python 3 (ipykernel)",
   "language": "python",
   "name": "python3"
  },
  "language_info": {
   "codemirror_mode": {
    "name": "ipython",
    "version": 3
   },
   "file_extension": ".py",
   "mimetype": "text/x-python",
   "name": "python",
   "nbconvert_exporter": "python",
   "pygments_lexer": "ipython3",
   "version": "3.8.10"
  }
 },
 "nbformat": 4,
 "nbformat_minor": 5
}

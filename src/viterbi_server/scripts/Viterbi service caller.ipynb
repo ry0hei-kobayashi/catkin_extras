{
 "cells": [
  {
   "cell_type": "code",
   "execution_count": null,
   "id": "a2d7e771",
   "metadata": {},
   "outputs": [],
   "source": [
    "from utils_hmm import  viterbi,forw_alg,backw_alg ,  HMM\n",
    "from viterbi_server.msg import Obs_symbols\n",
    "import numpy as np"
   ]
  },
  {
   "cell_type": "code",
   "execution_count": null,
   "id": "76dc2775",
   "metadata": {},
   "outputs": [],
   "source": [
    "viterbi()"
   ]
  },
  {
   "cell_type": "code",
   "execution_count": null,
   "id": "202a8d40",
   "metadata": {},
   "outputs": [],
   "source": [
    "A,B,PI=np.load('/home/roboworks/catkin_extras/src/viterbi_server/scripts/matrices/A.npy'),np.load('/home/roboworks/catkin_extras/src/viterbi_server/scripts/matrices/B.npy'),np.load('/home/roboworks/catkin_extras/src/viterbi_server/scripts/matrices/PI.npy')"
   ]
  },
  {
   "cell_type": "code",
   "execution_count": null,
   "id": "1f2f0e12",
   "metadata": {},
   "outputs": [],
   "source": [
    "Modelo= HMM(A,B,PI)"
   ]
  },
  {
   "cell_type": "code",
   "execution_count": null,
   "id": "aaad8c7b",
   "metadata": {},
   "outputs": [],
   "source": [
    "Modelo.A.shape,Modelo.B.shape"
   ]
  },
  {
   "cell_type": "code",
   "execution_count": null,
   "id": "14ef6788",
   "metadata": {},
   "outputs": [],
   "source": [
    "o_k= []"
   ]
  },
  {
   "cell_type": "code",
   "execution_count": null,
   "id": "9a80b4ec",
   "metadata": {},
   "outputs": [],
   "source": [
    "o_k.append(1)"
   ]
  },
  {
   "cell_type": "code",
   "execution_count": null,
   "id": "76ff54cc",
   "metadata": {},
   "outputs": [],
   "source": [
    "o_k"
   ]
  },
  {
   "cell_type": "code",
   "execution_count": null,
   "id": "b3f21075",
   "metadata": {},
   "outputs": [],
   "source": [
    "vit_est= viterbi(o_k,Modelo,Modelo.PI)\n",
    "vit_est"
   ]
  },
  {
   "cell_type": "code",
   "execution_count": null,
   "id": "a6196b42",
   "metadata": {},
   "outputs": [],
   "source": [
    "Modelo.B.shape, Modelo.A.shape"
   ]
  },
  {
   "cell_type": "code",
   "execution_count": null,
   "id": "a4963ac7",
   "metadata": {},
   "outputs": [],
   "source": []
  },
  {
   "cell_type": "code",
   "execution_count": 1,
   "id": "59698bd2",
   "metadata": {},
   "outputs": [],
   "source": [
    "import rospy\n",
    "from viterbi_server.srv import Viterbify , ViterbifyRequest\n",
    "from viterbi_server.msg import States_estimated"
   ]
  },
  {
   "cell_type": "code",
   "execution_count": 2,
   "id": "b2dec103",
   "metadata": {},
   "outputs": [],
   "source": [
    "try:\n",
    "    vit_srv = rospy.ServiceProxy('viterbify', Viterbify)\n",
    "    #resp1 = add_two_ints(x, y)\n",
    "    #return resp1.sum\n",
    "except rospy.ServiceException as e:\n",
    "    print(\"Service call failed: %s\"%e)"
   ]
  },
  {
   "cell_type": "code",
   "execution_count": 41,
   "id": "85bffb47",
   "metadata": {},
   "outputs": [],
   "source": [
    "req= ViterbifyRequest()"
   ]
  },
  {
   "cell_type": "code",
   "execution_count": 42,
   "id": "88893ae7",
   "metadata": {},
   "outputs": [
    {
     "data": {
      "text/plain": [
       "data: \n",
       "  data: []"
      ]
     },
     "execution_count": 42,
     "metadata": {},
     "output_type": "execute_result"
    }
   ],
   "source": [
    "req"
   ]
  },
  {
   "cell_type": "code",
   "execution_count": 48,
   "id": "9959a197",
   "metadata": {},
   "outputs": [],
   "source": [
    "req.data.data.append(3)"
   ]
  },
  {
   "cell_type": "code",
   "execution_count": 49,
   "id": "3cc3e1b4",
   "metadata": {},
   "outputs": [
    {
     "data": {
      "text/plain": [
       "data: \n",
       "  data: [3, 3, 3, 3, 3, 3]"
      ]
     },
     "execution_count": 49,
     "metadata": {},
     "output_type": "execute_result"
    }
   ],
   "source": [
    "req"
   ]
  },
  {
   "cell_type": "code",
   "execution_count": 50,
   "id": "8e1213b4",
   "metadata": {},
   "outputs": [],
   "source": [
    "rospy.wait_for_service('viterbify')"
   ]
  },
  {
   "cell_type": "code",
   "execution_count": 52,
   "id": "a8ebd7ce",
   "metadata": {},
   "outputs": [
    {
     "data": {
      "text/plain": [
       "data: \n",
       "  data: [0, 20, 20, 20, 20, 20, 20]"
      ]
     },
     "execution_count": 52,
     "metadata": {},
     "output_type": "execute_result"
    }
   ],
   "source": [
    "vit_srv.call(req)"
   ]
  },
  {
   "cell_type": "code",
   "execution_count": 20,
   "id": "571d2c9c",
   "metadata": {},
   "outputs": [
    {
     "ename": "NameError",
     "evalue": "name 'viterbi' is not defined",
     "output_type": "error",
     "traceback": [
      "\u001b[0;31m---------------------------------------------------------------------------\u001b[0m",
      "\u001b[0;31mNameError\u001b[0m                                 Traceback (most recent call last)",
      "Cell \u001b[0;32mIn[20], line 1\u001b[0m\n\u001b[0;32m----> 1\u001b[0m vit_est\u001b[38;5;241m=\u001b[39m \u001b[43mviterbi\u001b[49m(req\u001b[38;5;241m.\u001b[39mdata\u001b[38;5;241m.\u001b[39mdata,Modelo,Modelo\u001b[38;5;241m.\u001b[39mPI)\n\u001b[1;32m      2\u001b[0m vit_est\n",
      "\u001b[0;31mNameError\u001b[0m: name 'viterbi' is not defined"
     ]
    }
   ],
   "source": [
    "vit_est= viterbi(req.data.data,Modelo,Modelo.PI)\n",
    "vit_est"
   ]
  },
  {
   "cell_type": "code",
   "execution_count": 25,
   "id": "ed2b251c",
   "metadata": {},
   "outputs": [],
   "source": [
    "states= States_estimated()"
   ]
  },
  {
   "cell_type": "code",
   "execution_count": 33,
   "id": "e838a0d8",
   "metadata": {},
   "outputs": [],
   "source": [
    "states.data.append(1)"
   ]
  },
  {
   "cell_type": "code",
   "execution_count": null,
   "id": "3a9a3d88",
   "metadata": {},
   "outputs": [],
   "source": [
    "states.data=vit_est"
   ]
  },
  {
   "cell_type": "code",
   "execution_count": 34,
   "id": "00698e69",
   "metadata": {},
   "outputs": [
    {
     "data": {
      "text/plain": [
       "data: [1, 1, 1, 1, 1, 1]"
      ]
     },
     "execution_count": 34,
     "metadata": {},
     "output_type": "execute_result"
    }
   ],
   "source": [
    "\n",
    "states"
   ]
  },
  {
   "cell_type": "code",
   "execution_count": null,
   "id": "1a9a65b8",
   "metadata": {},
   "outputs": [],
   "source": [
    "vit_est= viterbi(req.data.data,Modelo,Modelo.PI)\n"
   ]
  },
  {
   "cell_type": "code",
   "execution_count": null,
   "id": "d6df0bf4",
   "metadata": {},
   "outputs": [],
   "source": [
    "vit_est"
   ]
  },
  {
   "cell_type": "code",
   "execution_count": null,
   "id": "801e8148",
   "metadata": {},
   "outputs": [],
   "source": [
    "type(req.data.data)"
   ]
  },
  {
   "cell_type": "code",
   "execution_count": null,
   "id": "1cda4e89",
   "metadata": {},
   "outputs": [],
   "source": [
    "delta=np.zeros((len(req.data.data)+1,len(Modelo.A)))\n",
    "delta[0,:]= Modelo.PI * Modelo.B[:,req.data.data[0]]\n"
   ]
  },
  {
   "cell_type": "code",
   "execution_count": null,
   "id": "b6ce7b01",
   "metadata": {},
   "outputs": [],
   "source": []
  }
 ],
 "metadata": {
  "kernelspec": {
   "display_name": "Python 3 (ipykernel)",
   "language": "python",
   "name": "python3"
  },
  "language_info": {
   "codemirror_mode": {
    "name": "ipython",
    "version": 3
   },
   "file_extension": ".py",
   "mimetype": "text/x-python",
   "name": "python",
   "nbconvert_exporter": "python",
   "pygments_lexer": "ipython3",
   "version": "3.8.10"
  }
 },
 "nbformat": 4,
 "nbformat_minor": 5
}

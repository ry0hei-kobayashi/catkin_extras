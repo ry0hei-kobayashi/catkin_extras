{
 "cells": [
  {
   "cell_type": "code",
   "execution_count": 1,
   "id": "2ca81f6a",
   "metadata": {},
   "outputs": [],
   "source": [
    "import rospkg\n",
    "import yaml\n",
    "from utils.grasp_utils import *\n",
    "from utils.nav_utils import *\n",
    "from utils.know_utils import *\n",
    "import rospy"
   ]
  },
  {
   "cell_type": "code",
   "execution_count": 2,
   "id": "e5943aaf",
   "metadata": {},
   "outputs": [],
   "source": [
    "rospy.init_node('knowledge')"
   ]
  },
  {
   "cell_type": "code",
   "execution_count": 3,
   "id": "9452c8f7",
   "metadata": {},
   "outputs": [],
   "source": [
    "def read_yaml(known_locations_file='/receptionist_knowledge2.yaml'):\n",
    "    rospack = rospkg.RosPack()\n",
    "    file_path = rospack.get_path('config_files') + known_locations_file\n",
    "\n",
    "    with open(file_path, 'r') as file:\n",
    "        content = yaml.safe_load(file)\n",
    "    return content"
   ]
  },
  {
   "cell_type": "code",
   "execution_count": 4,
   "id": "f9850c51",
   "metadata": {},
   "outputs": [],
   "source": [
    "knowledge = read_yaml()"
   ]
  },
  {
   "cell_type": "code",
   "execution_count": 5,
   "id": "9434ba39",
   "metadata": {},
   "outputs": [
    {
     "data": {
      "text/plain": [
       "{'People': {'Guest_1': {'drink': 'Juice', 'location': 'None', 'name': 'Tomas'},\n",
       "  'Guest_2': {'drink': 'Coffee', 'location': 'None', 'name': 'Pedro'},\n",
       "  'Guest_3': {'drink': 'Juice', 'location': 'Place_2', 'name': 'Jose'},\n",
       "  'Guest_4': {'drink': 'Beer', 'location': 'None', 'name': 'Juan'},\n",
       "  'Host': {'drink': 'Coke', 'location': 'Place_1', 'name': 'Ruben'}},\n",
       " 'Places': {'Place_0': {'location': {'theta': 0.0, 'x': 0.0, 'y': 0.0},\n",
       "   'occupied': 'occupied'},\n",
       "  'Place_1': {'location': {'theta': 0.05, 'x': 9.71, 'y': -3.14},\n",
       "   'occupied': 'Host'},\n",
       "  'Place_2': {'location': {'theta': 4.72, 'x': 9.76, 'y': -3.31},\n",
       "   'occupied': 'Guest_3'},\n",
       "  'Place_3': {'location': {'theta': 0.06, 'x': 9.75, 'y': -2.47},\n",
       "   'occupied': 'None'}}}"
      ]
     },
     "execution_count": 5,
     "metadata": {},
     "output_type": "execute_result"
    }
   ],
   "source": [
    "knowledge"
   ]
  },
  {
   "cell_type": "code",
   "execution_count": 6,
   "id": "8e326824",
   "metadata": {},
   "outputs": [],
   "source": [
    "def write_yaml(new_knowledge):\n",
    "    rospack = rospkg.RosPack()\n",
    "    file_path = rospack.get_path('config_files') + '/receptionist_knowledge2.yaml'\n",
    "    with open(file_path, 'w') as file:\n",
    "        documents = yaml.dump(new_knowledge, file)"
   ]
  },
  {
   "cell_type": "code",
   "execution_count": 7,
   "id": "497f3df6",
   "metadata": {},
   "outputs": [],
   "source": [
    "def update_occupancy(found = 'None', place = 'None'):\n",
    "    #Use: hsr found someone on a supposed empty place \n",
    "    knowledge = read_yaml()\n",
    "    # found is a name\n",
    "    if found != ' None' and place != 'None':\n",
    "        #get guest number of this someone\n",
    "        guest = [key for key, person_dict in knowledge['People'].items() if person_dict.get('name') == found]\n",
    "        #get the seat that guest used to have\n",
    "        seat = [key for key, places_dict in knowledge['Places'].items() if places_dict.get('occupied') == guest[0]]\n",
    "        #change knowledge\n",
    "        knowledge['People'][guest[0]]['location'] = place\n",
    "        knowledge['Places'][seat[0]]['occupied'] = 'None'\n",
    "        knowledge['Places'][place]['occupied'] = guest[0]\n",
    "        write_yaml(knowledge)\n",
    "        return True\n",
    "    else: return False\n",
    "    "
   ]
  },
  {
   "cell_type": "code",
   "execution_count": 8,
   "id": "35a405c4",
   "metadata": {},
   "outputs": [],
   "source": [
    "def find_empty_places():\n",
    "    knowledge = read_yaml()\n",
    "    seat = [key for key, places_dict in knowledge['Places'].items() if places_dict.get('occupied') == 'None']\n",
    "    loc = list(knowledge['Places'][seat[0]]['location'].values())\n",
    "    t,x,y = loc\n",
    "    return seat[0], [x,y,t]"
   ]
  },
  {
   "cell_type": "code",
   "execution_count": 9,
   "id": "672fe7e2",
   "metadata": {},
   "outputs": [],
   "source": [
    "def assign_occupancy(who = 'None', where = 'None'):\n",
    "    #Use: hsr found a empty place for the new guest\n",
    "    knowledge = read_yaml()\n",
    "    if who != ' None' and where != 'None':\n",
    "        guest = [key for key, person_dict in knowledge['People'].items() if person_dict.get('name') == who]\n",
    "        knowledge['People'][guest[0]]['location'] = where\n",
    "        knowledge['Places'][where]['occupied'] = guest[0]\n",
    "        write_yaml(knowledge)\n",
    "        return True\n",
    "    else:\n",
    "        return False"
   ]
  },
  {
   "cell_type": "code",
   "execution_count": 10,
   "id": "8c76bc70",
   "metadata": {},
   "outputs": [
    {
     "data": {
      "text/plain": [
       "{'People': {'Guest_1': {'drink': 'Juice', 'location': 'None', 'name': 'Tomas'},\n",
       "  'Guest_2': {'drink': 'Coffee', 'location': 'None', 'name': 'Pedro'},\n",
       "  'Guest_3': {'drink': 'Juice', 'location': 'Place_2', 'name': 'Jose'},\n",
       "  'Guest_4': {'drink': 'Beer', 'location': 'None', 'name': 'Juan'},\n",
       "  'Host': {'drink': 'Coke', 'location': 'Place_1', 'name': 'Ruben'}},\n",
       " 'Places': {'Place_0': {'location': {'theta': 0.0, 'x': 0.0, 'y': 0.0},\n",
       "   'occupied': 'occupied'},\n",
       "  'Place_1': {'location': {'theta': 0.05, 'x': 9.71, 'y': -3.14},\n",
       "   'occupied': 'Host'},\n",
       "  'Place_2': {'location': {'theta': 4.72, 'x': 9.76, 'y': -3.31},\n",
       "   'occupied': 'Guest_3'},\n",
       "  'Place_3': {'location': {'theta': 0.06, 'x': 9.75, 'y': -2.47},\n",
       "   'occupied': 'None'}}}"
      ]
     },
     "execution_count": 10,
     "metadata": {},
     "output_type": "execute_result"
    }
   ],
   "source": [
    "knowledge"
   ]
  },
  {
   "cell_type": "code",
   "execution_count": 11,
   "id": "16682818",
   "metadata": {
    "scrolled": true
   },
   "outputs": [
    {
     "ename": "IndexError",
     "evalue": "list index out of range",
     "output_type": "error",
     "traceback": [
      "\u001b[0;31m---------------------------------------------------------------------------\u001b[0m",
      "\u001b[0;31mIndexError\u001b[0m                                Traceback (most recent call last)",
      "Input \u001b[0;32mIn [11]\u001b[0m, in \u001b[0;36m<cell line: 1>\u001b[0;34m()\u001b[0m\n\u001b[0;32m----> 1\u001b[0m \u001b[43mupdate_occupancy\u001b[49m\u001b[43m(\u001b[49m\u001b[38;5;124;43m'\u001b[39;49m\u001b[38;5;124;43mJuan\u001b[39;49m\u001b[38;5;124;43m'\u001b[39;49m\u001b[43m,\u001b[49m\u001b[38;5;124;43m'\u001b[39;49m\u001b[38;5;124;43mPlace_6\u001b[39;49m\u001b[38;5;124;43m'\u001b[39;49m\u001b[43m)\u001b[49m\n",
      "Input \u001b[0;32mIn [7]\u001b[0m, in \u001b[0;36mupdate_occupancy\u001b[0;34m(found, place)\u001b[0m\n\u001b[1;32m     10\u001b[0m \u001b[38;5;66;03m#change knowledge\u001b[39;00m\n\u001b[1;32m     11\u001b[0m knowledge[\u001b[38;5;124m'\u001b[39m\u001b[38;5;124mPeople\u001b[39m\u001b[38;5;124m'\u001b[39m][guest[\u001b[38;5;241m0\u001b[39m]][\u001b[38;5;124m'\u001b[39m\u001b[38;5;124mlocation\u001b[39m\u001b[38;5;124m'\u001b[39m] \u001b[38;5;241m=\u001b[39m place\n\u001b[0;32m---> 12\u001b[0m knowledge[\u001b[38;5;124m'\u001b[39m\u001b[38;5;124mPlaces\u001b[39m\u001b[38;5;124m'\u001b[39m][\u001b[43mseat\u001b[49m\u001b[43m[\u001b[49m\u001b[38;5;241;43m0\u001b[39;49m\u001b[43m]\u001b[49m][\u001b[38;5;124m'\u001b[39m\u001b[38;5;124moccupied\u001b[39m\u001b[38;5;124m'\u001b[39m] \u001b[38;5;241m=\u001b[39m \u001b[38;5;124m'\u001b[39m\u001b[38;5;124mNone\u001b[39m\u001b[38;5;124m'\u001b[39m\n\u001b[1;32m     13\u001b[0m knowledge[\u001b[38;5;124m'\u001b[39m\u001b[38;5;124mPlaces\u001b[39m\u001b[38;5;124m'\u001b[39m][place][\u001b[38;5;124m'\u001b[39m\u001b[38;5;124moccupied\u001b[39m\u001b[38;5;124m'\u001b[39m] \u001b[38;5;241m=\u001b[39m guest[\u001b[38;5;241m0\u001b[39m]\n\u001b[1;32m     14\u001b[0m write_yaml(knowledge)\n",
      "\u001b[0;31mIndexError\u001b[0m: list index out of range"
     ]
    }
   ],
   "source": [
    "update_occupancy('Juan','Place_6')\n"
   ]
  },
  {
   "cell_type": "code",
   "execution_count": 68,
   "id": "cc752b65",
   "metadata": {
    "scrolled": false
   },
   "outputs": [
    {
     "data": {
      "text/plain": [
       "True"
      ]
     },
     "execution_count": 68,
     "metadata": {},
     "output_type": "execute_result"
    },
    {
     "name": "stderr",
     "output_type": "stream",
     "text": [
      "Warning: TF_REPEATED_DATA ignoring data with redundant timestamp for frame odom at time 2444.334000 according to authority /pose_integrator\n",
      "         at line 278 in /tmp/binarydeb/ros-noetic-tf2-0.7.6/src/buffer_core.cpp\n",
      "Warning: TF_REPEATED_DATA ignoring data with redundant timestamp for frame odom at time 2444.334000 according to authority /pose_integrator\n",
      "         at line 278 in /tmp/binarydeb/ros-noetic-tf2-0.7.6/src/buffer_core.cpp\n",
      "Warning: TF_REPEATED_DATA ignoring data with redundant timestamp for frame odom at time 2444.334000 according to authority /pose_integrator\n",
      "         at line 278 in /tmp/binarydeb/ros-noetic-tf2-0.7.6/src/buffer_core.cpp\n",
      "Warning: TF_REPEATED_DATA ignoring data with redundant timestamp for frame odom at time 2444.334000 according to authority /pose_integrator\n",
      "         at line 278 in /tmp/binarydeb/ros-noetic-tf2-0.7.6/src/buffer_core.cpp\n",
      "Warning: TF_REPEATED_DATA ignoring data with redundant timestamp for frame odom at time 2444.334000 according to authority /pose_integrator\n",
      "         at line 278 in /tmp/binarydeb/ros-noetic-tf2-0.7.6/src/buffer_core.cpp\n",
      "Warning: TF_REPEATED_DATA ignoring data with redundant timestamp for frame odom at time 2444.334000 according to authority /pose_integrator\n",
      "         at line 278 in /tmp/binarydeb/ros-noetic-tf2-0.7.6/src/buffer_core.cpp\n"
     ]
    }
   ],
   "source": [
    "assign_occupancy('Pedro', 'Place_5')"
   ]
  },
  {
   "cell_type": "code",
   "execution_count": 12,
   "id": "2d1271ad",
   "metadata": {},
   "outputs": [
    {
     "data": {
      "text/plain": [
       "('Place_3', [9.75, -2.47, 0.06])"
      ]
     },
     "execution_count": 12,
     "metadata": {},
     "output_type": "execute_result"
    }
   ],
   "source": [
    "find_empty_places()\n"
   ]
  },
  {
   "cell_type": "code",
   "execution_count": 13,
   "id": "85dbcdb6",
   "metadata": {},
   "outputs": [],
   "source": [
    "def add_guest(name, drink):\n",
    "    knowledge = read_yaml()\n",
    "    guests_len = len(knowledge['People'])\n",
    "    new_guest = f'Guest_{guests_len}'\n",
    "    knowledge['People'][new_guest] = {'drink': drink, 'location': 'None', 'name': name}\n",
    "    write_yaml(knowledge)\n",
    "    return True"
   ]
  },
  {
   "cell_type": "code",
   "execution_count": 25,
   "id": "7b82215c",
   "metadata": {},
   "outputs": [
    {
     "data": {
      "text/plain": [
       "True"
      ]
     },
     "execution_count": 25,
     "metadata": {},
     "output_type": "execute_result"
    }
   ],
   "source": [
    "add_guest('Paco', 'Soda')"
   ]
  },
  {
   "cell_type": "code",
   "execution_count": 14,
   "id": "7b268918",
   "metadata": {
    "scrolled": true
   },
   "outputs": [],
   "source": [
    "def add_place():\n",
    "    try:\n",
    "        tf_manager = TF_MANAGER()\n",
    "        rospy.sleep(0.8)\n",
    "        trans, rot = tf_manager.getTF( target_frame='base_link')\n",
    "        _, _, theta = tf.transformations.euler_from_quaternion(rot)\n",
    "        places_len = len(knowledge['Places'])\n",
    "        new_place = f'Place_{places_len}'\n",
    "        knowledge['Places'][new_place] = {'location': {'theta': round(theta%(6.283),2), 'x': round(trans[0],2), 'y': round(trans[1],2)}, 'occupied':'None'}\n",
    "        write_yaml(knowledge)\n",
    "        return True\n",
    "    except:\n",
    "        return False"
   ]
  },
  {
   "cell_type": "code",
   "execution_count": 39,
   "id": "59e126f3",
   "metadata": {},
   "outputs": [
    {
     "data": {
      "text/plain": [
       "True"
      ]
     },
     "execution_count": 39,
     "metadata": {},
     "output_type": "execute_result"
    }
   ],
   "source": [
    "add_place()"
   ]
  },
  {
   "cell_type": "code",
   "execution_count": 15,
   "id": "dbbc95e6",
   "metadata": {},
   "outputs": [],
   "source": [
    "base = OMNIBASE()"
   ]
  },
  {
   "cell_type": "code",
   "execution_count": 16,
   "id": "a66b2d85",
   "metadata": {},
   "outputs": [],
   "source": [
    "\n",
    "place, loc= find_empty_places()"
   ]
  },
  {
   "cell_type": "code",
   "execution_count": 17,
   "id": "5ae62cad",
   "metadata": {},
   "outputs": [
    {
     "data": {
      "text/plain": [
       "'Place_3'"
      ]
     },
     "execution_count": 17,
     "metadata": {},
     "output_type": "execute_result"
    }
   ],
   "source": [
    "place"
   ]
  },
  {
   "cell_type": "code",
   "execution_count": 18,
   "id": "6db8bc03",
   "metadata": {
    "scrolled": true
   },
   "outputs": [
    {
     "name": "stdout",
     "output_type": "stream",
     "text": [
      "header: \n",
      "  seq: 0\n",
      "  stamp: \n",
      "    secs: 0\n",
      "    nsecs:         0\n",
      "  frame_id: ''\n",
      "goal_id: \n",
      "  stamp: \n",
      "    secs: 0\n",
      "    nsecs:         0\n",
      "  id: ''\n",
      "goal: \n",
      "  x: 9.75\n",
      "  y: -2.47\n",
      "  yaw: 0.06\n",
      "  timeout: 30\n",
      "  known_location: \"None\"\n"
     ]
    },
    {
     "data": {
      "text/plain": [
       "3"
      ]
     },
     "execution_count": 18,
     "metadata": {},
     "output_type": "execute_result"
    }
   ],
   "source": [
    "base.move_base(*loc, time_out=30)"
   ]
  },
  {
   "cell_type": "code",
   "execution_count": 40,
   "id": "ed0af84d",
   "metadata": {},
   "outputs": [
    {
     "ename": "IndexError",
     "evalue": "list index out of range",
     "output_type": "error",
     "traceback": [
      "\u001b[0;31m---------------------------------------------------------------------------\u001b[0m",
      "\u001b[0;31mIndexError\u001b[0m                                Traceback (most recent call last)",
      "Input \u001b[0;32mIn [40]\u001b[0m, in \u001b[0;36m<cell line: 1>\u001b[0;34m()\u001b[0m\n\u001b[0;32m----> 1\u001b[0m \u001b[43mupdate_occupancy\u001b[49m\u001b[43m(\u001b[49m\u001b[38;5;124;43m'\u001b[39;49m\u001b[38;5;124;43mRuben\u001b[39;49m\u001b[38;5;124;43m'\u001b[39;49m\u001b[43m,\u001b[49m\u001b[43m \u001b[49m\u001b[38;5;124;43m'\u001b[39;49m\u001b[38;5;124;43mPlace_2\u001b[39;49m\u001b[38;5;124;43m'\u001b[39;49m\u001b[43m)\u001b[49m\n",
      "Input \u001b[0;32mIn [12]\u001b[0m, in \u001b[0;36mupdate_occupancy\u001b[0;34m(found, place)\u001b[0m\n\u001b[1;32m     10\u001b[0m \u001b[38;5;66;03m#change knowledge\u001b[39;00m\n\u001b[1;32m     11\u001b[0m knowledge[\u001b[38;5;124m'\u001b[39m\u001b[38;5;124mPeople\u001b[39m\u001b[38;5;124m'\u001b[39m][guest[\u001b[38;5;241m0\u001b[39m]][\u001b[38;5;124m'\u001b[39m\u001b[38;5;124mlocation\u001b[39m\u001b[38;5;124m'\u001b[39m] \u001b[38;5;241m=\u001b[39m place\n\u001b[0;32m---> 12\u001b[0m knowledge[\u001b[38;5;124m'\u001b[39m\u001b[38;5;124mPlaces\u001b[39m\u001b[38;5;124m'\u001b[39m][\u001b[43mseat\u001b[49m\u001b[43m[\u001b[49m\u001b[38;5;241;43m0\u001b[39;49m\u001b[43m]\u001b[49m][\u001b[38;5;124m'\u001b[39m\u001b[38;5;124moccupied\u001b[39m\u001b[38;5;124m'\u001b[39m] \u001b[38;5;241m=\u001b[39m \u001b[38;5;124m'\u001b[39m\u001b[38;5;124mNone\u001b[39m\u001b[38;5;124m'\u001b[39m\n\u001b[1;32m     13\u001b[0m knowledge[\u001b[38;5;124m'\u001b[39m\u001b[38;5;124mPlaces\u001b[39m\u001b[38;5;124m'\u001b[39m][place][\u001b[38;5;124m'\u001b[39m\u001b[38;5;124moccupied\u001b[39m\u001b[38;5;124m'\u001b[39m] \u001b[38;5;241m=\u001b[39m guest[\u001b[38;5;241m0\u001b[39m]\n\u001b[1;32m     14\u001b[0m write_yaml(knowledge)\n",
      "\u001b[0;31mIndexError\u001b[0m: list index out of range"
     ]
    }
   ],
   "source": [
    "update_occupancy('Ruben', 'Place_2')"
   ]
  },
  {
   "cell_type": "code",
   "execution_count": 50,
   "id": "d29f01c8",
   "metadata": {},
   "outputs": [
    {
     "data": {
      "text/plain": [
       "True"
      ]
     },
     "execution_count": 50,
     "metadata": {},
     "output_type": "execute_result"
    }
   ],
   "source": [
    "assign_occupancy('Jose', 'Place_2')"
   ]
  },
  {
   "cell_type": "code",
   "execution_count": 19,
   "id": "63c1433d",
   "metadata": {},
   "outputs": [],
   "source": [
    "import face_recognition\n"
   ]
  },
  {
   "cell_type": "code",
   "execution_count": null,
   "id": "67688b85",
   "metadata": {},
   "outputs": [],
   "source": [
    "import numpy as np"
   ]
  },
  {
   "cell_type": "code",
   "execution_count": 1,
   "id": "b01d5d47",
   "metadata": {},
   "outputs": [],
   "source": [
    "from utils.nav_utils import *\n",
    "import rospy"
   ]
  },
  {
   "cell_type": "code",
   "execution_count": 2,
   "id": "9cf66680",
   "metadata": {},
   "outputs": [],
   "source": [
    "rospy.init_node('new_nav')"
   ]
  },
  {
   "cell_type": "code",
   "execution_count": 3,
   "id": "1baac7b7",
   "metadata": {},
   "outputs": [],
   "source": [
    "base = OMNIBASE()\n",
    "tf_man = TF_MANAGER()"
   ]
  },
  {
   "cell_type": "code",
   "execution_count": 4,
   "id": "3ebdacce",
   "metadata": {},
   "outputs": [],
   "source": [
    "goal,_ = tf_man.getTF(target_frame='base_link')"
   ]
  },
  {
   "cell_type": "code",
   "execution_count": 5,
   "id": "3231ebc0",
   "metadata": {},
   "outputs": [],
   "source": [
    "base.navigate(goal[0], -2.0,0.0)"
   ]
  },
  {
   "cell_type": "code",
   "execution_count": 3,
   "id": "1d7de5ec",
   "metadata": {},
   "outputs": [
    {
     "data": {
      "text/plain": [
       "(0, '')"
      ]
     },
     "execution_count": 3,
     "metadata": {},
     "output_type": "execute_result"
    }
   ],
   "source": [
    "get_waiting_guests()"
   ]
  },
  {
   "cell_type": "code",
   "execution_count": null,
   "id": "780c9f55",
   "metadata": {},
   "outputs": [],
   "source": []
  }
 ],
 "metadata": {
  "kernelspec": {
   "display_name": "Python 3 (ipykernel)",
   "language": "python",
   "name": "python3"
  },
  "language_info": {
   "codemirror_mode": {
    "name": "ipython",
    "version": 3
   },
   "file_extension": ".py",
   "mimetype": "text/x-python",
   "name": "python",
   "nbconvert_exporter": "python",
   "pygments_lexer": "ipython3",
   "version": "3.8.10"
  }
 },
 "nbformat": 4,
 "nbformat_minor": 5
}

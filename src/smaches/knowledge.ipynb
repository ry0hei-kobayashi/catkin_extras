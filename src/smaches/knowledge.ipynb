{
 "cells": [
  {
   "cell_type": "code",
   "execution_count": 1,
   "id": "2ca81f6a",
   "metadata": {},
   "outputs": [],
   "source": [
    "import rospkg\n",
    "import yaml\n",
    "from utils.grasp_utils import *\n",
    "from utils.nav_utils import *\n",
    "from utils.know_utils import *\n",
    "import rospy"
   ]
  },
  {
   "cell_type": "code",
   "execution_count": 2,
   "id": "e5943aaf",
   "metadata": {},
   "outputs": [],
   "source": [
    "rospy.init_node('knowledge')"
   ]
  },
  {
   "cell_type": "code",
   "execution_count": 3,
   "id": "3d6851ae",
   "metadata": {},
   "outputs": [
    {
     "name": "stdout",
     "output_type": "stream",
     "text": [
      "5.12\n",
      "-2.41\n"
     ]
    }
   ],
   "source": [
    "known_loc = read_yaml('/known_locations.yaml')\n",
    "loc = known_loc['bedroom']\n",
    "print(loc[0]['x'])\n",
    "print(loc[1]['y'])"
   ]
  },
  {
   "cell_type": "code",
   "execution_count": 4,
   "id": "626a525d",
   "metadata": {},
   "outputs": [
    {
     "data": {
      "text/plain": [
       "'dining_room'"
      ]
     },
     "execution_count": 4,
     "metadata": {},
     "output_type": "execute_result"
    }
   ],
   "source": [
    "find_room([15,-7])"
   ]
  },
  {
   "cell_type": "code",
   "execution_count": null,
   "id": "46af70e8",
   "metadata": {},
   "outputs": [],
   "source": []
  }
 ],
 "metadata": {
  "kernelspec": {
   "display_name": "Python 3 (ipykernel)",
   "language": "python",
   "name": "python3"
  },
  "language_info": {
   "codemirror_mode": {
    "name": "ipython",
    "version": 3
   },
   "file_extension": ".py",
   "mimetype": "text/x-python",
   "name": "python",
   "nbconvert_exporter": "python",
   "pygments_lexer": "ipython3",
   "version": "3.8.10"
  }
 },
 "nbformat": 4,
 "nbformat_minor": 5
}

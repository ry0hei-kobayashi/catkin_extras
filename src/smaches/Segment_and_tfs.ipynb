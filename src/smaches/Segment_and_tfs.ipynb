{
 "cells": [
  {
   "cell_type": "code",
   "execution_count": 2,
   "id": "b878d9d1",
   "metadata": {},
   "outputs": [
    {
     "name": "stderr",
     "output_type": "stream",
     "text": [
      "\u001b[33m[ WARN] [1684967898.125606631, 2516.643000000]: TF_REPEATED_DATA ignoring data with redundant timestamp for frame odom at time 2516.685000 according to authority unknown_publisher\u001b[0m\n",
      "\u001b[33m[ WARN] [1684967898.128943452, 2516.685000000]: TF_REPEATED_DATA ignoring data with redundant timestamp for frame odom at time 2516.685000 according to authority /pose_integrator\u001b[0m\n",
      "\u001b[33m[ WARN] [1684967898.129029682, 2516.685000000]: TF_REPEATED_DATA ignoring data with redundant timestamp for frame odom at time 2516.685000 according to authority /pose_integrator\u001b[0m\n",
      "\u001b[33m[ WARN] [1684967898.129067930, 2516.685000000]: TF_REPEATED_DATA ignoring data with redundant timestamp for frame odom at time 2516.685000 according to authority /pose_integrator\u001b[0m\n",
      "\u001b[33m[ WARN] [1684967898.129102330, 2516.685000000]: TF_REPEATED_DATA ignoring data with redundant timestamp for frame odom at time 2516.685000 according to authority /pose_integrator\u001b[0m\n",
      "\u001b[33m[ WARN] [1684967898.129138894, 2516.685000000]: TF_REPEATED_DATA ignoring data with redundant timestamp for frame odom at time 2516.685000 according to authority /pose_integrator\u001b[0m\n",
      "\u001b[33m[ WARN] [1684967898.129185576, 2516.685000000]: TF_REPEATED_DATA ignoring data with redundant timestamp for frame odom at time 2516.685000 according to authority /pose_integrator\u001b[0m\n"
     ]
    }
   ],
   "source": [
    "from smach_utils2 import *"
   ]
  },
  {
   "cell_type": "code",
   "execution_count": null,
   "id": "327893d4",
   "metadata": {},
   "outputs": [],
   "source": [
    "tfBuffer = tf2.Buffer()\n",
    "\n",
    "listener = tf2.TransformListener(tfBuffer)\n",
    "b_tf=tf2.TransformBroadcaster()\n",
    "b_st=tf2.StaticTransformBroadcaster()\n"
   ]
  },
  {
   "cell_type": "code",
   "execution_count": null,
   "id": "a956cd50",
   "metadata": {},
   "outputs": [],
   "source": []
  },
  {
   "cell_type": "code",
   "execution_count": null,
   "id": "9516a610",
   "metadata": {},
   "outputs": [],
   "source": [
    "def write_tf(pose, q, child_frame , parent_frame='map',time=0):\n",
    "    t= TransformStamped()\n",
    "    t.header.stamp = rospy.Time.now()\n",
    "    t.header.frame_id =parent_frame\n",
    "    t.child_frame_id =  child_frame\n",
    "    t.transform.translation.x = pose[0]\n",
    "    t.transform.translation.y = pose[1]\n",
    "    t.transform.translation.z = pose[2]\n",
    "    #q = tf.transformations.quaternion_from_euler(eu[0], eu[1], eu[2])\n",
    "    t.transform.rotation.x = q[0]\n",
    "    t.transform.rotation.y = q[1]\n",
    "    t.transform.rotation.z = q[2]\n",
    "    t.transform.rotation.w = q[3]\n",
    "    return t\n",
    "def read_tf(t):\n",
    "    pose=np.asarray((\n",
    "        t.transform.translation.x,\n",
    "        t.transform.translation.y,\n",
    "        t.transform.translation.z\n",
    "        ))\n",
    "    quat=np.asarray((\n",
    "        t.transform.rotation.x,\n",
    "        t.transform.rotation.y,\n",
    "        t.transform.rotation.z,\n",
    "        t.transform.rotation.w\n",
    "        ))\n",
    "    \n",
    "    return pose, quat\n"
   ]
  },
  {
   "cell_type": "code",
   "execution_count": null,
   "id": "2979f285",
   "metadata": {},
   "outputs": [],
   "source": [
    "res=segmentation_server.call()"
   ]
  },
  {
   "cell_type": "code",
   "execution_count": null,
   "id": "a7a211f6",
   "metadata": {},
   "outputs": [],
   "source": [
    "res"
   ]
  },
  {
   "cell_type": "code",
   "execution_count": null,
   "id": "81ad906a",
   "metadata": {},
   "outputs": [],
   "source": [
    "poses=np.asarray(res.poses.data)\n",
    "\n",
    "poses=poses.reshape((int(len(poses)/3) ,3     )      )"
   ]
  },
  {
   "cell_type": "code",
   "execution_count": null,
   "id": "edc62c5b",
   "metadata": {},
   "outputs": [],
   "source": [
    "head.set_named_target('neutral')"
   ]
  },
  {
   "cell_type": "code",
   "execution_count": null,
   "id": "1aa0f955",
   "metadata": {},
   "outputs": [],
   "source": [
    "#t=write_tf(res.poses.data,(0,0,0,1),'Target',\"head_rgbd_sensor_depth_frame\",0)\n",
    "t=write_tf(poses[0,:],(0,0,0,1),'Target_tmp',\"head_rgbd_sensor_depth_frame\",0) ## CHOOSE A TARGET \n",
    "\n",
    "b_tf.sendTransform(t)\n",
    "rospy.sleep(0.2)\n",
    "tt=tfBuffer.lookup_transform('map','Target_tmp',rospy.Time(0))\n",
    "rospy.sleep(0.2)\n",
    "tt\n",
    "pose,quat= read_tf(tt)\n",
    "t=write_tf(pose,(0,0,0,1),'Target')\n",
    "b_st.sendTransform(t)\n"
   ]
  },
  {
   "cell_type": "code",
   "execution_count": null,
   "id": "6a6fb5c5",
   "metadata": {},
   "outputs": [],
   "source": [
    "head = moveit_commander.MoveGroupCommander('head')\n",
    "#gripper =  moveit_commander.MoveGroupCommander('gripper')\n",
    "#arm=moveit_commander.MoveGroupCommander('arm')"
   ]
  },
  {
   "cell_type": "code",
   "execution_count": null,
   "id": "464e664c",
   "metadata": {},
   "outputs": [],
   "source": [
    "#whole_body=moveit_commander.MoveGroupCommander('whole_body')"
   ]
  },
  {
   "cell_type": "code",
   "execution_count": null,
   "id": "7ef2963f",
   "metadata": {},
   "outputs": [],
   "source": [
    "clear_octo_client()\n",
    "arm_grasp_from_above = [0.3, -2.0, 0.0, -0.9939144210462025, -0.17365421548386273, 0.0]\n",
    "wb_v=whole_body.get_current_joint_values()\n",
    "wb_v[3:]=arm_grasp_from_above\n",
    "succ = whole_body.go(wb_v)"
   ]
  },
  {
   "cell_type": "code",
   "execution_count": null,
   "id": "c2fd61fa",
   "metadata": {},
   "outputs": [],
   "source": [
    "head.set_named_target('neutral')\n",
    "head.go()\n",
    "clear_octo_client()\n"
   ]
  },
  {
   "cell_type": "code",
   "execution_count": null,
   "id": "e67a1f0b",
   "metadata": {},
   "outputs": [],
   "source": [
    "#\n",
    "t=tfBuffer.lookup_transform('map','Target',rospy.Time(0))\n",
    "pose , quat =  read_tf(t)\n",
    "pose"
   ]
  },
  {
   "cell_type": "code",
   "execution_count": null,
   "id": "91a9c855",
   "metadata": {},
   "outputs": [],
   "source": [
    "wb_gp=whole_body.get_current_pose()\n",
    "wb_gp.pose.position.x= pose[0]\n",
    "wb_gp.pose.position.y= pose[1]#\n",
    "wb_gp.pose.position.z= pose[2]+0.3   ##Pre Grasp from above\n"
   ]
  },
  {
   "cell_type": "code",
   "execution_count": null,
   "id": "00506fa1",
   "metadata": {
    "scrolled": false
   },
   "outputs": [],
   "source": [
    "whole_body.set_pose_target(wb_gp)\n",
    "plan=whole_body.plan()\n",
    "if plan[0]:\n",
    "    succ=whole_body.go()\n",
    "else:\n",
    "    print('No plan')"
   ]
  },
  {
   "cell_type": "code",
   "execution_count": null,
   "id": "d902c51e",
   "metadata": {},
   "outputs": [],
   "source": [
    "succ"
   ]
  },
  {
   "cell_type": "code",
   "execution_count": null,
   "id": "5aaa200d",
   "metadata": {},
   "outputs": [],
   "source": []
  },
  {
   "cell_type": "code",
   "execution_count": null,
   "id": "d3412bbd",
   "metadata": {},
   "outputs": [],
   "source": []
  },
  {
   "cell_type": "code",
   "execution_count": null,
   "id": "065f63f1",
   "metadata": {},
   "outputs": [],
   "source": [
    "t=tfBuffer.lookup_transform('hand_palm_link', 'Target',rospy.Time())"
   ]
  },
  {
   "cell_type": "code",
   "execution_count": null,
   "id": "4ea638d1",
   "metadata": {},
   "outputs": [],
   "source": [
    "pose,_=read_tf(t)\n",
    "pose"
   ]
  },
  {
   "cell_type": "code",
   "execution_count": null,
   "id": "d3e52131",
   "metadata": {},
   "outputs": [],
   "source": [
    "goal_p=whole_body.get_current_pose()\n",
    "goal_p.pose.position.x=0.1\n",
    "goal_p.pose.position.y=pose[1]\n",
    "goal_p.pose.position.z=pose[2]+0.2\n",
    "#goal_p.pose.orientation.w=quat[0]\n",
    "#goal_p.pose.orientation.x=quat[1]\n",
    "#goal_p.pose.orientation.y=quat[2]\n",
    "#goal_p.pose.orientation.z=quat[3]\n",
    "\n"
   ]
  },
  {
   "cell_type": "code",
   "execution_count": null,
   "id": "1da825b7",
   "metadata": {},
   "outputs": [],
   "source": [
    "whole_body.set_pose_target(goal_p)"
   ]
  },
  {
   "cell_type": "code",
   "execution_count": null,
   "id": "3ba02e07",
   "metadata": {},
   "outputs": [],
   "source": [
    "whole_body.plan()"
   ]
  },
  {
   "cell_type": "code",
   "execution_count": null,
   "id": "860c8fc4",
   "metadata": {},
   "outputs": [],
   "source": [
    "goal_p=whole_body.get_current_pose()"
   ]
  },
  {
   "cell_type": "code",
   "execution_count": null,
   "id": "9ef3bfbf",
   "metadata": {},
   "outputs": [],
   "source": [
    "whole_body.set_pose_target(goal_p)\n",
    "whole_body.plan()"
   ]
  },
  {
   "cell_type": "code",
   "execution_count": null,
   "id": "e91a0515",
   "metadata": {},
   "outputs": [],
   "source": [
    "whole_body.go()"
   ]
  },
  {
   "cell_type": "code",
   "execution_count": null,
   "id": "2fe72b4b",
   "metadata": {},
   "outputs": [],
   "source": []
  },
  {
   "cell_type": "code",
   "execution_count": null,
   "id": "3dfb35a6",
   "metadata": {},
   "outputs": [],
   "source": []
  },
  {
   "cell_type": "code",
   "execution_count": null,
   "id": "4b200fce",
   "metadata": {},
   "outputs": [],
   "source": [
    "res.poses.data"
   ]
  },
  {
   "cell_type": "code",
   "execution_count": null,
   "id": "4ebd2af5",
   "metadata": {},
   "outputs": [],
   "source": [
    "t=tfBuffer.lookup_transform('map','Target',rospy.Time())"
   ]
  },
  {
   "cell_type": "code",
   "execution_count": null,
   "id": "ec2e5eae",
   "metadata": {},
   "outputs": [],
   "source": [
    "pose,quat=read_tf(t)"
   ]
  },
  {
   "cell_type": "code",
   "execution_count": null,
   "id": "7dddd58b",
   "metadata": {},
   "outputs": [],
   "source": [
    "goal_pose= Pose()"
   ]
  },
  {
   "cell_type": "code",
   "execution_count": null,
   "id": "fa06ecd0",
   "metadata": {},
   "outputs": [],
   "source": [
    "goal_pose.position.x=pose[0]\n",
    "goal_pose.position.y=pose[1]\n",
    "goal_pose.position.z=pose[2]"
   ]
  },
  {
   "cell_type": "code",
   "execution_count": null,
   "id": "76bfdd75",
   "metadata": {},
   "outputs": [],
   "source": [
    "pose,goal_pose"
   ]
  },
  {
   "cell_type": "code",
   "execution_count": null,
   "id": "e1bfc047",
   "metadata": {},
   "outputs": [],
   "source": [
    "whole_body.get_current_pose()"
   ]
  },
  {
   "cell_type": "code",
   "execution_count": null,
   "id": "0a55f889",
   "metadata": {},
   "outputs": [],
   "source": [
    "wb=whole_body.get_current_joint_values()"
   ]
  },
  {
   "cell_type": "code",
   "execution_count": null,
   "id": "0852d4fb",
   "metadata": {},
   "outputs": [],
   "source": [
    "wb[4]=0.1"
   ]
  },
  {
   "cell_type": "code",
   "execution_count": null,
   "id": "2ebde50f",
   "metadata": {},
   "outputs": [],
   "source": [
    "whole_body.go(wb)"
   ]
  },
  {
   "cell_type": "code",
   "execution_count": null,
   "id": "58799474",
   "metadata": {},
   "outputs": [],
   "source": [
    "pose=whole_body.get_current_pose()"
   ]
  },
  {
   "cell_type": "code",
   "execution_count": null,
   "id": "3c2220e1",
   "metadata": {},
   "outputs": [],
   "source": [
    "type(pose.pose.orientation)"
   ]
  },
  {
   "cell_type": "code",
   "execution_count": null,
   "id": "fc307530",
   "metadata": {},
   "outputs": [],
   "source": [
    "tf.transformations.euler_from_quaternion((pose.pose.orientation.w,pose.pose.orientation.x,pose.pose.orientation.y,pose.pose.orientation.z))"
   ]
  },
  {
   "cell_type": "code",
   "execution_count": null,
   "id": "4ee0d547",
   "metadata": {},
   "outputs": [],
   "source": [
    "tf.transformations.euler_from_quaternion((pose.pose.orientation.w,pose.pose.orientation.x,pose.pose.orientation.y,pose.pose.orientation.z))"
   ]
  },
  {
   "cell_type": "code",
   "execution_count": null,
   "id": "17d1dea8",
   "metadata": {},
   "outputs": [],
   "source": [
    "gp=whole_body.get_current_pose()"
   ]
  },
  {
   "cell_type": "code",
   "execution_count": null,
   "id": "b88885bc",
   "metadata": {},
   "outputs": [],
   "source": [
    "\n",
    "gp.pose.orientation\n",
    "pose=gp\n",
    "eu=tf.transformations.euler_from_quaternion((pose.pose.orientation.w,pose.pose.orientation.x,pose.pose.orientation.y,pose.pose.orientation.z))\n",
    "#eu[1]=0\n",
    "quat=tf.transformations.quaternion_from_euler(eu[0],eu[1],eu[2])"
   ]
  },
  {
   "cell_type": "code",
   "execution_count": null,
   "id": "b3524ff3",
   "metadata": {},
   "outputs": [],
   "source": [
    "eu=tf.transformations.euler_from_quaternion((pose.pose.orientation.w,pose.pose.orientation.x,pose.pose.orientation.y,pose.pose.orientation.z))"
   ]
  },
  {
   "cell_type": "code",
   "execution_count": null,
   "id": "f1848d06",
   "metadata": {},
   "outputs": [],
   "source": [
    "tfBuffer.lookup_transform('hand_palm_link','New:static_Target',rospy.Time(0))"
   ]
  },
  {
   "cell_type": "code",
   "execution_count": null,
   "id": "6aa7e7eb",
   "metadata": {},
   "outputs": [],
   "source": [
    "#eu[1]=0\n",
    "quat=tf.transformations.quaternion_from_euler(eu[0],eu[1],eu[2])\n",
    "rot_quat=tf.transformations.quaternion_from_euler(0,0.5*np.pi,0.0)"
   ]
  },
  {
   "cell_type": "code",
   "execution_count": null,
   "id": "fcf78b24",
   "metadata": {},
   "outputs": [],
   "source": [
    "wb_gp=whole_body.get_current_pose()"
   ]
  },
  {
   "cell_type": "code",
   "execution_count": null,
   "id": "803cc0d5",
   "metadata": {},
   "outputs": [],
   "source": [
    "eu=tf.transformations.euler_from_quaternion((wb_gp.pose.orientation.w,wb_gp.pose.orientation.x,wb_gp.pose.orientation.y,wb_gp.pose.orientation.z))\n",
    "quat=tf.transformations.quaternion_from_euler(eu[0],eu[1],eu[2])\n",
    "rot_quat=tf.transformations.quaternion_from_euler(0,0.5*np.pi,0.0)\n",
    "rotated=tf.transformations.quaternion_multiply(quat,rot_quat)\n",
    "\n"
   ]
  },
  {
   "cell_type": "code",
   "execution_count": null,
   "id": "af1f1c10",
   "metadata": {},
   "outputs": [],
   "source": [
    "wb_gp.pose.position.x-=0.1\n",
    "wb_gp.pose.position.y+=0.1\n",
    "wb_gp.pose.position.z-=0.1\n"
   ]
  },
  {
   "cell_type": "code",
   "execution_count": null,
   "id": "e7060254",
   "metadata": {},
   "outputs": [],
   "source": [
    "wb_gp.pose.orientation.w=rotated[0]\n",
    "wb_gp.pose.orientation.x=rotated[1]\n",
    "wb_gp.pose.orientation.y=rotated[2]\n",
    "wb_gp.pose.orientation.z=rotated[3]"
   ]
  },
  {
   "cell_type": "code",
   "execution_count": null,
   "id": "cfff6feb",
   "metadata": {},
   "outputs": [],
   "source": [
    "whole_body.set_pose_target(wb_gp)"
   ]
  },
  {
   "cell_type": "code",
   "execution_count": null,
   "id": "46b260e6",
   "metadata": {},
   "outputs": [],
   "source": [
    "\n",
    "plan=whole_body.plan()\n",
    "plan"
   ]
  },
  {
   "cell_type": "code",
   "execution_count": null,
   "id": "d13e0540",
   "metadata": {},
   "outputs": [],
   "source": [
    "if plan[0]:\n",
    "    whole_body.go()"
   ]
  },
  {
   "cell_type": "code",
   "execution_count": null,
   "id": "56da32e8",
   "metadata": {},
   "outputs": [],
   "source": [
    "whole_body.go()"
   ]
  },
  {
   "cell_type": "code",
   "execution_count": null,
   "id": "1cafe338",
   "metadata": {},
   "outputs": [],
   "source": [
    "arm_grasp_from_above = [0.19263830140116414, -2.2668981568652917, -0.007358947463759424, -0.9939144210462025, -0.17365421548386273, 0.0]\n",
    "wb_v=whole_body.get_current_joint_values()\n",
    "wb_v[3:]=arm_grasp_from_above\n",
    "succ = whole_body.go(wb_v)"
   ]
  },
  {
   "cell_type": "code",
   "execution_count": null,
   "id": "f6961dec",
   "metadata": {},
   "outputs": [],
   "source": [
    "\n",
    "t=tfBuffer.lookup_transform('New:static_Target','hand_palm_link',rospy.Time(0))\n",
    "pose , quat =  read_tf(t)\n",
    "pose,quat\n",
    "np.save('above_quat.npy',quat)"
   ]
  },
  {
   "cell_type": "code",
   "execution_count": null,
   "id": "f7b19101",
   "metadata": {},
   "outputs": [],
   "source": [
    "t=tfBuffer.lookup_transform('map','Target',rospy.Time(0))\n",
    "pose , quat =  read_tf(t)\n",
    "pose,quat"
   ]
  },
  {
   "cell_type": "code",
   "execution_count": null,
   "id": "97b4222e",
   "metadata": {},
   "outputs": [],
   "source": [
    "wb_gp=whole_body.get_current_pose()\n",
    "wb_gp.pose.position.x= pose[0]\n",
    "wb_gp.pose.position.y= pose[1]\n",
    "wb_gp.pose.position.z= pose[2]+0.2\n"
   ]
  },
  {
   "cell_type": "code",
   "execution_count": null,
   "id": "5f99d418",
   "metadata": {},
   "outputs": [],
   "source": [
    "whole_body.set_pose_target(wb_gp)\n",
    "plan=whole_body.plan()\n",
    "plan"
   ]
  },
  {
   "cell_type": "code",
   "execution_count": null,
   "id": "b1e041bf",
   "metadata": {},
   "outputs": [],
   "source": [
    "\n",
    "whole_body.go()"
   ]
  },
  {
   "cell_type": "code",
   "execution_count": null,
   "id": "ba658ddb",
   "metadata": {},
   "outputs": [],
   "source": [
    "wb_v=whole_body.get_current_joint_values()\n"
   ]
  },
  {
   "cell_type": "code",
   "execution_count": null,
   "id": "ebe3812e",
   "metadata": {},
   "outputs": [],
   "source": [
    "gripper = GRIPPER()"
   ]
  },
  {
   "cell_type": "code",
   "execution_count": null,
   "id": "b5a3ad2a",
   "metadata": {},
   "outputs": [],
   "source": [
    "gripper.close()"
   ]
  },
  {
   "cell_type": "code",
   "execution_count": null,
   "id": "c7e05102",
   "metadata": {},
   "outputs": [],
   "source": [
    "gripper =  moveit_commander.MoveGroupCommander('gripper')"
   ]
  },
  {
   "cell_type": "code",
   "execution_count": null,
   "id": "7bac164b",
   "metadata": {},
   "outputs": [],
   "source": [
    "\n",
    "|\n",
    "tf_man.pub_static_tf()"
   ]
  },
  {
   "cell_type": "code",
   "execution_count": null,
   "id": "261eed62",
   "metadata": {},
   "outputs": [],
   "source": []
  },
  {
   "cell_type": "code",
   "execution_count": null,
   "id": "69c7bc1d",
   "metadata": {},
   "outputs": [],
   "source": []
  },
  {
   "cell_type": "code",
   "execution_count": null,
   "id": "8fe6fd57",
   "metadata": {},
   "outputs": [],
   "source": []
  },
  {
   "cell_type": "code",
   "execution_count": null,
   "id": "187b56b6",
   "metadata": {},
   "outputs": [],
   "source": []
  },
  {
   "cell_type": "code",
   "execution_count": null,
   "id": "eb12f985",
   "metadata": {},
   "outputs": [],
   "source": [
    "head.set_joint_values([0.0, -0.77])\n"
   ]
  },
  {
   "cell_type": "code",
   "execution_count": null,
   "id": "d80dd175",
   "metadata": {},
   "outputs": [],
   "source": [
    "print ('rdy')"
   ]
  },
  {
   "cell_type": "code",
   "execution_count": null,
   "id": "830b7456",
   "metadata": {},
   "outputs": [],
   "source": [
    "brazo.set_named_target('go')\n",
    "head.set_joint_values([0.0, -0.77])\n",
    "res=segmentation_server.call()\n",
    "if len(res.poses.data)==0: print( 'failed')\n",
    "else:\n",
    "\n",
    "    poses=np.asarray(res.poses.data)\n",
    "    poses=poses.reshape((int(len(poses)/3) ,3     )      )  \n",
    "\n",
    "\n",
    "\n",
    "\n",
    "\n",
    "    tf_man.pub_static_tf(pos=poses[0,:], point_name='target', ref='head_rgbd_sensor_rgb_frame')## which object to choose   #TODO\n",
    "    rospy.sleep(0.3)\n",
    "    tf_man.change_ref_frame_tf(point_name='target', new_frame='map')\n",
    "    rospy.sleep(0.3)\n",
    "    pose, _ =tf_man.getTF('target')\n",
    "    tf_man.pub_static_tf(pos=pose, point_name='Target')## which object to choose   #TODO\n",
    "\n",
    "\n",
    "    head.set_named_target('neutral')"
   ]
  },
  {
   "cell_type": "code",
   "execution_count": null,
   "id": "e2f330e0",
   "metadata": {},
   "outputs": [],
   "source": [
    "poses=np.asarray(res.poses.data)\n",
    "poses=poses.reshape((int(len(poses)/3) ,3     )      )  \n",
    "\n",
    "\n",
    "\n",
    "\n",
    "\n",
    "tf_man.pub_static_tf(pos=poses[0,:], point_name='target', ref='head_rgbd_sensor_rgb_frame')## which object to choose   #TODO"
   ]
  },
  {
   "cell_type": "code",
   "execution_count": null,
   "id": "e4642063",
   "metadata": {},
   "outputs": [],
   "source": [
    "tf_man.change_ref_frame_tf(point_name='target', new_frame='map')\n"
   ]
  },
  {
   "cell_type": "code",
   "execution_count": null,
   "id": "23eb4bf8",
   "metadata": {},
   "outputs": [],
   "source": [
    "pose, _ =tf_man.getTF('target')\n",
    "tf_man.pub_static_tf(pos=pose, point_name='Target')## which object to choose   #TODO\n"
   ]
  },
  {
   "cell_type": "code",
   "execution_count": null,
   "id": "791abb92",
   "metadata": {},
   "outputs": [],
   "source": [
    "head.set_named_target('neutral')"
   ]
  },
  {
   "cell_type": "code",
   "execution_count": null,
   "id": "448d5ca0",
   "metadata": {},
   "outputs": [],
   "source": [
    " clear_octo_client()\n",
    "#############################10 * 2 *np.pi / 360 ####pi /2\n",
    "arm_grasp_from_above = [0.2, -1.57, -0.13 , -1.57, 0.0, 0.0]\n",
    "wb_v=whole_body.get_current_joint_values()\n",
    "wb_v[3:]=arm_grasp_from_above\n",
    "succ = whole_body.go(wb_v)   "
   ]
  },
  {
   "cell_type": "code",
   "execution_count": null,
   "id": "85cdf627",
   "metadata": {},
   "outputs": [],
   "source": [
    "clear_octo_client()\n",
    "pose, quat=tf_man.getTF('Target')\n",
    "\n",
    "wb_gp=whole_body.get_current_pose()\n",
    "wb_gp.pose.position.x= pose[0]\n",
    "wb_gp.pose.position.y= pose[1]\n",
    "wb_gp.pose.position.z= pose[2]+0.2\n",
    "\n",
    "whole_body.set_pose_target(wb_gp)\n",
    "plan=whole_body.plan()"
   ]
  },
  {
   "cell_type": "code",
   "execution_count": null,
   "id": "422d4c93",
   "metadata": {},
   "outputs": [],
   "source": [
    "pos,rot=tf_man.getTF(target_frame=,ref)\n",
    "pos"
   ]
  },
  {
   "cell_type": "code",
   "execution_count": null,
   "id": "a011d956",
   "metadata": {},
   "outputs": [],
   "source": [
    "from smach_utils2 import *"
   ]
  },
  {
   "cell_type": "code",
   "execution_count": null,
   "id": "f384254d",
   "metadata": {},
   "outputs": [],
   "source": [
    "from smach_utils2 import *\n"
   ]
  },
  {
   "cell_type": "code",
   "execution_count": null,
   "id": "7f9036ef",
   "metadata": {},
   "outputs": [],
   "source": [
    "wb_gp=whole_body.get_current_pose()            \n",
    "wb_gp.header.frame_id=\"Target\"\n",
    "wb_gp.pose.position.x=0.02669\n",
    "wb_gp.pose.position.y=0.045\n",
    "wb_gp.pose.position.z= 0.033\n",
    "wb_gp.pose.orientation.w=-0.990\n",
    "wb_gp.pose.orientation.x= 0.0246\n",
    "wb_gp.pose.orientation.y= -0.0085\n",
    "wb_gp.pose.orientation.z= 0.1345\n",
    "\n"
   ]
  },
  {
   "cell_type": "code",
   "execution_count": null,
   "id": "9dadce42",
   "metadata": {},
   "outputs": [],
   "source": []
  },
  {
   "cell_type": "code",
   "execution_count": null,
   "id": "85cfad64",
   "metadata": {},
   "outputs": [],
   "source": [
    "aaa"
   ]
  },
  {
   "cell_type": "code",
   "execution_count": null,
   "id": "05aab8d3",
   "metadata": {},
   "outputs": [],
   "source": [
    "from smach_ros import ActionServerWrapper"
   ]
  },
  {
   "cell_type": "code",
   "execution_count": null,
   "id": "42d59559",
   "metadata": {},
   "outputs": [],
   "source": []
  },
  {
   "cell_type": "code",
   "execution_count": null,
   "id": "b2be4635",
   "metadata": {},
   "outputs": [],
   "source": [
    "res = speech_recog_server()"
   ]
  },
  {
   "cell_type": "code",
   "execution_count": null,
   "id": "4e6d8840",
   "metadata": {},
   "outputs": [],
   "source": [
    "res.data\n",
    "msg = rospy.wait_for_message('/speech_recognition/final_result', String, 10)\n",
    "msg"
   ]
  },
  {
   "cell_type": "code",
   "execution_count": null,
   "id": "19e7972a",
   "metadata": {},
   "outputs": [],
   "source": []
  },
  {
   "cell_type": "code",
   "execution_count": null,
   "id": "58ba5515",
   "metadata": {},
   "outputs": [],
   "source": [
    "from ros_whisper_vosk.srv import SetGrammarVosk\n",
    "set_grammar = rospy.ServiceProxy('set_grammar_vosk', SetGrammarVosk)"
   ]
  },
  {
   "cell_type": "code",
   "execution_count": null,
   "id": "590283d6",
   "metadata": {},
   "outputs": [],
   "source": [
    "set_grammar = rospy.ServiceProxy('set_grammar_vosk', SetGrammarVosk)"
   ]
  },
  {
   "cell_type": "code",
   "execution_count": null,
   "id": "5f5b4d54",
   "metadata": {},
   "outputs": [],
   "source": [
    "set_grammar(['pete','ana','jack', 'michael', ' my name is'])  ##PRESET NAMES"
   ]
  },
  {
   "cell_type": "code",
   "execution_count": null,
   "id": "f692c036",
   "metadata": {
    "scrolled": true
   },
   "outputs": [],
   "source": [
    "msg = rospy.wait_for_message('/speech_recognition/final_result', String, 10)\n",
    "msg"
   ]
  },
  {
   "cell_type": "code",
   "execution_count": null,
   "id": "cb3b220a",
   "metadata": {},
   "outputs": [],
   "source": [
    "set_grammar(['coke','juice','beer', 'water', 'soda', 'wine'])  ##PRESET DRINKS"
   ]
  },
  {
   "cell_type": "code",
   "execution_count": null,
   "id": "1024c0ba",
   "metadata": {},
   "outputs": [],
   "source": [
    "msg = rospy.wait_for_message('/speech_recognition/final_result', String, 10)\n",
    "msg"
   ]
  },
  {
   "cell_type": "code",
   "execution_count": 3,
   "id": "dd53f34f",
   "metadata": {},
   "outputs": [
    {
     "data": {
      "text/plain": [
       "'come on man least it'"
      ]
     },
     "execution_count": 3,
     "metadata": {},
     "output_type": "execute_result"
    },
    {
     "name": "stderr",
     "output_type": "stream",
     "text": [
      "\u001b[33m[ WARN] [1684967905.122177525, 2519.893000000]: TF_REPEATED_DATA ignoring data with redundant timestamp for frame odom at time 2519.917000 according to authority unknown_publisher\u001b[0m\n",
      "\u001b[33m[ WARN] [1684967905.122758627, 2519.893000000]: TF_REPEATED_DATA ignoring data with redundant timestamp for frame odom at time 2519.917000 according to authority /pose_integrator\u001b[0m\n",
      "\u001b[33m[ WARN] [1684967905.122829172, 2519.893000000]: TF_REPEATED_DATA ignoring data with redundant timestamp for frame odom at time 2519.917000 according to authority /pose_integrator\u001b[0m\n",
      "\u001b[33m[ WARN] [1684967905.122882381, 2519.893000000]: TF_REPEATED_DATA ignoring data with redundant timestamp for frame odom at time 2519.917000 according to authority /pose_integrator\u001b[0m\n",
      "\u001b[33m[ WARN] [1684967905.122943055, 2519.893000000]: TF_REPEATED_DATA ignoring data with redundant timestamp for frame odom at time 2519.917000 according to authority /pose_integrator\u001b[0m\n",
      "\u001b[33m[ WARN] [1684967905.123009369, 2519.893000000]: TF_REPEATED_DATA ignoring data with redundant timestamp for frame odom at time 2519.917000 according to authority /pose_integrator\u001b[0m\n",
      "\u001b[33m[ WARN] [1684967905.123056390, 2519.893000000]: TF_REPEATED_DATA ignoring data with redundant timestamp for frame odom at time 2519.917000 according to authority /pose_integrator\u001b[0m\n"
     ]
    }
   ],
   "source": [
    "\n",
    "get_keywords_speech(10)"
   ]
  },
  {
   "cell_type": "code",
   "execution_count": 4,
   "id": "10c3aca5",
   "metadata": {},
   "outputs": [
    {
     "data": {
      "text/plain": [
       "result: True"
      ]
     },
     "execution_count": 4,
     "metadata": {},
     "output_type": "execute_result"
    },
    {
     "name": "stderr",
     "output_type": "stream",
     "text": [
      "\u001b[33m[ WARN] [1684967954.471844150, 2542.334000000]: TF_REPEATED_DATA ignoring data with redundant timestamp for frame odom at time 2542.366000 according to authority /pose_integrator\u001b[0m\n",
      "\u001b[33m[ WARN] [1684967954.471923643, 2542.334000000]: TF_REPEATED_DATA ignoring data with redundant timestamp for frame odom at time 2542.366000 according to authority /pose_integrator\u001b[0m\n",
      "\u001b[33m[ WARN] [1684967954.471984961, 2542.334000000]: TF_REPEATED_DATA ignoring data with redundant timestamp for frame odom at time 2542.366000 according to authority /pose_integrator\u001b[0m\n",
      "\u001b[33m[ WARN] [1684967954.472040582, 2542.334000000]: TF_REPEATED_DATA ignoring data with redundant timestamp for frame odom at time 2542.366000 according to authority /pose_integrator\u001b[0m\n",
      "\u001b[33m[ WARN] [1684967954.472097070, 2542.334000000]: TF_REPEATED_DATA ignoring data with redundant timestamp for frame odom at time 2542.366000 according to authority /pose_integrator\u001b[0m\n",
      "\u001b[33m[ WARN] [1684967954.472148272, 2542.334000000]: TF_REPEATED_DATA ignoring data with redundant timestamp for frame odom at time 2542.366000 according to authority /pose_integrator\u001b[0m\n",
      "\u001b[33m[ WARN] [1684967954.472288725, 2542.334000000]: TF_REPEATED_DATA ignoring data with redundant timestamp for frame odom at time 2542.366000 according to authority unknown_publisher\u001b[0m\n",
      "\u001b[33m[ WARN] [1684967958.134905474, 2543.847000000]: TF_REPEATED_DATA ignoring data with redundant timestamp for frame odom at time 2543.865000 according to authority unknown_publisher\u001b[0m\n",
      "\u001b[33m[ WARN] [1684967958.136747639, 2543.847000000]: TF_REPEATED_DATA ignoring data with redundant timestamp for frame odom at time 2543.865000 according to authority /pose_integrator\u001b[0m\n",
      "\u001b[33m[ WARN] [1684967958.136824028, 2543.847000000]: TF_REPEATED_DATA ignoring data with redundant timestamp for frame odom at time 2543.865000 according to authority /pose_integrator\u001b[0m\n",
      "\u001b[33m[ WARN] [1684967958.136877498, 2543.847000000]: TF_REPEATED_DATA ignoring data with redundant timestamp for frame odom at time 2543.865000 according to authority /pose_integrator\u001b[0m\n",
      "\u001b[33m[ WARN] [1684967958.136931928, 2543.847000000]: TF_REPEATED_DATA ignoring data with redundant timestamp for frame odom at time 2543.865000 according to authority /pose_integrator\u001b[0m\n",
      "\u001b[33m[ WARN] [1684967958.136985021, 2543.847000000]: TF_REPEATED_DATA ignoring data with redundant timestamp for frame odom at time 2543.865000 according to authority /pose_integrator\u001b[0m\n",
      "\u001b[33m[ WARN] [1684967958.137040821, 2543.847000000]: TF_REPEATED_DATA ignoring data with redundant timestamp for frame odom at time 2543.865000 according to authority /pose_integrator\u001b[0m\n",
      "\u001b[33m[ WARN] [1684967958.477702802, 2544.045000000]: TF_REPEATED_DATA ignoring data with redundant timestamp for frame odom at time 2544.045000 according to authority unknown_publisher\u001b[0m\n",
      "\u001b[33m[ WARN] [1684967958.478409995, 2544.045000000]: TF_REPEATED_DATA ignoring data with redundant timestamp for frame odom at time 2544.045000 according to authority /pose_integrator\u001b[0m\n",
      "\u001b[33m[ WARN] [1684967958.478468177, 2544.045000000]: TF_REPEATED_DATA ignoring data with redundant timestamp for frame odom at time 2544.045000 according to authority /pose_integrator\u001b[0m\n",
      "\u001b[33m[ WARN] [1684967958.478521761, 2544.045000000]: TF_REPEATED_DATA ignoring data with redundant timestamp for frame odom at time 2544.045000 according to authority /pose_integrator\u001b[0m\n",
      "\u001b[33m[ WARN] [1684967958.478556966, 2544.045000000]: TF_REPEATED_DATA ignoring data with redundant timestamp for frame odom at time 2544.045000 according to authority /pose_integrator\u001b[0m\n",
      "\u001b[33m[ WARN] [1684967958.478589843, 2544.045000000]: TF_REPEATED_DATA ignoring data with redundant timestamp for frame odom at time 2544.045000 according to authority /pose_integrator\u001b[0m\n",
      "\u001b[33m[ WARN] [1684967958.478626887, 2544.045000000]: TF_REPEATED_DATA ignoring data with redundant timestamp for frame odom at time 2544.045000 according to authority /pose_integrator\u001b[0m\n",
      "\u001b[33m[ WARN] [1684967961.961461371, 2545.637000000]: TF_REPEATED_DATA ignoring data with redundant timestamp for frame odom at time 2545.674000 according to authority unknown_publisher\u001b[0m\n",
      "\u001b[33m[ WARN] [1684967961.962744496, 2545.637000000]: TF_REPEATED_DATA ignoring data with redundant timestamp for frame odom at time 2545.674000 according to authority /pose_integrator\u001b[0m\n",
      "\u001b[33m[ WARN] [1684967961.962831249, 2545.637000000]: TF_REPEATED_DATA ignoring data with redundant timestamp for frame odom at time 2545.674000 according to authority /pose_integrator\u001b[0m\n",
      "\u001b[33m[ WARN] [1684967961.962900495, 2545.637000000]: TF_REPEATED_DATA ignoring data with redundant timestamp for frame odom at time 2545.674000 according to authority /pose_integrator\u001b[0m\n",
      "\u001b[33m[ WARN] [1684967961.962963503, 2545.637000000]: TF_REPEATED_DATA ignoring data with redundant timestamp for frame odom at time 2545.674000 according to authority /pose_integrator\u001b[0m\n",
      "\u001b[33m[ WARN] [1684967961.963037165, 2545.637000000]: TF_REPEATED_DATA ignoring data with redundant timestamp for frame odom at time 2545.674000 according to authority /pose_integrator\u001b[0m\n",
      "\u001b[33m[ WARN] [1684967961.963087900, 2545.637000000]: TF_REPEATED_DATA ignoring data with redundant timestamp for frame odom at time 2545.674000 according to authority /pose_integrator\u001b[0m\n"
     ]
    }
   ],
   "source": [
    "set_grammar(['bitch','yo','come on','Jack','Joe', 'watch out'])"
   ]
  },
  {
   "cell_type": "code",
   "execution_count": 7,
   "id": "4e8e8232",
   "metadata": {},
   "outputs": [
    {
     "name": "stderr",
     "output_type": "stream",
     "text": [
      "\u001b[33m[ WARN] [1684968019.006709134, 2571.372000000]: TF_REPEATED_DATA ignoring data with redundant timestamp for frame odom at time 2571.386000 according to authority unknown_publisher\u001b[0m\n",
      "\u001b[33m[ WARN] [1684968019.008383970, 2571.372000000]: TF_REPEATED_DATA ignoring data with redundant timestamp for frame odom at time 2571.386000 according to authority /pose_integrator\u001b[0m\n",
      "\u001b[33m[ WARN] [1684968019.008469024, 2571.372000000]: TF_REPEATED_DATA ignoring data with redundant timestamp for frame odom at time 2571.386000 according to authority /pose_integrator\u001b[0m\n",
      "\u001b[33m[ WARN] [1684968019.008534021, 2571.372000000]: TF_REPEATED_DATA ignoring data with redundant timestamp for frame odom at time 2571.386000 according to authority /pose_integrator\u001b[0m\n",
      "\u001b[33m[ WARN] [1684968019.008592030, 2571.372000000]: TF_REPEATED_DATA ignoring data with redundant timestamp for frame odom at time 2571.386000 according to authority /pose_integrator\u001b[0m\n",
      "\u001b[33m[ WARN] [1684968019.008647716, 2571.372000000]: TF_REPEATED_DATA ignoring data with redundant timestamp for frame odom at time 2571.386000 according to authority /pose_integrator\u001b[0m\n",
      "\u001b[33m[ WARN] [1684968019.008702501, 2571.372000000]: TF_REPEATED_DATA ignoring data with redundant timestamp for frame odom at time 2571.386000 according to authority /pose_integrator\u001b[0m\n"
     ]
    },
    {
     "data": {
      "text/plain": [
       "'watch out yo bitch'"
      ]
     },
     "execution_count": 7,
     "metadata": {},
     "output_type": "execute_result"
    },
    {
     "name": "stderr",
     "output_type": "stream",
     "text": [
      "\u001b[33m[ WARN] [1684968022.641948196, 2573.027000000]: TF_REPEATED_DATA ignoring data with redundant timestamp for frame odom at time 2573.054000 according to authority /pose_integrator\u001b[0m\n",
      "\u001b[33m[ WARN] [1684968022.642031834, 2573.027000000]: TF_REPEATED_DATA ignoring data with redundant timestamp for frame odom at time 2573.054000 according to authority /pose_integrator\u001b[0m\n",
      "\u001b[33m[ WARN] [1684968022.642095772, 2573.027000000]: TF_REPEATED_DATA ignoring data with redundant timestamp for frame odom at time 2573.054000 according to authority /pose_integrator\u001b[0m\n",
      "\u001b[33m[ WARN] [1684968022.642156507, 2573.027000000]: TF_REPEATED_DATA ignoring data with redundant timestamp for frame odom at time 2573.054000 according to authority /pose_integrator\u001b[0m\n",
      "\u001b[33m[ WARN] [1684968022.642220193, 2573.027000000]: TF_REPEATED_DATA ignoring data with redundant timestamp for frame odom at time 2573.054000 according to authority /pose_integrator\u001b[0m\n",
      "\u001b[33m[ WARN] [1684968022.642282615, 2573.027000000]: TF_REPEATED_DATA ignoring data with redundant timestamp for frame odom at time 2573.054000 according to authority /pose_integrator\u001b[0m\n",
      "\u001b[33m[ WARN] [1684968022.642683842, 2573.027000000]: TF_REPEATED_DATA ignoring data with redundant timestamp for frame odom at time 2573.054000 according to authority unknown_publisher\u001b[0m\n",
      "\u001b[33m[ WARN] [1684968022.771067171, 2573.103000000]: TF_REPEATED_DATA ignoring data with redundant timestamp for frame odom at time 2573.130000 according to authority unknown_publisher\u001b[0m\n",
      "\u001b[33m[ WARN] [1684968022.775634888, 2573.130000000]: TF_REPEATED_DATA ignoring data with redundant timestamp for frame odom at time 2573.130000 according to authority /pose_integrator\u001b[0m\n",
      "\u001b[33m[ WARN] [1684968022.775733707, 2573.130000000]: TF_REPEATED_DATA ignoring data with redundant timestamp for frame odom at time 2573.130000 according to authority /pose_integrator\u001b[0m\n",
      "\u001b[33m[ WARN] [1684968022.775783235, 2573.130000000]: TF_REPEATED_DATA ignoring data with redundant timestamp for frame odom at time 2573.130000 according to authority /pose_integrator\u001b[0m\n",
      "\u001b[33m[ WARN] [1684968022.775825174, 2573.130000000]: TF_REPEATED_DATA ignoring data with redundant timestamp for frame odom at time 2573.130000 according to authority /pose_integrator\u001b[0m\n",
      "\u001b[33m[ WARN] [1684968022.775858307, 2573.130000000]: TF_REPEATED_DATA ignoring data with redundant timestamp for frame odom at time 2573.130000 according to authority /pose_integrator\u001b[0m\n",
      "\u001b[33m[ WARN] [1684968022.775891548, 2573.130000000]: TF_REPEATED_DATA ignoring data with redundant timestamp for frame odom at time 2573.130000 according to authority /pose_integrator\u001b[0m\n",
      "\u001b[33m[ WARN] [1684968027.077639668, 2575.140000000]: TF_REPEATED_DATA ignoring data with redundant timestamp for frame odom at time 2575.166000 according to authority unknown_publisher\u001b[0m\n",
      "\u001b[33m[ WARN] [1684968027.078870285, 2575.140000000]: TF_REPEATED_DATA ignoring data with redundant timestamp for frame odom at time 2575.166000 according to authority /pose_integrator\u001b[0m\n",
      "\u001b[33m[ WARN] [1684968027.078942446, 2575.140000000]: TF_REPEATED_DATA ignoring data with redundant timestamp for frame odom at time 2575.166000 according to authority /pose_integrator\u001b[0m\n",
      "\u001b[33m[ WARN] [1684968027.078985598, 2575.140000000]: TF_REPEATED_DATA ignoring data with redundant timestamp for frame odom at time 2575.166000 according to authority /pose_integrator\u001b[0m\n",
      "\u001b[33m[ WARN] [1684968027.079031047, 2575.140000000]: TF_REPEATED_DATA ignoring data with redundant timestamp for frame odom at time 2575.166000 according to authority /pose_integrator\u001b[0m\n",
      "\u001b[33m[ WARN] [1684968027.079076107, 2575.140000000]: TF_REPEATED_DATA ignoring data with redundant timestamp for frame odom at time 2575.166000 according to authority /pose_integrator\u001b[0m\n",
      "\u001b[33m[ WARN] [1684968027.079111186, 2575.140000000]: TF_REPEATED_DATA ignoring data with redundant timestamp for frame odom at time 2575.166000 according to authority /pose_integrator\u001b[0m\n",
      "\u001b[33m[ WARN] [1684968031.610316697, 2577.187000000]: TF_REPEATED_DATA ignoring data with redundant timestamp for frame odom at time 2577.212000 according to authority /pose_integrator\u001b[0m\n",
      "\u001b[33m[ WARN] [1684968031.610425075, 2577.187000000]: TF_REPEATED_DATA ignoring data with redundant timestamp for frame odom at time 2577.212000 according to authority /pose_integrator\u001b[0m\n",
      "\u001b[33m[ WARN] [1684968031.610489001, 2577.187000000]: TF_REPEATED_DATA ignoring data with redundant timestamp for frame odom at time 2577.212000 according to authority /pose_integrator\u001b[0m\n",
      "\u001b[33m[ WARN] [1684968031.610552753, 2577.187000000]: TF_REPEATED_DATA ignoring data with redundant timestamp for frame odom at time 2577.212000 according to authority /pose_integrator\u001b[0m\n",
      "\u001b[33m[ WARN] [1684968031.610627854, 2577.187000000]: TF_REPEATED_DATA ignoring data with redundant timestamp for frame odom at time 2577.212000 according to authority /pose_integrator\u001b[0m\n",
      "\u001b[33m[ WARN] [1684968031.610690808, 2577.187000000]: TF_REPEATED_DATA ignoring data with redundant timestamp for frame odom at time 2577.212000 according to authority /pose_integrator\u001b[0m\n",
      "\u001b[33m[ WARN] [1684968031.611299451, 2577.187000000]: TF_REPEATED_DATA ignoring data with redundant timestamp for frame odom at time 2577.212000 according to authority unknown_publisher\u001b[0m\n",
      "\u001b[33m[ WARN] [1684968037.690719106, 2580.047000000]: TF_REPEATED_DATA ignoring data with redundant timestamp for frame odom at time 2580.076000 according to authority unknown_publisher\u001b[0m\n",
      "\u001b[33m[ WARN] [1684968037.691538826, 2580.047000000]: TF_REPEATED_DATA ignoring data with redundant timestamp for frame odom at time 2580.076000 according to authority /pose_integrator\u001b[0m\n",
      "\u001b[33m[ WARN] [1684968037.691603046, 2580.047000000]: TF_REPEATED_DATA ignoring data with redundant timestamp for frame odom at time 2580.076000 according to authority /pose_integrator\u001b[0m\n",
      "\u001b[33m[ WARN] [1684968037.691655767, 2580.047000000]: TF_REPEATED_DATA ignoring data with redundant timestamp for frame odom at time 2580.076000 according to authority /pose_integrator\u001b[0m\n",
      "\u001b[33m[ WARN] [1684968037.691704399, 2580.047000000]: TF_REPEATED_DATA ignoring data with redundant timestamp for frame odom at time 2580.076000 according to authority /pose_integrator\u001b[0m\n",
      "\u001b[33m[ WARN] [1684968037.691767678, 2580.047000000]: TF_REPEATED_DATA ignoring data with redundant timestamp for frame odom at time 2580.076000 according to authority /pose_integrator\u001b[0m\n",
      "\u001b[33m[ WARN] [1684968037.691827423, 2580.047000000]: TF_REPEATED_DATA ignoring data with redundant timestamp for frame odom at time 2580.076000 according to authority /pose_integrator\u001b[0m\n",
      "\u001b[33m[ WARN] [1684968039.767710711, 2581.061000000]: TF_REPEATED_DATA ignoring data with redundant timestamp for frame odom at time 2581.101000 according to authority unknown_publisher\u001b[0m\n",
      "\u001b[33m[ WARN] [1684968039.768673623, 2581.101000000]: TF_REPEATED_DATA ignoring data with redundant timestamp for frame odom at time 2581.101000 according to authority /pose_integrator\u001b[0m\n",
      "\u001b[33m[ WARN] [1684968039.768756452, 2581.101000000]: TF_REPEATED_DATA ignoring data with redundant timestamp for frame odom at time 2581.101000 according to authority /pose_integrator\u001b[0m\n",
      "\u001b[33m[ WARN] [1684968039.768826143, 2581.101000000]: TF_REPEATED_DATA ignoring data with redundant timestamp for frame odom at time 2581.101000 according to authority /pose_integrator\u001b[0m\n",
      "\u001b[33m[ WARN] [1684968039.768901495, 2581.101000000]: TF_REPEATED_DATA ignoring data with redundant timestamp for frame odom at time 2581.101000 according to authority /pose_integrator\u001b[0m\n",
      "\u001b[33m[ WARN] [1684968039.768974952, 2581.101000000]: TF_REPEATED_DATA ignoring data with redundant timestamp for frame odom at time 2581.101000 according to authority /pose_integrator\u001b[0m\n",
      "\u001b[33m[ WARN] [1684968039.769028778, 2581.101000000]: TF_REPEATED_DATA ignoring data with redundant timestamp for frame odom at time 2581.101000 according to authority /pose_integrator\u001b[0m\n"
     ]
    }
   ],
   "source": [
    "res=get_keywords_speech(10)\n",
    "res"
   ]
  },
  {
   "cell_type": "code",
   "execution_count": null,
   "id": "c8dee770",
   "metadata": {},
   "outputs": [],
   "source": []
  }
 ],
 "metadata": {
  "kernelspec": {
   "display_name": "Python 3 (ipykernel)",
   "language": "python",
   "name": "python3"
  },
  "language_info": {
   "codemirror_mode": {
    "name": "ipython",
    "version": 3
   },
   "file_extension": ".py",
   "mimetype": "text/x-python",
   "name": "python",
   "nbconvert_exporter": "python",
   "pygments_lexer": "ipython3",
   "version": "3.8.10"
  }
 },
 "nbformat": 4,
 "nbformat_minor": 5
}

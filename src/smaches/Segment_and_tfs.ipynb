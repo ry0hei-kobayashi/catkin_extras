{
 "cells": [
  {
   "cell_type": "code",
   "execution_count": null,
   "id": "b878d9d1",
   "metadata": {},
   "outputs": [],
   "source": [
    "from smach_utils2 import *"
   ]
  },
  {
   "cell_type": "code",
   "execution_count": null,
   "id": "327893d4",
   "metadata": {},
   "outputs": [],
   "source": [
    "tfBuffer = tf2.Buffer()\n",
    "\n",
    "listener = tf2.TransformListener(tfBuffer)\n",
    "b_tf=tf2.TransformBroadcaster()\n",
    "b_st=tf2.StaticTransformBroadcaster()\n"
   ]
  },
  {
   "cell_type": "code",
   "execution_count": null,
   "id": "a956cd50",
   "metadata": {},
   "outputs": [],
   "source": []
  },
  {
   "cell_type": "code",
   "execution_count": null,
   "id": "9516a610",
   "metadata": {},
   "outputs": [],
   "source": [
    "def write_tf(pose, q, child_frame , parent_frame='map',time=0):\n",
    "    t= TransformStamped()\n",
    "    t.header.stamp = rospy.Time.now()\n",
    "    t.header.frame_id =parent_frame\n",
    "    t.child_frame_id =  child_frame\n",
    "    t.transform.translation.x = pose[0]\n",
    "    t.transform.translation.y = pose[1]\n",
    "    t.transform.translation.z = pose[2]\n",
    "    #q = tf.transformations.quaternion_from_euler(eu[0], eu[1], eu[2])\n",
    "    t.transform.rotation.x = q[0]\n",
    "    t.transform.rotation.y = q[1]\n",
    "    t.transform.rotation.z = q[2]\n",
    "    t.transform.rotation.w = q[3]\n",
    "    return t\n",
    "def read_tf(t):\n",
    "    pose=np.asarray((\n",
    "        t.transform.translation.x,\n",
    "        t.transform.translation.y,\n",
    "        t.transform.translation.z\n",
    "        ))\n",
    "    quat=np.asarray((\n",
    "        t.transform.rotation.x,\n",
    "        t.transform.rotation.y,\n",
    "        t.transform.rotation.z,\n",
    "        t.transform.rotation.w\n",
    "        ))\n",
    "    \n",
    "    return pose, quat\n"
   ]
  },
  {
   "cell_type": "code",
   "execution_count": null,
   "id": "2979f285",
   "metadata": {},
   "outputs": [],
   "source": [
    "res=segmentation_server.call()"
   ]
  },
  {
   "cell_type": "code",
   "execution_count": null,
   "id": "a7a211f6",
   "metadata": {},
   "outputs": [],
   "source": [
    "res"
   ]
  },
  {
   "cell_type": "code",
   "execution_count": null,
   "id": "81ad906a",
   "metadata": {},
   "outputs": [],
   "source": [
    "poses=np.asarray(res.poses.data)\n",
    "\n",
    "poses=poses.reshape((int(len(poses)/3) ,3     )      )"
   ]
  },
  {
   "cell_type": "code",
   "execution_count": null,
   "id": "edc62c5b",
   "metadata": {},
   "outputs": [],
   "source": [
    "head.set_named_target('neutral')"
   ]
  },
  {
   "cell_type": "code",
   "execution_count": null,
   "id": "1aa0f955",
   "metadata": {},
   "outputs": [],
   "source": [
    "#t=write_tf(res.poses.data,(0,0,0,1),'Target',\"head_rgbd_sensor_depth_frame\",0)\n",
    "t=write_tf(poses[0,:],(0,0,0,1),'Target_tmp',\"head_rgbd_sensor_depth_frame\",0) ## CHOOSE A TARGET \n",
    "\n",
    "b_tf.sendTransform(t)\n",
    "rospy.sleep(0.2)\n",
    "tt=tfBuffer.lookup_transform('map','object_0',rospy.Time(0))\n",
    "rospy.sleep(0.2)\n",
    "tt\n",
    "pose,quat= read_tf(tt)\n",
    "t=write_tf(pose,(0,0,0,1),'Target')\n",
    "b_st.sendTransform(t)\n"
   ]
  },
  {
   "cell_type": "code",
   "execution_count": null,
   "id": "6a6fb5c5",
   "metadata": {},
   "outputs": [],
   "source": [
    "head = moveit_commander.MoveGroupCommander('head')\n",
    "#gripper =  moveit_commander.MoveGroupCommander('gripper')\n",
    "arm=moveit_commander.MoveGroupCommander('arm')"
   ]
  },
  {
   "cell_type": "code",
   "execution_count": null,
   "id": "464e664c",
   "metadata": {},
   "outputs": [],
   "source": [
    "#whole_body=moveit_commander.MoveGroupCommander('whole_body')"
   ]
  },
  {
   "cell_type": "code",
   "execution_count": null,
   "id": "7ef2963f",
   "metadata": {},
   "outputs": [],
   "source": [
    "clear_octo_client()\n",
    "arm_grasp_from_above = [0.3, -2.0, 0.0, -0.9939144210462025, -0.17365421548386273, 0.0]\n",
    "wb_v=whole_body.get_current_joint_values()\n",
    "wb_v[3:]=arm_grasp_from_above\n",
    "succ = whole_body.go(wb_v)"
   ]
  },
  {
   "cell_type": "code",
   "execution_count": null,
   "id": "c2fd61fa",
   "metadata": {},
   "outputs": [],
   "source": [
    "head.set_named_target('neutral')\n",
    "head.go()\n",
    "clear_octo_client()\n"
   ]
  },
  {
   "cell_type": "code",
   "execution_count": null,
   "id": "e67a1f0b",
   "metadata": {},
   "outputs": [],
   "source": [
    "#\n",
    "t=tfBuffer.lookup_transform('map','Target',rospy.Time(0))\n",
    "pose , quat =  read_tf(t)\n",
    "pose"
   ]
  },
  {
   "cell_type": "code",
   "execution_count": null,
   "id": "91a9c855",
   "metadata": {},
   "outputs": [],
   "source": [
    "wb_gp=whole_body.get_current_pose()\n",
    "wb_gp.pose.position.x= pose[0]\n",
    "wb_gp.pose.position.y= pose[1]#\n",
    "wb_gp.pose.position.z= pose[2]+0.3   ##Pre Grasp from above\n"
   ]
  },
  {
   "cell_type": "code",
   "execution_count": null,
   "id": "00506fa1",
   "metadata": {
    "scrolled": false
   },
   "outputs": [],
   "source": [
    "whole_body.set_pose_target(wb_gp)\n",
    "plan=whole_body.plan()\n",
    "if plan[0]:\n",
    "    succ=whole_body.go()\n",
    "else:\n",
    "    print('No plan')"
   ]
  },
  {
   "cell_type": "code",
   "execution_count": null,
   "id": "d902c51e",
   "metadata": {},
   "outputs": [],
   "source": [
    "succ"
   ]
  },
  {
   "cell_type": "code",
   "execution_count": null,
   "id": "5aaa200d",
   "metadata": {},
   "outputs": [],
   "source": []
  },
  {
   "cell_type": "code",
   "execution_count": null,
   "id": "d3412bbd",
   "metadata": {},
   "outputs": [],
   "source": []
  },
  {
   "cell_type": "code",
   "execution_count": null,
   "id": "065f63f1",
   "metadata": {},
   "outputs": [],
   "source": [
    "t=tfBuffer.lookup_transform('hand_palm_link', 'Target',rospy.Time())"
   ]
  },
  {
   "cell_type": "code",
   "execution_count": null,
   "id": "4ea638d1",
   "metadata": {},
   "outputs": [],
   "source": [
    "pose,_=read_tf(t)\n",
    "pose"
   ]
  },
  {
   "cell_type": "code",
   "execution_count": null,
   "id": "d3e52131",
   "metadata": {},
   "outputs": [],
   "source": [
    "goal_p=whole_body.get_current_pose()\n",
    "goal_p.pose.position.x=0.1\n",
    "goal_p.pose.position.y=pose[1]\n",
    "goal_p.pose.position.z=pose[2]+0.2\n",
    "#goal_p.pose.orientation.w=quat[0]\n",
    "#goal_p.pose.orientation.x=quat[1]\n",
    "#goal_p.pose.orientation.y=quat[2]\n",
    "#goal_p.pose.orientation.z=quat[3]\n",
    "\n"
   ]
  },
  {
   "cell_type": "code",
   "execution_count": null,
   "id": "1da825b7",
   "metadata": {},
   "outputs": [],
   "source": [
    "whole_body.set_pose_target(goal_p)"
   ]
  },
  {
   "cell_type": "code",
   "execution_count": null,
   "id": "3ba02e07",
   "metadata": {},
   "outputs": [],
   "source": [
    "whole_body.plan()"
   ]
  },
  {
   "cell_type": "code",
   "execution_count": null,
   "id": "860c8fc4",
   "metadata": {},
   "outputs": [],
   "source": [
    "goal_p=whole_body.get_current_pose()"
   ]
  },
  {
   "cell_type": "code",
   "execution_count": null,
   "id": "9ef3bfbf",
   "metadata": {},
   "outputs": [],
   "source": [
    "whole_body.set_pose_target(goal_p)\n",
    "whole_body.plan()"
   ]
  },
  {
   "cell_type": "code",
   "execution_count": null,
   "id": "e91a0515",
   "metadata": {},
   "outputs": [],
   "source": [
    "whole_body.go()"
   ]
  },
  {
   "cell_type": "code",
   "execution_count": null,
   "id": "2fe72b4b",
   "metadata": {},
   "outputs": [],
   "source": []
  },
  {
   "cell_type": "code",
   "execution_count": null,
   "id": "3dfb35a6",
   "metadata": {},
   "outputs": [],
   "source": []
  },
  {
   "cell_type": "code",
   "execution_count": null,
   "id": "4b200fce",
   "metadata": {},
   "outputs": [],
   "source": [
    "res.poses.data"
   ]
  },
  {
   "cell_type": "code",
   "execution_count": null,
   "id": "4ebd2af5",
   "metadata": {},
   "outputs": [],
   "source": [
    "t=tfBuffer.lookup_transform('map','Target',rospy.Time())"
   ]
  },
  {
   "cell_type": "code",
   "execution_count": null,
   "id": "ec2e5eae",
   "metadata": {},
   "outputs": [],
   "source": [
    "pose,quat=read_tf(t)"
   ]
  },
  {
   "cell_type": "code",
   "execution_count": null,
   "id": "7dddd58b",
   "metadata": {},
   "outputs": [],
   "source": [
    "goal_pose= Pose()"
   ]
  },
  {
   "cell_type": "code",
   "execution_count": null,
   "id": "fa06ecd0",
   "metadata": {},
   "outputs": [],
   "source": [
    "goal_pose.position.x=pose[0]\n",
    "goal_pose.position.y=pose[1]\n",
    "goal_pose.position.z=pose[2]"
   ]
  },
  {
   "cell_type": "code",
   "execution_count": null,
   "id": "76bfdd75",
   "metadata": {},
   "outputs": [],
   "source": [
    "pose,goal_pose"
   ]
  },
  {
   "cell_type": "code",
   "execution_count": null,
   "id": "e1bfc047",
   "metadata": {},
   "outputs": [],
   "source": [
    "whole_body.get_current_pose()"
   ]
  },
  {
   "cell_type": "code",
   "execution_count": null,
   "id": "0a55f889",
   "metadata": {},
   "outputs": [],
   "source": [
    "wb=whole_body.get_current_joint_values()"
   ]
  },
  {
   "cell_type": "code",
   "execution_count": null,
   "id": "0852d4fb",
   "metadata": {},
   "outputs": [],
   "source": [
    "wb[4]=0.1"
   ]
  },
  {
   "cell_type": "code",
   "execution_count": null,
   "id": "2ebde50f",
   "metadata": {},
   "outputs": [],
   "source": [
    "whole_body.go(wb)"
   ]
  },
  {
   "cell_type": "code",
   "execution_count": null,
   "id": "58799474",
   "metadata": {},
   "outputs": [],
   "source": [
    "pose=whole_body.get_current_pose()"
   ]
  },
  {
   "cell_type": "code",
   "execution_count": null,
   "id": "3c2220e1",
   "metadata": {},
   "outputs": [],
   "source": [
    "type(pose.pose.orientation)"
   ]
  },
  {
   "cell_type": "code",
   "execution_count": null,
   "id": "fc307530",
   "metadata": {},
   "outputs": [],
   "source": [
    "tf.transformations.euler_from_quaternion((pose.pose.orientation.w,pose.pose.orientation.x,pose.pose.orientation.y,pose.pose.orientation.z))"
   ]
  },
  {
   "cell_type": "code",
   "execution_count": null,
   "id": "4ee0d547",
   "metadata": {},
   "outputs": [],
   "source": [
    "tf.transformations.euler_from_quaternion((pose.pose.orientation.w,pose.pose.orientation.x,pose.pose.orientation.y,pose.pose.orientation.z))"
   ]
  },
  {
   "cell_type": "code",
   "execution_count": null,
   "id": "17d1dea8",
   "metadata": {},
   "outputs": [],
   "source": [
    "gp=whole_body.get_current_pose()"
   ]
  },
  {
   "cell_type": "code",
   "execution_count": null,
   "id": "b88885bc",
   "metadata": {},
   "outputs": [],
   "source": [
    "\n",
    "gp.pose.orientation\n",
    "pose=gp\n",
    "eu=tf.transformations.euler_from_quaternion((pose.pose.orientation.w,pose.pose.orientation.x,pose.pose.orientation.y,pose.pose.orientation.z))\n",
    "#eu[1]=0\n",
    "quat=tf.transformations.quaternion_from_euler(eu[0],eu[1],eu[2])"
   ]
  },
  {
   "cell_type": "code",
   "execution_count": null,
   "id": "b3524ff3",
   "metadata": {},
   "outputs": [],
   "source": [
    "eu=tf.transformations.euler_from_quaternion((pose.pose.orientation.w,pose.pose.orientation.x,pose.pose.orientation.y,pose.pose.orientation.z))"
   ]
  },
  {
   "cell_type": "code",
   "execution_count": null,
   "id": "f1848d06",
   "metadata": {},
   "outputs": [],
   "source": [
    "tfBuffer.lookup_transform('hand_palm_link','New:static_Target',rospy.Time(0))"
   ]
  },
  {
   "cell_type": "code",
   "execution_count": null,
   "id": "6aa7e7eb",
   "metadata": {},
   "outputs": [],
   "source": [
    "#eu[1]=0\n",
    "quat=tf.transformations.quaternion_from_euler(eu[0],eu[1],eu[2])\n",
    "rot_quat=tf.transformations.quaternion_from_euler(0,0.5*np.pi,0.0)"
   ]
  },
  {
   "cell_type": "code",
   "execution_count": null,
   "id": "fcf78b24",
   "metadata": {},
   "outputs": [],
   "source": [
    "wb_gp=whole_body.get_current_pose()"
   ]
  },
  {
   "cell_type": "code",
   "execution_count": null,
   "id": "803cc0d5",
   "metadata": {},
   "outputs": [],
   "source": [
    "eu=tf.transformations.euler_from_quaternion((wb_gp.pose.orientation.w,wb_gp.pose.orientation.x,wb_gp.pose.orientation.y,wb_gp.pose.orientation.z))\n",
    "quat=tf.transformations.quaternion_from_euler(eu[0],eu[1],eu[2])\n",
    "rot_quat=tf.transformations.quaternion_from_euler(0,0.5*np.pi,0.0)\n",
    "rotated=tf.transformations.quaternion_multiply(quat,rot_quat)\n",
    "\n"
   ]
  },
  {
   "cell_type": "code",
   "execution_count": null,
   "id": "af1f1c10",
   "metadata": {},
   "outputs": [],
   "source": [
    "wb_gp.pose.position.x-=0.1\n",
    "wb_gp.pose.position.y+=0.1\n",
    "wb_gp.pose.position.z-=0.1\n"
   ]
  },
  {
   "cell_type": "code",
   "execution_count": null,
   "id": "e7060254",
   "metadata": {},
   "outputs": [],
   "source": [
    "wb_gp.pose.orientation.w=rotated[0]\n",
    "wb_gp.pose.orientation.x=rotated[1]\n",
    "wb_gp.pose.orientation.y=rotated[2]\n",
    "wb_gp.pose.orientation.z=rotated[3]"
   ]
  },
  {
   "cell_type": "code",
   "execution_count": null,
   "id": "cfff6feb",
   "metadata": {},
   "outputs": [],
   "source": [
    "whole_body.set_pose_target(wb_gp)"
   ]
  },
  {
   "cell_type": "code",
   "execution_count": null,
   "id": "46b260e6",
   "metadata": {},
   "outputs": [],
   "source": [
    "\n",
    "plan=whole_body.plan()\n",
    "plan"
   ]
  },
  {
   "cell_type": "code",
   "execution_count": null,
   "id": "d13e0540",
   "metadata": {},
   "outputs": [],
   "source": [
    "if plan[0]:\n",
    "    whole_body.go()"
   ]
  },
  {
   "cell_type": "code",
   "execution_count": null,
   "id": "56da32e8",
   "metadata": {},
   "outputs": [],
   "source": [
    "whole_body.go()"
   ]
  },
  {
   "cell_type": "code",
   "execution_count": null,
   "id": "1cafe338",
   "metadata": {},
   "outputs": [],
   "source": [
    "arm_grasp_from_above = [0.19263830140116414, -2.2668981568652917, -0.007358947463759424, -0.9939144210462025, -0.17365421548386273, 0.0]\n",
    "wb_v=whole_body.get_current_joint_values()\n",
    "wb_v[3:]=arm_grasp_from_above\n",
    "succ = whole_body.go(wb_v)"
   ]
  },
  {
   "cell_type": "code",
   "execution_count": null,
   "id": "f6961dec",
   "metadata": {},
   "outputs": [],
   "source": [
    "\n",
    "t=tfBuffer.lookup_transform('New:static_Target','hand_palm_link',rospy.Time(0))\n",
    "pose , quat =  read_tf(t)\n",
    "pose,quat\n",
    "np.save('above_quat.npy',quat)"
   ]
  },
  {
   "cell_type": "code",
   "execution_count": null,
   "id": "f7b19101",
   "metadata": {},
   "outputs": [],
   "source": [
    "t=tfBuffer.lookup_transform('map','Target',rospy.Time(0))\n",
    "pose , quat =  read_tf(t)\n",
    "pose,quat"
   ]
  },
  {
   "cell_type": "code",
   "execution_count": null,
   "id": "97b4222e",
   "metadata": {},
   "outputs": [],
   "source": [
    "wb_gp=whole_body.get_current_pose()\n",
    "wb_gp.pose.position.x= pose[0]\n",
    "wb_gp.pose.position.y= pose[1]\n",
    "wb_gp.pose.position.z= pose[2]+0.2\n"
   ]
  },
  {
   "cell_type": "code",
   "execution_count": null,
   "id": "5f99d418",
   "metadata": {},
   "outputs": [],
   "source": [
    "whole_body.set_pose_target(wb_gp)\n",
    "plan=whole_body.plan()\n",
    "plan"
   ]
  },
  {
   "cell_type": "code",
   "execution_count": null,
   "id": "b1e041bf",
   "metadata": {},
   "outputs": [],
   "source": [
    "\n",
    "whole_body.go()"
   ]
  },
  {
   "cell_type": "code",
   "execution_count": null,
   "id": "ba658ddb",
   "metadata": {},
   "outputs": [],
   "source": [
    "wb_v=whole_body.get_current_joint_values()\n"
   ]
  },
  {
   "cell_type": "code",
   "execution_count": null,
   "id": "ebe3812e",
   "metadata": {},
   "outputs": [],
   "source": [
    "gripper = GRIPPER()"
   ]
  },
  {
   "cell_type": "code",
   "execution_count": null,
   "id": "b5a3ad2a",
   "metadata": {},
   "outputs": [],
   "source": [
    "gripper.close()"
   ]
  },
  {
   "cell_type": "code",
   "execution_count": null,
   "id": "c7e05102",
   "metadata": {},
   "outputs": [],
   "source": [
    "gripper =  moveit_commander.MoveGroupCommander('gripper')"
   ]
  },
  {
   "cell_type": "code",
   "execution_count": null,
   "id": "7bac164b",
   "metadata": {},
   "outputs": [],
   "source": [
    "\n",
    "|\n",
    "tf_man.pub_static_tf()"
   ]
  },
  {
   "cell_type": "code",
   "execution_count": null,
   "id": "261eed62",
   "metadata": {},
   "outputs": [],
   "source": []
  },
  {
   "cell_type": "code",
   "execution_count": null,
   "id": "69c7bc1d",
   "metadata": {},
   "outputs": [],
   "source": []
  },
  {
   "cell_type": "code",
   "execution_count": null,
   "id": "8fe6fd57",
   "metadata": {},
   "outputs": [],
   "source": []
  },
  {
   "cell_type": "code",
   "execution_count": null,
   "id": "187b56b6",
   "metadata": {},
   "outputs": [],
   "source": []
  },
  {
   "cell_type": "code",
   "execution_count": null,
   "id": "eb12f985",
   "metadata": {},
   "outputs": [],
   "source": [
    "head.set_joint_values([0.0, -0.77])\n"
   ]
  },
  {
   "cell_type": "code",
   "execution_count": null,
   "id": "d80dd175",
   "metadata": {},
   "outputs": [],
   "source": [
    "print ('rdy')"
   ]
  },
  {
   "cell_type": "code",
   "execution_count": null,
   "id": "830b7456",
   "metadata": {},
   "outputs": [],
   "source": [
    "brazo.set_named_target('go')\n",
    "head.set_joint_values([0.0, -0.77])\n",
    "res=segmentation_server.call()\n",
    "if len(res.poses.data)==0: print( 'failed')\n",
    "else:\n",
    "\n",
    "    poses=np.asarray(res.poses.data)\n",
    "    poses=poses.reshape((int(len(poses)/3) ,3     )      )  \n",
    "\n",
    "\n",
    "\n",
    "\n",
    "\n",
    "    tf_man.pub_static_tf(pos=poses[0,:], point_name='target', ref='head_rgbd_sensor_rgb_frame')## which object to choose   #TODO\n",
    "    rospy.sleep(0.3)\n",
    "    tf_man.change_ref_frame_tf(point_name='target', new_frame='map')\n",
    "    rospy.sleep(0.3)\n",
    "    pose, _ =tf_man.getTF('target')\n",
    "    tf_man.pub_static_tf(pos=pose, point_name='Target')## which object to choose   #TODO\n",
    "\n",
    "\n",
    "    head.set_named_target('neutral')"
   ]
  },
  {
   "cell_type": "code",
   "execution_count": null,
   "id": "e2f330e0",
   "metadata": {},
   "outputs": [],
   "source": [
    "poses=np.asarray(res.poses.data)\n",
    "poses=poses.reshape((int(len(poses)/3) ,3     )      )  \n",
    "\n",
    "\n",
    "\n",
    "\n",
    "\n",
    "tf_man.pub_static_tf(pos=poses[0,:], point_name='target', ref='head_rgbd_sensor_rgb_frame')## which object to choose   #TODO"
   ]
  },
  {
   "cell_type": "code",
   "execution_count": null,
   "id": "e4642063",
   "metadata": {},
   "outputs": [],
   "source": [
    "tf_man.change_ref_frame_tf(point_name='target', new_frame='map')\n"
   ]
  },
  {
   "cell_type": "code",
   "execution_count": null,
   "id": "23eb4bf8",
   "metadata": {},
   "outputs": [],
   "source": [
    "pose, _ =tf_man.getTF('target')\n",
    "tf_man.pub_static_tf(pos=pose, point_name='Target')## which object to choose   #TODO\n"
   ]
  },
  {
   "cell_type": "code",
   "execution_count": null,
   "id": "791abb92",
   "metadata": {},
   "outputs": [],
   "source": [
    "head.set_named_target('neutral')"
   ]
  },
  {
   "cell_type": "code",
   "execution_count": null,
   "id": "448d5ca0",
   "metadata": {},
   "outputs": [],
   "source": [
    " clear_octo_client()\n",
    "#############################10 * 2 *np.pi / 360 ####pi /2\n",
    "arm_grasp_from_above = [0.2, -1.57, -0.13 , -1.57, 0.0, 0.0]\n",
    "wb_v=whole_body.get_current_joint_values()\n",
    "wb_v[3:]=arm_grasp_from_above\n",
    "succ = whole_body.go(wb_v)   "
   ]
  },
  {
   "cell_type": "code",
   "execution_count": null,
   "id": "85cdf627",
   "metadata": {},
   "outputs": [],
   "source": [
    "clear_octo_client()\n",
    "pose, quat=tf_man.getTF('Target')\n",
    "\n",
    "wb_gp=whole_body.get_current_pose()\n",
    "wb_gp.pose.position.x= pose[0]\n",
    "wb_gp.pose.position.y= pose[1]\n",
    "wb_gp.pose.position.z= pose[2]+0.2\n",
    "\n",
    "whole_body.set_pose_target(wb_gp)\n",
    "plan=whole_body.plan()"
   ]
  },
  {
   "cell_type": "code",
   "execution_count": null,
   "id": "422d4c93",
   "metadata": {},
   "outputs": [],
   "source": [
    "pos,rot=tf_man.getTF(target_frame=,ref)\n",
    "pos"
   ]
  },
  {
   "cell_type": "code",
   "execution_count": null,
   "id": "a011d956",
   "metadata": {},
   "outputs": [],
   "source": [
    "from smach_utils2 import *"
   ]
  },
  {
   "cell_type": "code",
   "execution_count": null,
   "id": "f384254d",
   "metadata": {},
   "outputs": [],
   "source": [
    "from smach_utils2 import *\n"
   ]
  },
  {
   "cell_type": "code",
   "execution_count": null,
   "id": "7f9036ef",
   "metadata": {},
   "outputs": [],
   "source": [
    "wb_gp=whole_body.get_current_pose()            \n",
    "wb_gp.header.frame_id=\"Target\"\n",
    "wb_gp.pose.position.x=0.02669\n",
    "wb_gp.pose.position.y=0.045\n",
    "wb_gp.pose.position.z= 0.033\n",
    "wb_gp.pose.orientation.w=-0.990\n",
    "wb_gp.pose.orientation.x= 0.0246\n",
    "wb_gp.pose.orientation.y= -0.0085\n",
    "wb_gp.pose.orientation.z= 0.1345\n",
    "\n"
   ]
  },
  {
   "cell_type": "code",
   "execution_count": null,
   "id": "9dadce42",
   "metadata": {},
   "outputs": [],
   "source": []
  },
  {
   "cell_type": "code",
   "execution_count": null,
   "id": "85cfad64",
   "metadata": {},
   "outputs": [],
   "source": [
    "aaa"
   ]
  },
  {
   "cell_type": "code",
   "execution_count": null,
   "id": "05aab8d3",
   "metadata": {},
   "outputs": [],
   "source": [
    "from smach_ros import ActionServerWrapper"
   ]
  },
  {
   "cell_type": "code",
   "execution_count": null,
   "id": "42d59559",
   "metadata": {},
   "outputs": [],
   "source": []
  },
  {
   "cell_type": "code",
   "execution_count": null,
   "id": "b2be4635",
   "metadata": {},
   "outputs": [],
   "source": [
    "res = speech_recog_server()"
   ]
  },
  {
   "cell_type": "code",
   "execution_count": null,
   "id": "4e6d8840",
   "metadata": {},
   "outputs": [],
   "source": [
    "res.data\n",
    "\n",
    "#msg = rospy.wait_for_message('/speech_recognition/final_result', String, 10)\n",
    "#msg"
   ]
  },
  {
   "cell_type": "code",
   "execution_count": null,
   "id": "f2b2e7d5",
   "metadata": {},
   "outputs": [],
   "source": [
    "if len(res.data.split(' '))>1:print(res.data.split(' ')[-1])    ### Number of words\n"
   ]
  },
  {
   "cell_type": "code",
   "execution_count": null,
   "id": "c4115064",
   "metadata": {},
   "outputs": [],
   "source": []
  },
  {
   "cell_type": "code",
   "execution_count": null,
   "id": "19e7972a",
   "metadata": {},
   "outputs": [],
   "source": []
  },
  {
   "cell_type": "code",
   "execution_count": null,
   "id": "58ba5515",
   "metadata": {},
   "outputs": [],
   "source": [
    "from ros_whisper_vosk.srv import SetGrammarVosk\n",
    "set_grammar = rospy.ServiceProxy('set_grammar_vosk', SetGrammarVosk)"
   ]
  },
  {
   "cell_type": "code",
   "execution_count": null,
   "id": "590283d6",
   "metadata": {},
   "outputs": [],
   "source": [
    "set_grammar = rospy.ServiceProxy('set_grammar_vosk', SetGrammarVosk)"
   ]
  },
  {
   "cell_type": "code",
   "execution_count": null,
   "id": "5f5b4d54",
   "metadata": {},
   "outputs": [],
   "source": [
    "set_grammar(['pete','ana','jack', 'michael', ' my name is' , 'i am','george','mary','ruben','oscar','yolo','mitzi'])  ##PRESET NAMES"
   ]
  },
  {
   "cell_type": "code",
   "execution_count": null,
   "id": "f692c036",
   "metadata": {
    "scrolled": true
   },
   "outputs": [],
   "source": [
    "msg = rospy.wait_for_message('/speech_recognition/final_result', String, 10)\n",
    "msg"
   ]
  },
  {
   "cell_type": "code",
   "execution_count": null,
   "id": "1024c0ba",
   "metadata": {},
   "outputs": [],
   "source": [
    "msg = rospy.wait_for_message('/speech_recognition/final_result', String, 10)\n",
    "#msg.data\n",
    "if len(msg.data.split(' '))>1:print(msg.data.split(' ')[-1]) "
   ]
  },
  {
   "cell_type": "code",
   "execution_count": null,
   "id": "dd53f34f",
   "metadata": {},
   "outputs": [],
   "source": [
    "\n",
    "res=get_keywords_speech(10)\n",
    "res"
   ]
  },
  {
   "cell_type": "code",
   "execution_count": null,
   "id": "10c3aca5",
   "metadata": {},
   "outputs": [],
   "source": []
  },
  {
   "cell_type": "code",
   "execution_count": null,
   "id": "cb3b220a",
   "metadata": {},
   "outputs": [],
   "source": [
    "drinks=['coke','juice','beer', 'water', 'soda', 'wine']\n",
    "names=['pete','ana','jack', 'michael', ' my name is' , 'i am','george','mary','ruben','oscar','yolo','mitzi']\n",
    "confirmation=['yes','no']\n",
    "gram=drinks+names+confirmation\n",
    "\n",
    "set_grammar(gram)  ##PRESET DRINKS\n"
   ]
  },
  {
   "cell_type": "code",
   "execution_count": null,
   "id": "4e8e8232",
   "metadata": {},
   "outputs": [],
   "source": []
  },
  {
   "cell_type": "code",
   "execution_count": null,
   "id": "c8dee770",
   "metadata": {},
   "outputs": [],
   "source": [
    "res2 = get_keywords_speech(10)\n",
    "if res2 in['yes','jack','juice']:print('chido',res2)\n",
    "else: print ('chale',res2)"
   ]
  },
  {
   "cell_type": "code",
   "execution_count": null,
   "id": "32ec358c",
   "metadata": {},
   "outputs": [],
   "source": [
    "set_grammar(['yes','no'])"
   ]
  },
  {
   "cell_type": "code",
   "execution_count": null,
   "id": "44831c6e",
   "metadata": {},
   "outputs": [],
   "source": [
    "res2 in ['yes', 'no']"
   ]
  },
  {
   "cell_type": "code",
   "execution_count": null,
   "id": "3d885d9c",
   "metadata": {},
   "outputs": [],
   "source": [
    "res2='not'"
   ]
  },
  {
   "cell_type": "code",
   "execution_count": null,
   "id": "50f13eb4",
   "metadata": {},
   "outputs": [],
   "source": [
    "import matplotlib.pyplot as plt\n",
    "\n",
    "#map_msg= rospy.wait_for_message('/prohibition_layer_map', OccupancyGrid)\n",
    "map_msg= rospy.wait_for_message('/augmented_map', OccupancyGrid)\n",
    "inflated_map= np.asarray(map_msg.data)"
   ]
  },
  {
   "cell_type": "code",
   "execution_count": null,
   "id": "15e8406f",
   "metadata": {},
   "outputs": [],
   "source": [
    "map_msg.info.width"
   ]
  },
  {
   "cell_type": "code",
   "execution_count": null,
   "id": "d979331e",
   "metadata": {},
   "outputs": [],
   "source": [
    "import matplotlib.pyplot as plt\n",
    "img_map=inflated_map.reshape((map_msg.info.width,map_msg.info.height))\n",
    "\n"
   ]
  },
  {
   "cell_type": "code",
   "execution_count": null,
   "id": "c623dbd8",
   "metadata": {},
   "outputs": [],
   "source": [
    "import matplotlib.pyplot as plt\n",
    "img_map=inflated_map.reshape((map_msg.info.width,map_msg.info.height))\n",
    "\n",
    "\n",
    "plt.imshow(img_map)"
   ]
  },
  {
   "cell_type": "code",
   "execution_count": null,
   "id": "f3c85a51",
   "metadata": {},
   "outputs": [],
   "source": [
    "img_map[237,474]"
   ]
  },
  {
   "cell_type": "code",
   "execution_count": null,
   "id": "162d2bc0",
   "metadata": {},
   "outputs": [],
   "source": []
  },
  {
   "cell_type": "code",
   "execution_count": null,
   "id": "2125f71a",
   "metadata": {},
   "outputs": [],
   "source": [
    "from smach_utils2 import *\n"
   ]
  },
  {
   "cell_type": "code",
   "execution_count": null,
   "id": "6774ef06",
   "metadata": {},
   "outputs": [],
   "source": [
    "brazo.set_named_target()\n",
    "head.set_joint_values([0,-1])\n"
   ]
  },
  {
   "cell_type": "code",
   "execution_count": null,
   "id": "24f4f02c",
   "metadata": {},
   "outputs": [],
   "source": [
    "res=segmentation_server.call()\n",
    "origin_map_img=[round(img_map.shape[0]*0.5) ,round(img_map.shape[1]*0.5)]\n",
    "\n",
    "if len(res.poses.data)==0: print( 'failed')\n",
    "else:\n",
    "    print('object found')\n",
    "    \n",
    "    poses=np.asarray(res.poses.data)\n",
    "    poses=poses.reshape((int(len(poses)/3) ,3     )      )  \n",
    "    num_objs=len(poses)\n",
    "    print (num_objs)\n",
    "    for i,pose in enumerate(poses):\n",
    "        #print (f'Occupancy map at point object {i}-> pixels ',origin_map_img[1]+ round(pose[1]/pix_per_m),origin_map_img[0]+ round(pose[0]/pix_per_m), img_map[origin_map_img[1]+ round(pose[1]/pix_per_m),origin_map_img[0]+ round(pose[0]/pix_per_m)])\n",
    "        point_name=f'object_{i}'\n",
    "        tf_man.pub_static_tf(pos=pose, point_name=point_name, ref='head_rgbd_sensor_rgb_frame')## which object to choose   #TODO\n",
    "        rospy.sleep(0.3)\n",
    "        tf_man.change_ref_frame_tf(point_name=point_name, new_frame='map')\n",
    "        rospy.sleep(0.3)\n",
    "        pose,_= tf_man.getTF(point_name)\n",
    "        print (f'Occupancy map at point object {i}-> pixels ',origin_map_img[1]+ round(pose[1]/pix_per_m),origin_map_img[0]+ round(pose[0]/pix_per_m), img_map[origin_map_img[1]+ round(pose[1]/pix_per_m),origin_map_img[0]+ round(pose[0]/pix_per_m)])\n",
    "        if img_map[origin_map_img[1]+ round(pose[1]/pix_per_m),origin_map_img[0]+ round(pose[0]/pix_per_m)]!=0:#### Yes axes seem to be \"flipped\" !=0:\n",
    "            print ('reject point, most likely part of arena, occupied inflated map')\n",
    "            tf_man.pub_static_tf(pos=[0,0,0], point_name=point_name, ref='head_rgbd_sensor_rgb_frame')\n",
    "            num_objs-=1\n",
    "        print (f\"object found at robot coords.{pose} \")\n",
    "\n",
    "print(num_objs)"
   ]
  },
  {
   "cell_type": "code",
   "execution_count": null,
   "id": "4131292e",
   "metadata": {},
   "outputs": [],
   "source": [
    "contoured=draw_at(origin_map_img[1]+ round(pose[1]/pix_per_m),origin_map_img[0]+ round(pose[0]/pix_per_m),contoured)"
   ]
  },
  {
   "cell_type": "code",
   "execution_count": null,
   "id": "bb1d4454",
   "metadata": {},
   "outputs": [],
   "source": [
    "pose"
   ]
  },
  {
   "cell_type": "code",
   "execution_count": null,
   "id": "2350d33d",
   "metadata": {},
   "outputs": [],
   "source": [
    "contoured[origin_map_img[1]+ round(pose[1]/pix_per_m),origin_map_img[0]+ round(pose[0]/pix_per_m)]\n"
   ]
  },
  {
   "cell_type": "code",
   "execution_count": null,
   "id": "ffe95a1e",
   "metadata": {},
   "outputs": [],
   "source": [
    "#FREE SPACE . SO IT IS A PLAUSIBLE HYPOTHESIS OF A TRASH OBJECT"
   ]
  },
  {
   "cell_type": "code",
   "execution_count": null,
   "id": "fe76975f",
   "metadata": {},
   "outputs": [],
   "source": [
    "pose"
   ]
  },
  {
   "cell_type": "code",
   "execution_count": null,
   "id": "38be969d",
   "metadata": {},
   "outputs": [],
   "source": []
  },
  {
   "cell_type": "code",
   "execution_count": null,
   "id": "e170ff37",
   "metadata": {},
   "outputs": [],
   "source": []
  },
  {
   "cell_type": "code",
   "execution_count": null,
   "id": "fffe798f",
   "metadata": {},
   "outputs": [],
   "source": []
  },
  {
   "cell_type": "code",
   "execution_count": null,
   "id": "cc8e4a57",
   "metadata": {},
   "outputs": [],
   "source": []
  },
  {
   "cell_type": "code",
   "execution_count": null,
   "id": "142b793c",
   "metadata": {},
   "outputs": [],
   "source": [
    "def draw_at (px,py, contoured):\n",
    "    contoured[px-5:px+5,py-5:py+5]=200\n",
    "    return contoured\n",
    "    "
   ]
  },
  {
   "cell_type": "code",
   "execution_count": null,
   "id": "b2887705",
   "metadata": {},
   "outputs": [],
   "source": [
    "\n",
    "import matplotlib.pyplot as plt\n",
    "plt.imshow(img_map)"
   ]
  },
  {
   "cell_type": "code",
   "execution_count": null,
   "id": "f366147a",
   "metadata": {},
   "outputs": [],
   "source": [
    "origin_map_img[1]+ round(pose[1]/pix_per_m), origin_map_img[0]+ round(pose[0]/pix_per_m) "
   ]
  },
  {
   "cell_type": "code",
   "execution_count": null,
   "id": "79710947",
   "metadata": {},
   "outputs": [],
   "source": [
    "img_map[200,474]"
   ]
  },
  {
   "cell_type": "code",
   "execution_count": null,
   "id": "1865980e",
   "metadata": {},
   "outputs": [],
   "source": [
    "img_map[origin_map_img[1]+ round(pose[1]/pix_per_m),origin_map_img[0]+ round(pose[0]/pix_per_m) ]\n",
    "\n",
    "\n",
    "#img_map[origin_map_img[1]+ round(pose[1]/pix_per_m),origin_map_img[0]+ round(pose[0]/pix_per_m) ]"
   ]
  },
  {
   "cell_type": "code",
   "execution_count": null,
   "id": "73ee7517",
   "metadata": {},
   "outputs": [],
   "source": [
    "origin_map_img=[round(contoured.shape[0]*0.5) ,round(contoured.shape[1]*0.5)]\n",
    "pose,_= tf_man.getTF('object_0')\n",
    "\n",
    "contoured=draw_at(origin_map_img[1]+ round(pose[1]/pix_per_m),origin_map_img[0]+ round(pose[0]/pix_per_m),img_map)\n",
    "plt.imshow(contoured)"
   ]
  },
  {
   "cell_type": "code",
   "execution_count": null,
   "id": "172fb740",
   "metadata": {},
   "outputs": [],
   "source": [
    "contoured[origin_map_img[1]+ round(pose[1]/pix_per_m),origin_map_img[0]+ round(pose[0]/pix_per_m)]#### Yes axes seem to be \"flipped\""
   ]
  },
  {
   "cell_type": "code",
   "execution_count": null,
   "id": "eb7ec96d",
   "metadata": {},
   "outputs": [],
   "source": [
    "\n",
    "contoured[origin_map_img[1],origin_map_img[0]]"
   ]
  },
  {
   "cell_type": "code",
   "execution_count": null,
   "id": "7d3feda8",
   "metadata": {},
   "outputs": [],
   "source": [
    "robot=get_robot_px()\n",
    "draw_at(origin_map_img[0]+robot[0]+round(pose[0]/pix_per_m) ,origin_map_img[1] -robot[1] - round(pose[1]/pix_per_m),contoured)\n",
    "plt.imshow(contoured[750:1250,750:1250])\n",
    "print ('robot Pose (tf)')"
   ]
  },
  {
   "cell_type": "code",
   "execution_count": null,
   "id": "e53a5c0c",
   "metadata": {},
   "outputs": [],
   "source": []
  },
  {
   "cell_type": "code",
   "execution_count": null,
   "id": "ac803216",
   "metadata": {},
   "outputs": [],
   "source": [
    "contoured[origin_map_img[1]- round(pose[1]/pix_per_m),origin_map_img[0]- round(pose[0]/pix_per_m)]"
   ]
  },
  {
   "cell_type": "code",
   "execution_count": null,
   "id": "ea08f4ac",
   "metadata": {},
   "outputs": [],
   "source": [
    "contoured[0,0]"
   ]
  },
  {
   "cell_type": "code",
   "execution_count": null,
   "id": "6be6f4e6",
   "metadata": {},
   "outputs": [],
   "source": [
    "contoured[origin_map_img[0]- round(pose[0]/pix_per_m),origin_map_img[1]- round(pose[1]/pix_per_m)]"
   ]
  },
  {
   "cell_type": "code",
   "execution_count": null,
   "id": "254ed642",
   "metadata": {},
   "outputs": [],
   "source": []
  },
  {
   "cell_type": "code",
   "execution_count": null,
   "id": "188987fe",
   "metadata": {},
   "outputs": [],
   "source": []
  },
  {
   "cell_type": "code",
   "execution_count": null,
   "id": "74d6c40d",
   "metadata": {},
   "outputs": [],
   "source": []
  },
  {
   "cell_type": "code",
   "execution_count": null,
   "id": "c89515a3",
   "metadata": {},
   "outputs": [],
   "source": []
  },
  {
   "cell_type": "code",
   "execution_count": null,
   "id": "2f7cec26",
   "metadata": {},
   "outputs": [],
   "source": [
    "c=point_to_px(pose[0],pose[1])\n",
    "robot=get_robot_px()\n",
    "draw_at(1024+robot[1]+c[0],1024+robot[0]+c[1],contoured)\n",
    "plt.imshow(contoured[750:1250,750:1250])\n",
    "print ('robot Pose (tf)')\n"
   ]
  },
  {
   "cell_type": "code",
   "execution_count": null,
   "id": "bd170ff1",
   "metadata": {},
   "outputs": [],
   "source": []
  },
  {
   "cell_type": "code",
   "execution_count": null,
   "id": "fe9f2515",
   "metadata": {},
   "outputs": [],
   "source": [
    "contoured[c[0]+1024,c[1]+1024]"
   ]
  },
  {
   "cell_type": "code",
   "execution_count": null,
   "id": "2a34c545",
   "metadata": {},
   "outputs": [],
   "source": [
    "\n",
    "check_point_map(pose[0],pose[1])"
   ]
  },
  {
   "cell_type": "code",
   "execution_count": 1,
   "id": "eecf7fa4",
   "metadata": {},
   "outputs": [
    {
     "name": "stderr",
     "output_type": "stream",
     "text": [
      "\u001b[33m[ WARN] [1702922334.523283712]: TF_REPEATED_DATA ignoring data with redundant timestamp for frame odom at time 3955.239000 according to authority /pose_integrator\u001b[0m\n",
      "\u001b[33m[ WARN] [1702922335.431122727]: TF_REPEATED_DATA ignoring data with redundant timestamp for frame odom at time 3955.577000 according to authority /pose_integrator\u001b[0m\n"
     ]
    }
   ],
   "source": [
    "import matplotlib.pyplot as plt\n",
    "from smach_utils2 import *\n",
    "\n",
    "def read_tf(t):\n",
    "    # trasnform message to np arrays\n",
    "    pose=np.asarray((\n",
    "        t.transform.translation.x,\n",
    "        t.transform.translation.y,\n",
    "        t.transform.translation.z\n",
    "        ))\n",
    "    quat=np.asarray((\n",
    "        t.transform.rotation.x,\n",
    "        t.transform.rotation.y,\n",
    "        t.transform.rotation.z,\n",
    "        t.transform.rotation.w\n",
    "        ))\n",
    "    \n",
    "    return pose, quat\n"
   ]
  },
  {
   "cell_type": "code",
   "execution_count": 2,
   "id": "db4a2903",
   "metadata": {},
   "outputs": [],
   "source": [
    "broadcaster = tf2_ros.TransformBroadcaster()\n",
    "points_msg=rospy.wait_for_message(\"/hsrb/head_rgbd_sensor/depth_registered/rectified_points\",PointCloud2,timeout=5)\n",
    "points_data = ros_numpy.numpify(points_msg)    \n",
    "image_data = points_data['rgb'].view((np.uint8, 4))[..., [2, 1, 0]]   \n",
    "image=cv2.cvtColor(image_data, cv2.COLOR_BGR2RGB)\n",
    "image = points_data['rgb'].view((np.uint8, 4))[..., [2, 1, 0]]\n",
    "\n",
    "rgb_image = cv2.cvtColor(image, cv2.COLOR_BGR2RGB)"
   ]
  },
  {
   "cell_type": "code",
   "execution_count": 3,
   "id": "f51d366f",
   "metadata": {},
   "outputs": [],
   "source": [
    "def correct_points(points_msg):\n",
    "\n",
    "    # Function that transforms Point Cloud reference frame from  head, to map. (i.e. sensor coords to map coords )\n",
    "    # img= correct_points() (Returns rgbd depth corrected image)    \n",
    "    #points msg in \n",
    "    #data = rospy.wait_for_message('/hsrb/head_rgbd_sensor/depth_registered/rectified_points', PointCloud2)\n",
    "    \n",
    "\n",
    "    np_data=ros_numpy.numpify(points_msg)\n",
    "\n",
    "    try:\n",
    "        trans = tfBuffer.lookup_transform('map', 'head_rgbd_sensor_link', rospy.Time())\n",
    "                    \n",
    "        trans,rot=read_tf(trans)\n",
    "        #print (\"############head\",trans,rot)\n",
    "    except (tf2_ros.LookupException, tf2_ros.ConnectivityException, tf2_ros.ExtrapolationException):\n",
    "        print ( 'No head TF FOUND')\n",
    "\n",
    "    #trans,rot=tf_listener.lookupTransform('/map', '/head_rgbd_sensor_rgb_frame', rospy.Time(0))\n",
    "    #print (\"############TF1\",trans,rot)\n",
    "    eu=np.asarray(tf.transformations.euler_from_quaternion(rot))\n",
    "    t=TransformStamped()\n",
    "    rot=tf.transformations.quaternion_from_euler(eu[0],eu[1],eu[2])\n",
    "    #rot=tf.transformations.quaternion_from_euler(-eu[1],0,0)\n",
    "    t.header.stamp = points_msg.header.stamp\n",
    "    t.transform.rotation.x = rot[0]\n",
    "    t.transform.rotation.y = rot[1]\n",
    "    t.transform.rotation.z = rot[2]\n",
    "    t.transform.rotation.w = rot[3]\n",
    "    cloud_out = do_transform_cloud(points_msg, t)\n",
    "    np_corrected=ros_numpy.numpify(cloud_out)\n",
    "    corrected=np_corrected.reshape(np_data.shape)\n",
    "    img= np.copy(-corrected['z'])\n",
    "    img[np.isnan(img)]=2\n",
    "    img_corrected = np.where((img<trans[2]*0.96) ,img,5)\n",
    "    #Returns img with xyz info  and points datastructure ( see numpify a ptcloud2)\n",
    "    return img_corrected , corrected"
   ]
  },
  {
   "cell_type": "code",
   "execution_count": 4,
   "id": "e51dc19c",
   "metadata": {},
   "outputs": [
    {
     "name": "stderr",
     "output_type": "stream",
     "text": [
      "\u001b[33m[ WARN] [1702922336.569802940]: TF_REPEATED_DATA ignoring data with redundant timestamp for frame odom at time 3956.120000 according to authority /pose_integrator\u001b[0m\n",
      "\u001b[33m[ WARN] [1702922336.569847970]: TF_REPEATED_DATA ignoring data with redundant timestamp for frame odom at time 3956.120000 according to authority /pose_integrator\u001b[0m\n",
      "\u001b[33m[ WARN] [1702922336.569875194]: TF_REPEATED_DATA ignoring data with redundant timestamp for frame odom at time 3956.120000 according to authority /pose_integrator\u001b[0m\n",
      "\u001b[33m[ WARN] [1702922336.569901801]: TF_REPEATED_DATA ignoring data with redundant timestamp for frame odom at time 3956.120000 according to authority /pose_integrator\u001b[0m\n",
      "\u001b[33m[ WARN] [1702922336.569928075]: TF_REPEATED_DATA ignoring data with redundant timestamp for frame odom at time 3956.120000 according to authority /pose_integrator\u001b[0m\n",
      "\u001b[33m[ WARN] [1702922336.569956299]: TF_REPEATED_DATA ignoring data with redundant timestamp for frame odom at time 3956.120000 according to authority /pose_integrator\u001b[0m\n"
     ]
    },
    {
     "name": "stdout",
     "output_type": "stream",
     "text": [
      "0.3958891362308271 plane_height\n"
     ]
    },
    {
     "name": "stderr",
     "output_type": "stream",
     "text": [
      "\u001b[33m[ WARN] [1702922340.649889842]: TF_REPEATED_DATA ignoring data with redundant timestamp for frame odom at time 3957.994000 according to authority /pose_integrator\u001b[0m\n",
      "\u001b[33m[ WARN] [1702922340.649934751]: TF_REPEATED_DATA ignoring data with redundant timestamp for frame odom at time 3957.994000 according to authority /pose_integrator\u001b[0m\n",
      "\u001b[33m[ WARN] [1702922340.649960913]: TF_REPEATED_DATA ignoring data with redundant timestamp for frame odom at time 3957.994000 according to authority /pose_integrator\u001b[0m\n",
      "\u001b[33m[ WARN] [1702922340.649985717]: TF_REPEATED_DATA ignoring data with redundant timestamp for frame odom at time 3957.994000 according to authority /pose_integrator\u001b[0m\n",
      "\u001b[33m[ WARN] [1702922340.650010473]: TF_REPEATED_DATA ignoring data with redundant timestamp for frame odom at time 3957.994000 according to authority /pose_integrator\u001b[0m\n",
      "\u001b[33m[ WARN] [1702922340.650034705]: TF_REPEATED_DATA ignoring data with redundant timestamp for frame odom at time 3957.994000 according to authority /pose_integrator\u001b[0m\n"
     ]
    }
   ],
   "source": [
    "#############################################\n",
    "#points_data = ros_numpy.numpify(points_msg)    \n",
    "#image_data = points_data['rgb'].view((np.uint8, 4))[..., [2, 1, 0]]   \n",
    "#image=cv2.cvtColor(image_data, cv2.COLOR_BGR2RGB)\n",
    "#image = points_data['rgb'].view((np.uint8, 4))[..., [2, 1, 0]]\n",
    "#rgb_image = cv2.cvtColor(image, cv2.COLOR_BGR2RGB)\n",
    "##\n",
    "_,corrected=correct_points(points_msg)  ### aplica la transformada de la camara para corregir la perspectiva\n",
    "zs_no_nans=np.where(~np.isnan(corrected['z']),corrected['z'],1)   \n",
    "histogram, bin_edges =(np.histogram(zs_no_nans, bins=100))\n",
    "t = tfBuffer.lookup_transform('map', 'head_rgbd_sensor_link', rospy.Time())\n",
    "trans=t.transform.translation.z\n",
    "#print (bin_edges,histogram[:-1].argmax(), histogram[:-1].argmax())\n",
    "plane_height= (trans)+bin_edges[histogram[:-1].argmax()]\n",
    "print(plane_height, 'plane_height')\n",
    "################################"
   ]
  },
  {
   "cell_type": "code",
   "execution_count": null,
   "id": "e9f6cb8a",
   "metadata": {},
   "outputs": [],
   "source": []
  },
  {
   "cell_type": "code",
   "execution_count": 5,
   "id": "9f682d2f",
   "metadata": {},
   "outputs": [
    {
     "name": "stderr",
     "output_type": "stream",
     "text": [
      "\u001b[33m[ WARN] [1702922345.575477548]: TF_REPEATED_DATA ignoring data with redundant timestamp for frame odom at time 3960.310000 according to authority /pose_integrator\u001b[0m\n",
      "\u001b[33m[ WARN] [1702922345.575534189]: TF_REPEATED_DATA ignoring data with redundant timestamp for frame odom at time 3960.310000 according to authority /pose_integrator\u001b[0m\n",
      "\u001b[33m[ WARN] [1702922345.575585616]: TF_REPEATED_DATA ignoring data with redundant timestamp for frame odom at time 3960.310000 according to authority /pose_integrator\u001b[0m\n",
      "\u001b[33m[ WARN] [1702922345.575623148]: TF_REPEATED_DATA ignoring data with redundant timestamp for frame odom at time 3960.310000 according to authority /pose_integrator\u001b[0m\n",
      "\u001b[33m[ WARN] [1702922345.575649645]: TF_REPEATED_DATA ignoring data with redundant timestamp for frame odom at time 3960.310000 according to authority /pose_integrator\u001b[0m\n",
      "\u001b[33m[ WARN] [1702922345.575673082]: TF_REPEATED_DATA ignoring data with redundant timestamp for frame odom at time 3960.310000 according to authority /pose_integrator\u001b[0m\n"
     ]
    }
   ],
   "source": [
    "points_msg = rospy.wait_for_message('/hsrb/head_rgbd_sensor/depth_registered/rectified_points', PointCloud2)\n"
   ]
  },
  {
   "cell_type": "code",
   "execution_count": 6,
   "id": "f4c2091e",
   "metadata": {},
   "outputs": [
    {
     "name": "stderr",
     "output_type": "stream",
     "text": [
      "\u001b[33m[ WARN] [1702922346.604098604]: TF_REPEATED_DATA ignoring data with redundant timestamp for frame odom at time 3960.758000 according to authority /pose_integrator\u001b[0m\n",
      "\u001b[33m[ WARN] [1702922346.604144272]: TF_REPEATED_DATA ignoring data with redundant timestamp for frame odom at time 3960.758000 according to authority /pose_integrator\u001b[0m\n",
      "\u001b[33m[ WARN] [1702922346.604170786]: TF_REPEATED_DATA ignoring data with redundant timestamp for frame odom at time 3960.758000 according to authority /pose_integrator\u001b[0m\n",
      "\u001b[33m[ WARN] [1702922346.604197224]: TF_REPEATED_DATA ignoring data with redundant timestamp for frame odom at time 3960.758000 according to authority /pose_integrator\u001b[0m\n",
      "\u001b[33m[ WARN] [1702922346.604229266]: TF_REPEATED_DATA ignoring data with redundant timestamp for frame odom at time 3960.758000 according to authority /pose_integrator\u001b[0m\n",
      "\u001b[33m[ WARN] [1702922346.604266352]: TF_REPEATED_DATA ignoring data with redundant timestamp for frame odom at time 3960.758000 according to authority /pose_integrator\u001b[0m\n"
     ]
    },
    {
     "name": "stdout",
     "output_type": "stream",
     "text": [
      "0.39585749259338954 plane_height\n"
     ]
    },
    {
     "name": "stderr",
     "output_type": "stream",
     "text": [
      "\u001b[33m[ WARN] [1702922349.456868447]: TF_REPEATED_DATA ignoring data with redundant timestamp for frame odom at time 3961.959000 according to authority /pose_integrator\u001b[0m\n",
      "\u001b[33m[ WARN] [1702922349.456913577]: TF_REPEATED_DATA ignoring data with redundant timestamp for frame odom at time 3961.959000 according to authority /pose_integrator\u001b[0m\n",
      "\u001b[33m[ WARN] [1702922349.456947943]: TF_REPEATED_DATA ignoring data with redundant timestamp for frame odom at time 3961.959000 according to authority /pose_integrator\u001b[0m\n",
      "\u001b[33m[ WARN] [1702922349.456981065]: TF_REPEATED_DATA ignoring data with redundant timestamp for frame odom at time 3961.959000 according to authority /pose_integrator\u001b[0m\n",
      "\u001b[33m[ WARN] [1702922349.457014983]: TF_REPEATED_DATA ignoring data with redundant timestamp for frame odom at time 3961.959000 according to authority /pose_integrator\u001b[0m\n",
      "\u001b[33m[ WARN] [1702922349.457052317]: TF_REPEATED_DATA ignoring data with redundant timestamp for frame odom at time 3961.959000 according to authority /pose_integrator\u001b[0m\n"
     ]
    },
    {
     "data": {
      "text/plain": [
       "<matplotlib.image.AxesImage at 0x7f06dc6e5490>"
      ]
     },
     "execution_count": 6,
     "metadata": {},
     "output_type": "execute_result"
    },
    {
     "data": {
      "image/png": "[encoded data removed]",
      "text/plain": [
       "<Figure size 640x480 with 1 Axes>"
      ]
     },
     "metadata": {},
     "output_type": "display_data"
    }
   ],
   "source": [
    "points_msg=rospy.wait_for_message(\"/hsrb/head_rgbd_sensor/depth_registered/rectified_points\",PointCloud2,timeout=5)\n",
    "im_corrected,corrected=correct_points(points_msg)  ### aplica la transformada de la camara para corregir la perspectiva\n",
    "zs_no_nans=np.where(~np.isnan(corrected['z']),corrected['z'],1)   \n",
    "histogram, bin_edges =(np.histogram(zs_no_nans, bins=100))\n",
    "t = tfBuffer.lookup_transform('map', 'head_rgbd_sensor_link', rospy.Time())\n",
    "trans=t.transform.translation.z\n",
    "#print (bin_edges,histogram[:-1].argmax(), histogram[:-1].argmax())\n",
    "plane_height= (trans)+bin_edges[histogram[:-1].argmax()]\n",
    "print(plane_height, 'plane_height')\n",
    "plt.imshow(im_corrected,cmap='prism')\n"
   ]
  },
  {
   "cell_type": "code",
   "execution_count": 26,
   "id": "5686913d",
   "metadata": {},
   "outputs": [],
   "source": [
    "cc=[np.mean(corrected['x'][248:340,273:394]),\n",
    "np.mean(corrected['y'][248:340,273:394]),\n",
    "np.mean(corrected['z'][248:340,273:394]) \n",
    "   ]"
   ]
  },
  {
   "cell_type": "code",
   "execution_count": 27,
   "id": "261823f5",
   "metadata": {},
   "outputs": [
    {
     "data": {
      "text/plain": [
       "[-0.020181464, 0.5471835, -0.549639]"
      ]
     },
     "execution_count": 27,
     "metadata": {},
     "output_type": "execute_result"
    },
    {
     "name": "stderr",
     "output_type": "stream",
     "text": [
      "\u001b[33m[ WARN] [1702923221.215729552]: TF_REPEATED_DATA ignoring data with redundant timestamp for frame odom at time 4357.114000 according to authority /pose_integrator\u001b[0m\n",
      "\u001b[33m[ WARN] [1702923221.215769636]: TF_REPEATED_DATA ignoring data with redundant timestamp for frame odom at time 4357.114000 according to authority /pose_integrator\u001b[0m\n",
      "\u001b[33m[ WARN] [1702923221.215795162]: TF_REPEATED_DATA ignoring data with redundant timestamp for frame odom at time 4357.114000 according to authority /pose_integrator\u001b[0m\n",
      "\u001b[33m[ WARN] [1702923221.215817068]: TF_REPEATED_DATA ignoring data with redundant timestamp for frame odom at time 4357.114000 according to authority /pose_integrator\u001b[0m\n",
      "\u001b[33m[ WARN] [1702923221.215838692]: TF_REPEATED_DATA ignoring data with redundant timestamp for frame odom at time 4357.114000 according to authority /pose_integrator\u001b[0m\n",
      "\u001b[33m[ WARN] [1702923221.215859590]: TF_REPEATED_DATA ignoring data with redundant timestamp for frame odom at time 4357.114000 according to authority /pose_integrator\u001b[0m\n",
      "\u001b[33m[ WARN] [1702923221.456307071]: TF_REPEATED_DATA ignoring data with redundant timestamp for frame odom at time 4357.218000 according to authority /pose_integrator\u001b[0m\n",
      "\u001b[33m[ WARN] [1702923221.456354844]: TF_REPEATED_DATA ignoring data with redundant timestamp for frame odom at time 4357.218000 according to authority /pose_integrator\u001b[0m\n",
      "\u001b[33m[ WARN] [1702923221.456386516]: TF_REPEATED_DATA ignoring data with redundant timestamp for frame odom at time 4357.218000 according to authority /pose_integrator\u001b[0m\n",
      "\u001b[33m[ WARN] [1702923221.456420713]: TF_REPEATED_DATA ignoring data with redundant timestamp for frame odom at time 4357.218000 according to authority /pose_integrator\u001b[0m\n",
      "\u001b[33m[ WARN] [1702923221.456451660]: TF_REPEATED_DATA ignoring data with redundant timestamp for frame odom at time 4357.218000 according to authority /pose_integrator\u001b[0m\n",
      "\u001b[33m[ WARN] [1702923221.456491184]: TF_REPEATED_DATA ignoring data with redundant timestamp for frame odom at time 4357.218000 according to authority /pose_integrator\u001b[0m\n",
      "\u001b[33m[ WARN] [1702923223.175453958]: TF_REPEATED_DATA ignoring data with redundant timestamp for frame odom at time 4357.967000 according to authority /pose_integrator\u001b[0m\n",
      "\u001b[33m[ WARN] [1702923223.175492535]: TF_REPEATED_DATA ignoring data with redundant timestamp for frame odom at time 4357.967000 according to authority /pose_integrator\u001b[0m\n",
      "\u001b[33m[ WARN] [1702923223.175517170]: TF_REPEATED_DATA ignoring data with redundant timestamp for frame odom at time 4357.967000 according to authority /pose_integrator\u001b[0m\n",
      "\u001b[33m[ WARN] [1702923223.175539319]: TF_REPEATED_DATA ignoring data with redundant timestamp for frame odom at time 4357.967000 according to authority /pose_integrator\u001b[0m\n",
      "\u001b[33m[ WARN] [1702923223.175569907]: TF_REPEATED_DATA ignoring data with redundant timestamp for frame odom at time 4357.967000 according to authority /pose_integrator\u001b[0m\n",
      "\u001b[33m[ WARN] [1702923223.175592463]: TF_REPEATED_DATA ignoring data with redundant timestamp for frame odom at time 4357.967000 according to authority /pose_integrator\u001b[0m\n",
      "\u001b[33m[ WARN] [1702923225.457693782]: TF_REPEATED_DATA ignoring data with redundant timestamp for frame odom at time 4359.098000 according to authority /pose_integrator\u001b[0m\n",
      "\u001b[33m[ WARN] [1702923225.457750003]: TF_REPEATED_DATA ignoring data with redundant timestamp for frame odom at time 4359.098000 according to authority /pose_integrator\u001b[0m\n",
      "\u001b[33m[ WARN] [1702923225.457788528]: TF_REPEATED_DATA ignoring data with redundant timestamp for frame odom at time 4359.098000 according to authority /pose_integrator\u001b[0m\n",
      "\u001b[33m[ WARN] [1702923225.457832347]: TF_REPEATED_DATA ignoring data with redundant timestamp for frame odom at time 4359.098000 according to authority /pose_integrator\u001b[0m\n",
      "\u001b[33m[ WARN] [1702923225.457861451]: TF_REPEATED_DATA ignoring data with redundant timestamp for frame odom at time 4359.098000 according to authority /pose_integrator\u001b[0m\n",
      "\u001b[33m[ WARN] [1702923225.457886913]: TF_REPEATED_DATA ignoring data with redundant timestamp for frame odom at time 4359.098000 according to authority /pose_integrator\u001b[0m\n",
      "\u001b[33m[ WARN] [1702923228.428372570]: TF_REPEATED_DATA ignoring data with redundant timestamp for frame odom at time 4360.404000 according to authority /pose_integrator\u001b[0m\n",
      "\u001b[33m[ WARN] [1702923228.428423478]: TF_REPEATED_DATA ignoring data with redundant timestamp for frame odom at time 4360.404000 according to authority /pose_integrator\u001b[0m\n",
      "\u001b[33m[ WARN] [1702923228.428462206]: TF_REPEATED_DATA ignoring data with redundant timestamp for frame odom at time 4360.404000 according to authority /pose_integrator\u001b[0m\n",
      "\u001b[33m[ WARN] [1702923228.428495078]: TF_REPEATED_DATA ignoring data with redundant timestamp for frame odom at time 4360.404000 according to authority /pose_integrator\u001b[0m\n",
      "\u001b[33m[ WARN] [1702923228.428524174]: TF_REPEATED_DATA ignoring data with redundant timestamp for frame odom at time 4360.404000 according to authority /pose_integrator\u001b[0m\n",
      "\u001b[33m[ WARN] [1702923228.428555005]: TF_REPEATED_DATA ignoring data with redundant timestamp for frame odom at time 4360.404000 according to authority /pose_integrator\u001b[0m\n",
      "\u001b[33m[ WARN] [1702923245.241335418]: TF_REPEATED_DATA ignoring data with redundant timestamp for frame odom at time 4367.632000 according to authority /pose_integrator\u001b[0m\n",
      "\u001b[33m[ WARN] [1702923245.241392916]: TF_REPEATED_DATA ignoring data with redundant timestamp for frame odom at time 4367.632000 according to authority /pose_integrator\u001b[0m\n",
      "\u001b[33m[ WARN] [1702923245.241434789]: TF_REPEATED_DATA ignoring data with redundant timestamp for frame odom at time 4367.632000 according to authority /pose_integrator\u001b[0m\n",
      "\u001b[33m[ WARN] [1702923245.241475170]: TF_REPEATED_DATA ignoring data with redundant timestamp for frame odom at time 4367.632000 according to authority /pose_integrator\u001b[0m\n",
      "\u001b[33m[ WARN] [1702923245.241511354]: TF_REPEATED_DATA ignoring data with redundant timestamp for frame odom at time 4367.632000 according to authority /pose_integrator\u001b[0m\n",
      "\u001b[33m[ WARN] [1702923245.241551332]: TF_REPEATED_DATA ignoring data with redundant timestamp for frame odom at time 4367.632000 according to authority /pose_integrator\u001b[0m\n",
      "\u001b[33m[ WARN] [1702923249.253714886]: TF_REPEATED_DATA ignoring data with redundant timestamp for frame odom at time 4369.575000 according to authority /pose_integrator\u001b[0m\n",
      "\u001b[33m[ WARN] [1702923249.253766941]: TF_REPEATED_DATA ignoring data with redundant timestamp for frame odom at time 4369.575000 according to authority /pose_integrator\u001b[0m\n",
      "\u001b[33m[ WARN] [1702923249.253797020]: TF_REPEATED_DATA ignoring data with redundant timestamp for frame odom at time 4369.575000 according to authority /pose_integrator\u001b[0m\n",
      "\u001b[33m[ WARN] [1702923249.253822081]: TF_REPEATED_DATA ignoring data with redundant timestamp for frame odom at time 4369.575000 according to authority /pose_integrator\u001b[0m\n",
      "\u001b[33m[ WARN] [1702923249.253844323]: TF_REPEATED_DATA ignoring data with redundant timestamp for frame odom at time 4369.575000 according to authority /pose_integrator\u001b[0m\n",
      "\u001b[33m[ WARN] [1702923249.253868107]: TF_REPEATED_DATA ignoring data with redundant timestamp for frame odom at time 4369.575000 according to authority /pose_integrator\u001b[0m\n",
      "\u001b[33m[ WARN] [1702923249.503358344]: TF_REPEATED_DATA ignoring data with redundant timestamp for frame odom at time 4369.698000 according to authority /pose_integrator\u001b[0m\n",
      "\u001b[33m[ WARN] [1702923249.503411592]: TF_REPEATED_DATA ignoring data with redundant timestamp for frame odom at time 4369.698000 according to authority /pose_integrator\u001b[0m\n",
      "\u001b[33m[ WARN] [1702923249.503444187]: TF_REPEATED_DATA ignoring data with redundant timestamp for frame odom at time 4369.698000 according to authority /pose_integrator\u001b[0m\n",
      "\u001b[33m[ WARN] [1702923249.503473606]: TF_REPEATED_DATA ignoring data with redundant timestamp for frame odom at time 4369.698000 according to authority /pose_integrator\u001b[0m\n",
      "\u001b[33m[ WARN] [1702923249.503509595]: TF_REPEATED_DATA ignoring data with redundant timestamp for frame odom at time 4369.698000 according to authority /pose_integrator\u001b[0m\n",
      "\u001b[33m[ WARN] [1702923249.503546719]: TF_REPEATED_DATA ignoring data with redundant timestamp for frame odom at time 4369.698000 according to authority /pose_integrator\u001b[0m\n"
     ]
    },
    {
     "name": "stderr",
     "output_type": "stream",
     "text": [
      "\u001b[33m[ WARN] [1702923249.771389437]: TF_REPEATED_DATA ignoring data with redundant timestamp for frame odom at time 4369.846000 according to authority /pose_integrator\u001b[0m\n",
      "\u001b[33m[ WARN] [1702923249.771435847]: TF_REPEATED_DATA ignoring data with redundant timestamp for frame odom at time 4369.846000 according to authority /pose_integrator\u001b[0m\n",
      "\u001b[33m[ WARN] [1702923249.771471949]: TF_REPEATED_DATA ignoring data with redundant timestamp for frame odom at time 4369.846000 according to authority /pose_integrator\u001b[0m\n",
      "\u001b[33m[ WARN] [1702923249.771513990]: TF_REPEATED_DATA ignoring data with redundant timestamp for frame odom at time 4369.846000 according to authority /pose_integrator\u001b[0m\n",
      "\u001b[33m[ WARN] [1702923249.771553459]: TF_REPEATED_DATA ignoring data with redundant timestamp for frame odom at time 4369.846000 according to authority /pose_integrator\u001b[0m\n",
      "\u001b[33m[ WARN] [1702923249.771585757]: TF_REPEATED_DATA ignoring data with redundant timestamp for frame odom at time 4369.846000 according to authority /pose_integrator\u001b[0m\n",
      "\u001b[33m[ WARN] [1702923251.258382431]: TF_REPEATED_DATA ignoring data with redundant timestamp for frame odom at time 4370.507000 according to authority /pose_integrator\u001b[0m\n",
      "\u001b[33m[ WARN] [1702923251.258431440]: TF_REPEATED_DATA ignoring data with redundant timestamp for frame odom at time 4370.507000 according to authority /pose_integrator\u001b[0m\n",
      "\u001b[33m[ WARN] [1702923251.258474355]: TF_REPEATED_DATA ignoring data with redundant timestamp for frame odom at time 4370.507000 according to authority /pose_integrator\u001b[0m\n",
      "\u001b[33m[ WARN] [1702923251.258498778]: TF_REPEATED_DATA ignoring data with redundant timestamp for frame odom at time 4370.507000 according to authority /pose_integrator\u001b[0m\n",
      "\u001b[33m[ WARN] [1702923251.258529853]: TF_REPEATED_DATA ignoring data with redundant timestamp for frame odom at time 4370.507000 according to authority /pose_integrator\u001b[0m\n",
      "\u001b[33m[ WARN] [1702923251.258563721]: TF_REPEATED_DATA ignoring data with redundant timestamp for frame odom at time 4370.507000 according to authority /pose_integrator\u001b[0m\n",
      "\u001b[33m[ WARN] [1702923251.813056940]: TF_REPEATED_DATA ignoring data with redundant timestamp for frame odom at time 4370.745000 according to authority /pose_integrator\u001b[0m\n",
      "\u001b[33m[ WARN] [1702923251.813131759]: TF_REPEATED_DATA ignoring data with redundant timestamp for frame odom at time 4370.745000 according to authority /pose_integrator\u001b[0m\n",
      "\u001b[33m[ WARN] [1702923251.813179236]: TF_REPEATED_DATA ignoring data with redundant timestamp for frame odom at time 4370.745000 according to authority /pose_integrator\u001b[0m\n",
      "\u001b[33m[ WARN] [1702923251.813227163]: TF_REPEATED_DATA ignoring data with redundant timestamp for frame odom at time 4370.745000 according to authority /pose_integrator\u001b[0m\n",
      "\u001b[33m[ WARN] [1702923251.813272918]: TF_REPEATED_DATA ignoring data with redundant timestamp for frame odom at time 4370.745000 according to authority /pose_integrator\u001b[0m\n",
      "\u001b[33m[ WARN] [1702923251.813314994]: TF_REPEATED_DATA ignoring data with redundant timestamp for frame odom at time 4370.745000 according to authority /pose_integrator\u001b[0m\n",
      "\u001b[33m[ WARN] [1702923255.448640186]: TF_REPEATED_DATA ignoring data with redundant timestamp for frame odom at time 4372.231000 according to authority /pose_integrator\u001b[0m\n",
      "\u001b[33m[ WARN] [1702923255.448680162]: TF_REPEATED_DATA ignoring data with redundant timestamp for frame odom at time 4372.231000 according to authority /pose_integrator\u001b[0m\n",
      "\u001b[33m[ WARN] [1702923255.448711513]: TF_REPEATED_DATA ignoring data with redundant timestamp for frame odom at time 4372.231000 according to authority /pose_integrator\u001b[0m\n",
      "\u001b[33m[ WARN] [1702923255.448736322]: TF_REPEATED_DATA ignoring data with redundant timestamp for frame odom at time 4372.231000 according to authority /pose_integrator\u001b[0m\n",
      "\u001b[33m[ WARN] [1702923255.448760047]: TF_REPEATED_DATA ignoring data with redundant timestamp for frame odom at time 4372.231000 according to authority /pose_integrator\u001b[0m\n",
      "\u001b[33m[ WARN] [1702923255.448783477]: TF_REPEATED_DATA ignoring data with redundant timestamp for frame odom at time 4372.231000 according to authority /pose_integrator\u001b[0m\n",
      "\u001b[33m[ WARN] [1702923263.797269422]: TF_REPEATED_DATA ignoring data with redundant timestamp for frame odom at time 4375.928000 according to authority /pose_integrator\u001b[0m\n",
      "\u001b[33m[ WARN] [1702923263.797337421]: TF_REPEATED_DATA ignoring data with redundant timestamp for frame odom at time 4375.928000 according to authority /pose_integrator\u001b[0m\n",
      "\u001b[33m[ WARN] [1702923263.797377592]: TF_REPEATED_DATA ignoring data with redundant timestamp for frame odom at time 4375.928000 according to authority /pose_integrator\u001b[0m\n",
      "\u001b[33m[ WARN] [1702923263.797412704]: TF_REPEATED_DATA ignoring data with redundant timestamp for frame odom at time 4375.928000 according to authority /pose_integrator\u001b[0m\n",
      "\u001b[33m[ WARN] [1702923263.797455071]: TF_REPEATED_DATA ignoring data with redundant timestamp for frame odom at time 4375.928000 according to authority /pose_integrator\u001b[0m\n",
      "\u001b[33m[ WARN] [1702923263.797493053]: TF_REPEATED_DATA ignoring data with redundant timestamp for frame odom at time 4375.928000 according to authority /pose_integrator\u001b[0m\n",
      "\u001b[33m[ WARN] [1702923265.775320992]: TF_REPEATED_DATA ignoring data with redundant timestamp for frame odom at time 4376.827000 according to authority /pose_integrator\u001b[0m\n",
      "\u001b[33m[ WARN] [1702923265.775372467]: TF_REPEATED_DATA ignoring data with redundant timestamp for frame odom at time 4376.827000 according to authority /pose_integrator\u001b[0m\n",
      "\u001b[33m[ WARN] [1702923265.775408395]: TF_REPEATED_DATA ignoring data with redundant timestamp for frame odom at time 4376.827000 according to authority /pose_integrator\u001b[0m\n",
      "\u001b[33m[ WARN] [1702923265.775443315]: TF_REPEATED_DATA ignoring data with redundant timestamp for frame odom at time 4376.827000 according to authority /pose_integrator\u001b[0m\n",
      "\u001b[33m[ WARN] [1702923265.775479952]: TF_REPEATED_DATA ignoring data with redundant timestamp for frame odom at time 4376.827000 according to authority /pose_integrator\u001b[0m\n",
      "\u001b[33m[ WARN] [1702923265.775513281]: TF_REPEATED_DATA ignoring data with redundant timestamp for frame odom at time 4376.827000 according to authority /pose_integrator\u001b[0m\n",
      "\u001b[33m[ WARN] [1702923269.956402743]: TF_REPEATED_DATA ignoring data with redundant timestamp for frame odom at time 4378.617000 according to authority /pose_integrator\u001b[0m\n",
      "\u001b[33m[ WARN] [1702923269.956452968]: TF_REPEATED_DATA ignoring data with redundant timestamp for frame odom at time 4378.617000 according to authority /pose_integrator\u001b[0m\n",
      "\u001b[33m[ WARN] [1702923269.956483288]: TF_REPEATED_DATA ignoring data with redundant timestamp for frame odom at time 4378.617000 according to authority /pose_integrator\u001b[0m\n",
      "\u001b[33m[ WARN] [1702923269.956510526]: TF_REPEATED_DATA ignoring data with redundant timestamp for frame odom at time 4378.617000 according to authority /pose_integrator\u001b[0m\n",
      "\u001b[33m[ WARN] [1702923269.956535986]: TF_REPEATED_DATA ignoring data with redundant timestamp for frame odom at time 4378.617000 according to authority /pose_integrator\u001b[0m\n",
      "\u001b[33m[ WARN] [1702923269.956558959]: TF_REPEATED_DATA ignoring data with redundant timestamp for frame odom at time 4378.617000 according to authority /pose_integrator\u001b[0m\n",
      "\u001b[33m[ WARN] [1702923274.787555177]: TF_REPEATED_DATA ignoring data with redundant timestamp for frame odom at time 4380.862000 according to authority /pose_integrator\u001b[0m\n",
      "\u001b[33m[ WARN] [1702923274.787611294]: TF_REPEATED_DATA ignoring data with redundant timestamp for frame odom at time 4380.862000 according to authority /pose_integrator\u001b[0m\n",
      "\u001b[33m[ WARN] [1702923274.787649499]: TF_REPEATED_DATA ignoring data with redundant timestamp for frame odom at time 4380.862000 according to authority /pose_integrator\u001b[0m\n",
      "\u001b[33m[ WARN] [1702923274.787685921]: TF_REPEATED_DATA ignoring data with redundant timestamp for frame odom at time 4380.862000 according to authority /pose_integrator\u001b[0m\n",
      "\u001b[33m[ WARN] [1702923274.787721591]: TF_REPEATED_DATA ignoring data with redundant timestamp for frame odom at time 4380.862000 according to authority /pose_integrator\u001b[0m\n",
      "\u001b[33m[ WARN] [1702923274.787757542]: TF_REPEATED_DATA ignoring data with redundant timestamp for frame odom at time 4380.862000 according to authority /pose_integrator\u001b[0m\n"
     ]
    },
    {
     "name": "stderr",
     "output_type": "stream",
     "text": [
      "\u001b[33m[ WARN] [1702923275.036116668]: TF_REPEATED_DATA ignoring data with redundant timestamp for frame odom at time 4381.010000 according to authority /pose_integrator\u001b[0m\n",
      "\u001b[33m[ WARN] [1702923275.036173932]: TF_REPEATED_DATA ignoring data with redundant timestamp for frame odom at time 4381.010000 according to authority /pose_integrator\u001b[0m\n",
      "\u001b[33m[ WARN] [1702923275.036218179]: TF_REPEATED_DATA ignoring data with redundant timestamp for frame odom at time 4381.010000 according to authority /pose_integrator\u001b[0m\n",
      "\u001b[33m[ WARN] [1702923275.036253296]: TF_REPEATED_DATA ignoring data with redundant timestamp for frame odom at time 4381.010000 according to authority /pose_integrator\u001b[0m\n",
      "\u001b[33m[ WARN] [1702923275.036295360]: TF_REPEATED_DATA ignoring data with redundant timestamp for frame odom at time 4381.010000 according to authority /pose_integrator\u001b[0m\n",
      "\u001b[33m[ WARN] [1702923275.036328046]: TF_REPEATED_DATA ignoring data with redundant timestamp for frame odom at time 4381.010000 according to authority /pose_integrator\u001b[0m\n",
      "\u001b[33m[ WARN] [1702923275.990108340]: TF_REPEATED_DATA ignoring data with redundant timestamp for frame odom at time 4381.418000 according to authority /pose_integrator\u001b[0m\n",
      "\u001b[33m[ WARN] [1702923275.990159390]: TF_REPEATED_DATA ignoring data with redundant timestamp for frame odom at time 4381.418000 according to authority /pose_integrator\u001b[0m\n",
      "\u001b[33m[ WARN] [1702923275.990198441]: TF_REPEATED_DATA ignoring data with redundant timestamp for frame odom at time 4381.418000 according to authority /pose_integrator\u001b[0m\n",
      "\u001b[33m[ WARN] [1702923275.990237738]: TF_REPEATED_DATA ignoring data with redundant timestamp for frame odom at time 4381.418000 according to authority /pose_integrator\u001b[0m\n",
      "\u001b[33m[ WARN] [1702923275.990273783]: TF_REPEATED_DATA ignoring data with redundant timestamp for frame odom at time 4381.418000 according to authority /pose_integrator\u001b[0m\n",
      "\u001b[33m[ WARN] [1702923275.990309127]: TF_REPEATED_DATA ignoring data with redundant timestamp for frame odom at time 4381.418000 according to authority /pose_integrator\u001b[0m\n",
      "\u001b[33m[ WARN] [1702923276.462912025]: TF_REPEATED_DATA ignoring data with redundant timestamp for frame odom at time 4381.649000 according to authority /pose_integrator\u001b[0m\n",
      "\u001b[33m[ WARN] [1702923276.462949693]: TF_REPEATED_DATA ignoring data with redundant timestamp for frame odom at time 4381.649000 according to authority /pose_integrator\u001b[0m\n",
      "\u001b[33m[ WARN] [1702923276.462974007]: TF_REPEATED_DATA ignoring data with redundant timestamp for frame odom at time 4381.649000 according to authority /pose_integrator\u001b[0m\n",
      "\u001b[33m[ WARN] [1702923276.462996681]: TF_REPEATED_DATA ignoring data with redundant timestamp for frame odom at time 4381.649000 according to authority /pose_integrator\u001b[0m\n",
      "\u001b[33m[ WARN] [1702923276.463018858]: TF_REPEATED_DATA ignoring data with redundant timestamp for frame odom at time 4381.649000 according to authority /pose_integrator\u001b[0m\n",
      "\u001b[33m[ WARN] [1702923276.463050633]: TF_REPEATED_DATA ignoring data with redundant timestamp for frame odom at time 4381.649000 according to authority /pose_integrator\u001b[0m\n",
      "\u001b[33m[ WARN] [1702923276.582034361]: TF_REPEATED_DATA ignoring data with redundant timestamp for frame odom at time 4381.714000 according to authority /pose_integrator\u001b[0m\n",
      "\u001b[33m[ WARN] [1702923276.582079938]: TF_REPEATED_DATA ignoring data with redundant timestamp for frame odom at time 4381.714000 according to authority /pose_integrator\u001b[0m\n",
      "\u001b[33m[ WARN] [1702923276.582110388]: TF_REPEATED_DATA ignoring data with redundant timestamp for frame odom at time 4381.714000 according to authority /pose_integrator\u001b[0m\n",
      "\u001b[33m[ WARN] [1702923276.582140214]: TF_REPEATED_DATA ignoring data with redundant timestamp for frame odom at time 4381.714000 according to authority /pose_integrator\u001b[0m\n",
      "\u001b[33m[ WARN] [1702923276.582165339]: TF_REPEATED_DATA ignoring data with redundant timestamp for frame odom at time 4381.714000 according to authority /pose_integrator\u001b[0m\n",
      "\u001b[33m[ WARN] [1702923276.582190326]: TF_REPEATED_DATA ignoring data with redundant timestamp for frame odom at time 4381.714000 according to authority /pose_integrator\u001b[0m\n",
      "\u001b[33m[ WARN] [1702923278.357897292]: TF_REPEATED_DATA ignoring data with redundant timestamp for frame odom at time 4382.549000 according to authority /pose_integrator\u001b[0m\n",
      "\u001b[33m[ WARN] [1702923278.357950321]: TF_REPEATED_DATA ignoring data with redundant timestamp for frame odom at time 4382.549000 according to authority /pose_integrator\u001b[0m\n",
      "\u001b[33m[ WARN] [1702923278.357990807]: TF_REPEATED_DATA ignoring data with redundant timestamp for frame odom at time 4382.549000 according to authority /pose_integrator\u001b[0m\n",
      "\u001b[33m[ WARN] [1702923278.358027668]: TF_REPEATED_DATA ignoring data with redundant timestamp for frame odom at time 4382.549000 according to authority /pose_integrator\u001b[0m\n",
      "\u001b[33m[ WARN] [1702923278.358058976]: TF_REPEATED_DATA ignoring data with redundant timestamp for frame odom at time 4382.549000 according to authority /pose_integrator\u001b[0m\n",
      "\u001b[33m[ WARN] [1702923278.358091331]: TF_REPEATED_DATA ignoring data with redundant timestamp for frame odom at time 4382.549000 according to authority /pose_integrator\u001b[0m\n",
      "\u001b[33m[ WARN] [1702923279.631700303]: TF_REPEATED_DATA ignoring data with redundant timestamp for frame odom at time 4383.090000 according to authority /pose_integrator\u001b[0m\n",
      "\u001b[33m[ WARN] [1702923279.631757891]: TF_REPEATED_DATA ignoring data with redundant timestamp for frame odom at time 4383.090000 according to authority /pose_integrator\u001b[0m\n",
      "\u001b[33m[ WARN] [1702923279.631797468]: TF_REPEATED_DATA ignoring data with redundant timestamp for frame odom at time 4383.090000 according to authority /pose_integrator\u001b[0m\n",
      "\u001b[33m[ WARN] [1702923279.631832577]: TF_REPEATED_DATA ignoring data with redundant timestamp for frame odom at time 4383.090000 according to authority /pose_integrator\u001b[0m\n",
      "\u001b[33m[ WARN] [1702923279.631864052]: TF_REPEATED_DATA ignoring data with redundant timestamp for frame odom at time 4383.090000 according to authority /pose_integrator\u001b[0m\n",
      "\u001b[33m[ WARN] [1702923279.631906753]: TF_REPEATED_DATA ignoring data with redundant timestamp for frame odom at time 4383.090000 according to authority /pose_integrator\u001b[0m\n",
      "\u001b[33m[ WARN] [1702923292.372705547]: TF_REPEATED_DATA ignoring data with redundant timestamp for frame odom at time 4388.410000 according to authority /pose_integrator\u001b[0m\n",
      "\u001b[33m[ WARN] [1702923292.372772781]: TF_REPEATED_DATA ignoring data with redundant timestamp for frame odom at time 4388.410000 according to authority /pose_integrator\u001b[0m\n",
      "\u001b[33m[ WARN] [1702923292.372805537]: TF_REPEATED_DATA ignoring data with redundant timestamp for frame odom at time 4388.410000 according to authority /pose_integrator\u001b[0m\n",
      "\u001b[33m[ WARN] [1702923292.372850185]: TF_REPEATED_DATA ignoring data with redundant timestamp for frame odom at time 4388.410000 according to authority /pose_integrator\u001b[0m\n",
      "\u001b[33m[ WARN] [1702923292.372889053]: TF_REPEATED_DATA ignoring data with redundant timestamp for frame odom at time 4388.410000 according to authority /pose_integrator\u001b[0m\n",
      "\u001b[33m[ WARN] [1702923292.372932538]: TF_REPEATED_DATA ignoring data with redundant timestamp for frame odom at time 4388.410000 according to authority /pose_integrator\u001b[0m\n",
      "\u001b[33m[ WARN] [1702923295.289082321]: TF_REPEATED_DATA ignoring data with redundant timestamp for frame odom at time 4389.725000 according to authority /pose_integrator\u001b[0m\n",
      "\u001b[33m[ WARN] [1702923295.289132676]: TF_REPEATED_DATA ignoring data with redundant timestamp for frame odom at time 4389.725000 according to authority /pose_integrator\u001b[0m\n",
      "\u001b[33m[ WARN] [1702923295.289196133]: TF_REPEATED_DATA ignoring data with redundant timestamp for frame odom at time 4389.725000 according to authority /pose_integrator\u001b[0m\n",
      "\u001b[33m[ WARN] [1702923295.289241604]: TF_REPEATED_DATA ignoring data with redundant timestamp for frame odom at time 4389.725000 according to authority /pose_integrator\u001b[0m\n",
      "\u001b[33m[ WARN] [1702923295.289296145]: TF_REPEATED_DATA ignoring data with redundant timestamp for frame odom at time 4389.725000 according to authority /pose_integrator\u001b[0m\n",
      "\u001b[33m[ WARN] [1702923295.289339712]: TF_REPEATED_DATA ignoring data with redundant timestamp for frame odom at time 4389.725000 according to authority /pose_integrator\u001b[0m\n"
     ]
    },
    {
     "name": "stderr",
     "output_type": "stream",
     "text": [
      "\u001b[33m[ WARN] [1702923302.699328791]: TF_REPEATED_DATA ignoring data with redundant timestamp for frame odom at time 4392.923000 according to authority /pose_integrator\u001b[0m\n",
      "\u001b[33m[ WARN] [1702923302.699374970]: TF_REPEATED_DATA ignoring data with redundant timestamp for frame odom at time 4392.923000 according to authority /pose_integrator\u001b[0m\n",
      "\u001b[33m[ WARN] [1702923302.699410006]: TF_REPEATED_DATA ignoring data with redundant timestamp for frame odom at time 4392.923000 according to authority /pose_integrator\u001b[0m\n",
      "\u001b[33m[ WARN] [1702923302.699445321]: TF_REPEATED_DATA ignoring data with redundant timestamp for frame odom at time 4392.923000 according to authority /pose_integrator\u001b[0m\n",
      "\u001b[33m[ WARN] [1702923302.699479867]: TF_REPEATED_DATA ignoring data with redundant timestamp for frame odom at time 4392.923000 according to authority /pose_integrator\u001b[0m\n",
      "\u001b[33m[ WARN] [1702923302.699519053]: TF_REPEATED_DATA ignoring data with redundant timestamp for frame odom at time 4392.923000 according to authority /pose_integrator\u001b[0m\n",
      "\u001b[33m[ WARN] [1702923303.440163512]: TF_REPEATED_DATA ignoring data with redundant timestamp for frame odom at time 4393.225000 according to authority /pose_integrator\u001b[0m\n",
      "\u001b[33m[ WARN] [1702923303.442206194]: TF_REPEATED_DATA ignoring data with redundant timestamp for frame odom at time 4393.225000 according to authority /pose_integrator\u001b[0m\n",
      "\u001b[33m[ WARN] [1702923303.442273439]: TF_REPEATED_DATA ignoring data with redundant timestamp for frame odom at time 4393.225000 according to authority /pose_integrator\u001b[0m\n",
      "\u001b[33m[ WARN] [1702923303.442306940]: TF_REPEATED_DATA ignoring data with redundant timestamp for frame odom at time 4393.225000 according to authority /pose_integrator\u001b[0m\n",
      "\u001b[33m[ WARN] [1702923303.442336505]: TF_REPEATED_DATA ignoring data with redundant timestamp for frame odom at time 4393.225000 according to authority /pose_integrator\u001b[0m\n",
      "\u001b[33m[ WARN] [1702923303.442366212]: TF_REPEATED_DATA ignoring data with redundant timestamp for frame odom at time 4393.225000 according to authority /pose_integrator\u001b[0m\n",
      "\u001b[33m[ WARN] [1702923304.359181358]: TF_REPEATED_DATA ignoring data with redundant timestamp for frame odom at time 4393.670000 according to authority /pose_integrator\u001b[0m\n",
      "\u001b[33m[ WARN] [1702923304.359245190]: TF_REPEATED_DATA ignoring data with redundant timestamp for frame odom at time 4393.670000 according to authority /pose_integrator\u001b[0m\n",
      "\u001b[33m[ WARN] [1702923304.359305506]: TF_REPEATED_DATA ignoring data with redundant timestamp for frame odom at time 4393.670000 according to authority /pose_integrator\u001b[0m\n",
      "\u001b[33m[ WARN] [1702923304.359342087]: TF_REPEATED_DATA ignoring data with redundant timestamp for frame odom at time 4393.670000 according to authority /pose_integrator\u001b[0m\n",
      "\u001b[33m[ WARN] [1702923304.359384543]: TF_REPEATED_DATA ignoring data with redundant timestamp for frame odom at time 4393.670000 according to authority /pose_integrator\u001b[0m\n",
      "\u001b[33m[ WARN] [1702923304.359425980]: TF_REPEATED_DATA ignoring data with redundant timestamp for frame odom at time 4393.670000 according to authority /pose_integrator\u001b[0m\n",
      "\u001b[33m[ WARN] [1702923305.843191022]: TF_REPEATED_DATA ignoring data with redundant timestamp for frame odom at time 4394.327000 according to authority /pose_integrator\u001b[0m\n",
      "\u001b[33m[ WARN] [1702923305.843244170]: TF_REPEATED_DATA ignoring data with redundant timestamp for frame odom at time 4394.327000 according to authority /pose_integrator\u001b[0m\n",
      "\u001b[33m[ WARN] [1702923305.843277926]: TF_REPEATED_DATA ignoring data with redundant timestamp for frame odom at time 4394.327000 according to authority /pose_integrator\u001b[0m\n",
      "\u001b[33m[ WARN] [1702923305.843318287]: TF_REPEATED_DATA ignoring data with redundant timestamp for frame odom at time 4394.327000 according to authority /pose_integrator\u001b[0m\n",
      "\u001b[33m[ WARN] [1702923305.843352529]: TF_REPEATED_DATA ignoring data with redundant timestamp for frame odom at time 4394.327000 according to authority /pose_integrator\u001b[0m\n",
      "\u001b[33m[ WARN] [1702923305.843379123]: TF_REPEATED_DATA ignoring data with redundant timestamp for frame odom at time 4394.327000 according to authority /pose_integrator\u001b[0m\n",
      "\u001b[33m[ WARN] [1702923307.415457023]: TF_REPEATED_DATA ignoring data with redundant timestamp for frame odom at time 4395.039000 according to authority /pose_integrator\u001b[0m\n",
      "\u001b[33m[ WARN] [1702923307.415515489]: TF_REPEATED_DATA ignoring data with redundant timestamp for frame odom at time 4395.039000 according to authority /pose_integrator\u001b[0m\n",
      "\u001b[33m[ WARN] [1702923307.415562382]: TF_REPEATED_DATA ignoring data with redundant timestamp for frame odom at time 4395.039000 according to authority /pose_integrator\u001b[0m\n",
      "\u001b[33m[ WARN] [1702923307.415596608]: TF_REPEATED_DATA ignoring data with redundant timestamp for frame odom at time 4395.039000 according to authority /pose_integrator\u001b[0m\n",
      "\u001b[33m[ WARN] [1702923307.415635133]: TF_REPEATED_DATA ignoring data with redundant timestamp for frame odom at time 4395.039000 according to authority /pose_integrator\u001b[0m\n",
      "\u001b[33m[ WARN] [1702923307.415670732]: TF_REPEATED_DATA ignoring data with redundant timestamp for frame odom at time 4395.039000 according to authority /pose_integrator\u001b[0m\n",
      "\u001b[33m[ WARN] [1702923307.601966813]: TF_REPEATED_DATA ignoring data with redundant timestamp for frame odom at time 4395.127000 according to authority /pose_integrator\u001b[0m\n",
      "\u001b[33m[ WARN] [1702923307.602029412]: TF_REPEATED_DATA ignoring data with redundant timestamp for frame odom at time 4395.127000 according to authority /pose_integrator\u001b[0m\n",
      "\u001b[33m[ WARN] [1702923307.602075041]: TF_REPEATED_DATA ignoring data with redundant timestamp for frame odom at time 4395.127000 according to authority /pose_integrator\u001b[0m\n",
      "\u001b[33m[ WARN] [1702923307.602114790]: TF_REPEATED_DATA ignoring data with redundant timestamp for frame odom at time 4395.127000 according to authority /pose_integrator\u001b[0m\n",
      "\u001b[33m[ WARN] [1702923307.602159171]: TF_REPEATED_DATA ignoring data with redundant timestamp for frame odom at time 4395.127000 according to authority /pose_integrator\u001b[0m\n",
      "\u001b[33m[ WARN] [1702923307.602201926]: TF_REPEATED_DATA ignoring data with redundant timestamp for frame odom at time 4395.127000 according to authority /pose_integrator\u001b[0m\n",
      "\u001b[33m[ WARN] [1702923308.126061178]: TF_REPEATED_DATA ignoring data with redundant timestamp for frame odom at time 4395.400000 according to authority /pose_integrator\u001b[0m\n",
      "\u001b[33m[ WARN] [1702923308.126115073]: TF_REPEATED_DATA ignoring data with redundant timestamp for frame odom at time 4395.400000 according to authority /pose_integrator\u001b[0m\n",
      "\u001b[33m[ WARN] [1702923308.126143688]: TF_REPEATED_DATA ignoring data with redundant timestamp for frame odom at time 4395.400000 according to authority /pose_integrator\u001b[0m\n",
      "\u001b[33m[ WARN] [1702923308.126174438]: TF_REPEATED_DATA ignoring data with redundant timestamp for frame odom at time 4395.400000 according to authority /pose_integrator\u001b[0m\n",
      "\u001b[33m[ WARN] [1702923308.126224205]: TF_REPEATED_DATA ignoring data with redundant timestamp for frame odom at time 4395.400000 according to authority /pose_integrator\u001b[0m\n",
      "\u001b[33m[ WARN] [1702923308.126266157]: TF_REPEATED_DATA ignoring data with redundant timestamp for frame odom at time 4395.400000 according to authority /pose_integrator\u001b[0m\n",
      "\u001b[33m[ WARN] [1702923310.645287553]: TF_REPEATED_DATA ignoring data with redundant timestamp for frame odom at time 4396.526000 according to authority /pose_integrator\u001b[0m\n",
      "\u001b[33m[ WARN] [1702923310.645341671]: TF_REPEATED_DATA ignoring data with redundant timestamp for frame odom at time 4396.526000 according to authority /pose_integrator\u001b[0m\n",
      "\u001b[33m[ WARN] [1702923310.645383775]: TF_REPEATED_DATA ignoring data with redundant timestamp for frame odom at time 4396.526000 according to authority /pose_integrator\u001b[0m\n",
      "\u001b[33m[ WARN] [1702923310.645420445]: TF_REPEATED_DATA ignoring data with redundant timestamp for frame odom at time 4396.526000 according to authority /pose_integrator\u001b[0m\n",
      "\u001b[33m[ WARN] [1702923310.645464235]: TF_REPEATED_DATA ignoring data with redundant timestamp for frame odom at time 4396.526000 according to authority /pose_integrator\u001b[0m\n",
      "\u001b[33m[ WARN] [1702923310.645509494]: TF_REPEATED_DATA ignoring data with redundant timestamp for frame odom at time 4396.526000 according to authority /pose_integrator\u001b[0m\n"
     ]
    },
    {
     "name": "stderr",
     "output_type": "stream",
     "text": [
      "\u001b[33m[ WARN] [1702923311.369646539]: TF_REPEATED_DATA ignoring data with redundant timestamp for frame odom at time 4396.849000 according to authority /pose_integrator\u001b[0m\n",
      "\u001b[33m[ WARN] [1702923311.369700897]: TF_REPEATED_DATA ignoring data with redundant timestamp for frame odom at time 4396.849000 according to authority /pose_integrator\u001b[0m\n",
      "\u001b[33m[ WARN] [1702923311.369738193]: TF_REPEATED_DATA ignoring data with redundant timestamp for frame odom at time 4396.849000 according to authority /pose_integrator\u001b[0m\n",
      "\u001b[33m[ WARN] [1702923311.369775508]: TF_REPEATED_DATA ignoring data with redundant timestamp for frame odom at time 4396.849000 according to authority /pose_integrator\u001b[0m\n",
      "\u001b[33m[ WARN] [1702923311.369808288]: TF_REPEATED_DATA ignoring data with redundant timestamp for frame odom at time 4396.849000 according to authority /pose_integrator\u001b[0m\n",
      "\u001b[33m[ WARN] [1702923311.369838765]: TF_REPEATED_DATA ignoring data with redundant timestamp for frame odom at time 4396.849000 according to authority /pose_integrator\u001b[0m\n",
      "\u001b[33m[ WARN] [1702923311.700800106]: TF_REPEATED_DATA ignoring data with redundant timestamp for frame odom at time 4397.015000 according to authority /pose_integrator\u001b[0m\n",
      "\u001b[33m[ WARN] [1702923311.700857172]: TF_REPEATED_DATA ignoring data with redundant timestamp for frame odom at time 4397.015000 according to authority /pose_integrator\u001b[0m\n",
      "\u001b[33m[ WARN] [1702923311.700897223]: TF_REPEATED_DATA ignoring data with redundant timestamp for frame odom at time 4397.015000 according to authority /pose_integrator\u001b[0m\n",
      "\u001b[33m[ WARN] [1702923311.700938433]: TF_REPEATED_DATA ignoring data with redundant timestamp for frame odom at time 4397.015000 according to authority /pose_integrator\u001b[0m\n",
      "\u001b[33m[ WARN] [1702923311.700967333]: TF_REPEATED_DATA ignoring data with redundant timestamp for frame odom at time 4397.015000 according to authority /pose_integrator\u001b[0m\n",
      "\u001b[33m[ WARN] [1702923311.700992272]: TF_REPEATED_DATA ignoring data with redundant timestamp for frame odom at time 4397.015000 according to authority /pose_integrator\u001b[0m\n",
      "\u001b[33m[ WARN] [1702923314.020126270]: TF_REPEATED_DATA ignoring data with redundant timestamp for frame odom at time 4397.993000 according to authority /pose_integrator\u001b[0m\n",
      "\u001b[33m[ WARN] [1702923314.020187782]: TF_REPEATED_DATA ignoring data with redundant timestamp for frame odom at time 4397.993000 according to authority /pose_integrator\u001b[0m\n",
      "\u001b[33m[ WARN] [1702923314.020220985]: TF_REPEATED_DATA ignoring data with redundant timestamp for frame odom at time 4397.993000 according to authority /pose_integrator\u001b[0m\n",
      "\u001b[33m[ WARN] [1702923314.020249442]: TF_REPEATED_DATA ignoring data with redundant timestamp for frame odom at time 4397.993000 according to authority /pose_integrator\u001b[0m\n",
      "\u001b[33m[ WARN] [1702923314.020288867]: TF_REPEATED_DATA ignoring data with redundant timestamp for frame odom at time 4397.993000 according to authority /pose_integrator\u001b[0m\n",
      "\u001b[33m[ WARN] [1702923314.020567532]: TF_REPEATED_DATA ignoring data with redundant timestamp for frame odom at time 4397.993000 according to authority /pose_integrator\u001b[0m\n",
      "\u001b[33m[ WARN] [1702923314.387397507]: TF_REPEATED_DATA ignoring data with redundant timestamp for frame odom at time 4398.172000 according to authority /pose_integrator\u001b[0m\n",
      "\u001b[33m[ WARN] [1702923314.387447569]: TF_REPEATED_DATA ignoring data with redundant timestamp for frame odom at time 4398.172000 according to authority /pose_integrator\u001b[0m\n",
      "\u001b[33m[ WARN] [1702923314.387476064]: TF_REPEATED_DATA ignoring data with redundant timestamp for frame odom at time 4398.172000 according to authority /pose_integrator\u001b[0m\n",
      "\u001b[33m[ WARN] [1702923314.387501890]: TF_REPEATED_DATA ignoring data with redundant timestamp for frame odom at time 4398.172000 according to authority /pose_integrator\u001b[0m\n",
      "\u001b[33m[ WARN] [1702923314.387527190]: TF_REPEATED_DATA ignoring data with redundant timestamp for frame odom at time 4398.172000 according to authority /pose_integrator\u001b[0m\n",
      "\u001b[33m[ WARN] [1702923314.387554452]: TF_REPEATED_DATA ignoring data with redundant timestamp for frame odom at time 4398.172000 according to authority /pose_integrator\u001b[0m\n",
      "\u001b[33m[ WARN] [1702923314.559680409]: TF_REPEATED_DATA ignoring data with redundant timestamp for frame odom at time 4398.275000 according to authority /pose_integrator\u001b[0m\n",
      "\u001b[33m[ WARN] [1702923314.559727471]: TF_REPEATED_DATA ignoring data with redundant timestamp for frame odom at time 4398.275000 according to authority /pose_integrator\u001b[0m\n",
      "\u001b[33m[ WARN] [1702923314.559754631]: TF_REPEATED_DATA ignoring data with redundant timestamp for frame odom at time 4398.275000 according to authority /pose_integrator\u001b[0m\n",
      "\u001b[33m[ WARN] [1702923314.559783539]: TF_REPEATED_DATA ignoring data with redundant timestamp for frame odom at time 4398.275000 according to authority /pose_integrator\u001b[0m\n",
      "\u001b[33m[ WARN] [1702923314.559809285]: TF_REPEATED_DATA ignoring data with redundant timestamp for frame odom at time 4398.275000 according to authority /pose_integrator\u001b[0m\n",
      "\u001b[33m[ WARN] [1702923314.559834752]: TF_REPEATED_DATA ignoring data with redundant timestamp for frame odom at time 4398.275000 according to authority /pose_integrator\u001b[0m\n",
      "\u001b[33m[ WARN] [1702923316.668560997]: TF_REPEATED_DATA ignoring data with redundant timestamp for frame odom at time 4399.080000 according to authority /pose_integrator\u001b[0m\n",
      "\u001b[33m[ WARN] [1702923316.668618155]: TF_REPEATED_DATA ignoring data with redundant timestamp for frame odom at time 4399.080000 according to authority /pose_integrator\u001b[0m\n",
      "\u001b[33m[ WARN] [1702923316.668651934]: TF_REPEATED_DATA ignoring data with redundant timestamp for frame odom at time 4399.080000 according to authority /pose_integrator\u001b[0m\n",
      "\u001b[33m[ WARN] [1702923316.668686482]: TF_REPEATED_DATA ignoring data with redundant timestamp for frame odom at time 4399.080000 according to authority /pose_integrator\u001b[0m\n",
      "\u001b[33m[ WARN] [1702923316.668719120]: TF_REPEATED_DATA ignoring data with redundant timestamp for frame odom at time 4399.080000 according to authority /pose_integrator\u001b[0m\n",
      "\u001b[33m[ WARN] [1702923316.668751999]: TF_REPEATED_DATA ignoring data with redundant timestamp for frame odom at time 4399.080000 according to authority /pose_integrator\u001b[0m\n",
      "\u001b[33m[ WARN] [1702923316.953232611]: TF_REPEATED_DATA ignoring data with redundant timestamp for frame odom at time 4399.232000 according to authority /pose_integrator\u001b[0m\n",
      "\u001b[33m[ WARN] [1702923316.953270335]: TF_REPEATED_DATA ignoring data with redundant timestamp for frame odom at time 4399.232000 according to authority /pose_integrator\u001b[0m\n",
      "\u001b[33m[ WARN] [1702923316.953294097]: TF_REPEATED_DATA ignoring data with redundant timestamp for frame odom at time 4399.232000 according to authority /pose_integrator\u001b[0m\n",
      "\u001b[33m[ WARN] [1702923316.953316668]: TF_REPEATED_DATA ignoring data with redundant timestamp for frame odom at time 4399.232000 according to authority /pose_integrator\u001b[0m\n",
      "\u001b[33m[ WARN] [1702923316.953338476]: TF_REPEATED_DATA ignoring data with redundant timestamp for frame odom at time 4399.232000 according to authority /pose_integrator\u001b[0m\n",
      "\u001b[33m[ WARN] [1702923316.953360505]: TF_REPEATED_DATA ignoring data with redundant timestamp for frame odom at time 4399.232000 according to authority /pose_integrator\u001b[0m\n",
      "\u001b[33m[ WARN] [1702923317.140848995]: TF_REPEATED_DATA ignoring data with redundant timestamp for frame odom at time 4399.331000 according to authority /pose_integrator\u001b[0m\n",
      "\u001b[33m[ WARN] [1702923317.140895639]: TF_REPEATED_DATA ignoring data with redundant timestamp for frame odom at time 4399.331000 according to authority /pose_integrator\u001b[0m\n",
      "\u001b[33m[ WARN] [1702923317.140932436]: TF_REPEATED_DATA ignoring data with redundant timestamp for frame odom at time 4399.331000 according to authority /pose_integrator\u001b[0m\n",
      "\u001b[33m[ WARN] [1702923317.140963872]: TF_REPEATED_DATA ignoring data with redundant timestamp for frame odom at time 4399.331000 according to authority /pose_integrator\u001b[0m\n",
      "\u001b[33m[ WARN] [1702923317.140993564]: TF_REPEATED_DATA ignoring data with redundant timestamp for frame odom at time 4399.331000 according to authority /pose_integrator\u001b[0m\n",
      "\u001b[33m[ WARN] [1702923317.141024943]: TF_REPEATED_DATA ignoring data with redundant timestamp for frame odom at time 4399.331000 according to authority /pose_integrator\u001b[0m\n"
     ]
    },
    {
     "name": "stderr",
     "output_type": "stream",
     "text": [
      "\u001b[33m[ WARN] [1702923318.483365682]: TF_REPEATED_DATA ignoring data with redundant timestamp for frame odom at time 4400.011000 according to authority /pose_integrator\u001b[0m\n",
      "\u001b[33m[ WARN] [1702923318.483423417]: TF_REPEATED_DATA ignoring data with redundant timestamp for frame odom at time 4400.011000 according to authority /pose_integrator\u001b[0m\n",
      "\u001b[33m[ WARN] [1702923318.483464129]: TF_REPEATED_DATA ignoring data with redundant timestamp for frame odom at time 4400.011000 according to authority /pose_integrator\u001b[0m\n",
      "\u001b[33m[ WARN] [1702923318.483501817]: TF_REPEATED_DATA ignoring data with redundant timestamp for frame odom at time 4400.011000 according to authority /pose_integrator\u001b[0m\n",
      "\u001b[33m[ WARN] [1702923318.483538260]: TF_REPEATED_DATA ignoring data with redundant timestamp for frame odom at time 4400.011000 according to authority /pose_integrator\u001b[0m\n",
      "\u001b[33m[ WARN] [1702923318.483578482]: TF_REPEATED_DATA ignoring data with redundant timestamp for frame odom at time 4400.011000 according to authority /pose_integrator\u001b[0m\n",
      "\u001b[33m[ WARN] [1702923318.719113772]: TF_REPEATED_DATA ignoring data with redundant timestamp for frame odom at time 4400.146000 according to authority /pose_integrator\u001b[0m\n",
      "\u001b[33m[ WARN] [1702923318.719152269]: TF_REPEATED_DATA ignoring data with redundant timestamp for frame odom at time 4400.146000 according to authority /pose_integrator\u001b[0m\n",
      "\u001b[33m[ WARN] [1702923318.719175077]: TF_REPEATED_DATA ignoring data with redundant timestamp for frame odom at time 4400.146000 according to authority /pose_integrator\u001b[0m\n",
      "\u001b[33m[ WARN] [1702923318.719196630]: TF_REPEATED_DATA ignoring data with redundant timestamp for frame odom at time 4400.146000 according to authority /pose_integrator\u001b[0m\n",
      "\u001b[33m[ WARN] [1702923318.719218011]: TF_REPEATED_DATA ignoring data with redundant timestamp for frame odom at time 4400.146000 according to authority /pose_integrator\u001b[0m\n",
      "\u001b[33m[ WARN] [1702923318.719239182]: TF_REPEATED_DATA ignoring data with redundant timestamp for frame odom at time 4400.146000 according to authority /pose_integrator\u001b[0m\n",
      "\u001b[33m[ WARN] [1702923320.895741531]: TF_REPEATED_DATA ignoring data with redundant timestamp for frame odom at time 4401.221000 according to authority /pose_integrator\u001b[0m\n",
      "\u001b[33m[ WARN] [1702923320.895792150]: TF_REPEATED_DATA ignoring data with redundant timestamp for frame odom at time 4401.221000 according to authority /pose_integrator\u001b[0m\n",
      "\u001b[33m[ WARN] [1702923320.895826242]: TF_REPEATED_DATA ignoring data with redundant timestamp for frame odom at time 4401.221000 according to authority /pose_integrator\u001b[0m\n",
      "\u001b[33m[ WARN] [1702923320.895858098]: TF_REPEATED_DATA ignoring data with redundant timestamp for frame odom at time 4401.221000 according to authority /pose_integrator\u001b[0m\n",
      "\u001b[33m[ WARN] [1702923320.895888742]: TF_REPEATED_DATA ignoring data with redundant timestamp for frame odom at time 4401.221000 according to authority /pose_integrator\u001b[0m\n",
      "\u001b[33m[ WARN] [1702923320.895919904]: TF_REPEATED_DATA ignoring data with redundant timestamp for frame odom at time 4401.221000 according to authority /pose_integrator\u001b[0m\n",
      "\u001b[33m[ WARN] [1702923322.491202073]: TF_REPEATED_DATA ignoring data with redundant timestamp for frame odom at time 4401.907000 according to authority /pose_integrator\u001b[0m\n",
      "\u001b[33m[ WARN] [1702923322.491265201]: TF_REPEATED_DATA ignoring data with redundant timestamp for frame odom at time 4401.907000 according to authority /pose_integrator\u001b[0m\n",
      "\u001b[33m[ WARN] [1702923322.491306120]: TF_REPEATED_DATA ignoring data with redundant timestamp for frame odom at time 4401.907000 according to authority /pose_integrator\u001b[0m\n",
      "\u001b[33m[ WARN] [1702923322.491342812]: TF_REPEATED_DATA ignoring data with redundant timestamp for frame odom at time 4401.907000 according to authority /pose_integrator\u001b[0m\n",
      "\u001b[33m[ WARN] [1702923322.491381298]: TF_REPEATED_DATA ignoring data with redundant timestamp for frame odom at time 4401.907000 according to authority /pose_integrator\u001b[0m\n",
      "\u001b[33m[ WARN] [1702923322.491416775]: TF_REPEATED_DATA ignoring data with redundant timestamp for frame odom at time 4401.907000 according to authority /pose_integrator\u001b[0m\n",
      "\u001b[33m[ WARN] [1702923323.580874546]: TF_REPEATED_DATA ignoring data with redundant timestamp for frame odom at time 4402.393000 according to authority /pose_integrator\u001b[0m\n",
      "\u001b[33m[ WARN] [1702923323.580931254]: TF_REPEATED_DATA ignoring data with redundant timestamp for frame odom at time 4402.393000 according to authority /pose_integrator\u001b[0m\n",
      "\u001b[33m[ WARN] [1702923323.580966969]: TF_REPEATED_DATA ignoring data with redundant timestamp for frame odom at time 4402.393000 according to authority /pose_integrator\u001b[0m\n",
      "\u001b[33m[ WARN] [1702923323.581003001]: TF_REPEATED_DATA ignoring data with redundant timestamp for frame odom at time 4402.393000 according to authority /pose_integrator\u001b[0m\n",
      "\u001b[33m[ WARN] [1702923323.581053691]: TF_REPEATED_DATA ignoring data with redundant timestamp for frame odom at time 4402.393000 according to authority /pose_integrator\u001b[0m\n",
      "\u001b[33m[ WARN] [1702923323.581095609]: TF_REPEATED_DATA ignoring data with redundant timestamp for frame odom at time 4402.393000 according to authority /pose_integrator\u001b[0m\n",
      "\u001b[33m[ WARN] [1702923327.523198366]: TF_REPEATED_DATA ignoring data with redundant timestamp for frame odom at time 4404.293000 according to authority /pose_integrator\u001b[0m\n",
      "\u001b[33m[ WARN] [1702923327.523254781]: TF_REPEATED_DATA ignoring data with redundant timestamp for frame odom at time 4404.293000 according to authority /pose_integrator\u001b[0m\n",
      "\u001b[33m[ WARN] [1702923327.523292455]: TF_REPEATED_DATA ignoring data with redundant timestamp for frame odom at time 4404.293000 according to authority /pose_integrator\u001b[0m\n",
      "\u001b[33m[ WARN] [1702923327.523328960]: TF_REPEATED_DATA ignoring data with redundant timestamp for frame odom at time 4404.293000 according to authority /pose_integrator\u001b[0m\n",
      "\u001b[33m[ WARN] [1702923327.523360877]: TF_REPEATED_DATA ignoring data with redundant timestamp for frame odom at time 4404.293000 according to authority /pose_integrator\u001b[0m\n",
      "\u001b[33m[ WARN] [1702923327.523405436]: TF_REPEATED_DATA ignoring data with redundant timestamp for frame odom at time 4404.293000 according to authority /pose_integrator\u001b[0m\n",
      "\u001b[33m[ WARN] [1702923343.643750465]: TF_REPEATED_DATA ignoring data with redundant timestamp for frame odom at time 4411.256000 according to authority /pose_integrator\u001b[0m\n",
      "\u001b[33m[ WARN] [1702923343.643804293]: TF_REPEATED_DATA ignoring data with redundant timestamp for frame odom at time 4411.256000 according to authority /pose_integrator\u001b[0m\n",
      "\u001b[33m[ WARN] [1702923343.643847260]: TF_REPEATED_DATA ignoring data with redundant timestamp for frame odom at time 4411.256000 according to authority /pose_integrator\u001b[0m\n",
      "\u001b[33m[ WARN] [1702923343.643880223]: TF_REPEATED_DATA ignoring data with redundant timestamp for frame odom at time 4411.256000 according to authority /pose_integrator\u001b[0m\n",
      "\u001b[33m[ WARN] [1702923343.643905903]: TF_REPEATED_DATA ignoring data with redundant timestamp for frame odom at time 4411.256000 according to authority /pose_integrator\u001b[0m\n",
      "\u001b[33m[ WARN] [1702923343.643937606]: TF_REPEATED_DATA ignoring data with redundant timestamp for frame odom at time 4411.256000 according to authority /pose_integrator\u001b[0m\n",
      "\u001b[33m[ WARN] [1702923345.680351800]: TF_REPEATED_DATA ignoring data with redundant timestamp for frame odom at time 4412.192000 according to authority /pose_integrator\u001b[0m\n",
      "\u001b[33m[ WARN] [1702923345.680406178]: TF_REPEATED_DATA ignoring data with redundant timestamp for frame odom at time 4412.192000 according to authority /pose_integrator\u001b[0m\n",
      "\u001b[33m[ WARN] [1702923345.680449808]: TF_REPEATED_DATA ignoring data with redundant timestamp for frame odom at time 4412.192000 according to authority /pose_integrator\u001b[0m\n",
      "\u001b[33m[ WARN] [1702923345.680491474]: TF_REPEATED_DATA ignoring data with redundant timestamp for frame odom at time 4412.192000 according to authority /pose_integrator\u001b[0m\n",
      "\u001b[33m[ WARN] [1702923345.680525837]: TF_REPEATED_DATA ignoring data with redundant timestamp for frame odom at time 4412.192000 according to authority /pose_integrator\u001b[0m\n",
      "\u001b[33m[ WARN] [1702923345.680561193]: TF_REPEATED_DATA ignoring data with redundant timestamp for frame odom at time 4412.192000 according to authority /pose_integrator\u001b[0m\n"
     ]
    },
    {
     "name": "stderr",
     "output_type": "stream",
     "text": [
      "\u001b[33m[ WARN] [1702923347.519250306]: TF_REPEATED_DATA ignoring data with redundant timestamp for frame odom at time 4413.002000 according to authority /pose_integrator\u001b[0m\n",
      "\u001b[33m[ WARN] [1702923347.519313026]: TF_REPEATED_DATA ignoring data with redundant timestamp for frame odom at time 4413.002000 according to authority /pose_integrator\u001b[0m\n",
      "\u001b[33m[ WARN] [1702923347.519369227]: TF_REPEATED_DATA ignoring data with redundant timestamp for frame odom at time 4413.002000 according to authority /pose_integrator\u001b[0m\n",
      "\u001b[33m[ WARN] [1702923347.519414287]: TF_REPEATED_DATA ignoring data with redundant timestamp for frame odom at time 4413.002000 according to authority /pose_integrator\u001b[0m\n",
      "\u001b[33m[ WARN] [1702923347.519455665]: TF_REPEATED_DATA ignoring data with redundant timestamp for frame odom at time 4413.002000 according to authority /pose_integrator\u001b[0m\n",
      "\u001b[33m[ WARN] [1702923347.519493539]: TF_REPEATED_DATA ignoring data with redundant timestamp for frame odom at time 4413.002000 according to authority /pose_integrator\u001b[0m\n",
      "\u001b[33m[ WARN] [1702923350.694432960]: TF_REPEATED_DATA ignoring data with redundant timestamp for frame odom at time 4414.470000 according to authority /pose_integrator\u001b[0m\n",
      "\u001b[33m[ WARN] [1702923350.694479127]: TF_REPEATED_DATA ignoring data with redundant timestamp for frame odom at time 4414.470000 according to authority /pose_integrator\u001b[0m\n",
      "\u001b[33m[ WARN] [1702923350.694518822]: TF_REPEATED_DATA ignoring data with redundant timestamp for frame odom at time 4414.470000 according to authority /pose_integrator\u001b[0m\n",
      "\u001b[33m[ WARN] [1702923350.694554347]: TF_REPEATED_DATA ignoring data with redundant timestamp for frame odom at time 4414.470000 according to authority /pose_integrator\u001b[0m\n",
      "\u001b[33m[ WARN] [1702923350.694592338]: TF_REPEATED_DATA ignoring data with redundant timestamp for frame odom at time 4414.470000 according to authority /pose_integrator\u001b[0m\n",
      "\u001b[33m[ WARN] [1702923350.694625955]: TF_REPEATED_DATA ignoring data with redundant timestamp for frame odom at time 4414.470000 according to authority /pose_integrator\u001b[0m\n",
      "\u001b[33m[ WARN] [1702923351.212840966]: TF_REPEATED_DATA ignoring data with redundant timestamp for frame odom at time 4414.699000 according to authority /pose_integrator\u001b[0m\n",
      "\u001b[33m[ WARN] [1702923351.212891066]: TF_REPEATED_DATA ignoring data with redundant timestamp for frame odom at time 4414.699000 according to authority /pose_integrator\u001b[0m\n",
      "\u001b[33m[ WARN] [1702923351.212934592]: TF_REPEATED_DATA ignoring data with redundant timestamp for frame odom at time 4414.699000 according to authority /pose_integrator\u001b[0m\n",
      "\u001b[33m[ WARN] [1702923351.212967201]: TF_REPEATED_DATA ignoring data with redundant timestamp for frame odom at time 4414.699000 according to authority /pose_integrator\u001b[0m\n",
      "\u001b[33m[ WARN] [1702923351.213000952]: TF_REPEATED_DATA ignoring data with redundant timestamp for frame odom at time 4414.699000 according to authority /pose_integrator\u001b[0m\n",
      "\u001b[33m[ WARN] [1702923351.213028718]: TF_REPEATED_DATA ignoring data with redundant timestamp for frame odom at time 4414.699000 according to authority /pose_integrator\u001b[0m\n",
      "\u001b[33m[ WARN] [1702923351.639849442]: TF_REPEATED_DATA ignoring data with redundant timestamp for frame odom at time 4414.906000 according to authority /pose_integrator\u001b[0m\n",
      "\u001b[33m[ WARN] [1702923351.639888234]: TF_REPEATED_DATA ignoring data with redundant timestamp for frame odom at time 4414.906000 according to authority /pose_integrator\u001b[0m\n",
      "\u001b[33m[ WARN] [1702923351.639912454]: TF_REPEATED_DATA ignoring data with redundant timestamp for frame odom at time 4414.906000 according to authority /pose_integrator\u001b[0m\n",
      "\u001b[33m[ WARN] [1702923351.639936109]: TF_REPEATED_DATA ignoring data with redundant timestamp for frame odom at time 4414.906000 according to authority /pose_integrator\u001b[0m\n",
      "\u001b[33m[ WARN] [1702923351.639965135]: TF_REPEATED_DATA ignoring data with redundant timestamp for frame odom at time 4414.906000 according to authority /pose_integrator\u001b[0m\n",
      "\u001b[33m[ WARN] [1702923351.639993851]: TF_REPEATED_DATA ignoring data with redundant timestamp for frame odom at time 4414.906000 according to authority /pose_integrator\u001b[0m\n",
      "\u001b[33m[ WARN] [1702923351.772877293]: TF_REPEATED_DATA ignoring data with redundant timestamp for frame odom at time 4414.971000 according to authority /pose_integrator\u001b[0m\n",
      "\u001b[33m[ WARN] [1702923351.772930125]: TF_REPEATED_DATA ignoring data with redundant timestamp for frame odom at time 4414.971000 according to authority /pose_integrator\u001b[0m\n",
      "\u001b[33m[ WARN] [1702923351.772971019]: TF_REPEATED_DATA ignoring data with redundant timestamp for frame odom at time 4414.971000 according to authority /pose_integrator\u001b[0m\n",
      "\u001b[33m[ WARN] [1702923351.773012935]: TF_REPEATED_DATA ignoring data with redundant timestamp for frame odom at time 4414.971000 according to authority /pose_integrator\u001b[0m\n",
      "\u001b[33m[ WARN] [1702923351.773055352]: TF_REPEATED_DATA ignoring data with redundant timestamp for frame odom at time 4414.971000 according to authority /pose_integrator\u001b[0m\n",
      "\u001b[33m[ WARN] [1702923351.773092952]: TF_REPEATED_DATA ignoring data with redundant timestamp for frame odom at time 4414.971000 according to authority /pose_integrator\u001b[0m\n",
      "\u001b[33m[ WARN] [1702923353.754176966]: TF_REPEATED_DATA ignoring data with redundant timestamp for frame odom at time 4415.889000 according to authority /pose_integrator\u001b[0m\n",
      "\u001b[33m[ WARN] [1702923353.754228757]: TF_REPEATED_DATA ignoring data with redundant timestamp for frame odom at time 4415.889000 according to authority /pose_integrator\u001b[0m\n",
      "\u001b[33m[ WARN] [1702923353.754270548]: TF_REPEATED_DATA ignoring data with redundant timestamp for frame odom at time 4415.889000 according to authority /pose_integrator\u001b[0m\n",
      "\u001b[33m[ WARN] [1702923353.754311971]: TF_REPEATED_DATA ignoring data with redundant timestamp for frame odom at time 4415.889000 according to authority /pose_integrator\u001b[0m\n",
      "\u001b[33m[ WARN] [1702923353.754346466]: TF_REPEATED_DATA ignoring data with redundant timestamp for frame odom at time 4415.889000 according to authority /pose_integrator\u001b[0m\n",
      "\u001b[33m[ WARN] [1702923353.754385096]: TF_REPEATED_DATA ignoring data with redundant timestamp for frame odom at time 4415.889000 according to authority /pose_integrator\u001b[0m\n",
      "\u001b[33m[ WARN] [1702923354.343840011]: TF_REPEATED_DATA ignoring data with redundant timestamp for frame odom at time 4416.157000 according to authority /pose_integrator\u001b[0m\n",
      "\u001b[33m[ WARN] [1702923354.343883791]: TF_REPEATED_DATA ignoring data with redundant timestamp for frame odom at time 4416.157000 according to authority /pose_integrator\u001b[0m\n",
      "\u001b[33m[ WARN] [1702923354.343908956]: TF_REPEATED_DATA ignoring data with redundant timestamp for frame odom at time 4416.157000 according to authority /pose_integrator\u001b[0m\n",
      "\u001b[33m[ WARN] [1702923354.343932114]: TF_REPEATED_DATA ignoring data with redundant timestamp for frame odom at time 4416.157000 according to authority /pose_integrator\u001b[0m\n",
      "\u001b[33m[ WARN] [1702923354.343958297]: TF_REPEATED_DATA ignoring data with redundant timestamp for frame odom at time 4416.157000 according to authority /pose_integrator\u001b[0m\n",
      "\u001b[33m[ WARN] [1702923354.343990816]: TF_REPEATED_DATA ignoring data with redundant timestamp for frame odom at time 4416.157000 according to authority /pose_integrator\u001b[0m\n",
      "\u001b[33m[ WARN] [1702923354.518351031]: TF_REPEATED_DATA ignoring data with redundant timestamp for frame odom at time 4416.258000 according to authority /pose_integrator\u001b[0m\n",
      "\u001b[33m[ WARN] [1702923354.518407608]: TF_REPEATED_DATA ignoring data with redundant timestamp for frame odom at time 4416.258000 according to authority /pose_integrator\u001b[0m\n",
      "\u001b[33m[ WARN] [1702923354.518449090]: TF_REPEATED_DATA ignoring data with redundant timestamp for frame odom at time 4416.258000 according to authority /pose_integrator\u001b[0m\n",
      "\u001b[33m[ WARN] [1702923354.518484149]: TF_REPEATED_DATA ignoring data with redundant timestamp for frame odom at time 4416.258000 according to authority /pose_integrator\u001b[0m\n",
      "\u001b[33m[ WARN] [1702923354.518519037]: TF_REPEATED_DATA ignoring data with redundant timestamp for frame odom at time 4416.258000 according to authority /pose_integrator\u001b[0m\n",
      "\u001b[33m[ WARN] [1702923354.518556117]: TF_REPEATED_DATA ignoring data with redundant timestamp for frame odom at time 4416.258000 according to authority /pose_integrator\u001b[0m\n"
     ]
    },
    {
     "name": "stderr",
     "output_type": "stream",
     "text": [
      "\u001b[33m[ WARN] [1702923365.835354136]: TF_REPEATED_DATA ignoring data with redundant timestamp for frame odom at time 4421.333000 according to authority /pose_integrator\u001b[0m\n",
      "\u001b[33m[ WARN] [1702923365.835407761]: TF_REPEATED_DATA ignoring data with redundant timestamp for frame odom at time 4421.333000 according to authority /pose_integrator\u001b[0m\n",
      "\u001b[33m[ WARN] [1702923365.835447915]: TF_REPEATED_DATA ignoring data with redundant timestamp for frame odom at time 4421.333000 according to authority /pose_integrator\u001b[0m\n",
      "\u001b[33m[ WARN] [1702923365.835491188]: TF_REPEATED_DATA ignoring data with redundant timestamp for frame odom at time 4421.333000 according to authority /pose_integrator\u001b[0m\n",
      "\u001b[33m[ WARN] [1702923365.835527637]: TF_REPEATED_DATA ignoring data with redundant timestamp for frame odom at time 4421.333000 according to authority /pose_integrator\u001b[0m\n",
      "\u001b[33m[ WARN] [1702923365.835561554]: TF_REPEATED_DATA ignoring data with redundant timestamp for frame odom at time 4421.333000 according to authority /pose_integrator\u001b[0m\n",
      "\u001b[33m[ WARN] [1702923369.232756199]: TF_REPEATED_DATA ignoring data with redundant timestamp for frame odom at time 4422.764000 according to authority /pose_integrator\u001b[0m\n",
      "\u001b[33m[ WARN] [1702923369.232808838]: TF_REPEATED_DATA ignoring data with redundant timestamp for frame odom at time 4422.764000 according to authority /pose_integrator\u001b[0m\n",
      "\u001b[33m[ WARN] [1702923369.232840817]: TF_REPEATED_DATA ignoring data with redundant timestamp for frame odom at time 4422.764000 according to authority /pose_integrator\u001b[0m\n",
      "\u001b[33m[ WARN] [1702923369.232875830]: TF_REPEATED_DATA ignoring data with redundant timestamp for frame odom at time 4422.764000 according to authority /pose_integrator\u001b[0m\n",
      "\u001b[33m[ WARN] [1702923369.232917949]: TF_REPEATED_DATA ignoring data with redundant timestamp for frame odom at time 4422.764000 according to authority /pose_integrator\u001b[0m\n",
      "\u001b[33m[ WARN] [1702923369.232959466]: TF_REPEATED_DATA ignoring data with redundant timestamp for frame odom at time 4422.764000 according to authority /pose_integrator\u001b[0m\n",
      "\u001b[33m[ WARN] [1702923371.477795950]: TF_REPEATED_DATA ignoring data with redundant timestamp for frame odom at time 4423.763000 according to authority /pose_integrator\u001b[0m\n",
      "\u001b[33m[ WARN] [1702923371.477833761]: TF_REPEATED_DATA ignoring data with redundant timestamp for frame odom at time 4423.763000 according to authority /pose_integrator\u001b[0m\n",
      "\u001b[33m[ WARN] [1702923371.477859363]: TF_REPEATED_DATA ignoring data with redundant timestamp for frame odom at time 4423.763000 according to authority /pose_integrator\u001b[0m\n",
      "\u001b[33m[ WARN] [1702923371.477882277]: TF_REPEATED_DATA ignoring data with redundant timestamp for frame odom at time 4423.763000 according to authority /pose_integrator\u001b[0m\n",
      "\u001b[33m[ WARN] [1702923371.477905159]: TF_REPEATED_DATA ignoring data with redundant timestamp for frame odom at time 4423.763000 according to authority /pose_integrator\u001b[0m\n",
      "\u001b[33m[ WARN] [1702923371.477927997]: TF_REPEATED_DATA ignoring data with redundant timestamp for frame odom at time 4423.763000 according to authority /pose_integrator\u001b[0m\n",
      "\u001b[33m[ WARN] [1702923377.090461845]: TF_REPEATED_DATA ignoring data with redundant timestamp for frame odom at time 4426.294000 according to authority /pose_integrator\u001b[0m\n",
      "\u001b[33m[ WARN] [1702923377.090501223]: TF_REPEATED_DATA ignoring data with redundant timestamp for frame odom at time 4426.294000 according to authority /pose_integrator\u001b[0m\n",
      "\u001b[33m[ WARN] [1702923377.090536897]: TF_REPEATED_DATA ignoring data with redundant timestamp for frame odom at time 4426.294000 according to authority /pose_integrator\u001b[0m\n",
      "\u001b[33m[ WARN] [1702923377.090576371]: TF_REPEATED_DATA ignoring data with redundant timestamp for frame odom at time 4426.294000 according to authority /pose_integrator\u001b[0m\n",
      "\u001b[33m[ WARN] [1702923377.090617178]: TF_REPEATED_DATA ignoring data with redundant timestamp for frame odom at time 4426.294000 according to authority /pose_integrator\u001b[0m\n",
      "\u001b[33m[ WARN] [1702923377.090654342]: TF_REPEATED_DATA ignoring data with redundant timestamp for frame odom at time 4426.294000 according to authority /pose_integrator\u001b[0m\n",
      "\u001b[33m[ WARN] [1702923378.993744888]: TF_REPEATED_DATA ignoring data with redundant timestamp for frame odom at time 4427.130000 according to authority /pose_integrator\u001b[0m\n",
      "\u001b[33m[ WARN] [1702923378.993790291]: TF_REPEATED_DATA ignoring data with redundant timestamp for frame odom at time 4427.130000 according to authority /pose_integrator\u001b[0m\n",
      "\u001b[33m[ WARN] [1702923378.993818502]: TF_REPEATED_DATA ignoring data with redundant timestamp for frame odom at time 4427.130000 according to authority /pose_integrator\u001b[0m\n",
      "\u001b[33m[ WARN] [1702923378.994224289]: TF_REPEATED_DATA ignoring data with redundant timestamp for frame odom at time 4427.130000 according to authority /pose_integrator\u001b[0m\n",
      "\u001b[33m[ WARN] [1702923378.994282241]: TF_REPEATED_DATA ignoring data with redundant timestamp for frame odom at time 4427.130000 according to authority /pose_integrator\u001b[0m\n",
      "\u001b[33m[ WARN] [1702923378.994324323]: TF_REPEATED_DATA ignoring data with redundant timestamp for frame odom at time 4427.130000 according to authority /pose_integrator\u001b[0m\n",
      "\u001b[33m[ WARN] [1702923379.683889777]: TF_REPEATED_DATA ignoring data with redundant timestamp for frame odom at time 4427.468000 according to authority /pose_integrator\u001b[0m\n",
      "\u001b[33m[ WARN] [1702923379.683938905]: TF_REPEATED_DATA ignoring data with redundant timestamp for frame odom at time 4427.468000 according to authority /pose_integrator\u001b[0m\n",
      "\u001b[33m[ WARN] [1702923379.683978126]: TF_REPEATED_DATA ignoring data with redundant timestamp for frame odom at time 4427.468000 according to authority /pose_integrator\u001b[0m\n",
      "\u001b[33m[ WARN] [1702923379.684010531]: TF_REPEATED_DATA ignoring data with redundant timestamp for frame odom at time 4427.468000 according to authority /pose_integrator\u001b[0m\n",
      "\u001b[33m[ WARN] [1702923379.684043434]: TF_REPEATED_DATA ignoring data with redundant timestamp for frame odom at time 4427.468000 according to authority /pose_integrator\u001b[0m\n",
      "\u001b[33m[ WARN] [1702923379.684082110]: TF_REPEATED_DATA ignoring data with redundant timestamp for frame odom at time 4427.468000 according to authority /pose_integrator\u001b[0m\n",
      "\u001b[33m[ WARN] [1702923382.270636909]: TF_REPEATED_DATA ignoring data with redundant timestamp for frame odom at time 4428.646000 according to authority /pose_integrator\u001b[0m\n",
      "\u001b[33m[ WARN] [1702923382.270683840]: TF_REPEATED_DATA ignoring data with redundant timestamp for frame odom at time 4428.646000 according to authority /pose_integrator\u001b[0m\n",
      "\u001b[33m[ WARN] [1702923382.270724280]: TF_REPEATED_DATA ignoring data with redundant timestamp for frame odom at time 4428.646000 according to authority /pose_integrator\u001b[0m\n",
      "\u001b[33m[ WARN] [1702923382.270763025]: TF_REPEATED_DATA ignoring data with redundant timestamp for frame odom at time 4428.646000 according to authority /pose_integrator\u001b[0m\n",
      "\u001b[33m[ WARN] [1702923382.270800488]: TF_REPEATED_DATA ignoring data with redundant timestamp for frame odom at time 4428.646000 according to authority /pose_integrator\u001b[0m\n",
      "\u001b[33m[ WARN] [1702923382.270842590]: TF_REPEATED_DATA ignoring data with redundant timestamp for frame odom at time 4428.646000 according to authority /pose_integrator\u001b[0m\n",
      "\u001b[33m[ WARN] [1702923382.698342545]: TF_REPEATED_DATA ignoring data with redundant timestamp for frame odom at time 4428.845000 according to authority /pose_integrator\u001b[0m\n",
      "\u001b[33m[ WARN] [1702923382.698395949]: TF_REPEATED_DATA ignoring data with redundant timestamp for frame odom at time 4428.845000 according to authority /pose_integrator\u001b[0m\n",
      "\u001b[33m[ WARN] [1702923382.698435035]: TF_REPEATED_DATA ignoring data with redundant timestamp for frame odom at time 4428.845000 according to authority /pose_integrator\u001b[0m\n",
      "\u001b[33m[ WARN] [1702923382.698479316]: TF_REPEATED_DATA ignoring data with redundant timestamp for frame odom at time 4428.845000 according to authority /pose_integrator\u001b[0m\n",
      "\u001b[33m[ WARN] [1702923382.698522990]: TF_REPEATED_DATA ignoring data with redundant timestamp for frame odom at time 4428.845000 according to authority /pose_integrator\u001b[0m\n",
      "\u001b[33m[ WARN] [1702923382.698562224]: TF_REPEATED_DATA ignoring data with redundant timestamp for frame odom at time 4428.845000 according to authority /pose_integrator\u001b[0m\n",
      "\u001b[33m[ WARN] [1702923382.832906466]: TF_REPEATED_DATA ignoring data with redundant timestamp for frame odom at time 4428.918000 according to authority /pose_integrator\u001b[0m\n",
      "\u001b[33m[ WARN] [1702923382.832966900]: TF_REPEATED_DATA ignoring data with redundant timestamp for frame odom at time 4428.918000 according to authority /pose_integrator\u001b[0m\n",
      "\u001b[33m[ WARN] [1702923382.833005281]: TF_REPEATED_DATA ignoring data with redundant timestamp for frame odom at time 4428.918000 according to authority /pose_integrator\u001b[0m\n",
      "\u001b[33m[ WARN] [1702923382.833043363]: TF_REPEATED_DATA ignoring data with redundant timestamp for frame odom at time 4428.918000 according to authority /pose_integrator\u001b[0m\n",
      "\u001b[33m[ WARN] [1702923382.833080821]: TF_REPEATED_DATA ignoring data with redundant timestamp for frame odom at time 4428.918000 according to authority /pose_integrator\u001b[0m\n",
      "\u001b[33m[ WARN] [1702923382.833112450]: TF_REPEATED_DATA ignoring data with redundant timestamp for frame odom at time 4428.918000 according to authority /pose_integrator\u001b[0m\n"
     ]
    },
    {
     "name": "stderr",
     "output_type": "stream",
     "text": [
      "\u001b[33m[ WARN] [1702923385.365813243]: TF_REPEATED_DATA ignoring data with redundant timestamp for frame odom at time 4430.009000 according to authority /pose_integrator\u001b[0m\n",
      "\u001b[33m[ WARN] [1702923385.365867845]: TF_REPEATED_DATA ignoring data with redundant timestamp for frame odom at time 4430.009000 according to authority /pose_integrator\u001b[0m\n",
      "\u001b[33m[ WARN] [1702923385.365910079]: TF_REPEATED_DATA ignoring data with redundant timestamp for frame odom at time 4430.009000 according to authority /pose_integrator\u001b[0m\n",
      "\u001b[33m[ WARN] [1702923385.365947981]: TF_REPEATED_DATA ignoring data with redundant timestamp for frame odom at time 4430.009000 according to authority /pose_integrator\u001b[0m\n",
      "\u001b[33m[ WARN] [1702923385.365986239]: TF_REPEATED_DATA ignoring data with redundant timestamp for frame odom at time 4430.009000 according to authority /pose_integrator\u001b[0m\n",
      "\u001b[33m[ WARN] [1702923385.366024482]: TF_REPEATED_DATA ignoring data with redundant timestamp for frame odom at time 4430.009000 according to authority /pose_integrator\u001b[0m\n",
      "\u001b[33m[ WARN] [1702923387.750095772]: TF_REPEATED_DATA ignoring data with redundant timestamp for frame odom at time 4431.145000 according to authority /pose_integrator\u001b[0m\n",
      "\u001b[33m[ WARN] [1702923387.750140797]: TF_REPEATED_DATA ignoring data with redundant timestamp for frame odom at time 4431.145000 according to authority /pose_integrator\u001b[0m\n",
      "\u001b[33m[ WARN] [1702923387.750168057]: TF_REPEATED_DATA ignoring data with redundant timestamp for frame odom at time 4431.145000 according to authority /pose_integrator\u001b[0m\n",
      "\u001b[33m[ WARN] [1702923387.750200218]: TF_REPEATED_DATA ignoring data with redundant timestamp for frame odom at time 4431.145000 according to authority /pose_integrator\u001b[0m\n",
      "\u001b[33m[ WARN] [1702923387.750234603]: TF_REPEATED_DATA ignoring data with redundant timestamp for frame odom at time 4431.145000 according to authority /pose_integrator\u001b[0m\n",
      "\u001b[33m[ WARN] [1702923387.750261057]: TF_REPEATED_DATA ignoring data with redundant timestamp for frame odom at time 4431.145000 according to authority /pose_integrator\u001b[0m\n",
      "\u001b[33m[ WARN] [1702923389.167923253]: TF_REPEATED_DATA ignoring data with redundant timestamp for frame odom at time 4431.809000 according to authority /pose_integrator\u001b[0m\n",
      "\u001b[33m[ WARN] [1702923389.167977686]: TF_REPEATED_DATA ignoring data with redundant timestamp for frame odom at time 4431.809000 according to authority /pose_integrator\u001b[0m\n",
      "\u001b[33m[ WARN] [1702923389.168014789]: TF_REPEATED_DATA ignoring data with redundant timestamp for frame odom at time 4431.809000 according to authority /pose_integrator\u001b[0m\n",
      "\u001b[33m[ WARN] [1702923389.168051572]: TF_REPEATED_DATA ignoring data with redundant timestamp for frame odom at time 4431.809000 according to authority /pose_integrator\u001b[0m\n",
      "\u001b[33m[ WARN] [1702923389.168087541]: TF_REPEATED_DATA ignoring data with redundant timestamp for frame odom at time 4431.809000 according to authority /pose_integrator\u001b[0m\n",
      "\u001b[33m[ WARN] [1702923389.168120040]: TF_REPEATED_DATA ignoring data with redundant timestamp for frame odom at time 4431.809000 according to authority /pose_integrator\u001b[0m\n",
      "\u001b[33m[ WARN] [1702923400.129826114]: TF_REPEATED_DATA ignoring data with redundant timestamp for frame odom at time 4436.469000 according to authority /pose_integrator\u001b[0m\n",
      "\u001b[33m[ WARN] [1702923400.129876265]: TF_REPEATED_DATA ignoring data with redundant timestamp for frame odom at time 4436.469000 according to authority /pose_integrator\u001b[0m\n",
      "\u001b[33m[ WARN] [1702923400.129906000]: TF_REPEATED_DATA ignoring data with redundant timestamp for frame odom at time 4436.469000 according to authority /pose_integrator\u001b[0m\n",
      "\u001b[33m[ WARN] [1702923400.129931326]: TF_REPEATED_DATA ignoring data with redundant timestamp for frame odom at time 4436.469000 according to authority /pose_integrator\u001b[0m\n",
      "\u001b[33m[ WARN] [1702923400.129960688]: TF_REPEATED_DATA ignoring data with redundant timestamp for frame odom at time 4436.469000 according to authority /pose_integrator\u001b[0m\n",
      "\u001b[33m[ WARN] [1702923400.129989936]: TF_REPEATED_DATA ignoring data with redundant timestamp for frame odom at time 4436.469000 according to authority /pose_integrator\u001b[0m\n",
      "\u001b[33m[ WARN] [1702923405.303703268]: TF_REPEATED_DATA ignoring data with redundant timestamp for frame odom at time 4438.839000 according to authority /pose_integrator\u001b[0m\n",
      "\u001b[33m[ WARN] [1702923405.303765501]: TF_REPEATED_DATA ignoring data with redundant timestamp for frame odom at time 4438.839000 according to authority /pose_integrator\u001b[0m\n",
      "\u001b[33m[ WARN] [1702923405.303802005]: TF_REPEATED_DATA ignoring data with redundant timestamp for frame odom at time 4438.839000 according to authority /pose_integrator\u001b[0m\n",
      "\u001b[33m[ WARN] [1702923405.303837518]: TF_REPEATED_DATA ignoring data with redundant timestamp for frame odom at time 4438.839000 according to authority /pose_integrator\u001b[0m\n",
      "\u001b[33m[ WARN] [1702923405.303866822]: TF_REPEATED_DATA ignoring data with redundant timestamp for frame odom at time 4438.839000 according to authority /pose_integrator\u001b[0m\n",
      "\u001b[33m[ WARN] [1702923405.303895396]: TF_REPEATED_DATA ignoring data with redundant timestamp for frame odom at time 4438.839000 according to authority /pose_integrator\u001b[0m\n",
      "\u001b[33m[ WARN] [1702923405.471191315]: TF_REPEATED_DATA ignoring data with redundant timestamp for frame odom at time 4438.942000 according to authority /pose_integrator\u001b[0m\n",
      "\u001b[33m[ WARN] [1702923405.471246656]: TF_REPEATED_DATA ignoring data with redundant timestamp for frame odom at time 4438.942000 according to authority /pose_integrator\u001b[0m\n",
      "\u001b[33m[ WARN] [1702923405.471288317]: TF_REPEATED_DATA ignoring data with redundant timestamp for frame odom at time 4438.942000 according to authority /pose_integrator\u001b[0m\n",
      "\u001b[33m[ WARN] [1702923405.471324545]: TF_REPEATED_DATA ignoring data with redundant timestamp for frame odom at time 4438.942000 according to authority /pose_integrator\u001b[0m\n",
      "\u001b[33m[ WARN] [1702923405.471359911]: TF_REPEATED_DATA ignoring data with redundant timestamp for frame odom at time 4438.942000 according to authority /pose_integrator\u001b[0m\n",
      "\u001b[33m[ WARN] [1702923405.471396031]: TF_REPEATED_DATA ignoring data with redundant timestamp for frame odom at time 4438.942000 according to authority /pose_integrator\u001b[0m\n",
      "\u001b[33m[ WARN] [1702923408.139534456]: TF_REPEATED_DATA ignoring data with redundant timestamp for frame odom at time 4440.137000 according to authority /pose_integrator\u001b[0m\n",
      "\u001b[33m[ WARN] [1702923408.139599161]: TF_REPEATED_DATA ignoring data with redundant timestamp for frame odom at time 4440.137000 according to authority /pose_integrator\u001b[0m\n",
      "\u001b[33m[ WARN] [1702923408.139629890]: TF_REPEATED_DATA ignoring data with redundant timestamp for frame odom at time 4440.137000 according to authority /pose_integrator\u001b[0m\n",
      "\u001b[33m[ WARN] [1702923408.139657527]: TF_REPEATED_DATA ignoring data with redundant timestamp for frame odom at time 4440.137000 according to authority /pose_integrator\u001b[0m\n",
      "\u001b[33m[ WARN] [1702923408.139684737]: TF_REPEATED_DATA ignoring data with redundant timestamp for frame odom at time 4440.137000 according to authority /pose_integrator\u001b[0m\n",
      "\u001b[33m[ WARN] [1702923408.139726794]: TF_REPEATED_DATA ignoring data with redundant timestamp for frame odom at time 4440.137000 according to authority /pose_integrator\u001b[0m\n",
      "\u001b[33m[ WARN] [1702923408.447686973]: TF_REPEATED_DATA ignoring data with redundant timestamp for frame odom at time 4440.319000 according to authority /pose_integrator\u001b[0m\n",
      "\u001b[33m[ WARN] [1702923408.447732851]: TF_REPEATED_DATA ignoring data with redundant timestamp for frame odom at time 4440.319000 according to authority /pose_integrator\u001b[0m\n",
      "\u001b[33m[ WARN] [1702923408.447758573]: TF_REPEATED_DATA ignoring data with redundant timestamp for frame odom at time 4440.319000 according to authority /pose_integrator\u001b[0m\n",
      "\u001b[33m[ WARN] [1702923408.447782164]: TF_REPEATED_DATA ignoring data with redundant timestamp for frame odom at time 4440.319000 according to authority /pose_integrator\u001b[0m\n",
      "\u001b[33m[ WARN] [1702923408.447807509]: TF_REPEATED_DATA ignoring data with redundant timestamp for frame odom at time 4440.319000 according to authority /pose_integrator\u001b[0m\n",
      "\u001b[33m[ WARN] [1702923408.447835691]: TF_REPEATED_DATA ignoring data with redundant timestamp for frame odom at time 4440.319000 according to authority /pose_integrator\u001b[0m\n"
     ]
    },
    {
     "name": "stderr",
     "output_type": "stream",
     "text": [
      "\u001b[33m[ WARN] [1702923409.517714151]: TF_REPEATED_DATA ignoring data with redundant timestamp for frame odom at time 4440.860000 according to authority /pose_integrator\u001b[0m\n",
      "\u001b[33m[ WARN] [1702923409.517780197]: TF_REPEATED_DATA ignoring data with redundant timestamp for frame odom at time 4440.860000 according to authority /pose_integrator\u001b[0m\n",
      "\u001b[33m[ WARN] [1702923409.517838802]: TF_REPEATED_DATA ignoring data with redundant timestamp for frame odom at time 4440.860000 according to authority /pose_integrator\u001b[0m\n",
      "\u001b[33m[ WARN] [1702923409.517877814]: TF_REPEATED_DATA ignoring data with redundant timestamp for frame odom at time 4440.860000 according to authority /pose_integrator\u001b[0m\n",
      "\u001b[33m[ WARN] [1702923409.517916045]: TF_REPEATED_DATA ignoring data with redundant timestamp for frame odom at time 4440.860000 according to authority /pose_integrator\u001b[0m\n",
      "\u001b[33m[ WARN] [1702923409.517957418]: TF_REPEATED_DATA ignoring data with redundant timestamp for frame odom at time 4440.860000 according to authority /pose_integrator\u001b[0m\n",
      "\u001b[33m[ WARN] [1702923410.094503102]: TF_REPEATED_DATA ignoring data with redundant timestamp for frame odom at time 4441.161000 according to authority /pose_integrator\u001b[0m\n",
      "\u001b[33m[ WARN] [1702923410.094564681]: TF_REPEATED_DATA ignoring data with redundant timestamp for frame odom at time 4441.161000 according to authority /pose_integrator\u001b[0m\n",
      "\u001b[33m[ WARN] [1702923410.094601725]: TF_REPEATED_DATA ignoring data with redundant timestamp for frame odom at time 4441.161000 according to authority /pose_integrator\u001b[0m\n",
      "\u001b[33m[ WARN] [1702923410.094642534]: TF_REPEATED_DATA ignoring data with redundant timestamp for frame odom at time 4441.161000 according to authority /pose_integrator\u001b[0m\n",
      "\u001b[33m[ WARN] [1702923410.094680417]: TF_REPEATED_DATA ignoring data with redundant timestamp for frame odom at time 4441.161000 according to authority /pose_integrator\u001b[0m\n",
      "\u001b[33m[ WARN] [1702923410.094714407]: TF_REPEATED_DATA ignoring data with redundant timestamp for frame odom at time 4441.161000 according to authority /pose_integrator\u001b[0m\n",
      "\u001b[33m[ WARN] [1702923412.100894925]: TF_REPEATED_DATA ignoring data with redundant timestamp for frame odom at time 4442.151000 according to authority /pose_integrator\u001b[0m\n",
      "\u001b[33m[ WARN] [1702923412.100954746]: TF_REPEATED_DATA ignoring data with redundant timestamp for frame odom at time 4442.151000 according to authority /pose_integrator\u001b[0m\n",
      "\u001b[33m[ WARN] [1702923412.101002118]: TF_REPEATED_DATA ignoring data with redundant timestamp for frame odom at time 4442.151000 according to authority /pose_integrator\u001b[0m\n",
      "\u001b[33m[ WARN] [1702923412.101038378]: TF_REPEATED_DATA ignoring data with redundant timestamp for frame odom at time 4442.151000 according to authority /pose_integrator\u001b[0m\n",
      "\u001b[33m[ WARN] [1702923412.101064801]: TF_REPEATED_DATA ignoring data with redundant timestamp for frame odom at time 4442.151000 according to authority /pose_integrator\u001b[0m\n",
      "\u001b[33m[ WARN] [1702923412.101088424]: TF_REPEATED_DATA ignoring data with redundant timestamp for frame odom at time 4442.151000 according to authority /pose_integrator\u001b[0m\n",
      "\u001b[33m[ WARN] [1702923423.169207050]: TF_REPEATED_DATA ignoring data with redundant timestamp for frame odom at time 4447.050000 according to authority /pose_integrator\u001b[0m\n",
      "\u001b[33m[ WARN] [1702923423.169251769]: TF_REPEATED_DATA ignoring data with redundant timestamp for frame odom at time 4447.050000 according to authority /pose_integrator\u001b[0m\n",
      "\u001b[33m[ WARN] [1702923423.169277412]: TF_REPEATED_DATA ignoring data with redundant timestamp for frame odom at time 4447.050000 according to authority /pose_integrator\u001b[0m\n",
      "\u001b[33m[ WARN] [1702923423.169300760]: TF_REPEATED_DATA ignoring data with redundant timestamp for frame odom at time 4447.050000 according to authority /pose_integrator\u001b[0m\n",
      "\u001b[33m[ WARN] [1702923423.169323621]: TF_REPEATED_DATA ignoring data with redundant timestamp for frame odom at time 4447.050000 according to authority /pose_integrator\u001b[0m\n",
      "\u001b[33m[ WARN] [1702923423.169346169]: TF_REPEATED_DATA ignoring data with redundant timestamp for frame odom at time 4447.050000 according to authority /pose_integrator\u001b[0m\n",
      "\u001b[33m[ WARN] [1702923427.155489483]: TF_REPEATED_DATA ignoring data with redundant timestamp for frame odom at time 4448.855000 according to authority /pose_integrator\u001b[0m\n",
      "\u001b[33m[ WARN] [1702923427.155535340]: TF_REPEATED_DATA ignoring data with redundant timestamp for frame odom at time 4448.855000 according to authority /pose_integrator\u001b[0m\n",
      "\u001b[33m[ WARN] [1702923427.155570652]: TF_REPEATED_DATA ignoring data with redundant timestamp for frame odom at time 4448.855000 according to authority /pose_integrator\u001b[0m\n",
      "\u001b[33m[ WARN] [1702923427.155610206]: TF_REPEATED_DATA ignoring data with redundant timestamp for frame odom at time 4448.855000 according to authority /pose_integrator\u001b[0m\n",
      "\u001b[33m[ WARN] [1702923427.155648753]: TF_REPEATED_DATA ignoring data with redundant timestamp for frame odom at time 4448.855000 according to authority /pose_integrator\u001b[0m\n",
      "\u001b[33m[ WARN] [1702923427.155680505]: TF_REPEATED_DATA ignoring data with redundant timestamp for frame odom at time 4448.855000 according to authority /pose_integrator\u001b[0m\n",
      "\u001b[33m[ WARN] [1702923428.219774242]: TF_REPEATED_DATA ignoring data with redundant timestamp for frame odom at time 4449.323000 according to authority /pose_integrator\u001b[0m\n",
      "\u001b[33m[ WARN] [1702923428.219816930]: TF_REPEATED_DATA ignoring data with redundant timestamp for frame odom at time 4449.323000 according to authority /pose_integrator\u001b[0m\n",
      "\u001b[33m[ WARN] [1702923428.219851400]: TF_REPEATED_DATA ignoring data with redundant timestamp for frame odom at time 4449.323000 according to authority /pose_integrator\u001b[0m\n",
      "\u001b[33m[ WARN] [1702923428.219891380]: TF_REPEATED_DATA ignoring data with redundant timestamp for frame odom at time 4449.323000 according to authority /pose_integrator\u001b[0m\n",
      "\u001b[33m[ WARN] [1702923428.219930319]: TF_REPEATED_DATA ignoring data with redundant timestamp for frame odom at time 4449.323000 according to authority /pose_integrator\u001b[0m\n",
      "\u001b[33m[ WARN] [1702923428.219965557]: TF_REPEATED_DATA ignoring data with redundant timestamp for frame odom at time 4449.323000 according to authority /pose_integrator\u001b[0m\n",
      "\u001b[33m[ WARN] [1702923428.792403591]: TF_REPEATED_DATA ignoring data with redundant timestamp for frame odom at time 4449.565000 according to authority /pose_integrator\u001b[0m\n",
      "\u001b[33m[ WARN] [1702923428.792460700]: TF_REPEATED_DATA ignoring data with redundant timestamp for frame odom at time 4449.565000 according to authority /pose_integrator\u001b[0m\n",
      "\u001b[33m[ WARN] [1702923428.792504142]: TF_REPEATED_DATA ignoring data with redundant timestamp for frame odom at time 4449.565000 according to authority /pose_integrator\u001b[0m\n",
      "\u001b[33m[ WARN] [1702923428.792546919]: TF_REPEATED_DATA ignoring data with redundant timestamp for frame odom at time 4449.565000 according to authority /pose_integrator\u001b[0m\n",
      "\u001b[33m[ WARN] [1702923428.792587540]: TF_REPEATED_DATA ignoring data with redundant timestamp for frame odom at time 4449.565000 according to authority /pose_integrator\u001b[0m\n",
      "\u001b[33m[ WARN] [1702923428.792631180]: TF_REPEATED_DATA ignoring data with redundant timestamp for frame odom at time 4449.565000 according to authority /pose_integrator\u001b[0m\n",
      "\u001b[33m[ WARN] [1702923428.942328926]: TF_REPEATED_DATA ignoring data with redundant timestamp for frame odom at time 4449.646000 according to authority /pose_integrator\u001b[0m\n",
      "\u001b[33m[ WARN] [1702923428.942386647]: TF_REPEATED_DATA ignoring data with redundant timestamp for frame odom at time 4449.646000 according to authority /pose_integrator\u001b[0m\n",
      "\u001b[33m[ WARN] [1702923428.942424275]: TF_REPEATED_DATA ignoring data with redundant timestamp for frame odom at time 4449.646000 according to authority /pose_integrator\u001b[0m\n",
      "\u001b[33m[ WARN] [1702923428.942465062]: TF_REPEATED_DATA ignoring data with redundant timestamp for frame odom at time 4449.646000 according to authority /pose_integrator\u001b[0m\n",
      "\u001b[33m[ WARN] [1702923428.942496083]: TF_REPEATED_DATA ignoring data with redundant timestamp for frame odom at time 4449.646000 according to authority /pose_integrator\u001b[0m\n",
      "\u001b[33m[ WARN] [1702923428.942527671]: TF_REPEATED_DATA ignoring data with redundant timestamp for frame odom at time 4449.646000 according to authority /pose_integrator\u001b[0m\n"
     ]
    },
    {
     "name": "stderr",
     "output_type": "stream",
     "text": [
      "\u001b[33m[ WARN] [1702923430.104271358]: TF_REPEATED_DATA ignoring data with redundant timestamp for frame odom at time 4450.168000 according to authority /pose_integrator\u001b[0m\n",
      "\u001b[33m[ WARN] [1702923430.104331338]: TF_REPEATED_DATA ignoring data with redundant timestamp for frame odom at time 4450.168000 according to authority /pose_integrator\u001b[0m\n",
      "\u001b[33m[ WARN] [1702923430.104376141]: TF_REPEATED_DATA ignoring data with redundant timestamp for frame odom at time 4450.168000 according to authority /pose_integrator\u001b[0m\n",
      "\u001b[33m[ WARN] [1702923430.104410302]: TF_REPEATED_DATA ignoring data with redundant timestamp for frame odom at time 4450.168000 according to authority /pose_integrator\u001b[0m\n",
      "\u001b[33m[ WARN] [1702923430.104449852]: TF_REPEATED_DATA ignoring data with redundant timestamp for frame odom at time 4450.168000 according to authority /pose_integrator\u001b[0m\n",
      "\u001b[33m[ WARN] [1702923430.104492580]: TF_REPEATED_DATA ignoring data with redundant timestamp for frame odom at time 4450.168000 according to authority /pose_integrator\u001b[0m\n",
      "\u001b[33m[ WARN] [1702923433.518901642]: TF_REPEATED_DATA ignoring data with redundant timestamp for frame odom at time 4451.770000 according to authority /pose_integrator\u001b[0m\n",
      "\u001b[33m[ WARN] [1702923433.518964656]: TF_REPEATED_DATA ignoring data with redundant timestamp for frame odom at time 4451.770000 according to authority /pose_integrator\u001b[0m\n",
      "\u001b[33m[ WARN] [1702923433.519007856]: TF_REPEATED_DATA ignoring data with redundant timestamp for frame odom at time 4451.770000 according to authority /pose_integrator\u001b[0m\n",
      "\u001b[33m[ WARN] [1702923433.519047793]: TF_REPEATED_DATA ignoring data with redundant timestamp for frame odom at time 4451.770000 according to authority /pose_integrator\u001b[0m\n",
      "\u001b[33m[ WARN] [1702923433.519089531]: TF_REPEATED_DATA ignoring data with redundant timestamp for frame odom at time 4451.770000 according to authority /pose_integrator\u001b[0m\n",
      "\u001b[33m[ WARN] [1702923433.519126273]: TF_REPEATED_DATA ignoring data with redundant timestamp for frame odom at time 4451.770000 according to authority /pose_integrator\u001b[0m\n",
      "\u001b[33m[ WARN] [1702923435.367657314]: TF_REPEATED_DATA ignoring data with redundant timestamp for frame odom at time 4452.693000 according to authority /pose_integrator\u001b[0m\n",
      "\u001b[33m[ WARN] [1702923435.367704057]: TF_REPEATED_DATA ignoring data with redundant timestamp for frame odom at time 4452.693000 according to authority /pose_integrator\u001b[0m\n",
      "\u001b[33m[ WARN] [1702923435.367730069]: TF_REPEATED_DATA ignoring data with redundant timestamp for frame odom at time 4452.693000 according to authority /pose_integrator\u001b[0m\n",
      "\u001b[33m[ WARN] [1702923435.367757488]: TF_REPEATED_DATA ignoring data with redundant timestamp for frame odom at time 4452.693000 according to authority /pose_integrator\u001b[0m\n",
      "\u001b[33m[ WARN] [1702923435.367781490]: TF_REPEATED_DATA ignoring data with redundant timestamp for frame odom at time 4452.693000 according to authority /pose_integrator\u001b[0m\n",
      "\u001b[33m[ WARN] [1702923435.367804487]: TF_REPEATED_DATA ignoring data with redundant timestamp for frame odom at time 4452.693000 according to authority /pose_integrator\u001b[0m\n",
      "\u001b[33m[ WARN] [1702923436.234837227]: TF_REPEATED_DATA ignoring data with redundant timestamp for frame odom at time 4453.107000 according to authority /pose_integrator\u001b[0m\n",
      "\u001b[33m[ WARN] [1702923436.234890743]: TF_REPEATED_DATA ignoring data with redundant timestamp for frame odom at time 4453.107000 according to authority /pose_integrator\u001b[0m\n",
      "\u001b[33m[ WARN] [1702923436.234926106]: TF_REPEATED_DATA ignoring data with redundant timestamp for frame odom at time 4453.107000 according to authority /pose_integrator\u001b[0m\n",
      "\u001b[33m[ WARN] [1702923436.234965678]: TF_REPEATED_DATA ignoring data with redundant timestamp for frame odom at time 4453.107000 according to authority /pose_integrator\u001b[0m\n",
      "\u001b[33m[ WARN] [1702923436.235005501]: TF_REPEATED_DATA ignoring data with redundant timestamp for frame odom at time 4453.107000 according to authority /pose_integrator\u001b[0m\n",
      "\u001b[33m[ WARN] [1702923436.235047544]: TF_REPEATED_DATA ignoring data with redundant timestamp for frame odom at time 4453.107000 according to authority /pose_integrator\u001b[0m\n",
      "\u001b[33m[ WARN] [1702923436.500092515]: TF_REPEATED_DATA ignoring data with redundant timestamp for frame odom at time 4453.234000 according to authority /pose_integrator\u001b[0m\n",
      "\u001b[33m[ WARN] [1702923436.500160310]: TF_REPEATED_DATA ignoring data with redundant timestamp for frame odom at time 4453.234000 according to authority /pose_integrator\u001b[0m\n",
      "\u001b[33m[ WARN] [1702923436.500205141]: TF_REPEATED_DATA ignoring data with redundant timestamp for frame odom at time 4453.234000 according to authority /pose_integrator\u001b[0m\n",
      "\u001b[33m[ WARN] [1702923436.500249215]: TF_REPEATED_DATA ignoring data with redundant timestamp for frame odom at time 4453.234000 according to authority /pose_integrator\u001b[0m\n",
      "\u001b[33m[ WARN] [1702923436.500331221]: TF_REPEATED_DATA ignoring data with redundant timestamp for frame odom at time 4453.234000 according to authority /pose_integrator\u001b[0m\n",
      "\u001b[33m[ WARN] [1702923436.500384002]: TF_REPEATED_DATA ignoring data with redundant timestamp for frame odom at time 4453.234000 according to authority /pose_integrator\u001b[0m\n",
      "\u001b[33m[ WARN] [1702923437.011507094]: TF_REPEATED_DATA ignoring data with redundant timestamp for frame odom at time 4453.475000 according to authority /pose_integrator\u001b[0m\n",
      "\u001b[33m[ WARN] [1702923437.011572871]: TF_REPEATED_DATA ignoring data with redundant timestamp for frame odom at time 4453.475000 according to authority /pose_integrator\u001b[0m\n",
      "\u001b[33m[ WARN] [1702923437.011603713]: TF_REPEATED_DATA ignoring data with redundant timestamp for frame odom at time 4453.475000 according to authority /pose_integrator\u001b[0m\n",
      "\u001b[33m[ WARN] [1702923437.011633036]: TF_REPEATED_DATA ignoring data with redundant timestamp for frame odom at time 4453.475000 according to authority /pose_integrator\u001b[0m\n",
      "\u001b[33m[ WARN] [1702923437.011668105]: TF_REPEATED_DATA ignoring data with redundant timestamp for frame odom at time 4453.475000 according to authority /pose_integrator\u001b[0m\n",
      "\u001b[33m[ WARN] [1702923437.011702065]: TF_REPEATED_DATA ignoring data with redundant timestamp for frame odom at time 4453.475000 according to authority /pose_integrator\u001b[0m\n",
      "\u001b[33m[ WARN] [1702923437.850071912]: TF_REPEATED_DATA ignoring data with redundant timestamp for frame odom at time 4453.853000 according to authority /pose_integrator\u001b[0m\n",
      "\u001b[33m[ WARN] [1702923437.850116884]: TF_REPEATED_DATA ignoring data with redundant timestamp for frame odom at time 4453.853000 according to authority /pose_integrator\u001b[0m\n",
      "\u001b[33m[ WARN] [1702923437.850144226]: TF_REPEATED_DATA ignoring data with redundant timestamp for frame odom at time 4453.853000 according to authority /pose_integrator\u001b[0m\n",
      "\u001b[33m[ WARN] [1702923437.850168582]: TF_REPEATED_DATA ignoring data with redundant timestamp for frame odom at time 4453.853000 according to authority /pose_integrator\u001b[0m\n",
      "\u001b[33m[ WARN] [1702923437.850193125]: TF_REPEATED_DATA ignoring data with redundant timestamp for frame odom at time 4453.853000 according to authority /pose_integrator\u001b[0m\n",
      "\u001b[33m[ WARN] [1702923437.850217302]: TF_REPEATED_DATA ignoring data with redundant timestamp for frame odom at time 4453.853000 according to authority /pose_integrator\u001b[0m\n",
      "\u001b[33m[ WARN] [1702923438.258033622]: TF_REPEATED_DATA ignoring data with redundant timestamp for frame odom at time 4454.033000 according to authority /pose_integrator\u001b[0m\n",
      "\u001b[33m[ WARN] [1702923438.258077358]: TF_REPEATED_DATA ignoring data with redundant timestamp for frame odom at time 4454.033000 according to authority /pose_integrator\u001b[0m\n",
      "\u001b[33m[ WARN] [1702923438.258101135]: TF_REPEATED_DATA ignoring data with redundant timestamp for frame odom at time 4454.033000 according to authority /pose_integrator\u001b[0m\n",
      "\u001b[33m[ WARN] [1702923438.258123073]: TF_REPEATED_DATA ignoring data with redundant timestamp for frame odom at time 4454.033000 according to authority /pose_integrator\u001b[0m\n",
      "\u001b[33m[ WARN] [1702923438.258144499]: TF_REPEATED_DATA ignoring data with redundant timestamp for frame odom at time 4454.033000 according to authority /pose_integrator\u001b[0m\n",
      "\u001b[33m[ WARN] [1702923438.258165672]: TF_REPEATED_DATA ignoring data with redundant timestamp for frame odom at time 4454.033000 according to authority /pose_integrator\u001b[0m\n"
     ]
    },
    {
     "name": "stderr",
     "output_type": "stream",
     "text": [
      "\u001b[33m[ WARN] [1702923438.903564405]: TF_REPEATED_DATA ignoring data with redundant timestamp for frame odom at time 4454.330000 according to authority /pose_integrator\u001b[0m\n",
      "\u001b[33m[ WARN] [1702923438.903618696]: TF_REPEATED_DATA ignoring data with redundant timestamp for frame odom at time 4454.330000 according to authority /pose_integrator\u001b[0m\n",
      "\u001b[33m[ WARN] [1702923438.903662433]: TF_REPEATED_DATA ignoring data with redundant timestamp for frame odom at time 4454.330000 according to authority /pose_integrator\u001b[0m\n",
      "\u001b[33m[ WARN] [1702923438.903716917]: TF_REPEATED_DATA ignoring data with redundant timestamp for frame odom at time 4454.330000 according to authority /pose_integrator\u001b[0m\n",
      "\u001b[33m[ WARN] [1702923438.903753516]: TF_REPEATED_DATA ignoring data with redundant timestamp for frame odom at time 4454.330000 according to authority /pose_integrator\u001b[0m\n",
      "\u001b[33m[ WARN] [1702923438.903794041]: TF_REPEATED_DATA ignoring data with redundant timestamp for frame odom at time 4454.330000 according to authority /pose_integrator\u001b[0m\n",
      "\u001b[33m[ WARN] [1702923441.240641130]: TF_REPEATED_DATA ignoring data with redundant timestamp for frame odom at time 4455.464000 according to authority /pose_integrator\u001b[0m\n",
      "\u001b[33m[ WARN] [1702923441.240715121]: TF_REPEATED_DATA ignoring data with redundant timestamp for frame odom at time 4455.464000 according to authority /pose_integrator\u001b[0m\n",
      "\u001b[33m[ WARN] [1702923441.240749317]: TF_REPEATED_DATA ignoring data with redundant timestamp for frame odom at time 4455.464000 according to authority /pose_integrator\u001b[0m\n",
      "\u001b[33m[ WARN] [1702923441.240780953]: TF_REPEATED_DATA ignoring data with redundant timestamp for frame odom at time 4455.464000 according to authority /pose_integrator\u001b[0m\n",
      "\u001b[33m[ WARN] [1702923441.240811183]: TF_REPEATED_DATA ignoring data with redundant timestamp for frame odom at time 4455.464000 according to authority /pose_integrator\u001b[0m\n",
      "\u001b[33m[ WARN] [1702923441.240844072]: TF_REPEATED_DATA ignoring data with redundant timestamp for frame odom at time 4455.464000 according to authority /pose_integrator\u001b[0m\n",
      "\u001b[33m[ WARN] [1702923442.086074076]: TF_REPEATED_DATA ignoring data with redundant timestamp for frame odom at time 4455.849000 according to authority /pose_integrator\u001b[0m\n",
      "\u001b[33m[ WARN] [1702923442.086329262]: TF_REPEATED_DATA ignoring data with redundant timestamp for frame odom at time 4455.849000 according to authority /pose_integrator\u001b[0m\n",
      "\u001b[33m[ WARN] [1702923442.086368138]: TF_REPEATED_DATA ignoring data with redundant timestamp for frame odom at time 4455.849000 according to authority /pose_integrator\u001b[0m\n",
      "\u001b[33m[ WARN] [1702923442.086394772]: TF_REPEATED_DATA ignoring data with redundant timestamp for frame odom at time 4455.849000 according to authority /pose_integrator\u001b[0m\n",
      "\u001b[33m[ WARN] [1702923442.086418236]: TF_REPEATED_DATA ignoring data with redundant timestamp for frame odom at time 4455.849000 according to authority /pose_integrator\u001b[0m\n",
      "\u001b[33m[ WARN] [1702923442.086446460]: TF_REPEATED_DATA ignoring data with redundant timestamp for frame odom at time 4455.849000 according to authority /pose_integrator\u001b[0m\n",
      "\u001b[33m[ WARN] [1702923442.261531531]: TF_REPEATED_DATA ignoring data with redundant timestamp for frame odom at time 4455.951000 according to authority /pose_integrator\u001b[0m\n",
      "\u001b[33m[ WARN] [1702923442.261583334]: TF_REPEATED_DATA ignoring data with redundant timestamp for frame odom at time 4455.951000 according to authority /pose_integrator\u001b[0m\n",
      "\u001b[33m[ WARN] [1702923442.261615389]: TF_REPEATED_DATA ignoring data with redundant timestamp for frame odom at time 4455.951000 according to authority /pose_integrator\u001b[0m\n",
      "\u001b[33m[ WARN] [1702923442.261643268]: TF_REPEATED_DATA ignoring data with redundant timestamp for frame odom at time 4455.951000 according to authority /pose_integrator\u001b[0m\n",
      "\u001b[33m[ WARN] [1702923442.261669102]: TF_REPEATED_DATA ignoring data with redundant timestamp for frame odom at time 4455.951000 according to authority /pose_integrator\u001b[0m\n",
      "\u001b[33m[ WARN] [1702923442.261700946]: TF_REPEATED_DATA ignoring data with redundant timestamp for frame odom at time 4455.951000 according to authority /pose_integrator\u001b[0m\n",
      "\u001b[33m[ WARN] [1702923442.980028540]: TF_REPEATED_DATA ignoring data with redundant timestamp for frame odom at time 4456.290000 according to authority /pose_integrator\u001b[0m\n",
      "\u001b[33m[ WARN] [1702923442.980072409]: TF_REPEATED_DATA ignoring data with redundant timestamp for frame odom at time 4456.290000 according to authority /pose_integrator\u001b[0m\n",
      "\u001b[33m[ WARN] [1702923442.980102321]: TF_REPEATED_DATA ignoring data with redundant timestamp for frame odom at time 4456.290000 according to authority /pose_integrator\u001b[0m\n",
      "\u001b[33m[ WARN] [1702923442.980136784]: TF_REPEATED_DATA ignoring data with redundant timestamp for frame odom at time 4456.290000 according to authority /pose_integrator\u001b[0m\n",
      "\u001b[33m[ WARN] [1702923442.980165779]: TF_REPEATED_DATA ignoring data with redundant timestamp for frame odom at time 4456.290000 according to authority /pose_integrator\u001b[0m\n",
      "\u001b[33m[ WARN] [1702923442.980193104]: TF_REPEATED_DATA ignoring data with redundant timestamp for frame odom at time 4456.290000 according to authority /pose_integrator\u001b[0m\n",
      "\u001b[33m[ WARN] [1702923443.162981067]: TF_REPEATED_DATA ignoring data with redundant timestamp for frame odom at time 4456.397000 according to authority /pose_integrator\u001b[0m\n",
      "\u001b[33m[ WARN] [1702923443.163021432]: TF_REPEATED_DATA ignoring data with redundant timestamp for frame odom at time 4456.397000 according to authority /pose_integrator\u001b[0m\n",
      "\u001b[33m[ WARN] [1702923443.163050710]: TF_REPEATED_DATA ignoring data with redundant timestamp for frame odom at time 4456.397000 according to authority /pose_integrator\u001b[0m\n",
      "\u001b[33m[ WARN] [1702923443.163079000]: TF_REPEATED_DATA ignoring data with redundant timestamp for frame odom at time 4456.397000 according to authority /pose_integrator\u001b[0m\n",
      "\u001b[33m[ WARN] [1702923443.163104570]: TF_REPEATED_DATA ignoring data with redundant timestamp for frame odom at time 4456.397000 according to authority /pose_integrator\u001b[0m\n",
      "\u001b[33m[ WARN] [1702923443.163129590]: TF_REPEATED_DATA ignoring data with redundant timestamp for frame odom at time 4456.397000 according to authority /pose_integrator\u001b[0m\n",
      "\u001b[33m[ WARN] [1702923443.384043475]: TF_REPEATED_DATA ignoring data with redundant timestamp for frame odom at time 4456.503000 according to authority /pose_integrator\u001b[0m\n",
      "\u001b[33m[ WARN] [1702923443.384108768]: TF_REPEATED_DATA ignoring data with redundant timestamp for frame odom at time 4456.503000 according to authority /pose_integrator\u001b[0m\n",
      "\u001b[33m[ WARN] [1702923443.384150271]: TF_REPEATED_DATA ignoring data with redundant timestamp for frame odom at time 4456.503000 according to authority /pose_integrator\u001b[0m\n",
      "\u001b[33m[ WARN] [1702923443.384192613]: TF_REPEATED_DATA ignoring data with redundant timestamp for frame odom at time 4456.503000 according to authority /pose_integrator\u001b[0m\n",
      "\u001b[33m[ WARN] [1702923443.384232129]: TF_REPEATED_DATA ignoring data with redundant timestamp for frame odom at time 4456.503000 according to authority /pose_integrator\u001b[0m\n",
      "\u001b[33m[ WARN] [1702923443.384288717]: TF_REPEATED_DATA ignoring data with redundant timestamp for frame odom at time 4456.503000 according to authority /pose_integrator\u001b[0m\n",
      "\u001b[33m[ WARN] [1702923445.593512840]: TF_REPEATED_DATA ignoring data with redundant timestamp for frame odom at time 4457.490000 according to authority /pose_integrator\u001b[0m\n",
      "\u001b[33m[ WARN] [1702923445.593567907]: TF_REPEATED_DATA ignoring data with redundant timestamp for frame odom at time 4457.490000 according to authority /pose_integrator\u001b[0m\n",
      "\u001b[33m[ WARN] [1702923445.593599727]: TF_REPEATED_DATA ignoring data with redundant timestamp for frame odom at time 4457.490000 according to authority /pose_integrator\u001b[0m\n",
      "\u001b[33m[ WARN] [1702923445.593628129]: TF_REPEATED_DATA ignoring data with redundant timestamp for frame odom at time 4457.490000 according to authority /pose_integrator\u001b[0m\n",
      "\u001b[33m[ WARN] [1702923445.593656851]: TF_REPEATED_DATA ignoring data with redundant timestamp for frame odom at time 4457.490000 according to authority /pose_integrator\u001b[0m\n",
      "\u001b[33m[ WARN] [1702923445.593683548]: TF_REPEATED_DATA ignoring data with redundant timestamp for frame odom at time 4457.490000 according to authority /pose_integrator\u001b[0m\n"
     ]
    },
    {
     "name": "stderr",
     "output_type": "stream",
     "text": [
      "\u001b[33m[ WARN] [1702923447.532763553]: TF_REPEATED_DATA ignoring data with redundant timestamp for frame odom at time 4458.288000 according to authority /pose_integrator\u001b[0m\n",
      "\u001b[33m[ WARN] [1702923447.532815887]: TF_REPEATED_DATA ignoring data with redundant timestamp for frame odom at time 4458.288000 according to authority /pose_integrator\u001b[0m\n",
      "\u001b[33m[ WARN] [1702923447.532842822]: TF_REPEATED_DATA ignoring data with redundant timestamp for frame odom at time 4458.288000 according to authority /pose_integrator\u001b[0m\n",
      "\u001b[33m[ WARN] [1702923447.532867033]: TF_REPEATED_DATA ignoring data with redundant timestamp for frame odom at time 4458.288000 according to authority /pose_integrator\u001b[0m\n",
      "\u001b[33m[ WARN] [1702923447.532890591]: TF_REPEATED_DATA ignoring data with redundant timestamp for frame odom at time 4458.288000 according to authority /pose_integrator\u001b[0m\n",
      "\u001b[33m[ WARN] [1702923447.532914452]: TF_REPEATED_DATA ignoring data with redundant timestamp for frame odom at time 4458.288000 according to authority /pose_integrator\u001b[0m\n",
      "\u001b[33m[ WARN] [1702923456.087640933]: TF_REPEATED_DATA ignoring data with redundant timestamp for frame odom at time 4462.100000 according to authority /pose_integrator\u001b[0m\n",
      "\u001b[33m[ WARN] [1702923456.087694423]: TF_REPEATED_DATA ignoring data with redundant timestamp for frame odom at time 4462.100000 according to authority /pose_integrator\u001b[0m\n",
      "\u001b[33m[ WARN] [1702923456.087736122]: TF_REPEATED_DATA ignoring data with redundant timestamp for frame odom at time 4462.100000 according to authority /pose_integrator\u001b[0m\n",
      "\u001b[33m[ WARN] [1702923456.087774267]: TF_REPEATED_DATA ignoring data with redundant timestamp for frame odom at time 4462.100000 according to authority /pose_integrator\u001b[0m\n",
      "\u001b[33m[ WARN] [1702923456.087813859]: TF_REPEATED_DATA ignoring data with redundant timestamp for frame odom at time 4462.100000 according to authority /pose_integrator\u001b[0m\n",
      "\u001b[33m[ WARN] [1702923456.087854128]: TF_REPEATED_DATA ignoring data with redundant timestamp for frame odom at time 4462.100000 according to authority /pose_integrator\u001b[0m\n",
      "\u001b[33m[ WARN] [1702923460.224739547]: TF_REPEATED_DATA ignoring data with redundant timestamp for frame odom at time 4463.886000 according to authority /pose_integrator\u001b[0m\n",
      "\u001b[33m[ WARN] [1702923460.224796244]: TF_REPEATED_DATA ignoring data with redundant timestamp for frame odom at time 4463.886000 according to authority /pose_integrator\u001b[0m\n",
      "\u001b[33m[ WARN] [1702923460.224841502]: TF_REPEATED_DATA ignoring data with redundant timestamp for frame odom at time 4463.886000 according to authority /pose_integrator\u001b[0m\n",
      "\u001b[33m[ WARN] [1702923460.224887072]: TF_REPEATED_DATA ignoring data with redundant timestamp for frame odom at time 4463.886000 according to authority /pose_integrator\u001b[0m\n",
      "\u001b[33m[ WARN] [1702923460.224929615]: TF_REPEATED_DATA ignoring data with redundant timestamp for frame odom at time 4463.886000 according to authority /pose_integrator\u001b[0m\n",
      "\u001b[33m[ WARN] [1702923460.224971468]: TF_REPEATED_DATA ignoring data with redundant timestamp for frame odom at time 4463.886000 according to authority /pose_integrator\u001b[0m\n",
      "\u001b[33m[ WARN] [1702923461.210190076]: TF_REPEATED_DATA ignoring data with redundant timestamp for frame odom at time 4464.311000 according to authority /pose_integrator\u001b[0m\n",
      "\u001b[33m[ WARN] [1702923461.210258023]: TF_REPEATED_DATA ignoring data with redundant timestamp for frame odom at time 4464.311000 according to authority /pose_integrator\u001b[0m\n",
      "\u001b[33m[ WARN] [1702923461.210293163]: TF_REPEATED_DATA ignoring data with redundant timestamp for frame odom at time 4464.311000 according to authority /pose_integrator\u001b[0m\n",
      "\u001b[33m[ WARN] [1702923461.210330204]: TF_REPEATED_DATA ignoring data with redundant timestamp for frame odom at time 4464.311000 according to authority /pose_integrator\u001b[0m\n",
      "\u001b[33m[ WARN] [1702923461.210363588]: TF_REPEATED_DATA ignoring data with redundant timestamp for frame odom at time 4464.311000 according to authority /pose_integrator\u001b[0m\n",
      "\u001b[33m[ WARN] [1702923461.210396018]: TF_REPEATED_DATA ignoring data with redundant timestamp for frame odom at time 4464.311000 according to authority /pose_integrator\u001b[0m\n",
      "\u001b[33m[ WARN] [1702923461.290223441]: TF_REPEATED_DATA ignoring data with redundant timestamp for frame odom at time 4464.355000 according to authority /pose_integrator\u001b[0m\n",
      "\u001b[33m[ WARN] [1702923461.290287181]: TF_REPEATED_DATA ignoring data with redundant timestamp for frame odom at time 4464.355000 according to authority /pose_integrator\u001b[0m\n",
      "\u001b[33m[ WARN] [1702923461.290334817]: TF_REPEATED_DATA ignoring data with redundant timestamp for frame odom at time 4464.355000 according to authority /pose_integrator\u001b[0m\n",
      "\u001b[33m[ WARN] [1702923461.290375021]: TF_REPEATED_DATA ignoring data with redundant timestamp for frame odom at time 4464.355000 according to authority /pose_integrator\u001b[0m\n",
      "\u001b[33m[ WARN] [1702923461.290420790]: TF_REPEATED_DATA ignoring data with redundant timestamp for frame odom at time 4464.355000 according to authority /pose_integrator\u001b[0m\n",
      "\u001b[33m[ WARN] [1702923461.290459064]: TF_REPEATED_DATA ignoring data with redundant timestamp for frame odom at time 4464.355000 according to authority /pose_integrator\u001b[0m\n",
      "\u001b[33m[ WARN] [1702923462.060252073]: TF_REPEATED_DATA ignoring data with redundant timestamp for frame odom at time 4464.724000 according to authority /pose_integrator\u001b[0m\n",
      "\u001b[33m[ WARN] [1702923462.060317580]: TF_REPEATED_DATA ignoring data with redundant timestamp for frame odom at time 4464.724000 according to authority /pose_integrator\u001b[0m\n",
      "\u001b[33m[ WARN] [1702923462.060362471]: TF_REPEATED_DATA ignoring data with redundant timestamp for frame odom at time 4464.724000 according to authority /pose_integrator\u001b[0m\n",
      "\u001b[33m[ WARN] [1702923462.060406599]: TF_REPEATED_DATA ignoring data with redundant timestamp for frame odom at time 4464.724000 according to authority /pose_integrator\u001b[0m\n",
      "\u001b[33m[ WARN] [1702923462.060451975]: TF_REPEATED_DATA ignoring data with redundant timestamp for frame odom at time 4464.724000 according to authority /pose_integrator\u001b[0m\n",
      "\u001b[33m[ WARN] [1702923462.060493870]: TF_REPEATED_DATA ignoring data with redundant timestamp for frame odom at time 4464.724000 according to authority /pose_integrator\u001b[0m\n",
      "\u001b[33m[ WARN] [1702923465.417468215]: TF_REPEATED_DATA ignoring data with redundant timestamp for frame odom at time 4466.194000 according to authority /pose_integrator\u001b[0m\n",
      "\u001b[33m[ WARN] [1702923465.417530517]: TF_REPEATED_DATA ignoring data with redundant timestamp for frame odom at time 4466.194000 according to authority /pose_integrator\u001b[0m\n",
      "\u001b[33m[ WARN] [1702923465.417572370]: TF_REPEATED_DATA ignoring data with redundant timestamp for frame odom at time 4466.194000 according to authority /pose_integrator\u001b[0m\n",
      "\u001b[33m[ WARN] [1702923465.417609606]: TF_REPEATED_DATA ignoring data with redundant timestamp for frame odom at time 4466.194000 according to authority /pose_integrator\u001b[0m\n",
      "\u001b[33m[ WARN] [1702923465.417649525]: TF_REPEATED_DATA ignoring data with redundant timestamp for frame odom at time 4466.194000 according to authority /pose_integrator\u001b[0m\n",
      "\u001b[33m[ WARN] [1702923465.417684687]: TF_REPEATED_DATA ignoring data with redundant timestamp for frame odom at time 4466.194000 according to authority /pose_integrator\u001b[0m\n",
      "\u001b[33m[ WARN] [1702923465.832056850]: TF_REPEATED_DATA ignoring data with redundant timestamp for frame odom at time 4466.401000 according to authority /pose_integrator\u001b[0m\n",
      "\u001b[33m[ WARN] [1702923465.832112280]: TF_REPEATED_DATA ignoring data with redundant timestamp for frame odom at time 4466.401000 according to authority /pose_integrator\u001b[0m\n",
      "\u001b[33m[ WARN] [1702923465.832142363]: TF_REPEATED_DATA ignoring data with redundant timestamp for frame odom at time 4466.401000 according to authority /pose_integrator\u001b[0m\n",
      "\u001b[33m[ WARN] [1702923465.832167340]: TF_REPEATED_DATA ignoring data with redundant timestamp for frame odom at time 4466.401000 according to authority /pose_integrator\u001b[0m\n",
      "\u001b[33m[ WARN] [1702923465.832195487]: TF_REPEATED_DATA ignoring data with redundant timestamp for frame odom at time 4466.401000 according to authority /pose_integrator\u001b[0m\n",
      "\u001b[33m[ WARN] [1702923465.832219788]: TF_REPEATED_DATA ignoring data with redundant timestamp for frame odom at time 4466.401000 according to authority /pose_integrator\u001b[0m\n"
     ]
    },
    {
     "name": "stderr",
     "output_type": "stream",
     "text": [
      "\u001b[33m[ WARN] [1702923466.141510544]: TF_REPEATED_DATA ignoring data with redundant timestamp for frame odom at time 4466.594000 according to authority /pose_integrator\u001b[0m\n",
      "\u001b[33m[ WARN] [1702923466.141562634]: TF_REPEATED_DATA ignoring data with redundant timestamp for frame odom at time 4466.594000 according to authority /pose_integrator\u001b[0m\n",
      "\u001b[33m[ WARN] [1702923466.141591970]: TF_REPEATED_DATA ignoring data with redundant timestamp for frame odom at time 4466.594000 according to authority /pose_integrator\u001b[0m\n",
      "\u001b[33m[ WARN] [1702923466.141623157]: TF_REPEATED_DATA ignoring data with redundant timestamp for frame odom at time 4466.594000 according to authority /pose_integrator\u001b[0m\n",
      "\u001b[33m[ WARN] [1702923466.141664168]: TF_REPEATED_DATA ignoring data with redundant timestamp for frame odom at time 4466.594000 according to authority /pose_integrator\u001b[0m\n",
      "\u001b[33m[ WARN] [1702923466.141695597]: TF_REPEATED_DATA ignoring data with redundant timestamp for frame odom at time 4466.594000 according to authority /pose_integrator\u001b[0m\n",
      "\u001b[33m[ WARN] [1702923467.924471430]: TF_REPEATED_DATA ignoring data with redundant timestamp for frame odom at time 4467.395000 according to authority /pose_integrator\u001b[0m\n",
      "\u001b[33m[ WARN] [1702923467.924525285]: TF_REPEATED_DATA ignoring data with redundant timestamp for frame odom at time 4467.395000 according to authority /pose_integrator\u001b[0m\n",
      "\u001b[33m[ WARN] [1702923467.924563440]: TF_REPEATED_DATA ignoring data with redundant timestamp for frame odom at time 4467.395000 according to authority /pose_integrator\u001b[0m\n",
      "\u001b[33m[ WARN] [1702923467.924597417]: TF_REPEATED_DATA ignoring data with redundant timestamp for frame odom at time 4467.395000 according to authority /pose_integrator\u001b[0m\n",
      "\u001b[33m[ WARN] [1702923467.924623172]: TF_REPEATED_DATA ignoring data with redundant timestamp for frame odom at time 4467.395000 according to authority /pose_integrator\u001b[0m\n",
      "\u001b[33m[ WARN] [1702923467.924647676]: TF_REPEATED_DATA ignoring data with redundant timestamp for frame odom at time 4467.395000 according to authority /pose_integrator\u001b[0m\n",
      "\u001b[33m[ WARN] [1702923469.185734739]: TF_REPEATED_DATA ignoring data with redundant timestamp for frame odom at time 4467.980000 according to authority /pose_integrator\u001b[0m\n",
      "\u001b[33m[ WARN] [1702923469.185800142]: TF_REPEATED_DATA ignoring data with redundant timestamp for frame odom at time 4467.980000 according to authority /pose_integrator\u001b[0m\n",
      "\u001b[33m[ WARN] [1702923469.185837936]: TF_REPEATED_DATA ignoring data with redundant timestamp for frame odom at time 4467.980000 according to authority /pose_integrator\u001b[0m\n",
      "\u001b[33m[ WARN] [1702923469.185869572]: TF_REPEATED_DATA ignoring data with redundant timestamp for frame odom at time 4467.980000 according to authority /pose_integrator\u001b[0m\n",
      "\u001b[33m[ WARN] [1702923469.185905898]: TF_REPEATED_DATA ignoring data with redundant timestamp for frame odom at time 4467.980000 according to authority /pose_integrator\u001b[0m\n",
      "\u001b[33m[ WARN] [1702923469.185935654]: TF_REPEATED_DATA ignoring data with redundant timestamp for frame odom at time 4467.980000 according to authority /pose_integrator\u001b[0m\n",
      "\u001b[33m[ WARN] [1702923472.715402120]: TF_REPEATED_DATA ignoring data with redundant timestamp for frame odom at time 4469.497000 according to authority /pose_integrator\u001b[0m\n",
      "\u001b[33m[ WARN] [1702923472.715460199]: TF_REPEATED_DATA ignoring data with redundant timestamp for frame odom at time 4469.497000 according to authority /pose_integrator\u001b[0m\n",
      "\u001b[33m[ WARN] [1702923472.715500450]: TF_REPEATED_DATA ignoring data with redundant timestamp for frame odom at time 4469.497000 according to authority /pose_integrator\u001b[0m\n",
      "\u001b[33m[ WARN] [1702923472.715532377]: TF_REPEATED_DATA ignoring data with redundant timestamp for frame odom at time 4469.497000 according to authority /pose_integrator\u001b[0m\n",
      "\u001b[33m[ WARN] [1702923472.715567735]: TF_REPEATED_DATA ignoring data with redundant timestamp for frame odom at time 4469.497000 according to authority /pose_integrator\u001b[0m\n",
      "\u001b[33m[ WARN] [1702923472.715602745]: TF_REPEATED_DATA ignoring data with redundant timestamp for frame odom at time 4469.497000 according to authority /pose_integrator\u001b[0m\n",
      "\u001b[33m[ WARN] [1702923473.954993236]: TF_REPEATED_DATA ignoring data with redundant timestamp for frame odom at time 4469.924000 according to authority /pose_integrator\u001b[0m\n",
      "\u001b[33m[ WARN] [1702923473.955055918]: TF_REPEATED_DATA ignoring data with redundant timestamp for frame odom at time 4469.924000 according to authority /pose_integrator\u001b[0m\n",
      "\u001b[33m[ WARN] [1702923473.955098041]: TF_REPEATED_DATA ignoring data with redundant timestamp for frame odom at time 4469.924000 according to authority /pose_integrator\u001b[0m\n",
      "\u001b[33m[ WARN] [1702923473.955133899]: TF_REPEATED_DATA ignoring data with redundant timestamp for frame odom at time 4469.924000 according to authority /pose_integrator\u001b[0m\n",
      "\u001b[33m[ WARN] [1702923473.955172023]: TF_REPEATED_DATA ignoring data with redundant timestamp for frame odom at time 4469.924000 according to authority /pose_integrator\u001b[0m\n",
      "\u001b[33m[ WARN] [1702923473.955215432]: TF_REPEATED_DATA ignoring data with redundant timestamp for frame odom at time 4469.924000 according to authority /pose_integrator\u001b[0m\n",
      "\u001b[33m[ WARN] [1702923475.857188774]: TF_REPEATED_DATA ignoring data with redundant timestamp for frame odom at time 4470.693000 according to authority /pose_integrator\u001b[0m\n",
      "\u001b[33m[ WARN] [1702923475.857245553]: TF_REPEATED_DATA ignoring data with redundant timestamp for frame odom at time 4470.693000 according to authority /pose_integrator\u001b[0m\n",
      "\u001b[33m[ WARN] [1702923475.857285673]: TF_REPEATED_DATA ignoring data with redundant timestamp for frame odom at time 4470.693000 according to authority /pose_integrator\u001b[0m\n",
      "\u001b[33m[ WARN] [1702923475.857325734]: TF_REPEATED_DATA ignoring data with redundant timestamp for frame odom at time 4470.693000 according to authority /pose_integrator\u001b[0m\n",
      "\u001b[33m[ WARN] [1702923475.857363687]: TF_REPEATED_DATA ignoring data with redundant timestamp for frame odom at time 4470.693000 according to authority /pose_integrator\u001b[0m\n",
      "\u001b[33m[ WARN] [1702923475.857400292]: TF_REPEATED_DATA ignoring data with redundant timestamp for frame odom at time 4470.693000 according to authority /pose_integrator\u001b[0m\n"
     ]
    },
    {
     "name": "stdout",
     "output_type": "stream",
     "text": [
      "shutdown request: [/smach] Reason: new node registered with same name\n"
     ]
    }
   ],
   "source": [
    "cc"
   ]
  },
  {
   "cell_type": "code",
   "execution_count": 24,
   "id": "28ff9fce",
   "metadata": {},
   "outputs": [
    {
     "data": {
      "text/plain": [
       "<matplotlib.image.AxesImage at 0x7f07046a4040>"
      ]
     },
     "execution_count": 24,
     "metadata": {},
     "output_type": "execute_result"
    },
    {
     "name": "stderr",
     "output_type": "stream",
     "text": [
      "\u001b[33m[ WARN] [1702923105.028478625]: TF_REPEATED_DATA ignoring data with redundant timestamp for frame odom at time 4304.960000 according to authority /pose_integrator\u001b[0m\n",
      "\u001b[33m[ WARN] [1702923105.028531753]: TF_REPEATED_DATA ignoring data with redundant timestamp for frame odom at time 4304.960000 according to authority /pose_integrator\u001b[0m\n",
      "\u001b[33m[ WARN] [1702923105.028558537]: TF_REPEATED_DATA ignoring data with redundant timestamp for frame odom at time 4304.960000 according to authority /pose_integrator\u001b[0m\n",
      "\u001b[33m[ WARN] [1702923105.028581879]: TF_REPEATED_DATA ignoring data with redundant timestamp for frame odom at time 4304.960000 according to authority /pose_integrator\u001b[0m\n",
      "\u001b[33m[ WARN] [1702923105.028612167]: TF_REPEATED_DATA ignoring data with redundant timestamp for frame odom at time 4304.960000 according to authority /pose_integrator\u001b[0m\n",
      "\u001b[33m[ WARN] [1702923105.028637135]: TF_REPEATED_DATA ignoring data with redundant timestamp for frame odom at time 4304.960000 according to authority /pose_integrator\u001b[0m\n"
     ]
    },
    {
     "data": {
      "image/png": "[encoded data removed]",
      "text/plain": [
       "<Figure size 640x480 with 1 Axes>"
      ]
     },
     "metadata": {},
     "output_type": "display_data"
    },
    {
     "name": "stderr",
     "output_type": "stream",
     "text": [
      "\u001b[33m[ WARN] [1702923107.096311385]: TF_REPEATED_DATA ignoring data with redundant timestamp for frame odom at time 4305.849000 according to authority /pose_integrator\u001b[0m\n",
      "\u001b[33m[ WARN] [1702923107.096373548]: TF_REPEATED_DATA ignoring data with redundant timestamp for frame odom at time 4305.849000 according to authority /pose_integrator\u001b[0m\n",
      "\u001b[33m[ WARN] [1702923107.096416365]: TF_REPEATED_DATA ignoring data with redundant timestamp for frame odom at time 4305.849000 according to authority /pose_integrator\u001b[0m\n",
      "\u001b[33m[ WARN] [1702923107.096457208]: TF_REPEATED_DATA ignoring data with redundant timestamp for frame odom at time 4305.849000 according to authority /pose_integrator\u001b[0m\n",
      "\u001b[33m[ WARN] [1702923107.096507442]: TF_REPEATED_DATA ignoring data with redundant timestamp for frame odom at time 4305.849000 according to authority /pose_integrator\u001b[0m\n",
      "\u001b[33m[ WARN] [1702923107.096550821]: TF_REPEATED_DATA ignoring data with redundant timestamp for frame odom at time 4305.849000 according to authority /pose_integrator\u001b[0m\n",
      "\u001b[33m[ WARN] [1702923109.411707652]: TF_REPEATED_DATA ignoring data with redundant timestamp for frame odom at time 4306.930000 according to authority /pose_integrator\u001b[0m\n",
      "\u001b[33m[ WARN] [1702923109.411761943]: TF_REPEATED_DATA ignoring data with redundant timestamp for frame odom at time 4306.930000 according to authority /pose_integrator\u001b[0m\n",
      "\u001b[33m[ WARN] [1702923109.411805091]: TF_REPEATED_DATA ignoring data with redundant timestamp for frame odom at time 4306.930000 according to authority /pose_integrator\u001b[0m\n",
      "\u001b[33m[ WARN] [1702923109.411843299]: TF_REPEATED_DATA ignoring data with redundant timestamp for frame odom at time 4306.930000 according to authority /pose_integrator\u001b[0m\n",
      "\u001b[33m[ WARN] [1702923109.411882810]: TF_REPEATED_DATA ignoring data with redundant timestamp for frame odom at time 4306.930000 according to authority /pose_integrator\u001b[0m\n",
      "\u001b[33m[ WARN] [1702923109.411919479]: TF_REPEATED_DATA ignoring data with redundant timestamp for frame odom at time 4306.930000 according to authority /pose_integrator\u001b[0m\n",
      "\u001b[33m[ WARN] [1702923109.760697582]: TF_REPEATED_DATA ignoring data with redundant timestamp for frame odom at time 4307.128000 according to authority /pose_integrator\u001b[0m\n",
      "\u001b[33m[ WARN] [1702923109.760744249]: TF_REPEATED_DATA ignoring data with redundant timestamp for frame odom at time 4307.128000 according to authority /pose_integrator\u001b[0m\n",
      "\u001b[33m[ WARN] [1702923109.760786866]: TF_REPEATED_DATA ignoring data with redundant timestamp for frame odom at time 4307.128000 according to authority /pose_integrator\u001b[0m\n",
      "\u001b[33m[ WARN] [1702923109.760822852]: TF_REPEATED_DATA ignoring data with redundant timestamp for frame odom at time 4307.128000 according to authority /pose_integrator\u001b[0m\n",
      "\u001b[33m[ WARN] [1702923109.760862987]: TF_REPEATED_DATA ignoring data with redundant timestamp for frame odom at time 4307.128000 according to authority /pose_integrator\u001b[0m\n",
      "\u001b[33m[ WARN] [1702923109.760906523]: TF_REPEATED_DATA ignoring data with redundant timestamp for frame odom at time 4307.128000 according to authority /pose_integrator\u001b[0m\n",
      "\u001b[33m[ WARN] [1702923111.189431685]: TF_REPEATED_DATA ignoring data with redundant timestamp for frame odom at time 4307.736000 according to authority /pose_integrator\u001b[0m\n",
      "\u001b[33m[ WARN] [1702923111.189484080]: TF_REPEATED_DATA ignoring data with redundant timestamp for frame odom at time 4307.736000 according to authority /pose_integrator\u001b[0m\n",
      "\u001b[33m[ WARN] [1702923111.189522246]: TF_REPEATED_DATA ignoring data with redundant timestamp for frame odom at time 4307.736000 according to authority /pose_integrator\u001b[0m\n",
      "\u001b[33m[ WARN] [1702923111.189558048]: TF_REPEATED_DATA ignoring data with redundant timestamp for frame odom at time 4307.736000 according to authority /pose_integrator\u001b[0m\n",
      "\u001b[33m[ WARN] [1702923111.189594039]: TF_REPEATED_DATA ignoring data with redundant timestamp for frame odom at time 4307.736000 according to authority /pose_integrator\u001b[0m\n",
      "\u001b[33m[ WARN] [1702923111.189634176]: TF_REPEATED_DATA ignoring data with redundant timestamp for frame odom at time 4307.736000 according to authority /pose_integrator\u001b[0m\n",
      "\u001b[33m[ WARN] [1702923114.160287883]: TF_REPEATED_DATA ignoring data with redundant timestamp for frame odom at time 4309.068000 according to authority /pose_integrator\u001b[0m\n",
      "\u001b[33m[ WARN] [1702923114.160340708]: TF_REPEATED_DATA ignoring data with redundant timestamp for frame odom at time 4309.068000 according to authority /pose_integrator\u001b[0m\n",
      "\u001b[33m[ WARN] [1702923114.160380265]: TF_REPEATED_DATA ignoring data with redundant timestamp for frame odom at time 4309.068000 according to authority /pose_integrator\u001b[0m\n",
      "\u001b[33m[ WARN] [1702923114.160416919]: TF_REPEATED_DATA ignoring data with redundant timestamp for frame odom at time 4309.068000 according to authority /pose_integrator\u001b[0m\n",
      "\u001b[33m[ WARN] [1702923114.160443020]: TF_REPEATED_DATA ignoring data with redundant timestamp for frame odom at time 4309.068000 according to authority /pose_integrator\u001b[0m\n",
      "\u001b[33m[ WARN] [1702923114.160477865]: TF_REPEATED_DATA ignoring data with redundant timestamp for frame odom at time 4309.068000 according to authority /pose_integrator\u001b[0m\n",
      "\u001b[33m[ WARN] [1702923114.999569802]: TF_REPEATED_DATA ignoring data with redundant timestamp for frame odom at time 4309.431000 according to authority /pose_integrator\u001b[0m\n",
      "\u001b[33m[ WARN] [1702923114.999628731]: TF_REPEATED_DATA ignoring data with redundant timestamp for frame odom at time 4309.431000 according to authority /pose_integrator\u001b[0m\n",
      "\u001b[33m[ WARN] [1702923114.999674187]: TF_REPEATED_DATA ignoring data with redundant timestamp for frame odom at time 4309.431000 according to authority /pose_integrator\u001b[0m\n",
      "\u001b[33m[ WARN] [1702923114.999702951]: TF_REPEATED_DATA ignoring data with redundant timestamp for frame odom at time 4309.431000 according to authority /pose_integrator\u001b[0m\n",
      "\u001b[33m[ WARN] [1702923114.999729252]: TF_REPEATED_DATA ignoring data with redundant timestamp for frame odom at time 4309.431000 according to authority /pose_integrator\u001b[0m\n",
      "\u001b[33m[ WARN] [1702923114.999754539]: TF_REPEATED_DATA ignoring data with redundant timestamp for frame odom at time 4309.431000 according to authority /pose_integrator\u001b[0m\n",
      "\u001b[33m[ WARN] [1702923120.779396547]: TF_REPEATED_DATA ignoring data with redundant timestamp for frame odom at time 4311.966000 according to authority /pose_integrator\u001b[0m\n",
      "\u001b[33m[ WARN] [1702923120.779439658]: TF_REPEATED_DATA ignoring data with redundant timestamp for frame odom at time 4311.966000 according to authority /pose_integrator\u001b[0m\n",
      "\u001b[33m[ WARN] [1702923120.779464218]: TF_REPEATED_DATA ignoring data with redundant timestamp for frame odom at time 4311.966000 according to authority /pose_integrator\u001b[0m\n",
      "\u001b[33m[ WARN] [1702923120.779486610]: TF_REPEATED_DATA ignoring data with redundant timestamp for frame odom at time 4311.966000 according to authority /pose_integrator\u001b[0m\n",
      "\u001b[33m[ WARN] [1702923120.779508122]: TF_REPEATED_DATA ignoring data with redundant timestamp for frame odom at time 4311.966000 according to authority /pose_integrator\u001b[0m\n",
      "\u001b[33m[ WARN] [1702923120.779538358]: TF_REPEATED_DATA ignoring data with redundant timestamp for frame odom at time 4311.966000 according to authority /pose_integrator\u001b[0m\n",
      "\u001b[33m[ WARN] [1702923125.661973638]: TF_REPEATED_DATA ignoring data with redundant timestamp for frame odom at time 4314.229000 according to authority /pose_integrator\u001b[0m\n",
      "\u001b[33m[ WARN] [1702923125.662012851]: TF_REPEATED_DATA ignoring data with redundant timestamp for frame odom at time 4314.229000 according to authority /pose_integrator\u001b[0m\n",
      "\u001b[33m[ WARN] [1702923125.662037858]: TF_REPEATED_DATA ignoring data with redundant timestamp for frame odom at time 4314.229000 according to authority /pose_integrator\u001b[0m\n",
      "\u001b[33m[ WARN] [1702923125.662061875]: TF_REPEATED_DATA ignoring data with redundant timestamp for frame odom at time 4314.229000 according to authority /pose_integrator\u001b[0m\n",
      "\u001b[33m[ WARN] [1702923125.662094360]: TF_REPEATED_DATA ignoring data with redundant timestamp for frame odom at time 4314.229000 according to authority /pose_integrator\u001b[0m\n",
      "\u001b[33m[ WARN] [1702923125.662127625]: TF_REPEATED_DATA ignoring data with redundant timestamp for frame odom at time 4314.229000 according to authority /pose_integrator\u001b[0m\n",
      "\u001b[33m[ WARN] [1702923125.828451546]: TF_REPEATED_DATA ignoring data with redundant timestamp for frame odom at time 4314.300000 according to authority /pose_integrator\u001b[0m\n",
      "\u001b[33m[ WARN] [1702923125.828500494]: TF_REPEATED_DATA ignoring data with redundant timestamp for frame odom at time 4314.300000 according to authority /pose_integrator\u001b[0m\n",
      "\u001b[33m[ WARN] [1702923125.828535767]: TF_REPEATED_DATA ignoring data with redundant timestamp for frame odom at time 4314.300000 according to authority /pose_integrator\u001b[0m\n",
      "\u001b[33m[ WARN] [1702923125.828568374]: TF_REPEATED_DATA ignoring data with redundant timestamp for frame odom at time 4314.300000 according to authority /pose_integrator\u001b[0m\n",
      "\u001b[33m[ WARN] [1702923125.828601633]: TF_REPEATED_DATA ignoring data with redundant timestamp for frame odom at time 4314.300000 according to authority /pose_integrator\u001b[0m\n",
      "\u001b[33m[ WARN] [1702923125.828634052]: TF_REPEATED_DATA ignoring data with redundant timestamp for frame odom at time 4314.300000 according to authority /pose_integrator\u001b[0m\n"
     ]
    },
    {
     "name": "stderr",
     "output_type": "stream",
     "text": [
      "\u001b[33m[ WARN] [1702923125.971648294]: TF_REPEATED_DATA ignoring data with redundant timestamp for frame odom at time 4314.363000 according to authority /pose_integrator\u001b[0m\n",
      "\u001b[33m[ WARN] [1702923125.971692044]: TF_REPEATED_DATA ignoring data with redundant timestamp for frame odom at time 4314.363000 according to authority /pose_integrator\u001b[0m\n",
      "\u001b[33m[ WARN] [1702923125.971718214]: TF_REPEATED_DATA ignoring data with redundant timestamp for frame odom at time 4314.363000 according to authority /pose_integrator\u001b[0m\n",
      "\u001b[33m[ WARN] [1702923125.971750691]: TF_REPEATED_DATA ignoring data with redundant timestamp for frame odom at time 4314.363000 according to authority /pose_integrator\u001b[0m\n",
      "\u001b[33m[ WARN] [1702923125.971797133]: TF_REPEATED_DATA ignoring data with redundant timestamp for frame odom at time 4314.363000 according to authority /pose_integrator\u001b[0m\n",
      "\u001b[33m[ WARN] [1702923125.971831071]: TF_REPEATED_DATA ignoring data with redundant timestamp for frame odom at time 4314.363000 according to authority /pose_integrator\u001b[0m\n",
      "\u001b[33m[ WARN] [1702923130.420521851]: TF_REPEATED_DATA ignoring data with redundant timestamp for frame odom at time 4316.379000 according to authority /pose_integrator\u001b[0m\n",
      "\u001b[33m[ WARN] [1702923130.420574932]: TF_REPEATED_DATA ignoring data with redundant timestamp for frame odom at time 4316.379000 according to authority /pose_integrator\u001b[0m\n",
      "\u001b[33m[ WARN] [1702923130.420614509]: TF_REPEATED_DATA ignoring data with redundant timestamp for frame odom at time 4316.379000 according to authority /pose_integrator\u001b[0m\n",
      "\u001b[33m[ WARN] [1702923130.420650671]: TF_REPEATED_DATA ignoring data with redundant timestamp for frame odom at time 4316.379000 according to authority /pose_integrator\u001b[0m\n",
      "\u001b[33m[ WARN] [1702923130.420687982]: TF_REPEATED_DATA ignoring data with redundant timestamp for frame odom at time 4316.379000 according to authority /pose_integrator\u001b[0m\n",
      "\u001b[33m[ WARN] [1702923130.420725552]: TF_REPEATED_DATA ignoring data with redundant timestamp for frame odom at time 4316.379000 according to authority /pose_integrator\u001b[0m\n",
      "\u001b[33m[ WARN] [1702923130.534825903]: TF_REPEATED_DATA ignoring data with redundant timestamp for frame odom at time 4316.428000 according to authority /pose_integrator\u001b[0m\n",
      "\u001b[33m[ WARN] [1702923130.534882947]: TF_REPEATED_DATA ignoring data with redundant timestamp for frame odom at time 4316.428000 according to authority /pose_integrator\u001b[0m\n",
      "\u001b[33m[ WARN] [1702923130.534935226]: TF_REPEATED_DATA ignoring data with redundant timestamp for frame odom at time 4316.428000 according to authority /pose_integrator\u001b[0m\n",
      "\u001b[33m[ WARN] [1702923130.534979314]: TF_REPEATED_DATA ignoring data with redundant timestamp for frame odom at time 4316.428000 according to authority /pose_integrator\u001b[0m\n",
      "\u001b[33m[ WARN] [1702923130.535016131]: TF_REPEATED_DATA ignoring data with redundant timestamp for frame odom at time 4316.428000 according to authority /pose_integrator\u001b[0m\n",
      "\u001b[33m[ WARN] [1702923130.535054776]: TF_REPEATED_DATA ignoring data with redundant timestamp for frame odom at time 4316.428000 according to authority /pose_integrator\u001b[0m\n",
      "\u001b[33m[ WARN] [1702923130.813699868]: TF_REPEATED_DATA ignoring data with redundant timestamp for frame odom at time 4316.548000 according to authority /pose_integrator\u001b[0m\n",
      "\u001b[33m[ WARN] [1702923130.813957739]: TF_REPEATED_DATA ignoring data with redundant timestamp for frame odom at time 4316.548000 according to authority /pose_integrator\u001b[0m\n",
      "\u001b[33m[ WARN] [1702923130.814004947]: TF_REPEATED_DATA ignoring data with redundant timestamp for frame odom at time 4316.548000 according to authority /pose_integrator\u001b[0m\n",
      "\u001b[33m[ WARN] [1702923130.814045207]: TF_REPEATED_DATA ignoring data with redundant timestamp for frame odom at time 4316.548000 according to authority /pose_integrator\u001b[0m\n",
      "\u001b[33m[ WARN] [1702923130.814083870]: TF_REPEATED_DATA ignoring data with redundant timestamp for frame odom at time 4316.548000 according to authority /pose_integrator\u001b[0m\n",
      "\u001b[33m[ WARN] [1702923130.814123854]: TF_REPEATED_DATA ignoring data with redundant timestamp for frame odom at time 4316.548000 according to authority /pose_integrator\u001b[0m\n",
      "\u001b[33m[ WARN] [1702923131.173772260]: TF_REPEATED_DATA ignoring data with redundant timestamp for frame odom at time 4316.733000 according to authority /pose_integrator\u001b[0m\n",
      "\u001b[33m[ WARN] [1702923131.173822463]: TF_REPEATED_DATA ignoring data with redundant timestamp for frame odom at time 4316.733000 according to authority /pose_integrator\u001b[0m\n",
      "\u001b[33m[ WARN] [1702923131.173861490]: TF_REPEATED_DATA ignoring data with redundant timestamp for frame odom at time 4316.733000 according to authority /pose_integrator\u001b[0m\n",
      "\u001b[33m[ WARN] [1702923131.173900164]: TF_REPEATED_DATA ignoring data with redundant timestamp for frame odom at time 4316.733000 according to authority /pose_integrator\u001b[0m\n",
      "\u001b[33m[ WARN] [1702923131.173944348]: TF_REPEATED_DATA ignoring data with redundant timestamp for frame odom at time 4316.733000 according to authority /pose_integrator\u001b[0m\n",
      "\u001b[33m[ WARN] [1702923131.173977320]: TF_REPEATED_DATA ignoring data with redundant timestamp for frame odom at time 4316.733000 according to authority /pose_integrator\u001b[0m\n",
      "\u001b[33m[ WARN] [1702923131.663751778]: TF_REPEATED_DATA ignoring data with redundant timestamp for frame odom at time 4316.976000 according to authority /pose_integrator\u001b[0m\n",
      "\u001b[33m[ WARN] [1702923131.663800344]: TF_REPEATED_DATA ignoring data with redundant timestamp for frame odom at time 4316.976000 according to authority /pose_integrator\u001b[0m\n",
      "\u001b[33m[ WARN] [1702923131.663829655]: TF_REPEATED_DATA ignoring data with redundant timestamp for frame odom at time 4316.976000 according to authority /pose_integrator\u001b[0m\n",
      "\u001b[33m[ WARN] [1702923131.663856812]: TF_REPEATED_DATA ignoring data with redundant timestamp for frame odom at time 4316.976000 according to authority /pose_integrator\u001b[0m\n",
      "\u001b[33m[ WARN] [1702923131.663883927]: TF_REPEATED_DATA ignoring data with redundant timestamp for frame odom at time 4316.976000 according to authority /pose_integrator\u001b[0m\n",
      "\u001b[33m[ WARN] [1702923131.663917377]: TF_REPEATED_DATA ignoring data with redundant timestamp for frame odom at time 4316.976000 according to authority /pose_integrator\u001b[0m\n",
      "\u001b[33m[ WARN] [1702923132.200371594]: TF_REPEATED_DATA ignoring data with redundant timestamp for frame odom at time 4317.241000 according to authority /pose_integrator\u001b[0m\n",
      "\u001b[33m[ WARN] [1702923132.200420588]: TF_REPEATED_DATA ignoring data with redundant timestamp for frame odom at time 4317.241000 according to authority /pose_integrator\u001b[0m\n",
      "\u001b[33m[ WARN] [1702923132.200452498]: TF_REPEATED_DATA ignoring data with redundant timestamp for frame odom at time 4317.241000 according to authority /pose_integrator\u001b[0m\n",
      "\u001b[33m[ WARN] [1702923132.200487409]: TF_REPEATED_DATA ignoring data with redundant timestamp for frame odom at time 4317.241000 according to authority /pose_integrator\u001b[0m\n",
      "\u001b[33m[ WARN] [1702923132.200521778]: TF_REPEATED_DATA ignoring data with redundant timestamp for frame odom at time 4317.241000 according to authority /pose_integrator\u001b[0m\n",
      "\u001b[33m[ WARN] [1702923132.200563235]: TF_REPEATED_DATA ignoring data with redundant timestamp for frame odom at time 4317.241000 according to authority /pose_integrator\u001b[0m\n",
      "\u001b[33m[ WARN] [1702923132.964314741]: TF_REPEATED_DATA ignoring data with redundant timestamp for frame odom at time 4317.571000 according to authority /pose_integrator\u001b[0m\n",
      "\u001b[33m[ WARN] [1702923132.964372887]: TF_REPEATED_DATA ignoring data with redundant timestamp for frame odom at time 4317.571000 according to authority /pose_integrator\u001b[0m\n",
      "\u001b[33m[ WARN] [1702923132.964415124]: TF_REPEATED_DATA ignoring data with redundant timestamp for frame odom at time 4317.571000 according to authority /pose_integrator\u001b[0m\n",
      "\u001b[33m[ WARN] [1702923132.964457245]: TF_REPEATED_DATA ignoring data with redundant timestamp for frame odom at time 4317.571000 according to authority /pose_integrator\u001b[0m\n",
      "\u001b[33m[ WARN] [1702923132.964497363]: TF_REPEATED_DATA ignoring data with redundant timestamp for frame odom at time 4317.571000 according to authority /pose_integrator\u001b[0m\n",
      "\u001b[33m[ WARN] [1702923132.964535986]: TF_REPEATED_DATA ignoring data with redundant timestamp for frame odom at time 4317.571000 according to authority /pose_integrator\u001b[0m\n"
     ]
    },
    {
     "name": "stderr",
     "output_type": "stream",
     "text": [
      "\u001b[33m[ WARN] [1702923133.295458692]: TF_REPEATED_DATA ignoring data with redundant timestamp for frame odom at time 4317.745000 according to authority /pose_integrator\u001b[0m\n",
      "\u001b[33m[ WARN] [1702923133.295514402]: TF_REPEATED_DATA ignoring data with redundant timestamp for frame odom at time 4317.745000 according to authority /pose_integrator\u001b[0m\n",
      "\u001b[33m[ WARN] [1702923133.295554760]: TF_REPEATED_DATA ignoring data with redundant timestamp for frame odom at time 4317.745000 according to authority /pose_integrator\u001b[0m\n",
      "\u001b[33m[ WARN] [1702923133.295601048]: TF_REPEATED_DATA ignoring data with redundant timestamp for frame odom at time 4317.745000 according to authority /pose_integrator\u001b[0m\n",
      "\u001b[33m[ WARN] [1702923133.295643897]: TF_REPEATED_DATA ignoring data with redundant timestamp for frame odom at time 4317.745000 according to authority /pose_integrator\u001b[0m\n",
      "\u001b[33m[ WARN] [1702923133.295686854]: TF_REPEATED_DATA ignoring data with redundant timestamp for frame odom at time 4317.745000 according to authority /pose_integrator\u001b[0m\n",
      "\u001b[33m[ WARN] [1702923134.633059844]: TF_REPEATED_DATA ignoring data with redundant timestamp for frame odom at time 4318.307000 according to authority /pose_integrator\u001b[0m\n",
      "\u001b[33m[ WARN] [1702923134.633104770]: TF_REPEATED_DATA ignoring data with redundant timestamp for frame odom at time 4318.307000 according to authority /pose_integrator\u001b[0m\n",
      "\u001b[33m[ WARN] [1702923134.633133993]: TF_REPEATED_DATA ignoring data with redundant timestamp for frame odom at time 4318.307000 according to authority /pose_integrator\u001b[0m\n",
      "\u001b[33m[ WARN] [1702923134.633158358]: TF_REPEATED_DATA ignoring data with redundant timestamp for frame odom at time 4318.307000 according to authority /pose_integrator\u001b[0m\n",
      "\u001b[33m[ WARN] [1702923134.633183766]: TF_REPEATED_DATA ignoring data with redundant timestamp for frame odom at time 4318.307000 according to authority /pose_integrator\u001b[0m\n",
      "\u001b[33m[ WARN] [1702923134.633208898]: TF_REPEATED_DATA ignoring data with redundant timestamp for frame odom at time 4318.307000 according to authority /pose_integrator\u001b[0m\n",
      "\u001b[33m[ WARN] [1702923146.372478585]: TF_REPEATED_DATA ignoring data with redundant timestamp for frame odom at time 4323.374000 according to authority /pose_integrator\u001b[0m\n",
      "\u001b[33m[ WARN] [1702923146.372540764]: TF_REPEATED_DATA ignoring data with redundant timestamp for frame odom at time 4323.374000 according to authority /pose_integrator\u001b[0m\n",
      "\u001b[33m[ WARN] [1702923146.372586814]: TF_REPEATED_DATA ignoring data with redundant timestamp for frame odom at time 4323.374000 according to authority /pose_integrator\u001b[0m\n",
      "\u001b[33m[ WARN] [1702923146.372625869]: TF_REPEATED_DATA ignoring data with redundant timestamp for frame odom at time 4323.374000 according to authority /pose_integrator\u001b[0m\n",
      "\u001b[33m[ WARN] [1702923146.372666758]: TF_REPEATED_DATA ignoring data with redundant timestamp for frame odom at time 4323.374000 according to authority /pose_integrator\u001b[0m\n",
      "\u001b[33m[ WARN] [1702923146.372704958]: TF_REPEATED_DATA ignoring data with redundant timestamp for frame odom at time 4323.374000 according to authority /pose_integrator\u001b[0m\n",
      "\u001b[33m[ WARN] [1702923152.799198788]: TF_REPEATED_DATA ignoring data with redundant timestamp for frame odom at time 4326.193000 according to authority /pose_integrator\u001b[0m\n",
      "\u001b[33m[ WARN] [1702923152.799239693]: TF_REPEATED_DATA ignoring data with redundant timestamp for frame odom at time 4326.193000 according to authority /pose_integrator\u001b[0m\n",
      "\u001b[33m[ WARN] [1702923152.799269251]: TF_REPEATED_DATA ignoring data with redundant timestamp for frame odom at time 4326.193000 according to authority /pose_integrator\u001b[0m\n",
      "\u001b[33m[ WARN] [1702923152.799295879]: TF_REPEATED_DATA ignoring data with redundant timestamp for frame odom at time 4326.193000 according to authority /pose_integrator\u001b[0m\n",
      "\u001b[33m[ WARN] [1702923152.799324969]: TF_REPEATED_DATA ignoring data with redundant timestamp for frame odom at time 4326.193000 according to authority /pose_integrator\u001b[0m\n",
      "\u001b[33m[ WARN] [1702923152.799356902]: TF_REPEATED_DATA ignoring data with redundant timestamp for frame odom at time 4326.193000 according to authority /pose_integrator\u001b[0m\n",
      "\u001b[33m[ WARN] [1702923156.444217050]: TF_REPEATED_DATA ignoring data with redundant timestamp for frame odom at time 4327.841000 according to authority /pose_integrator\u001b[0m\n",
      "\u001b[33m[ WARN] [1702923156.444281727]: TF_REPEATED_DATA ignoring data with redundant timestamp for frame odom at time 4327.841000 according to authority /pose_integrator\u001b[0m\n",
      "\u001b[33m[ WARN] [1702923156.444316866]: TF_REPEATED_DATA ignoring data with redundant timestamp for frame odom at time 4327.841000 according to authority /pose_integrator\u001b[0m\n",
      "\u001b[33m[ WARN] [1702923156.444348106]: TF_REPEATED_DATA ignoring data with redundant timestamp for frame odom at time 4327.841000 according to authority /pose_integrator\u001b[0m\n",
      "\u001b[33m[ WARN] [1702923156.444377092]: TF_REPEATED_DATA ignoring data with redundant timestamp for frame odom at time 4327.841000 according to authority /pose_integrator\u001b[0m\n",
      "\u001b[33m[ WARN] [1702923156.444405711]: TF_REPEATED_DATA ignoring data with redundant timestamp for frame odom at time 4327.841000 according to authority /pose_integrator\u001b[0m\n",
      "\u001b[33m[ WARN] [1702923156.892017550]: TF_REPEATED_DATA ignoring data with redundant timestamp for frame odom at time 4328.024000 according to authority /pose_integrator\u001b[0m\n",
      "\u001b[33m[ WARN] [1702923156.892070576]: TF_REPEATED_DATA ignoring data with redundant timestamp for frame odom at time 4328.024000 according to authority /pose_integrator\u001b[0m\n",
      "\u001b[33m[ WARN] [1702923156.892114303]: TF_REPEATED_DATA ignoring data with redundant timestamp for frame odom at time 4328.024000 according to authority /pose_integrator\u001b[0m\n",
      "\u001b[33m[ WARN] [1702923156.892157703]: TF_REPEATED_DATA ignoring data with redundant timestamp for frame odom at time 4328.024000 according to authority /pose_integrator\u001b[0m\n",
      "\u001b[33m[ WARN] [1702923156.892192747]: TF_REPEATED_DATA ignoring data with redundant timestamp for frame odom at time 4328.024000 according to authority /pose_integrator\u001b[0m\n",
      "\u001b[33m[ WARN] [1702923156.892228304]: TF_REPEATED_DATA ignoring data with redundant timestamp for frame odom at time 4328.024000 according to authority /pose_integrator\u001b[0m\n",
      "\u001b[33m[ WARN] [1702923161.586120327]: TF_REPEATED_DATA ignoring data with redundant timestamp for frame odom at time 4330.114000 according to authority /pose_integrator\u001b[0m\n",
      "\u001b[33m[ WARN] [1702923161.586175204]: TF_REPEATED_DATA ignoring data with redundant timestamp for frame odom at time 4330.114000 according to authority /pose_integrator\u001b[0m\n",
      "\u001b[33m[ WARN] [1702923161.586219459]: TF_REPEATED_DATA ignoring data with redundant timestamp for frame odom at time 4330.114000 according to authority /pose_integrator\u001b[0m\n",
      "\u001b[33m[ WARN] [1702923161.586262778]: TF_REPEATED_DATA ignoring data with redundant timestamp for frame odom at time 4330.114000 according to authority /pose_integrator\u001b[0m\n",
      "\u001b[33m[ WARN] [1702923161.586305871]: TF_REPEATED_DATA ignoring data with redundant timestamp for frame odom at time 4330.114000 according to authority /pose_integrator\u001b[0m\n",
      "\u001b[33m[ WARN] [1702923161.586347518]: TF_REPEATED_DATA ignoring data with redundant timestamp for frame odom at time 4330.114000 according to authority /pose_integrator\u001b[0m\n",
      "\u001b[33m[ WARN] [1702923162.943987883]: TF_REPEATED_DATA ignoring data with redundant timestamp for frame odom at time 4330.700000 according to authority /pose_integrator\u001b[0m\n",
      "\u001b[33m[ WARN] [1702923162.944040408]: TF_REPEATED_DATA ignoring data with redundant timestamp for frame odom at time 4330.700000 according to authority /pose_integrator\u001b[0m\n",
      "\u001b[33m[ WARN] [1702923162.944075993]: TF_REPEATED_DATA ignoring data with redundant timestamp for frame odom at time 4330.700000 according to authority /pose_integrator\u001b[0m\n",
      "\u001b[33m[ WARN] [1702923162.944109811]: TF_REPEATED_DATA ignoring data with redundant timestamp for frame odom at time 4330.700000 according to authority /pose_integrator\u001b[0m\n",
      "\u001b[33m[ WARN] [1702923162.944144864]: TF_REPEATED_DATA ignoring data with redundant timestamp for frame odom at time 4330.700000 according to authority /pose_integrator\u001b[0m\n",
      "\u001b[33m[ WARN] [1702923162.944183444]: TF_REPEATED_DATA ignoring data with redundant timestamp for frame odom at time 4330.700000 according to authority /pose_integrator\u001b[0m\n"
     ]
    },
    {
     "name": "stderr",
     "output_type": "stream",
     "text": [
      "\u001b[33m[ WARN] [1702923164.808389542]: TF_REPEATED_DATA ignoring data with redundant timestamp for frame odom at time 4331.621000 according to authority /pose_integrator\u001b[0m\n",
      "\u001b[33m[ WARN] [1702923164.808429368]: TF_REPEATED_DATA ignoring data with redundant timestamp for frame odom at time 4331.621000 according to authority /pose_integrator\u001b[0m\n",
      "\u001b[33m[ WARN] [1702923164.808454193]: TF_REPEATED_DATA ignoring data with redundant timestamp for frame odom at time 4331.621000 according to authority /pose_integrator\u001b[0m\n",
      "\u001b[33m[ WARN] [1702923164.808488891]: TF_REPEATED_DATA ignoring data with redundant timestamp for frame odom at time 4331.621000 according to authority /pose_integrator\u001b[0m\n",
      "\u001b[33m[ WARN] [1702923164.808522893]: TF_REPEATED_DATA ignoring data with redundant timestamp for frame odom at time 4331.621000 according to authority /pose_integrator\u001b[0m\n",
      "\u001b[33m[ WARN] [1702923164.808555574]: TF_REPEATED_DATA ignoring data with redundant timestamp for frame odom at time 4331.621000 according to authority /pose_integrator\u001b[0m\n",
      "\u001b[33m[ WARN] [1702923165.058870066]: TF_REPEATED_DATA ignoring data with redundant timestamp for frame odom at time 4331.760000 according to authority /pose_integrator\u001b[0m\n",
      "\u001b[33m[ WARN] [1702923165.058926807]: TF_REPEATED_DATA ignoring data with redundant timestamp for frame odom at time 4331.760000 according to authority /pose_integrator\u001b[0m\n",
      "\u001b[33m[ WARN] [1702923165.058961872]: TF_REPEATED_DATA ignoring data with redundant timestamp for frame odom at time 4331.760000 according to authority /pose_integrator\u001b[0m\n",
      "\u001b[33m[ WARN] [1702923165.058997658]: TF_REPEATED_DATA ignoring data with redundant timestamp for frame odom at time 4331.760000 according to authority /pose_integrator\u001b[0m\n",
      "\u001b[33m[ WARN] [1702923165.059029413]: TF_REPEATED_DATA ignoring data with redundant timestamp for frame odom at time 4331.760000 according to authority /pose_integrator\u001b[0m\n",
      "\u001b[33m[ WARN] [1702923165.059061501]: TF_REPEATED_DATA ignoring data with redundant timestamp for frame odom at time 4331.760000 according to authority /pose_integrator\u001b[0m\n",
      "\u001b[33m[ WARN] [1702923168.133481475]: TF_REPEATED_DATA ignoring data with redundant timestamp for frame odom at time 4333.184000 according to authority /pose_integrator\u001b[0m\n",
      "\u001b[33m[ WARN] [1702923168.133536086]: TF_REPEATED_DATA ignoring data with redundant timestamp for frame odom at time 4333.184000 according to authority /pose_integrator\u001b[0m\n",
      "\u001b[33m[ WARN] [1702923168.133564967]: TF_REPEATED_DATA ignoring data with redundant timestamp for frame odom at time 4333.184000 according to authority /pose_integrator\u001b[0m\n",
      "\u001b[33m[ WARN] [1702923168.133590790]: TF_REPEATED_DATA ignoring data with redundant timestamp for frame odom at time 4333.184000 according to authority /pose_integrator\u001b[0m\n",
      "\u001b[33m[ WARN] [1702923168.133615338]: TF_REPEATED_DATA ignoring data with redundant timestamp for frame odom at time 4333.184000 according to authority /pose_integrator\u001b[0m\n",
      "\u001b[33m[ WARN] [1702923168.133640235]: TF_REPEATED_DATA ignoring data with redundant timestamp for frame odom at time 4333.184000 according to authority /pose_integrator\u001b[0m\n"
     ]
    }
   ],
   "source": [
    "plt.imshow(corrected['z'][248:340,273:394],cmap='prism')\n"
   ]
  },
  {
   "cell_type": "code",
   "execution_count": 15,
   "id": "55d00ead",
   "metadata": {},
   "outputs": [
    {
     "data": {
      "text/plain": [
       "<matplotlib.image.AxesImage at 0x7f078426a910>"
      ]
     },
     "execution_count": 15,
     "metadata": {},
     "output_type": "execute_result"
    },
    {
     "data": {
      "image/png": "[encoded data removed]",
      "text/plain": [
       "<Figure size 640x480 with 1 Axes>"
      ]
     },
     "metadata": {},
     "output_type": "display_data"
    },
    {
     "name": "stderr",
     "output_type": "stream",
     "text": [
      "\u001b[33m[ WARN] [1702922709.143733264]: TF_REPEATED_DATA ignoring data with redundant timestamp for frame odom at time 4123.982000 according to authority /pose_integrator\u001b[0m\n",
      "\u001b[33m[ WARN] [1702922709.143787191]: TF_REPEATED_DATA ignoring data with redundant timestamp for frame odom at time 4123.982000 according to authority /pose_integrator\u001b[0m\n",
      "\u001b[33m[ WARN] [1702922709.143823022]: TF_REPEATED_DATA ignoring data with redundant timestamp for frame odom at time 4123.982000 according to authority /pose_integrator\u001b[0m\n",
      "\u001b[33m[ WARN] [1702922709.143863112]: TF_REPEATED_DATA ignoring data with redundant timestamp for frame odom at time 4123.982000 according to authority /pose_integrator\u001b[0m\n",
      "\u001b[33m[ WARN] [1702922709.143900033]: TF_REPEATED_DATA ignoring data with redundant timestamp for frame odom at time 4123.982000 according to authority /pose_integrator\u001b[0m\n",
      "\u001b[33m[ WARN] [1702922709.143937651]: TF_REPEATED_DATA ignoring data with redundant timestamp for frame odom at time 4123.982000 according to authority /pose_integrator\u001b[0m\n",
      "\u001b[33m[ WARN] [1702922712.073392195]: TF_REPEATED_DATA ignoring data with redundant timestamp for frame odom at time 4125.394000 according to authority /pose_integrator\u001b[0m\n",
      "\u001b[33m[ WARN] [1702922712.073451170]: TF_REPEATED_DATA ignoring data with redundant timestamp for frame odom at time 4125.394000 according to authority /pose_integrator\u001b[0m\n",
      "\u001b[33m[ WARN] [1702922712.073495214]: TF_REPEATED_DATA ignoring data with redundant timestamp for frame odom at time 4125.394000 according to authority /pose_integrator\u001b[0m\n",
      "\u001b[33m[ WARN] [1702922712.073539434]: TF_REPEATED_DATA ignoring data with redundant timestamp for frame odom at time 4125.394000 according to authority /pose_integrator\u001b[0m\n",
      "\u001b[33m[ WARN] [1702922712.073584127]: TF_REPEATED_DATA ignoring data with redundant timestamp for frame odom at time 4125.394000 according to authority /pose_integrator\u001b[0m\n",
      "\u001b[33m[ WARN] [1702922712.073629436]: TF_REPEATED_DATA ignoring data with redundant timestamp for frame odom at time 4125.394000 according to authority /pose_integrator\u001b[0m\n",
      "\u001b[33m[ WARN] [1702922712.221288165]: TF_REPEATED_DATA ignoring data with redundant timestamp for frame odom at time 4125.471000 according to authority /pose_integrator\u001b[0m\n",
      "\u001b[33m[ WARN] [1702922712.221350176]: TF_REPEATED_DATA ignoring data with redundant timestamp for frame odom at time 4125.471000 according to authority /pose_integrator\u001b[0m\n",
      "\u001b[33m[ WARN] [1702922712.221398258]: TF_REPEATED_DATA ignoring data with redundant timestamp for frame odom at time 4125.471000 according to authority /pose_integrator\u001b[0m\n",
      "\u001b[33m[ WARN] [1702922712.221440929]: TF_REPEATED_DATA ignoring data with redundant timestamp for frame odom at time 4125.471000 according to authority /pose_integrator\u001b[0m\n",
      "\u001b[33m[ WARN] [1702922712.221486016]: TF_REPEATED_DATA ignoring data with redundant timestamp for frame odom at time 4125.471000 according to authority /pose_integrator\u001b[0m\n",
      "\u001b[33m[ WARN] [1702922712.221528260]: TF_REPEATED_DATA ignoring data with redundant timestamp for frame odom at time 4125.471000 according to authority /pose_integrator\u001b[0m\n",
      "\u001b[33m[ WARN] [1702922713.328163929]: TF_REPEATED_DATA ignoring data with redundant timestamp for frame odom at time 4125.961000 according to authority /pose_integrator\u001b[0m\n",
      "\u001b[33m[ WARN] [1702922713.328220502]: TF_REPEATED_DATA ignoring data with redundant timestamp for frame odom at time 4125.961000 according to authority /pose_integrator\u001b[0m\n",
      "\u001b[33m[ WARN] [1702922713.328271461]: TF_REPEATED_DATA ignoring data with redundant timestamp for frame odom at time 4125.961000 according to authority /pose_integrator\u001b[0m\n",
      "\u001b[33m[ WARN] [1702922713.328316572]: TF_REPEATED_DATA ignoring data with redundant timestamp for frame odom at time 4125.961000 according to authority /pose_integrator\u001b[0m\n",
      "\u001b[33m[ WARN] [1702922713.328348240]: TF_REPEATED_DATA ignoring data with redundant timestamp for frame odom at time 4125.961000 according to authority /pose_integrator\u001b[0m\n",
      "\u001b[33m[ WARN] [1702922713.328385298]: TF_REPEATED_DATA ignoring data with redundant timestamp for frame odom at time 4125.961000 according to authority /pose_integrator\u001b[0m\n",
      "\u001b[33m[ WARN] [1702922716.114612710]: TF_REPEATED_DATA ignoring data with redundant timestamp for frame odom at time 4127.125000 according to authority /pose_integrator\u001b[0m\n",
      "\u001b[33m[ WARN] [1702922716.114677655]: TF_REPEATED_DATA ignoring data with redundant timestamp for frame odom at time 4127.125000 according to authority /pose_integrator\u001b[0m\n",
      "\u001b[33m[ WARN] [1702922716.114724076]: TF_REPEATED_DATA ignoring data with redundant timestamp for frame odom at time 4127.125000 according to authority /pose_integrator\u001b[0m\n",
      "\u001b[33m[ WARN] [1702922716.114767603]: TF_REPEATED_DATA ignoring data with redundant timestamp for frame odom at time 4127.125000 according to authority /pose_integrator\u001b[0m\n",
      "\u001b[33m[ WARN] [1702922716.114811497]: TF_REPEATED_DATA ignoring data with redundant timestamp for frame odom at time 4127.125000 according to authority /pose_integrator\u001b[0m\n",
      "\u001b[33m[ WARN] [1702922716.114848499]: TF_REPEATED_DATA ignoring data with redundant timestamp for frame odom at time 4127.125000 according to authority /pose_integrator\u001b[0m\n",
      "\u001b[33m[ WARN] [1702922716.502575835]: TF_REPEATED_DATA ignoring data with redundant timestamp for frame odom at time 4127.315000 according to authority /pose_integrator\u001b[0m\n",
      "\u001b[33m[ WARN] [1702922716.502629577]: TF_REPEATED_DATA ignoring data with redundant timestamp for frame odom at time 4127.315000 according to authority /pose_integrator\u001b[0m\n",
      "\u001b[33m[ WARN] [1702922716.502670660]: TF_REPEATED_DATA ignoring data with redundant timestamp for frame odom at time 4127.315000 according to authority /pose_integrator\u001b[0m\n",
      "\u001b[33m[ WARN] [1702922716.502707199]: TF_REPEATED_DATA ignoring data with redundant timestamp for frame odom at time 4127.315000 according to authority /pose_integrator\u001b[0m\n",
      "\u001b[33m[ WARN] [1702922716.502743771]: TF_REPEATED_DATA ignoring data with redundant timestamp for frame odom at time 4127.315000 according to authority /pose_integrator\u001b[0m\n",
      "\u001b[33m[ WARN] [1702922716.502780752]: TF_REPEATED_DATA ignoring data with redundant timestamp for frame odom at time 4127.315000 according to authority /pose_integrator\u001b[0m\n",
      "\u001b[33m[ WARN] [1702922716.700175924]: TF_REPEATED_DATA ignoring data with redundant timestamp for frame odom at time 4127.394000 according to authority /pose_integrator\u001b[0m\n",
      "\u001b[33m[ WARN] [1702922716.700221091]: TF_REPEATED_DATA ignoring data with redundant timestamp for frame odom at time 4127.394000 according to authority /pose_integrator\u001b[0m\n",
      "\u001b[33m[ WARN] [1702922716.700260789]: TF_REPEATED_DATA ignoring data with redundant timestamp for frame odom at time 4127.394000 according to authority /pose_integrator\u001b[0m\n",
      "\u001b[33m[ WARN] [1702922716.700292182]: TF_REPEATED_DATA ignoring data with redundant timestamp for frame odom at time 4127.394000 according to authority /pose_integrator\u001b[0m\n",
      "\u001b[33m[ WARN] [1702922716.700321367]: TF_REPEATED_DATA ignoring data with redundant timestamp for frame odom at time 4127.394000 according to authority /pose_integrator\u001b[0m\n",
      "\u001b[33m[ WARN] [1702922716.700350810]: TF_REPEATED_DATA ignoring data with redundant timestamp for frame odom at time 4127.394000 according to authority /pose_integrator\u001b[0m\n",
      "\u001b[33m[ WARN] [1702922716.847458849]: TF_REPEATED_DATA ignoring data with redundant timestamp for frame odom at time 4127.465000 according to authority /pose_integrator\u001b[0m\n",
      "\u001b[33m[ WARN] [1702922716.847515707]: TF_REPEATED_DATA ignoring data with redundant timestamp for frame odom at time 4127.465000 according to authority /pose_integrator\u001b[0m\n",
      "\u001b[33m[ WARN] [1702922716.847548910]: TF_REPEATED_DATA ignoring data with redundant timestamp for frame odom at time 4127.465000 according to authority /pose_integrator\u001b[0m\n",
      "\u001b[33m[ WARN] [1702922716.847586826]: TF_REPEATED_DATA ignoring data with redundant timestamp for frame odom at time 4127.465000 according to authority /pose_integrator\u001b[0m\n",
      "\u001b[33m[ WARN] [1702922716.847629945]: TF_REPEATED_DATA ignoring data with redundant timestamp for frame odom at time 4127.465000 according to authority /pose_integrator\u001b[0m\n",
      "\u001b[33m[ WARN] [1702922716.847664868]: TF_REPEATED_DATA ignoring data with redundant timestamp for frame odom at time 4127.465000 according to authority /pose_integrator\u001b[0m\n"
     ]
    },
    {
     "name": "stderr",
     "output_type": "stream",
     "text": [
      "\u001b[33m[ WARN] [1702922720.232756643]: TF_REPEATED_DATA ignoring data with redundant timestamp for frame odom at time 4128.960000 according to authority /pose_integrator\u001b[0m\n",
      "\u001b[33m[ WARN] [1702922720.232804517]: TF_REPEATED_DATA ignoring data with redundant timestamp for frame odom at time 4128.960000 according to authority /pose_integrator\u001b[0m\n",
      "\u001b[33m[ WARN] [1702922720.232842481]: TF_REPEATED_DATA ignoring data with redundant timestamp for frame odom at time 4128.960000 according to authority /pose_integrator\u001b[0m\n",
      "\u001b[33m[ WARN] [1702922720.232879140]: TF_REPEATED_DATA ignoring data with redundant timestamp for frame odom at time 4128.960000 according to authority /pose_integrator\u001b[0m\n",
      "\u001b[33m[ WARN] [1702922720.232915184]: TF_REPEATED_DATA ignoring data with redundant timestamp for frame odom at time 4128.960000 according to authority /pose_integrator\u001b[0m\n",
      "\u001b[33m[ WARN] [1702922720.232952521]: TF_REPEATED_DATA ignoring data with redundant timestamp for frame odom at time 4128.960000 according to authority /pose_integrator\u001b[0m\n",
      "\u001b[33m[ WARN] [1702922720.879339355]: TF_REPEATED_DATA ignoring data with redundant timestamp for frame odom at time 4129.313000 according to authority /pose_integrator\u001b[0m\n",
      "\u001b[33m[ WARN] [1702922720.879387995]: TF_REPEATED_DATA ignoring data with redundant timestamp for frame odom at time 4129.313000 according to authority /pose_integrator\u001b[0m\n",
      "\u001b[33m[ WARN] [1702922720.879414627]: TF_REPEATED_DATA ignoring data with redundant timestamp for frame odom at time 4129.313000 according to authority /pose_integrator\u001b[0m\n",
      "\u001b[33m[ WARN] [1702922720.879436663]: TF_REPEATED_DATA ignoring data with redundant timestamp for frame odom at time 4129.313000 according to authority /pose_integrator\u001b[0m\n",
      "\u001b[33m[ WARN] [1702922720.879458402]: TF_REPEATED_DATA ignoring data with redundant timestamp for frame odom at time 4129.313000 according to authority /pose_integrator\u001b[0m\n",
      "\u001b[33m[ WARN] [1702922720.879480498]: TF_REPEATED_DATA ignoring data with redundant timestamp for frame odom at time 4129.313000 according to authority /pose_integrator\u001b[0m\n",
      "\u001b[33m[ WARN] [1702922721.122595201]: TF_REPEATED_DATA ignoring data with redundant timestamp for frame odom at time 4129.462000 according to authority /pose_integrator\u001b[0m\n",
      "\u001b[33m[ WARN] [1702922721.122635137]: TF_REPEATED_DATA ignoring data with redundant timestamp for frame odom at time 4129.462000 according to authority /pose_integrator\u001b[0m\n",
      "\u001b[33m[ WARN] [1702922721.122661154]: TF_REPEATED_DATA ignoring data with redundant timestamp for frame odom at time 4129.462000 according to authority /pose_integrator\u001b[0m\n",
      "\u001b[33m[ WARN] [1702922721.122684460]: TF_REPEATED_DATA ignoring data with redundant timestamp for frame odom at time 4129.462000 according to authority /pose_integrator\u001b[0m\n",
      "\u001b[33m[ WARN] [1702922721.122707538]: TF_REPEATED_DATA ignoring data with redundant timestamp for frame odom at time 4129.462000 according to authority /pose_integrator\u001b[0m\n",
      "\u001b[33m[ WARN] [1702922721.122732173]: TF_REPEATED_DATA ignoring data with redundant timestamp for frame odom at time 4129.462000 according to authority /pose_integrator\u001b[0m\n",
      "\u001b[33m[ WARN] [1702922729.196921508]: TF_REPEATED_DATA ignoring data with redundant timestamp for frame odom at time 4132.993000 according to authority /pose_integrator\u001b[0m\n",
      "\u001b[33m[ WARN] [1702922729.196980849]: TF_REPEATED_DATA ignoring data with redundant timestamp for frame odom at time 4132.993000 according to authority /pose_integrator\u001b[0m\n",
      "\u001b[33m[ WARN] [1702922729.197027014]: TF_REPEATED_DATA ignoring data with redundant timestamp for frame odom at time 4132.993000 according to authority /pose_integrator\u001b[0m\n",
      "\u001b[33m[ WARN] [1702922729.197078940]: TF_REPEATED_DATA ignoring data with redundant timestamp for frame odom at time 4132.993000 according to authority /pose_integrator\u001b[0m\n",
      "\u001b[33m[ WARN] [1702922729.197123244]: TF_REPEATED_DATA ignoring data with redundant timestamp for frame odom at time 4132.993000 according to authority /pose_integrator\u001b[0m\n",
      "\u001b[33m[ WARN] [1702922729.197164356]: TF_REPEATED_DATA ignoring data with redundant timestamp for frame odom at time 4132.993000 according to authority /pose_integrator\u001b[0m\n",
      "\u001b[33m[ WARN] [1702922732.759629082]: TF_REPEATED_DATA ignoring data with redundant timestamp for frame odom at time 4134.607000 according to authority /pose_integrator\u001b[0m\n",
      "\u001b[33m[ WARN] [1702922732.759690233]: TF_REPEATED_DATA ignoring data with redundant timestamp for frame odom at time 4134.607000 according to authority /pose_integrator\u001b[0m\n",
      "\u001b[33m[ WARN] [1702922732.759734959]: TF_REPEATED_DATA ignoring data with redundant timestamp for frame odom at time 4134.607000 according to authority /pose_integrator\u001b[0m\n",
      "\u001b[33m[ WARN] [1702922732.759778316]: TF_REPEATED_DATA ignoring data with redundant timestamp for frame odom at time 4134.607000 according to authority /pose_integrator\u001b[0m\n",
      "\u001b[33m[ WARN] [1702922732.759819920]: TF_REPEATED_DATA ignoring data with redundant timestamp for frame odom at time 4134.607000 according to authority /pose_integrator\u001b[0m\n",
      "\u001b[33m[ WARN] [1702922732.759852231]: TF_REPEATED_DATA ignoring data with redundant timestamp for frame odom at time 4134.607000 according to authority /pose_integrator\u001b[0m\n",
      "\u001b[33m[ WARN] [1702922738.072648803]: TF_REPEATED_DATA ignoring data with redundant timestamp for frame odom at time 4136.962000 according to authority /pose_integrator\u001b[0m\n",
      "\u001b[33m[ WARN] [1702922738.072701866]: TF_REPEATED_DATA ignoring data with redundant timestamp for frame odom at time 4136.962000 according to authority /pose_integrator\u001b[0m\n",
      "\u001b[33m[ WARN] [1702922738.072737812]: TF_REPEATED_DATA ignoring data with redundant timestamp for frame odom at time 4136.962000 according to authority /pose_integrator\u001b[0m\n",
      "\u001b[33m[ WARN] [1702922738.072774382]: TF_REPEATED_DATA ignoring data with redundant timestamp for frame odom at time 4136.962000 according to authority /pose_integrator\u001b[0m\n",
      "\u001b[33m[ WARN] [1702922738.072805867]: TF_REPEATED_DATA ignoring data with redundant timestamp for frame odom at time 4136.962000 according to authority /pose_integrator\u001b[0m\n",
      "\u001b[33m[ WARN] [1702922738.072840958]: TF_REPEATED_DATA ignoring data with redundant timestamp for frame odom at time 4136.962000 according to authority /pose_integrator\u001b[0m\n",
      "\u001b[33m[ WARN] [1702922740.990554703]: TF_REPEATED_DATA ignoring data with redundant timestamp for frame odom at time 4138.190000 according to authority /pose_integrator\u001b[0m\n",
      "\u001b[33m[ WARN] [1702922740.990607181]: TF_REPEATED_DATA ignoring data with redundant timestamp for frame odom at time 4138.190000 according to authority /pose_integrator\u001b[0m\n",
      "\u001b[33m[ WARN] [1702922740.990639232]: TF_REPEATED_DATA ignoring data with redundant timestamp for frame odom at time 4138.190000 according to authority /pose_integrator\u001b[0m\n",
      "\u001b[33m[ WARN] [1702922740.990673676]: TF_REPEATED_DATA ignoring data with redundant timestamp for frame odom at time 4138.190000 according to authority /pose_integrator\u001b[0m\n",
      "\u001b[33m[ WARN] [1702922740.990710862]: TF_REPEATED_DATA ignoring data with redundant timestamp for frame odom at time 4138.190000 according to authority /pose_integrator\u001b[0m\n",
      "\u001b[33m[ WARN] [1702922740.990750538]: TF_REPEATED_DATA ignoring data with redundant timestamp for frame odom at time 4138.190000 according to authority /pose_integrator\u001b[0m\n",
      "\u001b[33m[ WARN] [1702922744.232328556]: TF_REPEATED_DATA ignoring data with redundant timestamp for frame odom at time 4139.626000 according to authority /pose_integrator\u001b[0m\n",
      "\u001b[33m[ WARN] [1702922744.232389528]: TF_REPEATED_DATA ignoring data with redundant timestamp for frame odom at time 4139.626000 according to authority /pose_integrator\u001b[0m\n",
      "\u001b[33m[ WARN] [1702922744.232427464]: TF_REPEATED_DATA ignoring data with redundant timestamp for frame odom at time 4139.626000 according to authority /pose_integrator\u001b[0m\n",
      "\u001b[33m[ WARN] [1702922744.232464582]: TF_REPEATED_DATA ignoring data with redundant timestamp for frame odom at time 4139.626000 according to authority /pose_integrator\u001b[0m\n",
      "\u001b[33m[ WARN] [1702922744.232499561]: TF_REPEATED_DATA ignoring data with redundant timestamp for frame odom at time 4139.626000 according to authority /pose_integrator\u001b[0m\n",
      "\u001b[33m[ WARN] [1702922744.232526092]: TF_REPEATED_DATA ignoring data with redundant timestamp for frame odom at time 4139.626000 according to authority /pose_integrator\u001b[0m\n"
     ]
    },
    {
     "name": "stderr",
     "output_type": "stream",
     "text": [
      "\u001b[33m[ WARN] [1702922749.201055310]: TF_REPEATED_DATA ignoring data with redundant timestamp for frame odom at time 4141.754000 according to authority /pose_integrator\u001b[0m\n",
      "\u001b[33m[ WARN] [1702922749.201104530]: TF_REPEATED_DATA ignoring data with redundant timestamp for frame odom at time 4141.754000 according to authority /pose_integrator\u001b[0m\n",
      "\u001b[33m[ WARN] [1702922749.201140570]: TF_REPEATED_DATA ignoring data with redundant timestamp for frame odom at time 4141.754000 according to authority /pose_integrator\u001b[0m\n",
      "\u001b[33m[ WARN] [1702922749.201173778]: TF_REPEATED_DATA ignoring data with redundant timestamp for frame odom at time 4141.754000 according to authority /pose_integrator\u001b[0m\n",
      "\u001b[33m[ WARN] [1702922749.201207072]: TF_REPEATED_DATA ignoring data with redundant timestamp for frame odom at time 4141.754000 according to authority /pose_integrator\u001b[0m\n",
      "\u001b[33m[ WARN] [1702922749.201237846]: TF_REPEATED_DATA ignoring data with redundant timestamp for frame odom at time 4141.754000 according to authority /pose_integrator\u001b[0m\n",
      "\u001b[33m[ WARN] [1702922751.212885207]: TF_REPEATED_DATA ignoring data with redundant timestamp for frame odom at time 4142.652000 according to authority /pose_integrator\u001b[0m\n",
      "\u001b[33m[ WARN] [1702922751.212937174]: TF_REPEATED_DATA ignoring data with redundant timestamp for frame odom at time 4142.652000 according to authority /pose_integrator\u001b[0m\n",
      "\u001b[33m[ WARN] [1702922751.212980695]: TF_REPEATED_DATA ignoring data with redundant timestamp for frame odom at time 4142.652000 according to authority /pose_integrator\u001b[0m\n",
      "\u001b[33m[ WARN] [1702922751.213022311]: TF_REPEATED_DATA ignoring data with redundant timestamp for frame odom at time 4142.652000 according to authority /pose_integrator\u001b[0m\n",
      "\u001b[33m[ WARN] [1702922751.213048842]: TF_REPEATED_DATA ignoring data with redundant timestamp for frame odom at time 4142.652000 according to authority /pose_integrator\u001b[0m\n",
      "\u001b[33m[ WARN] [1702922751.213076845]: TF_REPEATED_DATA ignoring data with redundant timestamp for frame odom at time 4142.652000 according to authority /pose_integrator\u001b[0m\n"
     ]
    }
   ],
   "source": [
    "plt.imshow(im_corrected[300:427,192:224],cmap='prism')\n"
   ]
  },
  {
   "cell_type": "code",
   "execution_count": 14,
   "id": "de442e31",
   "metadata": {},
   "outputs": [
    {
     "data": {
      "text/plain": [
       "<matplotlib.image.AxesImage at 0x7f076c6f1e50>"
      ]
     },
     "execution_count": 14,
     "metadata": {},
     "output_type": "execute_result"
    },
    {
     "data": {
      "image/png": "[encoded data removed]",
      "text/plain": [
       "<Figure size 640x480 with 1 Axes>"
      ]
     },
     "metadata": {},
     "output_type": "display_data"
    },
    {
     "name": "stderr",
     "output_type": "stream",
     "text": [
      "\u001b[33m[ WARN] [1702922669.453042297]: TF_REPEATED_DATA ignoring data with redundant timestamp for frame odom at time 4106.139000 according to authority /pose_integrator\u001b[0m\n",
      "\u001b[33m[ WARN] [1702922669.453096603]: TF_REPEATED_DATA ignoring data with redundant timestamp for frame odom at time 4106.139000 according to authority /pose_integrator\u001b[0m\n",
      "\u001b[33m[ WARN] [1702922669.453128575]: TF_REPEATED_DATA ignoring data with redundant timestamp for frame odom at time 4106.139000 according to authority /pose_integrator\u001b[0m\n",
      "\u001b[33m[ WARN] [1702922669.453158436]: TF_REPEATED_DATA ignoring data with redundant timestamp for frame odom at time 4106.139000 according to authority /pose_integrator\u001b[0m\n",
      "\u001b[33m[ WARN] [1702922669.453183604]: TF_REPEATED_DATA ignoring data with redundant timestamp for frame odom at time 4106.139000 according to authority /pose_integrator\u001b[0m\n",
      "\u001b[33m[ WARN] [1702922669.453207558]: TF_REPEATED_DATA ignoring data with redundant timestamp for frame odom at time 4106.139000 according to authority /pose_integrator\u001b[0m\n",
      "\u001b[33m[ WARN] [1702922670.047934393]: TF_REPEATED_DATA ignoring data with redundant timestamp for frame odom at time 4106.445000 according to authority /pose_integrator\u001b[0m\n",
      "\u001b[33m[ WARN] [1702922670.047976179]: TF_REPEATED_DATA ignoring data with redundant timestamp for frame odom at time 4106.445000 according to authority /pose_integrator\u001b[0m\n",
      "\u001b[33m[ WARN] [1702922670.048017719]: TF_REPEATED_DATA ignoring data with redundant timestamp for frame odom at time 4106.445000 according to authority /pose_integrator\u001b[0m\n",
      "\u001b[33m[ WARN] [1702922670.048045334]: TF_REPEATED_DATA ignoring data with redundant timestamp for frame odom at time 4106.445000 according to authority /pose_integrator\u001b[0m\n",
      "\u001b[33m[ WARN] [1702922670.048069576]: TF_REPEATED_DATA ignoring data with redundant timestamp for frame odom at time 4106.445000 according to authority /pose_integrator\u001b[0m\n",
      "\u001b[33m[ WARN] [1702922670.048093224]: TF_REPEATED_DATA ignoring data with redundant timestamp for frame odom at time 4106.445000 according to authority /pose_integrator\u001b[0m\n",
      "\u001b[33m[ WARN] [1702922671.533289396]: TF_REPEATED_DATA ignoring data with redundant timestamp for frame odom at time 4107.081000 according to authority /pose_integrator\u001b[0m\n",
      "\u001b[33m[ WARN] [1702922671.533357238]: TF_REPEATED_DATA ignoring data with redundant timestamp for frame odom at time 4107.081000 according to authority /pose_integrator\u001b[0m\n",
      "\u001b[33m[ WARN] [1702922671.533402658]: TF_REPEATED_DATA ignoring data with redundant timestamp for frame odom at time 4107.081000 according to authority /pose_integrator\u001b[0m\n",
      "\u001b[33m[ WARN] [1702922671.533453159]: TF_REPEATED_DATA ignoring data with redundant timestamp for frame odom at time 4107.081000 according to authority /pose_integrator\u001b[0m\n",
      "\u001b[33m[ WARN] [1702922671.533503701]: TF_REPEATED_DATA ignoring data with redundant timestamp for frame odom at time 4107.081000 according to authority /pose_integrator\u001b[0m\n",
      "\u001b[33m[ WARN] [1702922671.533553204]: TF_REPEATED_DATA ignoring data with redundant timestamp for frame odom at time 4107.081000 according to authority /pose_integrator\u001b[0m\n",
      "\u001b[33m[ WARN] [1702922673.059299603]: TF_REPEATED_DATA ignoring data with redundant timestamp for frame odom at time 4107.751000 according to authority /pose_integrator\u001b[0m\n",
      "\u001b[33m[ WARN] [1702922673.059364245]: TF_REPEATED_DATA ignoring data with redundant timestamp for frame odom at time 4107.751000 according to authority /pose_integrator\u001b[0m\n",
      "\u001b[33m[ WARN] [1702922673.059396817]: TF_REPEATED_DATA ignoring data with redundant timestamp for frame odom at time 4107.751000 according to authority /pose_integrator\u001b[0m\n",
      "\u001b[33m[ WARN] [1702922673.059423282]: TF_REPEATED_DATA ignoring data with redundant timestamp for frame odom at time 4107.751000 according to authority /pose_integrator\u001b[0m\n",
      "\u001b[33m[ WARN] [1702922673.059448513]: TF_REPEATED_DATA ignoring data with redundant timestamp for frame odom at time 4107.751000 according to authority /pose_integrator\u001b[0m\n",
      "\u001b[33m[ WARN] [1702922673.059480473]: TF_REPEATED_DATA ignoring data with redundant timestamp for frame odom at time 4107.751000 according to authority /pose_integrator\u001b[0m\n",
      "\u001b[33m[ WARN] [1702922673.352942371]: TF_REPEATED_DATA ignoring data with redundant timestamp for frame odom at time 4107.896000 according to authority /pose_integrator\u001b[0m\n",
      "\u001b[33m[ WARN] [1702922673.352987261]: TF_REPEATED_DATA ignoring data with redundant timestamp for frame odom at time 4107.896000 according to authority /pose_integrator\u001b[0m\n",
      "\u001b[33m[ WARN] [1702922673.353025488]: TF_REPEATED_DATA ignoring data with redundant timestamp for frame odom at time 4107.896000 according to authority /pose_integrator\u001b[0m\n",
      "\u001b[33m[ WARN] [1702922673.353063311]: TF_REPEATED_DATA ignoring data with redundant timestamp for frame odom at time 4107.896000 according to authority /pose_integrator\u001b[0m\n",
      "\u001b[33m[ WARN] [1702922673.353089722]: TF_REPEATED_DATA ignoring data with redundant timestamp for frame odom at time 4107.896000 according to authority /pose_integrator\u001b[0m\n",
      "\u001b[33m[ WARN] [1702922673.353113762]: TF_REPEATED_DATA ignoring data with redundant timestamp for frame odom at time 4107.896000 according to authority /pose_integrator\u001b[0m\n",
      "\u001b[33m[ WARN] [1702922674.069252577]: TF_REPEATED_DATA ignoring data with redundant timestamp for frame odom at time 4108.227000 according to authority /pose_integrator\u001b[0m\n",
      "\u001b[33m[ WARN] [1702922674.069293422]: TF_REPEATED_DATA ignoring data with redundant timestamp for frame odom at time 4108.227000 according to authority /pose_integrator\u001b[0m\n",
      "\u001b[33m[ WARN] [1702922674.069320243]: TF_REPEATED_DATA ignoring data with redundant timestamp for frame odom at time 4108.227000 according to authority /pose_integrator\u001b[0m\n",
      "\u001b[33m[ WARN] [1702922674.069352293]: TF_REPEATED_DATA ignoring data with redundant timestamp for frame odom at time 4108.227000 according to authority /pose_integrator\u001b[0m\n",
      "\u001b[33m[ WARN] [1702922674.069376536]: TF_REPEATED_DATA ignoring data with redundant timestamp for frame odom at time 4108.227000 according to authority /pose_integrator\u001b[0m\n",
      "\u001b[33m[ WARN] [1702922674.069406611]: TF_REPEATED_DATA ignoring data with redundant timestamp for frame odom at time 4108.227000 according to authority /pose_integrator\u001b[0m\n",
      "\u001b[33m[ WARN] [1702922674.589650441]: TF_REPEATED_DATA ignoring data with redundant timestamp for frame odom at time 4108.451000 according to authority /pose_integrator\u001b[0m\n",
      "\u001b[33m[ WARN] [1702922674.589696715]: TF_REPEATED_DATA ignoring data with redundant timestamp for frame odom at time 4108.451000 according to authority /pose_integrator\u001b[0m\n",
      "\u001b[33m[ WARN] [1702922674.589746578]: TF_REPEATED_DATA ignoring data with redundant timestamp for frame odom at time 4108.451000 according to authority /pose_integrator\u001b[0m\n",
      "\u001b[33m[ WARN] [1702922674.589781531]: TF_REPEATED_DATA ignoring data with redundant timestamp for frame odom at time 4108.451000 according to authority /pose_integrator\u001b[0m\n",
      "\u001b[33m[ WARN] [1702922674.589813324]: TF_REPEATED_DATA ignoring data with redundant timestamp for frame odom at time 4108.451000 according to authority /pose_integrator\u001b[0m\n",
      "\u001b[33m[ WARN] [1702922674.589841561]: TF_REPEATED_DATA ignoring data with redundant timestamp for frame odom at time 4108.451000 according to authority /pose_integrator\u001b[0m\n",
      "\u001b[33m[ WARN] [1702922677.885990043]: TF_REPEATED_DATA ignoring data with redundant timestamp for frame odom at time 4109.882000 according to authority /pose_integrator\u001b[0m\n",
      "\u001b[33m[ WARN] [1702922677.886045535]: TF_REPEATED_DATA ignoring data with redundant timestamp for frame odom at time 4109.882000 according to authority /pose_integrator\u001b[0m\n",
      "\u001b[33m[ WARN] [1702922677.886074268]: TF_REPEATED_DATA ignoring data with redundant timestamp for frame odom at time 4109.882000 according to authority /pose_integrator\u001b[0m\n",
      "\u001b[33m[ WARN] [1702922677.886100401]: TF_REPEATED_DATA ignoring data with redundant timestamp for frame odom at time 4109.882000 according to authority /pose_integrator\u001b[0m\n",
      "\u001b[33m[ WARN] [1702922677.886125108]: TF_REPEATED_DATA ignoring data with redundant timestamp for frame odom at time 4109.882000 according to authority /pose_integrator\u001b[0m\n",
      "\u001b[33m[ WARN] [1702922677.886159516]: TF_REPEATED_DATA ignoring data with redundant timestamp for frame odom at time 4109.882000 according to authority /pose_integrator\u001b[0m\n"
     ]
    },
    {
     "name": "stderr",
     "output_type": "stream",
     "text": [
      "\u001b[33m[ WARN] [1702922680.930755665]: TF_REPEATED_DATA ignoring data with redundant timestamp for frame odom at time 4111.282000 according to authority /pose_integrator\u001b[0m\n",
      "\u001b[33m[ WARN] [1702922680.930801726]: TF_REPEATED_DATA ignoring data with redundant timestamp for frame odom at time 4111.282000 according to authority /pose_integrator\u001b[0m\n",
      "\u001b[33m[ WARN] [1702922680.930834439]: TF_REPEATED_DATA ignoring data with redundant timestamp for frame odom at time 4111.282000 according to authority /pose_integrator\u001b[0m\n",
      "\u001b[33m[ WARN] [1702922680.930859224]: TF_REPEATED_DATA ignoring data with redundant timestamp for frame odom at time 4111.282000 according to authority /pose_integrator\u001b[0m\n",
      "\u001b[33m[ WARN] [1702922680.930883509]: TF_REPEATED_DATA ignoring data with redundant timestamp for frame odom at time 4111.282000 according to authority /pose_integrator\u001b[0m\n",
      "\u001b[33m[ WARN] [1702922680.930908564]: TF_REPEATED_DATA ignoring data with redundant timestamp for frame odom at time 4111.282000 according to authority /pose_integrator\u001b[0m\n",
      "\u001b[33m[ WARN] [1702922681.076698386]: TF_REPEATED_DATA ignoring data with redundant timestamp for frame odom at time 4111.354000 according to authority /pose_integrator\u001b[0m\n",
      "\u001b[33m[ WARN] [1702922681.076744617]: TF_REPEATED_DATA ignoring data with redundant timestamp for frame odom at time 4111.354000 according to authority /pose_integrator\u001b[0m\n",
      "\u001b[33m[ WARN] [1702922681.076781483]: TF_REPEATED_DATA ignoring data with redundant timestamp for frame odom at time 4111.354000 according to authority /pose_integrator\u001b[0m\n",
      "\u001b[33m[ WARN] [1702922681.076825048]: TF_REPEATED_DATA ignoring data with redundant timestamp for frame odom at time 4111.354000 according to authority /pose_integrator\u001b[0m\n",
      "\u001b[33m[ WARN] [1702922681.076851641]: TF_REPEATED_DATA ignoring data with redundant timestamp for frame odom at time 4111.354000 according to authority /pose_integrator\u001b[0m\n",
      "\u001b[33m[ WARN] [1702922681.076882207]: TF_REPEATED_DATA ignoring data with redundant timestamp for frame odom at time 4111.354000 according to authority /pose_integrator\u001b[0m\n",
      "\u001b[33m[ WARN] [1702922682.974562656]: TF_REPEATED_DATA ignoring data with redundant timestamp for frame odom at time 4112.206000 according to authority /pose_integrator\u001b[0m\n",
      "\u001b[33m[ WARN] [1702922682.974619225]: TF_REPEATED_DATA ignoring data with redundant timestamp for frame odom at time 4112.206000 according to authority /pose_integrator\u001b[0m\n",
      "\u001b[33m[ WARN] [1702922682.974653530]: TF_REPEATED_DATA ignoring data with redundant timestamp for frame odom at time 4112.206000 according to authority /pose_integrator\u001b[0m\n",
      "\u001b[33m[ WARN] [1702922682.974692552]: TF_REPEATED_DATA ignoring data with redundant timestamp for frame odom at time 4112.206000 according to authority /pose_integrator\u001b[0m\n",
      "\u001b[33m[ WARN] [1702922682.974728615]: TF_REPEATED_DATA ignoring data with redundant timestamp for frame odom at time 4112.206000 according to authority /pose_integrator\u001b[0m\n",
      "\u001b[33m[ WARN] [1702922682.974766812]: TF_REPEATED_DATA ignoring data with redundant timestamp for frame odom at time 4112.206000 according to authority /pose_integrator\u001b[0m\n",
      "\u001b[33m[ WARN] [1702922687.140151479]: TF_REPEATED_DATA ignoring data with redundant timestamp for frame odom at time 4113.942000 according to authority /pose_integrator\u001b[0m\n",
      "\u001b[33m[ WARN] [1702922687.140203124]: TF_REPEATED_DATA ignoring data with redundant timestamp for frame odom at time 4113.942000 according to authority /pose_integrator\u001b[0m\n",
      "\u001b[33m[ WARN] [1702922687.140232394]: TF_REPEATED_DATA ignoring data with redundant timestamp for frame odom at time 4113.942000 according to authority /pose_integrator\u001b[0m\n",
      "\u001b[33m[ WARN] [1702922687.140266601]: TF_REPEATED_DATA ignoring data with redundant timestamp for frame odom at time 4113.942000 according to authority /pose_integrator\u001b[0m\n",
      "\u001b[33m[ WARN] [1702922687.140293383]: TF_REPEATED_DATA ignoring data with redundant timestamp for frame odom at time 4113.942000 according to authority /pose_integrator\u001b[0m\n",
      "\u001b[33m[ WARN] [1702922687.140325130]: TF_REPEATED_DATA ignoring data with redundant timestamp for frame odom at time 4113.942000 according to authority /pose_integrator\u001b[0m\n",
      "\u001b[33m[ WARN] [1702922687.279973540]: TF_REPEATED_DATA ignoring data with redundant timestamp for frame odom at time 4114.010000 according to authority /pose_integrator\u001b[0m\n",
      "\u001b[33m[ WARN] [1702922687.280023270]: TF_REPEATED_DATA ignoring data with redundant timestamp for frame odom at time 4114.010000 according to authority /pose_integrator\u001b[0m\n",
      "\u001b[33m[ WARN] [1702922687.280060700]: TF_REPEATED_DATA ignoring data with redundant timestamp for frame odom at time 4114.010000 according to authority /pose_integrator\u001b[0m\n",
      "\u001b[33m[ WARN] [1702922687.280088144]: TF_REPEATED_DATA ignoring data with redundant timestamp for frame odom at time 4114.010000 according to authority /pose_integrator\u001b[0m\n",
      "\u001b[33m[ WARN] [1702922687.280113685]: TF_REPEATED_DATA ignoring data with redundant timestamp for frame odom at time 4114.010000 according to authority /pose_integrator\u001b[0m\n",
      "\u001b[33m[ WARN] [1702922687.280137573]: TF_REPEATED_DATA ignoring data with redundant timestamp for frame odom at time 4114.010000 according to authority /pose_integrator\u001b[0m\n",
      "\u001b[33m[ WARN] [1702922687.455288413]: TF_REPEATED_DATA ignoring data with redundant timestamp for frame odom at time 4114.089000 according to authority /pose_integrator\u001b[0m\n",
      "\u001b[33m[ WARN] [1702922687.455340430]: TF_REPEATED_DATA ignoring data with redundant timestamp for frame odom at time 4114.089000 according to authority /pose_integrator\u001b[0m\n",
      "\u001b[33m[ WARN] [1702922687.455384772]: TF_REPEATED_DATA ignoring data with redundant timestamp for frame odom at time 4114.089000 according to authority /pose_integrator\u001b[0m\n",
      "\u001b[33m[ WARN] [1702922687.455427000]: TF_REPEATED_DATA ignoring data with redundant timestamp for frame odom at time 4114.089000 according to authority /pose_integrator\u001b[0m\n",
      "\u001b[33m[ WARN] [1702922687.455475291]: TF_REPEATED_DATA ignoring data with redundant timestamp for frame odom at time 4114.089000 according to authority /pose_integrator\u001b[0m\n",
      "\u001b[33m[ WARN] [1702922687.455516412]: TF_REPEATED_DATA ignoring data with redundant timestamp for frame odom at time 4114.089000 according to authority /pose_integrator\u001b[0m\n",
      "\u001b[33m[ WARN] [1702922687.746954845]: TF_REPEATED_DATA ignoring data with redundant timestamp for frame odom at time 4114.239000 according to authority /pose_integrator\u001b[0m\n",
      "\u001b[33m[ WARN] [1702922687.747011332]: TF_REPEATED_DATA ignoring data with redundant timestamp for frame odom at time 4114.239000 according to authority /pose_integrator\u001b[0m\n",
      "\u001b[33m[ WARN] [1702922687.747056484]: TF_REPEATED_DATA ignoring data with redundant timestamp for frame odom at time 4114.239000 according to authority /pose_integrator\u001b[0m\n",
      "\u001b[33m[ WARN] [1702922687.747093196]: TF_REPEATED_DATA ignoring data with redundant timestamp for frame odom at time 4114.239000 according to authority /pose_integrator\u001b[0m\n",
      "\u001b[33m[ WARN] [1702922687.747128243]: TF_REPEATED_DATA ignoring data with redundant timestamp for frame odom at time 4114.239000 according to authority /pose_integrator\u001b[0m\n",
      "\u001b[33m[ WARN] [1702922687.747170732]: TF_REPEATED_DATA ignoring data with redundant timestamp for frame odom at time 4114.239000 according to authority /pose_integrator\u001b[0m\n",
      "\u001b[33m[ WARN] [1702922689.176491714]: TF_REPEATED_DATA ignoring data with redundant timestamp for frame odom at time 4114.913000 according to authority /pose_integrator\u001b[0m\n",
      "\u001b[33m[ WARN] [1702922689.176540773]: TF_REPEATED_DATA ignoring data with redundant timestamp for frame odom at time 4114.913000 according to authority /pose_integrator\u001b[0m\n",
      "\u001b[33m[ WARN] [1702922689.176576583]: TF_REPEATED_DATA ignoring data with redundant timestamp for frame odom at time 4114.913000 according to authority /pose_integrator\u001b[0m\n",
      "\u001b[33m[ WARN] [1702922689.176606844]: TF_REPEATED_DATA ignoring data with redundant timestamp for frame odom at time 4114.913000 according to authority /pose_integrator\u001b[0m\n",
      "\u001b[33m[ WARN] [1702922689.176643473]: TF_REPEATED_DATA ignoring data with redundant timestamp for frame odom at time 4114.913000 according to authority /pose_integrator\u001b[0m\n",
      "\u001b[33m[ WARN] [1702922689.176680696]: TF_REPEATED_DATA ignoring data with redundant timestamp for frame odom at time 4114.913000 according to authority /pose_integrator\u001b[0m\n",
      "\u001b[33m[ WARN] [1702922689.312352579]: TF_REPEATED_DATA ignoring data with redundant timestamp for frame odom at time 4114.992000 according to authority /pose_integrator\u001b[0m\n",
      "\u001b[33m[ WARN] [1702922689.312406137]: TF_REPEATED_DATA ignoring data with redundant timestamp for frame odom at time 4114.992000 according to authority /pose_integrator\u001b[0m\n",
      "\u001b[33m[ WARN] [1702922689.312443167]: TF_REPEATED_DATA ignoring data with redundant timestamp for frame odom at time 4114.992000 according to authority /pose_integrator\u001b[0m\n",
      "\u001b[33m[ WARN] [1702922689.312482778]: TF_REPEATED_DATA ignoring data with redundant timestamp for frame odom at time 4114.992000 according to authority /pose_integrator\u001b[0m\n",
      "\u001b[33m[ WARN] [1702922689.312524756]: TF_REPEATED_DATA ignoring data with redundant timestamp for frame odom at time 4114.992000 according to authority /pose_integrator\u001b[0m\n",
      "\u001b[33m[ WARN] [1702922689.312560321]: TF_REPEATED_DATA ignoring data with redundant timestamp for frame odom at time 4114.992000 according to authority /pose_integrator\u001b[0m\n"
     ]
    },
    {
     "name": "stderr",
     "output_type": "stream",
     "text": [
      "\u001b[33m[ WARN] [1702922690.391254499]: TF_REPEATED_DATA ignoring data with redundant timestamp for frame odom at time 4115.488000 according to authority /pose_integrator\u001b[0m\n",
      "\u001b[33m[ WARN] [1702922690.391295697]: TF_REPEATED_DATA ignoring data with redundant timestamp for frame odom at time 4115.488000 according to authority /pose_integrator\u001b[0m\n",
      "\u001b[33m[ WARN] [1702922690.391326988]: TF_REPEATED_DATA ignoring data with redundant timestamp for frame odom at time 4115.488000 according to authority /pose_integrator\u001b[0m\n",
      "\u001b[33m[ WARN] [1702922690.391368216]: TF_REPEATED_DATA ignoring data with redundant timestamp for frame odom at time 4115.488000 according to authority /pose_integrator\u001b[0m\n",
      "\u001b[33m[ WARN] [1702922690.391395059]: TF_REPEATED_DATA ignoring data with redundant timestamp for frame odom at time 4115.488000 according to authority /pose_integrator\u001b[0m\n",
      "\u001b[33m[ WARN] [1702922690.391418096]: TF_REPEATED_DATA ignoring data with redundant timestamp for frame odom at time 4115.488000 according to authority /pose_integrator\u001b[0m\n",
      "\u001b[33m[ WARN] [1702922691.227430129]: TF_REPEATED_DATA ignoring data with redundant timestamp for frame odom at time 4115.865000 according to authority /pose_integrator\u001b[0m\n",
      "\u001b[33m[ WARN] [1702922691.227470166]: TF_REPEATED_DATA ignoring data with redundant timestamp for frame odom at time 4115.865000 according to authority /pose_integrator\u001b[0m\n",
      "\u001b[33m[ WARN] [1702922691.227494723]: TF_REPEATED_DATA ignoring data with redundant timestamp for frame odom at time 4115.865000 according to authority /pose_integrator\u001b[0m\n",
      "\u001b[33m[ WARN] [1702922691.227516709]: TF_REPEATED_DATA ignoring data with redundant timestamp for frame odom at time 4115.865000 according to authority /pose_integrator\u001b[0m\n",
      "\u001b[33m[ WARN] [1702922691.227538188]: TF_REPEATED_DATA ignoring data with redundant timestamp for frame odom at time 4115.865000 according to authority /pose_integrator\u001b[0m\n",
      "\u001b[33m[ WARN] [1702922691.227559712]: TF_REPEATED_DATA ignoring data with redundant timestamp for frame odom at time 4115.865000 according to authority /pose_integrator\u001b[0m\n",
      "\u001b[33m[ WARN] [1702922691.358921440]: TF_REPEATED_DATA ignoring data with redundant timestamp for frame odom at time 4115.932000 according to authority /pose_integrator\u001b[0m\n",
      "\u001b[33m[ WARN] [1702922691.358974502]: TF_REPEATED_DATA ignoring data with redundant timestamp for frame odom at time 4115.932000 according to authority /pose_integrator\u001b[0m\n",
      "\u001b[33m[ WARN] [1702922691.359009100]: TF_REPEATED_DATA ignoring data with redundant timestamp for frame odom at time 4115.932000 according to authority /pose_integrator\u001b[0m\n",
      "\u001b[33m[ WARN] [1702922691.359043548]: TF_REPEATED_DATA ignoring data with redundant timestamp for frame odom at time 4115.932000 according to authority /pose_integrator\u001b[0m\n",
      "\u001b[33m[ WARN] [1702922691.359076851]: TF_REPEATED_DATA ignoring data with redundant timestamp for frame odom at time 4115.932000 according to authority /pose_integrator\u001b[0m\n",
      "\u001b[33m[ WARN] [1702922691.359110519]: TF_REPEATED_DATA ignoring data with redundant timestamp for frame odom at time 4115.932000 according to authority /pose_integrator\u001b[0m\n",
      "\u001b[33m[ WARN] [1702922694.384009655]: TF_REPEATED_DATA ignoring data with redundant timestamp for frame odom at time 4117.340000 according to authority /pose_integrator\u001b[0m\n",
      "\u001b[33m[ WARN] [1702922694.384066064]: TF_REPEATED_DATA ignoring data with redundant timestamp for frame odom at time 4117.340000 according to authority /pose_integrator\u001b[0m\n",
      "\u001b[33m[ WARN] [1702922694.384102734]: TF_REPEATED_DATA ignoring data with redundant timestamp for frame odom at time 4117.340000 according to authority /pose_integrator\u001b[0m\n",
      "\u001b[33m[ WARN] [1702922694.384134902]: TF_REPEATED_DATA ignoring data with redundant timestamp for frame odom at time 4117.340000 according to authority /pose_integrator\u001b[0m\n",
      "\u001b[33m[ WARN] [1702922694.384160744]: TF_REPEATED_DATA ignoring data with redundant timestamp for frame odom at time 4117.340000 according to authority /pose_integrator\u001b[0m\n",
      "\u001b[33m[ WARN] [1702922694.384184054]: TF_REPEATED_DATA ignoring data with redundant timestamp for frame odom at time 4117.340000 according to authority /pose_integrator\u001b[0m\n",
      "\u001b[33m[ WARN] [1702922698.126361397]: TF_REPEATED_DATA ignoring data with redundant timestamp for frame odom at time 4118.948000 according to authority /pose_integrator\u001b[0m\n",
      "\u001b[33m[ WARN] [1702922698.126409404]: TF_REPEATED_DATA ignoring data with redundant timestamp for frame odom at time 4118.948000 according to authority /pose_integrator\u001b[0m\n",
      "\u001b[33m[ WARN] [1702922698.126435089]: TF_REPEATED_DATA ignoring data with redundant timestamp for frame odom at time 4118.948000 according to authority /pose_integrator\u001b[0m\n",
      "\u001b[33m[ WARN] [1702922698.126457785]: TF_REPEATED_DATA ignoring data with redundant timestamp for frame odom at time 4118.948000 according to authority /pose_integrator\u001b[0m\n",
      "\u001b[33m[ WARN] [1702922698.126480364]: TF_REPEATED_DATA ignoring data with redundant timestamp for frame odom at time 4118.948000 according to authority /pose_integrator\u001b[0m\n",
      "\u001b[33m[ WARN] [1702922698.126508761]: TF_REPEATED_DATA ignoring data with redundant timestamp for frame odom at time 4118.948000 according to authority /pose_integrator\u001b[0m\n",
      "\u001b[33m[ WARN] [1702922698.580800656]: TF_REPEATED_DATA ignoring data with redundant timestamp for frame odom at time 4119.168000 according to authority /pose_integrator\u001b[0m\n",
      "\u001b[33m[ WARN] [1702922698.580853440]: TF_REPEATED_DATA ignoring data with redundant timestamp for frame odom at time 4119.168000 according to authority /pose_integrator\u001b[0m\n",
      "\u001b[33m[ WARN] [1702922698.580884822]: TF_REPEATED_DATA ignoring data with redundant timestamp for frame odom at time 4119.168000 according to authority /pose_integrator\u001b[0m\n",
      "\u001b[33m[ WARN] [1702922698.580911459]: TF_REPEATED_DATA ignoring data with redundant timestamp for frame odom at time 4119.168000 according to authority /pose_integrator\u001b[0m\n",
      "\u001b[33m[ WARN] [1702922698.580944430]: TF_REPEATED_DATA ignoring data with redundant timestamp for frame odom at time 4119.168000 according to authority /pose_integrator\u001b[0m\n",
      "\u001b[33m[ WARN] [1702922698.580972978]: TF_REPEATED_DATA ignoring data with redundant timestamp for frame odom at time 4119.168000 according to authority /pose_integrator\u001b[0m\n"
     ]
    }
   ],
   "source": [
    "plt.imshow(im_corrected[90:160,50:185],cmap='prism')\n"
   ]
  },
  {
   "cell_type": "code",
   "execution_count": 23,
   "id": "a41fb20c",
   "metadata": {},
   "outputs": [
    {
     "name": "stderr",
     "output_type": "stream",
     "text": [
      "\u001b[33m[ WARN] [1702923012.207608016]: TF_REPEATED_DATA ignoring data with redundant timestamp for frame odom at time 4262.227000 according to authority /pose_integrator\u001b[0m\n",
      "\u001b[33m[ WARN] [1702923012.207661726]: TF_REPEATED_DATA ignoring data with redundant timestamp for frame odom at time 4262.227000 according to authority /pose_integrator\u001b[0m\n",
      "\u001b[33m[ WARN] [1702923012.207697727]: TF_REPEATED_DATA ignoring data with redundant timestamp for frame odom at time 4262.227000 according to authority /pose_integrator\u001b[0m\n",
      "\u001b[33m[ WARN] [1702923012.207734652]: TF_REPEATED_DATA ignoring data with redundant timestamp for frame odom at time 4262.227000 according to authority /pose_integrator\u001b[0m\n",
      "\u001b[33m[ WARN] [1702923012.207768469]: TF_REPEATED_DATA ignoring data with redundant timestamp for frame odom at time 4262.227000 according to authority /pose_integrator\u001b[0m\n",
      "\u001b[33m[ WARN] [1702923012.207807068]: TF_REPEATED_DATA ignoring data with redundant timestamp for frame odom at time 4262.227000 according to authority /pose_integrator\u001b[0m\n"
     ]
    },
    {
     "data": {
      "text/plain": [
       "0.58870137"
      ]
     },
     "execution_count": 23,
     "metadata": {},
     "output_type": "execute_result"
    },
    {
     "name": "stderr",
     "output_type": "stream",
     "text": [
      "\u001b[33m[ WARN] [1702923015.490386698]: TF_REPEATED_DATA ignoring data with redundant timestamp for frame odom at time 4263.695000 according to authority /pose_integrator\u001b[0m\n",
      "\u001b[33m[ WARN] [1702923015.490430326]: TF_REPEATED_DATA ignoring data with redundant timestamp for frame odom at time 4263.695000 according to authority /pose_integrator\u001b[0m\n",
      "\u001b[33m[ WARN] [1702923015.490462200]: TF_REPEATED_DATA ignoring data with redundant timestamp for frame odom at time 4263.695000 according to authority /pose_integrator\u001b[0m\n",
      "\u001b[33m[ WARN] [1702923015.490493499]: TF_REPEATED_DATA ignoring data with redundant timestamp for frame odom at time 4263.695000 according to authority /pose_integrator\u001b[0m\n",
      "\u001b[33m[ WARN] [1702923015.490522903]: TF_REPEATED_DATA ignoring data with redundant timestamp for frame odom at time 4263.695000 according to authority /pose_integrator\u001b[0m\n",
      "\u001b[33m[ WARN] [1702923015.490551757]: TF_REPEATED_DATA ignoring data with redundant timestamp for frame odom at time 4263.695000 according to authority /pose_integrator\u001b[0m\n",
      "\u001b[33m[ WARN] [1702923016.844423544]: TF_REPEATED_DATA ignoring data with redundant timestamp for frame odom at time 4264.343000 according to authority /pose_integrator\u001b[0m\n",
      "\u001b[33m[ WARN] [1702923016.844477793]: TF_REPEATED_DATA ignoring data with redundant timestamp for frame odom at time 4264.343000 according to authority /pose_integrator\u001b[0m\n",
      "\u001b[33m[ WARN] [1702923016.844516483]: TF_REPEATED_DATA ignoring data with redundant timestamp for frame odom at time 4264.343000 according to authority /pose_integrator\u001b[0m\n",
      "\u001b[33m[ WARN] [1702923016.844556981]: TF_REPEATED_DATA ignoring data with redundant timestamp for frame odom at time 4264.343000 according to authority /pose_integrator\u001b[0m\n",
      "\u001b[33m[ WARN] [1702923016.844596986]: TF_REPEATED_DATA ignoring data with redundant timestamp for frame odom at time 4264.343000 according to authority /pose_integrator\u001b[0m\n",
      "\u001b[33m[ WARN] [1702923016.844639189]: TF_REPEATED_DATA ignoring data with redundant timestamp for frame odom at time 4264.343000 according to authority /pose_integrator\u001b[0m\n",
      "\u001b[33m[ WARN] [1702923020.241796747]: TF_REPEATED_DATA ignoring data with redundant timestamp for frame odom at time 4265.894000 according to authority /pose_integrator\u001b[0m\n",
      "\u001b[33m[ WARN] [1702923020.241839961]: TF_REPEATED_DATA ignoring data with redundant timestamp for frame odom at time 4265.894000 according to authority /pose_integrator\u001b[0m\n",
      "\u001b[33m[ WARN] [1702923020.241868215]: TF_REPEATED_DATA ignoring data with redundant timestamp for frame odom at time 4265.894000 according to authority /pose_integrator\u001b[0m\n",
      "\u001b[33m[ WARN] [1702923020.241906192]: TF_REPEATED_DATA ignoring data with redundant timestamp for frame odom at time 4265.894000 according to authority /pose_integrator\u001b[0m\n",
      "\u001b[33m[ WARN] [1702923020.241934071]: TF_REPEATED_DATA ignoring data with redundant timestamp for frame odom at time 4265.894000 according to authority /pose_integrator\u001b[0m\n",
      "\u001b[33m[ WARN] [1702923020.241959993]: TF_REPEATED_DATA ignoring data with redundant timestamp for frame odom at time 4265.894000 according to authority /pose_integrator\u001b[0m\n",
      "\u001b[33m[ WARN] [1702923022.259873697]: TF_REPEATED_DATA ignoring data with redundant timestamp for frame odom at time 4266.827000 according to authority /pose_integrator\u001b[0m\n",
      "\u001b[33m[ WARN] [1702923022.259951651]: TF_REPEATED_DATA ignoring data with redundant timestamp for frame odom at time 4266.827000 according to authority /pose_integrator\u001b[0m\n",
      "\u001b[33m[ WARN] [1702923022.259984899]: TF_REPEATED_DATA ignoring data with redundant timestamp for frame odom at time 4266.827000 according to authority /pose_integrator\u001b[0m\n",
      "\u001b[33m[ WARN] [1702923022.260015345]: TF_REPEATED_DATA ignoring data with redundant timestamp for frame odom at time 4266.827000 according to authority /pose_integrator\u001b[0m\n",
      "\u001b[33m[ WARN] [1702923022.260044587]: TF_REPEATED_DATA ignoring data with redundant timestamp for frame odom at time 4266.827000 according to authority /pose_integrator\u001b[0m\n",
      "\u001b[33m[ WARN] [1702923022.260073403]: TF_REPEATED_DATA ignoring data with redundant timestamp for frame odom at time 4266.827000 according to authority /pose_integrator\u001b[0m\n",
      "\u001b[33m[ WARN] [1702923028.266165035]: TF_REPEATED_DATA ignoring data with redundant timestamp for frame odom at time 4269.525000 according to authority /pose_integrator\u001b[0m\n",
      "\u001b[33m[ WARN] [1702923028.266217816]: TF_REPEATED_DATA ignoring data with redundant timestamp for frame odom at time 4269.525000 according to authority /pose_integrator\u001b[0m\n",
      "\u001b[33m[ WARN] [1702923028.266256512]: TF_REPEATED_DATA ignoring data with redundant timestamp for frame odom at time 4269.525000 according to authority /pose_integrator\u001b[0m\n",
      "\u001b[33m[ WARN] [1702923028.266284921]: TF_REPEATED_DATA ignoring data with redundant timestamp for frame odom at time 4269.525000 according to authority /pose_integrator\u001b[0m\n",
      "\u001b[33m[ WARN] [1702923028.266316277]: TF_REPEATED_DATA ignoring data with redundant timestamp for frame odom at time 4269.525000 according to authority /pose_integrator\u001b[0m\n",
      "\u001b[33m[ WARN] [1702923028.266358878]: TF_REPEATED_DATA ignoring data with redundant timestamp for frame odom at time 4269.525000 according to authority /pose_integrator\u001b[0m\n",
      "\u001b[33m[ WARN] [1702923028.583362930]: TF_REPEATED_DATA ignoring data with redundant timestamp for frame odom at time 4269.661000 according to authority /pose_integrator\u001b[0m\n",
      "\u001b[33m[ WARN] [1702923028.583416859]: TF_REPEATED_DATA ignoring data with redundant timestamp for frame odom at time 4269.661000 according to authority /pose_integrator\u001b[0m\n",
      "\u001b[33m[ WARN] [1702923028.583455677]: TF_REPEATED_DATA ignoring data with redundant timestamp for frame odom at time 4269.661000 according to authority /pose_integrator\u001b[0m\n",
      "\u001b[33m[ WARN] [1702923028.583486113]: TF_REPEATED_DATA ignoring data with redundant timestamp for frame odom at time 4269.661000 according to authority /pose_integrator\u001b[0m\n",
      "\u001b[33m[ WARN] [1702923028.583511783]: TF_REPEATED_DATA ignoring data with redundant timestamp for frame odom at time 4269.661000 according to authority /pose_integrator\u001b[0m\n",
      "\u001b[33m[ WARN] [1702923028.583540799]: TF_REPEATED_DATA ignoring data with redundant timestamp for frame odom at time 4269.661000 according to authority /pose_integrator\u001b[0m\n",
      "\u001b[33m[ WARN] [1702923030.313473798]: TF_REPEATED_DATA ignoring data with redundant timestamp for frame odom at time 4270.415000 according to authority /pose_integrator\u001b[0m\n",
      "\u001b[33m[ WARN] [1702923030.313532009]: TF_REPEATED_DATA ignoring data with redundant timestamp for frame odom at time 4270.415000 according to authority /pose_integrator\u001b[0m\n",
      "\u001b[33m[ WARN] [1702923030.313571131]: TF_REPEATED_DATA ignoring data with redundant timestamp for frame odom at time 4270.415000 according to authority /pose_integrator\u001b[0m\n",
      "\u001b[33m[ WARN] [1702923030.313605363]: TF_REPEATED_DATA ignoring data with redundant timestamp for frame odom at time 4270.415000 according to authority /pose_integrator\u001b[0m\n",
      "\u001b[33m[ WARN] [1702923030.313635994]: TF_REPEATED_DATA ignoring data with redundant timestamp for frame odom at time 4270.415000 according to authority /pose_integrator\u001b[0m\n",
      "\u001b[33m[ WARN] [1702923030.313665920]: TF_REPEATED_DATA ignoring data with redundant timestamp for frame odom at time 4270.415000 according to authority /pose_integrator\u001b[0m\n",
      "\u001b[33m[ WARN] [1702923031.507054884]: TF_REPEATED_DATA ignoring data with redundant timestamp for frame odom at time 4271.007000 according to authority /pose_integrator\u001b[0m\n",
      "\u001b[33m[ WARN] [1702923031.507105432]: TF_REPEATED_DATA ignoring data with redundant timestamp for frame odom at time 4271.007000 according to authority /pose_integrator\u001b[0m\n",
      "\u001b[33m[ WARN] [1702923031.507141474]: TF_REPEATED_DATA ignoring data with redundant timestamp for frame odom at time 4271.007000 according to authority /pose_integrator\u001b[0m\n",
      "\u001b[33m[ WARN] [1702923031.507178382]: TF_REPEATED_DATA ignoring data with redundant timestamp for frame odom at time 4271.007000 according to authority /pose_integrator\u001b[0m\n",
      "\u001b[33m[ WARN] [1702923031.507212768]: TF_REPEATED_DATA ignoring data with redundant timestamp for frame odom at time 4271.007000 according to authority /pose_integrator\u001b[0m\n",
      "\u001b[33m[ WARN] [1702923031.507248780]: TF_REPEATED_DATA ignoring data with redundant timestamp for frame odom at time 4271.007000 according to authority /pose_integrator\u001b[0m\n"
     ]
    },
    {
     "name": "stderr",
     "output_type": "stream",
     "text": [
      "\u001b[33m[ WARN] [1702923031.860183075]: TF_REPEATED_DATA ignoring data with redundant timestamp for frame odom at time 4271.165000 according to authority /pose_integrator\u001b[0m\n",
      "\u001b[33m[ WARN] [1702923031.860233267]: TF_REPEATED_DATA ignoring data with redundant timestamp for frame odom at time 4271.165000 according to authority /pose_integrator\u001b[0m\n",
      "\u001b[33m[ WARN] [1702923031.860305707]: TF_REPEATED_DATA ignoring data with redundant timestamp for frame odom at time 4271.165000 according to authority /pose_integrator\u001b[0m\n",
      "\u001b[33m[ WARN] [1702923031.860344684]: TF_REPEATED_DATA ignoring data with redundant timestamp for frame odom at time 4271.165000 according to authority /pose_integrator\u001b[0m\n",
      "\u001b[33m[ WARN] [1702923031.860384752]: TF_REPEATED_DATA ignoring data with redundant timestamp for frame odom at time 4271.165000 according to authority /pose_integrator\u001b[0m\n",
      "\u001b[33m[ WARN] [1702923031.860426488]: TF_REPEATED_DATA ignoring data with redundant timestamp for frame odom at time 4271.165000 according to authority /pose_integrator\u001b[0m\n",
      "\u001b[33m[ WARN] [1702923032.362280011]: TF_REPEATED_DATA ignoring data with redundant timestamp for frame odom at time 4271.388000 according to authority /pose_integrator\u001b[0m\n",
      "\u001b[33m[ WARN] [1702923032.362335804]: TF_REPEATED_DATA ignoring data with redundant timestamp for frame odom at time 4271.388000 according to authority /pose_integrator\u001b[0m\n",
      "\u001b[33m[ WARN] [1702923032.362369750]: TF_REPEATED_DATA ignoring data with redundant timestamp for frame odom at time 4271.388000 according to authority /pose_integrator\u001b[0m\n",
      "\u001b[33m[ WARN] [1702923032.362404190]: TF_REPEATED_DATA ignoring data with redundant timestamp for frame odom at time 4271.388000 according to authority /pose_integrator\u001b[0m\n",
      "\u001b[33m[ WARN] [1702923032.362434278]: TF_REPEATED_DATA ignoring data with redundant timestamp for frame odom at time 4271.388000 according to authority /pose_integrator\u001b[0m\n",
      "\u001b[33m[ WARN] [1702923032.362464956]: TF_REPEATED_DATA ignoring data with redundant timestamp for frame odom at time 4271.388000 according to authority /pose_integrator\u001b[0m\n",
      "\u001b[33m[ WARN] [1702923035.247603656]: TF_REPEATED_DATA ignoring data with redundant timestamp for frame odom at time 4272.661000 according to authority /pose_integrator\u001b[0m\n",
      "\u001b[33m[ WARN] [1702923035.247658991]: TF_REPEATED_DATA ignoring data with redundant timestamp for frame odom at time 4272.661000 according to authority /pose_integrator\u001b[0m\n",
      "\u001b[33m[ WARN] [1702923035.247699660]: TF_REPEATED_DATA ignoring data with redundant timestamp for frame odom at time 4272.661000 according to authority /pose_integrator\u001b[0m\n",
      "\u001b[33m[ WARN] [1702923035.247727628]: TF_REPEATED_DATA ignoring data with redundant timestamp for frame odom at time 4272.661000 according to authority /pose_integrator\u001b[0m\n",
      "\u001b[33m[ WARN] [1702923035.247750969]: TF_REPEATED_DATA ignoring data with redundant timestamp for frame odom at time 4272.661000 according to authority /pose_integrator\u001b[0m\n",
      "\u001b[33m[ WARN] [1702923035.247774469]: TF_REPEATED_DATA ignoring data with redundant timestamp for frame odom at time 4272.661000 according to authority /pose_integrator\u001b[0m\n",
      "\u001b[33m[ WARN] [1702923036.578275088]: TF_REPEATED_DATA ignoring data with redundant timestamp for frame odom at time 4273.327000 according to authority /pose_integrator\u001b[0m\n",
      "\u001b[33m[ WARN] [1702923036.578319147]: TF_REPEATED_DATA ignoring data with redundant timestamp for frame odom at time 4273.327000 according to authority /pose_integrator\u001b[0m\n",
      "\u001b[33m[ WARN] [1702923036.578343680]: TF_REPEATED_DATA ignoring data with redundant timestamp for frame odom at time 4273.327000 according to authority /pose_integrator\u001b[0m\n",
      "\u001b[33m[ WARN] [1702923036.578376483]: TF_REPEATED_DATA ignoring data with redundant timestamp for frame odom at time 4273.327000 according to authority /pose_integrator\u001b[0m\n",
      "\u001b[33m[ WARN] [1702923036.578405743]: TF_REPEATED_DATA ignoring data with redundant timestamp for frame odom at time 4273.327000 according to authority /pose_integrator\u001b[0m\n",
      "\u001b[33m[ WARN] [1702923036.578430630]: TF_REPEATED_DATA ignoring data with redundant timestamp for frame odom at time 4273.327000 according to authority /pose_integrator\u001b[0m\n",
      "\u001b[33m[ WARN] [1702923037.579233845]: TF_REPEATED_DATA ignoring data with redundant timestamp for frame odom at time 4273.839000 according to authority /pose_integrator\u001b[0m\n",
      "\u001b[33m[ WARN] [1702923037.580003843]: TF_REPEATED_DATA ignoring data with redundant timestamp for frame odom at time 4273.839000 according to authority /pose_integrator\u001b[0m\n",
      "\u001b[33m[ WARN] [1702923037.580067546]: TF_REPEATED_DATA ignoring data with redundant timestamp for frame odom at time 4273.839000 according to authority /pose_integrator\u001b[0m\n",
      "\u001b[33m[ WARN] [1702923037.580112700]: TF_REPEATED_DATA ignoring data with redundant timestamp for frame odom at time 4273.839000 according to authority /pose_integrator\u001b[0m\n",
      "\u001b[33m[ WARN] [1702923037.580148604]: TF_REPEATED_DATA ignoring data with redundant timestamp for frame odom at time 4273.839000 according to authority /pose_integrator\u001b[0m\n",
      "\u001b[33m[ WARN] [1702923037.580186040]: TF_REPEATED_DATA ignoring data with redundant timestamp for frame odom at time 4273.839000 according to authority /pose_integrator\u001b[0m\n",
      "\u001b[33m[ WARN] [1702923037.886311879]: TF_REPEATED_DATA ignoring data with redundant timestamp for frame odom at time 4274.004000 according to authority /pose_integrator\u001b[0m\n",
      "\u001b[33m[ WARN] [1702923037.886394508]: TF_REPEATED_DATA ignoring data with redundant timestamp for frame odom at time 4274.004000 according to authority /pose_integrator\u001b[0m\n",
      "\u001b[33m[ WARN] [1702923037.886435697]: TF_REPEATED_DATA ignoring data with redundant timestamp for frame odom at time 4274.004000 according to authority /pose_integrator\u001b[0m\n",
      "\u001b[33m[ WARN] [1702923037.886465872]: TF_REPEATED_DATA ignoring data with redundant timestamp for frame odom at time 4274.004000 according to authority /pose_integrator\u001b[0m\n",
      "\u001b[33m[ WARN] [1702923037.886499941]: TF_REPEATED_DATA ignoring data with redundant timestamp for frame odom at time 4274.004000 according to authority /pose_integrator\u001b[0m\n",
      "\u001b[33m[ WARN] [1702923037.886532802]: TF_REPEATED_DATA ignoring data with redundant timestamp for frame odom at time 4274.004000 according to authority /pose_integrator\u001b[0m\n",
      "\u001b[33m[ WARN] [1702923038.861786146]: TF_REPEATED_DATA ignoring data with redundant timestamp for frame odom at time 4274.531000 according to authority /pose_integrator\u001b[0m\n",
      "\u001b[33m[ WARN] [1702923038.861839791]: TF_REPEATED_DATA ignoring data with redundant timestamp for frame odom at time 4274.531000 according to authority /pose_integrator\u001b[0m\n",
      "\u001b[33m[ WARN] [1702923038.861885922]: TF_REPEATED_DATA ignoring data with redundant timestamp for frame odom at time 4274.531000 according to authority /pose_integrator\u001b[0m\n",
      "\u001b[33m[ WARN] [1702923038.861923967]: TF_REPEATED_DATA ignoring data with redundant timestamp for frame odom at time 4274.531000 according to authority /pose_integrator\u001b[0m\n",
      "\u001b[33m[ WARN] [1702923038.861965389]: TF_REPEATED_DATA ignoring data with redundant timestamp for frame odom at time 4274.531000 according to authority /pose_integrator\u001b[0m\n",
      "\u001b[33m[ WARN] [1702923038.862005487]: TF_REPEATED_DATA ignoring data with redundant timestamp for frame odom at time 4274.531000 according to authority /pose_integrator\u001b[0m\n",
      "\u001b[33m[ WARN] [1702923039.377135513]: TF_REPEATED_DATA ignoring data with redundant timestamp for frame odom at time 4274.772000 according to authority /pose_integrator\u001b[0m\n",
      "\u001b[33m[ WARN] [1702923039.377193535]: TF_REPEATED_DATA ignoring data with redundant timestamp for frame odom at time 4274.772000 according to authority /pose_integrator\u001b[0m\n",
      "\u001b[33m[ WARN] [1702923039.377233594]: TF_REPEATED_DATA ignoring data with redundant timestamp for frame odom at time 4274.772000 according to authority /pose_integrator\u001b[0m\n",
      "\u001b[33m[ WARN] [1702923039.377273224]: TF_REPEATED_DATA ignoring data with redundant timestamp for frame odom at time 4274.772000 according to authority /pose_integrator\u001b[0m\n",
      "\u001b[33m[ WARN] [1702923039.377306685]: TF_REPEATED_DATA ignoring data with redundant timestamp for frame odom at time 4274.772000 according to authority /pose_integrator\u001b[0m\n",
      "\u001b[33m[ WARN] [1702923039.377344021]: TF_REPEATED_DATA ignoring data with redundant timestamp for frame odom at time 4274.772000 according to authority /pose_integrator\u001b[0m\n"
     ]
    },
    {
     "name": "stderr",
     "output_type": "stream",
     "text": [
      "\u001b[33m[ WARN] [1702923040.305827218]: TF_REPEATED_DATA ignoring data with redundant timestamp for frame odom at time 4275.198000 according to authority /pose_integrator\u001b[0m\n",
      "\u001b[33m[ WARN] [1702923040.305867527]: TF_REPEATED_DATA ignoring data with redundant timestamp for frame odom at time 4275.198000 according to authority /pose_integrator\u001b[0m\n",
      "\u001b[33m[ WARN] [1702923040.305891284]: TF_REPEATED_DATA ignoring data with redundant timestamp for frame odom at time 4275.198000 according to authority /pose_integrator\u001b[0m\n",
      "\u001b[33m[ WARN] [1702923040.305921024]: TF_REPEATED_DATA ignoring data with redundant timestamp for frame odom at time 4275.198000 according to authority /pose_integrator\u001b[0m\n",
      "\u001b[33m[ WARN] [1702923040.305959254]: TF_REPEATED_DATA ignoring data with redundant timestamp for frame odom at time 4275.198000 according to authority /pose_integrator\u001b[0m\n",
      "\u001b[33m[ WARN] [1702923040.305982098]: TF_REPEATED_DATA ignoring data with redundant timestamp for frame odom at time 4275.198000 according to authority /pose_integrator\u001b[0m\n",
      "\u001b[33m[ WARN] [1702923041.427548378]: TF_REPEATED_DATA ignoring data with redundant timestamp for frame odom at time 4275.737000 according to authority /pose_integrator\u001b[0m\n",
      "\u001b[33m[ WARN] [1702923041.427599745]: TF_REPEATED_DATA ignoring data with redundant timestamp for frame odom at time 4275.737000 according to authority /pose_integrator\u001b[0m\n",
      "\u001b[33m[ WARN] [1702923041.427638513]: TF_REPEATED_DATA ignoring data with redundant timestamp for frame odom at time 4275.737000 according to authority /pose_integrator\u001b[0m\n",
      "\u001b[33m[ WARN] [1702923041.427675274]: TF_REPEATED_DATA ignoring data with redundant timestamp for frame odom at time 4275.737000 according to authority /pose_integrator\u001b[0m\n",
      "\u001b[33m[ WARN] [1702923041.427701606]: TF_REPEATED_DATA ignoring data with redundant timestamp for frame odom at time 4275.737000 according to authority /pose_integrator\u001b[0m\n",
      "\u001b[33m[ WARN] [1702923041.427731402]: TF_REPEATED_DATA ignoring data with redundant timestamp for frame odom at time 4275.737000 according to authority /pose_integrator\u001b[0m\n",
      "\u001b[33m[ WARN] [1702923041.571417667]: TF_REPEATED_DATA ignoring data with redundant timestamp for frame odom at time 4275.805000 according to authority /pose_integrator\u001b[0m\n",
      "\u001b[33m[ WARN] [1702923041.571461870]: TF_REPEATED_DATA ignoring data with redundant timestamp for frame odom at time 4275.805000 according to authority /pose_integrator\u001b[0m\n",
      "\u001b[33m[ WARN] [1702923041.571493422]: TF_REPEATED_DATA ignoring data with redundant timestamp for frame odom at time 4275.805000 according to authority /pose_integrator\u001b[0m\n",
      "\u001b[33m[ WARN] [1702923041.571522194]: TF_REPEATED_DATA ignoring data with redundant timestamp for frame odom at time 4275.805000 according to authority /pose_integrator\u001b[0m\n",
      "\u001b[33m[ WARN] [1702923041.571549865]: TF_REPEATED_DATA ignoring data with redundant timestamp for frame odom at time 4275.805000 according to authority /pose_integrator\u001b[0m\n",
      "\u001b[33m[ WARN] [1702923041.571576268]: TF_REPEATED_DATA ignoring data with redundant timestamp for frame odom at time 4275.805000 according to authority /pose_integrator\u001b[0m\n",
      "\u001b[33m[ WARN] [1702923041.848929702]: TF_REPEATED_DATA ignoring data with redundant timestamp for frame odom at time 4275.940000 according to authority /pose_integrator\u001b[0m\n",
      "\u001b[33m[ WARN] [1702923041.848995702]: TF_REPEATED_DATA ignoring data with redundant timestamp for frame odom at time 4275.940000 according to authority /pose_integrator\u001b[0m\n",
      "\u001b[33m[ WARN] [1702923041.849041128]: TF_REPEATED_DATA ignoring data with redundant timestamp for frame odom at time 4275.940000 according to authority /pose_integrator\u001b[0m\n",
      "\u001b[33m[ WARN] [1702923041.849084377]: TF_REPEATED_DATA ignoring data with redundant timestamp for frame odom at time 4275.940000 according to authority /pose_integrator\u001b[0m\n",
      "\u001b[33m[ WARN] [1702923041.849126104]: TF_REPEATED_DATA ignoring data with redundant timestamp for frame odom at time 4275.940000 according to authority /pose_integrator\u001b[0m\n",
      "\u001b[33m[ WARN] [1702923041.849166539]: TF_REPEATED_DATA ignoring data with redundant timestamp for frame odom at time 4275.940000 according to authority /pose_integrator\u001b[0m\n",
      "\u001b[33m[ WARN] [1702923042.343122975]: TF_REPEATED_DATA ignoring data with redundant timestamp for frame odom at time 4276.144000 according to authority /pose_integrator\u001b[0m\n",
      "\u001b[33m[ WARN] [1702923042.343166254]: TF_REPEATED_DATA ignoring data with redundant timestamp for frame odom at time 4276.144000 according to authority /pose_integrator\u001b[0m\n",
      "\u001b[33m[ WARN] [1702923042.343206370]: TF_REPEATED_DATA ignoring data with redundant timestamp for frame odom at time 4276.144000 according to authority /pose_integrator\u001b[0m\n",
      "\u001b[33m[ WARN] [1702923042.343242455]: TF_REPEATED_DATA ignoring data with redundant timestamp for frame odom at time 4276.144000 according to authority /pose_integrator\u001b[0m\n",
      "\u001b[33m[ WARN] [1702923042.343279336]: TF_REPEATED_DATA ignoring data with redundant timestamp for frame odom at time 4276.144000 according to authority /pose_integrator\u001b[0m\n",
      "\u001b[33m[ WARN] [1702923042.343309666]: TF_REPEATED_DATA ignoring data with redundant timestamp for frame odom at time 4276.144000 according to authority /pose_integrator\u001b[0m\n",
      "\u001b[33m[ WARN] [1702923044.389305956]: TF_REPEATED_DATA ignoring data with redundant timestamp for frame odom at time 4277.130000 according to authority /pose_integrator\u001b[0m\n",
      "\u001b[33m[ WARN] [1702923044.389353426]: TF_REPEATED_DATA ignoring data with redundant timestamp for frame odom at time 4277.130000 according to authority /pose_integrator\u001b[0m\n",
      "\u001b[33m[ WARN] [1702923044.389395703]: TF_REPEATED_DATA ignoring data with redundant timestamp for frame odom at time 4277.130000 according to authority /pose_integrator\u001b[0m\n",
      "\u001b[33m[ WARN] [1702923044.389430941]: TF_REPEATED_DATA ignoring data with redundant timestamp for frame odom at time 4277.130000 according to authority /pose_integrator\u001b[0m\n",
      "\u001b[33m[ WARN] [1702923044.389464741]: TF_REPEATED_DATA ignoring data with redundant timestamp for frame odom at time 4277.130000 according to authority /pose_integrator\u001b[0m\n",
      "\u001b[33m[ WARN] [1702923044.389499608]: TF_REPEATED_DATA ignoring data with redundant timestamp for frame odom at time 4277.130000 according to authority /pose_integrator\u001b[0m\n",
      "\u001b[33m[ WARN] [1702923047.814416214]: TF_REPEATED_DATA ignoring data with redundant timestamp for frame odom at time 4278.673000 according to authority /pose_integrator\u001b[0m\n",
      "\u001b[33m[ WARN] [1702923047.814463733]: TF_REPEATED_DATA ignoring data with redundant timestamp for frame odom at time 4278.673000 according to authority /pose_integrator\u001b[0m\n",
      "\u001b[33m[ WARN] [1702923047.814505348]: TF_REPEATED_DATA ignoring data with redundant timestamp for frame odom at time 4278.673000 according to authority /pose_integrator\u001b[0m\n",
      "\u001b[33m[ WARN] [1702923047.814548057]: TF_REPEATED_DATA ignoring data with redundant timestamp for frame odom at time 4278.673000 according to authority /pose_integrator\u001b[0m\n",
      "\u001b[33m[ WARN] [1702923047.814583710]: TF_REPEATED_DATA ignoring data with redundant timestamp for frame odom at time 4278.673000 according to authority /pose_integrator\u001b[0m\n",
      "\u001b[33m[ WARN] [1702923047.814614425]: TF_REPEATED_DATA ignoring data with redundant timestamp for frame odom at time 4278.673000 according to authority /pose_integrator\u001b[0m\n",
      "\u001b[33m[ WARN] [1702923047.931475246]: TF_REPEATED_DATA ignoring data with redundant timestamp for frame odom at time 4278.735000 according to authority /pose_integrator\u001b[0m\n",
      "\u001b[33m[ WARN] [1702923047.931522045]: TF_REPEATED_DATA ignoring data with redundant timestamp for frame odom at time 4278.735000 according to authority /pose_integrator\u001b[0m\n",
      "\u001b[33m[ WARN] [1702923047.931564214]: TF_REPEATED_DATA ignoring data with redundant timestamp for frame odom at time 4278.735000 according to authority /pose_integrator\u001b[0m\n",
      "\u001b[33m[ WARN] [1702923047.931596967]: TF_REPEATED_DATA ignoring data with redundant timestamp for frame odom at time 4278.735000 according to authority /pose_integrator\u001b[0m\n",
      "\u001b[33m[ WARN] [1702923047.931623169]: TF_REPEATED_DATA ignoring data with redundant timestamp for frame odom at time 4278.735000 according to authority /pose_integrator\u001b[0m\n",
      "\u001b[33m[ WARN] [1702923047.931646056]: TF_REPEATED_DATA ignoring data with redundant timestamp for frame odom at time 4278.735000 according to authority /pose_integrator\u001b[0m\n"
     ]
    },
    {
     "name": "stderr",
     "output_type": "stream",
     "text": [
      "\u001b[33m[ WARN] [1702923049.032402100]: TF_REPEATED_DATA ignoring data with redundant timestamp for frame odom at time 4279.245000 according to authority /pose_integrator\u001b[0m\n",
      "\u001b[33m[ WARN] [1702923049.032443385]: TF_REPEATED_DATA ignoring data with redundant timestamp for frame odom at time 4279.245000 according to authority /pose_integrator\u001b[0m\n",
      "\u001b[33m[ WARN] [1702923049.032472472]: TF_REPEATED_DATA ignoring data with redundant timestamp for frame odom at time 4279.245000 according to authority /pose_integrator\u001b[0m\n",
      "\u001b[33m[ WARN] [1702923049.032506860]: TF_REPEATED_DATA ignoring data with redundant timestamp for frame odom at time 4279.245000 according to authority /pose_integrator\u001b[0m\n",
      "\u001b[33m[ WARN] [1702923049.032545563]: TF_REPEATED_DATA ignoring data with redundant timestamp for frame odom at time 4279.245000 according to authority /pose_integrator\u001b[0m\n",
      "\u001b[33m[ WARN] [1702923049.032585402]: TF_REPEATED_DATA ignoring data with redundant timestamp for frame odom at time 4279.245000 according to authority /pose_integrator\u001b[0m\n",
      "\u001b[33m[ WARN] [1702923049.478914359]: TF_REPEATED_DATA ignoring data with redundant timestamp for frame odom at time 4279.468000 according to authority /pose_integrator\u001b[0m\n",
      "\u001b[33m[ WARN] [1702923049.478967293]: TF_REPEATED_DATA ignoring data with redundant timestamp for frame odom at time 4279.468000 according to authority /pose_integrator\u001b[0m\n",
      "\u001b[33m[ WARN] [1702923049.479003640]: TF_REPEATED_DATA ignoring data with redundant timestamp for frame odom at time 4279.468000 according to authority /pose_integrator\u001b[0m\n",
      "\u001b[33m[ WARN] [1702923049.479042678]: TF_REPEATED_DATA ignoring data with redundant timestamp for frame odom at time 4279.468000 according to authority /pose_integrator\u001b[0m\n",
      "\u001b[33m[ WARN] [1702923049.479075500]: TF_REPEATED_DATA ignoring data with redundant timestamp for frame odom at time 4279.468000 according to authority /pose_integrator\u001b[0m\n",
      "\u001b[33m[ WARN] [1702923049.479108144]: TF_REPEATED_DATA ignoring data with redundant timestamp for frame odom at time 4279.468000 according to authority /pose_integrator\u001b[0m\n",
      "\u001b[33m[ WARN] [1702923050.928716935]: TF_REPEATED_DATA ignoring data with redundant timestamp for frame odom at time 4280.214000 according to authority /pose_integrator\u001b[0m\n",
      "\u001b[33m[ WARN] [1702923050.928806074]: TF_REPEATED_DATA ignoring data with redundant timestamp for frame odom at time 4280.214000 according to authority /pose_integrator\u001b[0m\n",
      "\u001b[33m[ WARN] [1702923050.928864140]: TF_REPEATED_DATA ignoring data with redundant timestamp for frame odom at time 4280.214000 according to authority /pose_integrator\u001b[0m\n",
      "\u001b[33m[ WARN] [1702923050.928910667]: TF_REPEATED_DATA ignoring data with redundant timestamp for frame odom at time 4280.214000 according to authority /pose_integrator\u001b[0m\n",
      "\u001b[33m[ WARN] [1702923050.928965708]: TF_REPEATED_DATA ignoring data with redundant timestamp for frame odom at time 4280.214000 according to authority /pose_integrator\u001b[0m\n",
      "\u001b[33m[ WARN] [1702923050.929009042]: TF_REPEATED_DATA ignoring data with redundant timestamp for frame odom at time 4280.214000 according to authority /pose_integrator\u001b[0m\n",
      "\u001b[33m[ WARN] [1702923051.196657060]: TF_REPEATED_DATA ignoring data with redundant timestamp for frame odom at time 4280.350000 according to authority /pose_integrator\u001b[0m\n",
      "\u001b[33m[ WARN] [1702923051.196714995]: TF_REPEATED_DATA ignoring data with redundant timestamp for frame odom at time 4280.350000 according to authority /pose_integrator\u001b[0m\n",
      "\u001b[33m[ WARN] [1702923051.196747658]: TF_REPEATED_DATA ignoring data with redundant timestamp for frame odom at time 4280.350000 according to authority /pose_integrator\u001b[0m\n",
      "\u001b[33m[ WARN] [1702923051.196772095]: TF_REPEATED_DATA ignoring data with redundant timestamp for frame odom at time 4280.350000 according to authority /pose_integrator\u001b[0m\n",
      "\u001b[33m[ WARN] [1702923051.196793450]: TF_REPEATED_DATA ignoring data with redundant timestamp for frame odom at time 4280.350000 according to authority /pose_integrator\u001b[0m\n",
      "\u001b[33m[ WARN] [1702923051.196816367]: TF_REPEATED_DATA ignoring data with redundant timestamp for frame odom at time 4280.350000 according to authority /pose_integrator\u001b[0m\n",
      "\u001b[33m[ WARN] [1702923052.964966553]: TF_REPEATED_DATA ignoring data with redundant timestamp for frame odom at time 4281.229000 according to authority /pose_integrator\u001b[0m\n",
      "\u001b[33m[ WARN] [1702923052.965034729]: TF_REPEATED_DATA ignoring data with redundant timestamp for frame odom at time 4281.229000 according to authority /pose_integrator\u001b[0m\n",
      "\u001b[33m[ WARN] [1702923052.965078563]: TF_REPEATED_DATA ignoring data with redundant timestamp for frame odom at time 4281.229000 according to authority /pose_integrator\u001b[0m\n",
      "\u001b[33m[ WARN] [1702923052.965118914]: TF_REPEATED_DATA ignoring data with redundant timestamp for frame odom at time 4281.229000 according to authority /pose_integrator\u001b[0m\n",
      "\u001b[33m[ WARN] [1702923052.965158864]: TF_REPEATED_DATA ignoring data with redundant timestamp for frame odom at time 4281.229000 according to authority /pose_integrator\u001b[0m\n",
      "\u001b[33m[ WARN] [1702923052.965203598]: TF_REPEATED_DATA ignoring data with redundant timestamp for frame odom at time 4281.229000 according to authority /pose_integrator\u001b[0m\n",
      "\u001b[33m[ WARN] [1702923055.833295238]: TF_REPEATED_DATA ignoring data with redundant timestamp for frame odom at time 4282.535000 according to authority /pose_integrator\u001b[0m\n",
      "\u001b[33m[ WARN] [1702923055.833341223]: TF_REPEATED_DATA ignoring data with redundant timestamp for frame odom at time 4282.535000 according to authority /pose_integrator\u001b[0m\n",
      "\u001b[33m[ WARN] [1702923055.833381647]: TF_REPEATED_DATA ignoring data with redundant timestamp for frame odom at time 4282.535000 according to authority /pose_integrator\u001b[0m\n",
      "\u001b[33m[ WARN] [1702923055.833428536]: TF_REPEATED_DATA ignoring data with redundant timestamp for frame odom at time 4282.535000 according to authority /pose_integrator\u001b[0m\n",
      "\u001b[33m[ WARN] [1702923055.833466908]: TF_REPEATED_DATA ignoring data with redundant timestamp for frame odom at time 4282.535000 according to authority /pose_integrator\u001b[0m\n",
      "\u001b[33m[ WARN] [1702923055.833511010]: TF_REPEATED_DATA ignoring data with redundant timestamp for frame odom at time 4282.535000 according to authority /pose_integrator\u001b[0m\n",
      "\u001b[33m[ WARN] [1702923057.918592211]: TF_REPEATED_DATA ignoring data with redundant timestamp for frame odom at time 4283.495000 according to authority /pose_integrator\u001b[0m\n",
      "\u001b[33m[ WARN] [1702923057.918635972]: TF_REPEATED_DATA ignoring data with redundant timestamp for frame odom at time 4283.495000 according to authority /pose_integrator\u001b[0m\n",
      "\u001b[33m[ WARN] [1702923057.918662913]: TF_REPEATED_DATA ignoring data with redundant timestamp for frame odom at time 4283.495000 according to authority /pose_integrator\u001b[0m\n",
      "\u001b[33m[ WARN] [1702923057.918687084]: TF_REPEATED_DATA ignoring data with redundant timestamp for frame odom at time 4283.495000 according to authority /pose_integrator\u001b[0m\n",
      "\u001b[33m[ WARN] [1702923057.918713932]: TF_REPEATED_DATA ignoring data with redundant timestamp for frame odom at time 4283.495000 according to authority /pose_integrator\u001b[0m\n",
      "\u001b[33m[ WARN] [1702923057.918739766]: TF_REPEATED_DATA ignoring data with redundant timestamp for frame odom at time 4283.495000 according to authority /pose_integrator\u001b[0m\n",
      "\u001b[33m[ WARN] [1702923058.174080156]: TF_REPEATED_DATA ignoring data with redundant timestamp for frame odom at time 4283.637000 according to authority /pose_integrator\u001b[0m\n",
      "\u001b[33m[ WARN] [1702923058.174127886]: TF_REPEATED_DATA ignoring data with redundant timestamp for frame odom at time 4283.637000 according to authority /pose_integrator\u001b[0m\n",
      "\u001b[33m[ WARN] [1702923058.174162725]: TF_REPEATED_DATA ignoring data with redundant timestamp for frame odom at time 4283.637000 according to authority /pose_integrator\u001b[0m\n",
      "\u001b[33m[ WARN] [1702923058.174198896]: TF_REPEATED_DATA ignoring data with redundant timestamp for frame odom at time 4283.637000 according to authority /pose_integrator\u001b[0m\n",
      "\u001b[33m[ WARN] [1702923058.174238032]: TF_REPEATED_DATA ignoring data with redundant timestamp for frame odom at time 4283.637000 according to authority /pose_integrator\u001b[0m\n",
      "\u001b[33m[ WARN] [1702923058.174272855]: TF_REPEATED_DATA ignoring data with redundant timestamp for frame odom at time 4283.637000 according to authority /pose_integrator\u001b[0m\n"
     ]
    },
    {
     "name": "stderr",
     "output_type": "stream",
     "text": [
      "\u001b[33m[ WARN] [1702923063.717347512]: TF_REPEATED_DATA ignoring data with redundant timestamp for frame odom at time 4286.206000 according to authority /pose_integrator\u001b[0m\n",
      "\u001b[33m[ WARN] [1702923063.717401748]: TF_REPEATED_DATA ignoring data with redundant timestamp for frame odom at time 4286.206000 according to authority /pose_integrator\u001b[0m\n",
      "\u001b[33m[ WARN] [1702923063.717433211]: TF_REPEATED_DATA ignoring data with redundant timestamp for frame odom at time 4286.206000 according to authority /pose_integrator\u001b[0m\n",
      "\u001b[33m[ WARN] [1702923063.717463969]: TF_REPEATED_DATA ignoring data with redundant timestamp for frame odom at time 4286.206000 according to authority /pose_integrator\u001b[0m\n",
      "\u001b[33m[ WARN] [1702923063.717493651]: TF_REPEATED_DATA ignoring data with redundant timestamp for frame odom at time 4286.206000 according to authority /pose_integrator\u001b[0m\n",
      "\u001b[33m[ WARN] [1702923063.717529852]: TF_REPEATED_DATA ignoring data with redundant timestamp for frame odom at time 4286.206000 according to authority /pose_integrator\u001b[0m\n",
      "\u001b[33m[ WARN] [1702923064.281828829]: TF_REPEATED_DATA ignoring data with redundant timestamp for frame odom at time 4286.517000 according to authority /pose_integrator\u001b[0m\n",
      "\u001b[33m[ WARN] [1702923064.281884656]: TF_REPEATED_DATA ignoring data with redundant timestamp for frame odom at time 4286.517000 according to authority /pose_integrator\u001b[0m\n",
      "\u001b[33m[ WARN] [1702923064.281939111]: TF_REPEATED_DATA ignoring data with redundant timestamp for frame odom at time 4286.517000 according to authority /pose_integrator\u001b[0m\n",
      "\u001b[33m[ WARN] [1702923064.281982177]: TF_REPEATED_DATA ignoring data with redundant timestamp for frame odom at time 4286.517000 according to authority /pose_integrator\u001b[0m\n",
      "\u001b[33m[ WARN] [1702923064.282022249]: TF_REPEATED_DATA ignoring data with redundant timestamp for frame odom at time 4286.517000 according to authority /pose_integrator\u001b[0m\n",
      "\u001b[33m[ WARN] [1702923064.282063171]: TF_REPEATED_DATA ignoring data with redundant timestamp for frame odom at time 4286.517000 according to authority /pose_integrator\u001b[0m\n",
      "\u001b[33m[ WARN] [1702923066.466946753]: TF_REPEATED_DATA ignoring data with redundant timestamp for frame odom at time 4287.438000 according to authority /pose_integrator\u001b[0m\n",
      "\u001b[33m[ WARN] [1702923066.467004973]: TF_REPEATED_DATA ignoring data with redundant timestamp for frame odom at time 4287.438000 according to authority /pose_integrator\u001b[0m\n",
      "\u001b[33m[ WARN] [1702923066.467035389]: TF_REPEATED_DATA ignoring data with redundant timestamp for frame odom at time 4287.438000 according to authority /pose_integrator\u001b[0m\n",
      "\u001b[33m[ WARN] [1702923066.467062474]: TF_REPEATED_DATA ignoring data with redundant timestamp for frame odom at time 4287.438000 according to authority /pose_integrator\u001b[0m\n",
      "\u001b[33m[ WARN] [1702923066.467088313]: TF_REPEATED_DATA ignoring data with redundant timestamp for frame odom at time 4287.438000 according to authority /pose_integrator\u001b[0m\n",
      "\u001b[33m[ WARN] [1702923066.467114464]: TF_REPEATED_DATA ignoring data with redundant timestamp for frame odom at time 4287.438000 according to authority /pose_integrator\u001b[0m\n",
      "\u001b[33m[ WARN] [1702923067.855399684]: TF_REPEATED_DATA ignoring data with redundant timestamp for frame odom at time 4288.014000 according to authority /pose_integrator\u001b[0m\n",
      "\u001b[33m[ WARN] [1702923067.855451024]: TF_REPEATED_DATA ignoring data with redundant timestamp for frame odom at time 4288.014000 according to authority /pose_integrator\u001b[0m\n",
      "\u001b[33m[ WARN] [1702923067.855490206]: TF_REPEATED_DATA ignoring data with redundant timestamp for frame odom at time 4288.014000 according to authority /pose_integrator\u001b[0m\n",
      "\u001b[33m[ WARN] [1702923067.855531316]: TF_REPEATED_DATA ignoring data with redundant timestamp for frame odom at time 4288.014000 according to authority /pose_integrator\u001b[0m\n",
      "\u001b[33m[ WARN] [1702923067.855562305]: TF_REPEATED_DATA ignoring data with redundant timestamp for frame odom at time 4288.014000 according to authority /pose_integrator\u001b[0m\n",
      "\u001b[33m[ WARN] [1702923067.855600929]: TF_REPEATED_DATA ignoring data with redundant timestamp for frame odom at time 4288.014000 according to authority /pose_integrator\u001b[0m\n",
      "\u001b[33m[ WARN] [1702923071.166852243]: TF_REPEATED_DATA ignoring data with redundant timestamp for frame odom at time 4289.612000 according to authority /pose_integrator\u001b[0m\n",
      "\u001b[33m[ WARN] [1702923071.166898249]: TF_REPEATED_DATA ignoring data with redundant timestamp for frame odom at time 4289.612000 according to authority /pose_integrator\u001b[0m\n",
      "\u001b[33m[ WARN] [1702923071.166929604]: TF_REPEATED_DATA ignoring data with redundant timestamp for frame odom at time 4289.612000 according to authority /pose_integrator\u001b[0m\n",
      "\u001b[33m[ WARN] [1702923071.166962762]: TF_REPEATED_DATA ignoring data with redundant timestamp for frame odom at time 4289.612000 according to authority /pose_integrator\u001b[0m\n",
      "\u001b[33m[ WARN] [1702923071.166990222]: TF_REPEATED_DATA ignoring data with redundant timestamp for frame odom at time 4289.612000 according to authority /pose_integrator\u001b[0m\n",
      "\u001b[33m[ WARN] [1702923071.167031517]: TF_REPEATED_DATA ignoring data with redundant timestamp for frame odom at time 4289.612000 according to authority /pose_integrator\u001b[0m\n",
      "\u001b[33m[ WARN] [1702923071.934202062]: TF_REPEATED_DATA ignoring data with redundant timestamp for frame odom at time 4290.003000 according to authority /pose_integrator\u001b[0m\n",
      "\u001b[33m[ WARN] [1702923071.934266778]: TF_REPEATED_DATA ignoring data with redundant timestamp for frame odom at time 4290.003000 according to authority /pose_integrator\u001b[0m\n",
      "\u001b[33m[ WARN] [1702923071.934308300]: TF_REPEATED_DATA ignoring data with redundant timestamp for frame odom at time 4290.003000 according to authority /pose_integrator\u001b[0m\n",
      "\u001b[33m[ WARN] [1702923071.934345986]: TF_REPEATED_DATA ignoring data with redundant timestamp for frame odom at time 4290.003000 according to authority /pose_integrator\u001b[0m\n",
      "\u001b[33m[ WARN] [1702923071.934385973]: TF_REPEATED_DATA ignoring data with redundant timestamp for frame odom at time 4290.003000 according to authority /pose_integrator\u001b[0m\n",
      "\u001b[33m[ WARN] [1702923071.934422618]: TF_REPEATED_DATA ignoring data with redundant timestamp for frame odom at time 4290.003000 according to authority /pose_integrator\u001b[0m\n",
      "\u001b[33m[ WARN] [1702923074.799080303]: TF_REPEATED_DATA ignoring data with redundant timestamp for frame odom at time 4291.172000 according to authority /pose_integrator\u001b[0m\n",
      "\u001b[33m[ WARN] [1702923074.799140060]: TF_REPEATED_DATA ignoring data with redundant timestamp for frame odom at time 4291.172000 according to authority /pose_integrator\u001b[0m\n",
      "\u001b[33m[ WARN] [1702923074.799179405]: TF_REPEATED_DATA ignoring data with redundant timestamp for frame odom at time 4291.172000 according to authority /pose_integrator\u001b[0m\n",
      "\u001b[33m[ WARN] [1702923074.799213923]: TF_REPEATED_DATA ignoring data with redundant timestamp for frame odom at time 4291.172000 according to authority /pose_integrator\u001b[0m\n",
      "\u001b[33m[ WARN] [1702923074.799252274]: TF_REPEATED_DATA ignoring data with redundant timestamp for frame odom at time 4291.172000 according to authority /pose_integrator\u001b[0m\n",
      "\u001b[33m[ WARN] [1702923074.799288550]: TF_REPEATED_DATA ignoring data with redundant timestamp for frame odom at time 4291.172000 according to authority /pose_integrator\u001b[0m\n",
      "\u001b[33m[ WARN] [1702923075.515496392]: TF_REPEATED_DATA ignoring data with redundant timestamp for frame odom at time 4291.522000 according to authority /pose_integrator\u001b[0m\n",
      "\u001b[33m[ WARN] [1702923075.515554150]: TF_REPEATED_DATA ignoring data with redundant timestamp for frame odom at time 4291.522000 according to authority /pose_integrator\u001b[0m\n",
      "\u001b[33m[ WARN] [1702923075.515589218]: TF_REPEATED_DATA ignoring data with redundant timestamp for frame odom at time 4291.522000 according to authority /pose_integrator\u001b[0m\n",
      "\u001b[33m[ WARN] [1702923075.515626358]: TF_REPEATED_DATA ignoring data with redundant timestamp for frame odom at time 4291.522000 according to authority /pose_integrator\u001b[0m\n",
      "\u001b[33m[ WARN] [1702923075.515662264]: TF_REPEATED_DATA ignoring data with redundant timestamp for frame odom at time 4291.522000 according to authority /pose_integrator\u001b[0m\n",
      "\u001b[33m[ WARN] [1702923075.515691854]: TF_REPEATED_DATA ignoring data with redundant timestamp for frame odom at time 4291.522000 according to authority /pose_integrator\u001b[0m\n"
     ]
    },
    {
     "name": "stderr",
     "output_type": "stream",
     "text": [
      "\u001b[33m[ WARN] [1702923077.963489405]: TF_REPEATED_DATA ignoring data with redundant timestamp for frame odom at time 4292.593000 according to authority /pose_integrator\u001b[0m\n",
      "\u001b[33m[ WARN] [1702923077.963541722]: TF_REPEATED_DATA ignoring data with redundant timestamp for frame odom at time 4292.593000 according to authority /pose_integrator\u001b[0m\n",
      "\u001b[33m[ WARN] [1702923077.963584677]: TF_REPEATED_DATA ignoring data with redundant timestamp for frame odom at time 4292.593000 according to authority /pose_integrator\u001b[0m\n",
      "\u001b[33m[ WARN] [1702923077.963620554]: TF_REPEATED_DATA ignoring data with redundant timestamp for frame odom at time 4292.593000 according to authority /pose_integrator\u001b[0m\n",
      "\u001b[33m[ WARN] [1702923077.963644649]: TF_REPEATED_DATA ignoring data with redundant timestamp for frame odom at time 4292.593000 according to authority /pose_integrator\u001b[0m\n",
      "\u001b[33m[ WARN] [1702923077.963667174]: TF_REPEATED_DATA ignoring data with redundant timestamp for frame odom at time 4292.593000 according to authority /pose_integrator\u001b[0m\n",
      "\u001b[33m[ WARN] [1702923078.051631645]: TF_REPEATED_DATA ignoring data with redundant timestamp for frame odom at time 4292.649000 according to authority /pose_integrator\u001b[0m\n",
      "\u001b[33m[ WARN] [1702923078.051692120]: TF_REPEATED_DATA ignoring data with redundant timestamp for frame odom at time 4292.649000 according to authority /pose_integrator\u001b[0m\n",
      "\u001b[33m[ WARN] [1702923078.051735605]: TF_REPEATED_DATA ignoring data with redundant timestamp for frame odom at time 4292.649000 according to authority /pose_integrator\u001b[0m\n",
      "\u001b[33m[ WARN] [1702923078.051776264]: TF_REPEATED_DATA ignoring data with redundant timestamp for frame odom at time 4292.649000 according to authority /pose_integrator\u001b[0m\n",
      "\u001b[33m[ WARN] [1702923078.051816636]: TF_REPEATED_DATA ignoring data with redundant timestamp for frame odom at time 4292.649000 according to authority /pose_integrator\u001b[0m\n",
      "\u001b[33m[ WARN] [1702923078.051849192]: TF_REPEATED_DATA ignoring data with redundant timestamp for frame odom at time 4292.649000 according to authority /pose_integrator\u001b[0m\n",
      "\u001b[33m[ WARN] [1702923078.212149325]: TF_REPEATED_DATA ignoring data with redundant timestamp for frame odom at time 4292.715000 according to authority /pose_integrator\u001b[0m\n",
      "\u001b[33m[ WARN] [1702923078.212195967]: TF_REPEATED_DATA ignoring data with redundant timestamp for frame odom at time 4292.715000 according to authority /pose_integrator\u001b[0m\n",
      "\u001b[33m[ WARN] [1702923078.212227316]: TF_REPEATED_DATA ignoring data with redundant timestamp for frame odom at time 4292.715000 according to authority /pose_integrator\u001b[0m\n",
      "\u001b[33m[ WARN] [1702923078.212267054]: TF_REPEATED_DATA ignoring data with redundant timestamp for frame odom at time 4292.715000 according to authority /pose_integrator\u001b[0m\n",
      "\u001b[33m[ WARN] [1702923078.212296796]: TF_REPEATED_DATA ignoring data with redundant timestamp for frame odom at time 4292.715000 according to authority /pose_integrator\u001b[0m\n",
      "\u001b[33m[ WARN] [1702923078.212323832]: TF_REPEATED_DATA ignoring data with redundant timestamp for frame odom at time 4292.715000 according to authority /pose_integrator\u001b[0m\n",
      "\u001b[33m[ WARN] [1702923078.455611912]: TF_REPEATED_DATA ignoring data with redundant timestamp for frame odom at time 4292.827000 according to authority /pose_integrator\u001b[0m\n",
      "\u001b[33m[ WARN] [1702923078.455669186]: TF_REPEATED_DATA ignoring data with redundant timestamp for frame odom at time 4292.827000 according to authority /pose_integrator\u001b[0m\n",
      "\u001b[33m[ WARN] [1702923078.455712892]: TF_REPEATED_DATA ignoring data with redundant timestamp for frame odom at time 4292.827000 according to authority /pose_integrator\u001b[0m\n",
      "\u001b[33m[ WARN] [1702923078.455748152]: TF_REPEATED_DATA ignoring data with redundant timestamp for frame odom at time 4292.827000 according to authority /pose_integrator\u001b[0m\n",
      "\u001b[33m[ WARN] [1702923078.455787375]: TF_REPEATED_DATA ignoring data with redundant timestamp for frame odom at time 4292.827000 according to authority /pose_integrator\u001b[0m\n",
      "\u001b[33m[ WARN] [1702923078.455825701]: TF_REPEATED_DATA ignoring data with redundant timestamp for frame odom at time 4292.827000 according to authority /pose_integrator\u001b[0m\n",
      "\u001b[33m[ WARN] [1702923078.658445769]: TF_REPEATED_DATA ignoring data with redundant timestamp for frame odom at time 4292.917000 according to authority /pose_integrator\u001b[0m\n",
      "\u001b[33m[ WARN] [1702923078.658495460]: TF_REPEATED_DATA ignoring data with redundant timestamp for frame odom at time 4292.917000 according to authority /pose_integrator\u001b[0m\n",
      "\u001b[33m[ WARN] [1702923078.658535817]: TF_REPEATED_DATA ignoring data with redundant timestamp for frame odom at time 4292.917000 according to authority /pose_integrator\u001b[0m\n",
      "\u001b[33m[ WARN] [1702923078.658572411]: TF_REPEATED_DATA ignoring data with redundant timestamp for frame odom at time 4292.917000 according to authority /pose_integrator\u001b[0m\n",
      "\u001b[33m[ WARN] [1702923078.658607987]: TF_REPEATED_DATA ignoring data with redundant timestamp for frame odom at time 4292.917000 according to authority /pose_integrator\u001b[0m\n",
      "\u001b[33m[ WARN] [1702923078.658648520]: TF_REPEATED_DATA ignoring data with redundant timestamp for frame odom at time 4292.917000 according to authority /pose_integrator\u001b[0m\n",
      "\u001b[33m[ WARN] [1702923079.072678144]: TF_REPEATED_DATA ignoring data with redundant timestamp for frame odom at time 4293.121000 according to authority /pose_integrator\u001b[0m\n",
      "\u001b[33m[ WARN] [1702923079.072725931]: TF_REPEATED_DATA ignoring data with redundant timestamp for frame odom at time 4293.121000 according to authority /pose_integrator\u001b[0m\n",
      "\u001b[33m[ WARN] [1702923079.072762150]: TF_REPEATED_DATA ignoring data with redundant timestamp for frame odom at time 4293.121000 according to authority /pose_integrator\u001b[0m\n",
      "\u001b[33m[ WARN] [1702923079.072801168]: TF_REPEATED_DATA ignoring data with redundant timestamp for frame odom at time 4293.121000 according to authority /pose_integrator\u001b[0m\n",
      "\u001b[33m[ WARN] [1702923079.072826082]: TF_REPEATED_DATA ignoring data with redundant timestamp for frame odom at time 4293.121000 according to authority /pose_integrator\u001b[0m\n",
      "\u001b[33m[ WARN] [1702923079.072850141]: TF_REPEATED_DATA ignoring data with redundant timestamp for frame odom at time 4293.121000 according to authority /pose_integrator\u001b[0m\n",
      "\u001b[33m[ WARN] [1702923081.975743978]: TF_REPEATED_DATA ignoring data with redundant timestamp for frame odom at time 4294.458000 according to authority /pose_integrator\u001b[0m\n",
      "\u001b[33m[ WARN] [1702923081.975802997]: TF_REPEATED_DATA ignoring data with redundant timestamp for frame odom at time 4294.458000 according to authority /pose_integrator\u001b[0m\n",
      "\u001b[33m[ WARN] [1702923081.975858564]: TF_REPEATED_DATA ignoring data with redundant timestamp for frame odom at time 4294.458000 according to authority /pose_integrator\u001b[0m\n",
      "\u001b[33m[ WARN] [1702923081.975904633]: TF_REPEATED_DATA ignoring data with redundant timestamp for frame odom at time 4294.458000 according to authority /pose_integrator\u001b[0m\n",
      "\u001b[33m[ WARN] [1702923081.975942470]: TF_REPEATED_DATA ignoring data with redundant timestamp for frame odom at time 4294.458000 according to authority /pose_integrator\u001b[0m\n",
      "\u001b[33m[ WARN] [1702923081.975982966]: TF_REPEATED_DATA ignoring data with redundant timestamp for frame odom at time 4294.458000 according to authority /pose_integrator\u001b[0m\n",
      "\u001b[33m[ WARN] [1702923082.039223820]: TF_REPEATED_DATA ignoring data with redundant timestamp for frame odom at time 4294.499000 according to authority /pose_integrator\u001b[0m\n",
      "\u001b[33m[ WARN] [1702923082.039266420]: TF_REPEATED_DATA ignoring data with redundant timestamp for frame odom at time 4294.499000 according to authority /pose_integrator\u001b[0m\n",
      "\u001b[33m[ WARN] [1702923082.039293567]: TF_REPEATED_DATA ignoring data with redundant timestamp for frame odom at time 4294.499000 according to authority /pose_integrator\u001b[0m\n",
      "\u001b[33m[ WARN] [1702923082.039319628]: TF_REPEATED_DATA ignoring data with redundant timestamp for frame odom at time 4294.499000 according to authority /pose_integrator\u001b[0m\n",
      "\u001b[33m[ WARN] [1702923082.039344852]: TF_REPEATED_DATA ignoring data with redundant timestamp for frame odom at time 4294.499000 according to authority /pose_integrator\u001b[0m\n",
      "\u001b[33m[ WARN] [1702923082.039370219]: TF_REPEATED_DATA ignoring data with redundant timestamp for frame odom at time 4294.499000 according to authority /pose_integrator\u001b[0m\n"
     ]
    },
    {
     "name": "stderr",
     "output_type": "stream",
     "text": [
      "\u001b[33m[ WARN] [1702923082.513818490]: TF_REPEATED_DATA ignoring data with redundant timestamp for frame odom at time 4294.699000 according to authority /pose_integrator\u001b[0m\n",
      "\u001b[33m[ WARN] [1702923082.513878467]: TF_REPEATED_DATA ignoring data with redundant timestamp for frame odom at time 4294.699000 according to authority /pose_integrator\u001b[0m\n",
      "\u001b[33m[ WARN] [1702923082.513922179]: TF_REPEATED_DATA ignoring data with redundant timestamp for frame odom at time 4294.699000 according to authority /pose_integrator\u001b[0m\n",
      "\u001b[33m[ WARN] [1702923082.513975210]: TF_REPEATED_DATA ignoring data with redundant timestamp for frame odom at time 4294.699000 according to authority /pose_integrator\u001b[0m\n",
      "\u001b[33m[ WARN] [1702923082.514018013]: TF_REPEATED_DATA ignoring data with redundant timestamp for frame odom at time 4294.699000 according to authority /pose_integrator\u001b[0m\n",
      "\u001b[33m[ WARN] [1702923082.514060371]: TF_REPEATED_DATA ignoring data with redundant timestamp for frame odom at time 4294.699000 according to authority /pose_integrator\u001b[0m\n",
      "\u001b[33m[ WARN] [1702923083.526834484]: TF_REPEATED_DATA ignoring data with redundant timestamp for frame odom at time 4295.204000 according to authority /pose_integrator\u001b[0m\n",
      "\u001b[33m[ WARN] [1702923083.526888569]: TF_REPEATED_DATA ignoring data with redundant timestamp for frame odom at time 4295.204000 according to authority /pose_integrator\u001b[0m\n",
      "\u001b[33m[ WARN] [1702923083.526926142]: TF_REPEATED_DATA ignoring data with redundant timestamp for frame odom at time 4295.204000 according to authority /pose_integrator\u001b[0m\n",
      "\u001b[33m[ WARN] [1702923083.526958571]: TF_REPEATED_DATA ignoring data with redundant timestamp for frame odom at time 4295.204000 according to authority /pose_integrator\u001b[0m\n",
      "\u001b[33m[ WARN] [1702923083.526990605]: TF_REPEATED_DATA ignoring data with redundant timestamp for frame odom at time 4295.204000 according to authority /pose_integrator\u001b[0m\n",
      "\u001b[33m[ WARN] [1702923083.527027542]: TF_REPEATED_DATA ignoring data with redundant timestamp for frame odom at time 4295.204000 according to authority /pose_integrator\u001b[0m\n",
      "\u001b[33m[ WARN] [1702923089.463929979]: TF_REPEATED_DATA ignoring data with redundant timestamp for frame odom at time 4297.898000 according to authority /pose_integrator\u001b[0m\n",
      "\u001b[33m[ WARN] [1702923089.463978472]: TF_REPEATED_DATA ignoring data with redundant timestamp for frame odom at time 4297.898000 according to authority /pose_integrator\u001b[0m\n",
      "\u001b[33m[ WARN] [1702923089.464014085]: TF_REPEATED_DATA ignoring data with redundant timestamp for frame odom at time 4297.898000 according to authority /pose_integrator\u001b[0m\n",
      "\u001b[33m[ WARN] [1702923089.464050813]: TF_REPEATED_DATA ignoring data with redundant timestamp for frame odom at time 4297.898000 according to authority /pose_integrator\u001b[0m\n",
      "\u001b[33m[ WARN] [1702923089.464085846]: TF_REPEATED_DATA ignoring data with redundant timestamp for frame odom at time 4297.898000 according to authority /pose_integrator\u001b[0m\n",
      "\u001b[33m[ WARN] [1702923089.464119838]: TF_REPEATED_DATA ignoring data with redundant timestamp for frame odom at time 4297.898000 according to authority /pose_integrator\u001b[0m\n",
      "\u001b[33m[ WARN] [1702923090.449926848]: TF_REPEATED_DATA ignoring data with redundant timestamp for frame odom at time 4298.384000 according to authority /pose_integrator\u001b[0m\n",
      "\u001b[33m[ WARN] [1702923090.449985310]: TF_REPEATED_DATA ignoring data with redundant timestamp for frame odom at time 4298.384000 according to authority /pose_integrator\u001b[0m\n",
      "\u001b[33m[ WARN] [1702923090.450031020]: TF_REPEATED_DATA ignoring data with redundant timestamp for frame odom at time 4298.384000 according to authority /pose_integrator\u001b[0m\n",
      "\u001b[33m[ WARN] [1702923090.450069147]: TF_REPEATED_DATA ignoring data with redundant timestamp for frame odom at time 4298.384000 according to authority /pose_integrator\u001b[0m\n",
      "\u001b[33m[ WARN] [1702923090.450102871]: TF_REPEATED_DATA ignoring data with redundant timestamp for frame odom at time 4298.384000 according to authority /pose_integrator\u001b[0m\n",
      "\u001b[33m[ WARN] [1702923090.450138876]: TF_REPEATED_DATA ignoring data with redundant timestamp for frame odom at time 4298.384000 according to authority /pose_integrator\u001b[0m\n",
      "\u001b[33m[ WARN] [1702923090.856352392]: TF_REPEATED_DATA ignoring data with redundant timestamp for frame odom at time 4298.576000 according to authority /pose_integrator\u001b[0m\n",
      "\u001b[33m[ WARN] [1702923090.856423320]: TF_REPEATED_DATA ignoring data with redundant timestamp for frame odom at time 4298.576000 according to authority /pose_integrator\u001b[0m\n",
      "\u001b[33m[ WARN] [1702923090.856470866]: TF_REPEATED_DATA ignoring data with redundant timestamp for frame odom at time 4298.576000 according to authority /pose_integrator\u001b[0m\n",
      "\u001b[33m[ WARN] [1702923090.856508549]: TF_REPEATED_DATA ignoring data with redundant timestamp for frame odom at time 4298.576000 according to authority /pose_integrator\u001b[0m\n",
      "\u001b[33m[ WARN] [1702923090.856558857]: TF_REPEATED_DATA ignoring data with redundant timestamp for frame odom at time 4298.576000 according to authority /pose_integrator\u001b[0m\n",
      "\u001b[33m[ WARN] [1702923090.856620859]: TF_REPEATED_DATA ignoring data with redundant timestamp for frame odom at time 4298.576000 according to authority /pose_integrator\u001b[0m\n",
      "\u001b[33m[ WARN] [1702923092.342574849]: TF_REPEATED_DATA ignoring data with redundant timestamp for frame odom at time 4299.283000 according to authority /pose_integrator\u001b[0m\n",
      "\u001b[33m[ WARN] [1702923092.342631419]: TF_REPEATED_DATA ignoring data with redundant timestamp for frame odom at time 4299.283000 according to authority /pose_integrator\u001b[0m\n",
      "\u001b[33m[ WARN] [1702923092.342671564]: TF_REPEATED_DATA ignoring data with redundant timestamp for frame odom at time 4299.283000 according to authority /pose_integrator\u001b[0m\n",
      "\u001b[33m[ WARN] [1702923092.342701695]: TF_REPEATED_DATA ignoring data with redundant timestamp for frame odom at time 4299.283000 according to authority /pose_integrator\u001b[0m\n",
      "\u001b[33m[ WARN] [1702923092.342738784]: TF_REPEATED_DATA ignoring data with redundant timestamp for frame odom at time 4299.283000 according to authority /pose_integrator\u001b[0m\n",
      "\u001b[33m[ WARN] [1702923092.342774144]: TF_REPEATED_DATA ignoring data with redundant timestamp for frame odom at time 4299.283000 according to authority /pose_integrator\u001b[0m\n",
      "\u001b[33m[ WARN] [1702923092.666703818]: TF_REPEATED_DATA ignoring data with redundant timestamp for frame odom at time 4299.457000 according to authority /pose_integrator\u001b[0m\n",
      "\u001b[33m[ WARN] [1702923092.666755659]: TF_REPEATED_DATA ignoring data with redundant timestamp for frame odom at time 4299.457000 according to authority /pose_integrator\u001b[0m\n",
      "\u001b[33m[ WARN] [1702923092.666787784]: TF_REPEATED_DATA ignoring data with redundant timestamp for frame odom at time 4299.457000 according to authority /pose_integrator\u001b[0m\n",
      "\u001b[33m[ WARN] [1702923092.666817366]: TF_REPEATED_DATA ignoring data with redundant timestamp for frame odom at time 4299.457000 according to authority /pose_integrator\u001b[0m\n",
      "\u001b[33m[ WARN] [1702923092.666854651]: TF_REPEATED_DATA ignoring data with redundant timestamp for frame odom at time 4299.457000 according to authority /pose_integrator\u001b[0m\n",
      "\u001b[33m[ WARN] [1702923092.666884617]: TF_REPEATED_DATA ignoring data with redundant timestamp for frame odom at time 4299.457000 according to authority /pose_integrator\u001b[0m\n",
      "\u001b[33m[ WARN] [1702923095.377434563]: TF_REPEATED_DATA ignoring data with redundant timestamp for frame odom at time 4300.740000 according to authority /pose_integrator\u001b[0m\n",
      "\u001b[33m[ WARN] [1702923095.377494054]: TF_REPEATED_DATA ignoring data with redundant timestamp for frame odom at time 4300.740000 according to authority /pose_integrator\u001b[0m\n",
      "\u001b[33m[ WARN] [1702923095.377538518]: TF_REPEATED_DATA ignoring data with redundant timestamp for frame odom at time 4300.740000 according to authority /pose_integrator\u001b[0m\n",
      "\u001b[33m[ WARN] [1702923095.377581509]: TF_REPEATED_DATA ignoring data with redundant timestamp for frame odom at time 4300.740000 according to authority /pose_integrator\u001b[0m\n",
      "\u001b[33m[ WARN] [1702923095.377625689]: TF_REPEATED_DATA ignoring data with redundant timestamp for frame odom at time 4300.740000 according to authority /pose_integrator\u001b[0m\n",
      "\u001b[33m[ WARN] [1702923095.377662205]: TF_REPEATED_DATA ignoring data with redundant timestamp for frame odom at time 4300.740000 according to authority /pose_integrator\u001b[0m\n"
     ]
    },
    {
     "name": "stderr",
     "output_type": "stream",
     "text": [
      "\u001b[33m[ WARN] [1702923098.445313579]: TF_REPEATED_DATA ignoring data with redundant timestamp for frame odom at time 4302.097000 according to authority /pose_integrator\u001b[0m\n",
      "\u001b[33m[ WARN] [1702923098.445369256]: TF_REPEATED_DATA ignoring data with redundant timestamp for frame odom at time 4302.097000 according to authority /pose_integrator\u001b[0m\n",
      "\u001b[33m[ WARN] [1702923098.445407193]: TF_REPEATED_DATA ignoring data with redundant timestamp for frame odom at time 4302.097000 according to authority /pose_integrator\u001b[0m\n",
      "\u001b[33m[ WARN] [1702923098.445442215]: TF_REPEATED_DATA ignoring data with redundant timestamp for frame odom at time 4302.097000 according to authority /pose_integrator\u001b[0m\n",
      "\u001b[33m[ WARN] [1702923098.445476208]: TF_REPEATED_DATA ignoring data with redundant timestamp for frame odom at time 4302.097000 according to authority /pose_integrator\u001b[0m\n",
      "\u001b[33m[ WARN] [1702923098.445515377]: TF_REPEATED_DATA ignoring data with redundant timestamp for frame odom at time 4302.097000 according to authority /pose_integrator\u001b[0m\n",
      "\u001b[33m[ WARN] [1702923103.973171623]: TF_REPEATED_DATA ignoring data with redundant timestamp for frame odom at time 4304.467000 according to authority /pose_integrator\u001b[0m\n",
      "\u001b[33m[ WARN] [1702923103.973208757]: TF_REPEATED_DATA ignoring data with redundant timestamp for frame odom at time 4304.467000 according to authority /pose_integrator\u001b[0m\n",
      "\u001b[33m[ WARN] [1702923103.973232847]: TF_REPEATED_DATA ignoring data with redundant timestamp for frame odom at time 4304.467000 according to authority /pose_integrator\u001b[0m\n",
      "\u001b[33m[ WARN] [1702923103.973260216]: TF_REPEATED_DATA ignoring data with redundant timestamp for frame odom at time 4304.467000 according to authority /pose_integrator\u001b[0m\n",
      "\u001b[33m[ WARN] [1702923103.973283982]: TF_REPEATED_DATA ignoring data with redundant timestamp for frame odom at time 4304.467000 according to authority /pose_integrator\u001b[0m\n",
      "\u001b[33m[ WARN] [1702923103.973318016]: TF_REPEATED_DATA ignoring data with redundant timestamp for frame odom at time 4304.467000 according to authority /pose_integrator\u001b[0m\n"
     ]
    }
   ],
   "source": [
    "im_corrected[0,0]"
   ]
  },
  {
   "cell_type": "code",
   "execution_count": null,
   "id": "bd48bd02",
   "metadata": {},
   "outputs": [],
   "source": []
  },
  {
   "cell_type": "code",
   "execution_count": 8,
   "id": "614f59d1",
   "metadata": {},
   "outputs": [
    {
     "data": {
      "text/plain": [
       "<matplotlib.image.AxesImage at 0x7f06dc718880>"
      ]
     },
     "execution_count": 8,
     "metadata": {},
     "output_type": "execute_result"
    },
    {
     "data": {
      "image/png": "[encoded data removed]",
      "text/plain": [
       "<Figure size 640x480 with 1 Axes>"
      ]
     },
     "metadata": {},
     "output_type": "display_data"
    },
    {
     "name": "stderr",
     "output_type": "stream",
     "text": [
      "\u001b[33m[ WARN] [1702922427.020480142]: TF_REPEATED_DATA ignoring data with redundant timestamp for frame odom at time 3996.943000 according to authority /pose_integrator\u001b[0m\n",
      "\u001b[33m[ WARN] [1702922427.020524920]: TF_REPEATED_DATA ignoring data with redundant timestamp for frame odom at time 3996.943000 according to authority /pose_integrator\u001b[0m\n",
      "\u001b[33m[ WARN] [1702922427.020551034]: TF_REPEATED_DATA ignoring data with redundant timestamp for frame odom at time 3996.943000 according to authority /pose_integrator\u001b[0m\n",
      "\u001b[33m[ WARN] [1702922427.020574536]: TF_REPEATED_DATA ignoring data with redundant timestamp for frame odom at time 3996.943000 according to authority /pose_integrator\u001b[0m\n",
      "\u001b[33m[ WARN] [1702922427.020596497]: TF_REPEATED_DATA ignoring data with redundant timestamp for frame odom at time 3996.943000 according to authority /pose_integrator\u001b[0m\n",
      "\u001b[33m[ WARN] [1702922427.020626050]: TF_REPEATED_DATA ignoring data with redundant timestamp for frame odom at time 3996.943000 according to authority /pose_integrator\u001b[0m\n",
      "\u001b[33m[ WARN] [1702922427.731098735]: TF_REPEATED_DATA ignoring data with redundant timestamp for frame odom at time 3997.232000 according to authority /pose_integrator\u001b[0m\n",
      "\u001b[33m[ WARN] [1702922427.731150118]: TF_REPEATED_DATA ignoring data with redundant timestamp for frame odom at time 3997.232000 according to authority /pose_integrator\u001b[0m\n",
      "\u001b[33m[ WARN] [1702922427.731196119]: TF_REPEATED_DATA ignoring data with redundant timestamp for frame odom at time 3997.232000 according to authority /pose_integrator\u001b[0m\n",
      "\u001b[33m[ WARN] [1702922427.731227286]: TF_REPEATED_DATA ignoring data with redundant timestamp for frame odom at time 3997.232000 according to authority /pose_integrator\u001b[0m\n",
      "\u001b[33m[ WARN] [1702922427.731262939]: TF_REPEATED_DATA ignoring data with redundant timestamp for frame odom at time 3997.232000 according to authority /pose_integrator\u001b[0m\n",
      "\u001b[33m[ WARN] [1702922427.731290965]: TF_REPEATED_DATA ignoring data with redundant timestamp for frame odom at time 3997.232000 according to authority /pose_integrator\u001b[0m\n",
      "\u001b[33m[ WARN] [1702922428.807524574]: TF_REPEATED_DATA ignoring data with redundant timestamp for frame odom at time 3997.721000 according to authority /pose_integrator\u001b[0m\n",
      "\u001b[33m[ WARN] [1702922428.807574215]: TF_REPEATED_DATA ignoring data with redundant timestamp for frame odom at time 3997.721000 according to authority /pose_integrator\u001b[0m\n",
      "\u001b[33m[ WARN] [1702922428.807610257]: TF_REPEATED_DATA ignoring data with redundant timestamp for frame odom at time 3997.721000 according to authority /pose_integrator\u001b[0m\n",
      "\u001b[33m[ WARN] [1702922428.807661251]: TF_REPEATED_DATA ignoring data with redundant timestamp for frame odom at time 3997.721000 according to authority /pose_integrator\u001b[0m\n",
      "\u001b[33m[ WARN] [1702922428.807696454]: TF_REPEATED_DATA ignoring data with redundant timestamp for frame odom at time 3997.721000 according to authority /pose_integrator\u001b[0m\n",
      "\u001b[33m[ WARN] [1702922428.807728518]: TF_REPEATED_DATA ignoring data with redundant timestamp for frame odom at time 3997.721000 according to authority /pose_integrator\u001b[0m\n",
      "\u001b[33m[ WARN] [1702922431.466874390]: TF_REPEATED_DATA ignoring data with redundant timestamp for frame odom at time 3998.982000 according to authority /pose_integrator\u001b[0m\n",
      "\u001b[33m[ WARN] [1702922431.466924161]: TF_REPEATED_DATA ignoring data with redundant timestamp for frame odom at time 3998.982000 according to authority /pose_integrator\u001b[0m\n",
      "\u001b[33m[ WARN] [1702922431.466952768]: TF_REPEATED_DATA ignoring data with redundant timestamp for frame odom at time 3998.982000 according to authority /pose_integrator\u001b[0m\n",
      "\u001b[33m[ WARN] [1702922431.466993672]: TF_REPEATED_DATA ignoring data with redundant timestamp for frame odom at time 3998.982000 according to authority /pose_integrator\u001b[0m\n",
      "\u001b[33m[ WARN] [1702922431.467031855]: TF_REPEATED_DATA ignoring data with redundant timestamp for frame odom at time 3998.982000 according to authority /pose_integrator\u001b[0m\n",
      "\u001b[33m[ WARN] [1702922431.467076615]: TF_REPEATED_DATA ignoring data with redundant timestamp for frame odom at time 3998.982000 according to authority /pose_integrator\u001b[0m\n",
      "\u001b[33m[ WARN] [1702922431.824282332]: TF_REPEATED_DATA ignoring data with redundant timestamp for frame odom at time 3999.166000 according to authority /pose_integrator\u001b[0m\n",
      "\u001b[33m[ WARN] [1702922431.824342531]: TF_REPEATED_DATA ignoring data with redundant timestamp for frame odom at time 3999.166000 according to authority /pose_integrator\u001b[0m\n",
      "\u001b[33m[ WARN] [1702922431.824383865]: TF_REPEATED_DATA ignoring data with redundant timestamp for frame odom at time 3999.166000 according to authority /pose_integrator\u001b[0m\n",
      "\u001b[33m[ WARN] [1702922431.824430095]: TF_REPEATED_DATA ignoring data with redundant timestamp for frame odom at time 3999.166000 according to authority /pose_integrator\u001b[0m\n",
      "\u001b[33m[ WARN] [1702922431.824462658]: TF_REPEATED_DATA ignoring data with redundant timestamp for frame odom at time 3999.166000 according to authority /pose_integrator\u001b[0m\n",
      "\u001b[33m[ WARN] [1702922431.824492647]: TF_REPEATED_DATA ignoring data with redundant timestamp for frame odom at time 3999.166000 according to authority /pose_integrator\u001b[0m\n",
      "\u001b[33m[ WARN] [1702922433.900304921]: TF_REPEATED_DATA ignoring data with redundant timestamp for frame odom at time 4000.116000 according to authority /pose_integrator\u001b[0m\n",
      "\u001b[33m[ WARN] [1702922433.900361127]: TF_REPEATED_DATA ignoring data with redundant timestamp for frame odom at time 4000.116000 according to authority /pose_integrator\u001b[0m\n",
      "\u001b[33m[ WARN] [1702922433.900405513]: TF_REPEATED_DATA ignoring data with redundant timestamp for frame odom at time 4000.116000 according to authority /pose_integrator\u001b[0m\n",
      "\u001b[33m[ WARN] [1702922433.900448906]: TF_REPEATED_DATA ignoring data with redundant timestamp for frame odom at time 4000.116000 according to authority /pose_integrator\u001b[0m\n",
      "\u001b[33m[ WARN] [1702922433.900492714]: TF_REPEATED_DATA ignoring data with redundant timestamp for frame odom at time 4000.116000 according to authority /pose_integrator\u001b[0m\n",
      "\u001b[33m[ WARN] [1702922433.900521765]: TF_REPEATED_DATA ignoring data with redundant timestamp for frame odom at time 4000.116000 according to authority /pose_integrator\u001b[0m\n",
      "\u001b[33m[ WARN] [1702922434.800595287]: TF_REPEATED_DATA ignoring data with redundant timestamp for frame odom at time 4000.515000 according to authority /pose_integrator\u001b[0m\n",
      "\u001b[33m[ WARN] [1702922434.800646666]: TF_REPEATED_DATA ignoring data with redundant timestamp for frame odom at time 4000.515000 according to authority /pose_integrator\u001b[0m\n",
      "\u001b[33m[ WARN] [1702922434.800695170]: TF_REPEATED_DATA ignoring data with redundant timestamp for frame odom at time 4000.515000 according to authority /pose_integrator\u001b[0m\n",
      "\u001b[33m[ WARN] [1702922434.800733136]: TF_REPEATED_DATA ignoring data with redundant timestamp for frame odom at time 4000.515000 according to authority /pose_integrator\u001b[0m\n",
      "\u001b[33m[ WARN] [1702922434.800766069]: TF_REPEATED_DATA ignoring data with redundant timestamp for frame odom at time 4000.515000 according to authority /pose_integrator\u001b[0m\n",
      "\u001b[33m[ WARN] [1702922434.800804917]: TF_REPEATED_DATA ignoring data with redundant timestamp for frame odom at time 4000.515000 according to authority /pose_integrator\u001b[0m\n",
      "\u001b[33m[ WARN] [1702922435.735064353]: TF_REPEATED_DATA ignoring data with redundant timestamp for frame odom at time 4000.916000 according to authority /pose_integrator\u001b[0m\n",
      "\u001b[33m[ WARN] [1702922435.735117289]: TF_REPEATED_DATA ignoring data with redundant timestamp for frame odom at time 4000.916000 according to authority /pose_integrator\u001b[0m\n",
      "\u001b[33m[ WARN] [1702922435.735167335]: TF_REPEATED_DATA ignoring data with redundant timestamp for frame odom at time 4000.916000 according to authority /pose_integrator\u001b[0m\n",
      "\u001b[33m[ WARN] [1702922435.735202617]: TF_REPEATED_DATA ignoring data with redundant timestamp for frame odom at time 4000.916000 according to authority /pose_integrator\u001b[0m\n",
      "\u001b[33m[ WARN] [1702922435.735235436]: TF_REPEATED_DATA ignoring data with redundant timestamp for frame odom at time 4000.916000 according to authority /pose_integrator\u001b[0m\n",
      "\u001b[33m[ WARN] [1702922435.735268230]: TF_REPEATED_DATA ignoring data with redundant timestamp for frame odom at time 4000.916000 according to authority /pose_integrator\u001b[0m\n"
     ]
    },
    {
     "name": "stderr",
     "output_type": "stream",
     "text": [
      "\u001b[33m[ WARN] [1702922437.628699971]: TF_REPEATED_DATA ignoring data with redundant timestamp for frame odom at time 4001.767000 according to authority /pose_integrator\u001b[0m\n",
      "\u001b[33m[ WARN] [1702922437.628752221]: TF_REPEATED_DATA ignoring data with redundant timestamp for frame odom at time 4001.767000 according to authority /pose_integrator\u001b[0m\n",
      "\u001b[33m[ WARN] [1702922437.628787611]: TF_REPEATED_DATA ignoring data with redundant timestamp for frame odom at time 4001.767000 according to authority /pose_integrator\u001b[0m\n",
      "\u001b[33m[ WARN] [1702922437.628820561]: TF_REPEATED_DATA ignoring data with redundant timestamp for frame odom at time 4001.767000 according to authority /pose_integrator\u001b[0m\n",
      "\u001b[33m[ WARN] [1702922437.628852223]: TF_REPEATED_DATA ignoring data with redundant timestamp for frame odom at time 4001.767000 according to authority /pose_integrator\u001b[0m\n",
      "\u001b[33m[ WARN] [1702922437.628896606]: TF_REPEATED_DATA ignoring data with redundant timestamp for frame odom at time 4001.767000 according to authority /pose_integrator\u001b[0m\n",
      "\u001b[33m[ WARN] [1702922438.656315452]: TF_REPEATED_DATA ignoring data with redundant timestamp for frame odom at time 4002.219000 according to authority /pose_integrator\u001b[0m\n",
      "\u001b[33m[ WARN] [1702922438.656372028]: TF_REPEATED_DATA ignoring data with redundant timestamp for frame odom at time 4002.219000 according to authority /pose_integrator\u001b[0m\n",
      "\u001b[33m[ WARN] [1702922438.656416433]: TF_REPEATED_DATA ignoring data with redundant timestamp for frame odom at time 4002.219000 according to authority /pose_integrator\u001b[0m\n",
      "\u001b[33m[ WARN] [1702922438.656457850]: TF_REPEATED_DATA ignoring data with redundant timestamp for frame odom at time 4002.219000 according to authority /pose_integrator\u001b[0m\n",
      "\u001b[33m[ WARN] [1702922438.656499173]: TF_REPEATED_DATA ignoring data with redundant timestamp for frame odom at time 4002.219000 according to authority /pose_integrator\u001b[0m\n",
      "\u001b[33m[ WARN] [1702922438.656540777]: TF_REPEATED_DATA ignoring data with redundant timestamp for frame odom at time 4002.219000 according to authority /pose_integrator\u001b[0m\n",
      "\u001b[33m[ WARN] [1702922439.186243081]: TF_REPEATED_DATA ignoring data with redundant timestamp for frame odom at time 4002.488000 according to authority /pose_integrator\u001b[0m\n",
      "\u001b[33m[ WARN] [1702922439.186305980]: TF_REPEATED_DATA ignoring data with redundant timestamp for frame odom at time 4002.488000 according to authority /pose_integrator\u001b[0m\n",
      "\u001b[33m[ WARN] [1702922439.186344786]: TF_REPEATED_DATA ignoring data with redundant timestamp for frame odom at time 4002.488000 according to authority /pose_integrator\u001b[0m\n",
      "\u001b[33m[ WARN] [1702922439.186378972]: TF_REPEATED_DATA ignoring data with redundant timestamp for frame odom at time 4002.488000 according to authority /pose_integrator\u001b[0m\n",
      "\u001b[33m[ WARN] [1702922439.186405655]: TF_REPEATED_DATA ignoring data with redundant timestamp for frame odom at time 4002.488000 according to authority /pose_integrator\u001b[0m\n",
      "\u001b[33m[ WARN] [1702922439.186734444]: TF_REPEATED_DATA ignoring data with redundant timestamp for frame odom at time 4002.488000 according to authority /pose_integrator\u001b[0m\n",
      "\u001b[33m[ WARN] [1702922439.439553499]: TF_REPEATED_DATA ignoring data with redundant timestamp for frame odom at time 4002.597000 according to authority /pose_integrator\u001b[0m\n",
      "\u001b[33m[ WARN] [1702922439.439613431]: TF_REPEATED_DATA ignoring data with redundant timestamp for frame odom at time 4002.597000 according to authority /pose_integrator\u001b[0m\n",
      "\u001b[33m[ WARN] [1702922439.439641450]: TF_REPEATED_DATA ignoring data with redundant timestamp for frame odom at time 4002.597000 according to authority /pose_integrator\u001b[0m\n",
      "\u001b[33m[ WARN] [1702922439.439666566]: TF_REPEATED_DATA ignoring data with redundant timestamp for frame odom at time 4002.597000 according to authority /pose_integrator\u001b[0m\n",
      "\u001b[33m[ WARN] [1702922439.439691174]: TF_REPEATED_DATA ignoring data with redundant timestamp for frame odom at time 4002.597000 according to authority /pose_integrator\u001b[0m\n",
      "\u001b[33m[ WARN] [1702922439.439715884]: TF_REPEATED_DATA ignoring data with redundant timestamp for frame odom at time 4002.597000 according to authority /pose_integrator\u001b[0m\n",
      "\u001b[33m[ WARN] [1702922441.466150163]: TF_REPEATED_DATA ignoring data with redundant timestamp for frame odom at time 4003.522000 according to authority /pose_integrator\u001b[0m\n",
      "\u001b[33m[ WARN] [1702922441.466220075]: TF_REPEATED_DATA ignoring data with redundant timestamp for frame odom at time 4003.522000 according to authority /pose_integrator\u001b[0m\n",
      "\u001b[33m[ WARN] [1702922441.466264238]: TF_REPEATED_DATA ignoring data with redundant timestamp for frame odom at time 4003.522000 according to authority /pose_integrator\u001b[0m\n",
      "\u001b[33m[ WARN] [1702922441.466303141]: TF_REPEATED_DATA ignoring data with redundant timestamp for frame odom at time 4003.522000 according to authority /pose_integrator\u001b[0m\n",
      "\u001b[33m[ WARN] [1702922441.466339337]: TF_REPEATED_DATA ignoring data with redundant timestamp for frame odom at time 4003.522000 according to authority /pose_integrator\u001b[0m\n",
      "\u001b[33m[ WARN] [1702922441.466377833]: TF_REPEATED_DATA ignoring data with redundant timestamp for frame odom at time 4003.522000 according to authority /pose_integrator\u001b[0m\n",
      "\u001b[33m[ WARN] [1702922441.669258214]: TF_REPEATED_DATA ignoring data with redundant timestamp for frame odom at time 4003.623000 according to authority /pose_integrator\u001b[0m\n",
      "\u001b[33m[ WARN] [1702922441.669300603]: TF_REPEATED_DATA ignoring data with redundant timestamp for frame odom at time 4003.623000 according to authority /pose_integrator\u001b[0m\n",
      "\u001b[33m[ WARN] [1702922441.669332217]: TF_REPEATED_DATA ignoring data with redundant timestamp for frame odom at time 4003.623000 according to authority /pose_integrator\u001b[0m\n",
      "\u001b[33m[ WARN] [1702922441.669365931]: TF_REPEATED_DATA ignoring data with redundant timestamp for frame odom at time 4003.623000 according to authority /pose_integrator\u001b[0m\n",
      "\u001b[33m[ WARN] [1702922441.669396231]: TF_REPEATED_DATA ignoring data with redundant timestamp for frame odom at time 4003.623000 according to authority /pose_integrator\u001b[0m\n",
      "\u001b[33m[ WARN] [1702922441.669427983]: TF_REPEATED_DATA ignoring data with redundant timestamp for frame odom at time 4003.623000 according to authority /pose_integrator\u001b[0m\n",
      "\u001b[33m[ WARN] [1702922441.814250313]: TF_REPEATED_DATA ignoring data with redundant timestamp for frame odom at time 4003.698000 according to authority /pose_integrator\u001b[0m\n",
      "\u001b[33m[ WARN] [1702922441.814289573]: TF_REPEATED_DATA ignoring data with redundant timestamp for frame odom at time 4003.698000 according to authority /pose_integrator\u001b[0m\n",
      "\u001b[33m[ WARN] [1702922441.814316534]: TF_REPEATED_DATA ignoring data with redundant timestamp for frame odom at time 4003.698000 according to authority /pose_integrator\u001b[0m\n",
      "\u001b[33m[ WARN] [1702922441.814345725]: TF_REPEATED_DATA ignoring data with redundant timestamp for frame odom at time 4003.698000 according to authority /pose_integrator\u001b[0m\n",
      "\u001b[33m[ WARN] [1702922441.814385053]: TF_REPEATED_DATA ignoring data with redundant timestamp for frame odom at time 4003.698000 according to authority /pose_integrator\u001b[0m\n",
      "\u001b[33m[ WARN] [1702922441.814422976]: TF_REPEATED_DATA ignoring data with redundant timestamp for frame odom at time 4003.698000 according to authority /pose_integrator\u001b[0m\n",
      "\u001b[33m[ WARN] [1702922444.529020782]: TF_REPEATED_DATA ignoring data with redundant timestamp for frame odom at time 4004.855000 according to authority /pose_integrator\u001b[0m\n",
      "\u001b[33m[ WARN] [1702922444.529070181]: TF_REPEATED_DATA ignoring data with redundant timestamp for frame odom at time 4004.855000 according to authority /pose_integrator\u001b[0m\n",
      "\u001b[33m[ WARN] [1702922444.529102137]: TF_REPEATED_DATA ignoring data with redundant timestamp for frame odom at time 4004.855000 according to authority /pose_integrator\u001b[0m\n",
      "\u001b[33m[ WARN] [1702922444.529158593]: TF_REPEATED_DATA ignoring data with redundant timestamp for frame odom at time 4004.855000 according to authority /pose_integrator\u001b[0m\n",
      "\u001b[33m[ WARN] [1702922444.529203033]: TF_REPEATED_DATA ignoring data with redundant timestamp for frame odom at time 4004.855000 according to authority /pose_integrator\u001b[0m\n",
      "\u001b[33m[ WARN] [1702922444.529256144]: TF_REPEATED_DATA ignoring data with redundant timestamp for frame odom at time 4004.855000 according to authority /pose_integrator\u001b[0m\n"
     ]
    },
    {
     "name": "stderr",
     "output_type": "stream",
     "text": [
      "\u001b[33m[ WARN] [1702922453.031232370]: TF_REPEATED_DATA ignoring data with redundant timestamp for frame odom at time 4008.685000 according to authority /pose_integrator\u001b[0m\n",
      "\u001b[33m[ WARN] [1702922453.031290162]: TF_REPEATED_DATA ignoring data with redundant timestamp for frame odom at time 4008.685000 according to authority /pose_integrator\u001b[0m\n",
      "\u001b[33m[ WARN] [1702922453.031317460]: TF_REPEATED_DATA ignoring data with redundant timestamp for frame odom at time 4008.685000 according to authority /pose_integrator\u001b[0m\n",
      "\u001b[33m[ WARN] [1702922453.031340681]: TF_REPEATED_DATA ignoring data with redundant timestamp for frame odom at time 4008.685000 according to authority /pose_integrator\u001b[0m\n",
      "\u001b[33m[ WARN] [1702922453.031363179]: TF_REPEATED_DATA ignoring data with redundant timestamp for frame odom at time 4008.685000 according to authority /pose_integrator\u001b[0m\n",
      "\u001b[33m[ WARN] [1702922453.031384979]: TF_REPEATED_DATA ignoring data with redundant timestamp for frame odom at time 4008.685000 according to authority /pose_integrator\u001b[0m\n",
      "\u001b[33m[ WARN] [1702922455.796484479]: TF_REPEATED_DATA ignoring data with redundant timestamp for frame odom at time 4009.860000 according to authority /pose_integrator\u001b[0m\n",
      "\u001b[33m[ WARN] [1702922455.796543923]: TF_REPEATED_DATA ignoring data with redundant timestamp for frame odom at time 4009.860000 according to authority /pose_integrator\u001b[0m\n",
      "\u001b[33m[ WARN] [1702922455.796585410]: TF_REPEATED_DATA ignoring data with redundant timestamp for frame odom at time 4009.860000 according to authority /pose_integrator\u001b[0m\n",
      "\u001b[33m[ WARN] [1702922455.796617174]: TF_REPEATED_DATA ignoring data with redundant timestamp for frame odom at time 4009.860000 according to authority /pose_integrator\u001b[0m\n",
      "\u001b[33m[ WARN] [1702922455.796640938]: TF_REPEATED_DATA ignoring data with redundant timestamp for frame odom at time 4009.860000 according to authority /pose_integrator\u001b[0m\n",
      "\u001b[33m[ WARN] [1702922455.796664150]: TF_REPEATED_DATA ignoring data with redundant timestamp for frame odom at time 4009.860000 according to authority /pose_integrator\u001b[0m\n",
      "\u001b[33m[ WARN] [1702922455.945548159]: TF_REPEATED_DATA ignoring data with redundant timestamp for frame odom at time 4009.923000 according to authority /pose_integrator\u001b[0m\n",
      "\u001b[33m[ WARN] [1702922455.945601878]: TF_REPEATED_DATA ignoring data with redundant timestamp for frame odom at time 4009.923000 according to authority /pose_integrator\u001b[0m\n",
      "\u001b[33m[ WARN] [1702922455.945645405]: TF_REPEATED_DATA ignoring data with redundant timestamp for frame odom at time 4009.923000 according to authority /pose_integrator\u001b[0m\n",
      "\u001b[33m[ WARN] [1702922455.945687168]: TF_REPEATED_DATA ignoring data with redundant timestamp for frame odom at time 4009.923000 according to authority /pose_integrator\u001b[0m\n",
      "\u001b[33m[ WARN] [1702922455.945725968]: TF_REPEATED_DATA ignoring data with redundant timestamp for frame odom at time 4009.923000 according to authority /pose_integrator\u001b[0m\n",
      "\u001b[33m[ WARN] [1702922455.945767591]: TF_REPEATED_DATA ignoring data with redundant timestamp for frame odom at time 4009.923000 according to authority /pose_integrator\u001b[0m\n",
      "\u001b[33m[ WARN] [1702922456.937793560]: TF_REPEATED_DATA ignoring data with redundant timestamp for frame odom at time 4010.352000 according to authority /pose_integrator\u001b[0m\n",
      "\u001b[33m[ WARN] [1702922456.937832483]: TF_REPEATED_DATA ignoring data with redundant timestamp for frame odom at time 4010.352000 according to authority /pose_integrator\u001b[0m\n",
      "\u001b[33m[ WARN] [1702922456.937866888]: TF_REPEATED_DATA ignoring data with redundant timestamp for frame odom at time 4010.352000 according to authority /pose_integrator\u001b[0m\n",
      "\u001b[33m[ WARN] [1702922456.937893514]: TF_REPEATED_DATA ignoring data with redundant timestamp for frame odom at time 4010.352000 according to authority /pose_integrator\u001b[0m\n",
      "\u001b[33m[ WARN] [1702922456.937917573]: TF_REPEATED_DATA ignoring data with redundant timestamp for frame odom at time 4010.352000 according to authority /pose_integrator\u001b[0m\n",
      "\u001b[33m[ WARN] [1702922456.937949047]: TF_REPEATED_DATA ignoring data with redundant timestamp for frame odom at time 4010.352000 according to authority /pose_integrator\u001b[0m\n",
      "\u001b[33m[ WARN] [1702922458.611676212]: TF_REPEATED_DATA ignoring data with redundant timestamp for frame odom at time 4011.113000 according to authority /pose_integrator\u001b[0m\n",
      "\u001b[33m[ WARN] [1702922458.611732106]: TF_REPEATED_DATA ignoring data with redundant timestamp for frame odom at time 4011.113000 according to authority /pose_integrator\u001b[0m\n",
      "\u001b[33m[ WARN] [1702922458.611760174]: TF_REPEATED_DATA ignoring data with redundant timestamp for frame odom at time 4011.113000 according to authority /pose_integrator\u001b[0m\n",
      "\u001b[33m[ WARN] [1702922458.611783998]: TF_REPEATED_DATA ignoring data with redundant timestamp for frame odom at time 4011.113000 according to authority /pose_integrator\u001b[0m\n",
      "\u001b[33m[ WARN] [1702922458.611810700]: TF_REPEATED_DATA ignoring data with redundant timestamp for frame odom at time 4011.113000 according to authority /pose_integrator\u001b[0m\n",
      "\u001b[33m[ WARN] [1702922458.611835497]: TF_REPEATED_DATA ignoring data with redundant timestamp for frame odom at time 4011.113000 according to authority /pose_integrator\u001b[0m\n",
      "\u001b[33m[ WARN] [1702922461.024818099]: TF_REPEATED_DATA ignoring data with redundant timestamp for frame odom at time 4012.257000 according to authority /pose_integrator\u001b[0m\n",
      "\u001b[33m[ WARN] [1702922461.024859669]: TF_REPEATED_DATA ignoring data with redundant timestamp for frame odom at time 4012.257000 according to authority /pose_integrator\u001b[0m\n",
      "\u001b[33m[ WARN] [1702922461.024884804]: TF_REPEATED_DATA ignoring data with redundant timestamp for frame odom at time 4012.257000 according to authority /pose_integrator\u001b[0m\n",
      "\u001b[33m[ WARN] [1702922461.024908188]: TF_REPEATED_DATA ignoring data with redundant timestamp for frame odom at time 4012.257000 according to authority /pose_integrator\u001b[0m\n",
      "\u001b[33m[ WARN] [1702922461.024929692]: TF_REPEATED_DATA ignoring data with redundant timestamp for frame odom at time 4012.257000 according to authority /pose_integrator\u001b[0m\n",
      "\u001b[33m[ WARN] [1702922461.024951712]: TF_REPEATED_DATA ignoring data with redundant timestamp for frame odom at time 4012.257000 according to authority /pose_integrator\u001b[0m\n",
      "\u001b[33m[ WARN] [1702922462.350942879]: TF_REPEATED_DATA ignoring data with redundant timestamp for frame odom at time 4012.845000 according to authority /pose_integrator\u001b[0m\n",
      "\u001b[33m[ WARN] [1702922462.351000199]: TF_REPEATED_DATA ignoring data with redundant timestamp for frame odom at time 4012.845000 according to authority /pose_integrator\u001b[0m\n",
      "\u001b[33m[ WARN] [1702922462.351043212]: TF_REPEATED_DATA ignoring data with redundant timestamp for frame odom at time 4012.845000 according to authority /pose_integrator\u001b[0m\n",
      "\u001b[33m[ WARN] [1702922462.351079288]: TF_REPEATED_DATA ignoring data with redundant timestamp for frame odom at time 4012.845000 according to authority /pose_integrator\u001b[0m\n",
      "\u001b[33m[ WARN] [1702922462.351107854]: TF_REPEATED_DATA ignoring data with redundant timestamp for frame odom at time 4012.845000 according to authority /pose_integrator\u001b[0m\n",
      "\u001b[33m[ WARN] [1702922462.351136693]: TF_REPEATED_DATA ignoring data with redundant timestamp for frame odom at time 4012.845000 according to authority /pose_integrator\u001b[0m\n",
      "\u001b[33m[ WARN] [1702922463.670101323]: TF_REPEATED_DATA ignoring data with redundant timestamp for frame odom at time 4013.477000 according to authority /pose_integrator\u001b[0m\n",
      "\u001b[33m[ WARN] [1702922463.670149646]: TF_REPEATED_DATA ignoring data with redundant timestamp for frame odom at time 4013.477000 according to authority /pose_integrator\u001b[0m\n",
      "\u001b[33m[ WARN] [1702922463.670177975]: TF_REPEATED_DATA ignoring data with redundant timestamp for frame odom at time 4013.477000 according to authority /pose_integrator\u001b[0m\n",
      "\u001b[33m[ WARN] [1702922463.670212788]: TF_REPEATED_DATA ignoring data with redundant timestamp for frame odom at time 4013.477000 according to authority /pose_integrator\u001b[0m\n",
      "\u001b[33m[ WARN] [1702922463.670239847]: TF_REPEATED_DATA ignoring data with redundant timestamp for frame odom at time 4013.477000 according to authority /pose_integrator\u001b[0m\n",
      "\u001b[33m[ WARN] [1702922463.670266481]: TF_REPEATED_DATA ignoring data with redundant timestamp for frame odom at time 4013.477000 according to authority /pose_integrator\u001b[0m\n"
     ]
    },
    {
     "name": "stderr",
     "output_type": "stream",
     "text": [
      "\u001b[33m[ WARN] [1702922472.674416730]: TF_REPEATED_DATA ignoring data with redundant timestamp for frame odom at time 4017.451000 according to authority /pose_integrator\u001b[0m\n",
      "\u001b[33m[ WARN] [1702922472.674471638]: TF_REPEATED_DATA ignoring data with redundant timestamp for frame odom at time 4017.451000 according to authority /pose_integrator\u001b[0m\n",
      "\u001b[33m[ WARN] [1702922472.674517741]: TF_REPEATED_DATA ignoring data with redundant timestamp for frame odom at time 4017.451000 according to authority /pose_integrator\u001b[0m\n",
      "\u001b[33m[ WARN] [1702922472.674564767]: TF_REPEATED_DATA ignoring data with redundant timestamp for frame odom at time 4017.451000 according to authority /pose_integrator\u001b[0m\n",
      "\u001b[33m[ WARN] [1702922472.674599907]: TF_REPEATED_DATA ignoring data with redundant timestamp for frame odom at time 4017.451000 according to authority /pose_integrator\u001b[0m\n",
      "\u001b[33m[ WARN] [1702922472.674643850]: TF_REPEATED_DATA ignoring data with redundant timestamp for frame odom at time 4017.451000 according to authority /pose_integrator\u001b[0m\n"
     ]
    }
   ],
   "source": [
    "plt.imshow(im_corrected[273:394,248:340],cmap='prism')\n"
   ]
  },
  {
   "cell_type": "code",
   "execution_count": null,
   "id": "5827d66a",
   "metadata": {},
   "outputs": [],
   "source": [
    "thres_floor=0.01\n",
    "im_corrected = np.where((zs_no_nans >-trans+thres_floor+plane_height),zs_no_nans,1)\n",
    "plt.imshow(im_corrected)"
   ]
  },
  {
   "cell_type": "code",
   "execution_count": null,
   "id": "7577e8fb",
   "metadata": {},
   "outputs": [],
   "source": [
    "-trans-thres_floor+plane_height"
   ]
  },
  {
   "cell_type": "code",
   "execution_count": null,
   "id": "ea62d548",
   "metadata": {},
   "outputs": [],
   "source": [
    "im_corrected[300:350,500:550]"
   ]
  },
  {
   "cell_type": "code",
   "execution_count": null,
   "id": "daea5fbf",
   "metadata": {},
   "outputs": [],
   "source": [
    "plt.imshow(im_corrected)"
   ]
  },
  {
   "cell_type": "code",
   "execution_count": null,
   "id": "a90035bf",
   "metadata": {},
   "outputs": [],
   "source": []
  },
  {
   "cell_type": "code",
   "execution_count": null,
   "id": "5e14a8fa",
   "metadata": {},
   "outputs": [],
   "source": []
  },
  {
   "cell_type": "code",
   "execution_count": null,
   "id": "fa0330f4",
   "metadata": {},
   "outputs": [],
   "source": []
  },
  {
   "cell_type": "code",
   "execution_count": null,
   "id": "a93fdce0",
   "metadata": {},
   "outputs": [],
   "source": [
    "plane_height= (trans)+bin_edges[histogram[:-1].argmax()+1]\n",
    "img_corrected = np.where((-zs_no_nans < (trans*0.999)-plane_height-thres_t),zs_no_nans,1)"
   ]
  },
  {
   "cell_type": "code",
   "execution_count": null,
   "id": "edca040b",
   "metadata": {},
   "outputs": [],
   "source": [
    "corrected['z'][200:300,500:600]"
   ]
  },
  {
   "cell_type": "code",
   "execution_count": null,
   "id": "4d4337e7",
   "metadata": {},
   "outputs": [],
   "source": [
    "plt.imshow(corrected['z'])"
   ]
  },
  {
   "cell_type": "code",
   "execution_count": null,
   "id": "6ef97bf5",
   "metadata": {},
   "outputs": [],
   "source": [
    "np_data=ros_numpy.numpify(points_msg)\n",
    "\n",
    "try:\n",
    "    trans = tfBuffer.lookup_transform('map', 'head_rgbd_sensor_link', rospy.Time())\n",
    "\n",
    "    trans,rot=read_tf(trans)\n",
    "    #print (\"############head\",trans,rot)\n",
    "except (tf2_ros.LookupException, tf2_ros.ConnectivityException, tf2_ros.ExtrapolationException):\n",
    "    print ( 'No head TF FOUND')\n",
    "eu=np.asarray(tf.transformations.euler_from_quaternion(rot))\n",
    "t=TransformStamped()\n",
    "rot=tf.transformations.quaternion_from_euler(eu[0],eu[1],eu[2])\n",
    "#rot=tf.transformations.quaternion_from_euler(-eu[1],0,0)\n",
    "t.header.stamp = points_msg.header.stamp\n",
    "t.transform.rotation.x = rot[0]\n",
    "t.transform.rotation.y = rot[1]\n",
    "t.transform.rotation.z = rot[2]\n",
    "t.transform.rotation.w = rot[3]\n",
    "cloud_out = do_transform_cloud(points_msg, t)\n",
    "np_corrected=ros_numpy.numpify(cloud_out)\n",
    "corrected=np_corrected.reshape(np_data.shape)\n",
    "img= np.copy(-corrected['z'])\n",
    "img[np.isnan(img)]=2\n",
    "img_corrected = np.where((img<trans[2]*0.96) ,img,5)\n",
    "plt.imshow(img_corrected)"
   ]
  },
  {
   "cell_type": "code",
   "execution_count": null,
   "id": "f2e77800",
   "metadata": {},
   "outputs": [],
   "source": [
    "brazo.set_named_target('go')"
   ]
  },
  {
   "cell_type": "code",
   "execution_count": null,
   "id": "a7686c8e",
   "metadata": {},
   "outputs": [],
   "source": [
    "plt.imshow(np_data['z'])"
   ]
  },
  {
   "cell_type": "code",
   "execution_count": null,
   "id": "98e92f36",
   "metadata": {},
   "outputs": [],
   "source": [
    " contours, hierarchy = cv2.findContours(img_corrected.astype('uint8'),cv2.RETR_TREE,cv2.CHAIN_APPROX_SIMPLE)\n",
    "i=0\n",
    "cents=[]\n",
    "points=[]\n",
    "points_c=[]\n",
    "images=[]\n",
    "for i, contour in enumerate(contours):\n",
    "    \n",
    "    area = cv2.contourArea(contour)\n",
    "    if area<100 or area >10000:pass\n",
    "    else:\n",
    "        \n",
    "        M = cv2.moments(contour)\n",
    "        # calculate x,y coordinate of center\n",
    "        cX = int(M[\"m10\"] / M[\"m00\"])\n",
    "        cY = int(M[\"m01\"] / M[\"m00\"])\n",
    "        print (cv2.contourArea(contour))\n",
    "        boundRect = cv2.boundingRect(contour)\n",
    "        image_aux= image[boundRect[1]:boundRect[1]+boundRect[3],boundRect[0]:boundRect[0]+boundRect[2]]\n",
    "        images.append(image_aux)\n",
    "        image_aux= img_corrected[boundRect[1]:boundRect[1]+boundRect[3],boundRect[0]:boundRect[0]+boundRect[2]]\n",
    "        mask=np.where(image_aux!=5)\n",
    "        npmask=np.asarray(mask).T\n",
    "        \n",
    "        rgb_image=cv2.rectangle(rgb_image,(boundRect[0], boundRect[1]),(boundRect[0]+boundRect[2], boundRect[1]+boundRect[3]), (255,255,0), 2)\n",
    "        iim=cv2.drawContours(rgb_image, contour, -1, (0,255,0), 10)\n",
    "        "
   ]
  },
  {
   "cell_type": "code",
   "execution_count": null,
   "id": "e11f16bd",
   "metadata": {},
   "outputs": [],
   "source": [
    "plt.imshow(iim)"
   ]
  },
  {
   "cell_type": "code",
   "execution_count": null,
   "id": "e81774c6",
   "metadata": {},
   "outputs": [],
   "source": [
    "xyz=[]\n",
    "if len (npmask)>0:\n",
    "    for a in npmask:\n",
    "        ix,iy=a[0],a[1]\n",
    "        print(ix)\n",
    "        #aux=(np.asarray((points_data['x'][boundRect[1]+ix,boundRect[0]+iy],points_data['y'][boundRect[1]+ix,boundRect[0]+iy],points_data['z'][boundRect[1]+ix,boundRect[0]+iy])))\n",
    "        aux=(np.asarray((np_data['x'][boundRect[1]+ix,boundRect[0]+iy],np_data['y'][boundRect[1]+ix,boundRect[0]+iy],np_data['z'][boundRect[1]+ix,boundRect[0]+iy])))\n",
    "        \n",
    "        if np.isnan(aux[0]) or np.isnan(aux[1]) or np.isnan(aux[2]):\n",
    "                'reject point'\n",
    "        else:\n",
    "            #print (xyz)\n",
    "            xyz.append(aux)\n"
   ]
  },
  {
   "cell_type": "code",
   "execution_count": null,
   "id": "f51d9db9",
   "metadata": {},
   "outputs": [],
   "source": [
    "i=0\n",
    "x,y,z=np.asarray(xyz).mean(axis=0)\n",
    "if np.isnan(x) or np.isnan(y) or np.isnan(z):\n",
    "    print('nan')\n",
    "else:\n",
    "    t=write_tf(    (x,y,z), (0,0,0,1), 'Object'+str(i), \"head_rgbd_sensor_rgb_frame\"   )  \n",
    "broadcaster.sendTransform(t)"
   ]
  },
  {
   "cell_type": "code",
   "execution_count": null,
   "id": "646a2e0c",
   "metadata": {},
   "outputs": [],
   "source": []
  },
  {
   "cell_type": "code",
   "execution_count": null,
   "id": "f2b2068e",
   "metadata": {},
   "outputs": [],
   "source": [
    "plt.imshow(corrected['z'][boundRect[1]:boundRect[1]+boundRect[3],boundRect[0]:boundRect[0]+boundRect[2]])"
   ]
  },
  {
   "cell_type": "markdown",
   "id": "ce9bcc2c",
   "metadata": {},
   "source": [
    "    "
   ]
  },
  {
   "cell_type": "code",
   "execution_count": null,
   "id": "0518976c",
   "metadata": {},
   "outputs": [],
   "source": [
    "xyz=[]\n",
    "if len (npmask)>0:\n",
    "    for a in npmask:\n",
    "        ix,iy=a[0],a[1]\n",
    "        #aux=(np.asarray((points_data['x'][boundRect[1]+ix,boundRect[0]+iy],points_data['y'][boundRect[1]+ix,boundRect[0]+iy],points_data['z'][boundRect[1]+ix,boundRect[0]+iy])))\n",
    "        aux=(np.asarray((corrected['x'][boundRect[1]+ix,boundRect[0]+iy],corrected['y'][boundRect[1]+ix,boundRect[0]+iy],corrected['z'][boundRect[1]+ix,boundRect[0]+iy])))\n",
    "        print (aux)\n",
    "        if np.isnan(aux[0]) or np.isnan(aux[1]) or np.isnan(aux[2]):\n",
    "                'reject point'\n",
    "        else:\n",
    "            xyz.append(aux)"
   ]
  },
  {
   "cell_type": "code",
   "execution_count": null,
   "id": "b2539600",
   "metadata": {},
   "outputs": [],
   "source": [
    "np.asarray(xyz).mean(axis=0)"
   ]
  },
  {
   "cell_type": "code",
   "execution_count": null,
   "id": "43bd90ed",
   "metadata": {},
   "outputs": [],
   "source": [
    "def write_tf(pose, q, child_frame=\"\" , parent_frame='map'):\n",
    "    #  pose = trans  q = quaternion  , childframe =\"\"\n",
    "    # format  write the transformstampled message\n",
    "    t= TransformStamped()\n",
    "    t.header.stamp = rospy.Time.now()\n",
    "    #t.header.stamp = rospy.Time(0)\n",
    "    t.header.frame_id =parent_frame\n",
    "    t.child_frame_id =  child_frame\n",
    "    t.transform.translation.x = pose[0]\n",
    "    t.transform.translation.y = pose[1]\n",
    "    t.transform.translation.z = pose[2]\n",
    "    #q = tf.transformations.quaternion_from_euler(eu[0], eu[1], eu[2])\n",
    "    t.transform.rotation.x = q[0]\n",
    "    t.transform.rotation.y = q[1]\n",
    "    t.transform.rotation.z = q[2]\n",
    "    t.transform.rotation.w = q[3]\n",
    "    return t\n",
    "    "
   ]
  },
  {
   "cell_type": "code",
   "execution_count": null,
   "id": "17b84686",
   "metadata": {},
   "outputs": [],
   "source": []
  },
  {
   "cell_type": "code",
   "execution_count": null,
   "id": "bb919bc7",
   "metadata": {},
   "outputs": [],
   "source": [
    "zs_no_nans=np.where(~np.isnan(corrected['z']),corrected['z'],1)\n",
    "histogram, bin_edges =(np.histogram(zs_no_nans, bins=100))\n",
    "t = tfBuffer.lookup_transform('map', 'head_rgbd_sensor_link', rospy.Time())\n",
    "trans=t.transform.translation.z\n",
    "plane_height= (trans)+bin_edges[histogram[:-1].argmax()+1]\n",
    "print(plane_height, 'plane_height')\n"
   ]
  },
  {
   "cell_type": "code",
   "execution_count": null,
   "id": "08b83f8b",
   "metadata": {},
   "outputs": [],
   "source": [
    "t = tfBuffer.lookup_transform('map', 'head_rgbd_sensor_link', rospy.Time())\n",
    "trans=t.transform.translation.z\n",
    "\n",
    "\n",
    "# Quito piso desde altura robot(sensor) + un threshold (hacia abajo) -> thres_floor\n",
    "img_corrected = np.where((zs_no_nans >-trans-0.03),zs_no_nans,1)"
   ]
  },
  {
   "cell_type": "code",
   "execution_count": null,
   "id": "e26dc01d",
   "metadata": {},
   "outputs": [],
   "source": [
    "corrected['z'][200,200]"
   ]
  },
  {
   "cell_type": "code",
   "execution_count": null,
   "id": "681c1582",
   "metadata": {},
   "outputs": [],
   "source": [
    "img_corrected"
   ]
  },
  {
   "cell_type": "code",
   "execution_count": null,
   "id": "0610f02b",
   "metadata": {},
   "outputs": [],
   "source": [
    "plane_height"
   ]
  },
  {
   "cell_type": "code",
   "execution_count": null,
   "id": "5db9ad07",
   "metadata": {},
   "outputs": [],
   "source": []
  },
  {
   "cell_type": "code",
   "execution_count": null,
   "id": "bd8a066d",
   "metadata": {},
   "outputs": [],
   "source": [
    "for i, contour in enumerate(contours):\n",
    "    boundRect = cv2.boundingRect(contour)"
   ]
  },
  {
   "cell_type": "code",
   "execution_count": null,
   "id": "58ee487e",
   "metadata": {},
   "outputs": [],
   "source": [
    "img_corrected"
   ]
  },
  {
   "cell_type": "code",
   "execution_count": null,
   "id": "7b7a9e62",
   "metadata": {},
   "outputs": [],
   "source": []
  },
  {
   "cell_type": "code",
   "execution_count": null,
   "id": "6937bb47",
   "metadata": {},
   "outputs": [],
   "source": []
  },
  {
   "cell_type": "code",
   "execution_count": null,
   "id": "079053f6",
   "metadata": {},
   "outputs": [],
   "source": [
    "import matplotlib.pyplot as plt\n",
    "\n",
    "contours, hierarchy = cv2.findContours(im_corrected.astype('uint8'),cv2.RETR_TREE,cv2.CHAIN_APPROX_SIMPLE)"
   ]
  },
  {
   "cell_type": "code",
   "execution_count": null,
   "id": "8baef251",
   "metadata": {},
   "outputs": [],
   "source": [
    "def segment_floor(points_data,zs_no_nans,obj_hMax=0.85,obj_lMax=1.5,thres_floor=0.03):\n",
    "    # obj_hMax -> altura maxima para objetos para segmentar\n",
    "    # obj_lMax -> distancia de objetos maxima para segmentar\n",
    "\n",
    "    # Quita piso y mayor a una cierta altura\n",
    "    t = tfBuffer.lookup_transform('map', 'head_rgbd_sensor_link', rospy.Time())\n",
    "    trans=t.transform.translation.z\n",
    "    \n",
    "    # Quito piso desde altura robot(sensor) + un threshold (hacia abajo) -> thres_floor\n",
    "    img_corrected = np.where((zs_no_nans >-trans-thres_floor),zs_no_nans,1)\n",
    "    # Quito objetos mayores a una altura -> obj_hMax\n",
    "    img_corrected = np.where((img_corrected < -obj_hMax),img_corrected,1)\n",
    "    \n",
    "\n",
    "    # Quita objetos lejanos\n",
    "    ls_no_nans=np.where(~np.isnan(points_data['z']),points_data['z'],5)\n",
    "    \n",
    "    lZ_no_nans=np.where(ls_no_nans<obj_lMax,ls_no_nans,5)\n",
    "    \n",
    "    # Con esto, quita en z los que en X (alturas) esten con 5\n",
    "    for r in range(img_corrected.shape[0]):\n",
    "        for c in range(img_corrected.shape[1]):\n",
    "            if lZ_no_nans[r,c]>=5:\n",
    "                img_corrected[r,c]=1\n",
    "    \n",
    "    return img_corrected\n"
   ]
  },
  {
   "cell_type": "code",
   "execution_count": null,
   "id": "485aa2fd",
   "metadata": {},
   "outputs": [],
   "source": [
    "plt.imshow(corrected['z'])"
   ]
  },
  {
   "cell_type": "code",
   "execution_count": null,
   "id": "27ad9b89",
   "metadata": {},
   "outputs": [],
   "source": [
    "corrected['z'][200,200]"
   ]
  },
  {
   "cell_type": "code",
   "execution_count": null,
   "id": "e78833ac",
   "metadata": {},
   "outputs": [],
   "source": [
    "head.set_joint_values([0,-0.7])"
   ]
  },
  {
   "cell_type": "code",
   "execution_count": null,
   "id": "54c0c0e8",
   "metadata": {},
   "outputs": [],
   "source": [
    "tf_man.getTF('object_0')"
   ]
  },
  {
   "cell_type": "code",
   "execution_count": null,
   "id": "354db1a4",
   "metadata": {},
   "outputs": [],
   "source": [
    "point_name=f'object_{i}'\n",
    "tf_man.pub_static_tf(pos=pose, point_name=point_name, ref='head_rgbd_sensor_rgb_frame')"
   ]
  },
  {
   "cell_type": "code",
   "execution_count": null,
   "id": "5cc5d747",
   "metadata": {},
   "outputs": [],
   "source": [
    "player_pose=[0.3, -0.87, 0.0, -0.75, -0.03, 0.0]\n"
   ]
  },
  {
   "cell_type": "code",
   "execution_count": null,
   "id": "34688ae8",
   "metadata": {},
   "outputs": [],
   "source": [
    "arm.set_joint_value_target(player_pose)"
   ]
  },
  {
   "cell_type": "markdown",
   "id": "aa180ba6",
   "metadata": {},
   "source": []
  },
  {
   "cell_type": "code",
   "execution_count": null,
   "id": "04674dba",
   "metadata": {},
   "outputs": [],
   "source": [
    "plan=arm.plan()"
   ]
  },
  {
   "cell_type": "code",
   "execution_count": null,
   "id": "9ded4efc",
   "metadata": {},
   "outputs": [],
   "source": [
    "arm.go()"
   ]
  },
  {
   "cell_type": "markdown",
   "id": "1b73f4e5",
   "metadata": {},
   "source": []
  },
  {
   "cell_type": "code",
   "execution_count": null,
   "id": "b091d157",
   "metadata": {},
   "outputs": [],
   "source": [
    "arm.get_current_joint_values()"
   ]
  },
  {
   "cell_type": "code",
   "execution_count": null,
   "id": "96fd3dea",
   "metadata": {},
   "outputs": [],
   "source": [
    "omni_base.move_base(known_location='room2')"
   ]
  },
  {
   "cell_type": "code",
   "execution_count": null,
   "id": "39ff4834",
   "metadata": {},
   "outputs": [],
   "source": [
    "head.set_joint_values([0,-0.7])"
   ]
  }
 ],
 "metadata": {
  "kernelspec": {
   "display_name": "Python 3 (ipykernel)",
   "language": "python",
   "name": "python3"
  },
  "language_info": {
   "codemirror_mode": {
    "name": "ipython",
    "version": 3
   },
   "file_extension": ".py",
   "mimetype": "text/x-python",
   "name": "python",
   "nbconvert_exporter": "python",
   "pygments_lexer": "ipython3",
   "version": "3.8.10"
  }
 },
 "nbformat": 4,
 "nbformat_minor": 5
}

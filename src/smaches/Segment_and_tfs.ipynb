{
 "cells": [
  {
   "cell_type": "code",
   "execution_count": null,
   "id": "b878d9d1",
   "metadata": {},
   "outputs": [],
   "source": [
    "from smach_utils2 import *"
   ]
  },
  {
   "cell_type": "code",
   "execution_count": null,
   "id": "327893d4",
   "metadata": {},
   "outputs": [],
   "source": [
    "tfBuffer = tf2.Buffer()\n",
    "\n",
    "listener = tf2.TransformListener(tfBuffer)\n",
    "b_tf=tf2.TransformBroadcaster()\n",
    "b_st=tf2.StaticTransformBroadcaster()\n"
   ]
  },
  {
   "cell_type": "code",
   "execution_count": null,
   "id": "a956cd50",
   "metadata": {},
   "outputs": [],
   "source": []
  },
  {
   "cell_type": "code",
   "execution_count": null,
   "id": "9516a610",
   "metadata": {},
   "outputs": [],
   "source": [
    "def write_tf(pose, q, child_frame , parent_frame='map',time=0):\n",
    "    t= TransformStamped()\n",
    "    t.header.stamp = rospy.Time.now()\n",
    "    t.header.frame_id =parent_frame\n",
    "    t.child_frame_id =  child_frame\n",
    "    t.transform.translation.x = pose[0]\n",
    "    t.transform.translation.y = pose[1]\n",
    "    t.transform.translation.z = pose[2]\n",
    "    #q = tf.transformations.quaternion_from_euler(eu[0], eu[1], eu[2])\n",
    "    t.transform.rotation.x = q[0]\n",
    "    t.transform.rotation.y = q[1]\n",
    "    t.transform.rotation.z = q[2]\n",
    "    t.transform.rotation.w = q[3]\n",
    "    return t\n",
    "def read_tf(t):\n",
    "    pose=np.asarray((\n",
    "        t.transform.translation.x,\n",
    "        t.transform.translation.y,\n",
    "        t.transform.translation.z\n",
    "        ))\n",
    "    quat=np.asarray((\n",
    "        t.transform.rotation.x,\n",
    "        t.transform.rotation.y,\n",
    "        t.transform.rotation.z,\n",
    "        t.transform.rotation.w\n",
    "        ))\n",
    "    \n",
    "    return pose, quat\n"
   ]
  },
  {
   "cell_type": "code",
   "execution_count": null,
   "id": "2979f285",
   "metadata": {},
   "outputs": [],
   "source": [
    "res=segmentation_server.call()"
   ]
  },
  {
   "cell_type": "code",
   "execution_count": null,
   "id": "a7a211f6",
   "metadata": {},
   "outputs": [],
   "source": [
    "res"
   ]
  },
  {
   "cell_type": "code",
   "execution_count": null,
   "id": "81ad906a",
   "metadata": {},
   "outputs": [],
   "source": [
    "poses=np.asarray(res.poses.data)\n",
    "\n",
    "poses=poses.reshape((int(len(poses)/3) ,3     )      )"
   ]
  },
  {
   "cell_type": "code",
   "execution_count": null,
   "id": "edc62c5b",
   "metadata": {},
   "outputs": [],
   "source": [
    "head.set_named_target('neutral')"
   ]
  },
  {
   "cell_type": "code",
   "execution_count": null,
   "id": "1aa0f955",
   "metadata": {},
   "outputs": [],
   "source": [
    "#t=write_tf(res.poses.data,(0,0,0,1),'Target',\"head_rgbd_sensor_depth_frame\",0)\n",
    "t=write_tf(poses[0,:],(0,0,0,1),'Target_tmp',\"head_rgbd_sensor_depth_frame\",0) ## CHOOSE A TARGET \n",
    "\n",
    "b_tf.sendTransform(t)\n",
    "rospy.sleep(0.2)\n",
    "tt=tfBuffer.lookup_transform('map','object_0',rospy.Time(0))\n",
    "rospy.sleep(0.2)\n",
    "tt\n",
    "pose,quat= read_tf(tt)\n",
    "t=write_tf(pose,(0,0,0,1),'Target')\n",
    "b_st.sendTransform(t)\n"
   ]
  },
  {
   "cell_type": "code",
   "execution_count": null,
   "id": "6a6fb5c5",
   "metadata": {},
   "outputs": [],
   "source": [
    "#head = moveit_commander.MoveGroupCommander('head')\n",
    "#gripper =  moveit_commander.MoveGroupCommander('gripper')\n",
    "#arm=moveit_commander.MoveGroupCommander('arm')\n",
    "from smach_utils2 import *\n",
    "whole_body= moveit_commander.MoveGroupCommander('whole_body')"
   ]
  },
  {
   "cell_type": "code",
   "execution_count": null,
   "id": "f3f4985d",
   "metadata": {},
   "outputs": [],
   "source": [
    "brazo.set_named_target('go')"
   ]
  },
  {
   "cell_type": "code",
   "execution_count": null,
   "id": "095c0b4f",
   "metadata": {},
   "outputs": [],
   "source": [
    "pose=whole_body.get_current_pose()\n",
    "type(pose)"
   ]
  },
  {
   "cell_type": "code",
   "execution_count": null,
   "id": "d85d9b91",
   "metadata": {},
   "outputs": [],
   "source": [
    "whole_body.set_pose_target(tar_pose)\n",
    "plan=whole_body.plan()\n",
    "if len (plan)>0:whole_body.go()\n",
    "else:print('nope')"
   ]
  },
  {
   "cell_type": "code",
   "execution_count": null,
   "id": "04bf0f7a",
   "metadata": {},
   "outputs": [],
   "source": [
    "plan"
   ]
  },
  {
   "cell_type": "code",
   "execution_count": null,
   "id": "e8475129",
   "metadata": {},
   "outputs": [],
   "source": [
    "tar_pose=PoseStamped()\n",
    "tar_pose.pose.position.x=.9\n",
    "tar_pose.pose.position.y=-1.06\n",
    "tar_pose.pose.position.z=.56\n",
    "tar_pose.pose.orientation.x=-1.0\n",
    "\n",
    "tar_pose.header.frame_id='odom'"
   ]
  },
  {
   "cell_type": "code",
   "execution_count": null,
   "id": "c0867c5c",
   "metadata": {},
   "outputs": [],
   "source": [
    "whole_body.set_start_state_to_current_state()\n",
    "whole_body.set_pose_target(pose)\n",
    "plan=whole_body.plan()\n",
    "print (len(plan))\n"
   ]
  },
  {
   "cell_type": "code",
   "execution_count": null,
   "id": "c4210da8",
   "metadata": {},
   "outputs": [],
   "source": [
    "whole_body.go()"
   ]
  },
  {
   "cell_type": "code",
   "execution_count": null,
   "id": "464e664c",
   "metadata": {},
   "outputs": [],
   "source": [
    "#whole_body=moveit_commander.MoveGroupCommander('whole_body')"
   ]
  },
  {
   "cell_type": "code",
   "execution_count": null,
   "id": "7ef2963f",
   "metadata": {},
   "outputs": [],
   "source": [
    "clear_octo_client()\n",
    "arm_grasp_from_above = [0.3, -2.0, 0.0, -0.9939144210462025, -0.17365421548386273, 0.0]\n",
    "wb_v=whole_body.get_current_joint_values()\n",
    "wb_v[3:]=arm_grasp_from_above\n",
    "succ = whole_body.go(wb_v)"
   ]
  },
  {
   "cell_type": "code",
   "execution_count": null,
   "id": "c2fd61fa",
   "metadata": {},
   "outputs": [],
   "source": [
    "head.set_named_target('neutral')\n",
    "head.go()\n",
    "clear_octo_client()\n"
   ]
  },
  {
   "cell_type": "code",
   "execution_count": null,
   "id": "e67a1f0b",
   "metadata": {},
   "outputs": [],
   "source": [
    "#\n",
    "t=tfBuffer.lookup_transform('map','Target',rospy.Time(0))\n",
    "pose , quat =  read_tf(t)\n",
    "pose"
   ]
  },
  {
   "cell_type": "code",
   "execution_count": null,
   "id": "91a9c855",
   "metadata": {},
   "outputs": [],
   "source": [
    "wb_gp=whole_body.get_current_pose()\n",
    "wb_gp.pose.position.x= pose[0]\n",
    "wb_gp.pose.position.y= pose[1]#\n",
    "wb_gp.pose.position.z= pose[2]+0.3   ##Pre Grasp from above\n"
   ]
  },
  {
   "cell_type": "code",
   "execution_count": null,
   "id": "00506fa1",
   "metadata": {
    "scrolled": false
   },
   "outputs": [],
   "source": [
    "whole_body.set_pose_target(wb_gp)\n",
    "plan=whole_body.plan()\n",
    "if plan[0]:\n",
    "    succ=whole_body.go()\n",
    "else:\n",
    "    print('No plan')"
   ]
  },
  {
   "cell_type": "code",
   "execution_count": null,
   "id": "d902c51e",
   "metadata": {},
   "outputs": [],
   "source": [
    "succ"
   ]
  },
  {
   "cell_type": "code",
   "execution_count": null,
   "id": "5aaa200d",
   "metadata": {},
   "outputs": [],
   "source": []
  },
  {
   "cell_type": "code",
   "execution_count": null,
   "id": "d3412bbd",
   "metadata": {},
   "outputs": [],
   "source": []
  },
  {
   "cell_type": "code",
   "execution_count": null,
   "id": "065f63f1",
   "metadata": {},
   "outputs": [],
   "source": [
    "t=tfBuffer.lookup_transform('hand_palm_link', 'Target',rospy.Time())"
   ]
  },
  {
   "cell_type": "code",
   "execution_count": null,
   "id": "4ea638d1",
   "metadata": {},
   "outputs": [],
   "source": [
    "pose,_=read_tf(t)\n",
    "pose"
   ]
  },
  {
   "cell_type": "code",
   "execution_count": null,
   "id": "d3e52131",
   "metadata": {},
   "outputs": [],
   "source": [
    "goal_p=whole_body.get_current_pose()\n",
    "goal_p.pose.position.x=0.1\n",
    "goal_p.pose.position.y=pose[1]\n",
    "goal_p.pose.position.z=pose[2]+0.2\n",
    "#goal_p.pose.orientation.w=quat[0]\n",
    "#goal_p.pose.orientation.x=quat[1]\n",
    "#goal_p.pose.orientation.y=quat[2]\n",
    "#goal_p.pose.orientation.z=quat[3]\n",
    "\n"
   ]
  },
  {
   "cell_type": "code",
   "execution_count": null,
   "id": "1da825b7",
   "metadata": {},
   "outputs": [],
   "source": [
    "whole_body.set_pose_target(goal_p)"
   ]
  },
  {
   "cell_type": "code",
   "execution_count": null,
   "id": "3ba02e07",
   "metadata": {},
   "outputs": [],
   "source": [
    "whole_body.plan()"
   ]
  },
  {
   "cell_type": "code",
   "execution_count": null,
   "id": "860c8fc4",
   "metadata": {},
   "outputs": [],
   "source": [
    "goal_p=whole_body.get_current_pose()"
   ]
  },
  {
   "cell_type": "code",
   "execution_count": null,
   "id": "9ef3bfbf",
   "metadata": {},
   "outputs": [],
   "source": [
    "whole_body.set_pose_target(goal_p)\n",
    "whole_body.plan()"
   ]
  },
  {
   "cell_type": "code",
   "execution_count": null,
   "id": "e91a0515",
   "metadata": {},
   "outputs": [],
   "source": [
    "whole_body.go()"
   ]
  },
  {
   "cell_type": "code",
   "execution_count": null,
   "id": "2fe72b4b",
   "metadata": {},
   "outputs": [],
   "source": []
  },
  {
   "cell_type": "code",
   "execution_count": null,
   "id": "3dfb35a6",
   "metadata": {},
   "outputs": [],
   "source": []
  },
  {
   "cell_type": "code",
   "execution_count": null,
   "id": "4b200fce",
   "metadata": {},
   "outputs": [],
   "source": [
    "res.poses.data"
   ]
  },
  {
   "cell_type": "code",
   "execution_count": null,
   "id": "4ebd2af5",
   "metadata": {},
   "outputs": [],
   "source": [
    "t=tfBuffer.lookup_transform('map','Target',rospy.Time())"
   ]
  },
  {
   "cell_type": "code",
   "execution_count": null,
   "id": "ec2e5eae",
   "metadata": {},
   "outputs": [],
   "source": [
    "pose,quat=read_tf(t)"
   ]
  },
  {
   "cell_type": "code",
   "execution_count": null,
   "id": "7dddd58b",
   "metadata": {},
   "outputs": [],
   "source": [
    "goal_pose= Pose()"
   ]
  },
  {
   "cell_type": "code",
   "execution_count": null,
   "id": "fa06ecd0",
   "metadata": {},
   "outputs": [],
   "source": [
    "goal_pose.position.x=pose[0]\n",
    "goal_pose.position.y=pose[1]\n",
    "goal_pose.position.z=pose[2]"
   ]
  },
  {
   "cell_type": "code",
   "execution_count": null,
   "id": "76bfdd75",
   "metadata": {},
   "outputs": [],
   "source": [
    "pose,goal_pose"
   ]
  },
  {
   "cell_type": "code",
   "execution_count": null,
   "id": "e1bfc047",
   "metadata": {},
   "outputs": [],
   "source": [
    "whole_body.get_current_pose()"
   ]
  },
  {
   "cell_type": "code",
   "execution_count": null,
   "id": "0a55f889",
   "metadata": {},
   "outputs": [],
   "source": [
    "wb=whole_body.get_current_joint_values()"
   ]
  },
  {
   "cell_type": "code",
   "execution_count": null,
   "id": "0852d4fb",
   "metadata": {},
   "outputs": [],
   "source": [
    "wb[4]=0.1"
   ]
  },
  {
   "cell_type": "code",
   "execution_count": null,
   "id": "2ebde50f",
   "metadata": {},
   "outputs": [],
   "source": [
    "whole_body.go(wb)"
   ]
  },
  {
   "cell_type": "code",
   "execution_count": null,
   "id": "58799474",
   "metadata": {},
   "outputs": [],
   "source": [
    "pose=whole_body.get_current_pose()"
   ]
  },
  {
   "cell_type": "code",
   "execution_count": null,
   "id": "3c2220e1",
   "metadata": {},
   "outputs": [],
   "source": [
    "type(pose.pose.orientation)"
   ]
  },
  {
   "cell_type": "code",
   "execution_count": null,
   "id": "fc307530",
   "metadata": {},
   "outputs": [],
   "source": [
    "tf.transformations.euler_from_quaternion((pose.pose.orientation.w,pose.pose.orientation.x,pose.pose.orientation.y,pose.pose.orientation.z))"
   ]
  },
  {
   "cell_type": "code",
   "execution_count": null,
   "id": "4ee0d547",
   "metadata": {},
   "outputs": [],
   "source": [
    "tf.transformations.euler_from_quaternion((pose.pose.orientation.w,pose.pose.orientation.x,pose.pose.orientation.y,pose.pose.orientation.z))"
   ]
  },
  {
   "cell_type": "code",
   "execution_count": null,
   "id": "17d1dea8",
   "metadata": {},
   "outputs": [],
   "source": [
    "gp=whole_body.get_current_pose()"
   ]
  },
  {
   "cell_type": "code",
   "execution_count": null,
   "id": "b88885bc",
   "metadata": {},
   "outputs": [],
   "source": [
    "\n",
    "gp.pose.orientation\n",
    "pose=gp\n",
    "eu=tf.transformations.euler_from_quaternion((pose.pose.orientation.w,pose.pose.orientation.x,pose.pose.orientation.y,pose.pose.orientation.z))\n",
    "#eu[1]=0\n",
    "quat=tf.transformations.quaternion_from_euler(eu[0],eu[1],eu[2])"
   ]
  },
  {
   "cell_type": "code",
   "execution_count": null,
   "id": "b3524ff3",
   "metadata": {},
   "outputs": [],
   "source": [
    "eu=tf.transformations.euler_from_quaternion((pose.pose.orientation.w,pose.pose.orientation.x,pose.pose.orientation.y,pose.pose.orientation.z))"
   ]
  },
  {
   "cell_type": "code",
   "execution_count": null,
   "id": "f1848d06",
   "metadata": {},
   "outputs": [],
   "source": [
    "tfBuffer.lookup_transform('hand_palm_link','New:static_Target',rospy.Time(0))"
   ]
  },
  {
   "cell_type": "code",
   "execution_count": null,
   "id": "6aa7e7eb",
   "metadata": {},
   "outputs": [],
   "source": [
    "#eu[1]=0\n",
    "quat=tf.transformations.quaternion_from_euler(eu[0],eu[1],eu[2])\n",
    "rot_quat=tf.transformations.quaternion_from_euler(0,0.5*np.pi,0.0)"
   ]
  },
  {
   "cell_type": "code",
   "execution_count": null,
   "id": "fcf78b24",
   "metadata": {},
   "outputs": [],
   "source": [
    "wb_gp=whole_body.get_current_pose()"
   ]
  },
  {
   "cell_type": "code",
   "execution_count": null,
   "id": "803cc0d5",
   "metadata": {},
   "outputs": [],
   "source": [
    "eu=tf.transformations.euler_from_quaternion((wb_gp.pose.orientation.w,wb_gp.pose.orientation.x,wb_gp.pose.orientation.y,wb_gp.pose.orientation.z))\n",
    "quat=tf.transformations.quaternion_from_euler(eu[0],eu[1],eu[2])\n",
    "rot_quat=tf.transformations.quaternion_from_euler(0,0.5*np.pi,0.0)\n",
    "rotated=tf.transformations.quaternion_multiply(quat,rot_quat)\n",
    "\n"
   ]
  },
  {
   "cell_type": "code",
   "execution_count": null,
   "id": "af1f1c10",
   "metadata": {},
   "outputs": [],
   "source": [
    "wb_gp.pose.position.x-=0.1\n",
    "wb_gp.pose.position.y+=0.1\n",
    "wb_gp.pose.position.z-=0.1\n"
   ]
  },
  {
   "cell_type": "code",
   "execution_count": null,
   "id": "e7060254",
   "metadata": {},
   "outputs": [],
   "source": [
    "wb_gp.pose.orientation.w=rotated[0]\n",
    "wb_gp.pose.orientation.x=rotated[1]\n",
    "wb_gp.pose.orientation.y=rotated[2]\n",
    "wb_gp.pose.orientation.z=rotated[3]"
   ]
  },
  {
   "cell_type": "code",
   "execution_count": null,
   "id": "cfff6feb",
   "metadata": {},
   "outputs": [],
   "source": [
    "whole_body.set_pose_target(wb_gp)"
   ]
  },
  {
   "cell_type": "code",
   "execution_count": null,
   "id": "46b260e6",
   "metadata": {},
   "outputs": [],
   "source": [
    "\n",
    "plan=whole_body.plan()\n",
    "plan"
   ]
  },
  {
   "cell_type": "code",
   "execution_count": null,
   "id": "d13e0540",
   "metadata": {},
   "outputs": [],
   "source": [
    "if plan[0]:\n",
    "    whole_body.go()"
   ]
  },
  {
   "cell_type": "code",
   "execution_count": null,
   "id": "56da32e8",
   "metadata": {},
   "outputs": [],
   "source": [
    "whole_body.go()"
   ]
  },
  {
   "cell_type": "code",
   "execution_count": null,
   "id": "1cafe338",
   "metadata": {},
   "outputs": [],
   "source": [
    "arm_grasp_from_above = [0.19263830140116414, -2.2668981568652917, -0.007358947463759424, -0.9939144210462025, -0.17365421548386273, 0.0]\n",
    "wb_v=whole_body.get_current_joint_values()\n",
    "wb_v[3:]=arm_grasp_from_above\n",
    "succ = whole_body.go(wb_v)"
   ]
  },
  {
   "cell_type": "code",
   "execution_count": null,
   "id": "f6961dec",
   "metadata": {},
   "outputs": [],
   "source": [
    "\n",
    "t=tfBuffer.lookup_transform('New:static_Target','hand_palm_link',rospy.Time(0))\n",
    "pose , quat =  read_tf(t)\n",
    "pose,quat\n",
    "np.save('above_quat.npy',quat)"
   ]
  },
  {
   "cell_type": "code",
   "execution_count": null,
   "id": "f7b19101",
   "metadata": {},
   "outputs": [],
   "source": [
    "t=tfBuffer.lookup_transform('map','Target',rospy.Time(0))\n",
    "pose , quat =  read_tf(t)\n",
    "pose,quat"
   ]
  },
  {
   "cell_type": "code",
   "execution_count": null,
   "id": "97b4222e",
   "metadata": {},
   "outputs": [],
   "source": [
    "wb_gp=whole_body.get_current_pose()\n",
    "wb_gp.pose.position.x= pose[0]\n",
    "wb_gp.pose.position.y= pose[1]\n",
    "wb_gp.pose.position.z= pose[2]+0.2\n"
   ]
  },
  {
   "cell_type": "code",
   "execution_count": null,
   "id": "5f99d418",
   "metadata": {},
   "outputs": [],
   "source": [
    "whole_body.set_pose_target(wb_gp)\n",
    "plan=whole_body.plan()\n",
    "plan"
   ]
  },
  {
   "cell_type": "code",
   "execution_count": null,
   "id": "b1e041bf",
   "metadata": {},
   "outputs": [],
   "source": [
    "\n",
    "whole_body.go()"
   ]
  },
  {
   "cell_type": "code",
   "execution_count": null,
   "id": "ba658ddb",
   "metadata": {},
   "outputs": [],
   "source": [
    "wb_v=whole_body.get_current_joint_values()\n"
   ]
  },
  {
   "cell_type": "code",
   "execution_count": null,
   "id": "ebe3812e",
   "metadata": {},
   "outputs": [],
   "source": [
    "gripper = GRIPPER()"
   ]
  },
  {
   "cell_type": "code",
   "execution_count": null,
   "id": "b5a3ad2a",
   "metadata": {},
   "outputs": [],
   "source": [
    "gripper.close()"
   ]
  },
  {
   "cell_type": "code",
   "execution_count": null,
   "id": "c7e05102",
   "metadata": {},
   "outputs": [],
   "source": [
    "gripper =  moveit_commander.MoveGroupCommander('gripper')"
   ]
  },
  {
   "cell_type": "code",
   "execution_count": null,
   "id": "7bac164b",
   "metadata": {},
   "outputs": [],
   "source": [
    "\n",
    "|\n",
    "tf_man.pub_static_tf()"
   ]
  },
  {
   "cell_type": "code",
   "execution_count": null,
   "id": "261eed62",
   "metadata": {},
   "outputs": [],
   "source": []
  },
  {
   "cell_type": "code",
   "execution_count": null,
   "id": "69c7bc1d",
   "metadata": {},
   "outputs": [],
   "source": []
  },
  {
   "cell_type": "code",
   "execution_count": null,
   "id": "8fe6fd57",
   "metadata": {},
   "outputs": [],
   "source": []
  },
  {
   "cell_type": "code",
   "execution_count": null,
   "id": "187b56b6",
   "metadata": {},
   "outputs": [],
   "source": []
  },
  {
   "cell_type": "code",
   "execution_count": null,
   "id": "eb12f985",
   "metadata": {},
   "outputs": [],
   "source": [
    "head.set_joint_values([0.0, -0.77])\n"
   ]
  },
  {
   "cell_type": "code",
   "execution_count": null,
   "id": "d80dd175",
   "metadata": {},
   "outputs": [],
   "source": [
    "print ('rdy')"
   ]
  },
  {
   "cell_type": "code",
   "execution_count": null,
   "id": "830b7456",
   "metadata": {},
   "outputs": [],
   "source": [
    "brazo.set_named_target('go')\n",
    "head.set_joint_values([0.0, -0.77])\n",
    "res=segmentation_server.call()\n",
    "if len(res.poses.data)==0: print( 'failed')\n",
    "else:\n",
    "\n",
    "    poses=np.asarray(res.poses.data)\n",
    "    poses=poses.reshape((int(len(poses)/3) ,3     )      )  \n",
    "\n",
    "\n",
    "\n",
    "\n",
    "\n",
    "    tf_man.pub_static_tf(pos=poses[0,:], point_name='target', ref='head_rgbd_sensor_rgb_frame')## which object to choose   #TODO\n",
    "    rospy.sleep(0.3)\n",
    "    tf_man.change_ref_frame_tf(point_name='target', new_frame='map')\n",
    "    rospy.sleep(0.3)\n",
    "    pose, _ =tf_man.getTF('target')\n",
    "    tf_man.pub_static_tf(pos=pose, point_name='Target')## which object to choose   #TODO\n",
    "\n",
    "\n",
    "    head.set_named_target('neutral')"
   ]
  },
  {
   "cell_type": "code",
   "execution_count": null,
   "id": "e2f330e0",
   "metadata": {},
   "outputs": [],
   "source": [
    "poses=np.asarray(res.poses.data)\n",
    "poses=poses.reshape((int(len(poses)/3) ,3     )      )  \n",
    "\n",
    "\n",
    "\n",
    "\n",
    "\n",
    "tf_man.pub_static_tf(pos=poses[0,:], point_name='target', ref='head_rgbd_sensor_rgb_frame')## which object to choose   #TODO"
   ]
  },
  {
   "cell_type": "code",
   "execution_count": null,
   "id": "e4642063",
   "metadata": {},
   "outputs": [],
   "source": [
    "tf_man.change_ref_frame_tf(point_name='target', new_frame='map')\n"
   ]
  },
  {
   "cell_type": "code",
   "execution_count": null,
   "id": "23eb4bf8",
   "metadata": {},
   "outputs": [],
   "source": [
    "pose, _ =tf_man.getTF('target')\n",
    "tf_man.pub_static_tf(pos=pose, point_name='Target')## which object to choose   #TODO\n"
   ]
  },
  {
   "cell_type": "code",
   "execution_count": null,
   "id": "791abb92",
   "metadata": {},
   "outputs": [],
   "source": [
    "head.set_named_target('neutral')"
   ]
  },
  {
   "cell_type": "code",
   "execution_count": null,
   "id": "448d5ca0",
   "metadata": {},
   "outputs": [],
   "source": [
    " clear_octo_client()\n",
    "#############################10 * 2 *np.pi / 360 ####pi /2\n",
    "arm_grasp_from_above = [0.2, -1.57, -0.13 , -1.57, 0.0, 0.0]\n",
    "wb_v=whole_body.get_current_joint_values()\n",
    "wb_v[3:]=arm_grasp_from_above\n",
    "succ = whole_body.go(wb_v)   "
   ]
  },
  {
   "cell_type": "code",
   "execution_count": null,
   "id": "85cdf627",
   "metadata": {},
   "outputs": [],
   "source": [
    "clear_octo_client()\n",
    "pose, quat=tf_man.getTF('Target')\n",
    "\n",
    "wb_gp=whole_body.get_current_pose()\n",
    "wb_gp.pose.position.x= pose[0]\n",
    "wb_gp.pose.position.y= pose[1]\n",
    "wb_gp.pose.position.z= pose[2]+0.2\n",
    "\n",
    "whole_body.set_pose_target(wb_gp)\n",
    "plan=whole_body.plan()"
   ]
  },
  {
   "cell_type": "code",
   "execution_count": null,
   "id": "422d4c93",
   "metadata": {},
   "outputs": [],
   "source": [
    "pos,rot=tf_man.getTF(target_frame=,ref)\n",
    "pos"
   ]
  },
  {
   "cell_type": "code",
   "execution_count": null,
   "id": "a011d956",
   "metadata": {},
   "outputs": [],
   "source": [
    "from smach_utils2 import *"
   ]
  },
  {
   "cell_type": "code",
   "execution_count": null,
   "id": "f384254d",
   "metadata": {},
   "outputs": [],
   "source": [
    "from smach_utils2 import *\n"
   ]
  },
  {
   "cell_type": "code",
   "execution_count": null,
   "id": "7f9036ef",
   "metadata": {},
   "outputs": [],
   "source": [
    "wb_gp=whole_body.get_current_pose()            \n",
    "wb_gp.header.frame_id=\"Target\"\n",
    "wb_gp.pose.position.x=0.02669\n",
    "wb_gp.pose.position.y=0.045\n",
    "wb_gp.pose.position.z= 0.033\n",
    "wb_gp.pose.orientation.w=-0.990\n",
    "wb_gp.pose.orientation.x= 0.0246\n",
    "wb_gp.pose.orientation.y= -0.0085\n",
    "wb_gp.pose.orientation.z= 0.1345\n",
    "\n"
   ]
  },
  {
   "cell_type": "code",
   "execution_count": null,
   "id": "9dadce42",
   "metadata": {},
   "outputs": [],
   "source": []
  },
  {
   "cell_type": "code",
   "execution_count": null,
   "id": "85cfad64",
   "metadata": {},
   "outputs": [],
   "source": [
    "aaa"
   ]
  },
  {
   "cell_type": "code",
   "execution_count": null,
   "id": "05aab8d3",
   "metadata": {},
   "outputs": [],
   "source": [
    "from smach_ros import ActionServerWrapper"
   ]
  },
  {
   "cell_type": "code",
   "execution_count": null,
   "id": "42d59559",
   "metadata": {},
   "outputs": [],
   "source": []
  },
  {
   "cell_type": "code",
   "execution_count": null,
   "id": "b2be4635",
   "metadata": {},
   "outputs": [],
   "source": [
    "res = speech_recog_server()"
   ]
  },
  {
   "cell_type": "code",
   "execution_count": null,
   "id": "4e6d8840",
   "metadata": {},
   "outputs": [],
   "source": [
    "res.data\n",
    "\n",
    "#msg = rospy.wait_for_message('/speech_recognition/final_result', String, 10)\n",
    "#msg"
   ]
  },
  {
   "cell_type": "code",
   "execution_count": null,
   "id": "f2b2e7d5",
   "metadata": {},
   "outputs": [],
   "source": [
    "if len(res.data.split(' '))>1:print(res.data.split(' ')[-1])    ### Number of words\n"
   ]
  },
  {
   "cell_type": "code",
   "execution_count": null,
   "id": "c4115064",
   "metadata": {},
   "outputs": [],
   "source": []
  },
  {
   "cell_type": "code",
   "execution_count": null,
   "id": "19e7972a",
   "metadata": {},
   "outputs": [],
   "source": []
  },
  {
   "cell_type": "code",
   "execution_count": null,
   "id": "58ba5515",
   "metadata": {},
   "outputs": [],
   "source": [
    "from ros_whisper_vosk.srv import SetGrammarVosk\n",
    "set_grammar = rospy.ServiceProxy('set_grammar_vosk', SetGrammarVosk)"
   ]
  },
  {
   "cell_type": "code",
   "execution_count": null,
   "id": "590283d6",
   "metadata": {},
   "outputs": [],
   "source": [
    "set_grammar = rospy.ServiceProxy('set_grammar_vosk', SetGrammarVosk)"
   ]
  },
  {
   "cell_type": "code",
   "execution_count": null,
   "id": "5f5b4d54",
   "metadata": {},
   "outputs": [],
   "source": [
    "set_grammar(['pete','ana','jack', 'michael', ' my name is' , 'i am','george','mary','ruben','oscar','yolo','mitzi'])  ##PRESET NAMES"
   ]
  },
  {
   "cell_type": "code",
   "execution_count": null,
   "id": "f692c036",
   "metadata": {
    "scrolled": true
   },
   "outputs": [],
   "source": [
    "msg = rospy.wait_for_message('/speech_recognition/final_result', String, 10)\n",
    "msg"
   ]
  },
  {
   "cell_type": "code",
   "execution_count": null,
   "id": "1024c0ba",
   "metadata": {},
   "outputs": [],
   "source": [
    "msg = rospy.wait_for_message('/speech_recognition/final_result', String, 10)\n",
    "#msg.data\n",
    "if len(msg.data.split(' '))>1:print(msg.data.split(' ')[-1]) "
   ]
  },
  {
   "cell_type": "code",
   "execution_count": null,
   "id": "dd53f34f",
   "metadata": {},
   "outputs": [],
   "source": [
    "\n",
    "res=get_keywords_speech(10)\n",
    "res"
   ]
  },
  {
   "cell_type": "code",
   "execution_count": null,
   "id": "10c3aca5",
   "metadata": {},
   "outputs": [],
   "source": []
  },
  {
   "cell_type": "code",
   "execution_count": null,
   "id": "cb3b220a",
   "metadata": {},
   "outputs": [],
   "source": [
    "drinks=['coke','juice','beer', 'water', 'soda', 'wine']\n",
    "names=['pete','ana','jack', 'michael', ' my name is' , 'i am','george','mary','ruben','oscar','yolo','mitzi']\n",
    "confirmation=['yes','no']\n",
    "gram=drinks+names+confirmation\n",
    "\n",
    "set_grammar(gram)  ##PRESET DRINKS\n"
   ]
  },
  {
   "cell_type": "code",
   "execution_count": null,
   "id": "4e8e8232",
   "metadata": {},
   "outputs": [],
   "source": []
  },
  {
   "cell_type": "code",
   "execution_count": null,
   "id": "c8dee770",
   "metadata": {},
   "outputs": [],
   "source": [
    "res2 = get_keywords_speech(10)\n",
    "if res2 in['yes','jack','juice']:print('chido',res2)\n",
    "else: print ('chale',res2)"
   ]
  },
  {
   "cell_type": "code",
   "execution_count": null,
   "id": "32ec358c",
   "metadata": {},
   "outputs": [],
   "source": [
    "set_grammar(['yes','no'])"
   ]
  },
  {
   "cell_type": "code",
   "execution_count": null,
   "id": "44831c6e",
   "metadata": {},
   "outputs": [],
   "source": [
    "res2 in ['yes', 'no']"
   ]
  },
  {
   "cell_type": "code",
   "execution_count": null,
   "id": "3d885d9c",
   "metadata": {},
   "outputs": [],
   "source": [
    "res2='not'"
   ]
  },
  {
   "cell_type": "code",
   "execution_count": null,
   "id": "50f13eb4",
   "metadata": {},
   "outputs": [],
   "source": [
    "import matplotlib.pyplot as plt\n",
    "\n",
    "#map_msg= rospy.wait_for_message('/prohibition_layer_map', OccupancyGrid)\n",
    "map_msg= rospy.wait_for_message('/augmented_map', OccupancyGrid)\n",
    "inflated_map= np.asarray(map_msg.data)"
   ]
  },
  {
   "cell_type": "code",
   "execution_count": null,
   "id": "15e8406f",
   "metadata": {},
   "outputs": [],
   "source": [
    "map_msg.info.width"
   ]
  },
  {
   "cell_type": "code",
   "execution_count": null,
   "id": "d979331e",
   "metadata": {},
   "outputs": [],
   "source": [
    "import matplotlib.pyplot as plt\n",
    "img_map=inflated_map.reshape((map_msg.info.width,map_msg.info.height))\n",
    "\n"
   ]
  },
  {
   "cell_type": "code",
   "execution_count": null,
   "id": "c623dbd8",
   "metadata": {},
   "outputs": [],
   "source": [
    "import matplotlib.pyplot as plt\n",
    "img_map=inflated_map.reshape((map_msg.info.width,map_msg.info.height))\n",
    "\n",
    "\n",
    "plt.imshow(img_map)"
   ]
  },
  {
   "cell_type": "code",
   "execution_count": null,
   "id": "f3c85a51",
   "metadata": {},
   "outputs": [],
   "source": [
    "img_map[237,474]"
   ]
  },
  {
   "cell_type": "code",
   "execution_count": null,
   "id": "162d2bc0",
   "metadata": {},
   "outputs": [],
   "source": []
  },
  {
   "cell_type": "code",
   "execution_count": null,
   "id": "2125f71a",
   "metadata": {},
   "outputs": [],
   "source": [
    "from smach_utils2 import *\n"
   ]
  },
  {
   "cell_type": "code",
   "execution_count": null,
   "id": "6774ef06",
   "metadata": {},
   "outputs": [],
   "source": [
    "brazo.set_named_target()\n",
    "head.set_joint_values([0,-1])\n"
   ]
  },
  {
   "cell_type": "code",
   "execution_count": null,
   "id": "24f4f02c",
   "metadata": {},
   "outputs": [],
   "source": [
    "res=segmentation_server.call()\n",
    "origin_map_img=[round(img_map.shape[0]*0.5) ,round(img_map.shape[1]*0.5)]\n",
    "\n",
    "if len(res.poses.data)==0: print( 'failed')\n",
    "else:\n",
    "    print('object found')\n",
    "    \n",
    "    poses=np.asarray(res.poses.data)\n",
    "    poses=poses.reshape((int(len(poses)/3) ,3     )      )  \n",
    "    num_objs=len(poses)\n",
    "    print (num_objs)\n",
    "    for i,pose in enumerate(poses):\n",
    "        #print (f'Occupancy map at point object {i}-> pixels ',origin_map_img[1]+ round(pose[1]/pix_per_m),origin_map_img[0]+ round(pose[0]/pix_per_m), img_map[origin_map_img[1]+ round(pose[1]/pix_per_m),origin_map_img[0]+ round(pose[0]/pix_per_m)])\n",
    "        point_name=f'object_{i}'\n",
    "        tf_man.pub_static_tf(pos=pose, point_name=point_name, ref='head_rgbd_sensor_rgb_frame')## which object to choose   #TODO\n",
    "        rospy.sleep(0.3)\n",
    "        tf_man.change_ref_frame_tf(point_name=point_name, new_frame='map')\n",
    "        rospy.sleep(0.3)\n",
    "        pose,_= tf_man.getTF(point_name)\n",
    "        print (f'Occupancy map at point object {i}-> pixels ',origin_map_img[1]+ round(pose[1]/pix_per_m),origin_map_img[0]+ round(pose[0]/pix_per_m), img_map[origin_map_img[1]+ round(pose[1]/pix_per_m),origin_map_img[0]+ round(pose[0]/pix_per_m)])\n",
    "        if img_map[origin_map_img[1]+ round(pose[1]/pix_per_m),origin_map_img[0]+ round(pose[0]/pix_per_m)]!=0:#### Yes axes seem to be \"flipped\" !=0:\n",
    "            print ('reject point, most likely part of arena, occupied inflated map')\n",
    "            tf_man.pub_static_tf(pos=[0,0,0], point_name=point_name, ref='head_rgbd_sensor_rgb_frame')\n",
    "            num_objs-=1\n",
    "        print (f\"object found at robot coords.{pose} \")\n",
    "\n",
    "print(num_objs)"
   ]
  },
  {
   "cell_type": "code",
   "execution_count": null,
   "id": "4131292e",
   "metadata": {},
   "outputs": [],
   "source": [
    "contoured=draw_at(origin_map_img[1]+ round(pose[1]/pix_per_m),origin_map_img[0]+ round(pose[0]/pix_per_m),contoured)"
   ]
  },
  {
   "cell_type": "code",
   "execution_count": null,
   "id": "bb1d4454",
   "metadata": {},
   "outputs": [],
   "source": [
    "pose"
   ]
  },
  {
   "cell_type": "code",
   "execution_count": null,
   "id": "2350d33d",
   "metadata": {},
   "outputs": [],
   "source": [
    "contoured[origin_map_img[1]+ round(pose[1]/pix_per_m),origin_map_img[0]+ round(pose[0]/pix_per_m)]\n"
   ]
  },
  {
   "cell_type": "code",
   "execution_count": null,
   "id": "ffe95a1e",
   "metadata": {},
   "outputs": [],
   "source": [
    "#FREE SPACE . SO IT IS A PLAUSIBLE HYPOTHESIS OF A TRASH OBJECT"
   ]
  },
  {
   "cell_type": "code",
   "execution_count": null,
   "id": "fe76975f",
   "metadata": {},
   "outputs": [],
   "source": [
    "pose"
   ]
  },
  {
   "cell_type": "code",
   "execution_count": null,
   "id": "38be969d",
   "metadata": {},
   "outputs": [],
   "source": []
  },
  {
   "cell_type": "code",
   "execution_count": null,
   "id": "e170ff37",
   "metadata": {},
   "outputs": [],
   "source": []
  },
  {
   "cell_type": "code",
   "execution_count": null,
   "id": "fffe798f",
   "metadata": {},
   "outputs": [],
   "source": []
  },
  {
   "cell_type": "code",
   "execution_count": null,
   "id": "cc8e4a57",
   "metadata": {},
   "outputs": [],
   "source": []
  },
  {
   "cell_type": "code",
   "execution_count": null,
   "id": "142b793c",
   "metadata": {},
   "outputs": [],
   "source": [
    "def draw_at (px,py, contoured):\n",
    "    contoured[px-5:px+5,py-5:py+5]=200\n",
    "    return contoured\n",
    "    "
   ]
  },
  {
   "cell_type": "code",
   "execution_count": null,
   "id": "b2887705",
   "metadata": {},
   "outputs": [],
   "source": [
    "\n",
    "import matplotlib.pyplot as plt\n",
    "plt.imshow(img_map)"
   ]
  },
  {
   "cell_type": "code",
   "execution_count": null,
   "id": "f366147a",
   "metadata": {},
   "outputs": [],
   "source": [
    "origin_map_img[1]+ round(pose[1]/pix_per_m), origin_map_img[0]+ round(pose[0]/pix_per_m) "
   ]
  },
  {
   "cell_type": "code",
   "execution_count": null,
   "id": "79710947",
   "metadata": {},
   "outputs": [],
   "source": [
    "img_map[200,474]"
   ]
  },
  {
   "cell_type": "code",
   "execution_count": null,
   "id": "1865980e",
   "metadata": {},
   "outputs": [],
   "source": [
    "img_map[origin_map_img[1]+ round(pose[1]/pix_per_m),origin_map_img[0]+ round(pose[0]/pix_per_m) ]\n",
    "\n",
    "\n",
    "#img_map[origin_map_img[1]+ round(pose[1]/pix_per_m),origin_map_img[0]+ round(pose[0]/pix_per_m) ]"
   ]
  },
  {
   "cell_type": "code",
   "execution_count": null,
   "id": "73ee7517",
   "metadata": {},
   "outputs": [],
   "source": [
    "origin_map_img=[round(contoured.shape[0]*0.5) ,round(contoured.shape[1]*0.5)]\n",
    "pose,_= tf_man.getTF('object_0')\n",
    "\n",
    "contoured=draw_at(origin_map_img[1]+ round(pose[1]/pix_per_m),origin_map_img[0]+ round(pose[0]/pix_per_m),img_map)\n",
    "plt.imshow(contoured)"
   ]
  },
  {
   "cell_type": "code",
   "execution_count": null,
   "id": "172fb740",
   "metadata": {},
   "outputs": [],
   "source": [
    "contoured[origin_map_img[1]+ round(pose[1]/pix_per_m),origin_map_img[0]+ round(pose[0]/pix_per_m)]#### Yes axes seem to be \"flipped\""
   ]
  },
  {
   "cell_type": "code",
   "execution_count": null,
   "id": "eb7ec96d",
   "metadata": {},
   "outputs": [],
   "source": [
    "\n",
    "contoured[origin_map_img[1],origin_map_img[0]]"
   ]
  },
  {
   "cell_type": "code",
   "execution_count": null,
   "id": "7d3feda8",
   "metadata": {},
   "outputs": [],
   "source": [
    "robot=get_robot_px()\n",
    "draw_at(origin_map_img[0]+robot[0]+round(pose[0]/pix_per_m) ,origin_map_img[1] -robot[1] - round(pose[1]/pix_per_m),contoured)\n",
    "plt.imshow(contoured[750:1250,750:1250])\n",
    "print ('robot Pose (tf)')"
   ]
  },
  {
   "cell_type": "code",
   "execution_count": null,
   "id": "e53a5c0c",
   "metadata": {},
   "outputs": [],
   "source": []
  },
  {
   "cell_type": "code",
   "execution_count": null,
   "id": "ac803216",
   "metadata": {},
   "outputs": [],
   "source": [
    "contoured[origin_map_img[1]- round(pose[1]/pix_per_m),origin_map_img[0]- round(pose[0]/pix_per_m)]"
   ]
  },
  {
   "cell_type": "code",
   "execution_count": null,
   "id": "ea08f4ac",
   "metadata": {},
   "outputs": [],
   "source": [
    "contoured[0,0]"
   ]
  },
  {
   "cell_type": "code",
   "execution_count": null,
   "id": "6be6f4e6",
   "metadata": {},
   "outputs": [],
   "source": [
    "contoured[origin_map_img[0]- round(pose[0]/pix_per_m),origin_map_img[1]- round(pose[1]/pix_per_m)]"
   ]
  },
  {
   "cell_type": "code",
   "execution_count": null,
   "id": "254ed642",
   "metadata": {},
   "outputs": [],
   "source": []
  },
  {
   "cell_type": "code",
   "execution_count": null,
   "id": "188987fe",
   "metadata": {},
   "outputs": [],
   "source": []
  },
  {
   "cell_type": "code",
   "execution_count": null,
   "id": "74d6c40d",
   "metadata": {},
   "outputs": [],
   "source": []
  },
  {
   "cell_type": "code",
   "execution_count": null,
   "id": "c89515a3",
   "metadata": {},
   "outputs": [],
   "source": []
  },
  {
   "cell_type": "code",
   "execution_count": null,
   "id": "2f7cec26",
   "metadata": {},
   "outputs": [],
   "source": [
    "c=point_to_px(pose[0],pose[1])\n",
    "robot=get_robot_px()\n",
    "draw_at(1024+robot[1]+c[0],1024+robot[0]+c[1],contoured)\n",
    "plt.imshow(contoured[750:1250,750:1250])\n",
    "print ('robot Pose (tf)')\n"
   ]
  },
  {
   "cell_type": "code",
   "execution_count": null,
   "id": "bd170ff1",
   "metadata": {},
   "outputs": [],
   "source": []
  },
  {
   "cell_type": "code",
   "execution_count": null,
   "id": "fe9f2515",
   "metadata": {},
   "outputs": [],
   "source": [
    "contoured[c[0]+1024,c[1]+1024]"
   ]
  },
  {
   "cell_type": "code",
   "execution_count": null,
   "id": "2a34c545",
   "metadata": {},
   "outputs": [],
   "source": [
    "\n",
    "check_point_map(pose[0],pose[1])"
   ]
  },
  {
   "cell_type": "code",
   "execution_count": null,
   "id": "eecf7fa4",
   "metadata": {},
   "outputs": [],
   "source": [
    "import matplotlib.pyplot as plt\n",
    "from smach_utils2 import *\n",
    "\n",
    "def read_tf(t):\n",
    "    # trasnform message to np arrays\n",
    "    pose=np.asarray((\n",
    "        t.transform.translation.x,\n",
    "        t.transform.translation.y,\n",
    "        t.transform.translation.z\n",
    "        ))\n",
    "    quat=np.asarray((\n",
    "        t.transform.rotation.x,\n",
    "        t.transform.rotation.y,\n",
    "        t.transform.rotation.z,\n",
    "        t.transform.rotation.w\n",
    "        ))\n",
    "    \n",
    "    return pose, quat\n"
   ]
  },
  {
   "cell_type": "code",
   "execution_count": null,
   "id": "db4a2903",
   "metadata": {},
   "outputs": [],
   "source": [
    "broadcaster = tf2_ros.TransformBroadcaster()\n",
    "points_msg=rospy.wait_for_message(\"/hsrb/head_rgbd_sensor/depth_registered/rectified_points\",PointCloud2,timeout=5)\n",
    "points_data = ros_numpy.numpify(points_msg)    \n",
    "image_data = points_data['rgb'].view((np.uint8, 4))[..., [2, 1, 0]]   \n",
    "image=cv2.cvtColor(image_data, cv2.COLOR_BGR2RGB)\n",
    "image = points_data['rgb'].view((np.uint8, 4))[..., [2, 1, 0]]\n",
    "\n",
    "rgb_image = cv2.cvtColor(image, cv2.COLOR_BGR2RGB)"
   ]
  },
  {
   "cell_type": "code",
   "execution_count": null,
   "id": "f51d366f",
   "metadata": {},
   "outputs": [],
   "source": [
    "def correct_points(points_msg):\n",
    "\n",
    "    # Function that transforms Point Cloud reference frame from  head, to map. (i.e. sensor coords to map coords )\n",
    "    # img= correct_points() (Returns rgbd depth corrected image)    \n",
    "    #points msg in \n",
    "    #data = rospy.wait_for_message('/hsrb/head_rgbd_sensor/depth_registered/rectified_points', PointCloud2)\n",
    "    \n",
    "\n",
    "    np_data=ros_numpy.numpify(points_msg)\n",
    "\n",
    "    try:\n",
    "        trans = tfBuffer.lookup_transform('map', 'head_rgbd_sensor_link', rospy.Time())\n",
    "                    \n",
    "        trans,rot=read_tf(trans)\n",
    "        #print (\"############head\",trans,rot)\n",
    "    except (tf2_ros.LookupException, tf2_ros.ConnectivityException, tf2_ros.ExtrapolationException):\n",
    "        print ( 'No head TF FOUND')\n",
    "\n",
    "    #trans,rot=tf_listener.lookupTransform('/map', '/head_rgbd_sensor_rgb_frame', rospy.Time(0))\n",
    "    #print (\"############TF1\",trans,rot)\n",
    "    eu=np.asarray(tf.transformations.euler_from_quaternion(rot))\n",
    "    t=TransformStamped()\n",
    "    rot=tf.transformations.quaternion_from_euler(eu[0],eu[1],eu[2])\n",
    "    #rot=tf.transformations.quaternion_from_euler(-eu[1],0,0)\n",
    "    t.header.stamp = points_msg.header.stamp\n",
    "    t.transform.rotation.x = rot[0]\n",
    "    t.transform.rotation.y = rot[1]\n",
    "    t.transform.rotation.z = rot[2]\n",
    "    t.transform.rotation.w = rot[3]\n",
    "    cloud_out = do_transform_cloud(points_msg, t)\n",
    "    np_corrected=ros_numpy.numpify(cloud_out)\n",
    "    corrected=np_corrected.reshape(np_data.shape)\n",
    "    img= np.copy(-corrected['z'])\n",
    "    img[np.isnan(img)]=2\n",
    "    img_corrected = np.where((img<trans[2]*0.96) ,img,5)\n",
    "    #Returns img with xyz info  and points datastructure ( see numpify a ptcloud2)\n",
    "    return img_corrected , corrected"
   ]
  },
  {
   "cell_type": "code",
   "execution_count": null,
   "id": "e51dc19c",
   "metadata": {},
   "outputs": [],
   "source": [
    "#############################################\n",
    "#points_data = ros_numpy.numpify(points_msg)    \n",
    "#image_data = points_data['rgb'].view((np.uint8, 4))[..., [2, 1, 0]]   \n",
    "#image=cv2.cvtColor(image_data, cv2.COLOR_BGR2RGB)\n",
    "#image = points_data['rgb'].view((np.uint8, 4))[..., [2, 1, 0]]\n",
    "#rgb_image = cv2.cvtColor(image, cv2.COLOR_BGR2RGB)\n",
    "##\n",
    "_,corrected=correct_points(points_msg)  ### aplica la transformada de la camara para corregir la perspectiva\n",
    "zs_no_nans=np.where(~np.isnan(corrected['z']),corrected['z'],1)   \n",
    "histogram, bin_edges =(np.histogram(zs_no_nans, bins=100))\n",
    "t = tfBuffer.lookup_transform('map', 'head_rgbd_sensor_link', rospy.Time())\n",
    "trans=t.transform.translation.z\n",
    "#print (bin_edges,histogram[:-1].argmax(), histogram[:-1].argmax())\n",
    "plane_height= (trans)+bin_edges[histogram[:-1].argmax()]\n",
    "print(plane_height, 'plane_height')\n",
    "################################"
   ]
  },
  {
   "cell_type": "code",
   "execution_count": null,
   "id": "e9f6cb8a",
   "metadata": {},
   "outputs": [],
   "source": []
  },
  {
   "cell_type": "code",
   "execution_count": null,
   "id": "9f682d2f",
   "metadata": {},
   "outputs": [],
   "source": [
    "points_msg = rospy.wait_for_message('/hsrb/head_rgbd_sensor/depth_registered/rectified_points', PointCloud2)\n"
   ]
  },
  {
   "cell_type": "code",
   "execution_count": null,
   "id": "f4c2091e",
   "metadata": {},
   "outputs": [],
   "source": [
    "points_msg=rospy.wait_for_message(\"/hsrb/head_rgbd_sensor/depth_registered/rectified_points\",PointCloud2,timeout=5)\n",
    "im_corrected,corrected=correct_points(points_msg)  ### aplica la transformada de la camara para corregir la perspectiva\n",
    "zs_no_nans=np.where(~np.isnan(corrected['z']),corrected['z'],1)   \n",
    "histogram, bin_edges =(np.histogram(zs_no_nans, bins=100))\n",
    "t = tfBuffer.lookup_transform('map', 'head_rgbd_sensor_link', rospy.Time())\n",
    "trans=t.transform.translation.z\n",
    "#print (bin_edges,histogram[:-1].argmax(), histogram[:-1].argmax())\n",
    "plane_height= (trans)+bin_edges[histogram[:-1].argmax()]\n",
    "print(plane_height, 'plane_height')\n",
    "plt.imshow(im_corrected,cmap='prism')\n"
   ]
  },
  {
   "cell_type": "code",
   "execution_count": null,
   "id": "5686913d",
   "metadata": {},
   "outputs": [],
   "source": [
    "cc=[np.mean(corrected['x'][248:340,273:394]),\n",
    "np.mean(corrected['y'][248:340,273:394]),\n",
    "np.mean(corrected['z'][248:340,273:394]) \n",
    "   ]"
   ]
  },
  {
   "cell_type": "code",
   "execution_count": null,
   "id": "261823f5",
   "metadata": {},
   "outputs": [],
   "source": [
    "cc"
   ]
  },
  {
   "cell_type": "code",
   "execution_count": null,
   "id": "28ff9fce",
   "metadata": {},
   "outputs": [],
   "source": [
    "plt.imshow(corrected['z'][248:340,273:394],cmap='prism')\n"
   ]
  },
  {
   "cell_type": "code",
   "execution_count": null,
   "id": "55d00ead",
   "metadata": {},
   "outputs": [],
   "source": [
    "plt.imshow(im_corrected[300:427,192:224],cmap='prism')\n"
   ]
  },
  {
   "cell_type": "code",
   "execution_count": null,
   "id": "de442e31",
   "metadata": {},
   "outputs": [],
   "source": [
    "plt.imshow(im_corrected[90:160,50:185],cmap='prism')\n"
   ]
  },
  {
   "cell_type": "code",
   "execution_count": null,
   "id": "a41fb20c",
   "metadata": {},
   "outputs": [],
   "source": [
    "im_corrected[0,0]"
   ]
  },
  {
   "cell_type": "code",
   "execution_count": null,
   "id": "bd48bd02",
   "metadata": {},
   "outputs": [],
   "source": []
  },
  {
   "cell_type": "code",
   "execution_count": null,
   "id": "614f59d1",
   "metadata": {},
   "outputs": [],
   "source": [
    "plt.imshow(im_corrected[273:394,248:340],cmap='prism')\n"
   ]
  },
  {
   "cell_type": "code",
   "execution_count": null,
   "id": "5827d66a",
   "metadata": {},
   "outputs": [],
   "source": [
    "thres_floor=0.01\n",
    "im_corrected = np.where((zs_no_nans >-trans+thres_floor+plane_height),zs_no_nans,1)\n",
    "plt.imshow(im_corrected)"
   ]
  },
  {
   "cell_type": "code",
   "execution_count": null,
   "id": "7577e8fb",
   "metadata": {},
   "outputs": [],
   "source": [
    "-trans-thres_floor+plane_height"
   ]
  },
  {
   "cell_type": "code",
   "execution_count": null,
   "id": "ea62d548",
   "metadata": {},
   "outputs": [],
   "source": [
    "im_corrected[300:350,500:550]"
   ]
  },
  {
   "cell_type": "code",
   "execution_count": null,
   "id": "daea5fbf",
   "metadata": {},
   "outputs": [],
   "source": [
    "plt.imshow(im_corrected)"
   ]
  },
  {
   "cell_type": "code",
   "execution_count": null,
   "id": "a90035bf",
   "metadata": {},
   "outputs": [],
   "source": []
  },
  {
   "cell_type": "code",
   "execution_count": null,
   "id": "5e14a8fa",
   "metadata": {},
   "outputs": [],
   "source": []
  },
  {
   "cell_type": "code",
   "execution_count": null,
   "id": "fa0330f4",
   "metadata": {},
   "outputs": [],
   "source": []
  },
  {
   "cell_type": "code",
   "execution_count": null,
   "id": "a93fdce0",
   "metadata": {},
   "outputs": [],
   "source": [
    "plane_height= (trans)+bin_edges[histogram[:-1].argmax()+1]\n",
    "img_corrected = np.where((-zs_no_nans < (trans*0.999)-plane_height-thres_t),zs_no_nans,1)"
   ]
  },
  {
   "cell_type": "code",
   "execution_count": null,
   "id": "edca040b",
   "metadata": {},
   "outputs": [],
   "source": [
    "corrected['z'][200:300,500:600]"
   ]
  },
  {
   "cell_type": "code",
   "execution_count": null,
   "id": "4d4337e7",
   "metadata": {},
   "outputs": [],
   "source": [
    "plt.imshow(corrected['z'])"
   ]
  },
  {
   "cell_type": "code",
   "execution_count": null,
   "id": "6ef97bf5",
   "metadata": {},
   "outputs": [],
   "source": [
    "np_data=ros_numpy.numpify(points_msg)\n",
    "\n",
    "try:\n",
    "    trans = tfBuffer.lookup_transform('map', 'head_rgbd_sensor_link', rospy.Time())\n",
    "\n",
    "    trans,rot=read_tf(trans)\n",
    "    #print (\"############head\",trans,rot)\n",
    "except (tf2_ros.LookupException, tf2_ros.ConnectivityException, tf2_ros.ExtrapolationException):\n",
    "    print ( 'No head TF FOUND')\n",
    "eu=np.asarray(tf.transformations.euler_from_quaternion(rot))\n",
    "t=TransformStamped()\n",
    "rot=tf.transformations.quaternion_from_euler(eu[0],eu[1],eu[2])\n",
    "#rot=tf.transformations.quaternion_from_euler(-eu[1],0,0)\n",
    "t.header.stamp = points_msg.header.stamp\n",
    "t.transform.rotation.x = rot[0]\n",
    "t.transform.rotation.y = rot[1]\n",
    "t.transform.rotation.z = rot[2]\n",
    "t.transform.rotation.w = rot[3]\n",
    "cloud_out = do_transform_cloud(points_msg, t)\n",
    "np_corrected=ros_numpy.numpify(cloud_out)\n",
    "corrected=np_corrected.reshape(np_data.shape)\n",
    "img= np.copy(-corrected['z'])\n",
    "img[np.isnan(img)]=2\n",
    "img_corrected = np.where((img<trans[2]*0.96) ,img,5)\n",
    "plt.imshow(img_corrected)"
   ]
  },
  {
   "cell_type": "code",
   "execution_count": null,
   "id": "f2e77800",
   "metadata": {},
   "outputs": [],
   "source": [
    "brazo.set_named_target('go')"
   ]
  },
  {
   "cell_type": "code",
   "execution_count": null,
   "id": "a7686c8e",
   "metadata": {},
   "outputs": [],
   "source": [
    "plt.imshow(np_data['z'])"
   ]
  },
  {
   "cell_type": "code",
   "execution_count": null,
   "id": "98e92f36",
   "metadata": {},
   "outputs": [],
   "source": [
    " contours, hierarchy = cv2.findContours(img_corrected.astype('uint8'),cv2.RETR_TREE,cv2.CHAIN_APPROX_SIMPLE)\n",
    "i=0\n",
    "cents=[]\n",
    "points=[]\n",
    "points_c=[]\n",
    "images=[]\n",
    "for i, contour in enumerate(contours):\n",
    "    \n",
    "    area = cv2.contourArea(contour)\n",
    "    if area<100 or area >10000:pass\n",
    "    else:\n",
    "        \n",
    "        M = cv2.moments(contour)\n",
    "        # calculate x,y coordinate of center\n",
    "        cX = int(M[\"m10\"] / M[\"m00\"])\n",
    "        cY = int(M[\"m01\"] / M[\"m00\"])\n",
    "        print (cv2.contourArea(contour))\n",
    "        boundRect = cv2.boundingRect(contour)\n",
    "        image_aux= image[boundRect[1]:boundRect[1]+boundRect[3],boundRect[0]:boundRect[0]+boundRect[2]]\n",
    "        images.append(image_aux)\n",
    "        image_aux= img_corrected[boundRect[1]:boundRect[1]+boundRect[3],boundRect[0]:boundRect[0]+boundRect[2]]\n",
    "        mask=np.where(image_aux!=5)\n",
    "        npmask=np.asarray(mask).T\n",
    "        \n",
    "        rgb_image=cv2.rectangle(rgb_image,(boundRect[0], boundRect[1]),(boundRect[0]+boundRect[2], boundRect[1]+boundRect[3]), (255,255,0), 2)\n",
    "        iim=cv2.drawContours(rgb_image, contour, -1, (0,255,0), 10)\n",
    "        "
   ]
  },
  {
   "cell_type": "code",
   "execution_count": null,
   "id": "e11f16bd",
   "metadata": {},
   "outputs": [],
   "source": [
    "plt.imshow(iim)"
   ]
  },
  {
   "cell_type": "code",
   "execution_count": null,
   "id": "e81774c6",
   "metadata": {},
   "outputs": [],
   "source": [
    "xyz=[]\n",
    "if len (npmask)>0:\n",
    "    for a in npmask:\n",
    "        ix,iy=a[0],a[1]\n",
    "        print(ix)\n",
    "        #aux=(np.asarray((points_data['x'][boundRect[1]+ix,boundRect[0]+iy],points_data['y'][boundRect[1]+ix,boundRect[0]+iy],points_data['z'][boundRect[1]+ix,boundRect[0]+iy])))\n",
    "        aux=(np.asarray((np_data['x'][boundRect[1]+ix,boundRect[0]+iy],np_data['y'][boundRect[1]+ix,boundRect[0]+iy],np_data['z'][boundRect[1]+ix,boundRect[0]+iy])))\n",
    "        \n",
    "        if np.isnan(aux[0]) or np.isnan(aux[1]) or np.isnan(aux[2]):\n",
    "                'reject point'\n",
    "        else:\n",
    "            #print (xyz)\n",
    "            xyz.append(aux)\n"
   ]
  },
  {
   "cell_type": "code",
   "execution_count": null,
   "id": "f51d9db9",
   "metadata": {},
   "outputs": [],
   "source": [
    "i=0\n",
    "x,y,z=np.asarray(xyz).mean(axis=0)\n",
    "if np.isnan(x) or np.isnan(y) or np.isnan(z):\n",
    "    print('nan')\n",
    "else:\n",
    "    t=write_tf(    (x,y,z), (0,0,0,1), 'Object'+str(i), \"head_rgbd_sensor_rgb_frame\"   )  \n",
    "broadcaster.sendTransform(t)"
   ]
  },
  {
   "cell_type": "code",
   "execution_count": null,
   "id": "646a2e0c",
   "metadata": {},
   "outputs": [],
   "source": []
  },
  {
   "cell_type": "code",
   "execution_count": null,
   "id": "f2b2068e",
   "metadata": {},
   "outputs": [],
   "source": [
    "plt.imshow(corrected['z'][boundRect[1]:boundRect[1]+boundRect[3],boundRect[0]:boundRect[0]+boundRect[2]])"
   ]
  },
  {
   "cell_type": "markdown",
   "id": "ce9bcc2c",
   "metadata": {},
   "source": [
    "    "
   ]
  },
  {
   "cell_type": "code",
   "execution_count": null,
   "id": "0518976c",
   "metadata": {},
   "outputs": [],
   "source": [
    "xyz=[]\n",
    "if len (npmask)>0:\n",
    "    for a in npmask:\n",
    "        ix,iy=a[0],a[1]\n",
    "        #aux=(np.asarray((points_data['x'][boundRect[1]+ix,boundRect[0]+iy],points_data['y'][boundRect[1]+ix,boundRect[0]+iy],points_data['z'][boundRect[1]+ix,boundRect[0]+iy])))\n",
    "        aux=(np.asarray((corrected['x'][boundRect[1]+ix,boundRect[0]+iy],corrected['y'][boundRect[1]+ix,boundRect[0]+iy],corrected['z'][boundRect[1]+ix,boundRect[0]+iy])))\n",
    "        print (aux)\n",
    "        if np.isnan(aux[0]) or np.isnan(aux[1]) or np.isnan(aux[2]):\n",
    "                'reject point'\n",
    "        else:\n",
    "            xyz.append(aux)"
   ]
  },
  {
   "cell_type": "code",
   "execution_count": null,
   "id": "b2539600",
   "metadata": {},
   "outputs": [],
   "source": [
    "np.asarray(xyz).mean(axis=0)"
   ]
  },
  {
   "cell_type": "code",
   "execution_count": null,
   "id": "43bd90ed",
   "metadata": {},
   "outputs": [],
   "source": [
    "def write_tf(pose, q, child_frame=\"\" , parent_frame='map'):\n",
    "    #  pose = trans  q = quaternion  , childframe =\"\"\n",
    "    # format  write the transformstampled message\n",
    "    t= TransformStamped()\n",
    "    t.header.stamp = rospy.Time.now()\n",
    "    #t.header.stamp = rospy.Time(0)\n",
    "    t.header.frame_id =parent_frame\n",
    "    t.child_frame_id =  child_frame\n",
    "    t.transform.translation.x = pose[0]\n",
    "    t.transform.translation.y = pose[1]\n",
    "    t.transform.translation.z = pose[2]\n",
    "    #q = tf.transformations.quaternion_from_euler(eu[0], eu[1], eu[2])\n",
    "    t.transform.rotation.x = q[0]\n",
    "    t.transform.rotation.y = q[1]\n",
    "    t.transform.rotation.z = q[2]\n",
    "    t.transform.rotation.w = q[3]\n",
    "    return t\n",
    "    "
   ]
  },
  {
   "cell_type": "code",
   "execution_count": null,
   "id": "17b84686",
   "metadata": {},
   "outputs": [],
   "source": []
  },
  {
   "cell_type": "code",
   "execution_count": null,
   "id": "bb919bc7",
   "metadata": {},
   "outputs": [],
   "source": [
    "zs_no_nans=np.where(~np.isnan(corrected['z']),corrected['z'],1)\n",
    "histogram, bin_edges =(np.histogram(zs_no_nans, bins=100))\n",
    "t = tfBuffer.lookup_transform('map', 'head_rgbd_sensor_link', rospy.Time())\n",
    "trans=t.transform.translation.z\n",
    "plane_height= (trans)+bin_edges[histogram[:-1].argmax()+1]\n",
    "print(plane_height, 'plane_height')\n"
   ]
  },
  {
   "cell_type": "code",
   "execution_count": null,
   "id": "08b83f8b",
   "metadata": {},
   "outputs": [],
   "source": [
    "t = tfBuffer.lookup_transform('map', 'head_rgbd_sensor_link', rospy.Time())\n",
    "trans=t.transform.translation.z\n",
    "\n",
    "\n",
    "# Quito piso desde altura robot(sensor) + un threshold (hacia abajo) -> thres_floor\n",
    "img_corrected = np.where((zs_no_nans >-trans-0.03),zs_no_nans,1)"
   ]
  },
  {
   "cell_type": "code",
   "execution_count": null,
   "id": "e26dc01d",
   "metadata": {},
   "outputs": [],
   "source": [
    "corrected['z'][200,200]"
   ]
  },
  {
   "cell_type": "code",
   "execution_count": null,
   "id": "681c1582",
   "metadata": {},
   "outputs": [],
   "source": [
    "img_corrected"
   ]
  },
  {
   "cell_type": "code",
   "execution_count": null,
   "id": "0610f02b",
   "metadata": {},
   "outputs": [],
   "source": [
    "plane_height"
   ]
  },
  {
   "cell_type": "code",
   "execution_count": null,
   "id": "5db9ad07",
   "metadata": {},
   "outputs": [],
   "source": []
  },
  {
   "cell_type": "code",
   "execution_count": null,
   "id": "bd8a066d",
   "metadata": {},
   "outputs": [],
   "source": [
    "for i, contour in enumerate(contours):\n",
    "    boundRect = cv2.boundingRect(contour)"
   ]
  },
  {
   "cell_type": "code",
   "execution_count": null,
   "id": "58ee487e",
   "metadata": {},
   "outputs": [],
   "source": [
    "img_corrected"
   ]
  },
  {
   "cell_type": "code",
   "execution_count": null,
   "id": "7b7a9e62",
   "metadata": {},
   "outputs": [],
   "source": []
  },
  {
   "cell_type": "code",
   "execution_count": null,
   "id": "6937bb47",
   "metadata": {},
   "outputs": [],
   "source": []
  },
  {
   "cell_type": "code",
   "execution_count": null,
   "id": "079053f6",
   "metadata": {},
   "outputs": [],
   "source": [
    "import matplotlib.pyplot as plt\n",
    "\n",
    "contours, hierarchy = cv2.findContours(im_corrected.astype('uint8'),cv2.RETR_TREE,cv2.CHAIN_APPROX_SIMPLE)"
   ]
  },
  {
   "cell_type": "code",
   "execution_count": null,
   "id": "8baef251",
   "metadata": {},
   "outputs": [],
   "source": [
    "def segment_floor(points_data,zs_no_nans,obj_hMax=0.85,obj_lMax=1.5,thres_floor=0.03):\n",
    "    # obj_hMax -> altura maxima para objetos para segmentar\n",
    "    # obj_lMax -> distancia de objetos maxima para segmentar\n",
    "\n",
    "    # Quita piso y mayor a una cierta altura\n",
    "    t = tfBuffer.lookup_transform('map', 'head_rgbd_sensor_link', rospy.Time())\n",
    "    trans=t.transform.translation.z\n",
    "    \n",
    "    # Quito piso desde altura robot(sensor) + un threshold (hacia abajo) -> thres_floor\n",
    "    img_corrected = np.where((zs_no_nans >-trans-thres_floor),zs_no_nans,1)\n",
    "    # Quito objetos mayores a una altura -> obj_hMax\n",
    "    img_corrected = np.where((img_corrected < -obj_hMax),img_corrected,1)\n",
    "    \n",
    "\n",
    "    # Quita objetos lejanos\n",
    "    ls_no_nans=np.where(~np.isnan(points_data['z']),points_data['z'],5)\n",
    "    \n",
    "    lZ_no_nans=np.where(ls_no_nans<obj_lMax,ls_no_nans,5)\n",
    "    \n",
    "    # Con esto, quita en z los que en X (alturas) esten con 5\n",
    "    for r in range(img_corrected.shape[0]):\n",
    "        for c in range(img_corrected.shape[1]):\n",
    "            if lZ_no_nans[r,c]>=5:\n",
    "                img_corrected[r,c]=1\n",
    "    \n",
    "    return img_corrected\n"
   ]
  },
  {
   "cell_type": "code",
   "execution_count": null,
   "id": "485aa2fd",
   "metadata": {},
   "outputs": [],
   "source": [
    "plt.imshow(corrected['z'])"
   ]
  },
  {
   "cell_type": "code",
   "execution_count": null,
   "id": "27ad9b89",
   "metadata": {},
   "outputs": [],
   "source": [
    "corrected['z'][200,200]"
   ]
  },
  {
   "cell_type": "code",
   "execution_count": null,
   "id": "e78833ac",
   "metadata": {},
   "outputs": [],
   "source": [
    "head.set_joint_values([0,-0.7])"
   ]
  },
  {
   "cell_type": "code",
   "execution_count": null,
   "id": "54c0c0e8",
   "metadata": {},
   "outputs": [],
   "source": [
    "tf_man.getTF('object_0')"
   ]
  },
  {
   "cell_type": "code",
   "execution_count": null,
   "id": "354db1a4",
   "metadata": {},
   "outputs": [],
   "source": [
    "point_name=f'object_{i}'\n",
    "tf_man.pub_static_tf(pos=pose, point_name=point_name, ref='head_rgbd_sensor_rgb_frame')"
   ]
  },
  {
   "cell_type": "code",
   "execution_count": null,
   "id": "5cc5d747",
   "metadata": {},
   "outputs": [],
   "source": [
    "player_pose=[0.3, -0.87, 0.0, -0.75, -0.03, 0.0]\n"
   ]
  },
  {
   "cell_type": "code",
   "execution_count": null,
   "id": "34688ae8",
   "metadata": {},
   "outputs": [],
   "source": [
    "arm.set_joint_value_target(player_pose)"
   ]
  },
  {
   "cell_type": "markdown",
   "id": "aa180ba6",
   "metadata": {},
   "source": []
  },
  {
   "cell_type": "code",
   "execution_count": null,
   "id": "04674dba",
   "metadata": {},
   "outputs": [],
   "source": [
    "plan=arm.plan()"
   ]
  },
  {
   "cell_type": "code",
   "execution_count": null,
   "id": "9ded4efc",
   "metadata": {},
   "outputs": [],
   "source": [
    "arm.go()"
   ]
  },
  {
   "cell_type": "markdown",
   "id": "1b73f4e5",
   "metadata": {},
   "source": []
  },
  {
   "cell_type": "code",
   "execution_count": null,
   "id": "b091d157",
   "metadata": {},
   "outputs": [],
   "source": [
    "arm.get_current_joint_values()"
   ]
  },
  {
   "cell_type": "code",
   "execution_count": null,
   "id": "96fd3dea",
   "metadata": {},
   "outputs": [],
   "source": [
    "omni_base.move_base(known_location='room2')"
   ]
  },
  {
   "cell_type": "code",
   "execution_count": null,
   "id": "39ff4834",
   "metadata": {},
   "outputs": [],
   "source": [
    "head.set_joint_values([0,-0.7])"
   ]
  },
  {
   "cell_type": "code",
   "execution_count": null,
   "id": "33771ba6",
   "metadata": {},
   "outputs": [],
   "source": [
    "arm=moveit_commander.MoveGroupCommander('arm')"
   ]
  },
  {
   "cell_type": "code",
   "execution_count": null,
   "id": "4517b386",
   "metadata": {},
   "outputs": [],
   "source": [
    "av= arm.get_current_joint_values()\n",
    "av[0]=0.22\n",
    "av[3]=av[1]\n",
    "av"
   ]
  },
  {
   "cell_type": "code",
   "execution_count": null,
   "id": "a20be0c4",
   "metadata": {},
   "outputs": [],
   "source": [
    "arm.go(av)"
   ]
  },
  {
   "cell_type": "code",
   "execution_count": null,
   "id": "f07b832a",
   "metadata": {},
   "outputs": [],
   "source": [
    "omni_base.tiny_move(velY=-0.1,std_time=1.5)"
   ]
  },
  {
   "cell_type": "code",
   "execution_count": null,
   "id": "c6a56cbb",
   "metadata": {},
   "outputs": [],
   "source": [
    "from smach_utils2 import *\n",
    "hand_rgb= HAND_RGB()\n"
   ]
  },
  {
   "cell_type": "code",
   "execution_count": null,
   "id": "31c33d76",
   "metadata": {},
   "outputs": [],
   "source": [
    "import matplotlib.pyplot as plt\n",
    "plt.imshow(hand_rgb.get_image())"
   ]
  },
  {
   "cell_type": "code",
   "execution_count": null,
   "id": "f2c2ce8d",
   "metadata": {},
   "outputs": [],
   "source": [
    "img=hand_rgb.get_image()\n",
    "img_msg  = bridge.cv2_to_imgmsg(img)\n",
    "req      = classify_client.request_class()\n",
    "req.in_.image_msgs.append(img_msg)\n",
    "res      = classify_client(req)\n",
    "#bridge.imgmsg_to_cv2(res.debug_image)\n",
    "plt.imshow(bridge.imgmsg_to_cv2(res.debug_image.image_msgs[0]))"
   ]
  },
  {
   "cell_type": "code",
   "execution_count": null,
   "id": "38bd0091",
   "metadata": {},
   "outputs": [],
   "source": [
    "obj_name='003_cracker_box'\n",
    "for i,name in enumerate(res.names):\n",
    "    print(i,name.data)\n",
    "    if (name.data== obj_name):break\n",
    "print ('BBX',res.pt_min.data[2*i+1],res.pt_max.data[2*i+1],  res.pt_min.data[2*i],res.pt_max.data[2*i])\n",
    "crop_img=img[res.pt_min.data[2*i+1]:res.pt_max.data[2*i+1]   ,  res.pt_min.data[2*i]:res.pt_max.data[2*i]]\n",
    "cv2.LineSegmentDetector()\n",
    "plt.imshow(crop_img)\n",
    "i"
   ]
  },
  {
   "cell_type": "code",
   "execution_count": null,
   "id": "6a083c51",
   "metadata": {},
   "outputs": [],
   "source": []
  },
  {
   "cell_type": "code",
   "execution_count": null,
   "id": "1f359e5e",
   "metadata": {},
   "outputs": [],
   "source": []
  },
  {
   "cell_type": "code",
   "execution_count": null,
   "id": "f1f30152",
   "metadata": {},
   "outputs": [],
   "source": [
    "dst = cv2.Canny(crop_img, 50, 200, None, 3)\n",
    "    \n",
    "# Copy edges to the images that will display the results in BGR\n",
    "cdst = cv2.cvtColor(dst, cv2.COLOR_GRAY2BGR)\n",
    "cdstP = np.copy(cdst)\n",
    "\n",
    "lines = cv2.HoughLines(dst, 1, np.pi / 180, 150, None, 0, 0)\n",
    "plt.imshow(dst)"
   ]
  },
  {
   "cell_type": "code",
   "execution_count": null,
   "id": "266f84d6",
   "metadata": {},
   "outputs": [],
   "source": [
    "linesP = cv2.HoughLinesP(dst, 1, np.pi / 180, 50, None, 50, 10)\n",
    "thetas=[]\n",
    "for line in linesP:\n",
    "    thetas.append(np.arctan2(line[0][0]-line[0][2], line[0][1]-line[0][3]))\n",
    "histogram, bin_edges =(np.histogram(thetas, bins=100))\n",
    "bin_edges[histogram[:-1].argmax()]"
   ]
  },
  {
   "cell_type": "code",
   "execution_count": null,
   "id": "ecae4462",
   "metadata": {},
   "outputs": [],
   "source": [
    "plt.imshow(cdstP)"
   ]
  },
  {
   "cell_type": "code",
   "execution_count": null,
   "id": "42a94595",
   "metadata": {},
   "outputs": [],
   "source": []
  },
  {
   "cell_type": "code",
   "execution_count": null,
   "id": "24f488da",
   "metadata": {},
   "outputs": [],
   "source": []
  },
  {
   "cell_type": "code",
   "execution_count": null,
   "id": "878e828e",
   "metadata": {},
   "outputs": [],
   "source": []
  },
  {
   "cell_type": "code",
   "execution_count": null,
   "id": "5c8e6cad",
   "metadata": {},
   "outputs": [],
   "source": []
  },
  {
   "cell_type": "code",
   "execution_count": null,
   "id": "1ce0da88",
   "metadata": {},
   "outputs": [],
   "source": [
    "\n",
    "if lines is not None:\n",
    "    for i in range(0, len(lines)):\n",
    "        rho = lines[i][0][0]\n",
    "        theta = lines[i][0][1]\n",
    "        print (\"#####################\",theta)\n",
    "        a = math.cos(theta)\n",
    "        b = math.sin(theta)\n",
    "        x0 = a * rho\n",
    "        y0 = b * rho\n",
    "        pt1 = (int(x0 + 1000*(-b)), int(y0 + 1000*(a)))\n",
    "        pt2 = (int(x0 - 1000*(-b)), int(y0 - 1000*(a)))\n",
    "        cv2.line(cdst, pt1, pt2, (0,0,255), 3, cv2.LINE_AA)\n",
    "\n",
    "\n",
    "linesP = cv2.HoughLinesP(dst, 1, np.pi / 180, 50, None, 50, 10)\n",
    "\n",
    "if linesP is not None:\n",
    "    for i in range(0, len(linesP)):\n",
    "        l = linesP[i][0]\n",
    "        cv2.line(cdstP, (l[0], l[1]), (l[2], l[3]), (0,0,255), 3, cv2.LINE_AA)\n",
    "#linesP[0][0][:]"
   ]
  },
  {
   "cell_type": "code",
   "execution_count": null,
   "id": "592ba003",
   "metadata": {},
   "outputs": [],
   "source": [
    "\n"
   ]
  },
  {
   "cell_type": "code",
   "execution_count": null,
   "id": "05865d0e",
   "metadata": {},
   "outputs": [],
   "source": [
    "linesP = cv2.HoughLinesP(dst, 1, np.pi / 180, 50, None, 50, 10)\n",
    "thetas=[]\n",
    "for line in linesP:\n",
    "    thetas.append(np.arctan2(line[0][0]-line[0][2], line[0][1]-line[0][3]))\n",
    "histogram, bin_edges =(np.histogram(thetas, bins=100))\n",
    "bin_edges[histogram[:-1].argmax()]"
   ]
  },
  {
   "cell_type": "code",
   "execution_count": null,
   "id": "ec681d60",
   "metadata": {},
   "outputs": [],
   "source": [
    "histogram"
   ]
  },
  {
   "cell_type": "code",
   "execution_count": null,
   "id": "edc57320",
   "metadata": {},
   "outputs": [],
   "source": [
    "thetas"
   ]
  },
  {
   "cell_type": "code",
   "execution_count": null,
   "id": "531444f3",
   "metadata": {},
   "outputs": [],
   "source": [
    "plt.imshow(cdstP)"
   ]
  },
  {
   "cell_type": "code",
   "execution_count": null,
   "id": "e72c52b7",
   "metadata": {},
   "outputs": [],
   "source": [
    "lines = cv2.HoughLines(dst, 1, np.pi / 180, 150, None, 0, 0)\n",
    "lines"
   ]
  },
  {
   "cell_type": "code",
   "execution_count": null,
   "id": "ff565c67",
   "metadata": {},
   "outputs": [],
   "source": [
    "for i in range(0, len(lines)):\n",
    "        rho = lines[i][0][0]\n",
    "        theta = lines[i][0][1]\n",
    "        print (theta)"
   ]
  },
  {
   "cell_type": "code",
   "execution_count": null,
   "id": "9e238d13",
   "metadata": {},
   "outputs": [],
   "source": [
    "\n",
    "res.pt_max.data[i:i+2],res.pt_min.data[i:i+2],i\n"
   ]
  },
  {
   "cell_type": "code",
   "execution_count": null,
   "id": "70d1790d",
   "metadata": {},
   "outputs": [],
   "source": [
    "\n",
    "res.pt_max.data[0]-res.pt_min.data[0]> res.pt_max.data[1]-res.pt_min.data[1]\n",
    "av= arm.get_current_joint_values()\n",
    "av[-2]+=0.3   #wrist roll\n",
    "arm.go(av)\n",
    "\n",
    "\n",
    "#if res.pt_max.data[0]-res.pt_min.data[0]> res.pt_max.data[1]-res.pt_min.data[1]:\n",
    "    \n",
    "    "
   ]
  },
  {
   "cell_type": "code",
   "execution_count": null,
   "id": "3127b574",
   "metadata": {},
   "outputs": [],
   "source": []
  },
  {
   "cell_type": "code",
   "execution_count": null,
   "id": "9d79e408",
   "metadata": {},
   "outputs": [],
   "source": [
    "arm.get_current_joint_values()"
   ]
  },
  {
   "cell_type": "code",
   "execution_count": null,
   "id": "6ad45b64",
   "metadata": {},
   "outputs": [],
   "source": [
    "tf_man.getTF(ref_frame='static024_bowl',target_frame='base_link')"
   ]
  },
  {
   "cell_type": "code",
   "execution_count": null,
   "id": "4c16f5c8",
   "metadata": {},
   "outputs": [],
   "source": [
    "tf_man"
   ]
  },
  {
   "cell_type": "code",
   "execution_count": null,
   "id": "7071ce79",
   "metadata": {},
   "outputs": [],
   "source": [
    "tf_man."
   ]
  }
 ],
 "metadata": {
  "kernelspec": {
   "display_name": "Python 3 (ipykernel)",
   "language": "python",
   "name": "python3"
  },
  "language_info": {
   "codemirror_mode": {
    "name": "ipython",
    "version": 3
   },
   "file_extension": ".py",
   "mimetype": "text/x-python",
   "name": "python",
   "nbconvert_exporter": "python",
   "pygments_lexer": "ipython3",
   "version": "3.8.10"
  }
 },
 "nbformat": 4,
 "nbformat_minor": 5
}

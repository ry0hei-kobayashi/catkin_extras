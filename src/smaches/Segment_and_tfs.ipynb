{
 "cells": [
  {
   "cell_type": "code",
   "execution_count": null,
   "id": "b878d9d1",
   "metadata": {},
   "outputs": [],
   "source": [
    "from smach_utils2 import *"
   ]
  },
  {
   "cell_type": "code",
   "execution_count": null,
   "id": "327893d4",
   "metadata": {},
   "outputs": [],
   "source": [
    "tfBuffer = tf2.Buffer()\n",
    "\n",
    "listener = tf2.TransformListener(tfBuffer)\n",
    "b_tf=tf2.TransformBroadcaster()\n",
    "b_st=tf2.StaticTransformBroadcaster()\n"
   ]
  },
  {
   "cell_type": "code",
   "execution_count": null,
   "id": "a956cd50",
   "metadata": {},
   "outputs": [],
   "source": []
  },
  {
   "cell_type": "code",
   "execution_count": null,
   "id": "9516a610",
   "metadata": {},
   "outputs": [],
   "source": [
    "def write_tf(pose, q, child_frame , parent_frame='map',time=0):\n",
    "    t= TransformStamped()\n",
    "    t.header.stamp = rospy.Time.now()\n",
    "    t.header.frame_id =parent_frame\n",
    "    t.child_frame_id =  child_frame\n",
    "    t.transform.translation.x = pose[0]\n",
    "    t.transform.translation.y = pose[1]\n",
    "    t.transform.translation.z = pose[2]\n",
    "    #q = tf.transformations.quaternion_from_euler(eu[0], eu[1], eu[2])\n",
    "    t.transform.rotation.x = q[0]\n",
    "    t.transform.rotation.y = q[1]\n",
    "    t.transform.rotation.z = q[2]\n",
    "    t.transform.rotation.w = q[3]\n",
    "    return t\n",
    "def read_tf(t):\n",
    "    pose=np.asarray((\n",
    "        t.transform.translation.x,\n",
    "        t.transform.translation.y,\n",
    "        t.transform.translation.z\n",
    "        ))\n",
    "    quat=np.asarray((\n",
    "        t.transform.rotation.x,\n",
    "        t.transform.rotation.y,\n",
    "        t.transform.rotation.z,\n",
    "        t.transform.rotation.w\n",
    "        ))\n",
    "    \n",
    "    return pose, quat\n"
   ]
  },
  {
   "cell_type": "code",
   "execution_count": null,
   "id": "2979f285",
   "metadata": {},
   "outputs": [],
   "source": [
    "res=segmentation_server.call()"
   ]
  },
  {
   "cell_type": "code",
   "execution_count": null,
   "id": "a7a211f6",
   "metadata": {},
   "outputs": [],
   "source": [
    "res"
   ]
  },
  {
   "cell_type": "code",
   "execution_count": null,
   "id": "81ad906a",
   "metadata": {},
   "outputs": [],
   "source": [
    "poses=np.asarray(res.poses.data)\n",
    "\n",
    "poses=poses.reshape((int(len(poses)/3) ,3     )      )"
   ]
  },
  {
   "cell_type": "code",
   "execution_count": null,
   "id": "edc62c5b",
   "metadata": {},
   "outputs": [],
   "source": [
    "head.set_named_target('neutral')"
   ]
  },
  {
   "cell_type": "code",
   "execution_count": null,
   "id": "1aa0f955",
   "metadata": {},
   "outputs": [],
   "source": [
    "#t=write_tf(res.poses.data,(0,0,0,1),'Target',\"head_rgbd_sensor_depth_frame\",0)\n",
    "t=write_tf(poses[0,:],(0,0,0,1),'Target_tmp',\"head_rgbd_sensor_depth_frame\",0) ## CHOOSE A TARGET \n",
    "\n",
    "b_tf.sendTransform(t)\n",
    "rospy.sleep(0.2)\n",
    "tt=tfBuffer.lookup_transform('map','Target_tmp',rospy.Time(0))\n",
    "rospy.sleep(0.2)\n",
    "tt\n",
    "pose,quat= read_tf(tt)\n",
    "t=write_tf(pose,(0,0,0,1),'Target')\n",
    "b_st.sendTransform(t)\n"
   ]
  },
  {
   "cell_type": "code",
   "execution_count": null,
   "id": "6a6fb5c5",
   "metadata": {},
   "outputs": [],
   "source": [
    "head = moveit_commander.MoveGroupCommander('head')\n",
    "#gripper =  moveit_commander.MoveGroupCommander('gripper')\n",
    "#arm=moveit_commander.MoveGroupCommander('arm')"
   ]
  },
  {
   "cell_type": "code",
   "execution_count": null,
   "id": "464e664c",
   "metadata": {},
   "outputs": [],
   "source": [
    "#whole_body=moveit_commander.MoveGroupCommander('whole_body')"
   ]
  },
  {
   "cell_type": "code",
   "execution_count": null,
   "id": "7ef2963f",
   "metadata": {},
   "outputs": [],
   "source": [
    "clear_octo_client()\n",
    "arm_grasp_from_above = [0.3, -2.0, 0.0, -0.9939144210462025, -0.17365421548386273, 0.0]\n",
    "wb_v=whole_body.get_current_joint_values()\n",
    "wb_v[3:]=arm_grasp_from_above\n",
    "succ = whole_body.go(wb_v)"
   ]
  },
  {
   "cell_type": "code",
   "execution_count": null,
   "id": "c2fd61fa",
   "metadata": {},
   "outputs": [],
   "source": [
    "head.set_named_target('neutral')\n",
    "head.go()\n",
    "clear_octo_client()\n"
   ]
  },
  {
   "cell_type": "code",
   "execution_count": null,
   "id": "e67a1f0b",
   "metadata": {},
   "outputs": [],
   "source": [
    "#\n",
    "t=tfBuffer.lookup_transform('map','Target',rospy.Time(0))\n",
    "pose , quat =  read_tf(t)\n",
    "pose"
   ]
  },
  {
   "cell_type": "code",
   "execution_count": null,
   "id": "91a9c855",
   "metadata": {},
   "outputs": [],
   "source": [
    "wb_gp=whole_body.get_current_pose()\n",
    "wb_gp.pose.position.x= pose[0]\n",
    "wb_gp.pose.position.y= pose[1]#\n",
    "wb_gp.pose.position.z= pose[2]+0.3   ##Pre Grasp from above\n"
   ]
  },
  {
   "cell_type": "code",
   "execution_count": null,
   "id": "00506fa1",
   "metadata": {
    "scrolled": false
   },
   "outputs": [],
   "source": [
    "whole_body.set_pose_target(wb_gp)\n",
    "plan=whole_body.plan()\n",
    "if plan[0]:\n",
    "    succ=whole_body.go()\n",
    "else:\n",
    "    print('No plan')"
   ]
  },
  {
   "cell_type": "code",
   "execution_count": null,
   "id": "d902c51e",
   "metadata": {},
   "outputs": [],
   "source": [
    "succ"
   ]
  },
  {
   "cell_type": "code",
   "execution_count": null,
   "id": "5aaa200d",
   "metadata": {},
   "outputs": [],
   "source": []
  },
  {
   "cell_type": "code",
   "execution_count": null,
   "id": "d3412bbd",
   "metadata": {},
   "outputs": [],
   "source": []
  },
  {
   "cell_type": "code",
   "execution_count": null,
   "id": "065f63f1",
   "metadata": {},
   "outputs": [],
   "source": [
    "t=tfBuffer.lookup_transform('hand_palm_link', 'Target',rospy.Time())"
   ]
  },
  {
   "cell_type": "code",
   "execution_count": null,
   "id": "4ea638d1",
   "metadata": {},
   "outputs": [],
   "source": [
    "pose,_=read_tf(t)\n",
    "pose"
   ]
  },
  {
   "cell_type": "code",
   "execution_count": null,
   "id": "d3e52131",
   "metadata": {},
   "outputs": [],
   "source": [
    "goal_p=whole_body.get_current_pose()\n",
    "goal_p.pose.position.x=0.1\n",
    "goal_p.pose.position.y=pose[1]\n",
    "goal_p.pose.position.z=pose[2]+0.2\n",
    "#goal_p.pose.orientation.w=quat[0]\n",
    "#goal_p.pose.orientation.x=quat[1]\n",
    "#goal_p.pose.orientation.y=quat[2]\n",
    "#goal_p.pose.orientation.z=quat[3]\n",
    "\n"
   ]
  },
  {
   "cell_type": "code",
   "execution_count": null,
   "id": "1da825b7",
   "metadata": {},
   "outputs": [],
   "source": [
    "whole_body.set_pose_target(goal_p)"
   ]
  },
  {
   "cell_type": "code",
   "execution_count": null,
   "id": "3ba02e07",
   "metadata": {},
   "outputs": [],
   "source": [
    "whole_body.plan()"
   ]
  },
  {
   "cell_type": "code",
   "execution_count": null,
   "id": "860c8fc4",
   "metadata": {},
   "outputs": [],
   "source": [
    "goal_p=whole_body.get_current_pose()"
   ]
  },
  {
   "cell_type": "code",
   "execution_count": null,
   "id": "9ef3bfbf",
   "metadata": {},
   "outputs": [],
   "source": [
    "whole_body.set_pose_target(goal_p)\n",
    "whole_body.plan()"
   ]
  },
  {
   "cell_type": "code",
   "execution_count": null,
   "id": "e91a0515",
   "metadata": {},
   "outputs": [],
   "source": [
    "whole_body.go()"
   ]
  },
  {
   "cell_type": "code",
   "execution_count": null,
   "id": "2fe72b4b",
   "metadata": {},
   "outputs": [],
   "source": []
  },
  {
   "cell_type": "code",
   "execution_count": null,
   "id": "3dfb35a6",
   "metadata": {},
   "outputs": [],
   "source": []
  },
  {
   "cell_type": "code",
   "execution_count": null,
   "id": "4b200fce",
   "metadata": {},
   "outputs": [],
   "source": [
    "res.poses.data"
   ]
  },
  {
   "cell_type": "code",
   "execution_count": null,
   "id": "4ebd2af5",
   "metadata": {},
   "outputs": [],
   "source": [
    "t=tfBuffer.lookup_transform('map','Target',rospy.Time())"
   ]
  },
  {
   "cell_type": "code",
   "execution_count": null,
   "id": "ec2e5eae",
   "metadata": {},
   "outputs": [],
   "source": [
    "pose,quat=read_tf(t)"
   ]
  },
  {
   "cell_type": "code",
   "execution_count": null,
   "id": "7dddd58b",
   "metadata": {},
   "outputs": [],
   "source": [
    "goal_pose= Pose()"
   ]
  },
  {
   "cell_type": "code",
   "execution_count": null,
   "id": "fa06ecd0",
   "metadata": {},
   "outputs": [],
   "source": [
    "goal_pose.position.x=pose[0]\n",
    "goal_pose.position.y=pose[1]\n",
    "goal_pose.position.z=pose[2]"
   ]
  },
  {
   "cell_type": "code",
   "execution_count": null,
   "id": "76bfdd75",
   "metadata": {},
   "outputs": [],
   "source": [
    "pose,goal_pose"
   ]
  },
  {
   "cell_type": "code",
   "execution_count": null,
   "id": "e1bfc047",
   "metadata": {},
   "outputs": [],
   "source": [
    "whole_body.get_current_pose()"
   ]
  },
  {
   "cell_type": "code",
   "execution_count": null,
   "id": "0a55f889",
   "metadata": {},
   "outputs": [],
   "source": [
    "wb=whole_body.get_current_joint_values()"
   ]
  },
  {
   "cell_type": "code",
   "execution_count": null,
   "id": "0852d4fb",
   "metadata": {},
   "outputs": [],
   "source": [
    "wb[4]=0.1"
   ]
  },
  {
   "cell_type": "code",
   "execution_count": null,
   "id": "2ebde50f",
   "metadata": {},
   "outputs": [],
   "source": [
    "whole_body.go(wb)"
   ]
  },
  {
   "cell_type": "code",
   "execution_count": null,
   "id": "58799474",
   "metadata": {},
   "outputs": [],
   "source": [
    "pose=whole_body.get_current_pose()"
   ]
  },
  {
   "cell_type": "code",
   "execution_count": null,
   "id": "3c2220e1",
   "metadata": {},
   "outputs": [],
   "source": [
    "type(pose.pose.orientation)"
   ]
  },
  {
   "cell_type": "code",
   "execution_count": null,
   "id": "fc307530",
   "metadata": {},
   "outputs": [],
   "source": [
    "tf.transformations.euler_from_quaternion((pose.pose.orientation.w,pose.pose.orientation.x,pose.pose.orientation.y,pose.pose.orientation.z))"
   ]
  },
  {
   "cell_type": "code",
   "execution_count": null,
   "id": "4ee0d547",
   "metadata": {},
   "outputs": [],
   "source": [
    "tf.transformations.euler_from_quaternion((pose.pose.orientation.w,pose.pose.orientation.x,pose.pose.orientation.y,pose.pose.orientation.z))"
   ]
  },
  {
   "cell_type": "code",
   "execution_count": null,
   "id": "17d1dea8",
   "metadata": {},
   "outputs": [],
   "source": [
    "gp=whole_body.get_current_pose()"
   ]
  },
  {
   "cell_type": "code",
   "execution_count": null,
   "id": "b88885bc",
   "metadata": {},
   "outputs": [],
   "source": [
    "\n",
    "gp.pose.orientation\n",
    "pose=gp\n",
    "eu=tf.transformations.euler_from_quaternion((pose.pose.orientation.w,pose.pose.orientation.x,pose.pose.orientation.y,pose.pose.orientation.z))\n",
    "#eu[1]=0\n",
    "quat=tf.transformations.quaternion_from_euler(eu[0],eu[1],eu[2])"
   ]
  },
  {
   "cell_type": "code",
   "execution_count": null,
   "id": "b3524ff3",
   "metadata": {},
   "outputs": [],
   "source": [
    "eu=tf.transformations.euler_from_quaternion((pose.pose.orientation.w,pose.pose.orientation.x,pose.pose.orientation.y,pose.pose.orientation.z))"
   ]
  },
  {
   "cell_type": "code",
   "execution_count": null,
   "id": "f1848d06",
   "metadata": {},
   "outputs": [],
   "source": [
    "tfBuffer.lookup_transform('hand_palm_link','New:static_Target',rospy.Time(0))"
   ]
  },
  {
   "cell_type": "code",
   "execution_count": null,
   "id": "6aa7e7eb",
   "metadata": {},
   "outputs": [],
   "source": [
    "#eu[1]=0\n",
    "quat=tf.transformations.quaternion_from_euler(eu[0],eu[1],eu[2])\n",
    "rot_quat=tf.transformations.quaternion_from_euler(0,0.5*np.pi,0.0)"
   ]
  },
  {
   "cell_type": "code",
   "execution_count": null,
   "id": "fcf78b24",
   "metadata": {},
   "outputs": [],
   "source": [
    "wb_gp=whole_body.get_current_pose()"
   ]
  },
  {
   "cell_type": "code",
   "execution_count": null,
   "id": "803cc0d5",
   "metadata": {},
   "outputs": [],
   "source": [
    "eu=tf.transformations.euler_from_quaternion((wb_gp.pose.orientation.w,wb_gp.pose.orientation.x,wb_gp.pose.orientation.y,wb_gp.pose.orientation.z))\n",
    "quat=tf.transformations.quaternion_from_euler(eu[0],eu[1],eu[2])\n",
    "rot_quat=tf.transformations.quaternion_from_euler(0,0.5*np.pi,0.0)\n",
    "rotated=tf.transformations.quaternion_multiply(quat,rot_quat)\n",
    "\n"
   ]
  },
  {
   "cell_type": "code",
   "execution_count": null,
   "id": "af1f1c10",
   "metadata": {},
   "outputs": [],
   "source": [
    "wb_gp.pose.position.x-=0.1\n",
    "wb_gp.pose.position.y+=0.1\n",
    "wb_gp.pose.position.z-=0.1\n"
   ]
  },
  {
   "cell_type": "code",
   "execution_count": null,
   "id": "e7060254",
   "metadata": {},
   "outputs": [],
   "source": [
    "wb_gp.pose.orientation.w=rotated[0]\n",
    "wb_gp.pose.orientation.x=rotated[1]\n",
    "wb_gp.pose.orientation.y=rotated[2]\n",
    "wb_gp.pose.orientation.z=rotated[3]"
   ]
  },
  {
   "cell_type": "code",
   "execution_count": null,
   "id": "cfff6feb",
   "metadata": {},
   "outputs": [],
   "source": [
    "whole_body.set_pose_target(wb_gp)"
   ]
  },
  {
   "cell_type": "code",
   "execution_count": null,
   "id": "46b260e6",
   "metadata": {},
   "outputs": [],
   "source": [
    "\n",
    "plan=whole_body.plan()\n",
    "plan"
   ]
  },
  {
   "cell_type": "code",
   "execution_count": null,
   "id": "d13e0540",
   "metadata": {},
   "outputs": [],
   "source": [
    "if plan[0]:\n",
    "    whole_body.go()"
   ]
  },
  {
   "cell_type": "code",
   "execution_count": null,
   "id": "56da32e8",
   "metadata": {},
   "outputs": [],
   "source": [
    "whole_body.go()"
   ]
  },
  {
   "cell_type": "code",
   "execution_count": null,
   "id": "1cafe338",
   "metadata": {},
   "outputs": [],
   "source": [
    "arm_grasp_from_above = [0.19263830140116414, -2.2668981568652917, -0.007358947463759424, -0.9939144210462025, -0.17365421548386273, 0.0]\n",
    "wb_v=whole_body.get_current_joint_values()\n",
    "wb_v[3:]=arm_grasp_from_above\n",
    "succ = whole_body.go(wb_v)"
   ]
  },
  {
   "cell_type": "code",
   "execution_count": null,
   "id": "f6961dec",
   "metadata": {},
   "outputs": [],
   "source": [
    "\n",
    "t=tfBuffer.lookup_transform('New:static_Target','hand_palm_link',rospy.Time(0))\n",
    "pose , quat =  read_tf(t)\n",
    "pose,quat\n",
    "np.save('above_quat.npy',quat)"
   ]
  },
  {
   "cell_type": "code",
   "execution_count": null,
   "id": "f7b19101",
   "metadata": {},
   "outputs": [],
   "source": [
    "t=tfBuffer.lookup_transform('map','Target',rospy.Time(0))\n",
    "pose , quat =  read_tf(t)\n",
    "pose,quat"
   ]
  },
  {
   "cell_type": "code",
   "execution_count": null,
   "id": "97b4222e",
   "metadata": {},
   "outputs": [],
   "source": [
    "wb_gp=whole_body.get_current_pose()\n",
    "wb_gp.pose.position.x= pose[0]\n",
    "wb_gp.pose.position.y= pose[1]\n",
    "wb_gp.pose.position.z= pose[2]+0.2\n"
   ]
  },
  {
   "cell_type": "code",
   "execution_count": null,
   "id": "5f99d418",
   "metadata": {},
   "outputs": [],
   "source": [
    "whole_body.set_pose_target(wb_gp)\n",
    "plan=whole_body.plan()\n",
    "plan"
   ]
  },
  {
   "cell_type": "code",
   "execution_count": null,
   "id": "b1e041bf",
   "metadata": {},
   "outputs": [],
   "source": [
    "\n",
    "whole_body.go()"
   ]
  },
  {
   "cell_type": "code",
   "execution_count": null,
   "id": "ba658ddb",
   "metadata": {},
   "outputs": [],
   "source": [
    "wb_v=whole_body.get_current_joint_values()\n"
   ]
  },
  {
   "cell_type": "code",
   "execution_count": null,
   "id": "ebe3812e",
   "metadata": {},
   "outputs": [],
   "source": [
    "gripper = GRIPPER()"
   ]
  },
  {
   "cell_type": "code",
   "execution_count": null,
   "id": "b5a3ad2a",
   "metadata": {},
   "outputs": [],
   "source": [
    "gripper.close()"
   ]
  },
  {
   "cell_type": "code",
   "execution_count": null,
   "id": "c7e05102",
   "metadata": {},
   "outputs": [],
   "source": [
    "gripper =  moveit_commander.MoveGroupCommander('gripper')"
   ]
  },
  {
   "cell_type": "code",
   "execution_count": null,
   "id": "7bac164b",
   "metadata": {},
   "outputs": [],
   "source": [
    "\n",
    "|\n",
    "tf_man.pub_static_tf()"
   ]
  },
  {
   "cell_type": "code",
   "execution_count": null,
   "id": "261eed62",
   "metadata": {},
   "outputs": [],
   "source": []
  },
  {
   "cell_type": "code",
   "execution_count": null,
   "id": "69c7bc1d",
   "metadata": {},
   "outputs": [],
   "source": []
  },
  {
   "cell_type": "code",
   "execution_count": null,
   "id": "8fe6fd57",
   "metadata": {},
   "outputs": [],
   "source": []
  },
  {
   "cell_type": "code",
   "execution_count": null,
   "id": "187b56b6",
   "metadata": {},
   "outputs": [],
   "source": []
  },
  {
   "cell_type": "code",
   "execution_count": null,
   "id": "eb12f985",
   "metadata": {},
   "outputs": [],
   "source": [
    "head.set_joint_values([0.0, -0.77])\n"
   ]
  },
  {
   "cell_type": "code",
   "execution_count": null,
   "id": "d80dd175",
   "metadata": {},
   "outputs": [],
   "source": [
    "print ('rdy')"
   ]
  },
  {
   "cell_type": "code",
   "execution_count": null,
   "id": "830b7456",
   "metadata": {},
   "outputs": [],
   "source": [
    "brazo.set_named_target('go')\n",
    "head.set_joint_values([0.0, -0.77])\n",
    "res=segmentation_server.call()\n",
    "if len(res.poses.data)==0: print( 'failed')\n",
    "else:\n",
    "\n",
    "    poses=np.asarray(res.poses.data)\n",
    "    poses=poses.reshape((int(len(poses)/3) ,3     )      )  \n",
    "\n",
    "\n",
    "\n",
    "\n",
    "\n",
    "    tf_man.pub_static_tf(pos=poses[0,:], point_name='target', ref='head_rgbd_sensor_rgb_frame')## which object to choose   #TODO\n",
    "    rospy.sleep(0.3)\n",
    "    tf_man.change_ref_frame_tf(point_name='target', new_frame='map')\n",
    "    rospy.sleep(0.3)\n",
    "    pose, _ =tf_man.getTF('target')\n",
    "    tf_man.pub_static_tf(pos=pose, point_name='Target')## which object to choose   #TODO\n",
    "\n",
    "\n",
    "    head.set_named_target('neutral')"
   ]
  },
  {
   "cell_type": "code",
   "execution_count": null,
   "id": "e2f330e0",
   "metadata": {},
   "outputs": [],
   "source": [
    "poses=np.asarray(res.poses.data)\n",
    "poses=poses.reshape((int(len(poses)/3) ,3     )      )  \n",
    "\n",
    "\n",
    "\n",
    "\n",
    "\n",
    "tf_man.pub_static_tf(pos=poses[0,:], point_name='target', ref='head_rgbd_sensor_rgb_frame')## which object to choose   #TODO"
   ]
  },
  {
   "cell_type": "code",
   "execution_count": null,
   "id": "e4642063",
   "metadata": {},
   "outputs": [],
   "source": [
    "tf_man.change_ref_frame_tf(point_name='target', new_frame='map')\n"
   ]
  },
  {
   "cell_type": "code",
   "execution_count": null,
   "id": "23eb4bf8",
   "metadata": {},
   "outputs": [],
   "source": [
    "pose, _ =tf_man.getTF('target')\n",
    "tf_man.pub_static_tf(pos=pose, point_name='Target')## which object to choose   #TODO\n"
   ]
  },
  {
   "cell_type": "code",
   "execution_count": null,
   "id": "791abb92",
   "metadata": {},
   "outputs": [],
   "source": [
    "head.set_named_target('neutral')"
   ]
  },
  {
   "cell_type": "code",
   "execution_count": null,
   "id": "448d5ca0",
   "metadata": {},
   "outputs": [],
   "source": [
    " clear_octo_client()\n",
    "#############################10 * 2 *np.pi / 360 ####pi /2\n",
    "arm_grasp_from_above = [0.2, -1.57, -0.13 , -1.57, 0.0, 0.0]\n",
    "wb_v=whole_body.get_current_joint_values()\n",
    "wb_v[3:]=arm_grasp_from_above\n",
    "succ = whole_body.go(wb_v)   "
   ]
  },
  {
   "cell_type": "code",
   "execution_count": null,
   "id": "85cdf627",
   "metadata": {},
   "outputs": [],
   "source": [
    "clear_octo_client()\n",
    "pose, quat=tf_man.getTF('Target')\n",
    "\n",
    "wb_gp=whole_body.get_current_pose()\n",
    "wb_gp.pose.position.x= pose[0]\n",
    "wb_gp.pose.position.y= pose[1]\n",
    "wb_gp.pose.position.z= pose[2]+0.2\n",
    "\n",
    "whole_body.set_pose_target(wb_gp)\n",
    "plan=whole_body.plan()"
   ]
  },
  {
   "cell_type": "code",
   "execution_count": null,
   "id": "422d4c93",
   "metadata": {},
   "outputs": [],
   "source": [
    "pos,rot=tf_man.getTF(target_frame=,ref)\n",
    "pos"
   ]
  },
  {
   "cell_type": "code",
   "execution_count": null,
   "id": "a011d956",
   "metadata": {},
   "outputs": [],
   "source": [
    "from smach_utils2 import *"
   ]
  },
  {
   "cell_type": "code",
   "execution_count": null,
   "id": "f384254d",
   "metadata": {},
   "outputs": [],
   "source": [
    "from smach_utils2 import *\n"
   ]
  },
  {
   "cell_type": "code",
   "execution_count": null,
   "id": "7f9036ef",
   "metadata": {},
   "outputs": [],
   "source": [
    "wb_gp=whole_body.get_current_pose()            \n",
    "wb_gp.header.frame_id=\"Target\"\n",
    "wb_gp.pose.position.x=0.02669\n",
    "wb_gp.pose.position.y=0.045\n",
    "wb_gp.pose.position.z= 0.033\n",
    "wb_gp.pose.orientation.w=-0.990\n",
    "wb_gp.pose.orientation.x= 0.0246\n",
    "wb_gp.pose.orientation.y= -0.0085\n",
    "wb_gp.pose.orientation.z= 0.1345\n",
    "\n"
   ]
  },
  {
   "cell_type": "code",
   "execution_count": null,
   "id": "9dadce42",
   "metadata": {},
   "outputs": [],
   "source": []
  },
  {
   "cell_type": "code",
   "execution_count": null,
   "id": "85cfad64",
   "metadata": {},
   "outputs": [],
   "source": [
    "aaa"
   ]
  },
  {
   "cell_type": "code",
   "execution_count": null,
   "id": "05aab8d3",
   "metadata": {},
   "outputs": [],
   "source": [
    "from smach_ros import ActionServerWrapper"
   ]
  },
  {
   "cell_type": "code",
   "execution_count": null,
   "id": "42d59559",
   "metadata": {},
   "outputs": [],
   "source": []
  },
  {
   "cell_type": "code",
   "execution_count": null,
   "id": "b2be4635",
   "metadata": {},
   "outputs": [],
   "source": [
    "res = speech_recog_server()"
   ]
  },
  {
   "cell_type": "code",
   "execution_count": null,
   "id": "4e6d8840",
   "metadata": {},
   "outputs": [],
   "source": [
    "res.data\n",
    "\n",
    "#msg = rospy.wait_for_message('/speech_recognition/final_result', String, 10)\n",
    "#msg"
   ]
  },
  {
   "cell_type": "code",
   "execution_count": null,
   "id": "f2b2e7d5",
   "metadata": {},
   "outputs": [],
   "source": [
    "if len(res.data.split(' '))>1:print(res.data.split(' ')[-1])    ### Number of words\n"
   ]
  },
  {
   "cell_type": "code",
   "execution_count": null,
   "id": "c4115064",
   "metadata": {},
   "outputs": [],
   "source": []
  },
  {
   "cell_type": "code",
   "execution_count": null,
   "id": "19e7972a",
   "metadata": {},
   "outputs": [],
   "source": []
  },
  {
   "cell_type": "code",
   "execution_count": null,
   "id": "58ba5515",
   "metadata": {},
   "outputs": [],
   "source": [
    "from ros_whisper_vosk.srv import SetGrammarVosk\n",
    "set_grammar = rospy.ServiceProxy('set_grammar_vosk', SetGrammarVosk)"
   ]
  },
  {
   "cell_type": "code",
   "execution_count": null,
   "id": "590283d6",
   "metadata": {},
   "outputs": [],
   "source": [
    "set_grammar = rospy.ServiceProxy('set_grammar_vosk', SetGrammarVosk)"
   ]
  },
  {
   "cell_type": "code",
   "execution_count": null,
   "id": "5f5b4d54",
   "metadata": {},
   "outputs": [],
   "source": [
    "set_grammar(['pete','ana','jack', 'michael', ' my name is' , 'i am','george','mary','ruben','oscar','yolo','mitzi'])  ##PRESET NAMES"
   ]
  },
  {
   "cell_type": "code",
   "execution_count": null,
   "id": "f692c036",
   "metadata": {
    "scrolled": true
   },
   "outputs": [],
   "source": [
    "msg = rospy.wait_for_message('/speech_recognition/final_result', String, 10)\n",
    "msg"
   ]
  },
  {
   "cell_type": "code",
   "execution_count": null,
   "id": "1024c0ba",
   "metadata": {},
   "outputs": [],
   "source": [
    "msg = rospy.wait_for_message('/speech_recognition/final_result', String, 10)\n",
    "#msg.data\n",
    "if len(msg.data.split(' '))>1:print(msg.data.split(' ')[-1]) "
   ]
  },
  {
   "cell_type": "code",
   "execution_count": null,
   "id": "dd53f34f",
   "metadata": {},
   "outputs": [],
   "source": [
    "\n",
    "res=get_keywords_speech(10)\n",
    "res"
   ]
  },
  {
   "cell_type": "code",
   "execution_count": null,
   "id": "10c3aca5",
   "metadata": {},
   "outputs": [],
   "source": []
  },
  {
   "cell_type": "code",
   "execution_count": null,
   "id": "cb3b220a",
   "metadata": {},
   "outputs": [],
   "source": [
    "drinks=['coke','juice','beer', 'water', 'soda', 'wine']\n",
    "names=['pete','ana','jack', 'michael', ' my name is' , 'i am','george','mary','ruben','oscar','yolo','mitzi']\n",
    "confirmation=['yes','no']\n",
    "gram=drinks+names+confirmation\n",
    "\n",
    "set_grammar(gram)  ##PRESET DRINKS\n"
   ]
  },
  {
   "cell_type": "code",
   "execution_count": null,
   "id": "4e8e8232",
   "metadata": {},
   "outputs": [],
   "source": []
  },
  {
   "cell_type": "code",
   "execution_count": null,
   "id": "c8dee770",
   "metadata": {},
   "outputs": [],
   "source": [
    "res2 = get_keywords_speech(10)\n",
    "if res2 in['yes','jack','juice']:print('chido',res2)\n",
    "else: print ('chale',res2)"
   ]
  },
  {
   "cell_type": "code",
   "execution_count": null,
   "id": "32ec358c",
   "metadata": {},
   "outputs": [],
   "source": [
    "set_grammar(['yes','no'])"
   ]
  },
  {
   "cell_type": "code",
   "execution_count": null,
   "id": "44831c6e",
   "metadata": {},
   "outputs": [],
   "source": [
    "res2 in ['yes', 'no']"
   ]
  },
  {
   "cell_type": "code",
   "execution_count": null,
   "id": "3d885d9c",
   "metadata": {},
   "outputs": [],
   "source": [
    "res2='not'"
   ]
  },
  {
   "cell_type": "code",
   "execution_count": null,
   "id": "50f13eb4",
   "metadata": {},
   "outputs": [],
   "source": [
    "map_msg= rospy.wait_for_message('/augmented_map', OccupancyGrid)\n",
    "\n",
    "inflated_map= np.asarray(map_msg.data)"
   ]
  },
  {
   "cell_type": "code",
   "execution_count": null,
   "id": "d979331e",
   "metadata": {},
   "outputs": [],
   "source": [
    "import matplotlib.pyplot as plt\n",
    "img_map=inflated_map.reshape((img.info.width,img.info.height))\n",
    "\n",
    "plt.imshow (img_map[750:1250,750:1250])"
   ]
  },
  {
   "cell_type": "code",
   "execution_count": null,
   "id": "c623dbd8",
   "metadata": {},
   "outputs": [],
   "source": [
    "seg"
   ]
  },
  {
   "cell_type": "code",
   "execution_count": null,
   "id": "f3c85a51",
   "metadata": {},
   "outputs": [],
   "source": []
  },
  {
   "cell_type": "code",
   "execution_count": null,
   "id": "162d2bc0",
   "metadata": {},
   "outputs": [],
   "source": [
    "class Find_object(smach.State):  # ADD KNONW LOCATION DOOR\n",
    "    def __init__(self):\n",
    "        smach.State.__init__(self, outcomes=['succ', 'failed', 'tries'])\n",
    "        self.tries = 0\n",
    "\n",
    "    def execute(self, userdata):\n",
    "\n",
    "        rospy.loginfo('STATE : Segment and tfing object' )\n",
    "\n",
    "        print(f'Try {self.tries} of 3 attempts')\n",
    "        self.tries += 1\n",
    "        if self.tries == 4:\n",
    "            self.tries=0\n",
    "            return 'tries'\n",
    "\n",
    "\n",
    "\n",
    "\n",
    "        #if self.tries == 1: talk('Looking for object')\n",
    "        brazo.set_named_target('go')\n",
    "        if self.tries==1:head.set_joint_values([0.0, -0.77])\n",
    "        \n",
    "        rospy.sleep(0.8)\n",
    "        res=segmentation_server.call()\n",
    "        if len(res.poses.data)==0: return 'failed'\n",
    "        else:\n",
    "            print('object found')\n",
    "            poses=np.asarray(res.poses.data)\n",
    "            poses=poses.reshape((int(len(poses)/3) ,3     )      )  \n",
    "\n",
    "\n",
    "\n",
    "\n",
    "\n",
    "            tf_man.pub_static_tf(pos=poses[0,:], point_name='target', ref='head_rgbd_sensor_rgb_frame')## which object to choose   #TODO\n",
    "            rospy.sleep(0.3)\n",
    "            tf_man.change_ref_frame_tf(point_name='target', new_frame='map')\n",
    "            rospy.sleep(0.3)\n",
    "            pose, _ =tf_man.getTF('target')\n",
    "            tf_man.pub_static_tf(pos=pose, point_name='Target')## which object to choose   #TODO\n",
    "\n",
    "\n",
    "            head.set_named_target('neutral')\n",
    "            self.tries=0\n",
    "            return 'succ'\n"
   ]
  },
  {
   "cell_type": "code",
   "execution_count": 1,
   "id": "2125f71a",
   "metadata": {},
   "outputs": [
    {
     "name": "stderr",
     "output_type": "stream",
     "text": [
      "\u001b[33m[ WARN] [1686158827.865177214]: Link hand_l_finger_vacuum_frame has visual geometry but no collision geometry. Collision geometry will be left empty. Fix your URDF file by explicitly specifying collision geometry.\u001b[0m\n",
      "\u001b[33m[ WARN] [1686158827.867743909]: Link head_l_stereo_camera_link has visual geometry but no collision geometry. Collision geometry will be left empty. Fix your URDF file by explicitly specifying collision geometry.\u001b[0m\n",
      "\u001b[33m[ WARN] [1686158827.867767448]: Link head_r_stereo_camera_link has visual geometry but no collision geometry. Collision geometry will be left empty. Fix your URDF file by explicitly specifying collision geometry.\u001b[0m\n",
      "\u001b[33m[ WARN] [1686158827.868616885]: Group state 'neutral' doesn't specify all group joints in group 'arm'. wrist_ft_sensor_frame_joint is missing.\u001b[0m\n",
      "\u001b[33m[ WARN] [1686158827.868638527]: Group state 'go' doesn't specify all group joints in group 'arm'. wrist_ft_sensor_frame_joint is missing.\u001b[0m\n",
      "\u001b[33m[ WARN] [1686158828.356764999]: Kinematics solver doesn't support #attempts anymore, but only a timeout.\n",
      "Please remove the parameter '/robot_description_kinematics/arm/kinematics_solver_attempts' from your configuration.\u001b[0m\n",
      "\u001b[33m[ WARN] [1686158828.595840539]: IK plugin for group 'whole_body' relies on deprecated API. Please implement initialize(RobotModel, ...).\u001b[0m\n",
      "\u001b[33m[ WARN] [1686158828.622027809]: IK plugin for group 'whole_body_weighted' relies on deprecated API. Please implement initialize(RobotModel, ...).\u001b[0m\n",
      "\u001b[33m[ WARN] [1686158828.650173098]: IK plugin for group 'whole_body_light' relies on deprecated API. Please implement initialize(RobotModel, ...).\u001b[0m\n"
     ]
    }
   ],
   "source": [
    "from smach_utils2 import *\n"
   ]
  },
  {
   "cell_type": "code",
   "execution_count": 3,
   "id": "6774ef06",
   "metadata": {},
   "outputs": [
    {
     "name": "stderr",
     "output_type": "stream",
     "text": [
      "\u001b[33m[ WARN] [1686108662.504216018, 3453.534000000]: TF_REPEATED_DATA ignoring data with redundant timestamp for frame odom at time 3453.585000 according to authority /pose_integrator\u001b[0m\n",
      "\u001b[33m[ WARN] [1686108662.504293745, 3453.534000000]: TF_REPEATED_DATA ignoring data with redundant timestamp for frame odom at time 3453.585000 according to authority /pose_integrator\u001b[0m\n",
      "\u001b[33m[ WARN] [1686108662.504358118, 3453.534000000]: TF_REPEATED_DATA ignoring data with redundant timestamp for frame odom at time 3453.585000 according to authority /pose_integrator\u001b[0m\n",
      "\u001b[33m[ WARN] [1686108662.504414700, 3453.534000000]: TF_REPEATED_DATA ignoring data with redundant timestamp for frame odom at time 3453.585000 according to authority /pose_integrator\u001b[0m\n",
      "\u001b[33m[ WARN] [1686108662.504477158, 3453.534000000]: TF_REPEATED_DATA ignoring data with redundant timestamp for frame odom at time 3453.585000 according to authority /pose_integrator\u001b[0m\n",
      "\u001b[33m[ WARN] [1686108662.504530250, 3453.534000000]: TF_REPEATED_DATA ignoring data with redundant timestamp for frame odom at time 3453.585000 according to authority /pose_integrator\u001b[0m\n",
      "\u001b[33m[ WARN] [1686108662.504711796, 3453.534000000]: TF_REPEATED_DATA ignoring data with redundant timestamp for frame odom at time 3453.585000 according to authority unknown_publisher\u001b[0m\n"
     ]
    }
   ],
   "source": [
    "brazo.set_named_target()\n",
    "head.set_joint_values([0,-1])"
   ]
  },
  {
   "cell_type": "code",
   "execution_count": 26,
   "id": "24f4f02c",
   "metadata": {},
   "outputs": [
    {
     "name": "stdout",
     "output_type": "stream",
     "text": [
      "object found\n",
      "(3, 3)\n",
      "occupied if not 0 0\n",
      "object_0\n",
      "occupied if not 0 0\n",
      "object_1\n",
      "occupied if not 0 200\n",
      "object_2\n",
      "reject point, most likely part of arena, occupied map\n",
      "shutdown request: [/smach] Reason: new node registered with same name\n"
     ]
    }
   ],
   "source": [
    "res=segmentation_server.call()\n",
    "\n",
    "if len(res.poses.data)==0: print( 'failed')\n",
    "else:\n",
    "    print('object found')\n",
    "    \n",
    "    poses=np.asarray(res.poses.data)\n",
    "    poses=poses.reshape((int(len(poses)/3) ,3     )      )  \n",
    "    print (poses.shape)\n",
    "    for i,pose in enumerate(poses):\n",
    "        print ('occupied if not 0', contoured[round(contoured.shape[0]*0.5)+ round(pose[0]/pix_per_m),round(contoured.shape[0]*0.5)- round(pose[1]/pix_per_m)])\n",
    "        point_name=f'object_{i}'\n",
    "        print (point_name)\n",
    "        if contoured[round(contoured.shape[0]*0.5)+ round(pose[0]/pix_per_m),round(contoured.shape[0]*0.5)- round(pose[1]/pix_per_m)] !=0:\n",
    "            print ('reject point, most likely part of arena, occupied map')\n",
    "        else:\n",
    "            tf_man.pub_static_tf(pos=pose, point_name=point_name, ref='head_rgbd_sensor_rgb_frame')## which object to choose   #TODO\n",
    "            rospy.sleep(0.3)\n",
    "            tf_man.change_ref_frame_tf(point_name=point_name, new_frame='map')\n",
    "            rospy.sleep(0.3)\n",
    "\n",
    "        "
   ]
  },
  {
   "cell_type": "code",
   "execution_count": 20,
   "id": "2350d33d",
   "metadata": {},
   "outputs": [
    {
     "data": {
      "text/plain": [
       "0"
      ]
     },
     "execution_count": 20,
     "metadata": {},
     "output_type": "execute_result"
    }
   ],
   "source": [
    "\n",
    "\n",
    "contoured[round(contoured.shape[0]*0.5)+ round(pose[0]/pix_per_m),round(contoured.shape[0]*0.5)- round(pose[1]/pix_per_m)]"
   ]
  },
  {
   "cell_type": "code",
   "execution_count": 19,
   "id": "ffe95a1e",
   "metadata": {},
   "outputs": [
    {
     "data": {
      "text/plain": [
       "256"
      ]
     },
     "execution_count": 19,
     "metadata": {},
     "output_type": "execute_result"
    }
   ],
   "source": [
    "#FREE SPACE . SO IT IS A PLAUSIBLE HYPOTHESIS OF A TRASH OBJECT"
   ]
  },
  {
   "cell_type": "code",
   "execution_count": null,
   "id": "fe76975f",
   "metadata": {},
   "outputs": [],
   "source": []
  },
  {
   "cell_type": "code",
   "execution_count": null,
   "id": "38be969d",
   "metadata": {},
   "outputs": [],
   "source": []
  },
  {
   "cell_type": "code",
   "execution_count": null,
   "id": "e170ff37",
   "metadata": {},
   "outputs": [],
   "source": []
  },
  {
   "cell_type": "code",
   "execution_count": null,
   "id": "fffe798f",
   "metadata": {},
   "outputs": [],
   "source": []
  },
  {
   "cell_type": "code",
   "execution_count": null,
   "id": "cc8e4a57",
   "metadata": {},
   "outputs": [],
   "source": []
  },
  {
   "cell_type": "code",
   "execution_count": 21,
   "id": "142b793c",
   "metadata": {},
   "outputs": [],
   "source": [
    "def draw_at (px,py, contoured):\n",
    "    contoured[px-5:px+5,py-5:py+5]=200\n",
    "    return contoured\n",
    "    "
   ]
  },
  {
   "cell_type": "code",
   "execution_count": 22,
   "id": "b2887705",
   "metadata": {},
   "outputs": [
    {
     "data": {
      "text/plain": [
       "<matplotlib.image.AxesImage at 0x7f76b433a250>"
      ]
     },
     "execution_count": 22,
     "metadata": {},
     "output_type": "execute_result"
    },
    {
     "data": {
      "image/png": "[encoded data removed]",
      "text/plain": [
       "<Figure size 640x480 with 1 Axes>"
      ]
     },
     "metadata": {},
     "output_type": "display_data"
    }
   ],
   "source": [
    "\n",
    "import matplotlib.pyplot as plt\n",
    "plt.imshow(contoured)"
   ]
  },
  {
   "cell_type": "code",
   "execution_count": 24,
   "id": "73ee7517",
   "metadata": {},
   "outputs": [
    {
     "data": {
      "text/plain": [
       "<matplotlib.image.AxesImage at 0x7f76b40b9d30>"
      ]
     },
     "execution_count": 24,
     "metadata": {},
     "output_type": "execute_result"
    },
    {
     "data": {
      "image/png": "[encoded data removed]",
      "text/plain": [
       "<Figure size 640x480 with 1 Axes>"
      ]
     },
     "metadata": {},
     "output_type": "display_data"
    }
   ],
   "source": [
    "origin_map_img=[round(contoured.shape[0]*0.5) ,round(contoured.shape[1]*0.5)]\n",
    "contoured[origin_map_img[0]+ round(pose[0]/pix_per_m),origin_map_img[1]- round(pose[1]/pix_per_m)]\n",
    "contoured=draw_at(origin_map_img[0]+ round(pose[0]/pix_per_m),origin_map_img[1]- round(pose[1]/pix_per_m),contoured)\n",
    "plt.imshow(contoured[80:370,80:])"
   ]
  },
  {
   "cell_type": "code",
   "execution_count": null,
   "id": "eb7ec96d",
   "metadata": {},
   "outputs": [],
   "source": [
    "\n",
    "map_msg.info.origin.position"
   ]
  },
  {
   "cell_type": "code",
   "execution_count": null,
   "id": "7d3feda8",
   "metadata": {},
   "outputs": [],
   "source": [
    "robot=get_robot_px()\n",
    "draw_at(1024+robot[1],1024+robot[0],contoured)\n",
    "plt.imshow(contoured[750:1250,750:1250])\n",
    "print ('robot Pose (tf)')"
   ]
  },
  {
   "cell_type": "code",
   "execution_count": null,
   "id": "2f7cec26",
   "metadata": {},
   "outputs": [],
   "source": [
    "c=point_to_px(pose[0],pose[1])\n",
    "robot=get_robot_px()\n",
    "draw_at(1024+robot[1]+c[0],1024+robot[0]+c[1],contoured)\n",
    "plt.imshow(contoured[750:1250,750:1250])\n",
    "print ('robot Pose (tf)')\n"
   ]
  },
  {
   "cell_type": "code",
   "execution_count": null,
   "id": "bd170ff1",
   "metadata": {},
   "outputs": [],
   "source": [
    "contoured[150,300]"
   ]
  },
  {
   "cell_type": "code",
   "execution_count": null,
   "id": "fe9f2515",
   "metadata": {},
   "outputs": [],
   "source": [
    "contoured[c[0]+1024,c[1]+1024]"
   ]
  },
  {
   "cell_type": "code",
   "execution_count": null,
   "id": "2a34c545",
   "metadata": {},
   "outputs": [],
   "source": [
    "\n",
    "check_point_map(pose[0],pose[1])"
   ]
  },
  {
   "cell_type": "code",
   "execution_count": null,
   "id": "eecf7fa4",
   "metadata": {},
   "outputs": [],
   "source": []
  }
 ],
 "metadata": {
  "kernelspec": {
   "display_name": "Python 3 (ipykernel)",
   "language": "python",
   "name": "python3"
  },
  "language_info": {
   "codemirror_mode": {
    "name": "ipython",
    "version": 3
   },
   "file_extension": ".py",
   "mimetype": "text/x-python",
   "name": "python",
   "nbconvert_exporter": "python",
   "pygments_lexer": "ipython3",
   "version": "3.8.10"
  }
 },
 "nbformat": 4,
 "nbformat_minor": 5
}

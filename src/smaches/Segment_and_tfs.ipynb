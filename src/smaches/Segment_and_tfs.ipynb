{
 "cells": [
  {
   "cell_type": "code",
   "execution_count": null,
   "id": "b878d9d1",
   "metadata": {},
   "outputs": [],
   "source": [
    "from smach_utils2 import *"
   ]
  },
  {
   "cell_type": "code",
   "execution_count": null,
   "id": "327893d4",
   "metadata": {},
   "outputs": [],
   "source": [
    "tfBuffer = tf2.Buffer()\n",
    "\n",
    "listener = tf2.TransformListener(tfBuffer)\n",
    "b_tf=tf2.TransformBroadcaster()\n",
    "b_st=tf2.StaticTransformBroadcaster()\n"
   ]
  },
  {
   "cell_type": "code",
   "execution_count": null,
   "id": "a956cd50",
   "metadata": {},
   "outputs": [],
   "source": []
  },
  {
   "cell_type": "code",
   "execution_count": null,
   "id": "9516a610",
   "metadata": {},
   "outputs": [],
   "source": [
    "def write_tf(pose, q, child_frame , parent_frame='map',time=0):\n",
    "    t= TransformStamped()\n",
    "    t.header.stamp = rospy.Time.now()\n",
    "    t.header.frame_id =parent_frame\n",
    "    t.child_frame_id =  child_frame\n",
    "    t.transform.translation.x = pose[0]\n",
    "    t.transform.translation.y = pose[1]\n",
    "    t.transform.translation.z = pose[2]\n",
    "    #q = tf.transformations.quaternion_from_euler(eu[0], eu[1], eu[2])\n",
    "    t.transform.rotation.x = q[0]\n",
    "    t.transform.rotation.y = q[1]\n",
    "    t.transform.rotation.z = q[2]\n",
    "    t.transform.rotation.w = q[3]\n",
    "    return t\n",
    "def read_tf(t):\n",
    "    pose=np.asarray((\n",
    "        t.transform.translation.x,\n",
    "        t.transform.translation.y,\n",
    "        t.transform.translation.z\n",
    "        ))\n",
    "    quat=np.asarray((\n",
    "        t.transform.rotation.x,\n",
    "        t.transform.rotation.y,\n",
    "        t.transform.rotation.z,\n",
    "        t.transform.rotation.w\n",
    "        ))\n",
    "    \n",
    "    return pose, quat\n"
   ]
  },
  {
   "cell_type": "code",
   "execution_count": null,
   "id": "2979f285",
   "metadata": {},
   "outputs": [],
   "source": [
    "res=segmentation_server.call()"
   ]
  },
  {
   "cell_type": "code",
   "execution_count": null,
   "id": "a7a211f6",
   "metadata": {},
   "outputs": [],
   "source": [
    "res"
   ]
  },
  {
   "cell_type": "code",
   "execution_count": null,
   "id": "81ad906a",
   "metadata": {},
   "outputs": [],
   "source": [
    "poses=np.asarray(res.poses.data)\n",
    "\n",
    "poses=poses.reshape((int(len(poses)/3) ,3     )      )"
   ]
  },
  {
   "cell_type": "code",
   "execution_count": null,
   "id": "edc62c5b",
   "metadata": {},
   "outputs": [],
   "source": [
    "head.set_named_target('neutral')"
   ]
  },
  {
   "cell_type": "code",
   "execution_count": null,
   "id": "1aa0f955",
   "metadata": {},
   "outputs": [],
   "source": [
    "#t=write_tf(res.poses.data,(0,0,0,1),'Target',\"head_rgbd_sensor_depth_frame\",0)\n",
    "t=write_tf(poses[0,:],(0,0,0,1),'Target_tmp',\"head_rgbd_sensor_depth_frame\",0) ## CHOOSE A TARGET \n",
    "\n",
    "b_tf.sendTransform(t)\n",
    "rospy.sleep(0.2)\n",
    "tt=tfBuffer.lookup_transform('map','Target_tmp',rospy.Time(0))\n",
    "rospy.sleep(0.2)\n",
    "tt\n",
    "pose,quat= read_tf(tt)\n",
    "t=write_tf(pose,(0,0,0,1),'Target')\n",
    "b_st.sendTransform(t)\n"
   ]
  },
  {
   "cell_type": "code",
   "execution_count": null,
   "id": "6a6fb5c5",
   "metadata": {},
   "outputs": [],
   "source": [
    "head = moveit_commander.MoveGroupCommander('head')\n",
    "#gripper =  moveit_commander.MoveGroupCommander('gripper')\n",
    "#arm=moveit_commander.MoveGroupCommander('arm')"
   ]
  },
  {
   "cell_type": "code",
   "execution_count": null,
   "id": "464e664c",
   "metadata": {},
   "outputs": [],
   "source": [
    "#whole_body=moveit_commander.MoveGroupCommander('whole_body')"
   ]
  },
  {
   "cell_type": "code",
   "execution_count": null,
   "id": "7ef2963f",
   "metadata": {},
   "outputs": [],
   "source": [
    "clear_octo_client()\n",
    "arm_grasp_from_above = [0.3, -2.0, 0.0, -0.9939144210462025, -0.17365421548386273, 0.0]\n",
    "wb_v=whole_body.get_current_joint_values()\n",
    "wb_v[3:]=arm_grasp_from_above\n",
    "succ = whole_body.go(wb_v)"
   ]
  },
  {
   "cell_type": "code",
   "execution_count": null,
   "id": "c2fd61fa",
   "metadata": {},
   "outputs": [],
   "source": [
    "head.set_named_target('neutral')\n",
    "head.go()\n",
    "clear_octo_client()\n"
   ]
  },
  {
   "cell_type": "code",
   "execution_count": null,
   "id": "e67a1f0b",
   "metadata": {},
   "outputs": [],
   "source": [
    "#\n",
    "t=tfBuffer.lookup_transform('map','Target',rospy.Time(0))\n",
    "pose , quat =  read_tf(t)\n",
    "pose"
   ]
  },
  {
   "cell_type": "code",
   "execution_count": null,
   "id": "91a9c855",
   "metadata": {},
   "outputs": [],
   "source": [
    "wb_gp=whole_body.get_current_pose()\n",
    "wb_gp.pose.position.x= pose[0]\n",
    "wb_gp.pose.position.y= pose[1]#\n",
    "wb_gp.pose.position.z= pose[2]+0.3   ##Pre Grasp from above\n"
   ]
  },
  {
   "cell_type": "code",
   "execution_count": null,
   "id": "00506fa1",
   "metadata": {
    "scrolled": false
   },
   "outputs": [],
   "source": [
    "whole_body.set_pose_target(wb_gp)\n",
    "plan=whole_body.plan()\n",
    "if plan[0]:\n",
    "    succ=whole_body.go()\n",
    "else:\n",
    "    print('No plan')"
   ]
  },
  {
   "cell_type": "code",
   "execution_count": null,
   "id": "d902c51e",
   "metadata": {},
   "outputs": [],
   "source": [
    "succ"
   ]
  },
  {
   "cell_type": "code",
   "execution_count": null,
   "id": "5aaa200d",
   "metadata": {},
   "outputs": [],
   "source": []
  },
  {
   "cell_type": "code",
   "execution_count": null,
   "id": "d3412bbd",
   "metadata": {},
   "outputs": [],
   "source": []
  },
  {
   "cell_type": "code",
   "execution_count": null,
   "id": "065f63f1",
   "metadata": {},
   "outputs": [],
   "source": [
    "t=tfBuffer.lookup_transform('hand_palm_link', 'Target',rospy.Time())"
   ]
  },
  {
   "cell_type": "code",
   "execution_count": null,
   "id": "4ea638d1",
   "metadata": {},
   "outputs": [],
   "source": [
    "pose,_=read_tf(t)\n",
    "pose"
   ]
  },
  {
   "cell_type": "code",
   "execution_count": null,
   "id": "d3e52131",
   "metadata": {},
   "outputs": [],
   "source": [
    "goal_p=whole_body.get_current_pose()\n",
    "goal_p.pose.position.x=0.1\n",
    "goal_p.pose.position.y=pose[1]\n",
    "goal_p.pose.position.z=pose[2]+0.2\n",
    "#goal_p.pose.orientation.w=quat[0]\n",
    "#goal_p.pose.orientation.x=quat[1]\n",
    "#goal_p.pose.orientation.y=quat[2]\n",
    "#goal_p.pose.orientation.z=quat[3]\n",
    "\n"
   ]
  },
  {
   "cell_type": "code",
   "execution_count": null,
   "id": "1da825b7",
   "metadata": {},
   "outputs": [],
   "source": [
    "whole_body.set_pose_target(goal_p)"
   ]
  },
  {
   "cell_type": "code",
   "execution_count": null,
   "id": "3ba02e07",
   "metadata": {},
   "outputs": [],
   "source": [
    "whole_body.plan()"
   ]
  },
  {
   "cell_type": "code",
   "execution_count": null,
   "id": "860c8fc4",
   "metadata": {},
   "outputs": [],
   "source": [
    "goal_p=whole_body.get_current_pose()"
   ]
  },
  {
   "cell_type": "code",
   "execution_count": null,
   "id": "9ef3bfbf",
   "metadata": {},
   "outputs": [],
   "source": [
    "whole_body.set_pose_target(goal_p)\n",
    "whole_body.plan()"
   ]
  },
  {
   "cell_type": "code",
   "execution_count": null,
   "id": "e91a0515",
   "metadata": {},
   "outputs": [],
   "source": [
    "whole_body.go()"
   ]
  },
  {
   "cell_type": "code",
   "execution_count": null,
   "id": "2fe72b4b",
   "metadata": {},
   "outputs": [],
   "source": []
  },
  {
   "cell_type": "code",
   "execution_count": null,
   "id": "3dfb35a6",
   "metadata": {},
   "outputs": [],
   "source": []
  },
  {
   "cell_type": "code",
   "execution_count": null,
   "id": "4b200fce",
   "metadata": {},
   "outputs": [],
   "source": [
    "res.poses.data"
   ]
  },
  {
   "cell_type": "code",
   "execution_count": null,
   "id": "4ebd2af5",
   "metadata": {},
   "outputs": [],
   "source": [
    "t=tfBuffer.lookup_transform('map','Target',rospy.Time())"
   ]
  },
  {
   "cell_type": "code",
   "execution_count": null,
   "id": "ec2e5eae",
   "metadata": {},
   "outputs": [],
   "source": [
    "pose,quat=read_tf(t)"
   ]
  },
  {
   "cell_type": "code",
   "execution_count": null,
   "id": "7dddd58b",
   "metadata": {},
   "outputs": [],
   "source": [
    "goal_pose= Pose()"
   ]
  },
  {
   "cell_type": "code",
   "execution_count": null,
   "id": "fa06ecd0",
   "metadata": {},
   "outputs": [],
   "source": [
    "goal_pose.position.x=pose[0]\n",
    "goal_pose.position.y=pose[1]\n",
    "goal_pose.position.z=pose[2]"
   ]
  },
  {
   "cell_type": "code",
   "execution_count": null,
   "id": "76bfdd75",
   "metadata": {},
   "outputs": [],
   "source": [
    "pose,goal_pose"
   ]
  },
  {
   "cell_type": "code",
   "execution_count": null,
   "id": "e1bfc047",
   "metadata": {},
   "outputs": [],
   "source": [
    "whole_body.get_current_pose()"
   ]
  },
  {
   "cell_type": "code",
   "execution_count": null,
   "id": "0a55f889",
   "metadata": {},
   "outputs": [],
   "source": [
    "wb=whole_body.get_current_joint_values()"
   ]
  },
  {
   "cell_type": "code",
   "execution_count": null,
   "id": "0852d4fb",
   "metadata": {},
   "outputs": [],
   "source": [
    "wb[4]=0.1"
   ]
  },
  {
   "cell_type": "code",
   "execution_count": null,
   "id": "2ebde50f",
   "metadata": {},
   "outputs": [],
   "source": [
    "whole_body.go(wb)"
   ]
  },
  {
   "cell_type": "code",
   "execution_count": null,
   "id": "58799474",
   "metadata": {},
   "outputs": [],
   "source": [
    "pose=whole_body.get_current_pose()"
   ]
  },
  {
   "cell_type": "code",
   "execution_count": null,
   "id": "3c2220e1",
   "metadata": {},
   "outputs": [],
   "source": [
    "type(pose.pose.orientation)"
   ]
  },
  {
   "cell_type": "code",
   "execution_count": null,
   "id": "fc307530",
   "metadata": {},
   "outputs": [],
   "source": [
    "tf.transformations.euler_from_quaternion((pose.pose.orientation.w,pose.pose.orientation.x,pose.pose.orientation.y,pose.pose.orientation.z))"
   ]
  },
  {
   "cell_type": "code",
   "execution_count": null,
   "id": "4ee0d547",
   "metadata": {},
   "outputs": [],
   "source": [
    "tf.transformations.euler_from_quaternion((pose.pose.orientation.w,pose.pose.orientation.x,pose.pose.orientation.y,pose.pose.orientation.z))"
   ]
  },
  {
   "cell_type": "code",
   "execution_count": null,
   "id": "17d1dea8",
   "metadata": {},
   "outputs": [],
   "source": [
    "gp=whole_body.get_current_pose()"
   ]
  },
  {
   "cell_type": "code",
   "execution_count": null,
   "id": "b88885bc",
   "metadata": {},
   "outputs": [],
   "source": [
    "\n",
    "gp.pose.orientation\n",
    "pose=gp\n",
    "eu=tf.transformations.euler_from_quaternion((pose.pose.orientation.w,pose.pose.orientation.x,pose.pose.orientation.y,pose.pose.orientation.z))\n",
    "#eu[1]=0\n",
    "quat=tf.transformations.quaternion_from_euler(eu[0],eu[1],eu[2])"
   ]
  },
  {
   "cell_type": "code",
   "execution_count": null,
   "id": "b3524ff3",
   "metadata": {},
   "outputs": [],
   "source": [
    "eu=tf.transformations.euler_from_quaternion((pose.pose.orientation.w,pose.pose.orientation.x,pose.pose.orientation.y,pose.pose.orientation.z))"
   ]
  },
  {
   "cell_type": "code",
   "execution_count": null,
   "id": "f1848d06",
   "metadata": {},
   "outputs": [],
   "source": [
    "tfBuffer.lookup_transform('hand_palm_link','New:static_Target',rospy.Time(0))"
   ]
  },
  {
   "cell_type": "code",
   "execution_count": null,
   "id": "6aa7e7eb",
   "metadata": {},
   "outputs": [],
   "source": [
    "#eu[1]=0\n",
    "quat=tf.transformations.quaternion_from_euler(eu[0],eu[1],eu[2])\n",
    "rot_quat=tf.transformations.quaternion_from_euler(0,0.5*np.pi,0.0)"
   ]
  },
  {
   "cell_type": "code",
   "execution_count": null,
   "id": "fcf78b24",
   "metadata": {},
   "outputs": [],
   "source": [
    "wb_gp=whole_body.get_current_pose()"
   ]
  },
  {
   "cell_type": "code",
   "execution_count": null,
   "id": "803cc0d5",
   "metadata": {},
   "outputs": [],
   "source": [
    "eu=tf.transformations.euler_from_quaternion((wb_gp.pose.orientation.w,wb_gp.pose.orientation.x,wb_gp.pose.orientation.y,wb_gp.pose.orientation.z))\n",
    "quat=tf.transformations.quaternion_from_euler(eu[0],eu[1],eu[2])\n",
    "rot_quat=tf.transformations.quaternion_from_euler(0,0.5*np.pi,0.0)\n",
    "rotated=tf.transformations.quaternion_multiply(quat,rot_quat)\n",
    "\n"
   ]
  },
  {
   "cell_type": "code",
   "execution_count": null,
   "id": "af1f1c10",
   "metadata": {},
   "outputs": [],
   "source": [
    "wb_gp.pose.position.x-=0.1\n",
    "wb_gp.pose.position.y+=0.1\n",
    "wb_gp.pose.position.z-=0.1\n"
   ]
  },
  {
   "cell_type": "code",
   "execution_count": null,
   "id": "e7060254",
   "metadata": {},
   "outputs": [],
   "source": [
    "wb_gp.pose.orientation.w=rotated[0]\n",
    "wb_gp.pose.orientation.x=rotated[1]\n",
    "wb_gp.pose.orientation.y=rotated[2]\n",
    "wb_gp.pose.orientation.z=rotated[3]"
   ]
  },
  {
   "cell_type": "code",
   "execution_count": null,
   "id": "cfff6feb",
   "metadata": {},
   "outputs": [],
   "source": [
    "whole_body.set_pose_target(wb_gp)"
   ]
  },
  {
   "cell_type": "code",
   "execution_count": null,
   "id": "46b260e6",
   "metadata": {},
   "outputs": [],
   "source": [
    "\n",
    "plan=whole_body.plan()\n",
    "plan"
   ]
  },
  {
   "cell_type": "code",
   "execution_count": null,
   "id": "d13e0540",
   "metadata": {},
   "outputs": [],
   "source": [
    "if plan[0]:\n",
    "    whole_body.go()"
   ]
  },
  {
   "cell_type": "code",
   "execution_count": null,
   "id": "56da32e8",
   "metadata": {},
   "outputs": [],
   "source": [
    "whole_body.go()"
   ]
  },
  {
   "cell_type": "code",
   "execution_count": null,
   "id": "1cafe338",
   "metadata": {},
   "outputs": [],
   "source": [
    "arm_grasp_from_above = [0.19263830140116414, -2.2668981568652917, -0.007358947463759424, -0.9939144210462025, -0.17365421548386273, 0.0]\n",
    "wb_v=whole_body.get_current_joint_values()\n",
    "wb_v[3:]=arm_grasp_from_above\n",
    "succ = whole_body.go(wb_v)"
   ]
  },
  {
   "cell_type": "code",
   "execution_count": null,
   "id": "f6961dec",
   "metadata": {},
   "outputs": [],
   "source": [
    "\n",
    "t=tfBuffer.lookup_transform('New:static_Target','hand_palm_link',rospy.Time(0))\n",
    "pose , quat =  read_tf(t)\n",
    "pose,quat\n",
    "np.save('above_quat.npy',quat)"
   ]
  },
  {
   "cell_type": "code",
   "execution_count": null,
   "id": "f7b19101",
   "metadata": {},
   "outputs": [],
   "source": [
    "t=tfBuffer.lookup_transform('map','Target',rospy.Time(0))\n",
    "pose , quat =  read_tf(t)\n",
    "pose,quat"
   ]
  },
  {
   "cell_type": "code",
   "execution_count": null,
   "id": "97b4222e",
   "metadata": {},
   "outputs": [],
   "source": [
    "wb_gp=whole_body.get_current_pose()\n",
    "wb_gp.pose.position.x= pose[0]\n",
    "wb_gp.pose.position.y= pose[1]\n",
    "wb_gp.pose.position.z= pose[2]+0.2\n"
   ]
  },
  {
   "cell_type": "code",
   "execution_count": null,
   "id": "5f99d418",
   "metadata": {},
   "outputs": [],
   "source": [
    "whole_body.set_pose_target(wb_gp)\n",
    "plan=whole_body.plan()\n",
    "plan"
   ]
  },
  {
   "cell_type": "code",
   "execution_count": null,
   "id": "b1e041bf",
   "metadata": {},
   "outputs": [],
   "source": [
    "\n",
    "whole_body.go()"
   ]
  },
  {
   "cell_type": "code",
   "execution_count": null,
   "id": "ba658ddb",
   "metadata": {},
   "outputs": [],
   "source": [
    "wb_v=whole_body.get_current_joint_values()\n"
   ]
  },
  {
   "cell_type": "code",
   "execution_count": null,
   "id": "ebe3812e",
   "metadata": {},
   "outputs": [],
   "source": [
    "gripper = GRIPPER()"
   ]
  },
  {
   "cell_type": "code",
   "execution_count": null,
   "id": "b5a3ad2a",
   "metadata": {},
   "outputs": [],
   "source": [
    "gripper.close()"
   ]
  },
  {
   "cell_type": "code",
   "execution_count": null,
   "id": "c7e05102",
   "metadata": {},
   "outputs": [],
   "source": [
    "gripper =  moveit_commander.MoveGroupCommander('gripper')"
   ]
  },
  {
   "cell_type": "code",
   "execution_count": null,
   "id": "7bac164b",
   "metadata": {},
   "outputs": [],
   "source": [
    "\n",
    "|\n",
    "tf_man.pub_static_tf()"
   ]
  },
  {
   "cell_type": "code",
   "execution_count": null,
   "id": "261eed62",
   "metadata": {},
   "outputs": [],
   "source": []
  },
  {
   "cell_type": "code",
   "execution_count": null,
   "id": "69c7bc1d",
   "metadata": {},
   "outputs": [],
   "source": []
  },
  {
   "cell_type": "code",
   "execution_count": null,
   "id": "8fe6fd57",
   "metadata": {},
   "outputs": [],
   "source": []
  },
  {
   "cell_type": "code",
   "execution_count": null,
   "id": "187b56b6",
   "metadata": {},
   "outputs": [],
   "source": []
  },
  {
   "cell_type": "code",
   "execution_count": null,
   "id": "eb12f985",
   "metadata": {},
   "outputs": [],
   "source": [
    "head.set_joint_values([0.0, -0.77])\n"
   ]
  },
  {
   "cell_type": "code",
   "execution_count": null,
   "id": "d80dd175",
   "metadata": {},
   "outputs": [],
   "source": [
    "print ('rdy')"
   ]
  },
  {
   "cell_type": "code",
   "execution_count": null,
   "id": "830b7456",
   "metadata": {},
   "outputs": [],
   "source": [
    "brazo.set_named_target('go')\n",
    "head.set_joint_values([0.0, -0.77])\n",
    "res=segmentation_server.call()\n",
    "if len(res.poses.data)==0: print( 'failed')\n",
    "else:\n",
    "\n",
    "    poses=np.asarray(res.poses.data)\n",
    "    poses=poses.reshape((int(len(poses)/3) ,3     )      )  \n",
    "\n",
    "\n",
    "\n",
    "\n",
    "\n",
    "    tf_man.pub_static_tf(pos=poses[0,:], point_name='target', ref='head_rgbd_sensor_rgb_frame')## which object to choose   #TODO\n",
    "    rospy.sleep(0.3)\n",
    "    tf_man.change_ref_frame_tf(point_name='target', new_frame='map')\n",
    "    rospy.sleep(0.3)\n",
    "    pose, _ =tf_man.getTF('target')\n",
    "    tf_man.pub_static_tf(pos=pose, point_name='Target')## which object to choose   #TODO\n",
    "\n",
    "\n",
    "    head.set_named_target('neutral')"
   ]
  },
  {
   "cell_type": "code",
   "execution_count": null,
   "id": "e2f330e0",
   "metadata": {},
   "outputs": [],
   "source": [
    "poses=np.asarray(res.poses.data)\n",
    "poses=poses.reshape((int(len(poses)/3) ,3     )      )  \n",
    "\n",
    "\n",
    "\n",
    "\n",
    "\n",
    "tf_man.pub_static_tf(pos=poses[0,:], point_name='target', ref='head_rgbd_sensor_rgb_frame')## which object to choose   #TODO"
   ]
  },
  {
   "cell_type": "code",
   "execution_count": null,
   "id": "e4642063",
   "metadata": {},
   "outputs": [],
   "source": [
    "tf_man.change_ref_frame_tf(point_name='target', new_frame='map')\n"
   ]
  },
  {
   "cell_type": "code",
   "execution_count": null,
   "id": "23eb4bf8",
   "metadata": {},
   "outputs": [],
   "source": [
    "pose, _ =tf_man.getTF('target')\n",
    "tf_man.pub_static_tf(pos=pose, point_name='Target')## which object to choose   #TODO\n"
   ]
  },
  {
   "cell_type": "code",
   "execution_count": null,
   "id": "791abb92",
   "metadata": {},
   "outputs": [],
   "source": [
    "head.set_named_target('neutral')"
   ]
  },
  {
   "cell_type": "code",
   "execution_count": null,
   "id": "448d5ca0",
   "metadata": {},
   "outputs": [],
   "source": [
    " clear_octo_client()\n",
    "#############################10 * 2 *np.pi / 360 ####pi /2\n",
    "arm_grasp_from_above = [0.2, -1.57, -0.13 , -1.57, 0.0, 0.0]\n",
    "wb_v=whole_body.get_current_joint_values()\n",
    "wb_v[3:]=arm_grasp_from_above\n",
    "succ = whole_body.go(wb_v)   "
   ]
  },
  {
   "cell_type": "code",
   "execution_count": null,
   "id": "85cdf627",
   "metadata": {},
   "outputs": [],
   "source": [
    "clear_octo_client()\n",
    "pose, quat=tf_man.getTF('Target')\n",
    "\n",
    "wb_gp=whole_body.get_current_pose()\n",
    "wb_gp.pose.position.x= pose[0]\n",
    "wb_gp.pose.position.y= pose[1]\n",
    "wb_gp.pose.position.z= pose[2]+0.2\n",
    "\n",
    "whole_body.set_pose_target(wb_gp)\n",
    "plan=whole_body.plan()"
   ]
  },
  {
   "cell_type": "code",
   "execution_count": 5,
   "id": "422d4c93",
   "metadata": {},
   "outputs": [
    {
     "data": {
      "text/plain": [
       "False"
      ]
     },
     "execution_count": 5,
     "metadata": {},
     "output_type": "execute_result"
    },
    {
     "name": "stderr",
     "output_type": "stream",
     "text": [
      "\u001b[33m[ WARN] [1683850128.534578537, 939.081000000]: TF_REPEATED_DATA ignoring data with redundant timestamp for frame odom at time 939.108000 according to authority unknown_publisher\u001b[0m\n",
      "\u001b[33m[ WARN] [1683850128.536299704, 939.081000000]: TF_REPEATED_DATA ignoring data with redundant timestamp for frame odom at time 939.108000 according to authority /pose_integrator\u001b[0m\n",
      "\u001b[33m[ WARN] [1683850128.536378567, 939.081000000]: TF_REPEATED_DATA ignoring data with redundant timestamp for frame odom at time 939.108000 according to authority /pose_integrator\u001b[0m\n",
      "\u001b[33m[ WARN] [1683850128.536443377, 939.081000000]: TF_REPEATED_DATA ignoring data with redundant timestamp for frame odom at time 939.108000 according to authority /pose_integrator\u001b[0m\n",
      "\u001b[33m[ WARN] [1683850128.536483425, 939.081000000]: TF_REPEATED_DATA ignoring data with redundant timestamp for frame odom at time 939.108000 according to authority /pose_integrator\u001b[0m\n",
      "\u001b[33m[ WARN] [1683850128.536527903, 939.081000000]: TF_REPEATED_DATA ignoring data with redundant timestamp for frame odom at time 939.108000 according to authority /pose_integrator\u001b[0m\n",
      "\u001b[33m[ WARN] [1683850128.536584177, 939.081000000]: TF_REPEATED_DATA ignoring data with redundant timestamp for frame odom at time 939.108000 according to authority /pose_integrator\u001b[0m\n"
     ]
    }
   ],
   "source": [
    "pos,rot=tf_man.getTF(target_frame=,ref)\n",
    "pos"
   ]
  },
  {
   "cell_type": "code",
   "execution_count": 1,
   "id": "a011d956",
   "metadata": {},
   "outputs": [
    {
     "name": "stderr",
     "output_type": "stream",
     "text": [
      "\u001b[33m[ WARN] [1683850054.652177057]: Link hand_l_finger_vacuum_frame has visual geometry but no collision geometry. Collision geometry will be left empty. Fix your URDF file by explicitly specifying collision geometry.\u001b[0m\n",
      "\u001b[33m[ WARN] [1683850054.667738475]: Link head_l_stereo_camera_link has visual geometry but no collision geometry. Collision geometry will be left empty. Fix your URDF file by explicitly specifying collision geometry.\u001b[0m\n",
      "\u001b[33m[ WARN] [1683850054.667817523]: Link head_r_stereo_camera_link has visual geometry but no collision geometry. Collision geometry will be left empty. Fix your URDF file by explicitly specifying collision geometry.\u001b[0m\n",
      "\u001b[33m[ WARN] [1683850054.670480183]: Group state 'neutral' doesn't specify all group joints in group 'arm'. wrist_ft_sensor_frame_joint is missing.\u001b[0m\n",
      "\u001b[33m[ WARN] [1683850054.670841728]: Group state 'go' doesn't specify all group joints in group 'arm'. wrist_ft_sensor_frame_joint is missing.\u001b[0m\n",
      "\u001b[33m[ WARN] [1683850054.853611500]: Kinematics solver doesn't support #attempts anymore, but only a timeout.\n",
      "Please remove the parameter '/robot_description_kinematics/arm/kinematics_solver_attempts' from your configuration.\u001b[0m\n",
      "\u001b[33m[ WARN] [1683850054.911636510, 906.095000000]: IK plugin for group 'whole_body' relies on deprecated API. Please implement initialize(RobotModel, ...).\u001b[0m\n",
      "\u001b[33m[ WARN] [1683850054.924308530, 906.096000000]: IK plugin for group 'whole_body_weighted' relies on deprecated API. Please implement initialize(RobotModel, ...).\u001b[0m\n",
      "\u001b[33m[ WARN] [1683850054.935786643, 906.096000000]: IK plugin for group 'whole_body_light' relies on deprecated API. Please implement initialize(RobotModel, ...).\u001b[0m\n",
      "\u001b[33m[ WARN] [1683850058.005968176, 907.472000000]: TF_REPEATED_DATA ignoring data with redundant timestamp for frame odom at time 907.472000 according to authority unknown_publisher\u001b[0m\n",
      "\u001b[33m[ WARN] [1683850063.805746827, 910.006000000]: TF_REPEATED_DATA ignoring data with redundant timestamp for frame odom at time 910.042000 according to authority unknown_publisher\u001b[0m\n"
     ]
    }
   ],
   "source": [
    "from smach_utils2 import *"
   ]
  },
  {
   "cell_type": "code",
   "execution_count": 1,
   "id": "f384254d",
   "metadata": {},
   "outputs": [
    {
     "name": "stderr",
     "output_type": "stream",
     "text": [
      "\u001b[33m[ WARN] [1683852101.287450327]: Link hand_l_finger_vacuum_frame has visual geometry but no collision geometry. Collision geometry will be left empty. Fix your URDF file by explicitly specifying collision geometry.\u001b[0m\n",
      "\u001b[33m[ WARN] [1683852101.292088975]: Link head_l_stereo_camera_link has visual geometry but no collision geometry. Collision geometry will be left empty. Fix your URDF file by explicitly specifying collision geometry.\u001b[0m\n",
      "\u001b[33m[ WARN] [1683852101.292150409]: Link head_r_stereo_camera_link has visual geometry but no collision geometry. Collision geometry will be left empty. Fix your URDF file by explicitly specifying collision geometry.\u001b[0m\n",
      "\u001b[33m[ WARN] [1683852101.293313113]: Group state 'neutral' doesn't specify all group joints in group 'arm'. wrist_ft_sensor_frame_joint is missing.\u001b[0m\n",
      "\u001b[33m[ WARN] [1683852101.293372339]: Group state 'go' doesn't specify all group joints in group 'arm'. wrist_ft_sensor_frame_joint is missing.\u001b[0m\n",
      "\u001b[33m[ WARN] [1683852101.447496782, 507.423000000]: Kinematics solver doesn't support #attempts anymore, but only a timeout.\n",
      "Please remove the parameter '/robot_description_kinematics/arm/kinematics_solver_attempts' from your configuration.\u001b[0m\n",
      "\u001b[33m[ WARN] [1683852101.503151274, 507.442000000]: IK plugin for group 'whole_body' relies on deprecated API. Please implement initialize(RobotModel, ...).\u001b[0m\n",
      "\u001b[33m[ WARN] [1683852101.515427030, 507.444000000]: IK plugin for group 'whole_body_weighted' relies on deprecated API. Please implement initialize(RobotModel, ...).\u001b[0m\n",
      "\u001b[33m[ WARN] [1683852101.527236773, 507.449000000]: IK plugin for group 'whole_body_light' relies on deprecated API. Please implement initialize(RobotModel, ...).\u001b[0m\n"
     ]
    }
   ],
   "source": [
    "from smach_utils2 import *\n"
   ]
  },
  {
   "cell_type": "code",
   "execution_count": 4,
   "id": "7f9036ef",
   "metadata": {},
   "outputs": [
    {
     "name": "stderr",
     "output_type": "stream",
     "text": [
      "\u001b[33m[ WARN] [1683852401.137177061, 638.754000000]: TF_REPEATED_DATA ignoring data with redundant timestamp for frame odom at time 638.781000 according to authority unknown_publisher\u001b[0m\n",
      "\u001b[33m[ WARN] [1683852401.137350706, 638.754000000]: TF_REPEATED_DATA ignoring data with redundant timestamp for frame odom at time 638.781000 according to authority /pose_integrator\u001b[0m\n",
      "\u001b[33m[ WARN] [1683852401.137414483, 638.754000000]: TF_REPEATED_DATA ignoring data with redundant timestamp for frame odom at time 638.781000 according to authority /pose_integrator\u001b[0m\n",
      "\u001b[33m[ WARN] [1683852401.137465173, 638.754000000]: TF_REPEATED_DATA ignoring data with redundant timestamp for frame odom at time 638.781000 according to authority /pose_integrator\u001b[0m\n",
      "\u001b[33m[ WARN] [1683852401.137512084, 638.754000000]: TF_REPEATED_DATA ignoring data with redundant timestamp for frame odom at time 638.781000 according to authority /pose_integrator\u001b[0m\n",
      "\u001b[33m[ WARN] [1683852401.137559074, 638.754000000]: TF_REPEATED_DATA ignoring data with redundant timestamp for frame odom at time 638.781000 according to authority /pose_integrator\u001b[0m\n",
      "\u001b[33m[ WARN] [1683852401.137618835, 638.754000000]: TF_REPEATED_DATA ignoring data with redundant timestamp for frame odom at time 638.781000 according to authority /pose_integrator\u001b[0m\n",
      "\u001b[33m[ WARN] [1683852411.225492341, 643.153000000]: TF_REPEATED_DATA ignoring data with redundant timestamp for frame odom at time 643.174000 according to authority unknown_publisher\u001b[0m\n",
      "\u001b[33m[ WARN] [1683852411.226395866, 643.153000000]: TF_REPEATED_DATA ignoring data with redundant timestamp for frame odom at time 643.174000 according to authority /pose_integrator\u001b[0m\n",
      "\u001b[33m[ WARN] [1683852411.226455746, 643.153000000]: TF_REPEATED_DATA ignoring data with redundant timestamp for frame odom at time 643.174000 according to authority /pose_integrator\u001b[0m\n",
      "\u001b[33m[ WARN] [1683852411.226496962, 643.153000000]: TF_REPEATED_DATA ignoring data with redundant timestamp for frame odom at time 643.174000 according to authority /pose_integrator\u001b[0m\n",
      "\u001b[33m[ WARN] [1683852411.226531573, 643.153000000]: TF_REPEATED_DATA ignoring data with redundant timestamp for frame odom at time 643.174000 according to authority /pose_integrator\u001b[0m\n",
      "\u001b[33m[ WARN] [1683852411.226569600, 643.153000000]: TF_REPEATED_DATA ignoring data with redundant timestamp for frame odom at time 643.174000 according to authority /pose_integrator\u001b[0m\n",
      "\u001b[33m[ WARN] [1683852411.226602331, 643.153000000]: TF_REPEATED_DATA ignoring data with redundant timestamp for frame odom at time 643.174000 according to authority /pose_integrator\u001b[0m\n",
      "\u001b[33m[ WARN] [1683852411.953314377, 643.469000000]: TF_REPEATED_DATA ignoring data with redundant timestamp for frame odom at time 643.513000 according to authority unknown_publisher\u001b[0m\n",
      "\u001b[33m[ WARN] [1683852411.954025557, 643.469000000]: TF_REPEATED_DATA ignoring data with redundant timestamp for frame odom at time 643.513000 according to authority /pose_integrator\u001b[0m\n",
      "\u001b[33m[ WARN] [1683852411.954107757, 643.469000000]: TF_REPEATED_DATA ignoring data with redundant timestamp for frame odom at time 643.513000 according to authority /pose_integrator\u001b[0m\n",
      "\u001b[33m[ WARN] [1683852411.954178756, 643.469000000]: TF_REPEATED_DATA ignoring data with redundant timestamp for frame odom at time 643.513000 according to authority /pose_integrator\u001b[0m\n",
      "\u001b[33m[ WARN] [1683852411.954244932, 643.469000000]: TF_REPEATED_DATA ignoring data with redundant timestamp for frame odom at time 643.513000 according to authority /pose_integrator\u001b[0m\n",
      "\u001b[33m[ WARN] [1683852411.954307680, 643.469000000]: TF_REPEATED_DATA ignoring data with redundant timestamp for frame odom at time 643.513000 according to authority /pose_integrator\u001b[0m\n",
      "\u001b[33m[ WARN] [1683852411.954369628, 643.469000000]: TF_REPEATED_DATA ignoring data with redundant timestamp for frame odom at time 643.513000 according to authority /pose_integrator\u001b[0m\n",
      "\u001b[33m[ WARN] [1683852415.306931592, 645.027000000]: TF_REPEATED_DATA ignoring data with redundant timestamp for frame odom at time 645.076000 according to authority unknown_publisher\u001b[0m\n",
      "\u001b[33m[ WARN] [1683852415.307639477, 645.027000000]: TF_REPEATED_DATA ignoring data with redundant timestamp for frame odom at time 645.076000 according to authority /pose_integrator\u001b[0m\n",
      "\u001b[33m[ WARN] [1683852415.307693293, 645.027000000]: TF_REPEATED_DATA ignoring data with redundant timestamp for frame odom at time 645.076000 according to authority /pose_integrator\u001b[0m\n",
      "\u001b[33m[ WARN] [1683852415.307736980, 645.027000000]: TF_REPEATED_DATA ignoring data with redundant timestamp for frame odom at time 645.076000 according to authority /pose_integrator\u001b[0m\n",
      "\u001b[33m[ WARN] [1683852415.307775047, 645.027000000]: TF_REPEATED_DATA ignoring data with redundant timestamp for frame odom at time 645.076000 according to authority /pose_integrator\u001b[0m\n",
      "\u001b[33m[ WARN] [1683852415.307806243, 645.027000000]: TF_REPEATED_DATA ignoring data with redundant timestamp for frame odom at time 645.076000 according to authority /pose_integrator\u001b[0m\n",
      "\u001b[33m[ WARN] [1683852415.307835572, 645.027000000]: TF_REPEATED_DATA ignoring data with redundant timestamp for frame odom at time 645.076000 according to authority /pose_integrator\u001b[0m\n",
      "\u001b[33m[ WARN] [1683852415.565791996, 645.177000000]: TF_REPEATED_DATA ignoring data with redundant timestamp for frame odom at time 645.203000 according to authority unknown_publisher\u001b[0m\n",
      "\u001b[33m[ WARN] [1683852415.566077743, 645.177000000]: TF_REPEATED_DATA ignoring data with redundant timestamp for frame odom at time 645.203000 according to authority /pose_integrator\u001b[0m\n",
      "\u001b[33m[ WARN] [1683852415.566141058, 645.177000000]: TF_REPEATED_DATA ignoring data with redundant timestamp for frame odom at time 645.203000 according to authority /pose_integrator\u001b[0m\n",
      "\u001b[33m[ WARN] [1683852415.566191886, 645.177000000]: TF_REPEATED_DATA ignoring data with redundant timestamp for frame odom at time 645.203000 according to authority /pose_integrator\u001b[0m\n",
      "\u001b[33m[ WARN] [1683852415.566247871, 645.177000000]: TF_REPEATED_DATA ignoring data with redundant timestamp for frame odom at time 645.203000 according to authority /pose_integrator\u001b[0m\n",
      "\u001b[33m[ WARN] [1683852415.566307867, 645.177000000]: TF_REPEATED_DATA ignoring data with redundant timestamp for frame odom at time 645.203000 according to authority /pose_integrator\u001b[0m\n",
      "\u001b[33m[ WARN] [1683852415.566365948, 645.177000000]: TF_REPEATED_DATA ignoring data with redundant timestamp for frame odom at time 645.203000 according to authority /pose_integrator\u001b[0m\n",
      "\u001b[33m[ WARN] [1683852419.398635127, 646.914000000]: TF_REPEATED_DATA ignoring data with redundant timestamp for frame odom at time 646.938000 according to authority /pose_integrator\u001b[0m\n",
      "\u001b[33m[ WARN] [1683852419.398708404, 646.914000000]: TF_REPEATED_DATA ignoring data with redundant timestamp for frame odom at time 646.938000 according to authority /pose_integrator\u001b[0m\n",
      "\u001b[33m[ WARN] [1683852419.398769305, 646.914000000]: TF_REPEATED_DATA ignoring data with redundant timestamp for frame odom at time 646.938000 according to authority /pose_integrator\u001b[0m\n",
      "\u001b[33m[ WARN] [1683852419.398817834, 646.914000000]: TF_REPEATED_DATA ignoring data with redundant timestamp for frame odom at time 646.938000 according to authority /pose_integrator\u001b[0m\n",
      "\u001b[33m[ WARN] [1683852419.398866192, 646.914000000]: TF_REPEATED_DATA ignoring data with redundant timestamp for frame odom at time 646.938000 according to authority /pose_integrator\u001b[0m\n",
      "\u001b[33m[ WARN] [1683852419.398910785, 646.914000000]: TF_REPEATED_DATA ignoring data with redundant timestamp for frame odom at time 646.938000 according to authority /pose_integrator\u001b[0m\n",
      "\u001b[33m[ WARN] [1683852419.399157026, 646.914000000]: TF_REPEATED_DATA ignoring data with redundant timestamp for frame odom at time 646.938000 according to authority unknown_publisher\u001b[0m\n",
      "\u001b[33m[ WARN] [1683852432.375571731, 652.613000000]: TF_REPEATED_DATA ignoring data with redundant timestamp for frame odom at time 652.636000 according to authority /pose_integrator\u001b[0m\n",
      "\u001b[33m[ WARN] [1683852432.375658359, 652.613000000]: TF_REPEATED_DATA ignoring data with redundant timestamp for frame odom at time 652.636000 according to authority /pose_integrator\u001b[0m\n",
      "\u001b[33m[ WARN] [1683852432.375709678, 652.613000000]: TF_REPEATED_DATA ignoring data with redundant timestamp for frame odom at time 652.636000 according to authority /pose_integrator\u001b[0m\n",
      "\u001b[33m[ WARN] [1683852432.375752564, 652.613000000]: TF_REPEATED_DATA ignoring data with redundant timestamp for frame odom at time 652.636000 according to authority /pose_integrator\u001b[0m\n",
      "\u001b[33m[ WARN] [1683852432.375813402, 652.613000000]: TF_REPEATED_DATA ignoring data with redundant timestamp for frame odom at time 652.636000 according to authority /pose_integrator\u001b[0m\n",
      "\u001b[33m[ WARN] [1683852432.375863298, 652.613000000]: TF_REPEATED_DATA ignoring data with redundant timestamp for frame odom at time 652.636000 according to authority /pose_integrator\u001b[0m\n",
      "\u001b[33m[ WARN] [1683852432.376705473, 652.613000000]: TF_REPEATED_DATA ignoring data with redundant timestamp for frame odom at time 652.636000 according to authority unknown_publisher\u001b[0m\n"
     ]
    },
    {
     "name": "stderr",
     "output_type": "stream",
     "text": [
      "\u001b[33m[ WARN] [1683852433.287461808, 653.102000000]: TF_REPEATED_DATA ignoring data with redundant timestamp for frame odom at time 653.102000 according to authority unknown_publisher\u001b[0m\n",
      "\u001b[33m[ WARN] [1683852433.288070675, 653.102000000]: TF_REPEATED_DATA ignoring data with redundant timestamp for frame odom at time 653.102000 according to authority /pose_integrator\u001b[0m\n",
      "\u001b[33m[ WARN] [1683852433.288143482, 653.102000000]: TF_REPEATED_DATA ignoring data with redundant timestamp for frame odom at time 653.102000 according to authority /pose_integrator\u001b[0m\n",
      "\u001b[33m[ WARN] [1683852433.288198191, 653.102000000]: TF_REPEATED_DATA ignoring data with redundant timestamp for frame odom at time 653.102000 according to authority /pose_integrator\u001b[0m\n",
      "\u001b[33m[ WARN] [1683852433.288243626, 653.102000000]: TF_REPEATED_DATA ignoring data with redundant timestamp for frame odom at time 653.102000 according to authority /pose_integrator\u001b[0m\n",
      "\u001b[33m[ WARN] [1683852433.288291965, 653.102000000]: TF_REPEATED_DATA ignoring data with redundant timestamp for frame odom at time 653.102000 according to authority /pose_integrator\u001b[0m\n",
      "\u001b[33m[ WARN] [1683852433.288340467, 653.102000000]: TF_REPEATED_DATA ignoring data with redundant timestamp for frame odom at time 653.102000 according to authority /pose_integrator\u001b[0m\n",
      "\u001b[33m[ WARN] [1683852443.910978091, 657.784000000]: TF_REPEATED_DATA ignoring data with redundant timestamp for frame odom at time 657.810000 according to authority /pose_integrator\u001b[0m\n",
      "\u001b[33m[ WARN] [1683852443.911051262, 657.784000000]: TF_REPEATED_DATA ignoring data with redundant timestamp for frame odom at time 657.810000 according to authority /pose_integrator\u001b[0m\n",
      "\u001b[33m[ WARN] [1683852443.911124835, 657.784000000]: TF_REPEATED_DATA ignoring data with redundant timestamp for frame odom at time 657.810000 according to authority /pose_integrator\u001b[0m\n",
      "\u001b[33m[ WARN] [1683852443.911176535, 657.784000000]: TF_REPEATED_DATA ignoring data with redundant timestamp for frame odom at time 657.810000 according to authority /pose_integrator\u001b[0m\n",
      "\u001b[33m[ WARN] [1683852443.911228258, 657.784000000]: TF_REPEATED_DATA ignoring data with redundant timestamp for frame odom at time 657.810000 according to authority /pose_integrator\u001b[0m\n",
      "\u001b[33m[ WARN] [1683852443.911280795, 657.784000000]: TF_REPEATED_DATA ignoring data with redundant timestamp for frame odom at time 657.810000 according to authority /pose_integrator\u001b[0m\n",
      "\u001b[33m[ WARN] [1683852443.911631584, 657.784000000]: TF_REPEATED_DATA ignoring data with redundant timestamp for frame odom at time 657.810000 according to authority unknown_publisher\u001b[0m\n",
      "\u001b[33m[ WARN] [1683852456.544249768, 663.280000000]: TF_REPEATED_DATA ignoring data with redundant timestamp for frame odom at time 663.305000 according to authority unknown_publisher\u001b[0m\n",
      "\u001b[33m[ WARN] [1683852456.553792879, 663.305000000]: TF_REPEATED_DATA ignoring data with redundant timestamp for frame odom at time 663.305000 according to authority /pose_integrator\u001b[0m\n",
      "\u001b[33m[ WARN] [1683852456.553873645, 663.305000000]: TF_REPEATED_DATA ignoring data with redundant timestamp for frame odom at time 663.305000 according to authority /pose_integrator\u001b[0m\n",
      "\u001b[33m[ WARN] [1683852456.553917391, 663.305000000]: TF_REPEATED_DATA ignoring data with redundant timestamp for frame odom at time 663.305000 according to authority /pose_integrator\u001b[0m\n",
      "\u001b[33m[ WARN] [1683852456.553950396, 663.305000000]: TF_REPEATED_DATA ignoring data with redundant timestamp for frame odom at time 663.305000 according to authority /pose_integrator\u001b[0m\n",
      "\u001b[33m[ WARN] [1683852456.553982080, 663.305000000]: TF_REPEATED_DATA ignoring data with redundant timestamp for frame odom at time 663.305000 according to authority /pose_integrator\u001b[0m\n",
      "\u001b[33m[ WARN] [1683852456.554013715, 663.305000000]: TF_REPEATED_DATA ignoring data with redundant timestamp for frame odom at time 663.305000 according to authority /pose_integrator\u001b[0m\n",
      "\u001b[33m[ WARN] [1683852468.011286829, 668.256000000]: TF_REPEATED_DATA ignoring data with redundant timestamp for frame odom at time 668.283000 according to authority /pose_integrator\u001b[0m\n",
      "\u001b[33m[ WARN] [1683852468.011354777, 668.256000000]: TF_REPEATED_DATA ignoring data with redundant timestamp for frame odom at time 668.283000 according to authority /pose_integrator\u001b[0m\n",
      "\u001b[33m[ WARN] [1683852468.011415692, 668.256000000]: TF_REPEATED_DATA ignoring data with redundant timestamp for frame odom at time 668.283000 according to authority /pose_integrator\u001b[0m\n",
      "\u001b[33m[ WARN] [1683852468.011470541, 668.256000000]: TF_REPEATED_DATA ignoring data with redundant timestamp for frame odom at time 668.283000 according to authority /pose_integrator\u001b[0m\n",
      "\u001b[33m[ WARN] [1683852468.011512304, 668.256000000]: TF_REPEATED_DATA ignoring data with redundant timestamp for frame odom at time 668.283000 according to authority /pose_integrator\u001b[0m\n",
      "\u001b[33m[ WARN] [1683852468.011545575, 668.256000000]: TF_REPEATED_DATA ignoring data with redundant timestamp for frame odom at time 668.283000 according to authority /pose_integrator\u001b[0m\n",
      "\u001b[33m[ WARN] [1683852468.012647748, 668.256000000]: TF_REPEATED_DATA ignoring data with redundant timestamp for frame odom at time 668.283000 according to authority unknown_publisher\u001b[0m\n",
      "\u001b[33m[ WARN] [1683852475.084384616, 671.340000000]: TF_REPEATED_DATA ignoring data with redundant timestamp for frame odom at time 671.380000 according to authority unknown_publisher\u001b[0m\n",
      "\u001b[33m[ WARN] [1683852475.087848484, 671.380000000]: TF_REPEATED_DATA ignoring data with redundant timestamp for frame odom at time 671.380000 according to authority /pose_integrator\u001b[0m\n",
      "\u001b[33m[ WARN] [1683852475.087894157, 671.380000000]: TF_REPEATED_DATA ignoring data with redundant timestamp for frame odom at time 671.380000 according to authority /pose_integrator\u001b[0m\n",
      "\u001b[33m[ WARN] [1683852475.087923667, 671.380000000]: TF_REPEATED_DATA ignoring data with redundant timestamp for frame odom at time 671.380000 according to authority /pose_integrator\u001b[0m\n",
      "\u001b[33m[ WARN] [1683852475.087946315, 671.380000000]: TF_REPEATED_DATA ignoring data with redundant timestamp for frame odom at time 671.380000 according to authority /pose_integrator\u001b[0m\n",
      "\u001b[33m[ WARN] [1683852475.087967501, 671.380000000]: TF_REPEATED_DATA ignoring data with redundant timestamp for frame odom at time 671.380000 according to authority /pose_integrator\u001b[0m\n",
      "\u001b[33m[ WARN] [1683852475.087988202, 671.380000000]: TF_REPEATED_DATA ignoring data with redundant timestamp for frame odom at time 671.380000 according to authority /pose_integrator\u001b[0m\n",
      "\u001b[33m[ WARN] [1683852486.829678064, 676.400000000]: TF_REPEATED_DATA ignoring data with redundant timestamp for frame odom at time 676.413000 according to authority unknown_publisher\u001b[0m\n",
      "\u001b[33m[ WARN] [1683852486.830394390, 676.400000000]: TF_REPEATED_DATA ignoring data with redundant timestamp for frame odom at time 676.413000 according to authority /pose_integrator\u001b[0m\n",
      "\u001b[33m[ WARN] [1683852486.830466512, 676.400000000]: TF_REPEATED_DATA ignoring data with redundant timestamp for frame odom at time 676.413000 according to authority /pose_integrator\u001b[0m\n",
      "\u001b[33m[ WARN] [1683852486.830528306, 676.400000000]: TF_REPEATED_DATA ignoring data with redundant timestamp for frame odom at time 676.413000 according to authority /pose_integrator\u001b[0m\n",
      "\u001b[33m[ WARN] [1683852486.830583161, 676.400000000]: TF_REPEATED_DATA ignoring data with redundant timestamp for frame odom at time 676.413000 according to authority /pose_integrator\u001b[0m\n",
      "\u001b[33m[ WARN] [1683852486.830636530, 676.400000000]: TF_REPEATED_DATA ignoring data with redundant timestamp for frame odom at time 676.413000 according to authority /pose_integrator\u001b[0m\n",
      "\u001b[33m[ WARN] [1683852486.830690590, 676.400000000]: TF_REPEATED_DATA ignoring data with redundant timestamp for frame odom at time 676.413000 according to authority /pose_integrator\u001b[0m\n",
      "\u001b[33m[ WARN] [1683852496.374844951, 680.519000000]: TF_REPEATED_DATA ignoring data with redundant timestamp for frame odom at time 680.542000 according to authority /pose_integrator\u001b[0m\n",
      "\u001b[33m[ WARN] [1683852496.374911819, 680.519000000]: TF_REPEATED_DATA ignoring data with redundant timestamp for frame odom at time 680.542000 according to authority /pose_integrator\u001b[0m\n",
      "\u001b[33m[ WARN] [1683852496.374952198, 680.519000000]: TF_REPEATED_DATA ignoring data with redundant timestamp for frame odom at time 680.542000 according to authority /pose_integrator\u001b[0m\n",
      "\u001b[33m[ WARN] [1683852496.374988826, 680.519000000]: TF_REPEATED_DATA ignoring data with redundant timestamp for frame odom at time 680.542000 according to authority /pose_integrator\u001b[0m\n",
      "\u001b[33m[ WARN] [1683852496.375016935, 680.542000000]: TF_REPEATED_DATA ignoring data with redundant timestamp for frame odom at time 680.542000 according to authority /pose_integrator\u001b[0m\n",
      "\u001b[33m[ WARN] [1683852496.375043924, 680.542000000]: TF_REPEATED_DATA ignoring data with redundant timestamp for frame odom at time 680.542000 according to authority /pose_integrator\u001b[0m\n",
      "\u001b[33m[ WARN] [1683852496.375105723, 680.542000000]: TF_REPEATED_DATA ignoring data with redundant timestamp for frame odom at time 680.542000 according to authority unknown_publisher\u001b[0m\n"
     ]
    },
    {
     "name": "stdout",
     "output_type": "stream",
     "text": [
      "shutdown request: [/smach] Reason: new node registered with same name\n"
     ]
    },
    {
     "name": "stderr",
     "output_type": "stream",
     "text": [
      "\u001b[33m[ WARN] [1683852530.406576247, 695.391000000]: TF_REPEATED_DATA ignoring data with redundant timestamp for frame odom at time 695.418000 according to authority unknown_publisher\u001b[0m\n",
      "\u001b[33m[ WARN] [1683852549.441358861, 703.600000000]: TF_REPEATED_DATA ignoring data with redundant timestamp for frame odom at time 703.611000 according to authority unknown_publisher\u001b[0m\n",
      "\u001b[33m[ WARN] [1683852557.563189885, 707.052000000]: TF_REPEATED_DATA ignoring data with redundant timestamp for frame odom at time 707.075000 according to authority unknown_publisher\u001b[0m\n",
      "\u001b[33m[ WARN] [1683852564.450110182, 709.905000000]: TF_REPEATED_DATA ignoring data with redundant timestamp for frame odom at time 709.924000 according to authority unknown_publisher\u001b[0m\n",
      "\u001b[33m[ WARN] [1683852584.040703744, 718.474000000]: TF_REPEATED_DATA ignoring data with redundant timestamp for frame odom at time 718.493000 according to authority unknown_publisher\u001b[0m\n",
      "\u001b[33m[ WARN] [1683852612.766870626, 731.012000000]: TF_REPEATED_DATA ignoring data with redundant timestamp for frame odom at time 731.047000 according to authority unknown_publisher\u001b[0m\n",
      "\u001b[33m[ WARN] [1683852612.955928640, 731.124000000]: TF_REPEATED_DATA ignoring data with redundant timestamp for frame odom at time 731.150000 according to authority unknown_publisher\u001b[0m\n",
      "\u001b[33m[ WARN] [1683852640.754451905, 743.082000000]: TF_REPEATED_DATA ignoring data with redundant timestamp for frame odom at time 743.104000 according to authority unknown_publisher\u001b[0m\n",
      "\u001b[33m[ WARN] [1683852644.966936131, 745.039000000]: TF_REPEATED_DATA ignoring data with redundant timestamp for frame odom at time 745.039000 according to authority unknown_publisher\u001b[0m\n",
      "\u001b[33m[ WARN] [1683852649.349178924, 746.948000000]: TF_REPEATED_DATA ignoring data with redundant timestamp for frame odom at time 746.969000 according to authority unknown_publisher\u001b[0m\n",
      "\u001b[33m[ WARN] [1683852654.933938389, 749.473000000]: TF_REPEATED_DATA ignoring data with redundant timestamp for frame odom at time 749.504000 according to authority unknown_publisher\u001b[0m\n",
      "\u001b[33m[ WARN] [1683852656.256385785, 750.105000000]: TF_REPEATED_DATA ignoring data with redundant timestamp for frame odom at time 750.131000 according to authority unknown_publisher\u001b[0m\n",
      "\u001b[33m[ WARN] [1683852658.161520045, 750.971000000]: TF_REPEATED_DATA ignoring data with redundant timestamp for frame odom at time 750.994000 according to authority unknown_publisher\u001b[0m\n",
      "\u001b[33m[ WARN] [1683852658.908557059, 751.352000000]: TF_REPEATED_DATA ignoring data with redundant timestamp for frame odom at time 751.388000 according to authority unknown_publisher\u001b[0m\n",
      "\u001b[33m[ WARN] [1683852672.914531866, 757.503000000]: TF_REPEATED_DATA ignoring data with redundant timestamp for frame odom at time 757.544000 according to authority unknown_publisher\u001b[0m\n",
      "\u001b[33m[ WARN] [1683852702.411397805, 770.287000000]: TF_REPEATED_DATA ignoring data with redundant timestamp for frame odom at time 770.310000 according to authority unknown_publisher\u001b[0m\n",
      "\u001b[33m[ WARN] [1683852707.213629100, 772.314000000]: TF_REPEATED_DATA ignoring data with redundant timestamp for frame odom at time 772.347000 according to authority unknown_publisher\u001b[0m\n",
      "\u001b[33m[ WARN] [1683852707.444001292, 772.419000000]: TF_REPEATED_DATA ignoring data with redundant timestamp for frame odom at time 772.449000 according to authority unknown_publisher\u001b[0m\n",
      "\u001b[33m[ WARN] [1683852715.088929818, 775.742000000]: TF_REPEATED_DATA ignoring data with redundant timestamp for frame odom at time 775.780000 according to authority unknown_publisher\u001b[0m\n",
      "\u001b[33m[ WARN] [1683852823.566161971, 823.360000000]: TF_REPEATED_DATA ignoring data with redundant timestamp for frame odom at time 823.360000 according to authority unknown_publisher\u001b[0m\n",
      "\u001b[33m[ WARN] [1683852827.432051156, 824.999000000]: TF_REPEATED_DATA ignoring data with redundant timestamp for frame odom at time 825.044000 according to authority unknown_publisher\u001b[0m\n",
      "\u001b[33m[ WARN] [1683852829.390641303, 825.863000000]: TF_REPEATED_DATA ignoring data with redundant timestamp for frame odom at time 825.897000 according to authority unknown_publisher\u001b[0m\n",
      "\u001b[33m[ WARN] [1683852837.530883021, 829.508000000]: TF_REPEATED_DATA ignoring data with redundant timestamp for frame odom at time 829.525000 according to authority unknown_publisher\u001b[0m\n",
      "\u001b[33m[ WARN] [1683852838.477945269, 829.914000000]: TF_REPEATED_DATA ignoring data with redundant timestamp for frame odom at time 829.938000 according to authority unknown_publisher\u001b[0m\n",
      "\u001b[33m[ WARN] [1683852905.957986208, 859.264000000]: TF_REPEATED_DATA ignoring data with redundant timestamp for frame odom at time 859.264000 according to authority unknown_publisher\u001b[0m\n",
      "\u001b[33m[ WARN] [1683852908.098672660, 860.211000000]: TF_REPEATED_DATA ignoring data with redundant timestamp for frame odom at time 860.252000 according to authority unknown_publisher\u001b[0m\n",
      "\u001b[33m[ WARN] [1683852908.676521599, 860.493000000]: TF_REPEATED_DATA ignoring data with redundant timestamp for frame odom at time 860.530000 according to authority unknown_publisher\u001b[0m\n",
      "\u001b[33m[ WARN] [1683852932.509687805, 870.957000000]: TF_REPEATED_DATA ignoring data with redundant timestamp for frame odom at time 870.976000 according to authority unknown_publisher\u001b[0m\n",
      "\u001b[33m[ WARN] [1683852966.322012938, 885.776000000]: TF_REPEATED_DATA ignoring data with redundant timestamp for frame odom at time 885.793000 according to authority unknown_publisher\u001b[0m\n",
      "\u001b[33m[ WARN] [1683852972.118843272, 888.326000000]: TF_REPEATED_DATA ignoring data with redundant timestamp for frame odom at time 888.326000 according to authority unknown_publisher\u001b[0m\n",
      "\u001b[33m[ WARN] [1683852985.608262897, 894.297000000]: TF_REPEATED_DATA ignoring data with redundant timestamp for frame odom at time 894.319000 according to authority unknown_publisher\u001b[0m\n",
      "\u001b[33m[ WARN] [1683852987.830513569, 895.260000000]: TF_REPEATED_DATA ignoring data with redundant timestamp for frame odom at time 895.288000 according to authority unknown_publisher\u001b[0m\n",
      "\u001b[33m[ WARN] [1683852989.014000555, 895.798000000]: TF_REPEATED_DATA ignoring data with redundant timestamp for frame odom at time 895.820000 according to authority unknown_publisher\u001b[0m\n",
      "\u001b[33m[ WARN] [1683852993.139879494, 897.735000000]: TF_REPEATED_DATA ignoring data with redundant timestamp for frame odom at time 897.768000 according to authority unknown_publisher\u001b[0m\n",
      "\u001b[33m[ WARN] [1683853010.989902604, 905.522000000]: TF_REPEATED_DATA ignoring data with redundant timestamp for frame odom at time 905.545000 according to authority unknown_publisher\u001b[0m\n",
      "\u001b[33m[ WARN] [1683853042.425970127, 919.397000000]: TF_REPEATED_DATA ignoring data with redundant timestamp for frame odom at time 919.429000 according to authority unknown_publisher\u001b[0m\n",
      "\u001b[33m[ WARN] [1683853043.822889310, 920.028000000]: TF_REPEATED_DATA ignoring data with redundant timestamp for frame odom at time 920.044000 according to authority unknown_publisher\u001b[0m\n",
      "\u001b[33m[ WARN] [1683853045.629588634, 920.806000000]: TF_REPEATED_DATA ignoring data with redundant timestamp for frame odom at time 920.827000 according to authority unknown_publisher\u001b[0m\n",
      "\u001b[33m[ WARN] [1683853058.839843422, 926.808000000]: TF_REPEATED_DATA ignoring data with redundant timestamp for frame odom at time 926.825000 according to authority unknown_publisher\u001b[0m\n",
      "\u001b[33m[ WARN] [1683853061.272855176, 927.885000000]: TF_REPEATED_DATA ignoring data with redundant timestamp for frame odom at time 927.921000 according to authority unknown_publisher\u001b[0m\n",
      "\u001b[33m[ WARN] [1683853069.993860137, 931.797000000]: TF_REPEATED_DATA ignoring data with redundant timestamp for frame odom at time 931.815000 according to authority unknown_publisher\u001b[0m\n",
      "\u001b[33m[ WARN] [1683853081.530484488, 936.758000000]: TF_REPEATED_DATA ignoring data with redundant timestamp for frame odom at time 936.780000 according to authority unknown_publisher\u001b[0m\n",
      "\u001b[33m[ WARN] [1683853122.832206818, 954.528000000]: TF_REPEATED_DATA ignoring data with redundant timestamp for frame odom at time 954.570000 according to authority unknown_publisher\u001b[0m\n",
      "\u001b[33m[ WARN] [1683853133.087911251, 959.063000000]: TF_REPEATED_DATA ignoring data with redundant timestamp for frame odom at time 959.089000 according to authority unknown_publisher\u001b[0m\n"
     ]
    },
    {
     "name": "stderr",
     "output_type": "stream",
     "text": [
      "\u001b[33m[ WARN] [1683853136.758195823, 960.679000000]: TF_REPEATED_DATA ignoring data with redundant timestamp for frame odom at time 960.692000 according to authority unknown_publisher\u001b[0m\n",
      "\u001b[33m[ WARN] [1683853136.899912148, 960.731000000]: TF_REPEATED_DATA ignoring data with redundant timestamp for frame odom at time 960.754000 according to authority unknown_publisher\u001b[0m\n",
      "\u001b[33m[ WARN] [1683853139.165071449, 961.755000000]: TF_REPEATED_DATA ignoring data with redundant timestamp for frame odom at time 961.790000 according to authority unknown_publisher\u001b[0m\n",
      "\u001b[33m[ WARN] [1683853150.080064656, 966.512000000]: TF_REPEATED_DATA ignoring data with redundant timestamp for frame odom at time 966.528000 according to authority unknown_publisher\u001b[0m\n",
      "\u001b[33m[ WARN] [1683853165.866234876, 973.422000000]: TF_REPEATED_DATA ignoring data with redundant timestamp for frame odom at time 973.442000 according to authority unknown_publisher\u001b[0m\n",
      "\u001b[33m[ WARN] [1683853181.939284829, 980.567000000]: TF_REPEATED_DATA ignoring data with redundant timestamp for frame odom at time 980.582000 according to authority unknown_publisher\u001b[0m\n",
      "\u001b[33m[ WARN] [1683853216.039361455, 995.494000000]: TF_REPEATED_DATA ignoring data with redundant timestamp for frame odom at time 995.520000 according to authority unknown_publisher\u001b[0m\n",
      "\u001b[33m[ WARN] [1683853225.169136330, 999.556000000]: TF_REPEATED_DATA ignoring data with redundant timestamp for frame odom at time 999.579000 according to authority unknown_publisher\u001b[0m\n",
      "\u001b[33m[ WARN] [1683853232.266196190, 1002.872000000]: TF_REPEATED_DATA ignoring data with redundant timestamp for frame odom at time 1002.894000 according to authority unknown_publisher\u001b[0m\n",
      "\u001b[33m[ WARN] [1683853232.563730511, 1003.032000000]: TF_REPEATED_DATA ignoring data with redundant timestamp for frame odom at time 1003.058000 according to authority unknown_publisher\u001b[0m\n",
      "\u001b[33m[ WARN] [1683853242.511593797, 1007.380000000]: TF_REPEATED_DATA ignoring data with redundant timestamp for frame odom at time 1007.410000 according to authority unknown_publisher\u001b[0m\n",
      "\u001b[33m[ WARN] [1683853324.943440884, 1043.102000000]: TF_REPEATED_DATA ignoring data with redundant timestamp for frame odom at time 1043.143000 according to authority unknown_publisher\u001b[0m\n",
      "\u001b[33m[ WARN] [1683853353.677243192, 1055.420000000]: TF_REPEATED_DATA ignoring data with redundant timestamp for frame odom at time 1055.438000 according to authority unknown_publisher\u001b[0m\n",
      "\u001b[33m[ WARN] [1683853399.108034276, 1075.124000000]: TF_REPEATED_DATA ignoring data with redundant timestamp for frame odom at time 1075.151000 according to authority unknown_publisher\u001b[0m\n",
      "\u001b[33m[ WARN] [1683853406.330848045, 1078.189000000]: TF_REPEATED_DATA ignoring data with redundant timestamp for frame odom at time 1078.205000 according to authority unknown_publisher\u001b[0m\n",
      "\u001b[33m[ WARN] [1683853409.995534672, 1079.610000000]: TF_REPEATED_DATA ignoring data with redundant timestamp for frame odom at time 1079.639000 according to authority unknown_publisher\u001b[0m\n",
      "\u001b[33m[ WARN] [1683853413.027617110, 1080.948000000]: TF_REPEATED_DATA ignoring data with redundant timestamp for frame odom at time 1080.974000 according to authority unknown_publisher\u001b[0m\n",
      "\u001b[33m[ WARN] [1683853414.337311227, 1081.519000000]: TF_REPEATED_DATA ignoring data with redundant timestamp for frame odom at time 1081.540000 according to authority unknown_publisher\u001b[0m\n",
      "\u001b[33m[ WARN] [1683853415.467206799, 1082.038000000]: TF_REPEATED_DATA ignoring data with redundant timestamp for frame odom at time 1082.069000 according to authority unknown_publisher\u001b[0m\n",
      "\u001b[33m[ WARN] [1683853440.301495089, 1092.719000000]: TF_REPEATED_DATA ignoring data with redundant timestamp for frame odom at time 1092.753000 according to authority unknown_publisher\u001b[0m\n",
      "\u001b[33m[ WARN] [1683853448.091913666, 1095.999000000]: TF_REPEATED_DATA ignoring data with redundant timestamp for frame odom at time 1096.023000 according to authority unknown_publisher\u001b[0m\n",
      "\u001b[33m[ WARN] [1683853460.238796030, 1101.382000000]: TF_REPEATED_DATA ignoring data with redundant timestamp for frame odom at time 1101.382000 according to authority unknown_publisher\u001b[0m\n",
      "\u001b[33m[ WARN] [1683853470.762100774, 1105.992000000]: TF_REPEATED_DATA ignoring data with redundant timestamp for frame odom at time 1106.014000 according to authority unknown_publisher\u001b[0m\n",
      "\u001b[33m[ WARN] [1683853473.169501491, 1107.083000000]: TF_REPEATED_DATA ignoring data with redundant timestamp for frame odom at time 1107.109000 according to authority unknown_publisher\u001b[0m\n",
      "\u001b[33m[ WARN] [1683853473.906432135, 1107.450000000]: TF_REPEATED_DATA ignoring data with redundant timestamp for frame odom at time 1107.472000 according to authority unknown_publisher\u001b[0m\n",
      "\u001b[33m[ WARN] [1683853536.641342370, 1135.494000000]: TF_REPEATED_DATA ignoring data with redundant timestamp for frame odom at time 1135.510000 according to authority unknown_publisher\u001b[0m\n",
      "\u001b[33m[ WARN] [1683853550.000560885, 1141.520000000]: TF_REPEATED_DATA ignoring data with redundant timestamp for frame odom at time 1141.538000 according to authority unknown_publisher\u001b[0m\n",
      "\u001b[33m[ WARN] [1683853564.222611513, 1147.621000000]: TF_REPEATED_DATA ignoring data with redundant timestamp for frame odom at time 1147.639000 according to authority unknown_publisher\u001b[0m\n",
      "\u001b[33m[ WARN] [1683853564.455399171, 1147.743000000]: TF_REPEATED_DATA ignoring data with redundant timestamp for frame odom at time 1147.765000 according to authority unknown_publisher\u001b[0m\n",
      "\u001b[33m[ WARN] [1683853566.260153403, 1148.578000000]: TF_REPEATED_DATA ignoring data with redundant timestamp for frame odom at time 1148.607000 according to authority unknown_publisher\u001b[0m\n",
      "\u001b[33m[ WARN] [1683853588.995422141, 1158.347000000]: TF_REPEATED_DATA ignoring data with redundant timestamp for frame odom at time 1158.371000 according to authority unknown_publisher\u001b[0m\n",
      "\u001b[33m[ WARN] [1683853590.841039636, 1159.161000000]: TF_REPEATED_DATA ignoring data with redundant timestamp for frame odom at time 1159.189000 according to authority unknown_publisher\u001b[0m\n",
      "\u001b[33m[ WARN] [1683853592.111561935, 1159.753000000]: TF_REPEATED_DATA ignoring data with redundant timestamp for frame odom at time 1159.753000 according to authority unknown_publisher\u001b[0m\n",
      "\u001b[33m[ WARN] [1683853606.305747800, 1165.992000000]: TF_REPEATED_DATA ignoring data with redundant timestamp for frame odom at time 1166.014000 according to authority unknown_publisher\u001b[0m\n",
      "\u001b[33m[ WARN] [1683853608.694521192, 1167.003000000]: TF_REPEATED_DATA ignoring data with redundant timestamp for frame odom at time 1167.046000 according to authority unknown_publisher\u001b[0m\n",
      "\u001b[33m[ WARN] [1683853616.788162953, 1170.628000000]: TF_REPEATED_DATA ignoring data with redundant timestamp for frame odom at time 1170.659000 according to authority unknown_publisher\u001b[0m\n",
      "\u001b[33m[ WARN] [1683853631.769406955, 1177.110000000]: TF_REPEATED_DATA ignoring data with redundant timestamp for frame odom at time 1177.141000 according to authority unknown_publisher\u001b[0m\n",
      "\u001b[33m[ WARN] [1683853637.500937873, 1179.692000000]: TF_REPEATED_DATA ignoring data with redundant timestamp for frame odom at time 1179.692000 according to authority unknown_publisher\u001b[0m\n",
      "\u001b[33m[ WARN] [1683853637.748815849, 1179.766000000]: TF_REPEATED_DATA ignoring data with redundant timestamp for frame odom at time 1179.788000 according to authority unknown_publisher\u001b[0m\n",
      "\u001b[33m[ WARN] [1683853646.248698999, 1183.612000000]: TF_REPEATED_DATA ignoring data with redundant timestamp for frame odom at time 1183.643000 according to authority unknown_publisher\u001b[0m\n",
      "\u001b[33m[ WARN] [1683853653.783123050, 1186.840000000]: TF_REPEATED_DATA ignoring data with redundant timestamp for frame odom at time 1186.840000 according to authority unknown_publisher\u001b[0m\n",
      "\u001b[33m[ WARN] [1683853674.539920291, 1195.757000000]: TF_REPEATED_DATA ignoring data with redundant timestamp for frame odom at time 1195.786000 according to authority unknown_publisher\u001b[0m\n",
      "\u001b[33m[ WARN] [1683853679.725941352, 1198.127000000]: TF_REPEATED_DATA ignoring data with redundant timestamp for frame odom at time 1198.150000 according to authority unknown_publisher\u001b[0m\n",
      "\u001b[33m[ WARN] [1683853683.436473236, 1199.822000000]: TF_REPEATED_DATA ignoring data with redundant timestamp for frame odom at time 1199.846000 according to authority unknown_publisher\u001b[0m\n"
     ]
    },
    {
     "name": "stderr",
     "output_type": "stream",
     "text": [
      "\u001b[33m[ WARN] [1683853694.352007749, 1204.629000000]: TF_REPEATED_DATA ignoring data with redundant timestamp for frame odom at time 1204.646000 according to authority unknown_publisher\u001b[0m\n",
      "\u001b[33m[ WARN] [1683853698.708937533, 1206.609000000]: TF_REPEATED_DATA ignoring data with redundant timestamp for frame odom at time 1206.638000 according to authority unknown_publisher\u001b[0m\n",
      "\u001b[33m[ WARN] [1683853702.606785411, 1208.363000000]: TF_REPEATED_DATA ignoring data with redundant timestamp for frame odom at time 1208.387000 according to authority unknown_publisher\u001b[0m\n",
      "\u001b[33m[ WARN] [1683853710.027192531, 1211.912000000]: TF_REPEATED_DATA ignoring data with redundant timestamp for frame odom at time 1211.942000 according to authority unknown_publisher\u001b[0m\n",
      "\u001b[33m[ WARN] [1683853715.242547427, 1214.247000000]: TF_REPEATED_DATA ignoring data with redundant timestamp for frame odom at time 1214.269000 according to authority unknown_publisher\u001b[0m\n",
      "\u001b[33m[ WARN] [1683853727.298437086, 1219.701000000]: TF_REPEATED_DATA ignoring data with redundant timestamp for frame odom at time 1219.726000 according to authority unknown_publisher\u001b[0m\n",
      "\u001b[33m[ WARN] [1683853730.471898100, 1221.061000000]: TF_REPEATED_DATA ignoring data with redundant timestamp for frame odom at time 1221.091000 according to authority unknown_publisher\u001b[0m\n",
      "\u001b[33m[ WARN] [1683853731.307100609, 1221.438000000]: TF_REPEATED_DATA ignoring data with redundant timestamp for frame odom at time 1221.459000 according to authority unknown_publisher\u001b[0m\n",
      "\u001b[33m[ WARN] [1683853731.551888221, 1221.577000000]: TF_REPEATED_DATA ignoring data with redundant timestamp for frame odom at time 1221.593000 according to authority unknown_publisher\u001b[0m\n",
      "\u001b[33m[ WARN] [1683853739.463449775, 1225.032000000]: TF_REPEATED_DATA ignoring data with redundant timestamp for frame odom at time 1225.058000 according to authority unknown_publisher\u001b[0m\n",
      "\u001b[33m[ WARN] [1683853744.312085722, 1227.169000000]: TF_REPEATED_DATA ignoring data with redundant timestamp for frame odom at time 1227.186000 according to authority unknown_publisher\u001b[0m\n",
      "\u001b[33m[ WARN] [1683853752.020309806, 1230.486000000]: TF_REPEATED_DATA ignoring data with redundant timestamp for frame odom at time 1230.518000 according to authority unknown_publisher\u001b[0m\n",
      "\u001b[33m[ WARN] [1683853761.194871169, 1234.522000000]: TF_REPEATED_DATA ignoring data with redundant timestamp for frame odom at time 1234.558000 according to authority unknown_publisher\u001b[0m\n",
      "\u001b[33m[ WARN] [1683853764.800210772, 1236.170000000]: TF_REPEATED_DATA ignoring data with redundant timestamp for frame odom at time 1236.202000 according to authority unknown_publisher\u001b[0m\n",
      "\u001b[33m[ WARN] [1683853769.938752881, 1238.462000000]: TF_REPEATED_DATA ignoring data with redundant timestamp for frame odom at time 1238.485000 according to authority unknown_publisher\u001b[0m\n",
      "\u001b[33m[ WARN] [1683853780.153253391, 1242.985000000]: TF_REPEATED_DATA ignoring data with redundant timestamp for frame odom at time 1243.008000 according to authority unknown_publisher\u001b[0m\n",
      "\u001b[33m[ WARN] [1683853785.824251084, 1245.520000000]: TF_REPEATED_DATA ignoring data with redundant timestamp for frame odom at time 1245.550000 according to authority unknown_publisher\u001b[0m\n",
      "\u001b[33m[ WARN] [1683853820.965457087, 1261.042000000]: TF_REPEATED_DATA ignoring data with redundant timestamp for frame odom at time 1261.062000 according to authority unknown_publisher\u001b[0m\n",
      "\u001b[33m[ WARN] [1683853825.642398592, 1263.163000000]: TF_REPEATED_DATA ignoring data with redundant timestamp for frame odom at time 1263.204000 according to authority unknown_publisher\u001b[0m\n",
      "\u001b[33m[ WARN] [1683853834.793491546, 1267.185000000]: TF_REPEATED_DATA ignoring data with redundant timestamp for frame odom at time 1267.218000 according to authority unknown_publisher\u001b[0m\n",
      "\u001b[33m[ WARN] [1683853835.540386273, 1267.538000000]: TF_REPEATED_DATA ignoring data with redundant timestamp for frame odom at time 1267.566000 according to authority unknown_publisher\u001b[0m\n",
      "\u001b[33m[ WARN] [1683853840.657783945, 1269.953000000]: TF_REPEATED_DATA ignoring data with redundant timestamp for frame odom at time 1269.982000 according to authority unknown_publisher\u001b[0m\n",
      "\u001b[33m[ WARN] [1683853846.660788505, 1272.602000000]: TF_REPEATED_DATA ignoring data with redundant timestamp for frame odom at time 1272.626000 according to authority unknown_publisher\u001b[0m\n",
      "\u001b[33m[ WARN] [1683853851.641904848, 1274.806000000]: TF_REPEATED_DATA ignoring data with redundant timestamp for frame odom at time 1274.820000 according to authority unknown_publisher\u001b[0m\n",
      "\u001b[33m[ WARN] [1683853855.710715113, 1276.581000000]: TF_REPEATED_DATA ignoring data with redundant timestamp for frame odom at time 1276.607000 according to authority unknown_publisher\u001b[0m\n",
      "\u001b[33m[ WARN] [1683853859.920325873, 1278.349000000]: TF_REPEATED_DATA ignoring data with redundant timestamp for frame odom at time 1278.374000 according to authority unknown_publisher\u001b[0m\n",
      "\u001b[33m[ WARN] [1683853863.155427094, 1279.713000000]: TF_REPEATED_DATA ignoring data with redundant timestamp for frame odom at time 1279.747000 according to authority unknown_publisher\u001b[0m\n",
      "\u001b[33m[ WARN] [1683853864.967240604, 1280.537000000]: TF_REPEATED_DATA ignoring data with redundant timestamp for frame odom at time 1280.566000 according to authority unknown_publisher\u001b[0m\n",
      "\u001b[33m[ WARN] [1683853876.095087198, 1285.511000000]: TF_REPEATED_DATA ignoring data with redundant timestamp for frame odom at time 1285.533000 according to authority unknown_publisher\u001b[0m\n",
      "\u001b[33m[ WARN] [1683853878.364916715, 1286.578000000]: TF_REPEATED_DATA ignoring data with redundant timestamp for frame odom at time 1286.601000 according to authority unknown_publisher\u001b[0m\n",
      "\u001b[33m[ WARN] [1683853879.539194615, 1287.129000000]: TF_REPEATED_DATA ignoring data with redundant timestamp for frame odom at time 1287.150000 according to authority unknown_publisher\u001b[0m\n",
      "\u001b[33m[ WARN] [1683853885.657390098, 1289.845000000]: TF_REPEATED_DATA ignoring data with redundant timestamp for frame odom at time 1289.863000 according to authority unknown_publisher\u001b[0m\n",
      "\u001b[33m[ WARN] [1683853887.124184154, 1290.487000000]: TF_REPEATED_DATA ignoring data with redundant timestamp for frame odom at time 1290.517000 according to authority unknown_publisher\u001b[0m\n",
      "\u001b[33m[ WARN] [1683853889.728831979, 1291.684000000]: TF_REPEATED_DATA ignoring data with redundant timestamp for frame odom at time 1291.700000 according to authority unknown_publisher\u001b[0m\n",
      "\u001b[33m[ WARN] [1683853896.434060461, 1294.778000000]: TF_REPEATED_DATA ignoring data with redundant timestamp for frame odom at time 1294.808000 according to authority unknown_publisher\u001b[0m\n",
      "\u001b[33m[ WARN] [1683853898.548198623, 1295.740000000]: TF_REPEATED_DATA ignoring data with redundant timestamp for frame odom at time 1295.761000 according to authority unknown_publisher\u001b[0m\n",
      "\u001b[33m[ WARN] [1683853906.806959695, 1299.398000000]: TF_REPEATED_DATA ignoring data with redundant timestamp for frame odom at time 1299.427000 according to authority unknown_publisher\u001b[0m\n",
      "\u001b[33m[ WARN] [1683853926.589028554, 1308.043000000]: TF_REPEATED_DATA ignoring data with redundant timestamp for frame odom at time 1308.068000 according to authority unknown_publisher\u001b[0m\n",
      "\u001b[33m[ WARN] [1683853929.023984900, 1309.080000000]: TF_REPEATED_DATA ignoring data with redundant timestamp for frame odom at time 1309.111000 according to authority unknown_publisher\u001b[0m\n",
      "\u001b[33m[ WARN] [1683853941.332857046, 1314.532000000]: TF_REPEATED_DATA ignoring data with redundant timestamp for frame odom at time 1314.552000 according to authority unknown_publisher\u001b[0m\n",
      "\u001b[33m[ WARN] [1683853957.512537259, 1321.733000000]: TF_REPEATED_DATA ignoring data with redundant timestamp for frame odom at time 1321.765000 according to authority unknown_publisher\u001b[0m\n",
      "\u001b[33m[ WARN] [1683853978.612706211, 1331.102000000]: TF_REPEATED_DATA ignoring data with redundant timestamp for frame odom at time 1331.132000 according to authority unknown_publisher\u001b[0m\n",
      "\u001b[33m[ WARN] [1683853980.269721639, 1331.874000000]: TF_REPEATED_DATA ignoring data with redundant timestamp for frame odom at time 1331.889000 according to authority unknown_publisher\u001b[0m\n",
      "\u001b[33m[ WARN] [1683853998.512394820, 1339.893000000]: TF_REPEATED_DATA ignoring data with redundant timestamp for frame odom at time 1339.919000 according to authority unknown_publisher\u001b[0m\n"
     ]
    },
    {
     "name": "stderr",
     "output_type": "stream",
     "text": [
      "\u001b[33m[ WARN] [1683854002.751272784, 1341.737000000]: TF_REPEATED_DATA ignoring data with redundant timestamp for frame odom at time 1341.769000 according to authority unknown_publisher\u001b[0m\n",
      "\u001b[33m[ WARN] [1683854036.591483630, 1356.566000000]: TF_REPEATED_DATA ignoring data with redundant timestamp for frame odom at time 1356.610000 according to authority unknown_publisher\u001b[0m\n",
      "\u001b[33m[ WARN] [1683854046.817584154, 1361.023000000]: TF_REPEATED_DATA ignoring data with redundant timestamp for frame odom at time 1361.046000 according to authority unknown_publisher\u001b[0m\n",
      "\u001b[33m[ WARN] [1683854065.883490433, 1369.247000000]: TF_REPEATED_DATA ignoring data with redundant timestamp for frame odom at time 1369.274000 according to authority unknown_publisher\u001b[0m\n",
      "\u001b[33m[ WARN] [1683854078.212273515, 1374.845000000]: TF_REPEATED_DATA ignoring data with redundant timestamp for frame odom at time 1374.845000 according to authority unknown_publisher\u001b[0m\n",
      "\u001b[33m[ WARN] [1683854085.530502034, 1378.127000000]: TF_REPEATED_DATA ignoring data with redundant timestamp for frame odom at time 1378.141000 according to authority unknown_publisher\u001b[0m\n",
      "\u001b[33m[ WARN] [1683854087.532382975, 1379.043000000]: TF_REPEATED_DATA ignoring data with redundant timestamp for frame odom at time 1379.077000 according to authority unknown_publisher\u001b[0m\n",
      "\u001b[33m[ WARN] [1683854089.205965120, 1379.825000000]: TF_REPEATED_DATA ignoring data with redundant timestamp for frame odom at time 1379.842000 according to authority unknown_publisher\u001b[0m\n",
      "\u001b[33m[ WARN] [1683854099.655262244, 1384.486000000]: TF_REPEATED_DATA ignoring data with redundant timestamp for frame odom at time 1384.506000 according to authority unknown_publisher\u001b[0m\n",
      "\u001b[33m[ WARN] [1683854101.887647567, 1385.515000000]: TF_REPEATED_DATA ignoring data with redundant timestamp for frame odom at time 1385.541000 according to authority unknown_publisher\u001b[0m\n",
      "\u001b[33m[ WARN] [1683854113.508234749, 1390.524000000]: TF_REPEATED_DATA ignoring data with redundant timestamp for frame odom at time 1390.553000 according to authority unknown_publisher\u001b[0m\n",
      "\u001b[33m[ WARN] [1683854114.356585246, 1390.893000000]: TF_REPEATED_DATA ignoring data with redundant timestamp for frame odom at time 1390.898000 according to authority unknown_publisher\u001b[0m\n",
      "\u001b[33m[ WARN] [1683854121.882576981, 1394.200000000]: TF_REPEATED_DATA ignoring data with redundant timestamp for frame odom at time 1394.228000 according to authority unknown_publisher\u001b[0m\n",
      "\u001b[33m[ WARN] [1683854125.265902024, 1395.726000000]: TF_REPEATED_DATA ignoring data with redundant timestamp for frame odom at time 1395.763000 according to authority unknown_publisher\u001b[0m\n",
      "\u001b[33m[ WARN] [1683854125.648581384, 1395.932000000]: TF_REPEATED_DATA ignoring data with redundant timestamp for frame odom at time 1395.957000 according to authority unknown_publisher\u001b[0m\n",
      "\u001b[33m[ WARN] [1683854125.985841567, 1396.055000000]: TF_REPEATED_DATA ignoring data with redundant timestamp for frame odom at time 1396.094000 according to authority unknown_publisher\u001b[0m\n",
      "\u001b[33m[ WARN] [1683854127.238486838, 1396.662000000]: TF_REPEATED_DATA ignoring data with redundant timestamp for frame odom at time 1396.662000 according to authority unknown_publisher\u001b[0m\n",
      "\u001b[33m[ WARN] [1683854136.102754643, 1400.354000000]: TF_REPEATED_DATA ignoring data with redundant timestamp for frame odom at time 1400.393000 according to authority unknown_publisher\u001b[0m\n",
      "\u001b[33m[ WARN] [1683854136.568773283, 1400.595000000]: TF_REPEATED_DATA ignoring data with redundant timestamp for frame odom at time 1400.622000 according to authority unknown_publisher\u001b[0m\n",
      "\u001b[33m[ WARN] [1683854139.719293488, 1401.996000000]: TF_REPEATED_DATA ignoring data with redundant timestamp for frame odom at time 1402.033000 according to authority unknown_publisher\u001b[0m\n",
      "\u001b[33m[ WARN] [1683854145.699460396, 1404.524000000]: TF_REPEATED_DATA ignoring data with redundant timestamp for frame odom at time 1404.548000 according to authority unknown_publisher\u001b[0m\n",
      "\u001b[33m[ WARN] [1683854146.984927801, 1405.102000000]: TF_REPEATED_DATA ignoring data with redundant timestamp for frame odom at time 1405.119000 according to authority unknown_publisher\u001b[0m\n",
      "\u001b[33m[ WARN] [1683854149.216880088, 1406.042000000]: TF_REPEATED_DATA ignoring data with redundant timestamp for frame odom at time 1406.082000 according to authority unknown_publisher\u001b[0m\n",
      "\u001b[33m[ WARN] [1683854149.609123282, 1406.230000000]: TF_REPEATED_DATA ignoring data with redundant timestamp for frame odom at time 1406.260000 according to authority unknown_publisher\u001b[0m\n",
      "\u001b[33m[ WARN] [1683854149.852129239, 1406.348000000]: TF_REPEATED_DATA ignoring data with redundant timestamp for frame odom at time 1406.379000 according to authority unknown_publisher\u001b[0m\n",
      "\u001b[33m[ WARN] [1683854153.112280155, 1407.741000000]: TF_REPEATED_DATA ignoring data with redundant timestamp for frame odom at time 1407.781000 according to authority unknown_publisher\u001b[0m\n",
      "\u001b[33m[ WARN] [1683854157.506493355, 1409.695000000]: TF_REPEATED_DATA ignoring data with redundant timestamp for frame odom at time 1409.713000 according to authority unknown_publisher\u001b[0m\n",
      "\u001b[33m[ WARN] [1683854157.884593184, 1409.878000000]: TF_REPEATED_DATA ignoring data with redundant timestamp for frame odom at time 1409.878000 according to authority unknown_publisher\u001b[0m\n",
      "\u001b[33m[ WARN] [1683854170.314911029, 1415.370000000]: TF_REPEATED_DATA ignoring data with redundant timestamp for frame odom at time 1415.370000 according to authority unknown_publisher\u001b[0m\n",
      "\u001b[33m[ WARN] [1683854183.839325295, 1421.343000000]: TF_REPEATED_DATA ignoring data with redundant timestamp for frame odom at time 1421.388000 according to authority unknown_publisher\u001b[0m\n",
      "\u001b[33m[ WARN] [1683854186.523287961, 1422.578000000]: TF_REPEATED_DATA ignoring data with redundant timestamp for frame odom at time 1422.597000 according to authority unknown_publisher\u001b[0m\n",
      "\u001b[33m[ WARN] [1683854187.538453892, 1423.043000000]: TF_REPEATED_DATA ignoring data with redundant timestamp for frame odom at time 1423.069000 according to authority unknown_publisher\u001b[0m\n",
      "\u001b[33m[ WARN] [1683854188.477612661, 1423.484000000]: TF_REPEATED_DATA ignoring data with redundant timestamp for frame odom at time 1423.508000 according to authority unknown_publisher\u001b[0m\n",
      "\u001b[33m[ WARN] [1683854199.959491213, 1428.499000000]: TF_REPEATED_DATA ignoring data with redundant timestamp for frame odom at time 1428.528000 according to authority unknown_publisher\u001b[0m\n",
      "\u001b[33m[ WARN] [1683854203.704456438, 1430.167000000]: TF_REPEATED_DATA ignoring data with redundant timestamp for frame odom at time 1430.196000 according to authority unknown_publisher\u001b[0m\n",
      "\u001b[33m[ WARN] [1683854205.201144778, 1430.806000000]: TF_REPEATED_DATA ignoring data with redundant timestamp for frame odom at time 1430.824000 according to authority unknown_publisher\u001b[0m\n",
      "\u001b[33m[ WARN] [1683854205.421859640, 1430.905000000]: TF_REPEATED_DATA ignoring data with redundant timestamp for frame odom at time 1430.928000 according to authority unknown_publisher\u001b[0m\n",
      "\u001b[33m[ WARN] [1683854213.751723980, 1434.632000000]: TF_REPEATED_DATA ignoring data with redundant timestamp for frame odom at time 1434.632000 according to authority unknown_publisher\u001b[0m\n",
      "\u001b[33m[ WARN] [1683854226.620459661, 1440.404000000]: TF_REPEATED_DATA ignoring data with redundant timestamp for frame odom at time 1440.404000 according to authority unknown_publisher\u001b[0m\n",
      "\u001b[33m[ WARN] [1683854244.933814810, 1448.685000000]: TF_REPEATED_DATA ignoring data with redundant timestamp for frame odom at time 1448.707000 according to authority unknown_publisher\u001b[0m\n",
      "\u001b[33m[ WARN] [1683854248.895732325, 1450.372000000]: TF_REPEATED_DATA ignoring data with redundant timestamp for frame odom at time 1450.395000 according to authority unknown_publisher\u001b[0m\n",
      "\u001b[33m[ WARN] [1683854258.887825062, 1454.669000000]: TF_REPEATED_DATA ignoring data with redundant timestamp for frame odom at time 1454.699000 according to authority unknown_publisher\u001b[0m\n",
      "\u001b[33m[ WARN] [1683854295.016642151, 1470.483000000]: TF_REPEATED_DATA ignoring data with redundant timestamp for frame odom at time 1470.483000 according to authority unknown_publisher\u001b[0m\n",
      "\u001b[33m[ WARN] [1683854295.433950642, 1470.650000000]: TF_REPEATED_DATA ignoring data with redundant timestamp for frame odom at time 1470.681000 according to authority unknown_publisher\u001b[0m\n"
     ]
    },
    {
     "name": "stderr",
     "output_type": "stream",
     "text": [
      "\u001b[33m[ WARN] [1683854298.712170100, 1472.062000000]: TF_REPEATED_DATA ignoring data with redundant timestamp for frame odom at time 1472.091000 according to authority unknown_publisher\u001b[0m\n",
      "\u001b[33m[ WARN] [1683854299.131543851, 1472.247000000]: TF_REPEATED_DATA ignoring data with redundant timestamp for frame odom at time 1472.285000 according to authority unknown_publisher\u001b[0m\n",
      "\u001b[33m[ WARN] [1683854301.598558034, 1473.392000000]: TF_REPEATED_DATA ignoring data with redundant timestamp for frame odom at time 1473.420000 according to authority unknown_publisher\u001b[0m\n",
      "\u001b[33m[ WARN] [1683854304.665364684, 1474.777000000]: TF_REPEATED_DATA ignoring data with redundant timestamp for frame odom at time 1474.812000 according to authority unknown_publisher\u001b[0m\n",
      "\u001b[33m[ WARN] [1683854305.016552672, 1474.963000000]: TF_REPEATED_DATA ignoring data with redundant timestamp for frame odom at time 1474.989000 according to authority unknown_publisher\u001b[0m\n",
      "\u001b[33m[ WARN] [1683854316.009454140, 1479.801000000]: TF_REPEATED_DATA ignoring data with redundant timestamp for frame odom at time 1479.828000 according to authority unknown_publisher\u001b[0m\n",
      "\u001b[33m[ WARN] [1683854318.082928669, 1480.687000000]: TF_REPEATED_DATA ignoring data with redundant timestamp for frame odom at time 1480.708000 according to authority unknown_publisher\u001b[0m\n",
      "\u001b[33m[ WARN] [1683854326.351164486, 1484.274000000]: TF_REPEATED_DATA ignoring data with redundant timestamp for frame odom at time 1484.307000 according to authority unknown_publisher\u001b[0m\n",
      "\u001b[33m[ WARN] [1683854326.505756785, 1484.358000000]: TF_REPEATED_DATA ignoring data with redundant timestamp for frame odom at time 1484.388000 according to authority unknown_publisher\u001b[0m\n",
      "\u001b[33m[ WARN] [1683854333.400997670, 1487.452000000]: TF_REPEATED_DATA ignoring data with redundant timestamp for frame odom at time 1487.488000 according to authority unknown_publisher\u001b[0m\n",
      "\u001b[33m[ WARN] [1683854334.013131318, 1487.740000000]: TF_REPEATED_DATA ignoring data with redundant timestamp for frame odom at time 1487.768000 according to authority unknown_publisher\u001b[0m\n",
      "\u001b[33m[ WARN] [1683854340.995651233, 1490.750000000]: TF_REPEATED_DATA ignoring data with redundant timestamp for frame odom at time 1490.769000 according to authority unknown_publisher\u001b[0m\n",
      "\u001b[33m[ WARN] [1683854351.209377182, 1495.295000000]: TF_REPEATED_DATA ignoring data with redundant timestamp for frame odom at time 1495.318000 according to authority unknown_publisher\u001b[0m\n",
      "\u001b[33m[ WARN] [1683854353.794068648, 1496.381000000]: TF_REPEATED_DATA ignoring data with redundant timestamp for frame odom at time 1496.412000 according to authority unknown_publisher\u001b[0m\n",
      "\u001b[33m[ WARN] [1683854354.879083967, 1496.902000000]: TF_REPEATED_DATA ignoring data with redundant timestamp for frame odom at time 1496.922000 according to authority unknown_publisher\u001b[0m\n",
      "\u001b[33m[ WARN] [1683854355.699056718, 1497.259000000]: TF_REPEATED_DATA ignoring data with redundant timestamp for frame odom at time 1497.289000 according to authority unknown_publisher\u001b[0m\n",
      "\u001b[33m[ WARN] [1683854361.838177330, 1499.985000000]: TF_REPEATED_DATA ignoring data with redundant timestamp for frame odom at time 1500.024000 according to authority unknown_publisher\u001b[0m\n",
      "\u001b[33m[ WARN] [1683854362.400183541, 1500.264000000]: TF_REPEATED_DATA ignoring data with redundant timestamp for frame odom at time 1500.293000 according to authority unknown_publisher\u001b[0m\n",
      "\u001b[33m[ WARN] [1683854365.766012692, 1501.798000000]: TF_REPEATED_DATA ignoring data with redundant timestamp for frame odom at time 1501.823000 according to authority unknown_publisher\u001b[0m\n",
      "\u001b[33m[ WARN] [1683854370.004018706, 1503.761000000]: TF_REPEATED_DATA ignoring data with redundant timestamp for frame odom at time 1503.782000 according to authority unknown_publisher\u001b[0m\n",
      "\u001b[33m[ WARN] [1683854377.224091978, 1506.958000000]: TF_REPEATED_DATA ignoring data with redundant timestamp for frame odom at time 1506.978000 according to authority unknown_publisher\u001b[0m\n",
      "\u001b[33m[ WARN] [1683854378.242981111, 1507.427000000]: TF_REPEATED_DATA ignoring data with redundant timestamp for frame odom at time 1507.449000 according to authority unknown_publisher\u001b[0m\n",
      "\u001b[33m[ WARN] [1683854385.933501398, 1510.780000000]: TF_REPEATED_DATA ignoring data with redundant timestamp for frame odom at time 1510.780000 according to authority unknown_publisher\u001b[0m\n",
      "\u001b[33m[ WARN] [1683854389.289390458, 1512.255000000]: TF_REPEATED_DATA ignoring data with redundant timestamp for frame odom at time 1512.279000 according to authority unknown_publisher\u001b[0m\n",
      "\u001b[33m[ WARN] [1683854389.945204410, 1512.529000000]: TF_REPEATED_DATA ignoring data with redundant timestamp for frame odom at time 1512.556000 according to authority unknown_publisher\u001b[0m\n",
      "\u001b[33m[ WARN] [1683854392.168385216, 1513.502000000]: TF_REPEATED_DATA ignoring data with redundant timestamp for frame odom at time 1513.525000 according to authority unknown_publisher\u001b[0m\n",
      "\u001b[33m[ WARN] [1683854393.942760691, 1514.276000000]: TF_REPEATED_DATA ignoring data with redundant timestamp for frame odom at time 1514.312000 according to authority unknown_publisher\u001b[0m\n",
      "\u001b[33m[ WARN] [1683854401.368619798, 1517.510000000]: TF_REPEATED_DATA ignoring data with redundant timestamp for frame odom at time 1517.536000 according to authority unknown_publisher\u001b[0m\n",
      "\u001b[33m[ WARN] [1683854402.647068152, 1518.097000000]: TF_REPEATED_DATA ignoring data with redundant timestamp for frame odom at time 1518.120000 according to authority unknown_publisher\u001b[0m\n",
      "\u001b[33m[ WARN] [1683854403.350297806, 1518.423000000]: TF_REPEATED_DATA ignoring data with redundant timestamp for frame odom at time 1518.437000 according to authority unknown_publisher\u001b[0m\n",
      "\u001b[33m[ WARN] [1683854404.777262199, 1519.105000000]: TF_REPEATED_DATA ignoring data with redundant timestamp for frame odom at time 1519.139000 according to authority unknown_publisher\u001b[0m\n",
      "\u001b[33m[ WARN] [1683854411.142769159, 1521.982000000]: TF_REPEATED_DATA ignoring data with redundant timestamp for frame odom at time 1522.011000 according to authority unknown_publisher\u001b[0m\n",
      "\u001b[33m[ WARN] [1683854412.863603388, 1522.754000000]: TF_REPEATED_DATA ignoring data with redundant timestamp for frame odom at time 1522.784000 according to authority unknown_publisher\u001b[0m\n",
      "\u001b[33m[ WARN] [1683854434.055944144, 1532.010000000]: TF_REPEATED_DATA ignoring data with redundant timestamp for frame odom at time 1532.032000 according to authority unknown_publisher\u001b[0m\n",
      "\u001b[33m[ WARN] [1683854442.320513635, 1535.402000000]: TF_REPEATED_DATA ignoring data with redundant timestamp for frame odom at time 1535.436000 according to authority unknown_publisher\u001b[0m\n",
      "\u001b[33m[ WARN] [1683854443.108473359, 1535.757000000]: TF_REPEATED_DATA ignoring data with redundant timestamp for frame odom at time 1535.779000 according to authority unknown_publisher\u001b[0m\n",
      "\u001b[33m[ WARN] [1683854449.651583274, 1538.498000000]: TF_REPEATED_DATA ignoring data with redundant timestamp for frame odom at time 1538.523000 according to authority unknown_publisher\u001b[0m\n",
      "\u001b[33m[ WARN] [1683854450.801259126, 1538.989000000]: TF_REPEATED_DATA ignoring data with redundant timestamp for frame odom at time 1539.037000 according to authority unknown_publisher\u001b[0m\n",
      "\u001b[33m[ WARN] [1683854457.309554903, 1541.747000000]: TF_REPEATED_DATA ignoring data with redundant timestamp for frame odom at time 1541.776000 according to authority unknown_publisher\u001b[0m\n",
      "\u001b[33m[ WARN] [1683854478.127393771, 1550.435000000]: TF_REPEATED_DATA ignoring data with redundant timestamp for frame odom at time 1550.459000 according to authority unknown_publisher\u001b[0m\n",
      "\u001b[33m[ WARN] [1683854490.556340468, 1555.835000000]: TF_REPEATED_DATA ignoring data with redundant timestamp for frame odom at time 1555.854000 according to authority unknown_publisher\u001b[0m\n",
      "\u001b[33m[ WARN] [1683854490.838205216, 1555.946000000]: TF_REPEATED_DATA ignoring data with redundant timestamp for frame odom at time 1555.966000 according to authority unknown_publisher\u001b[0m\n"
     ]
    }
   ],
   "source": [
    "wb_gp=whole_body.get_current_pose()            \n",
    "wb_gp.header.frame_id=\"Target\"\n",
    "wb_gp.pose.position.x=0.02669\n",
    "wb_gp.pose.position.y=0.045\n",
    "wb_gp.pose.position.z= 0.033\n",
    "wb_gp.pose.orientation.w=-0.990\n",
    "wb_gp.pose.orientation.x= 0.0246\n",
    "wb_gp.pose.orientation.y= -0.0085\n",
    "wb_gp.pose.orientation.z= 0.1345\n",
    "\n"
   ]
  },
  {
   "cell_type": "code",
   "execution_count": 3,
   "id": "9dadce42",
   "metadata": {},
   "outputs": [
    {
     "data": {
      "text/plain": [
       "header: \n",
       "  seq: 0\n",
       "  stamp: \n",
       "    secs: 515\n",
       "    nsecs: 466000000\n",
       "  frame_id: \"odom\"\n",
       "pose: \n",
       "  position: \n",
       "    x: 0.02669\n",
       "    y: 0.045\n",
       "    z: 0.033\n",
       "  orientation: \n",
       "    x: 0.0246\n",
       "    y: -0.0085\n",
       "    z: 0.1345\n",
       "    w: -0.99"
      ]
     },
     "execution_count": 3,
     "metadata": {},
     "output_type": "execute_result"
    },
    {
     "name": "stderr",
     "output_type": "stream",
     "text": [
      "\u001b[33m[ WARN] [1683852131.849285067, 520.534000000]: TF_REPEATED_DATA ignoring data with redundant timestamp for frame odom at time 520.560000 according to authority unknown_publisher\u001b[0m\n",
      "\u001b[33m[ WARN] [1683852131.850083880, 520.534000000]: TF_REPEATED_DATA ignoring data with redundant timestamp for frame odom at time 520.560000 according to authority /pose_integrator\u001b[0m\n",
      "\u001b[33m[ WARN] [1683852131.850155210, 520.534000000]: TF_REPEATED_DATA ignoring data with redundant timestamp for frame odom at time 520.560000 according to authority /pose_integrator\u001b[0m\n",
      "\u001b[33m[ WARN] [1683852131.850196151, 520.534000000]: TF_REPEATED_DATA ignoring data with redundant timestamp for frame odom at time 520.560000 according to authority /pose_integrator\u001b[0m\n",
      "\u001b[33m[ WARN] [1683852131.850238444, 520.534000000]: TF_REPEATED_DATA ignoring data with redundant timestamp for frame odom at time 520.560000 according to authority /pose_integrator\u001b[0m\n",
      "\u001b[33m[ WARN] [1683852131.850287815, 520.534000000]: TF_REPEATED_DATA ignoring data with redundant timestamp for frame odom at time 520.560000 according to authority /pose_integrator\u001b[0m\n",
      "\u001b[33m[ WARN] [1683852131.850333375, 520.534000000]: TF_REPEATED_DATA ignoring data with redundant timestamp for frame odom at time 520.560000 according to authority /pose_integrator\u001b[0m\n",
      "\u001b[33m[ WARN] [1683852142.987404279, 525.369000000]: TF_REPEATED_DATA ignoring data with redundant timestamp for frame odom at time 525.389000 according to authority /pose_integrator\u001b[0m\n",
      "\u001b[33m[ WARN] [1683852142.987484059, 525.369000000]: TF_REPEATED_DATA ignoring data with redundant timestamp for frame odom at time 525.389000 according to authority /pose_integrator\u001b[0m\n",
      "\u001b[33m[ WARN] [1683852142.987537614, 525.369000000]: TF_REPEATED_DATA ignoring data with redundant timestamp for frame odom at time 525.389000 according to authority /pose_integrator\u001b[0m\n",
      "\u001b[33m[ WARN] [1683852142.987605203, 525.369000000]: TF_REPEATED_DATA ignoring data with redundant timestamp for frame odom at time 525.389000 according to authority /pose_integrator\u001b[0m\n",
      "\u001b[33m[ WARN] [1683852142.987666865, 525.369000000]: TF_REPEATED_DATA ignoring data with redundant timestamp for frame odom at time 525.389000 according to authority /pose_integrator\u001b[0m\n",
      "\u001b[33m[ WARN] [1683852142.987713675, 525.369000000]: TF_REPEATED_DATA ignoring data with redundant timestamp for frame odom at time 525.389000 according to authority /pose_integrator\u001b[0m\n",
      "\u001b[33m[ WARN] [1683852142.988140339, 525.369000000]: TF_REPEATED_DATA ignoring data with redundant timestamp for frame odom at time 525.389000 according to authority unknown_publisher\u001b[0m\n",
      "\u001b[33m[ WARN] [1683852177.865705369, 540.825000000]: TF_REPEATED_DATA ignoring data with redundant timestamp for frame odom at time 540.838000 according to authority unknown_publisher\u001b[0m\n",
      "\u001b[33m[ WARN] [1683852177.866757231, 540.825000000]: TF_REPEATED_DATA ignoring data with redundant timestamp for frame odom at time 540.838000 according to authority /pose_integrator\u001b[0m\n",
      "\u001b[33m[ WARN] [1683852177.866826071, 540.825000000]: TF_REPEATED_DATA ignoring data with redundant timestamp for frame odom at time 540.838000 according to authority /pose_integrator\u001b[0m\n",
      "\u001b[33m[ WARN] [1683852177.866910418, 540.825000000]: TF_REPEATED_DATA ignoring data with redundant timestamp for frame odom at time 540.838000 according to authority /pose_integrator\u001b[0m\n",
      "\u001b[33m[ WARN] [1683852177.866982550, 540.825000000]: TF_REPEATED_DATA ignoring data with redundant timestamp for frame odom at time 540.838000 according to authority /pose_integrator\u001b[0m\n",
      "\u001b[33m[ WARN] [1683852177.867052359, 540.825000000]: TF_REPEATED_DATA ignoring data with redundant timestamp for frame odom at time 540.838000 according to authority /pose_integrator\u001b[0m\n",
      "\u001b[33m[ WARN] [1683852177.867120758, 540.825000000]: TF_REPEATED_DATA ignoring data with redundant timestamp for frame odom at time 540.838000 according to authority /pose_integrator\u001b[0m\n",
      "\u001b[33m[ WARN] [1683852195.206723117, 548.751000000]: TF_REPEATED_DATA ignoring data with redundant timestamp for frame odom at time 548.773000 according to authority unknown_publisher\u001b[0m\n",
      "\u001b[33m[ WARN] [1683852195.207934991, 548.751000000]: TF_REPEATED_DATA ignoring data with redundant timestamp for frame odom at time 548.773000 according to authority /pose_integrator\u001b[0m\n",
      "\u001b[33m[ WARN] [1683852195.208021658, 548.751000000]: TF_REPEATED_DATA ignoring data with redundant timestamp for frame odom at time 548.773000 according to authority /pose_integrator\u001b[0m\n",
      "\u001b[33m[ WARN] [1683852195.208088931, 548.751000000]: TF_REPEATED_DATA ignoring data with redundant timestamp for frame odom at time 548.773000 according to authority /pose_integrator\u001b[0m\n",
      "\u001b[33m[ WARN] [1683852195.208144536, 548.751000000]: TF_REPEATED_DATA ignoring data with redundant timestamp for frame odom at time 548.773000 according to authority /pose_integrator\u001b[0m\n",
      "\u001b[33m[ WARN] [1683852195.208204522, 548.751000000]: TF_REPEATED_DATA ignoring data with redundant timestamp for frame odom at time 548.773000 according to authority /pose_integrator\u001b[0m\n",
      "\u001b[33m[ WARN] [1683852195.208269622, 548.751000000]: TF_REPEATED_DATA ignoring data with redundant timestamp for frame odom at time 548.773000 according to authority /pose_integrator\u001b[0m\n"
     ]
    }
   ],
   "source": []
  },
  {
   "cell_type": "code",
   "execution_count": 5,
   "id": "85cfad64",
   "metadata": {},
   "outputs": [],
   "source": [
    "aaa"
   ]
  },
  {
   "cell_type": "code",
   "execution_count": 1,
   "id": "05aab8d3",
   "metadata": {},
   "outputs": [],
   "source": [
    "from smach_ros import ActionServerWrapper"
   ]
  },
  {
   "cell_type": "code",
   "execution_count": null,
   "id": "42d59559",
   "metadata": {},
   "outputs": [],
   "source": [
    "from action_pickup_floor.msg import PickUpAction"
   ]
  }
 ],
 "metadata": {
  "kernelspec": {
   "display_name": "Python 3 (ipykernel)",
   "language": "python",
   "name": "python3"
  },
  "language_info": {
   "codemirror_mode": {
    "name": "ipython",
    "version": 3
   },
   "file_extension": ".py",
   "mimetype": "text/x-python",
   "name": "python",
   "nbconvert_exporter": "python",
   "pygments_lexer": "ipython3",
   "version": "3.8.10"
  }
 },
 "nbformat": 4,
 "nbformat_minor": 5
}

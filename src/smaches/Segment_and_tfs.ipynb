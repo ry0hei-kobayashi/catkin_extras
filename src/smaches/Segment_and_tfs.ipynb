{
 "cells": [
  {
   "cell_type": "code",
   "execution_count": null,
   "id": "b878d9d1",
   "metadata": {},
   "outputs": [],
   "source": [
    "from smach_utils2 import *"
   ]
  },
  {
   "cell_type": "code",
   "execution_count": null,
   "id": "327893d4",
   "metadata": {},
   "outputs": [],
   "source": [
    "tfBuffer = tf2.Buffer()\n",
    "\n",
    "listener = tf2.TransformListener(tfBuffer)\n",
    "b_tf=tf2.TransformBroadcaster()\n",
    "b_st=tf2.StaticTransformBroadcaster()\n"
   ]
  },
  {
   "cell_type": "code",
   "execution_count": null,
   "id": "a956cd50",
   "metadata": {},
   "outputs": [],
   "source": []
  },
  {
   "cell_type": "code",
   "execution_count": null,
   "id": "9516a610",
   "metadata": {},
   "outputs": [],
   "source": [
    "def write_tf(pose, q, child_frame , parent_frame='map',time=0):\n",
    "    t= TransformStamped()\n",
    "    t.header.stamp = rospy.Time.now()\n",
    "    t.header.frame_id =parent_frame\n",
    "    t.child_frame_id =  child_frame\n",
    "    t.transform.translation.x = pose[0]\n",
    "    t.transform.translation.y = pose[1]\n",
    "    t.transform.translation.z = pose[2]\n",
    "    #q = tf.transformations.quaternion_from_euler(eu[0], eu[1], eu[2])\n",
    "    t.transform.rotation.x = q[0]\n",
    "    t.transform.rotation.y = q[1]\n",
    "    t.transform.rotation.z = q[2]\n",
    "    t.transform.rotation.w = q[3]\n",
    "    return t\n",
    "def read_tf(t):\n",
    "    pose=np.asarray((\n",
    "        t.transform.translation.x,\n",
    "        t.transform.translation.y,\n",
    "        t.transform.translation.z\n",
    "        ))\n",
    "    quat=np.asarray((\n",
    "        t.transform.rotation.x,\n",
    "        t.transform.rotation.y,\n",
    "        t.transform.rotation.z,\n",
    "        t.transform.rotation.w\n",
    "        ))\n",
    "    \n",
    "    return pose, quat\n"
   ]
  },
  {
   "cell_type": "code",
   "execution_count": null,
   "id": "2979f285",
   "metadata": {},
   "outputs": [],
   "source": [
    "res=segmentation_server.call()"
   ]
  },
  {
   "cell_type": "code",
   "execution_count": null,
   "id": "a7a211f6",
   "metadata": {},
   "outputs": [],
   "source": [
    "res"
   ]
  },
  {
   "cell_type": "code",
   "execution_count": null,
   "id": "81ad906a",
   "metadata": {},
   "outputs": [],
   "source": [
    "poses=np.asarray(res.poses.data)\n",
    "\n",
    "poses=poses.reshape((int(len(poses)/3) ,3     )      )"
   ]
  },
  {
   "cell_type": "code",
   "execution_count": null,
   "id": "edc62c5b",
   "metadata": {},
   "outputs": [],
   "source": [
    "head.set_named_target('neutral')"
   ]
  },
  {
   "cell_type": "code",
   "execution_count": null,
   "id": "1aa0f955",
   "metadata": {},
   "outputs": [],
   "source": [
    "#t=write_tf(res.poses.data,(0,0,0,1),'Target',\"head_rgbd_sensor_depth_frame\",0)\n",
    "t=write_tf(poses[0,:],(0,0,0,1),'Target_tmp',\"head_rgbd_sensor_depth_frame\",0) ## CHOOSE A TARGET \n",
    "\n",
    "b_tf.sendTransform(t)\n",
    "rospy.sleep(0.2)\n",
    "tt=tfBuffer.lookup_transform('map','object_0',rospy.Time(0))\n",
    "rospy.sleep(0.2)\n",
    "tt\n",
    "pose,quat= read_tf(tt)\n",
    "t=write_tf(pose,(0,0,0,1),'Target')\n",
    "b_st.sendTransform(t)\n"
   ]
  },
  {
   "cell_type": "code",
   "execution_count": 1,
   "id": "6a6fb5c5",
   "metadata": {},
   "outputs": [
    {
     "name": "stderr",
     "output_type": "stream",
     "text": [
      "\u001b[33m[ WARN] [1703001723.696890771]: Link hand_l_finger_vacuum_frame has visual geometry but no collision geometry. Collision geometry will be left empty. Fix your URDF file by explicitly specifying collision geometry.\u001b[0m\n",
      "\u001b[33m[ WARN] [1703001723.701666753]: Link head_l_stereo_camera_link has visual geometry but no collision geometry. Collision geometry will be left empty. Fix your URDF file by explicitly specifying collision geometry.\u001b[0m\n",
      "\u001b[33m[ WARN] [1703001723.701745413]: Link head_r_stereo_camera_link has visual geometry but no collision geometry. Collision geometry will be left empty. Fix your URDF file by explicitly specifying collision geometry.\u001b[0m\n",
      "\u001b[33m[ WARN] [1703001723.703352988]: Group state 'neutral' doesn't specify all group joints in group 'arm'. wrist_ft_sensor_frame_joint is missing.\u001b[0m\n",
      "\u001b[33m[ WARN] [1703001723.703443740]: Group state 'go' doesn't specify all group joints in group 'arm'. wrist_ft_sensor_frame_joint is missing.\u001b[0m\n",
      "\u001b[33m[ WARN] [1703001723.840594879]: Kinematics solver doesn't support #attempts anymore, but only a timeout.\n",
      "Please remove the parameter '/robot_description_kinematics/arm/kinematics_solver_attempts' from your configuration.\u001b[0m\n",
      "\u001b[33m[ WARN] [1703001723.906561232]: IK plugin for group 'whole_body' relies on deprecated API. Please implement initialize(RobotModel, ...).\u001b[0m\n",
      "\u001b[33m[ WARN] [1703001723.919606415]: IK plugin for group 'whole_body_weighted' relies on deprecated API. Please implement initialize(RobotModel, ...).\u001b[0m\n",
      "\u001b[33m[ WARN] [1703001723.928252199]: IK plugin for group 'whole_body_light' relies on deprecated API. Please implement initialize(RobotModel, ...).\u001b[0m\n",
      "\u001b[33m[ WARN] [1703001724.002921755]: TF_REPEATED_DATA ignoring data with redundant timestamp for frame odom at time 4043.983000 according to authority unknown_publisher\u001b[0m\n",
      "\u001b[33m[ WARN] [1703001724.150098364, 4044.024000000]: TF_REPEATED_DATA ignoring data with redundant timestamp for frame odom at time 4044.051000 according to authority unknown_publisher\u001b[0m\n",
      "\u001b[33m[ WARN] [1703001725.096496057, 4044.419000000]: TF_REPEATED_DATA ignoring data with redundant timestamp for frame odom at time 4043.983000 according to authority /pose_integrator\u001b[0m\n",
      "\u001b[33m[ WARN] [1703001725.096581038, 4044.419000000]: TF_REPEATED_DATA ignoring data with redundant timestamp for frame odom at time 4043.983000 according to authority /pose_integrator\u001b[0m\n",
      "\u001b[33m[ WARN] [1703001725.096637481, 4044.419000000]: TF_REPEATED_DATA ignoring data with redundant timestamp for frame odom at time 4043.983000 according to authority /pose_integrator\u001b[0m\n",
      "\u001b[33m[ WARN] [1703001725.096695530, 4044.419000000]: TF_REPEATED_DATA ignoring data with redundant timestamp for frame odom at time 4043.983000 according to authority /pose_integrator\u001b[0m\n",
      "\u001b[33m[ WARN] [1703001725.096744539, 4044.419000000]: TF_REPEATED_DATA ignoring data with redundant timestamp for frame odom at time 4043.983000 according to authority /pose_integrator\u001b[0m\n",
      "\u001b[33m[ WARN] [1703001725.096783522, 4044.419000000]: TF_REPEATED_DATA ignoring data with redundant timestamp for frame odom at time 4043.983000 according to authority /pose_integrator\u001b[0m\n",
      "\u001b[33m[ WARN] [1703001725.096916200, 4044.419000000]: TF_REPEATED_DATA ignoring data with redundant timestamp for frame odom at time 4044.051000 according to authority /pose_integrator\u001b[0m\n",
      "\u001b[33m[ WARN] [1703001725.096973642, 4044.419000000]: TF_REPEATED_DATA ignoring data with redundant timestamp for frame odom at time 4044.051000 according to authority /pose_integrator\u001b[0m\n",
      "\u001b[33m[ WARN] [1703001725.097019889, 4044.419000000]: TF_REPEATED_DATA ignoring data with redundant timestamp for frame odom at time 4044.051000 according to authority /pose_integrator\u001b[0m\n",
      "\u001b[33m[ WARN] [1703001725.097067062, 4044.419000000]: TF_REPEATED_DATA ignoring data with redundant timestamp for frame odom at time 4044.051000 according to authority /pose_integrator\u001b[0m\n",
      "\u001b[33m[ WARN] [1703001725.097125121, 4044.419000000]: TF_REPEATED_DATA ignoring data with redundant timestamp for frame odom at time 4044.051000 according to authority /pose_integrator\u001b[0m\n",
      "\u001b[33m[ WARN] [1703001725.097174003, 4044.419000000]: TF_REPEATED_DATA ignoring data with redundant timestamp for frame odom at time 4044.051000 according to authority /pose_integrator\u001b[0m\n",
      "\u001b[33m[ WARN] [1703001726.553291229, 4044.979000000]: TF_REPEATED_DATA ignoring data with redundant timestamp for frame odom at time 4044.999000 according to authority /pose_integrator\u001b[0m\n",
      "\u001b[33m[ WARN] [1703001726.553359131, 4044.979000000]: TF_REPEATED_DATA ignoring data with redundant timestamp for frame odom at time 4044.999000 according to authority /pose_integrator\u001b[0m\n",
      "\u001b[33m[ WARN] [1703001726.553414692, 4044.979000000]: TF_REPEATED_DATA ignoring data with redundant timestamp for frame odom at time 4044.999000 according to authority /pose_integrator\u001b[0m\n",
      "\u001b[33m[ WARN] [1703001726.553461837, 4044.979000000]: TF_REPEATED_DATA ignoring data with redundant timestamp for frame odom at time 4044.999000 according to authority /pose_integrator\u001b[0m\n",
      "\u001b[33m[ WARN] [1703001726.553507903, 4044.979000000]: TF_REPEATED_DATA ignoring data with redundant timestamp for frame odom at time 4044.999000 according to authority /pose_integrator\u001b[0m\n",
      "\u001b[33m[ WARN] [1703001726.553554682, 4044.979000000]: TF_REPEATED_DATA ignoring data with redundant timestamp for frame odom at time 4044.999000 according to authority /pose_integrator\u001b[0m\n",
      "\u001b[33m[ WARN] [1703001726.553619675, 4044.979000000]: TF_REPEATED_DATA ignoring data with redundant timestamp for frame odom at time 4044.999000 according to authority unknown_publisher\u001b[0m\n",
      "\u001b[33m[ WARN] [1703001726.669275157, 4045.030000000]: TF_REPEATED_DATA ignoring data with redundant timestamp for frame odom at time 4045.051000 according to authority /pose_integrator\u001b[0m\n",
      "\u001b[33m[ WARN] [1703001726.669345721, 4045.030000000]: TF_REPEATED_DATA ignoring data with redundant timestamp for frame odom at time 4045.051000 according to authority /pose_integrator\u001b[0m\n",
      "\u001b[33m[ WARN] [1703001726.669383357, 4045.030000000]: TF_REPEATED_DATA ignoring data with redundant timestamp for frame odom at time 4045.051000 according to authority /pose_integrator\u001b[0m\n",
      "\u001b[33m[ WARN] [1703001726.669431381, 4045.030000000]: TF_REPEATED_DATA ignoring data with redundant timestamp for frame odom at time 4045.051000 according to authority /pose_integrator\u001b[0m\n",
      "\u001b[33m[ WARN] [1703001726.669464033, 4045.030000000]: TF_REPEATED_DATA ignoring data with redundant timestamp for frame odom at time 4045.051000 according to authority /pose_integrator\u001b[0m\n",
      "\u001b[33m[ WARN] [1703001726.669495951, 4045.030000000]: TF_REPEATED_DATA ignoring data with redundant timestamp for frame odom at time 4045.051000 according to authority /pose_integrator\u001b[0m\n",
      "\u001b[33m[ WARN] [1703001726.670500549, 4045.030000000]: TF_REPEATED_DATA ignoring data with redundant timestamp for frame odom at time 4045.051000 according to authority unknown_publisher\u001b[0m\n"
     ]
    }
   ],
   "source": [
    "#head = moveit_commander.MoveGroupCommander('head')\n",
    "#gripper =  moveit_commander.MoveGroupCommander('gripper')\n",
    "#arm=moveit_commander.MoveGroupCommander('arm')\n",
    "from smach_utils2 import *\n",
    "whole_body= moveit_commander.MoveGroupCommander('whole_body')"
   ]
  },
  {
   "cell_type": "code",
   "execution_count": 2,
   "id": "f3f4985d",
   "metadata": {},
   "outputs": [
    {
     "name": "stderr",
     "output_type": "stream",
     "text": [
      "\u001b[33m[ WARN] [1703001727.851671999, 4045.503000000]: TF_REPEATED_DATA ignoring data with redundant timestamp for frame odom at time 4045.568000 according to authority unknown_publisher\u001b[0m\n",
      "\u001b[33m[ WARN] [1703001727.864587003, 4045.503000000]: TF_REPEATED_DATA ignoring data with redundant timestamp for frame odom at time 4045.568000 according to authority /pose_integrator\u001b[0m\n",
      "\u001b[33m[ WARN] [1703001727.864661722, 4045.503000000]: TF_REPEATED_DATA ignoring data with redundant timestamp for frame odom at time 4045.568000 according to authority /pose_integrator\u001b[0m\n",
      "\u001b[33m[ WARN] [1703001727.864716621, 4045.503000000]: TF_REPEATED_DATA ignoring data with redundant timestamp for frame odom at time 4045.568000 according to authority /pose_integrator\u001b[0m\n",
      "\u001b[33m[ WARN] [1703001727.864776776, 4045.503000000]: TF_REPEATED_DATA ignoring data with redundant timestamp for frame odom at time 4045.568000 according to authority /pose_integrator\u001b[0m\n",
      "\u001b[33m[ WARN] [1703001727.864823129, 4045.503000000]: TF_REPEATED_DATA ignoring data with redundant timestamp for frame odom at time 4045.568000 according to authority /pose_integrator\u001b[0m\n",
      "\u001b[33m[ WARN] [1703001727.864870792, 4045.503000000]: TF_REPEATED_DATA ignoring data with redundant timestamp for frame odom at time 4045.568000 according to authority /pose_integrator\u001b[0m\n"
     ]
    }
   ],
   "source": [
    "brazo.set_named_target('go')"
   ]
  },
  {
   "cell_type": "code",
   "execution_count": 12,
   "id": "095c0b4f",
   "metadata": {},
   "outputs": [
    {
     "data": {
      "text/plain": [
       "geometry_msgs.msg._PoseStamped.PoseStamped"
      ]
     },
     "execution_count": 12,
     "metadata": {},
     "output_type": "execute_result"
    },
    {
     "name": "stderr",
     "output_type": "stream",
     "text": [
      "\u001b[33m[ WARN] [1703002181.946143709, 4243.811000000]: TF_REPEATED_DATA ignoring data with redundant timestamp for frame odom at time 4243.828000 according to authority /pose_integrator\u001b[0m\n",
      "\u001b[33m[ WARN] [1703002181.946221666, 4243.811000000]: TF_REPEATED_DATA ignoring data with redundant timestamp for frame odom at time 4243.828000 according to authority /pose_integrator\u001b[0m\n",
      "\u001b[33m[ WARN] [1703002181.946286621, 4243.811000000]: TF_REPEATED_DATA ignoring data with redundant timestamp for frame odom at time 4243.828000 according to authority /pose_integrator\u001b[0m\n",
      "\u001b[33m[ WARN] [1703002181.946336669, 4243.811000000]: TF_REPEATED_DATA ignoring data with redundant timestamp for frame odom at time 4243.828000 according to authority /pose_integrator\u001b[0m\n",
      "\u001b[33m[ WARN] [1703002181.946375243, 4243.811000000]: TF_REPEATED_DATA ignoring data with redundant timestamp for frame odom at time 4243.828000 according to authority /pose_integrator\u001b[0m\n",
      "\u001b[33m[ WARN] [1703002181.946415769, 4243.811000000]: TF_REPEATED_DATA ignoring data with redundant timestamp for frame odom at time 4243.828000 according to authority /pose_integrator\u001b[0m\n",
      "\u001b[33m[ WARN] [1703002181.946514620, 4243.811000000]: TF_REPEATED_DATA ignoring data with redundant timestamp for frame odom at time 4243.828000 according to authority unknown_publisher\u001b[0m\n",
      "\u001b[33m[ WARN] [1703002182.858884882, 4244.228000000]: TF_REPEATED_DATA ignoring data with redundant timestamp for frame odom at time 4244.251000 according to authority unknown_publisher\u001b[0m\n",
      "\u001b[33m[ WARN] [1703002182.860097219, 4244.228000000]: TF_REPEATED_DATA ignoring data with redundant timestamp for frame odom at time 4244.251000 according to authority /pose_integrator\u001b[0m\n",
      "\u001b[33m[ WARN] [1703002182.860161421, 4244.228000000]: TF_REPEATED_DATA ignoring data with redundant timestamp for frame odom at time 4244.251000 according to authority /pose_integrator\u001b[0m\n",
      "\u001b[33m[ WARN] [1703002182.860202583, 4244.228000000]: TF_REPEATED_DATA ignoring data with redundant timestamp for frame odom at time 4244.251000 according to authority /pose_integrator\u001b[0m\n",
      "\u001b[33m[ WARN] [1703002182.860248228, 4244.228000000]: TF_REPEATED_DATA ignoring data with redundant timestamp for frame odom at time 4244.251000 according to authority /pose_integrator\u001b[0m\n",
      "\u001b[33m[ WARN] [1703002182.860291143, 4244.228000000]: TF_REPEATED_DATA ignoring data with redundant timestamp for frame odom at time 4244.251000 according to authority /pose_integrator\u001b[0m\n",
      "\u001b[33m[ WARN] [1703002182.860342350, 4244.228000000]: TF_REPEATED_DATA ignoring data with redundant timestamp for frame odom at time 4244.251000 according to authority /pose_integrator\u001b[0m\n",
      "\u001b[33m[ WARN] [1703002183.210029876, 4244.336000000]: TF_REPEATED_DATA ignoring data with redundant timestamp for frame odom at time 4244.392000 according to authority unknown_publisher\u001b[0m\n",
      "\u001b[33m[ WARN] [1703002183.211873376, 4244.336000000]: TF_REPEATED_DATA ignoring data with redundant timestamp for frame odom at time 4244.392000 according to authority /pose_integrator\u001b[0m\n",
      "\u001b[33m[ WARN] [1703002183.211948574, 4244.336000000]: TF_REPEATED_DATA ignoring data with redundant timestamp for frame odom at time 4244.392000 according to authority /pose_integrator\u001b[0m\n",
      "\u001b[33m[ WARN] [1703002183.212021741, 4244.336000000]: TF_REPEATED_DATA ignoring data with redundant timestamp for frame odom at time 4244.392000 according to authority /pose_integrator\u001b[0m\n",
      "\u001b[33m[ WARN] [1703002183.212078946, 4244.336000000]: TF_REPEATED_DATA ignoring data with redundant timestamp for frame odom at time 4244.392000 according to authority /pose_integrator\u001b[0m\n",
      "\u001b[33m[ WARN] [1703002183.212134834, 4244.336000000]: TF_REPEATED_DATA ignoring data with redundant timestamp for frame odom at time 4244.392000 according to authority /pose_integrator\u001b[0m\n",
      "\u001b[33m[ WARN] [1703002183.212183802, 4244.336000000]: TF_REPEATED_DATA ignoring data with redundant timestamp for frame odom at time 4244.392000 according to authority /pose_integrator\u001b[0m\n",
      "\u001b[33m[ WARN] [1703002183.502760474, 4244.450000000]: TF_REPEATED_DATA ignoring data with redundant timestamp for frame odom at time 4244.488000 according to authority unknown_publisher\u001b[0m\n",
      "\u001b[33m[ WARN] [1703002183.503018159, 4244.450000000]: TF_REPEATED_DATA ignoring data with redundant timestamp for frame odom at time 4244.488000 according to authority /pose_integrator\u001b[0m\n",
      "\u001b[33m[ WARN] [1703002183.503092109, 4244.450000000]: TF_REPEATED_DATA ignoring data with redundant timestamp for frame odom at time 4244.488000 according to authority /pose_integrator\u001b[0m\n",
      "\u001b[33m[ WARN] [1703002183.503131364, 4244.450000000]: TF_REPEATED_DATA ignoring data with redundant timestamp for frame odom at time 4244.488000 according to authority /pose_integrator\u001b[0m\n",
      "\u001b[33m[ WARN] [1703002183.503182790, 4244.450000000]: TF_REPEATED_DATA ignoring data with redundant timestamp for frame odom at time 4244.488000 according to authority /pose_integrator\u001b[0m\n",
      "\u001b[33m[ WARN] [1703002183.503232922, 4244.450000000]: TF_REPEATED_DATA ignoring data with redundant timestamp for frame odom at time 4244.488000 according to authority /pose_integrator\u001b[0m\n",
      "\u001b[33m[ WARN] [1703002183.503279310, 4244.450000000]: TF_REPEATED_DATA ignoring data with redundant timestamp for frame odom at time 4244.488000 according to authority /pose_integrator\u001b[0m\n",
      "\u001b[33m[ WARN] [1703002183.983336054, 4244.623000000]: TF_REPEATED_DATA ignoring data with redundant timestamp for frame odom at time 4244.657000 according to authority unknown_publisher\u001b[0m\n",
      "\u001b[33m[ WARN] [1703002183.985199657, 4244.623000000]: TF_REPEATED_DATA ignoring data with redundant timestamp for frame odom at time 4244.657000 according to authority /pose_integrator\u001b[0m\n",
      "\u001b[33m[ WARN] [1703002183.985303420, 4244.623000000]: TF_REPEATED_DATA ignoring data with redundant timestamp for frame odom at time 4244.657000 according to authority /pose_integrator\u001b[0m\n",
      "\u001b[33m[ WARN] [1703002183.985362745, 4244.623000000]: TF_REPEATED_DATA ignoring data with redundant timestamp for frame odom at time 4244.657000 according to authority /pose_integrator\u001b[0m\n",
      "\u001b[33m[ WARN] [1703002183.985408305, 4244.623000000]: TF_REPEATED_DATA ignoring data with redundant timestamp for frame odom at time 4244.657000 according to authority /pose_integrator\u001b[0m\n",
      "\u001b[33m[ WARN] [1703002183.985460239, 4244.623000000]: TF_REPEATED_DATA ignoring data with redundant timestamp for frame odom at time 4244.657000 according to authority /pose_integrator\u001b[0m\n",
      "\u001b[33m[ WARN] [1703002183.985502475, 4244.623000000]: TF_REPEATED_DATA ignoring data with redundant timestamp for frame odom at time 4244.657000 according to authority /pose_integrator\u001b[0m\n",
      "\u001b[33m[ WARN] [1703002184.681860524, 4244.914000000]: TF_REPEATED_DATA ignoring data with redundant timestamp for frame odom at time 4244.936000 according to authority /pose_integrator\u001b[0m\n",
      "\u001b[33m[ WARN] [1703002184.681932555, 4244.914000000]: TF_REPEATED_DATA ignoring data with redundant timestamp for frame odom at time 4244.936000 according to authority /pose_integrator\u001b[0m\n",
      "\u001b[33m[ WARN] [1703002184.681975216, 4244.914000000]: TF_REPEATED_DATA ignoring data with redundant timestamp for frame odom at time 4244.936000 according to authority /pose_integrator\u001b[0m\n",
      "\u001b[33m[ WARN] [1703002184.682013972, 4244.914000000]: TF_REPEATED_DATA ignoring data with redundant timestamp for frame odom at time 4244.936000 according to authority /pose_integrator\u001b[0m\n",
      "\u001b[33m[ WARN] [1703002184.682052089, 4244.914000000]: TF_REPEATED_DATA ignoring data with redundant timestamp for frame odom at time 4244.936000 according to authority /pose_integrator\u001b[0m\n",
      "\u001b[33m[ WARN] [1703002184.682089727, 4244.914000000]: TF_REPEATED_DATA ignoring data with redundant timestamp for frame odom at time 4244.936000 according to authority /pose_integrator\u001b[0m\n",
      "\u001b[33m[ WARN] [1703002184.682267710, 4244.914000000]: TF_REPEATED_DATA ignoring data with redundant timestamp for frame odom at time 4244.936000 according to authority unknown_publisher\u001b[0m\n",
      "\u001b[33m[ WARN] [1703002185.988600857, 4245.407000000]: TF_REPEATED_DATA ignoring data with redundant timestamp for frame odom at time 4245.407000 according to authority /pose_integrator\u001b[0m\n",
      "\u001b[33m[ WARN] [1703002185.988679658, 4245.407000000]: TF_REPEATED_DATA ignoring data with redundant timestamp for frame odom at time 4245.407000 according to authority /pose_integrator\u001b[0m\n",
      "\u001b[33m[ WARN] [1703002185.988736121, 4245.407000000]: TF_REPEATED_DATA ignoring data with redundant timestamp for frame odom at time 4245.407000 according to authority /pose_integrator\u001b[0m\n",
      "\u001b[33m[ WARN] [1703002185.988781580, 4245.407000000]: TF_REPEATED_DATA ignoring data with redundant timestamp for frame odom at time 4245.407000 according to authority /pose_integrator\u001b[0m\n",
      "\u001b[33m[ WARN] [1703002185.988829775, 4245.407000000]: TF_REPEATED_DATA ignoring data with redundant timestamp for frame odom at time 4245.407000 according to authority /pose_integrator\u001b[0m\n",
      "\u001b[33m[ WARN] [1703002185.988878574, 4245.407000000]: TF_REPEATED_DATA ignoring data with redundant timestamp for frame odom at time 4245.407000 according to authority /pose_integrator\u001b[0m\n",
      "\u001b[33m[ WARN] [1703002185.989907616, 4245.407000000]: TF_REPEATED_DATA ignoring data with redundant timestamp for frame odom at time 4245.407000 according to authority unknown_publisher\u001b[0m\n"
     ]
    },
    {
     "name": "stderr",
     "output_type": "stream",
     "text": [
      "\u001b[33m[ WARN] [1703002186.620800247, 4245.588000000]: TF_REPEATED_DATA ignoring data with redundant timestamp for frame odom at time 4245.648000 according to authority /pose_integrator\u001b[0m\n",
      "\u001b[33m[ WARN] [1703002186.620860137, 4245.588000000]: TF_REPEATED_DATA ignoring data with redundant timestamp for frame odom at time 4245.648000 according to authority /pose_integrator\u001b[0m\n",
      "\u001b[33m[ WARN] [1703002186.620900693, 4245.588000000]: TF_REPEATED_DATA ignoring data with redundant timestamp for frame odom at time 4245.648000 according to authority /pose_integrator\u001b[0m\n",
      "\u001b[33m[ WARN] [1703002186.620936369, 4245.588000000]: TF_REPEATED_DATA ignoring data with redundant timestamp for frame odom at time 4245.648000 according to authority /pose_integrator\u001b[0m\n",
      "\u001b[33m[ WARN] [1703002186.620969435, 4245.588000000]: TF_REPEATED_DATA ignoring data with redundant timestamp for frame odom at time 4245.648000 according to authority /pose_integrator\u001b[0m\n",
      "\u001b[33m[ WARN] [1703002186.620998884, 4245.588000000]: TF_REPEATED_DATA ignoring data with redundant timestamp for frame odom at time 4245.648000 according to authority /pose_integrator\u001b[0m\n",
      "\u001b[33m[ WARN] [1703002186.621617796, 4245.588000000]: TF_REPEATED_DATA ignoring data with redundant timestamp for frame odom at time 4245.648000 according to authority unknown_publisher\u001b[0m\n",
      "\u001b[33m[ WARN] [1703002186.937454322, 4245.758000000]: TF_REPEATED_DATA ignoring data with redundant timestamp for frame odom at time 4245.791000 according to authority unknown_publisher\u001b[0m\n",
      "\u001b[33m[ WARN] [1703002186.940894850, 4245.758000000]: TF_REPEATED_DATA ignoring data with redundant timestamp for frame odom at time 4245.791000 according to authority /pose_integrator\u001b[0m\n",
      "\u001b[33m[ WARN] [1703002186.940970766, 4245.758000000]: TF_REPEATED_DATA ignoring data with redundant timestamp for frame odom at time 4245.791000 according to authority /pose_integrator\u001b[0m\n",
      "\u001b[33m[ WARN] [1703002186.941013850, 4245.758000000]: TF_REPEATED_DATA ignoring data with redundant timestamp for frame odom at time 4245.791000 according to authority /pose_integrator\u001b[0m\n",
      "\u001b[33m[ WARN] [1703002186.941051780, 4245.758000000]: TF_REPEATED_DATA ignoring data with redundant timestamp for frame odom at time 4245.791000 according to authority /pose_integrator\u001b[0m\n",
      "\u001b[33m[ WARN] [1703002186.941088847, 4245.758000000]: TF_REPEATED_DATA ignoring data with redundant timestamp for frame odom at time 4245.791000 according to authority /pose_integrator\u001b[0m\n",
      "\u001b[33m[ WARN] [1703002186.941124791, 4245.758000000]: TF_REPEATED_DATA ignoring data with redundant timestamp for frame odom at time 4245.791000 according to authority /pose_integrator\u001b[0m\n",
      "\u001b[33m[ WARN] [1703002187.094515233, 4245.827000000]: TF_REPEATED_DATA ignoring data with redundant timestamp for frame odom at time 4245.862000 according to authority unknown_publisher\u001b[0m\n",
      "\u001b[33m[ WARN] [1703002187.102573784, 4245.862000000]: TF_REPEATED_DATA ignoring data with redundant timestamp for frame odom at time 4245.862000 according to authority /pose_integrator\u001b[0m\n",
      "\u001b[33m[ WARN] [1703002187.102647643, 4245.862000000]: TF_REPEATED_DATA ignoring data with redundant timestamp for frame odom at time 4245.862000 according to authority /pose_integrator\u001b[0m\n",
      "\u001b[33m[ WARN] [1703002187.102701335, 4245.862000000]: TF_REPEATED_DATA ignoring data with redundant timestamp for frame odom at time 4245.862000 according to authority /pose_integrator\u001b[0m\n",
      "\u001b[33m[ WARN] [1703002187.102748686, 4245.862000000]: TF_REPEATED_DATA ignoring data with redundant timestamp for frame odom at time 4245.862000 according to authority /pose_integrator\u001b[0m\n",
      "\u001b[33m[ WARN] [1703002187.102794467, 4245.862000000]: TF_REPEATED_DATA ignoring data with redundant timestamp for frame odom at time 4245.862000 according to authority /pose_integrator\u001b[0m\n",
      "\u001b[33m[ WARN] [1703002187.102851517, 4245.862000000]: TF_REPEATED_DATA ignoring data with redundant timestamp for frame odom at time 4245.862000 according to authority /pose_integrator\u001b[0m\n",
      "\u001b[33m[ WARN] [1703002187.303243939, 4245.917000000]: TF_REPEATED_DATA ignoring data with redundant timestamp for frame odom at time 4245.961000 according to authority unknown_publisher\u001b[0m\n",
      "\u001b[33m[ WARN] [1703002187.303879083, 4245.917000000]: TF_REPEATED_DATA ignoring data with redundant timestamp for frame odom at time 4245.961000 according to authority /pose_integrator\u001b[0m\n",
      "\u001b[33m[ WARN] [1703002187.303949982, 4245.917000000]: TF_REPEATED_DATA ignoring data with redundant timestamp for frame odom at time 4245.961000 according to authority /pose_integrator\u001b[0m\n",
      "\u001b[33m[ WARN] [1703002187.304002415, 4245.917000000]: TF_REPEATED_DATA ignoring data with redundant timestamp for frame odom at time 4245.961000 according to authority /pose_integrator\u001b[0m\n",
      "\u001b[33m[ WARN] [1703002187.304049831, 4245.917000000]: TF_REPEATED_DATA ignoring data with redundant timestamp for frame odom at time 4245.961000 according to authority /pose_integrator\u001b[0m\n",
      "\u001b[33m[ WARN] [1703002187.304105170, 4245.917000000]: TF_REPEATED_DATA ignoring data with redundant timestamp for frame odom at time 4245.961000 according to authority /pose_integrator\u001b[0m\n",
      "\u001b[33m[ WARN] [1703002187.304158925, 4245.917000000]: TF_REPEATED_DATA ignoring data with redundant timestamp for frame odom at time 4245.961000 according to authority /pose_integrator\u001b[0m\n",
      "\u001b[33m[ WARN] [1703002188.502823849, 4246.413000000]: TF_REPEATED_DATA ignoring data with redundant timestamp for frame odom at time 4246.439000 according to authority unknown_publisher\u001b[0m\n",
      "\u001b[33m[ WARN] [1703002188.502968686, 4246.413000000]: TF_REPEATED_DATA ignoring data with redundant timestamp for frame odom at time 4246.439000 according to authority /pose_integrator\u001b[0m\n",
      "\u001b[33m[ WARN] [1703002188.503023357, 4246.413000000]: TF_REPEATED_DATA ignoring data with redundant timestamp for frame odom at time 4246.439000 according to authority /pose_integrator\u001b[0m\n",
      "\u001b[33m[ WARN] [1703002188.503065800, 4246.413000000]: TF_REPEATED_DATA ignoring data with redundant timestamp for frame odom at time 4246.439000 according to authority /pose_integrator\u001b[0m\n",
      "\u001b[33m[ WARN] [1703002188.503101638, 4246.413000000]: TF_REPEATED_DATA ignoring data with redundant timestamp for frame odom at time 4246.439000 according to authority /pose_integrator\u001b[0m\n",
      "\u001b[33m[ WARN] [1703002188.503133040, 4246.413000000]: TF_REPEATED_DATA ignoring data with redundant timestamp for frame odom at time 4246.439000 according to authority /pose_integrator\u001b[0m\n",
      "\u001b[33m[ WARN] [1703002188.503164423, 4246.413000000]: TF_REPEATED_DATA ignoring data with redundant timestamp for frame odom at time 4246.439000 according to authority /pose_integrator\u001b[0m\n",
      "\u001b[33m[ WARN] [1703002190.197688727, 4247.108000000]: TF_REPEATED_DATA ignoring data with redundant timestamp for frame odom at time 4247.168000 according to authority unknown_publisher\u001b[0m\n",
      "\u001b[33m[ WARN] [1703002190.198659413, 4247.108000000]: TF_REPEATED_DATA ignoring data with redundant timestamp for frame odom at time 4247.168000 according to authority /pose_integrator\u001b[0m\n",
      "\u001b[33m[ WARN] [1703002190.198731403, 4247.108000000]: TF_REPEATED_DATA ignoring data with redundant timestamp for frame odom at time 4247.168000 according to authority /pose_integrator\u001b[0m\n",
      "\u001b[33m[ WARN] [1703002190.198790883, 4247.108000000]: TF_REPEATED_DATA ignoring data with redundant timestamp for frame odom at time 4247.168000 according to authority /pose_integrator\u001b[0m\n",
      "\u001b[33m[ WARN] [1703002190.198848771, 4247.108000000]: TF_REPEATED_DATA ignoring data with redundant timestamp for frame odom at time 4247.168000 according to authority /pose_integrator\u001b[0m\n",
      "\u001b[33m[ WARN] [1703002190.198889046, 4247.108000000]: TF_REPEATED_DATA ignoring data with redundant timestamp for frame odom at time 4247.168000 according to authority /pose_integrator\u001b[0m\n",
      "\u001b[33m[ WARN] [1703002190.198923640, 4247.108000000]: TF_REPEATED_DATA ignoring data with redundant timestamp for frame odom at time 4247.168000 according to authority /pose_integrator\u001b[0m\n",
      "\u001b[33m[ WARN] [1703002190.500458338, 4247.234000000]: TF_REPEATED_DATA ignoring data with redundant timestamp for frame odom at time 4247.312000 according to authority /pose_integrator\u001b[0m\n",
      "\u001b[33m[ WARN] [1703002190.500520355, 4247.234000000]: TF_REPEATED_DATA ignoring data with redundant timestamp for frame odom at time 4247.312000 according to authority /pose_integrator\u001b[0m\n",
      "\u001b[33m[ WARN] [1703002190.500570513, 4247.234000000]: TF_REPEATED_DATA ignoring data with redundant timestamp for frame odom at time 4247.312000 according to authority /pose_integrator\u001b[0m\n",
      "\u001b[33m[ WARN] [1703002190.500620025, 4247.234000000]: TF_REPEATED_DATA ignoring data with redundant timestamp for frame odom at time 4247.312000 according to authority /pose_integrator\u001b[0m\n",
      "\u001b[33m[ WARN] [1703002190.500664865, 4247.234000000]: TF_REPEATED_DATA ignoring data with redundant timestamp for frame odom at time 4247.312000 according to authority /pose_integrator\u001b[0m\n",
      "\u001b[33m[ WARN] [1703002190.500708865, 4247.234000000]: TF_REPEATED_DATA ignoring data with redundant timestamp for frame odom at time 4247.312000 according to authority /pose_integrator\u001b[0m\n",
      "\u001b[33m[ WARN] [1703002190.501388733, 4247.234000000]: TF_REPEATED_DATA ignoring data with redundant timestamp for frame odom at time 4247.312000 according to authority unknown_publisher\u001b[0m\n",
      "\u001b[33m[ WARN] [1703002190.634682896, 4247.312000000]: TF_REPEATED_DATA ignoring data with redundant timestamp for frame odom at time 4247.379000 according to authority /pose_integrator\u001b[0m\n",
      "\u001b[33m[ WARN] [1703002190.634747530, 4247.312000000]: TF_REPEATED_DATA ignoring data with redundant timestamp for frame odom at time 4247.379000 according to authority /pose_integrator\u001b[0m\n",
      "\u001b[33m[ WARN] [1703002190.634788694, 4247.312000000]: TF_REPEATED_DATA ignoring data with redundant timestamp for frame odom at time 4247.379000 according to authority /pose_integrator\u001b[0m\n",
      "\u001b[33m[ WARN] [1703002190.634818439, 4247.312000000]: TF_REPEATED_DATA ignoring data with redundant timestamp for frame odom at time 4247.379000 according to authority /pose_integrator\u001b[0m\n",
      "\u001b[33m[ WARN] [1703002190.634860206, 4247.312000000]: TF_REPEATED_DATA ignoring data with redundant timestamp for frame odom at time 4247.379000 according to authority /pose_integrator\u001b[0m\n",
      "\u001b[33m[ WARN] [1703002190.634887267, 4247.312000000]: TF_REPEATED_DATA ignoring data with redundant timestamp for frame odom at time 4247.379000 according to authority /pose_integrator\u001b[0m\n",
      "\u001b[33m[ WARN] [1703002190.635414023, 4247.312000000]: TF_REPEATED_DATA ignoring data with redundant timestamp for frame odom at time 4247.379000 according to authority unknown_publisher\u001b[0m\n"
     ]
    },
    {
     "name": "stderr",
     "output_type": "stream",
     "text": [
      "\u001b[33m[ WARN] [1703002191.988279460, 4248.002000000]: TF_REPEATED_DATA ignoring data with redundant timestamp for frame odom at time 4248.065000 according to authority /pose_integrator\u001b[0m\n",
      "\u001b[33m[ WARN] [1703002191.988359852, 4248.002000000]: TF_REPEATED_DATA ignoring data with redundant timestamp for frame odom at time 4248.065000 according to authority /pose_integrator\u001b[0m\n",
      "\u001b[33m[ WARN] [1703002191.988412120, 4248.002000000]: TF_REPEATED_DATA ignoring data with redundant timestamp for frame odom at time 4248.065000 according to authority /pose_integrator\u001b[0m\n",
      "\u001b[33m[ WARN] [1703002191.988569455, 4248.002000000]: TF_REPEATED_DATA ignoring data with redundant timestamp for frame odom at time 4248.065000 according to authority /pose_integrator\u001b[0m\n",
      "\u001b[33m[ WARN] [1703002191.988612477, 4248.002000000]: TF_REPEATED_DATA ignoring data with redundant timestamp for frame odom at time 4248.065000 according to authority unknown_publisher\u001b[0m\n",
      "\u001b[33m[ WARN] [1703002191.989506172, 4248.065000000]: TF_REPEATED_DATA ignoring data with redundant timestamp for frame odom at time 4248.065000 according to authority /pose_integrator\u001b[0m\n",
      "\u001b[33m[ WARN] [1703002191.989609049, 4248.065000000]: TF_REPEATED_DATA ignoring data with redundant timestamp for frame odom at time 4248.065000 according to authority /pose_integrator\u001b[0m\n",
      "\u001b[33m[ WARN] [1703002192.293809873, 4248.166000000]: TF_REPEATED_DATA ignoring data with redundant timestamp for frame odom at time 4248.226000 according to authority unknown_publisher\u001b[0m\n",
      "\u001b[33m[ WARN] [1703002192.294070156, 4248.166000000]: TF_REPEATED_DATA ignoring data with redundant timestamp for frame odom at time 4248.226000 according to authority /pose_integrator\u001b[0m\n",
      "\u001b[33m[ WARN] [1703002192.294123798, 4248.166000000]: TF_REPEATED_DATA ignoring data with redundant timestamp for frame odom at time 4248.226000 according to authority /pose_integrator\u001b[0m\n",
      "\u001b[33m[ WARN] [1703002192.294155842, 4248.166000000]: TF_REPEATED_DATA ignoring data with redundant timestamp for frame odom at time 4248.226000 according to authority /pose_integrator\u001b[0m\n",
      "\u001b[33m[ WARN] [1703002192.294189782, 4248.166000000]: TF_REPEATED_DATA ignoring data with redundant timestamp for frame odom at time 4248.226000 according to authority /pose_integrator\u001b[0m\n",
      "\u001b[33m[ WARN] [1703002192.294228410, 4248.166000000]: TF_REPEATED_DATA ignoring data with redundant timestamp for frame odom at time 4248.226000 according to authority /pose_integrator\u001b[0m\n",
      "\u001b[33m[ WARN] [1703002192.294263526, 4248.166000000]: TF_REPEATED_DATA ignoring data with redundant timestamp for frame odom at time 4248.226000 according to authority /pose_integrator\u001b[0m\n",
      "\u001b[33m[ WARN] [1703002192.484978872, 4248.273000000]: TF_REPEATED_DATA ignoring data with redundant timestamp for frame odom at time 4248.324000 according to authority unknown_publisher\u001b[0m\n",
      "\u001b[33m[ WARN] [1703002192.485524260, 4248.273000000]: TF_REPEATED_DATA ignoring data with redundant timestamp for frame odom at time 4248.324000 according to authority /pose_integrator\u001b[0m\n",
      "\u001b[33m[ WARN] [1703002192.485584108, 4248.273000000]: TF_REPEATED_DATA ignoring data with redundant timestamp for frame odom at time 4248.324000 according to authority /pose_integrator\u001b[0m\n",
      "\u001b[33m[ WARN] [1703002192.485648320, 4248.273000000]: TF_REPEATED_DATA ignoring data with redundant timestamp for frame odom at time 4248.324000 according to authority /pose_integrator\u001b[0m\n",
      "\u001b[33m[ WARN] [1703002192.485695219, 4248.273000000]: TF_REPEATED_DATA ignoring data with redundant timestamp for frame odom at time 4248.324000 according to authority /pose_integrator\u001b[0m\n",
      "\u001b[33m[ WARN] [1703002192.485750399, 4248.273000000]: TF_REPEATED_DATA ignoring data with redundant timestamp for frame odom at time 4248.324000 according to authority /pose_integrator\u001b[0m\n",
      "\u001b[33m[ WARN] [1703002192.485797761, 4248.273000000]: TF_REPEATED_DATA ignoring data with redundant timestamp for frame odom at time 4248.324000 according to authority /pose_integrator\u001b[0m\n",
      "\u001b[33m[ WARN] [1703002192.750376447, 4248.375000000]: TF_REPEATED_DATA ignoring data with redundant timestamp for frame odom at time 4248.455000 according to authority unknown_publisher\u001b[0m\n",
      "\u001b[33m[ WARN] [1703002192.750613077, 4248.375000000]: TF_REPEATED_DATA ignoring data with redundant timestamp for frame odom at time 4248.455000 according to authority /pose_integrator\u001b[0m\n",
      "\u001b[33m[ WARN] [1703002192.750677137, 4248.375000000]: TF_REPEATED_DATA ignoring data with redundant timestamp for frame odom at time 4248.455000 according to authority /pose_integrator\u001b[0m\n",
      "\u001b[33m[ WARN] [1703002192.750726585, 4248.375000000]: TF_REPEATED_DATA ignoring data with redundant timestamp for frame odom at time 4248.455000 according to authority /pose_integrator\u001b[0m\n",
      "\u001b[33m[ WARN] [1703002192.750773369, 4248.375000000]: TF_REPEATED_DATA ignoring data with redundant timestamp for frame odom at time 4248.455000 according to authority /pose_integrator\u001b[0m\n",
      "\u001b[33m[ WARN] [1703002192.750828901, 4248.375000000]: TF_REPEATED_DATA ignoring data with redundant timestamp for frame odom at time 4248.455000 according to authority /pose_integrator\u001b[0m\n",
      "\u001b[33m[ WARN] [1703002192.750872861, 4248.375000000]: TF_REPEATED_DATA ignoring data with redundant timestamp for frame odom at time 4248.455000 according to authority /pose_integrator\u001b[0m\n",
      "\u001b[33m[ WARN] [1703002193.362053598, 4248.653000000]: TF_REPEATED_DATA ignoring data with redundant timestamp for frame odom at time 4248.717000 according to authority unknown_publisher\u001b[0m\n",
      "\u001b[33m[ WARN] [1703002193.362237837, 4248.653000000]: TF_REPEATED_DATA ignoring data with redundant timestamp for frame odom at time 4248.717000 according to authority /pose_integrator\u001b[0m\n",
      "\u001b[33m[ WARN] [1703002193.362308889, 4248.653000000]: TF_REPEATED_DATA ignoring data with redundant timestamp for frame odom at time 4248.717000 according to authority /pose_integrator\u001b[0m\n",
      "\u001b[33m[ WARN] [1703002193.362368211, 4248.653000000]: TF_REPEATED_DATA ignoring data with redundant timestamp for frame odom at time 4248.717000 according to authority /pose_integrator\u001b[0m\n",
      "\u001b[33m[ WARN] [1703002193.362426916, 4248.653000000]: TF_REPEATED_DATA ignoring data with redundant timestamp for frame odom at time 4248.717000 according to authority /pose_integrator\u001b[0m\n",
      "\u001b[33m[ WARN] [1703002193.362490709, 4248.653000000]: TF_REPEATED_DATA ignoring data with redundant timestamp for frame odom at time 4248.717000 according to authority /pose_integrator\u001b[0m\n",
      "\u001b[33m[ WARN] [1703002193.362547587, 4248.653000000]: TF_REPEATED_DATA ignoring data with redundant timestamp for frame odom at time 4248.717000 according to authority /pose_integrator\u001b[0m\n",
      "\u001b[33m[ WARN] [1703002193.683875509, 4248.836000000]: TF_REPEATED_DATA ignoring data with redundant timestamp for frame odom at time 4248.866000 according to authority /pose_integrator\u001b[0m\n",
      "\u001b[33m[ WARN] [1703002193.683940938, 4248.836000000]: TF_REPEATED_DATA ignoring data with redundant timestamp for frame odom at time 4248.866000 according to authority /pose_integrator\u001b[0m\n",
      "\u001b[33m[ WARN] [1703002193.683978220, 4248.836000000]: TF_REPEATED_DATA ignoring data with redundant timestamp for frame odom at time 4248.866000 according to authority /pose_integrator\u001b[0m\n",
      "\u001b[33m[ WARN] [1703002193.684016139, 4248.836000000]: TF_REPEATED_DATA ignoring data with redundant timestamp for frame odom at time 4248.866000 according to authority /pose_integrator\u001b[0m\n",
      "\u001b[33m[ WARN] [1703002193.684054545, 4248.836000000]: TF_REPEATED_DATA ignoring data with redundant timestamp for frame odom at time 4248.866000 according to authority /pose_integrator\u001b[0m\n",
      "\u001b[33m[ WARN] [1703002193.684100846, 4248.836000000]: TF_REPEATED_DATA ignoring data with redundant timestamp for frame odom at time 4248.866000 according to authority /pose_integrator\u001b[0m\n",
      "\u001b[33m[ WARN] [1703002193.684735778, 4248.836000000]: TF_REPEATED_DATA ignoring data with redundant timestamp for frame odom at time 4248.866000 according to authority unknown_publisher\u001b[0m\n",
      "\u001b[33m[ WARN] [1703002194.750124685, 4249.232000000]: TF_REPEATED_DATA ignoring data with redundant timestamp for frame odom at time 4249.274000 according to authority /pose_integrator\u001b[0m\n",
      "\u001b[33m[ WARN] [1703002194.750200064, 4249.232000000]: TF_REPEATED_DATA ignoring data with redundant timestamp for frame odom at time 4249.274000 according to authority /pose_integrator\u001b[0m\n",
      "\u001b[33m[ WARN] [1703002194.750254049, 4249.232000000]: TF_REPEATED_DATA ignoring data with redundant timestamp for frame odom at time 4249.274000 according to authority /pose_integrator\u001b[0m\n",
      "\u001b[33m[ WARN] [1703002194.750298203, 4249.232000000]: TF_REPEATED_DATA ignoring data with redundant timestamp for frame odom at time 4249.274000 according to authority /pose_integrator\u001b[0m\n",
      "\u001b[33m[ WARN] [1703002194.750349561, 4249.232000000]: TF_REPEATED_DATA ignoring data with redundant timestamp for frame odom at time 4249.274000 according to authority /pose_integrator\u001b[0m\n",
      "\u001b[33m[ WARN] [1703002194.750389603, 4249.232000000]: TF_REPEATED_DATA ignoring data with redundant timestamp for frame odom at time 4249.274000 according to authority /pose_integrator\u001b[0m\n",
      "\u001b[33m[ WARN] [1703002194.750678100, 4249.232000000]: TF_REPEATED_DATA ignoring data with redundant timestamp for frame odom at time 4249.274000 according to authority unknown_publisher\u001b[0m\n"
     ]
    }
   ],
   "source": [
    "pose=whole_body.get_current_pose()\n",
    "type(pose)"
   ]
  },
  {
   "cell_type": "code",
   "execution_count": 20,
   "id": "d85d9b91",
   "metadata": {},
   "outputs": [
    {
     "name": "stderr",
     "output_type": "stream",
     "text": [
      "\u001b[33m[ WARN] [1703002479.490534896, 4371.809000000]: TF_REPEATED_DATA ignoring data with redundant timestamp for frame odom at time 4371.875000 according to authority /pose_integrator\u001b[0m\n",
      "\u001b[33m[ WARN] [1703002479.490604124, 4371.809000000]: TF_REPEATED_DATA ignoring data with redundant timestamp for frame odom at time 4371.875000 according to authority /pose_integrator\u001b[0m\n",
      "\u001b[33m[ WARN] [1703002479.490650895, 4371.809000000]: TF_REPEATED_DATA ignoring data with redundant timestamp for frame odom at time 4371.875000 according to authority /pose_integrator\u001b[0m\n",
      "\u001b[33m[ WARN] [1703002479.490693861, 4371.809000000]: TF_REPEATED_DATA ignoring data with redundant timestamp for frame odom at time 4371.875000 according to authority /pose_integrator\u001b[0m\n",
      "\u001b[33m[ WARN] [1703002479.490735313, 4371.809000000]: TF_REPEATED_DATA ignoring data with redundant timestamp for frame odom at time 4371.875000 according to authority /pose_integrator\u001b[0m\n",
      "\u001b[33m[ WARN] [1703002479.490787439, 4371.809000000]: TF_REPEATED_DATA ignoring data with redundant timestamp for frame odom at time 4371.875000 according to authority /pose_integrator\u001b[0m\n",
      "\u001b[33m[ WARN] [1703002479.491074979, 4371.809000000]: TF_REPEATED_DATA ignoring data with redundant timestamp for frame odom at time 4371.875000 according to authority unknown_publisher\u001b[0m\n",
      "\u001b[33m[ WARN] [1703002479.765589512, 4371.980000000]: TF_REPEATED_DATA ignoring data with redundant timestamp for frame odom at time 4371.980000 according to authority /pose_integrator\u001b[0m\n",
      "\u001b[33m[ WARN] [1703002479.765677797, 4371.980000000]: TF_REPEATED_DATA ignoring data with redundant timestamp for frame odom at time 4371.980000 according to authority /pose_integrator\u001b[0m\n",
      "\u001b[33m[ WARN] [1703002479.765736863, 4371.980000000]: TF_REPEATED_DATA ignoring data with redundant timestamp for frame odom at time 4371.980000 according to authority /pose_integrator\u001b[0m\n",
      "\u001b[33m[ WARN] [1703002479.765784387, 4371.980000000]: TF_REPEATED_DATA ignoring data with redundant timestamp for frame odom at time 4371.980000 according to authority /pose_integrator\u001b[0m\n",
      "\u001b[33m[ WARN] [1703002479.765829790, 4371.980000000]: TF_REPEATED_DATA ignoring data with redundant timestamp for frame odom at time 4371.980000 according to authority /pose_integrator\u001b[0m\n",
      "\u001b[33m[ WARN] [1703002479.765870752, 4371.980000000]: TF_REPEATED_DATA ignoring data with redundant timestamp for frame odom at time 4371.980000 according to authority /pose_integrator\u001b[0m\n",
      "\u001b[33m[ WARN] [1703002479.766428763, 4371.980000000]: TF_REPEATED_DATA ignoring data with redundant timestamp for frame odom at time 4371.980000 according to authority unknown_publisher\u001b[0m\n",
      "\u001b[33m[ WARN] [1703002480.295098790, 4372.164000000]: TF_REPEATED_DATA ignoring data with redundant timestamp for frame odom at time 4372.202000 according to authority unknown_publisher\u001b[0m\n",
      "\u001b[33m[ WARN] [1703002480.295184559, 4372.164000000]: TF_REPEATED_DATA ignoring data with redundant timestamp for frame odom at time 4372.202000 according to authority /pose_integrator\u001b[0m\n",
      "\u001b[33m[ WARN] [1703002480.295359863, 4372.164000000]: TF_REPEATED_DATA ignoring data with redundant timestamp for frame odom at time 4372.202000 according to authority /pose_integrator\u001b[0m\n",
      "\u001b[33m[ WARN] [1703002480.295425209, 4372.164000000]: TF_REPEATED_DATA ignoring data with redundant timestamp for frame odom at time 4372.202000 according to authority /pose_integrator\u001b[0m\n",
      "\u001b[33m[ WARN] [1703002480.295486643, 4372.164000000]: TF_REPEATED_DATA ignoring data with redundant timestamp for frame odom at time 4372.202000 according to authority /pose_integrator\u001b[0m\n",
      "\u001b[33m[ WARN] [1703002480.295536023, 4372.164000000]: TF_REPEATED_DATA ignoring data with redundant timestamp for frame odom at time 4372.202000 according to authority /pose_integrator\u001b[0m\n",
      "\u001b[33m[ WARN] [1703002480.295579696, 4372.164000000]: TF_REPEATED_DATA ignoring data with redundant timestamp for frame odom at time 4372.202000 according to authority /pose_integrator\u001b[0m\n",
      "\u001b[33m[ WARN] [1703002480.841568470, 4372.393000000]: TF_REPEATED_DATA ignoring data with redundant timestamp for frame odom at time 4372.441000 according to authority /pose_integrator\u001b[0m\n",
      "\u001b[33m[ WARN] [1703002480.841646420, 4372.393000000]: TF_REPEATED_DATA ignoring data with redundant timestamp for frame odom at time 4372.441000 according to authority /pose_integrator\u001b[0m\n",
      "\u001b[33m[ WARN] [1703002480.841708126, 4372.393000000]: TF_REPEATED_DATA ignoring data with redundant timestamp for frame odom at time 4372.441000 according to authority /pose_integrator\u001b[0m\n",
      "\u001b[33m[ WARN] [1703002480.841762824, 4372.393000000]: TF_REPEATED_DATA ignoring data with redundant timestamp for frame odom at time 4372.441000 according to authority /pose_integrator\u001b[0m\n",
      "\u001b[33m[ WARN] [1703002480.841821000, 4372.393000000]: TF_REPEATED_DATA ignoring data with redundant timestamp for frame odom at time 4372.441000 according to authority /pose_integrator\u001b[0m\n",
      "\u001b[33m[ WARN] [1703002480.841885616, 4372.393000000]: TF_REPEATED_DATA ignoring data with redundant timestamp for frame odom at time 4372.441000 according to authority /pose_integrator\u001b[0m\n",
      "\u001b[33m[ WARN] [1703002480.842695961, 4372.393000000]: TF_REPEATED_DATA ignoring data with redundant timestamp for frame odom at time 4372.441000 according to authority unknown_publisher\u001b[0m\n",
      "\u001b[33m[ WARN] [1703002480.988087591, 4372.484000000]: Fail: ABORTED: UNKNOWN\u001b[0m\n",
      "\u001b[33m[ WARN] [1703002481.784050889, 4372.802000000]: TF_REPEATED_DATA ignoring data with redundant timestamp for frame odom at time 4372.845000 according to authority /pose_integrator\u001b[0m\n",
      "\u001b[33m[ WARN] [1703002481.784125871, 4372.802000000]: TF_REPEATED_DATA ignoring data with redundant timestamp for frame odom at time 4372.845000 according to authority /pose_integrator\u001b[0m\n",
      "\u001b[33m[ WARN] [1703002481.784188004, 4372.802000000]: TF_REPEATED_DATA ignoring data with redundant timestamp for frame odom at time 4372.845000 according to authority /pose_integrator\u001b[0m\n",
      "\u001b[33m[ WARN] [1703002481.784239737, 4372.802000000]: TF_REPEATED_DATA ignoring data with redundant timestamp for frame odom at time 4372.845000 according to authority /pose_integrator\u001b[0m\n",
      "\u001b[33m[ WARN] [1703002481.784290806, 4372.802000000]: TF_REPEATED_DATA ignoring data with redundant timestamp for frame odom at time 4372.845000 according to authority /pose_integrator\u001b[0m\n",
      "\u001b[33m[ WARN] [1703002481.784347268, 4372.802000000]: TF_REPEATED_DATA ignoring data with redundant timestamp for frame odom at time 4372.845000 according to authority /pose_integrator\u001b[0m\n",
      "\u001b[33m[ WARN] [1703002481.784507400, 4372.802000000]: TF_REPEATED_DATA ignoring data with redundant timestamp for frame odom at time 4372.845000 according to authority unknown_publisher\u001b[0m\n",
      "\u001b[33m[ WARN] [1703002482.791930910, 4373.277000000]: TF_REPEATED_DATA ignoring data with redundant timestamp for frame odom at time 4373.302000 according to authority unknown_publisher\u001b[0m\n",
      "\u001b[33m[ WARN] [1703002482.792587924, 4373.277000000]: TF_REPEATED_DATA ignoring data with redundant timestamp for frame odom at time 4373.302000 according to authority /pose_integrator\u001b[0m\n",
      "\u001b[33m[ WARN] [1703002482.792638533, 4373.277000000]: TF_REPEATED_DATA ignoring data with redundant timestamp for frame odom at time 4373.302000 according to authority /pose_integrator\u001b[0m\n",
      "\u001b[33m[ WARN] [1703002482.792677632, 4373.277000000]: TF_REPEATED_DATA ignoring data with redundant timestamp for frame odom at time 4373.302000 according to authority /pose_integrator\u001b[0m\n",
      "\u001b[33m[ WARN] [1703002482.792709815, 4373.277000000]: TF_REPEATED_DATA ignoring data with redundant timestamp for frame odom at time 4373.302000 according to authority /pose_integrator\u001b[0m\n",
      "\u001b[33m[ WARN] [1703002482.792741977, 4373.277000000]: TF_REPEATED_DATA ignoring data with redundant timestamp for frame odom at time 4373.302000 according to authority /pose_integrator\u001b[0m\n",
      "\u001b[33m[ WARN] [1703002482.792778260, 4373.277000000]: TF_REPEATED_DATA ignoring data with redundant timestamp for frame odom at time 4373.302000 according to authority /pose_integrator\u001b[0m\n",
      "\u001b[33m[ WARN] [1703002483.185785113, 4373.439000000]: TF_REPEATED_DATA ignoring data with redundant timestamp for frame odom at time 4373.480000 according to authority unknown_publisher\u001b[0m\n",
      "\u001b[33m[ WARN] [1703002483.187093933, 4373.439000000]: TF_REPEATED_DATA ignoring data with redundant timestamp for frame odom at time 4373.480000 according to authority /pose_integrator\u001b[0m\n",
      "\u001b[33m[ WARN] [1703002483.187178168, 4373.439000000]: TF_REPEATED_DATA ignoring data with redundant timestamp for frame odom at time 4373.480000 according to authority /pose_integrator\u001b[0m\n",
      "\u001b[33m[ WARN] [1703002483.187230582, 4373.439000000]: TF_REPEATED_DATA ignoring data with redundant timestamp for frame odom at time 4373.480000 according to authority /pose_integrator\u001b[0m\n",
      "\u001b[33m[ WARN] [1703002483.187278919, 4373.439000000]: TF_REPEATED_DATA ignoring data with redundant timestamp for frame odom at time 4373.480000 according to authority /pose_integrator\u001b[0m\n",
      "\u001b[33m[ WARN] [1703002483.187328247, 4373.439000000]: TF_REPEATED_DATA ignoring data with redundant timestamp for frame odom at time 4373.480000 according to authority /pose_integrator\u001b[0m\n",
      "\u001b[33m[ WARN] [1703002483.187377125, 4373.439000000]: TF_REPEATED_DATA ignoring data with redundant timestamp for frame odom at time 4373.480000 according to authority /pose_integrator\u001b[0m\n"
     ]
    },
    {
     "name": "stderr",
     "output_type": "stream",
     "text": [
      "\u001b[33m[ WARN] [1703002484.056225341, 4373.744000000]: TF_REPEATED_DATA ignoring data with redundant timestamp for frame odom at time 4373.806000 according to authority /pose_integrator\u001b[0m\n",
      "\u001b[33m[ WARN] [1703002484.056305080, 4373.744000000]: TF_REPEATED_DATA ignoring data with redundant timestamp for frame odom at time 4373.806000 according to authority /pose_integrator\u001b[0m\n",
      "\u001b[33m[ WARN] [1703002484.056360771, 4373.744000000]: TF_REPEATED_DATA ignoring data with redundant timestamp for frame odom at time 4373.806000 according to authority unknown_publisher\u001b[0m\n",
      "\u001b[33m[ WARN] [1703002484.056946128, 4373.744000000]: TF_REPEATED_DATA ignoring data with redundant timestamp for frame odom at time 4373.806000 according to authority /pose_integrator\u001b[0m\n",
      "\u001b[33m[ WARN] [1703002484.057025186, 4373.744000000]: TF_REPEATED_DATA ignoring data with redundant timestamp for frame odom at time 4373.806000 according to authority /pose_integrator\u001b[0m\n",
      "\u001b[33m[ WARN] [1703002484.057070361, 4373.744000000]: TF_REPEATED_DATA ignoring data with redundant timestamp for frame odom at time 4373.806000 according to authority /pose_integrator\u001b[0m\n",
      "\u001b[33m[ WARN] [1703002484.057121958, 4373.744000000]: TF_REPEATED_DATA ignoring data with redundant timestamp for frame odom at time 4373.806000 according to authority /pose_integrator\u001b[0m\n",
      "\u001b[33m[ WARN] [1703002484.423815261, 4373.909000000]: TF_REPEATED_DATA ignoring data with redundant timestamp for frame odom at time 4373.958000 according to authority /pose_integrator\u001b[0m\n",
      "\u001b[33m[ WARN] [1703002484.423894462, 4373.909000000]: TF_REPEATED_DATA ignoring data with redundant timestamp for frame odom at time 4373.958000 according to authority /pose_integrator\u001b[0m\n",
      "\u001b[33m[ WARN] [1703002484.423954638, 4373.909000000]: TF_REPEATED_DATA ignoring data with redundant timestamp for frame odom at time 4373.958000 according to authority /pose_integrator\u001b[0m\n",
      "\u001b[33m[ WARN] [1703002484.423999926, 4373.909000000]: TF_REPEATED_DATA ignoring data with redundant timestamp for frame odom at time 4373.958000 according to authority /pose_integrator\u001b[0m\n",
      "\u001b[33m[ WARN] [1703002484.424050506, 4373.909000000]: TF_REPEATED_DATA ignoring data with redundant timestamp for frame odom at time 4373.958000 according to authority /pose_integrator\u001b[0m\n",
      "\u001b[33m[ WARN] [1703002484.424092939, 4373.909000000]: TF_REPEATED_DATA ignoring data with redundant timestamp for frame odom at time 4373.958000 according to authority /pose_integrator\u001b[0m\n",
      "\u001b[33m[ WARN] [1703002484.424711344, 4373.909000000]: TF_REPEATED_DATA ignoring data with redundant timestamp for frame odom at time 4373.958000 according to authority unknown_publisher\u001b[0m\n",
      "\u001b[33m[ WARN] [1703002485.721767685, 4374.428000000]: TF_REPEATED_DATA ignoring data with redundant timestamp for frame odom at time 4374.475000 according to authority unknown_publisher\u001b[0m\n",
      "\u001b[33m[ WARN] [1703002485.722543784, 4374.428000000]: TF_REPEATED_DATA ignoring data with redundant timestamp for frame odom at time 4374.475000 according to authority /pose_integrator\u001b[0m\n",
      "\u001b[33m[ WARN] [1703002485.722633884, 4374.428000000]: TF_REPEATED_DATA ignoring data with redundant timestamp for frame odom at time 4374.475000 according to authority /pose_integrator\u001b[0m\n",
      "\u001b[33m[ WARN] [1703002485.722689444, 4374.428000000]: TF_REPEATED_DATA ignoring data with redundant timestamp for frame odom at time 4374.475000 according to authority /pose_integrator\u001b[0m\n",
      "\u001b[33m[ WARN] [1703002485.722749142, 4374.428000000]: TF_REPEATED_DATA ignoring data with redundant timestamp for frame odom at time 4374.475000 according to authority /pose_integrator\u001b[0m\n",
      "\u001b[33m[ WARN] [1703002485.722797092, 4374.428000000]: TF_REPEATED_DATA ignoring data with redundant timestamp for frame odom at time 4374.475000 according to authority /pose_integrator\u001b[0m\n",
      "\u001b[33m[ WARN] [1703002485.722848462, 4374.428000000]: TF_REPEATED_DATA ignoring data with redundant timestamp for frame odom at time 4374.475000 according to authority /pose_integrator\u001b[0m\n",
      "\u001b[33m[ WARN] [1703002490.109499907, 4376.221000000]: TF_REPEATED_DATA ignoring data with redundant timestamp for frame odom at time 4376.268000 according to authority /pose_integrator\u001b[0m\n",
      "\u001b[33m[ WARN] [1703002490.109561360, 4376.221000000]: TF_REPEATED_DATA ignoring data with redundant timestamp for frame odom at time 4376.268000 according to authority /pose_integrator\u001b[0m\n",
      "\u001b[33m[ WARN] [1703002490.109610336, 4376.221000000]: TF_REPEATED_DATA ignoring data with redundant timestamp for frame odom at time 4376.268000 according to authority /pose_integrator\u001b[0m\n",
      "\u001b[33m[ WARN] [1703002490.109663103, 4376.221000000]: TF_REPEATED_DATA ignoring data with redundant timestamp for frame odom at time 4376.268000 according to authority /pose_integrator\u001b[0m\n",
      "\u001b[33m[ WARN] [1703002490.109703269, 4376.221000000]: TF_REPEATED_DATA ignoring data with redundant timestamp for frame odom at time 4376.268000 according to authority /pose_integrator\u001b[0m\n",
      "\u001b[33m[ WARN] [1703002490.109743013, 4376.221000000]: TF_REPEATED_DATA ignoring data with redundant timestamp for frame odom at time 4376.268000 according to authority /pose_integrator\u001b[0m\n",
      "\u001b[33m[ WARN] [1703002490.109965810, 4376.221000000]: TF_REPEATED_DATA ignoring data with redundant timestamp for frame odom at time 4376.268000 according to authority unknown_publisher\u001b[0m\n",
      "\u001b[33m[ WARN] [1703002490.553424558, 4376.391000000]: TF_REPEATED_DATA ignoring data with redundant timestamp for frame odom at time 4376.470000 according to authority /pose_integrator\u001b[0m\n",
      "\u001b[33m[ WARN] [1703002490.553501910, 4376.391000000]: TF_REPEATED_DATA ignoring data with redundant timestamp for frame odom at time 4376.470000 according to authority /pose_integrator\u001b[0m\n",
      "\u001b[33m[ WARN] [1703002490.553540692, 4376.391000000]: TF_REPEATED_DATA ignoring data with redundant timestamp for frame odom at time 4376.470000 according to authority /pose_integrator\u001b[0m\n",
      "\u001b[33m[ WARN] [1703002490.553572184, 4376.391000000]: TF_REPEATED_DATA ignoring data with redundant timestamp for frame odom at time 4376.470000 according to authority /pose_integrator\u001b[0m\n",
      "\u001b[33m[ WARN] [1703002490.553609607, 4376.391000000]: TF_REPEATED_DATA ignoring data with redundant timestamp for frame odom at time 4376.470000 according to authority /pose_integrator\u001b[0m\n",
      "\u001b[33m[ WARN] [1703002490.553639683, 4376.391000000]: TF_REPEATED_DATA ignoring data with redundant timestamp for frame odom at time 4376.470000 according to authority /pose_integrator\u001b[0m\n",
      "\u001b[33m[ WARN] [1703002490.553708098, 4376.391000000]: TF_REPEATED_DATA ignoring data with redundant timestamp for frame odom at time 4376.470000 according to authority unknown_publisher\u001b[0m\n",
      "\u001b[33m[ WARN] [1703002492.297179454, 4377.105000000]: TF_REPEATED_DATA ignoring data with redundant timestamp for frame odom at time 4377.168000 according to authority unknown_publisher\u001b[0m\n",
      "\u001b[33m[ WARN] [1703002492.297451343, 4377.168000000]: TF_REPEATED_DATA ignoring data with redundant timestamp for frame odom at time 4377.168000 according to authority /pose_integrator\u001b[0m\n",
      "\u001b[33m[ WARN] [1703002492.297516362, 4377.168000000]: TF_REPEATED_DATA ignoring data with redundant timestamp for frame odom at time 4377.168000 according to authority /pose_integrator\u001b[0m\n",
      "\u001b[33m[ WARN] [1703002492.297573546, 4377.168000000]: TF_REPEATED_DATA ignoring data with redundant timestamp for frame odom at time 4377.168000 according to authority /pose_integrator\u001b[0m\n",
      "\u001b[33m[ WARN] [1703002492.297616568, 4377.168000000]: TF_REPEATED_DATA ignoring data with redundant timestamp for frame odom at time 4377.168000 according to authority /pose_integrator\u001b[0m\n",
      "\u001b[33m[ WARN] [1703002492.297665293, 4377.168000000]: TF_REPEATED_DATA ignoring data with redundant timestamp for frame odom at time 4377.168000 according to authority /pose_integrator\u001b[0m\n",
      "\u001b[33m[ WARN] [1703002492.297706470, 4377.168000000]: TF_REPEATED_DATA ignoring data with redundant timestamp for frame odom at time 4377.168000 according to authority /pose_integrator\u001b[0m\n",
      "\u001b[33m[ WARN] [1703002492.682318249, 4377.288000000]: TF_REPEATED_DATA ignoring data with redundant timestamp for frame odom at time 4377.324000 according to authority unknown_publisher\u001b[0m\n",
      "\u001b[33m[ WARN] [1703002492.683066462, 4377.288000000]: TF_REPEATED_DATA ignoring data with redundant timestamp for frame odom at time 4377.324000 according to authority /pose_integrator\u001b[0m\n",
      "\u001b[33m[ WARN] [1703002492.683147620, 4377.288000000]: TF_REPEATED_DATA ignoring data with redundant timestamp for frame odom at time 4377.324000 according to authority /pose_integrator\u001b[0m\n",
      "\u001b[33m[ WARN] [1703002492.683191421, 4377.288000000]: TF_REPEATED_DATA ignoring data with redundant timestamp for frame odom at time 4377.324000 according to authority /pose_integrator\u001b[0m\n",
      "\u001b[33m[ WARN] [1703002492.683228828, 4377.288000000]: TF_REPEATED_DATA ignoring data with redundant timestamp for frame odom at time 4377.324000 according to authority /pose_integrator\u001b[0m\n",
      "\u001b[33m[ WARN] [1703002492.683259383, 4377.288000000]: TF_REPEATED_DATA ignoring data with redundant timestamp for frame odom at time 4377.324000 according to authority /pose_integrator\u001b[0m\n",
      "\u001b[33m[ WARN] [1703002492.683297531, 4377.288000000]: TF_REPEATED_DATA ignoring data with redundant timestamp for frame odom at time 4377.324000 according to authority /pose_integrator\u001b[0m\n"
     ]
    },
    {
     "name": "stderr",
     "output_type": "stream",
     "text": [
      "\u001b[33m[ WARN] [1703002494.282582237, 4377.922000000]: TF_REPEATED_DATA ignoring data with redundant timestamp for frame odom at time 4377.976000 according to authority /pose_integrator\u001b[0m\n",
      "\u001b[33m[ WARN] [1703002494.282659830, 4377.922000000]: TF_REPEATED_DATA ignoring data with redundant timestamp for frame odom at time 4377.976000 according to authority /pose_integrator\u001b[0m\n",
      "\u001b[33m[ WARN] [1703002494.282720337, 4377.922000000]: TF_REPEATED_DATA ignoring data with redundant timestamp for frame odom at time 4377.976000 according to authority /pose_integrator\u001b[0m\n",
      "\u001b[33m[ WARN] [1703002494.282770190, 4377.922000000]: TF_REPEATED_DATA ignoring data with redundant timestamp for frame odom at time 4377.976000 according to authority /pose_integrator\u001b[0m\n",
      "\u001b[33m[ WARN] [1703002494.282815732, 4377.922000000]: TF_REPEATED_DATA ignoring data with redundant timestamp for frame odom at time 4377.976000 according to authority /pose_integrator\u001b[0m\n",
      "\u001b[33m[ WARN] [1703002494.282850161, 4377.922000000]: TF_REPEATED_DATA ignoring data with redundant timestamp for frame odom at time 4377.976000 according to authority /pose_integrator\u001b[0m\n",
      "\u001b[33m[ WARN] [1703002494.283427663, 4377.922000000]: TF_REPEATED_DATA ignoring data with redundant timestamp for frame odom at time 4377.976000 according to authority unknown_publisher\u001b[0m\n",
      "\u001b[33m[ WARN] [1703002494.848474255, 4378.201000000]: TF_REPEATED_DATA ignoring data with redundant timestamp for frame odom at time 4378.243000 according to authority unknown_publisher\u001b[0m\n",
      "\u001b[33m[ WARN] [1703002494.849224329, 4378.201000000]: TF_REPEATED_DATA ignoring data with redundant timestamp for frame odom at time 4378.243000 according to authority /pose_integrator\u001b[0m\n",
      "\u001b[33m[ WARN] [1703002494.849288708, 4378.201000000]: TF_REPEATED_DATA ignoring data with redundant timestamp for frame odom at time 4378.243000 according to authority /pose_integrator\u001b[0m\n",
      "\u001b[33m[ WARN] [1703002494.849345476, 4378.201000000]: TF_REPEATED_DATA ignoring data with redundant timestamp for frame odom at time 4378.243000 according to authority /pose_integrator\u001b[0m\n",
      "\u001b[33m[ WARN] [1703002494.849386240, 4378.201000000]: TF_REPEATED_DATA ignoring data with redundant timestamp for frame odom at time 4378.243000 according to authority /pose_integrator\u001b[0m\n",
      "\u001b[33m[ WARN] [1703002494.849423278, 4378.201000000]: TF_REPEATED_DATA ignoring data with redundant timestamp for frame odom at time 4378.243000 according to authority /pose_integrator\u001b[0m\n",
      "\u001b[33m[ WARN] [1703002494.849460099, 4378.201000000]: TF_REPEATED_DATA ignoring data with redundant timestamp for frame odom at time 4378.243000 according to authority /pose_integrator\u001b[0m\n",
      "\u001b[33m[ WARN] [1703002495.209600906, 4378.347000000]: TF_REPEATED_DATA ignoring data with redundant timestamp for frame odom at time 4378.410000 according to authority /pose_integrator\u001b[0m\n",
      "\u001b[33m[ WARN] [1703002495.209668885, 4378.347000000]: TF_REPEATED_DATA ignoring data with redundant timestamp for frame odom at time 4378.410000 according to authority /pose_integrator\u001b[0m\n",
      "\u001b[33m[ WARN] [1703002495.209721749, 4378.347000000]: TF_REPEATED_DATA ignoring data with redundant timestamp for frame odom at time 4378.410000 according to authority /pose_integrator\u001b[0m\n",
      "\u001b[33m[ WARN] [1703002495.209764347, 4378.347000000]: TF_REPEATED_DATA ignoring data with redundant timestamp for frame odom at time 4378.410000 according to authority /pose_integrator\u001b[0m\n",
      "\u001b[33m[ WARN] [1703002495.209812946, 4378.347000000]: TF_REPEATED_DATA ignoring data with redundant timestamp for frame odom at time 4378.410000 according to authority /pose_integrator\u001b[0m\n",
      "\u001b[33m[ WARN] [1703002495.209864699, 4378.347000000]: TF_REPEATED_DATA ignoring data with redundant timestamp for frame odom at time 4378.410000 according to authority /pose_integrator\u001b[0m\n",
      "\u001b[33m[ WARN] [1703002495.210139835, 4378.347000000]: TF_REPEATED_DATA ignoring data with redundant timestamp for frame odom at time 4378.410000 according to authority unknown_publisher\u001b[0m\n",
      "\u001b[33m[ WARN] [1703002495.750836820, 4378.602000000]: TF_REPEATED_DATA ignoring data with redundant timestamp for frame odom at time 4378.636000 according to authority unknown_publisher\u001b[0m\n",
      "\u001b[33m[ WARN] [1703002495.751502779, 4378.602000000]: TF_REPEATED_DATA ignoring data with redundant timestamp for frame odom at time 4378.636000 according to authority /pose_integrator\u001b[0m\n",
      "\u001b[33m[ WARN] [1703002495.751573741, 4378.602000000]: TF_REPEATED_DATA ignoring data with redundant timestamp for frame odom at time 4378.636000 according to authority /pose_integrator\u001b[0m\n",
      "\u001b[33m[ WARN] [1703002495.751632018, 4378.602000000]: TF_REPEATED_DATA ignoring data with redundant timestamp for frame odom at time 4378.636000 according to authority /pose_integrator\u001b[0m\n",
      "\u001b[33m[ WARN] [1703002495.751688583, 4378.602000000]: TF_REPEATED_DATA ignoring data with redundant timestamp for frame odom at time 4378.636000 according to authority /pose_integrator\u001b[0m\n",
      "\u001b[33m[ WARN] [1703002495.751744271, 4378.602000000]: TF_REPEATED_DATA ignoring data with redundant timestamp for frame odom at time 4378.636000 according to authority /pose_integrator\u001b[0m\n",
      "\u001b[33m[ WARN] [1703002495.751805049, 4378.602000000]: TF_REPEATED_DATA ignoring data with redundant timestamp for frame odom at time 4378.636000 according to authority /pose_integrator\u001b[0m\n",
      "\u001b[33m[ WARN] [1703002497.527846234, 4379.297000000]: TF_REPEATED_DATA ignoring data with redundant timestamp for frame odom at time 4379.354000 according to authority unknown_publisher\u001b[0m\n",
      "\u001b[33m[ WARN] [1703002497.528534652, 4379.297000000]: TF_REPEATED_DATA ignoring data with redundant timestamp for frame odom at time 4379.354000 according to authority /pose_integrator\u001b[0m\n",
      "\u001b[33m[ WARN] [1703002497.528581362, 4379.297000000]: TF_REPEATED_DATA ignoring data with redundant timestamp for frame odom at time 4379.354000 according to authority /pose_integrator\u001b[0m\n",
      "\u001b[33m[ WARN] [1703002497.528614754, 4379.297000000]: TF_REPEATED_DATA ignoring data with redundant timestamp for frame odom at time 4379.354000 according to authority /pose_integrator\u001b[0m\n",
      "\u001b[33m[ WARN] [1703002497.528652818, 4379.297000000]: TF_REPEATED_DATA ignoring data with redundant timestamp for frame odom at time 4379.354000 according to authority /pose_integrator\u001b[0m\n",
      "\u001b[33m[ WARN] [1703002497.528694924, 4379.297000000]: TF_REPEATED_DATA ignoring data with redundant timestamp for frame odom at time 4379.354000 according to authority /pose_integrator\u001b[0m\n",
      "\u001b[33m[ WARN] [1703002497.528732255, 4379.297000000]: TF_REPEATED_DATA ignoring data with redundant timestamp for frame odom at time 4379.354000 according to authority /pose_integrator\u001b[0m\n",
      "\u001b[33m[ WARN] [1703002497.755088382, 4379.385000000]: TF_REPEATED_DATA ignoring data with redundant timestamp for frame odom at time 4379.444000 according to authority /pose_integrator\u001b[0m\n",
      "\u001b[33m[ WARN] [1703002497.755173121, 4379.385000000]: TF_REPEATED_DATA ignoring data with redundant timestamp for frame odom at time 4379.444000 according to authority /pose_integrator\u001b[0m\n",
      "\u001b[33m[ WARN] [1703002497.755227844, 4379.385000000]: TF_REPEATED_DATA ignoring data with redundant timestamp for frame odom at time 4379.444000 according to authority /pose_integrator\u001b[0m\n",
      "\u001b[33m[ WARN] [1703002497.755263900, 4379.385000000]: TF_REPEATED_DATA ignoring data with redundant timestamp for frame odom at time 4379.444000 according to authority /pose_integrator\u001b[0m\n",
      "\u001b[33m[ WARN] [1703002497.755296057, 4379.385000000]: TF_REPEATED_DATA ignoring data with redundant timestamp for frame odom at time 4379.444000 according to authority /pose_integrator\u001b[0m\n",
      "\u001b[33m[ WARN] [1703002497.755327043, 4379.385000000]: TF_REPEATED_DATA ignoring data with redundant timestamp for frame odom at time 4379.444000 according to authority /pose_integrator\u001b[0m\n",
      "\u001b[33m[ WARN] [1703002497.755859489, 4379.385000000]: TF_REPEATED_DATA ignoring data with redundant timestamp for frame odom at time 4379.444000 according to authority unknown_publisher\u001b[0m\n",
      "\u001b[33m[ WARN] [1703002498.079311743, 4379.556000000]: TF_REPEATED_DATA ignoring data with redundant timestamp for frame odom at time 4379.619000 according to authority unknown_publisher\u001b[0m\n",
      "\u001b[33m[ WARN] [1703002498.080397684, 4379.556000000]: TF_REPEATED_DATA ignoring data with redundant timestamp for frame odom at time 4379.619000 according to authority /pose_integrator\u001b[0m\n",
      "\u001b[33m[ WARN] [1703002498.080480440, 4379.556000000]: TF_REPEATED_DATA ignoring data with redundant timestamp for frame odom at time 4379.619000 according to authority /pose_integrator\u001b[0m\n",
      "\u001b[33m[ WARN] [1703002498.080542661, 4379.556000000]: TF_REPEATED_DATA ignoring data with redundant timestamp for frame odom at time 4379.619000 according to authority /pose_integrator\u001b[0m\n",
      "\u001b[33m[ WARN] [1703002498.080603325, 4379.556000000]: TF_REPEATED_DATA ignoring data with redundant timestamp for frame odom at time 4379.619000 according to authority /pose_integrator\u001b[0m\n",
      "\u001b[33m[ WARN] [1703002498.080662178, 4379.556000000]: TF_REPEATED_DATA ignoring data with redundant timestamp for frame odom at time 4379.619000 according to authority /pose_integrator\u001b[0m\n",
      "\u001b[33m[ WARN] [1703002498.080734880, 4379.556000000]: TF_REPEATED_DATA ignoring data with redundant timestamp for frame odom at time 4379.619000 according to authority /pose_integrator\u001b[0m\n"
     ]
    },
    {
     "name": "stderr",
     "output_type": "stream",
     "text": [
      "\u001b[33m[ WARN] [1703002499.323843251, 4380.170000000]: TF_REPEATED_DATA ignoring data with redundant timestamp for frame odom at time 4380.202000 according to authority /pose_integrator\u001b[0m\n",
      "\u001b[33m[ WARN] [1703002499.323908480, 4380.170000000]: TF_REPEATED_DATA ignoring data with redundant timestamp for frame odom at time 4380.202000 according to authority /pose_integrator\u001b[0m\n",
      "\u001b[33m[ WARN] [1703002499.323952830, 4380.170000000]: TF_REPEATED_DATA ignoring data with redundant timestamp for frame odom at time 4380.202000 according to authority /pose_integrator\u001b[0m\n",
      "\u001b[33m[ WARN] [1703002499.323995981, 4380.170000000]: TF_REPEATED_DATA ignoring data with redundant timestamp for frame odom at time 4380.202000 according to authority /pose_integrator\u001b[0m\n",
      "\u001b[33m[ WARN] [1703002499.324412655, 4380.170000000]: TF_REPEATED_DATA ignoring data with redundant timestamp for frame odom at time 4380.202000 according to authority /pose_integrator\u001b[0m\n",
      "\u001b[33m[ WARN] [1703002499.324471687, 4380.170000000]: TF_REPEATED_DATA ignoring data with redundant timestamp for frame odom at time 4380.202000 according to authority /pose_integrator\u001b[0m\n",
      "\u001b[33m[ WARN] [1703002499.324507255, 4380.170000000]: TF_REPEATED_DATA ignoring data with redundant timestamp for frame odom at time 4380.202000 according to authority unknown_publisher\u001b[0m\n",
      "\u001b[33m[ WARN] [1703002500.160036116, 4380.486000000]: TF_REPEATED_DATA ignoring data with redundant timestamp for frame odom at time 4380.519000 according to authority /pose_integrator\u001b[0m\n",
      "\u001b[33m[ WARN] [1703002500.160101420, 4380.486000000]: TF_REPEATED_DATA ignoring data with redundant timestamp for frame odom at time 4380.519000 according to authority /pose_integrator\u001b[0m\n",
      "\u001b[33m[ WARN] [1703002500.160146352, 4380.486000000]: TF_REPEATED_DATA ignoring data with redundant timestamp for frame odom at time 4380.519000 according to authority /pose_integrator\u001b[0m\n",
      "\u001b[33m[ WARN] [1703002500.160184736, 4380.486000000]: TF_REPEATED_DATA ignoring data with redundant timestamp for frame odom at time 4380.519000 according to authority /pose_integrator\u001b[0m\n",
      "\u001b[33m[ WARN] [1703002500.160228671, 4380.486000000]: TF_REPEATED_DATA ignoring data with redundant timestamp for frame odom at time 4380.519000 according to authority unknown_publisher\u001b[0m\n",
      "\u001b[33m[ WARN] [1703002500.160277962, 4380.486000000]: TF_REPEATED_DATA ignoring data with redundant timestamp for frame odom at time 4380.519000 according to authority /pose_integrator\u001b[0m\n",
      "\u001b[33m[ WARN] [1703002500.160341437, 4380.486000000]: TF_REPEATED_DATA ignoring data with redundant timestamp for frame odom at time 4380.519000 according to authority /pose_integrator\u001b[0m\n",
      "\u001b[33m[ WARN] [1703002501.554471150, 4381.053000000]: TF_REPEATED_DATA ignoring data with redundant timestamp for frame odom at time 4381.084000 according to authority /pose_integrator\u001b[0m\n",
      "\u001b[33m[ WARN] [1703002501.554545504, 4381.053000000]: TF_REPEATED_DATA ignoring data with redundant timestamp for frame odom at time 4381.084000 according to authority unknown_publisher\u001b[0m\n",
      "\u001b[33m[ WARN] [1703002501.554654725, 4381.053000000]: TF_REPEATED_DATA ignoring data with redundant timestamp for frame odom at time 4381.084000 according to authority /pose_integrator\u001b[0m\n",
      "\u001b[33m[ WARN] [1703002501.554723588, 4381.053000000]: TF_REPEATED_DATA ignoring data with redundant timestamp for frame odom at time 4381.084000 according to authority /pose_integrator\u001b[0m\n",
      "\u001b[33m[ WARN] [1703002501.554776335, 4381.053000000]: TF_REPEATED_DATA ignoring data with redundant timestamp for frame odom at time 4381.084000 according to authority /pose_integrator\u001b[0m\n",
      "\u001b[33m[ WARN] [1703002501.554820227, 4381.053000000]: TF_REPEATED_DATA ignoring data with redundant timestamp for frame odom at time 4381.084000 according to authority /pose_integrator\u001b[0m\n",
      "\u001b[33m[ WARN] [1703002501.554865627, 4381.053000000]: TF_REPEATED_DATA ignoring data with redundant timestamp for frame odom at time 4381.084000 according to authority /pose_integrator\u001b[0m\n",
      "\u001b[33m[ WARN] [1703002502.486638487, 4381.400000000]: TF_REPEATED_DATA ignoring data with redundant timestamp for frame odom at time 4381.422000 according to authority unknown_publisher\u001b[0m\n",
      "\u001b[33m[ WARN] [1703002502.486945480, 4381.400000000]: TF_REPEATED_DATA ignoring data with redundant timestamp for frame odom at time 4381.422000 according to authority /pose_integrator\u001b[0m\n",
      "\u001b[33m[ WARN] [1703002502.487015086, 4381.400000000]: TF_REPEATED_DATA ignoring data with redundant timestamp for frame odom at time 4381.422000 according to authority /pose_integrator\u001b[0m\n",
      "\u001b[33m[ WARN] [1703002502.487059426, 4381.400000000]: TF_REPEATED_DATA ignoring data with redundant timestamp for frame odom at time 4381.422000 according to authority /pose_integrator\u001b[0m\n",
      "\u001b[33m[ WARN] [1703002502.487090698, 4381.400000000]: TF_REPEATED_DATA ignoring data with redundant timestamp for frame odom at time 4381.422000 according to authority /pose_integrator\u001b[0m\n",
      "\u001b[33m[ WARN] [1703002502.487119836, 4381.400000000]: TF_REPEATED_DATA ignoring data with redundant timestamp for frame odom at time 4381.422000 according to authority /pose_integrator\u001b[0m\n",
      "\u001b[33m[ WARN] [1703002502.487147104, 4381.400000000]: TF_REPEATED_DATA ignoring data with redundant timestamp for frame odom at time 4381.422000 according to authority /pose_integrator\u001b[0m\n",
      "\u001b[33m[ WARN] [1703002503.304697895, 4381.683000000]: TF_REPEATED_DATA ignoring data with redundant timestamp for frame odom at time 4381.725000 according to authority /pose_integrator\u001b[0m\n",
      "\u001b[33m[ WARN] [1703002503.304773335, 4381.683000000]: TF_REPEATED_DATA ignoring data with redundant timestamp for frame odom at time 4381.725000 according to authority /pose_integrator\u001b[0m\n",
      "\u001b[33m[ WARN] [1703002503.304824425, 4381.683000000]: TF_REPEATED_DATA ignoring data with redundant timestamp for frame odom at time 4381.725000 according to authority /pose_integrator\u001b[0m\n",
      "\u001b[33m[ WARN] [1703002503.304865595, 4381.683000000]: TF_REPEATED_DATA ignoring data with redundant timestamp for frame odom at time 4381.725000 according to authority /pose_integrator\u001b[0m\n",
      "\u001b[33m[ WARN] [1703002503.304899626, 4381.683000000]: TF_REPEATED_DATA ignoring data with redundant timestamp for frame odom at time 4381.725000 according to authority /pose_integrator\u001b[0m\n",
      "\u001b[33m[ WARN] [1703002503.304939448, 4381.683000000]: TF_REPEATED_DATA ignoring data with redundant timestamp for frame odom at time 4381.725000 according to authority /pose_integrator\u001b[0m\n",
      "\u001b[33m[ WARN] [1703002503.305284438, 4381.683000000]: TF_REPEATED_DATA ignoring data with redundant timestamp for frame odom at time 4381.725000 according to authority unknown_publisher\u001b[0m\n"
     ]
    }
   ],
   "source": [
    "whole_body.set_pose_target(tar_pose)\n",
    "plan=whole_body.plan()\n",
    "if len (plan)>0:whole_body.go()\n",
    "else:print('nope')"
   ]
  },
  {
   "cell_type": "code",
   "execution_count": 21,
   "id": "04bf0f7a",
   "metadata": {},
   "outputs": [
    {
     "data": {
      "text/plain": [
       "(False,\n",
       " joint_trajectory: \n",
       "   header: \n",
       "     seq: 0\n",
       "     stamp: \n",
       "       secs: 0\n",
       "       nsecs:         0\n",
       "     frame_id: ''\n",
       "   joint_names: []\n",
       "   points: []\n",
       " multi_dof_joint_trajectory: \n",
       "   header: \n",
       "     seq: 0\n",
       "     stamp: \n",
       "       secs: 0\n",
       "       nsecs:         0\n",
       "     frame_id: ''\n",
       "   joint_names: []\n",
       "   points: [],\n",
       " 6.94838581426447e-310,\n",
       " val: -26)"
      ]
     },
     "execution_count": 21,
     "metadata": {},
     "output_type": "execute_result"
    },
    {
     "name": "stderr",
     "output_type": "stream",
     "text": [
      "\u001b[33m[ WARN] [1703002503.765088841, 4381.904000000]: TF_REPEATED_DATA ignoring data with redundant timestamp for frame odom at time 4381.946000 according to authority unknown_publisher\u001b[0m\n",
      "\u001b[33m[ WARN] [1703002503.765149412, 4381.904000000]: TF_REPEATED_DATA ignoring data with redundant timestamp for frame odom at time 4381.946000 according to authority /pose_integrator\u001b[0m\n",
      "\u001b[33m[ WARN] [1703002503.765199606, 4381.904000000]: TF_REPEATED_DATA ignoring data with redundant timestamp for frame odom at time 4381.946000 according to authority /pose_integrator\u001b[0m\n",
      "\u001b[33m[ WARN] [1703002503.765240155, 4381.904000000]: TF_REPEATED_DATA ignoring data with redundant timestamp for frame odom at time 4381.946000 according to authority /pose_integrator\u001b[0m\n",
      "\u001b[33m[ WARN] [1703002503.765278533, 4381.904000000]: TF_REPEATED_DATA ignoring data with redundant timestamp for frame odom at time 4381.946000 according to authority /pose_integrator\u001b[0m\n",
      "\u001b[33m[ WARN] [1703002503.765332879, 4381.904000000]: TF_REPEATED_DATA ignoring data with redundant timestamp for frame odom at time 4381.946000 according to authority /pose_integrator\u001b[0m\n",
      "\u001b[33m[ WARN] [1703002503.765375677, 4381.904000000]: TF_REPEATED_DATA ignoring data with redundant timestamp for frame odom at time 4381.946000 according to authority /pose_integrator\u001b[0m\n",
      "\u001b[33m[ WARN] [1703002505.088278950, 4382.472000000]: TF_REPEATED_DATA ignoring data with redundant timestamp for frame odom at time 4382.504000 according to authority unknown_publisher\u001b[0m\n",
      "\u001b[33m[ WARN] [1703002505.091112681, 4382.472000000]: TF_REPEATED_DATA ignoring data with redundant timestamp for frame odom at time 4382.504000 according to authority /pose_integrator\u001b[0m\n",
      "\u001b[33m[ WARN] [1703002505.091172608, 4382.472000000]: TF_REPEATED_DATA ignoring data with redundant timestamp for frame odom at time 4382.504000 according to authority /pose_integrator\u001b[0m\n",
      "\u001b[33m[ WARN] [1703002505.091226396, 4382.472000000]: TF_REPEATED_DATA ignoring data with redundant timestamp for frame odom at time 4382.504000 according to authority /pose_integrator\u001b[0m\n",
      "\u001b[33m[ WARN] [1703002505.091275628, 4382.472000000]: TF_REPEATED_DATA ignoring data with redundant timestamp for frame odom at time 4382.504000 according to authority /pose_integrator\u001b[0m\n",
      "\u001b[33m[ WARN] [1703002505.091311819, 4382.472000000]: TF_REPEATED_DATA ignoring data with redundant timestamp for frame odom at time 4382.504000 according to authority /pose_integrator\u001b[0m\n",
      "\u001b[33m[ WARN] [1703002505.091347528, 4382.472000000]: TF_REPEATED_DATA ignoring data with redundant timestamp for frame odom at time 4382.504000 according to authority /pose_integrator\u001b[0m\n",
      "\u001b[33m[ WARN] [1703002505.461251009, 4382.626000000]: TF_REPEATED_DATA ignoring data with redundant timestamp for frame odom at time 4382.665000 according to authority /pose_integrator\u001b[0m\n",
      "\u001b[33m[ WARN] [1703002505.461322359, 4382.626000000]: TF_REPEATED_DATA ignoring data with redundant timestamp for frame odom at time 4382.665000 according to authority /pose_integrator\u001b[0m\n",
      "\u001b[33m[ WARN] [1703002505.461371240, 4382.626000000]: TF_REPEATED_DATA ignoring data with redundant timestamp for frame odom at time 4382.665000 according to authority /pose_integrator\u001b[0m\n",
      "\u001b[33m[ WARN] [1703002505.461413143, 4382.626000000]: TF_REPEATED_DATA ignoring data with redundant timestamp for frame odom at time 4382.665000 according to authority /pose_integrator\u001b[0m\n",
      "\u001b[33m[ WARN] [1703002505.461454144, 4382.626000000]: TF_REPEATED_DATA ignoring data with redundant timestamp for frame odom at time 4382.665000 according to authority /pose_integrator\u001b[0m\n",
      "\u001b[33m[ WARN] [1703002505.461495284, 4382.626000000]: TF_REPEATED_DATA ignoring data with redundant timestamp for frame odom at time 4382.665000 according to authority /pose_integrator\u001b[0m\n",
      "\u001b[33m[ WARN] [1703002505.461569264, 4382.626000000]: TF_REPEATED_DATA ignoring data with redundant timestamp for frame odom at time 4382.665000 according to authority unknown_publisher\u001b[0m\n",
      "\u001b[33m[ WARN] [1703002506.264294372, 4382.989000000]: TF_REPEATED_DATA ignoring data with redundant timestamp for frame odom at time 4383.067000 according to authority unknown_publisher\u001b[0m\n",
      "\u001b[33m[ WARN] [1703002506.266087464, 4382.989000000]: TF_REPEATED_DATA ignoring data with redundant timestamp for frame odom at time 4383.067000 according to authority /pose_integrator\u001b[0m\n",
      "\u001b[33m[ WARN] [1703002506.266151698, 4382.989000000]: TF_REPEATED_DATA ignoring data with redundant timestamp for frame odom at time 4383.067000 according to authority /pose_integrator\u001b[0m\n",
      "\u001b[33m[ WARN] [1703002506.266189911, 4382.989000000]: TF_REPEATED_DATA ignoring data with redundant timestamp for frame odom at time 4383.067000 according to authority /pose_integrator\u001b[0m\n",
      "\u001b[33m[ WARN] [1703002506.266224572, 4382.989000000]: TF_REPEATED_DATA ignoring data with redundant timestamp for frame odom at time 4383.067000 according to authority /pose_integrator\u001b[0m\n",
      "\u001b[33m[ WARN] [1703002506.266258886, 4382.989000000]: TF_REPEATED_DATA ignoring data with redundant timestamp for frame odom at time 4383.067000 according to authority /pose_integrator\u001b[0m\n",
      "\u001b[33m[ WARN] [1703002506.266291414, 4382.989000000]: TF_REPEATED_DATA ignoring data with redundant timestamp for frame odom at time 4383.067000 according to authority /pose_integrator\u001b[0m\n"
     ]
    }
   ],
   "source": [
    "plan"
   ]
  },
  {
   "cell_type": "code",
   "execution_count": 17,
   "id": "e8475129",
   "metadata": {},
   "outputs": [
    {
     "name": "stderr",
     "output_type": "stream",
     "text": [
      "\u001b[33m[ WARN] [1703002319.119591652, 4302.595000000]: TF_REPEATED_DATA ignoring data with redundant timestamp for frame odom at time 4302.639000 according to authority unknown_publisher\u001b[0m\n",
      "\u001b[33m[ WARN] [1703002319.123179744, 4302.595000000]: TF_REPEATED_DATA ignoring data with redundant timestamp for frame odom at time 4302.639000 according to authority /pose_integrator\u001b[0m\n",
      "\u001b[33m[ WARN] [1703002319.123267244, 4302.595000000]: TF_REPEATED_DATA ignoring data with redundant timestamp for frame odom at time 4302.639000 according to authority /pose_integrator\u001b[0m\n",
      "\u001b[33m[ WARN] [1703002319.123315267, 4302.595000000]: TF_REPEATED_DATA ignoring data with redundant timestamp for frame odom at time 4302.639000 according to authority /pose_integrator\u001b[0m\n",
      "\u001b[33m[ WARN] [1703002319.123354683, 4302.595000000]: TF_REPEATED_DATA ignoring data with redundant timestamp for frame odom at time 4302.639000 according to authority /pose_integrator\u001b[0m\n",
      "\u001b[33m[ WARN] [1703002319.123398553, 4302.595000000]: TF_REPEATED_DATA ignoring data with redundant timestamp for frame odom at time 4302.639000 according to authority /pose_integrator\u001b[0m\n",
      "\u001b[33m[ WARN] [1703002319.123435370, 4302.595000000]: TF_REPEATED_DATA ignoring data with redundant timestamp for frame odom at time 4302.639000 according to authority /pose_integrator\u001b[0m\n",
      "\u001b[33m[ WARN] [1703002319.356318168, 4302.697000000]: TF_REPEATED_DATA ignoring data with redundant timestamp for frame odom at time 4302.769000 according to authority /pose_integrator\u001b[0m\n",
      "\u001b[33m[ WARN] [1703002319.356390979, 4302.697000000]: TF_REPEATED_DATA ignoring data with redundant timestamp for frame odom at time 4302.769000 according to authority /pose_integrator\u001b[0m\n",
      "\u001b[33m[ WARN] [1703002319.356453020, 4302.697000000]: TF_REPEATED_DATA ignoring data with redundant timestamp for frame odom at time 4302.769000 according to authority /pose_integrator\u001b[0m\n",
      "\u001b[33m[ WARN] [1703002319.356505815, 4302.697000000]: TF_REPEATED_DATA ignoring data with redundant timestamp for frame odom at time 4302.769000 according to authority /pose_integrator\u001b[0m\n",
      "\u001b[33m[ WARN] [1703002319.356545065, 4302.697000000]: TF_REPEATED_DATA ignoring data with redundant timestamp for frame odom at time 4302.769000 according to authority /pose_integrator\u001b[0m\n",
      "\u001b[33m[ WARN] [1703002319.356583483, 4302.697000000]: TF_REPEATED_DATA ignoring data with redundant timestamp for frame odom at time 4302.769000 according to authority /pose_integrator\u001b[0m\n",
      "\u001b[33m[ WARN] [1703002319.356649498, 4302.697000000]: TF_REPEATED_DATA ignoring data with redundant timestamp for frame odom at time 4302.769000 according to authority unknown_publisher\u001b[0m\n",
      "\u001b[33m[ WARN] [1703002319.815332762, 4302.907000000]: TF_REPEATED_DATA ignoring data with redundant timestamp for frame odom at time 4302.979000 according to authority unknown_publisher\u001b[0m\n",
      "\u001b[33m[ WARN] [1703002319.816010969, 4302.907000000]: TF_REPEATED_DATA ignoring data with redundant timestamp for frame odom at time 4302.979000 according to authority /pose_integrator\u001b[0m\n",
      "\u001b[33m[ WARN] [1703002319.816077113, 4302.907000000]: TF_REPEATED_DATA ignoring data with redundant timestamp for frame odom at time 4302.979000 according to authority /pose_integrator\u001b[0m\n",
      "\u001b[33m[ WARN] [1703002319.816124955, 4302.907000000]: TF_REPEATED_DATA ignoring data with redundant timestamp for frame odom at time 4302.979000 according to authority /pose_integrator\u001b[0m\n",
      "\u001b[33m[ WARN] [1703002319.816171505, 4302.907000000]: TF_REPEATED_DATA ignoring data with redundant timestamp for frame odom at time 4302.979000 according to authority /pose_integrator\u001b[0m\n",
      "\u001b[33m[ WARN] [1703002319.816216917, 4302.907000000]: TF_REPEATED_DATA ignoring data with redundant timestamp for frame odom at time 4302.979000 according to authority /pose_integrator\u001b[0m\n",
      "\u001b[33m[ WARN] [1703002319.816261045, 4302.907000000]: TF_REPEATED_DATA ignoring data with redundant timestamp for frame odom at time 4302.979000 according to authority /pose_integrator\u001b[0m\n",
      "\u001b[33m[ WARN] [1703002320.160884761, 4303.071000000]: TF_REPEATED_DATA ignoring data with redundant timestamp for frame odom at time 4303.123000 according to authority /pose_integrator\u001b[0m\n",
      "\u001b[33m[ WARN] [1703002320.160956565, 4303.071000000]: TF_REPEATED_DATA ignoring data with redundant timestamp for frame odom at time 4303.123000 according to authority /pose_integrator\u001b[0m\n",
      "\u001b[33m[ WARN] [1703002320.161001918, 4303.071000000]: TF_REPEATED_DATA ignoring data with redundant timestamp for frame odom at time 4303.123000 according to authority /pose_integrator\u001b[0m\n",
      "\u001b[33m[ WARN] [1703002320.161044945, 4303.071000000]: TF_REPEATED_DATA ignoring data with redundant timestamp for frame odom at time 4303.123000 according to authority /pose_integrator\u001b[0m\n",
      "\u001b[33m[ WARN] [1703002320.161087069, 4303.071000000]: TF_REPEATED_DATA ignoring data with redundant timestamp for frame odom at time 4303.123000 according to authority /pose_integrator\u001b[0m\n",
      "\u001b[33m[ WARN] [1703002320.161128608, 4303.071000000]: TF_REPEATED_DATA ignoring data with redundant timestamp for frame odom at time 4303.123000 according to authority /pose_integrator\u001b[0m\n",
      "\u001b[33m[ WARN] [1703002320.165462989, 4303.071000000]: TF_REPEATED_DATA ignoring data with redundant timestamp for frame odom at time 4303.123000 according to authority unknown_publisher\u001b[0m\n",
      "\u001b[33m[ WARN] [1703002320.403920274, 4303.199000000]: TF_REPEATED_DATA ignoring data with redundant timestamp for frame odom at time 4303.228000 according to authority unknown_publisher\u001b[0m\n",
      "\u001b[33m[ WARN] [1703002320.404048936, 4303.199000000]: TF_REPEATED_DATA ignoring data with redundant timestamp for frame odom at time 4303.228000 according to authority /pose_integrator\u001b[0m\n",
      "\u001b[33m[ WARN] [1703002320.404101391, 4303.199000000]: TF_REPEATED_DATA ignoring data with redundant timestamp for frame odom at time 4303.228000 according to authority /pose_integrator\u001b[0m\n",
      "\u001b[33m[ WARN] [1703002320.404139887, 4303.199000000]: TF_REPEATED_DATA ignoring data with redundant timestamp for frame odom at time 4303.228000 according to authority /pose_integrator\u001b[0m\n",
      "\u001b[33m[ WARN] [1703002320.404173947, 4303.199000000]: TF_REPEATED_DATA ignoring data with redundant timestamp for frame odom at time 4303.228000 according to authority /pose_integrator\u001b[0m\n",
      "\u001b[33m[ WARN] [1703002320.404212982, 4303.199000000]: TF_REPEATED_DATA ignoring data with redundant timestamp for frame odom at time 4303.228000 according to authority /pose_integrator\u001b[0m\n",
      "\u001b[33m[ WARN] [1703002320.404251704, 4303.199000000]: TF_REPEATED_DATA ignoring data with redundant timestamp for frame odom at time 4303.228000 according to authority /pose_integrator\u001b[0m\n",
      "\u001b[33m[ WARN] [1703002321.712668026, 4303.689000000]: TF_REPEATED_DATA ignoring data with redundant timestamp for frame odom at time 4303.750000 according to authority /pose_integrator\u001b[0m\n",
      "\u001b[33m[ WARN] [1703002321.712751174, 4303.689000000]: TF_REPEATED_DATA ignoring data with redundant timestamp for frame odom at time 4303.750000 according to authority /pose_integrator\u001b[0m\n",
      "\u001b[33m[ WARN] [1703002321.712809599, 4303.689000000]: TF_REPEATED_DATA ignoring data with redundant timestamp for frame odom at time 4303.750000 according to authority /pose_integrator\u001b[0m\n",
      "\u001b[33m[ WARN] [1703002321.712863904, 4303.689000000]: TF_REPEATED_DATA ignoring data with redundant timestamp for frame odom at time 4303.750000 according to authority /pose_integrator\u001b[0m\n",
      "\u001b[33m[ WARN] [1703002321.712921241, 4303.689000000]: TF_REPEATED_DATA ignoring data with redundant timestamp for frame odom at time 4303.750000 according to authority /pose_integrator\u001b[0m\n",
      "\u001b[33m[ WARN] [1703002321.712975286, 4303.689000000]: TF_REPEATED_DATA ignoring data with redundant timestamp for frame odom at time 4303.750000 according to authority /pose_integrator\u001b[0m\n",
      "\u001b[33m[ WARN] [1703002321.713105630, 4303.689000000]: TF_REPEATED_DATA ignoring data with redundant timestamp for frame odom at time 4303.750000 according to authority unknown_publisher\u001b[0m\n",
      "\u001b[33m[ WARN] [1703002322.826695358, 4304.203000000]: TF_REPEATED_DATA ignoring data with redundant timestamp for frame odom at time 4304.224000 according to authority unknown_publisher\u001b[0m\n",
      "\u001b[33m[ WARN] [1703002322.826920895, 4304.203000000]: TF_REPEATED_DATA ignoring data with redundant timestamp for frame odom at time 4304.224000 according to authority /pose_integrator\u001b[0m\n",
      "\u001b[33m[ WARN] [1703002322.826979524, 4304.203000000]: TF_REPEATED_DATA ignoring data with redundant timestamp for frame odom at time 4304.224000 according to authority /pose_integrator\u001b[0m\n",
      "\u001b[33m[ WARN] [1703002322.827029647, 4304.203000000]: TF_REPEATED_DATA ignoring data with redundant timestamp for frame odom at time 4304.224000 according to authority /pose_integrator\u001b[0m\n",
      "\u001b[33m[ WARN] [1703002322.827078111, 4304.203000000]: TF_REPEATED_DATA ignoring data with redundant timestamp for frame odom at time 4304.224000 according to authority /pose_integrator\u001b[0m\n",
      "\u001b[33m[ WARN] [1703002322.827131013, 4304.203000000]: TF_REPEATED_DATA ignoring data with redundant timestamp for frame odom at time 4304.224000 according to authority /pose_integrator\u001b[0m\n",
      "\u001b[33m[ WARN] [1703002322.827190530, 4304.203000000]: TF_REPEATED_DATA ignoring data with redundant timestamp for frame odom at time 4304.224000 according to authority /pose_integrator\u001b[0m\n"
     ]
    },
    {
     "name": "stderr",
     "output_type": "stream",
     "text": [
      "\u001b[33m[ WARN] [1703002323.031644690, 4304.316000000]: TF_REPEATED_DATA ignoring data with redundant timestamp for frame odom at time 4304.316000 according to authority unknown_publisher\u001b[0m\n",
      "\u001b[33m[ WARN] [1703002323.032682606, 4304.316000000]: TF_REPEATED_DATA ignoring data with redundant timestamp for frame odom at time 4304.316000 according to authority /pose_integrator\u001b[0m\n",
      "\u001b[33m[ WARN] [1703002323.032793947, 4304.316000000]: TF_REPEATED_DATA ignoring data with redundant timestamp for frame odom at time 4304.316000 according to authority /pose_integrator\u001b[0m\n",
      "\u001b[33m[ WARN] [1703002323.032846313, 4304.316000000]: TF_REPEATED_DATA ignoring data with redundant timestamp for frame odom at time 4304.316000 according to authority /pose_integrator\u001b[0m\n",
      "\u001b[33m[ WARN] [1703002323.032885986, 4304.316000000]: TF_REPEATED_DATA ignoring data with redundant timestamp for frame odom at time 4304.316000 according to authority /pose_integrator\u001b[0m\n",
      "\u001b[33m[ WARN] [1703002323.032924175, 4304.316000000]: TF_REPEATED_DATA ignoring data with redundant timestamp for frame odom at time 4304.316000 according to authority /pose_integrator\u001b[0m\n",
      "\u001b[33m[ WARN] [1703002323.032961738, 4304.316000000]: TF_REPEATED_DATA ignoring data with redundant timestamp for frame odom at time 4304.316000 according to authority /pose_integrator\u001b[0m\n",
      "\u001b[33m[ WARN] [1703002323.654799714, 4304.516000000]: TF_REPEATED_DATA ignoring data with redundant timestamp for frame odom at time 4304.558000 according to authority unknown_publisher\u001b[0m\n",
      "\u001b[33m[ WARN] [1703002323.655665228, 4304.516000000]: TF_REPEATED_DATA ignoring data with redundant timestamp for frame odom at time 4304.558000 according to authority /pose_integrator\u001b[0m\n",
      "\u001b[33m[ WARN] [1703002323.655729560, 4304.516000000]: TF_REPEATED_DATA ignoring data with redundant timestamp for frame odom at time 4304.558000 according to authority /pose_integrator\u001b[0m\n",
      "\u001b[33m[ WARN] [1703002323.655768911, 4304.516000000]: TF_REPEATED_DATA ignoring data with redundant timestamp for frame odom at time 4304.558000 according to authority /pose_integrator\u001b[0m\n",
      "\u001b[33m[ WARN] [1703002323.655803046, 4304.516000000]: TF_REPEATED_DATA ignoring data with redundant timestamp for frame odom at time 4304.558000 according to authority /pose_integrator\u001b[0m\n",
      "\u001b[33m[ WARN] [1703002323.655836481, 4304.516000000]: TF_REPEATED_DATA ignoring data with redundant timestamp for frame odom at time 4304.558000 according to authority /pose_integrator\u001b[0m\n",
      "\u001b[33m[ WARN] [1703002323.655870379, 4304.516000000]: TF_REPEATED_DATA ignoring data with redundant timestamp for frame odom at time 4304.558000 according to authority /pose_integrator\u001b[0m\n",
      "\u001b[33m[ WARN] [1703002325.215782066, 4305.205000000]: TF_REPEATED_DATA ignoring data with redundant timestamp for frame odom at time 4305.268000 according to authority /pose_integrator\u001b[0m\n",
      "\u001b[33m[ WARN] [1703002325.215857506, 4305.205000000]: TF_REPEATED_DATA ignoring data with redundant timestamp for frame odom at time 4305.268000 according to authority /pose_integrator\u001b[0m\n",
      "\u001b[33m[ WARN] [1703002325.215913941, 4305.205000000]: TF_REPEATED_DATA ignoring data with redundant timestamp for frame odom at time 4305.268000 according to authority /pose_integrator\u001b[0m\n",
      "\u001b[33m[ WARN] [1703002325.215971045, 4305.205000000]: TF_REPEATED_DATA ignoring data with redundant timestamp for frame odom at time 4305.268000 according to authority /pose_integrator\u001b[0m\n",
      "\u001b[33m[ WARN] [1703002325.216028732, 4305.205000000]: TF_REPEATED_DATA ignoring data with redundant timestamp for frame odom at time 4305.268000 according to authority /pose_integrator\u001b[0m\n",
      "\u001b[33m[ WARN] [1703002325.216083305, 4305.205000000]: TF_REPEATED_DATA ignoring data with redundant timestamp for frame odom at time 4305.268000 according to authority /pose_integrator\u001b[0m\n",
      "\u001b[33m[ WARN] [1703002325.216481586, 4305.205000000]: TF_REPEATED_DATA ignoring data with redundant timestamp for frame odom at time 4305.268000 according to authority unknown_publisher\u001b[0m\n",
      "\u001b[33m[ WARN] [1703002325.643580314, 4305.431000000]: TF_REPEATED_DATA ignoring data with redundant timestamp for frame odom at time 4305.483000 according to authority unknown_publisher\u001b[0m\n",
      "\u001b[33m[ WARN] [1703002325.645450860, 4305.431000000]: TF_REPEATED_DATA ignoring data with redundant timestamp for frame odom at time 4305.483000 according to authority /pose_integrator\u001b[0m\n",
      "\u001b[33m[ WARN] [1703002325.645509577, 4305.431000000]: TF_REPEATED_DATA ignoring data with redundant timestamp for frame odom at time 4305.483000 according to authority /pose_integrator\u001b[0m\n",
      "\u001b[33m[ WARN] [1703002325.645562956, 4305.431000000]: TF_REPEATED_DATA ignoring data with redundant timestamp for frame odom at time 4305.483000 according to authority /pose_integrator\u001b[0m\n",
      "\u001b[33m[ WARN] [1703002325.645620159, 4305.431000000]: TF_REPEATED_DATA ignoring data with redundant timestamp for frame odom at time 4305.483000 according to authority /pose_integrator\u001b[0m\n",
      "\u001b[33m[ WARN] [1703002325.645666505, 4305.431000000]: TF_REPEATED_DATA ignoring data with redundant timestamp for frame odom at time 4305.483000 according to authority /pose_integrator\u001b[0m\n",
      "\u001b[33m[ WARN] [1703002325.645697841, 4305.431000000]: TF_REPEATED_DATA ignoring data with redundant timestamp for frame odom at time 4305.483000 according to authority /pose_integrator\u001b[0m\n",
      "\u001b[33m[ WARN] [1703002325.917572106, 4305.640000000]: TF_REPEATED_DATA ignoring data with redundant timestamp for frame odom at time 4305.640000 according to authority /pose_integrator\u001b[0m\n",
      "\u001b[33m[ WARN] [1703002325.917650732, 4305.640000000]: TF_REPEATED_DATA ignoring data with redundant timestamp for frame odom at time 4305.640000 according to authority /pose_integrator\u001b[0m\n",
      "\u001b[33m[ WARN] [1703002325.917716240, 4305.640000000]: TF_REPEATED_DATA ignoring data with redundant timestamp for frame odom at time 4305.640000 according to authority /pose_integrator\u001b[0m\n",
      "\u001b[33m[ WARN] [1703002325.917769073, 4305.640000000]: TF_REPEATED_DATA ignoring data with redundant timestamp for frame odom at time 4305.640000 according to authority /pose_integrator\u001b[0m\n",
      "\u001b[33m[ WARN] [1703002325.917815340, 4305.640000000]: TF_REPEATED_DATA ignoring data with redundant timestamp for frame odom at time 4305.640000 according to authority /pose_integrator\u001b[0m\n",
      "\u001b[33m[ WARN] [1703002325.917856547, 4305.640000000]: TF_REPEATED_DATA ignoring data with redundant timestamp for frame odom at time 4305.640000 according to authority /pose_integrator\u001b[0m\n",
      "\u001b[33m[ WARN] [1703002325.918102127, 4305.640000000]: TF_REPEATED_DATA ignoring data with redundant timestamp for frame odom at time 4305.640000 according to authority unknown_publisher\u001b[0m\n",
      "\u001b[33m[ WARN] [1703002326.163746287, 4305.723000000]: TF_REPEATED_DATA ignoring data with redundant timestamp for frame odom at time 4305.743000 according to authority unknown_publisher\u001b[0m\n",
      "\u001b[33m[ WARN] [1703002326.169674921, 4305.723000000]: TF_REPEATED_DATA ignoring data with redundant timestamp for frame odom at time 4305.743000 according to authority /pose_integrator\u001b[0m\n",
      "\u001b[33m[ WARN] [1703002326.169765198, 4305.723000000]: TF_REPEATED_DATA ignoring data with redundant timestamp for frame odom at time 4305.743000 according to authority /pose_integrator\u001b[0m\n",
      "\u001b[33m[ WARN] [1703002326.169821631, 4305.723000000]: TF_REPEATED_DATA ignoring data with redundant timestamp for frame odom at time 4305.743000 according to authority /pose_integrator\u001b[0m\n",
      "\u001b[33m[ WARN] [1703002326.169871228, 4305.723000000]: TF_REPEATED_DATA ignoring data with redundant timestamp for frame odom at time 4305.743000 according to authority /pose_integrator\u001b[0m\n",
      "\u001b[33m[ WARN] [1703002326.169922177, 4305.723000000]: TF_REPEATED_DATA ignoring data with redundant timestamp for frame odom at time 4305.743000 according to authority /pose_integrator\u001b[0m\n",
      "\u001b[33m[ WARN] [1703002326.169975439, 4305.723000000]: TF_REPEATED_DATA ignoring data with redundant timestamp for frame odom at time 4305.743000 according to authority /pose_integrator\u001b[0m\n",
      "\u001b[33m[ WARN] [1703002327.397105859, 4306.249000000]: TF_REPEATED_DATA ignoring data with redundant timestamp for frame odom at time 4306.313000 according to authority unknown_publisher\u001b[0m\n",
      "\u001b[33m[ WARN] [1703002327.398145272, 4306.249000000]: TF_REPEATED_DATA ignoring data with redundant timestamp for frame odom at time 4306.313000 according to authority /pose_integrator\u001b[0m\n",
      "\u001b[33m[ WARN] [1703002327.398207450, 4306.249000000]: TF_REPEATED_DATA ignoring data with redundant timestamp for frame odom at time 4306.313000 according to authority /pose_integrator\u001b[0m\n",
      "\u001b[33m[ WARN] [1703002327.398255568, 4306.249000000]: TF_REPEATED_DATA ignoring data with redundant timestamp for frame odom at time 4306.313000 according to authority /pose_integrator\u001b[0m\n",
      "\u001b[33m[ WARN] [1703002327.398306274, 4306.249000000]: TF_REPEATED_DATA ignoring data with redundant timestamp for frame odom at time 4306.313000 according to authority /pose_integrator\u001b[0m\n",
      "\u001b[33m[ WARN] [1703002327.398344428, 4306.249000000]: TF_REPEATED_DATA ignoring data with redundant timestamp for frame odom at time 4306.313000 according to authority /pose_integrator\u001b[0m\n",
      "\u001b[33m[ WARN] [1703002327.398379933, 4306.249000000]: TF_REPEATED_DATA ignoring data with redundant timestamp for frame odom at time 4306.313000 according to authority /pose_integrator\u001b[0m\n"
     ]
    },
    {
     "name": "stderr",
     "output_type": "stream",
     "text": [
      "\u001b[33m[ WARN] [1703002327.727037941, 4306.424000000]: TF_REPEATED_DATA ignoring data with redundant timestamp for frame odom at time 4306.497000 according to authority unknown_publisher\u001b[0m\n",
      "\u001b[33m[ WARN] [1703002327.729636602, 4306.424000000]: TF_REPEATED_DATA ignoring data with redundant timestamp for frame odom at time 4306.497000 according to authority /pose_integrator\u001b[0m\n",
      "\u001b[33m[ WARN] [1703002327.729706963, 4306.424000000]: TF_REPEATED_DATA ignoring data with redundant timestamp for frame odom at time 4306.497000 according to authority /pose_integrator\u001b[0m\n",
      "\u001b[33m[ WARN] [1703002327.729760657, 4306.424000000]: TF_REPEATED_DATA ignoring data with redundant timestamp for frame odom at time 4306.497000 according to authority /pose_integrator\u001b[0m\n",
      "\u001b[33m[ WARN] [1703002327.729800448, 4306.424000000]: TF_REPEATED_DATA ignoring data with redundant timestamp for frame odom at time 4306.497000 according to authority /pose_integrator\u001b[0m\n",
      "\u001b[33m[ WARN] [1703002327.729852438, 4306.424000000]: TF_REPEATED_DATA ignoring data with redundant timestamp for frame odom at time 4306.497000 according to authority /pose_integrator\u001b[0m\n",
      "\u001b[33m[ WARN] [1703002327.729884142, 4306.424000000]: TF_REPEATED_DATA ignoring data with redundant timestamp for frame odom at time 4306.497000 according to authority /pose_integrator\u001b[0m\n",
      "\u001b[33m[ WARN] [1703002327.964773997, 4306.588000000]: TF_REPEATED_DATA ignoring data with redundant timestamp for frame odom at time 4306.622000 according to authority unknown_publisher\u001b[0m\n",
      "\u001b[33m[ WARN] [1703002327.964881489, 4306.588000000]: TF_REPEATED_DATA ignoring data with redundant timestamp for frame odom at time 4306.622000 according to authority /pose_integrator\u001b[0m\n",
      "\u001b[33m[ WARN] [1703002327.964932968, 4306.588000000]: TF_REPEATED_DATA ignoring data with redundant timestamp for frame odom at time 4306.622000 according to authority /pose_integrator\u001b[0m\n",
      "\u001b[33m[ WARN] [1703002327.964996578, 4306.588000000]: TF_REPEATED_DATA ignoring data with redundant timestamp for frame odom at time 4306.622000 according to authority /pose_integrator\u001b[0m\n",
      "\u001b[33m[ WARN] [1703002327.965048749, 4306.588000000]: TF_REPEATED_DATA ignoring data with redundant timestamp for frame odom at time 4306.622000 according to authority /pose_integrator\u001b[0m\n",
      "\u001b[33m[ WARN] [1703002327.965095504, 4306.588000000]: TF_REPEATED_DATA ignoring data with redundant timestamp for frame odom at time 4306.622000 according to authority /pose_integrator\u001b[0m\n",
      "\u001b[33m[ WARN] [1703002327.965137218, 4306.588000000]: TF_REPEATED_DATA ignoring data with redundant timestamp for frame odom at time 4306.622000 according to authority /pose_integrator\u001b[0m\n",
      "\u001b[33m[ WARN] [1703002328.867368553, 4306.963000000]: TF_REPEATED_DATA ignoring data with redundant timestamp for frame odom at time 4306.996000 according to authority unknown_publisher\u001b[0m\n",
      "\u001b[33m[ WARN] [1703002328.867634913, 4306.963000000]: TF_REPEATED_DATA ignoring data with redundant timestamp for frame odom at time 4306.996000 according to authority /pose_integrator\u001b[0m\n",
      "\u001b[33m[ WARN] [1703002328.867692873, 4306.963000000]: TF_REPEATED_DATA ignoring data with redundant timestamp for frame odom at time 4306.996000 according to authority /pose_integrator\u001b[0m\n",
      "\u001b[33m[ WARN] [1703002328.867743369, 4306.963000000]: TF_REPEATED_DATA ignoring data with redundant timestamp for frame odom at time 4306.996000 according to authority /pose_integrator\u001b[0m\n",
      "\u001b[33m[ WARN] [1703002328.867787848, 4306.963000000]: TF_REPEATED_DATA ignoring data with redundant timestamp for frame odom at time 4306.996000 according to authority /pose_integrator\u001b[0m\n",
      "\u001b[33m[ WARN] [1703002328.867837560, 4306.963000000]: TF_REPEATED_DATA ignoring data with redundant timestamp for frame odom at time 4306.996000 according to authority /pose_integrator\u001b[0m\n",
      "\u001b[33m[ WARN] [1703002328.867884411, 4306.963000000]: TF_REPEATED_DATA ignoring data with redundant timestamp for frame odom at time 4306.996000 according to authority /pose_integrator\u001b[0m\n",
      "\u001b[33m[ WARN] [1703002329.731853966, 4307.323000000]: TF_REPEATED_DATA ignoring data with redundant timestamp for frame odom at time 4307.360000 according to authority unknown_publisher\u001b[0m\n",
      "\u001b[33m[ WARN] [1703002329.732529547, 4307.323000000]: TF_REPEATED_DATA ignoring data with redundant timestamp for frame odom at time 4307.360000 according to authority /pose_integrator\u001b[0m\n",
      "\u001b[33m[ WARN] [1703002329.732593863, 4307.323000000]: TF_REPEATED_DATA ignoring data with redundant timestamp for frame odom at time 4307.360000 according to authority /pose_integrator\u001b[0m\n",
      "\u001b[33m[ WARN] [1703002329.732661379, 4307.323000000]: TF_REPEATED_DATA ignoring data with redundant timestamp for frame odom at time 4307.360000 according to authority /pose_integrator\u001b[0m\n",
      "\u001b[33m[ WARN] [1703002329.732715769, 4307.323000000]: TF_REPEATED_DATA ignoring data with redundant timestamp for frame odom at time 4307.360000 according to authority /pose_integrator\u001b[0m\n",
      "\u001b[33m[ WARN] [1703002329.732774943, 4307.323000000]: TF_REPEATED_DATA ignoring data with redundant timestamp for frame odom at time 4307.360000 according to authority /pose_integrator\u001b[0m\n",
      "\u001b[33m[ WARN] [1703002329.732827893, 4307.323000000]: TF_REPEATED_DATA ignoring data with redundant timestamp for frame odom at time 4307.360000 according to authority /pose_integrator\u001b[0m\n",
      "\u001b[33m[ WARN] [1703002330.182567887, 4307.550000000]: TF_REPEATED_DATA ignoring data with redundant timestamp for frame odom at time 4307.572000 according to authority /pose_integrator\u001b[0m\n",
      "\u001b[33m[ WARN] [1703002330.182631536, 4307.550000000]: TF_REPEATED_DATA ignoring data with redundant timestamp for frame odom at time 4307.572000 according to authority /pose_integrator\u001b[0m\n",
      "\u001b[33m[ WARN] [1703002330.182684797, 4307.550000000]: TF_REPEATED_DATA ignoring data with redundant timestamp for frame odom at time 4307.572000 according to authority /pose_integrator\u001b[0m\n",
      "\u001b[33m[ WARN] [1703002330.182718688, 4307.550000000]: TF_REPEATED_DATA ignoring data with redundant timestamp for frame odom at time 4307.572000 according to authority /pose_integrator\u001b[0m\n",
      "\u001b[33m[ WARN] [1703002330.182753813, 4307.550000000]: TF_REPEATED_DATA ignoring data with redundant timestamp for frame odom at time 4307.572000 according to authority /pose_integrator\u001b[0m\n",
      "\u001b[33m[ WARN] [1703002330.182796162, 4307.550000000]: TF_REPEATED_DATA ignoring data with redundant timestamp for frame odom at time 4307.572000 according to authority /pose_integrator\u001b[0m\n",
      "\u001b[33m[ WARN] [1703002330.182912455, 4307.550000000]: TF_REPEATED_DATA ignoring data with redundant timestamp for frame odom at time 4307.572000 according to authority unknown_publisher\u001b[0m\n",
      "\u001b[33m[ WARN] [1703002330.455478556, 4307.616000000]: TF_REPEATED_DATA ignoring data with redundant timestamp for frame odom at time 4307.666000 according to authority unknown_publisher\u001b[0m\n",
      "\u001b[33m[ WARN] [1703002330.455695700, 4307.616000000]: TF_REPEATED_DATA ignoring data with redundant timestamp for frame odom at time 4307.666000 according to authority /pose_integrator\u001b[0m\n",
      "\u001b[33m[ WARN] [1703002330.455746216, 4307.616000000]: TF_REPEATED_DATA ignoring data with redundant timestamp for frame odom at time 4307.666000 according to authority /pose_integrator\u001b[0m\n",
      "\u001b[33m[ WARN] [1703002330.455782816, 4307.616000000]: TF_REPEATED_DATA ignoring data with redundant timestamp for frame odom at time 4307.666000 according to authority /pose_integrator\u001b[0m\n",
      "\u001b[33m[ WARN] [1703002330.455814966, 4307.616000000]: TF_REPEATED_DATA ignoring data with redundant timestamp for frame odom at time 4307.666000 according to authority /pose_integrator\u001b[0m\n",
      "\u001b[33m[ WARN] [1703002330.455857257, 4307.616000000]: TF_REPEATED_DATA ignoring data with redundant timestamp for frame odom at time 4307.666000 according to authority /pose_integrator\u001b[0m\n",
      "\u001b[33m[ WARN] [1703002330.455902542, 4307.616000000]: TF_REPEATED_DATA ignoring data with redundant timestamp for frame odom at time 4307.666000 according to authority /pose_integrator\u001b[0m\n"
     ]
    }
   ],
   "source": [
    "tar_pose=PoseStamped()\n",
    "tar_pose.pose.position.x=.9\n",
    "tar_pose.pose.position.y=-1.06\n",
    "tar_pose.pose.position.z=.56\n",
    "tar_pose.pose.orientation.x=-1.0\n",
    "\n",
    "tar_pose.header.frame_id='odom'"
   ]
  },
  {
   "cell_type": "code",
   "execution_count": 7,
   "id": "c0867c5c",
   "metadata": {},
   "outputs": [
    {
     "name": "stderr",
     "output_type": "stream",
     "text": [
      "\u001b[33m[ WARN] [1703001885.648168335, 4113.982000000]: TF_REPEATED_DATA ignoring data with redundant timestamp for frame odom at time 4114.004000 according to authority unknown_publisher\u001b[0m\n",
      "\u001b[33m[ WARN] [1703001885.648773060, 4113.982000000]: TF_REPEATED_DATA ignoring data with redundant timestamp for frame odom at time 4114.004000 according to authority /pose_integrator\u001b[0m\n",
      "\u001b[33m[ WARN] [1703001885.648840634, 4113.982000000]: TF_REPEATED_DATA ignoring data with redundant timestamp for frame odom at time 4114.004000 according to authority /pose_integrator\u001b[0m\n",
      "\u001b[33m[ WARN] [1703001885.648888964, 4113.982000000]: TF_REPEATED_DATA ignoring data with redundant timestamp for frame odom at time 4114.004000 according to authority /pose_integrator\u001b[0m\n",
      "\u001b[33m[ WARN] [1703001885.648931690, 4113.982000000]: TF_REPEATED_DATA ignoring data with redundant timestamp for frame odom at time 4114.004000 according to authority /pose_integrator\u001b[0m\n",
      "\u001b[33m[ WARN] [1703001885.648969040, 4113.982000000]: TF_REPEATED_DATA ignoring data with redundant timestamp for frame odom at time 4114.004000 according to authority /pose_integrator\u001b[0m\n",
      "\u001b[33m[ WARN] [1703001885.649019889, 4113.982000000]: TF_REPEATED_DATA ignoring data with redundant timestamp for frame odom at time 4114.004000 according to authority /pose_integrator\u001b[0m\n",
      "\u001b[33m[ WARN] [1703001885.869553910, 4114.079000000]: TF_REPEATED_DATA ignoring data with redundant timestamp for frame odom at time 4114.106000 according to authority unknown_publisher\u001b[0m\n",
      "\u001b[33m[ WARN] [1703001885.870100204, 4114.079000000]: TF_REPEATED_DATA ignoring data with redundant timestamp for frame odom at time 4114.106000 according to authority /pose_integrator\u001b[0m\n",
      "\u001b[33m[ WARN] [1703001885.870171246, 4114.079000000]: TF_REPEATED_DATA ignoring data with redundant timestamp for frame odom at time 4114.106000 according to authority /pose_integrator\u001b[0m\n",
      "\u001b[33m[ WARN] [1703001885.870223721, 4114.079000000]: TF_REPEATED_DATA ignoring data with redundant timestamp for frame odom at time 4114.106000 according to authority /pose_integrator\u001b[0m\n",
      "\u001b[33m[ WARN] [1703001885.870271698, 4114.079000000]: TF_REPEATED_DATA ignoring data with redundant timestamp for frame odom at time 4114.106000 according to authority /pose_integrator\u001b[0m\n",
      "\u001b[33m[ WARN] [1703001885.870317491, 4114.079000000]: TF_REPEATED_DATA ignoring data with redundant timestamp for frame odom at time 4114.106000 according to authority /pose_integrator\u001b[0m\n",
      "\u001b[33m[ WARN] [1703001885.870367402, 4114.079000000]: TF_REPEATED_DATA ignoring data with redundant timestamp for frame odom at time 4114.106000 according to authority /pose_integrator\u001b[0m\n",
      "\u001b[33m[ WARN] [1703001886.134142374, 4114.185000000]: TF_REPEATED_DATA ignoring data with redundant timestamp for frame odom at time 4114.201000 according to authority /pose_integrator\u001b[0m\n",
      "\u001b[33m[ WARN] [1703001886.134224925, 4114.185000000]: TF_REPEATED_DATA ignoring data with redundant timestamp for frame odom at time 4114.201000 according to authority unknown_publisher\u001b[0m\n",
      "\u001b[33m[ WARN] [1703001886.134795608, 4114.185000000]: TF_REPEATED_DATA ignoring data with redundant timestamp for frame odom at time 4114.201000 according to authority /pose_integrator\u001b[0m\n",
      "\u001b[33m[ WARN] [1703001886.134866116, 4114.185000000]: TF_REPEATED_DATA ignoring data with redundant timestamp for frame odom at time 4114.201000 according to authority /pose_integrator\u001b[0m\n",
      "\u001b[33m[ WARN] [1703001886.134922406, 4114.185000000]: TF_REPEATED_DATA ignoring data with redundant timestamp for frame odom at time 4114.201000 according to authority /pose_integrator\u001b[0m\n",
      "\u001b[33m[ WARN] [1703001886.134962489, 4114.185000000]: TF_REPEATED_DATA ignoring data with redundant timestamp for frame odom at time 4114.201000 according to authority /pose_integrator\u001b[0m\n",
      "\u001b[33m[ WARN] [1703001886.134998683, 4114.185000000]: TF_REPEATED_DATA ignoring data with redundant timestamp for frame odom at time 4114.201000 according to authority /pose_integrator\u001b[0m\n",
      "\u001b[33m[ WARN] [1703001887.096465194, 4114.512000000]: TF_REPEATED_DATA ignoring data with redundant timestamp for frame odom at time 4114.550000 according to authority /pose_integrator\u001b[0m\n",
      "\u001b[33m[ WARN] [1703001887.096535092, 4114.512000000]: TF_REPEATED_DATA ignoring data with redundant timestamp for frame odom at time 4114.550000 according to authority /pose_integrator\u001b[0m\n",
      "\u001b[33m[ WARN] [1703001887.096584832, 4114.512000000]: TF_REPEATED_DATA ignoring data with redundant timestamp for frame odom at time 4114.550000 according to authority /pose_integrator\u001b[0m\n",
      "\u001b[33m[ WARN] [1703001887.096636070, 4114.512000000]: TF_REPEATED_DATA ignoring data with redundant timestamp for frame odom at time 4114.550000 according to authority unknown_publisher\u001b[0m\n",
      "\u001b[33m[ WARN] [1703001887.097060311, 4114.512000000]: TF_REPEATED_DATA ignoring data with redundant timestamp for frame odom at time 4114.550000 according to authority /pose_integrator\u001b[0m\n",
      "\u001b[33m[ WARN] [1703001887.097126829, 4114.512000000]: TF_REPEATED_DATA ignoring data with redundant timestamp for frame odom at time 4114.550000 according to authority /pose_integrator\u001b[0m\n",
      "\u001b[33m[ WARN] [1703001887.097171338, 4114.512000000]: TF_REPEATED_DATA ignoring data with redundant timestamp for frame odom at time 4114.550000 according to authority /pose_integrator\u001b[0m\n",
      "\u001b[33m[ WARN] [1703001887.464296000, 4114.676000000]: TF_REPEATED_DATA ignoring data with redundant timestamp for frame odom at time 4114.720000 according to authority /pose_integrator\u001b[0m\n",
      "\u001b[33m[ WARN] [1703001887.465008714, 4114.676000000]: TF_REPEATED_DATA ignoring data with redundant timestamp for frame odom at time 4114.720000 according to authority /pose_integrator\u001b[0m\n",
      "\u001b[33m[ WARN] [1703001887.465090004, 4114.676000000]: TF_REPEATED_DATA ignoring data with redundant timestamp for frame odom at time 4114.720000 according to authority /pose_integrator\u001b[0m\n",
      "\u001b[33m[ WARN] [1703001887.465137748, 4114.676000000]: TF_REPEATED_DATA ignoring data with redundant timestamp for frame odom at time 4114.720000 according to authority /pose_integrator\u001b[0m\n",
      "\u001b[33m[ WARN] [1703001887.465183656, 4114.676000000]: TF_REPEATED_DATA ignoring data with redundant timestamp for frame odom at time 4114.720000 according to authority /pose_integrator\u001b[0m\n",
      "\u001b[33m[ WARN] [1703001887.465236230, 4114.676000000]: TF_REPEATED_DATA ignoring data with redundant timestamp for frame odom at time 4114.720000 according to authority /pose_integrator\u001b[0m\n",
      "\u001b[33m[ WARN] [1703001887.465734329, 4114.676000000]: TF_REPEATED_DATA ignoring data with redundant timestamp for frame odom at time 4114.720000 according to authority unknown_publisher\u001b[0m\n",
      "\u001b[33m[ WARN] [1703001887.837908781, 4114.823000000]: TF_REPEATED_DATA ignoring data with redundant timestamp for frame odom at time 4114.890000 according to authority unknown_publisher\u001b[0m\n",
      "\u001b[33m[ WARN] [1703001887.839092051, 4114.823000000]: TF_REPEATED_DATA ignoring data with redundant timestamp for frame odom at time 4114.890000 according to authority /pose_integrator\u001b[0m\n",
      "\u001b[33m[ WARN] [1703001887.839155969, 4114.823000000]: TF_REPEATED_DATA ignoring data with redundant timestamp for frame odom at time 4114.890000 according to authority /pose_integrator\u001b[0m\n",
      "\u001b[33m[ WARN] [1703001887.839201502, 4114.823000000]: TF_REPEATED_DATA ignoring data with redundant timestamp for frame odom at time 4114.890000 according to authority /pose_integrator\u001b[0m\n",
      "\u001b[33m[ WARN] [1703001887.839244380, 4114.823000000]: TF_REPEATED_DATA ignoring data with redundant timestamp for frame odom at time 4114.890000 according to authority /pose_integrator\u001b[0m\n",
      "\u001b[33m[ WARN] [1703001887.839287383, 4114.823000000]: TF_REPEATED_DATA ignoring data with redundant timestamp for frame odom at time 4114.890000 according to authority /pose_integrator\u001b[0m\n",
      "\u001b[33m[ WARN] [1703001887.839329349, 4114.823000000]: TF_REPEATED_DATA ignoring data with redundant timestamp for frame odom at time 4114.890000 according to authority /pose_integrator\u001b[0m\n",
      "\u001b[33m[ WARN] [1703001888.044836315, 4114.944000000]: TF_REPEATED_DATA ignoring data with redundant timestamp for frame odom at time 4114.997000 according to authority unknown_publisher\u001b[0m\n",
      "\u001b[33m[ WARN] [1703001888.045886949, 4114.944000000]: TF_REPEATED_DATA ignoring data with redundant timestamp for frame odom at time 4114.997000 according to authority /pose_integrator\u001b[0m\n",
      "\u001b[33m[ WARN] [1703001888.045954528, 4114.944000000]: TF_REPEATED_DATA ignoring data with redundant timestamp for frame odom at time 4114.997000 according to authority /pose_integrator\u001b[0m\n",
      "\u001b[33m[ WARN] [1703001888.045999126, 4114.944000000]: TF_REPEATED_DATA ignoring data with redundant timestamp for frame odom at time 4114.997000 according to authority /pose_integrator\u001b[0m\n",
      "\u001b[33m[ WARN] [1703001888.046040274, 4114.944000000]: TF_REPEATED_DATA ignoring data with redundant timestamp for frame odom at time 4114.997000 according to authority /pose_integrator\u001b[0m\n",
      "\u001b[33m[ WARN] [1703001888.046078234, 4114.944000000]: TF_REPEATED_DATA ignoring data with redundant timestamp for frame odom at time 4114.997000 according to authority /pose_integrator\u001b[0m\n",
      "\u001b[33m[ WARN] [1703001888.046115731, 4114.944000000]: TF_REPEATED_DATA ignoring data with redundant timestamp for frame odom at time 4114.997000 according to authority /pose_integrator\u001b[0m\n"
     ]
    },
    {
     "name": "stderr",
     "output_type": "stream",
     "text": [
      "\u001b[33m[ WARN] [1703001888.437786817, 4115.099000000]: TF_REPEATED_DATA ignoring data with redundant timestamp for frame odom at time 4115.153000 according to authority /pose_integrator\u001b[0m\n",
      "\u001b[33m[ WARN] [1703001888.437853308, 4115.099000000]: TF_REPEATED_DATA ignoring data with redundant timestamp for frame odom at time 4115.153000 according to authority /pose_integrator\u001b[0m\n",
      "\u001b[33m[ WARN] [1703001888.437899771, 4115.099000000]: TF_REPEATED_DATA ignoring data with redundant timestamp for frame odom at time 4115.153000 according to authority /pose_integrator\u001b[0m\n",
      "\u001b[33m[ WARN] [1703001888.437940650, 4115.099000000]: TF_REPEATED_DATA ignoring data with redundant timestamp for frame odom at time 4115.153000 according to authority unknown_publisher\u001b[0m\n",
      "\u001b[33m[ WARN] [1703001888.438939377, 4115.099000000]: TF_REPEATED_DATA ignoring data with redundant timestamp for frame odom at time 4115.153000 according to authority /pose_integrator\u001b[0m\n",
      "\u001b[33m[ WARN] [1703001888.439035034, 4115.099000000]: TF_REPEATED_DATA ignoring data with redundant timestamp for frame odom at time 4115.153000 according to authority /pose_integrator\u001b[0m\n",
      "\u001b[33m[ WARN] [1703001888.439091509, 4115.099000000]: TF_REPEATED_DATA ignoring data with redundant timestamp for frame odom at time 4115.153000 according to authority /pose_integrator\u001b[0m\n",
      "\u001b[33m[ WARN] [1703001888.648839384, 4115.199000000]: TF_REPEATED_DATA ignoring data with redundant timestamp for frame odom at time 4115.273000 according to authority /pose_integrator\u001b[0m\n",
      "\u001b[33m[ WARN] [1703001888.648908708, 4115.199000000]: TF_REPEATED_DATA ignoring data with redundant timestamp for frame odom at time 4115.273000 according to authority /pose_integrator\u001b[0m\n",
      "\u001b[33m[ WARN] [1703001888.648961471, 4115.199000000]: TF_REPEATED_DATA ignoring data with redundant timestamp for frame odom at time 4115.273000 according to authority /pose_integrator\u001b[0m\n",
      "\u001b[33m[ WARN] [1703001888.649005018, 4115.199000000]: TF_REPEATED_DATA ignoring data with redundant timestamp for frame odom at time 4115.273000 according to authority /pose_integrator\u001b[0m\n",
      "\u001b[33m[ WARN] [1703001888.649044576, 4115.199000000]: TF_REPEATED_DATA ignoring data with redundant timestamp for frame odom at time 4115.273000 according to authority /pose_integrator\u001b[0m\n",
      "\u001b[33m[ WARN] [1703001888.649088815, 4115.199000000]: TF_REPEATED_DATA ignoring data with redundant timestamp for frame odom at time 4115.273000 according to authority /pose_integrator\u001b[0m\n",
      "\u001b[33m[ WARN] [1703001888.649589412, 4115.199000000]: TF_REPEATED_DATA ignoring data with redundant timestamp for frame odom at time 4115.273000 according to authority unknown_publisher\u001b[0m\n",
      "\u001b[33m[ WARN] [1703001889.391238703, 4115.572000000]: TF_REPEATED_DATA ignoring data with redundant timestamp for frame odom at time 4115.631000 according to authority unknown_publisher\u001b[0m\n",
      "\u001b[33m[ WARN] [1703001889.392647449, 4115.572000000]: TF_REPEATED_DATA ignoring data with redundant timestamp for frame odom at time 4115.631000 according to authority /pose_integrator\u001b[0m\n",
      "\u001b[33m[ WARN] [1703001889.392707167, 4115.572000000]: TF_REPEATED_DATA ignoring data with redundant timestamp for frame odom at time 4115.631000 according to authority /pose_integrator\u001b[0m\n",
      "\u001b[33m[ WARN] [1703001889.392744370, 4115.572000000]: TF_REPEATED_DATA ignoring data with redundant timestamp for frame odom at time 4115.631000 according to authority /pose_integrator\u001b[0m\n",
      "\u001b[33m[ WARN] [1703001889.392789179, 4115.572000000]: TF_REPEATED_DATA ignoring data with redundant timestamp for frame odom at time 4115.631000 according to authority /pose_integrator\u001b[0m\n",
      "\u001b[33m[ WARN] [1703001889.392832674, 4115.572000000]: TF_REPEATED_DATA ignoring data with redundant timestamp for frame odom at time 4115.631000 according to authority /pose_integrator\u001b[0m\n",
      "\u001b[33m[ WARN] [1703001889.392866365, 4115.572000000]: TF_REPEATED_DATA ignoring data with redundant timestamp for frame odom at time 4115.631000 according to authority /pose_integrator\u001b[0m\n",
      "\u001b[33m[ WARN] [1703001889.547476343, 4115.661000000]: TF_REPEATED_DATA ignoring data with redundant timestamp for frame odom at time 4115.685000 according to authority unknown_publisher\u001b[0m\n",
      "\u001b[33m[ WARN] [1703001889.548198569, 4115.661000000]: TF_REPEATED_DATA ignoring data with redundant timestamp for frame odom at time 4115.685000 according to authority /pose_integrator\u001b[0m\n",
      "\u001b[33m[ WARN] [1703001889.548267759, 4115.661000000]: TF_REPEATED_DATA ignoring data with redundant timestamp for frame odom at time 4115.685000 according to authority /pose_integrator\u001b[0m\n",
      "\u001b[33m[ WARN] [1703001889.548329104, 4115.661000000]: TF_REPEATED_DATA ignoring data with redundant timestamp for frame odom at time 4115.685000 according to authority /pose_integrator\u001b[0m\n",
      "\u001b[33m[ WARN] [1703001889.548381667, 4115.661000000]: TF_REPEATED_DATA ignoring data with redundant timestamp for frame odom at time 4115.685000 according to authority /pose_integrator\u001b[0m\n",
      "\u001b[33m[ WARN] [1703001889.548430469, 4115.661000000]: TF_REPEATED_DATA ignoring data with redundant timestamp for frame odom at time 4115.685000 according to authority /pose_integrator\u001b[0m\n",
      "\u001b[33m[ WARN] [1703001889.548487153, 4115.661000000]: TF_REPEATED_DATA ignoring data with redundant timestamp for frame odom at time 4115.685000 according to authority /pose_integrator\u001b[0m\n"
     ]
    },
    {
     "name": "stdout",
     "output_type": "stream",
     "text": [
      "4\n"
     ]
    },
    {
     "name": "stderr",
     "output_type": "stream",
     "text": [
      "\u001b[33m[ WARN] [1703001889.982897103, 4115.814000000]: Fail: ABORTED: UNKNOWN\u001b[0m\n"
     ]
    }
   ],
   "source": [
    "whole_body.set_start_state_to_current_state()\n",
    "whole_body.set_pose_target(pose)\n",
    "plan=whole_body.plan()\n",
    "print (len(plan))\n"
   ]
  },
  {
   "cell_type": "code",
   "execution_count": 8,
   "id": "c4210da8",
   "metadata": {},
   "outputs": [
    {
     "name": "stderr",
     "output_type": "stream",
     "text": [
      "\u001b[33m[ WARN] [1703001890.991473717, 4116.193000000]: TF_REPEATED_DATA ignoring data with redundant timestamp for frame odom at time 4116.239000 according to authority unknown_publisher\u001b[0m\n",
      "\u001b[33m[ WARN] [1703001890.993146412, 4116.193000000]: TF_REPEATED_DATA ignoring data with redundant timestamp for frame odom at time 4116.239000 according to authority /pose_integrator\u001b[0m\n",
      "\u001b[33m[ WARN] [1703001890.993201811, 4116.193000000]: TF_REPEATED_DATA ignoring data with redundant timestamp for frame odom at time 4116.239000 according to authority /pose_integrator\u001b[0m\n",
      "\u001b[33m[ WARN] [1703001890.993242938, 4116.193000000]: TF_REPEATED_DATA ignoring data with redundant timestamp for frame odom at time 4116.239000 according to authority /pose_integrator\u001b[0m\n",
      "\u001b[33m[ WARN] [1703001890.993279951, 4116.193000000]: TF_REPEATED_DATA ignoring data with redundant timestamp for frame odom at time 4116.239000 according to authority /pose_integrator\u001b[0m\n",
      "\u001b[33m[ WARN] [1703001890.993313971, 4116.193000000]: TF_REPEATED_DATA ignoring data with redundant timestamp for frame odom at time 4116.239000 according to authority /pose_integrator\u001b[0m\n",
      "\u001b[33m[ WARN] [1703001890.993349929, 4116.193000000]: TF_REPEATED_DATA ignoring data with redundant timestamp for frame odom at time 4116.239000 according to authority /pose_integrator\u001b[0m\n",
      "\u001b[33m[ WARN] [1703001891.214383725, 4116.278000000]: TF_REPEATED_DATA ignoring data with redundant timestamp for frame odom at time 4116.333000 according to authority unknown_publisher\u001b[0m\n",
      "\u001b[33m[ WARN] [1703001891.214920298, 4116.278000000]: TF_REPEATED_DATA ignoring data with redundant timestamp for frame odom at time 4116.333000 according to authority /pose_integrator\u001b[0m\n",
      "\u001b[33m[ WARN] [1703001891.214995929, 4116.278000000]: TF_REPEATED_DATA ignoring data with redundant timestamp for frame odom at time 4116.333000 according to authority /pose_integrator\u001b[0m\n",
      "\u001b[33m[ WARN] [1703001891.215053747, 4116.278000000]: TF_REPEATED_DATA ignoring data with redundant timestamp for frame odom at time 4116.333000 according to authority /pose_integrator\u001b[0m\n",
      "\u001b[33m[ WARN] [1703001891.215111082, 4116.278000000]: TF_REPEATED_DATA ignoring data with redundant timestamp for frame odom at time 4116.333000 according to authority /pose_integrator\u001b[0m\n",
      "\u001b[33m[ WARN] [1703001891.215163419, 4116.278000000]: TF_REPEATED_DATA ignoring data with redundant timestamp for frame odom at time 4116.333000 according to authority /pose_integrator\u001b[0m\n",
      "\u001b[33m[ WARN] [1703001891.215217683, 4116.278000000]: TF_REPEATED_DATA ignoring data with redundant timestamp for frame odom at time 4116.333000 according to authority /pose_integrator\u001b[0m\n",
      "\u001b[33m[ WARN] [1703001892.377678004, 4116.722000000]: TF_REPEATED_DATA ignoring data with redundant timestamp for frame odom at time 4116.760000 according to authority /pose_integrator\u001b[0m\n",
      "\u001b[33m[ WARN] [1703001892.377765088, 4116.722000000]: TF_REPEATED_DATA ignoring data with redundant timestamp for frame odom at time 4116.760000 according to authority /pose_integrator\u001b[0m\n",
      "\u001b[33m[ WARN] [1703001892.377814857, 4116.722000000]: TF_REPEATED_DATA ignoring data with redundant timestamp for frame odom at time 4116.760000 according to authority /pose_integrator\u001b[0m\n",
      "\u001b[33m[ WARN] [1703001892.377884508, 4116.722000000]: TF_REPEATED_DATA ignoring data with redundant timestamp for frame odom at time 4116.760000 according to authority /pose_integrator\u001b[0m\n",
      "\u001b[33m[ WARN] [1703001892.377944811, 4116.722000000]: TF_REPEATED_DATA ignoring data with redundant timestamp for frame odom at time 4116.760000 according to authority /pose_integrator\u001b[0m\n",
      "\u001b[33m[ WARN] [1703001892.377993996, 4116.722000000]: TF_REPEATED_DATA ignoring data with redundant timestamp for frame odom at time 4116.760000 according to authority /pose_integrator\u001b[0m\n",
      "\u001b[33m[ WARN] [1703001892.378946907, 4116.722000000]: TF_REPEATED_DATA ignoring data with redundant timestamp for frame odom at time 4116.760000 according to authority unknown_publisher\u001b[0m\n",
      "\u001b[33m[ WARN] [1703001893.030007251, 4117.001000000]: TF_REPEATED_DATA ignoring data with redundant timestamp for frame odom at time 4117.056000 according to authority unknown_publisher\u001b[0m\n",
      "\u001b[33m[ WARN] [1703001893.033735366, 4117.001000000]: TF_REPEATED_DATA ignoring data with redundant timestamp for frame odom at time 4117.056000 according to authority /pose_integrator\u001b[0m\n",
      "\u001b[33m[ WARN] [1703001893.033804419, 4117.001000000]: TF_REPEATED_DATA ignoring data with redundant timestamp for frame odom at time 4117.056000 according to authority /pose_integrator\u001b[0m\n",
      "\u001b[33m[ WARN] [1703001893.033856411, 4117.001000000]: TF_REPEATED_DATA ignoring data with redundant timestamp for frame odom at time 4117.056000 according to authority /pose_integrator\u001b[0m\n",
      "\u001b[33m[ WARN] [1703001893.033893295, 4117.001000000]: TF_REPEATED_DATA ignoring data with redundant timestamp for frame odom at time 4117.056000 according to authority /pose_integrator\u001b[0m\n",
      "\u001b[33m[ WARN] [1703001893.033928769, 4117.001000000]: TF_REPEATED_DATA ignoring data with redundant timestamp for frame odom at time 4117.056000 according to authority /pose_integrator\u001b[0m\n",
      "\u001b[33m[ WARN] [1703001893.033964350, 4117.001000000]: TF_REPEATED_DATA ignoring data with redundant timestamp for frame odom at time 4117.056000 according to authority /pose_integrator\u001b[0m\n",
      "\u001b[33m[ WARN] [1703001893.777539612, 4117.392000000]: TF_REPEATED_DATA ignoring data with redundant timestamp for frame odom at time 4117.455000 according to authority unknown_publisher\u001b[0m\n",
      "\u001b[33m[ WARN] [1703001893.778147130, 4117.392000000]: TF_REPEATED_DATA ignoring data with redundant timestamp for frame odom at time 4117.455000 according to authority /pose_integrator\u001b[0m\n",
      "\u001b[33m[ WARN] [1703001893.778197332, 4117.392000000]: TF_REPEATED_DATA ignoring data with redundant timestamp for frame odom at time 4117.455000 according to authority /pose_integrator\u001b[0m\n",
      "\u001b[33m[ WARN] [1703001893.778232362, 4117.392000000]: TF_REPEATED_DATA ignoring data with redundant timestamp for frame odom at time 4117.455000 according to authority /pose_integrator\u001b[0m\n",
      "\u001b[33m[ WARN] [1703001893.778262156, 4117.392000000]: TF_REPEATED_DATA ignoring data with redundant timestamp for frame odom at time 4117.455000 according to authority /pose_integrator\u001b[0m\n",
      "\u001b[33m[ WARN] [1703001893.778304025, 4117.392000000]: TF_REPEATED_DATA ignoring data with redundant timestamp for frame odom at time 4117.455000 according to authority /pose_integrator\u001b[0m\n",
      "\u001b[33m[ WARN] [1703001893.778340658, 4117.392000000]: TF_REPEATED_DATA ignoring data with redundant timestamp for frame odom at time 4117.455000 according to authority /pose_integrator\u001b[0m\n",
      "\u001b[33m[ WARN] [1703001894.090062636, 4117.527000000]: TF_REPEATED_DATA ignoring data with redundant timestamp for frame odom at time 4117.564000 according to authority unknown_publisher\u001b[0m\n",
      "\u001b[33m[ WARN] [1703001894.090306544, 4117.527000000]: TF_REPEATED_DATA ignoring data with redundant timestamp for frame odom at time 4117.564000 according to authority /pose_integrator\u001b[0m\n",
      "\u001b[33m[ WARN] [1703001894.090373250, 4117.527000000]: TF_REPEATED_DATA ignoring data with redundant timestamp for frame odom at time 4117.564000 according to authority /pose_integrator\u001b[0m\n",
      "\u001b[33m[ WARN] [1703001894.090431328, 4117.527000000]: TF_REPEATED_DATA ignoring data with redundant timestamp for frame odom at time 4117.564000 according to authority /pose_integrator\u001b[0m\n",
      "\u001b[33m[ WARN] [1703001894.090483381, 4117.527000000]: TF_REPEATED_DATA ignoring data with redundant timestamp for frame odom at time 4117.564000 according to authority /pose_integrator\u001b[0m\n",
      "\u001b[33m[ WARN] [1703001894.090529302, 4117.527000000]: TF_REPEATED_DATA ignoring data with redundant timestamp for frame odom at time 4117.564000 according to authority /pose_integrator\u001b[0m\n",
      "\u001b[33m[ WARN] [1703001894.090568023, 4117.527000000]: TF_REPEATED_DATA ignoring data with redundant timestamp for frame odom at time 4117.564000 according to authority /pose_integrator\u001b[0m\n",
      "\u001b[33m[ WARN] [1703001894.387110046, 4117.645000000]: TF_REPEATED_DATA ignoring data with redundant timestamp for frame odom at time 4117.667000 according to authority /pose_integrator\u001b[0m\n",
      "\u001b[33m[ WARN] [1703001894.387201739, 4117.645000000]: TF_REPEATED_DATA ignoring data with redundant timestamp for frame odom at time 4117.667000 according to authority /pose_integrator\u001b[0m\n",
      "\u001b[33m[ WARN] [1703001894.387262649, 4117.645000000]: TF_REPEATED_DATA ignoring data with redundant timestamp for frame odom at time 4117.667000 according to authority /pose_integrator\u001b[0m\n",
      "\u001b[33m[ WARN] [1703001894.387308202, 4117.645000000]: TF_REPEATED_DATA ignoring data with redundant timestamp for frame odom at time 4117.667000 according to authority unknown_publisher\u001b[0m\n",
      "\u001b[33m[ WARN] [1703001894.387575005, 4117.645000000]: TF_REPEATED_DATA ignoring data with redundant timestamp for frame odom at time 4117.667000 according to authority /pose_integrator\u001b[0m\n",
      "\u001b[33m[ WARN] [1703001894.387639241, 4117.645000000]: TF_REPEATED_DATA ignoring data with redundant timestamp for frame odom at time 4117.667000 according to authority /pose_integrator\u001b[0m\n",
      "\u001b[33m[ WARN] [1703001894.387686077, 4117.645000000]: TF_REPEATED_DATA ignoring data with redundant timestamp for frame odom at time 4117.667000 according to authority /pose_integrator\u001b[0m\n"
     ]
    },
    {
     "data": {
      "text/plain": [
       "False"
      ]
     },
     "execution_count": 8,
     "metadata": {},
     "output_type": "execute_result"
    },
    {
     "name": "stderr",
     "output_type": "stream",
     "text": [
      "\u001b[33m[ WARN] [1703001894.969941802, 4117.874000000]: TF_REPEATED_DATA ignoring data with redundant timestamp for frame odom at time 4117.910000 according to authority /pose_integrator\u001b[0m\n",
      "\u001b[33m[ WARN] [1703001894.970016823, 4117.874000000]: TF_REPEATED_DATA ignoring data with redundant timestamp for frame odom at time 4117.910000 according to authority /pose_integrator\u001b[0m\n",
      "\u001b[33m[ WARN] [1703001894.970064545, 4117.874000000]: TF_REPEATED_DATA ignoring data with redundant timestamp for frame odom at time 4117.910000 according to authority /pose_integrator\u001b[0m\n",
      "\u001b[33m[ WARN] [1703001894.970098673, 4117.874000000]: TF_REPEATED_DATA ignoring data with redundant timestamp for frame odom at time 4117.910000 according to authority /pose_integrator\u001b[0m\n",
      "\u001b[33m[ WARN] [1703001894.970131237, 4117.874000000]: TF_REPEATED_DATA ignoring data with redundant timestamp for frame odom at time 4117.910000 according to authority /pose_integrator\u001b[0m\n",
      "\u001b[33m[ WARN] [1703001894.970165298, 4117.874000000]: TF_REPEATED_DATA ignoring data with redundant timestamp for frame odom at time 4117.910000 according to authority /pose_integrator\u001b[0m\n",
      "\u001b[33m[ WARN] [1703001894.970522778, 4117.874000000]: TF_REPEATED_DATA ignoring data with redundant timestamp for frame odom at time 4117.910000 according to authority unknown_publisher\u001b[0m\n",
      "\u001b[33m[ WARN] [1703001895.700308487, 4118.176000000]: TF_REPEATED_DATA ignoring data with redundant timestamp for frame odom at time 4118.222000 according to authority /pose_integrator\u001b[0m\n",
      "\u001b[33m[ WARN] [1703001895.700392896, 4118.176000000]: TF_REPEATED_DATA ignoring data with redundant timestamp for frame odom at time 4118.222000 according to authority /pose_integrator\u001b[0m\n",
      "\u001b[33m[ WARN] [1703001895.700458998, 4118.176000000]: TF_REPEATED_DATA ignoring data with redundant timestamp for frame odom at time 4118.222000 according to authority /pose_integrator\u001b[0m\n",
      "\u001b[33m[ WARN] [1703001895.700516748, 4118.176000000]: TF_REPEATED_DATA ignoring data with redundant timestamp for frame odom at time 4118.222000 according to authority /pose_integrator\u001b[0m\n",
      "\u001b[33m[ WARN] [1703001895.700567846, 4118.176000000]: TF_REPEATED_DATA ignoring data with redundant timestamp for frame odom at time 4118.222000 according to authority /pose_integrator\u001b[0m\n",
      "\u001b[33m[ WARN] [1703001895.700617201, 4118.176000000]: TF_REPEATED_DATA ignoring data with redundant timestamp for frame odom at time 4118.222000 according to authority /pose_integrator\u001b[0m\n",
      "\u001b[33m[ WARN] [1703001895.701281476, 4118.176000000]: TF_REPEATED_DATA ignoring data with redundant timestamp for frame odom at time 4118.222000 according to authority unknown_publisher\u001b[0m\n",
      "\u001b[33m[ WARN] [1703001896.605539837, 4118.506000000]: TF_REPEATED_DATA ignoring data with redundant timestamp for frame odom at time 4118.568000 according to authority /pose_integrator\u001b[0m\n",
      "\u001b[33m[ WARN] [1703001896.605604854, 4118.506000000]: TF_REPEATED_DATA ignoring data with redundant timestamp for frame odom at time 4118.568000 according to authority /pose_integrator\u001b[0m\n",
      "\u001b[33m[ WARN] [1703001896.605643320, 4118.506000000]: TF_REPEATED_DATA ignoring data with redundant timestamp for frame odom at time 4118.568000 according to authority /pose_integrator\u001b[0m\n",
      "\u001b[33m[ WARN] [1703001896.605704011, 4118.506000000]: TF_REPEATED_DATA ignoring data with redundant timestamp for frame odom at time 4118.568000 according to authority /pose_integrator\u001b[0m\n",
      "\u001b[33m[ WARN] [1703001896.605747270, 4118.506000000]: TF_REPEATED_DATA ignoring data with redundant timestamp for frame odom at time 4118.568000 according to authority /pose_integrator\u001b[0m\n",
      "\u001b[33m[ WARN] [1703001896.605791853, 4118.506000000]: TF_REPEATED_DATA ignoring data with redundant timestamp for frame odom at time 4118.568000 according to authority /pose_integrator\u001b[0m\n",
      "\u001b[33m[ WARN] [1703001896.606091133, 4118.506000000]: TF_REPEATED_DATA ignoring data with redundant timestamp for frame odom at time 4118.568000 according to authority unknown_publisher\u001b[0m\n",
      "\u001b[33m[ WARN] [1703001897.742861800, 4119.006000000]: TF_REPEATED_DATA ignoring data with redundant timestamp for frame odom at time 4119.028000 according to authority unknown_publisher\u001b[0m\n",
      "\u001b[33m[ WARN] [1703001897.746573070, 4119.006000000]: TF_REPEATED_DATA ignoring data with redundant timestamp for frame odom at time 4119.028000 according to authority /pose_integrator\u001b[0m\n",
      "\u001b[33m[ WARN] [1703001897.746635152, 4119.006000000]: TF_REPEATED_DATA ignoring data with redundant timestamp for frame odom at time 4119.028000 according to authority /pose_integrator\u001b[0m\n",
      "\u001b[33m[ WARN] [1703001897.746672132, 4119.006000000]: TF_REPEATED_DATA ignoring data with redundant timestamp for frame odom at time 4119.028000 according to authority /pose_integrator\u001b[0m\n",
      "\u001b[33m[ WARN] [1703001897.746706686, 4119.006000000]: TF_REPEATED_DATA ignoring data with redundant timestamp for frame odom at time 4119.028000 according to authority /pose_integrator\u001b[0m\n",
      "\u001b[33m[ WARN] [1703001897.746742239, 4119.006000000]: TF_REPEATED_DATA ignoring data with redundant timestamp for frame odom at time 4119.028000 according to authority /pose_integrator\u001b[0m\n",
      "\u001b[33m[ WARN] [1703001897.746784792, 4119.006000000]: TF_REPEATED_DATA ignoring data with redundant timestamp for frame odom at time 4119.028000 according to authority /pose_integrator\u001b[0m\n",
      "\u001b[33m[ WARN] [1703001898.625541923, 4119.271000000]: TF_REPEATED_DATA ignoring data with redundant timestamp for frame odom at time 4119.312000 according to authority /pose_integrator\u001b[0m\n",
      "\u001b[33m[ WARN] [1703001898.625608768, 4119.271000000]: TF_REPEATED_DATA ignoring data with redundant timestamp for frame odom at time 4119.312000 according to authority /pose_integrator\u001b[0m\n",
      "\u001b[33m[ WARN] [1703001898.625655573, 4119.271000000]: TF_REPEATED_DATA ignoring data with redundant timestamp for frame odom at time 4119.312000 according to authority /pose_integrator\u001b[0m\n",
      "\u001b[33m[ WARN] [1703001898.625697676, 4119.271000000]: TF_REPEATED_DATA ignoring data with redundant timestamp for frame odom at time 4119.312000 according to authority /pose_integrator\u001b[0m\n",
      "\u001b[33m[ WARN] [1703001898.625734101, 4119.271000000]: TF_REPEATED_DATA ignoring data with redundant timestamp for frame odom at time 4119.312000 according to authority /pose_integrator\u001b[0m\n",
      "\u001b[33m[ WARN] [1703001898.625773696, 4119.271000000]: TF_REPEATED_DATA ignoring data with redundant timestamp for frame odom at time 4119.312000 according to authority /pose_integrator\u001b[0m\n",
      "\u001b[33m[ WARN] [1703001898.626553371, 4119.271000000]: TF_REPEATED_DATA ignoring data with redundant timestamp for frame odom at time 4119.312000 according to authority unknown_publisher\u001b[0m\n",
      "\u001b[33m[ WARN] [1703001899.179194697, 4119.503000000]: TF_REPEATED_DATA ignoring data with redundant timestamp for frame odom at time 4119.549000 according to authority unknown_publisher\u001b[0m\n",
      "\u001b[33m[ WARN] [1703001899.179428469, 4119.503000000]: TF_REPEATED_DATA ignoring data with redundant timestamp for frame odom at time 4119.549000 according to authority /pose_integrator\u001b[0m\n",
      "\u001b[33m[ WARN] [1703001899.179677948, 4119.503000000]: TF_REPEATED_DATA ignoring data with redundant timestamp for frame odom at time 4119.549000 according to authority /pose_integrator\u001b[0m\n",
      "\u001b[33m[ WARN] [1703001899.179882431, 4119.503000000]: TF_REPEATED_DATA ignoring data with redundant timestamp for frame odom at time 4119.549000 according to authority /pose_integrator\u001b[0m\n",
      "\u001b[33m[ WARN] [1703001899.179932983, 4119.503000000]: TF_REPEATED_DATA ignoring data with redundant timestamp for frame odom at time 4119.549000 according to authority /pose_integrator\u001b[0m\n",
      "\u001b[33m[ WARN] [1703001899.179974248, 4119.503000000]: TF_REPEATED_DATA ignoring data with redundant timestamp for frame odom at time 4119.549000 according to authority /pose_integrator\u001b[0m\n",
      "\u001b[33m[ WARN] [1703001899.180012910, 4119.503000000]: TF_REPEATED_DATA ignoring data with redundant timestamp for frame odom at time 4119.549000 according to authority /pose_integrator\u001b[0m\n",
      "\u001b[33m[ WARN] [1703001900.251207666, 4119.947000000]: TF_REPEATED_DATA ignoring data with redundant timestamp for frame odom at time 4119.984000 according to authority unknown_publisher\u001b[0m\n",
      "\u001b[33m[ WARN] [1703001900.251868739, 4119.947000000]: TF_REPEATED_DATA ignoring data with redundant timestamp for frame odom at time 4119.984000 according to authority /pose_integrator\u001b[0m\n",
      "\u001b[33m[ WARN] [1703001900.251948583, 4119.947000000]: TF_REPEATED_DATA ignoring data with redundant timestamp for frame odom at time 4119.984000 according to authority /pose_integrator\u001b[0m\n",
      "\u001b[33m[ WARN] [1703001900.252002710, 4119.947000000]: TF_REPEATED_DATA ignoring data with redundant timestamp for frame odom at time 4119.984000 according to authority /pose_integrator\u001b[0m\n",
      "\u001b[33m[ WARN] [1703001900.252055412, 4119.947000000]: TF_REPEATED_DATA ignoring data with redundant timestamp for frame odom at time 4119.984000 according to authority /pose_integrator\u001b[0m\n",
      "\u001b[33m[ WARN] [1703001900.252106121, 4119.947000000]: TF_REPEATED_DATA ignoring data with redundant timestamp for frame odom at time 4119.984000 according to authority /pose_integrator\u001b[0m\n",
      "\u001b[33m[ WARN] [1703001900.252154128, 4119.947000000]: TF_REPEATED_DATA ignoring data with redundant timestamp for frame odom at time 4119.984000 according to authority /pose_integrator\u001b[0m\n"
     ]
    },
    {
     "name": "stderr",
     "output_type": "stream",
     "text": [
      "\u001b[33m[ WARN] [1703001901.266392404, 4120.376000000]: TF_REPEATED_DATA ignoring data with redundant timestamp for frame odom at time 4120.410000 according to authority unknown_publisher\u001b[0m\n",
      "\u001b[33m[ WARN] [1703001901.268548762, 4120.410000000]: TF_REPEATED_DATA ignoring data with redundant timestamp for frame odom at time 4120.410000 according to authority /pose_integrator\u001b[0m\n",
      "\u001b[33m[ WARN] [1703001901.268638753, 4120.410000000]: TF_REPEATED_DATA ignoring data with redundant timestamp for frame odom at time 4120.410000 according to authority /pose_integrator\u001b[0m\n",
      "\u001b[33m[ WARN] [1703001901.268685520, 4120.410000000]: TF_REPEATED_DATA ignoring data with redundant timestamp for frame odom at time 4120.410000 according to authority /pose_integrator\u001b[0m\n",
      "\u001b[33m[ WARN] [1703001901.268745853, 4120.410000000]: TF_REPEATED_DATA ignoring data with redundant timestamp for frame odom at time 4120.410000 according to authority /pose_integrator\u001b[0m\n",
      "\u001b[33m[ WARN] [1703001901.268787956, 4120.410000000]: TF_REPEATED_DATA ignoring data with redundant timestamp for frame odom at time 4120.410000 according to authority /pose_integrator\u001b[0m\n",
      "\u001b[33m[ WARN] [1703001901.268824204, 4120.410000000]: TF_REPEATED_DATA ignoring data with redundant timestamp for frame odom at time 4120.410000 according to authority /pose_integrator\u001b[0m\n",
      "\u001b[33m[ WARN] [1703001901.614843159, 4120.521000000]: TF_REPEATED_DATA ignoring data with redundant timestamp for frame odom at time 4120.561000 according to authority unknown_publisher\u001b[0m\n",
      "\u001b[33m[ WARN] [1703001901.615754518, 4120.521000000]: TF_REPEATED_DATA ignoring data with redundant timestamp for frame odom at time 4120.561000 according to authority /pose_integrator\u001b[0m\n",
      "\u001b[33m[ WARN] [1703001901.615828643, 4120.521000000]: TF_REPEATED_DATA ignoring data with redundant timestamp for frame odom at time 4120.561000 according to authority /pose_integrator\u001b[0m\n",
      "\u001b[33m[ WARN] [1703001901.615885261, 4120.521000000]: TF_REPEATED_DATA ignoring data with redundant timestamp for frame odom at time 4120.561000 according to authority /pose_integrator\u001b[0m\n",
      "\u001b[33m[ WARN] [1703001901.615947790, 4120.521000000]: TF_REPEATED_DATA ignoring data with redundant timestamp for frame odom at time 4120.561000 according to authority /pose_integrator\u001b[0m\n",
      "\u001b[33m[ WARN] [1703001901.616003727, 4120.521000000]: TF_REPEATED_DATA ignoring data with redundant timestamp for frame odom at time 4120.561000 according to authority /pose_integrator\u001b[0m\n",
      "\u001b[33m[ WARN] [1703001901.616052757, 4120.521000000]: TF_REPEATED_DATA ignoring data with redundant timestamp for frame odom at time 4120.561000 according to authority /pose_integrator\u001b[0m\n",
      "\u001b[33m[ WARN] [1703001901.886780761, 4120.690000000]: TF_REPEATED_DATA ignoring data with redundant timestamp for frame odom at time 4120.690000 according to authority /pose_integrator\u001b[0m\n",
      "\u001b[33m[ WARN] [1703001901.886842827, 4120.690000000]: TF_REPEATED_DATA ignoring data with redundant timestamp for frame odom at time 4120.690000 according to authority /pose_integrator\u001b[0m\n",
      "\u001b[33m[ WARN] [1703001901.886896283, 4120.690000000]: TF_REPEATED_DATA ignoring data with redundant timestamp for frame odom at time 4120.690000 according to authority /pose_integrator\u001b[0m\n",
      "\u001b[33m[ WARN] [1703001901.886936722, 4120.690000000]: TF_REPEATED_DATA ignoring data with redundant timestamp for frame odom at time 4120.690000 according to authority /pose_integrator\u001b[0m\n",
      "\u001b[33m[ WARN] [1703001901.886967024, 4120.690000000]: TF_REPEATED_DATA ignoring data with redundant timestamp for frame odom at time 4120.690000 according to authority /pose_integrator\u001b[0m\n",
      "\u001b[33m[ WARN] [1703001901.886996608, 4120.690000000]: TF_REPEATED_DATA ignoring data with redundant timestamp for frame odom at time 4120.690000 according to authority /pose_integrator\u001b[0m\n",
      "\u001b[33m[ WARN] [1703001901.889730371, 4120.690000000]: TF_REPEATED_DATA ignoring data with redundant timestamp for frame odom at time 4120.690000 according to authority unknown_publisher\u001b[0m\n",
      "\u001b[33m[ WARN] [1703001902.287396144, 4120.807000000]: TF_REPEATED_DATA ignoring data with redundant timestamp for frame odom at time 4120.851000 according to authority /pose_integrator\u001b[0m\n",
      "\u001b[33m[ WARN] [1703001902.287468176, 4120.807000000]: TF_REPEATED_DATA ignoring data with redundant timestamp for frame odom at time 4120.851000 according to authority /pose_integrator\u001b[0m\n",
      "\u001b[33m[ WARN] [1703001902.287504789, 4120.807000000]: TF_REPEATED_DATA ignoring data with redundant timestamp for frame odom at time 4120.851000 according to authority /pose_integrator\u001b[0m\n",
      "\u001b[33m[ WARN] [1703001902.287539767, 4120.807000000]: TF_REPEATED_DATA ignoring data with redundant timestamp for frame odom at time 4120.851000 according to authority /pose_integrator\u001b[0m\n",
      "\u001b[33m[ WARN] [1703001902.287576942, 4120.807000000]: TF_REPEATED_DATA ignoring data with redundant timestamp for frame odom at time 4120.851000 according to authority /pose_integrator\u001b[0m\n",
      "\u001b[33m[ WARN] [1703001902.287611615, 4120.807000000]: TF_REPEATED_DATA ignoring data with redundant timestamp for frame odom at time 4120.851000 according to authority /pose_integrator\u001b[0m\n",
      "\u001b[33m[ WARN] [1703001902.287767840, 4120.807000000]: TF_REPEATED_DATA ignoring data with redundant timestamp for frame odom at time 4120.851000 according to authority unknown_publisher\u001b[0m\n",
      "\u001b[33m[ WARN] [1703001902.711280572, 4121.028000000]: TF_REPEATED_DATA ignoring data with redundant timestamp for frame odom at time 4121.065000 according to authority /pose_integrator\u001b[0m\n",
      "\u001b[33m[ WARN] [1703001902.711345360, 4121.028000000]: TF_REPEATED_DATA ignoring data with redundant timestamp for frame odom at time 4121.065000 according to authority /pose_integrator\u001b[0m\n",
      "\u001b[33m[ WARN] [1703001902.711383128, 4121.028000000]: TF_REPEATED_DATA ignoring data with redundant timestamp for frame odom at time 4121.065000 according to authority /pose_integrator\u001b[0m\n",
      "\u001b[33m[ WARN] [1703001902.711429216, 4121.028000000]: TF_REPEATED_DATA ignoring data with redundant timestamp for frame odom at time 4121.065000 according to authority /pose_integrator\u001b[0m\n",
      "\u001b[33m[ WARN] [1703001902.711462217, 4121.028000000]: TF_REPEATED_DATA ignoring data with redundant timestamp for frame odom at time 4121.065000 according to authority /pose_integrator\u001b[0m\n",
      "\u001b[33m[ WARN] [1703001902.711494516, 4121.028000000]: TF_REPEATED_DATA ignoring data with redundant timestamp for frame odom at time 4121.065000 according to authority /pose_integrator\u001b[0m\n",
      "\u001b[33m[ WARN] [1703001902.711608537, 4121.028000000]: TF_REPEATED_DATA ignoring data with redundant timestamp for frame odom at time 4121.065000 according to authority unknown_publisher\u001b[0m\n",
      "\u001b[33m[ WARN] [1703001903.195777678, 4121.229000000]: TF_REPEATED_DATA ignoring data with redundant timestamp for frame odom at time 4121.259000 according to authority /pose_integrator\u001b[0m\n",
      "\u001b[33m[ WARN] [1703001903.195854882, 4121.229000000]: TF_REPEATED_DATA ignoring data with redundant timestamp for frame odom at time 4121.259000 according to authority /pose_integrator\u001b[0m\n",
      "\u001b[33m[ WARN] [1703001903.195902997, 4121.229000000]: TF_REPEATED_DATA ignoring data with redundant timestamp for frame odom at time 4121.259000 according to authority /pose_integrator\u001b[0m\n",
      "\u001b[33m[ WARN] [1703001903.195954313, 4121.229000000]: TF_REPEATED_DATA ignoring data with redundant timestamp for frame odom at time 4121.259000 according to authority /pose_integrator\u001b[0m\n",
      "\u001b[33m[ WARN] [1703001903.196000468, 4121.229000000]: TF_REPEATED_DATA ignoring data with redundant timestamp for frame odom at time 4121.259000 according to authority /pose_integrator\u001b[0m\n",
      "\u001b[33m[ WARN] [1703001903.196052640, 4121.229000000]: TF_REPEATED_DATA ignoring data with redundant timestamp for frame odom at time 4121.259000 according to authority /pose_integrator\u001b[0m\n",
      "\u001b[33m[ WARN] [1703001903.196352056, 4121.229000000]: TF_REPEATED_DATA ignoring data with redundant timestamp for frame odom at time 4121.259000 according to authority unknown_publisher\u001b[0m\n",
      "\u001b[33m[ WARN] [1703001905.062705693, 4121.964000000]: TF_REPEATED_DATA ignoring data with redundant timestamp for frame odom at time 4122.011000 according to authority unknown_publisher\u001b[0m\n",
      "\u001b[33m[ WARN] [1703001905.067230451, 4121.964000000]: TF_REPEATED_DATA ignoring data with redundant timestamp for frame odom at time 4122.011000 according to authority /pose_integrator\u001b[0m\n",
      "\u001b[33m[ WARN] [1703001905.067303331, 4121.964000000]: TF_REPEATED_DATA ignoring data with redundant timestamp for frame odom at time 4122.011000 according to authority /pose_integrator\u001b[0m\n",
      "\u001b[33m[ WARN] [1703001905.067356138, 4121.964000000]: TF_REPEATED_DATA ignoring data with redundant timestamp for frame odom at time 4122.011000 according to authority /pose_integrator\u001b[0m\n",
      "\u001b[33m[ WARN] [1703001905.067398283, 4121.964000000]: TF_REPEATED_DATA ignoring data with redundant timestamp for frame odom at time 4122.011000 according to authority /pose_integrator\u001b[0m\n",
      "\u001b[33m[ WARN] [1703001905.067431572, 4121.964000000]: TF_REPEATED_DATA ignoring data with redundant timestamp for frame odom at time 4122.011000 according to authority /pose_integrator\u001b[0m\n",
      "\u001b[33m[ WARN] [1703001905.067459775, 4121.964000000]: TF_REPEATED_DATA ignoring data with redundant timestamp for frame odom at time 4122.011000 according to authority /pose_integrator\u001b[0m\n"
     ]
    },
    {
     "name": "stderr",
     "output_type": "stream",
     "text": [
      "\u001b[33m[ WARN] [1703001905.735354140, 4122.277000000]: TF_REPEATED_DATA ignoring data with redundant timestamp for frame odom at time 4122.325000 according to authority unknown_publisher\u001b[0m\n",
      "\u001b[33m[ WARN] [1703001905.740229434, 4122.277000000]: TF_REPEATED_DATA ignoring data with redundant timestamp for frame odom at time 4122.325000 according to authority /pose_integrator\u001b[0m\n",
      "\u001b[33m[ WARN] [1703001905.740299785, 4122.277000000]: TF_REPEATED_DATA ignoring data with redundant timestamp for frame odom at time 4122.325000 according to authority /pose_integrator\u001b[0m\n",
      "\u001b[33m[ WARN] [1703001905.740362710, 4122.277000000]: TF_REPEATED_DATA ignoring data with redundant timestamp for frame odom at time 4122.325000 according to authority /pose_integrator\u001b[0m\n",
      "\u001b[33m[ WARN] [1703001905.740402738, 4122.277000000]: TF_REPEATED_DATA ignoring data with redundant timestamp for frame odom at time 4122.325000 according to authority /pose_integrator\u001b[0m\n",
      "\u001b[33m[ WARN] [1703001905.740453549, 4122.277000000]: TF_REPEATED_DATA ignoring data with redundant timestamp for frame odom at time 4122.325000 according to authority /pose_integrator\u001b[0m\n",
      "\u001b[33m[ WARN] [1703001905.740495273, 4122.277000000]: TF_REPEATED_DATA ignoring data with redundant timestamp for frame odom at time 4122.325000 according to authority /pose_integrator\u001b[0m\n",
      "\u001b[33m[ WARN] [1703001905.886035557, 4122.325000000]: TF_REPEATED_DATA ignoring data with redundant timestamp for frame odom at time 4122.396000 according to authority unknown_publisher\u001b[0m\n",
      "\u001b[33m[ WARN] [1703001905.886109670, 4122.325000000]: TF_REPEATED_DATA ignoring data with redundant timestamp for frame odom at time 4122.396000 according to authority /pose_integrator\u001b[0m\n",
      "\u001b[33m[ WARN] [1703001905.886183552, 4122.325000000]: TF_REPEATED_DATA ignoring data with redundant timestamp for frame odom at time 4122.396000 according to authority /pose_integrator\u001b[0m\n",
      "\u001b[33m[ WARN] [1703001905.886232712, 4122.325000000]: TF_REPEATED_DATA ignoring data with redundant timestamp for frame odom at time 4122.396000 according to authority /pose_integrator\u001b[0m\n",
      "\u001b[33m[ WARN] [1703001905.886278245, 4122.325000000]: TF_REPEATED_DATA ignoring data with redundant timestamp for frame odom at time 4122.396000 according to authority /pose_integrator\u001b[0m\n",
      "\u001b[33m[ WARN] [1703001905.886326851, 4122.325000000]: TF_REPEATED_DATA ignoring data with redundant timestamp for frame odom at time 4122.396000 according to authority /pose_integrator\u001b[0m\n",
      "\u001b[33m[ WARN] [1703001905.886372968, 4122.325000000]: TF_REPEATED_DATA ignoring data with redundant timestamp for frame odom at time 4122.396000 according to authority /pose_integrator\u001b[0m\n",
      "\u001b[33m[ WARN] [1703001906.111400811, 4122.462000000]: TF_REPEATED_DATA ignoring data with redundant timestamp for frame odom at time 4122.498000 according to authority unknown_publisher\u001b[0m\n",
      "\u001b[33m[ WARN] [1703001906.112479541, 4122.462000000]: TF_REPEATED_DATA ignoring data with redundant timestamp for frame odom at time 4122.498000 according to authority /pose_integrator\u001b[0m\n",
      "\u001b[33m[ WARN] [1703001906.112542902, 4122.462000000]: TF_REPEATED_DATA ignoring data with redundant timestamp for frame odom at time 4122.498000 according to authority /pose_integrator\u001b[0m\n",
      "\u001b[33m[ WARN] [1703001906.112587655, 4122.462000000]: TF_REPEATED_DATA ignoring data with redundant timestamp for frame odom at time 4122.498000 according to authority /pose_integrator\u001b[0m\n",
      "\u001b[33m[ WARN] [1703001906.112627578, 4122.462000000]: TF_REPEATED_DATA ignoring data with redundant timestamp for frame odom at time 4122.498000 according to authority /pose_integrator\u001b[0m\n",
      "\u001b[33m[ WARN] [1703001906.112664370, 4122.462000000]: TF_REPEATED_DATA ignoring data with redundant timestamp for frame odom at time 4122.498000 according to authority /pose_integrator\u001b[0m\n",
      "\u001b[33m[ WARN] [1703001906.112702592, 4122.462000000]: TF_REPEATED_DATA ignoring data with redundant timestamp for frame odom at time 4122.498000 according to authority /pose_integrator\u001b[0m\n",
      "\u001b[33m[ WARN] [1703001906.347986037, 4122.574000000]: TF_REPEATED_DATA ignoring data with redundant timestamp for frame odom at time 4122.601000 according to authority unknown_publisher\u001b[0m\n",
      "\u001b[33m[ WARN] [1703001906.348754347, 4122.574000000]: TF_REPEATED_DATA ignoring data with redundant timestamp for frame odom at time 4122.601000 according to authority /pose_integrator\u001b[0m\n",
      "\u001b[33m[ WARN] [1703001906.348826680, 4122.574000000]: TF_REPEATED_DATA ignoring data with redundant timestamp for frame odom at time 4122.601000 according to authority /pose_integrator\u001b[0m\n",
      "\u001b[33m[ WARN] [1703001906.348873374, 4122.574000000]: TF_REPEATED_DATA ignoring data with redundant timestamp for frame odom at time 4122.601000 according to authority /pose_integrator\u001b[0m\n",
      "\u001b[33m[ WARN] [1703001906.348935569, 4122.574000000]: TF_REPEATED_DATA ignoring data with redundant timestamp for frame odom at time 4122.601000 according to authority /pose_integrator\u001b[0m\n",
      "\u001b[33m[ WARN] [1703001906.348980995, 4122.574000000]: TF_REPEATED_DATA ignoring data with redundant timestamp for frame odom at time 4122.601000 according to authority /pose_integrator\u001b[0m\n",
      "\u001b[33m[ WARN] [1703001906.349025426, 4122.574000000]: TF_REPEATED_DATA ignoring data with redundant timestamp for frame odom at time 4122.601000 according to authority /pose_integrator\u001b[0m\n",
      "\u001b[33m[ WARN] [1703001906.942716704, 4122.794000000]: TF_REPEATED_DATA ignoring data with redundant timestamp for frame odom at time 4122.824000 according to authority unknown_publisher\u001b[0m\n",
      "\u001b[33m[ WARN] [1703001906.943306960, 4122.794000000]: TF_REPEATED_DATA ignoring data with redundant timestamp for frame odom at time 4122.824000 according to authority /pose_integrator\u001b[0m\n",
      "\u001b[33m[ WARN] [1703001906.943383993, 4122.794000000]: TF_REPEATED_DATA ignoring data with redundant timestamp for frame odom at time 4122.824000 according to authority /pose_integrator\u001b[0m\n",
      "\u001b[33m[ WARN] [1703001906.943440131, 4122.794000000]: TF_REPEATED_DATA ignoring data with redundant timestamp for frame odom at time 4122.824000 according to authority /pose_integrator\u001b[0m\n",
      "\u001b[33m[ WARN] [1703001906.943486459, 4122.794000000]: TF_REPEATED_DATA ignoring data with redundant timestamp for frame odom at time 4122.824000 according to authority /pose_integrator\u001b[0m\n",
      "\u001b[33m[ WARN] [1703001906.943530397, 4122.794000000]: TF_REPEATED_DATA ignoring data with redundant timestamp for frame odom at time 4122.824000 according to authority /pose_integrator\u001b[0m\n",
      "\u001b[33m[ WARN] [1703001906.943566276, 4122.794000000]: TF_REPEATED_DATA ignoring data with redundant timestamp for frame odom at time 4122.824000 according to authority /pose_integrator\u001b[0m\n",
      "\u001b[33m[ WARN] [1703001907.209653848, 4122.901000000]: TF_REPEATED_DATA ignoring data with redundant timestamp for frame odom at time 4122.926000 according to authority unknown_publisher\u001b[0m\n",
      "\u001b[33m[ WARN] [1703001907.210200696, 4122.901000000]: TF_REPEATED_DATA ignoring data with redundant timestamp for frame odom at time 4122.926000 according to authority /pose_integrator\u001b[0m\n",
      "\u001b[33m[ WARN] [1703001907.210273947, 4122.901000000]: TF_REPEATED_DATA ignoring data with redundant timestamp for frame odom at time 4122.926000 according to authority /pose_integrator\u001b[0m\n",
      "\u001b[33m[ WARN] [1703001907.210333043, 4122.901000000]: TF_REPEATED_DATA ignoring data with redundant timestamp for frame odom at time 4122.926000 according to authority /pose_integrator\u001b[0m\n",
      "\u001b[33m[ WARN] [1703001907.210387201, 4122.901000000]: TF_REPEATED_DATA ignoring data with redundant timestamp for frame odom at time 4122.926000 according to authority /pose_integrator\u001b[0m\n",
      "\u001b[33m[ WARN] [1703001907.210438144, 4122.901000000]: TF_REPEATED_DATA ignoring data with redundant timestamp for frame odom at time 4122.926000 according to authority /pose_integrator\u001b[0m\n",
      "\u001b[33m[ WARN] [1703001907.210488945, 4122.901000000]: TF_REPEATED_DATA ignoring data with redundant timestamp for frame odom at time 4122.926000 according to authority /pose_integrator\u001b[0m\n",
      "\u001b[33m[ WARN] [1703001908.032624176, 4123.199000000]: TF_REPEATED_DATA ignoring data with redundant timestamp for frame odom at time 4123.254000 according to authority unknown_publisher\u001b[0m\n",
      "\u001b[33m[ WARN] [1703001908.033765685, 4123.199000000]: TF_REPEATED_DATA ignoring data with redundant timestamp for frame odom at time 4123.254000 according to authority /pose_integrator\u001b[0m\n",
      "\u001b[33m[ WARN] [1703001908.033828878, 4123.199000000]: TF_REPEATED_DATA ignoring data with redundant timestamp for frame odom at time 4123.254000 according to authority /pose_integrator\u001b[0m\n",
      "\u001b[33m[ WARN] [1703001908.033870798, 4123.199000000]: TF_REPEATED_DATA ignoring data with redundant timestamp for frame odom at time 4123.254000 according to authority /pose_integrator\u001b[0m\n",
      "\u001b[33m[ WARN] [1703001908.033909624, 4123.199000000]: TF_REPEATED_DATA ignoring data with redundant timestamp for frame odom at time 4123.254000 according to authority /pose_integrator\u001b[0m\n",
      "\u001b[33m[ WARN] [1703001908.033945153, 4123.199000000]: TF_REPEATED_DATA ignoring data with redundant timestamp for frame odom at time 4123.254000 according to authority /pose_integrator\u001b[0m\n",
      "\u001b[33m[ WARN] [1703001908.033980440, 4123.199000000]: TF_REPEATED_DATA ignoring data with redundant timestamp for frame odom at time 4123.254000 according to authority /pose_integrator\u001b[0m\n"
     ]
    },
    {
     "name": "stderr",
     "output_type": "stream",
     "text": [
      "\u001b[33m[ WARN] [1703001908.648506135, 4123.506000000]: TF_REPEATED_DATA ignoring data with redundant timestamp for frame odom at time 4123.541000 according to authority unknown_publisher\u001b[0m\n",
      "\u001b[33m[ WARN] [1703001908.649160744, 4123.506000000]: TF_REPEATED_DATA ignoring data with redundant timestamp for frame odom at time 4123.541000 according to authority /pose_integrator\u001b[0m\n",
      "\u001b[33m[ WARN] [1703001908.649237236, 4123.506000000]: TF_REPEATED_DATA ignoring data with redundant timestamp for frame odom at time 4123.541000 according to authority /pose_integrator\u001b[0m\n",
      "\u001b[33m[ WARN] [1703001908.649299188, 4123.506000000]: TF_REPEATED_DATA ignoring data with redundant timestamp for frame odom at time 4123.541000 according to authority /pose_integrator\u001b[0m\n",
      "\u001b[33m[ WARN] [1703001908.649352009, 4123.506000000]: TF_REPEATED_DATA ignoring data with redundant timestamp for frame odom at time 4123.541000 according to authority /pose_integrator\u001b[0m\n",
      "\u001b[33m[ WARN] [1703001908.649406859, 4123.506000000]: TF_REPEATED_DATA ignoring data with redundant timestamp for frame odom at time 4123.541000 according to authority /pose_integrator\u001b[0m\n",
      "\u001b[33m[ WARN] [1703001908.649456911, 4123.506000000]: TF_REPEATED_DATA ignoring data with redundant timestamp for frame odom at time 4123.541000 according to authority /pose_integrator\u001b[0m\n",
      "\u001b[33m[ WARN] [1703001909.099257073, 4123.701000000]: TF_REPEATED_DATA ignoring data with redundant timestamp for frame odom at time 4123.740000 according to authority unknown_publisher\u001b[0m\n",
      "\u001b[33m[ WARN] [1703001909.100035349, 4123.701000000]: TF_REPEATED_DATA ignoring data with redundant timestamp for frame odom at time 4123.740000 according to authority /pose_integrator\u001b[0m\n",
      "\u001b[33m[ WARN] [1703001909.100101986, 4123.701000000]: TF_REPEATED_DATA ignoring data with redundant timestamp for frame odom at time 4123.740000 according to authority /pose_integrator\u001b[0m\n",
      "\u001b[33m[ WARN] [1703001909.100155205, 4123.701000000]: TF_REPEATED_DATA ignoring data with redundant timestamp for frame odom at time 4123.740000 according to authority /pose_integrator\u001b[0m\n",
      "\u001b[33m[ WARN] [1703001909.100198380, 4123.701000000]: TF_REPEATED_DATA ignoring data with redundant timestamp for frame odom at time 4123.740000 according to authority /pose_integrator\u001b[0m\n",
      "\u001b[33m[ WARN] [1703001909.100249861, 4123.701000000]: TF_REPEATED_DATA ignoring data with redundant timestamp for frame odom at time 4123.740000 according to authority /pose_integrator\u001b[0m\n",
      "\u001b[33m[ WARN] [1703001909.100294436, 4123.701000000]: TF_REPEATED_DATA ignoring data with redundant timestamp for frame odom at time 4123.740000 according to authority /pose_integrator\u001b[0m\n",
      "\u001b[33m[ WARN] [1703001909.515716488, 4123.875000000]: TF_REPEATED_DATA ignoring data with redundant timestamp for frame odom at time 4123.908000 according to authority /pose_integrator\u001b[0m\n",
      "\u001b[33m[ WARN] [1703001909.515787408, 4123.875000000]: TF_REPEATED_DATA ignoring data with redundant timestamp for frame odom at time 4123.908000 according to authority /pose_integrator\u001b[0m\n",
      "\u001b[33m[ WARN] [1703001909.515835674, 4123.875000000]: TF_REPEATED_DATA ignoring data with redundant timestamp for frame odom at time 4123.908000 according to authority /pose_integrator\u001b[0m\n",
      "\u001b[33m[ WARN] [1703001909.515875811, 4123.875000000]: TF_REPEATED_DATA ignoring data with redundant timestamp for frame odom at time 4123.908000 according to authority /pose_integrator\u001b[0m\n",
      "\u001b[33m[ WARN] [1703001909.515926296, 4123.875000000]: TF_REPEATED_DATA ignoring data with redundant timestamp for frame odom at time 4123.908000 according to authority unknown_publisher\u001b[0m\n",
      "\u001b[33m[ WARN] [1703001909.516092015, 4123.875000000]: TF_REPEATED_DATA ignoring data with redundant timestamp for frame odom at time 4123.908000 according to authority /pose_integrator\u001b[0m\n",
      "\u001b[33m[ WARN] [1703001909.516149643, 4123.875000000]: TF_REPEATED_DATA ignoring data with redundant timestamp for frame odom at time 4123.908000 according to authority /pose_integrator\u001b[0m\n",
      "\u001b[33m[ WARN] [1703001909.661049283, 4123.917000000]: TF_REPEATED_DATA ignoring data with redundant timestamp for frame odom at time 4123.976000 according to authority /pose_integrator\u001b[0m\n",
      "\u001b[33m[ WARN] [1703001909.661120165, 4123.917000000]: TF_REPEATED_DATA ignoring data with redundant timestamp for frame odom at time 4123.976000 according to authority /pose_integrator\u001b[0m\n",
      "\u001b[33m[ WARN] [1703001909.661172072, 4123.917000000]: TF_REPEATED_DATA ignoring data with redundant timestamp for frame odom at time 4123.976000 according to authority /pose_integrator\u001b[0m\n",
      "\u001b[33m[ WARN] [1703001909.661219556, 4123.917000000]: TF_REPEATED_DATA ignoring data with redundant timestamp for frame odom at time 4123.976000 according to authority /pose_integrator\u001b[0m\n",
      "\u001b[33m[ WARN] [1703001909.661261883, 4123.917000000]: TF_REPEATED_DATA ignoring data with redundant timestamp for frame odom at time 4123.976000 according to authority /pose_integrator\u001b[0m\n",
      "\u001b[33m[ WARN] [1703001909.661308894, 4123.917000000]: TF_REPEATED_DATA ignoring data with redundant timestamp for frame odom at time 4123.976000 according to authority /pose_integrator\u001b[0m\n",
      "\u001b[33m[ WARN] [1703001909.661745001, 4123.917000000]: TF_REPEATED_DATA ignoring data with redundant timestamp for frame odom at time 4123.976000 according to authority unknown_publisher\u001b[0m\n",
      "\u001b[33m[ WARN] [1703001910.092093336, 4124.134000000]: TF_REPEATED_DATA ignoring data with redundant timestamp for frame odom at time 4124.199000 according to authority unknown_publisher\u001b[0m\n",
      "\u001b[33m[ WARN] [1703001910.092232185, 4124.134000000]: TF_REPEATED_DATA ignoring data with redundant timestamp for frame odom at time 4124.199000 according to authority /pose_integrator\u001b[0m\n",
      "\u001b[33m[ WARN] [1703001910.092287799, 4124.134000000]: TF_REPEATED_DATA ignoring data with redundant timestamp for frame odom at time 4124.199000 according to authority /pose_integrator\u001b[0m\n",
      "\u001b[33m[ WARN] [1703001910.092436453, 4124.134000000]: TF_REPEATED_DATA ignoring data with redundant timestamp for frame odom at time 4124.199000 according to authority /pose_integrator\u001b[0m\n",
      "\u001b[33m[ WARN] [1703001910.092507389, 4124.134000000]: TF_REPEATED_DATA ignoring data with redundant timestamp for frame odom at time 4124.199000 according to authority /pose_integrator\u001b[0m\n",
      "\u001b[33m[ WARN] [1703001910.092545468, 4124.134000000]: TF_REPEATED_DATA ignoring data with redundant timestamp for frame odom at time 4124.199000 according to authority /pose_integrator\u001b[0m\n",
      "\u001b[33m[ WARN] [1703001910.092577759, 4124.134000000]: TF_REPEATED_DATA ignoring data with redundant timestamp for frame odom at time 4124.199000 according to authority /pose_integrator\u001b[0m\n",
      "\u001b[33m[ WARN] [1703001910.427574616, 4124.306000000]: TF_REPEATED_DATA ignoring data with redundant timestamp for frame odom at time 4124.350000 according to authority /pose_integrator\u001b[0m\n",
      "\u001b[33m[ WARN] [1703001910.427652246, 4124.306000000]: TF_REPEATED_DATA ignoring data with redundant timestamp for frame odom at time 4124.350000 according to authority /pose_integrator\u001b[0m\n",
      "\u001b[33m[ WARN] [1703001910.427697034, 4124.306000000]: TF_REPEATED_DATA ignoring data with redundant timestamp for frame odom at time 4124.350000 according to authority /pose_integrator\u001b[0m\n",
      "\u001b[33m[ WARN] [1703001910.427741857, 4124.306000000]: TF_REPEATED_DATA ignoring data with redundant timestamp for frame odom at time 4124.350000 according to authority /pose_integrator\u001b[0m\n",
      "\u001b[33m[ WARN] [1703001910.427780250, 4124.306000000]: TF_REPEATED_DATA ignoring data with redundant timestamp for frame odom at time 4124.350000 according to authority /pose_integrator\u001b[0m\n",
      "\u001b[33m[ WARN] [1703001910.427817620, 4124.306000000]: TF_REPEATED_DATA ignoring data with redundant timestamp for frame odom at time 4124.350000 according to authority /pose_integrator\u001b[0m\n",
      "\u001b[33m[ WARN] [1703001910.428049277, 4124.306000000]: TF_REPEATED_DATA ignoring data with redundant timestamp for frame odom at time 4124.350000 according to authority unknown_publisher\u001b[0m\n",
      "\u001b[33m[ WARN] [1703001910.708702084, 4124.441000000]: TF_REPEATED_DATA ignoring data with redundant timestamp for frame odom at time 4124.488000 according to authority unknown_publisher\u001b[0m\n",
      "\u001b[33m[ WARN] [1703001910.708967689, 4124.441000000]: TF_REPEATED_DATA ignoring data with redundant timestamp for frame odom at time 4124.488000 according to authority /pose_integrator\u001b[0m\n",
      "\u001b[33m[ WARN] [1703001910.709028433, 4124.441000000]: TF_REPEATED_DATA ignoring data with redundant timestamp for frame odom at time 4124.488000 according to authority /pose_integrator\u001b[0m\n",
      "\u001b[33m[ WARN] [1703001910.709078854, 4124.441000000]: TF_REPEATED_DATA ignoring data with redundant timestamp for frame odom at time 4124.488000 according to authority /pose_integrator\u001b[0m\n",
      "\u001b[33m[ WARN] [1703001910.709123844, 4124.441000000]: TF_REPEATED_DATA ignoring data with redundant timestamp for frame odom at time 4124.488000 according to authority /pose_integrator\u001b[0m\n",
      "\u001b[33m[ WARN] [1703001910.709164197, 4124.441000000]: TF_REPEATED_DATA ignoring data with redundant timestamp for frame odom at time 4124.488000 according to authority /pose_integrator\u001b[0m\n",
      "\u001b[33m[ WARN] [1703001910.709204560, 4124.441000000]: TF_REPEATED_DATA ignoring data with redundant timestamp for frame odom at time 4124.488000 according to authority /pose_integrator\u001b[0m\n"
     ]
    },
    {
     "name": "stderr",
     "output_type": "stream",
     "text": [
      "\u001b[33m[ WARN] [1703001911.399461933, 4124.769000000]: TF_REPEATED_DATA ignoring data with redundant timestamp for frame odom at time 4124.800000 according to authority unknown_publisher\u001b[0m\n",
      "\u001b[33m[ WARN] [1703001911.400630836, 4124.769000000]: TF_REPEATED_DATA ignoring data with redundant timestamp for frame odom at time 4124.800000 according to authority /pose_integrator\u001b[0m\n",
      "\u001b[33m[ WARN] [1703001911.400692210, 4124.769000000]: TF_REPEATED_DATA ignoring data with redundant timestamp for frame odom at time 4124.800000 according to authority /pose_integrator\u001b[0m\n",
      "\u001b[33m[ WARN] [1703001911.400730552, 4124.769000000]: TF_REPEATED_DATA ignoring data with redundant timestamp for frame odom at time 4124.800000 according to authority /pose_integrator\u001b[0m\n",
      "\u001b[33m[ WARN] [1703001911.400761415, 4124.769000000]: TF_REPEATED_DATA ignoring data with redundant timestamp for frame odom at time 4124.800000 according to authority /pose_integrator\u001b[0m\n",
      "\u001b[33m[ WARN] [1703001911.400791044, 4124.769000000]: TF_REPEATED_DATA ignoring data with redundant timestamp for frame odom at time 4124.800000 according to authority /pose_integrator\u001b[0m\n",
      "\u001b[33m[ WARN] [1703001911.400819937, 4124.769000000]: TF_REPEATED_DATA ignoring data with redundant timestamp for frame odom at time 4124.800000 according to authority /pose_integrator\u001b[0m\n",
      "\u001b[33m[ WARN] [1703001911.958290126, 4124.931000000]: TF_REPEATED_DATA ignoring data with redundant timestamp for frame odom at time 4124.966000 according to authority unknown_publisher\u001b[0m\n",
      "\u001b[33m[ WARN] [1703001911.959667764, 4124.931000000]: TF_REPEATED_DATA ignoring data with redundant timestamp for frame odom at time 4124.966000 according to authority /pose_integrator\u001b[0m\n",
      "\u001b[33m[ WARN] [1703001911.959908383, 4124.931000000]: TF_REPEATED_DATA ignoring data with redundant timestamp for frame odom at time 4124.966000 according to authority /pose_integrator\u001b[0m\n",
      "\u001b[33m[ WARN] [1703001911.959968500, 4124.931000000]: TF_REPEATED_DATA ignoring data with redundant timestamp for frame odom at time 4124.966000 according to authority /pose_integrator\u001b[0m\n",
      "\u001b[33m[ WARN] [1703001911.960018187, 4124.931000000]: TF_REPEATED_DATA ignoring data with redundant timestamp for frame odom at time 4124.966000 according to authority /pose_integrator\u001b[0m\n",
      "\u001b[33m[ WARN] [1703001911.960054992, 4124.931000000]: TF_REPEATED_DATA ignoring data with redundant timestamp for frame odom at time 4124.966000 according to authority /pose_integrator\u001b[0m\n",
      "\u001b[33m[ WARN] [1703001911.960088671, 4124.931000000]: TF_REPEATED_DATA ignoring data with redundant timestamp for frame odom at time 4124.966000 according to authority /pose_integrator\u001b[0m\n",
      "\u001b[33m[ WARN] [1703001912.456326013, 4125.085000000]: TF_REPEATED_DATA ignoring data with redundant timestamp for frame odom at time 4125.150000 according to authority /pose_integrator\u001b[0m\n",
      "\u001b[33m[ WARN] [1703001912.456395626, 4125.085000000]: TF_REPEATED_DATA ignoring data with redundant timestamp for frame odom at time 4125.150000 according to authority /pose_integrator\u001b[0m\n",
      "\u001b[33m[ WARN] [1703001912.456433572, 4125.085000000]: TF_REPEATED_DATA ignoring data with redundant timestamp for frame odom at time 4125.150000 according to authority /pose_integrator\u001b[0m\n",
      "\u001b[33m[ WARN] [1703001912.456479566, 4125.085000000]: TF_REPEATED_DATA ignoring data with redundant timestamp for frame odom at time 4125.150000 according to authority /pose_integrator\u001b[0m\n",
      "\u001b[33m[ WARN] [1703001912.456531232, 4125.085000000]: TF_REPEATED_DATA ignoring data with redundant timestamp for frame odom at time 4125.150000 according to authority /pose_integrator\u001b[0m\n",
      "\u001b[33m[ WARN] [1703001912.456580544, 4125.085000000]: TF_REPEATED_DATA ignoring data with redundant timestamp for frame odom at time 4125.150000 according to authority /pose_integrator\u001b[0m\n",
      "\u001b[33m[ WARN] [1703001912.456813329, 4125.085000000]: TF_REPEATED_DATA ignoring data with redundant timestamp for frame odom at time 4125.150000 according to authority unknown_publisher\u001b[0m\n",
      "\u001b[33m[ WARN] [1703001913.671182972, 4125.716000000]: TF_REPEATED_DATA ignoring data with redundant timestamp for frame odom at time 4125.741000 according to authority /pose_integrator\u001b[0m\n",
      "\u001b[33m[ WARN] [1703001913.671253995, 4125.716000000]: TF_REPEATED_DATA ignoring data with redundant timestamp for frame odom at time 4125.741000 according to authority /pose_integrator\u001b[0m\n",
      "\u001b[33m[ WARN] [1703001913.671308598, 4125.716000000]: TF_REPEATED_DATA ignoring data with redundant timestamp for frame odom at time 4125.741000 according to authority /pose_integrator\u001b[0m\n",
      "\u001b[33m[ WARN] [1703001913.671356295, 4125.716000000]: TF_REPEATED_DATA ignoring data with redundant timestamp for frame odom at time 4125.741000 according to authority /pose_integrator\u001b[0m\n",
      "\u001b[33m[ WARN] [1703001913.671411066, 4125.716000000]: TF_REPEATED_DATA ignoring data with redundant timestamp for frame odom at time 4125.741000 according to authority /pose_integrator\u001b[0m\n",
      "\u001b[33m[ WARN] [1703001913.671452212, 4125.716000000]: TF_REPEATED_DATA ignoring data with redundant timestamp for frame odom at time 4125.741000 according to authority /pose_integrator\u001b[0m\n",
      "\u001b[33m[ WARN] [1703001913.672336027, 4125.716000000]: TF_REPEATED_DATA ignoring data with redundant timestamp for frame odom at time 4125.741000 according to authority unknown_publisher\u001b[0m\n",
      "\u001b[33m[ WARN] [1703001914.345724201, 4126.024000000]: TF_REPEATED_DATA ignoring data with redundant timestamp for frame odom at time 4126.058000 according to authority /pose_integrator\u001b[0m\n",
      "\u001b[33m[ WARN] [1703001914.345800680, 4126.024000000]: TF_REPEATED_DATA ignoring data with redundant timestamp for frame odom at time 4126.058000 according to authority /pose_integrator\u001b[0m\n",
      "\u001b[33m[ WARN] [1703001914.345854400, 4126.024000000]: TF_REPEATED_DATA ignoring data with redundant timestamp for frame odom at time 4126.058000 according to authority /pose_integrator\u001b[0m\n",
      "\u001b[33m[ WARN] [1703001914.345891638, 4126.024000000]: TF_REPEATED_DATA ignoring data with redundant timestamp for frame odom at time 4126.058000 according to authority /pose_integrator\u001b[0m\n",
      "\u001b[33m[ WARN] [1703001914.345941345, 4126.024000000]: TF_REPEATED_DATA ignoring data with redundant timestamp for frame odom at time 4126.058000 according to authority /pose_integrator\u001b[0m\n",
      "\u001b[33m[ WARN] [1703001914.345993684, 4126.024000000]: TF_REPEATED_DATA ignoring data with redundant timestamp for frame odom at time 4126.058000 according to authority /pose_integrator\u001b[0m\n",
      "\u001b[33m[ WARN] [1703001914.346658451, 4126.024000000]: TF_REPEATED_DATA ignoring data with redundant timestamp for frame odom at time 4126.058000 according to authority unknown_publisher\u001b[0m\n",
      "\u001b[33m[ WARN] [1703001914.743629618, 4126.169000000]: TF_REPEATED_DATA ignoring data with redundant timestamp for frame odom at time 4126.197000 according to authority /pose_integrator\u001b[0m\n",
      "\u001b[33m[ WARN] [1703001914.743695089, 4126.169000000]: TF_REPEATED_DATA ignoring data with redundant timestamp for frame odom at time 4126.197000 according to authority /pose_integrator\u001b[0m\n",
      "\u001b[33m[ WARN] [1703001914.743740955, 4126.169000000]: TF_REPEATED_DATA ignoring data with redundant timestamp for frame odom at time 4126.197000 according to authority /pose_integrator\u001b[0m\n",
      "\u001b[33m[ WARN] [1703001914.743784309, 4126.169000000]: TF_REPEATED_DATA ignoring data with redundant timestamp for frame odom at time 4126.197000 according to authority /pose_integrator\u001b[0m\n",
      "\u001b[33m[ WARN] [1703001914.743826294, 4126.169000000]: TF_REPEATED_DATA ignoring data with redundant timestamp for frame odom at time 4126.197000 according to authority /pose_integrator\u001b[0m\n",
      "\u001b[33m[ WARN] [1703001914.743868016, 4126.169000000]: TF_REPEATED_DATA ignoring data with redundant timestamp for frame odom at time 4126.197000 according to authority /pose_integrator\u001b[0m\n",
      "\u001b[33m[ WARN] [1703001914.744047264, 4126.169000000]: TF_REPEATED_DATA ignoring data with redundant timestamp for frame odom at time 4126.197000 according to authority unknown_publisher\u001b[0m\n",
      "\u001b[33m[ WARN] [1703001914.918531777, 4126.256000000]: TF_REPEATED_DATA ignoring data with redundant timestamp for frame odom at time 4126.302000 according to authority /pose_integrator\u001b[0m\n",
      "\u001b[33m[ WARN] [1703001914.918601918, 4126.256000000]: TF_REPEATED_DATA ignoring data with redundant timestamp for frame odom at time 4126.302000 according to authority /pose_integrator\u001b[0m\n",
      "\u001b[33m[ WARN] [1703001914.918653111, 4126.256000000]: TF_REPEATED_DATA ignoring data with redundant timestamp for frame odom at time 4126.302000 according to authority /pose_integrator\u001b[0m\n",
      "\u001b[33m[ WARN] [1703001914.918700497, 4126.256000000]: TF_REPEATED_DATA ignoring data with redundant timestamp for frame odom at time 4126.302000 according to authority /pose_integrator\u001b[0m\n",
      "\u001b[33m[ WARN] [1703001914.918750150, 4126.256000000]: TF_REPEATED_DATA ignoring data with redundant timestamp for frame odom at time 4126.302000 according to authority /pose_integrator\u001b[0m\n",
      "\u001b[33m[ WARN] [1703001914.918797039, 4126.256000000]: TF_REPEATED_DATA ignoring data with redundant timestamp for frame odom at time 4126.302000 according to authority /pose_integrator\u001b[0m\n",
      "\u001b[33m[ WARN] [1703001914.919023005, 4126.256000000]: TF_REPEATED_DATA ignoring data with redundant timestamp for frame odom at time 4126.302000 according to authority unknown_publisher\u001b[0m\n"
     ]
    },
    {
     "name": "stderr",
     "output_type": "stream",
     "text": [
      "\u001b[33m[ WARN] [1703001915.108064701, 4126.344000000]: TF_REPEATED_DATA ignoring data with redundant timestamp for frame odom at time 4126.371000 according to authority unknown_publisher\u001b[0m\n",
      "\u001b[33m[ WARN] [1703001915.108982847, 4126.344000000]: TF_REPEATED_DATA ignoring data with redundant timestamp for frame odom at time 4126.371000 according to authority /pose_integrator\u001b[0m\n",
      "\u001b[33m[ WARN] [1703001915.109057287, 4126.344000000]: TF_REPEATED_DATA ignoring data with redundant timestamp for frame odom at time 4126.371000 according to authority /pose_integrator\u001b[0m\n",
      "\u001b[33m[ WARN] [1703001915.109114309, 4126.344000000]: TF_REPEATED_DATA ignoring data with redundant timestamp for frame odom at time 4126.371000 according to authority /pose_integrator\u001b[0m\n",
      "\u001b[33m[ WARN] [1703001915.109164454, 4126.344000000]: TF_REPEATED_DATA ignoring data with redundant timestamp for frame odom at time 4126.371000 according to authority /pose_integrator\u001b[0m\n",
      "\u001b[33m[ WARN] [1703001915.109211973, 4126.344000000]: TF_REPEATED_DATA ignoring data with redundant timestamp for frame odom at time 4126.371000 according to authority /pose_integrator\u001b[0m\n",
      "\u001b[33m[ WARN] [1703001915.109265128, 4126.344000000]: TF_REPEATED_DATA ignoring data with redundant timestamp for frame odom at time 4126.371000 according to authority /pose_integrator\u001b[0m\n",
      "\u001b[33m[ WARN] [1703001915.391040570, 4126.471000000]: TF_REPEATED_DATA ignoring data with redundant timestamp for frame odom at time 4126.500000 according to authority /pose_integrator\u001b[0m\n",
      "\u001b[33m[ WARN] [1703001915.391097998, 4126.471000000]: TF_REPEATED_DATA ignoring data with redundant timestamp for frame odom at time 4126.500000 according to authority /pose_integrator\u001b[0m\n",
      "\u001b[33m[ WARN] [1703001915.391140831, 4126.471000000]: TF_REPEATED_DATA ignoring data with redundant timestamp for frame odom at time 4126.500000 according to authority /pose_integrator\u001b[0m\n",
      "\u001b[33m[ WARN] [1703001915.391173589, 4126.471000000]: TF_REPEATED_DATA ignoring data with redundant timestamp for frame odom at time 4126.500000 according to authority /pose_integrator\u001b[0m\n",
      "\u001b[33m[ WARN] [1703001915.391207047, 4126.471000000]: TF_REPEATED_DATA ignoring data with redundant timestamp for frame odom at time 4126.500000 according to authority /pose_integrator\u001b[0m\n",
      "\u001b[33m[ WARN] [1703001915.391238481, 4126.471000000]: TF_REPEATED_DATA ignoring data with redundant timestamp for frame odom at time 4126.500000 according to authority /pose_integrator\u001b[0m\n",
      "\u001b[33m[ WARN] [1703001915.391648540, 4126.471000000]: TF_REPEATED_DATA ignoring data with redundant timestamp for frame odom at time 4126.500000 according to authority unknown_publisher\u001b[0m\n",
      "\u001b[33m[ WARN] [1703001915.796198450, 4126.687000000]: TF_REPEATED_DATA ignoring data with redundant timestamp for frame odom at time 4126.735000 according to authority unknown_publisher\u001b[0m\n",
      "\u001b[33m[ WARN] [1703001915.796346814, 4126.687000000]: TF_REPEATED_DATA ignoring data with redundant timestamp for frame odom at time 4126.735000 according to authority /pose_integrator\u001b[0m\n",
      "\u001b[33m[ WARN] [1703001915.796400697, 4126.687000000]: TF_REPEATED_DATA ignoring data with redundant timestamp for frame odom at time 4126.735000 according to authority /pose_integrator\u001b[0m\n",
      "\u001b[33m[ WARN] [1703001915.796454291, 4126.687000000]: TF_REPEATED_DATA ignoring data with redundant timestamp for frame odom at time 4126.735000 according to authority /pose_integrator\u001b[0m\n",
      "\u001b[33m[ WARN] [1703001915.796495977, 4126.687000000]: TF_REPEATED_DATA ignoring data with redundant timestamp for frame odom at time 4126.735000 according to authority /pose_integrator\u001b[0m\n",
      "\u001b[33m[ WARN] [1703001915.796535773, 4126.687000000]: TF_REPEATED_DATA ignoring data with redundant timestamp for frame odom at time 4126.735000 according to authority /pose_integrator\u001b[0m\n",
      "\u001b[33m[ WARN] [1703001915.796577109, 4126.687000000]: TF_REPEATED_DATA ignoring data with redundant timestamp for frame odom at time 4126.735000 according to authority /pose_integrator\u001b[0m\n",
      "\u001b[33m[ WARN] [1703001916.014219927, 4126.779000000]: TF_REPEATED_DATA ignoring data with redundant timestamp for frame odom at time 4126.831000 according to authority unknown_publisher\u001b[0m\n",
      "\u001b[33m[ WARN] [1703001916.015889917, 4126.779000000]: TF_REPEATED_DATA ignoring data with redundant timestamp for frame odom at time 4126.831000 according to authority /pose_integrator\u001b[0m\n",
      "\u001b[33m[ WARN] [1703001916.015973657, 4126.779000000]: TF_REPEATED_DATA ignoring data with redundant timestamp for frame odom at time 4126.831000 according to authority /pose_integrator\u001b[0m\n",
      "\u001b[33m[ WARN] [1703001916.016024686, 4126.779000000]: TF_REPEATED_DATA ignoring data with redundant timestamp for frame odom at time 4126.831000 according to authority /pose_integrator\u001b[0m\n",
      "\u001b[33m[ WARN] [1703001916.016072133, 4126.779000000]: TF_REPEATED_DATA ignoring data with redundant timestamp for frame odom at time 4126.831000 according to authority /pose_integrator\u001b[0m\n",
      "\u001b[33m[ WARN] [1703001916.016120854, 4126.779000000]: TF_REPEATED_DATA ignoring data with redundant timestamp for frame odom at time 4126.831000 according to authority /pose_integrator\u001b[0m\n",
      "\u001b[33m[ WARN] [1703001916.016163756, 4126.779000000]: TF_REPEATED_DATA ignoring data with redundant timestamp for frame odom at time 4126.831000 according to authority /pose_integrator\u001b[0m\n",
      "\u001b[33m[ WARN] [1703001916.215936506, 4126.881000000]: TF_REPEATED_DATA ignoring data with redundant timestamp for frame odom at time 4126.917000 according to authority /pose_integrator\u001b[0m\n",
      "\u001b[33m[ WARN] [1703001916.216008703, 4126.881000000]: TF_REPEATED_DATA ignoring data with redundant timestamp for frame odom at time 4126.917000 according to authority /pose_integrator\u001b[0m\n",
      "\u001b[33m[ WARN] [1703001916.216056154, 4126.881000000]: TF_REPEATED_DATA ignoring data with redundant timestamp for frame odom at time 4126.917000 according to authority /pose_integrator\u001b[0m\n",
      "\u001b[33m[ WARN] [1703001916.216092738, 4126.881000000]: TF_REPEATED_DATA ignoring data with redundant timestamp for frame odom at time 4126.917000 according to authority /pose_integrator\u001b[0m\n",
      "\u001b[33m[ WARN] [1703001916.216140051, 4126.881000000]: TF_REPEATED_DATA ignoring data with redundant timestamp for frame odom at time 4126.917000 according to authority /pose_integrator\u001b[0m\n",
      "\u001b[33m[ WARN] [1703001916.216176516, 4126.881000000]: TF_REPEATED_DATA ignoring data with redundant timestamp for frame odom at time 4126.917000 according to authority /pose_integrator\u001b[0m\n",
      "\u001b[33m[ WARN] [1703001916.216372454, 4126.881000000]: TF_REPEATED_DATA ignoring data with redundant timestamp for frame odom at time 4126.917000 according to authority unknown_publisher\u001b[0m\n",
      "\u001b[33m[ WARN] [1703001916.325648552, 4126.917000000]: TF_REPEATED_DATA ignoring data with redundant timestamp for frame odom at time 4126.965000 according to authority /pose_integrator\u001b[0m\n",
      "\u001b[33m[ WARN] [1703001916.325723113, 4126.917000000]: TF_REPEATED_DATA ignoring data with redundant timestamp for frame odom at time 4126.965000 according to authority /pose_integrator\u001b[0m\n",
      "\u001b[33m[ WARN] [1703001916.325765259, 4126.917000000]: TF_REPEATED_DATA ignoring data with redundant timestamp for frame odom at time 4126.965000 according to authority /pose_integrator\u001b[0m\n",
      "\u001b[33m[ WARN] [1703001916.325814367, 4126.917000000]: TF_REPEATED_DATA ignoring data with redundant timestamp for frame odom at time 4126.965000 according to authority /pose_integrator\u001b[0m\n",
      "\u001b[33m[ WARN] [1703001916.325869347, 4126.917000000]: TF_REPEATED_DATA ignoring data with redundant timestamp for frame odom at time 4126.965000 according to authority /pose_integrator\u001b[0m\n",
      "\u001b[33m[ WARN] [1703001916.325908251, 4126.917000000]: TF_REPEATED_DATA ignoring data with redundant timestamp for frame odom at time 4126.965000 according to authority /pose_integrator\u001b[0m\n",
      "\u001b[33m[ WARN] [1703001916.326278055, 4126.917000000]: TF_REPEATED_DATA ignoring data with redundant timestamp for frame odom at time 4126.965000 according to authority unknown_publisher\u001b[0m\n",
      "\u001b[33m[ WARN] [1703001916.562839432, 4126.997000000]: TF_REPEATED_DATA ignoring data with redundant timestamp for frame odom at time 4127.067000 according to authority /pose_integrator\u001b[0m\n",
      "\u001b[33m[ WARN] [1703001916.562911864, 4126.997000000]: TF_REPEATED_DATA ignoring data with redundant timestamp for frame odom at time 4127.067000 according to authority /pose_integrator\u001b[0m\n",
      "\u001b[33m[ WARN] [1703001916.562978240, 4126.997000000]: TF_REPEATED_DATA ignoring data with redundant timestamp for frame odom at time 4127.067000 according to authority /pose_integrator\u001b[0m\n",
      "\u001b[33m[ WARN] [1703001916.563036653, 4126.997000000]: TF_REPEATED_DATA ignoring data with redundant timestamp for frame odom at time 4127.067000 according to authority /pose_integrator\u001b[0m\n",
      "\u001b[33m[ WARN] [1703001916.563108538, 4126.997000000]: TF_REPEATED_DATA ignoring data with redundant timestamp for frame odom at time 4127.067000 according to authority /pose_integrator\u001b[0m\n",
      "\u001b[33m[ WARN] [1703001916.563163534, 4126.997000000]: TF_REPEATED_DATA ignoring data with redundant timestamp for frame odom at time 4127.067000 according to authority /pose_integrator\u001b[0m\n",
      "\u001b[33m[ WARN] [1703001916.563858519, 4126.997000000]: TF_REPEATED_DATA ignoring data with redundant timestamp for frame odom at time 4127.067000 according to authority unknown_publisher\u001b[0m\n"
     ]
    },
    {
     "name": "stderr",
     "output_type": "stream",
     "text": [
      "\u001b[33m[ WARN] [1703001917.875156645, 4127.649000000]: TF_REPEATED_DATA ignoring data with redundant timestamp for frame odom at time 4127.701000 according to authority /pose_integrator\u001b[0m\n",
      "\u001b[33m[ WARN] [1703001917.875229458, 4127.649000000]: TF_REPEATED_DATA ignoring data with redundant timestamp for frame odom at time 4127.701000 according to authority /pose_integrator\u001b[0m\n",
      "\u001b[33m[ WARN] [1703001917.875296097, 4127.649000000]: TF_REPEATED_DATA ignoring data with redundant timestamp for frame odom at time 4127.701000 according to authority /pose_integrator\u001b[0m\n",
      "\u001b[33m[ WARN] [1703001917.875347927, 4127.649000000]: TF_REPEATED_DATA ignoring data with redundant timestamp for frame odom at time 4127.701000 according to authority /pose_integrator\u001b[0m\n",
      "\u001b[33m[ WARN] [1703001917.875398627, 4127.649000000]: TF_REPEATED_DATA ignoring data with redundant timestamp for frame odom at time 4127.701000 according to authority /pose_integrator\u001b[0m\n",
      "\u001b[33m[ WARN] [1703001917.875448584, 4127.649000000]: TF_REPEATED_DATA ignoring data with redundant timestamp for frame odom at time 4127.701000 according to authority /pose_integrator\u001b[0m\n",
      "\u001b[33m[ WARN] [1703001917.875610914, 4127.649000000]: TF_REPEATED_DATA ignoring data with redundant timestamp for frame odom at time 4127.701000 according to authority unknown_publisher\u001b[0m\n",
      "\u001b[33m[ WARN] [1703001918.690697355, 4128.018000000]: TF_REPEATED_DATA ignoring data with redundant timestamp for frame odom at time 4128.058000 according to authority unknown_publisher\u001b[0m\n",
      "\u001b[33m[ WARN] [1703001918.690834731, 4128.018000000]: TF_REPEATED_DATA ignoring data with redundant timestamp for frame odom at time 4128.058000 according to authority /pose_integrator\u001b[0m\n",
      "\u001b[33m[ WARN] [1703001918.690900276, 4128.018000000]: TF_REPEATED_DATA ignoring data with redundant timestamp for frame odom at time 4128.058000 according to authority /pose_integrator\u001b[0m\n",
      "\u001b[33m[ WARN] [1703001918.690956840, 4128.018000000]: TF_REPEATED_DATA ignoring data with redundant timestamp for frame odom at time 4128.058000 according to authority /pose_integrator\u001b[0m\n",
      "\u001b[33m[ WARN] [1703001918.691011551, 4128.018000000]: TF_REPEATED_DATA ignoring data with redundant timestamp for frame odom at time 4128.058000 according to authority /pose_integrator\u001b[0m\n",
      "\u001b[33m[ WARN] [1703001918.691060584, 4128.018000000]: TF_REPEATED_DATA ignoring data with redundant timestamp for frame odom at time 4128.058000 according to authority /pose_integrator\u001b[0m\n",
      "\u001b[33m[ WARN] [1703001918.691381580, 4128.018000000]: TF_REPEATED_DATA ignoring data with redundant timestamp for frame odom at time 4128.058000 according to authority /pose_integrator\u001b[0m\n",
      "\u001b[33m[ WARN] [1703001919.243029922, 4128.214000000]: TF_REPEATED_DATA ignoring data with redundant timestamp for frame odom at time 4128.248000 according to authority /pose_integrator\u001b[0m\n",
      "\u001b[33m[ WARN] [1703001919.243106928, 4128.214000000]: TF_REPEATED_DATA ignoring data with redundant timestamp for frame odom at time 4128.248000 according to authority /pose_integrator\u001b[0m\n",
      "\u001b[33m[ WARN] [1703001919.243165491, 4128.214000000]: TF_REPEATED_DATA ignoring data with redundant timestamp for frame odom at time 4128.248000 according to authority /pose_integrator\u001b[0m\n",
      "\u001b[33m[ WARN] [1703001919.243206192, 4128.214000000]: TF_REPEATED_DATA ignoring data with redundant timestamp for frame odom at time 4128.248000 according to authority /pose_integrator\u001b[0m\n",
      "\u001b[33m[ WARN] [1703001919.243242919, 4128.214000000]: TF_REPEATED_DATA ignoring data with redundant timestamp for frame odom at time 4128.248000 according to authority /pose_integrator\u001b[0m\n",
      "\u001b[33m[ WARN] [1703001919.243278504, 4128.214000000]: TF_REPEATED_DATA ignoring data with redundant timestamp for frame odom at time 4128.248000 according to authority /pose_integrator\u001b[0m\n",
      "\u001b[33m[ WARN] [1703001919.245921760, 4128.214000000]: TF_REPEATED_DATA ignoring data with redundant timestamp for frame odom at time 4128.248000 according to authority unknown_publisher\u001b[0m\n",
      "\u001b[33m[ WARN] [1703001919.479141123, 4128.355000000]: TF_REPEATED_DATA ignoring data with redundant timestamp for frame odom at time 4128.355000 according to authority /pose_integrator\u001b[0m\n",
      "\u001b[33m[ WARN] [1703001919.479216417, 4128.355000000]: TF_REPEATED_DATA ignoring data with redundant timestamp for frame odom at time 4128.355000 according to authority /pose_integrator\u001b[0m\n",
      "\u001b[33m[ WARN] [1703001919.479273306, 4128.355000000]: TF_REPEATED_DATA ignoring data with redundant timestamp for frame odom at time 4128.355000 according to authority /pose_integrator\u001b[0m\n",
      "\u001b[33m[ WARN] [1703001919.479321014, 4128.355000000]: TF_REPEATED_DATA ignoring data with redundant timestamp for frame odom at time 4128.355000 according to authority unknown_publisher\u001b[0m\n",
      "\u001b[33m[ WARN] [1703001919.479702316, 4128.355000000]: TF_REPEATED_DATA ignoring data with redundant timestamp for frame odom at time 4128.355000 according to authority /pose_integrator\u001b[0m\n",
      "\u001b[33m[ WARN] [1703001919.479773686, 4128.355000000]: TF_REPEATED_DATA ignoring data with redundant timestamp for frame odom at time 4128.355000 according to authority /pose_integrator\u001b[0m\n",
      "\u001b[33m[ WARN] [1703001919.479822428, 4128.355000000]: TF_REPEATED_DATA ignoring data with redundant timestamp for frame odom at time 4128.355000 according to authority /pose_integrator\u001b[0m\n",
      "\u001b[33m[ WARN] [1703001919.762716426, 4128.435000000]: TF_REPEATED_DATA ignoring data with redundant timestamp for frame odom at time 4128.498000 according to authority unknown_publisher\u001b[0m\n",
      "\u001b[33m[ WARN] [1703001919.762994152, 4128.435000000]: TF_REPEATED_DATA ignoring data with redundant timestamp for frame odom at time 4128.498000 according to authority /pose_integrator\u001b[0m\n",
      "\u001b[33m[ WARN] [1703001919.763050472, 4128.435000000]: TF_REPEATED_DATA ignoring data with redundant timestamp for frame odom at time 4128.498000 according to authority /pose_integrator\u001b[0m\n",
      "\u001b[33m[ WARN] [1703001919.763098594, 4128.435000000]: TF_REPEATED_DATA ignoring data with redundant timestamp for frame odom at time 4128.498000 according to authority /pose_integrator\u001b[0m\n",
      "\u001b[33m[ WARN] [1703001919.763154025, 4128.435000000]: TF_REPEATED_DATA ignoring data with redundant timestamp for frame odom at time 4128.498000 according to authority /pose_integrator\u001b[0m\n",
      "\u001b[33m[ WARN] [1703001919.763196700, 4128.435000000]: TF_REPEATED_DATA ignoring data with redundant timestamp for frame odom at time 4128.498000 according to authority /pose_integrator\u001b[0m\n",
      "\u001b[33m[ WARN] [1703001919.763238889, 4128.435000000]: TF_REPEATED_DATA ignoring data with redundant timestamp for frame odom at time 4128.498000 according to authority /pose_integrator\u001b[0m\n",
      "\u001b[33m[ WARN] [1703001920.481371097, 4128.751000000]: TF_REPEATED_DATA ignoring data with redundant timestamp for frame odom at time 4128.839000 according to authority unknown_publisher\u001b[0m\n",
      "\u001b[33m[ WARN] [1703001920.498507038, 4128.839000000]: TF_REPEATED_DATA ignoring data with redundant timestamp for frame odom at time 4128.839000 according to authority /pose_integrator\u001b[0m\n",
      "\u001b[33m[ WARN] [1703001920.498564721, 4128.839000000]: TF_REPEATED_DATA ignoring data with redundant timestamp for frame odom at time 4128.839000 according to authority /pose_integrator\u001b[0m\n",
      "\u001b[33m[ WARN] [1703001920.498604640, 4128.839000000]: TF_REPEATED_DATA ignoring data with redundant timestamp for frame odom at time 4128.839000 according to authority /pose_integrator\u001b[0m\n",
      "\u001b[33m[ WARN] [1703001920.498637727, 4128.839000000]: TF_REPEATED_DATA ignoring data with redundant timestamp for frame odom at time 4128.839000 according to authority /pose_integrator\u001b[0m\n",
      "\u001b[33m[ WARN] [1703001920.498672217, 4128.839000000]: TF_REPEATED_DATA ignoring data with redundant timestamp for frame odom at time 4128.839000 according to authority /pose_integrator\u001b[0m\n",
      "\u001b[33m[ WARN] [1703001920.498710075, 4128.839000000]: TF_REPEATED_DATA ignoring data with redundant timestamp for frame odom at time 4128.839000 according to authority /pose_integrator\u001b[0m\n",
      "\u001b[33m[ WARN] [1703001920.673240507, 4128.882000000]: TF_REPEATED_DATA ignoring data with redundant timestamp for frame odom at time 4128.952000 according to authority /pose_integrator\u001b[0m\n",
      "\u001b[33m[ WARN] [1703001920.673308064, 4128.882000000]: TF_REPEATED_DATA ignoring data with redundant timestamp for frame odom at time 4128.952000 according to authority /pose_integrator\u001b[0m\n",
      "\u001b[33m[ WARN] [1703001920.673352595, 4128.882000000]: TF_REPEATED_DATA ignoring data with redundant timestamp for frame odom at time 4128.952000 according to authority /pose_integrator\u001b[0m\n",
      "\u001b[33m[ WARN] [1703001920.673409144, 4128.882000000]: TF_REPEATED_DATA ignoring data with redundant timestamp for frame odom at time 4128.952000 according to authority /pose_integrator\u001b[0m\n",
      "\u001b[33m[ WARN] [1703001920.673458091, 4128.882000000]: TF_REPEATED_DATA ignoring data with redundant timestamp for frame odom at time 4128.952000 according to authority /pose_integrator\u001b[0m\n",
      "\u001b[33m[ WARN] [1703001920.673505595, 4128.882000000]: TF_REPEATED_DATA ignoring data with redundant timestamp for frame odom at time 4128.952000 according to authority /pose_integrator\u001b[0m\n",
      "\u001b[33m[ WARN] [1703001920.677297925, 4128.882000000]: TF_REPEATED_DATA ignoring data with redundant timestamp for frame odom at time 4128.952000 according to authority unknown_publisher\u001b[0m\n"
     ]
    },
    {
     "name": "stderr",
     "output_type": "stream",
     "text": [
      "\u001b[33m[ WARN] [1703001920.947369301, 4129.050000000]: TF_REPEATED_DATA ignoring data with redundant timestamp for frame odom at time 4129.083000 according to authority unknown_publisher\u001b[0m\n",
      "\u001b[33m[ WARN] [1703001920.949967972, 4129.050000000]: TF_REPEATED_DATA ignoring data with redundant timestamp for frame odom at time 4129.083000 according to authority /pose_integrator\u001b[0m\n",
      "\u001b[33m[ WARN] [1703001920.950024318, 4129.050000000]: TF_REPEATED_DATA ignoring data with redundant timestamp for frame odom at time 4129.083000 according to authority /pose_integrator\u001b[0m\n",
      "\u001b[33m[ WARN] [1703001920.950056992, 4129.050000000]: TF_REPEATED_DATA ignoring data with redundant timestamp for frame odom at time 4129.083000 according to authority /pose_integrator\u001b[0m\n",
      "\u001b[33m[ WARN] [1703001920.950087475, 4129.050000000]: TF_REPEATED_DATA ignoring data with redundant timestamp for frame odom at time 4129.083000 according to authority /pose_integrator\u001b[0m\n",
      "\u001b[33m[ WARN] [1703001920.950116788, 4129.050000000]: TF_REPEATED_DATA ignoring data with redundant timestamp for frame odom at time 4129.083000 according to authority /pose_integrator\u001b[0m\n",
      "\u001b[33m[ WARN] [1703001920.950146316, 4129.050000000]: TF_REPEATED_DATA ignoring data with redundant timestamp for frame odom at time 4129.083000 according to authority /pose_integrator\u001b[0m\n",
      "\u001b[33m[ WARN] [1703001921.584081966, 4129.323000000]: TF_REPEATED_DATA ignoring data with redundant timestamp for frame odom at time 4129.367000 according to authority unknown_publisher\u001b[0m\n",
      "\u001b[33m[ WARN] [1703001921.584918203, 4129.323000000]: TF_REPEATED_DATA ignoring data with redundant timestamp for frame odom at time 4129.367000 according to authority /pose_integrator\u001b[0m\n",
      "\u001b[33m[ WARN] [1703001921.584988566, 4129.323000000]: TF_REPEATED_DATA ignoring data with redundant timestamp for frame odom at time 4129.367000 according to authority /pose_integrator\u001b[0m\n",
      "\u001b[33m[ WARN] [1703001921.585055755, 4129.323000000]: TF_REPEATED_DATA ignoring data with redundant timestamp for frame odom at time 4129.367000 according to authority /pose_integrator\u001b[0m\n",
      "\u001b[33m[ WARN] [1703001921.585106971, 4129.323000000]: TF_REPEATED_DATA ignoring data with redundant timestamp for frame odom at time 4129.367000 according to authority /pose_integrator\u001b[0m\n",
      "\u001b[33m[ WARN] [1703001921.585146900, 4129.323000000]: TF_REPEATED_DATA ignoring data with redundant timestamp for frame odom at time 4129.367000 according to authority /pose_integrator\u001b[0m\n",
      "\u001b[33m[ WARN] [1703001921.585183622, 4129.323000000]: TF_REPEATED_DATA ignoring data with redundant timestamp for frame odom at time 4129.367000 according to authority /pose_integrator\u001b[0m\n",
      "\u001b[33m[ WARN] [1703001922.903475326, 4129.860000000]: TF_REPEATED_DATA ignoring data with redundant timestamp for frame odom at time 4129.905000 according to authority unknown_publisher\u001b[0m\n",
      "\u001b[33m[ WARN] [1703001922.903561494, 4129.860000000]: TF_REPEATED_DATA ignoring data with redundant timestamp for frame odom at time 4129.905000 according to authority /pose_integrator\u001b[0m\n",
      "\u001b[33m[ WARN] [1703001922.903625483, 4129.860000000]: TF_REPEATED_DATA ignoring data with redundant timestamp for frame odom at time 4129.905000 according to authority /pose_integrator\u001b[0m\n",
      "\u001b[33m[ WARN] [1703001922.903670011, 4129.860000000]: TF_REPEATED_DATA ignoring data with redundant timestamp for frame odom at time 4129.905000 according to authority /pose_integrator\u001b[0m\n",
      "\u001b[33m[ WARN] [1703001922.903710002, 4129.860000000]: TF_REPEATED_DATA ignoring data with redundant timestamp for frame odom at time 4129.905000 according to authority /pose_integrator\u001b[0m\n",
      "\u001b[33m[ WARN] [1703001922.903755709, 4129.860000000]: TF_REPEATED_DATA ignoring data with redundant timestamp for frame odom at time 4129.905000 according to authority /pose_integrator\u001b[0m\n",
      "\u001b[33m[ WARN] [1703001922.903793824, 4129.860000000]: TF_REPEATED_DATA ignoring data with redundant timestamp for frame odom at time 4129.905000 according to authority /pose_integrator\u001b[0m\n",
      "\u001b[33m[ WARN] [1703001924.246085019, 4130.437000000]: TF_REPEATED_DATA ignoring data with redundant timestamp for frame odom at time 4130.477000 according to authority /pose_integrator\u001b[0m\n",
      "\u001b[33m[ WARN] [1703001924.246153373, 4130.437000000]: TF_REPEATED_DATA ignoring data with redundant timestamp for frame odom at time 4130.477000 according to authority /pose_integrator\u001b[0m\n",
      "\u001b[33m[ WARN] [1703001924.246202096, 4130.437000000]: TF_REPEATED_DATA ignoring data with redundant timestamp for frame odom at time 4130.477000 according to authority /pose_integrator\u001b[0m\n",
      "\u001b[33m[ WARN] [1703001924.246244559, 4130.437000000]: TF_REPEATED_DATA ignoring data with redundant timestamp for frame odom at time 4130.477000 according to authority /pose_integrator\u001b[0m\n",
      "\u001b[33m[ WARN] [1703001924.246292579, 4130.437000000]: TF_REPEATED_DATA ignoring data with redundant timestamp for frame odom at time 4130.477000 according to authority /pose_integrator\u001b[0m\n",
      "\u001b[33m[ WARN] [1703001924.246338483, 4130.437000000]: TF_REPEATED_DATA ignoring data with redundant timestamp for frame odom at time 4130.477000 according to authority /pose_integrator\u001b[0m\n",
      "\u001b[33m[ WARN] [1703001924.246802336, 4130.437000000]: TF_REPEATED_DATA ignoring data with redundant timestamp for frame odom at time 4130.477000 according to authority unknown_publisher\u001b[0m\n",
      "\u001b[33m[ WARN] [1703001925.540590526, 4131.095000000]: TF_REPEATED_DATA ignoring data with redundant timestamp for frame odom at time 4131.161000 according to authority unknown_publisher\u001b[0m\n",
      "\u001b[33m[ WARN] [1703001925.542541758, 4131.095000000]: TF_REPEATED_DATA ignoring data with redundant timestamp for frame odom at time 4131.161000 according to authority /pose_integrator\u001b[0m\n",
      "\u001b[33m[ WARN] [1703001925.542612647, 4131.095000000]: TF_REPEATED_DATA ignoring data with redundant timestamp for frame odom at time 4131.161000 according to authority /pose_integrator\u001b[0m\n",
      "\u001b[33m[ WARN] [1703001925.542669327, 4131.095000000]: TF_REPEATED_DATA ignoring data with redundant timestamp for frame odom at time 4131.161000 according to authority /pose_integrator\u001b[0m\n",
      "\u001b[33m[ WARN] [1703001925.542717840, 4131.095000000]: TF_REPEATED_DATA ignoring data with redundant timestamp for frame odom at time 4131.161000 according to authority /pose_integrator\u001b[0m\n",
      "\u001b[33m[ WARN] [1703001925.542764227, 4131.095000000]: TF_REPEATED_DATA ignoring data with redundant timestamp for frame odom at time 4131.161000 according to authority /pose_integrator\u001b[0m\n",
      "\u001b[33m[ WARN] [1703001925.542813580, 4131.095000000]: TF_REPEATED_DATA ignoring data with redundant timestamp for frame odom at time 4131.161000 according to authority /pose_integrator\u001b[0m\n",
      "\u001b[33m[ WARN] [1703001925.839925603, 4131.240000000]: TF_REPEATED_DATA ignoring data with redundant timestamp for frame odom at time 4131.296000 according to authority unknown_publisher\u001b[0m\n",
      "\u001b[33m[ WARN] [1703001925.841300964, 4131.240000000]: TF_REPEATED_DATA ignoring data with redundant timestamp for frame odom at time 4131.296000 according to authority /pose_integrator\u001b[0m\n",
      "\u001b[33m[ WARN] [1703001925.841373972, 4131.240000000]: TF_REPEATED_DATA ignoring data with redundant timestamp for frame odom at time 4131.296000 according to authority /pose_integrator\u001b[0m\n",
      "\u001b[33m[ WARN] [1703001925.841421986, 4131.240000000]: TF_REPEATED_DATA ignoring data with redundant timestamp for frame odom at time 4131.296000 according to authority /pose_integrator\u001b[0m\n",
      "\u001b[33m[ WARN] [1703001925.841468320, 4131.240000000]: TF_REPEATED_DATA ignoring data with redundant timestamp for frame odom at time 4131.296000 according to authority /pose_integrator\u001b[0m\n",
      "\u001b[33m[ WARN] [1703001925.841516405, 4131.240000000]: TF_REPEATED_DATA ignoring data with redundant timestamp for frame odom at time 4131.296000 according to authority /pose_integrator\u001b[0m\n",
      "\u001b[33m[ WARN] [1703001925.841569475, 4131.240000000]: TF_REPEATED_DATA ignoring data with redundant timestamp for frame odom at time 4131.296000 according to authority /pose_integrator\u001b[0m\n",
      "\u001b[33m[ WARN] [1703001926.123258508, 4131.407000000]: TF_REPEATED_DATA ignoring data with redundant timestamp for frame odom at time 4131.453000 according to authority unknown_publisher\u001b[0m\n",
      "\u001b[33m[ WARN] [1703001926.131036408, 4131.453000000]: TF_REPEATED_DATA ignoring data with redundant timestamp for frame odom at time 4131.453000 according to authority /pose_integrator\u001b[0m\n",
      "\u001b[33m[ WARN] [1703001926.131121971, 4131.453000000]: TF_REPEATED_DATA ignoring data with redundant timestamp for frame odom at time 4131.453000 according to authority /pose_integrator\u001b[0m\n",
      "\u001b[33m[ WARN] [1703001926.131180782, 4131.453000000]: TF_REPEATED_DATA ignoring data with redundant timestamp for frame odom at time 4131.453000 according to authority /pose_integrator\u001b[0m\n",
      "\u001b[33m[ WARN] [1703001926.131236435, 4131.453000000]: TF_REPEATED_DATA ignoring data with redundant timestamp for frame odom at time 4131.453000 according to authority /pose_integrator\u001b[0m\n",
      "\u001b[33m[ WARN] [1703001926.131291774, 4131.453000000]: TF_REPEATED_DATA ignoring data with redundant timestamp for frame odom at time 4131.453000 according to authority /pose_integrator\u001b[0m\n",
      "\u001b[33m[ WARN] [1703001926.131342966, 4131.453000000]: TF_REPEATED_DATA ignoring data with redundant timestamp for frame odom at time 4131.453000 according to authority /pose_integrator\u001b[0m\n"
     ]
    },
    {
     "name": "stderr",
     "output_type": "stream",
     "text": [
      "\u001b[33m[ WARN] [1703001926.602748883, 4131.611000000]: TF_REPEATED_DATA ignoring data with redundant timestamp for frame odom at time 4131.658000 according to authority unknown_publisher\u001b[0m\n",
      "\u001b[33m[ WARN] [1703001926.604651826, 4131.611000000]: TF_REPEATED_DATA ignoring data with redundant timestamp for frame odom at time 4131.658000 according to authority /pose_integrator\u001b[0m\n",
      "\u001b[33m[ WARN] [1703001926.604721763, 4131.611000000]: TF_REPEATED_DATA ignoring data with redundant timestamp for frame odom at time 4131.658000 according to authority /pose_integrator\u001b[0m\n",
      "\u001b[33m[ WARN] [1703001926.604778275, 4131.611000000]: TF_REPEATED_DATA ignoring data with redundant timestamp for frame odom at time 4131.658000 according to authority /pose_integrator\u001b[0m\n",
      "\u001b[33m[ WARN] [1703001926.604827252, 4131.611000000]: TF_REPEATED_DATA ignoring data with redundant timestamp for frame odom at time 4131.658000 according to authority /pose_integrator\u001b[0m\n",
      "\u001b[33m[ WARN] [1703001926.604876689, 4131.611000000]: TF_REPEATED_DATA ignoring data with redundant timestamp for frame odom at time 4131.658000 according to authority /pose_integrator\u001b[0m\n",
      "\u001b[33m[ WARN] [1703001926.604928087, 4131.611000000]: TF_REPEATED_DATA ignoring data with redundant timestamp for frame odom at time 4131.658000 according to authority /pose_integrator\u001b[0m\n",
      "\u001b[33m[ WARN] [1703001927.642796125, 4132.047000000]: TF_REPEATED_DATA ignoring data with redundant timestamp for frame odom at time 4132.061000 according to authority unknown_publisher\u001b[0m\n",
      "\u001b[33m[ WARN] [1703001927.643973485, 4132.047000000]: TF_REPEATED_DATA ignoring data with redundant timestamp for frame odom at time 4132.061000 according to authority /pose_integrator\u001b[0m\n",
      "\u001b[33m[ WARN] [1703001927.644046007, 4132.047000000]: TF_REPEATED_DATA ignoring data with redundant timestamp for frame odom at time 4132.061000 according to authority /pose_integrator\u001b[0m\n",
      "\u001b[33m[ WARN] [1703001927.644103887, 4132.047000000]: TF_REPEATED_DATA ignoring data with redundant timestamp for frame odom at time 4132.061000 according to authority /pose_integrator\u001b[0m\n",
      "\u001b[33m[ WARN] [1703001927.644150695, 4132.047000000]: TF_REPEATED_DATA ignoring data with redundant timestamp for frame odom at time 4132.061000 according to authority /pose_integrator\u001b[0m\n",
      "\u001b[33m[ WARN] [1703001927.644198220, 4132.047000000]: TF_REPEATED_DATA ignoring data with redundant timestamp for frame odom at time 4132.061000 according to authority /pose_integrator\u001b[0m\n",
      "\u001b[33m[ WARN] [1703001927.644250592, 4132.047000000]: TF_REPEATED_DATA ignoring data with redundant timestamp for frame odom at time 4132.061000 according to authority /pose_integrator\u001b[0m\n",
      "\u001b[33m[ WARN] [1703001928.517909338, 4132.464000000]: TF_REPEATED_DATA ignoring data with redundant timestamp for frame odom at time 4132.484000 according to authority unknown_publisher\u001b[0m\n",
      "\u001b[33m[ WARN] [1703001928.521271861, 4132.464000000]: TF_REPEATED_DATA ignoring data with redundant timestamp for frame odom at time 4132.484000 according to authority /pose_integrator\u001b[0m\n",
      "\u001b[33m[ WARN] [1703001928.521337015, 4132.464000000]: TF_REPEATED_DATA ignoring data with redundant timestamp for frame odom at time 4132.484000 according to authority /pose_integrator\u001b[0m\n",
      "\u001b[33m[ WARN] [1703001928.521387822, 4132.464000000]: TF_REPEATED_DATA ignoring data with redundant timestamp for frame odom at time 4132.484000 according to authority /pose_integrator\u001b[0m\n",
      "\u001b[33m[ WARN] [1703001928.521428843, 4132.464000000]: TF_REPEATED_DATA ignoring data with redundant timestamp for frame odom at time 4132.484000 according to authority /pose_integrator\u001b[0m\n",
      "\u001b[33m[ WARN] [1703001928.521482375, 4132.464000000]: TF_REPEATED_DATA ignoring data with redundant timestamp for frame odom at time 4132.484000 according to authority /pose_integrator\u001b[0m\n",
      "\u001b[33m[ WARN] [1703001928.521529698, 4132.464000000]: TF_REPEATED_DATA ignoring data with redundant timestamp for frame odom at time 4132.484000 according to authority /pose_integrator\u001b[0m\n",
      "\u001b[33m[ WARN] [1703001928.713514053, 4132.545000000]: TF_REPEATED_DATA ignoring data with redundant timestamp for frame odom at time 4132.582000 according to authority /pose_integrator\u001b[0m\n",
      "\u001b[33m[ WARN] [1703001928.713577277, 4132.545000000]: TF_REPEATED_DATA ignoring data with redundant timestamp for frame odom at time 4132.582000 according to authority /pose_integrator\u001b[0m\n",
      "\u001b[33m[ WARN] [1703001928.713616266, 4132.545000000]: TF_REPEATED_DATA ignoring data with redundant timestamp for frame odom at time 4132.582000 according to authority /pose_integrator\u001b[0m\n",
      "\u001b[33m[ WARN] [1703001928.713652346, 4132.545000000]: TF_REPEATED_DATA ignoring data with redundant timestamp for frame odom at time 4132.582000 according to authority /pose_integrator\u001b[0m\n",
      "\u001b[33m[ WARN] [1703001928.713701064, 4132.545000000]: TF_REPEATED_DATA ignoring data with redundant timestamp for frame odom at time 4132.582000 according to authority /pose_integrator\u001b[0m\n",
      "\u001b[33m[ WARN] [1703001928.713748570, 4132.545000000]: TF_REPEATED_DATA ignoring data with redundant timestamp for frame odom at time 4132.582000 according to authority /pose_integrator\u001b[0m\n",
      "\u001b[33m[ WARN] [1703001928.714050555, 4132.545000000]: TF_REPEATED_DATA ignoring data with redundant timestamp for frame odom at time 4132.582000 according to authority unknown_publisher\u001b[0m\n",
      "\u001b[33m[ WARN] [1703001928.978225820, 4132.653000000]: TF_REPEATED_DATA ignoring data with redundant timestamp for frame odom at time 4132.687000 according to authority /pose_integrator\u001b[0m\n",
      "\u001b[33m[ WARN] [1703001928.978295617, 4132.653000000]: TF_REPEATED_DATA ignoring data with redundant timestamp for frame odom at time 4132.687000 according to authority /pose_integrator\u001b[0m\n",
      "\u001b[33m[ WARN] [1703001928.978340924, 4132.653000000]: TF_REPEATED_DATA ignoring data with redundant timestamp for frame odom at time 4132.687000 according to authority unknown_publisher\u001b[0m\n",
      "\u001b[33m[ WARN] [1703001928.978410372, 4132.653000000]: TF_REPEATED_DATA ignoring data with redundant timestamp for frame odom at time 4132.687000 according to authority /pose_integrator\u001b[0m\n",
      "\u001b[33m[ WARN] [1703001928.978472303, 4132.653000000]: TF_REPEATED_DATA ignoring data with redundant timestamp for frame odom at time 4132.687000 according to authority /pose_integrator\u001b[0m\n",
      "\u001b[33m[ WARN] [1703001928.978525217, 4132.653000000]: TF_REPEATED_DATA ignoring data with redundant timestamp for frame odom at time 4132.687000 according to authority /pose_integrator\u001b[0m\n",
      "\u001b[33m[ WARN] [1703001928.978581227, 4132.653000000]: TF_REPEATED_DATA ignoring data with redundant timestamp for frame odom at time 4132.687000 according to authority /pose_integrator\u001b[0m\n",
      "\u001b[33m[ WARN] [1703001929.368723125, 4132.785000000]: TF_REPEATED_DATA ignoring data with redundant timestamp for frame odom at time 4132.849000 according to authority unknown_publisher\u001b[0m\n",
      "\u001b[33m[ WARN] [1703001929.370627175, 4132.785000000]: TF_REPEATED_DATA ignoring data with redundant timestamp for frame odom at time 4132.849000 according to authority /pose_integrator\u001b[0m\n",
      "\u001b[33m[ WARN] [1703001929.370688835, 4132.785000000]: TF_REPEATED_DATA ignoring data with redundant timestamp for frame odom at time 4132.849000 according to authority /pose_integrator\u001b[0m\n",
      "\u001b[33m[ WARN] [1703001929.370724349, 4132.785000000]: TF_REPEATED_DATA ignoring data with redundant timestamp for frame odom at time 4132.849000 according to authority /pose_integrator\u001b[0m\n",
      "\u001b[33m[ WARN] [1703001929.370753154, 4132.785000000]: TF_REPEATED_DATA ignoring data with redundant timestamp for frame odom at time 4132.849000 according to authority /pose_integrator\u001b[0m\n",
      "\u001b[33m[ WARN] [1703001929.370781092, 4132.785000000]: TF_REPEATED_DATA ignoring data with redundant timestamp for frame odom at time 4132.849000 according to authority /pose_integrator\u001b[0m\n",
      "\u001b[33m[ WARN] [1703001929.370810007, 4132.785000000]: TF_REPEATED_DATA ignoring data with redundant timestamp for frame odom at time 4132.849000 according to authority /pose_integrator\u001b[0m\n",
      "\u001b[33m[ WARN] [1703001930.177357538, 4133.170000000]: TF_REPEATED_DATA ignoring data with redundant timestamp for frame odom at time 4133.206000 according to authority unknown_publisher\u001b[0m\n",
      "\u001b[33m[ WARN] [1703001930.178143989, 4133.170000000]: TF_REPEATED_DATA ignoring data with redundant timestamp for frame odom at time 4133.206000 according to authority /pose_integrator\u001b[0m\n",
      "\u001b[33m[ WARN] [1703001930.178205414, 4133.170000000]: TF_REPEATED_DATA ignoring data with redundant timestamp for frame odom at time 4133.206000 according to authority /pose_integrator\u001b[0m\n",
      "\u001b[33m[ WARN] [1703001930.178264021, 4133.170000000]: TF_REPEATED_DATA ignoring data with redundant timestamp for frame odom at time 4133.206000 according to authority /pose_integrator\u001b[0m\n",
      "\u001b[33m[ WARN] [1703001930.178319052, 4133.170000000]: TF_REPEATED_DATA ignoring data with redundant timestamp for frame odom at time 4133.206000 according to authority /pose_integrator\u001b[0m\n",
      "\u001b[33m[ WARN] [1703001930.178373311, 4133.170000000]: TF_REPEATED_DATA ignoring data with redundant timestamp for frame odom at time 4133.206000 according to authority /pose_integrator\u001b[0m\n",
      "\u001b[33m[ WARN] [1703001930.178431568, 4133.170000000]: TF_REPEATED_DATA ignoring data with redundant timestamp for frame odom at time 4133.206000 according to authority /pose_integrator\u001b[0m\n"
     ]
    },
    {
     "name": "stderr",
     "output_type": "stream",
     "text": [
      "\u001b[33m[ WARN] [1703001930.957190854, 4133.523000000]: TF_REPEATED_DATA ignoring data with redundant timestamp for frame odom at time 4133.574000 according to authority /pose_integrator\u001b[0m\n",
      "\u001b[33m[ WARN] [1703001930.957308786, 4133.523000000]: TF_REPEATED_DATA ignoring data with redundant timestamp for frame odom at time 4133.574000 according to authority /pose_integrator\u001b[0m\n",
      "\u001b[33m[ WARN] [1703001930.957370500, 4133.523000000]: TF_REPEATED_DATA ignoring data with redundant timestamp for frame odom at time 4133.574000 according to authority /pose_integrator\u001b[0m\n",
      "\u001b[33m[ WARN] [1703001930.957407347, 4133.523000000]: TF_REPEATED_DATA ignoring data with redundant timestamp for frame odom at time 4133.574000 according to authority /pose_integrator\u001b[0m\n",
      "\u001b[33m[ WARN] [1703001930.957444711, 4133.523000000]: TF_REPEATED_DATA ignoring data with redundant timestamp for frame odom at time 4133.574000 according to authority /pose_integrator\u001b[0m\n",
      "\u001b[33m[ WARN] [1703001930.957478542, 4133.523000000]: TF_REPEATED_DATA ignoring data with redundant timestamp for frame odom at time 4133.574000 according to authority /pose_integrator\u001b[0m\n",
      "\u001b[33m[ WARN] [1703001930.960775159, 4133.523000000]: TF_REPEATED_DATA ignoring data with redundant timestamp for frame odom at time 4133.574000 according to authority unknown_publisher\u001b[0m\n",
      "\u001b[33m[ WARN] [1703001931.451408594, 4133.753000000]: TF_REPEATED_DATA ignoring data with redundant timestamp for frame odom at time 4133.810000 according to authority unknown_publisher\u001b[0m\n",
      "\u001b[33m[ WARN] [1703001931.452164823, 4133.753000000]: TF_REPEATED_DATA ignoring data with redundant timestamp for frame odom at time 4133.810000 according to authority /pose_integrator\u001b[0m\n",
      "\u001b[33m[ WARN] [1703001931.452229891, 4133.753000000]: TF_REPEATED_DATA ignoring data with redundant timestamp for frame odom at time 4133.810000 according to authority /pose_integrator\u001b[0m\n",
      "\u001b[33m[ WARN] [1703001931.452288684, 4133.753000000]: TF_REPEATED_DATA ignoring data with redundant timestamp for frame odom at time 4133.810000 according to authority /pose_integrator\u001b[0m\n",
      "\u001b[33m[ WARN] [1703001931.452343027, 4133.753000000]: TF_REPEATED_DATA ignoring data with redundant timestamp for frame odom at time 4133.810000 according to authority /pose_integrator\u001b[0m\n",
      "\u001b[33m[ WARN] [1703001931.452399355, 4133.753000000]: TF_REPEATED_DATA ignoring data with redundant timestamp for frame odom at time 4133.810000 according to authority /pose_integrator\u001b[0m\n",
      "\u001b[33m[ WARN] [1703001931.452464824, 4133.753000000]: TF_REPEATED_DATA ignoring data with redundant timestamp for frame odom at time 4133.810000 according to authority /pose_integrator\u001b[0m\n",
      "\u001b[33m[ WARN] [1703001931.717474594, 4133.878000000]: TF_REPEATED_DATA ignoring data with redundant timestamp for frame odom at time 4133.928000 according to authority unknown_publisher\u001b[0m\n",
      "\u001b[33m[ WARN] [1703001931.718404529, 4133.878000000]: TF_REPEATED_DATA ignoring data with redundant timestamp for frame odom at time 4133.928000 according to authority /pose_integrator\u001b[0m\n",
      "\u001b[33m[ WARN] [1703001931.718480514, 4133.878000000]: TF_REPEATED_DATA ignoring data with redundant timestamp for frame odom at time 4133.928000 according to authority /pose_integrator\u001b[0m\n",
      "\u001b[33m[ WARN] [1703001931.718544524, 4133.878000000]: TF_REPEATED_DATA ignoring data with redundant timestamp for frame odom at time 4133.928000 according to authority /pose_integrator\u001b[0m\n",
      "\u001b[33m[ WARN] [1703001931.718592493, 4133.878000000]: TF_REPEATED_DATA ignoring data with redundant timestamp for frame odom at time 4133.928000 according to authority /pose_integrator\u001b[0m\n",
      "\u001b[33m[ WARN] [1703001931.718624882, 4133.878000000]: TF_REPEATED_DATA ignoring data with redundant timestamp for frame odom at time 4133.928000 according to authority /pose_integrator\u001b[0m\n",
      "\u001b[33m[ WARN] [1703001931.718654285, 4133.878000000]: TF_REPEATED_DATA ignoring data with redundant timestamp for frame odom at time 4133.928000 according to authority /pose_integrator\u001b[0m\n",
      "\u001b[33m[ WARN] [1703001931.961401012, 4133.967000000]: TF_REPEATED_DATA ignoring data with redundant timestamp for frame odom at time 4134.031000 according to authority unknown_publisher\u001b[0m\n",
      "\u001b[33m[ WARN] [1703001931.961601941, 4133.967000000]: TF_REPEATED_DATA ignoring data with redundant timestamp for frame odom at time 4134.031000 according to authority /pose_integrator\u001b[0m\n",
      "\u001b[33m[ WARN] [1703001931.961659670, 4133.967000000]: TF_REPEATED_DATA ignoring data with redundant timestamp for frame odom at time 4134.031000 according to authority /pose_integrator\u001b[0m\n",
      "\u001b[33m[ WARN] [1703001931.961716551, 4133.967000000]: TF_REPEATED_DATA ignoring data with redundant timestamp for frame odom at time 4134.031000 according to authority /pose_integrator\u001b[0m\n",
      "\u001b[33m[ WARN] [1703001931.961774739, 4133.967000000]: TF_REPEATED_DATA ignoring data with redundant timestamp for frame odom at time 4134.031000 according to authority /pose_integrator\u001b[0m\n",
      "\u001b[33m[ WARN] [1703001931.961843097, 4133.967000000]: TF_REPEATED_DATA ignoring data with redundant timestamp for frame odom at time 4134.031000 according to authority /pose_integrator\u001b[0m\n",
      "\u001b[33m[ WARN] [1703001931.961893640, 4133.967000000]: TF_REPEATED_DATA ignoring data with redundant timestamp for frame odom at time 4134.031000 according to authority /pose_integrator\u001b[0m\n",
      "\u001b[33m[ WARN] [1703001932.224790954, 4134.094000000]: TF_REPEATED_DATA ignoring data with redundant timestamp for frame odom at time 4134.142000 according to authority unknown_publisher\u001b[0m\n",
      "\u001b[33m[ WARN] [1703001932.224938152, 4134.094000000]: TF_REPEATED_DATA ignoring data with redundant timestamp for frame odom at time 4134.142000 according to authority /pose_integrator\u001b[0m\n",
      "\u001b[33m[ WARN] [1703001932.225001160, 4134.094000000]: TF_REPEATED_DATA ignoring data with redundant timestamp for frame odom at time 4134.142000 according to authority /pose_integrator\u001b[0m\n",
      "\u001b[33m[ WARN] [1703001932.225063833, 4134.094000000]: TF_REPEATED_DATA ignoring data with redundant timestamp for frame odom at time 4134.142000 according to authority /pose_integrator\u001b[0m\n",
      "\u001b[33m[ WARN] [1703001932.225115369, 4134.094000000]: TF_REPEATED_DATA ignoring data with redundant timestamp for frame odom at time 4134.142000 according to authority /pose_integrator\u001b[0m\n",
      "\u001b[33m[ WARN] [1703001932.225175170, 4134.094000000]: TF_REPEATED_DATA ignoring data with redundant timestamp for frame odom at time 4134.142000 according to authority /pose_integrator\u001b[0m\n",
      "\u001b[33m[ WARN] [1703001932.225225921, 4134.094000000]: TF_REPEATED_DATA ignoring data with redundant timestamp for frame odom at time 4134.142000 according to authority /pose_integrator\u001b[0m\n",
      "\u001b[33m[ WARN] [1703001932.358232680, 4134.142000000]: TF_REPEATED_DATA ignoring data with redundant timestamp for frame odom at time 4134.212000 according to authority unknown_publisher\u001b[0m\n",
      "\u001b[33m[ WARN] [1703001932.358732013, 4134.142000000]: TF_REPEATED_DATA ignoring data with redundant timestamp for frame odom at time 4134.212000 according to authority /pose_integrator\u001b[0m\n",
      "\u001b[33m[ WARN] [1703001932.358812576, 4134.142000000]: TF_REPEATED_DATA ignoring data with redundant timestamp for frame odom at time 4134.212000 according to authority /pose_integrator\u001b[0m\n",
      "\u001b[33m[ WARN] [1703001932.358865937, 4134.142000000]: TF_REPEATED_DATA ignoring data with redundant timestamp for frame odom at time 4134.212000 according to authority /pose_integrator\u001b[0m\n",
      "\u001b[33m[ WARN] [1703001932.358912801, 4134.142000000]: TF_REPEATED_DATA ignoring data with redundant timestamp for frame odom at time 4134.212000 according to authority /pose_integrator\u001b[0m\n",
      "\u001b[33m[ WARN] [1703001932.358965511, 4134.142000000]: TF_REPEATED_DATA ignoring data with redundant timestamp for frame odom at time 4134.212000 according to authority /pose_integrator\u001b[0m\n",
      "\u001b[33m[ WARN] [1703001932.359013025, 4134.142000000]: TF_REPEATED_DATA ignoring data with redundant timestamp for frame odom at time 4134.212000 according to authority /pose_integrator\u001b[0m\n",
      "\u001b[33m[ WARN] [1703001932.833657556, 4134.391000000]: TF_REPEATED_DATA ignoring data with redundant timestamp for frame odom at time 4134.446000 according to authority unknown_publisher\u001b[0m\n",
      "\u001b[33m[ WARN] [1703001932.834356991, 4134.391000000]: TF_REPEATED_DATA ignoring data with redundant timestamp for frame odom at time 4134.446000 according to authority /pose_integrator\u001b[0m\n",
      "\u001b[33m[ WARN] [1703001932.834425826, 4134.391000000]: TF_REPEATED_DATA ignoring data with redundant timestamp for frame odom at time 4134.446000 according to authority /pose_integrator\u001b[0m\n",
      "\u001b[33m[ WARN] [1703001932.834482730, 4134.391000000]: TF_REPEATED_DATA ignoring data with redundant timestamp for frame odom at time 4134.446000 according to authority /pose_integrator\u001b[0m\n",
      "\u001b[33m[ WARN] [1703001932.834523088, 4134.391000000]: TF_REPEATED_DATA ignoring data with redundant timestamp for frame odom at time 4134.446000 according to authority /pose_integrator\u001b[0m\n",
      "\u001b[33m[ WARN] [1703001932.834556874, 4134.391000000]: TF_REPEATED_DATA ignoring data with redundant timestamp for frame odom at time 4134.446000 according to authority /pose_integrator\u001b[0m\n",
      "\u001b[33m[ WARN] [1703001932.834588724, 4134.391000000]: TF_REPEATED_DATA ignoring data with redundant timestamp for frame odom at time 4134.446000 according to authority /pose_integrator\u001b[0m\n"
     ]
    },
    {
     "name": "stderr",
     "output_type": "stream",
     "text": [
      "\u001b[33m[ WARN] [1703001933.915618554, 4134.859000000]: TF_REPEATED_DATA ignoring data with redundant timestamp for frame odom at time 4134.894000 according to authority /pose_integrator\u001b[0m\n",
      "\u001b[33m[ WARN] [1703001933.915689585, 4134.859000000]: TF_REPEATED_DATA ignoring data with redundant timestamp for frame odom at time 4134.894000 according to authority /pose_integrator\u001b[0m\n",
      "\u001b[33m[ WARN] [1703001933.915737837, 4134.859000000]: TF_REPEATED_DATA ignoring data with redundant timestamp for frame odom at time 4134.894000 according to authority /pose_integrator\u001b[0m\n",
      "\u001b[33m[ WARN] [1703001933.915784665, 4134.859000000]: TF_REPEATED_DATA ignoring data with redundant timestamp for frame odom at time 4134.894000 according to authority /pose_integrator\u001b[0m\n",
      "\u001b[33m[ WARN] [1703001933.915833142, 4134.859000000]: TF_REPEATED_DATA ignoring data with redundant timestamp for frame odom at time 4134.894000 according to authority /pose_integrator\u001b[0m\n",
      "\u001b[33m[ WARN] [1703001933.915878809, 4134.859000000]: TF_REPEATED_DATA ignoring data with redundant timestamp for frame odom at time 4134.894000 according to authority /pose_integrator\u001b[0m\n",
      "\u001b[33m[ WARN] [1703001933.915933028, 4134.859000000]: TF_REPEATED_DATA ignoring data with redundant timestamp for frame odom at time 4134.894000 according to authority unknown_publisher\u001b[0m\n",
      "\u001b[33m[ WARN] [1703001934.767631250, 4135.280000000]: TF_REPEATED_DATA ignoring data with redundant timestamp for frame odom at time 4135.328000 according to authority /pose_integrator\u001b[0m\n",
      "\u001b[33m[ WARN] [1703001934.767707421, 4135.280000000]: TF_REPEATED_DATA ignoring data with redundant timestamp for frame odom at time 4135.328000 according to authority /pose_integrator\u001b[0m\n",
      "\u001b[33m[ WARN] [1703001934.767754808, 4135.280000000]: TF_REPEATED_DATA ignoring data with redundant timestamp for frame odom at time 4135.328000 according to authority /pose_integrator\u001b[0m\n",
      "\u001b[33m[ WARN] [1703001934.767791998, 4135.280000000]: TF_REPEATED_DATA ignoring data with redundant timestamp for frame odom at time 4135.328000 according to authority /pose_integrator\u001b[0m\n",
      "\u001b[33m[ WARN] [1703001934.767828264, 4135.280000000]: TF_REPEATED_DATA ignoring data with redundant timestamp for frame odom at time 4135.328000 according to authority /pose_integrator\u001b[0m\n",
      "\u001b[33m[ WARN] [1703001934.767870646, 4135.280000000]: TF_REPEATED_DATA ignoring data with redundant timestamp for frame odom at time 4135.328000 according to authority /pose_integrator\u001b[0m\n",
      "\u001b[33m[ WARN] [1703001934.768217732, 4135.280000000]: TF_REPEATED_DATA ignoring data with redundant timestamp for frame odom at time 4135.328000 according to authority unknown_publisher\u001b[0m\n",
      "\u001b[33m[ WARN] [1703001935.205881628, 4135.475000000]: TF_REPEATED_DATA ignoring data with redundant timestamp for frame odom at time 4135.520000 according to authority unknown_publisher\u001b[0m\n",
      "\u001b[33m[ WARN] [1703001935.205966750, 4135.475000000]: TF_REPEATED_DATA ignoring data with redundant timestamp for frame odom at time 4135.520000 according to authority /pose_integrator\u001b[0m\n",
      "\u001b[33m[ WARN] [1703001935.206026702, 4135.475000000]: TF_REPEATED_DATA ignoring data with redundant timestamp for frame odom at time 4135.520000 according to authority /pose_integrator\u001b[0m\n",
      "\u001b[33m[ WARN] [1703001935.206089913, 4135.475000000]: TF_REPEATED_DATA ignoring data with redundant timestamp for frame odom at time 4135.520000 according to authority /pose_integrator\u001b[0m\n",
      "\u001b[33m[ WARN] [1703001935.206143803, 4135.475000000]: TF_REPEATED_DATA ignoring data with redundant timestamp for frame odom at time 4135.520000 according to authority /pose_integrator\u001b[0m\n",
      "\u001b[33m[ WARN] [1703001935.206205488, 4135.475000000]: TF_REPEATED_DATA ignoring data with redundant timestamp for frame odom at time 4135.520000 according to authority /pose_integrator\u001b[0m\n",
      "\u001b[33m[ WARN] [1703001935.206247980, 4135.475000000]: TF_REPEATED_DATA ignoring data with redundant timestamp for frame odom at time 4135.520000 according to authority /pose_integrator\u001b[0m\n",
      "\u001b[33m[ WARN] [1703001935.722746201, 4135.700000000]: TF_REPEATED_DATA ignoring data with redundant timestamp for frame odom at time 4135.740000 according to authority unknown_publisher\u001b[0m\n",
      "\u001b[33m[ WARN] [1703001935.723508129, 4135.700000000]: TF_REPEATED_DATA ignoring data with redundant timestamp for frame odom at time 4135.740000 according to authority /pose_integrator\u001b[0m\n",
      "\u001b[33m[ WARN] [1703001935.723589427, 4135.700000000]: TF_REPEATED_DATA ignoring data with redundant timestamp for frame odom at time 4135.740000 according to authority /pose_integrator\u001b[0m\n",
      "\u001b[33m[ WARN] [1703001935.723649076, 4135.700000000]: TF_REPEATED_DATA ignoring data with redundant timestamp for frame odom at time 4135.740000 according to authority /pose_integrator\u001b[0m\n",
      "\u001b[33m[ WARN] [1703001935.723703394, 4135.700000000]: TF_REPEATED_DATA ignoring data with redundant timestamp for frame odom at time 4135.740000 according to authority /pose_integrator\u001b[0m\n",
      "\u001b[33m[ WARN] [1703001935.723745749, 4135.700000000]: TF_REPEATED_DATA ignoring data with redundant timestamp for frame odom at time 4135.740000 according to authority /pose_integrator\u001b[0m\n",
      "\u001b[33m[ WARN] [1703001935.723784470, 4135.700000000]: TF_REPEATED_DATA ignoring data with redundant timestamp for frame odom at time 4135.740000 according to authority /pose_integrator\u001b[0m\n",
      "\u001b[33m[ WARN] [1703001935.902444265, 4135.793000000]: TF_REPEATED_DATA ignoring data with redundant timestamp for frame odom at time 4135.838000 according to authority unknown_publisher\u001b[0m\n",
      "\u001b[33m[ WARN] [1703001935.903298847, 4135.793000000]: TF_REPEATED_DATA ignoring data with redundant timestamp for frame odom at time 4135.838000 according to authority /pose_integrator\u001b[0m\n",
      "\u001b[33m[ WARN] [1703001935.903360335, 4135.793000000]: TF_REPEATED_DATA ignoring data with redundant timestamp for frame odom at time 4135.838000 according to authority /pose_integrator\u001b[0m\n",
      "\u001b[33m[ WARN] [1703001935.903403318, 4135.793000000]: TF_REPEATED_DATA ignoring data with redundant timestamp for frame odom at time 4135.838000 according to authority /pose_integrator\u001b[0m\n",
      "\u001b[33m[ WARN] [1703001935.903458253, 4135.793000000]: TF_REPEATED_DATA ignoring data with redundant timestamp for frame odom at time 4135.838000 according to authority /pose_integrator\u001b[0m\n",
      "\u001b[33m[ WARN] [1703001935.903510419, 4135.793000000]: TF_REPEATED_DATA ignoring data with redundant timestamp for frame odom at time 4135.838000 according to authority /pose_integrator\u001b[0m\n",
      "\u001b[33m[ WARN] [1703001935.903549974, 4135.793000000]: TF_REPEATED_DATA ignoring data with redundant timestamp for frame odom at time 4135.838000 according to authority /pose_integrator\u001b[0m\n",
      "\u001b[33m[ WARN] [1703001936.431092730, 4136.079000000]: TF_REPEATED_DATA ignoring data with redundant timestamp for frame odom at time 4136.118000 according to authority /pose_integrator\u001b[0m\n",
      "\u001b[33m[ WARN] [1703001936.431160623, 4136.079000000]: TF_REPEATED_DATA ignoring data with redundant timestamp for frame odom at time 4136.118000 according to authority /pose_integrator\u001b[0m\n",
      "\u001b[33m[ WARN] [1703001936.431203314, 4136.079000000]: TF_REPEATED_DATA ignoring data with redundant timestamp for frame odom at time 4136.118000 according to authority /pose_integrator\u001b[0m\n",
      "\u001b[33m[ WARN] [1703001936.431240798, 4136.079000000]: TF_REPEATED_DATA ignoring data with redundant timestamp for frame odom at time 4136.118000 according to authority /pose_integrator\u001b[0m\n",
      "\u001b[33m[ WARN] [1703001936.431286768, 4136.079000000]: TF_REPEATED_DATA ignoring data with redundant timestamp for frame odom at time 4136.118000 according to authority /pose_integrator\u001b[0m\n",
      "\u001b[33m[ WARN] [1703001936.431324181, 4136.079000000]: TF_REPEATED_DATA ignoring data with redundant timestamp for frame odom at time 4136.118000 according to authority /pose_integrator\u001b[0m\n",
      "\u001b[33m[ WARN] [1703001936.431834818, 4136.079000000]: TF_REPEATED_DATA ignoring data with redundant timestamp for frame odom at time 4136.118000 according to authority unknown_publisher\u001b[0m\n",
      "\u001b[33m[ WARN] [1703001937.468914096, 4136.556000000]: TF_REPEATED_DATA ignoring data with redundant timestamp for frame odom at time 4136.591000 according to authority unknown_publisher\u001b[0m\n",
      "\u001b[33m[ WARN] [1703001937.470158125, 4136.556000000]: TF_REPEATED_DATA ignoring data with redundant timestamp for frame odom at time 4136.591000 according to authority /pose_integrator\u001b[0m\n",
      "\u001b[33m[ WARN] [1703001937.470231027, 4136.556000000]: TF_REPEATED_DATA ignoring data with redundant timestamp for frame odom at time 4136.591000 according to authority /pose_integrator\u001b[0m\n",
      "\u001b[33m[ WARN] [1703001937.470288016, 4136.556000000]: TF_REPEATED_DATA ignoring data with redundant timestamp for frame odom at time 4136.591000 according to authority /pose_integrator\u001b[0m\n",
      "\u001b[33m[ WARN] [1703001937.470343230, 4136.556000000]: TF_REPEATED_DATA ignoring data with redundant timestamp for frame odom at time 4136.591000 according to authority /pose_integrator\u001b[0m\n",
      "\u001b[33m[ WARN] [1703001937.470405772, 4136.556000000]: TF_REPEATED_DATA ignoring data with redundant timestamp for frame odom at time 4136.591000 according to authority /pose_integrator\u001b[0m\n",
      "\u001b[33m[ WARN] [1703001937.470457648, 4136.556000000]: TF_REPEATED_DATA ignoring data with redundant timestamp for frame odom at time 4136.591000 according to authority /pose_integrator\u001b[0m\n"
     ]
    },
    {
     "name": "stderr",
     "output_type": "stream",
     "text": [
      "\u001b[33m[ WARN] [1703001937.732177401, 4136.667000000]: TF_REPEATED_DATA ignoring data with redundant timestamp for frame odom at time 4136.701000 according to authority /pose_integrator\u001b[0m\n",
      "\u001b[33m[ WARN] [1703001937.732254551, 4136.667000000]: TF_REPEATED_DATA ignoring data with redundant timestamp for frame odom at time 4136.701000 according to authority /pose_integrator\u001b[0m\n",
      "\u001b[33m[ WARN] [1703001937.732300082, 4136.667000000]: TF_REPEATED_DATA ignoring data with redundant timestamp for frame odom at time 4136.701000 according to authority /pose_integrator\u001b[0m\n",
      "\u001b[33m[ WARN] [1703001937.732342451, 4136.667000000]: TF_REPEATED_DATA ignoring data with redundant timestamp for frame odom at time 4136.701000 according to authority /pose_integrator\u001b[0m\n",
      "\u001b[33m[ WARN] [1703001937.732388131, 4136.667000000]: TF_REPEATED_DATA ignoring data with redundant timestamp for frame odom at time 4136.701000 according to authority /pose_integrator\u001b[0m\n",
      "\u001b[33m[ WARN] [1703001937.732433718, 4136.667000000]: TF_REPEATED_DATA ignoring data with redundant timestamp for frame odom at time 4136.701000 according to authority /pose_integrator\u001b[0m\n",
      "\u001b[33m[ WARN] [1703001937.732680524, 4136.667000000]: TF_REPEATED_DATA ignoring data with redundant timestamp for frame odom at time 4136.701000 according to authority unknown_publisher\u001b[0m\n",
      "\u001b[33m[ WARN] [1703001938.876465499, 4137.151000000]: TF_REPEATED_DATA ignoring data with redundant timestamp for frame odom at time 4137.195000 according to authority /pose_integrator\u001b[0m\n",
      "\u001b[33m[ WARN] [1703001938.876537297, 4137.151000000]: TF_REPEATED_DATA ignoring data with redundant timestamp for frame odom at time 4137.195000 according to authority /pose_integrator\u001b[0m\n",
      "\u001b[33m[ WARN] [1703001938.876577087, 4137.151000000]: TF_REPEATED_DATA ignoring data with redundant timestamp for frame odom at time 4137.195000 according to authority /pose_integrator\u001b[0m\n",
      "\u001b[33m[ WARN] [1703001938.876615903, 4137.151000000]: TF_REPEATED_DATA ignoring data with redundant timestamp for frame odom at time 4137.195000 according to authority /pose_integrator\u001b[0m\n",
      "\u001b[33m[ WARN] [1703001938.876651102, 4137.151000000]: TF_REPEATED_DATA ignoring data with redundant timestamp for frame odom at time 4137.195000 according to authority /pose_integrator\u001b[0m\n",
      "\u001b[33m[ WARN] [1703001938.876700874, 4137.151000000]: TF_REPEATED_DATA ignoring data with redundant timestamp for frame odom at time 4137.195000 according to authority /pose_integrator\u001b[0m\n",
      "\u001b[33m[ WARN] [1703001938.877372638, 4137.151000000]: TF_REPEATED_DATA ignoring data with redundant timestamp for frame odom at time 4137.195000 according to authority unknown_publisher\u001b[0m\n",
      "\u001b[33m[ WARN] [1703001940.482511822, 4137.788000000]: TF_REPEATED_DATA ignoring data with redundant timestamp for frame odom at time 4137.823000 according to authority unknown_publisher\u001b[0m\n",
      "\u001b[33m[ WARN] [1703001940.488615045, 4137.788000000]: TF_REPEATED_DATA ignoring data with redundant timestamp for frame odom at time 4137.823000 according to authority /pose_integrator\u001b[0m\n",
      "\u001b[33m[ WARN] [1703001940.488695875, 4137.788000000]: TF_REPEATED_DATA ignoring data with redundant timestamp for frame odom at time 4137.823000 according to authority /pose_integrator\u001b[0m\n",
      "\u001b[33m[ WARN] [1703001940.488748149, 4137.788000000]: TF_REPEATED_DATA ignoring data with redundant timestamp for frame odom at time 4137.823000 according to authority /pose_integrator\u001b[0m\n",
      "\u001b[33m[ WARN] [1703001940.488785857, 4137.788000000]: TF_REPEATED_DATA ignoring data with redundant timestamp for frame odom at time 4137.823000 according to authority /pose_integrator\u001b[0m\n",
      "\u001b[33m[ WARN] [1703001940.488824281, 4137.788000000]: TF_REPEATED_DATA ignoring data with redundant timestamp for frame odom at time 4137.823000 according to authority /pose_integrator\u001b[0m\n",
      "\u001b[33m[ WARN] [1703001940.488866270, 4137.788000000]: TF_REPEATED_DATA ignoring data with redundant timestamp for frame odom at time 4137.823000 according to authority /pose_integrator\u001b[0m\n",
      "\u001b[33m[ WARN] [1703001940.734736771, 4137.892000000]: TF_REPEATED_DATA ignoring data with redundant timestamp for frame odom at time 4137.947000 according to authority unknown_publisher\u001b[0m\n",
      "\u001b[33m[ WARN] [1703001940.734896978, 4137.892000000]: TF_REPEATED_DATA ignoring data with redundant timestamp for frame odom at time 4137.947000 according to authority /pose_integrator\u001b[0m\n",
      "\u001b[33m[ WARN] [1703001940.734960540, 4137.892000000]: TF_REPEATED_DATA ignoring data with redundant timestamp for frame odom at time 4137.947000 according to authority /pose_integrator\u001b[0m\n",
      "\u001b[33m[ WARN] [1703001940.735006806, 4137.892000000]: TF_REPEATED_DATA ignoring data with redundant timestamp for frame odom at time 4137.947000 according to authority /pose_integrator\u001b[0m\n",
      "\u001b[33m[ WARN] [1703001940.735045692, 4137.892000000]: TF_REPEATED_DATA ignoring data with redundant timestamp for frame odom at time 4137.947000 according to authority /pose_integrator\u001b[0m\n",
      "\u001b[33m[ WARN] [1703001940.735079561, 4137.892000000]: TF_REPEATED_DATA ignoring data with redundant timestamp for frame odom at time 4137.947000 according to authority /pose_integrator\u001b[0m\n",
      "\u001b[33m[ WARN] [1703001940.735120276, 4137.892000000]: TF_REPEATED_DATA ignoring data with redundant timestamp for frame odom at time 4137.947000 according to authority /pose_integrator\u001b[0m\n",
      "\u001b[33m[ WARN] [1703001942.568577871, 4138.613000000]: TF_REPEATED_DATA ignoring data with redundant timestamp for frame odom at time 4138.678000 according to authority unknown_publisher\u001b[0m\n",
      "\u001b[33m[ WARN] [1703001942.569816192, 4138.613000000]: TF_REPEATED_DATA ignoring data with redundant timestamp for frame odom at time 4138.678000 according to authority /pose_integrator\u001b[0m\n",
      "\u001b[33m[ WARN] [1703001942.569893468, 4138.613000000]: TF_REPEATED_DATA ignoring data with redundant timestamp for frame odom at time 4138.678000 according to authority /pose_integrator\u001b[0m\n",
      "\u001b[33m[ WARN] [1703001942.569954589, 4138.613000000]: TF_REPEATED_DATA ignoring data with redundant timestamp for frame odom at time 4138.678000 according to authority /pose_integrator\u001b[0m\n",
      "\u001b[33m[ WARN] [1703001942.570006635, 4138.613000000]: TF_REPEATED_DATA ignoring data with redundant timestamp for frame odom at time 4138.678000 according to authority /pose_integrator\u001b[0m\n",
      "\u001b[33m[ WARN] [1703001942.570055015, 4138.613000000]: TF_REPEATED_DATA ignoring data with redundant timestamp for frame odom at time 4138.678000 according to authority /pose_integrator\u001b[0m\n",
      "\u001b[33m[ WARN] [1703001942.570104905, 4138.613000000]: TF_REPEATED_DATA ignoring data with redundant timestamp for frame odom at time 4138.678000 according to authority /pose_integrator\u001b[0m\n",
      "\u001b[33m[ WARN] [1703001942.856584287, 4138.780000000]: TF_REPEATED_DATA ignoring data with redundant timestamp for frame odom at time 4138.793000 according to authority unknown_publisher\u001b[0m\n",
      "\u001b[33m[ WARN] [1703001942.865693248, 4138.780000000]: TF_REPEATED_DATA ignoring data with redundant timestamp for frame odom at time 4138.793000 according to authority /pose_integrator\u001b[0m\n",
      "\u001b[33m[ WARN] [1703001942.865771050, 4138.780000000]: TF_REPEATED_DATA ignoring data with redundant timestamp for frame odom at time 4138.793000 according to authority /pose_integrator\u001b[0m\n",
      "\u001b[33m[ WARN] [1703001942.865831724, 4138.780000000]: TF_REPEATED_DATA ignoring data with redundant timestamp for frame odom at time 4138.793000 according to authority /pose_integrator\u001b[0m\n",
      "\u001b[33m[ WARN] [1703001942.865874894, 4138.780000000]: TF_REPEATED_DATA ignoring data with redundant timestamp for frame odom at time 4138.793000 according to authority /pose_integrator\u001b[0m\n",
      "\u001b[33m[ WARN] [1703001942.865913296, 4138.780000000]: TF_REPEATED_DATA ignoring data with redundant timestamp for frame odom at time 4138.793000 according to authority /pose_integrator\u001b[0m\n",
      "\u001b[33m[ WARN] [1703001942.865949572, 4138.780000000]: TF_REPEATED_DATA ignoring data with redundant timestamp for frame odom at time 4138.793000 according to authority /pose_integrator\u001b[0m\n",
      "\u001b[33m[ WARN] [1703001943.254612681, 4138.916000000]: TF_REPEATED_DATA ignoring data with redundant timestamp for frame odom at time 4138.960000 according to authority /pose_integrator\u001b[0m\n",
      "\u001b[33m[ WARN] [1703001943.254691199, 4138.916000000]: TF_REPEATED_DATA ignoring data with redundant timestamp for frame odom at time 4138.960000 according to authority /pose_integrator\u001b[0m\n",
      "\u001b[33m[ WARN] [1703001943.254746287, 4138.916000000]: TF_REPEATED_DATA ignoring data with redundant timestamp for frame odom at time 4138.960000 according to authority /pose_integrator\u001b[0m\n",
      "\u001b[33m[ WARN] [1703001943.254795147, 4138.916000000]: TF_REPEATED_DATA ignoring data with redundant timestamp for frame odom at time 4138.960000 according to authority /pose_integrator\u001b[0m\n",
      "\u001b[33m[ WARN] [1703001943.254841673, 4138.916000000]: TF_REPEATED_DATA ignoring data with redundant timestamp for frame odom at time 4138.960000 according to authority /pose_integrator\u001b[0m\n",
      "\u001b[33m[ WARN] [1703001943.254886447, 4138.916000000]: TF_REPEATED_DATA ignoring data with redundant timestamp for frame odom at time 4138.960000 according to authority /pose_integrator\u001b[0m\n",
      "\u001b[33m[ WARN] [1703001943.255227674, 4138.916000000]: TF_REPEATED_DATA ignoring data with redundant timestamp for frame odom at time 4138.960000 according to authority unknown_publisher\u001b[0m\n"
     ]
    },
    {
     "name": "stderr",
     "output_type": "stream",
     "text": [
      "\u001b[33m[ WARN] [1703001944.411572155, 4139.404000000]: TF_REPEATED_DATA ignoring data with redundant timestamp for frame odom at time 4139.430000 according to authority /pose_integrator\u001b[0m\n",
      "\u001b[33m[ WARN] [1703001944.411640281, 4139.404000000]: TF_REPEATED_DATA ignoring data with redundant timestamp for frame odom at time 4139.430000 according to authority /pose_integrator\u001b[0m\n",
      "\u001b[33m[ WARN] [1703001944.411697972, 4139.404000000]: TF_REPEATED_DATA ignoring data with redundant timestamp for frame odom at time 4139.430000 according to authority /pose_integrator\u001b[0m\n",
      "\u001b[33m[ WARN] [1703001944.411750986, 4139.404000000]: TF_REPEATED_DATA ignoring data with redundant timestamp for frame odom at time 4139.430000 according to authority /pose_integrator\u001b[0m\n",
      "\u001b[33m[ WARN] [1703001944.411807533, 4139.404000000]: TF_REPEATED_DATA ignoring data with redundant timestamp for frame odom at time 4139.430000 according to authority /pose_integrator\u001b[0m\n",
      "\u001b[33m[ WARN] [1703001944.411869004, 4139.404000000]: TF_REPEATED_DATA ignoring data with redundant timestamp for frame odom at time 4139.430000 according to authority /pose_integrator\u001b[0m\n",
      "\u001b[33m[ WARN] [1703001944.411973445, 4139.404000000]: TF_REPEATED_DATA ignoring data with redundant timestamp for frame odom at time 4139.430000 according to authority unknown_publisher\u001b[0m\n",
      "\u001b[33m[ WARN] [1703001946.038431291, 4140.134000000]: TF_REPEATED_DATA ignoring data with redundant timestamp for frame odom at time 4140.163000 according to authority unknown_publisher\u001b[0m\n",
      "\u001b[33m[ WARN] [1703001946.039328598, 4140.134000000]: TF_REPEATED_DATA ignoring data with redundant timestamp for frame odom at time 4140.163000 according to authority /pose_integrator\u001b[0m\n",
      "\u001b[33m[ WARN] [1703001946.039393777, 4140.134000000]: TF_REPEATED_DATA ignoring data with redundant timestamp for frame odom at time 4140.163000 according to authority /pose_integrator\u001b[0m\n",
      "\u001b[33m[ WARN] [1703001946.039448669, 4140.134000000]: TF_REPEATED_DATA ignoring data with redundant timestamp for frame odom at time 4140.163000 according to authority /pose_integrator\u001b[0m\n",
      "\u001b[33m[ WARN] [1703001946.039492575, 4140.134000000]: TF_REPEATED_DATA ignoring data with redundant timestamp for frame odom at time 4140.163000 according to authority /pose_integrator\u001b[0m\n",
      "\u001b[33m[ WARN] [1703001946.039522726, 4140.134000000]: TF_REPEATED_DATA ignoring data with redundant timestamp for frame odom at time 4140.163000 according to authority /pose_integrator\u001b[0m\n",
      "\u001b[33m[ WARN] [1703001946.039551816, 4140.134000000]: TF_REPEATED_DATA ignoring data with redundant timestamp for frame odom at time 4140.163000 according to authority /pose_integrator\u001b[0m\n",
      "\u001b[33m[ WARN] [1703001946.473405167, 4140.339000000]: TF_REPEATED_DATA ignoring data with redundant timestamp for frame odom at time 4140.364000 according to authority /pose_integrator\u001b[0m\n",
      "\u001b[33m[ WARN] [1703001946.473472526, 4140.339000000]: TF_REPEATED_DATA ignoring data with redundant timestamp for frame odom at time 4140.364000 according to authority /pose_integrator\u001b[0m\n",
      "\u001b[33m[ WARN] [1703001946.473520904, 4140.339000000]: TF_REPEATED_DATA ignoring data with redundant timestamp for frame odom at time 4140.364000 according to authority /pose_integrator\u001b[0m\n",
      "\u001b[33m[ WARN] [1703001946.473573158, 4140.339000000]: TF_REPEATED_DATA ignoring data with redundant timestamp for frame odom at time 4140.364000 according to authority /pose_integrator\u001b[0m\n",
      "\u001b[33m[ WARN] [1703001946.473633335, 4140.339000000]: TF_REPEATED_DATA ignoring data with redundant timestamp for frame odom at time 4140.364000 according to authority /pose_integrator\u001b[0m\n",
      "\u001b[33m[ WARN] [1703001946.473679058, 4140.339000000]: TF_REPEATED_DATA ignoring data with redundant timestamp for frame odom at time 4140.364000 according to authority /pose_integrator\u001b[0m\n",
      "\u001b[33m[ WARN] [1703001946.473755186, 4140.339000000]: TF_REPEATED_DATA ignoring data with redundant timestamp for frame odom at time 4140.364000 according to authority unknown_publisher\u001b[0m\n",
      "\u001b[33m[ WARN] [1703001947.306402137, 4140.675000000]: TF_REPEATED_DATA ignoring data with redundant timestamp for frame odom at time 4140.699000 according to authority unknown_publisher\u001b[0m\n",
      "\u001b[33m[ WARN] [1703001947.313345399, 4140.699000000]: TF_REPEATED_DATA ignoring data with redundant timestamp for frame odom at time 4140.699000 according to authority /pose_integrator\u001b[0m\n",
      "\u001b[33m[ WARN] [1703001947.313403622, 4140.699000000]: TF_REPEATED_DATA ignoring data with redundant timestamp for frame odom at time 4140.699000 according to authority /pose_integrator\u001b[0m\n",
      "\u001b[33m[ WARN] [1703001947.313445850, 4140.699000000]: TF_REPEATED_DATA ignoring data with redundant timestamp for frame odom at time 4140.699000 according to authority /pose_integrator\u001b[0m\n",
      "\u001b[33m[ WARN] [1703001947.313495402, 4140.699000000]: TF_REPEATED_DATA ignoring data with redundant timestamp for frame odom at time 4140.699000 according to authority /pose_integrator\u001b[0m\n",
      "\u001b[33m[ WARN] [1703001947.313536522, 4140.699000000]: TF_REPEATED_DATA ignoring data with redundant timestamp for frame odom at time 4140.699000 according to authority /pose_integrator\u001b[0m\n",
      "\u001b[33m[ WARN] [1703001947.313575647, 4140.699000000]: TF_REPEATED_DATA ignoring data with redundant timestamp for frame odom at time 4140.699000 according to authority /pose_integrator\u001b[0m\n",
      "\u001b[33m[ WARN] [1703001948.104873342, 4141.051000000]: TF_REPEATED_DATA ignoring data with redundant timestamp for frame odom at time 4141.102000 according to authority unknown_publisher\u001b[0m\n",
      "\u001b[33m[ WARN] [1703001948.105993766, 4141.051000000]: TF_REPEATED_DATA ignoring data with redundant timestamp for frame odom at time 4141.102000 according to authority /pose_integrator\u001b[0m\n",
      "\u001b[33m[ WARN] [1703001948.106065792, 4141.051000000]: TF_REPEATED_DATA ignoring data with redundant timestamp for frame odom at time 4141.102000 according to authority /pose_integrator\u001b[0m\n",
      "\u001b[33m[ WARN] [1703001948.106113824, 4141.051000000]: TF_REPEATED_DATA ignoring data with redundant timestamp for frame odom at time 4141.102000 according to authority /pose_integrator\u001b[0m\n",
      "\u001b[33m[ WARN] [1703001948.106159379, 4141.051000000]: TF_REPEATED_DATA ignoring data with redundant timestamp for frame odom at time 4141.102000 according to authority /pose_integrator\u001b[0m\n",
      "\u001b[33m[ WARN] [1703001948.106203047, 4141.051000000]: TF_REPEATED_DATA ignoring data with redundant timestamp for frame odom at time 4141.102000 according to authority /pose_integrator\u001b[0m\n",
      "\u001b[33m[ WARN] [1703001948.106253577, 4141.051000000]: TF_REPEATED_DATA ignoring data with redundant timestamp for frame odom at time 4141.102000 according to authority /pose_integrator\u001b[0m\n",
      "\u001b[33m[ WARN] [1703001948.438098258, 4141.234000000]: TF_REPEATED_DATA ignoring data with redundant timestamp for frame odom at time 4141.266000 according to authority unknown_publisher\u001b[0m\n",
      "\u001b[33m[ WARN] [1703001948.442876520, 4141.234000000]: TF_REPEATED_DATA ignoring data with redundant timestamp for frame odom at time 4141.266000 according to authority /pose_integrator\u001b[0m\n",
      "\u001b[33m[ WARN] [1703001948.442954697, 4141.234000000]: TF_REPEATED_DATA ignoring data with redundant timestamp for frame odom at time 4141.266000 according to authority /pose_integrator\u001b[0m\n",
      "\u001b[33m[ WARN] [1703001948.443004574, 4141.234000000]: TF_REPEATED_DATA ignoring data with redundant timestamp for frame odom at time 4141.266000 according to authority /pose_integrator\u001b[0m\n",
      "\u001b[33m[ WARN] [1703001948.443051515, 4141.234000000]: TF_REPEATED_DATA ignoring data with redundant timestamp for frame odom at time 4141.266000 according to authority /pose_integrator\u001b[0m\n",
      "\u001b[33m[ WARN] [1703001948.443097272, 4141.234000000]: TF_REPEATED_DATA ignoring data with redundant timestamp for frame odom at time 4141.266000 according to authority /pose_integrator\u001b[0m\n",
      "\u001b[33m[ WARN] [1703001948.443142367, 4141.234000000]: TF_REPEATED_DATA ignoring data with redundant timestamp for frame odom at time 4141.266000 according to authority /pose_integrator\u001b[0m\n",
      "\u001b[33m[ WARN] [1703001949.583223081, 4141.748000000]: TF_REPEATED_DATA ignoring data with redundant timestamp for frame odom at time 4141.782000 according to authority /pose_integrator\u001b[0m\n",
      "\u001b[33m[ WARN] [1703001949.583288213, 4141.748000000]: TF_REPEATED_DATA ignoring data with redundant timestamp for frame odom at time 4141.782000 according to authority /pose_integrator\u001b[0m\n",
      "\u001b[33m[ WARN] [1703001949.583335137, 4141.748000000]: TF_REPEATED_DATA ignoring data with redundant timestamp for frame odom at time 4141.782000 according to authority /pose_integrator\u001b[0m\n",
      "\u001b[33m[ WARN] [1703001949.583381851, 4141.748000000]: TF_REPEATED_DATA ignoring data with redundant timestamp for frame odom at time 4141.782000 according to authority /pose_integrator\u001b[0m\n",
      "\u001b[33m[ WARN] [1703001949.583416058, 4141.748000000]: TF_REPEATED_DATA ignoring data with redundant timestamp for frame odom at time 4141.782000 according to authority /pose_integrator\u001b[0m\n",
      "\u001b[33m[ WARN] [1703001949.583451050, 4141.748000000]: TF_REPEATED_DATA ignoring data with redundant timestamp for frame odom at time 4141.782000 according to authority /pose_integrator\u001b[0m\n",
      "\u001b[33m[ WARN] [1703001949.584057226, 4141.748000000]: TF_REPEATED_DATA ignoring data with redundant timestamp for frame odom at time 4141.782000 according to authority unknown_publisher\u001b[0m\n"
     ]
    },
    {
     "name": "stderr",
     "output_type": "stream",
     "text": [
      "\u001b[33m[ WARN] [1703001949.907142463, 4141.877000000]: TF_REPEATED_DATA ignoring data with redundant timestamp for frame odom at time 4141.924000 according to authority /pose_integrator\u001b[0m\n",
      "\u001b[33m[ WARN] [1703001949.907207586, 4141.877000000]: TF_REPEATED_DATA ignoring data with redundant timestamp for frame odom at time 4141.924000 according to authority unknown_publisher\u001b[0m\n",
      "\u001b[33m[ WARN] [1703001949.908023743, 4141.877000000]: TF_REPEATED_DATA ignoring data with redundant timestamp for frame odom at time 4141.924000 according to authority /pose_integrator\u001b[0m\n",
      "\u001b[33m[ WARN] [1703001949.908097875, 4141.877000000]: TF_REPEATED_DATA ignoring data with redundant timestamp for frame odom at time 4141.924000 according to authority /pose_integrator\u001b[0m\n",
      "\u001b[33m[ WARN] [1703001949.908139776, 4141.877000000]: TF_REPEATED_DATA ignoring data with redundant timestamp for frame odom at time 4141.924000 according to authority /pose_integrator\u001b[0m\n",
      "\u001b[33m[ WARN] [1703001949.908178005, 4141.877000000]: TF_REPEATED_DATA ignoring data with redundant timestamp for frame odom at time 4141.924000 according to authority /pose_integrator\u001b[0m\n",
      "\u001b[33m[ WARN] [1703001949.908217785, 4141.877000000]: TF_REPEATED_DATA ignoring data with redundant timestamp for frame odom at time 4141.924000 according to authority /pose_integrator\u001b[0m\n",
      "\u001b[33m[ WARN] [1703001951.122672294, 4142.418000000]: TF_REPEATED_DATA ignoring data with redundant timestamp for frame odom at time 4142.471000 according to authority unknown_publisher\u001b[0m\n",
      "\u001b[33m[ WARN] [1703001951.122826904, 4142.418000000]: TF_REPEATED_DATA ignoring data with redundant timestamp for frame odom at time 4142.471000 according to authority /pose_integrator\u001b[0m\n",
      "\u001b[33m[ WARN] [1703001951.122887063, 4142.418000000]: TF_REPEATED_DATA ignoring data with redundant timestamp for frame odom at time 4142.471000 according to authority /pose_integrator\u001b[0m\n",
      "\u001b[33m[ WARN] [1703001951.122958274, 4142.418000000]: TF_REPEATED_DATA ignoring data with redundant timestamp for frame odom at time 4142.471000 according to authority /pose_integrator\u001b[0m\n",
      "\u001b[33m[ WARN] [1703001951.123013410, 4142.418000000]: TF_REPEATED_DATA ignoring data with redundant timestamp for frame odom at time 4142.471000 according to authority /pose_integrator\u001b[0m\n",
      "\u001b[33m[ WARN] [1703001951.123063969, 4142.418000000]: TF_REPEATED_DATA ignoring data with redundant timestamp for frame odom at time 4142.471000 according to authority /pose_integrator\u001b[0m\n",
      "\u001b[33m[ WARN] [1703001951.123108080, 4142.418000000]: TF_REPEATED_DATA ignoring data with redundant timestamp for frame odom at time 4142.471000 according to authority /pose_integrator\u001b[0m\n",
      "\u001b[33m[ WARN] [1703001951.282329009, 4142.516000000]: TF_REPEATED_DATA ignoring data with redundant timestamp for frame odom at time 4142.542000 according to authority unknown_publisher\u001b[0m\n",
      "\u001b[33m[ WARN] [1703001951.290207149, 4142.516000000]: TF_REPEATED_DATA ignoring data with redundant timestamp for frame odom at time 4142.542000 according to authority /pose_integrator\u001b[0m\n",
      "\u001b[33m[ WARN] [1703001951.290280457, 4142.516000000]: TF_REPEATED_DATA ignoring data with redundant timestamp for frame odom at time 4142.542000 according to authority /pose_integrator\u001b[0m\n",
      "\u001b[33m[ WARN] [1703001951.290336952, 4142.516000000]: TF_REPEATED_DATA ignoring data with redundant timestamp for frame odom at time 4142.542000 according to authority /pose_integrator\u001b[0m\n",
      "\u001b[33m[ WARN] [1703001951.290392278, 4142.516000000]: TF_REPEATED_DATA ignoring data with redundant timestamp for frame odom at time 4142.542000 according to authority /pose_integrator\u001b[0m\n",
      "\u001b[33m[ WARN] [1703001951.290446361, 4142.516000000]: TF_REPEATED_DATA ignoring data with redundant timestamp for frame odom at time 4142.542000 according to authority /pose_integrator\u001b[0m\n",
      "\u001b[33m[ WARN] [1703001951.290501209, 4142.516000000]: TF_REPEATED_DATA ignoring data with redundant timestamp for frame odom at time 4142.542000 according to authority /pose_integrator\u001b[0m\n",
      "\u001b[33m[ WARN] [1703001951.777254007, 4142.715000000]: TF_REPEATED_DATA ignoring data with redundant timestamp for frame odom at time 4142.775000 according to authority unknown_publisher\u001b[0m\n",
      "\u001b[33m[ WARN] [1703001951.777357706, 4142.715000000]: TF_REPEATED_DATA ignoring data with redundant timestamp for frame odom at time 4142.775000 according to authority /pose_integrator\u001b[0m\n",
      "\u001b[33m[ WARN] [1703001951.777419950, 4142.715000000]: TF_REPEATED_DATA ignoring data with redundant timestamp for frame odom at time 4142.775000 according to authority /pose_integrator\u001b[0m\n",
      "\u001b[33m[ WARN] [1703001951.777465137, 4142.715000000]: TF_REPEATED_DATA ignoring data with redundant timestamp for frame odom at time 4142.775000 according to authority /pose_integrator\u001b[0m\n",
      "\u001b[33m[ WARN] [1703001951.777505173, 4142.715000000]: TF_REPEATED_DATA ignoring data with redundant timestamp for frame odom at time 4142.775000 according to authority /pose_integrator\u001b[0m\n",
      "\u001b[33m[ WARN] [1703001951.777549408, 4142.715000000]: TF_REPEATED_DATA ignoring data with redundant timestamp for frame odom at time 4142.775000 according to authority /pose_integrator\u001b[0m\n",
      "\u001b[33m[ WARN] [1703001951.777593141, 4142.715000000]: TF_REPEATED_DATA ignoring data with redundant timestamp for frame odom at time 4142.775000 according to authority /pose_integrator\u001b[0m\n",
      "\u001b[33m[ WARN] [1703001952.356404725, 4142.975000000]: TF_REPEATED_DATA ignoring data with redundant timestamp for frame odom at time 4143.025000 according to authority unknown_publisher\u001b[0m\n",
      "\u001b[33m[ WARN] [1703001952.356513862, 4142.975000000]: TF_REPEATED_DATA ignoring data with redundant timestamp for frame odom at time 4143.025000 according to authority /pose_integrator\u001b[0m\n",
      "\u001b[33m[ WARN] [1703001952.356572171, 4142.975000000]: TF_REPEATED_DATA ignoring data with redundant timestamp for frame odom at time 4143.025000 according to authority /pose_integrator\u001b[0m\n",
      "\u001b[33m[ WARN] [1703001952.356625173, 4142.975000000]: TF_REPEATED_DATA ignoring data with redundant timestamp for frame odom at time 4143.025000 according to authority /pose_integrator\u001b[0m\n",
      "\u001b[33m[ WARN] [1703001952.356680818, 4142.975000000]: TF_REPEATED_DATA ignoring data with redundant timestamp for frame odom at time 4143.025000 according to authority /pose_integrator\u001b[0m\n",
      "\u001b[33m[ WARN] [1703001952.356732808, 4142.975000000]: TF_REPEATED_DATA ignoring data with redundant timestamp for frame odom at time 4143.025000 according to authority /pose_integrator\u001b[0m\n",
      "\u001b[33m[ WARN] [1703001952.356775746, 4142.975000000]: TF_REPEATED_DATA ignoring data with redundant timestamp for frame odom at time 4143.025000 according to authority /pose_integrator\u001b[0m\n",
      "\u001b[33m[ WARN] [1703001952.537234442, 4143.067000000]: TF_REPEATED_DATA ignoring data with redundant timestamp for frame odom at time 4143.116000 according to authority unknown_publisher\u001b[0m\n",
      "\u001b[33m[ WARN] [1703001952.539823782, 4143.067000000]: TF_REPEATED_DATA ignoring data with redundant timestamp for frame odom at time 4143.116000 according to authority /pose_integrator\u001b[0m\n",
      "\u001b[33m[ WARN] [1703001952.539903206, 4143.067000000]: TF_REPEATED_DATA ignoring data with redundant timestamp for frame odom at time 4143.116000 according to authority /pose_integrator\u001b[0m\n",
      "\u001b[33m[ WARN] [1703001952.539965669, 4143.067000000]: TF_REPEATED_DATA ignoring data with redundant timestamp for frame odom at time 4143.116000 according to authority /pose_integrator\u001b[0m\n",
      "\u001b[33m[ WARN] [1703001952.540023363, 4143.067000000]: TF_REPEATED_DATA ignoring data with redundant timestamp for frame odom at time 4143.116000 according to authority /pose_integrator\u001b[0m\n",
      "\u001b[33m[ WARN] [1703001952.540078547, 4143.067000000]: TF_REPEATED_DATA ignoring data with redundant timestamp for frame odom at time 4143.116000 according to authority /pose_integrator\u001b[0m\n",
      "\u001b[33m[ WARN] [1703001952.540129296, 4143.067000000]: TF_REPEATED_DATA ignoring data with redundant timestamp for frame odom at time 4143.116000 according to authority /pose_integrator\u001b[0m\n",
      "\u001b[33m[ WARN] [1703001952.711563987, 4143.172000000]: TF_REPEATED_DATA ignoring data with redundant timestamp for frame odom at time 4143.193000 according to authority unknown_publisher\u001b[0m\n",
      "\u001b[33m[ WARN] [1703001952.712803118, 4143.172000000]: TF_REPEATED_DATA ignoring data with redundant timestamp for frame odom at time 4143.193000 according to authority /pose_integrator\u001b[0m\n",
      "\u001b[33m[ WARN] [1703001952.712881944, 4143.172000000]: TF_REPEATED_DATA ignoring data with redundant timestamp for frame odom at time 4143.193000 according to authority /pose_integrator\u001b[0m\n",
      "\u001b[33m[ WARN] [1703001952.712939036, 4143.172000000]: TF_REPEATED_DATA ignoring data with redundant timestamp for frame odom at time 4143.193000 according to authority /pose_integrator\u001b[0m\n",
      "\u001b[33m[ WARN] [1703001952.712993205, 4143.172000000]: TF_REPEATED_DATA ignoring data with redundant timestamp for frame odom at time 4143.193000 according to authority /pose_integrator\u001b[0m\n",
      "\u001b[33m[ WARN] [1703001952.713046801, 4143.172000000]: TF_REPEATED_DATA ignoring data with redundant timestamp for frame odom at time 4143.193000 according to authority /pose_integrator\u001b[0m\n",
      "\u001b[33m[ WARN] [1703001952.713115232, 4143.172000000]: TF_REPEATED_DATA ignoring data with redundant timestamp for frame odom at time 4143.193000 according to authority /pose_integrator\u001b[0m\n"
     ]
    },
    {
     "name": "stderr",
     "output_type": "stream",
     "text": [
      "\u001b[33m[ WARN] [1703001953.255731110, 4143.406000000]: TF_REPEATED_DATA ignoring data with redundant timestamp for frame odom at time 4143.442000 according to authority unknown_publisher\u001b[0m\n",
      "\u001b[33m[ WARN] [1703001953.256710841, 4143.406000000]: TF_REPEATED_DATA ignoring data with redundant timestamp for frame odom at time 4143.442000 according to authority /pose_integrator\u001b[0m\n",
      "\u001b[33m[ WARN] [1703001953.256789966, 4143.406000000]: TF_REPEATED_DATA ignoring data with redundant timestamp for frame odom at time 4143.442000 according to authority /pose_integrator\u001b[0m\n",
      "\u001b[33m[ WARN] [1703001953.256847383, 4143.406000000]: TF_REPEATED_DATA ignoring data with redundant timestamp for frame odom at time 4143.442000 according to authority /pose_integrator\u001b[0m\n",
      "\u001b[33m[ WARN] [1703001953.256904090, 4143.406000000]: TF_REPEATED_DATA ignoring data with redundant timestamp for frame odom at time 4143.442000 according to authority /pose_integrator\u001b[0m\n",
      "\u001b[33m[ WARN] [1703001953.256956153, 4143.406000000]: TF_REPEATED_DATA ignoring data with redundant timestamp for frame odom at time 4143.442000 according to authority /pose_integrator\u001b[0m\n",
      "\u001b[33m[ WARN] [1703001953.257005298, 4143.406000000]: TF_REPEATED_DATA ignoring data with redundant timestamp for frame odom at time 4143.442000 according to authority /pose_integrator\u001b[0m\n",
      "\u001b[33m[ WARN] [1703001954.520690118, 4143.907000000]: TF_REPEATED_DATA ignoring data with redundant timestamp for frame odom at time 4143.982000 according to authority /pose_integrator\u001b[0m\n",
      "\u001b[33m[ WARN] [1703001954.520757692, 4143.907000000]: TF_REPEATED_DATA ignoring data with redundant timestamp for frame odom at time 4143.982000 according to authority /pose_integrator\u001b[0m\n",
      "\u001b[33m[ WARN] [1703001954.520802529, 4143.907000000]: TF_REPEATED_DATA ignoring data with redundant timestamp for frame odom at time 4143.982000 according to authority /pose_integrator\u001b[0m\n",
      "\u001b[33m[ WARN] [1703001954.520850421, 4143.907000000]: TF_REPEATED_DATA ignoring data with redundant timestamp for frame odom at time 4143.982000 according to authority /pose_integrator\u001b[0m\n",
      "\u001b[33m[ WARN] [1703001954.520886831, 4143.907000000]: TF_REPEATED_DATA ignoring data with redundant timestamp for frame odom at time 4143.982000 according to authority /pose_integrator\u001b[0m\n",
      "\u001b[33m[ WARN] [1703001954.520925781, 4143.907000000]: TF_REPEATED_DATA ignoring data with redundant timestamp for frame odom at time 4143.982000 according to authority /pose_integrator\u001b[0m\n",
      "\u001b[33m[ WARN] [1703001954.521953311, 4143.907000000]: TF_REPEATED_DATA ignoring data with redundant timestamp for frame odom at time 4143.982000 according to authority unknown_publisher\u001b[0m\n",
      "\u001b[33m[ WARN] [1703001954.991391053, 4144.156000000]: TF_REPEATED_DATA ignoring data with redundant timestamp for frame odom at time 4144.190000 according to authority unknown_publisher\u001b[0m\n",
      "\u001b[33m[ WARN] [1703001954.991492408, 4144.156000000]: TF_REPEATED_DATA ignoring data with redundant timestamp for frame odom at time 4144.190000 according to authority /pose_integrator\u001b[0m\n",
      "\u001b[33m[ WARN] [1703001954.991571597, 4144.156000000]: TF_REPEATED_DATA ignoring data with redundant timestamp for frame odom at time 4144.190000 according to authority /pose_integrator\u001b[0m\n",
      "\u001b[33m[ WARN] [1703001954.991630664, 4144.156000000]: TF_REPEATED_DATA ignoring data with redundant timestamp for frame odom at time 4144.190000 according to authority /pose_integrator\u001b[0m\n",
      "\u001b[33m[ WARN] [1703001954.991676471, 4144.156000000]: TF_REPEATED_DATA ignoring data with redundant timestamp for frame odom at time 4144.190000 according to authority /pose_integrator\u001b[0m\n",
      "\u001b[33m[ WARN] [1703001954.991742432, 4144.156000000]: TF_REPEATED_DATA ignoring data with redundant timestamp for frame odom at time 4144.190000 according to authority /pose_integrator\u001b[0m\n",
      "\u001b[33m[ WARN] [1703001954.991795366, 4144.156000000]: TF_REPEATED_DATA ignoring data with redundant timestamp for frame odom at time 4144.190000 according to authority /pose_integrator\u001b[0m\n",
      "\u001b[33m[ WARN] [1703001955.352189727, 4144.325000000]: TF_REPEATED_DATA ignoring data with redundant timestamp for frame odom at time 4144.384000 according to authority /pose_integrator\u001b[0m\n",
      "\u001b[33m[ WARN] [1703001955.352272136, 4144.325000000]: TF_REPEATED_DATA ignoring data with redundant timestamp for frame odom at time 4144.384000 according to authority /pose_integrator\u001b[0m\n",
      "\u001b[33m[ WARN] [1703001955.352317572, 4144.325000000]: TF_REPEATED_DATA ignoring data with redundant timestamp for frame odom at time 4144.384000 according to authority /pose_integrator\u001b[0m\n",
      "\u001b[33m[ WARN] [1703001955.352369671, 4144.325000000]: TF_REPEATED_DATA ignoring data with redundant timestamp for frame odom at time 4144.384000 according to authority /pose_integrator\u001b[0m\n",
      "\u001b[33m[ WARN] [1703001955.352418435, 4144.325000000]: TF_REPEATED_DATA ignoring data with redundant timestamp for frame odom at time 4144.384000 according to authority /pose_integrator\u001b[0m\n",
      "\u001b[33m[ WARN] [1703001955.352465650, 4144.325000000]: TF_REPEATED_DATA ignoring data with redundant timestamp for frame odom at time 4144.384000 according to authority /pose_integrator\u001b[0m\n",
      "\u001b[33m[ WARN] [1703001955.353166639, 4144.325000000]: TF_REPEATED_DATA ignoring data with redundant timestamp for frame odom at time 4144.384000 according to authority unknown_publisher\u001b[0m\n",
      "\u001b[33m[ WARN] [1703001955.456882394, 4144.384000000]: TF_REPEATED_DATA ignoring data with redundant timestamp for frame odom at time 4144.429000 according to authority /pose_integrator\u001b[0m\n",
      "\u001b[33m[ WARN] [1703001955.456951371, 4144.384000000]: TF_REPEATED_DATA ignoring data with redundant timestamp for frame odom at time 4144.429000 according to authority /pose_integrator\u001b[0m\n",
      "\u001b[33m[ WARN] [1703001955.457010320, 4144.384000000]: TF_REPEATED_DATA ignoring data with redundant timestamp for frame odom at time 4144.429000 according to authority /pose_integrator\u001b[0m\n",
      "\u001b[33m[ WARN] [1703001955.457053332, 4144.384000000]: TF_REPEATED_DATA ignoring data with redundant timestamp for frame odom at time 4144.429000 according to authority /pose_integrator\u001b[0m\n",
      "\u001b[33m[ WARN] [1703001955.457103314, 4144.384000000]: TF_REPEATED_DATA ignoring data with redundant timestamp for frame odom at time 4144.429000 according to authority /pose_integrator\u001b[0m\n",
      "\u001b[33m[ WARN] [1703001955.457152439, 4144.384000000]: TF_REPEATED_DATA ignoring data with redundant timestamp for frame odom at time 4144.429000 according to authority /pose_integrator\u001b[0m\n",
      "\u001b[33m[ WARN] [1703001955.457884429, 4144.384000000]: TF_REPEATED_DATA ignoring data with redundant timestamp for frame odom at time 4144.429000 according to authority unknown_publisher\u001b[0m\n",
      "\u001b[33m[ WARN] [1703001955.910006367, 4144.604000000]: TF_REPEATED_DATA ignoring data with redundant timestamp for frame odom at time 4144.656000 according to authority unknown_publisher\u001b[0m\n",
      "\u001b[33m[ WARN] [1703001955.911639853, 4144.604000000]: TF_REPEATED_DATA ignoring data with redundant timestamp for frame odom at time 4144.656000 according to authority /pose_integrator\u001b[0m\n",
      "\u001b[33m[ WARN] [1703001955.911717250, 4144.604000000]: TF_REPEATED_DATA ignoring data with redundant timestamp for frame odom at time 4144.656000 according to authority /pose_integrator\u001b[0m\n",
      "\u001b[33m[ WARN] [1703001955.911773819, 4144.604000000]: TF_REPEATED_DATA ignoring data with redundant timestamp for frame odom at time 4144.656000 according to authority /pose_integrator\u001b[0m\n",
      "\u001b[33m[ WARN] [1703001955.911817701, 4144.604000000]: TF_REPEATED_DATA ignoring data with redundant timestamp for frame odom at time 4144.656000 according to authority /pose_integrator\u001b[0m\n",
      "\u001b[33m[ WARN] [1703001955.911861388, 4144.604000000]: TF_REPEATED_DATA ignoring data with redundant timestamp for frame odom at time 4144.656000 according to authority /pose_integrator\u001b[0m\n",
      "\u001b[33m[ WARN] [1703001955.911907340, 4144.604000000]: TF_REPEATED_DATA ignoring data with redundant timestamp for frame odom at time 4144.656000 according to authority /pose_integrator\u001b[0m\n",
      "\u001b[33m[ WARN] [1703001956.070231892, 4144.700000000]: TF_REPEATED_DATA ignoring data with redundant timestamp for frame odom at time 4144.755000 according to authority unknown_publisher\u001b[0m\n",
      "\u001b[33m[ WARN] [1703001956.070486386, 4144.700000000]: TF_REPEATED_DATA ignoring data with redundant timestamp for frame odom at time 4144.755000 according to authority /pose_integrator\u001b[0m\n",
      "\u001b[33m[ WARN] [1703001956.070552619, 4144.700000000]: TF_REPEATED_DATA ignoring data with redundant timestamp for frame odom at time 4144.755000 according to authority /pose_integrator\u001b[0m\n",
      "\u001b[33m[ WARN] [1703001956.070609831, 4144.700000000]: TF_REPEATED_DATA ignoring data with redundant timestamp for frame odom at time 4144.755000 according to authority /pose_integrator\u001b[0m\n",
      "\u001b[33m[ WARN] [1703001956.070653460, 4144.700000000]: TF_REPEATED_DATA ignoring data with redundant timestamp for frame odom at time 4144.755000 according to authority /pose_integrator\u001b[0m\n",
      "\u001b[33m[ WARN] [1703001956.070709351, 4144.700000000]: TF_REPEATED_DATA ignoring data with redundant timestamp for frame odom at time 4144.755000 according to authority /pose_integrator\u001b[0m\n",
      "\u001b[33m[ WARN] [1703001956.070759410, 4144.700000000]: TF_REPEATED_DATA ignoring data with redundant timestamp for frame odom at time 4144.755000 according to authority /pose_integrator\u001b[0m\n"
     ]
    },
    {
     "name": "stderr",
     "output_type": "stream",
     "text": [
      "\u001b[33m[ WARN] [1703001956.273852023, 4144.803000000]: TF_REPEATED_DATA ignoring data with redundant timestamp for frame odom at time 4144.836000 according to authority /pose_integrator\u001b[0m\n",
      "\u001b[33m[ WARN] [1703001956.273932911, 4144.803000000]: TF_REPEATED_DATA ignoring data with redundant timestamp for frame odom at time 4144.836000 according to authority /pose_integrator\u001b[0m\n",
      "\u001b[33m[ WARN] [1703001956.273986364, 4144.803000000]: TF_REPEATED_DATA ignoring data with redundant timestamp for frame odom at time 4144.836000 according to authority /pose_integrator\u001b[0m\n",
      "\u001b[33m[ WARN] [1703001956.274032094, 4144.803000000]: TF_REPEATED_DATA ignoring data with redundant timestamp for frame odom at time 4144.836000 according to authority /pose_integrator\u001b[0m\n",
      "\u001b[33m[ WARN] [1703001956.274084135, 4144.803000000]: TF_REPEATED_DATA ignoring data with redundant timestamp for frame odom at time 4144.836000 according to authority /pose_integrator\u001b[0m\n",
      "\u001b[33m[ WARN] [1703001956.274130829, 4144.803000000]: TF_REPEATED_DATA ignoring data with redundant timestamp for frame odom at time 4144.836000 according to authority /pose_integrator\u001b[0m\n",
      "\u001b[33m[ WARN] [1703001956.274965088, 4144.803000000]: TF_REPEATED_DATA ignoring data with redundant timestamp for frame odom at time 4144.836000 according to authority unknown_publisher\u001b[0m\n",
      "\u001b[33m[ WARN] [1703001956.622370031, 4144.948000000]: TF_REPEATED_DATA ignoring data with redundant timestamp for frame odom at time 4144.999000 according to authority unknown_publisher\u001b[0m\n",
      "\u001b[33m[ WARN] [1703001956.622565884, 4144.948000000]: TF_REPEATED_DATA ignoring data with redundant timestamp for frame odom at time 4144.999000 according to authority /pose_integrator\u001b[0m\n",
      "\u001b[33m[ WARN] [1703001956.622636966, 4144.948000000]: TF_REPEATED_DATA ignoring data with redundant timestamp for frame odom at time 4144.999000 according to authority /pose_integrator\u001b[0m\n",
      "\u001b[33m[ WARN] [1703001956.622698007, 4144.948000000]: TF_REPEATED_DATA ignoring data with redundant timestamp for frame odom at time 4144.999000 according to authority /pose_integrator\u001b[0m\n",
      "\u001b[33m[ WARN] [1703001956.622752559, 4144.948000000]: TF_REPEATED_DATA ignoring data with redundant timestamp for frame odom at time 4144.999000 according to authority /pose_integrator\u001b[0m\n",
      "\u001b[33m[ WARN] [1703001956.622804664, 4144.948000000]: TF_REPEATED_DATA ignoring data with redundant timestamp for frame odom at time 4144.999000 according to authority /pose_integrator\u001b[0m\n",
      "\u001b[33m[ WARN] [1703001956.622863214, 4144.948000000]: TF_REPEATED_DATA ignoring data with redundant timestamp for frame odom at time 4144.999000 according to authority /pose_integrator\u001b[0m\n",
      "\u001b[33m[ WARN] [1703001956.934572498, 4145.091000000]: TF_REPEATED_DATA ignoring data with redundant timestamp for frame odom at time 4145.150000 according to authority unknown_publisher\u001b[0m\n",
      "\u001b[33m[ WARN] [1703001956.934766687, 4145.091000000]: TF_REPEATED_DATA ignoring data with redundant timestamp for frame odom at time 4145.150000 according to authority /pose_integrator\u001b[0m\n",
      "\u001b[33m[ WARN] [1703001956.934827495, 4145.091000000]: TF_REPEATED_DATA ignoring data with redundant timestamp for frame odom at time 4145.150000 according to authority /pose_integrator\u001b[0m\n",
      "\u001b[33m[ WARN] [1703001956.934883889, 4145.091000000]: TF_REPEATED_DATA ignoring data with redundant timestamp for frame odom at time 4145.150000 according to authority /pose_integrator\u001b[0m\n",
      "\u001b[33m[ WARN] [1703001956.934941222, 4145.091000000]: TF_REPEATED_DATA ignoring data with redundant timestamp for frame odom at time 4145.150000 according to authority /pose_integrator\u001b[0m\n",
      "\u001b[33m[ WARN] [1703001956.934993661, 4145.091000000]: TF_REPEATED_DATA ignoring data with redundant timestamp for frame odom at time 4145.150000 according to authority /pose_integrator\u001b[0m\n",
      "\u001b[33m[ WARN] [1703001956.935183645, 4145.091000000]: TF_REPEATED_DATA ignoring data with redundant timestamp for frame odom at time 4145.150000 according to authority /pose_integrator\u001b[0m\n",
      "\u001b[33m[ WARN] [1703001957.112956556, 4145.204000000]: TF_REPEATED_DATA ignoring data with redundant timestamp for frame odom at time 4145.241000 according to authority /pose_integrator\u001b[0m\n",
      "\u001b[33m[ WARN] [1703001957.113028724, 4145.204000000]: TF_REPEATED_DATA ignoring data with redundant timestamp for frame odom at time 4145.241000 according to authority /pose_integrator\u001b[0m\n",
      "\u001b[33m[ WARN] [1703001957.113094691, 4145.204000000]: TF_REPEATED_DATA ignoring data with redundant timestamp for frame odom at time 4145.241000 according to authority /pose_integrator\u001b[0m\n",
      "\u001b[33m[ WARN] [1703001957.113148210, 4145.204000000]: TF_REPEATED_DATA ignoring data with redundant timestamp for frame odom at time 4145.241000 according to authority /pose_integrator\u001b[0m\n",
      "\u001b[33m[ WARN] [1703001957.113192526, 4145.204000000]: TF_REPEATED_DATA ignoring data with redundant timestamp for frame odom at time 4145.241000 according to authority /pose_integrator\u001b[0m\n",
      "\u001b[33m[ WARN] [1703001957.113236454, 4145.204000000]: TF_REPEATED_DATA ignoring data with redundant timestamp for frame odom at time 4145.241000 according to authority /pose_integrator\u001b[0m\n",
      "\u001b[33m[ WARN] [1703001957.113840771, 4145.204000000]: TF_REPEATED_DATA ignoring data with redundant timestamp for frame odom at time 4145.241000 according to authority unknown_publisher\u001b[0m\n",
      "\u001b[33m[ WARN] [1703001957.860063081, 4145.560000000]: TF_REPEATED_DATA ignoring data with redundant timestamp for frame odom at time 4145.591000 according to authority unknown_publisher\u001b[0m\n",
      "\u001b[33m[ WARN] [1703001957.860172950, 4145.560000000]: TF_REPEATED_DATA ignoring data with redundant timestamp for frame odom at time 4145.591000 according to authority /pose_integrator\u001b[0m\n",
      "\u001b[33m[ WARN] [1703001957.860246466, 4145.560000000]: TF_REPEATED_DATA ignoring data with redundant timestamp for frame odom at time 4145.591000 according to authority /pose_integrator\u001b[0m\n",
      "\u001b[33m[ WARN] [1703001957.860291811, 4145.560000000]: TF_REPEATED_DATA ignoring data with redundant timestamp for frame odom at time 4145.591000 according to authority /pose_integrator\u001b[0m\n",
      "\u001b[33m[ WARN] [1703001957.860333443, 4145.560000000]: TF_REPEATED_DATA ignoring data with redundant timestamp for frame odom at time 4145.591000 according to authority /pose_integrator\u001b[0m\n",
      "\u001b[33m[ WARN] [1703001957.860367405, 4145.560000000]: TF_REPEATED_DATA ignoring data with redundant timestamp for frame odom at time 4145.591000 according to authority /pose_integrator\u001b[0m\n",
      "\u001b[33m[ WARN] [1703001957.860406237, 4145.560000000]: TF_REPEATED_DATA ignoring data with redundant timestamp for frame odom at time 4145.591000 according to authority /pose_integrator\u001b[0m\n",
      "\u001b[33m[ WARN] [1703001958.420835760, 4145.843000000]: TF_REPEATED_DATA ignoring data with redundant timestamp for frame odom at time 4145.881000 according to authority /pose_integrator\u001b[0m\n",
      "\u001b[33m[ WARN] [1703001958.420918209, 4145.843000000]: TF_REPEATED_DATA ignoring data with redundant timestamp for frame odom at time 4145.881000 according to authority unknown_publisher\u001b[0m\n",
      "\u001b[33m[ WARN] [1703001958.420967749, 4145.843000000]: TF_REPEATED_DATA ignoring data with redundant timestamp for frame odom at time 4145.881000 according to authority /pose_integrator\u001b[0m\n",
      "\u001b[33m[ WARN] [1703001958.421035424, 4145.843000000]: TF_REPEATED_DATA ignoring data with redundant timestamp for frame odom at time 4145.881000 according to authority /pose_integrator\u001b[0m\n",
      "\u001b[33m[ WARN] [1703001958.421092844, 4145.843000000]: TF_REPEATED_DATA ignoring data with redundant timestamp for frame odom at time 4145.881000 according to authority /pose_integrator\u001b[0m\n",
      "\u001b[33m[ WARN] [1703001958.421147342, 4145.843000000]: TF_REPEATED_DATA ignoring data with redundant timestamp for frame odom at time 4145.881000 according to authority /pose_integrator\u001b[0m\n",
      "\u001b[33m[ WARN] [1703001958.421200384, 4145.843000000]: TF_REPEATED_DATA ignoring data with redundant timestamp for frame odom at time 4145.881000 according to authority /pose_integrator\u001b[0m\n",
      "\u001b[33m[ WARN] [1703001958.869747769, 4146.025000000]: TF_REPEATED_DATA ignoring data with redundant timestamp for frame odom at time 4146.061000 according to authority /pose_integrator\u001b[0m\n",
      "\u001b[33m[ WARN] [1703001958.869812473, 4146.025000000]: TF_REPEATED_DATA ignoring data with redundant timestamp for frame odom at time 4146.061000 according to authority /pose_integrator\u001b[0m\n",
      "\u001b[33m[ WARN] [1703001958.869856650, 4146.025000000]: TF_REPEATED_DATA ignoring data with redundant timestamp for frame odom at time 4146.061000 according to authority /pose_integrator\u001b[0m\n",
      "\u001b[33m[ WARN] [1703001958.869899043, 4146.025000000]: TF_REPEATED_DATA ignoring data with redundant timestamp for frame odom at time 4146.061000 according to authority /pose_integrator\u001b[0m\n",
      "\u001b[33m[ WARN] [1703001958.869941132, 4146.025000000]: TF_REPEATED_DATA ignoring data with redundant timestamp for frame odom at time 4146.061000 according to authority /pose_integrator\u001b[0m\n",
      "\u001b[33m[ WARN] [1703001958.869982454, 4146.025000000]: TF_REPEATED_DATA ignoring data with redundant timestamp for frame odom at time 4146.061000 according to authority /pose_integrator\u001b[0m\n",
      "\u001b[33m[ WARN] [1703001958.870104357, 4146.025000000]: TF_REPEATED_DATA ignoring data with redundant timestamp for frame odom at time 4146.061000 according to authority unknown_publisher\u001b[0m\n"
     ]
    },
    {
     "name": "stderr",
     "output_type": "stream",
     "text": [
      "\u001b[33m[ WARN] [1703001959.897632388, 4146.515000000]: TF_REPEATED_DATA ignoring data with redundant timestamp for frame odom at time 4146.551000 according to authority unknown_publisher\u001b[0m\n",
      "\u001b[33m[ WARN] [1703001959.897828417, 4146.515000000]: TF_REPEATED_DATA ignoring data with redundant timestamp for frame odom at time 4146.551000 according to authority /pose_integrator\u001b[0m\n",
      "\u001b[33m[ WARN] [1703001959.897901487, 4146.515000000]: TF_REPEATED_DATA ignoring data with redundant timestamp for frame odom at time 4146.551000 according to authority /pose_integrator\u001b[0m\n",
      "\u001b[33m[ WARN] [1703001959.897950434, 4146.515000000]: TF_REPEATED_DATA ignoring data with redundant timestamp for frame odom at time 4146.551000 according to authority /pose_integrator\u001b[0m\n",
      "\u001b[33m[ WARN] [1703001959.897996362, 4146.515000000]: TF_REPEATED_DATA ignoring data with redundant timestamp for frame odom at time 4146.551000 according to authority /pose_integrator\u001b[0m\n",
      "\u001b[33m[ WARN] [1703001959.898036372, 4146.515000000]: TF_REPEATED_DATA ignoring data with redundant timestamp for frame odom at time 4146.551000 according to authority /pose_integrator\u001b[0m\n",
      "\u001b[33m[ WARN] [1703001959.898081293, 4146.515000000]: TF_REPEATED_DATA ignoring data with redundant timestamp for frame odom at time 4146.551000 according to authority /pose_integrator\u001b[0m\n",
      "\u001b[33m[ WARN] [1703001960.521924863, 4146.793000000]: TF_REPEATED_DATA ignoring data with redundant timestamp for frame odom at time 4146.841000 according to authority /pose_integrator\u001b[0m\n",
      "\u001b[33m[ WARN] [1703001960.522013013, 4146.793000000]: TF_REPEATED_DATA ignoring data with redundant timestamp for frame odom at time 4146.841000 according to authority /pose_integrator\u001b[0m\n",
      "\u001b[33m[ WARN] [1703001960.522068330, 4146.793000000]: TF_REPEATED_DATA ignoring data with redundant timestamp for frame odom at time 4146.841000 according to authority /pose_integrator\u001b[0m\n",
      "\u001b[33m[ WARN] [1703001960.522120216, 4146.793000000]: TF_REPEATED_DATA ignoring data with redundant timestamp for frame odom at time 4146.841000 according to authority /pose_integrator\u001b[0m\n",
      "\u001b[33m[ WARN] [1703001960.522170502, 4146.793000000]: TF_REPEATED_DATA ignoring data with redundant timestamp for frame odom at time 4146.841000 according to authority /pose_integrator\u001b[0m\n",
      "\u001b[33m[ WARN] [1703001960.522214493, 4146.793000000]: TF_REPEATED_DATA ignoring data with redundant timestamp for frame odom at time 4146.841000 according to authority /pose_integrator\u001b[0m\n",
      "\u001b[33m[ WARN] [1703001960.523301743, 4146.793000000]: TF_REPEATED_DATA ignoring data with redundant timestamp for frame odom at time 4146.841000 according to authority unknown_publisher\u001b[0m\n",
      "\u001b[33m[ WARN] [1703001960.798793784, 4146.954000000]: TF_REPEATED_DATA ignoring data with redundant timestamp for frame odom at time 4146.978000 according to authority /pose_integrator\u001b[0m\n",
      "\u001b[33m[ WARN] [1703001960.798881168, 4146.954000000]: TF_REPEATED_DATA ignoring data with redundant timestamp for frame odom at time 4146.978000 according to authority /pose_integrator\u001b[0m\n",
      "\u001b[33m[ WARN] [1703001960.798930717, 4146.954000000]: TF_REPEATED_DATA ignoring data with redundant timestamp for frame odom at time 4146.978000 according to authority /pose_integrator\u001b[0m\n",
      "\u001b[33m[ WARN] [1703001960.798983678, 4146.954000000]: TF_REPEATED_DATA ignoring data with redundant timestamp for frame odom at time 4146.978000 according to authority /pose_integrator\u001b[0m\n",
      "\u001b[33m[ WARN] [1703001960.799038456, 4146.954000000]: TF_REPEATED_DATA ignoring data with redundant timestamp for frame odom at time 4146.978000 according to authority /pose_integrator\u001b[0m\n",
      "\u001b[33m[ WARN] [1703001960.799092606, 4146.954000000]: TF_REPEATED_DATA ignoring data with redundant timestamp for frame odom at time 4146.978000 according to authority /pose_integrator\u001b[0m\n",
      "\u001b[33m[ WARN] [1703001960.799579692, 4146.954000000]: TF_REPEATED_DATA ignoring data with redundant timestamp for frame odom at time 4146.978000 according to authority unknown_publisher\u001b[0m\n",
      "\u001b[33m[ WARN] [1703001961.387018470, 4147.193000000]: TF_REPEATED_DATA ignoring data with redundant timestamp for frame odom at time 4147.243000 according to authority /pose_integrator\u001b[0m\n",
      "\u001b[33m[ WARN] [1703001961.387101308, 4147.193000000]: TF_REPEATED_DATA ignoring data with redundant timestamp for frame odom at time 4147.243000 according to authority /pose_integrator\u001b[0m\n",
      "\u001b[33m[ WARN] [1703001961.387171487, 4147.193000000]: TF_REPEATED_DATA ignoring data with redundant timestamp for frame odom at time 4147.243000 according to authority /pose_integrator\u001b[0m\n",
      "\u001b[33m[ WARN] [1703001961.387221989, 4147.193000000]: TF_REPEATED_DATA ignoring data with redundant timestamp for frame odom at time 4147.243000 according to authority /pose_integrator\u001b[0m\n",
      "\u001b[33m[ WARN] [1703001961.387269065, 4147.193000000]: TF_REPEATED_DATA ignoring data with redundant timestamp for frame odom at time 4147.243000 according to authority /pose_integrator\u001b[0m\n",
      "\u001b[33m[ WARN] [1703001961.387319963, 4147.193000000]: TF_REPEATED_DATA ignoring data with redundant timestamp for frame odom at time 4147.243000 according to authority /pose_integrator\u001b[0m\n",
      "\u001b[33m[ WARN] [1703001961.387402293, 4147.193000000]: TF_REPEATED_DATA ignoring data with redundant timestamp for frame odom at time 4147.243000 according to authority unknown_publisher\u001b[0m\n",
      "\u001b[33m[ WARN] [1703001961.654141288, 4147.321000000]: TF_REPEATED_DATA ignoring data with redundant timestamp for frame odom at time 4147.347000 according to authority unknown_publisher\u001b[0m\n",
      "\u001b[33m[ WARN] [1703001961.654306191, 4147.321000000]: TF_REPEATED_DATA ignoring data with redundant timestamp for frame odom at time 4147.347000 according to authority /pose_integrator\u001b[0m\n",
      "\u001b[33m[ WARN] [1703001961.654376474, 4147.321000000]: TF_REPEATED_DATA ignoring data with redundant timestamp for frame odom at time 4147.347000 according to authority /pose_integrator\u001b[0m\n",
      "\u001b[33m[ WARN] [1703001961.654432556, 4147.321000000]: TF_REPEATED_DATA ignoring data with redundant timestamp for frame odom at time 4147.347000 according to authority /pose_integrator\u001b[0m\n",
      "\u001b[33m[ WARN] [1703001961.654480338, 4147.321000000]: TF_REPEATED_DATA ignoring data with redundant timestamp for frame odom at time 4147.347000 according to authority /pose_integrator\u001b[0m\n",
      "\u001b[33m[ WARN] [1703001961.654533123, 4147.321000000]: TF_REPEATED_DATA ignoring data with redundant timestamp for frame odom at time 4147.347000 according to authority /pose_integrator\u001b[0m\n",
      "\u001b[33m[ WARN] [1703001961.654580377, 4147.321000000]: TF_REPEATED_DATA ignoring data with redundant timestamp for frame odom at time 4147.347000 according to authority /pose_integrator\u001b[0m\n",
      "\u001b[33m[ WARN] [1703001961.847607487, 4147.403000000]: TF_REPEATED_DATA ignoring data with redundant timestamp for frame odom at time 4147.447000 according to authority /pose_integrator\u001b[0m\n",
      "\u001b[33m[ WARN] [1703001961.847688889, 4147.403000000]: TF_REPEATED_DATA ignoring data with redundant timestamp for frame odom at time 4147.447000 according to authority /pose_integrator\u001b[0m\n",
      "\u001b[33m[ WARN] [1703001961.847743366, 4147.403000000]: TF_REPEATED_DATA ignoring data with redundant timestamp for frame odom at time 4147.447000 according to authority /pose_integrator\u001b[0m\n",
      "\u001b[33m[ WARN] [1703001961.847793331, 4147.403000000]: TF_REPEATED_DATA ignoring data with redundant timestamp for frame odom at time 4147.447000 according to authority /pose_integrator\u001b[0m\n",
      "\u001b[33m[ WARN] [1703001961.847840805, 4147.403000000]: TF_REPEATED_DATA ignoring data with redundant timestamp for frame odom at time 4147.447000 according to authority /pose_integrator\u001b[0m\n",
      "\u001b[33m[ WARN] [1703001961.847888856, 4147.403000000]: TF_REPEATED_DATA ignoring data with redundant timestamp for frame odom at time 4147.447000 according to authority /pose_integrator\u001b[0m\n",
      "\u001b[33m[ WARN] [1703001961.848277495, 4147.403000000]: TF_REPEATED_DATA ignoring data with redundant timestamp for frame odom at time 4147.447000 according to authority unknown_publisher\u001b[0m\n",
      "\u001b[33m[ WARN] [1703001962.060840404, 4147.493000000]: TF_REPEATED_DATA ignoring data with redundant timestamp for frame odom at time 4147.537000 according to authority unknown_publisher\u001b[0m\n",
      "\u001b[33m[ WARN] [1703001962.061159245, 4147.493000000]: TF_REPEATED_DATA ignoring data with redundant timestamp for frame odom at time 4147.537000 according to authority /pose_integrator\u001b[0m\n",
      "\u001b[33m[ WARN] [1703001962.061229143, 4147.493000000]: TF_REPEATED_DATA ignoring data with redundant timestamp for frame odom at time 4147.537000 according to authority /pose_integrator\u001b[0m\n",
      "\u001b[33m[ WARN] [1703001962.061291706, 4147.493000000]: TF_REPEATED_DATA ignoring data with redundant timestamp for frame odom at time 4147.537000 according to authority /pose_integrator\u001b[0m\n",
      "\u001b[33m[ WARN] [1703001962.061341760, 4147.493000000]: TF_REPEATED_DATA ignoring data with redundant timestamp for frame odom at time 4147.537000 according to authority /pose_integrator\u001b[0m\n",
      "\u001b[33m[ WARN] [1703001962.061398211, 4147.493000000]: TF_REPEATED_DATA ignoring data with redundant timestamp for frame odom at time 4147.537000 according to authority /pose_integrator\u001b[0m\n",
      "\u001b[33m[ WARN] [1703001962.061444513, 4147.493000000]: TF_REPEATED_DATA ignoring data with redundant timestamp for frame odom at time 4147.537000 according to authority /pose_integrator\u001b[0m\n"
     ]
    },
    {
     "name": "stderr",
     "output_type": "stream",
     "text": [
      "\u001b[33m[ WARN] [1703001962.932859810, 4147.832000000]: TF_REPEATED_DATA ignoring data with redundant timestamp for frame odom at time 4147.875000 according to authority /pose_integrator\u001b[0m\n",
      "\u001b[33m[ WARN] [1703001962.932936494, 4147.832000000]: TF_REPEATED_DATA ignoring data with redundant timestamp for frame odom at time 4147.875000 according to authority /pose_integrator\u001b[0m\n",
      "\u001b[33m[ WARN] [1703001962.932990415, 4147.832000000]: TF_REPEATED_DATA ignoring data with redundant timestamp for frame odom at time 4147.875000 according to authority /pose_integrator\u001b[0m\n",
      "\u001b[33m[ WARN] [1703001962.933042446, 4147.832000000]: TF_REPEATED_DATA ignoring data with redundant timestamp for frame odom at time 4147.875000 according to authority /pose_integrator\u001b[0m\n",
      "\u001b[33m[ WARN] [1703001962.933089643, 4147.832000000]: TF_REPEATED_DATA ignoring data with redundant timestamp for frame odom at time 4147.875000 according to authority /pose_integrator\u001b[0m\n",
      "\u001b[33m[ WARN] [1703001962.933145738, 4147.832000000]: TF_REPEATED_DATA ignoring data with redundant timestamp for frame odom at time 4147.875000 according to authority /pose_integrator\u001b[0m\n",
      "\u001b[33m[ WARN] [1703001962.933654075, 4147.832000000]: TF_REPEATED_DATA ignoring data with redundant timestamp for frame odom at time 4147.875000 according to authority unknown_publisher\u001b[0m\n",
      "\u001b[33m[ WARN] [1703001963.015629979, 4147.883000000]: TF_REPEATED_DATA ignoring data with redundant timestamp for frame odom at time 4147.916000 according to authority unknown_publisher\u001b[0m\n",
      "\u001b[33m[ WARN] [1703001963.015864805, 4147.883000000]: TF_REPEATED_DATA ignoring data with redundant timestamp for frame odom at time 4147.916000 according to authority /pose_integrator\u001b[0m\n",
      "\u001b[33m[ WARN] [1703001963.015920534, 4147.883000000]: TF_REPEATED_DATA ignoring data with redundant timestamp for frame odom at time 4147.916000 according to authority /pose_integrator\u001b[0m\n",
      "\u001b[33m[ WARN] [1703001963.015961510, 4147.883000000]: TF_REPEATED_DATA ignoring data with redundant timestamp for frame odom at time 4147.916000 according to authority /pose_integrator\u001b[0m\n",
      "\u001b[33m[ WARN] [1703001963.015995865, 4147.883000000]: TF_REPEATED_DATA ignoring data with redundant timestamp for frame odom at time 4147.916000 according to authority /pose_integrator\u001b[0m\n",
      "\u001b[33m[ WARN] [1703001963.016034912, 4147.883000000]: TF_REPEATED_DATA ignoring data with redundant timestamp for frame odom at time 4147.916000 according to authority /pose_integrator\u001b[0m\n",
      "\u001b[33m[ WARN] [1703001963.016068704, 4147.883000000]: TF_REPEATED_DATA ignoring data with redundant timestamp for frame odom at time 4147.916000 according to authority /pose_integrator\u001b[0m\n",
      "\u001b[33m[ WARN] [1703001964.014382848, 4148.309000000]: TF_REPEATED_DATA ignoring data with redundant timestamp for frame odom at time 4148.369000 according to authority /pose_integrator\u001b[0m\n",
      "\u001b[33m[ WARN] [1703001964.014462761, 4148.309000000]: TF_REPEATED_DATA ignoring data with redundant timestamp for frame odom at time 4148.369000 according to authority /pose_integrator\u001b[0m\n",
      "\u001b[33m[ WARN] [1703001964.014520822, 4148.309000000]: TF_REPEATED_DATA ignoring data with redundant timestamp for frame odom at time 4148.369000 according to authority /pose_integrator\u001b[0m\n",
      "\u001b[33m[ WARN] [1703001964.014576134, 4148.309000000]: TF_REPEATED_DATA ignoring data with redundant timestamp for frame odom at time 4148.369000 according to authority /pose_integrator\u001b[0m\n",
      "\u001b[33m[ WARN] [1703001964.014632964, 4148.309000000]: TF_REPEATED_DATA ignoring data with redundant timestamp for frame odom at time 4148.369000 according to authority /pose_integrator\u001b[0m\n",
      "\u001b[33m[ WARN] [1703001964.014688110, 4148.309000000]: TF_REPEATED_DATA ignoring data with redundant timestamp for frame odom at time 4148.369000 according to authority /pose_integrator\u001b[0m\n",
      "\u001b[33m[ WARN] [1703001964.015462056, 4148.309000000]: TF_REPEATED_DATA ignoring data with redundant timestamp for frame odom at time 4148.369000 according to authority unknown_publisher\u001b[0m\n",
      "\u001b[33m[ WARN] [1703001964.296723618, 4148.454000000]: TF_REPEATED_DATA ignoring data with redundant timestamp for frame odom at time 4148.488000 according to authority /pose_integrator\u001b[0m\n",
      "\u001b[33m[ WARN] [1703001964.296799208, 4148.454000000]: TF_REPEATED_DATA ignoring data with redundant timestamp for frame odom at time 4148.488000 according to authority /pose_integrator\u001b[0m\n",
      "\u001b[33m[ WARN] [1703001964.296849522, 4148.454000000]: TF_REPEATED_DATA ignoring data with redundant timestamp for frame odom at time 4148.488000 according to authority /pose_integrator\u001b[0m\n",
      "\u001b[33m[ WARN] [1703001964.296894080, 4148.454000000]: TF_REPEATED_DATA ignoring data with redundant timestamp for frame odom at time 4148.488000 according to authority /pose_integrator\u001b[0m\n",
      "\u001b[33m[ WARN] [1703001964.296939489, 4148.454000000]: TF_REPEATED_DATA ignoring data with redundant timestamp for frame odom at time 4148.488000 according to authority /pose_integrator\u001b[0m\n",
      "\u001b[33m[ WARN] [1703001964.296990026, 4148.454000000]: TF_REPEATED_DATA ignoring data with redundant timestamp for frame odom at time 4148.488000 according to authority /pose_integrator\u001b[0m\n",
      "\u001b[33m[ WARN] [1703001964.297756354, 4148.454000000]: TF_REPEATED_DATA ignoring data with redundant timestamp for frame odom at time 4148.488000 according to authority unknown_publisher\u001b[0m\n",
      "\u001b[33m[ WARN] [1703001964.884631641, 4148.756000000]: TF_REPEATED_DATA ignoring data with redundant timestamp for frame odom at time 4148.796000 according to authority /pose_integrator\u001b[0m\n",
      "\u001b[33m[ WARN] [1703001964.884699110, 4148.756000000]: TF_REPEATED_DATA ignoring data with redundant timestamp for frame odom at time 4148.796000 according to authority /pose_integrator\u001b[0m\n",
      "\u001b[33m[ WARN] [1703001964.884761503, 4148.756000000]: TF_REPEATED_DATA ignoring data with redundant timestamp for frame odom at time 4148.796000 according to authority /pose_integrator\u001b[0m\n",
      "\u001b[33m[ WARN] [1703001964.884802746, 4148.756000000]: TF_REPEATED_DATA ignoring data with redundant timestamp for frame odom at time 4148.796000 according to authority /pose_integrator\u001b[0m\n",
      "\u001b[33m[ WARN] [1703001964.884842179, 4148.756000000]: TF_REPEATED_DATA ignoring data with redundant timestamp for frame odom at time 4148.796000 according to authority /pose_integrator\u001b[0m\n",
      "\u001b[33m[ WARN] [1703001964.884891631, 4148.756000000]: TF_REPEATED_DATA ignoring data with redundant timestamp for frame odom at time 4148.796000 according to authority /pose_integrator\u001b[0m\n",
      "\u001b[33m[ WARN] [1703001964.884925264, 4148.756000000]: TF_REPEATED_DATA ignoring data with redundant timestamp for frame odom at time 4148.796000 according to authority unknown_publisher\u001b[0m\n",
      "\u001b[33m[ WARN] [1703001965.024088295, 4148.848000000]: TF_REPEATED_DATA ignoring data with redundant timestamp for frame odom at time 4148.865000 according to authority /pose_integrator\u001b[0m\n",
      "\u001b[33m[ WARN] [1703001965.024154691, 4148.848000000]: TF_REPEATED_DATA ignoring data with redundant timestamp for frame odom at time 4148.865000 according to authority /pose_integrator\u001b[0m\n",
      "\u001b[33m[ WARN] [1703001965.024208336, 4148.848000000]: TF_REPEATED_DATA ignoring data with redundant timestamp for frame odom at time 4148.865000 according to authority /pose_integrator\u001b[0m\n",
      "\u001b[33m[ WARN] [1703001965.024247457, 4148.848000000]: TF_REPEATED_DATA ignoring data with redundant timestamp for frame odom at time 4148.865000 according to authority /pose_integrator\u001b[0m\n",
      "\u001b[33m[ WARN] [1703001965.024281561, 4148.848000000]: TF_REPEATED_DATA ignoring data with redundant timestamp for frame odom at time 4148.865000 according to authority /pose_integrator\u001b[0m\n",
      "\u001b[33m[ WARN] [1703001965.024317302, 4148.848000000]: TF_REPEATED_DATA ignoring data with redundant timestamp for frame odom at time 4148.865000 according to authority /pose_integrator\u001b[0m\n",
      "\u001b[33m[ WARN] [1703001965.024418346, 4148.848000000]: TF_REPEATED_DATA ignoring data with redundant timestamp for frame odom at time 4148.865000 according to authority unknown_publisher\u001b[0m\n",
      "\u001b[33m[ WARN] [1703001965.880628381, 4149.191000000]: TF_REPEATED_DATA ignoring data with redundant timestamp for frame odom at time 4149.228000 according to authority unknown_publisher\u001b[0m\n",
      "\u001b[33m[ WARN] [1703001965.881001389, 4149.191000000]: TF_REPEATED_DATA ignoring data with redundant timestamp for frame odom at time 4149.228000 according to authority /pose_integrator\u001b[0m\n",
      "\u001b[33m[ WARN] [1703001965.881062595, 4149.191000000]: TF_REPEATED_DATA ignoring data with redundant timestamp for frame odom at time 4149.228000 according to authority /pose_integrator\u001b[0m\n",
      "\u001b[33m[ WARN] [1703001965.881098463, 4149.191000000]: TF_REPEATED_DATA ignoring data with redundant timestamp for frame odom at time 4149.228000 according to authority /pose_integrator\u001b[0m\n",
      "\u001b[33m[ WARN] [1703001965.881129869, 4149.191000000]: TF_REPEATED_DATA ignoring data with redundant timestamp for frame odom at time 4149.228000 according to authority /pose_integrator\u001b[0m\n",
      "\u001b[33m[ WARN] [1703001965.881160449, 4149.191000000]: TF_REPEATED_DATA ignoring data with redundant timestamp for frame odom at time 4149.228000 according to authority /pose_integrator\u001b[0m\n",
      "\u001b[33m[ WARN] [1703001965.881190190, 4149.191000000]: TF_REPEATED_DATA ignoring data with redundant timestamp for frame odom at time 4149.228000 according to authority /pose_integrator\u001b[0m\n"
     ]
    },
    {
     "name": "stderr",
     "output_type": "stream",
     "text": [
      "\u001b[33m[ WARN] [1703001966.442252727, 4149.426000000]: TF_REPEATED_DATA ignoring data with redundant timestamp for frame odom at time 4149.472000 according to authority unknown_publisher\u001b[0m\n",
      "\u001b[33m[ WARN] [1703001966.442871630, 4149.426000000]: TF_REPEATED_DATA ignoring data with redundant timestamp for frame odom at time 4149.472000 according to authority /pose_integrator\u001b[0m\n",
      "\u001b[33m[ WARN] [1703001966.442930183, 4149.426000000]: TF_REPEATED_DATA ignoring data with redundant timestamp for frame odom at time 4149.472000 according to authority /pose_integrator\u001b[0m\n",
      "\u001b[33m[ WARN] [1703001966.442970422, 4149.426000000]: TF_REPEATED_DATA ignoring data with redundant timestamp for frame odom at time 4149.472000 according to authority /pose_integrator\u001b[0m\n",
      "\u001b[33m[ WARN] [1703001966.443001164, 4149.426000000]: TF_REPEATED_DATA ignoring data with redundant timestamp for frame odom at time 4149.472000 according to authority /pose_integrator\u001b[0m\n",
      "\u001b[33m[ WARN] [1703001966.443031220, 4149.426000000]: TF_REPEATED_DATA ignoring data with redundant timestamp for frame odom at time 4149.472000 according to authority /pose_integrator\u001b[0m\n",
      "\u001b[33m[ WARN] [1703001966.443060459, 4149.426000000]: TF_REPEATED_DATA ignoring data with redundant timestamp for frame odom at time 4149.472000 according to authority /pose_integrator\u001b[0m\n",
      "\u001b[33m[ WARN] [1703001966.988059830, 4149.652000000]: TF_REPEATED_DATA ignoring data with redundant timestamp for frame odom at time 4149.730000 according to authority /pose_integrator\u001b[0m\n",
      "\u001b[33m[ WARN] [1703001966.988151179, 4149.652000000]: TF_REPEATED_DATA ignoring data with redundant timestamp for frame odom at time 4149.730000 according to authority /pose_integrator\u001b[0m\n",
      "\u001b[33m[ WARN] [1703001966.988206039, 4149.652000000]: TF_REPEATED_DATA ignoring data with redundant timestamp for frame odom at time 4149.730000 according to authority /pose_integrator\u001b[0m\n",
      "\u001b[33m[ WARN] [1703001966.988251333, 4149.652000000]: TF_REPEATED_DATA ignoring data with redundant timestamp for frame odom at time 4149.730000 according to authority /pose_integrator\u001b[0m\n",
      "\u001b[33m[ WARN] [1703001966.988294908, 4149.652000000]: TF_REPEATED_DATA ignoring data with redundant timestamp for frame odom at time 4149.730000 according to authority /pose_integrator\u001b[0m\n",
      "\u001b[33m[ WARN] [1703001966.988337279, 4149.652000000]: TF_REPEATED_DATA ignoring data with redundant timestamp for frame odom at time 4149.730000 according to authority /pose_integrator\u001b[0m\n",
      "\u001b[33m[ WARN] [1703001966.990577665, 4149.652000000]: TF_REPEATED_DATA ignoring data with redundant timestamp for frame odom at time 4149.730000 according to authority unknown_publisher\u001b[0m\n",
      "\u001b[33m[ WARN] [1703001967.209810676, 4149.784000000]: TF_REPEATED_DATA ignoring data with redundant timestamp for frame odom at time 4149.827000 according to authority unknown_publisher\u001b[0m\n",
      "\u001b[33m[ WARN] [1703001967.210002604, 4149.784000000]: TF_REPEATED_DATA ignoring data with redundant timestamp for frame odom at time 4149.827000 according to authority /pose_integrator\u001b[0m\n",
      "\u001b[33m[ WARN] [1703001967.210063293, 4149.784000000]: TF_REPEATED_DATA ignoring data with redundant timestamp for frame odom at time 4149.827000 according to authority /pose_integrator\u001b[0m\n",
      "\u001b[33m[ WARN] [1703001967.210113996, 4149.784000000]: TF_REPEATED_DATA ignoring data with redundant timestamp for frame odom at time 4149.827000 according to authority /pose_integrator\u001b[0m\n",
      "\u001b[33m[ WARN] [1703001967.210164735, 4149.784000000]: TF_REPEATED_DATA ignoring data with redundant timestamp for frame odom at time 4149.827000 according to authority /pose_integrator\u001b[0m\n",
      "\u001b[33m[ WARN] [1703001967.210216668, 4149.784000000]: TF_REPEATED_DATA ignoring data with redundant timestamp for frame odom at time 4149.827000 according to authority /pose_integrator\u001b[0m\n",
      "\u001b[33m[ WARN] [1703001967.210266127, 4149.784000000]: TF_REPEATED_DATA ignoring data with redundant timestamp for frame odom at time 4149.827000 according to authority /pose_integrator\u001b[0m\n",
      "\u001b[33m[ WARN] [1703001967.619242505, 4149.987000000]: TF_REPEATED_DATA ignoring data with redundant timestamp for frame odom at time 4150.045000 according to authority unknown_publisher\u001b[0m\n",
      "\u001b[33m[ WARN] [1703001967.619321678, 4149.987000000]: TF_REPEATED_DATA ignoring data with redundant timestamp for frame odom at time 4150.045000 according to authority /pose_integrator\u001b[0m\n",
      "\u001b[33m[ WARN] [1703001967.619380929, 4149.987000000]: TF_REPEATED_DATA ignoring data with redundant timestamp for frame odom at time 4150.045000 according to authority /pose_integrator\u001b[0m\n",
      "\u001b[33m[ WARN] [1703001967.619429608, 4149.987000000]: TF_REPEATED_DATA ignoring data with redundant timestamp for frame odom at time 4150.045000 according to authority /pose_integrator\u001b[0m\n",
      "\u001b[33m[ WARN] [1703001967.619469796, 4149.987000000]: TF_REPEATED_DATA ignoring data with redundant timestamp for frame odom at time 4150.045000 according to authority /pose_integrator\u001b[0m\n",
      "\u001b[33m[ WARN] [1703001967.619515275, 4149.987000000]: TF_REPEATED_DATA ignoring data with redundant timestamp for frame odom at time 4150.045000 according to authority /pose_integrator\u001b[0m\n",
      "\u001b[33m[ WARN] [1703001967.619569976, 4149.987000000]: TF_REPEATED_DATA ignoring data with redundant timestamp for frame odom at time 4150.045000 according to authority /pose_integrator\u001b[0m\n",
      "\u001b[33m[ WARN] [1703001967.858877237, 4150.120000000]: TF_REPEATED_DATA ignoring data with redundant timestamp for frame odom at time 4150.166000 according to authority unknown_publisher\u001b[0m\n",
      "\u001b[33m[ WARN] [1703001967.861029488, 4150.120000000]: TF_REPEATED_DATA ignoring data with redundant timestamp for frame odom at time 4150.166000 according to authority /pose_integrator\u001b[0m\n",
      "\u001b[33m[ WARN] [1703001967.861084218, 4150.120000000]: TF_REPEATED_DATA ignoring data with redundant timestamp for frame odom at time 4150.166000 according to authority /pose_integrator\u001b[0m\n",
      "\u001b[33m[ WARN] [1703001967.861139032, 4150.120000000]: TF_REPEATED_DATA ignoring data with redundant timestamp for frame odom at time 4150.166000 according to authority /pose_integrator\u001b[0m\n",
      "\u001b[33m[ WARN] [1703001967.861193546, 4150.120000000]: TF_REPEATED_DATA ignoring data with redundant timestamp for frame odom at time 4150.166000 according to authority /pose_integrator\u001b[0m\n",
      "\u001b[33m[ WARN] [1703001967.861250424, 4150.120000000]: TF_REPEATED_DATA ignoring data with redundant timestamp for frame odom at time 4150.166000 according to authority /pose_integrator\u001b[0m\n",
      "\u001b[33m[ WARN] [1703001967.861302974, 4150.120000000]: TF_REPEATED_DATA ignoring data with redundant timestamp for frame odom at time 4150.166000 according to authority /pose_integrator\u001b[0m\n",
      "\u001b[33m[ WARN] [1703001968.178465660, 4150.270000000]: TF_REPEATED_DATA ignoring data with redundant timestamp for frame odom at time 4150.313000 according to authority unknown_publisher\u001b[0m\n",
      "\u001b[33m[ WARN] [1703001968.178566340, 4150.270000000]: TF_REPEATED_DATA ignoring data with redundant timestamp for frame odom at time 4150.313000 according to authority /pose_integrator\u001b[0m\n",
      "\u001b[33m[ WARN] [1703001968.178627979, 4150.270000000]: TF_REPEATED_DATA ignoring data with redundant timestamp for frame odom at time 4150.313000 according to authority /pose_integrator\u001b[0m\n",
      "\u001b[33m[ WARN] [1703001968.178682332, 4150.270000000]: TF_REPEATED_DATA ignoring data with redundant timestamp for frame odom at time 4150.313000 according to authority /pose_integrator\u001b[0m\n",
      "\u001b[33m[ WARN] [1703001968.178723559, 4150.270000000]: TF_REPEATED_DATA ignoring data with redundant timestamp for frame odom at time 4150.313000 according to authority /pose_integrator\u001b[0m\n",
      "\u001b[33m[ WARN] [1703001968.178756842, 4150.270000000]: TF_REPEATED_DATA ignoring data with redundant timestamp for frame odom at time 4150.313000 according to authority /pose_integrator\u001b[0m\n",
      "\u001b[33m[ WARN] [1703001968.178789223, 4150.270000000]: TF_REPEATED_DATA ignoring data with redundant timestamp for frame odom at time 4150.313000 according to authority /pose_integrator\u001b[0m\n",
      "\u001b[33m[ WARN] [1703001968.731813828, 4150.509000000]: TF_REPEATED_DATA ignoring data with redundant timestamp for frame odom at time 4150.554000 according to authority /pose_integrator\u001b[0m\n",
      "\u001b[33m[ WARN] [1703001968.731892231, 4150.509000000]: TF_REPEATED_DATA ignoring data with redundant timestamp for frame odom at time 4150.554000 according to authority unknown_publisher\u001b[0m\n",
      "\u001b[33m[ WARN] [1703001968.732149388, 4150.509000000]: TF_REPEATED_DATA ignoring data with redundant timestamp for frame odom at time 4150.554000 according to authority /pose_integrator\u001b[0m\n",
      "\u001b[33m[ WARN] [1703001968.732226863, 4150.509000000]: TF_REPEATED_DATA ignoring data with redundant timestamp for frame odom at time 4150.554000 according to authority /pose_integrator\u001b[0m\n",
      "\u001b[33m[ WARN] [1703001968.732264260, 4150.509000000]: TF_REPEATED_DATA ignoring data with redundant timestamp for frame odom at time 4150.554000 according to authority /pose_integrator\u001b[0m\n",
      "\u001b[33m[ WARN] [1703001968.732302598, 4150.509000000]: TF_REPEATED_DATA ignoring data with redundant timestamp for frame odom at time 4150.554000 according to authority /pose_integrator\u001b[0m\n",
      "\u001b[33m[ WARN] [1703001968.732347089, 4150.509000000]: TF_REPEATED_DATA ignoring data with redundant timestamp for frame odom at time 4150.554000 according to authority /pose_integrator\u001b[0m\n"
     ]
    },
    {
     "name": "stderr",
     "output_type": "stream",
     "text": [
      "\u001b[33m[ WARN] [1703001969.054983645, 4150.659000000]: TF_REPEATED_DATA ignoring data with redundant timestamp for frame odom at time 4150.682000 according to authority unknown_publisher\u001b[0m\n",
      "\u001b[33m[ WARN] [1703001969.055711499, 4150.659000000]: TF_REPEATED_DATA ignoring data with redundant timestamp for frame odom at time 4150.682000 according to authority /pose_integrator\u001b[0m\n",
      "\u001b[33m[ WARN] [1703001969.055781197, 4150.659000000]: TF_REPEATED_DATA ignoring data with redundant timestamp for frame odom at time 4150.682000 according to authority /pose_integrator\u001b[0m\n",
      "\u001b[33m[ WARN] [1703001969.055840359, 4150.659000000]: TF_REPEATED_DATA ignoring data with redundant timestamp for frame odom at time 4150.682000 according to authority /pose_integrator\u001b[0m\n",
      "\u001b[33m[ WARN] [1703001969.055894850, 4150.659000000]: TF_REPEATED_DATA ignoring data with redundant timestamp for frame odom at time 4150.682000 according to authority /pose_integrator\u001b[0m\n",
      "\u001b[33m[ WARN] [1703001969.055958309, 4150.659000000]: TF_REPEATED_DATA ignoring data with redundant timestamp for frame odom at time 4150.682000 according to authority /pose_integrator\u001b[0m\n",
      "\u001b[33m[ WARN] [1703001969.056022586, 4150.659000000]: TF_REPEATED_DATA ignoring data with redundant timestamp for frame odom at time 4150.682000 according to authority /pose_integrator\u001b[0m\n",
      "\u001b[33m[ WARN] [1703001969.244477450, 4150.741000000]: TF_REPEATED_DATA ignoring data with redundant timestamp for frame odom at time 4150.776000 according to authority /pose_integrator\u001b[0m\n",
      "\u001b[33m[ WARN] [1703001969.244544362, 4150.741000000]: TF_REPEATED_DATA ignoring data with redundant timestamp for frame odom at time 4150.776000 according to authority /pose_integrator\u001b[0m\n",
      "\u001b[33m[ WARN] [1703001969.244590115, 4150.741000000]: TF_REPEATED_DATA ignoring data with redundant timestamp for frame odom at time 4150.776000 according to authority /pose_integrator\u001b[0m\n",
      "\u001b[33m[ WARN] [1703001969.244625214, 4150.741000000]: TF_REPEATED_DATA ignoring data with redundant timestamp for frame odom at time 4150.776000 according to authority /pose_integrator\u001b[0m\n",
      "\u001b[33m[ WARN] [1703001969.244663683, 4150.741000000]: TF_REPEATED_DATA ignoring data with redundant timestamp for frame odom at time 4150.776000 according to authority /pose_integrator\u001b[0m\n",
      "\u001b[33m[ WARN] [1703001969.244707785, 4150.741000000]: TF_REPEATED_DATA ignoring data with redundant timestamp for frame odom at time 4150.776000 according to authority /pose_integrator\u001b[0m\n",
      "\u001b[33m[ WARN] [1703001969.246201968, 4150.741000000]: TF_REPEATED_DATA ignoring data with redundant timestamp for frame odom at time 4150.776000 according to authority unknown_publisher\u001b[0m\n",
      "\u001b[33m[ WARN] [1703001969.994834188, 4151.083000000]: TF_REPEATED_DATA ignoring data with redundant timestamp for frame odom at time 4151.103000 according to authority unknown_publisher\u001b[0m\n",
      "\u001b[33m[ WARN] [1703001969.995501108, 4151.083000000]: TF_REPEATED_DATA ignoring data with redundant timestamp for frame odom at time 4151.103000 according to authority /pose_integrator\u001b[0m\n",
      "\u001b[33m[ WARN] [1703001969.995563899, 4151.083000000]: TF_REPEATED_DATA ignoring data with redundant timestamp for frame odom at time 4151.103000 according to authority /pose_integrator\u001b[0m\n",
      "\u001b[33m[ WARN] [1703001969.995615229, 4151.083000000]: TF_REPEATED_DATA ignoring data with redundant timestamp for frame odom at time 4151.103000 according to authority /pose_integrator\u001b[0m\n",
      "\u001b[33m[ WARN] [1703001969.995667505, 4151.083000000]: TF_REPEATED_DATA ignoring data with redundant timestamp for frame odom at time 4151.103000 according to authority /pose_integrator\u001b[0m\n",
      "\u001b[33m[ WARN] [1703001969.995715031, 4151.083000000]: TF_REPEATED_DATA ignoring data with redundant timestamp for frame odom at time 4151.103000 according to authority /pose_integrator\u001b[0m\n",
      "\u001b[33m[ WARN] [1703001969.995764849, 4151.083000000]: TF_REPEATED_DATA ignoring data with redundant timestamp for frame odom at time 4151.103000 according to authority /pose_integrator\u001b[0m\n",
      "\u001b[33m[ WARN] [1703001972.301304949, 4152.014000000]: TF_REPEATED_DATA ignoring data with redundant timestamp for frame odom at time 4152.035000 according to authority /pose_integrator\u001b[0m\n",
      "\u001b[33m[ WARN] [1703001972.301373597, 4152.014000000]: TF_REPEATED_DATA ignoring data with redundant timestamp for frame odom at time 4152.035000 according to authority /pose_integrator\u001b[0m\n",
      "\u001b[33m[ WARN] [1703001972.301423605, 4152.014000000]: TF_REPEATED_DATA ignoring data with redundant timestamp for frame odom at time 4152.035000 according to authority /pose_integrator\u001b[0m\n",
      "\u001b[33m[ WARN] [1703001972.301473015, 4152.014000000]: TF_REPEATED_DATA ignoring data with redundant timestamp for frame odom at time 4152.035000 according to authority /pose_integrator\u001b[0m\n",
      "\u001b[33m[ WARN] [1703001972.301522167, 4152.014000000]: TF_REPEATED_DATA ignoring data with redundant timestamp for frame odom at time 4152.035000 according to authority /pose_integrator\u001b[0m\n",
      "\u001b[33m[ WARN] [1703001972.301560479, 4152.014000000]: TF_REPEATED_DATA ignoring data with redundant timestamp for frame odom at time 4152.035000 according to authority /pose_integrator\u001b[0m\n",
      "\u001b[33m[ WARN] [1703001972.302545244, 4152.014000000]: TF_REPEATED_DATA ignoring data with redundant timestamp for frame odom at time 4152.035000 according to authority unknown_publisher\u001b[0m\n",
      "\u001b[33m[ WARN] [1703001972.462094977, 4152.071000000]: TF_REPEATED_DATA ignoring data with redundant timestamp for frame odom at time 4152.106000 according to authority /pose_integrator\u001b[0m\n",
      "\u001b[33m[ WARN] [1703001972.462181707, 4152.071000000]: TF_REPEATED_DATA ignoring data with redundant timestamp for frame odom at time 4152.106000 according to authority /pose_integrator\u001b[0m\n",
      "\u001b[33m[ WARN] [1703001972.462241727, 4152.071000000]: TF_REPEATED_DATA ignoring data with redundant timestamp for frame odom at time 4152.106000 according to authority /pose_integrator\u001b[0m\n",
      "\u001b[33m[ WARN] [1703001972.462291932, 4152.071000000]: TF_REPEATED_DATA ignoring data with redundant timestamp for frame odom at time 4152.106000 according to authority /pose_integrator\u001b[0m\n",
      "\u001b[33m[ WARN] [1703001972.462327230, 4152.071000000]: TF_REPEATED_DATA ignoring data with redundant timestamp for frame odom at time 4152.106000 according to authority unknown_publisher\u001b[0m\n",
      "\u001b[33m[ WARN] [1703001972.463644575, 4152.071000000]: TF_REPEATED_DATA ignoring data with redundant timestamp for frame odom at time 4152.106000 according to authority /pose_integrator\u001b[0m\n",
      "\u001b[33m[ WARN] [1703001972.463727759, 4152.071000000]: TF_REPEATED_DATA ignoring data with redundant timestamp for frame odom at time 4152.106000 according to authority /pose_integrator\u001b[0m\n",
      "\u001b[33m[ WARN] [1703001974.004482717, 4152.694000000]: TF_REPEATED_DATA ignoring data with redundant timestamp for frame odom at time 4152.718000 according to authority unknown_publisher\u001b[0m\n",
      "\u001b[33m[ WARN] [1703001974.005314782, 4152.694000000]: TF_REPEATED_DATA ignoring data with redundant timestamp for frame odom at time 4152.718000 according to authority /pose_integrator\u001b[0m\n",
      "\u001b[33m[ WARN] [1703001974.005379334, 4152.694000000]: TF_REPEATED_DATA ignoring data with redundant timestamp for frame odom at time 4152.718000 according to authority /pose_integrator\u001b[0m\n",
      "\u001b[33m[ WARN] [1703001974.005428597, 4152.694000000]: TF_REPEATED_DATA ignoring data with redundant timestamp for frame odom at time 4152.718000 according to authority /pose_integrator\u001b[0m\n",
      "\u001b[33m[ WARN] [1703001974.005471263, 4152.694000000]: TF_REPEATED_DATA ignoring data with redundant timestamp for frame odom at time 4152.718000 according to authority /pose_integrator\u001b[0m\n",
      "\u001b[33m[ WARN] [1703001974.005509037, 4152.694000000]: TF_REPEATED_DATA ignoring data with redundant timestamp for frame odom at time 4152.718000 according to authority /pose_integrator\u001b[0m\n",
      "\u001b[33m[ WARN] [1703001974.005544934, 4152.694000000]: TF_REPEATED_DATA ignoring data with redundant timestamp for frame odom at time 4152.718000 according to authority /pose_integrator\u001b[0m\n",
      "\u001b[33m[ WARN] [1703001974.652642267, 4152.947000000]: TF_REPEATED_DATA ignoring data with redundant timestamp for frame odom at time 4152.994000 according to authority /pose_integrator\u001b[0m\n",
      "\u001b[33m[ WARN] [1703001974.652702539, 4152.947000000]: TF_REPEATED_DATA ignoring data with redundant timestamp for frame odom at time 4152.994000 according to authority /pose_integrator\u001b[0m\n",
      "\u001b[33m[ WARN] [1703001974.652764754, 4152.947000000]: TF_REPEATED_DATA ignoring data with redundant timestamp for frame odom at time 4152.994000 according to authority /pose_integrator\u001b[0m\n",
      "\u001b[33m[ WARN] [1703001974.652815351, 4152.947000000]: TF_REPEATED_DATA ignoring data with redundant timestamp for frame odom at time 4152.994000 according to authority /pose_integrator\u001b[0m\n",
      "\u001b[33m[ WARN] [1703001974.652850143, 4152.947000000]: TF_REPEATED_DATA ignoring data with redundant timestamp for frame odom at time 4152.994000 according to authority /pose_integrator\u001b[0m\n",
      "\u001b[33m[ WARN] [1703001974.652881250, 4152.947000000]: TF_REPEATED_DATA ignoring data with redundant timestamp for frame odom at time 4152.994000 according to authority /pose_integrator\u001b[0m\n",
      "\u001b[33m[ WARN] [1703001974.653294321, 4152.947000000]: TF_REPEATED_DATA ignoring data with redundant timestamp for frame odom at time 4152.994000 according to authority unknown_publisher\u001b[0m\n"
     ]
    },
    {
     "name": "stderr",
     "output_type": "stream",
     "text": [
      "\u001b[33m[ WARN] [1703001975.498931177, 4153.317000000]: TF_REPEATED_DATA ignoring data with redundant timestamp for frame odom at time 4153.350000 according to authority unknown_publisher\u001b[0m\n",
      "\u001b[33m[ WARN] [1703001975.499566191, 4153.317000000]: TF_REPEATED_DATA ignoring data with redundant timestamp for frame odom at time 4153.350000 according to authority /pose_integrator\u001b[0m\n",
      "\u001b[33m[ WARN] [1703001975.499806075, 4153.317000000]: TF_REPEATED_DATA ignoring data with redundant timestamp for frame odom at time 4153.350000 according to authority /pose_integrator\u001b[0m\n",
      "\u001b[33m[ WARN] [1703001975.499874496, 4153.317000000]: TF_REPEATED_DATA ignoring data with redundant timestamp for frame odom at time 4153.350000 according to authority /pose_integrator\u001b[0m\n",
      "\u001b[33m[ WARN] [1703001975.499920871, 4153.317000000]: TF_REPEATED_DATA ignoring data with redundant timestamp for frame odom at time 4153.350000 according to authority /pose_integrator\u001b[0m\n",
      "\u001b[33m[ WARN] [1703001975.499983263, 4153.317000000]: TF_REPEATED_DATA ignoring data with redundant timestamp for frame odom at time 4153.350000 according to authority /pose_integrator\u001b[0m\n",
      "\u001b[33m[ WARN] [1703001975.500046339, 4153.317000000]: TF_REPEATED_DATA ignoring data with redundant timestamp for frame odom at time 4153.350000 according to authority /pose_integrator\u001b[0m\n",
      "\u001b[33m[ WARN] [1703001975.609871315, 4153.369000000]: TF_REPEATED_DATA ignoring data with redundant timestamp for frame odom at time 4153.402000 according to authority unknown_publisher\u001b[0m\n",
      "\u001b[33m[ WARN] [1703001975.610337829, 4153.369000000]: TF_REPEATED_DATA ignoring data with redundant timestamp for frame odom at time 4153.402000 according to authority /pose_integrator\u001b[0m\n",
      "\u001b[33m[ WARN] [1703001975.610391930, 4153.369000000]: TF_REPEATED_DATA ignoring data with redundant timestamp for frame odom at time 4153.402000 according to authority /pose_integrator\u001b[0m\n",
      "\u001b[33m[ WARN] [1703001975.610435750, 4153.369000000]: TF_REPEATED_DATA ignoring data with redundant timestamp for frame odom at time 4153.402000 according to authority /pose_integrator\u001b[0m\n",
      "\u001b[33m[ WARN] [1703001975.610475998, 4153.369000000]: TF_REPEATED_DATA ignoring data with redundant timestamp for frame odom at time 4153.402000 according to authority /pose_integrator\u001b[0m\n",
      "\u001b[33m[ WARN] [1703001975.610522474, 4153.369000000]: TF_REPEATED_DATA ignoring data with redundant timestamp for frame odom at time 4153.402000 according to authority /pose_integrator\u001b[0m\n",
      "\u001b[33m[ WARN] [1703001975.610572842, 4153.369000000]: TF_REPEATED_DATA ignoring data with redundant timestamp for frame odom at time 4153.402000 according to authority /pose_integrator\u001b[0m\n",
      "\u001b[33m[ WARN] [1703001975.907371934, 4153.517000000]: TF_REPEATED_DATA ignoring data with redundant timestamp for frame odom at time 4153.538000 according to authority /pose_integrator\u001b[0m\n",
      "\u001b[33m[ WARN] [1703001975.907439764, 4153.517000000]: TF_REPEATED_DATA ignoring data with redundant timestamp for frame odom at time 4153.538000 according to authority /pose_integrator\u001b[0m\n",
      "\u001b[33m[ WARN] [1703001975.907500631, 4153.517000000]: TF_REPEATED_DATA ignoring data with redundant timestamp for frame odom at time 4153.538000 according to authority /pose_integrator\u001b[0m\n",
      "\u001b[33m[ WARN] [1703001975.907557247, 4153.517000000]: TF_REPEATED_DATA ignoring data with redundant timestamp for frame odom at time 4153.538000 according to authority /pose_integrator\u001b[0m\n",
      "\u001b[33m[ WARN] [1703001975.907597644, 4153.517000000]: TF_REPEATED_DATA ignoring data with redundant timestamp for frame odom at time 4153.538000 according to authority /pose_integrator\u001b[0m\n",
      "\u001b[33m[ WARN] [1703001975.907633313, 4153.517000000]: TF_REPEATED_DATA ignoring data with redundant timestamp for frame odom at time 4153.538000 according to authority /pose_integrator\u001b[0m\n",
      "\u001b[33m[ WARN] [1703001975.907681188, 4153.517000000]: TF_REPEATED_DATA ignoring data with redundant timestamp for frame odom at time 4153.538000 according to authority unknown_publisher\u001b[0m\n",
      "\u001b[33m[ WARN] [1703001976.558193750, 4153.815000000]: TF_REPEATED_DATA ignoring data with redundant timestamp for frame odom at time 4153.884000 according to authority /pose_integrator\u001b[0m\n",
      "\u001b[33m[ WARN] [1703001976.558268399, 4153.815000000]: TF_REPEATED_DATA ignoring data with redundant timestamp for frame odom at time 4153.884000 according to authority /pose_integrator\u001b[0m\n",
      "\u001b[33m[ WARN] [1703001976.558316132, 4153.815000000]: TF_REPEATED_DATA ignoring data with redundant timestamp for frame odom at time 4153.884000 according to authority /pose_integrator\u001b[0m\n",
      "\u001b[33m[ WARN] [1703001976.558370417, 4153.815000000]: TF_REPEATED_DATA ignoring data with redundant timestamp for frame odom at time 4153.884000 according to authority /pose_integrator\u001b[0m\n",
      "\u001b[33m[ WARN] [1703001976.558425010, 4153.815000000]: TF_REPEATED_DATA ignoring data with redundant timestamp for frame odom at time 4153.884000 according to authority /pose_integrator\u001b[0m\n",
      "\u001b[33m[ WARN] [1703001976.558475485, 4153.815000000]: TF_REPEATED_DATA ignoring data with redundant timestamp for frame odom at time 4153.884000 according to authority unknown_publisher\u001b[0m\n",
      "\u001b[33m[ WARN] [1703001976.559448602, 4153.815000000]: TF_REPEATED_DATA ignoring data with redundant timestamp for frame odom at time 4153.884000 according to authority /pose_integrator\u001b[0m\n",
      "\u001b[33m[ WARN] [1703001977.164106311, 4154.088000000]: TF_REPEATED_DATA ignoring data with redundant timestamp for frame odom at time 4154.138000 according to authority unknown_publisher\u001b[0m\n",
      "\u001b[33m[ WARN] [1703001977.165974660, 4154.088000000]: TF_REPEATED_DATA ignoring data with redundant timestamp for frame odom at time 4154.138000 according to authority /pose_integrator\u001b[0m\n",
      "\u001b[33m[ WARN] [1703001977.166056500, 4154.088000000]: TF_REPEATED_DATA ignoring data with redundant timestamp for frame odom at time 4154.138000 according to authority /pose_integrator\u001b[0m\n",
      "\u001b[33m[ WARN] [1703001977.166123451, 4154.088000000]: TF_REPEATED_DATA ignoring data with redundant timestamp for frame odom at time 4154.138000 according to authority /pose_integrator\u001b[0m\n",
      "\u001b[33m[ WARN] [1703001977.166164906, 4154.088000000]: TF_REPEATED_DATA ignoring data with redundant timestamp for frame odom at time 4154.138000 according to authority /pose_integrator\u001b[0m\n",
      "\u001b[33m[ WARN] [1703001977.166206871, 4154.088000000]: TF_REPEATED_DATA ignoring data with redundant timestamp for frame odom at time 4154.138000 according to authority /pose_integrator\u001b[0m\n",
      "\u001b[33m[ WARN] [1703001977.166250065, 4154.088000000]: TF_REPEATED_DATA ignoring data with redundant timestamp for frame odom at time 4154.138000 according to authority /pose_integrator\u001b[0m\n",
      "\u001b[33m[ WARN] [1703001977.378277975, 4154.203000000]: TF_REPEATED_DATA ignoring data with redundant timestamp for frame odom at time 4154.228000 according to authority unknown_publisher\u001b[0m\n",
      "\u001b[33m[ WARN] [1703001977.386274101, 4154.228000000]: TF_REPEATED_DATA ignoring data with redundant timestamp for frame odom at time 4154.228000 according to authority /pose_integrator\u001b[0m\n",
      "\u001b[33m[ WARN] [1703001977.386360914, 4154.228000000]: TF_REPEATED_DATA ignoring data with redundant timestamp for frame odom at time 4154.228000 according to authority /pose_integrator\u001b[0m\n",
      "\u001b[33m[ WARN] [1703001977.386404859, 4154.228000000]: TF_REPEATED_DATA ignoring data with redundant timestamp for frame odom at time 4154.228000 according to authority /pose_integrator\u001b[0m\n",
      "\u001b[33m[ WARN] [1703001977.386442798, 4154.228000000]: TF_REPEATED_DATA ignoring data with redundant timestamp for frame odom at time 4154.228000 according to authority /pose_integrator\u001b[0m\n",
      "\u001b[33m[ WARN] [1703001977.386482347, 4154.228000000]: TF_REPEATED_DATA ignoring data with redundant timestamp for frame odom at time 4154.228000 according to authority /pose_integrator\u001b[0m\n",
      "\u001b[33m[ WARN] [1703001977.386524652, 4154.228000000]: TF_REPEATED_DATA ignoring data with redundant timestamp for frame odom at time 4154.228000 according to authority /pose_integrator\u001b[0m\n",
      "\u001b[33m[ WARN] [1703001977.811962088, 4154.383000000]: TF_REPEATED_DATA ignoring data with redundant timestamp for frame odom at time 4154.437000 according to authority unknown_publisher\u001b[0m\n",
      "\u001b[33m[ WARN] [1703001977.812850243, 4154.383000000]: TF_REPEATED_DATA ignoring data with redundant timestamp for frame odom at time 4154.437000 according to authority /pose_integrator\u001b[0m\n",
      "\u001b[33m[ WARN] [1703001977.812910860, 4154.383000000]: TF_REPEATED_DATA ignoring data with redundant timestamp for frame odom at time 4154.437000 according to authority /pose_integrator\u001b[0m\n",
      "\u001b[33m[ WARN] [1703001977.812963186, 4154.383000000]: TF_REPEATED_DATA ignoring data with redundant timestamp for frame odom at time 4154.437000 according to authority /pose_integrator\u001b[0m\n",
      "\u001b[33m[ WARN] [1703001977.813002036, 4154.383000000]: TF_REPEATED_DATA ignoring data with redundant timestamp for frame odom at time 4154.437000 according to authority /pose_integrator\u001b[0m\n",
      "\u001b[33m[ WARN] [1703001977.813036526, 4154.383000000]: TF_REPEATED_DATA ignoring data with redundant timestamp for frame odom at time 4154.437000 according to authority /pose_integrator\u001b[0m\n",
      "\u001b[33m[ WARN] [1703001977.813068988, 4154.383000000]: TF_REPEATED_DATA ignoring data with redundant timestamp for frame odom at time 4154.437000 according to authority /pose_integrator\u001b[0m\n"
     ]
    },
    {
     "name": "stderr",
     "output_type": "stream",
     "text": [
      "\u001b[33m[ WARN] [1703001978.897796431, 4154.886000000]: TF_REPEATED_DATA ignoring data with redundant timestamp for frame odom at time 4154.930000 according to authority unknown_publisher\u001b[0m\n",
      "\u001b[33m[ WARN] [1703001978.902133004, 4154.886000000]: TF_REPEATED_DATA ignoring data with redundant timestamp for frame odom at time 4154.930000 according to authority /pose_integrator\u001b[0m\n",
      "\u001b[33m[ WARN] [1703001978.902209496, 4154.886000000]: TF_REPEATED_DATA ignoring data with redundant timestamp for frame odom at time 4154.930000 according to authority /pose_integrator\u001b[0m\n",
      "\u001b[33m[ WARN] [1703001978.902262583, 4154.886000000]: TF_REPEATED_DATA ignoring data with redundant timestamp for frame odom at time 4154.930000 according to authority /pose_integrator\u001b[0m\n",
      "\u001b[33m[ WARN] [1703001978.902306553, 4154.886000000]: TF_REPEATED_DATA ignoring data with redundant timestamp for frame odom at time 4154.930000 according to authority /pose_integrator\u001b[0m\n",
      "\u001b[33m[ WARN] [1703001978.902346349, 4154.886000000]: TF_REPEATED_DATA ignoring data with redundant timestamp for frame odom at time 4154.930000 according to authority /pose_integrator\u001b[0m\n",
      "\u001b[33m[ WARN] [1703001978.902392487, 4154.886000000]: TF_REPEATED_DATA ignoring data with redundant timestamp for frame odom at time 4154.930000 according to authority /pose_integrator\u001b[0m\n",
      "\u001b[33m[ WARN] [1703001979.179450444, 4155.029000000]: TF_REPEATED_DATA ignoring data with redundant timestamp for frame odom at time 4155.056000 according to authority /pose_integrator\u001b[0m\n",
      "\u001b[33m[ WARN] [1703001979.179519985, 4155.029000000]: TF_REPEATED_DATA ignoring data with redundant timestamp for frame odom at time 4155.056000 according to authority /pose_integrator\u001b[0m\n",
      "\u001b[33m[ WARN] [1703001979.179560399, 4155.029000000]: TF_REPEATED_DATA ignoring data with redundant timestamp for frame odom at time 4155.056000 according to authority /pose_integrator\u001b[0m\n",
      "\u001b[33m[ WARN] [1703001979.179594309, 4155.029000000]: TF_REPEATED_DATA ignoring data with redundant timestamp for frame odom at time 4155.056000 according to authority /pose_integrator\u001b[0m\n",
      "\u001b[33m[ WARN] [1703001979.179631645, 4155.029000000]: TF_REPEATED_DATA ignoring data with redundant timestamp for frame odom at time 4155.056000 according to authority /pose_integrator\u001b[0m\n",
      "\u001b[33m[ WARN] [1703001979.179669639, 4155.029000000]: TF_REPEATED_DATA ignoring data with redundant timestamp for frame odom at time 4155.056000 according to authority /pose_integrator\u001b[0m\n",
      "\u001b[33m[ WARN] [1703001979.180134175, 4155.029000000]: TF_REPEATED_DATA ignoring data with redundant timestamp for frame odom at time 4155.056000 according to authority unknown_publisher\u001b[0m\n",
      "\u001b[33m[ WARN] [1703001979.953750019, 4155.344000000]: TF_REPEATED_DATA ignoring data with redundant timestamp for frame odom at time 4155.380000 according to authority unknown_publisher\u001b[0m\n",
      "\u001b[33m[ WARN] [1703001979.954360534, 4155.344000000]: TF_REPEATED_DATA ignoring data with redundant timestamp for frame odom at time 4155.380000 according to authority /pose_integrator\u001b[0m\n",
      "\u001b[33m[ WARN] [1703001979.954425128, 4155.344000000]: TF_REPEATED_DATA ignoring data with redundant timestamp for frame odom at time 4155.380000 according to authority /pose_integrator\u001b[0m\n",
      "\u001b[33m[ WARN] [1703001979.954476820, 4155.344000000]: TF_REPEATED_DATA ignoring data with redundant timestamp for frame odom at time 4155.380000 according to authority /pose_integrator\u001b[0m\n",
      "\u001b[33m[ WARN] [1703001979.954527182, 4155.344000000]: TF_REPEATED_DATA ignoring data with redundant timestamp for frame odom at time 4155.380000 according to authority /pose_integrator\u001b[0m\n",
      "\u001b[33m[ WARN] [1703001979.954573969, 4155.344000000]: TF_REPEATED_DATA ignoring data with redundant timestamp for frame odom at time 4155.380000 according to authority /pose_integrator\u001b[0m\n",
      "\u001b[33m[ WARN] [1703001979.954612465, 4155.344000000]: TF_REPEATED_DATA ignoring data with redundant timestamp for frame odom at time 4155.380000 according to authority /pose_integrator\u001b[0m\n",
      "\u001b[33m[ WARN] [1703001980.396994360, 4155.507000000]: TF_REPEATED_DATA ignoring data with redundant timestamp for frame odom at time 4155.550000 according to authority /pose_integrator\u001b[0m\n",
      "\u001b[33m[ WARN] [1703001980.397054459, 4155.507000000]: TF_REPEATED_DATA ignoring data with redundant timestamp for frame odom at time 4155.550000 according to authority /pose_integrator\u001b[0m\n",
      "\u001b[33m[ WARN] [1703001980.397092480, 4155.507000000]: TF_REPEATED_DATA ignoring data with redundant timestamp for frame odom at time 4155.550000 according to authority /pose_integrator\u001b[0m\n",
      "\u001b[33m[ WARN] [1703001980.397129239, 4155.507000000]: TF_REPEATED_DATA ignoring data with redundant timestamp for frame odom at time 4155.550000 according to authority /pose_integrator\u001b[0m\n",
      "\u001b[33m[ WARN] [1703001980.397163739, 4155.507000000]: TF_REPEATED_DATA ignoring data with redundant timestamp for frame odom at time 4155.550000 according to authority /pose_integrator\u001b[0m\n",
      "\u001b[33m[ WARN] [1703001980.397195644, 4155.507000000]: TF_REPEATED_DATA ignoring data with redundant timestamp for frame odom at time 4155.550000 according to authority /pose_integrator\u001b[0m\n",
      "\u001b[33m[ WARN] [1703001980.398423897, 4155.507000000]: TF_REPEATED_DATA ignoring data with redundant timestamp for frame odom at time 4155.550000 according to authority unknown_publisher\u001b[0m\n",
      "\u001b[33m[ WARN] [1703001981.504188327, 4156.012000000]: TF_REPEATED_DATA ignoring data with redundant timestamp for frame odom at time 4156.047000 according to authority /pose_integrator\u001b[0m\n",
      "\u001b[33m[ WARN] [1703001981.504263151, 4156.012000000]: TF_REPEATED_DATA ignoring data with redundant timestamp for frame odom at time 4156.047000 according to authority /pose_integrator\u001b[0m\n",
      "\u001b[33m[ WARN] [1703001981.504320815, 4156.012000000]: TF_REPEATED_DATA ignoring data with redundant timestamp for frame odom at time 4156.047000 according to authority /pose_integrator\u001b[0m\n",
      "\u001b[33m[ WARN] [1703001981.504375433, 4156.012000000]: TF_REPEATED_DATA ignoring data with redundant timestamp for frame odom at time 4156.047000 according to authority /pose_integrator\u001b[0m\n",
      "\u001b[33m[ WARN] [1703001981.504423793, 4156.012000000]: TF_REPEATED_DATA ignoring data with redundant timestamp for frame odom at time 4156.047000 according to authority /pose_integrator\u001b[0m\n",
      "\u001b[33m[ WARN] [1703001981.504483103, 4156.012000000]: TF_REPEATED_DATA ignoring data with redundant timestamp for frame odom at time 4156.047000 according to authority /pose_integrator\u001b[0m\n",
      "\u001b[33m[ WARN] [1703001981.504602376, 4156.012000000]: TF_REPEATED_DATA ignoring data with redundant timestamp for frame odom at time 4156.047000 according to authority unknown_publisher\u001b[0m\n",
      "\u001b[33m[ WARN] [1703001983.011876498, 4156.600000000]: TF_REPEATED_DATA ignoring data with redundant timestamp for frame odom at time 4156.619000 according to authority unknown_publisher\u001b[0m\n",
      "\u001b[33m[ WARN] [1703001983.012717247, 4156.600000000]: TF_REPEATED_DATA ignoring data with redundant timestamp for frame odom at time 4156.619000 according to authority /pose_integrator\u001b[0m\n",
      "\u001b[33m[ WARN] [1703001983.012788961, 4156.600000000]: TF_REPEATED_DATA ignoring data with redundant timestamp for frame odom at time 4156.619000 according to authority /pose_integrator\u001b[0m\n",
      "\u001b[33m[ WARN] [1703001983.012852362, 4156.600000000]: TF_REPEATED_DATA ignoring data with redundant timestamp for frame odom at time 4156.619000 according to authority /pose_integrator\u001b[0m\n",
      "\u001b[33m[ WARN] [1703001983.012906458, 4156.600000000]: TF_REPEATED_DATA ignoring data with redundant timestamp for frame odom at time 4156.619000 according to authority /pose_integrator\u001b[0m\n",
      "\u001b[33m[ WARN] [1703001983.012960310, 4156.600000000]: TF_REPEATED_DATA ignoring data with redundant timestamp for frame odom at time 4156.619000 according to authority /pose_integrator\u001b[0m\n",
      "\u001b[33m[ WARN] [1703001983.013009937, 4156.600000000]: TF_REPEATED_DATA ignoring data with redundant timestamp for frame odom at time 4156.619000 according to authority /pose_integrator\u001b[0m\n",
      "\u001b[33m[ WARN] [1703001984.390511206, 4157.086000000]: TF_REPEATED_DATA ignoring data with redundant timestamp for frame odom at time 4157.111000 according to authority unknown_publisher\u001b[0m\n",
      "\u001b[33m[ WARN] [1703001984.391670135, 4157.086000000]: TF_REPEATED_DATA ignoring data with redundant timestamp for frame odom at time 4157.111000 according to authority /pose_integrator\u001b[0m\n",
      "\u001b[33m[ WARN] [1703001984.391742552, 4157.086000000]: TF_REPEATED_DATA ignoring data with redundant timestamp for frame odom at time 4157.111000 according to authority /pose_integrator\u001b[0m\n",
      "\u001b[33m[ WARN] [1703001984.391791897, 4157.086000000]: TF_REPEATED_DATA ignoring data with redundant timestamp for frame odom at time 4157.111000 according to authority /pose_integrator\u001b[0m\n",
      "\u001b[33m[ WARN] [1703001984.391842791, 4157.086000000]: TF_REPEATED_DATA ignoring data with redundant timestamp for frame odom at time 4157.111000 according to authority /pose_integrator\u001b[0m\n",
      "\u001b[33m[ WARN] [1703001984.391897581, 4157.086000000]: TF_REPEATED_DATA ignoring data with redundant timestamp for frame odom at time 4157.111000 according to authority /pose_integrator\u001b[0m\n",
      "\u001b[33m[ WARN] [1703001984.391950716, 4157.086000000]: TF_REPEATED_DATA ignoring data with redundant timestamp for frame odom at time 4157.111000 according to authority /pose_integrator\u001b[0m\n",
      "\u001b[33m[ WARN] [1703001984.554483684, 4157.167000000]: TF_REPEATED_DATA ignoring data with redundant timestamp for frame odom at time 4157.205000 according to authority /pose_integrator\u001b[0m\n",
      "\u001b[33m[ WARN] [1703001984.554625614, 4157.167000000]: TF_REPEATED_DATA ignoring data with redundant timestamp for frame odom at time 4157.205000 according to authority /pose_integrator\u001b[0m\n",
      "\u001b[33m[ WARN] [1703001984.554672780, 4157.167000000]: TF_REPEATED_DATA ignoring data with redundant timestamp for frame odom at time 4157.205000 according to authority /pose_integrator\u001b[0m\n",
      "\u001b[33m[ WARN] [1703001984.554774075, 4157.167000000]: TF_REPEATED_DATA ignoring data with redundant timestamp for frame odom at time 4157.205000 according to authority /pose_integrator\u001b[0m\n",
      "\u001b[33m[ WARN] [1703001984.554831206, 4157.167000000]: TF_REPEATED_DATA ignoring data with redundant timestamp for frame odom at time 4157.205000 according to authority /pose_integrator\u001b[0m\n",
      "\u001b[33m[ WARN] [1703001984.554864436, 4157.167000000]: TF_REPEATED_DATA ignoring data with redundant timestamp for frame odom at time 4157.205000 according to authority /pose_integrator\u001b[0m\n",
      "\u001b[33m[ WARN] [1703001984.555537282, 4157.167000000]: TF_REPEATED_DATA ignoring data with redundant timestamp for frame odom at time 4157.205000 according to authority unknown_publisher\u001b[0m\n"
     ]
    },
    {
     "name": "stderr",
     "output_type": "stream",
     "text": [
      "\u001b[33m[ WARN] [1703001985.078107213, 4157.436000000]: TF_REPEATED_DATA ignoring data with redundant timestamp for frame odom at time 4157.478000 according to authority unknown_publisher\u001b[0m\n",
      "\u001b[33m[ WARN] [1703001985.078958286, 4157.436000000]: TF_REPEATED_DATA ignoring data with redundant timestamp for frame odom at time 4157.478000 according to authority /pose_integrator\u001b[0m\n",
      "\u001b[33m[ WARN] [1703001985.079028282, 4157.436000000]: TF_REPEATED_DATA ignoring data with redundant timestamp for frame odom at time 4157.478000 according to authority /pose_integrator\u001b[0m\n",
      "\u001b[33m[ WARN] [1703001985.079080287, 4157.436000000]: TF_REPEATED_DATA ignoring data with redundant timestamp for frame odom at time 4157.478000 according to authority /pose_integrator\u001b[0m\n",
      "\u001b[33m[ WARN] [1703001985.079124598, 4157.436000000]: TF_REPEATED_DATA ignoring data with redundant timestamp for frame odom at time 4157.478000 according to authority /pose_integrator\u001b[0m\n",
      "\u001b[33m[ WARN] [1703001985.079169660, 4157.436000000]: TF_REPEATED_DATA ignoring data with redundant timestamp for frame odom at time 4157.478000 according to authority /pose_integrator\u001b[0m\n",
      "\u001b[33m[ WARN] [1703001985.079219779, 4157.436000000]: TF_REPEATED_DATA ignoring data with redundant timestamp for frame odom at time 4157.478000 according to authority /pose_integrator\u001b[0m\n",
      "\u001b[33m[ WARN] [1703001986.092196520, 4157.954000000]: TF_REPEATED_DATA ignoring data with redundant timestamp for frame odom at time 4157.987000 according to authority /pose_integrator\u001b[0m\n",
      "\u001b[33m[ WARN] [1703001986.092255099, 4157.954000000]: TF_REPEATED_DATA ignoring data with redundant timestamp for frame odom at time 4157.987000 according to authority /pose_integrator\u001b[0m\n",
      "\u001b[33m[ WARN] [1703001986.092297839, 4157.954000000]: TF_REPEATED_DATA ignoring data with redundant timestamp for frame odom at time 4157.987000 according to authority /pose_integrator\u001b[0m\n",
      "\u001b[33m[ WARN] [1703001986.092335079, 4157.954000000]: TF_REPEATED_DATA ignoring data with redundant timestamp for frame odom at time 4157.987000 according to authority /pose_integrator\u001b[0m\n",
      "\u001b[33m[ WARN] [1703001986.092376073, 4157.954000000]: TF_REPEATED_DATA ignoring data with redundant timestamp for frame odom at time 4157.987000 according to authority /pose_integrator\u001b[0m\n",
      "\u001b[33m[ WARN] [1703001986.092409513, 4157.954000000]: TF_REPEATED_DATA ignoring data with redundant timestamp for frame odom at time 4157.987000 according to authority /pose_integrator\u001b[0m\n",
      "\u001b[33m[ WARN] [1703001986.092871193, 4157.954000000]: TF_REPEATED_DATA ignoring data with redundant timestamp for frame odom at time 4157.987000 according to authority unknown_publisher\u001b[0m\n",
      "\u001b[33m[ WARN] [1703001986.496393374, 4158.100000000]: TF_REPEATED_DATA ignoring data with redundant timestamp for frame odom at time 4158.167000 according to authority unknown_publisher\u001b[0m\n",
      "\u001b[33m[ WARN] [1703001986.496486504, 4158.100000000]: TF_REPEATED_DATA ignoring data with redundant timestamp for frame odom at time 4158.167000 according to authority /pose_integrator\u001b[0m\n",
      "\u001b[33m[ WARN] [1703001986.496546788, 4158.100000000]: TF_REPEATED_DATA ignoring data with redundant timestamp for frame odom at time 4158.167000 according to authority /pose_integrator\u001b[0m\n",
      "\u001b[33m[ WARN] [1703001986.496591989, 4158.100000000]: TF_REPEATED_DATA ignoring data with redundant timestamp for frame odom at time 4158.167000 according to authority /pose_integrator\u001b[0m\n",
      "\u001b[33m[ WARN] [1703001986.496639335, 4158.100000000]: TF_REPEATED_DATA ignoring data with redundant timestamp for frame odom at time 4158.167000 according to authority /pose_integrator\u001b[0m\n",
      "\u001b[33m[ WARN] [1703001986.496677477, 4158.100000000]: TF_REPEATED_DATA ignoring data with redundant timestamp for frame odom at time 4158.167000 according to authority /pose_integrator\u001b[0m\n",
      "\u001b[33m[ WARN] [1703001986.496714145, 4158.100000000]: TF_REPEATED_DATA ignoring data with redundant timestamp for frame odom at time 4158.167000 according to authority /pose_integrator\u001b[0m\n",
      "\u001b[33m[ WARN] [1703001986.963063050, 4158.329000000]: TF_REPEATED_DATA ignoring data with redundant timestamp for frame odom at time 4158.345000 according to authority unknown_publisher\u001b[0m\n",
      "\u001b[33m[ WARN] [1703001986.964056625, 4158.329000000]: TF_REPEATED_DATA ignoring data with redundant timestamp for frame odom at time 4158.345000 according to authority /pose_integrator\u001b[0m\n",
      "\u001b[33m[ WARN] [1703001986.964156187, 4158.329000000]: TF_REPEATED_DATA ignoring data with redundant timestamp for frame odom at time 4158.345000 according to authority /pose_integrator\u001b[0m\n",
      "\u001b[33m[ WARN] [1703001986.964225760, 4158.329000000]: TF_REPEATED_DATA ignoring data with redundant timestamp for frame odom at time 4158.345000 according to authority /pose_integrator\u001b[0m\n",
      "\u001b[33m[ WARN] [1703001986.964264279, 4158.329000000]: TF_REPEATED_DATA ignoring data with redundant timestamp for frame odom at time 4158.345000 according to authority /pose_integrator\u001b[0m\n",
      "\u001b[33m[ WARN] [1703001986.964297445, 4158.329000000]: TF_REPEATED_DATA ignoring data with redundant timestamp for frame odom at time 4158.345000 according to authority /pose_integrator\u001b[0m\n",
      "\u001b[33m[ WARN] [1703001986.964326928, 4158.329000000]: TF_REPEATED_DATA ignoring data with redundant timestamp for frame odom at time 4158.345000 according to authority /pose_integrator\u001b[0m\n",
      "\u001b[33m[ WARN] [1703001987.433682492, 4158.516000000]: TF_REPEATED_DATA ignoring data with redundant timestamp for frame odom at time 4158.539000 according to authority unknown_publisher\u001b[0m\n",
      "\u001b[33m[ WARN] [1703001987.434454114, 4158.516000000]: TF_REPEATED_DATA ignoring data with redundant timestamp for frame odom at time 4158.539000 according to authority /pose_integrator\u001b[0m\n",
      "\u001b[33m[ WARN] [1703001987.434521774, 4158.516000000]: TF_REPEATED_DATA ignoring data with redundant timestamp for frame odom at time 4158.539000 according to authority /pose_integrator\u001b[0m\n",
      "\u001b[33m[ WARN] [1703001987.434585493, 4158.516000000]: TF_REPEATED_DATA ignoring data with redundant timestamp for frame odom at time 4158.539000 according to authority /pose_integrator\u001b[0m\n",
      "\u001b[33m[ WARN] [1703001987.434649535, 4158.516000000]: TF_REPEATED_DATA ignoring data with redundant timestamp for frame odom at time 4158.539000 according to authority /pose_integrator\u001b[0m\n",
      "\u001b[33m[ WARN] [1703001987.434703588, 4158.516000000]: TF_REPEATED_DATA ignoring data with redundant timestamp for frame odom at time 4158.539000 according to authority /pose_integrator\u001b[0m\n",
      "\u001b[33m[ WARN] [1703001987.434760027, 4158.516000000]: TF_REPEATED_DATA ignoring data with redundant timestamp for frame odom at time 4158.539000 according to authority /pose_integrator\u001b[0m\n",
      "\u001b[33m[ WARN] [1703001988.721698884, 4159.046000000]: TF_REPEATED_DATA ignoring data with redundant timestamp for frame odom at time 4159.093000 according to authority unknown_publisher\u001b[0m\n",
      "\u001b[33m[ WARN] [1703001988.722852501, 4159.046000000]: TF_REPEATED_DATA ignoring data with redundant timestamp for frame odom at time 4159.093000 according to authority /pose_integrator\u001b[0m\n",
      "\u001b[33m[ WARN] [1703001988.722931806, 4159.046000000]: TF_REPEATED_DATA ignoring data with redundant timestamp for frame odom at time 4159.093000 according to authority /pose_integrator\u001b[0m\n",
      "\u001b[33m[ WARN] [1703001988.722992106, 4159.046000000]: TF_REPEATED_DATA ignoring data with redundant timestamp for frame odom at time 4159.093000 according to authority /pose_integrator\u001b[0m\n",
      "\u001b[33m[ WARN] [1703001988.723043772, 4159.046000000]: TF_REPEATED_DATA ignoring data with redundant timestamp for frame odom at time 4159.093000 according to authority /pose_integrator\u001b[0m\n",
      "\u001b[33m[ WARN] [1703001988.723089519, 4159.046000000]: TF_REPEATED_DATA ignoring data with redundant timestamp for frame odom at time 4159.093000 according to authority /pose_integrator\u001b[0m\n",
      "\u001b[33m[ WARN] [1703001988.723138970, 4159.046000000]: TF_REPEATED_DATA ignoring data with redundant timestamp for frame odom at time 4159.093000 according to authority /pose_integrator\u001b[0m\n",
      "\u001b[33m[ WARN] [1703001989.219309303, 4159.245000000]: TF_REPEATED_DATA ignoring data with redundant timestamp for frame odom at time 4159.314000 according to authority unknown_publisher\u001b[0m\n",
      "\u001b[33m[ WARN] [1703001989.220187803, 4159.245000000]: TF_REPEATED_DATA ignoring data with redundant timestamp for frame odom at time 4159.314000 according to authority /pose_integrator\u001b[0m\n",
      "\u001b[33m[ WARN] [1703001989.220252186, 4159.245000000]: TF_REPEATED_DATA ignoring data with redundant timestamp for frame odom at time 4159.314000 according to authority /pose_integrator\u001b[0m\n",
      "\u001b[33m[ WARN] [1703001989.220297701, 4159.245000000]: TF_REPEATED_DATA ignoring data with redundant timestamp for frame odom at time 4159.314000 according to authority /pose_integrator\u001b[0m\n",
      "\u001b[33m[ WARN] [1703001989.220346054, 4159.245000000]: TF_REPEATED_DATA ignoring data with redundant timestamp for frame odom at time 4159.314000 according to authority /pose_integrator\u001b[0m\n",
      "\u001b[33m[ WARN] [1703001989.220391385, 4159.245000000]: TF_REPEATED_DATA ignoring data with redundant timestamp for frame odom at time 4159.314000 according to authority /pose_integrator\u001b[0m\n",
      "\u001b[33m[ WARN] [1703001989.220431974, 4159.245000000]: TF_REPEATED_DATA ignoring data with redundant timestamp for frame odom at time 4159.314000 according to authority /pose_integrator\u001b[0m\n"
     ]
    },
    {
     "name": "stderr",
     "output_type": "stream",
     "text": [
      "\u001b[33m[ WARN] [1703001989.721961220, 4159.487000000]: TF_REPEATED_DATA ignoring data with redundant timestamp for frame odom at time 4159.521000 according to authority /pose_integrator\u001b[0m\n",
      "\u001b[33m[ WARN] [1703001989.722027260, 4159.487000000]: TF_REPEATED_DATA ignoring data with redundant timestamp for frame odom at time 4159.521000 according to authority /pose_integrator\u001b[0m\n",
      "\u001b[33m[ WARN] [1703001989.722073317, 4159.487000000]: TF_REPEATED_DATA ignoring data with redundant timestamp for frame odom at time 4159.521000 according to authority /pose_integrator\u001b[0m\n",
      "\u001b[33m[ WARN] [1703001989.722110695, 4159.487000000]: TF_REPEATED_DATA ignoring data with redundant timestamp for frame odom at time 4159.521000 according to authority /pose_integrator\u001b[0m\n",
      "\u001b[33m[ WARN] [1703001989.722143825, 4159.487000000]: TF_REPEATED_DATA ignoring data with redundant timestamp for frame odom at time 4159.521000 according to authority /pose_integrator\u001b[0m\n",
      "\u001b[33m[ WARN] [1703001989.722174582, 4159.487000000]: TF_REPEATED_DATA ignoring data with redundant timestamp for frame odom at time 4159.521000 according to authority /pose_integrator\u001b[0m\n",
      "\u001b[33m[ WARN] [1703001989.722414098, 4159.487000000]: TF_REPEATED_DATA ignoring data with redundant timestamp for frame odom at time 4159.521000 according to authority unknown_publisher\u001b[0m\n",
      "\u001b[33m[ WARN] [1703001989.990749603, 4159.579000000]: TF_REPEATED_DATA ignoring data with redundant timestamp for frame odom at time 4159.619000 according to authority /pose_integrator\u001b[0m\n",
      "\u001b[33m[ WARN] [1703001989.990817324, 4159.579000000]: TF_REPEATED_DATA ignoring data with redundant timestamp for frame odom at time 4159.619000 according to authority /pose_integrator\u001b[0m\n",
      "\u001b[33m[ WARN] [1703001989.990862606, 4159.579000000]: TF_REPEATED_DATA ignoring data with redundant timestamp for frame odom at time 4159.619000 according to authority /pose_integrator\u001b[0m\n",
      "\u001b[33m[ WARN] [1703001989.990910615, 4159.579000000]: TF_REPEATED_DATA ignoring data with redundant timestamp for frame odom at time 4159.619000 according to authority /pose_integrator\u001b[0m\n",
      "\u001b[33m[ WARN] [1703001989.990954586, 4159.579000000]: TF_REPEATED_DATA ignoring data with redundant timestamp for frame odom at time 4159.619000 according to authority /pose_integrator\u001b[0m\n",
      "\u001b[33m[ WARN] [1703001989.990986696, 4159.579000000]: TF_REPEATED_DATA ignoring data with redundant timestamp for frame odom at time 4159.619000 according to authority /pose_integrator\u001b[0m\n",
      "\u001b[33m[ WARN] [1703001989.991359985, 4159.579000000]: TF_REPEATED_DATA ignoring data with redundant timestamp for frame odom at time 4159.619000 according to authority unknown_publisher\u001b[0m\n",
      "\u001b[33m[ WARN] [1703001990.217119201, 4159.675000000]: TF_REPEATED_DATA ignoring data with redundant timestamp for frame odom at time 4159.725000 according to authority /pose_integrator\u001b[0m\n",
      "\u001b[33m[ WARN] [1703001990.217198777, 4159.675000000]: TF_REPEATED_DATA ignoring data with redundant timestamp for frame odom at time 4159.725000 according to authority /pose_integrator\u001b[0m\n",
      "\u001b[33m[ WARN] [1703001990.217245577, 4159.675000000]: TF_REPEATED_DATA ignoring data with redundant timestamp for frame odom at time 4159.725000 according to authority /pose_integrator\u001b[0m\n",
      "\u001b[33m[ WARN] [1703001990.217285593, 4159.675000000]: TF_REPEATED_DATA ignoring data with redundant timestamp for frame odom at time 4159.725000 according to authority /pose_integrator\u001b[0m\n",
      "\u001b[33m[ WARN] [1703001990.217332303, 4159.675000000]: TF_REPEATED_DATA ignoring data with redundant timestamp for frame odom at time 4159.725000 according to authority /pose_integrator\u001b[0m\n",
      "\u001b[33m[ WARN] [1703001990.217371632, 4159.675000000]: TF_REPEATED_DATA ignoring data with redundant timestamp for frame odom at time 4159.725000 according to authority /pose_integrator\u001b[0m\n",
      "\u001b[33m[ WARN] [1703001990.217565746, 4159.675000000]: TF_REPEATED_DATA ignoring data with redundant timestamp for frame odom at time 4159.725000 according to authority unknown_publisher\u001b[0m\n",
      "\u001b[33m[ WARN] [1703001991.175272836, 4160.067000000]: TF_REPEATED_DATA ignoring data with redundant timestamp for frame odom at time 4160.096000 according to authority unknown_publisher\u001b[0m\n",
      "\u001b[33m[ WARN] [1703001991.175460956, 4160.067000000]: TF_REPEATED_DATA ignoring data with redundant timestamp for frame odom at time 4160.096000 according to authority /pose_integrator\u001b[0m\n",
      "\u001b[33m[ WARN] [1703001991.175522867, 4160.067000000]: TF_REPEATED_DATA ignoring data with redundant timestamp for frame odom at time 4160.096000 according to authority /pose_integrator\u001b[0m\n",
      "\u001b[33m[ WARN] [1703001991.175575541, 4160.067000000]: TF_REPEATED_DATA ignoring data with redundant timestamp for frame odom at time 4160.096000 according to authority /pose_integrator\u001b[0m\n",
      "\u001b[33m[ WARN] [1703001991.175661825, 4160.067000000]: TF_REPEATED_DATA ignoring data with redundant timestamp for frame odom at time 4160.096000 according to authority /pose_integrator\u001b[0m\n",
      "\u001b[33m[ WARN] [1703001991.175700454, 4160.067000000]: TF_REPEATED_DATA ignoring data with redundant timestamp for frame odom at time 4160.096000 according to authority /pose_integrator\u001b[0m\n",
      "\u001b[33m[ WARN] [1703001991.175745815, 4160.067000000]: TF_REPEATED_DATA ignoring data with redundant timestamp for frame odom at time 4160.096000 according to authority /pose_integrator\u001b[0m\n",
      "\u001b[33m[ WARN] [1703001991.774965273, 4160.309000000]: TF_REPEATED_DATA ignoring data with redundant timestamp for frame odom at time 4160.348000 according to authority unknown_publisher\u001b[0m\n",
      "\u001b[33m[ WARN] [1703001991.775231844, 4160.309000000]: TF_REPEATED_DATA ignoring data with redundant timestamp for frame odom at time 4160.348000 according to authority /pose_integrator\u001b[0m\n",
      "\u001b[33m[ WARN] [1703001991.775285769, 4160.309000000]: TF_REPEATED_DATA ignoring data with redundant timestamp for frame odom at time 4160.348000 according to authority /pose_integrator\u001b[0m\n",
      "\u001b[33m[ WARN] [1703001991.775327755, 4160.309000000]: TF_REPEATED_DATA ignoring data with redundant timestamp for frame odom at time 4160.348000 according to authority /pose_integrator\u001b[0m\n",
      "\u001b[33m[ WARN] [1703001991.775361786, 4160.309000000]: TF_REPEATED_DATA ignoring data with redundant timestamp for frame odom at time 4160.348000 according to authority /pose_integrator\u001b[0m\n",
      "\u001b[33m[ WARN] [1703001991.775394077, 4160.309000000]: TF_REPEATED_DATA ignoring data with redundant timestamp for frame odom at time 4160.348000 according to authority /pose_integrator\u001b[0m\n",
      "\u001b[33m[ WARN] [1703001991.775427769, 4160.309000000]: TF_REPEATED_DATA ignoring data with redundant timestamp for frame odom at time 4160.348000 according to authority /pose_integrator\u001b[0m\n",
      "\u001b[33m[ WARN] [1703001992.119629945, 4160.448000000]: TF_REPEATED_DATA ignoring data with redundant timestamp for frame odom at time 4160.521000 according to authority /pose_integrator\u001b[0m\n",
      "\u001b[33m[ WARN] [1703001992.119696273, 4160.448000000]: TF_REPEATED_DATA ignoring data with redundant timestamp for frame odom at time 4160.521000 according to authority unknown_publisher\u001b[0m\n",
      "\u001b[33m[ WARN] [1703001992.119924133, 4160.448000000]: TF_REPEATED_DATA ignoring data with redundant timestamp for frame odom at time 4160.521000 according to authority /pose_integrator\u001b[0m\n",
      "\u001b[33m[ WARN] [1703001992.120176829, 4160.448000000]: TF_REPEATED_DATA ignoring data with redundant timestamp for frame odom at time 4160.521000 according to authority /pose_integrator\u001b[0m\n",
      "\u001b[33m[ WARN] [1703001992.120223497, 4160.448000000]: TF_REPEATED_DATA ignoring data with redundant timestamp for frame odom at time 4160.521000 according to authority /pose_integrator\u001b[0m\n",
      "\u001b[33m[ WARN] [1703001992.120260012, 4160.448000000]: TF_REPEATED_DATA ignoring data with redundant timestamp for frame odom at time 4160.521000 according to authority /pose_integrator\u001b[0m\n",
      "\u001b[33m[ WARN] [1703001992.120292080, 4160.448000000]: TF_REPEATED_DATA ignoring data with redundant timestamp for frame odom at time 4160.521000 according to authority /pose_integrator\u001b[0m\n",
      "\u001b[33m[ WARN] [1703001992.814536588, 4160.792000000]: TF_REPEATED_DATA ignoring data with redundant timestamp for frame odom at time 4160.840000 according to authority /pose_integrator\u001b[0m\n",
      "\u001b[33m[ WARN] [1703001992.814622778, 4160.792000000]: TF_REPEATED_DATA ignoring data with redundant timestamp for frame odom at time 4160.840000 according to authority /pose_integrator\u001b[0m\n",
      "\u001b[33m[ WARN] [1703001992.814668241, 4160.792000000]: TF_REPEATED_DATA ignoring data with redundant timestamp for frame odom at time 4160.840000 according to authority /pose_integrator\u001b[0m\n",
      "\u001b[33m[ WARN] [1703001992.814717930, 4160.792000000]: TF_REPEATED_DATA ignoring data with redundant timestamp for frame odom at time 4160.840000 according to authority /pose_integrator\u001b[0m\n",
      "\u001b[33m[ WARN] [1703001992.814772303, 4160.792000000]: TF_REPEATED_DATA ignoring data with redundant timestamp for frame odom at time 4160.840000 according to authority /pose_integrator\u001b[0m\n",
      "\u001b[33m[ WARN] [1703001992.814825725, 4160.792000000]: TF_REPEATED_DATA ignoring data with redundant timestamp for frame odom at time 4160.840000 according to authority /pose_integrator\u001b[0m\n",
      "\u001b[33m[ WARN] [1703001992.814889479, 4160.792000000]: TF_REPEATED_DATA ignoring data with redundant timestamp for frame odom at time 4160.840000 according to authority unknown_publisher\u001b[0m\n"
     ]
    },
    {
     "name": "stderr",
     "output_type": "stream",
     "text": [
      "\u001b[33m[ WARN] [1703001993.843295482, 4161.220000000]: TF_REPEATED_DATA ignoring data with redundant timestamp for frame odom at time 4161.266000 according to authority unknown_publisher\u001b[0m\n",
      "\u001b[33m[ WARN] [1703001993.844112461, 4161.220000000]: TF_REPEATED_DATA ignoring data with redundant timestamp for frame odom at time 4161.266000 according to authority /pose_integrator\u001b[0m\n",
      "\u001b[33m[ WARN] [1703001993.844190604, 4161.220000000]: TF_REPEATED_DATA ignoring data with redundant timestamp for frame odom at time 4161.266000 according to authority /pose_integrator\u001b[0m\n",
      "\u001b[33m[ WARN] [1703001993.844251616, 4161.220000000]: TF_REPEATED_DATA ignoring data with redundant timestamp for frame odom at time 4161.266000 according to authority /pose_integrator\u001b[0m\n",
      "\u001b[33m[ WARN] [1703001993.844302014, 4161.220000000]: TF_REPEATED_DATA ignoring data with redundant timestamp for frame odom at time 4161.266000 according to authority /pose_integrator\u001b[0m\n",
      "\u001b[33m[ WARN] [1703001993.844356352, 4161.220000000]: TF_REPEATED_DATA ignoring data with redundant timestamp for frame odom at time 4161.266000 according to authority /pose_integrator\u001b[0m\n",
      "\u001b[33m[ WARN] [1703001993.844413795, 4161.220000000]: TF_REPEATED_DATA ignoring data with redundant timestamp for frame odom at time 4161.266000 according to authority /pose_integrator\u001b[0m\n",
      "\u001b[33m[ WARN] [1703001994.015311097, 4161.321000000]: TF_REPEATED_DATA ignoring data with redundant timestamp for frame odom at time 4161.352000 according to authority unknown_publisher\u001b[0m\n",
      "\u001b[33m[ WARN] [1703001994.017111121, 4161.321000000]: TF_REPEATED_DATA ignoring data with redundant timestamp for frame odom at time 4161.352000 according to authority /pose_integrator\u001b[0m\n",
      "\u001b[33m[ WARN] [1703001994.017172345, 4161.321000000]: TF_REPEATED_DATA ignoring data with redundant timestamp for frame odom at time 4161.352000 according to authority /pose_integrator\u001b[0m\n",
      "\u001b[33m[ WARN] [1703001994.017219578, 4161.321000000]: TF_REPEATED_DATA ignoring data with redundant timestamp for frame odom at time 4161.352000 according to authority /pose_integrator\u001b[0m\n",
      "\u001b[33m[ WARN] [1703001994.017257827, 4161.321000000]: TF_REPEATED_DATA ignoring data with redundant timestamp for frame odom at time 4161.352000 according to authority /pose_integrator\u001b[0m\n",
      "\u001b[33m[ WARN] [1703001994.017293751, 4161.321000000]: TF_REPEATED_DATA ignoring data with redundant timestamp for frame odom at time 4161.352000 according to authority /pose_integrator\u001b[0m\n",
      "\u001b[33m[ WARN] [1703001994.017329688, 4161.321000000]: TF_REPEATED_DATA ignoring data with redundant timestamp for frame odom at time 4161.352000 according to authority /pose_integrator\u001b[0m\n",
      "\u001b[33m[ WARN] [1703001995.160545913, 4161.784000000]: TF_REPEATED_DATA ignoring data with redundant timestamp for frame odom at time 4161.838000 according to authority /pose_integrator\u001b[0m\n",
      "\u001b[33m[ WARN] [1703001995.160625774, 4161.784000000]: TF_REPEATED_DATA ignoring data with redundant timestamp for frame odom at time 4161.838000 according to authority /pose_integrator\u001b[0m\n",
      "\u001b[33m[ WARN] [1703001995.160679296, 4161.784000000]: TF_REPEATED_DATA ignoring data with redundant timestamp for frame odom at time 4161.838000 according to authority /pose_integrator\u001b[0m\n",
      "\u001b[33m[ WARN] [1703001995.160721423, 4161.784000000]: TF_REPEATED_DATA ignoring data with redundant timestamp for frame odom at time 4161.838000 according to authority /pose_integrator\u001b[0m\n",
      "\u001b[33m[ WARN] [1703001995.160766390, 4161.784000000]: TF_REPEATED_DATA ignoring data with redundant timestamp for frame odom at time 4161.838000 according to authority /pose_integrator\u001b[0m\n",
      "\u001b[33m[ WARN] [1703001995.160816780, 4161.784000000]: TF_REPEATED_DATA ignoring data with redundant timestamp for frame odom at time 4161.838000 according to authority /pose_integrator\u001b[0m\n",
      "\u001b[33m[ WARN] [1703001995.162069779, 4161.784000000]: TF_REPEATED_DATA ignoring data with redundant timestamp for frame odom at time 4161.838000 according to authority unknown_publisher\u001b[0m\n",
      "\u001b[33m[ WARN] [1703001995.655146085, 4161.977000000]: TF_REPEATED_DATA ignoring data with redundant timestamp for frame odom at time 4162.027000 according to authority unknown_publisher\u001b[0m\n",
      "\u001b[33m[ WARN] [1703001995.655394311, 4161.977000000]: TF_REPEATED_DATA ignoring data with redundant timestamp for frame odom at time 4162.027000 according to authority /pose_integrator\u001b[0m\n",
      "\u001b[33m[ WARN] [1703001995.655451895, 4161.977000000]: TF_REPEATED_DATA ignoring data with redundant timestamp for frame odom at time 4162.027000 according to authority /pose_integrator\u001b[0m\n",
      "\u001b[33m[ WARN] [1703001995.655501356, 4161.977000000]: TF_REPEATED_DATA ignoring data with redundant timestamp for frame odom at time 4162.027000 according to authority /pose_integrator\u001b[0m\n",
      "\u001b[33m[ WARN] [1703001995.655554150, 4161.977000000]: TF_REPEATED_DATA ignoring data with redundant timestamp for frame odom at time 4162.027000 according to authority /pose_integrator\u001b[0m\n",
      "\u001b[33m[ WARN] [1703001995.655609681, 4161.977000000]: TF_REPEATED_DATA ignoring data with redundant timestamp for frame odom at time 4162.027000 according to authority /pose_integrator\u001b[0m\n",
      "\u001b[33m[ WARN] [1703001995.655668178, 4161.977000000]: TF_REPEATED_DATA ignoring data with redundant timestamp for frame odom at time 4162.027000 according to authority /pose_integrator\u001b[0m\n",
      "\u001b[33m[ WARN] [1703001995.829042080, 4162.096000000]: TF_REPEATED_DATA ignoring data with redundant timestamp for frame odom at time 4162.135000 according to authority /pose_integrator\u001b[0m\n",
      "\u001b[33m[ WARN] [1703001995.829116282, 4162.096000000]: TF_REPEATED_DATA ignoring data with redundant timestamp for frame odom at time 4162.135000 according to authority /pose_integrator\u001b[0m\n",
      "\u001b[33m[ WARN] [1703001995.829175409, 4162.096000000]: TF_REPEATED_DATA ignoring data with redundant timestamp for frame odom at time 4162.135000 according to authority /pose_integrator\u001b[0m\n",
      "\u001b[33m[ WARN] [1703001995.829218294, 4162.096000000]: TF_REPEATED_DATA ignoring data with redundant timestamp for frame odom at time 4162.135000 according to authority /pose_integrator\u001b[0m\n",
      "\u001b[33m[ WARN] [1703001995.829265698, 4162.096000000]: TF_REPEATED_DATA ignoring data with redundant timestamp for frame odom at time 4162.135000 according to authority /pose_integrator\u001b[0m\n",
      "\u001b[33m[ WARN] [1703001995.829306943, 4162.096000000]: TF_REPEATED_DATA ignoring data with redundant timestamp for frame odom at time 4162.135000 according to authority /pose_integrator\u001b[0m\n",
      "\u001b[33m[ WARN] [1703001995.830581959, 4162.096000000]: TF_REPEATED_DATA ignoring data with redundant timestamp for frame odom at time 4162.135000 according to authority unknown_publisher\u001b[0m\n",
      "\u001b[33m[ WARN] [1703001996.026618610, 4162.180000000]: TF_REPEATED_DATA ignoring data with redundant timestamp for frame odom at time 4162.225000 according to authority unknown_publisher\u001b[0m\n",
      "\u001b[33m[ WARN] [1703001996.026819598, 4162.180000000]: TF_REPEATED_DATA ignoring data with redundant timestamp for frame odom at time 4162.225000 according to authority /pose_integrator\u001b[0m\n",
      "\u001b[33m[ WARN] [1703001996.026882727, 4162.180000000]: TF_REPEATED_DATA ignoring data with redundant timestamp for frame odom at time 4162.225000 according to authority /pose_integrator\u001b[0m\n",
      "\u001b[33m[ WARN] [1703001996.026931867, 4162.180000000]: TF_REPEATED_DATA ignoring data with redundant timestamp for frame odom at time 4162.225000 according to authority /pose_integrator\u001b[0m\n",
      "\u001b[33m[ WARN] [1703001996.026977007, 4162.180000000]: TF_REPEATED_DATA ignoring data with redundant timestamp for frame odom at time 4162.225000 according to authority /pose_integrator\u001b[0m\n",
      "\u001b[33m[ WARN] [1703001996.027025859, 4162.180000000]: TF_REPEATED_DATA ignoring data with redundant timestamp for frame odom at time 4162.225000 according to authority /pose_integrator\u001b[0m\n",
      "\u001b[33m[ WARN] [1703001996.027074039, 4162.180000000]: TF_REPEATED_DATA ignoring data with redundant timestamp for frame odom at time 4162.225000 according to authority /pose_integrator\u001b[0m\n",
      "\u001b[33m[ WARN] [1703001997.437955977, 4162.716000000]: TF_REPEATED_DATA ignoring data with redundant timestamp for frame odom at time 4162.748000 according to authority unknown_publisher\u001b[0m\n",
      "\u001b[33m[ WARN] [1703001997.438614068, 4162.716000000]: TF_REPEATED_DATA ignoring data with redundant timestamp for frame odom at time 4162.748000 according to authority /pose_integrator\u001b[0m\n",
      "\u001b[33m[ WARN] [1703001997.438685998, 4162.716000000]: TF_REPEATED_DATA ignoring data with redundant timestamp for frame odom at time 4162.748000 according to authority /pose_integrator\u001b[0m\n",
      "\u001b[33m[ WARN] [1703001997.438738235, 4162.716000000]: TF_REPEATED_DATA ignoring data with redundant timestamp for frame odom at time 4162.748000 according to authority /pose_integrator\u001b[0m\n",
      "\u001b[33m[ WARN] [1703001997.438783828, 4162.716000000]: TF_REPEATED_DATA ignoring data with redundant timestamp for frame odom at time 4162.748000 according to authority /pose_integrator\u001b[0m\n",
      "\u001b[33m[ WARN] [1703001997.438835174, 4162.716000000]: TF_REPEATED_DATA ignoring data with redundant timestamp for frame odom at time 4162.748000 according to authority /pose_integrator\u001b[0m\n",
      "\u001b[33m[ WARN] [1703001997.438881539, 4162.716000000]: TF_REPEATED_DATA ignoring data with redundant timestamp for frame odom at time 4162.748000 according to authority /pose_integrator\u001b[0m\n"
     ]
    },
    {
     "name": "stderr",
     "output_type": "stream",
     "text": [
      "\u001b[33m[ WARN] [1703001998.466635422, 4163.183000000]: TF_REPEATED_DATA ignoring data with redundant timestamp for frame odom at time 4163.262000 according to authority /pose_integrator\u001b[0m\n",
      "\u001b[33m[ WARN] [1703001998.466700714, 4163.183000000]: TF_REPEATED_DATA ignoring data with redundant timestamp for frame odom at time 4163.262000 according to authority /pose_integrator\u001b[0m\n",
      "\u001b[33m[ WARN] [1703001998.466744500, 4163.183000000]: TF_REPEATED_DATA ignoring data with redundant timestamp for frame odom at time 4163.262000 according to authority /pose_integrator\u001b[0m\n",
      "\u001b[33m[ WARN] [1703001998.466781794, 4163.183000000]: TF_REPEATED_DATA ignoring data with redundant timestamp for frame odom at time 4163.262000 according to authority /pose_integrator\u001b[0m\n",
      "\u001b[33m[ WARN] [1703001998.466824627, 4163.183000000]: TF_REPEATED_DATA ignoring data with redundant timestamp for frame odom at time 4163.262000 according to authority /pose_integrator\u001b[0m\n",
      "\u001b[33m[ WARN] [1703001998.466864586, 4163.183000000]: TF_REPEATED_DATA ignoring data with redundant timestamp for frame odom at time 4163.262000 according to authority /pose_integrator\u001b[0m\n",
      "\u001b[33m[ WARN] [1703001998.467931761, 4163.183000000]: TF_REPEATED_DATA ignoring data with redundant timestamp for frame odom at time 4163.262000 according to authority unknown_publisher\u001b[0m\n",
      "\u001b[33m[ WARN] [1703001999.113378736, 4163.526000000]: TF_REPEATED_DATA ignoring data with redundant timestamp for frame odom at time 4163.575000 according to authority unknown_publisher\u001b[0m\n",
      "\u001b[33m[ WARN] [1703001999.114819497, 4163.526000000]: TF_REPEATED_DATA ignoring data with redundant timestamp for frame odom at time 4163.575000 according to authority /pose_integrator\u001b[0m\n",
      "\u001b[33m[ WARN] [1703001999.114882830, 4163.526000000]: TF_REPEATED_DATA ignoring data with redundant timestamp for frame odom at time 4163.575000 according to authority /pose_integrator\u001b[0m\n",
      "\u001b[33m[ WARN] [1703001999.114920039, 4163.526000000]: TF_REPEATED_DATA ignoring data with redundant timestamp for frame odom at time 4163.575000 according to authority /pose_integrator\u001b[0m\n",
      "\u001b[33m[ WARN] [1703001999.114952194, 4163.526000000]: TF_REPEATED_DATA ignoring data with redundant timestamp for frame odom at time 4163.575000 according to authority /pose_integrator\u001b[0m\n",
      "\u001b[33m[ WARN] [1703001999.114984156, 4163.526000000]: TF_REPEATED_DATA ignoring data with redundant timestamp for frame odom at time 4163.575000 according to authority /pose_integrator\u001b[0m\n",
      "\u001b[33m[ WARN] [1703001999.115031384, 4163.526000000]: TF_REPEATED_DATA ignoring data with redundant timestamp for frame odom at time 4163.575000 according to authority /pose_integrator\u001b[0m\n",
      "\u001b[33m[ WARN] [1703002001.519665264, 4164.595000000]: TF_REPEATED_DATA ignoring data with redundant timestamp for frame odom at time 4164.617000 according to authority /pose_integrator\u001b[0m\n",
      "\u001b[33m[ WARN] [1703002001.519745633, 4164.595000000]: TF_REPEATED_DATA ignoring data with redundant timestamp for frame odom at time 4164.617000 according to authority /pose_integrator\u001b[0m\n",
      "\u001b[33m[ WARN] [1703002001.519799350, 4164.595000000]: TF_REPEATED_DATA ignoring data with redundant timestamp for frame odom at time 4164.617000 according to authority /pose_integrator\u001b[0m\n",
      "\u001b[33m[ WARN] [1703002001.519836125, 4164.595000000]: TF_REPEATED_DATA ignoring data with redundant timestamp for frame odom at time 4164.617000 according to authority /pose_integrator\u001b[0m\n",
      "\u001b[33m[ WARN] [1703002001.519886439, 4164.595000000]: TF_REPEATED_DATA ignoring data with redundant timestamp for frame odom at time 4164.617000 according to authority /pose_integrator\u001b[0m\n",
      "\u001b[33m[ WARN] [1703002001.519934378, 4164.595000000]: TF_REPEATED_DATA ignoring data with redundant timestamp for frame odom at time 4164.617000 according to authority /pose_integrator\u001b[0m\n",
      "\u001b[33m[ WARN] [1703002001.520881137, 4164.595000000]: TF_REPEATED_DATA ignoring data with redundant timestamp for frame odom at time 4164.617000 according to authority unknown_publisher\u001b[0m\n",
      "\u001b[33m[ WARN] [1703002001.749097497, 4164.683000000]: TF_REPEATED_DATA ignoring data with redundant timestamp for frame odom at time 4164.706000 according to authority /pose_integrator\u001b[0m\n",
      "\u001b[33m[ WARN] [1703002001.749176987, 4164.683000000]: TF_REPEATED_DATA ignoring data with redundant timestamp for frame odom at time 4164.706000 according to authority /pose_integrator\u001b[0m\n",
      "\u001b[33m[ WARN] [1703002001.749235000, 4164.683000000]: TF_REPEATED_DATA ignoring data with redundant timestamp for frame odom at time 4164.706000 according to authority /pose_integrator\u001b[0m\n",
      "\u001b[33m[ WARN] [1703002001.749290154, 4164.683000000]: TF_REPEATED_DATA ignoring data with redundant timestamp for frame odom at time 4164.706000 according to authority /pose_integrator\u001b[0m\n",
      "\u001b[33m[ WARN] [1703002001.749338473, 4164.683000000]: TF_REPEATED_DATA ignoring data with redundant timestamp for frame odom at time 4164.706000 according to authority /pose_integrator\u001b[0m\n",
      "\u001b[33m[ WARN] [1703002001.749389799, 4164.683000000]: TF_REPEATED_DATA ignoring data with redundant timestamp for frame odom at time 4164.706000 according to authority /pose_integrator\u001b[0m\n",
      "\u001b[33m[ WARN] [1703002001.749943665, 4164.683000000]: TF_REPEATED_DATA ignoring data with redundant timestamp for frame odom at time 4164.706000 according to authority unknown_publisher\u001b[0m\n",
      "\u001b[33m[ WARN] [1703002002.480003901, 4164.980000000]: TF_REPEATED_DATA ignoring data with redundant timestamp for frame odom at time 4165.022000 according to authority unknown_publisher\u001b[0m\n",
      "\u001b[33m[ WARN] [1703002002.480603956, 4164.980000000]: TF_REPEATED_DATA ignoring data with redundant timestamp for frame odom at time 4165.022000 according to authority /pose_integrator\u001b[0m\n",
      "\u001b[33m[ WARN] [1703002002.480674791, 4164.980000000]: TF_REPEATED_DATA ignoring data with redundant timestamp for frame odom at time 4165.022000 according to authority /pose_integrator\u001b[0m\n",
      "\u001b[33m[ WARN] [1703002002.480714585, 4164.980000000]: TF_REPEATED_DATA ignoring data with redundant timestamp for frame odom at time 4165.022000 according to authority /pose_integrator\u001b[0m\n",
      "\u001b[33m[ WARN] [1703002002.480751068, 4164.980000000]: TF_REPEATED_DATA ignoring data with redundant timestamp for frame odom at time 4165.022000 according to authority /pose_integrator\u001b[0m\n",
      "\u001b[33m[ WARN] [1703002002.480787364, 4164.980000000]: TF_REPEATED_DATA ignoring data with redundant timestamp for frame odom at time 4165.022000 according to authority /pose_integrator\u001b[0m\n",
      "\u001b[33m[ WARN] [1703002002.480823805, 4164.980000000]: TF_REPEATED_DATA ignoring data with redundant timestamp for frame odom at time 4165.022000 according to authority /pose_integrator\u001b[0m\n",
      "\u001b[33m[ WARN] [1703002002.753441619, 4165.117000000]: TF_REPEATED_DATA ignoring data with redundant timestamp for frame odom at time 4165.157000 according to authority unknown_publisher\u001b[0m\n",
      "\u001b[33m[ WARN] [1703002002.754069267, 4165.117000000]: TF_REPEATED_DATA ignoring data with redundant timestamp for frame odom at time 4165.157000 according to authority /pose_integrator\u001b[0m\n",
      "\u001b[33m[ WARN] [1703002002.754149673, 4165.117000000]: TF_REPEATED_DATA ignoring data with redundant timestamp for frame odom at time 4165.157000 according to authority /pose_integrator\u001b[0m\n",
      "\u001b[33m[ WARN] [1703002002.754199828, 4165.117000000]: TF_REPEATED_DATA ignoring data with redundant timestamp for frame odom at time 4165.157000 according to authority /pose_integrator\u001b[0m\n",
      "\u001b[33m[ WARN] [1703002002.754255805, 4165.117000000]: TF_REPEATED_DATA ignoring data with redundant timestamp for frame odom at time 4165.157000 according to authority /pose_integrator\u001b[0m\n",
      "\u001b[33m[ WARN] [1703002002.754303978, 4165.117000000]: TF_REPEATED_DATA ignoring data with redundant timestamp for frame odom at time 4165.157000 according to authority /pose_integrator\u001b[0m\n",
      "\u001b[33m[ WARN] [1703002002.754348420, 4165.117000000]: TF_REPEATED_DATA ignoring data with redundant timestamp for frame odom at time 4165.157000 according to authority /pose_integrator\u001b[0m\n",
      "\u001b[33m[ WARN] [1703002002.926117041, 4165.179000000]: TF_REPEATED_DATA ignoring data with redundant timestamp for frame odom at time 4165.225000 according to authority /pose_integrator\u001b[0m\n",
      "\u001b[33m[ WARN] [1703002002.926198005, 4165.179000000]: TF_REPEATED_DATA ignoring data with redundant timestamp for frame odom at time 4165.225000 according to authority /pose_integrator\u001b[0m\n",
      "\u001b[33m[ WARN] [1703002002.926252475, 4165.179000000]: TF_REPEATED_DATA ignoring data with redundant timestamp for frame odom at time 4165.225000 according to authority /pose_integrator\u001b[0m\n",
      "\u001b[33m[ WARN] [1703002002.926299847, 4165.179000000]: TF_REPEATED_DATA ignoring data with redundant timestamp for frame odom at time 4165.225000 according to authority unknown_publisher\u001b[0m\n",
      "\u001b[33m[ WARN] [1703002002.926450241, 4165.179000000]: TF_REPEATED_DATA ignoring data with redundant timestamp for frame odom at time 4165.225000 according to authority /pose_integrator\u001b[0m\n",
      "\u001b[33m[ WARN] [1703002002.926519510, 4165.179000000]: TF_REPEATED_DATA ignoring data with redundant timestamp for frame odom at time 4165.225000 according to authority /pose_integrator\u001b[0m\n",
      "\u001b[33m[ WARN] [1703002002.926568727, 4165.179000000]: TF_REPEATED_DATA ignoring data with redundant timestamp for frame odom at time 4165.225000 according to authority /pose_integrator\u001b[0m\n"
     ]
    },
    {
     "name": "stderr",
     "output_type": "stream",
     "text": [
      "\u001b[33m[ WARN] [1703002003.330245534, 4165.366000000]: TF_REPEATED_DATA ignoring data with redundant timestamp for frame odom at time 4165.391000 according to authority /pose_integrator\u001b[0m\n",
      "\u001b[33m[ WARN] [1703002003.330310501, 4165.366000000]: TF_REPEATED_DATA ignoring data with redundant timestamp for frame odom at time 4165.391000 according to authority /pose_integrator\u001b[0m\n",
      "\u001b[33m[ WARN] [1703002003.330359839, 4165.366000000]: TF_REPEATED_DATA ignoring data with redundant timestamp for frame odom at time 4165.391000 according to authority /pose_integrator\u001b[0m\n",
      "\u001b[33m[ WARN] [1703002003.330405311, 4165.366000000]: TF_REPEATED_DATA ignoring data with redundant timestamp for frame odom at time 4165.391000 according to authority /pose_integrator\u001b[0m\n",
      "\u001b[33m[ WARN] [1703002003.330463327, 4165.366000000]: TF_REPEATED_DATA ignoring data with redundant timestamp for frame odom at time 4165.391000 according to authority /pose_integrator\u001b[0m\n",
      "\u001b[33m[ WARN] [1703002003.330504118, 4165.366000000]: TF_REPEATED_DATA ignoring data with redundant timestamp for frame odom at time 4165.391000 according to authority /pose_integrator\u001b[0m\n",
      "\u001b[33m[ WARN] [1703002003.330577553, 4165.366000000]: TF_REPEATED_DATA ignoring data with redundant timestamp for frame odom at time 4165.391000 according to authority unknown_publisher\u001b[0m\n",
      "\u001b[33m[ WARN] [1703002003.552359708, 4165.436000000]: TF_REPEATED_DATA ignoring data with redundant timestamp for frame odom at time 4165.475000 according to authority unknown_publisher\u001b[0m\n",
      "\u001b[33m[ WARN] [1703002003.552820925, 4165.436000000]: TF_REPEATED_DATA ignoring data with redundant timestamp for frame odom at time 4165.475000 according to authority /pose_integrator\u001b[0m\n",
      "\u001b[33m[ WARN] [1703002003.552888134, 4165.436000000]: TF_REPEATED_DATA ignoring data with redundant timestamp for frame odom at time 4165.475000 according to authority /pose_integrator\u001b[0m\n",
      "\u001b[33m[ WARN] [1703002003.552952607, 4165.436000000]: TF_REPEATED_DATA ignoring data with redundant timestamp for frame odom at time 4165.475000 according to authority /pose_integrator\u001b[0m\n",
      "\u001b[33m[ WARN] [1703002003.553005275, 4165.436000000]: TF_REPEATED_DATA ignoring data with redundant timestamp for frame odom at time 4165.475000 according to authority /pose_integrator\u001b[0m\n",
      "\u001b[33m[ WARN] [1703002003.553041465, 4165.436000000]: TF_REPEATED_DATA ignoring data with redundant timestamp for frame odom at time 4165.475000 according to authority /pose_integrator\u001b[0m\n",
      "\u001b[33m[ WARN] [1703002003.553320164, 4165.436000000]: TF_REPEATED_DATA ignoring data with redundant timestamp for frame odom at time 4165.475000 according to authority /pose_integrator\u001b[0m\n",
      "\u001b[33m[ WARN] [1703002004.270943736, 4165.740000000]: TF_REPEATED_DATA ignoring data with redundant timestamp for frame odom at time 4165.764000 according to authority unknown_publisher\u001b[0m\n",
      "\u001b[33m[ WARN] [1703002004.271858810, 4165.740000000]: TF_REPEATED_DATA ignoring data with redundant timestamp for frame odom at time 4165.764000 according to authority /pose_integrator\u001b[0m\n",
      "\u001b[33m[ WARN] [1703002004.271928146, 4165.740000000]: TF_REPEATED_DATA ignoring data with redundant timestamp for frame odom at time 4165.764000 according to authority /pose_integrator\u001b[0m\n",
      "\u001b[33m[ WARN] [1703002004.271979680, 4165.740000000]: TF_REPEATED_DATA ignoring data with redundant timestamp for frame odom at time 4165.764000 according to authority /pose_integrator\u001b[0m\n",
      "\u001b[33m[ WARN] [1703002004.272027549, 4165.740000000]: TF_REPEATED_DATA ignoring data with redundant timestamp for frame odom at time 4165.764000 according to authority /pose_integrator\u001b[0m\n",
      "\u001b[33m[ WARN] [1703002004.272080202, 4165.740000000]: TF_REPEATED_DATA ignoring data with redundant timestamp for frame odom at time 4165.764000 according to authority /pose_integrator\u001b[0m\n",
      "\u001b[33m[ WARN] [1703002004.272129174, 4165.740000000]: TF_REPEATED_DATA ignoring data with redundant timestamp for frame odom at time 4165.764000 according to authority /pose_integrator\u001b[0m\n",
      "\u001b[33m[ WARN] [1703002005.408640836, 4166.227000000]: TF_REPEATED_DATA ignoring data with redundant timestamp for frame odom at time 4166.274000 according to authority unknown_publisher\u001b[0m\n",
      "\u001b[33m[ WARN] [1703002005.410130026, 4166.227000000]: TF_REPEATED_DATA ignoring data with redundant timestamp for frame odom at time 4166.274000 according to authority /pose_integrator\u001b[0m\n",
      "\u001b[33m[ WARN] [1703002005.410216591, 4166.227000000]: TF_REPEATED_DATA ignoring data with redundant timestamp for frame odom at time 4166.274000 according to authority /pose_integrator\u001b[0m\n",
      "\u001b[33m[ WARN] [1703002005.410270103, 4166.227000000]: TF_REPEATED_DATA ignoring data with redundant timestamp for frame odom at time 4166.274000 according to authority /pose_integrator\u001b[0m\n",
      "\u001b[33m[ WARN] [1703002005.410323233, 4166.227000000]: TF_REPEATED_DATA ignoring data with redundant timestamp for frame odom at time 4166.274000 according to authority /pose_integrator\u001b[0m\n",
      "\u001b[33m[ WARN] [1703002005.410382706, 4166.227000000]: TF_REPEATED_DATA ignoring data with redundant timestamp for frame odom at time 4166.274000 according to authority /pose_integrator\u001b[0m\n",
      "\u001b[33m[ WARN] [1703002005.410420326, 4166.227000000]: TF_REPEATED_DATA ignoring data with redundant timestamp for frame odom at time 4166.274000 according to authority /pose_integrator\u001b[0m\n",
      "\u001b[33m[ WARN] [1703002006.035174104, 4166.490000000]: TF_REPEATED_DATA ignoring data with redundant timestamp for frame odom at time 4166.525000 according to authority unknown_publisher\u001b[0m\n",
      "\u001b[33m[ WARN] [1703002006.035941676, 4166.490000000]: TF_REPEATED_DATA ignoring data with redundant timestamp for frame odom at time 4166.525000 according to authority /pose_integrator\u001b[0m\n",
      "\u001b[33m[ WARN] [1703002006.036004221, 4166.490000000]: TF_REPEATED_DATA ignoring data with redundant timestamp for frame odom at time 4166.525000 according to authority /pose_integrator\u001b[0m\n",
      "\u001b[33m[ WARN] [1703002006.036048013, 4166.490000000]: TF_REPEATED_DATA ignoring data with redundant timestamp for frame odom at time 4166.525000 according to authority /pose_integrator\u001b[0m\n",
      "\u001b[33m[ WARN] [1703002006.036089844, 4166.490000000]: TF_REPEATED_DATA ignoring data with redundant timestamp for frame odom at time 4166.525000 according to authority /pose_integrator\u001b[0m\n",
      "\u001b[33m[ WARN] [1703002006.036133940, 4166.490000000]: TF_REPEATED_DATA ignoring data with redundant timestamp for frame odom at time 4166.525000 according to authority /pose_integrator\u001b[0m\n",
      "\u001b[33m[ WARN] [1703002006.036176249, 4166.490000000]: TF_REPEATED_DATA ignoring data with redundant timestamp for frame odom at time 4166.525000 according to authority /pose_integrator\u001b[0m\n",
      "\u001b[33m[ WARN] [1703002006.336832587, 4166.633000000]: TF_REPEATED_DATA ignoring data with redundant timestamp for frame odom at time 4166.658000 according to authority unknown_publisher\u001b[0m\n",
      "\u001b[33m[ WARN] [1703002006.337673454, 4166.633000000]: TF_REPEATED_DATA ignoring data with redundant timestamp for frame odom at time 4166.658000 according to authority /pose_integrator\u001b[0m\n",
      "\u001b[33m[ WARN] [1703002006.337739469, 4166.633000000]: TF_REPEATED_DATA ignoring data with redundant timestamp for frame odom at time 4166.658000 according to authority /pose_integrator\u001b[0m\n",
      "\u001b[33m[ WARN] [1703002006.337782935, 4166.633000000]: TF_REPEATED_DATA ignoring data with redundant timestamp for frame odom at time 4166.658000 according to authority /pose_integrator\u001b[0m\n",
      "\u001b[33m[ WARN] [1703002006.337823243, 4166.633000000]: TF_REPEATED_DATA ignoring data with redundant timestamp for frame odom at time 4166.658000 according to authority /pose_integrator\u001b[0m\n",
      "\u001b[33m[ WARN] [1703002006.337854094, 4166.633000000]: TF_REPEATED_DATA ignoring data with redundant timestamp for frame odom at time 4166.658000 according to authority /pose_integrator\u001b[0m\n",
      "\u001b[33m[ WARN] [1703002006.337905670, 4166.633000000]: TF_REPEATED_DATA ignoring data with redundant timestamp for frame odom at time 4166.658000 according to authority /pose_integrator\u001b[0m\n",
      "\u001b[33m[ WARN] [1703002007.133806141, 4166.982000000]: TF_REPEATED_DATA ignoring data with redundant timestamp for frame odom at time 4167.033000 according to authority unknown_publisher\u001b[0m\n",
      "\u001b[33m[ WARN] [1703002007.133869736, 4166.982000000]: TF_REPEATED_DATA ignoring data with redundant timestamp for frame odom at time 4167.033000 according to authority /pose_integrator\u001b[0m\n",
      "\u001b[33m[ WARN] [1703002007.133946920, 4166.982000000]: TF_REPEATED_DATA ignoring data with redundant timestamp for frame odom at time 4167.033000 according to authority /pose_integrator\u001b[0m\n",
      "\u001b[33m[ WARN] [1703002007.133998533, 4166.982000000]: TF_REPEATED_DATA ignoring data with redundant timestamp for frame odom at time 4167.033000 according to authority /pose_integrator\u001b[0m\n",
      "\u001b[33m[ WARN] [1703002007.134053968, 4166.982000000]: TF_REPEATED_DATA ignoring data with redundant timestamp for frame odom at time 4167.033000 according to authority /pose_integrator\u001b[0m\n",
      "\u001b[33m[ WARN] [1703002007.134110263, 4166.982000000]: TF_REPEATED_DATA ignoring data with redundant timestamp for frame odom at time 4167.033000 according to authority /pose_integrator\u001b[0m\n",
      "\u001b[33m[ WARN] [1703002007.134156299, 4166.982000000]: TF_REPEATED_DATA ignoring data with redundant timestamp for frame odom at time 4167.033000 according to authority /pose_integrator\u001b[0m\n",
      "\u001b[33m[ WARN] [1703002007.328380962, 4167.077000000]: TF_REPEATED_DATA ignoring data with redundant timestamp for frame odom at time 4167.132000 according to authority unknown_publisher\u001b[0m\n",
      "\u001b[33m[ WARN] [1703002007.328588174, 4167.077000000]: TF_REPEATED_DATA ignoring data with redundant timestamp for frame odom at time 4167.132000 according to authority /pose_integrator\u001b[0m\n",
      "\u001b[33m[ WARN] [1703002007.328645183, 4167.077000000]: TF_REPEATED_DATA ignoring data with redundant timestamp for frame odom at time 4167.132000 according to authority /pose_integrator\u001b[0m\n",
      "\u001b[33m[ WARN] [1703002007.328712456, 4167.077000000]: TF_REPEATED_DATA ignoring data with redundant timestamp for frame odom at time 4167.132000 according to authority /pose_integrator\u001b[0m\n",
      "\u001b[33m[ WARN] [1703002007.328767792, 4167.077000000]: TF_REPEATED_DATA ignoring data with redundant timestamp for frame odom at time 4167.132000 according to authority /pose_integrator\u001b[0m\n",
      "\u001b[33m[ WARN] [1703002007.328824732, 4167.077000000]: TF_REPEATED_DATA ignoring data with redundant timestamp for frame odom at time 4167.132000 according to authority /pose_integrator\u001b[0m\n",
      "\u001b[33m[ WARN] [1703002007.328877759, 4167.077000000]: TF_REPEATED_DATA ignoring data with redundant timestamp for frame odom at time 4167.132000 according to authority /pose_integrator\u001b[0m\n"
     ]
    },
    {
     "name": "stderr",
     "output_type": "stream",
     "text": [
      "\u001b[33m[ WARN] [1703002007.593027347, 4167.204000000]: TF_REPEATED_DATA ignoring data with redundant timestamp for frame odom at time 4167.233000 according to authority unknown_publisher\u001b[0m\n",
      "\u001b[33m[ WARN] [1703002007.593146860, 4167.204000000]: TF_REPEATED_DATA ignoring data with redundant timestamp for frame odom at time 4167.233000 according to authority /pose_integrator\u001b[0m\n",
      "\u001b[33m[ WARN] [1703002007.593206381, 4167.204000000]: TF_REPEATED_DATA ignoring data with redundant timestamp for frame odom at time 4167.233000 according to authority /pose_integrator\u001b[0m\n",
      "\u001b[33m[ WARN] [1703002007.593258889, 4167.204000000]: TF_REPEATED_DATA ignoring data with redundant timestamp for frame odom at time 4167.233000 according to authority /pose_integrator\u001b[0m\n",
      "\u001b[33m[ WARN] [1703002007.593305930, 4167.204000000]: TF_REPEATED_DATA ignoring data with redundant timestamp for frame odom at time 4167.233000 according to authority /pose_integrator\u001b[0m\n",
      "\u001b[33m[ WARN] [1703002007.593355736, 4167.204000000]: TF_REPEATED_DATA ignoring data with redundant timestamp for frame odom at time 4167.233000 according to authority /pose_integrator\u001b[0m\n",
      "\u001b[33m[ WARN] [1703002007.593392561, 4167.204000000]: TF_REPEATED_DATA ignoring data with redundant timestamp for frame odom at time 4167.233000 according to authority /pose_integrator\u001b[0m\n",
      "\u001b[33m[ WARN] [1703002007.781377411, 4167.272000000]: TF_REPEATED_DATA ignoring data with redundant timestamp for frame odom at time 4167.323000 according to authority unknown_publisher\u001b[0m\n",
      "\u001b[33m[ WARN] [1703002007.783474724, 4167.272000000]: TF_REPEATED_DATA ignoring data with redundant timestamp for frame odom at time 4167.323000 according to authority /pose_integrator\u001b[0m\n",
      "\u001b[33m[ WARN] [1703002007.783531013, 4167.272000000]: TF_REPEATED_DATA ignoring data with redundant timestamp for frame odom at time 4167.323000 according to authority /pose_integrator\u001b[0m\n",
      "\u001b[33m[ WARN] [1703002007.783581576, 4167.272000000]: TF_REPEATED_DATA ignoring data with redundant timestamp for frame odom at time 4167.323000 according to authority /pose_integrator\u001b[0m\n",
      "\u001b[33m[ WARN] [1703002007.783633129, 4167.272000000]: TF_REPEATED_DATA ignoring data with redundant timestamp for frame odom at time 4167.323000 according to authority /pose_integrator\u001b[0m\n",
      "\u001b[33m[ WARN] [1703002007.783695312, 4167.272000000]: TF_REPEATED_DATA ignoring data with redundant timestamp for frame odom at time 4167.323000 according to authority /pose_integrator\u001b[0m\n",
      "\u001b[33m[ WARN] [1703002007.783746735, 4167.272000000]: TF_REPEATED_DATA ignoring data with redundant timestamp for frame odom at time 4167.323000 according to authority /pose_integrator\u001b[0m\n",
      "\u001b[33m[ WARN] [1703002007.954850046, 4167.360000000]: TF_REPEATED_DATA ignoring data with redundant timestamp for frame odom at time 4167.394000 according to authority /pose_integrator\u001b[0m\n",
      "\u001b[33m[ WARN] [1703002007.954924508, 4167.360000000]: TF_REPEATED_DATA ignoring data with redundant timestamp for frame odom at time 4167.394000 according to authority /pose_integrator\u001b[0m\n",
      "\u001b[33m[ WARN] [1703002007.954968205, 4167.360000000]: TF_REPEATED_DATA ignoring data with redundant timestamp for frame odom at time 4167.394000 according to authority /pose_integrator\u001b[0m\n",
      "\u001b[33m[ WARN] [1703002007.955000973, 4167.360000000]: TF_REPEATED_DATA ignoring data with redundant timestamp for frame odom at time 4167.394000 according to authority /pose_integrator\u001b[0m\n",
      "\u001b[33m[ WARN] [1703002007.955033747, 4167.360000000]: TF_REPEATED_DATA ignoring data with redundant timestamp for frame odom at time 4167.394000 according to authority /pose_integrator\u001b[0m\n",
      "\u001b[33m[ WARN] [1703002007.955065235, 4167.360000000]: TF_REPEATED_DATA ignoring data with redundant timestamp for frame odom at time 4167.394000 according to authority /pose_integrator\u001b[0m\n",
      "\u001b[33m[ WARN] [1703002007.956780325, 4167.360000000]: TF_REPEATED_DATA ignoring data with redundant timestamp for frame odom at time 4167.394000 according to authority unknown_publisher\u001b[0m\n",
      "\u001b[33m[ WARN] [1703002008.134195459, 4167.418000000]: TF_REPEATED_DATA ignoring data with redundant timestamp for frame odom at time 4167.456000 according to authority /pose_integrator\u001b[0m\n",
      "\u001b[33m[ WARN] [1703002008.134271630, 4167.418000000]: TF_REPEATED_DATA ignoring data with redundant timestamp for frame odom at time 4167.456000 according to authority /pose_integrator\u001b[0m\n",
      "\u001b[33m[ WARN] [1703002008.134324158, 4167.418000000]: TF_REPEATED_DATA ignoring data with redundant timestamp for frame odom at time 4167.456000 according to authority /pose_integrator\u001b[0m\n",
      "\u001b[33m[ WARN] [1703002008.134376286, 4167.418000000]: TF_REPEATED_DATA ignoring data with redundant timestamp for frame odom at time 4167.456000 according to authority /pose_integrator\u001b[0m\n",
      "\u001b[33m[ WARN] [1703002008.134424047, 4167.418000000]: TF_REPEATED_DATA ignoring data with redundant timestamp for frame odom at time 4167.456000 according to authority /pose_integrator\u001b[0m\n",
      "\u001b[33m[ WARN] [1703002008.134473438, 4167.418000000]: TF_REPEATED_DATA ignoring data with redundant timestamp for frame odom at time 4167.456000 according to authority /pose_integrator\u001b[0m\n",
      "\u001b[33m[ WARN] [1703002008.134877081, 4167.418000000]: TF_REPEATED_DATA ignoring data with redundant timestamp for frame odom at time 4167.456000 according to authority unknown_publisher\u001b[0m\n",
      "\u001b[33m[ WARN] [1703002008.358510289, 4167.515000000]: TF_REPEATED_DATA ignoring data with redundant timestamp for frame odom at time 4167.538000 according to authority unknown_publisher\u001b[0m\n",
      "\u001b[33m[ WARN] [1703002008.359084186, 4167.515000000]: TF_REPEATED_DATA ignoring data with redundant timestamp for frame odom at time 4167.538000 according to authority /pose_integrator\u001b[0m\n",
      "\u001b[33m[ WARN] [1703002008.359145967, 4167.515000000]: TF_REPEATED_DATA ignoring data with redundant timestamp for frame odom at time 4167.538000 according to authority /pose_integrator\u001b[0m\n",
      "\u001b[33m[ WARN] [1703002008.359198744, 4167.515000000]: TF_REPEATED_DATA ignoring data with redundant timestamp for frame odom at time 4167.538000 according to authority /pose_integrator\u001b[0m\n",
      "\u001b[33m[ WARN] [1703002008.359246298, 4167.515000000]: TF_REPEATED_DATA ignoring data with redundant timestamp for frame odom at time 4167.538000 according to authority /pose_integrator\u001b[0m\n",
      "\u001b[33m[ WARN] [1703002008.359296234, 4167.515000000]: TF_REPEATED_DATA ignoring data with redundant timestamp for frame odom at time 4167.538000 according to authority /pose_integrator\u001b[0m\n",
      "\u001b[33m[ WARN] [1703002008.359344551, 4167.515000000]: TF_REPEATED_DATA ignoring data with redundant timestamp for frame odom at time 4167.538000 according to authority /pose_integrator\u001b[0m\n",
      "\u001b[33m[ WARN] [1703002008.813507294, 4167.684000000]: TF_REPEATED_DATA ignoring data with redundant timestamp for frame odom at time 4167.726000 according to authority unknown_publisher\u001b[0m\n",
      "\u001b[33m[ WARN] [1703002008.813668921, 4167.684000000]: TF_REPEATED_DATA ignoring data with redundant timestamp for frame odom at time 4167.726000 according to authority /pose_integrator\u001b[0m\n",
      "\u001b[33m[ WARN] [1703002008.813730091, 4167.684000000]: TF_REPEATED_DATA ignoring data with redundant timestamp for frame odom at time 4167.726000 according to authority /pose_integrator\u001b[0m\n",
      "\u001b[33m[ WARN] [1703002008.813778060, 4167.684000000]: TF_REPEATED_DATA ignoring data with redundant timestamp for frame odom at time 4167.726000 according to authority /pose_integrator\u001b[0m\n",
      "\u001b[33m[ WARN] [1703002008.813828266, 4167.684000000]: TF_REPEATED_DATA ignoring data with redundant timestamp for frame odom at time 4167.726000 according to authority /pose_integrator\u001b[0m\n",
      "\u001b[33m[ WARN] [1703002008.813874001, 4167.684000000]: TF_REPEATED_DATA ignoring data with redundant timestamp for frame odom at time 4167.726000 according to authority /pose_integrator\u001b[0m\n",
      "\u001b[33m[ WARN] [1703002008.813919947, 4167.684000000]: TF_REPEATED_DATA ignoring data with redundant timestamp for frame odom at time 4167.726000 according to authority /pose_integrator\u001b[0m\n",
      "\u001b[33m[ WARN] [1703002009.288782879, 4167.937000000]: TF_REPEATED_DATA ignoring data with redundant timestamp for frame odom at time 4167.956000 according to authority unknown_publisher\u001b[0m\n",
      "\u001b[33m[ WARN] [1703002009.289028665, 4167.937000000]: TF_REPEATED_DATA ignoring data with redundant timestamp for frame odom at time 4167.956000 according to authority /pose_integrator\u001b[0m\n",
      "\u001b[33m[ WARN] [1703002009.289097616, 4167.937000000]: TF_REPEATED_DATA ignoring data with redundant timestamp for frame odom at time 4167.956000 according to authority /pose_integrator\u001b[0m\n",
      "\u001b[33m[ WARN] [1703002009.289154211, 4167.937000000]: TF_REPEATED_DATA ignoring data with redundant timestamp for frame odom at time 4167.956000 according to authority /pose_integrator\u001b[0m\n",
      "\u001b[33m[ WARN] [1703002009.289210046, 4167.937000000]: TF_REPEATED_DATA ignoring data with redundant timestamp for frame odom at time 4167.956000 according to authority /pose_integrator\u001b[0m\n",
      "\u001b[33m[ WARN] [1703002009.289267899, 4167.937000000]: TF_REPEATED_DATA ignoring data with redundant timestamp for frame odom at time 4167.956000 according to authority /pose_integrator\u001b[0m\n",
      "\u001b[33m[ WARN] [1703002009.289317149, 4167.937000000]: TF_REPEATED_DATA ignoring data with redundant timestamp for frame odom at time 4167.956000 according to authority /pose_integrator\u001b[0m\n"
     ]
    },
    {
     "name": "stderr",
     "output_type": "stream",
     "text": [
      "\u001b[33m[ WARN] [1703002009.500068296, 4168.006000000]: TF_REPEATED_DATA ignoring data with redundant timestamp for frame odom at time 4168.043000 according to authority unknown_publisher\u001b[0m\n",
      "\u001b[33m[ WARN] [1703002009.501198781, 4168.006000000]: TF_REPEATED_DATA ignoring data with redundant timestamp for frame odom at time 4168.043000 according to authority /pose_integrator\u001b[0m\n",
      "\u001b[33m[ WARN] [1703002009.504337631, 4168.006000000]: TF_REPEATED_DATA ignoring data with redundant timestamp for frame odom at time 4168.043000 according to authority /pose_integrator\u001b[0m\n",
      "\u001b[33m[ WARN] [1703002009.504438341, 4168.006000000]: TF_REPEATED_DATA ignoring data with redundant timestamp for frame odom at time 4168.043000 according to authority /pose_integrator\u001b[0m\n",
      "\u001b[33m[ WARN] [1703002009.504497025, 4168.006000000]: TF_REPEATED_DATA ignoring data with redundant timestamp for frame odom at time 4168.043000 according to authority /pose_integrator\u001b[0m\n",
      "\u001b[33m[ WARN] [1703002009.504543816, 4168.006000000]: TF_REPEATED_DATA ignoring data with redundant timestamp for frame odom at time 4168.043000 according to authority /pose_integrator\u001b[0m\n",
      "\u001b[33m[ WARN] [1703002009.504588751, 4168.006000000]: TF_REPEATED_DATA ignoring data with redundant timestamp for frame odom at time 4168.043000 according to authority /pose_integrator\u001b[0m\n",
      "\u001b[33m[ WARN] [1703002009.765654691, 4168.122000000]: TF_REPEATED_DATA ignoring data with redundant timestamp for frame odom at time 4168.139000 according to authority unknown_publisher\u001b[0m\n",
      "\u001b[33m[ WARN] [1703002009.766694401, 4168.122000000]: TF_REPEATED_DATA ignoring data with redundant timestamp for frame odom at time 4168.139000 according to authority /pose_integrator\u001b[0m\n",
      "\u001b[33m[ WARN] [1703002009.766759740, 4168.122000000]: TF_REPEATED_DATA ignoring data with redundant timestamp for frame odom at time 4168.139000 according to authority /pose_integrator\u001b[0m\n",
      "\u001b[33m[ WARN] [1703002009.766800650, 4168.122000000]: TF_REPEATED_DATA ignoring data with redundant timestamp for frame odom at time 4168.139000 according to authority /pose_integrator\u001b[0m\n",
      "\u001b[33m[ WARN] [1703002009.766834709, 4168.122000000]: TF_REPEATED_DATA ignoring data with redundant timestamp for frame odom at time 4168.139000 according to authority /pose_integrator\u001b[0m\n",
      "\u001b[33m[ WARN] [1703002009.766867543, 4168.122000000]: TF_REPEATED_DATA ignoring data with redundant timestamp for frame odom at time 4168.139000 according to authority /pose_integrator\u001b[0m\n",
      "\u001b[33m[ WARN] [1703002009.766898583, 4168.122000000]: TF_REPEATED_DATA ignoring data with redundant timestamp for frame odom at time 4168.139000 according to authority /pose_integrator\u001b[0m\n",
      "\u001b[33m[ WARN] [1703002011.650952160, 4168.935000000]: TF_REPEATED_DATA ignoring data with redundant timestamp for frame odom at time 4168.979000 according to authority unknown_publisher\u001b[0m\n",
      "\u001b[33m[ WARN] [1703002011.652859387, 4168.935000000]: TF_REPEATED_DATA ignoring data with redundant timestamp for frame odom at time 4168.979000 according to authority /pose_integrator\u001b[0m\n",
      "\u001b[33m[ WARN] [1703002011.652937622, 4168.935000000]: TF_REPEATED_DATA ignoring data with redundant timestamp for frame odom at time 4168.979000 according to authority /pose_integrator\u001b[0m\n",
      "\u001b[33m[ WARN] [1703002011.652990978, 4168.935000000]: TF_REPEATED_DATA ignoring data with redundant timestamp for frame odom at time 4168.979000 according to authority /pose_integrator\u001b[0m\n",
      "\u001b[33m[ WARN] [1703002011.653040302, 4168.935000000]: TF_REPEATED_DATA ignoring data with redundant timestamp for frame odom at time 4168.979000 according to authority /pose_integrator\u001b[0m\n",
      "\u001b[33m[ WARN] [1703002011.653077076, 4168.935000000]: TF_REPEATED_DATA ignoring data with redundant timestamp for frame odom at time 4168.979000 according to authority /pose_integrator\u001b[0m\n",
      "\u001b[33m[ WARN] [1703002011.653107714, 4168.935000000]: TF_REPEATED_DATA ignoring data with redundant timestamp for frame odom at time 4168.979000 according to authority /pose_integrator\u001b[0m\n",
      "\u001b[33m[ WARN] [1703002011.863028801, 4169.047000000]: TF_REPEATED_DATA ignoring data with redundant timestamp for frame odom at time 4169.077000 according to authority /pose_integrator\u001b[0m\n",
      "\u001b[33m[ WARN] [1703002011.863142337, 4169.047000000]: TF_REPEATED_DATA ignoring data with redundant timestamp for frame odom at time 4169.077000 according to authority /pose_integrator\u001b[0m\n",
      "\u001b[33m[ WARN] [1703002011.863252368, 4169.047000000]: TF_REPEATED_DATA ignoring data with redundant timestamp for frame odom at time 4169.077000 according to authority /pose_integrator\u001b[0m\n",
      "\u001b[33m[ WARN] [1703002011.863309952, 4169.047000000]: TF_REPEATED_DATA ignoring data with redundant timestamp for frame odom at time 4169.077000 according to authority /pose_integrator\u001b[0m\n",
      "\u001b[33m[ WARN] [1703002011.863365175, 4169.047000000]: TF_REPEATED_DATA ignoring data with redundant timestamp for frame odom at time 4169.077000 according to authority /pose_integrator\u001b[0m\n",
      "\u001b[33m[ WARN] [1703002011.863416580, 4169.047000000]: TF_REPEATED_DATA ignoring data with redundant timestamp for frame odom at time 4169.077000 according to authority /pose_integrator\u001b[0m\n",
      "\u001b[33m[ WARN] [1703002011.863674740, 4169.047000000]: TF_REPEATED_DATA ignoring data with redundant timestamp for frame odom at time 4169.077000 according to authority unknown_publisher\u001b[0m\n",
      "\u001b[33m[ WARN] [1703002012.835602073, 4169.461000000]: TF_REPEATED_DATA ignoring data with redundant timestamp for frame odom at time 4169.488000 according to authority unknown_publisher\u001b[0m\n",
      "\u001b[33m[ WARN] [1703002012.838088508, 4169.461000000]: TF_REPEATED_DATA ignoring data with redundant timestamp for frame odom at time 4169.488000 according to authority /pose_integrator\u001b[0m\n",
      "\u001b[33m[ WARN] [1703002012.838158852, 4169.461000000]: TF_REPEATED_DATA ignoring data with redundant timestamp for frame odom at time 4169.488000 according to authority /pose_integrator\u001b[0m\n",
      "\u001b[33m[ WARN] [1703002012.838222882, 4169.461000000]: TF_REPEATED_DATA ignoring data with redundant timestamp for frame odom at time 4169.488000 according to authority /pose_integrator\u001b[0m\n",
      "\u001b[33m[ WARN] [1703002012.838276396, 4169.461000000]: TF_REPEATED_DATA ignoring data with redundant timestamp for frame odom at time 4169.488000 according to authority /pose_integrator\u001b[0m\n",
      "\u001b[33m[ WARN] [1703002012.838327711, 4169.461000000]: TF_REPEATED_DATA ignoring data with redundant timestamp for frame odom at time 4169.488000 according to authority /pose_integrator\u001b[0m\n",
      "\u001b[33m[ WARN] [1703002012.838381587, 4169.461000000]: TF_REPEATED_DATA ignoring data with redundant timestamp for frame odom at time 4169.488000 according to authority /pose_integrator\u001b[0m\n",
      "\u001b[33m[ WARN] [1703002013.601959262, 4169.789000000]: TF_REPEATED_DATA ignoring data with redundant timestamp for frame odom at time 4169.789000 according to authority unknown_publisher\u001b[0m\n",
      "\u001b[33m[ WARN] [1703002013.602141231, 4169.789000000]: TF_REPEATED_DATA ignoring data with redundant timestamp for frame odom at time 4169.789000 according to authority /pose_integrator\u001b[0m\n",
      "\u001b[33m[ WARN] [1703002013.602199994, 4169.789000000]: TF_REPEATED_DATA ignoring data with redundant timestamp for frame odom at time 4169.789000 according to authority /pose_integrator\u001b[0m\n",
      "\u001b[33m[ WARN] [1703002013.602235512, 4169.789000000]: TF_REPEATED_DATA ignoring data with redundant timestamp for frame odom at time 4169.789000 according to authority /pose_integrator\u001b[0m\n",
      "\u001b[33m[ WARN] [1703002013.602273336, 4169.789000000]: TF_REPEATED_DATA ignoring data with redundant timestamp for frame odom at time 4169.789000 according to authority /pose_integrator\u001b[0m\n",
      "\u001b[33m[ WARN] [1703002013.602303812, 4169.789000000]: TF_REPEATED_DATA ignoring data with redundant timestamp for frame odom at time 4169.789000 according to authority /pose_integrator\u001b[0m\n",
      "\u001b[33m[ WARN] [1703002013.602342255, 4169.789000000]: TF_REPEATED_DATA ignoring data with redundant timestamp for frame odom at time 4169.789000 according to authority /pose_integrator\u001b[0m\n",
      "\u001b[33m[ WARN] [1703002014.160196199, 4170.030000000]: TF_REPEATED_DATA ignoring data with redundant timestamp for frame odom at time 4170.074000 according to authority /pose_integrator\u001b[0m\n",
      "\u001b[33m[ WARN] [1703002014.160264285, 4170.030000000]: TF_REPEATED_DATA ignoring data with redundant timestamp for frame odom at time 4170.074000 according to authority /pose_integrator\u001b[0m\n",
      "\u001b[33m[ WARN] [1703002014.160314731, 4170.030000000]: TF_REPEATED_DATA ignoring data with redundant timestamp for frame odom at time 4170.074000 according to authority /pose_integrator\u001b[0m\n",
      "\u001b[33m[ WARN] [1703002014.160363448, 4170.030000000]: TF_REPEATED_DATA ignoring data with redundant timestamp for frame odom at time 4170.074000 according to authority /pose_integrator\u001b[0m\n",
      "\u001b[33m[ WARN] [1703002014.160414168, 4170.030000000]: TF_REPEATED_DATA ignoring data with redundant timestamp for frame odom at time 4170.074000 according to authority /pose_integrator\u001b[0m\n",
      "\u001b[33m[ WARN] [1703002014.160464203, 4170.030000000]: TF_REPEATED_DATA ignoring data with redundant timestamp for frame odom at time 4170.074000 according to authority /pose_integrator\u001b[0m\n",
      "\u001b[33m[ WARN] [1703002014.161305186, 4170.030000000]: TF_REPEATED_DATA ignoring data with redundant timestamp for frame odom at time 4170.074000 according to authority unknown_publisher\u001b[0m\n"
     ]
    },
    {
     "name": "stderr",
     "output_type": "stream",
     "text": [
      "\u001b[33m[ WARN] [1703002014.925414315, 4170.363000000]: TF_REPEATED_DATA ignoring data with redundant timestamp for frame odom at time 4170.409000 according to authority unknown_publisher\u001b[0m\n",
      "\u001b[33m[ WARN] [1703002014.926186766, 4170.363000000]: TF_REPEATED_DATA ignoring data with redundant timestamp for frame odom at time 4170.409000 according to authority /pose_integrator\u001b[0m\n",
      "\u001b[33m[ WARN] [1703002014.926247456, 4170.363000000]: TF_REPEATED_DATA ignoring data with redundant timestamp for frame odom at time 4170.409000 according to authority /pose_integrator\u001b[0m\n",
      "\u001b[33m[ WARN] [1703002014.926282885, 4170.363000000]: TF_REPEATED_DATA ignoring data with redundant timestamp for frame odom at time 4170.409000 according to authority /pose_integrator\u001b[0m\n",
      "\u001b[33m[ WARN] [1703002014.926321771, 4170.363000000]: TF_REPEATED_DATA ignoring data with redundant timestamp for frame odom at time 4170.409000 according to authority /pose_integrator\u001b[0m\n",
      "\u001b[33m[ WARN] [1703002014.926362480, 4170.363000000]: TF_REPEATED_DATA ignoring data with redundant timestamp for frame odom at time 4170.409000 according to authority /pose_integrator\u001b[0m\n",
      "\u001b[33m[ WARN] [1703002014.926419723, 4170.363000000]: TF_REPEATED_DATA ignoring data with redundant timestamp for frame odom at time 4170.409000 according to authority /pose_integrator\u001b[0m\n",
      "\u001b[33m[ WARN] [1703002016.595564214, 4171.015000000]: TF_REPEATED_DATA ignoring data with redundant timestamp for frame odom at time 4171.102000 according to authority /pose_integrator\u001b[0m\n",
      "\u001b[33m[ WARN] [1703002016.595721705, 4171.015000000]: TF_REPEATED_DATA ignoring data with redundant timestamp for frame odom at time 4171.102000 according to authority /pose_integrator\u001b[0m\n",
      "\u001b[33m[ WARN] [1703002016.595763753, 4171.015000000]: TF_REPEATED_DATA ignoring data with redundant timestamp for frame odom at time 4171.102000 according to authority /pose_integrator\u001b[0m\n",
      "\u001b[33m[ WARN] [1703002016.595800201, 4171.015000000]: TF_REPEATED_DATA ignoring data with redundant timestamp for frame odom at time 4171.102000 according to authority /pose_integrator\u001b[0m\n",
      "\u001b[33m[ WARN] [1703002016.595833039, 4171.015000000]: TF_REPEATED_DATA ignoring data with redundant timestamp for frame odom at time 4171.102000 according to authority /pose_integrator\u001b[0m\n",
      "\u001b[33m[ WARN] [1703002016.595867120, 4171.015000000]: TF_REPEATED_DATA ignoring data with redundant timestamp for frame odom at time 4171.102000 according to authority /pose_integrator\u001b[0m\n",
      "\u001b[33m[ WARN] [1703002016.596073722, 4171.015000000]: TF_REPEATED_DATA ignoring data with redundant timestamp for frame odom at time 4171.102000 according to authority unknown_publisher\u001b[0m\n",
      "\u001b[33m[ WARN] [1703002016.815222428, 4171.154000000]: TF_REPEATED_DATA ignoring data with redundant timestamp for frame odom at time 4171.188000 according to authority unknown_publisher\u001b[0m\n",
      "\u001b[33m[ WARN] [1703002016.816026845, 4171.154000000]: TF_REPEATED_DATA ignoring data with redundant timestamp for frame odom at time 4171.188000 according to authority /pose_integrator\u001b[0m\n",
      "\u001b[33m[ WARN] [1703002016.816185416, 4171.154000000]: TF_REPEATED_DATA ignoring data with redundant timestamp for frame odom at time 4171.188000 according to authority /pose_integrator\u001b[0m\n",
      "\u001b[33m[ WARN] [1703002016.816362814, 4171.154000000]: TF_REPEATED_DATA ignoring data with redundant timestamp for frame odom at time 4171.188000 according to authority /pose_integrator\u001b[0m\n",
      "\u001b[33m[ WARN] [1703002016.816425819, 4171.154000000]: TF_REPEATED_DATA ignoring data with redundant timestamp for frame odom at time 4171.188000 according to authority /pose_integrator\u001b[0m\n",
      "\u001b[33m[ WARN] [1703002016.816482643, 4171.154000000]: TF_REPEATED_DATA ignoring data with redundant timestamp for frame odom at time 4171.188000 according to authority /pose_integrator\u001b[0m\n",
      "\u001b[33m[ WARN] [1703002016.816748568, 4171.154000000]: TF_REPEATED_DATA ignoring data with redundant timestamp for frame odom at time 4171.188000 according to authority /pose_integrator\u001b[0m\n",
      "\u001b[33m[ WARN] [1703002018.171004436, 4171.729000000]: TF_REPEATED_DATA ignoring data with redundant timestamp for frame odom at time 4171.782000 according to authority unknown_publisher\u001b[0m\n",
      "\u001b[33m[ WARN] [1703002018.172371421, 4171.729000000]: TF_REPEATED_DATA ignoring data with redundant timestamp for frame odom at time 4171.782000 according to authority /pose_integrator\u001b[0m\n",
      "\u001b[33m[ WARN] [1703002018.172432975, 4171.729000000]: TF_REPEATED_DATA ignoring data with redundant timestamp for frame odom at time 4171.782000 according to authority /pose_integrator\u001b[0m\n",
      "\u001b[33m[ WARN] [1703002018.172483928, 4171.729000000]: TF_REPEATED_DATA ignoring data with redundant timestamp for frame odom at time 4171.782000 according to authority /pose_integrator\u001b[0m\n",
      "\u001b[33m[ WARN] [1703002018.172526685, 4171.729000000]: TF_REPEATED_DATA ignoring data with redundant timestamp for frame odom at time 4171.782000 according to authority /pose_integrator\u001b[0m\n",
      "\u001b[33m[ WARN] [1703002018.172567621, 4171.729000000]: TF_REPEATED_DATA ignoring data with redundant timestamp for frame odom at time 4171.782000 according to authority /pose_integrator\u001b[0m\n",
      "\u001b[33m[ WARN] [1703002018.172613128, 4171.729000000]: TF_REPEATED_DATA ignoring data with redundant timestamp for frame odom at time 4171.782000 according to authority /pose_integrator\u001b[0m\n"
     ]
    }
   ],
   "source": [
    "whole_body.go()"
   ]
  },
  {
   "cell_type": "code",
   "execution_count": null,
   "id": "464e664c",
   "metadata": {},
   "outputs": [],
   "source": [
    "#whole_body=moveit_commander.MoveGroupCommander('whole_body')"
   ]
  },
  {
   "cell_type": "code",
   "execution_count": null,
   "id": "7ef2963f",
   "metadata": {},
   "outputs": [],
   "source": [
    "clear_octo_client()\n",
    "arm_grasp_from_above = [0.3, -2.0, 0.0, -0.9939144210462025, -0.17365421548386273, 0.0]\n",
    "wb_v=whole_body.get_current_joint_values()\n",
    "wb_v[3:]=arm_grasp_from_above\n",
    "succ = whole_body.go(wb_v)"
   ]
  },
  {
   "cell_type": "code",
   "execution_count": null,
   "id": "c2fd61fa",
   "metadata": {},
   "outputs": [],
   "source": [
    "head.set_named_target('neutral')\n",
    "head.go()\n",
    "clear_octo_client()\n"
   ]
  },
  {
   "cell_type": "code",
   "execution_count": null,
   "id": "e67a1f0b",
   "metadata": {},
   "outputs": [],
   "source": [
    "#\n",
    "t=tfBuffer.lookup_transform('map','Target',rospy.Time(0))\n",
    "pose , quat =  read_tf(t)\n",
    "pose"
   ]
  },
  {
   "cell_type": "code",
   "execution_count": null,
   "id": "91a9c855",
   "metadata": {},
   "outputs": [],
   "source": [
    "wb_gp=whole_body.get_current_pose()\n",
    "wb_gp.pose.position.x= pose[0]\n",
    "wb_gp.pose.position.y= pose[1]#\n",
    "wb_gp.pose.position.z= pose[2]+0.3   ##Pre Grasp from above\n"
   ]
  },
  {
   "cell_type": "code",
   "execution_count": null,
   "id": "00506fa1",
   "metadata": {
    "scrolled": false
   },
   "outputs": [],
   "source": [
    "whole_body.set_pose_target(wb_gp)\n",
    "plan=whole_body.plan()\n",
    "if plan[0]:\n",
    "    succ=whole_body.go()\n",
    "else:\n",
    "    print('No plan')"
   ]
  },
  {
   "cell_type": "code",
   "execution_count": null,
   "id": "d902c51e",
   "metadata": {},
   "outputs": [],
   "source": [
    "succ"
   ]
  },
  {
   "cell_type": "code",
   "execution_count": null,
   "id": "5aaa200d",
   "metadata": {},
   "outputs": [],
   "source": []
  },
  {
   "cell_type": "code",
   "execution_count": null,
   "id": "d3412bbd",
   "metadata": {},
   "outputs": [],
   "source": []
  },
  {
   "cell_type": "code",
   "execution_count": null,
   "id": "065f63f1",
   "metadata": {},
   "outputs": [],
   "source": [
    "t=tfBuffer.lookup_transform('hand_palm_link', 'Target',rospy.Time())"
   ]
  },
  {
   "cell_type": "code",
   "execution_count": null,
   "id": "4ea638d1",
   "metadata": {},
   "outputs": [],
   "source": [
    "pose,_=read_tf(t)\n",
    "pose"
   ]
  },
  {
   "cell_type": "code",
   "execution_count": null,
   "id": "d3e52131",
   "metadata": {},
   "outputs": [],
   "source": [
    "goal_p=whole_body.get_current_pose()\n",
    "goal_p.pose.position.x=0.1\n",
    "goal_p.pose.position.y=pose[1]\n",
    "goal_p.pose.position.z=pose[2]+0.2\n",
    "#goal_p.pose.orientation.w=quat[0]\n",
    "#goal_p.pose.orientation.x=quat[1]\n",
    "#goal_p.pose.orientation.y=quat[2]\n",
    "#goal_p.pose.orientation.z=quat[3]\n",
    "\n"
   ]
  },
  {
   "cell_type": "code",
   "execution_count": null,
   "id": "1da825b7",
   "metadata": {},
   "outputs": [],
   "source": [
    "whole_body.set_pose_target(goal_p)"
   ]
  },
  {
   "cell_type": "code",
   "execution_count": null,
   "id": "3ba02e07",
   "metadata": {},
   "outputs": [],
   "source": [
    "whole_body.plan()"
   ]
  },
  {
   "cell_type": "code",
   "execution_count": null,
   "id": "860c8fc4",
   "metadata": {},
   "outputs": [],
   "source": [
    "goal_p=whole_body.get_current_pose()"
   ]
  },
  {
   "cell_type": "code",
   "execution_count": null,
   "id": "9ef3bfbf",
   "metadata": {},
   "outputs": [],
   "source": [
    "whole_body.set_pose_target(goal_p)\n",
    "whole_body.plan()"
   ]
  },
  {
   "cell_type": "code",
   "execution_count": null,
   "id": "e91a0515",
   "metadata": {},
   "outputs": [],
   "source": [
    "whole_body.go()"
   ]
  },
  {
   "cell_type": "code",
   "execution_count": null,
   "id": "2fe72b4b",
   "metadata": {},
   "outputs": [],
   "source": []
  },
  {
   "cell_type": "code",
   "execution_count": null,
   "id": "3dfb35a6",
   "metadata": {},
   "outputs": [],
   "source": []
  },
  {
   "cell_type": "code",
   "execution_count": null,
   "id": "4b200fce",
   "metadata": {},
   "outputs": [],
   "source": [
    "res.poses.data"
   ]
  },
  {
   "cell_type": "code",
   "execution_count": null,
   "id": "4ebd2af5",
   "metadata": {},
   "outputs": [],
   "source": [
    "t=tfBuffer.lookup_transform('map','Target',rospy.Time())"
   ]
  },
  {
   "cell_type": "code",
   "execution_count": null,
   "id": "ec2e5eae",
   "metadata": {},
   "outputs": [],
   "source": [
    "pose,quat=read_tf(t)"
   ]
  },
  {
   "cell_type": "code",
   "execution_count": null,
   "id": "7dddd58b",
   "metadata": {},
   "outputs": [],
   "source": [
    "goal_pose= Pose()"
   ]
  },
  {
   "cell_type": "code",
   "execution_count": null,
   "id": "fa06ecd0",
   "metadata": {},
   "outputs": [],
   "source": [
    "goal_pose.position.x=pose[0]\n",
    "goal_pose.position.y=pose[1]\n",
    "goal_pose.position.z=pose[2]"
   ]
  },
  {
   "cell_type": "code",
   "execution_count": null,
   "id": "76bfdd75",
   "metadata": {},
   "outputs": [],
   "source": [
    "pose,goal_pose"
   ]
  },
  {
   "cell_type": "code",
   "execution_count": null,
   "id": "e1bfc047",
   "metadata": {},
   "outputs": [],
   "source": [
    "whole_body.get_current_pose()"
   ]
  },
  {
   "cell_type": "code",
   "execution_count": null,
   "id": "0a55f889",
   "metadata": {},
   "outputs": [],
   "source": [
    "wb=whole_body.get_current_joint_values()"
   ]
  },
  {
   "cell_type": "code",
   "execution_count": null,
   "id": "0852d4fb",
   "metadata": {},
   "outputs": [],
   "source": [
    "wb[4]=0.1"
   ]
  },
  {
   "cell_type": "code",
   "execution_count": null,
   "id": "2ebde50f",
   "metadata": {},
   "outputs": [],
   "source": [
    "whole_body.go(wb)"
   ]
  },
  {
   "cell_type": "code",
   "execution_count": null,
   "id": "58799474",
   "metadata": {},
   "outputs": [],
   "source": [
    "pose=whole_body.get_current_pose()"
   ]
  },
  {
   "cell_type": "code",
   "execution_count": null,
   "id": "3c2220e1",
   "metadata": {},
   "outputs": [],
   "source": [
    "type(pose.pose.orientation)"
   ]
  },
  {
   "cell_type": "code",
   "execution_count": null,
   "id": "fc307530",
   "metadata": {},
   "outputs": [],
   "source": [
    "tf.transformations.euler_from_quaternion((pose.pose.orientation.w,pose.pose.orientation.x,pose.pose.orientation.y,pose.pose.orientation.z))"
   ]
  },
  {
   "cell_type": "code",
   "execution_count": null,
   "id": "4ee0d547",
   "metadata": {},
   "outputs": [],
   "source": [
    "tf.transformations.euler_from_quaternion((pose.pose.orientation.w,pose.pose.orientation.x,pose.pose.orientation.y,pose.pose.orientation.z))"
   ]
  },
  {
   "cell_type": "code",
   "execution_count": null,
   "id": "17d1dea8",
   "metadata": {},
   "outputs": [],
   "source": [
    "gp=whole_body.get_current_pose()"
   ]
  },
  {
   "cell_type": "code",
   "execution_count": null,
   "id": "b88885bc",
   "metadata": {},
   "outputs": [],
   "source": [
    "\n",
    "gp.pose.orientation\n",
    "pose=gp\n",
    "eu=tf.transformations.euler_from_quaternion((pose.pose.orientation.w,pose.pose.orientation.x,pose.pose.orientation.y,pose.pose.orientation.z))\n",
    "#eu[1]=0\n",
    "quat=tf.transformations.quaternion_from_euler(eu[0],eu[1],eu[2])"
   ]
  },
  {
   "cell_type": "code",
   "execution_count": null,
   "id": "b3524ff3",
   "metadata": {},
   "outputs": [],
   "source": [
    "eu=tf.transformations.euler_from_quaternion((pose.pose.orientation.w,pose.pose.orientation.x,pose.pose.orientation.y,pose.pose.orientation.z))"
   ]
  },
  {
   "cell_type": "code",
   "execution_count": null,
   "id": "f1848d06",
   "metadata": {},
   "outputs": [],
   "source": [
    "tfBuffer.lookup_transform('hand_palm_link','New:static_Target',rospy.Time(0))"
   ]
  },
  {
   "cell_type": "code",
   "execution_count": null,
   "id": "6aa7e7eb",
   "metadata": {},
   "outputs": [],
   "source": [
    "#eu[1]=0\n",
    "quat=tf.transformations.quaternion_from_euler(eu[0],eu[1],eu[2])\n",
    "rot_quat=tf.transformations.quaternion_from_euler(0,0.5*np.pi,0.0)"
   ]
  },
  {
   "cell_type": "code",
   "execution_count": null,
   "id": "fcf78b24",
   "metadata": {},
   "outputs": [],
   "source": [
    "wb_gp=whole_body.get_current_pose()"
   ]
  },
  {
   "cell_type": "code",
   "execution_count": null,
   "id": "803cc0d5",
   "metadata": {},
   "outputs": [],
   "source": [
    "eu=tf.transformations.euler_from_quaternion((wb_gp.pose.orientation.w,wb_gp.pose.orientation.x,wb_gp.pose.orientation.y,wb_gp.pose.orientation.z))\n",
    "quat=tf.transformations.quaternion_from_euler(eu[0],eu[1],eu[2])\n",
    "rot_quat=tf.transformations.quaternion_from_euler(0,0.5*np.pi,0.0)\n",
    "rotated=tf.transformations.quaternion_multiply(quat,rot_quat)\n",
    "\n"
   ]
  },
  {
   "cell_type": "code",
   "execution_count": null,
   "id": "af1f1c10",
   "metadata": {},
   "outputs": [],
   "source": [
    "wb_gp.pose.position.x-=0.1\n",
    "wb_gp.pose.position.y+=0.1\n",
    "wb_gp.pose.position.z-=0.1\n"
   ]
  },
  {
   "cell_type": "code",
   "execution_count": null,
   "id": "e7060254",
   "metadata": {},
   "outputs": [],
   "source": [
    "wb_gp.pose.orientation.w=rotated[0]\n",
    "wb_gp.pose.orientation.x=rotated[1]\n",
    "wb_gp.pose.orientation.y=rotated[2]\n",
    "wb_gp.pose.orientation.z=rotated[3]"
   ]
  },
  {
   "cell_type": "code",
   "execution_count": null,
   "id": "cfff6feb",
   "metadata": {},
   "outputs": [],
   "source": [
    "whole_body.set_pose_target(wb_gp)"
   ]
  },
  {
   "cell_type": "code",
   "execution_count": null,
   "id": "46b260e6",
   "metadata": {},
   "outputs": [],
   "source": [
    "\n",
    "plan=whole_body.plan()\n",
    "plan"
   ]
  },
  {
   "cell_type": "code",
   "execution_count": null,
   "id": "d13e0540",
   "metadata": {},
   "outputs": [],
   "source": [
    "if plan[0]:\n",
    "    whole_body.go()"
   ]
  },
  {
   "cell_type": "code",
   "execution_count": null,
   "id": "56da32e8",
   "metadata": {},
   "outputs": [],
   "source": [
    "whole_body.go()"
   ]
  },
  {
   "cell_type": "code",
   "execution_count": null,
   "id": "1cafe338",
   "metadata": {},
   "outputs": [],
   "source": [
    "arm_grasp_from_above = [0.19263830140116414, -2.2668981568652917, -0.007358947463759424, -0.9939144210462025, -0.17365421548386273, 0.0]\n",
    "wb_v=whole_body.get_current_joint_values()\n",
    "wb_v[3:]=arm_grasp_from_above\n",
    "succ = whole_body.go(wb_v)"
   ]
  },
  {
   "cell_type": "code",
   "execution_count": null,
   "id": "f6961dec",
   "metadata": {},
   "outputs": [],
   "source": [
    "\n",
    "t=tfBuffer.lookup_transform('New:static_Target','hand_palm_link',rospy.Time(0))\n",
    "pose , quat =  read_tf(t)\n",
    "pose,quat\n",
    "np.save('above_quat.npy',quat)"
   ]
  },
  {
   "cell_type": "code",
   "execution_count": null,
   "id": "f7b19101",
   "metadata": {},
   "outputs": [],
   "source": [
    "t=tfBuffer.lookup_transform('map','Target',rospy.Time(0))\n",
    "pose , quat =  read_tf(t)\n",
    "pose,quat"
   ]
  },
  {
   "cell_type": "code",
   "execution_count": null,
   "id": "97b4222e",
   "metadata": {},
   "outputs": [],
   "source": [
    "wb_gp=whole_body.get_current_pose()\n",
    "wb_gp.pose.position.x= pose[0]\n",
    "wb_gp.pose.position.y= pose[1]\n",
    "wb_gp.pose.position.z= pose[2]+0.2\n"
   ]
  },
  {
   "cell_type": "code",
   "execution_count": null,
   "id": "5f99d418",
   "metadata": {},
   "outputs": [],
   "source": [
    "whole_body.set_pose_target(wb_gp)\n",
    "plan=whole_body.plan()\n",
    "plan"
   ]
  },
  {
   "cell_type": "code",
   "execution_count": null,
   "id": "b1e041bf",
   "metadata": {},
   "outputs": [],
   "source": [
    "\n",
    "whole_body.go()"
   ]
  },
  {
   "cell_type": "code",
   "execution_count": null,
   "id": "ba658ddb",
   "metadata": {},
   "outputs": [],
   "source": [
    "wb_v=whole_body.get_current_joint_values()\n"
   ]
  },
  {
   "cell_type": "code",
   "execution_count": null,
   "id": "ebe3812e",
   "metadata": {},
   "outputs": [],
   "source": [
    "gripper = GRIPPER()"
   ]
  },
  {
   "cell_type": "code",
   "execution_count": null,
   "id": "b5a3ad2a",
   "metadata": {},
   "outputs": [],
   "source": [
    "gripper.close()"
   ]
  },
  {
   "cell_type": "code",
   "execution_count": null,
   "id": "c7e05102",
   "metadata": {},
   "outputs": [],
   "source": [
    "gripper =  moveit_commander.MoveGroupCommander('gripper')"
   ]
  },
  {
   "cell_type": "code",
   "execution_count": null,
   "id": "7bac164b",
   "metadata": {},
   "outputs": [],
   "source": [
    "\n",
    "|\n",
    "tf_man.pub_static_tf()"
   ]
  },
  {
   "cell_type": "code",
   "execution_count": null,
   "id": "261eed62",
   "metadata": {},
   "outputs": [],
   "source": []
  },
  {
   "cell_type": "code",
   "execution_count": null,
   "id": "69c7bc1d",
   "metadata": {},
   "outputs": [],
   "source": []
  },
  {
   "cell_type": "code",
   "execution_count": null,
   "id": "8fe6fd57",
   "metadata": {},
   "outputs": [],
   "source": []
  },
  {
   "cell_type": "code",
   "execution_count": null,
   "id": "187b56b6",
   "metadata": {},
   "outputs": [],
   "source": []
  },
  {
   "cell_type": "code",
   "execution_count": null,
   "id": "eb12f985",
   "metadata": {},
   "outputs": [],
   "source": [
    "head.set_joint_values([0.0, -0.77])\n"
   ]
  },
  {
   "cell_type": "code",
   "execution_count": null,
   "id": "d80dd175",
   "metadata": {},
   "outputs": [],
   "source": [
    "print ('rdy')"
   ]
  },
  {
   "cell_type": "code",
   "execution_count": null,
   "id": "830b7456",
   "metadata": {},
   "outputs": [],
   "source": [
    "brazo.set_named_target('go')\n",
    "head.set_joint_values([0.0, -0.77])\n",
    "res=segmentation_server.call()\n",
    "if len(res.poses.data)==0: print( 'failed')\n",
    "else:\n",
    "\n",
    "    poses=np.asarray(res.poses.data)\n",
    "    poses=poses.reshape((int(len(poses)/3) ,3     )      )  \n",
    "\n",
    "\n",
    "\n",
    "\n",
    "\n",
    "    tf_man.pub_static_tf(pos=poses[0,:], point_name='target', ref='head_rgbd_sensor_rgb_frame')## which object to choose   #TODO\n",
    "    rospy.sleep(0.3)\n",
    "    tf_man.change_ref_frame_tf(point_name='target', new_frame='map')\n",
    "    rospy.sleep(0.3)\n",
    "    pose, _ =tf_man.getTF('target')\n",
    "    tf_man.pub_static_tf(pos=pose, point_name='Target')## which object to choose   #TODO\n",
    "\n",
    "\n",
    "    head.set_named_target('neutral')"
   ]
  },
  {
   "cell_type": "code",
   "execution_count": null,
   "id": "e2f330e0",
   "metadata": {},
   "outputs": [],
   "source": [
    "poses=np.asarray(res.poses.data)\n",
    "poses=poses.reshape((int(len(poses)/3) ,3     )      )  \n",
    "\n",
    "\n",
    "\n",
    "\n",
    "\n",
    "tf_man.pub_static_tf(pos=poses[0,:], point_name='target', ref='head_rgbd_sensor_rgb_frame')## which object to choose   #TODO"
   ]
  },
  {
   "cell_type": "code",
   "execution_count": null,
   "id": "e4642063",
   "metadata": {},
   "outputs": [],
   "source": [
    "tf_man.change_ref_frame_tf(point_name='target', new_frame='map')\n"
   ]
  },
  {
   "cell_type": "code",
   "execution_count": null,
   "id": "23eb4bf8",
   "metadata": {},
   "outputs": [],
   "source": [
    "pose, _ =tf_man.getTF('target')\n",
    "tf_man.pub_static_tf(pos=pose, point_name='Target')## which object to choose   #TODO\n"
   ]
  },
  {
   "cell_type": "code",
   "execution_count": null,
   "id": "791abb92",
   "metadata": {},
   "outputs": [],
   "source": [
    "head.set_named_target('neutral')"
   ]
  },
  {
   "cell_type": "code",
   "execution_count": null,
   "id": "448d5ca0",
   "metadata": {},
   "outputs": [],
   "source": [
    " clear_octo_client()\n",
    "#############################10 * 2 *np.pi / 360 ####pi /2\n",
    "arm_grasp_from_above = [0.2, -1.57, -0.13 , -1.57, 0.0, 0.0]\n",
    "wb_v=whole_body.get_current_joint_values()\n",
    "wb_v[3:]=arm_grasp_from_above\n",
    "succ = whole_body.go(wb_v)   "
   ]
  },
  {
   "cell_type": "code",
   "execution_count": null,
   "id": "85cdf627",
   "metadata": {},
   "outputs": [],
   "source": [
    "clear_octo_client()\n",
    "pose, quat=tf_man.getTF('Target')\n",
    "\n",
    "wb_gp=whole_body.get_current_pose()\n",
    "wb_gp.pose.position.x= pose[0]\n",
    "wb_gp.pose.position.y= pose[1]\n",
    "wb_gp.pose.position.z= pose[2]+0.2\n",
    "\n",
    "whole_body.set_pose_target(wb_gp)\n",
    "plan=whole_body.plan()"
   ]
  },
  {
   "cell_type": "code",
   "execution_count": null,
   "id": "422d4c93",
   "metadata": {},
   "outputs": [],
   "source": [
    "pos,rot=tf_man.getTF(target_frame=,ref)\n",
    "pos"
   ]
  },
  {
   "cell_type": "code",
   "execution_count": null,
   "id": "a011d956",
   "metadata": {},
   "outputs": [],
   "source": [
    "from smach_utils2 import *"
   ]
  },
  {
   "cell_type": "code",
   "execution_count": null,
   "id": "f384254d",
   "metadata": {},
   "outputs": [],
   "source": [
    "from smach_utils2 import *\n"
   ]
  },
  {
   "cell_type": "code",
   "execution_count": null,
   "id": "7f9036ef",
   "metadata": {},
   "outputs": [],
   "source": [
    "wb_gp=whole_body.get_current_pose()            \n",
    "wb_gp.header.frame_id=\"Target\"\n",
    "wb_gp.pose.position.x=0.02669\n",
    "wb_gp.pose.position.y=0.045\n",
    "wb_gp.pose.position.z= 0.033\n",
    "wb_gp.pose.orientation.w=-0.990\n",
    "wb_gp.pose.orientation.x= 0.0246\n",
    "wb_gp.pose.orientation.y= -0.0085\n",
    "wb_gp.pose.orientation.z= 0.1345\n",
    "\n"
   ]
  },
  {
   "cell_type": "code",
   "execution_count": null,
   "id": "9dadce42",
   "metadata": {},
   "outputs": [],
   "source": []
  },
  {
   "cell_type": "code",
   "execution_count": null,
   "id": "85cfad64",
   "metadata": {},
   "outputs": [],
   "source": [
    "aaa"
   ]
  },
  {
   "cell_type": "code",
   "execution_count": null,
   "id": "05aab8d3",
   "metadata": {},
   "outputs": [],
   "source": [
    "from smach_ros import ActionServerWrapper"
   ]
  },
  {
   "cell_type": "code",
   "execution_count": null,
   "id": "42d59559",
   "metadata": {},
   "outputs": [],
   "source": []
  },
  {
   "cell_type": "code",
   "execution_count": null,
   "id": "b2be4635",
   "metadata": {},
   "outputs": [],
   "source": [
    "res = speech_recog_server()"
   ]
  },
  {
   "cell_type": "code",
   "execution_count": null,
   "id": "4e6d8840",
   "metadata": {},
   "outputs": [],
   "source": [
    "res.data\n",
    "\n",
    "#msg = rospy.wait_for_message('/speech_recognition/final_result', String, 10)\n",
    "#msg"
   ]
  },
  {
   "cell_type": "code",
   "execution_count": null,
   "id": "f2b2e7d5",
   "metadata": {},
   "outputs": [],
   "source": [
    "if len(res.data.split(' '))>1:print(res.data.split(' ')[-1])    ### Number of words\n"
   ]
  },
  {
   "cell_type": "code",
   "execution_count": null,
   "id": "c4115064",
   "metadata": {},
   "outputs": [],
   "source": []
  },
  {
   "cell_type": "code",
   "execution_count": null,
   "id": "19e7972a",
   "metadata": {},
   "outputs": [],
   "source": []
  },
  {
   "cell_type": "code",
   "execution_count": null,
   "id": "58ba5515",
   "metadata": {},
   "outputs": [],
   "source": [
    "from ros_whisper_vosk.srv import SetGrammarVosk\n",
    "set_grammar = rospy.ServiceProxy('set_grammar_vosk', SetGrammarVosk)"
   ]
  },
  {
   "cell_type": "code",
   "execution_count": null,
   "id": "590283d6",
   "metadata": {},
   "outputs": [],
   "source": [
    "set_grammar = rospy.ServiceProxy('set_grammar_vosk', SetGrammarVosk)"
   ]
  },
  {
   "cell_type": "code",
   "execution_count": null,
   "id": "5f5b4d54",
   "metadata": {},
   "outputs": [],
   "source": [
    "set_grammar(['pete','ana','jack', 'michael', ' my name is' , 'i am','george','mary','ruben','oscar','yolo','mitzi'])  ##PRESET NAMES"
   ]
  },
  {
   "cell_type": "code",
   "execution_count": null,
   "id": "f692c036",
   "metadata": {
    "scrolled": true
   },
   "outputs": [],
   "source": [
    "msg = rospy.wait_for_message('/speech_recognition/final_result', String, 10)\n",
    "msg"
   ]
  },
  {
   "cell_type": "code",
   "execution_count": null,
   "id": "1024c0ba",
   "metadata": {},
   "outputs": [],
   "source": [
    "msg = rospy.wait_for_message('/speech_recognition/final_result', String, 10)\n",
    "#msg.data\n",
    "if len(msg.data.split(' '))>1:print(msg.data.split(' ')[-1]) "
   ]
  },
  {
   "cell_type": "code",
   "execution_count": null,
   "id": "dd53f34f",
   "metadata": {},
   "outputs": [],
   "source": [
    "\n",
    "res=get_keywords_speech(10)\n",
    "res"
   ]
  },
  {
   "cell_type": "code",
   "execution_count": null,
   "id": "10c3aca5",
   "metadata": {},
   "outputs": [],
   "source": []
  },
  {
   "cell_type": "code",
   "execution_count": null,
   "id": "cb3b220a",
   "metadata": {},
   "outputs": [],
   "source": [
    "drinks=['coke','juice','beer', 'water', 'soda', 'wine']\n",
    "names=['pete','ana','jack', 'michael', ' my name is' , 'i am','george','mary','ruben','oscar','yolo','mitzi']\n",
    "confirmation=['yes','no']\n",
    "gram=drinks+names+confirmation\n",
    "\n",
    "set_grammar(gram)  ##PRESET DRINKS\n"
   ]
  },
  {
   "cell_type": "code",
   "execution_count": null,
   "id": "4e8e8232",
   "metadata": {},
   "outputs": [],
   "source": []
  },
  {
   "cell_type": "code",
   "execution_count": null,
   "id": "c8dee770",
   "metadata": {},
   "outputs": [],
   "source": [
    "res2 = get_keywords_speech(10)\n",
    "if res2 in['yes','jack','juice']:print('chido',res2)\n",
    "else: print ('chale',res2)"
   ]
  },
  {
   "cell_type": "code",
   "execution_count": null,
   "id": "32ec358c",
   "metadata": {},
   "outputs": [],
   "source": [
    "set_grammar(['yes','no'])"
   ]
  },
  {
   "cell_type": "code",
   "execution_count": null,
   "id": "44831c6e",
   "metadata": {},
   "outputs": [],
   "source": [
    "res2 in ['yes', 'no']"
   ]
  },
  {
   "cell_type": "code",
   "execution_count": null,
   "id": "3d885d9c",
   "metadata": {},
   "outputs": [],
   "source": [
    "res2='not'"
   ]
  },
  {
   "cell_type": "code",
   "execution_count": null,
   "id": "50f13eb4",
   "metadata": {},
   "outputs": [],
   "source": [
    "import matplotlib.pyplot as plt\n",
    "\n",
    "#map_msg= rospy.wait_for_message('/prohibition_layer_map', OccupancyGrid)\n",
    "map_msg= rospy.wait_for_message('/augmented_map', OccupancyGrid)\n",
    "inflated_map= np.asarray(map_msg.data)"
   ]
  },
  {
   "cell_type": "code",
   "execution_count": null,
   "id": "15e8406f",
   "metadata": {},
   "outputs": [],
   "source": [
    "map_msg.info.width"
   ]
  },
  {
   "cell_type": "code",
   "execution_count": null,
   "id": "d979331e",
   "metadata": {},
   "outputs": [],
   "source": [
    "import matplotlib.pyplot as plt\n",
    "img_map=inflated_map.reshape((map_msg.info.width,map_msg.info.height))\n",
    "\n"
   ]
  },
  {
   "cell_type": "code",
   "execution_count": null,
   "id": "c623dbd8",
   "metadata": {},
   "outputs": [],
   "source": [
    "import matplotlib.pyplot as plt\n",
    "img_map=inflated_map.reshape((map_msg.info.width,map_msg.info.height))\n",
    "\n",
    "\n",
    "plt.imshow(img_map)"
   ]
  },
  {
   "cell_type": "code",
   "execution_count": null,
   "id": "f3c85a51",
   "metadata": {},
   "outputs": [],
   "source": [
    "img_map[237,474]"
   ]
  },
  {
   "cell_type": "code",
   "execution_count": null,
   "id": "162d2bc0",
   "metadata": {},
   "outputs": [],
   "source": []
  },
  {
   "cell_type": "code",
   "execution_count": null,
   "id": "2125f71a",
   "metadata": {},
   "outputs": [],
   "source": [
    "from smach_utils2 import *\n"
   ]
  },
  {
   "cell_type": "code",
   "execution_count": null,
   "id": "6774ef06",
   "metadata": {},
   "outputs": [],
   "source": [
    "brazo.set_named_target()\n",
    "head.set_joint_values([0,-1])\n"
   ]
  },
  {
   "cell_type": "code",
   "execution_count": null,
   "id": "24f4f02c",
   "metadata": {},
   "outputs": [],
   "source": [
    "res=segmentation_server.call()\n",
    "origin_map_img=[round(img_map.shape[0]*0.5) ,round(img_map.shape[1]*0.5)]\n",
    "\n",
    "if len(res.poses.data)==0: print( 'failed')\n",
    "else:\n",
    "    print('object found')\n",
    "    \n",
    "    poses=np.asarray(res.poses.data)\n",
    "    poses=poses.reshape((int(len(poses)/3) ,3     )      )  \n",
    "    num_objs=len(poses)\n",
    "    print (num_objs)\n",
    "    for i,pose in enumerate(poses):\n",
    "        #print (f'Occupancy map at point object {i}-> pixels ',origin_map_img[1]+ round(pose[1]/pix_per_m),origin_map_img[0]+ round(pose[0]/pix_per_m), img_map[origin_map_img[1]+ round(pose[1]/pix_per_m),origin_map_img[0]+ round(pose[0]/pix_per_m)])\n",
    "        point_name=f'object_{i}'\n",
    "        tf_man.pub_static_tf(pos=pose, point_name=point_name, ref='head_rgbd_sensor_rgb_frame')## which object to choose   #TODO\n",
    "        rospy.sleep(0.3)\n",
    "        tf_man.change_ref_frame_tf(point_name=point_name, new_frame='map')\n",
    "        rospy.sleep(0.3)\n",
    "        pose,_= tf_man.getTF(point_name)\n",
    "        print (f'Occupancy map at point object {i}-> pixels ',origin_map_img[1]+ round(pose[1]/pix_per_m),origin_map_img[0]+ round(pose[0]/pix_per_m), img_map[origin_map_img[1]+ round(pose[1]/pix_per_m),origin_map_img[0]+ round(pose[0]/pix_per_m)])\n",
    "        if img_map[origin_map_img[1]+ round(pose[1]/pix_per_m),origin_map_img[0]+ round(pose[0]/pix_per_m)]!=0:#### Yes axes seem to be \"flipped\" !=0:\n",
    "            print ('reject point, most likely part of arena, occupied inflated map')\n",
    "            tf_man.pub_static_tf(pos=[0,0,0], point_name=point_name, ref='head_rgbd_sensor_rgb_frame')\n",
    "            num_objs-=1\n",
    "        print (f\"object found at robot coords.{pose} \")\n",
    "\n",
    "print(num_objs)"
   ]
  },
  {
   "cell_type": "code",
   "execution_count": null,
   "id": "4131292e",
   "metadata": {},
   "outputs": [],
   "source": [
    "contoured=draw_at(origin_map_img[1]+ round(pose[1]/pix_per_m),origin_map_img[0]+ round(pose[0]/pix_per_m),contoured)"
   ]
  },
  {
   "cell_type": "code",
   "execution_count": null,
   "id": "bb1d4454",
   "metadata": {},
   "outputs": [],
   "source": [
    "pose"
   ]
  },
  {
   "cell_type": "code",
   "execution_count": null,
   "id": "2350d33d",
   "metadata": {},
   "outputs": [],
   "source": [
    "contoured[origin_map_img[1]+ round(pose[1]/pix_per_m),origin_map_img[0]+ round(pose[0]/pix_per_m)]\n"
   ]
  },
  {
   "cell_type": "code",
   "execution_count": null,
   "id": "ffe95a1e",
   "metadata": {},
   "outputs": [],
   "source": [
    "#FREE SPACE . SO IT IS A PLAUSIBLE HYPOTHESIS OF A TRASH OBJECT"
   ]
  },
  {
   "cell_type": "code",
   "execution_count": null,
   "id": "fe76975f",
   "metadata": {},
   "outputs": [],
   "source": [
    "pose"
   ]
  },
  {
   "cell_type": "code",
   "execution_count": null,
   "id": "38be969d",
   "metadata": {},
   "outputs": [],
   "source": []
  },
  {
   "cell_type": "code",
   "execution_count": null,
   "id": "e170ff37",
   "metadata": {},
   "outputs": [],
   "source": []
  },
  {
   "cell_type": "code",
   "execution_count": null,
   "id": "fffe798f",
   "metadata": {},
   "outputs": [],
   "source": []
  },
  {
   "cell_type": "code",
   "execution_count": null,
   "id": "cc8e4a57",
   "metadata": {},
   "outputs": [],
   "source": []
  },
  {
   "cell_type": "code",
   "execution_count": null,
   "id": "142b793c",
   "metadata": {},
   "outputs": [],
   "source": [
    "def draw_at (px,py, contoured):\n",
    "    contoured[px-5:px+5,py-5:py+5]=200\n",
    "    return contoured\n",
    "    "
   ]
  },
  {
   "cell_type": "code",
   "execution_count": null,
   "id": "b2887705",
   "metadata": {},
   "outputs": [],
   "source": [
    "\n",
    "import matplotlib.pyplot as plt\n",
    "plt.imshow(img_map)"
   ]
  },
  {
   "cell_type": "code",
   "execution_count": null,
   "id": "f366147a",
   "metadata": {},
   "outputs": [],
   "source": [
    "origin_map_img[1]+ round(pose[1]/pix_per_m), origin_map_img[0]+ round(pose[0]/pix_per_m) "
   ]
  },
  {
   "cell_type": "code",
   "execution_count": null,
   "id": "79710947",
   "metadata": {},
   "outputs": [],
   "source": [
    "img_map[200,474]"
   ]
  },
  {
   "cell_type": "code",
   "execution_count": null,
   "id": "1865980e",
   "metadata": {},
   "outputs": [],
   "source": [
    "img_map[origin_map_img[1]+ round(pose[1]/pix_per_m),origin_map_img[0]+ round(pose[0]/pix_per_m) ]\n",
    "\n",
    "\n",
    "#img_map[origin_map_img[1]+ round(pose[1]/pix_per_m),origin_map_img[0]+ round(pose[0]/pix_per_m) ]"
   ]
  },
  {
   "cell_type": "code",
   "execution_count": null,
   "id": "73ee7517",
   "metadata": {},
   "outputs": [],
   "source": [
    "origin_map_img=[round(contoured.shape[0]*0.5) ,round(contoured.shape[1]*0.5)]\n",
    "pose,_= tf_man.getTF('object_0')\n",
    "\n",
    "contoured=draw_at(origin_map_img[1]+ round(pose[1]/pix_per_m),origin_map_img[0]+ round(pose[0]/pix_per_m),img_map)\n",
    "plt.imshow(contoured)"
   ]
  },
  {
   "cell_type": "code",
   "execution_count": null,
   "id": "172fb740",
   "metadata": {},
   "outputs": [],
   "source": [
    "contoured[origin_map_img[1]+ round(pose[1]/pix_per_m),origin_map_img[0]+ round(pose[0]/pix_per_m)]#### Yes axes seem to be \"flipped\""
   ]
  },
  {
   "cell_type": "code",
   "execution_count": null,
   "id": "eb7ec96d",
   "metadata": {},
   "outputs": [],
   "source": [
    "\n",
    "contoured[origin_map_img[1],origin_map_img[0]]"
   ]
  },
  {
   "cell_type": "code",
   "execution_count": null,
   "id": "7d3feda8",
   "metadata": {},
   "outputs": [],
   "source": [
    "robot=get_robot_px()\n",
    "draw_at(origin_map_img[0]+robot[0]+round(pose[0]/pix_per_m) ,origin_map_img[1] -robot[1] - round(pose[1]/pix_per_m),contoured)\n",
    "plt.imshow(contoured[750:1250,750:1250])\n",
    "print ('robot Pose (tf)')"
   ]
  },
  {
   "cell_type": "code",
   "execution_count": null,
   "id": "e53a5c0c",
   "metadata": {},
   "outputs": [],
   "source": []
  },
  {
   "cell_type": "code",
   "execution_count": null,
   "id": "ac803216",
   "metadata": {},
   "outputs": [],
   "source": [
    "contoured[origin_map_img[1]- round(pose[1]/pix_per_m),origin_map_img[0]- round(pose[0]/pix_per_m)]"
   ]
  },
  {
   "cell_type": "code",
   "execution_count": null,
   "id": "ea08f4ac",
   "metadata": {},
   "outputs": [],
   "source": [
    "contoured[0,0]"
   ]
  },
  {
   "cell_type": "code",
   "execution_count": null,
   "id": "6be6f4e6",
   "metadata": {},
   "outputs": [],
   "source": [
    "contoured[origin_map_img[0]- round(pose[0]/pix_per_m),origin_map_img[1]- round(pose[1]/pix_per_m)]"
   ]
  },
  {
   "cell_type": "code",
   "execution_count": null,
   "id": "254ed642",
   "metadata": {},
   "outputs": [],
   "source": []
  },
  {
   "cell_type": "code",
   "execution_count": null,
   "id": "188987fe",
   "metadata": {},
   "outputs": [],
   "source": []
  },
  {
   "cell_type": "code",
   "execution_count": null,
   "id": "74d6c40d",
   "metadata": {},
   "outputs": [],
   "source": []
  },
  {
   "cell_type": "code",
   "execution_count": null,
   "id": "c89515a3",
   "metadata": {},
   "outputs": [],
   "source": []
  },
  {
   "cell_type": "code",
   "execution_count": null,
   "id": "2f7cec26",
   "metadata": {},
   "outputs": [],
   "source": [
    "c=point_to_px(pose[0],pose[1])\n",
    "robot=get_robot_px()\n",
    "draw_at(1024+robot[1]+c[0],1024+robot[0]+c[1],contoured)\n",
    "plt.imshow(contoured[750:1250,750:1250])\n",
    "print ('robot Pose (tf)')\n"
   ]
  },
  {
   "cell_type": "code",
   "execution_count": null,
   "id": "bd170ff1",
   "metadata": {},
   "outputs": [],
   "source": []
  },
  {
   "cell_type": "code",
   "execution_count": null,
   "id": "fe9f2515",
   "metadata": {},
   "outputs": [],
   "source": [
    "contoured[c[0]+1024,c[1]+1024]"
   ]
  },
  {
   "cell_type": "code",
   "execution_count": null,
   "id": "2a34c545",
   "metadata": {},
   "outputs": [],
   "source": [
    "\n",
    "check_point_map(pose[0],pose[1])"
   ]
  },
  {
   "cell_type": "code",
   "execution_count": null,
   "id": "eecf7fa4",
   "metadata": {},
   "outputs": [],
   "source": [
    "import matplotlib.pyplot as plt\n",
    "from smach_utils2 import *\n",
    "\n",
    "def read_tf(t):\n",
    "    # trasnform message to np arrays\n",
    "    pose=np.asarray((\n",
    "        t.transform.translation.x,\n",
    "        t.transform.translation.y,\n",
    "        t.transform.translation.z\n",
    "        ))\n",
    "    quat=np.asarray((\n",
    "        t.transform.rotation.x,\n",
    "        t.transform.rotation.y,\n",
    "        t.transform.rotation.z,\n",
    "        t.transform.rotation.w\n",
    "        ))\n",
    "    \n",
    "    return pose, quat\n"
   ]
  },
  {
   "cell_type": "code",
   "execution_count": null,
   "id": "db4a2903",
   "metadata": {},
   "outputs": [],
   "source": [
    "broadcaster = tf2_ros.TransformBroadcaster()\n",
    "points_msg=rospy.wait_for_message(\"/hsrb/head_rgbd_sensor/depth_registered/rectified_points\",PointCloud2,timeout=5)\n",
    "points_data = ros_numpy.numpify(points_msg)    \n",
    "image_data = points_data['rgb'].view((np.uint8, 4))[..., [2, 1, 0]]   \n",
    "image=cv2.cvtColor(image_data, cv2.COLOR_BGR2RGB)\n",
    "image = points_data['rgb'].view((np.uint8, 4))[..., [2, 1, 0]]\n",
    "\n",
    "rgb_image = cv2.cvtColor(image, cv2.COLOR_BGR2RGB)"
   ]
  },
  {
   "cell_type": "code",
   "execution_count": null,
   "id": "f51d366f",
   "metadata": {},
   "outputs": [],
   "source": [
    "def correct_points(points_msg):\n",
    "\n",
    "    # Function that transforms Point Cloud reference frame from  head, to map. (i.e. sensor coords to map coords )\n",
    "    # img= correct_points() (Returns rgbd depth corrected image)    \n",
    "    #points msg in \n",
    "    #data = rospy.wait_for_message('/hsrb/head_rgbd_sensor/depth_registered/rectified_points', PointCloud2)\n",
    "    \n",
    "\n",
    "    np_data=ros_numpy.numpify(points_msg)\n",
    "\n",
    "    try:\n",
    "        trans = tfBuffer.lookup_transform('map', 'head_rgbd_sensor_link', rospy.Time())\n",
    "                    \n",
    "        trans,rot=read_tf(trans)\n",
    "        #print (\"############head\",trans,rot)\n",
    "    except (tf2_ros.LookupException, tf2_ros.ConnectivityException, tf2_ros.ExtrapolationException):\n",
    "        print ( 'No head TF FOUND')\n",
    "\n",
    "    #trans,rot=tf_listener.lookupTransform('/map', '/head_rgbd_sensor_rgb_frame', rospy.Time(0))\n",
    "    #print (\"############TF1\",trans,rot)\n",
    "    eu=np.asarray(tf.transformations.euler_from_quaternion(rot))\n",
    "    t=TransformStamped()\n",
    "    rot=tf.transformations.quaternion_from_euler(eu[0],eu[1],eu[2])\n",
    "    #rot=tf.transformations.quaternion_from_euler(-eu[1],0,0)\n",
    "    t.header.stamp = points_msg.header.stamp\n",
    "    t.transform.rotation.x = rot[0]\n",
    "    t.transform.rotation.y = rot[1]\n",
    "    t.transform.rotation.z = rot[2]\n",
    "    t.transform.rotation.w = rot[3]\n",
    "    cloud_out = do_transform_cloud(points_msg, t)\n",
    "    np_corrected=ros_numpy.numpify(cloud_out)\n",
    "    corrected=np_corrected.reshape(np_data.shape)\n",
    "    img= np.copy(-corrected['z'])\n",
    "    img[np.isnan(img)]=2\n",
    "    img_corrected = np.where((img<trans[2]*0.96) ,img,5)\n",
    "    #Returns img with xyz info  and points datastructure ( see numpify a ptcloud2)\n",
    "    return img_corrected , corrected"
   ]
  },
  {
   "cell_type": "code",
   "execution_count": null,
   "id": "e51dc19c",
   "metadata": {},
   "outputs": [],
   "source": [
    "#############################################\n",
    "#points_data = ros_numpy.numpify(points_msg)    \n",
    "#image_data = points_data['rgb'].view((np.uint8, 4))[..., [2, 1, 0]]   \n",
    "#image=cv2.cvtColor(image_data, cv2.COLOR_BGR2RGB)\n",
    "#image = points_data['rgb'].view((np.uint8, 4))[..., [2, 1, 0]]\n",
    "#rgb_image = cv2.cvtColor(image, cv2.COLOR_BGR2RGB)\n",
    "##\n",
    "_,corrected=correct_points(points_msg)  ### aplica la transformada de la camara para corregir la perspectiva\n",
    "zs_no_nans=np.where(~np.isnan(corrected['z']),corrected['z'],1)   \n",
    "histogram, bin_edges =(np.histogram(zs_no_nans, bins=100))\n",
    "t = tfBuffer.lookup_transform('map', 'head_rgbd_sensor_link', rospy.Time())\n",
    "trans=t.transform.translation.z\n",
    "#print (bin_edges,histogram[:-1].argmax(), histogram[:-1].argmax())\n",
    "plane_height= (trans)+bin_edges[histogram[:-1].argmax()]\n",
    "print(plane_height, 'plane_height')\n",
    "################################"
   ]
  },
  {
   "cell_type": "code",
   "execution_count": null,
   "id": "e9f6cb8a",
   "metadata": {},
   "outputs": [],
   "source": []
  },
  {
   "cell_type": "code",
   "execution_count": null,
   "id": "9f682d2f",
   "metadata": {},
   "outputs": [],
   "source": [
    "points_msg = rospy.wait_for_message('/hsrb/head_rgbd_sensor/depth_registered/rectified_points', PointCloud2)\n"
   ]
  },
  {
   "cell_type": "code",
   "execution_count": null,
   "id": "f4c2091e",
   "metadata": {},
   "outputs": [],
   "source": [
    "points_msg=rospy.wait_for_message(\"/hsrb/head_rgbd_sensor/depth_registered/rectified_points\",PointCloud2,timeout=5)\n",
    "im_corrected,corrected=correct_points(points_msg)  ### aplica la transformada de la camara para corregir la perspectiva\n",
    "zs_no_nans=np.where(~np.isnan(corrected['z']),corrected['z'],1)   \n",
    "histogram, bin_edges =(np.histogram(zs_no_nans, bins=100))\n",
    "t = tfBuffer.lookup_transform('map', 'head_rgbd_sensor_link', rospy.Time())\n",
    "trans=t.transform.translation.z\n",
    "#print (bin_edges,histogram[:-1].argmax(), histogram[:-1].argmax())\n",
    "plane_height= (trans)+bin_edges[histogram[:-1].argmax()]\n",
    "print(plane_height, 'plane_height')\n",
    "plt.imshow(im_corrected,cmap='prism')\n"
   ]
  },
  {
   "cell_type": "code",
   "execution_count": null,
   "id": "5686913d",
   "metadata": {},
   "outputs": [],
   "source": [
    "cc=[np.mean(corrected['x'][248:340,273:394]),\n",
    "np.mean(corrected['y'][248:340,273:394]),\n",
    "np.mean(corrected['z'][248:340,273:394]) \n",
    "   ]"
   ]
  },
  {
   "cell_type": "code",
   "execution_count": null,
   "id": "261823f5",
   "metadata": {},
   "outputs": [],
   "source": [
    "cc"
   ]
  },
  {
   "cell_type": "code",
   "execution_count": null,
   "id": "28ff9fce",
   "metadata": {},
   "outputs": [],
   "source": [
    "plt.imshow(corrected['z'][248:340,273:394],cmap='prism')\n"
   ]
  },
  {
   "cell_type": "code",
   "execution_count": null,
   "id": "55d00ead",
   "metadata": {},
   "outputs": [],
   "source": [
    "plt.imshow(im_corrected[300:427,192:224],cmap='prism')\n"
   ]
  },
  {
   "cell_type": "code",
   "execution_count": null,
   "id": "de442e31",
   "metadata": {},
   "outputs": [],
   "source": [
    "plt.imshow(im_corrected[90:160,50:185],cmap='prism')\n"
   ]
  },
  {
   "cell_type": "code",
   "execution_count": null,
   "id": "a41fb20c",
   "metadata": {},
   "outputs": [],
   "source": [
    "im_corrected[0,0]"
   ]
  },
  {
   "cell_type": "code",
   "execution_count": null,
   "id": "bd48bd02",
   "metadata": {},
   "outputs": [],
   "source": []
  },
  {
   "cell_type": "code",
   "execution_count": null,
   "id": "614f59d1",
   "metadata": {},
   "outputs": [],
   "source": [
    "plt.imshow(im_corrected[273:394,248:340],cmap='prism')\n"
   ]
  },
  {
   "cell_type": "code",
   "execution_count": null,
   "id": "5827d66a",
   "metadata": {},
   "outputs": [],
   "source": [
    "thres_floor=0.01\n",
    "im_corrected = np.where((zs_no_nans >-trans+thres_floor+plane_height),zs_no_nans,1)\n",
    "plt.imshow(im_corrected)"
   ]
  },
  {
   "cell_type": "code",
   "execution_count": null,
   "id": "7577e8fb",
   "metadata": {},
   "outputs": [],
   "source": [
    "-trans-thres_floor+plane_height"
   ]
  },
  {
   "cell_type": "code",
   "execution_count": null,
   "id": "ea62d548",
   "metadata": {},
   "outputs": [],
   "source": [
    "im_corrected[300:350,500:550]"
   ]
  },
  {
   "cell_type": "code",
   "execution_count": null,
   "id": "daea5fbf",
   "metadata": {},
   "outputs": [],
   "source": [
    "plt.imshow(im_corrected)"
   ]
  },
  {
   "cell_type": "code",
   "execution_count": null,
   "id": "a90035bf",
   "metadata": {},
   "outputs": [],
   "source": []
  },
  {
   "cell_type": "code",
   "execution_count": null,
   "id": "5e14a8fa",
   "metadata": {},
   "outputs": [],
   "source": []
  },
  {
   "cell_type": "code",
   "execution_count": null,
   "id": "fa0330f4",
   "metadata": {},
   "outputs": [],
   "source": []
  },
  {
   "cell_type": "code",
   "execution_count": null,
   "id": "a93fdce0",
   "metadata": {},
   "outputs": [],
   "source": [
    "plane_height= (trans)+bin_edges[histogram[:-1].argmax()+1]\n",
    "img_corrected = np.where((-zs_no_nans < (trans*0.999)-plane_height-thres_t),zs_no_nans,1)"
   ]
  },
  {
   "cell_type": "code",
   "execution_count": null,
   "id": "edca040b",
   "metadata": {},
   "outputs": [],
   "source": [
    "corrected['z'][200:300,500:600]"
   ]
  },
  {
   "cell_type": "code",
   "execution_count": null,
   "id": "4d4337e7",
   "metadata": {},
   "outputs": [],
   "source": [
    "plt.imshow(corrected['z'])"
   ]
  },
  {
   "cell_type": "code",
   "execution_count": null,
   "id": "6ef97bf5",
   "metadata": {},
   "outputs": [],
   "source": [
    "np_data=ros_numpy.numpify(points_msg)\n",
    "\n",
    "try:\n",
    "    trans = tfBuffer.lookup_transform('map', 'head_rgbd_sensor_link', rospy.Time())\n",
    "\n",
    "    trans,rot=read_tf(trans)\n",
    "    #print (\"############head\",trans,rot)\n",
    "except (tf2_ros.LookupException, tf2_ros.ConnectivityException, tf2_ros.ExtrapolationException):\n",
    "    print ( 'No head TF FOUND')\n",
    "eu=np.asarray(tf.transformations.euler_from_quaternion(rot))\n",
    "t=TransformStamped()\n",
    "rot=tf.transformations.quaternion_from_euler(eu[0],eu[1],eu[2])\n",
    "#rot=tf.transformations.quaternion_from_euler(-eu[1],0,0)\n",
    "t.header.stamp = points_msg.header.stamp\n",
    "t.transform.rotation.x = rot[0]\n",
    "t.transform.rotation.y = rot[1]\n",
    "t.transform.rotation.z = rot[2]\n",
    "t.transform.rotation.w = rot[3]\n",
    "cloud_out = do_transform_cloud(points_msg, t)\n",
    "np_corrected=ros_numpy.numpify(cloud_out)\n",
    "corrected=np_corrected.reshape(np_data.shape)\n",
    "img= np.copy(-corrected['z'])\n",
    "img[np.isnan(img)]=2\n",
    "img_corrected = np.where((img<trans[2]*0.96) ,img,5)\n",
    "plt.imshow(img_corrected)"
   ]
  },
  {
   "cell_type": "code",
   "execution_count": null,
   "id": "f2e77800",
   "metadata": {},
   "outputs": [],
   "source": [
    "brazo.set_named_target('go')"
   ]
  },
  {
   "cell_type": "code",
   "execution_count": null,
   "id": "a7686c8e",
   "metadata": {},
   "outputs": [],
   "source": [
    "plt.imshow(np_data['z'])"
   ]
  },
  {
   "cell_type": "code",
   "execution_count": null,
   "id": "98e92f36",
   "metadata": {},
   "outputs": [],
   "source": [
    " contours, hierarchy = cv2.findContours(img_corrected.astype('uint8'),cv2.RETR_TREE,cv2.CHAIN_APPROX_SIMPLE)\n",
    "i=0\n",
    "cents=[]\n",
    "points=[]\n",
    "points_c=[]\n",
    "images=[]\n",
    "for i, contour in enumerate(contours):\n",
    "    \n",
    "    area = cv2.contourArea(contour)\n",
    "    if area<100 or area >10000:pass\n",
    "    else:\n",
    "        \n",
    "        M = cv2.moments(contour)\n",
    "        # calculate x,y coordinate of center\n",
    "        cX = int(M[\"m10\"] / M[\"m00\"])\n",
    "        cY = int(M[\"m01\"] / M[\"m00\"])\n",
    "        print (cv2.contourArea(contour))\n",
    "        boundRect = cv2.boundingRect(contour)\n",
    "        image_aux= image[boundRect[1]:boundRect[1]+boundRect[3],boundRect[0]:boundRect[0]+boundRect[2]]\n",
    "        images.append(image_aux)\n",
    "        image_aux= img_corrected[boundRect[1]:boundRect[1]+boundRect[3],boundRect[0]:boundRect[0]+boundRect[2]]\n",
    "        mask=np.where(image_aux!=5)\n",
    "        npmask=np.asarray(mask).T\n",
    "        \n",
    "        rgb_image=cv2.rectangle(rgb_image,(boundRect[0], boundRect[1]),(boundRect[0]+boundRect[2], boundRect[1]+boundRect[3]), (255,255,0), 2)\n",
    "        iim=cv2.drawContours(rgb_image, contour, -1, (0,255,0), 10)\n",
    "        "
   ]
  },
  {
   "cell_type": "code",
   "execution_count": null,
   "id": "e11f16bd",
   "metadata": {},
   "outputs": [],
   "source": [
    "plt.imshow(iim)"
   ]
  },
  {
   "cell_type": "code",
   "execution_count": null,
   "id": "e81774c6",
   "metadata": {},
   "outputs": [],
   "source": [
    "xyz=[]\n",
    "if len (npmask)>0:\n",
    "    for a in npmask:\n",
    "        ix,iy=a[0],a[1]\n",
    "        print(ix)\n",
    "        #aux=(np.asarray((points_data['x'][boundRect[1]+ix,boundRect[0]+iy],points_data['y'][boundRect[1]+ix,boundRect[0]+iy],points_data['z'][boundRect[1]+ix,boundRect[0]+iy])))\n",
    "        aux=(np.asarray((np_data['x'][boundRect[1]+ix,boundRect[0]+iy],np_data['y'][boundRect[1]+ix,boundRect[0]+iy],np_data['z'][boundRect[1]+ix,boundRect[0]+iy])))\n",
    "        \n",
    "        if np.isnan(aux[0]) or np.isnan(aux[1]) or np.isnan(aux[2]):\n",
    "                'reject point'\n",
    "        else:\n",
    "            #print (xyz)\n",
    "            xyz.append(aux)\n"
   ]
  },
  {
   "cell_type": "code",
   "execution_count": null,
   "id": "f51d9db9",
   "metadata": {},
   "outputs": [],
   "source": [
    "i=0\n",
    "x,y,z=np.asarray(xyz).mean(axis=0)\n",
    "if np.isnan(x) or np.isnan(y) or np.isnan(z):\n",
    "    print('nan')\n",
    "else:\n",
    "    t=write_tf(    (x,y,z), (0,0,0,1), 'Object'+str(i), \"head_rgbd_sensor_rgb_frame\"   )  \n",
    "broadcaster.sendTransform(t)"
   ]
  },
  {
   "cell_type": "code",
   "execution_count": null,
   "id": "646a2e0c",
   "metadata": {},
   "outputs": [],
   "source": []
  },
  {
   "cell_type": "code",
   "execution_count": null,
   "id": "f2b2068e",
   "metadata": {},
   "outputs": [],
   "source": [
    "plt.imshow(corrected['z'][boundRect[1]:boundRect[1]+boundRect[3],boundRect[0]:boundRect[0]+boundRect[2]])"
   ]
  },
  {
   "cell_type": "markdown",
   "id": "ce9bcc2c",
   "metadata": {},
   "source": [
    "    "
   ]
  },
  {
   "cell_type": "code",
   "execution_count": null,
   "id": "0518976c",
   "metadata": {},
   "outputs": [],
   "source": [
    "xyz=[]\n",
    "if len (npmask)>0:\n",
    "    for a in npmask:\n",
    "        ix,iy=a[0],a[1]\n",
    "        #aux=(np.asarray((points_data['x'][boundRect[1]+ix,boundRect[0]+iy],points_data['y'][boundRect[1]+ix,boundRect[0]+iy],points_data['z'][boundRect[1]+ix,boundRect[0]+iy])))\n",
    "        aux=(np.asarray((corrected['x'][boundRect[1]+ix,boundRect[0]+iy],corrected['y'][boundRect[1]+ix,boundRect[0]+iy],corrected['z'][boundRect[1]+ix,boundRect[0]+iy])))\n",
    "        print (aux)\n",
    "        if np.isnan(aux[0]) or np.isnan(aux[1]) or np.isnan(aux[2]):\n",
    "                'reject point'\n",
    "        else:\n",
    "            xyz.append(aux)"
   ]
  },
  {
   "cell_type": "code",
   "execution_count": null,
   "id": "b2539600",
   "metadata": {},
   "outputs": [],
   "source": [
    "np.asarray(xyz).mean(axis=0)"
   ]
  },
  {
   "cell_type": "code",
   "execution_count": null,
   "id": "43bd90ed",
   "metadata": {},
   "outputs": [],
   "source": [
    "def write_tf(pose, q, child_frame=\"\" , parent_frame='map'):\n",
    "    #  pose = trans  q = quaternion  , childframe =\"\"\n",
    "    # format  write the transformstampled message\n",
    "    t= TransformStamped()\n",
    "    t.header.stamp = rospy.Time.now()\n",
    "    #t.header.stamp = rospy.Time(0)\n",
    "    t.header.frame_id =parent_frame\n",
    "    t.child_frame_id =  child_frame\n",
    "    t.transform.translation.x = pose[0]\n",
    "    t.transform.translation.y = pose[1]\n",
    "    t.transform.translation.z = pose[2]\n",
    "    #q = tf.transformations.quaternion_from_euler(eu[0], eu[1], eu[2])\n",
    "    t.transform.rotation.x = q[0]\n",
    "    t.transform.rotation.y = q[1]\n",
    "    t.transform.rotation.z = q[2]\n",
    "    t.transform.rotation.w = q[3]\n",
    "    return t\n",
    "    "
   ]
  },
  {
   "cell_type": "code",
   "execution_count": null,
   "id": "17b84686",
   "metadata": {},
   "outputs": [],
   "source": []
  },
  {
   "cell_type": "code",
   "execution_count": null,
   "id": "bb919bc7",
   "metadata": {},
   "outputs": [],
   "source": [
    "zs_no_nans=np.where(~np.isnan(corrected['z']),corrected['z'],1)\n",
    "histogram, bin_edges =(np.histogram(zs_no_nans, bins=100))\n",
    "t = tfBuffer.lookup_transform('map', 'head_rgbd_sensor_link', rospy.Time())\n",
    "trans=t.transform.translation.z\n",
    "plane_height= (trans)+bin_edges[histogram[:-1].argmax()+1]\n",
    "print(plane_height, 'plane_height')\n"
   ]
  },
  {
   "cell_type": "code",
   "execution_count": null,
   "id": "08b83f8b",
   "metadata": {},
   "outputs": [],
   "source": [
    "t = tfBuffer.lookup_transform('map', 'head_rgbd_sensor_link', rospy.Time())\n",
    "trans=t.transform.translation.z\n",
    "\n",
    "\n",
    "# Quito piso desde altura robot(sensor) + un threshold (hacia abajo) -> thres_floor\n",
    "img_corrected = np.where((zs_no_nans >-trans-0.03),zs_no_nans,1)"
   ]
  },
  {
   "cell_type": "code",
   "execution_count": null,
   "id": "e26dc01d",
   "metadata": {},
   "outputs": [],
   "source": [
    "corrected['z'][200,200]"
   ]
  },
  {
   "cell_type": "code",
   "execution_count": null,
   "id": "681c1582",
   "metadata": {},
   "outputs": [],
   "source": [
    "img_corrected"
   ]
  },
  {
   "cell_type": "code",
   "execution_count": null,
   "id": "0610f02b",
   "metadata": {},
   "outputs": [],
   "source": [
    "plane_height"
   ]
  },
  {
   "cell_type": "code",
   "execution_count": null,
   "id": "5db9ad07",
   "metadata": {},
   "outputs": [],
   "source": []
  },
  {
   "cell_type": "code",
   "execution_count": null,
   "id": "bd8a066d",
   "metadata": {},
   "outputs": [],
   "source": [
    "for i, contour in enumerate(contours):\n",
    "    boundRect = cv2.boundingRect(contour)"
   ]
  },
  {
   "cell_type": "code",
   "execution_count": null,
   "id": "58ee487e",
   "metadata": {},
   "outputs": [],
   "source": [
    "img_corrected"
   ]
  },
  {
   "cell_type": "code",
   "execution_count": null,
   "id": "7b7a9e62",
   "metadata": {},
   "outputs": [],
   "source": []
  },
  {
   "cell_type": "code",
   "execution_count": null,
   "id": "6937bb47",
   "metadata": {},
   "outputs": [],
   "source": []
  },
  {
   "cell_type": "code",
   "execution_count": null,
   "id": "079053f6",
   "metadata": {},
   "outputs": [],
   "source": [
    "import matplotlib.pyplot as plt\n",
    "\n",
    "contours, hierarchy = cv2.findContours(im_corrected.astype('uint8'),cv2.RETR_TREE,cv2.CHAIN_APPROX_SIMPLE)"
   ]
  },
  {
   "cell_type": "code",
   "execution_count": null,
   "id": "8baef251",
   "metadata": {},
   "outputs": [],
   "source": [
    "def segment_floor(points_data,zs_no_nans,obj_hMax=0.85,obj_lMax=1.5,thres_floor=0.03):\n",
    "    # obj_hMax -> altura maxima para objetos para segmentar\n",
    "    # obj_lMax -> distancia de objetos maxima para segmentar\n",
    "\n",
    "    # Quita piso y mayor a una cierta altura\n",
    "    t = tfBuffer.lookup_transform('map', 'head_rgbd_sensor_link', rospy.Time())\n",
    "    trans=t.transform.translation.z\n",
    "    \n",
    "    # Quito piso desde altura robot(sensor) + un threshold (hacia abajo) -> thres_floor\n",
    "    img_corrected = np.where((zs_no_nans >-trans-thres_floor),zs_no_nans,1)\n",
    "    # Quito objetos mayores a una altura -> obj_hMax\n",
    "    img_corrected = np.where((img_corrected < -obj_hMax),img_corrected,1)\n",
    "    \n",
    "\n",
    "    # Quita objetos lejanos\n",
    "    ls_no_nans=np.where(~np.isnan(points_data['z']),points_data['z'],5)\n",
    "    \n",
    "    lZ_no_nans=np.where(ls_no_nans<obj_lMax,ls_no_nans,5)\n",
    "    \n",
    "    # Con esto, quita en z los que en X (alturas) esten con 5\n",
    "    for r in range(img_corrected.shape[0]):\n",
    "        for c in range(img_corrected.shape[1]):\n",
    "            if lZ_no_nans[r,c]>=5:\n",
    "                img_corrected[r,c]=1\n",
    "    \n",
    "    return img_corrected\n"
   ]
  },
  {
   "cell_type": "code",
   "execution_count": null,
   "id": "485aa2fd",
   "metadata": {},
   "outputs": [],
   "source": [
    "plt.imshow(corrected['z'])"
   ]
  },
  {
   "cell_type": "code",
   "execution_count": null,
   "id": "27ad9b89",
   "metadata": {},
   "outputs": [],
   "source": [
    "corrected['z'][200,200]"
   ]
  },
  {
   "cell_type": "code",
   "execution_count": null,
   "id": "e78833ac",
   "metadata": {},
   "outputs": [],
   "source": [
    "head.set_joint_values([0,-0.7])"
   ]
  },
  {
   "cell_type": "code",
   "execution_count": null,
   "id": "54c0c0e8",
   "metadata": {},
   "outputs": [],
   "source": [
    "tf_man.getTF('object_0')"
   ]
  },
  {
   "cell_type": "code",
   "execution_count": null,
   "id": "354db1a4",
   "metadata": {},
   "outputs": [],
   "source": [
    "point_name=f'object_{i}'\n",
    "tf_man.pub_static_tf(pos=pose, point_name=point_name, ref='head_rgbd_sensor_rgb_frame')"
   ]
  },
  {
   "cell_type": "code",
   "execution_count": null,
   "id": "5cc5d747",
   "metadata": {},
   "outputs": [],
   "source": [
    "player_pose=[0.3, -0.87, 0.0, -0.75, -0.03, 0.0]\n"
   ]
  },
  {
   "cell_type": "code",
   "execution_count": null,
   "id": "34688ae8",
   "metadata": {},
   "outputs": [],
   "source": [
    "arm.set_joint_value_target(player_pose)"
   ]
  },
  {
   "cell_type": "markdown",
   "id": "aa180ba6",
   "metadata": {},
   "source": []
  },
  {
   "cell_type": "code",
   "execution_count": null,
   "id": "04674dba",
   "metadata": {},
   "outputs": [],
   "source": [
    "plan=arm.plan()"
   ]
  },
  {
   "cell_type": "code",
   "execution_count": null,
   "id": "9ded4efc",
   "metadata": {},
   "outputs": [],
   "source": [
    "arm.go()"
   ]
  },
  {
   "cell_type": "markdown",
   "id": "1b73f4e5",
   "metadata": {},
   "source": []
  },
  {
   "cell_type": "code",
   "execution_count": null,
   "id": "b091d157",
   "metadata": {},
   "outputs": [],
   "source": [
    "arm.get_current_joint_values()"
   ]
  },
  {
   "cell_type": "code",
   "execution_count": null,
   "id": "96fd3dea",
   "metadata": {},
   "outputs": [],
   "source": [
    "omni_base.move_base(known_location='room2')"
   ]
  },
  {
   "cell_type": "code",
   "execution_count": null,
   "id": "39ff4834",
   "metadata": {},
   "outputs": [],
   "source": [
    "head.set_joint_values([0,-0.7])"
   ]
  }
 ],
 "metadata": {
  "kernelspec": {
   "display_name": "Python 3 (ipykernel)",
   "language": "python",
   "name": "python3"
  },
  "language_info": {
   "codemirror_mode": {
    "name": "ipython",
    "version": 3
   },
   "file_extension": ".py",
   "mimetype": "text/x-python",
   "name": "python",
   "nbconvert_exporter": "python",
   "pygments_lexer": "ipython3",
   "version": "3.8.10"
  }
 },
 "nbformat": 4,
 "nbformat_minor": 5
}

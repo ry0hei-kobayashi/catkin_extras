{
 "cells": [
  {
   "cell_type": "code",
   "execution_count": 1,
   "id": "a6c2d5df",
   "metadata": {},
   "outputs": [],
   "source": [
    "from smach_utils2 import *\n",
    "\n"
   ]
  },
  {
   "cell_type": "code",
   "execution_count": 4,
   "id": "18a10923",
   "metadata": {},
   "outputs": [],
   "source": []
  },
  {
   "cell_type": "code",
   "execution_count": 5,
   "id": "7089c21d",
   "metadata": {},
   "outputs": [],
   "source": [
    "import rospkg\n",
    "import yaml\n",
    "def read_yaml(known_locations_file='/known_locations.yaml'):\n",
    "    rospack = rospkg.RosPack()\n",
    "    file_path = rospack.get_path('config_files') + known_locations_file\n",
    "\n",
    "    with open(file_path, 'r') as file:\n",
    "        content = yaml.safe_load(file)\n",
    "    return content\n"
   ]
  },
  {
   "cell_type": "code",
   "execution_count": 7,
   "id": "cf828f34",
   "metadata": {},
   "outputs": [
    {
     "data": {
      "text/plain": [
       "{'bedroom': [{'x': 5.12},\n",
       "  {'y': -2.41},\n",
       "  {'theta': 0.0},\n",
       "  {'qx': 0.0},\n",
       "  {'qy': 0.0},\n",
       "  {'qz': 0.7},\n",
       "  {'qw': 0.71}],\n",
       " 'cassette_demo': [{'x': 10.45},\n",
       "  {'y': -2.0},\n",
       "  {'theta': 0.0},\n",
       "  {'qx': 0.0},\n",
       "  {'qy': 0.0},\n",
       "  {'qz': 0.07},\n",
       "  {'qw': 1.0}],\n",
       " 'corridor': [{'x': 6.62},\n",
       "  {'y': -4.11},\n",
       "  {'theta': 0.0},\n",
       "  {'qx': 0.0},\n",
       "  {'qy': 0.0},\n",
       "  {'qz': 0.0},\n",
       "  {'qw': -1.0}],\n",
       " 'dining_room': [{'x': 9.66},\n",
       "  {'y': -3.85},\n",
       "  {'theta': 0.0},\n",
       "  {'qx': 0.0},\n",
       "  {'qy': 0.0},\n",
       "  {'qz': 0.68},\n",
       "  {'qw': -0.74}],\n",
       " 'door': [{'x': 8.935},\n",
       "  {'y': -3.977},\n",
       "  {'theta': -3.085},\n",
       "  {'qx': 0.0},\n",
       "  {'qy': 0.0},\n",
       "  {'qz': -0.999},\n",
       "  {'qw': 0.027}],\n",
       " 'door_lab': [{'x': 2.505},\n",
       "  {'y': -4.732},\n",
       "  {'theta': -3.1},\n",
       "  {'qx': 0.0},\n",
       "  {'qy': 0.0},\n",
       "  {'qz': -0.999},\n",
       "  {'qw': 0.02}],\n",
       " 'entrance': [{'x': 1.34},\n",
       "  {'y': -4.6},\n",
       "  {'theta': 0.0},\n",
       "  {'qx': 0.0},\n",
       "  {'qy': 0.0},\n",
       "  {'qz': -0.01},\n",
       "  {'qw': -1.0}],\n",
       " 'kitchen': [{'x': 7.3},\n",
       "  {'y': -2.6},\n",
       "  {'theta': 0.0},\n",
       "  {'qx': 0.0},\n",
       "  {'qy': 0.0},\n",
       "  {'qz': 0.7},\n",
       "  {'qw': 0.71}],\n",
       " 'living_room': [{'x': 9.384},\n",
       "  {'y': -2.434},\n",
       "  {'theta': 0.008},\n",
       "  {'qx': 0.0},\n",
       "  {'qy': 0.0},\n",
       "  {'qz': 0.004},\n",
       "  {'qw': 0.999}],\n",
       " 'player_demo': [{'x': 9.275},\n",
       "  {'y': -2.345},\n",
       "  {'theta': -3.07},\n",
       "  {'qx': 0.0},\n",
       "  {'qy': 0.0},\n",
       "  {'qz': -0.999},\n",
       "  {'qw': 0.035}],\n",
       " 'prueba': [{'x': 9.051},\n",
       "  {'y': -3.24},\n",
       "  {'theta': 1.44},\n",
       "  {'qx': 0.0},\n",
       "  {'qy': 0.0},\n",
       "  {'qz': 0.659},\n",
       "  {'qw': 0.751}],\n",
       " 'prueba2': [{'x': 10.059},\n",
       "  {'y': -1.99},\n",
       "  {'theta': -0.059},\n",
       "  {'qx': 0.0},\n",
       "  {'qy': 0.0},\n",
       "  {'qz': -0.029},\n",
       "  {'qw': 0.999}],\n",
       " 'room1': [{'x': 2.607},\n",
       "  {'y': 0.491},\n",
       "  {'theta': 2.927},\n",
       "  {'qx': 0.0},\n",
       "  {'qy': 0.0},\n",
       "  {'qz': 0.994},\n",
       "  {'qw': 0.106}],\n",
       " 'room2': [{'x': 2.552},\n",
       "  {'y': 3.11},\n",
       "  {'theta': 2.975},\n",
       "  {'qx': 0.0},\n",
       "  {'qy': 0.0},\n",
       "  {'qz': 0.996},\n",
       "  {'qw': 0.082}],\n",
       " 'table1': [{'x': 10.169},\n",
       "  {'y': -1.325},\n",
       "  {'theta': 2.928},\n",
       "  {'qx': 0.0},\n",
       "  {'qy': 0.0},\n",
       "  {'qz': 0.994},\n",
       "  {'qw': 0.106}],\n",
       " 'table2': [{'x': 9.204},\n",
       "  {'y': -2.151},\n",
       "  {'theta': -1.698},\n",
       "  {'qx': 0.0},\n",
       "  {'qy': 0.0},\n",
       "  {'qz': 0.75},\n",
       "  {'qw': -0.66}]}"
      ]
     },
     "execution_count": 7,
     "metadata": {},
     "output_type": "execute_result"
    }
   ],
   "source": [
    "content=read_yaml()\n",
    "content"
   ]
  },
  {
   "cell_type": "code",
   "execution_count": 26,
   "id": "25826df5",
   "metadata": {},
   "outputs": [
    {
     "data": {
      "text/plain": [
       "[5.12, -2.41, 0.0]"
      ]
     },
     "execution_count": 26,
     "metadata": {},
     "output_type": "execute_result"
    },
    {
     "name": "stdout",
     "output_type": "stream",
     "text": [
      "shutdown request: [/smach] Reason: new node registered with same name\n"
     ]
    }
   ],
   "source": [
    "content=read_yaml()\n",
    "\n",
    "[content['bedroom'][0]['x'],\n",
    "content['bedroom'][1]['y'],\n",
    "content['bedroom'][2]['theta']]"
   ]
  },
  {
   "cell_type": "code",
   "execution_count": null,
   "id": "29fc58c6",
   "metadata": {},
   "outputs": [],
   "source": []
  }
 ],
 "metadata": {
  "kernelspec": {
   "display_name": "Python 3 (ipykernel)",
   "language": "python",
   "name": "python3"
  },
  "language_info": {
   "codemirror_mode": {
    "name": "ipython",
    "version": 3
   },
   "file_extension": ".py",
   "mimetype": "text/x-python",
   "name": "python",
   "nbconvert_exporter": "python",
   "pygments_lexer": "ipython3",
   "version": "3.8.10"
  }
 },
 "nbformat": 4,
 "nbformat_minor": 5
}

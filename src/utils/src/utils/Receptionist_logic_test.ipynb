{
 "cells": [
  {
   "cell_type": "code",
   "execution_count": 1,
   "id": "a3dcd4c3",
   "metadata": {},
   "outputs": [],
   "source": [
    "from receptionist_knowledge import *\n",
    "party = RECEPTIONIST()"
   ]
  },
  {
   "cell_type": "code",
   "execution_count": 10,
   "id": "a12e46d8",
   "metadata": {},
   "outputs": [],
   "source": [
    "#Llega nuevo invitado llamado Ruben que le gusta la coca-cola, \n",
    "#aleatoriamente se le asigna un asiento por confirmar\n",
    "party.add_guest('Mitzi', 'Tea')"
   ]
  },
  {
   "cell_type": "code",
   "execution_count": 11,
   "id": "6df014ae",
   "metadata": {},
   "outputs": [],
   "source": [
    "#El robot navega a la localizacion del asiento previamente asignado\n",
    "\n",
    "isLocation, location = party.get_active_seat_location()\n",
    "if isLocation:\n",
    "    #navigation.goto(location)\n",
    "    print(location)"
   ]
  },
  {
   "cell_type": "code",
   "execution_count": 4,
   "id": "38a94e12",
   "metadata": {},
   "outputs": [],
   "source": [
    "#El robot revisa el asiento y observa una persona ahi, que previamente no estaba en la fiesta\n",
    "party.seat_confirmation(\"Oscar\")"
   ]
  },
  {
   "cell_type": "code",
   "execution_count": 5,
   "id": "30529d2b",
   "metadata": {},
   "outputs": [
    {
     "name": "stdout",
     "output_type": "stream",
     "text": [
      "[9.71, -3.14, 0.05]\n"
     ]
    }
   ],
   "source": [
    "#El robot vuelve a navegar a otro asiento\n",
    "\n",
    "isLocation, location = party.get_active_seat_location()\n",
    "if isLocation:\n",
    "    #navigation.goto(location)\n",
    "    print(location)"
   ]
  },
  {
   "cell_type": "code",
   "execution_count": 9,
   "id": "c11bdcb9",
   "metadata": {},
   "outputs": [],
   "source": [
    "#El robot revisa el asiento y observa que no hay nadie en este lugar y lo asigna\n",
    "party.seat_confirmation()\n"
   ]
  },
  {
   "cell_type": "code",
   "execution_count": 12,
   "id": "3b1107e1",
   "metadata": {},
   "outputs": [
    {
     "data": {
      "text/plain": [
       "{'People': {'Guest_0': {'drink': 'Coke', 'location': 'None', 'name': 'Juan'},\n",
       "  'Guest_1': {'drink': 'Coke',\n",
       "   'location': 'Place_1',\n",
       "   'name': 'Ruben',\n",
       "   'description': 'None'},\n",
       "  'Guest_2': {'drink': 'None',\n",
       "   'location': 'Place_3',\n",
       "   'name': 'Oscar',\n",
       "   'description': 'None'},\n",
       "  'Guest_3': {'drink': 'Water',\n",
       "   'location': 'Place_2',\n",
       "   'name': 'Joshua',\n",
       "   'description': 'None'},\n",
       "  'Guest_4': {'drink': 'Tea',\n",
       "   'location': 'None',\n",
       "   'name': 'Mitzi',\n",
       "   'description': 'None'}},\n",
       " 'Places': {'Place_0': {'location': {'theta': 0.0, 'x': 0.0, 'y': 0.0},\n",
       "   'occupied': 'occupied'},\n",
       "  'Place_1': {'location': {'theta': 0.05, 'x': 9.71, 'y': -3.14},\n",
       "   'occupied': 'Guest_1'},\n",
       "  'Place_2': {'location': {'theta': 4.72, 'x': 9.76, 'y': -3.31},\n",
       "   'occupied': 'Guest_3'},\n",
       "  'Place_3': {'location': {'theta': 0.06, 'x': 9.75, 'y': -2.47},\n",
       "   'occupied': 'Guest_2'}}}"
      ]
     },
     "execution_count": 12,
     "metadata": {},
     "output_type": "execute_result"
    }
   ],
   "source": [
    "party.informacion_fiesta\n"
   ]
  },
  {
   "cell_type": "code",
   "execution_count": 23,
   "id": "0b96085f",
   "metadata": {},
   "outputs": [
    {
     "name": "stdout",
     "output_type": "stream",
     "text": [
      "['Place_1', 'Place_2', 'Place_3']\n"
     ]
    }
   ],
   "source": [
    "info = party.informacion_fiesta\n",
    "places = list(info['Places'].keys())\n",
    "places.pop(0)\n",
    "print(places)\n",
    "\n"
   ]
  },
  {
   "cell_type": "code",
   "execution_count": 27,
   "id": "86f682fb",
   "metadata": {},
   "outputs": [
    {
     "name": "stdout",
     "output_type": "stream",
     "text": [
      "{'location': {'theta': 0.0, 'x': 0.0, 'y': 0.0}, 'occupied': 'occupied'}\n"
     ]
    }
   ],
   "source": [
    "locations = list(info['Places'].values())\n",
    "print(locations[0]['location'])\n"
   ]
  },
  {
   "cell_type": "code",
   "execution_count": null,
   "id": "c7a4cb94",
   "metadata": {},
   "outputs": [],
   "source": []
  }
 ],
 "metadata": {
  "kernelspec": {
   "display_name": "Python 3 (ipykernel)",
   "language": "python",
   "name": "python3"
  },
  "language_info": {
   "codemirror_mode": {
    "name": "ipython",
    "version": 3
   },
   "file_extension": ".py",
   "mimetype": "text/x-python",
   "name": "python",
   "nbconvert_exporter": "python",
   "pygments_lexer": "ipython3",
   "version": "3.8.10"
  }
 },
 "nbformat": 4,
 "nbformat_minor": 5
}
